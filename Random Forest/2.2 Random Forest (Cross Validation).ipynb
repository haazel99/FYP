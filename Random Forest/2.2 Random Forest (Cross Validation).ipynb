{
 "cells": [
  {
   "cell_type": "markdown",
   "id": "6cf48980-8047-40b1-90d7-08af1907ea07",
   "metadata": {},
   "source": [
    "# 2.2 Random Forest (Cross Validation)"
   ]
  },
  {
   "cell_type": "markdown",
   "id": "0a83e8e5-0dd1-46f0-8db5-6db85924b588",
   "metadata": {},
   "source": [
    "### Import Libraries"
   ]
  },
  {
   "cell_type": "code",
   "execution_count": 1,
   "id": "0411bc4a-4194-4774-9f91-a2d446665ef4",
   "metadata": {},
   "outputs": [],
   "source": [
    "import pandas as pd\n",
    "import numpy as np\n",
    "import matplotlib.pyplot as plt\n",
    "\n",
    "from sklearn.model_selection import GridSearchCV\n",
    "from sklearn.model_selection import train_test_split\n",
    "from sklearn.ensemble import RandomForestClassifier\n",
    "\n",
    "from sklearn.metrics import accuracy_score, precision_score, recall_score, f1_score\n",
    "from sklearn.metrics import classification_report, confusion_matrix"
   ]
  },
  {
   "cell_type": "markdown",
   "id": "eac69a8c-a339-4ab3-a9e5-1d4fc2dfc9ed",
   "metadata": {},
   "source": [
    "# Dataset used"
   ]
  },
  {
   "cell_type": "code",
   "execution_count": 2,
   "id": "219cb48c-507c-4c84-a3f6-f9cc874a98d5",
   "metadata": {},
   "outputs": [
    {
     "name": "stdout",
     "output_type": "stream",
     "text": [
      "Senior Dataset:\n",
      "\n",
      "df3_B_imb: (1109, 41)\n",
      "df3_5L_imb: (1109, 41)\n",
      "df3_B_ROS: (2194, 41)\n",
      "df3_5L_ROS: (2755, 41)\n",
      "df3_B_SMOTE: (2194, 41)\n",
      "df3_5L_SMOTE: (2755, 41)\n",
      "\n",
      "Merged Dataset:\n",
      "\n",
      "merge_B_imb: (1287, 41)\n",
      "merge_5L_imb: (1287, 41)\n",
      "merge_B_ROS: (2540, 41)\n",
      "merge_5L_ROS: (3085, 41)\n",
      "merge_B_SMOTE: (2540, 41)\n",
      "merge_5L_SMOTE: (3085, 41)\n"
     ]
    }
   ],
   "source": [
    "### Senior dataset\n",
    "df3_B_imb = pd.read_csv('tmerged_imb.csv')\n",
    "df3_5L_imb = pd.read_csv('fmerged_imb.csv')\n",
    "\n",
    "df3_B_ROS = pd.read_csv('tros_merged.csv')\n",
    "df3_5L_ROS = pd.read_csv('fros_merged.csv')\n",
    "\n",
    "df3_B_SMOTE = pd.read_csv('tsmote_merged.csv')\n",
    "df3_5L_SMOTE = pd.read_csv('fsmote_merged.csv')\n",
    "\n",
    "### Merge dataset \n",
    "merge_B_imb = pd.read_csv('merge_B_imb.csv')\n",
    "merge_5L_imb = pd.read_csv('merge_5L_imb.csv')\n",
    "\n",
    "merge_B_ROS = pd.read_csv('merge_B_ROS.csv')\n",
    "merge_5L_ROS = pd.read_csv('merge_5L_ROS.csv')\n",
    "\n",
    "merge_B_SMOTE = pd.read_csv('merge_B_SMOTE.csv')\n",
    "merge_5L_SMOTE = pd.read_csv('merge_5L_SMOTE.csv')\n",
    "\n",
    "print(\"Senior Dataset:\\n\")\n",
    "print(\"df3_B_imb:\", df3_B_imb.shape)\n",
    "print(\"df3_5L_imb:\", df3_5L_imb.shape)\n",
    "print(\"df3_B_ROS:\", df3_B_ROS.shape)\n",
    "print(\"df3_5L_ROS:\", df3_5L_ROS.shape)\n",
    "print(\"df3_B_SMOTE:\", df3_B_SMOTE.shape)\n",
    "print(\"df3_5L_SMOTE:\", df3_5L_SMOTE.shape)\n",
    "      \n",
    "print(\"\\nMerged Dataset:\\n\")\n",
    "print(\"merge_B_imb:\", merge_B_imb.shape)\n",
    "print(\"merge_5L_imb:\", merge_5L_imb.shape)\n",
    "print(\"merge_B_ROS:\", merge_B_ROS.shape)\n",
    "print(\"merge_5L_ROS:\", merge_5L_ROS.shape)\n",
    "print(\"merge_B_SMOTE:\", merge_B_SMOTE.shape)\n",
    "print(\"merge_5L_SMOTE:\", merge_5L_SMOTE.shape)"
   ]
  },
  {
   "cell_type": "code",
   "execution_count": 3,
   "id": "3248e823-a1d2-4f0a-afb7-d95c7b75fafd",
   "metadata": {},
   "outputs": [],
   "source": [
    "rand_states = [7,69,101]"
   ]
  },
  {
   "cell_type": "code",
   "execution_count": 4,
   "id": "8905b7ac-4a1d-412c-b81e-61139d4cc720",
   "metadata": {},
   "outputs": [
    {
     "name": "stdout",
     "output_type": "stream",
     "text": [
      "<class 'pandas.core.frame.DataFrame'>\n",
      "RangeIndex: 1109 entries, 0 to 1108\n",
      "Data columns (total 41 columns):\n",
      " #   Column                                 Non-Null Count  Dtype\n",
      "---  ------                                 --------------  -----\n",
      " 0   Age                                    1109 non-null   int64\n",
      " 1   Gender                                 1109 non-null   int64\n",
      " 2   Nationality                            1109 non-null   int64\n",
      " 3   Living Status                          1109 non-null   int64\n",
      " 4   Home Town                              1109 non-null   int64\n",
      " 5   Dating                                 1109 non-null   int64\n",
      " 6   Faculty                                1109 non-null   int64\n",
      " 7   Education Level                        1109 non-null   int64\n",
      " 8   Years of Study                         1109 non-null   int64\n",
      " 9   Completed Credit Hours                 1109 non-null   int64\n",
      " 10  CGPA                                   1109 non-null   int64\n",
      " 11  Number of Subjects Failed              1109 non-null   int64\n",
      " 12  SPM Result (A)                         1109 non-null   int64\n",
      " 13  SPM Result (B)                         1109 non-null   int64\n",
      " 14  SPM Result (C)                         1109 non-null   int64\n",
      " 15  Scholarship                            1109 non-null   int64\n",
      " 16  PTPTN                                  1109 non-null   int64\n",
      " 17  Reason Study at Multimedia University  1109 non-null   int64\n",
      " 18  Lecture Class Capacity                 1109 non-null   int64\n",
      " 19  Tutorial Class Capacity                1109 non-null   int64\n",
      " 20  Skipping Class                         1109 non-null   int64\n",
      " 21  Classroom Facilities                   1109 non-null   int64\n",
      " 22  Campus Environment                     1109 non-null   int64\n",
      " 23  Additional Course                      1109 non-null   int64\n",
      " 24  Family Size                            1109 non-null   int64\n",
      " 25  Parent's Education Level [Father]      1109 non-null   int64\n",
      " 26  Parent's Education Level [Mother]      1109 non-null   int64\n",
      " 27  Father's Occupation                    1109 non-null   int64\n",
      " 28  Mother's Occupation                    1109 non-null   int64\n",
      " 29  Financial Difficulties                 1109 non-null   int64\n",
      " 30  Financial Support                      1109 non-null   int64\n",
      " 31  Study Behaviour                        1109 non-null   int64\n",
      " 32  Study Time                             1109 non-null   int64\n",
      " 33  Extra Curricular Activities            1109 non-null   int64\n",
      " 34  Part-time Job                          1109 non-null   int64\n",
      " 35  Commute Time                           1109 non-null   int64\n",
      " 36  Gaming                                 1109 non-null   int64\n",
      " 37  Alcohol Consumption                    1109 non-null   int64\n",
      " 38  I have enough free time after class.   1109 non-null   int64\n",
      " 39  Social Interaction                     1109 non-null   int64\n",
      " 40  I hang out with friends.               1109 non-null   int64\n",
      "dtypes: int64(41)\n",
      "memory usage: 355.4 KB\n"
     ]
    }
   ],
   "source": [
    "df3_B_imb.info()"
   ]
  },
  {
   "cell_type": "markdown",
   "id": "117fb5e5-93f9-48e5-8e23-288bb4e36220",
   "metadata": {},
   "source": [
    "# Binary Classification"
   ]
  },
  {
   "cell_type": "markdown",
   "id": "f69d2ac0-5fdb-42da-a8f3-9e77c081399b",
   "metadata": {},
   "source": [
    "## Student Background"
   ]
  },
  {
   "cell_type": "markdown",
   "id": "c1a17261-2c9d-4aa6-867a-e2cc718e40b5",
   "metadata": {},
   "source": [
    "### SB before Data Balancing"
   ]
  },
  {
   "cell_type": "code",
   "execution_count": 5,
   "id": "66f8d5cc-d452-4956-8a23-b7b8bf7b5eaa",
   "metadata": {},
   "outputs": [
    {
     "name": "stdout",
     "output_type": "stream",
     "text": [
      "Fitting 10 folds for each of 24 candidates, totalling 240 fits\n"
     ]
    },
    {
     "name": "stderr",
     "output_type": "stream",
     "text": [
      "C:\\Users\\hazel\\anaconda3\\Lib\\site-packages\\sklearn\\model_selection\\_search.py:909: DataConversionWarning: A column-vector y was passed when a 1d array was expected. Please change the shape of y to (n_samples,), for example using ravel().\n",
      "  self.best_estimator_.fit(X, y, **fit_params)\n",
      "C:\\Users\\hazel\\anaconda3\\Lib\\site-packages\\sklearn\\ensemble\\_forest.py:424: FutureWarning: `max_features='auto'` has been deprecated in 1.1 and will be removed in 1.3. To keep the past behaviour, explicitly set `max_features='sqrt'` or remove this parameter as it is also the default value for RandomForestClassifiers and ExtraTreesClassifiers.\n",
      "  warn(\n",
      "C:\\Users\\hazel\\anaconda3\\Lib\\site-packages\\sklearn\\metrics\\_classification.py:1344: UndefinedMetricWarning: Precision is ill-defined and being set to 0.0 in labels with no predicted samples. Use `zero_division` parameter to control this behavior.\n",
      "  _warn_prf(average, modifier, msg_start, len(result))\n"
     ]
    },
    {
     "name": "stdout",
     "output_type": "stream",
     "text": [
      "Fitting 10 folds for each of 24 candidates, totalling 240 fits\n"
     ]
    },
    {
     "name": "stderr",
     "output_type": "stream",
     "text": [
      "C:\\Users\\hazel\\anaconda3\\Lib\\site-packages\\sklearn\\model_selection\\_search.py:909: DataConversionWarning: A column-vector y was passed when a 1d array was expected. Please change the shape of y to (n_samples,), for example using ravel().\n",
      "  self.best_estimator_.fit(X, y, **fit_params)\n",
      "C:\\Users\\hazel\\anaconda3\\Lib\\site-packages\\sklearn\\ensemble\\_forest.py:424: FutureWarning: `max_features='auto'` has been deprecated in 1.1 and will be removed in 1.3. To keep the past behaviour, explicitly set `max_features='sqrt'` or remove this parameter as it is also the default value for RandomForestClassifiers and ExtraTreesClassifiers.\n",
      "  warn(\n",
      "C:\\Users\\hazel\\anaconda3\\Lib\\site-packages\\sklearn\\metrics\\_classification.py:1344: UndefinedMetricWarning: Precision is ill-defined and being set to 0.0 in labels with no predicted samples. Use `zero_division` parameter to control this behavior.\n",
      "  _warn_prf(average, modifier, msg_start, len(result))\n"
     ]
    },
    {
     "name": "stdout",
     "output_type": "stream",
     "text": [
      "Fitting 10 folds for each of 24 candidates, totalling 240 fits\n"
     ]
    },
    {
     "name": "stderr",
     "output_type": "stream",
     "text": [
      "C:\\Users\\hazel\\anaconda3\\Lib\\site-packages\\sklearn\\model_selection\\_search.py:909: DataConversionWarning: A column-vector y was passed when a 1d array was expected. Please change the shape of y to (n_samples,), for example using ravel().\n",
      "  self.best_estimator_.fit(X, y, **fit_params)\n",
      "C:\\Users\\hazel\\anaconda3\\Lib\\site-packages\\sklearn\\ensemble\\_forest.py:424: FutureWarning: `max_features='auto'` has been deprecated in 1.1 and will be removed in 1.3. To keep the past behaviour, explicitly set `max_features='sqrt'` or remove this parameter as it is also the default value for RandomForestClassifiers and ExtraTreesClassifiers.\n",
      "  warn(\n",
      "C:\\Users\\hazel\\anaconda3\\Lib\\site-packages\\sklearn\\metrics\\_classification.py:1344: UndefinedMetricWarning: Precision is ill-defined and being set to 0.0 in labels with no predicted samples. Use `zero_division` parameter to control this behavior.\n",
      "  _warn_prf(average, modifier, msg_start, len(result))\n"
     ]
    },
    {
     "data": {
      "text/html": [
       "<div>\n",
       "<style scoped>\n",
       "    .dataframe tbody tr th:only-of-type {\n",
       "        vertical-align: middle;\n",
       "    }\n",
       "\n",
       "    .dataframe tbody tr th {\n",
       "        vertical-align: top;\n",
       "    }\n",
       "\n",
       "    .dataframe thead th {\n",
       "        text-align: right;\n",
       "    }\n",
       "</style>\n",
       "<table border=\"1\" class=\"dataframe\">\n",
       "  <thead>\n",
       "    <tr style=\"text-align: right;\">\n",
       "      <th></th>\n",
       "      <th>Test Size</th>\n",
       "      <th>Random State</th>\n",
       "      <th>Accuracy</th>\n",
       "      <th>Precision</th>\n",
       "      <th>Recall</th>\n",
       "      <th>F1 Score</th>\n",
       "      <th>Best Param</th>\n",
       "    </tr>\n",
       "  </thead>\n",
       "  <tbody>\n",
       "    <tr>\n",
       "      <th>0</th>\n",
       "      <td>100</td>\n",
       "      <td>7</td>\n",
       "      <td>0.986791</td>\n",
       "      <td>0.973756</td>\n",
       "      <td>0.986791</td>\n",
       "      <td>0.98023</td>\n",
       "      <td>{'criterion': 'gini', 'max_features': 'auto', ...</td>\n",
       "    </tr>\n",
       "    <tr>\n",
       "      <th>1</th>\n",
       "      <td>100</td>\n",
       "      <td>69</td>\n",
       "      <td>0.986791</td>\n",
       "      <td>0.973756</td>\n",
       "      <td>0.986791</td>\n",
       "      <td>0.98023</td>\n",
       "      <td>{'criterion': 'gini', 'max_features': 'auto', ...</td>\n",
       "    </tr>\n",
       "    <tr>\n",
       "      <th>2</th>\n",
       "      <td>100</td>\n",
       "      <td>101</td>\n",
       "      <td>0.986791</td>\n",
       "      <td>0.973756</td>\n",
       "      <td>0.986791</td>\n",
       "      <td>0.98023</td>\n",
       "      <td>{'criterion': 'gini', 'max_features': 'auto', ...</td>\n",
       "    </tr>\n",
       "  </tbody>\n",
       "</table>\n",
       "</div>"
      ],
      "text/plain": [
       "   Test Size  Random State  Accuracy  Precision    Recall  F1 Score  \\\n",
       "0        100             7  0.986791   0.973756  0.986791   0.98023   \n",
       "1        100            69  0.986791   0.973756  0.986791   0.98023   \n",
       "2        100           101  0.986791   0.973756  0.986791   0.98023   \n",
       "\n",
       "                                          Best Param  \n",
       "0  {'criterion': 'gini', 'max_features': 'auto', ...  \n",
       "1  {'criterion': 'gini', 'max_features': 'auto', ...  \n",
       "2  {'criterion': 'gini', 'max_features': 'auto', ...  "
      ]
     },
     "execution_count": 5,
     "metadata": {},
     "output_type": "execute_result"
    }
   ],
   "source": [
    "tempB_SB_imb = []\n",
    "\n",
    "y_train = df3_B_imb[['CGPA']]\n",
    "X_train = df3_B_imb[['Age','Gender','Nationality', 'Living Status', 'Home Town', 'Faculty', 'Education Level',\n",
    "                     'Years of Study', 'Completed Credit Hours']]\n",
    "\n",
    "y_test = merge_B_imb[['CGPA']]\n",
    "X_test = merge_B_imb[['Age','Gender','Nationality', 'Living Status', 'Home Town', 'Faculty', 'Education Level',\n",
    "                     'Years of Study', 'Completed Credit Hours']]\n",
    "\n",
    "for j in rand_states:\n",
    "    param_grid = {'n_estimators': [100, 200, 300, 400],\n",
    "                  'max_features': ['auto', 'sqrt', 'log2'],\n",
    "                  'criterion' :['gini', 'entropy']}\n",
    "\n",
    "    model = GridSearchCV(RandomForestClassifier(), param_grid, refit=True, n_jobs=-1, cv=10, verbose=1)\n",
    "    model.fit(X_train, y_train)\n",
    "    pred = model.predict(X_test)\n",
    "\n",
    "    acc = accuracy_score(y_test,pred)\n",
    "    pre = precision_score(y_test, pred, average='weighted')\n",
    "    recall = recall_score(y_test, pred, average='weighted')\n",
    "    f1 = f1_score(y_test, pred, average='weighted')\n",
    "    param = model.best_params_\n",
    "\n",
    "    tempB_SB_imb.append([100,j,acc,pre,recall,f1,param])\n",
    "        \n",
    "dfB_SB_imb = pd.DataFrame(columns=['Test Size','Random State','Accuracy','Precision','Recall','F1 Score','Best Param'],data=tempB_SB_imb)\n",
    "dfB_SB_imb"
   ]
  },
  {
   "cell_type": "code",
   "execution_count": 6,
   "id": "f0e513a4-476c-4cfb-b4dc-33a0dd8360a6",
   "metadata": {},
   "outputs": [
    {
     "data": {
      "text/html": [
       "<div>\n",
       "<style scoped>\n",
       "    .dataframe tbody tr th:only-of-type {\n",
       "        vertical-align: middle;\n",
       "    }\n",
       "\n",
       "    .dataframe tbody tr th {\n",
       "        vertical-align: top;\n",
       "    }\n",
       "\n",
       "    .dataframe thead th {\n",
       "        text-align: right;\n",
       "    }\n",
       "</style>\n",
       "<table border=\"1\" class=\"dataframe\">\n",
       "  <thead>\n",
       "    <tr style=\"text-align: right;\">\n",
       "      <th></th>\n",
       "      <th>Accuracy</th>\n",
       "      <th>Precision</th>\n",
       "      <th>Recall</th>\n",
       "      <th>F1 Score</th>\n",
       "    </tr>\n",
       "    <tr>\n",
       "      <th>Test Size</th>\n",
       "      <th></th>\n",
       "      <th></th>\n",
       "      <th></th>\n",
       "      <th></th>\n",
       "    </tr>\n",
       "  </thead>\n",
       "  <tbody>\n",
       "    <tr>\n",
       "      <th>100</th>\n",
       "      <td>0.986791</td>\n",
       "      <td>0.973756</td>\n",
       "      <td>0.986791</td>\n",
       "      <td>0.98023</td>\n",
       "    </tr>\n",
       "  </tbody>\n",
       "</table>\n",
       "</div>"
      ],
      "text/plain": [
       "           Accuracy  Precision    Recall  F1 Score\n",
       "Test Size                                         \n",
       "100        0.986791   0.973756  0.986791   0.98023"
      ]
     },
     "execution_count": 6,
     "metadata": {},
     "output_type": "execute_result"
    }
   ],
   "source": [
    "dfB_SB_imb.groupby('Test Size')[['Accuracy','Precision','Recall','F1 Score']].mean()"
   ]
  },
  {
   "cell_type": "code",
   "execution_count": 7,
   "id": "c43423ed-850d-4798-b567-8e0d790bad3d",
   "metadata": {},
   "outputs": [
    {
     "name": "stdout",
     "output_type": "stream",
     "text": [
      "Imbalance Binary: Student Background\n",
      "\n",
      "{'criterion': 'gini', 'max_features': 'auto', 'n_estimators': 100}\n",
      "{'criterion': 'gini', 'max_features': 'auto', 'n_estimators': 100}\n",
      "{'criterion': 'gini', 'max_features': 'auto', 'n_estimators': 100}\n"
     ]
    }
   ],
   "source": [
    "print(\"Imbalance Binary: Student Background\\n\")\n",
    "for x in dfB_SB_imb[\"Best Param\"]:\n",
    "    print(x)"
   ]
  },
  {
   "cell_type": "markdown",
   "id": "2e3f27aa-f5ad-4192-b50d-3aaa2b80eb2d",
   "metadata": {},
   "source": [
    "### SB after RandomOverSampler"
   ]
  },
  {
   "cell_type": "code",
   "execution_count": 8,
   "id": "91326dbb-e596-4f6a-b9ed-724a261b03cd",
   "metadata": {},
   "outputs": [
    {
     "name": "stdout",
     "output_type": "stream",
     "text": [
      "Fitting 10 folds for each of 24 candidates, totalling 240 fits\n"
     ]
    },
    {
     "name": "stderr",
     "output_type": "stream",
     "text": [
      "C:\\Users\\hazel\\anaconda3\\Lib\\site-packages\\sklearn\\model_selection\\_search.py:909: DataConversionWarning: A column-vector y was passed when a 1d array was expected. Please change the shape of y to (n_samples,), for example using ravel().\n",
      "  self.best_estimator_.fit(X, y, **fit_params)\n"
     ]
    },
    {
     "name": "stdout",
     "output_type": "stream",
     "text": [
      "Fitting 10 folds for each of 24 candidates, totalling 240 fits\n"
     ]
    },
    {
     "name": "stderr",
     "output_type": "stream",
     "text": [
      "C:\\Users\\hazel\\anaconda3\\Lib\\site-packages\\sklearn\\model_selection\\_search.py:909: DataConversionWarning: A column-vector y was passed when a 1d array was expected. Please change the shape of y to (n_samples,), for example using ravel().\n",
      "  self.best_estimator_.fit(X, y, **fit_params)\n",
      "C:\\Users\\hazel\\anaconda3\\Lib\\site-packages\\sklearn\\ensemble\\_forest.py:424: FutureWarning: `max_features='auto'` has been deprecated in 1.1 and will be removed in 1.3. To keep the past behaviour, explicitly set `max_features='sqrt'` or remove this parameter as it is also the default value for RandomForestClassifiers and ExtraTreesClassifiers.\n",
      "  warn(\n"
     ]
    },
    {
     "name": "stdout",
     "output_type": "stream",
     "text": [
      "Fitting 10 folds for each of 24 candidates, totalling 240 fits\n"
     ]
    },
    {
     "name": "stderr",
     "output_type": "stream",
     "text": [
      "C:\\Users\\hazel\\anaconda3\\Lib\\site-packages\\sklearn\\model_selection\\_search.py:909: DataConversionWarning: A column-vector y was passed when a 1d array was expected. Please change the shape of y to (n_samples,), for example using ravel().\n",
      "  self.best_estimator_.fit(X, y, **fit_params)\n",
      "C:\\Users\\hazel\\anaconda3\\Lib\\site-packages\\sklearn\\ensemble\\_forest.py:424: FutureWarning: `max_features='auto'` has been deprecated in 1.1 and will be removed in 1.3. To keep the past behaviour, explicitly set `max_features='sqrt'` or remove this parameter as it is also the default value for RandomForestClassifiers and ExtraTreesClassifiers.\n",
      "  warn(\n"
     ]
    },
    {
     "data": {
      "text/html": [
       "<div>\n",
       "<style scoped>\n",
       "    .dataframe tbody tr th:only-of-type {\n",
       "        vertical-align: middle;\n",
       "    }\n",
       "\n",
       "    .dataframe tbody tr th {\n",
       "        vertical-align: top;\n",
       "    }\n",
       "\n",
       "    .dataframe thead th {\n",
       "        text-align: right;\n",
       "    }\n",
       "</style>\n",
       "<table border=\"1\" class=\"dataframe\">\n",
       "  <thead>\n",
       "    <tr style=\"text-align: right;\">\n",
       "      <th></th>\n",
       "      <th>Test Size</th>\n",
       "      <th>Random State</th>\n",
       "      <th>Accuracy</th>\n",
       "      <th>Precision</th>\n",
       "      <th>Recall</th>\n",
       "      <th>F1 Score</th>\n",
       "      <th>Best Param</th>\n",
       "    </tr>\n",
       "  </thead>\n",
       "  <tbody>\n",
       "    <tr>\n",
       "      <th>0</th>\n",
       "      <td>100</td>\n",
       "      <td>7</td>\n",
       "      <td>0.490157</td>\n",
       "      <td>0.247515</td>\n",
       "      <td>0.490157</td>\n",
       "      <td>0.328930</td>\n",
       "      <td>{'criterion': 'gini', 'max_features': 'sqrt', ...</td>\n",
       "    </tr>\n",
       "    <tr>\n",
       "      <th>1</th>\n",
       "      <td>100</td>\n",
       "      <td>69</td>\n",
       "      <td>0.490551</td>\n",
       "      <td>0.247615</td>\n",
       "      <td>0.490551</td>\n",
       "      <td>0.329107</td>\n",
       "      <td>{'criterion': 'gini', 'max_features': 'auto', ...</td>\n",
       "    </tr>\n",
       "    <tr>\n",
       "      <th>2</th>\n",
       "      <td>100</td>\n",
       "      <td>101</td>\n",
       "      <td>0.491339</td>\n",
       "      <td>0.247816</td>\n",
       "      <td>0.491339</td>\n",
       "      <td>0.329461</td>\n",
       "      <td>{'criterion': 'gini', 'max_features': 'auto', ...</td>\n",
       "    </tr>\n",
       "  </tbody>\n",
       "</table>\n",
       "</div>"
      ],
      "text/plain": [
       "   Test Size  Random State  Accuracy  Precision    Recall  F1 Score  \\\n",
       "0        100             7  0.490157   0.247515  0.490157  0.328930   \n",
       "1        100            69  0.490551   0.247615  0.490551  0.329107   \n",
       "2        100           101  0.491339   0.247816  0.491339  0.329461   \n",
       "\n",
       "                                          Best Param  \n",
       "0  {'criterion': 'gini', 'max_features': 'sqrt', ...  \n",
       "1  {'criterion': 'gini', 'max_features': 'auto', ...  \n",
       "2  {'criterion': 'gini', 'max_features': 'auto', ...  "
      ]
     },
     "execution_count": 8,
     "metadata": {},
     "output_type": "execute_result"
    }
   ],
   "source": [
    "tempB_SB_ROS = []\n",
    "\n",
    "y_train = df3_B_ROS[['CGPA']]\n",
    "X_train = df3_B_ROS[['Age','Gender','Nationality', 'Living Status', 'Home Town', 'Faculty', 'Education Level',\n",
    "                     'Years of Study', 'Completed Credit Hours']]\n",
    "\n",
    "y_test = merge_B_ROS[['CGPA']]\n",
    "X_test = merge_B_ROS[['Age','Gender','Nationality', 'Living Status', 'Home Town', 'Faculty', 'Education Level',\n",
    "                     'Years of Study', 'Completed Credit Hours']]\n",
    "\n",
    "\n",
    "for j in rand_states:\n",
    "    param_grid = {'n_estimators': [100, 200, 300, 400],\n",
    "                  'max_features': ['auto', 'sqrt', 'log2'],\n",
    "                  'criterion' :['gini', 'entropy']}\n",
    "\n",
    "    model = GridSearchCV(RandomForestClassifier(), param_grid, refit=True, n_jobs=-1, cv=10, verbose=1)\n",
    "    model.fit(X_train, y_train)\n",
    "    pred = model.predict(X_test)\n",
    "\n",
    "    acc = accuracy_score(y_test,pred)\n",
    "    pre = precision_score(y_test, pred, average='weighted')\n",
    "    recall = recall_score(y_test, pred, average='weighted')\n",
    "    f1 = f1_score(y_test, pred, average='weighted')\n",
    "    param = model.best_params_\n",
    "\n",
    "    tempB_SB_ROS.append([100,j,acc,pre,recall,f1,param])\n",
    "        \n",
    "dfB_SB_ROS = pd.DataFrame(columns=['Test Size','Random State','Accuracy','Precision','Recall','F1 Score','Best Param'],data=tempB_SB_ROS)\n",
    "dfB_SB_ROS"
   ]
  },
  {
   "cell_type": "code",
   "execution_count": 9,
   "id": "2c7ff584-40c0-4fd7-8eb9-4b949cdc62d0",
   "metadata": {},
   "outputs": [
    {
     "data": {
      "text/html": [
       "<div>\n",
       "<style scoped>\n",
       "    .dataframe tbody tr th:only-of-type {\n",
       "        vertical-align: middle;\n",
       "    }\n",
       "\n",
       "    .dataframe tbody tr th {\n",
       "        vertical-align: top;\n",
       "    }\n",
       "\n",
       "    .dataframe thead th {\n",
       "        text-align: right;\n",
       "    }\n",
       "</style>\n",
       "<table border=\"1\" class=\"dataframe\">\n",
       "  <thead>\n",
       "    <tr style=\"text-align: right;\">\n",
       "      <th></th>\n",
       "      <th>Accuracy</th>\n",
       "      <th>Precision</th>\n",
       "      <th>Recall</th>\n",
       "      <th>F1 Score</th>\n",
       "    </tr>\n",
       "    <tr>\n",
       "      <th>Test Size</th>\n",
       "      <th></th>\n",
       "      <th></th>\n",
       "      <th></th>\n",
       "      <th></th>\n",
       "    </tr>\n",
       "  </thead>\n",
       "  <tbody>\n",
       "    <tr>\n",
       "      <th>100</th>\n",
       "      <td>0.490682</td>\n",
       "      <td>0.247649</td>\n",
       "      <td>0.490682</td>\n",
       "      <td>0.329166</td>\n",
       "    </tr>\n",
       "  </tbody>\n",
       "</table>\n",
       "</div>"
      ],
      "text/plain": [
       "           Accuracy  Precision    Recall  F1 Score\n",
       "Test Size                                         \n",
       "100        0.490682   0.247649  0.490682  0.329166"
      ]
     },
     "execution_count": 9,
     "metadata": {},
     "output_type": "execute_result"
    }
   ],
   "source": [
    "dfB_SB_ROS.groupby('Test Size')[['Accuracy','Precision','Recall','F1 Score']].mean()"
   ]
  },
  {
   "cell_type": "code",
   "execution_count": 10,
   "id": "89cea79d-bbcc-4149-9e1b-5e089c6ac3c2",
   "metadata": {},
   "outputs": [
    {
     "name": "stdout",
     "output_type": "stream",
     "text": [
      "Binary: Student Background\n",
      "\n",
      "{'criterion': 'gini', 'max_features': 'sqrt', 'n_estimators': 400}\n",
      "{'criterion': 'gini', 'max_features': 'auto', 'n_estimators': 400}\n",
      "{'criterion': 'gini', 'max_features': 'auto', 'n_estimators': 100}\n"
     ]
    }
   ],
   "source": [
    "print(\"Binary: Student Background\\n\")\n",
    "for x in dfB_SB_ROS[\"Best Param\"]:\n",
    "    print(x)"
   ]
  },
  {
   "cell_type": "markdown",
   "id": "6d6017b7-e8ec-4ed8-b6fb-9dd263fda266",
   "metadata": {},
   "source": [
    "### SB after SMOTE"
   ]
  },
  {
   "cell_type": "code",
   "execution_count": 11,
   "id": "9d73bb40-00b5-4a6c-9e76-a3d428b6c24e",
   "metadata": {},
   "outputs": [
    {
     "name": "stdout",
     "output_type": "stream",
     "text": [
      "Fitting 10 folds for each of 24 candidates, totalling 240 fits\n"
     ]
    },
    {
     "name": "stderr",
     "output_type": "stream",
     "text": [
      "C:\\Users\\hazel\\anaconda3\\Lib\\site-packages\\sklearn\\model_selection\\_search.py:909: DataConversionWarning: A column-vector y was passed when a 1d array was expected. Please change the shape of y to (n_samples,), for example using ravel().\n",
      "  self.best_estimator_.fit(X, y, **fit_params)\n",
      "C:\\Users\\hazel\\anaconda3\\Lib\\site-packages\\sklearn\\ensemble\\_forest.py:424: FutureWarning: `max_features='auto'` has been deprecated in 1.1 and will be removed in 1.3. To keep the past behaviour, explicitly set `max_features='sqrt'` or remove this parameter as it is also the default value for RandomForestClassifiers and ExtraTreesClassifiers.\n",
      "  warn(\n"
     ]
    },
    {
     "name": "stdout",
     "output_type": "stream",
     "text": [
      "Fitting 10 folds for each of 24 candidates, totalling 240 fits\n"
     ]
    },
    {
     "name": "stderr",
     "output_type": "stream",
     "text": [
      "C:\\Users\\hazel\\anaconda3\\Lib\\site-packages\\sklearn\\model_selection\\_search.py:909: DataConversionWarning: A column-vector y was passed when a 1d array was expected. Please change the shape of y to (n_samples,), for example using ravel().\n",
      "  self.best_estimator_.fit(X, y, **fit_params)\n"
     ]
    },
    {
     "name": "stdout",
     "output_type": "stream",
     "text": [
      "Fitting 10 folds for each of 24 candidates, totalling 240 fits\n"
     ]
    },
    {
     "name": "stderr",
     "output_type": "stream",
     "text": [
      "C:\\Users\\hazel\\anaconda3\\Lib\\site-packages\\sklearn\\model_selection\\_search.py:909: DataConversionWarning: A column-vector y was passed when a 1d array was expected. Please change the shape of y to (n_samples,), for example using ravel().\n",
      "  self.best_estimator_.fit(X, y, **fit_params)\n",
      "C:\\Users\\hazel\\anaconda3\\Lib\\site-packages\\sklearn\\ensemble\\_forest.py:424: FutureWarning: `max_features='auto'` has been deprecated in 1.1 and will be removed in 1.3. To keep the past behaviour, explicitly set `max_features='sqrt'` or remove this parameter as it is also the default value for RandomForestClassifiers and ExtraTreesClassifiers.\n",
      "  warn(\n"
     ]
    },
    {
     "data": {
      "text/html": [
       "<div>\n",
       "<style scoped>\n",
       "    .dataframe tbody tr th:only-of-type {\n",
       "        vertical-align: middle;\n",
       "    }\n",
       "\n",
       "    .dataframe tbody tr th {\n",
       "        vertical-align: top;\n",
       "    }\n",
       "\n",
       "    .dataframe thead th {\n",
       "        text-align: right;\n",
       "    }\n",
       "</style>\n",
       "<table border=\"1\" class=\"dataframe\">\n",
       "  <thead>\n",
       "    <tr style=\"text-align: right;\">\n",
       "      <th></th>\n",
       "      <th>Test Size</th>\n",
       "      <th>Random State</th>\n",
       "      <th>Accuracy</th>\n",
       "      <th>Precision</th>\n",
       "      <th>Recall</th>\n",
       "      <th>F1 Score</th>\n",
       "      <th>Best Param</th>\n",
       "    </tr>\n",
       "  </thead>\n",
       "  <tbody>\n",
       "    <tr>\n",
       "      <th>0</th>\n",
       "      <td>100</td>\n",
       "      <td>7</td>\n",
       "      <td>0.558661</td>\n",
       "      <td>0.637247</td>\n",
       "      <td>0.558661</td>\n",
       "      <td>0.484931</td>\n",
       "      <td>{'criterion': 'gini', 'max_features': 'auto', ...</td>\n",
       "    </tr>\n",
       "    <tr>\n",
       "      <th>1</th>\n",
       "      <td>100</td>\n",
       "      <td>69</td>\n",
       "      <td>0.552362</td>\n",
       "      <td>0.626777</td>\n",
       "      <td>0.552362</td>\n",
       "      <td>0.475377</td>\n",
       "      <td>{'criterion': 'gini', 'max_features': 'sqrt', ...</td>\n",
       "    </tr>\n",
       "    <tr>\n",
       "      <th>2</th>\n",
       "      <td>100</td>\n",
       "      <td>101</td>\n",
       "      <td>0.552756</td>\n",
       "      <td>0.625896</td>\n",
       "      <td>0.552756</td>\n",
       "      <td>0.476761</td>\n",
       "      <td>{'criterion': 'gini', 'max_features': 'auto', ...</td>\n",
       "    </tr>\n",
       "  </tbody>\n",
       "</table>\n",
       "</div>"
      ],
      "text/plain": [
       "   Test Size  Random State  Accuracy  Precision    Recall  F1 Score  \\\n",
       "0        100             7  0.558661   0.637247  0.558661  0.484931   \n",
       "1        100            69  0.552362   0.626777  0.552362  0.475377   \n",
       "2        100           101  0.552756   0.625896  0.552756  0.476761   \n",
       "\n",
       "                                          Best Param  \n",
       "0  {'criterion': 'gini', 'max_features': 'auto', ...  \n",
       "1  {'criterion': 'gini', 'max_features': 'sqrt', ...  \n",
       "2  {'criterion': 'gini', 'max_features': 'auto', ...  "
      ]
     },
     "execution_count": 11,
     "metadata": {},
     "output_type": "execute_result"
    }
   ],
   "source": [
    "tempB_SB_SMOTE = []\n",
    "\n",
    "y_train = df3_B_SMOTE[['CGPA']]\n",
    "X_train = df3_B_SMOTE[['Age','Gender','Nationality', 'Living Status', 'Home Town', 'Faculty', 'Education Level',\n",
    "                     'Years of Study', 'Completed Credit Hours']]\n",
    "\n",
    "y_test = merge_B_SMOTE[['CGPA']]\n",
    "X_test = merge_B_SMOTE[['Age','Gender','Nationality', 'Living Status', 'Home Town', 'Faculty', 'Education Level',\n",
    "                     'Years of Study', 'Completed Credit Hours']]\n",
    "\n",
    "\n",
    "for j in rand_states:\n",
    "    param_grid = {'n_estimators': [100, 200, 300, 400],\n",
    "                  'max_features': ['auto', 'sqrt', 'log2'],\n",
    "                  'criterion' :['gini', 'entropy']}\n",
    "\n",
    "    model = GridSearchCV(RandomForestClassifier(), param_grid, refit=True, n_jobs=-1, cv=10, verbose=1)\n",
    "    model.fit(X_train, y_train)\n",
    "    pred = model.predict(X_test)\n",
    "\n",
    "    acc = accuracy_score(y_test,pred)\n",
    "    pre = precision_score(y_test, pred, average='weighted')\n",
    "    recall = recall_score(y_test, pred, average='weighted')\n",
    "    f1 = f1_score(y_test, pred, average='weighted')\n",
    "    param = model.best_params_\n",
    "\n",
    "    tempB_SB_SMOTE.append([100,j,acc,pre,recall,f1,param])\n",
    "        \n",
    "dfB_SB_SMOTE = pd.DataFrame(columns=['Test Size','Random State','Accuracy','Precision','Recall','F1 Score','Best Param'],data=tempB_SB_SMOTE)\n",
    "dfB_SB_SMOTE"
   ]
  },
  {
   "cell_type": "code",
   "execution_count": 12,
   "id": "b9b8d8d4-7aa3-4ff1-9d5d-f7db4c3a5dfb",
   "metadata": {},
   "outputs": [
    {
     "data": {
      "text/html": [
       "<div>\n",
       "<style scoped>\n",
       "    .dataframe tbody tr th:only-of-type {\n",
       "        vertical-align: middle;\n",
       "    }\n",
       "\n",
       "    .dataframe tbody tr th {\n",
       "        vertical-align: top;\n",
       "    }\n",
       "\n",
       "    .dataframe thead th {\n",
       "        text-align: right;\n",
       "    }\n",
       "</style>\n",
       "<table border=\"1\" class=\"dataframe\">\n",
       "  <thead>\n",
       "    <tr style=\"text-align: right;\">\n",
       "      <th></th>\n",
       "      <th>Accuracy</th>\n",
       "      <th>Precision</th>\n",
       "      <th>Recall</th>\n",
       "      <th>F1 Score</th>\n",
       "    </tr>\n",
       "    <tr>\n",
       "      <th>Test Size</th>\n",
       "      <th></th>\n",
       "      <th></th>\n",
       "      <th></th>\n",
       "      <th></th>\n",
       "    </tr>\n",
       "  </thead>\n",
       "  <tbody>\n",
       "    <tr>\n",
       "      <th>100</th>\n",
       "      <td>0.554593</td>\n",
       "      <td>0.629973</td>\n",
       "      <td>0.554593</td>\n",
       "      <td>0.479023</td>\n",
       "    </tr>\n",
       "  </tbody>\n",
       "</table>\n",
       "</div>"
      ],
      "text/plain": [
       "           Accuracy  Precision    Recall  F1 Score\n",
       "Test Size                                         \n",
       "100        0.554593   0.629973  0.554593  0.479023"
      ]
     },
     "execution_count": 12,
     "metadata": {},
     "output_type": "execute_result"
    }
   ],
   "source": [
    "dfB_SB_SMOTE.groupby('Test Size')[['Accuracy','Precision','Recall','F1 Score']].mean()"
   ]
  },
  {
   "cell_type": "code",
   "execution_count": 13,
   "id": "b547ba1a-4d7f-4990-be48-c8485a54659b",
   "metadata": {},
   "outputs": [
    {
     "name": "stdout",
     "output_type": "stream",
     "text": [
      "SMOTE Binary: Student Background\n",
      "\n",
      "{'criterion': 'gini', 'max_features': 'auto', 'n_estimators': 200}\n",
      "{'criterion': 'gini', 'max_features': 'sqrt', 'n_estimators': 400}\n",
      "{'criterion': 'gini', 'max_features': 'auto', 'n_estimators': 300}\n"
     ]
    }
   ],
   "source": [
    "print(\"SMOTE Binary: Student Background\\n\")\n",
    "for x in dfB_SB_SMOTE[\"Best Param\"]:\n",
    "    print(x)"
   ]
  },
  {
   "cell_type": "markdown",
   "id": "7b32d240-e2bd-46c0-a161-01b931f1b364",
   "metadata": {},
   "source": [
    "## Student History Grades"
   ]
  },
  {
   "cell_type": "markdown",
   "id": "40197264-2e22-4f28-b7bb-7760aa2c7ccd",
   "metadata": {},
   "source": [
    "### SHG before Data Balancing"
   ]
  },
  {
   "cell_type": "code",
   "execution_count": 14,
   "id": "8d22a88e-da79-4153-a1f2-6fabe7cae26f",
   "metadata": {},
   "outputs": [
    {
     "name": "stdout",
     "output_type": "stream",
     "text": [
      "Fitting 10 folds for each of 24 candidates, totalling 240 fits\n"
     ]
    },
    {
     "name": "stderr",
     "output_type": "stream",
     "text": [
      "C:\\Users\\hazel\\anaconda3\\Lib\\site-packages\\sklearn\\model_selection\\_search.py:909: DataConversionWarning: A column-vector y was passed when a 1d array was expected. Please change the shape of y to (n_samples,), for example using ravel().\n",
      "  self.best_estimator_.fit(X, y, **fit_params)\n",
      "C:\\Users\\hazel\\anaconda3\\Lib\\site-packages\\sklearn\\ensemble\\_forest.py:424: FutureWarning: `max_features='auto'` has been deprecated in 1.1 and will be removed in 1.3. To keep the past behaviour, explicitly set `max_features='sqrt'` or remove this parameter as it is also the default value for RandomForestClassifiers and ExtraTreesClassifiers.\n",
      "  warn(\n"
     ]
    },
    {
     "name": "stdout",
     "output_type": "stream",
     "text": [
      "Fitting 10 folds for each of 24 candidates, totalling 240 fits\n"
     ]
    },
    {
     "name": "stderr",
     "output_type": "stream",
     "text": [
      "C:\\Users\\hazel\\anaconda3\\Lib\\site-packages\\sklearn\\model_selection\\_search.py:909: DataConversionWarning: A column-vector y was passed when a 1d array was expected. Please change the shape of y to (n_samples,), for example using ravel().\n",
      "  self.best_estimator_.fit(X, y, **fit_params)\n",
      "C:\\Users\\hazel\\anaconda3\\Lib\\site-packages\\sklearn\\ensemble\\_forest.py:424: FutureWarning: `max_features='auto'` has been deprecated in 1.1 and will be removed in 1.3. To keep the past behaviour, explicitly set `max_features='sqrt'` or remove this parameter as it is also the default value for RandomForestClassifiers and ExtraTreesClassifiers.\n",
      "  warn(\n"
     ]
    },
    {
     "name": "stdout",
     "output_type": "stream",
     "text": [
      "Fitting 10 folds for each of 24 candidates, totalling 240 fits\n"
     ]
    },
    {
     "name": "stderr",
     "output_type": "stream",
     "text": [
      "C:\\Users\\hazel\\anaconda3\\Lib\\site-packages\\sklearn\\model_selection\\_search.py:909: DataConversionWarning: A column-vector y was passed when a 1d array was expected. Please change the shape of y to (n_samples,), for example using ravel().\n",
      "  self.best_estimator_.fit(X, y, **fit_params)\n",
      "C:\\Users\\hazel\\anaconda3\\Lib\\site-packages\\sklearn\\ensemble\\_forest.py:424: FutureWarning: `max_features='auto'` has been deprecated in 1.1 and will be removed in 1.3. To keep the past behaviour, explicitly set `max_features='sqrt'` or remove this parameter as it is also the default value for RandomForestClassifiers and ExtraTreesClassifiers.\n",
      "  warn(\n"
     ]
    },
    {
     "data": {
      "text/html": [
       "<div>\n",
       "<style scoped>\n",
       "    .dataframe tbody tr th:only-of-type {\n",
       "        vertical-align: middle;\n",
       "    }\n",
       "\n",
       "    .dataframe tbody tr th {\n",
       "        vertical-align: top;\n",
       "    }\n",
       "\n",
       "    .dataframe thead th {\n",
       "        text-align: right;\n",
       "    }\n",
       "</style>\n",
       "<table border=\"1\" class=\"dataframe\">\n",
       "  <thead>\n",
       "    <tr style=\"text-align: right;\">\n",
       "      <th></th>\n",
       "      <th>Test Size</th>\n",
       "      <th>Random State</th>\n",
       "      <th>Accuracy</th>\n",
       "      <th>Precision</th>\n",
       "      <th>Recall</th>\n",
       "      <th>F1 Score</th>\n",
       "      <th>Best Param</th>\n",
       "    </tr>\n",
       "  </thead>\n",
       "  <tbody>\n",
       "    <tr>\n",
       "      <th>0</th>\n",
       "      <td>100</td>\n",
       "      <td>7</td>\n",
       "      <td>0.982906</td>\n",
       "      <td>0.973706</td>\n",
       "      <td>0.982906</td>\n",
       "      <td>0.978284</td>\n",
       "      <td>{'criterion': 'gini', 'max_features': 'auto', ...</td>\n",
       "    </tr>\n",
       "    <tr>\n",
       "      <th>1</th>\n",
       "      <td>100</td>\n",
       "      <td>69</td>\n",
       "      <td>0.982906</td>\n",
       "      <td>0.973706</td>\n",
       "      <td>0.982906</td>\n",
       "      <td>0.978284</td>\n",
       "      <td>{'criterion': 'gini', 'max_features': 'auto', ...</td>\n",
       "    </tr>\n",
       "    <tr>\n",
       "      <th>2</th>\n",
       "      <td>100</td>\n",
       "      <td>101</td>\n",
       "      <td>0.983683</td>\n",
       "      <td>0.973716</td>\n",
       "      <td>0.983683</td>\n",
       "      <td>0.978674</td>\n",
       "      <td>{'criterion': 'gini', 'max_features': 'auto', ...</td>\n",
       "    </tr>\n",
       "  </tbody>\n",
       "</table>\n",
       "</div>"
      ],
      "text/plain": [
       "   Test Size  Random State  Accuracy  Precision    Recall  F1 Score  \\\n",
       "0        100             7  0.982906   0.973706  0.982906  0.978284   \n",
       "1        100            69  0.982906   0.973706  0.982906  0.978284   \n",
       "2        100           101  0.983683   0.973716  0.983683  0.978674   \n",
       "\n",
       "                                          Best Param  \n",
       "0  {'criterion': 'gini', 'max_features': 'auto', ...  \n",
       "1  {'criterion': 'gini', 'max_features': 'auto', ...  \n",
       "2  {'criterion': 'gini', 'max_features': 'auto', ...  "
      ]
     },
     "execution_count": 14,
     "metadata": {},
     "output_type": "execute_result"
    }
   ],
   "source": [
    "tempB_SHG_imb = []\n",
    "\n",
    "y_train = df3_B_imb[['CGPA']]\n",
    "X_train = df3_B_imb[['Number of Subjects Failed','SPM Result (A)','SPM Result (B)','SPM Result (C)']]\n",
    "\n",
    "y_test = merge_B_imb[['CGPA']]\n",
    "X_test = merge_B_imb[['Number of Subjects Failed','SPM Result (A)','SPM Result (B)','SPM Result (C)']]\n",
    "\n",
    "for j in rand_states:\n",
    "    param_grid = {'n_estimators': [100, 200, 300, 400],\n",
    "                  'max_features': ['auto', 'sqrt', 'log2'],\n",
    "                  'criterion' :['gini', 'entropy']}\n",
    "\n",
    "    model = GridSearchCV(RandomForestClassifier(), param_grid, refit=True, n_jobs=-1, cv=10, verbose=1)\n",
    "    model.fit(X_train, y_train)\n",
    "    pred = model.predict(X_test)\n",
    "\n",
    "    acc = accuracy_score(y_test,pred)\n",
    "    pre = precision_score(y_test, pred, average='weighted')\n",
    "    recall = recall_score(y_test, pred, average='weighted')\n",
    "    f1 = f1_score(y_test, pred, average='weighted')\n",
    "    param = model.best_params_\n",
    "\n",
    "    tempB_SHG_imb.append([100,j,acc,pre,recall,f1,param])\n",
    "        \n",
    "dfB_SHG_imb = pd.DataFrame(columns=['Test Size','Random State','Accuracy','Precision','Recall','F1 Score','Best Param'],data=tempB_SHG_imb)\n",
    "dfB_SHG_imb"
   ]
  },
  {
   "cell_type": "code",
   "execution_count": 15,
   "id": "50188927-ba36-41e0-b26a-95571d295c5e",
   "metadata": {},
   "outputs": [
    {
     "data": {
      "text/html": [
       "<div>\n",
       "<style scoped>\n",
       "    .dataframe tbody tr th:only-of-type {\n",
       "        vertical-align: middle;\n",
       "    }\n",
       "\n",
       "    .dataframe tbody tr th {\n",
       "        vertical-align: top;\n",
       "    }\n",
       "\n",
       "    .dataframe thead th {\n",
       "        text-align: right;\n",
       "    }\n",
       "</style>\n",
       "<table border=\"1\" class=\"dataframe\">\n",
       "  <thead>\n",
       "    <tr style=\"text-align: right;\">\n",
       "      <th></th>\n",
       "      <th>Accuracy</th>\n",
       "      <th>Precision</th>\n",
       "      <th>Recall</th>\n",
       "      <th>F1 Score</th>\n",
       "    </tr>\n",
       "    <tr>\n",
       "      <th>Test Size</th>\n",
       "      <th></th>\n",
       "      <th></th>\n",
       "      <th></th>\n",
       "      <th></th>\n",
       "    </tr>\n",
       "  </thead>\n",
       "  <tbody>\n",
       "    <tr>\n",
       "      <th>100</th>\n",
       "      <td>0.983165</td>\n",
       "      <td>0.973709</td>\n",
       "      <td>0.983165</td>\n",
       "      <td>0.978414</td>\n",
       "    </tr>\n",
       "  </tbody>\n",
       "</table>\n",
       "</div>"
      ],
      "text/plain": [
       "           Accuracy  Precision    Recall  F1 Score\n",
       "Test Size                                         \n",
       "100        0.983165   0.973709  0.983165  0.978414"
      ]
     },
     "execution_count": 15,
     "metadata": {},
     "output_type": "execute_result"
    }
   ],
   "source": [
    "dfB_SHG_imb.groupby('Test Size')[['Accuracy','Precision','Recall','F1 Score']].mean()"
   ]
  },
  {
   "cell_type": "code",
   "execution_count": 16,
   "id": "18e995c3-2193-42b6-bd5e-1cf115cbe637",
   "metadata": {},
   "outputs": [
    {
     "name": "stdout",
     "output_type": "stream",
     "text": [
      "Imbalance Binary: Student History Grades\n",
      "\n",
      "{'criterion': 'gini', 'max_features': 'auto', 'n_estimators': 100}\n",
      "{'criterion': 'gini', 'max_features': 'auto', 'n_estimators': 100}\n",
      "{'criterion': 'gini', 'max_features': 'auto', 'n_estimators': 100}\n"
     ]
    }
   ],
   "source": [
    "print(\"Imbalance Binary: Student History Grades\\n\")\n",
    "for x in dfB_SHG_imb[\"Best Param\"]:\n",
    "    print(x)"
   ]
  },
  {
   "cell_type": "markdown",
   "id": "1d787f33-d8c6-4285-9e9d-c9435f3b0832",
   "metadata": {},
   "source": [
    "### SHG after RandomOverSampler"
   ]
  },
  {
   "cell_type": "code",
   "execution_count": 17,
   "id": "b9a46655-a135-408e-a6d1-1a49979b0850",
   "metadata": {},
   "outputs": [
    {
     "name": "stdout",
     "output_type": "stream",
     "text": [
      "Fitting 10 folds for each of 24 candidates, totalling 240 fits\n"
     ]
    },
    {
     "name": "stderr",
     "output_type": "stream",
     "text": [
      "C:\\Users\\hazel\\anaconda3\\Lib\\site-packages\\sklearn\\model_selection\\_search.py:909: DataConversionWarning: A column-vector y was passed when a 1d array was expected. Please change the shape of y to (n_samples,), for example using ravel().\n",
      "  self.best_estimator_.fit(X, y, **fit_params)\n",
      "C:\\Users\\hazel\\anaconda3\\Lib\\site-packages\\sklearn\\ensemble\\_forest.py:424: FutureWarning: `max_features='auto'` has been deprecated in 1.1 and will be removed in 1.3. To keep the past behaviour, explicitly set `max_features='sqrt'` or remove this parameter as it is also the default value for RandomForestClassifiers and ExtraTreesClassifiers.\n",
      "  warn(\n"
     ]
    },
    {
     "name": "stdout",
     "output_type": "stream",
     "text": [
      "Fitting 10 folds for each of 24 candidates, totalling 240 fits\n"
     ]
    },
    {
     "name": "stderr",
     "output_type": "stream",
     "text": [
      "C:\\Users\\hazel\\anaconda3\\Lib\\site-packages\\sklearn\\model_selection\\_search.py:909: DataConversionWarning: A column-vector y was passed when a 1d array was expected. Please change the shape of y to (n_samples,), for example using ravel().\n",
      "  self.best_estimator_.fit(X, y, **fit_params)\n"
     ]
    },
    {
     "name": "stdout",
     "output_type": "stream",
     "text": [
      "Fitting 10 folds for each of 24 candidates, totalling 240 fits\n"
     ]
    },
    {
     "name": "stderr",
     "output_type": "stream",
     "text": [
      "C:\\Users\\hazel\\anaconda3\\Lib\\site-packages\\sklearn\\model_selection\\_search.py:909: DataConversionWarning: A column-vector y was passed when a 1d array was expected. Please change the shape of y to (n_samples,), for example using ravel().\n",
      "  self.best_estimator_.fit(X, y, **fit_params)\n",
      "C:\\Users\\hazel\\anaconda3\\Lib\\site-packages\\sklearn\\ensemble\\_forest.py:424: FutureWarning: `max_features='auto'` has been deprecated in 1.1 and will be removed in 1.3. To keep the past behaviour, explicitly set `max_features='sqrt'` or remove this parameter as it is also the default value for RandomForestClassifiers and ExtraTreesClassifiers.\n",
      "  warn(\n"
     ]
    },
    {
     "data": {
      "text/html": [
       "<div>\n",
       "<style scoped>\n",
       "    .dataframe tbody tr th:only-of-type {\n",
       "        vertical-align: middle;\n",
       "    }\n",
       "\n",
       "    .dataframe tbody tr th {\n",
       "        vertical-align: top;\n",
       "    }\n",
       "\n",
       "    .dataframe thead th {\n",
       "        text-align: right;\n",
       "    }\n",
       "</style>\n",
       "<table border=\"1\" class=\"dataframe\">\n",
       "  <thead>\n",
       "    <tr style=\"text-align: right;\">\n",
       "      <th></th>\n",
       "      <th>Test Size</th>\n",
       "      <th>Random State</th>\n",
       "      <th>Accuracy</th>\n",
       "      <th>Precision</th>\n",
       "      <th>Recall</th>\n",
       "      <th>F1 Score</th>\n",
       "      <th>Best Param</th>\n",
       "    </tr>\n",
       "  </thead>\n",
       "  <tbody>\n",
       "    <tr>\n",
       "      <th>0</th>\n",
       "      <td>100</td>\n",
       "      <td>7</td>\n",
       "      <td>0.564173</td>\n",
       "      <td>0.672839</td>\n",
       "      <td>0.564173</td>\n",
       "      <td>0.482896</td>\n",
       "      <td>{'criterion': 'gini', 'max_features': 'auto', ...</td>\n",
       "    </tr>\n",
       "    <tr>\n",
       "      <th>1</th>\n",
       "      <td>100</td>\n",
       "      <td>69</td>\n",
       "      <td>0.564567</td>\n",
       "      <td>0.674487</td>\n",
       "      <td>0.564567</td>\n",
       "      <td>0.483171</td>\n",
       "      <td>{'criterion': 'gini', 'max_features': 'sqrt', ...</td>\n",
       "    </tr>\n",
       "    <tr>\n",
       "      <th>2</th>\n",
       "      <td>100</td>\n",
       "      <td>101</td>\n",
       "      <td>0.564567</td>\n",
       "      <td>0.674487</td>\n",
       "      <td>0.564567</td>\n",
       "      <td>0.483171</td>\n",
       "      <td>{'criterion': 'gini', 'max_features': 'auto', ...</td>\n",
       "    </tr>\n",
       "  </tbody>\n",
       "</table>\n",
       "</div>"
      ],
      "text/plain": [
       "   Test Size  Random State  Accuracy  Precision    Recall  F1 Score  \\\n",
       "0        100             7  0.564173   0.672839  0.564173  0.482896   \n",
       "1        100            69  0.564567   0.674487  0.564567  0.483171   \n",
       "2        100           101  0.564567   0.674487  0.564567  0.483171   \n",
       "\n",
       "                                          Best Param  \n",
       "0  {'criterion': 'gini', 'max_features': 'auto', ...  \n",
       "1  {'criterion': 'gini', 'max_features': 'sqrt', ...  \n",
       "2  {'criterion': 'gini', 'max_features': 'auto', ...  "
      ]
     },
     "execution_count": 17,
     "metadata": {},
     "output_type": "execute_result"
    }
   ],
   "source": [
    "tempB_SHG_ROS = []\n",
    "\n",
    "y_train = df3_B_ROS[['CGPA']]\n",
    "X_train = df3_B_ROS[['Number of Subjects Failed','SPM Result (A)','SPM Result (B)','SPM Result (C)']]\n",
    "\n",
    "y_test = merge_B_ROS[['CGPA']]\n",
    "X_test = merge_B_ROS[['Number of Subjects Failed','SPM Result (A)','SPM Result (B)','SPM Result (C)']]\n",
    "\n",
    "for j in rand_states:\n",
    "    param_grid = {'n_estimators': [100, 200, 300, 400],\n",
    "                  'max_features': ['auto', 'sqrt', 'log2'],\n",
    "                  'criterion' :['gini', 'entropy']}\n",
    "\n",
    "    model = GridSearchCV(RandomForestClassifier(), param_grid, refit=True, n_jobs=-1, cv=10, verbose=1)\n",
    "    model.fit(X_train, y_train)\n",
    "    pred = model.predict(X_test)\n",
    "\n",
    "    acc = accuracy_score(y_test,pred)\n",
    "    pre = precision_score(y_test, pred, average='weighted')\n",
    "    recall = recall_score(y_test, pred, average='weighted')\n",
    "    f1 = f1_score(y_test, pred, average='weighted')\n",
    "    param = model.best_params_\n",
    "\n",
    "    tempB_SHG_ROS.append([100,j,acc,pre,recall,f1,param])\n",
    "        \n",
    "dfB_SHG_ROS = pd.DataFrame(columns=['Test Size','Random State','Accuracy','Precision','Recall','F1 Score','Best Param'],data=tempB_SHG_ROS)\n",
    "dfB_SHG_ROS"
   ]
  },
  {
   "cell_type": "code",
   "execution_count": 18,
   "id": "e0b10856-5bdb-4eef-acc8-eb98e88fb992",
   "metadata": {},
   "outputs": [
    {
     "data": {
      "text/html": [
       "<div>\n",
       "<style scoped>\n",
       "    .dataframe tbody tr th:only-of-type {\n",
       "        vertical-align: middle;\n",
       "    }\n",
       "\n",
       "    .dataframe tbody tr th {\n",
       "        vertical-align: top;\n",
       "    }\n",
       "\n",
       "    .dataframe thead th {\n",
       "        text-align: right;\n",
       "    }\n",
       "</style>\n",
       "<table border=\"1\" class=\"dataframe\">\n",
       "  <thead>\n",
       "    <tr style=\"text-align: right;\">\n",
       "      <th></th>\n",
       "      <th>Accuracy</th>\n",
       "      <th>Precision</th>\n",
       "      <th>Recall</th>\n",
       "      <th>F1 Score</th>\n",
       "    </tr>\n",
       "    <tr>\n",
       "      <th>Test Size</th>\n",
       "      <th></th>\n",
       "      <th></th>\n",
       "      <th></th>\n",
       "      <th></th>\n",
       "    </tr>\n",
       "  </thead>\n",
       "  <tbody>\n",
       "    <tr>\n",
       "      <th>100</th>\n",
       "      <td>0.564436</td>\n",
       "      <td>0.673938</td>\n",
       "      <td>0.564436</td>\n",
       "      <td>0.48308</td>\n",
       "    </tr>\n",
       "  </tbody>\n",
       "</table>\n",
       "</div>"
      ],
      "text/plain": [
       "           Accuracy  Precision    Recall  F1 Score\n",
       "Test Size                                         \n",
       "100        0.564436   0.673938  0.564436   0.48308"
      ]
     },
     "execution_count": 18,
     "metadata": {},
     "output_type": "execute_result"
    }
   ],
   "source": [
    "dfB_SHG_ROS.groupby('Test Size')[['Accuracy','Precision','Recall','F1 Score']].mean()"
   ]
  },
  {
   "cell_type": "code",
   "execution_count": 19,
   "id": "a8bd8373-f7d8-4cc9-9e78-12dbf3cb86f6",
   "metadata": {},
   "outputs": [
    {
     "name": "stdout",
     "output_type": "stream",
     "text": [
      "Binary: Student History Grades\n",
      "\n",
      "{'criterion': 'gini', 'max_features': 'auto', 'n_estimators': 200}\n",
      "{'criterion': 'gini', 'max_features': 'sqrt', 'n_estimators': 200}\n",
      "{'criterion': 'gini', 'max_features': 'auto', 'n_estimators': 100}\n"
     ]
    }
   ],
   "source": [
    "print(\"Binary: Student History Grades\\n\")\n",
    "for x in dfB_SHG_ROS[\"Best Param\"]:\n",
    "    print(x)"
   ]
  },
  {
   "cell_type": "markdown",
   "id": "e75a9576-8ea9-481c-979a-4b41937b58f3",
   "metadata": {},
   "source": [
    "### SHG after SMOTE"
   ]
  },
  {
   "cell_type": "code",
   "execution_count": 20,
   "id": "a9601e9d-3bbc-4dae-be0b-849285c6200b",
   "metadata": {},
   "outputs": [
    {
     "name": "stdout",
     "output_type": "stream",
     "text": [
      "Fitting 10 folds for each of 24 candidates, totalling 240 fits\n"
     ]
    },
    {
     "name": "stderr",
     "output_type": "stream",
     "text": [
      "C:\\Users\\hazel\\anaconda3\\Lib\\site-packages\\sklearn\\model_selection\\_search.py:909: DataConversionWarning: A column-vector y was passed when a 1d array was expected. Please change the shape of y to (n_samples,), for example using ravel().\n",
      "  self.best_estimator_.fit(X, y, **fit_params)\n"
     ]
    },
    {
     "name": "stdout",
     "output_type": "stream",
     "text": [
      "Fitting 10 folds for each of 24 candidates, totalling 240 fits\n"
     ]
    },
    {
     "name": "stderr",
     "output_type": "stream",
     "text": [
      "C:\\Users\\hazel\\anaconda3\\Lib\\site-packages\\sklearn\\model_selection\\_search.py:909: DataConversionWarning: A column-vector y was passed when a 1d array was expected. Please change the shape of y to (n_samples,), for example using ravel().\n",
      "  self.best_estimator_.fit(X, y, **fit_params)\n"
     ]
    },
    {
     "name": "stdout",
     "output_type": "stream",
     "text": [
      "Fitting 10 folds for each of 24 candidates, totalling 240 fits\n"
     ]
    },
    {
     "name": "stderr",
     "output_type": "stream",
     "text": [
      "C:\\Users\\hazel\\anaconda3\\Lib\\site-packages\\sklearn\\model_selection\\_search.py:909: DataConversionWarning: A column-vector y was passed when a 1d array was expected. Please change the shape of y to (n_samples,), for example using ravel().\n",
      "  self.best_estimator_.fit(X, y, **fit_params)\n"
     ]
    },
    {
     "data": {
      "text/html": [
       "<div>\n",
       "<style scoped>\n",
       "    .dataframe tbody tr th:only-of-type {\n",
       "        vertical-align: middle;\n",
       "    }\n",
       "\n",
       "    .dataframe tbody tr th {\n",
       "        vertical-align: top;\n",
       "    }\n",
       "\n",
       "    .dataframe thead th {\n",
       "        text-align: right;\n",
       "    }\n",
       "</style>\n",
       "<table border=\"1\" class=\"dataframe\">\n",
       "  <thead>\n",
       "    <tr style=\"text-align: right;\">\n",
       "      <th></th>\n",
       "      <th>Test Size</th>\n",
       "      <th>Random State</th>\n",
       "      <th>Accuracy</th>\n",
       "      <th>Precision</th>\n",
       "      <th>Recall</th>\n",
       "      <th>F1 Score</th>\n",
       "      <th>Best Param</th>\n",
       "    </tr>\n",
       "  </thead>\n",
       "  <tbody>\n",
       "    <tr>\n",
       "      <th>0</th>\n",
       "      <td>100</td>\n",
       "      <td>7</td>\n",
       "      <td>0.680315</td>\n",
       "      <td>0.729514</td>\n",
       "      <td>0.680315</td>\n",
       "      <td>0.662213</td>\n",
       "      <td>{'criterion': 'entropy', 'max_features': 'log2...</td>\n",
       "    </tr>\n",
       "    <tr>\n",
       "      <th>1</th>\n",
       "      <td>100</td>\n",
       "      <td>69</td>\n",
       "      <td>0.686220</td>\n",
       "      <td>0.733817</td>\n",
       "      <td>0.686220</td>\n",
       "      <td>0.669396</td>\n",
       "      <td>{'criterion': 'gini', 'max_features': 'sqrt', ...</td>\n",
       "    </tr>\n",
       "    <tr>\n",
       "      <th>2</th>\n",
       "      <td>100</td>\n",
       "      <td>101</td>\n",
       "      <td>0.686220</td>\n",
       "      <td>0.733817</td>\n",
       "      <td>0.686220</td>\n",
       "      <td>0.669396</td>\n",
       "      <td>{'criterion': 'gini', 'max_features': 'sqrt', ...</td>\n",
       "    </tr>\n",
       "  </tbody>\n",
       "</table>\n",
       "</div>"
      ],
      "text/plain": [
       "   Test Size  Random State  Accuracy  Precision    Recall  F1 Score  \\\n",
       "0        100             7  0.680315   0.729514  0.680315  0.662213   \n",
       "1        100            69  0.686220   0.733817  0.686220  0.669396   \n",
       "2        100           101  0.686220   0.733817  0.686220  0.669396   \n",
       "\n",
       "                                          Best Param  \n",
       "0  {'criterion': 'entropy', 'max_features': 'log2...  \n",
       "1  {'criterion': 'gini', 'max_features': 'sqrt', ...  \n",
       "2  {'criterion': 'gini', 'max_features': 'sqrt', ...  "
      ]
     },
     "execution_count": 20,
     "metadata": {},
     "output_type": "execute_result"
    }
   ],
   "source": [
    "tempB_SHG_SMOTE = []\n",
    "\n",
    "y_train = df3_B_SMOTE[['CGPA']]\n",
    "X_train = df3_B_SMOTE[['Number of Subjects Failed','SPM Result (A)','SPM Result (B)','SPM Result (C)']]\n",
    "\n",
    "y_test = merge_B_SMOTE[['CGPA']]\n",
    "X_test = merge_B_SMOTE[['Number of Subjects Failed','SPM Result (A)','SPM Result (B)','SPM Result (C)']]\n",
    "\n",
    "for j in rand_states:\n",
    "    param_grid = {'n_estimators': [100, 200, 300, 400],\n",
    "                  'max_features': ['auto', 'sqrt', 'log2'],\n",
    "                  'criterion' :['gini', 'entropy']}\n",
    "\n",
    "    model = GridSearchCV(RandomForestClassifier(), param_grid, refit=True, n_jobs=-1, cv=10, verbose=1)\n",
    "    model.fit(X_train, y_train)\n",
    "    pred = model.predict(X_test)\n",
    "\n",
    "    acc = accuracy_score(y_test,pred)\n",
    "    pre = precision_score(y_test, pred, average='weighted')\n",
    "    recall = recall_score(y_test, pred, average='weighted')\n",
    "    f1 = f1_score(y_test, pred, average='weighted')\n",
    "    param = model.best_params_\n",
    "\n",
    "    tempB_SHG_SMOTE.append([100,j,acc,pre,recall,f1,param])\n",
    "        \n",
    "dfB_SHG_SMOTE = pd.DataFrame(columns=['Test Size','Random State','Accuracy','Precision','Recall','F1 Score','Best Param'],data=tempB_SHG_SMOTE)\n",
    "dfB_SHG_SMOTE"
   ]
  },
  {
   "cell_type": "code",
   "execution_count": 21,
   "id": "586b2eb5-b213-498c-b8e2-2bb6ec24b5c9",
   "metadata": {},
   "outputs": [
    {
     "data": {
      "text/html": [
       "<div>\n",
       "<style scoped>\n",
       "    .dataframe tbody tr th:only-of-type {\n",
       "        vertical-align: middle;\n",
       "    }\n",
       "\n",
       "    .dataframe tbody tr th {\n",
       "        vertical-align: top;\n",
       "    }\n",
       "\n",
       "    .dataframe thead th {\n",
       "        text-align: right;\n",
       "    }\n",
       "</style>\n",
       "<table border=\"1\" class=\"dataframe\">\n",
       "  <thead>\n",
       "    <tr style=\"text-align: right;\">\n",
       "      <th></th>\n",
       "      <th>Accuracy</th>\n",
       "      <th>Precision</th>\n",
       "      <th>Recall</th>\n",
       "      <th>F1 Score</th>\n",
       "    </tr>\n",
       "    <tr>\n",
       "      <th>Test Size</th>\n",
       "      <th></th>\n",
       "      <th></th>\n",
       "      <th></th>\n",
       "      <th></th>\n",
       "    </tr>\n",
       "  </thead>\n",
       "  <tbody>\n",
       "    <tr>\n",
       "      <th>100</th>\n",
       "      <td>0.684252</td>\n",
       "      <td>0.732383</td>\n",
       "      <td>0.684252</td>\n",
       "      <td>0.667001</td>\n",
       "    </tr>\n",
       "  </tbody>\n",
       "</table>\n",
       "</div>"
      ],
      "text/plain": [
       "           Accuracy  Precision    Recall  F1 Score\n",
       "Test Size                                         \n",
       "100        0.684252   0.732383  0.684252  0.667001"
      ]
     },
     "execution_count": 21,
     "metadata": {},
     "output_type": "execute_result"
    }
   ],
   "source": [
    "dfB_SHG_SMOTE.groupby('Test Size')[['Accuracy','Precision','Recall','F1 Score']].mean()"
   ]
  },
  {
   "cell_type": "code",
   "execution_count": 22,
   "id": "7c746b77-9629-4b11-9c95-180a9f2e5f3a",
   "metadata": {},
   "outputs": [
    {
     "name": "stdout",
     "output_type": "stream",
     "text": [
      "SMOTE Binary: Student History Grades\n",
      "\n",
      "{'criterion': 'entropy', 'max_features': 'log2', 'n_estimators': 100}\n",
      "{'criterion': 'gini', 'max_features': 'sqrt', 'n_estimators': 200}\n",
      "{'criterion': 'gini', 'max_features': 'sqrt', 'n_estimators': 200}\n"
     ]
    }
   ],
   "source": [
    "print(\"SMOTE Binary: Student History Grades\\n\")\n",
    "for x in dfB_SHG_SMOTE[\"Best Param\"]:\n",
    "    print(x)"
   ]
  },
  {
   "cell_type": "markdown",
   "id": "e80e3484-b65d-454c-adf3-c2c4356dc17d",
   "metadata": {},
   "source": [
    "## Student Opinion Towards MMU Environment"
   ]
  },
  {
   "cell_type": "markdown",
   "id": "9b8b2e38-d5db-48d3-8938-7089019d8802",
   "metadata": {},
   "source": [
    "### SOTME before Data Balancing"
   ]
  },
  {
   "cell_type": "code",
   "execution_count": 23,
   "id": "654a8ad9-560c-436c-8b12-14f4f189bf16",
   "metadata": {},
   "outputs": [
    {
     "name": "stdout",
     "output_type": "stream",
     "text": [
      "Fitting 10 folds for each of 24 candidates, totalling 240 fits\n"
     ]
    },
    {
     "name": "stderr",
     "output_type": "stream",
     "text": [
      "C:\\Users\\hazel\\anaconda3\\Lib\\site-packages\\sklearn\\model_selection\\_search.py:909: DataConversionWarning: A column-vector y was passed when a 1d array was expected. Please change the shape of y to (n_samples,), for example using ravel().\n",
      "  self.best_estimator_.fit(X, y, **fit_params)\n",
      "C:\\Users\\hazel\\anaconda3\\Lib\\site-packages\\sklearn\\ensemble\\_forest.py:424: FutureWarning: `max_features='auto'` has been deprecated in 1.1 and will be removed in 1.3. To keep the past behaviour, explicitly set `max_features='sqrt'` or remove this parameter as it is also the default value for RandomForestClassifiers and ExtraTreesClassifiers.\n",
      "  warn(\n",
      "C:\\Users\\hazel\\anaconda3\\Lib\\site-packages\\sklearn\\metrics\\_classification.py:1344: UndefinedMetricWarning: Precision is ill-defined and being set to 0.0 in labels with no predicted samples. Use `zero_division` parameter to control this behavior.\n",
      "  _warn_prf(average, modifier, msg_start, len(result))\n"
     ]
    },
    {
     "name": "stdout",
     "output_type": "stream",
     "text": [
      "Fitting 10 folds for each of 24 candidates, totalling 240 fits\n"
     ]
    },
    {
     "name": "stderr",
     "output_type": "stream",
     "text": [
      "C:\\Users\\hazel\\anaconda3\\Lib\\site-packages\\sklearn\\model_selection\\_search.py:909: DataConversionWarning: A column-vector y was passed when a 1d array was expected. Please change the shape of y to (n_samples,), for example using ravel().\n",
      "  self.best_estimator_.fit(X, y, **fit_params)\n",
      "C:\\Users\\hazel\\anaconda3\\Lib\\site-packages\\sklearn\\ensemble\\_forest.py:424: FutureWarning: `max_features='auto'` has been deprecated in 1.1 and will be removed in 1.3. To keep the past behaviour, explicitly set `max_features='sqrt'` or remove this parameter as it is also the default value for RandomForestClassifiers and ExtraTreesClassifiers.\n",
      "  warn(\n",
      "C:\\Users\\hazel\\anaconda3\\Lib\\site-packages\\sklearn\\metrics\\_classification.py:1344: UndefinedMetricWarning: Precision is ill-defined and being set to 0.0 in labels with no predicted samples. Use `zero_division` parameter to control this behavior.\n",
      "  _warn_prf(average, modifier, msg_start, len(result))\n"
     ]
    },
    {
     "name": "stdout",
     "output_type": "stream",
     "text": [
      "Fitting 10 folds for each of 24 candidates, totalling 240 fits\n"
     ]
    },
    {
     "name": "stderr",
     "output_type": "stream",
     "text": [
      "C:\\Users\\hazel\\anaconda3\\Lib\\site-packages\\sklearn\\model_selection\\_search.py:909: DataConversionWarning: A column-vector y was passed when a 1d array was expected. Please change the shape of y to (n_samples,), for example using ravel().\n",
      "  self.best_estimator_.fit(X, y, **fit_params)\n",
      "C:\\Users\\hazel\\anaconda3\\Lib\\site-packages\\sklearn\\ensemble\\_forest.py:424: FutureWarning: `max_features='auto'` has been deprecated in 1.1 and will be removed in 1.3. To keep the past behaviour, explicitly set `max_features='sqrt'` or remove this parameter as it is also the default value for RandomForestClassifiers and ExtraTreesClassifiers.\n",
      "  warn(\n",
      "C:\\Users\\hazel\\anaconda3\\Lib\\site-packages\\sklearn\\metrics\\_classification.py:1344: UndefinedMetricWarning: Precision is ill-defined and being set to 0.0 in labels with no predicted samples. Use `zero_division` parameter to control this behavior.\n",
      "  _warn_prf(average, modifier, msg_start, len(result))\n"
     ]
    },
    {
     "data": {
      "text/html": [
       "<div>\n",
       "<style scoped>\n",
       "    .dataframe tbody tr th:only-of-type {\n",
       "        vertical-align: middle;\n",
       "    }\n",
       "\n",
       "    .dataframe tbody tr th {\n",
       "        vertical-align: top;\n",
       "    }\n",
       "\n",
       "    .dataframe thead th {\n",
       "        text-align: right;\n",
       "    }\n",
       "</style>\n",
       "<table border=\"1\" class=\"dataframe\">\n",
       "  <thead>\n",
       "    <tr style=\"text-align: right;\">\n",
       "      <th></th>\n",
       "      <th>Test Size</th>\n",
       "      <th>Random State</th>\n",
       "      <th>Accuracy</th>\n",
       "      <th>Precision</th>\n",
       "      <th>Recall</th>\n",
       "      <th>F1 Score</th>\n",
       "      <th>Best Param</th>\n",
       "    </tr>\n",
       "  </thead>\n",
       "  <tbody>\n",
       "    <tr>\n",
       "      <th>0</th>\n",
       "      <td>100</td>\n",
       "      <td>7</td>\n",
       "      <td>0.986791</td>\n",
       "      <td>0.973756</td>\n",
       "      <td>0.986791</td>\n",
       "      <td>0.98023</td>\n",
       "      <td>{'criterion': 'gini', 'max_features': 'auto', ...</td>\n",
       "    </tr>\n",
       "    <tr>\n",
       "      <th>1</th>\n",
       "      <td>100</td>\n",
       "      <td>69</td>\n",
       "      <td>0.986791</td>\n",
       "      <td>0.973756</td>\n",
       "      <td>0.986791</td>\n",
       "      <td>0.98023</td>\n",
       "      <td>{'criterion': 'gini', 'max_features': 'auto', ...</td>\n",
       "    </tr>\n",
       "    <tr>\n",
       "      <th>2</th>\n",
       "      <td>100</td>\n",
       "      <td>101</td>\n",
       "      <td>0.986791</td>\n",
       "      <td>0.973756</td>\n",
       "      <td>0.986791</td>\n",
       "      <td>0.98023</td>\n",
       "      <td>{'criterion': 'gini', 'max_features': 'auto', ...</td>\n",
       "    </tr>\n",
       "  </tbody>\n",
       "</table>\n",
       "</div>"
      ],
      "text/plain": [
       "   Test Size  Random State  Accuracy  Precision    Recall  F1 Score  \\\n",
       "0        100             7  0.986791   0.973756  0.986791   0.98023   \n",
       "1        100            69  0.986791   0.973756  0.986791   0.98023   \n",
       "2        100           101  0.986791   0.973756  0.986791   0.98023   \n",
       "\n",
       "                                          Best Param  \n",
       "0  {'criterion': 'gini', 'max_features': 'auto', ...  \n",
       "1  {'criterion': 'gini', 'max_features': 'auto', ...  \n",
       "2  {'criterion': 'gini', 'max_features': 'auto', ...  "
      ]
     },
     "execution_count": 23,
     "metadata": {},
     "output_type": "execute_result"
    }
   ],
   "source": [
    "tempB_SOTME_imb = []\n",
    "\n",
    "y_train = df3_B_imb[['CGPA']]\n",
    "X_train = df3_B_imb[['Reason Study at Multimedia University', 'Lecture Class Capacity','Tutorial Class Capacity', \n",
    "                     'Classroom Facilities', 'Campus Environment']]\n",
    "\n",
    "y_test = merge_B_imb[['CGPA']]\n",
    "X_test = merge_B_imb[['Reason Study at Multimedia University', 'Lecture Class Capacity','Tutorial Class Capacity', \n",
    "                     'Classroom Facilities', 'Campus Environment']]\n",
    "\n",
    "for j in rand_states:\n",
    "    param_grid = {'n_estimators': [100, 200, 300, 400],\n",
    "                  'max_features': ['auto', 'sqrt', 'log2'],\n",
    "                  'criterion' :['gini', 'entropy']}\n",
    "\n",
    "    model = GridSearchCV(RandomForestClassifier(), param_grid, refit=True, n_jobs=-1, cv=10, verbose=1)\n",
    "    model.fit(X_train, y_train)\n",
    "    pred = model.predict(X_test)\n",
    "\n",
    "    acc = accuracy_score(y_test,pred)\n",
    "    pre = precision_score(y_test, pred, average='weighted')\n",
    "    recall = recall_score(y_test, pred, average='weighted')\n",
    "    f1 = f1_score(y_test, pred, average='weighted')\n",
    "    param = model.best_params_\n",
    "\n",
    "    tempB_SOTME_imb.append([100,j,acc,pre,recall,f1,param])\n",
    "        \n",
    "dfB_SOTME_imb = pd.DataFrame(columns=['Test Size','Random State','Accuracy','Precision','Recall','F1 Score','Best Param'],data=tempB_SOTME_imb)\n",
    "dfB_SOTME_imb"
   ]
  },
  {
   "cell_type": "code",
   "execution_count": 24,
   "id": "59be9d34-ff50-45d3-8f54-dee0c540233d",
   "metadata": {},
   "outputs": [
    {
     "data": {
      "text/html": [
       "<div>\n",
       "<style scoped>\n",
       "    .dataframe tbody tr th:only-of-type {\n",
       "        vertical-align: middle;\n",
       "    }\n",
       "\n",
       "    .dataframe tbody tr th {\n",
       "        vertical-align: top;\n",
       "    }\n",
       "\n",
       "    .dataframe thead th {\n",
       "        text-align: right;\n",
       "    }\n",
       "</style>\n",
       "<table border=\"1\" class=\"dataframe\">\n",
       "  <thead>\n",
       "    <tr style=\"text-align: right;\">\n",
       "      <th></th>\n",
       "      <th>Accuracy</th>\n",
       "      <th>Precision</th>\n",
       "      <th>Recall</th>\n",
       "      <th>F1 Score</th>\n",
       "    </tr>\n",
       "    <tr>\n",
       "      <th>Test Size</th>\n",
       "      <th></th>\n",
       "      <th></th>\n",
       "      <th></th>\n",
       "      <th></th>\n",
       "    </tr>\n",
       "  </thead>\n",
       "  <tbody>\n",
       "    <tr>\n",
       "      <th>100</th>\n",
       "      <td>0.986791</td>\n",
       "      <td>0.973756</td>\n",
       "      <td>0.986791</td>\n",
       "      <td>0.98023</td>\n",
       "    </tr>\n",
       "  </tbody>\n",
       "</table>\n",
       "</div>"
      ],
      "text/plain": [
       "           Accuracy  Precision    Recall  F1 Score\n",
       "Test Size                                         \n",
       "100        0.986791   0.973756  0.986791   0.98023"
      ]
     },
     "execution_count": 24,
     "metadata": {},
     "output_type": "execute_result"
    }
   ],
   "source": [
    "dfB_SOTME_imb.groupby('Test Size')[['Accuracy','Precision','Recall','F1 Score']].mean()"
   ]
  },
  {
   "cell_type": "code",
   "execution_count": 25,
   "id": "06730f33-7bed-429b-bfcd-39ab18c67ce9",
   "metadata": {},
   "outputs": [
    {
     "name": "stdout",
     "output_type": "stream",
     "text": [
      "Imbalance Binary: Student Opinion Towards MMU Environment\n",
      "\n",
      "{'criterion': 'gini', 'max_features': 'auto', 'n_estimators': 100}\n",
      "{'criterion': 'gini', 'max_features': 'auto', 'n_estimators': 100}\n",
      "{'criterion': 'gini', 'max_features': 'auto', 'n_estimators': 100}\n"
     ]
    }
   ],
   "source": [
    "print(\"Imbalance Binary: Student Opinion Towards MMU Environment\\n\")\n",
    "for x in dfB_SOTME_imb[\"Best Param\"]:\n",
    "    print(x)"
   ]
  },
  {
   "cell_type": "markdown",
   "id": "50df99a0-13dc-4708-ac8e-d01b22f63dcc",
   "metadata": {},
   "source": [
    "### SOTME after RandomOverSampler"
   ]
  },
  {
   "cell_type": "code",
   "execution_count": 26,
   "id": "112eeab7-89ca-4850-a0db-4c5e12833d22",
   "metadata": {},
   "outputs": [
    {
     "name": "stdout",
     "output_type": "stream",
     "text": [
      "Fitting 10 folds for each of 24 candidates, totalling 240 fits\n"
     ]
    },
    {
     "name": "stderr",
     "output_type": "stream",
     "text": [
      "C:\\Users\\hazel\\anaconda3\\Lib\\site-packages\\sklearn\\model_selection\\_search.py:909: DataConversionWarning: A column-vector y was passed when a 1d array was expected. Please change the shape of y to (n_samples,), for example using ravel().\n",
      "  self.best_estimator_.fit(X, y, **fit_params)\n",
      "C:\\Users\\hazel\\anaconda3\\Lib\\site-packages\\sklearn\\ensemble\\_forest.py:424: FutureWarning: `max_features='auto'` has been deprecated in 1.1 and will be removed in 1.3. To keep the past behaviour, explicitly set `max_features='sqrt'` or remove this parameter as it is also the default value for RandomForestClassifiers and ExtraTreesClassifiers.\n",
      "  warn(\n"
     ]
    },
    {
     "name": "stdout",
     "output_type": "stream",
     "text": [
      "Fitting 10 folds for each of 24 candidates, totalling 240 fits\n"
     ]
    },
    {
     "name": "stderr",
     "output_type": "stream",
     "text": [
      "C:\\Users\\hazel\\anaconda3\\Lib\\site-packages\\sklearn\\model_selection\\_search.py:909: DataConversionWarning: A column-vector y was passed when a 1d array was expected. Please change the shape of y to (n_samples,), for example using ravel().\n",
      "  self.best_estimator_.fit(X, y, **fit_params)\n",
      "C:\\Users\\hazel\\anaconda3\\Lib\\site-packages\\sklearn\\ensemble\\_forest.py:424: FutureWarning: `max_features='auto'` has been deprecated in 1.1 and will be removed in 1.3. To keep the past behaviour, explicitly set `max_features='sqrt'` or remove this parameter as it is also the default value for RandomForestClassifiers and ExtraTreesClassifiers.\n",
      "  warn(\n"
     ]
    },
    {
     "name": "stdout",
     "output_type": "stream",
     "text": [
      "Fitting 10 folds for each of 24 candidates, totalling 240 fits\n"
     ]
    },
    {
     "name": "stderr",
     "output_type": "stream",
     "text": [
      "C:\\Users\\hazel\\anaconda3\\Lib\\site-packages\\sklearn\\model_selection\\_search.py:909: DataConversionWarning: A column-vector y was passed when a 1d array was expected. Please change the shape of y to (n_samples,), for example using ravel().\n",
      "  self.best_estimator_.fit(X, y, **fit_params)\n",
      "C:\\Users\\hazel\\anaconda3\\Lib\\site-packages\\sklearn\\ensemble\\_forest.py:424: FutureWarning: `max_features='auto'` has been deprecated in 1.1 and will be removed in 1.3. To keep the past behaviour, explicitly set `max_features='sqrt'` or remove this parameter as it is also the default value for RandomForestClassifiers and ExtraTreesClassifiers.\n",
      "  warn(\n"
     ]
    },
    {
     "data": {
      "text/html": [
       "<div>\n",
       "<style scoped>\n",
       "    .dataframe tbody tr th:only-of-type {\n",
       "        vertical-align: middle;\n",
       "    }\n",
       "\n",
       "    .dataframe tbody tr th {\n",
       "        vertical-align: top;\n",
       "    }\n",
       "\n",
       "    .dataframe thead th {\n",
       "        text-align: right;\n",
       "    }\n",
       "</style>\n",
       "<table border=\"1\" class=\"dataframe\">\n",
       "  <thead>\n",
       "    <tr style=\"text-align: right;\">\n",
       "      <th></th>\n",
       "      <th>Test Size</th>\n",
       "      <th>Random State</th>\n",
       "      <th>Accuracy</th>\n",
       "      <th>Precision</th>\n",
       "      <th>Recall</th>\n",
       "      <th>F1 Score</th>\n",
       "      <th>Best Param</th>\n",
       "    </tr>\n",
       "  </thead>\n",
       "  <tbody>\n",
       "    <tr>\n",
       "      <th>0</th>\n",
       "      <td>100</td>\n",
       "      <td>7</td>\n",
       "      <td>0.483858</td>\n",
       "      <td>0.245898</td>\n",
       "      <td>0.483858</td>\n",
       "      <td>0.326081</td>\n",
       "      <td>{'criterion': 'gini', 'max_features': 'auto', ...</td>\n",
       "    </tr>\n",
       "    <tr>\n",
       "      <th>1</th>\n",
       "      <td>100</td>\n",
       "      <td>69</td>\n",
       "      <td>0.483858</td>\n",
       "      <td>0.245898</td>\n",
       "      <td>0.483858</td>\n",
       "      <td>0.326081</td>\n",
       "      <td>{'criterion': 'gini', 'max_features': 'auto', ...</td>\n",
       "    </tr>\n",
       "    <tr>\n",
       "      <th>2</th>\n",
       "      <td>100</td>\n",
       "      <td>101</td>\n",
       "      <td>0.483858</td>\n",
       "      <td>0.245898</td>\n",
       "      <td>0.483858</td>\n",
       "      <td>0.326081</td>\n",
       "      <td>{'criterion': 'gini', 'max_features': 'auto', ...</td>\n",
       "    </tr>\n",
       "  </tbody>\n",
       "</table>\n",
       "</div>"
      ],
      "text/plain": [
       "   Test Size  Random State  Accuracy  Precision    Recall  F1 Score  \\\n",
       "0        100             7  0.483858   0.245898  0.483858  0.326081   \n",
       "1        100            69  0.483858   0.245898  0.483858  0.326081   \n",
       "2        100           101  0.483858   0.245898  0.483858  0.326081   \n",
       "\n",
       "                                          Best Param  \n",
       "0  {'criterion': 'gini', 'max_features': 'auto', ...  \n",
       "1  {'criterion': 'gini', 'max_features': 'auto', ...  \n",
       "2  {'criterion': 'gini', 'max_features': 'auto', ...  "
      ]
     },
     "execution_count": 26,
     "metadata": {},
     "output_type": "execute_result"
    }
   ],
   "source": [
    "tempB_SOTME_ROS = []\n",
    "\n",
    "y_train = df3_B_ROS[['CGPA']]\n",
    "X_train = df3_B_ROS[['Reason Study at Multimedia University', 'Lecture Class Capacity','Tutorial Class Capacity', \n",
    "                     'Classroom Facilities', 'Campus Environment']]\n",
    "\n",
    "y_test = merge_B_ROS[['CGPA']]\n",
    "X_test = merge_B_ROS[['Reason Study at Multimedia University', 'Lecture Class Capacity','Tutorial Class Capacity', \n",
    "                     'Classroom Facilities', 'Campus Environment']]\n",
    "\n",
    "for j in rand_states:\n",
    "    param_grid = {'n_estimators': [100, 200, 300, 400],\n",
    "                  'max_features': ['auto', 'sqrt', 'log2'],\n",
    "                  'criterion' :['gini', 'entropy']}\n",
    "\n",
    "    model = GridSearchCV(RandomForestClassifier(), param_grid, refit=True, n_jobs=-1, cv=10, verbose=1)\n",
    "    model.fit(X_train, y_train)\n",
    "    pred = model.predict(X_test)\n",
    "\n",
    "    acc = accuracy_score(y_test,pred)\n",
    "    pre = precision_score(y_test, pred, average='weighted')\n",
    "    recall = recall_score(y_test, pred, average='weighted')\n",
    "    f1 = f1_score(y_test, pred, average='weighted')\n",
    "    param = model.best_params_\n",
    "\n",
    "    tempB_SOTME_ROS.append([100,j,acc,pre,recall,f1,param])\n",
    "        \n",
    "dfB_SOTME_ROS = pd.DataFrame(columns=['Test Size','Random State','Accuracy','Precision','Recall','F1 Score','Best Param'],data=tempB_SOTME_ROS)\n",
    "dfB_SOTME_ROS"
   ]
  },
  {
   "cell_type": "code",
   "execution_count": 27,
   "id": "c1115dc7-8c28-425c-8c34-1962d54d2fd9",
   "metadata": {},
   "outputs": [
    {
     "data": {
      "text/html": [
       "<div>\n",
       "<style scoped>\n",
       "    .dataframe tbody tr th:only-of-type {\n",
       "        vertical-align: middle;\n",
       "    }\n",
       "\n",
       "    .dataframe tbody tr th {\n",
       "        vertical-align: top;\n",
       "    }\n",
       "\n",
       "    .dataframe thead th {\n",
       "        text-align: right;\n",
       "    }\n",
       "</style>\n",
       "<table border=\"1\" class=\"dataframe\">\n",
       "  <thead>\n",
       "    <tr style=\"text-align: right;\">\n",
       "      <th></th>\n",
       "      <th>Accuracy</th>\n",
       "      <th>Precision</th>\n",
       "      <th>Recall</th>\n",
       "      <th>F1 Score</th>\n",
       "    </tr>\n",
       "    <tr>\n",
       "      <th>Test Size</th>\n",
       "      <th></th>\n",
       "      <th></th>\n",
       "      <th></th>\n",
       "      <th></th>\n",
       "    </tr>\n",
       "  </thead>\n",
       "  <tbody>\n",
       "    <tr>\n",
       "      <th>100</th>\n",
       "      <td>0.483858</td>\n",
       "      <td>0.245898</td>\n",
       "      <td>0.483858</td>\n",
       "      <td>0.326081</td>\n",
       "    </tr>\n",
       "  </tbody>\n",
       "</table>\n",
       "</div>"
      ],
      "text/plain": [
       "           Accuracy  Precision    Recall  F1 Score\n",
       "Test Size                                         \n",
       "100        0.483858   0.245898  0.483858  0.326081"
      ]
     },
     "execution_count": 27,
     "metadata": {},
     "output_type": "execute_result"
    }
   ],
   "source": [
    "dfB_SOTME_ROS.groupby('Test Size')[['Accuracy','Precision','Recall','F1 Score']].mean()"
   ]
  },
  {
   "cell_type": "code",
   "execution_count": 28,
   "id": "f9bf956b-bcf9-4459-b7e8-3596bbced3c7",
   "metadata": {},
   "outputs": [
    {
     "name": "stdout",
     "output_type": "stream",
     "text": [
      "Binary: Student Opinion Towards MMU Environment\n",
      "\n",
      "{'criterion': 'gini', 'max_features': 'auto', 'n_estimators': 100}\n",
      "{'criterion': 'gini', 'max_features': 'auto', 'n_estimators': 200}\n",
      "{'criterion': 'gini', 'max_features': 'auto', 'n_estimators': 100}\n"
     ]
    }
   ],
   "source": [
    "print(\"Binary: Student Opinion Towards MMU Environment\\n\")\n",
    "for x in dfB_SOTME_ROS[\"Best Param\"]:\n",
    "    print(x)"
   ]
  },
  {
   "cell_type": "markdown",
   "id": "6861e147-266e-4d0a-bc61-a2f00e70e822",
   "metadata": {},
   "source": [
    "### SOTME after SMOTE"
   ]
  },
  {
   "cell_type": "code",
   "execution_count": 29,
   "id": "4b9848bb-0f6d-4281-a61b-fd7480f3b114",
   "metadata": {},
   "outputs": [
    {
     "name": "stdout",
     "output_type": "stream",
     "text": [
      "Fitting 10 folds for each of 24 candidates, totalling 240 fits\n"
     ]
    },
    {
     "name": "stderr",
     "output_type": "stream",
     "text": [
      "C:\\Users\\hazel\\anaconda3\\Lib\\site-packages\\sklearn\\model_selection\\_search.py:909: DataConversionWarning: A column-vector y was passed when a 1d array was expected. Please change the shape of y to (n_samples,), for example using ravel().\n",
      "  self.best_estimator_.fit(X, y, **fit_params)\n"
     ]
    },
    {
     "name": "stdout",
     "output_type": "stream",
     "text": [
      "Fitting 10 folds for each of 24 candidates, totalling 240 fits\n"
     ]
    },
    {
     "name": "stderr",
     "output_type": "stream",
     "text": [
      "C:\\Users\\hazel\\anaconda3\\Lib\\site-packages\\sklearn\\model_selection\\_search.py:909: DataConversionWarning: A column-vector y was passed when a 1d array was expected. Please change the shape of y to (n_samples,), for example using ravel().\n",
      "  self.best_estimator_.fit(X, y, **fit_params)\n",
      "C:\\Users\\hazel\\anaconda3\\Lib\\site-packages\\sklearn\\ensemble\\_forest.py:424: FutureWarning: `max_features='auto'` has been deprecated in 1.1 and will be removed in 1.3. To keep the past behaviour, explicitly set `max_features='sqrt'` or remove this parameter as it is also the default value for RandomForestClassifiers and ExtraTreesClassifiers.\n",
      "  warn(\n"
     ]
    },
    {
     "name": "stdout",
     "output_type": "stream",
     "text": [
      "Fitting 10 folds for each of 24 candidates, totalling 240 fits\n"
     ]
    },
    {
     "name": "stderr",
     "output_type": "stream",
     "text": [
      "C:\\Users\\hazel\\anaconda3\\Lib\\site-packages\\sklearn\\model_selection\\_search.py:909: DataConversionWarning: A column-vector y was passed when a 1d array was expected. Please change the shape of y to (n_samples,), for example using ravel().\n",
      "  self.best_estimator_.fit(X, y, **fit_params)\n"
     ]
    },
    {
     "data": {
      "text/html": [
       "<div>\n",
       "<style scoped>\n",
       "    .dataframe tbody tr th:only-of-type {\n",
       "        vertical-align: middle;\n",
       "    }\n",
       "\n",
       "    .dataframe tbody tr th {\n",
       "        vertical-align: top;\n",
       "    }\n",
       "\n",
       "    .dataframe thead th {\n",
       "        text-align: right;\n",
       "    }\n",
       "</style>\n",
       "<table border=\"1\" class=\"dataframe\">\n",
       "  <thead>\n",
       "    <tr style=\"text-align: right;\">\n",
       "      <th></th>\n",
       "      <th>Test Size</th>\n",
       "      <th>Random State</th>\n",
       "      <th>Accuracy</th>\n",
       "      <th>Precision</th>\n",
       "      <th>Recall</th>\n",
       "      <th>F1 Score</th>\n",
       "      <th>Best Param</th>\n",
       "    </tr>\n",
       "  </thead>\n",
       "  <tbody>\n",
       "    <tr>\n",
       "      <th>0</th>\n",
       "      <td>100</td>\n",
       "      <td>7</td>\n",
       "      <td>0.499606</td>\n",
       "      <td>0.249902</td>\n",
       "      <td>0.499606</td>\n",
       "      <td>0.333158</td>\n",
       "      <td>{'criterion': 'entropy', 'max_features': 'log2...</td>\n",
       "    </tr>\n",
       "    <tr>\n",
       "      <th>1</th>\n",
       "      <td>100</td>\n",
       "      <td>69</td>\n",
       "      <td>0.499606</td>\n",
       "      <td>0.249902</td>\n",
       "      <td>0.499606</td>\n",
       "      <td>0.333158</td>\n",
       "      <td>{'criterion': 'gini', 'max_features': 'auto', ...</td>\n",
       "    </tr>\n",
       "    <tr>\n",
       "      <th>2</th>\n",
       "      <td>100</td>\n",
       "      <td>101</td>\n",
       "      <td>0.499606</td>\n",
       "      <td>0.249902</td>\n",
       "      <td>0.499606</td>\n",
       "      <td>0.333158</td>\n",
       "      <td>{'criterion': 'gini', 'max_features': 'log2', ...</td>\n",
       "    </tr>\n",
       "  </tbody>\n",
       "</table>\n",
       "</div>"
      ],
      "text/plain": [
       "   Test Size  Random State  Accuracy  Precision    Recall  F1 Score  \\\n",
       "0        100             7  0.499606   0.249902  0.499606  0.333158   \n",
       "1        100            69  0.499606   0.249902  0.499606  0.333158   \n",
       "2        100           101  0.499606   0.249902  0.499606  0.333158   \n",
       "\n",
       "                                          Best Param  \n",
       "0  {'criterion': 'entropy', 'max_features': 'log2...  \n",
       "1  {'criterion': 'gini', 'max_features': 'auto', ...  \n",
       "2  {'criterion': 'gini', 'max_features': 'log2', ...  "
      ]
     },
     "execution_count": 29,
     "metadata": {},
     "output_type": "execute_result"
    }
   ],
   "source": [
    "tempB_SOTME_SMOTE = []\n",
    "\n",
    "y_train = df3_B_SMOTE[['CGPA']]\n",
    "X_train = df3_B_SMOTE[['Reason Study at Multimedia University', 'Lecture Class Capacity','Tutorial Class Capacity', \n",
    "                     'Classroom Facilities', 'Campus Environment']]\n",
    "\n",
    "y_test = merge_B_SMOTE[['CGPA']]\n",
    "X_test = merge_B_SMOTE[['Reason Study at Multimedia University', 'Lecture Class Capacity','Tutorial Class Capacity', \n",
    "                     'Classroom Facilities', 'Campus Environment']]\n",
    "\n",
    "for j in rand_states:\n",
    "    param_grid = {'n_estimators': [100, 200, 300, 400],\n",
    "                  'max_features': ['auto', 'sqrt', 'log2'],\n",
    "                  'criterion' :['gini', 'entropy']}\n",
    "\n",
    "    model = GridSearchCV(RandomForestClassifier(), param_grid, refit=True, n_jobs=-1, cv=10, verbose=1)\n",
    "    model.fit(X_train, y_train)\n",
    "    pred = model.predict(X_test)\n",
    "\n",
    "    acc = accuracy_score(y_test,pred)\n",
    "    pre = precision_score(y_test, pred, average='weighted')\n",
    "    recall = recall_score(y_test, pred, average='weighted')\n",
    "    f1 = f1_score(y_test, pred, average='weighted')\n",
    "    param = model.best_params_\n",
    "\n",
    "    tempB_SOTME_SMOTE.append([100,j,acc,pre,recall,f1,param])\n",
    "        \n",
    "dfB_SOTME_SMOTE = pd.DataFrame(columns=['Test Size','Random State','Accuracy','Precision','Recall','F1 Score','Best Param'],data=tempB_SOTME_SMOTE)\n",
    "dfB_SOTME_SMOTE"
   ]
  },
  {
   "cell_type": "code",
   "execution_count": 30,
   "id": "27a2fbc6-e915-4877-a7c4-16e4b6437e10",
   "metadata": {},
   "outputs": [
    {
     "data": {
      "text/html": [
       "<div>\n",
       "<style scoped>\n",
       "    .dataframe tbody tr th:only-of-type {\n",
       "        vertical-align: middle;\n",
       "    }\n",
       "\n",
       "    .dataframe tbody tr th {\n",
       "        vertical-align: top;\n",
       "    }\n",
       "\n",
       "    .dataframe thead th {\n",
       "        text-align: right;\n",
       "    }\n",
       "</style>\n",
       "<table border=\"1\" class=\"dataframe\">\n",
       "  <thead>\n",
       "    <tr style=\"text-align: right;\">\n",
       "      <th></th>\n",
       "      <th>Accuracy</th>\n",
       "      <th>Precision</th>\n",
       "      <th>Recall</th>\n",
       "      <th>F1 Score</th>\n",
       "    </tr>\n",
       "    <tr>\n",
       "      <th>Test Size</th>\n",
       "      <th></th>\n",
       "      <th></th>\n",
       "      <th></th>\n",
       "      <th></th>\n",
       "    </tr>\n",
       "  </thead>\n",
       "  <tbody>\n",
       "    <tr>\n",
       "      <th>100</th>\n",
       "      <td>0.499606</td>\n",
       "      <td>0.249902</td>\n",
       "      <td>0.499606</td>\n",
       "      <td>0.333158</td>\n",
       "    </tr>\n",
       "  </tbody>\n",
       "</table>\n",
       "</div>"
      ],
      "text/plain": [
       "           Accuracy  Precision    Recall  F1 Score\n",
       "Test Size                                         \n",
       "100        0.499606   0.249902  0.499606  0.333158"
      ]
     },
     "execution_count": 30,
     "metadata": {},
     "output_type": "execute_result"
    }
   ],
   "source": [
    "dfB_SOTME_SMOTE.groupby('Test Size')[['Accuracy','Precision','Recall','F1 Score']].mean()"
   ]
  },
  {
   "cell_type": "code",
   "execution_count": 31,
   "id": "24640235-6993-4dd9-8c3f-79db27ed073e",
   "metadata": {},
   "outputs": [
    {
     "name": "stdout",
     "output_type": "stream",
     "text": [
      "SMOTE Binary: Student Opinion Towards MMU Environment\n",
      "\n",
      "{'criterion': 'entropy', 'max_features': 'log2', 'n_estimators': 100}\n",
      "{'criterion': 'gini', 'max_features': 'auto', 'n_estimators': 100}\n",
      "{'criterion': 'gini', 'max_features': 'log2', 'n_estimators': 100}\n"
     ]
    }
   ],
   "source": [
    "print(\"SMOTE Binary: Student Opinion Towards MMU Environment\\n\")\n",
    "for x in dfB_SOTME_SMOTE[\"Best Param\"]:\n",
    "    print(x)"
   ]
  },
  {
   "cell_type": "markdown",
   "id": "7a88425e-10e9-461d-98fc-7b557654019a",
   "metadata": {},
   "source": [
    "## Student Family Background"
   ]
  },
  {
   "cell_type": "markdown",
   "id": "4e44c27a-ee98-4fcc-8e20-448444aaa532",
   "metadata": {},
   "source": [
    "### SFB before Data Balancing"
   ]
  },
  {
   "cell_type": "code",
   "execution_count": 32,
   "id": "d4b35c85-b814-4090-bcc3-dde09473adfa",
   "metadata": {},
   "outputs": [],
   "source": [
    "df3_B_imb.rename(columns={\"Parent's Education Level [Father]\": \"Parent's Education Level.Father\"}, inplace=True)\n",
    "df3_B_imb.rename(columns={\"Parent's Education Level [Mother]\": \"Parent's Education Level.Mother\"}, inplace=True)\n",
    "df3_B_ROS.rename(columns={\"Parent's Education Level [Father]\": \"Parent's Education Level.Father\"}, inplace=True)\n",
    "df3_B_ROS.rename(columns={\"Parent's Education Level [Mother]\": \"Parent's Education Level.Mother\"}, inplace=True)\n",
    "df3_B_SMOTE.rename(columns={\"Parent's Education Level [Father]\": \"Parent's Education Level.Father\"}, inplace=True)\n",
    "df3_B_SMOTE.rename(columns={\"Parent's Education Level [Mother]\": \"Parent's Education Level.Mother\"}, inplace=True)"
   ]
  },
  {
   "cell_type": "code",
   "execution_count": 33,
   "id": "41f3dedc-98c0-4905-9aef-4d36298bb76a",
   "metadata": {},
   "outputs": [
    {
     "name": "stdout",
     "output_type": "stream",
     "text": [
      "Fitting 10 folds for each of 24 candidates, totalling 240 fits\n"
     ]
    },
    {
     "name": "stderr",
     "output_type": "stream",
     "text": [
      "C:\\Users\\hazel\\anaconda3\\Lib\\site-packages\\sklearn\\model_selection\\_search.py:909: DataConversionWarning: A column-vector y was passed when a 1d array was expected. Please change the shape of y to (n_samples,), for example using ravel().\n",
      "  self.best_estimator_.fit(X, y, **fit_params)\n",
      "C:\\Users\\hazel\\anaconda3\\Lib\\site-packages\\sklearn\\ensemble\\_forest.py:424: FutureWarning: `max_features='auto'` has been deprecated in 1.1 and will be removed in 1.3. To keep the past behaviour, explicitly set `max_features='sqrt'` or remove this parameter as it is also the default value for RandomForestClassifiers and ExtraTreesClassifiers.\n",
      "  warn(\n",
      "C:\\Users\\hazel\\anaconda3\\Lib\\site-packages\\sklearn\\metrics\\_classification.py:1344: UndefinedMetricWarning: Precision is ill-defined and being set to 0.0 in labels with no predicted samples. Use `zero_division` parameter to control this behavior.\n",
      "  _warn_prf(average, modifier, msg_start, len(result))\n"
     ]
    },
    {
     "name": "stdout",
     "output_type": "stream",
     "text": [
      "Fitting 10 folds for each of 24 candidates, totalling 240 fits\n"
     ]
    },
    {
     "name": "stderr",
     "output_type": "stream",
     "text": [
      "C:\\Users\\hazel\\anaconda3\\Lib\\site-packages\\sklearn\\model_selection\\_search.py:909: DataConversionWarning: A column-vector y was passed when a 1d array was expected. Please change the shape of y to (n_samples,), for example using ravel().\n",
      "  self.best_estimator_.fit(X, y, **fit_params)\n",
      "C:\\Users\\hazel\\anaconda3\\Lib\\site-packages\\sklearn\\ensemble\\_forest.py:424: FutureWarning: `max_features='auto'` has been deprecated in 1.1 and will be removed in 1.3. To keep the past behaviour, explicitly set `max_features='sqrt'` or remove this parameter as it is also the default value for RandomForestClassifiers and ExtraTreesClassifiers.\n",
      "  warn(\n",
      "C:\\Users\\hazel\\anaconda3\\Lib\\site-packages\\sklearn\\metrics\\_classification.py:1344: UndefinedMetricWarning: Precision is ill-defined and being set to 0.0 in labels with no predicted samples. Use `zero_division` parameter to control this behavior.\n",
      "  _warn_prf(average, modifier, msg_start, len(result))\n"
     ]
    },
    {
     "name": "stdout",
     "output_type": "stream",
     "text": [
      "Fitting 10 folds for each of 24 candidates, totalling 240 fits\n"
     ]
    },
    {
     "name": "stderr",
     "output_type": "stream",
     "text": [
      "C:\\Users\\hazel\\anaconda3\\Lib\\site-packages\\sklearn\\model_selection\\_search.py:909: DataConversionWarning: A column-vector y was passed when a 1d array was expected. Please change the shape of y to (n_samples,), for example using ravel().\n",
      "  self.best_estimator_.fit(X, y, **fit_params)\n",
      "C:\\Users\\hazel\\anaconda3\\Lib\\site-packages\\sklearn\\ensemble\\_forest.py:424: FutureWarning: `max_features='auto'` has been deprecated in 1.1 and will be removed in 1.3. To keep the past behaviour, explicitly set `max_features='sqrt'` or remove this parameter as it is also the default value for RandomForestClassifiers and ExtraTreesClassifiers.\n",
      "  warn(\n",
      "C:\\Users\\hazel\\anaconda3\\Lib\\site-packages\\sklearn\\metrics\\_classification.py:1344: UndefinedMetricWarning: Precision is ill-defined and being set to 0.0 in labels with no predicted samples. Use `zero_division` parameter to control this behavior.\n",
      "  _warn_prf(average, modifier, msg_start, len(result))\n"
     ]
    },
    {
     "data": {
      "text/html": [
       "<div>\n",
       "<style scoped>\n",
       "    .dataframe tbody tr th:only-of-type {\n",
       "        vertical-align: middle;\n",
       "    }\n",
       "\n",
       "    .dataframe tbody tr th {\n",
       "        vertical-align: top;\n",
       "    }\n",
       "\n",
       "    .dataframe thead th {\n",
       "        text-align: right;\n",
       "    }\n",
       "</style>\n",
       "<table border=\"1\" class=\"dataframe\">\n",
       "  <thead>\n",
       "    <tr style=\"text-align: right;\">\n",
       "      <th></th>\n",
       "      <th>Test Size</th>\n",
       "      <th>Random State</th>\n",
       "      <th>Accuracy</th>\n",
       "      <th>Precision</th>\n",
       "      <th>Recall</th>\n",
       "      <th>F1 Score</th>\n",
       "      <th>Best Param</th>\n",
       "    </tr>\n",
       "  </thead>\n",
       "  <tbody>\n",
       "    <tr>\n",
       "      <th>0</th>\n",
       "      <td>100</td>\n",
       "      <td>7</td>\n",
       "      <td>0.986791</td>\n",
       "      <td>0.973756</td>\n",
       "      <td>0.986791</td>\n",
       "      <td>0.98023</td>\n",
       "      <td>{'criterion': 'gini', 'max_features': 'auto', ...</td>\n",
       "    </tr>\n",
       "    <tr>\n",
       "      <th>1</th>\n",
       "      <td>100</td>\n",
       "      <td>69</td>\n",
       "      <td>0.986791</td>\n",
       "      <td>0.973756</td>\n",
       "      <td>0.986791</td>\n",
       "      <td>0.98023</td>\n",
       "      <td>{'criterion': 'gini', 'max_features': 'auto', ...</td>\n",
       "    </tr>\n",
       "    <tr>\n",
       "      <th>2</th>\n",
       "      <td>100</td>\n",
       "      <td>101</td>\n",
       "      <td>0.986791</td>\n",
       "      <td>0.973756</td>\n",
       "      <td>0.986791</td>\n",
       "      <td>0.98023</td>\n",
       "      <td>{'criterion': 'gini', 'max_features': 'auto', ...</td>\n",
       "    </tr>\n",
       "  </tbody>\n",
       "</table>\n",
       "</div>"
      ],
      "text/plain": [
       "   Test Size  Random State  Accuracy  Precision    Recall  F1 Score  \\\n",
       "0        100             7  0.986791   0.973756  0.986791   0.98023   \n",
       "1        100            69  0.986791   0.973756  0.986791   0.98023   \n",
       "2        100           101  0.986791   0.973756  0.986791   0.98023   \n",
       "\n",
       "                                          Best Param  \n",
       "0  {'criterion': 'gini', 'max_features': 'auto', ...  \n",
       "1  {'criterion': 'gini', 'max_features': 'auto', ...  \n",
       "2  {'criterion': 'gini', 'max_features': 'auto', ...  "
      ]
     },
     "execution_count": 33,
     "metadata": {},
     "output_type": "execute_result"
    }
   ],
   "source": [
    "tempB_SFB_imb = []\n",
    "\n",
    "y_train = df3_B_imb[['CGPA']]\n",
    "X_train = df3_B_imb[['Family Size', \"Parent's Education Level.Father\", \"Parent's Education Level.Mother\", \n",
    "                     \"Father's Occupation\", \"Mother's Occupation\", 'Financial Difficulties', 'Financial Support']]\n",
    "\n",
    "y_test = merge_B_imb[['CGPA']]\n",
    "X_test = merge_B_imb[['Family Size', \"Parent's Education Level.Father\", \"Parent's Education Level.Mother\", \n",
    "                     \"Father's Occupation\", \"Mother's Occupation\", 'Financial Difficulties', 'Financial Support']]\n",
    "\n",
    "for j in rand_states:\n",
    "    param_grid = {'n_estimators': [100, 200, 300, 400],\n",
    "                  'max_features': ['auto', 'sqrt', 'log2'],\n",
    "                  'criterion' :['gini', 'entropy']}\n",
    "\n",
    "    model = GridSearchCV(RandomForestClassifier(), param_grid, refit=True, n_jobs=-1, cv=10, verbose=1)\n",
    "    model.fit(X_train, y_train)\n",
    "    pred = model.predict(X_test)\n",
    "\n",
    "    acc = accuracy_score(y_test,pred)\n",
    "    pre = precision_score(y_test, pred, average='weighted')\n",
    "    recall = recall_score(y_test, pred, average='weighted')\n",
    "    f1 = f1_score(y_test, pred, average='weighted')\n",
    "    param = model.best_params_\n",
    "\n",
    "    tempB_SFB_imb.append([100,j,acc,pre,recall,f1,param])\n",
    "        \n",
    "dfB_SFB_imb = pd.DataFrame(columns=['Test Size','Random State','Accuracy','Precision','Recall','F1 Score','Best Param'],data=tempB_SFB_imb)\n",
    "dfB_SFB_imb"
   ]
  },
  {
   "cell_type": "code",
   "execution_count": 34,
   "id": "3511926c-b31a-41e8-a089-f53de40c8b89",
   "metadata": {},
   "outputs": [
    {
     "data": {
      "text/html": [
       "<div>\n",
       "<style scoped>\n",
       "    .dataframe tbody tr th:only-of-type {\n",
       "        vertical-align: middle;\n",
       "    }\n",
       "\n",
       "    .dataframe tbody tr th {\n",
       "        vertical-align: top;\n",
       "    }\n",
       "\n",
       "    .dataframe thead th {\n",
       "        text-align: right;\n",
       "    }\n",
       "</style>\n",
       "<table border=\"1\" class=\"dataframe\">\n",
       "  <thead>\n",
       "    <tr style=\"text-align: right;\">\n",
       "      <th></th>\n",
       "      <th>Accuracy</th>\n",
       "      <th>Precision</th>\n",
       "      <th>Recall</th>\n",
       "      <th>F1 Score</th>\n",
       "    </tr>\n",
       "    <tr>\n",
       "      <th>Test Size</th>\n",
       "      <th></th>\n",
       "      <th></th>\n",
       "      <th></th>\n",
       "      <th></th>\n",
       "    </tr>\n",
       "  </thead>\n",
       "  <tbody>\n",
       "    <tr>\n",
       "      <th>100</th>\n",
       "      <td>0.986791</td>\n",
       "      <td>0.973756</td>\n",
       "      <td>0.986791</td>\n",
       "      <td>0.98023</td>\n",
       "    </tr>\n",
       "  </tbody>\n",
       "</table>\n",
       "</div>"
      ],
      "text/plain": [
       "           Accuracy  Precision    Recall  F1 Score\n",
       "Test Size                                         \n",
       "100        0.986791   0.973756  0.986791   0.98023"
      ]
     },
     "execution_count": 34,
     "metadata": {},
     "output_type": "execute_result"
    }
   ],
   "source": [
    "dfB_SFB_imb.groupby('Test Size')[['Accuracy','Precision','Recall','F1 Score']].mean()"
   ]
  },
  {
   "cell_type": "code",
   "execution_count": 35,
   "id": "33f16131-d19d-49e5-84d2-5723ef3a241d",
   "metadata": {},
   "outputs": [
    {
     "name": "stdout",
     "output_type": "stream",
     "text": [
      "Imbalance Binary: Student Family Background\n",
      "\n",
      "{'criterion': 'gini', 'max_features': 'auto', 'n_estimators': 100}\n",
      "{'criterion': 'gini', 'max_features': 'auto', 'n_estimators': 100}\n",
      "{'criterion': 'gini', 'max_features': 'auto', 'n_estimators': 100}\n"
     ]
    }
   ],
   "source": [
    "print(\"Imbalance Binary: Student Family Background\\n\")\n",
    "for x in dfB_SFB_imb[\"Best Param\"]:\n",
    "    print(x)"
   ]
  },
  {
   "cell_type": "markdown",
   "id": "07a36faf-9fd9-4c0a-bb12-cba75f3190f1",
   "metadata": {},
   "source": [
    "### SFB after RandomOverSampler"
   ]
  },
  {
   "cell_type": "code",
   "execution_count": 36,
   "id": "158fd123-d54c-456b-af17-f9a863d44aec",
   "metadata": {},
   "outputs": [
    {
     "name": "stdout",
     "output_type": "stream",
     "text": [
      "Fitting 10 folds for each of 24 candidates, totalling 240 fits\n"
     ]
    },
    {
     "name": "stderr",
     "output_type": "stream",
     "text": [
      "C:\\Users\\hazel\\anaconda3\\Lib\\site-packages\\sklearn\\model_selection\\_search.py:909: DataConversionWarning: A column-vector y was passed when a 1d array was expected. Please change the shape of y to (n_samples,), for example using ravel().\n",
      "  self.best_estimator_.fit(X, y, **fit_params)\n",
      "C:\\Users\\hazel\\anaconda3\\Lib\\site-packages\\sklearn\\ensemble\\_forest.py:424: FutureWarning: `max_features='auto'` has been deprecated in 1.1 and will be removed in 1.3. To keep the past behaviour, explicitly set `max_features='sqrt'` or remove this parameter as it is also the default value for RandomForestClassifiers and ExtraTreesClassifiers.\n",
      "  warn(\n",
      "C:\\Users\\hazel\\anaconda3\\Lib\\site-packages\\sklearn\\metrics\\_classification.py:1344: UndefinedMetricWarning: Precision is ill-defined and being set to 0.0 in labels with no predicted samples. Use `zero_division` parameter to control this behavior.\n",
      "  _warn_prf(average, modifier, msg_start, len(result))\n"
     ]
    },
    {
     "name": "stdout",
     "output_type": "stream",
     "text": [
      "Fitting 10 folds for each of 24 candidates, totalling 240 fits\n"
     ]
    },
    {
     "name": "stderr",
     "output_type": "stream",
     "text": [
      "C:\\Users\\hazel\\anaconda3\\Lib\\site-packages\\sklearn\\model_selection\\_search.py:909: DataConversionWarning: A column-vector y was passed when a 1d array was expected. Please change the shape of y to (n_samples,), for example using ravel().\n",
      "  self.best_estimator_.fit(X, y, **fit_params)\n",
      "C:\\Users\\hazel\\anaconda3\\Lib\\site-packages\\sklearn\\ensemble\\_forest.py:424: FutureWarning: `max_features='auto'` has been deprecated in 1.1 and will be removed in 1.3. To keep the past behaviour, explicitly set `max_features='sqrt'` or remove this parameter as it is also the default value for RandomForestClassifiers and ExtraTreesClassifiers.\n",
      "  warn(\n",
      "C:\\Users\\hazel\\anaconda3\\Lib\\site-packages\\sklearn\\metrics\\_classification.py:1344: UndefinedMetricWarning: Precision is ill-defined and being set to 0.0 in labels with no predicted samples. Use `zero_division` parameter to control this behavior.\n",
      "  _warn_prf(average, modifier, msg_start, len(result))\n"
     ]
    },
    {
     "name": "stdout",
     "output_type": "stream",
     "text": [
      "Fitting 10 folds for each of 24 candidates, totalling 240 fits\n"
     ]
    },
    {
     "name": "stderr",
     "output_type": "stream",
     "text": [
      "C:\\Users\\hazel\\anaconda3\\Lib\\site-packages\\sklearn\\model_selection\\_search.py:909: DataConversionWarning: A column-vector y was passed when a 1d array was expected. Please change the shape of y to (n_samples,), for example using ravel().\n",
      "  self.best_estimator_.fit(X, y, **fit_params)\n",
      "C:\\Users\\hazel\\anaconda3\\Lib\\site-packages\\sklearn\\ensemble\\_forest.py:424: FutureWarning: `max_features='auto'` has been deprecated in 1.1 and will be removed in 1.3. To keep the past behaviour, explicitly set `max_features='sqrt'` or remove this parameter as it is also the default value for RandomForestClassifiers and ExtraTreesClassifiers.\n",
      "  warn(\n",
      "C:\\Users\\hazel\\anaconda3\\Lib\\site-packages\\sklearn\\metrics\\_classification.py:1344: UndefinedMetricWarning: Precision is ill-defined and being set to 0.0 in labels with no predicted samples. Use `zero_division` parameter to control this behavior.\n",
      "  _warn_prf(average, modifier, msg_start, len(result))\n"
     ]
    },
    {
     "data": {
      "text/html": [
       "<div>\n",
       "<style scoped>\n",
       "    .dataframe tbody tr th:only-of-type {\n",
       "        vertical-align: middle;\n",
       "    }\n",
       "\n",
       "    .dataframe tbody tr th {\n",
       "        vertical-align: top;\n",
       "    }\n",
       "\n",
       "    .dataframe thead th {\n",
       "        text-align: right;\n",
       "    }\n",
       "</style>\n",
       "<table border=\"1\" class=\"dataframe\">\n",
       "  <thead>\n",
       "    <tr style=\"text-align: right;\">\n",
       "      <th></th>\n",
       "      <th>Test Size</th>\n",
       "      <th>Random State</th>\n",
       "      <th>Accuracy</th>\n",
       "      <th>Precision</th>\n",
       "      <th>Recall</th>\n",
       "      <th>F1 Score</th>\n",
       "      <th>Best Param</th>\n",
       "    </tr>\n",
       "  </thead>\n",
       "  <tbody>\n",
       "    <tr>\n",
       "      <th>0</th>\n",
       "      <td>100</td>\n",
       "      <td>7</td>\n",
       "      <td>0.5</td>\n",
       "      <td>0.25</td>\n",
       "      <td>0.5</td>\n",
       "      <td>0.333333</td>\n",
       "      <td>{'criterion': 'gini', 'max_features': 'auto', ...</td>\n",
       "    </tr>\n",
       "    <tr>\n",
       "      <th>1</th>\n",
       "      <td>100</td>\n",
       "      <td>69</td>\n",
       "      <td>0.5</td>\n",
       "      <td>0.25</td>\n",
       "      <td>0.5</td>\n",
       "      <td>0.333333</td>\n",
       "      <td>{'criterion': 'gini', 'max_features': 'auto', ...</td>\n",
       "    </tr>\n",
       "    <tr>\n",
       "      <th>2</th>\n",
       "      <td>100</td>\n",
       "      <td>101</td>\n",
       "      <td>0.5</td>\n",
       "      <td>0.25</td>\n",
       "      <td>0.5</td>\n",
       "      <td>0.333333</td>\n",
       "      <td>{'criterion': 'gini', 'max_features': 'auto', ...</td>\n",
       "    </tr>\n",
       "  </tbody>\n",
       "</table>\n",
       "</div>"
      ],
      "text/plain": [
       "   Test Size  Random State  Accuracy  Precision  Recall  F1 Score  \\\n",
       "0        100             7       0.5       0.25     0.5  0.333333   \n",
       "1        100            69       0.5       0.25     0.5  0.333333   \n",
       "2        100           101       0.5       0.25     0.5  0.333333   \n",
       "\n",
       "                                          Best Param  \n",
       "0  {'criterion': 'gini', 'max_features': 'auto', ...  \n",
       "1  {'criterion': 'gini', 'max_features': 'auto', ...  \n",
       "2  {'criterion': 'gini', 'max_features': 'auto', ...  "
      ]
     },
     "execution_count": 36,
     "metadata": {},
     "output_type": "execute_result"
    }
   ],
   "source": [
    "tempB_SFB_ROS = []\n",
    "\n",
    "y_train = df3_B_ROS[['CGPA']]\n",
    "X_train = df3_B_ROS[['Family Size', \"Parent's Education Level.Father\", \"Parent's Education Level.Mother\", \n",
    "                     \"Father's Occupation\", \"Mother's Occupation\", 'Financial Difficulties', 'Financial Support']]\n",
    "\n",
    "y_test = merge_B_ROS[['CGPA']]\n",
    "X_test = merge_B_ROS[['Family Size', \"Parent's Education Level.Father\", \"Parent's Education Level.Mother\", \n",
    "                     \"Father's Occupation\", \"Mother's Occupation\", 'Financial Difficulties', 'Financial Support']]\n",
    "\n",
    "for j in rand_states:\n",
    "    param_grid = {'n_estimators': [100, 200, 300, 400],\n",
    "                  'max_features': ['auto', 'sqrt', 'log2'],\n",
    "                  'criterion' :['gini', 'entropy']}\n",
    "\n",
    "    model = GridSearchCV(RandomForestClassifier(), param_grid, refit=True, n_jobs=-1, cv=10, verbose=1)\n",
    "    model.fit(X_train, y_train)\n",
    "    pred = model.predict(X_test)\n",
    "\n",
    "    acc = accuracy_score(y_test,pred)\n",
    "    pre = precision_score(y_test, pred, average='weighted')\n",
    "    recall = recall_score(y_test, pred, average='weighted')\n",
    "    f1 = f1_score(y_test, pred, average='weighted')\n",
    "    param = model.best_params_\n",
    "\n",
    "    tempB_SFB_ROS.append([100,j,acc,pre,recall,f1,param])\n",
    "        \n",
    "dfB_SFB_ROS = pd.DataFrame(columns=['Test Size','Random State','Accuracy','Precision','Recall','F1 Score','Best Param'],data=tempB_SFB_ROS)\n",
    "dfB_SFB_ROS"
   ]
  },
  {
   "cell_type": "code",
   "execution_count": 37,
   "id": "2fb58230-cec8-45eb-b38f-384bc58ee2b3",
   "metadata": {},
   "outputs": [
    {
     "data": {
      "text/html": [
       "<div>\n",
       "<style scoped>\n",
       "    .dataframe tbody tr th:only-of-type {\n",
       "        vertical-align: middle;\n",
       "    }\n",
       "\n",
       "    .dataframe tbody tr th {\n",
       "        vertical-align: top;\n",
       "    }\n",
       "\n",
       "    .dataframe thead th {\n",
       "        text-align: right;\n",
       "    }\n",
       "</style>\n",
       "<table border=\"1\" class=\"dataframe\">\n",
       "  <thead>\n",
       "    <tr style=\"text-align: right;\">\n",
       "      <th></th>\n",
       "      <th>Accuracy</th>\n",
       "      <th>Precision</th>\n",
       "      <th>Recall</th>\n",
       "      <th>F1 Score</th>\n",
       "    </tr>\n",
       "    <tr>\n",
       "      <th>Test Size</th>\n",
       "      <th></th>\n",
       "      <th></th>\n",
       "      <th></th>\n",
       "      <th></th>\n",
       "    </tr>\n",
       "  </thead>\n",
       "  <tbody>\n",
       "    <tr>\n",
       "      <th>100</th>\n",
       "      <td>0.5</td>\n",
       "      <td>0.25</td>\n",
       "      <td>0.5</td>\n",
       "      <td>0.333333</td>\n",
       "    </tr>\n",
       "  </tbody>\n",
       "</table>\n",
       "</div>"
      ],
      "text/plain": [
       "           Accuracy  Precision  Recall  F1 Score\n",
       "Test Size                                       \n",
       "100             0.5       0.25     0.5  0.333333"
      ]
     },
     "execution_count": 37,
     "metadata": {},
     "output_type": "execute_result"
    }
   ],
   "source": [
    "dfB_SFB_ROS.groupby('Test Size')[['Accuracy','Precision','Recall','F1 Score']].mean()"
   ]
  },
  {
   "cell_type": "code",
   "execution_count": 38,
   "id": "69c85041-60f8-46b1-b4ea-7fbc7e27adae",
   "metadata": {},
   "outputs": [
    {
     "name": "stdout",
     "output_type": "stream",
     "text": [
      "Binary: Student Family Background\n",
      "\n",
      "{'criterion': 'gini', 'max_features': 'auto', 'n_estimators': 100}\n",
      "{'criterion': 'gini', 'max_features': 'auto', 'n_estimators': 100}\n",
      "{'criterion': 'gini', 'max_features': 'auto', 'n_estimators': 200}\n"
     ]
    }
   ],
   "source": [
    "print(\"Binary: Student Family Background\\n\")\n",
    "for x in dfB_SFB_ROS[\"Best Param\"]:\n",
    "    print(x)"
   ]
  },
  {
   "cell_type": "markdown",
   "id": "205453c3-183c-4246-9ef1-2e9d21cf32f9",
   "metadata": {},
   "source": [
    "### SFB after SMOTE"
   ]
  },
  {
   "cell_type": "code",
   "execution_count": 39,
   "id": "8739628a-d9cf-4ea6-bffc-07934f19dcd3",
   "metadata": {},
   "outputs": [
    {
     "name": "stdout",
     "output_type": "stream",
     "text": [
      "Fitting 10 folds for each of 24 candidates, totalling 240 fits\n"
     ]
    },
    {
     "name": "stderr",
     "output_type": "stream",
     "text": [
      "C:\\Users\\hazel\\anaconda3\\Lib\\site-packages\\sklearn\\model_selection\\_search.py:909: DataConversionWarning: A column-vector y was passed when a 1d array was expected. Please change the shape of y to (n_samples,), for example using ravel().\n",
      "  self.best_estimator_.fit(X, y, **fit_params)\n",
      "C:\\Users\\hazel\\anaconda3\\Lib\\site-packages\\sklearn\\ensemble\\_forest.py:424: FutureWarning: `max_features='auto'` has been deprecated in 1.1 and will be removed in 1.3. To keep the past behaviour, explicitly set `max_features='sqrt'` or remove this parameter as it is also the default value for RandomForestClassifiers and ExtraTreesClassifiers.\n",
      "  warn(\n"
     ]
    },
    {
     "name": "stdout",
     "output_type": "stream",
     "text": [
      "Fitting 10 folds for each of 24 candidates, totalling 240 fits\n"
     ]
    },
    {
     "name": "stderr",
     "output_type": "stream",
     "text": [
      "C:\\Users\\hazel\\anaconda3\\Lib\\site-packages\\sklearn\\model_selection\\_search.py:909: DataConversionWarning: A column-vector y was passed when a 1d array was expected. Please change the shape of y to (n_samples,), for example using ravel().\n",
      "  self.best_estimator_.fit(X, y, **fit_params)\n",
      "C:\\Users\\hazel\\anaconda3\\Lib\\site-packages\\sklearn\\ensemble\\_forest.py:424: FutureWarning: `max_features='auto'` has been deprecated in 1.1 and will be removed in 1.3. To keep the past behaviour, explicitly set `max_features='sqrt'` or remove this parameter as it is also the default value for RandomForestClassifiers and ExtraTreesClassifiers.\n",
      "  warn(\n"
     ]
    },
    {
     "name": "stdout",
     "output_type": "stream",
     "text": [
      "Fitting 10 folds for each of 24 candidates, totalling 240 fits\n"
     ]
    },
    {
     "name": "stderr",
     "output_type": "stream",
     "text": [
      "C:\\Users\\hazel\\anaconda3\\Lib\\site-packages\\sklearn\\model_selection\\_search.py:909: DataConversionWarning: A column-vector y was passed when a 1d array was expected. Please change the shape of y to (n_samples,), for example using ravel().\n",
      "  self.best_estimator_.fit(X, y, **fit_params)\n",
      "C:\\Users\\hazel\\anaconda3\\Lib\\site-packages\\sklearn\\ensemble\\_forest.py:424: FutureWarning: `max_features='auto'` has been deprecated in 1.1 and will be removed in 1.3. To keep the past behaviour, explicitly set `max_features='sqrt'` or remove this parameter as it is also the default value for RandomForestClassifiers and ExtraTreesClassifiers.\n",
      "  warn(\n"
     ]
    },
    {
     "data": {
      "text/html": [
       "<div>\n",
       "<style scoped>\n",
       "    .dataframe tbody tr th:only-of-type {\n",
       "        vertical-align: middle;\n",
       "    }\n",
       "\n",
       "    .dataframe tbody tr th {\n",
       "        vertical-align: top;\n",
       "    }\n",
       "\n",
       "    .dataframe thead th {\n",
       "        text-align: right;\n",
       "    }\n",
       "</style>\n",
       "<table border=\"1\" class=\"dataframe\">\n",
       "  <thead>\n",
       "    <tr style=\"text-align: right;\">\n",
       "      <th></th>\n",
       "      <th>Test Size</th>\n",
       "      <th>Random State</th>\n",
       "      <th>Accuracy</th>\n",
       "      <th>Precision</th>\n",
       "      <th>Recall</th>\n",
       "      <th>F1 Score</th>\n",
       "      <th>Best Param</th>\n",
       "    </tr>\n",
       "  </thead>\n",
       "  <tbody>\n",
       "    <tr>\n",
       "      <th>0</th>\n",
       "      <td>100</td>\n",
       "      <td>7</td>\n",
       "      <td>0.499213</td>\n",
       "      <td>0.249803</td>\n",
       "      <td>0.499213</td>\n",
       "      <td>0.332983</td>\n",
       "      <td>{'criterion': 'entropy', 'max_features': 'auto...</td>\n",
       "    </tr>\n",
       "    <tr>\n",
       "      <th>1</th>\n",
       "      <td>100</td>\n",
       "      <td>69</td>\n",
       "      <td>0.499213</td>\n",
       "      <td>0.249803</td>\n",
       "      <td>0.499213</td>\n",
       "      <td>0.332983</td>\n",
       "      <td>{'criterion': 'gini', 'max_features': 'auto', ...</td>\n",
       "    </tr>\n",
       "    <tr>\n",
       "      <th>2</th>\n",
       "      <td>100</td>\n",
       "      <td>101</td>\n",
       "      <td>0.499213</td>\n",
       "      <td>0.249803</td>\n",
       "      <td>0.499213</td>\n",
       "      <td>0.332983</td>\n",
       "      <td>{'criterion': 'gini', 'max_features': 'auto', ...</td>\n",
       "    </tr>\n",
       "  </tbody>\n",
       "</table>\n",
       "</div>"
      ],
      "text/plain": [
       "   Test Size  Random State  Accuracy  Precision    Recall  F1 Score  \\\n",
       "0        100             7  0.499213   0.249803  0.499213  0.332983   \n",
       "1        100            69  0.499213   0.249803  0.499213  0.332983   \n",
       "2        100           101  0.499213   0.249803  0.499213  0.332983   \n",
       "\n",
       "                                          Best Param  \n",
       "0  {'criterion': 'entropy', 'max_features': 'auto...  \n",
       "1  {'criterion': 'gini', 'max_features': 'auto', ...  \n",
       "2  {'criterion': 'gini', 'max_features': 'auto', ...  "
      ]
     },
     "execution_count": 39,
     "metadata": {},
     "output_type": "execute_result"
    }
   ],
   "source": [
    "tempB_SFB_SMOTE = []\n",
    "\n",
    "y_train = df3_B_SMOTE[['CGPA']]\n",
    "X_train = df3_B_SMOTE[['Family Size', \"Parent's Education Level.Father\", \"Parent's Education Level.Mother\", \n",
    "                     \"Father's Occupation\", \"Mother's Occupation\", 'Financial Difficulties', 'Financial Support']]\n",
    "\n",
    "y_test = merge_B_SMOTE[['CGPA']]\n",
    "X_test = merge_B_SMOTE[['Family Size', \"Parent's Education Level.Father\", \"Parent's Education Level.Mother\", \n",
    "                     \"Father's Occupation\", \"Mother's Occupation\", 'Financial Difficulties', 'Financial Support']]\n",
    "\n",
    "for j in rand_states:\n",
    "    param_grid = {'n_estimators': [100, 200, 300, 400],\n",
    "                  'max_features': ['auto', 'sqrt', 'log2'],\n",
    "                  'criterion' :['gini', 'entropy']}\n",
    "\n",
    "    model = GridSearchCV(RandomForestClassifier(), param_grid, refit=True, n_jobs=-1, cv=10, verbose=1)\n",
    "    model.fit(X_train, y_train)\n",
    "    pred = model.predict(X_test)\n",
    "\n",
    "    acc = accuracy_score(y_test,pred)\n",
    "    pre = precision_score(y_test, pred, average='weighted')\n",
    "    recall = recall_score(y_test, pred, average='weighted')\n",
    "    f1 = f1_score(y_test, pred, average='weighted')\n",
    "    param = model.best_params_\n",
    "\n",
    "    tempB_SFB_SMOTE.append([100,j,acc,pre,recall,f1,param])\n",
    "        \n",
    "dfB_SFB_SMOTE = pd.DataFrame(columns=['Test Size','Random State','Accuracy','Precision','Recall','F1 Score','Best Param'],data=tempB_SFB_SMOTE)\n",
    "dfB_SFB_SMOTE"
   ]
  },
  {
   "cell_type": "code",
   "execution_count": 40,
   "id": "13de4477-6512-400c-96cc-22f0141b117b",
   "metadata": {},
   "outputs": [
    {
     "data": {
      "text/html": [
       "<div>\n",
       "<style scoped>\n",
       "    .dataframe tbody tr th:only-of-type {\n",
       "        vertical-align: middle;\n",
       "    }\n",
       "\n",
       "    .dataframe tbody tr th {\n",
       "        vertical-align: top;\n",
       "    }\n",
       "\n",
       "    .dataframe thead th {\n",
       "        text-align: right;\n",
       "    }\n",
       "</style>\n",
       "<table border=\"1\" class=\"dataframe\">\n",
       "  <thead>\n",
       "    <tr style=\"text-align: right;\">\n",
       "      <th></th>\n",
       "      <th>Accuracy</th>\n",
       "      <th>Precision</th>\n",
       "      <th>Recall</th>\n",
       "      <th>F1 Score</th>\n",
       "    </tr>\n",
       "    <tr>\n",
       "      <th>Test Size</th>\n",
       "      <th></th>\n",
       "      <th></th>\n",
       "      <th></th>\n",
       "      <th></th>\n",
       "    </tr>\n",
       "  </thead>\n",
       "  <tbody>\n",
       "    <tr>\n",
       "      <th>100</th>\n",
       "      <td>0.499213</td>\n",
       "      <td>0.249803</td>\n",
       "      <td>0.499213</td>\n",
       "      <td>0.332983</td>\n",
       "    </tr>\n",
       "  </tbody>\n",
       "</table>\n",
       "</div>"
      ],
      "text/plain": [
       "           Accuracy  Precision    Recall  F1 Score\n",
       "Test Size                                         \n",
       "100        0.499213   0.249803  0.499213  0.332983"
      ]
     },
     "execution_count": 40,
     "metadata": {},
     "output_type": "execute_result"
    }
   ],
   "source": [
    "dfB_SFB_SMOTE.groupby('Test Size')[['Accuracy','Precision','Recall','F1 Score']].mean()"
   ]
  },
  {
   "cell_type": "code",
   "execution_count": 41,
   "id": "d38ac000-969c-4fea-87dc-02e00b53ba9e",
   "metadata": {},
   "outputs": [
    {
     "name": "stdout",
     "output_type": "stream",
     "text": [
      "SMOTE Binary: Student Family Background\n",
      "\n",
      "{'criterion': 'entropy', 'max_features': 'auto', 'n_estimators': 200}\n",
      "{'criterion': 'gini', 'max_features': 'auto', 'n_estimators': 300}\n",
      "{'criterion': 'gini', 'max_features': 'auto', 'n_estimators': 100}\n"
     ]
    }
   ],
   "source": [
    "print(\"SMOTE Binary: Student Family Background\\n\")\n",
    "for x in dfB_SFB_SMOTE[\"Best Param\"]:\n",
    "    print(x)"
   ]
  },
  {
   "cell_type": "markdown",
   "id": "c7bde244-0f23-46fe-b42b-81bba162517f",
   "metadata": {},
   "source": [
    "## Student Lifestyle"
   ]
  },
  {
   "cell_type": "markdown",
   "id": "906027e2-3dc9-4e2e-9ba5-b03c722a313e",
   "metadata": {},
   "source": [
    "### SL before Data Balancing"
   ]
  },
  {
   "cell_type": "code",
   "execution_count": 42,
   "id": "bc02b864-3566-49cf-b67c-ca20868b72fc",
   "metadata": {},
   "outputs": [],
   "source": [
    "df3_B_imb.rename(columns={\"Dating\": \"Relationship Status\"}, inplace=True)\n",
    "df3_B_imb.rename(columns={\"Study Behaviour\": \"Study Behavior\"}, inplace=True)\n",
    "df3_B_imb.rename(columns={\"I have enough free time after class.\": \"I have enough free time after class\"}, inplace=True)\n",
    "df3_B_imb.rename(columns={\"I hang out with friends.\": \"I hang out with friends\"}, inplace=True)\n",
    "\n",
    "df3_B_ROS.rename(columns={\"Dating\": \"Relationship Status\"}, inplace=True)\n",
    "df3_B_ROS.rename(columns={\"Study Behaviour\": \"Study Behavior\"}, inplace=True)\n",
    "df3_B_ROS.rename(columns={\"I have enough free time after class.\": \"I have enough free time after class\"}, inplace=True)\n",
    "df3_B_ROS.rename(columns={\"I hang out with friends.\": \"I hang out with friends\"}, inplace=True)\n",
    "\n",
    "df3_B_SMOTE.rename(columns={\"Dating\": \"Relationship Status\"}, inplace=True)\n",
    "df3_B_SMOTE.rename(columns={\"Study Behaviour\": \"Study Behavior\"}, inplace=True)\n",
    "df3_B_SMOTE.rename(columns={\"I have enough free time after class.\": \"I have enough free time after class\"}, inplace=True)\n",
    "df3_B_SMOTE.rename(columns={\"I hang out with friends.\": \"I hang out with friends\"}, inplace=True)"
   ]
  },
  {
   "cell_type": "code",
   "execution_count": 43,
   "id": "b8174be9-d2c2-476f-b03a-e18ad2309bd1",
   "metadata": {},
   "outputs": [
    {
     "name": "stdout",
     "output_type": "stream",
     "text": [
      "Fitting 10 folds for each of 24 candidates, totalling 240 fits\n"
     ]
    },
    {
     "name": "stderr",
     "output_type": "stream",
     "text": [
      "C:\\Users\\hazel\\anaconda3\\Lib\\site-packages\\sklearn\\model_selection\\_search.py:909: DataConversionWarning: A column-vector y was passed when a 1d array was expected. Please change the shape of y to (n_samples,), for example using ravel().\n",
      "  self.best_estimator_.fit(X, y, **fit_params)\n",
      "C:\\Users\\hazel\\anaconda3\\Lib\\site-packages\\sklearn\\ensemble\\_forest.py:424: FutureWarning: `max_features='auto'` has been deprecated in 1.1 and will be removed in 1.3. To keep the past behaviour, explicitly set `max_features='sqrt'` or remove this parameter as it is also the default value for RandomForestClassifiers and ExtraTreesClassifiers.\n",
      "  warn(\n",
      "C:\\Users\\hazel\\anaconda3\\Lib\\site-packages\\sklearn\\metrics\\_classification.py:1344: UndefinedMetricWarning: Precision is ill-defined and being set to 0.0 in labels with no predicted samples. Use `zero_division` parameter to control this behavior.\n",
      "  _warn_prf(average, modifier, msg_start, len(result))\n"
     ]
    },
    {
     "name": "stdout",
     "output_type": "stream",
     "text": [
      "Fitting 10 folds for each of 24 candidates, totalling 240 fits\n"
     ]
    },
    {
     "name": "stderr",
     "output_type": "stream",
     "text": [
      "C:\\Users\\hazel\\anaconda3\\Lib\\site-packages\\sklearn\\model_selection\\_search.py:909: DataConversionWarning: A column-vector y was passed when a 1d array was expected. Please change the shape of y to (n_samples,), for example using ravel().\n",
      "  self.best_estimator_.fit(X, y, **fit_params)\n",
      "C:\\Users\\hazel\\anaconda3\\Lib\\site-packages\\sklearn\\ensemble\\_forest.py:424: FutureWarning: `max_features='auto'` has been deprecated in 1.1 and will be removed in 1.3. To keep the past behaviour, explicitly set `max_features='sqrt'` or remove this parameter as it is also the default value for RandomForestClassifiers and ExtraTreesClassifiers.\n",
      "  warn(\n",
      "C:\\Users\\hazel\\anaconda3\\Lib\\site-packages\\sklearn\\metrics\\_classification.py:1344: UndefinedMetricWarning: Precision is ill-defined and being set to 0.0 in labels with no predicted samples. Use `zero_division` parameter to control this behavior.\n",
      "  _warn_prf(average, modifier, msg_start, len(result))\n"
     ]
    },
    {
     "name": "stdout",
     "output_type": "stream",
     "text": [
      "Fitting 10 folds for each of 24 candidates, totalling 240 fits\n"
     ]
    },
    {
     "name": "stderr",
     "output_type": "stream",
     "text": [
      "C:\\Users\\hazel\\anaconda3\\Lib\\site-packages\\sklearn\\model_selection\\_search.py:909: DataConversionWarning: A column-vector y was passed when a 1d array was expected. Please change the shape of y to (n_samples,), for example using ravel().\n",
      "  self.best_estimator_.fit(X, y, **fit_params)\n",
      "C:\\Users\\hazel\\anaconda3\\Lib\\site-packages\\sklearn\\ensemble\\_forest.py:424: FutureWarning: `max_features='auto'` has been deprecated in 1.1 and will be removed in 1.3. To keep the past behaviour, explicitly set `max_features='sqrt'` or remove this parameter as it is also the default value for RandomForestClassifiers and ExtraTreesClassifiers.\n",
      "  warn(\n",
      "C:\\Users\\hazel\\anaconda3\\Lib\\site-packages\\sklearn\\metrics\\_classification.py:1344: UndefinedMetricWarning: Precision is ill-defined and being set to 0.0 in labels with no predicted samples. Use `zero_division` parameter to control this behavior.\n",
      "  _warn_prf(average, modifier, msg_start, len(result))\n"
     ]
    },
    {
     "data": {
      "text/html": [
       "<div>\n",
       "<style scoped>\n",
       "    .dataframe tbody tr th:only-of-type {\n",
       "        vertical-align: middle;\n",
       "    }\n",
       "\n",
       "    .dataframe tbody tr th {\n",
       "        vertical-align: top;\n",
       "    }\n",
       "\n",
       "    .dataframe thead th {\n",
       "        text-align: right;\n",
       "    }\n",
       "</style>\n",
       "<table border=\"1\" class=\"dataframe\">\n",
       "  <thead>\n",
       "    <tr style=\"text-align: right;\">\n",
       "      <th></th>\n",
       "      <th>Test Size</th>\n",
       "      <th>Random State</th>\n",
       "      <th>Accuracy</th>\n",
       "      <th>Precision</th>\n",
       "      <th>Recall</th>\n",
       "      <th>F1 Score</th>\n",
       "      <th>Best Param</th>\n",
       "    </tr>\n",
       "  </thead>\n",
       "  <tbody>\n",
       "    <tr>\n",
       "      <th>0</th>\n",
       "      <td>100</td>\n",
       "      <td>7</td>\n",
       "      <td>0.986791</td>\n",
       "      <td>0.973756</td>\n",
       "      <td>0.986791</td>\n",
       "      <td>0.98023</td>\n",
       "      <td>{'criterion': 'gini', 'max_features': 'auto', ...</td>\n",
       "    </tr>\n",
       "    <tr>\n",
       "      <th>1</th>\n",
       "      <td>100</td>\n",
       "      <td>69</td>\n",
       "      <td>0.986791</td>\n",
       "      <td>0.973756</td>\n",
       "      <td>0.986791</td>\n",
       "      <td>0.98023</td>\n",
       "      <td>{'criterion': 'gini', 'max_features': 'auto', ...</td>\n",
       "    </tr>\n",
       "    <tr>\n",
       "      <th>2</th>\n",
       "      <td>100</td>\n",
       "      <td>101</td>\n",
       "      <td>0.986791</td>\n",
       "      <td>0.973756</td>\n",
       "      <td>0.986791</td>\n",
       "      <td>0.98023</td>\n",
       "      <td>{'criterion': 'gini', 'max_features': 'auto', ...</td>\n",
       "    </tr>\n",
       "  </tbody>\n",
       "</table>\n",
       "</div>"
      ],
      "text/plain": [
       "   Test Size  Random State  Accuracy  Precision    Recall  F1 Score  \\\n",
       "0        100             7  0.986791   0.973756  0.986791   0.98023   \n",
       "1        100            69  0.986791   0.973756  0.986791   0.98023   \n",
       "2        100           101  0.986791   0.973756  0.986791   0.98023   \n",
       "\n",
       "                                          Best Param  \n",
       "0  {'criterion': 'gini', 'max_features': 'auto', ...  \n",
       "1  {'criterion': 'gini', 'max_features': 'auto', ...  \n",
       "2  {'criterion': 'gini', 'max_features': 'auto', ...  "
      ]
     },
     "execution_count": 43,
     "metadata": {},
     "output_type": "execute_result"
    }
   ],
   "source": [
    "tempB_SL_imb = []\n",
    "\n",
    "y_train = df3_B_imb[['CGPA']]\n",
    "X_train = df3_B_imb[['Relationship Status', 'Scholarship', 'PTPTN', 'Skipping Class', 'Additional Course',\n",
    "                    'Study Behavior', 'Study Time', 'Extra Curricular Activities', 'Part-time Job', 'Commute Time',\n",
    "                    'Gaming', 'Alcohol Consumption', 'I have enough free time after class', 'Social Interaction',\n",
    "                    'I hang out with friends']]\n",
    "\n",
    "y_test = merge_B_imb[['CGPA']]\n",
    "X_test = merge_B_imb[['Relationship Status', 'Scholarship', 'PTPTN', 'Skipping Class', 'Additional Course',\n",
    "                    'Study Behavior', 'Study Time', 'Extra Curricular Activities', 'Part-time Job', 'Commute Time',\n",
    "                    'Gaming', 'Alcohol Consumption', 'I have enough free time after class', 'Social Interaction',\n",
    "                    'I hang out with friends']]\n",
    "\n",
    "for j in rand_states:\n",
    "    param_grid = {'n_estimators': [100, 200, 300, 400],\n",
    "                  'max_features': ['auto', 'sqrt', 'log2'],\n",
    "                  'criterion' :['gini', 'entropy']}\n",
    "\n",
    "    model = GridSearchCV(RandomForestClassifier(), param_grid, refit=True, n_jobs=-1, cv=10, verbose=1)\n",
    "    model.fit(X_train, y_train)\n",
    "    pred = model.predict(X_test)\n",
    "\n",
    "    acc = accuracy_score(y_test,pred)\n",
    "    pre = precision_score(y_test, pred, average='weighted')\n",
    "    recall = recall_score(y_test, pred, average='weighted')\n",
    "    f1 = f1_score(y_test, pred, average='weighted')\n",
    "    param = model.best_params_\n",
    "\n",
    "    tempB_SL_imb.append([100,j,acc,pre,recall,f1,param])\n",
    "        \n",
    "dfB_SL_imb = pd.DataFrame(columns=['Test Size','Random State','Accuracy','Precision','Recall','F1 Score','Best Param'],data=tempB_SL_imb)\n",
    "dfB_SL_imb"
   ]
  },
  {
   "cell_type": "code",
   "execution_count": 44,
   "id": "27dfd25c-02e3-49f8-b24d-8cbbd977ef5e",
   "metadata": {},
   "outputs": [
    {
     "data": {
      "text/html": [
       "<div>\n",
       "<style scoped>\n",
       "    .dataframe tbody tr th:only-of-type {\n",
       "        vertical-align: middle;\n",
       "    }\n",
       "\n",
       "    .dataframe tbody tr th {\n",
       "        vertical-align: top;\n",
       "    }\n",
       "\n",
       "    .dataframe thead th {\n",
       "        text-align: right;\n",
       "    }\n",
       "</style>\n",
       "<table border=\"1\" class=\"dataframe\">\n",
       "  <thead>\n",
       "    <tr style=\"text-align: right;\">\n",
       "      <th></th>\n",
       "      <th>Accuracy</th>\n",
       "      <th>Precision</th>\n",
       "      <th>Recall</th>\n",
       "      <th>F1 Score</th>\n",
       "    </tr>\n",
       "    <tr>\n",
       "      <th>Test Size</th>\n",
       "      <th></th>\n",
       "      <th></th>\n",
       "      <th></th>\n",
       "      <th></th>\n",
       "    </tr>\n",
       "  </thead>\n",
       "  <tbody>\n",
       "    <tr>\n",
       "      <th>100</th>\n",
       "      <td>0.986791</td>\n",
       "      <td>0.973756</td>\n",
       "      <td>0.986791</td>\n",
       "      <td>0.98023</td>\n",
       "    </tr>\n",
       "  </tbody>\n",
       "</table>\n",
       "</div>"
      ],
      "text/plain": [
       "           Accuracy  Precision    Recall  F1 Score\n",
       "Test Size                                         \n",
       "100        0.986791   0.973756  0.986791   0.98023"
      ]
     },
     "execution_count": 44,
     "metadata": {},
     "output_type": "execute_result"
    }
   ],
   "source": [
    "dfB_SL_imb.groupby('Test Size')[['Accuracy','Precision','Recall','F1 Score']].mean()"
   ]
  },
  {
   "cell_type": "code",
   "execution_count": 45,
   "id": "7dd0761d-68af-42ba-8240-bbd3902c2f63",
   "metadata": {},
   "outputs": [
    {
     "name": "stdout",
     "output_type": "stream",
     "text": [
      "Imbalance Binary: Student Lifestyle\n",
      "\n",
      "{'criterion': 'gini', 'max_features': 'auto', 'n_estimators': 100}\n",
      "{'criterion': 'gini', 'max_features': 'auto', 'n_estimators': 100}\n",
      "{'criterion': 'gini', 'max_features': 'auto', 'n_estimators': 100}\n"
     ]
    }
   ],
   "source": [
    "print(\"Imbalance Binary: Student Lifestyle\\n\")\n",
    "for x in dfB_SL_imb[\"Best Param\"]:\n",
    "    print(x)"
   ]
  },
  {
   "cell_type": "markdown",
   "id": "624d5787-8870-47e3-9fd7-00fa6f0ef5ef",
   "metadata": {},
   "source": [
    "### SL after RandomOverSampler"
   ]
  },
  {
   "cell_type": "code",
   "execution_count": 46,
   "id": "dab98ade-ff13-4ab1-a51f-832fcd70dae6",
   "metadata": {},
   "outputs": [
    {
     "name": "stdout",
     "output_type": "stream",
     "text": [
      "Fitting 10 folds for each of 24 candidates, totalling 240 fits\n"
     ]
    },
    {
     "name": "stderr",
     "output_type": "stream",
     "text": [
      "C:\\Users\\hazel\\anaconda3\\Lib\\site-packages\\sklearn\\model_selection\\_search.py:909: DataConversionWarning: A column-vector y was passed when a 1d array was expected. Please change the shape of y to (n_samples,), for example using ravel().\n",
      "  self.best_estimator_.fit(X, y, **fit_params)\n",
      "C:\\Users\\hazel\\anaconda3\\Lib\\site-packages\\sklearn\\ensemble\\_forest.py:424: FutureWarning: `max_features='auto'` has been deprecated in 1.1 and will be removed in 1.3. To keep the past behaviour, explicitly set `max_features='sqrt'` or remove this parameter as it is also the default value for RandomForestClassifiers and ExtraTreesClassifiers.\n",
      "  warn(\n"
     ]
    },
    {
     "name": "stdout",
     "output_type": "stream",
     "text": [
      "Fitting 10 folds for each of 24 candidates, totalling 240 fits\n"
     ]
    },
    {
     "name": "stderr",
     "output_type": "stream",
     "text": [
      "C:\\Users\\hazel\\anaconda3\\Lib\\site-packages\\sklearn\\model_selection\\_search.py:909: DataConversionWarning: A column-vector y was passed when a 1d array was expected. Please change the shape of y to (n_samples,), for example using ravel().\n",
      "  self.best_estimator_.fit(X, y, **fit_params)\n",
      "C:\\Users\\hazel\\anaconda3\\Lib\\site-packages\\sklearn\\ensemble\\_forest.py:424: FutureWarning: `max_features='auto'` has been deprecated in 1.1 and will be removed in 1.3. To keep the past behaviour, explicitly set `max_features='sqrt'` or remove this parameter as it is also the default value for RandomForestClassifiers and ExtraTreesClassifiers.\n",
      "  warn(\n"
     ]
    },
    {
     "name": "stdout",
     "output_type": "stream",
     "text": [
      "Fitting 10 folds for each of 24 candidates, totalling 240 fits\n"
     ]
    },
    {
     "name": "stderr",
     "output_type": "stream",
     "text": [
      "C:\\Users\\hazel\\anaconda3\\Lib\\site-packages\\sklearn\\model_selection\\_search.py:909: DataConversionWarning: A column-vector y was passed when a 1d array was expected. Please change the shape of y to (n_samples,), for example using ravel().\n",
      "  self.best_estimator_.fit(X, y, **fit_params)\n",
      "C:\\Users\\hazel\\anaconda3\\Lib\\site-packages\\sklearn\\ensemble\\_forest.py:424: FutureWarning: `max_features='auto'` has been deprecated in 1.1 and will be removed in 1.3. To keep the past behaviour, explicitly set `max_features='sqrt'` or remove this parameter as it is also the default value for RandomForestClassifiers and ExtraTreesClassifiers.\n",
      "  warn(\n"
     ]
    },
    {
     "data": {
      "text/html": [
       "<div>\n",
       "<style scoped>\n",
       "    .dataframe tbody tr th:only-of-type {\n",
       "        vertical-align: middle;\n",
       "    }\n",
       "\n",
       "    .dataframe tbody tr th {\n",
       "        vertical-align: top;\n",
       "    }\n",
       "\n",
       "    .dataframe thead th {\n",
       "        text-align: right;\n",
       "    }\n",
       "</style>\n",
       "<table border=\"1\" class=\"dataframe\">\n",
       "  <thead>\n",
       "    <tr style=\"text-align: right;\">\n",
       "      <th></th>\n",
       "      <th>Test Size</th>\n",
       "      <th>Random State</th>\n",
       "      <th>Accuracy</th>\n",
       "      <th>Precision</th>\n",
       "      <th>Recall</th>\n",
       "      <th>F1 Score</th>\n",
       "      <th>Best Param</th>\n",
       "    </tr>\n",
       "  </thead>\n",
       "  <tbody>\n",
       "    <tr>\n",
       "      <th>0</th>\n",
       "      <td>100</td>\n",
       "      <td>7</td>\n",
       "      <td>0.499213</td>\n",
       "      <td>0.249803</td>\n",
       "      <td>0.499213</td>\n",
       "      <td>0.332983</td>\n",
       "      <td>{'criterion': 'gini', 'max_features': 'auto', ...</td>\n",
       "    </tr>\n",
       "    <tr>\n",
       "      <th>1</th>\n",
       "      <td>100</td>\n",
       "      <td>69</td>\n",
       "      <td>0.499213</td>\n",
       "      <td>0.249803</td>\n",
       "      <td>0.499213</td>\n",
       "      <td>0.332983</td>\n",
       "      <td>{'criterion': 'gini', 'max_features': 'auto', ...</td>\n",
       "    </tr>\n",
       "    <tr>\n",
       "      <th>2</th>\n",
       "      <td>100</td>\n",
       "      <td>101</td>\n",
       "      <td>0.499606</td>\n",
       "      <td>0.249902</td>\n",
       "      <td>0.499606</td>\n",
       "      <td>0.333158</td>\n",
       "      <td>{'criterion': 'gini', 'max_features': 'auto', ...</td>\n",
       "    </tr>\n",
       "  </tbody>\n",
       "</table>\n",
       "</div>"
      ],
      "text/plain": [
       "   Test Size  Random State  Accuracy  Precision    Recall  F1 Score  \\\n",
       "0        100             7  0.499213   0.249803  0.499213  0.332983   \n",
       "1        100            69  0.499213   0.249803  0.499213  0.332983   \n",
       "2        100           101  0.499606   0.249902  0.499606  0.333158   \n",
       "\n",
       "                                          Best Param  \n",
       "0  {'criterion': 'gini', 'max_features': 'auto', ...  \n",
       "1  {'criterion': 'gini', 'max_features': 'auto', ...  \n",
       "2  {'criterion': 'gini', 'max_features': 'auto', ...  "
      ]
     },
     "execution_count": 46,
     "metadata": {},
     "output_type": "execute_result"
    }
   ],
   "source": [
    "tempB_SL_ROS = []\n",
    "\n",
    "y_train = df3_B_ROS[['CGPA']]\n",
    "X_train = df3_B_ROS[['Relationship Status', 'Scholarship', 'PTPTN', 'Skipping Class', 'Additional Course',\n",
    "                    'Study Behavior', 'Study Time', 'Extra Curricular Activities', 'Part-time Job', 'Commute Time',\n",
    "                    'Gaming', 'Alcohol Consumption', 'I have enough free time after class', 'Social Interaction',\n",
    "                    'I hang out with friends']]\n",
    "\n",
    "y_test = merge_B_ROS[['CGPA']]\n",
    "X_test = merge_B_ROS[['Relationship Status', 'Scholarship', 'PTPTN', 'Skipping Class', 'Additional Course',\n",
    "                    'Study Behavior', 'Study Time', 'Extra Curricular Activities', 'Part-time Job', 'Commute Time',\n",
    "                    'Gaming', 'Alcohol Consumption', 'I have enough free time after class', 'Social Interaction',\n",
    "                    'I hang out with friends']]\n",
    "\n",
    "for j in rand_states:\n",
    "    param_grid = {'n_estimators': [100, 200, 300, 400],\n",
    "                  'max_features': ['auto', 'sqrt', 'log2'],\n",
    "                  'criterion' :['gini', 'entropy']}\n",
    "\n",
    "    model = GridSearchCV(RandomForestClassifier(), param_grid, refit=True, n_jobs=-1, cv=10, verbose=1)\n",
    "    model.fit(X_train, y_train)\n",
    "    pred = model.predict(X_test)\n",
    "\n",
    "    acc = accuracy_score(y_test,pred)\n",
    "    pre = precision_score(y_test, pred, average='weighted')\n",
    "    recall = recall_score(y_test, pred, average='weighted')\n",
    "    f1 = f1_score(y_test, pred, average='weighted')\n",
    "    param = model.best_params_\n",
    "\n",
    "    tempB_SL_ROS.append([100,j,acc,pre,recall,f1,param])\n",
    "        \n",
    "dfB_SL_ROS = pd.DataFrame(columns=['Test Size','Random State','Accuracy','Precision','Recall','F1 Score','Best Param'],data=tempB_SL_ROS)\n",
    "dfB_SL_ROS"
   ]
  },
  {
   "cell_type": "code",
   "execution_count": 47,
   "id": "3cdcbaf9-d2e1-4b36-97a9-bf0cd08640c9",
   "metadata": {},
   "outputs": [
    {
     "data": {
      "text/html": [
       "<div>\n",
       "<style scoped>\n",
       "    .dataframe tbody tr th:only-of-type {\n",
       "        vertical-align: middle;\n",
       "    }\n",
       "\n",
       "    .dataframe tbody tr th {\n",
       "        vertical-align: top;\n",
       "    }\n",
       "\n",
       "    .dataframe thead th {\n",
       "        text-align: right;\n",
       "    }\n",
       "</style>\n",
       "<table border=\"1\" class=\"dataframe\">\n",
       "  <thead>\n",
       "    <tr style=\"text-align: right;\">\n",
       "      <th></th>\n",
       "      <th>Accuracy</th>\n",
       "      <th>Precision</th>\n",
       "      <th>Recall</th>\n",
       "      <th>F1 Score</th>\n",
       "    </tr>\n",
       "    <tr>\n",
       "      <th>Test Size</th>\n",
       "      <th></th>\n",
       "      <th></th>\n",
       "      <th></th>\n",
       "      <th></th>\n",
       "    </tr>\n",
       "  </thead>\n",
       "  <tbody>\n",
       "    <tr>\n",
       "      <th>100</th>\n",
       "      <td>0.499344</td>\n",
       "      <td>0.249836</td>\n",
       "      <td>0.499344</td>\n",
       "      <td>0.333042</td>\n",
       "    </tr>\n",
       "  </tbody>\n",
       "</table>\n",
       "</div>"
      ],
      "text/plain": [
       "           Accuracy  Precision    Recall  F1 Score\n",
       "Test Size                                         \n",
       "100        0.499344   0.249836  0.499344  0.333042"
      ]
     },
     "execution_count": 47,
     "metadata": {},
     "output_type": "execute_result"
    }
   ],
   "source": [
    "dfB_SL_ROS.groupby('Test Size')[['Accuracy','Precision','Recall','F1 Score']].mean()"
   ]
  },
  {
   "cell_type": "code",
   "execution_count": 48,
   "id": "231a53b8-1153-4830-a45b-e140b2a4e732",
   "metadata": {},
   "outputs": [
    {
     "name": "stdout",
     "output_type": "stream",
     "text": [
      "Binary: Student Lifestyle\n",
      "\n",
      "{'criterion': 'gini', 'max_features': 'auto', 'n_estimators': 100}\n",
      "{'criterion': 'gini', 'max_features': 'auto', 'n_estimators': 100}\n",
      "{'criterion': 'gini', 'max_features': 'auto', 'n_estimators': 200}\n"
     ]
    }
   ],
   "source": [
    "print(\"Binary: Student Lifestyle\\n\")\n",
    "for x in dfB_SL_ROS[\"Best Param\"]:\n",
    "    print(x)"
   ]
  },
  {
   "cell_type": "markdown",
   "id": "4a70b3b8-5439-458b-b0d2-636227dceba2",
   "metadata": {},
   "source": [
    "### SL after SMOTE"
   ]
  },
  {
   "cell_type": "code",
   "execution_count": 49,
   "id": "60273da0-2cb0-48ec-b621-bf5a1115fbe8",
   "metadata": {},
   "outputs": [
    {
     "name": "stdout",
     "output_type": "stream",
     "text": [
      "Fitting 10 folds for each of 24 candidates, totalling 240 fits\n"
     ]
    },
    {
     "name": "stderr",
     "output_type": "stream",
     "text": [
      "C:\\Users\\hazel\\anaconda3\\Lib\\site-packages\\sklearn\\model_selection\\_search.py:909: DataConversionWarning: A column-vector y was passed when a 1d array was expected. Please change the shape of y to (n_samples,), for example using ravel().\n",
      "  self.best_estimator_.fit(X, y, **fit_params)\n",
      "C:\\Users\\hazel\\anaconda3\\Lib\\site-packages\\sklearn\\ensemble\\_forest.py:424: FutureWarning: `max_features='auto'` has been deprecated in 1.1 and will be removed in 1.3. To keep the past behaviour, explicitly set `max_features='sqrt'` or remove this parameter as it is also the default value for RandomForestClassifiers and ExtraTreesClassifiers.\n",
      "  warn(\n"
     ]
    },
    {
     "name": "stdout",
     "output_type": "stream",
     "text": [
      "Fitting 10 folds for each of 24 candidates, totalling 240 fits\n"
     ]
    },
    {
     "name": "stderr",
     "output_type": "stream",
     "text": [
      "C:\\Users\\hazel\\anaconda3\\Lib\\site-packages\\sklearn\\model_selection\\_search.py:909: DataConversionWarning: A column-vector y was passed when a 1d array was expected. Please change the shape of y to (n_samples,), for example using ravel().\n",
      "  self.best_estimator_.fit(X, y, **fit_params)\n"
     ]
    },
    {
     "name": "stdout",
     "output_type": "stream",
     "text": [
      "Fitting 10 folds for each of 24 candidates, totalling 240 fits\n"
     ]
    },
    {
     "name": "stderr",
     "output_type": "stream",
     "text": [
      "C:\\Users\\hazel\\anaconda3\\Lib\\site-packages\\sklearn\\model_selection\\_search.py:909: DataConversionWarning: A column-vector y was passed when a 1d array was expected. Please change the shape of y to (n_samples,), for example using ravel().\n",
      "  self.best_estimator_.fit(X, y, **fit_params)\n"
     ]
    },
    {
     "data": {
      "text/html": [
       "<div>\n",
       "<style scoped>\n",
       "    .dataframe tbody tr th:only-of-type {\n",
       "        vertical-align: middle;\n",
       "    }\n",
       "\n",
       "    .dataframe tbody tr th {\n",
       "        vertical-align: top;\n",
       "    }\n",
       "\n",
       "    .dataframe thead th {\n",
       "        text-align: right;\n",
       "    }\n",
       "</style>\n",
       "<table border=\"1\" class=\"dataframe\">\n",
       "  <thead>\n",
       "    <tr style=\"text-align: right;\">\n",
       "      <th></th>\n",
       "      <th>Test Size</th>\n",
       "      <th>Random State</th>\n",
       "      <th>Accuracy</th>\n",
       "      <th>Precision</th>\n",
       "      <th>Recall</th>\n",
       "      <th>F1 Score</th>\n",
       "      <th>Best Param</th>\n",
       "    </tr>\n",
       "  </thead>\n",
       "  <tbody>\n",
       "    <tr>\n",
       "      <th>0</th>\n",
       "      <td>100</td>\n",
       "      <td>7</td>\n",
       "      <td>0.624016</td>\n",
       "      <td>0.753116</td>\n",
       "      <td>0.624016</td>\n",
       "      <td>0.569067</td>\n",
       "      <td>{'criterion': 'gini', 'max_features': 'auto', ...</td>\n",
       "    </tr>\n",
       "    <tr>\n",
       "      <th>1</th>\n",
       "      <td>100</td>\n",
       "      <td>69</td>\n",
       "      <td>0.633465</td>\n",
       "      <td>0.757267</td>\n",
       "      <td>0.633465</td>\n",
       "      <td>0.583338</td>\n",
       "      <td>{'criterion': 'entropy', 'max_features': 'sqrt...</td>\n",
       "    </tr>\n",
       "    <tr>\n",
       "      <th>2</th>\n",
       "      <td>100</td>\n",
       "      <td>101</td>\n",
       "      <td>0.636220</td>\n",
       "      <td>0.756671</td>\n",
       "      <td>0.636220</td>\n",
       "      <td>0.587869</td>\n",
       "      <td>{'criterion': 'entropy', 'max_features': 'log2...</td>\n",
       "    </tr>\n",
       "  </tbody>\n",
       "</table>\n",
       "</div>"
      ],
      "text/plain": [
       "   Test Size  Random State  Accuracy  Precision    Recall  F1 Score  \\\n",
       "0        100             7  0.624016   0.753116  0.624016  0.569067   \n",
       "1        100            69  0.633465   0.757267  0.633465  0.583338   \n",
       "2        100           101  0.636220   0.756671  0.636220  0.587869   \n",
       "\n",
       "                                          Best Param  \n",
       "0  {'criterion': 'gini', 'max_features': 'auto', ...  \n",
       "1  {'criterion': 'entropy', 'max_features': 'sqrt...  \n",
       "2  {'criterion': 'entropy', 'max_features': 'log2...  "
      ]
     },
     "execution_count": 49,
     "metadata": {},
     "output_type": "execute_result"
    }
   ],
   "source": [
    "tempB_SL_SMOTE = []\n",
    "\n",
    "y_train = df3_B_SMOTE[['CGPA']]\n",
    "X_train = df3_B_SMOTE[['Relationship Status', 'Scholarship', 'PTPTN', 'Skipping Class', 'Additional Course',\n",
    "                    'Study Behavior', 'Study Time', 'Extra Curricular Activities', 'Part-time Job', 'Commute Time',\n",
    "                    'Gaming', 'Alcohol Consumption', 'I have enough free time after class', 'Social Interaction',\n",
    "                    'I hang out with friends']]\n",
    "\n",
    "y_test = merge_B_SMOTE[['CGPA']]\n",
    "X_test = merge_B_SMOTE[['Relationship Status', 'Scholarship', 'PTPTN', 'Skipping Class', 'Additional Course',\n",
    "                    'Study Behavior', 'Study Time', 'Extra Curricular Activities', 'Part-time Job', 'Commute Time',\n",
    "                    'Gaming', 'Alcohol Consumption', 'I have enough free time after class', 'Social Interaction',\n",
    "                    'I hang out with friends']]\n",
    "\n",
    "for j in rand_states:\n",
    "    param_grid = {'n_estimators': [100, 200, 300, 400],\n",
    "                  'max_features': ['auto', 'sqrt', 'log2'],\n",
    "                  'criterion' :['gini', 'entropy']}\n",
    "\n",
    "    model = GridSearchCV(RandomForestClassifier(), param_grid, refit=True, n_jobs=-1, cv=10, verbose=1)\n",
    "    model.fit(X_train, y_train)\n",
    "    pred = model.predict(X_test)\n",
    "\n",
    "    acc = accuracy_score(y_test,pred)\n",
    "    pre = precision_score(y_test, pred, average='weighted')\n",
    "    recall = recall_score(y_test, pred, average='weighted')\n",
    "    f1 = f1_score(y_test, pred, average='weighted')\n",
    "    param = model.best_params_\n",
    "\n",
    "    tempB_SL_SMOTE.append([100,j,acc,pre,recall,f1,param])\n",
    "        \n",
    "dfB_SL_SMOTE = pd.DataFrame(columns=['Test Size','Random State','Accuracy','Precision','Recall','F1 Score','Best Param'],data=tempB_SL_SMOTE)\n",
    "dfB_SL_SMOTE"
   ]
  },
  {
   "cell_type": "code",
   "execution_count": 50,
   "id": "9076b637-d714-41a6-b767-497237f3c01e",
   "metadata": {},
   "outputs": [
    {
     "data": {
      "text/html": [
       "<div>\n",
       "<style scoped>\n",
       "    .dataframe tbody tr th:only-of-type {\n",
       "        vertical-align: middle;\n",
       "    }\n",
       "\n",
       "    .dataframe tbody tr th {\n",
       "        vertical-align: top;\n",
       "    }\n",
       "\n",
       "    .dataframe thead th {\n",
       "        text-align: right;\n",
       "    }\n",
       "</style>\n",
       "<table border=\"1\" class=\"dataframe\">\n",
       "  <thead>\n",
       "    <tr style=\"text-align: right;\">\n",
       "      <th></th>\n",
       "      <th>Accuracy</th>\n",
       "      <th>Precision</th>\n",
       "      <th>Recall</th>\n",
       "      <th>F1 Score</th>\n",
       "    </tr>\n",
       "    <tr>\n",
       "      <th>Test Size</th>\n",
       "      <th></th>\n",
       "      <th></th>\n",
       "      <th></th>\n",
       "      <th></th>\n",
       "    </tr>\n",
       "  </thead>\n",
       "  <tbody>\n",
       "    <tr>\n",
       "      <th>100</th>\n",
       "      <td>0.631234</td>\n",
       "      <td>0.755684</td>\n",
       "      <td>0.631234</td>\n",
       "      <td>0.580092</td>\n",
       "    </tr>\n",
       "  </tbody>\n",
       "</table>\n",
       "</div>"
      ],
      "text/plain": [
       "           Accuracy  Precision    Recall  F1 Score\n",
       "Test Size                                         \n",
       "100        0.631234   0.755684  0.631234  0.580092"
      ]
     },
     "execution_count": 50,
     "metadata": {},
     "output_type": "execute_result"
    }
   ],
   "source": [
    "dfB_SL_SMOTE.groupby('Test Size')[['Accuracy','Precision','Recall','F1 Score']].mean()"
   ]
  },
  {
   "cell_type": "code",
   "execution_count": 51,
   "id": "36f992b0-6c92-4ae4-a45d-86192d23c222",
   "metadata": {},
   "outputs": [
    {
     "name": "stdout",
     "output_type": "stream",
     "text": [
      "SMOTE Binary: Student Lifestyle\n",
      "\n",
      "{'criterion': 'gini', 'max_features': 'auto', 'n_estimators': 100}\n",
      "{'criterion': 'entropy', 'max_features': 'sqrt', 'n_estimators': 100}\n",
      "{'criterion': 'entropy', 'max_features': 'log2', 'n_estimators': 300}\n"
     ]
    }
   ],
   "source": [
    "print(\"SMOTE Binary: Student Lifestyle\\n\")\n",
    "for x in dfB_SL_SMOTE[\"Best Param\"]:\n",
    "    print(x)"
   ]
  },
  {
   "cell_type": "markdown",
   "id": "0f8af744-8dd6-422c-8735-b51b2ea1b7d4",
   "metadata": {},
   "source": [
    "## All Attributes"
   ]
  },
  {
   "cell_type": "markdown",
   "id": "f73037d9-c565-44b1-9def-ea7d32c5222c",
   "metadata": {},
   "source": [
    "### AA before Data Balancing"
   ]
  },
  {
   "cell_type": "code",
   "execution_count": 52,
   "id": "7995e7e5-dcdd-45c4-beea-0fc111ba102a",
   "metadata": {},
   "outputs": [
    {
     "name": "stdout",
     "output_type": "stream",
     "text": [
      "Fitting 10 folds for each of 24 candidates, totalling 240 fits\n"
     ]
    },
    {
     "name": "stderr",
     "output_type": "stream",
     "text": [
      "C:\\Users\\hazel\\anaconda3\\Lib\\site-packages\\sklearn\\model_selection\\_search.py:909: DataConversionWarning: A column-vector y was passed when a 1d array was expected. Please change the shape of y to (n_samples,), for example using ravel().\n",
      "  self.best_estimator_.fit(X, y, **fit_params)\n",
      "C:\\Users\\hazel\\anaconda3\\Lib\\site-packages\\sklearn\\ensemble\\_forest.py:424: FutureWarning: `max_features='auto'` has been deprecated in 1.1 and will be removed in 1.3. To keep the past behaviour, explicitly set `max_features='sqrt'` or remove this parameter as it is also the default value for RandomForestClassifiers and ExtraTreesClassifiers.\n",
      "  warn(\n",
      "C:\\Users\\hazel\\anaconda3\\Lib\\site-packages\\sklearn\\metrics\\_classification.py:1344: UndefinedMetricWarning: Precision is ill-defined and being set to 0.0 in labels with no predicted samples. Use `zero_division` parameter to control this behavior.\n",
      "  _warn_prf(average, modifier, msg_start, len(result))\n"
     ]
    },
    {
     "name": "stdout",
     "output_type": "stream",
     "text": [
      "Fitting 10 folds for each of 24 candidates, totalling 240 fits\n"
     ]
    },
    {
     "name": "stderr",
     "output_type": "stream",
     "text": [
      "C:\\Users\\hazel\\anaconda3\\Lib\\site-packages\\sklearn\\model_selection\\_search.py:909: DataConversionWarning: A column-vector y was passed when a 1d array was expected. Please change the shape of y to (n_samples,), for example using ravel().\n",
      "  self.best_estimator_.fit(X, y, **fit_params)\n",
      "C:\\Users\\hazel\\anaconda3\\Lib\\site-packages\\sklearn\\ensemble\\_forest.py:424: FutureWarning: `max_features='auto'` has been deprecated in 1.1 and will be removed in 1.3. To keep the past behaviour, explicitly set `max_features='sqrt'` or remove this parameter as it is also the default value for RandomForestClassifiers and ExtraTreesClassifiers.\n",
      "  warn(\n",
      "C:\\Users\\hazel\\anaconda3\\Lib\\site-packages\\sklearn\\metrics\\_classification.py:1344: UndefinedMetricWarning: Precision is ill-defined and being set to 0.0 in labels with no predicted samples. Use `zero_division` parameter to control this behavior.\n",
      "  _warn_prf(average, modifier, msg_start, len(result))\n"
     ]
    },
    {
     "name": "stdout",
     "output_type": "stream",
     "text": [
      "Fitting 10 folds for each of 24 candidates, totalling 240 fits\n"
     ]
    },
    {
     "name": "stderr",
     "output_type": "stream",
     "text": [
      "C:\\Users\\hazel\\anaconda3\\Lib\\site-packages\\sklearn\\model_selection\\_search.py:909: DataConversionWarning: A column-vector y was passed when a 1d array was expected. Please change the shape of y to (n_samples,), for example using ravel().\n",
      "  self.best_estimator_.fit(X, y, **fit_params)\n",
      "C:\\Users\\hazel\\anaconda3\\Lib\\site-packages\\sklearn\\ensemble\\_forest.py:424: FutureWarning: `max_features='auto'` has been deprecated in 1.1 and will be removed in 1.3. To keep the past behaviour, explicitly set `max_features='sqrt'` or remove this parameter as it is also the default value for RandomForestClassifiers and ExtraTreesClassifiers.\n",
      "  warn(\n",
      "C:\\Users\\hazel\\anaconda3\\Lib\\site-packages\\sklearn\\metrics\\_classification.py:1344: UndefinedMetricWarning: Precision is ill-defined and being set to 0.0 in labels with no predicted samples. Use `zero_division` parameter to control this behavior.\n",
      "  _warn_prf(average, modifier, msg_start, len(result))\n"
     ]
    },
    {
     "data": {
      "text/html": [
       "<div>\n",
       "<style scoped>\n",
       "    .dataframe tbody tr th:only-of-type {\n",
       "        vertical-align: middle;\n",
       "    }\n",
       "\n",
       "    .dataframe tbody tr th {\n",
       "        vertical-align: top;\n",
       "    }\n",
       "\n",
       "    .dataframe thead th {\n",
       "        text-align: right;\n",
       "    }\n",
       "</style>\n",
       "<table border=\"1\" class=\"dataframe\">\n",
       "  <thead>\n",
       "    <tr style=\"text-align: right;\">\n",
       "      <th></th>\n",
       "      <th>Test Size</th>\n",
       "      <th>Random State</th>\n",
       "      <th>Accuracy</th>\n",
       "      <th>Precision</th>\n",
       "      <th>Recall</th>\n",
       "      <th>F1 Score</th>\n",
       "      <th>Best Param</th>\n",
       "    </tr>\n",
       "  </thead>\n",
       "  <tbody>\n",
       "    <tr>\n",
       "      <th>0</th>\n",
       "      <td>100</td>\n",
       "      <td>7</td>\n",
       "      <td>0.986791</td>\n",
       "      <td>0.973756</td>\n",
       "      <td>0.986791</td>\n",
       "      <td>0.98023</td>\n",
       "      <td>{'criterion': 'gini', 'max_features': 'auto', ...</td>\n",
       "    </tr>\n",
       "    <tr>\n",
       "      <th>1</th>\n",
       "      <td>100</td>\n",
       "      <td>69</td>\n",
       "      <td>0.986791</td>\n",
       "      <td>0.973756</td>\n",
       "      <td>0.986791</td>\n",
       "      <td>0.98023</td>\n",
       "      <td>{'criterion': 'gini', 'max_features': 'auto', ...</td>\n",
       "    </tr>\n",
       "    <tr>\n",
       "      <th>2</th>\n",
       "      <td>100</td>\n",
       "      <td>101</td>\n",
       "      <td>0.986791</td>\n",
       "      <td>0.973756</td>\n",
       "      <td>0.986791</td>\n",
       "      <td>0.98023</td>\n",
       "      <td>{'criterion': 'gini', 'max_features': 'auto', ...</td>\n",
       "    </tr>\n",
       "  </tbody>\n",
       "</table>\n",
       "</div>"
      ],
      "text/plain": [
       "   Test Size  Random State  Accuracy  Precision    Recall  F1 Score  \\\n",
       "0        100             7  0.986791   0.973756  0.986791   0.98023   \n",
       "1        100            69  0.986791   0.973756  0.986791   0.98023   \n",
       "2        100           101  0.986791   0.973756  0.986791   0.98023   \n",
       "\n",
       "                                          Best Param  \n",
       "0  {'criterion': 'gini', 'max_features': 'auto', ...  \n",
       "1  {'criterion': 'gini', 'max_features': 'auto', ...  \n",
       "2  {'criterion': 'gini', 'max_features': 'auto', ...  "
      ]
     },
     "execution_count": 52,
     "metadata": {},
     "output_type": "execute_result"
    }
   ],
   "source": [
    "tempB_imb = []\n",
    "\n",
    "y_train = df3_B_imb[['CGPA']]\n",
    "X_train = df3_B_imb.drop(columns=['CGPA'])\n",
    "\n",
    "y_test = merge_B_imb[['CGPA']]\n",
    "X_test = merge_B_imb.drop(columns=['CGPA'])\n",
    "\n",
    "for j in rand_states:\n",
    "    param_grid = {'n_estimators': [100, 200, 300, 400],\n",
    "                  'max_features': ['auto', 'sqrt', 'log2'],\n",
    "                  'criterion' :['gini', 'entropy']}\n",
    "\n",
    "    model = GridSearchCV(RandomForestClassifier(), param_grid, refit=True, n_jobs=-1, cv=10, verbose=1)\n",
    "    model.fit(X_train, y_train)\n",
    "    pred = model.predict(X_test)\n",
    "\n",
    "    acc = accuracy_score(y_test,pred)\n",
    "    pre = precision_score(y_test, pred, average='weighted')\n",
    "    recall = recall_score(y_test, pred, average='weighted')\n",
    "    f1 = f1_score(y_test, pred, average='weighted')\n",
    "    param = model.best_params_\n",
    "\n",
    "    tempB_imb.append([100,j,acc,pre,recall,f1,param])\n",
    "        \n",
    "dfB_imb = pd.DataFrame(columns=['Test Size','Random State','Accuracy','Precision','Recall','F1 Score','Best Param'],data=tempB_imb)\n",
    "dfB_imb"
   ]
  },
  {
   "cell_type": "code",
   "execution_count": 53,
   "id": "be8fa4f5-eadb-4545-81df-7192bca22028",
   "metadata": {},
   "outputs": [
    {
     "data": {
      "text/html": [
       "<div>\n",
       "<style scoped>\n",
       "    .dataframe tbody tr th:only-of-type {\n",
       "        vertical-align: middle;\n",
       "    }\n",
       "\n",
       "    .dataframe tbody tr th {\n",
       "        vertical-align: top;\n",
       "    }\n",
       "\n",
       "    .dataframe thead th {\n",
       "        text-align: right;\n",
       "    }\n",
       "</style>\n",
       "<table border=\"1\" class=\"dataframe\">\n",
       "  <thead>\n",
       "    <tr style=\"text-align: right;\">\n",
       "      <th></th>\n",
       "      <th>Accuracy</th>\n",
       "      <th>Precision</th>\n",
       "      <th>Recall</th>\n",
       "      <th>F1 Score</th>\n",
       "    </tr>\n",
       "    <tr>\n",
       "      <th>Test Size</th>\n",
       "      <th></th>\n",
       "      <th></th>\n",
       "      <th></th>\n",
       "      <th></th>\n",
       "    </tr>\n",
       "  </thead>\n",
       "  <tbody>\n",
       "    <tr>\n",
       "      <th>100</th>\n",
       "      <td>0.986791</td>\n",
       "      <td>0.973756</td>\n",
       "      <td>0.986791</td>\n",
       "      <td>0.98023</td>\n",
       "    </tr>\n",
       "  </tbody>\n",
       "</table>\n",
       "</div>"
      ],
      "text/plain": [
       "           Accuracy  Precision    Recall  F1 Score\n",
       "Test Size                                         \n",
       "100        0.986791   0.973756  0.986791   0.98023"
      ]
     },
     "execution_count": 53,
     "metadata": {},
     "output_type": "execute_result"
    }
   ],
   "source": [
    "dfB_imb.groupby('Test Size')[['Accuracy','Precision','Recall','F1 Score']].mean()"
   ]
  },
  {
   "cell_type": "code",
   "execution_count": 54,
   "id": "64d5be53-3c20-493e-92d3-e0b06b7dbe10",
   "metadata": {},
   "outputs": [
    {
     "name": "stdout",
     "output_type": "stream",
     "text": [
      "Imbalance All Attributes\n",
      "\n",
      "{'criterion': 'gini', 'max_features': 'auto', 'n_estimators': 100}\n",
      "{'criterion': 'gini', 'max_features': 'auto', 'n_estimators': 100}\n",
      "{'criterion': 'gini', 'max_features': 'auto', 'n_estimators': 100}\n"
     ]
    }
   ],
   "source": [
    "print(\"Imbalance All Attributes\\n\")\n",
    "for x in dfB_imb[\"Best Param\"]:\n",
    "    print(x)"
   ]
  },
  {
   "cell_type": "markdown",
   "id": "0c567899-9dbf-4d29-822e-7868e96c3436",
   "metadata": {},
   "source": [
    "### AA after RandomOverSampler"
   ]
  },
  {
   "cell_type": "code",
   "execution_count": 55,
   "id": "65a4b725-7842-44b9-a6e7-273219f36083",
   "metadata": {},
   "outputs": [
    {
     "name": "stdout",
     "output_type": "stream",
     "text": [
      "Fitting 10 folds for each of 24 candidates, totalling 240 fits\n"
     ]
    },
    {
     "name": "stderr",
     "output_type": "stream",
     "text": [
      "C:\\Users\\hazel\\anaconda3\\Lib\\site-packages\\sklearn\\model_selection\\_search.py:909: DataConversionWarning: A column-vector y was passed when a 1d array was expected. Please change the shape of y to (n_samples,), for example using ravel().\n",
      "  self.best_estimator_.fit(X, y, **fit_params)\n",
      "C:\\Users\\hazel\\anaconda3\\Lib\\site-packages\\sklearn\\ensemble\\_forest.py:424: FutureWarning: `max_features='auto'` has been deprecated in 1.1 and will be removed in 1.3. To keep the past behaviour, explicitly set `max_features='sqrt'` or remove this parameter as it is also the default value for RandomForestClassifiers and ExtraTreesClassifiers.\n",
      "  warn(\n",
      "C:\\Users\\hazel\\anaconda3\\Lib\\site-packages\\sklearn\\metrics\\_classification.py:1344: UndefinedMetricWarning: Precision is ill-defined and being set to 0.0 in labels with no predicted samples. Use `zero_division` parameter to control this behavior.\n",
      "  _warn_prf(average, modifier, msg_start, len(result))\n"
     ]
    },
    {
     "name": "stdout",
     "output_type": "stream",
     "text": [
      "Fitting 10 folds for each of 24 candidates, totalling 240 fits\n"
     ]
    },
    {
     "name": "stderr",
     "output_type": "stream",
     "text": [
      "C:\\Users\\hazel\\anaconda3\\Lib\\site-packages\\sklearn\\model_selection\\_search.py:909: DataConversionWarning: A column-vector y was passed when a 1d array was expected. Please change the shape of y to (n_samples,), for example using ravel().\n",
      "  self.best_estimator_.fit(X, y, **fit_params)\n",
      "C:\\Users\\hazel\\anaconda3\\Lib\\site-packages\\sklearn\\ensemble\\_forest.py:424: FutureWarning: `max_features='auto'` has been deprecated in 1.1 and will be removed in 1.3. To keep the past behaviour, explicitly set `max_features='sqrt'` or remove this parameter as it is also the default value for RandomForestClassifiers and ExtraTreesClassifiers.\n",
      "  warn(\n",
      "C:\\Users\\hazel\\anaconda3\\Lib\\site-packages\\sklearn\\metrics\\_classification.py:1344: UndefinedMetricWarning: Precision is ill-defined and being set to 0.0 in labels with no predicted samples. Use `zero_division` parameter to control this behavior.\n",
      "  _warn_prf(average, modifier, msg_start, len(result))\n"
     ]
    },
    {
     "name": "stdout",
     "output_type": "stream",
     "text": [
      "Fitting 10 folds for each of 24 candidates, totalling 240 fits\n"
     ]
    },
    {
     "name": "stderr",
     "output_type": "stream",
     "text": [
      "C:\\Users\\hazel\\anaconda3\\Lib\\site-packages\\sklearn\\model_selection\\_search.py:909: DataConversionWarning: A column-vector y was passed when a 1d array was expected. Please change the shape of y to (n_samples,), for example using ravel().\n",
      "  self.best_estimator_.fit(X, y, **fit_params)\n",
      "C:\\Users\\hazel\\anaconda3\\Lib\\site-packages\\sklearn\\ensemble\\_forest.py:424: FutureWarning: `max_features='auto'` has been deprecated in 1.1 and will be removed in 1.3. To keep the past behaviour, explicitly set `max_features='sqrt'` or remove this parameter as it is also the default value for RandomForestClassifiers and ExtraTreesClassifiers.\n",
      "  warn(\n",
      "C:\\Users\\hazel\\anaconda3\\Lib\\site-packages\\sklearn\\metrics\\_classification.py:1344: UndefinedMetricWarning: Precision is ill-defined and being set to 0.0 in labels with no predicted samples. Use `zero_division` parameter to control this behavior.\n",
      "  _warn_prf(average, modifier, msg_start, len(result))\n"
     ]
    },
    {
     "data": {
      "text/html": [
       "<div>\n",
       "<style scoped>\n",
       "    .dataframe tbody tr th:only-of-type {\n",
       "        vertical-align: middle;\n",
       "    }\n",
       "\n",
       "    .dataframe tbody tr th {\n",
       "        vertical-align: top;\n",
       "    }\n",
       "\n",
       "    .dataframe thead th {\n",
       "        text-align: right;\n",
       "    }\n",
       "</style>\n",
       "<table border=\"1\" class=\"dataframe\">\n",
       "  <thead>\n",
       "    <tr style=\"text-align: right;\">\n",
       "      <th></th>\n",
       "      <th>Test Size</th>\n",
       "      <th>Random State</th>\n",
       "      <th>Accuracy</th>\n",
       "      <th>Precision</th>\n",
       "      <th>Recall</th>\n",
       "      <th>F1 Score</th>\n",
       "      <th>Best Param</th>\n",
       "    </tr>\n",
       "  </thead>\n",
       "  <tbody>\n",
       "    <tr>\n",
       "      <th>0</th>\n",
       "      <td>100</td>\n",
       "      <td>7</td>\n",
       "      <td>0.5</td>\n",
       "      <td>0.25</td>\n",
       "      <td>0.5</td>\n",
       "      <td>0.333333</td>\n",
       "      <td>{'criterion': 'gini', 'max_features': 'auto', ...</td>\n",
       "    </tr>\n",
       "    <tr>\n",
       "      <th>1</th>\n",
       "      <td>100</td>\n",
       "      <td>69</td>\n",
       "      <td>0.5</td>\n",
       "      <td>0.25</td>\n",
       "      <td>0.5</td>\n",
       "      <td>0.333333</td>\n",
       "      <td>{'criterion': 'gini', 'max_features': 'auto', ...</td>\n",
       "    </tr>\n",
       "    <tr>\n",
       "      <th>2</th>\n",
       "      <td>100</td>\n",
       "      <td>101</td>\n",
       "      <td>0.5</td>\n",
       "      <td>0.25</td>\n",
       "      <td>0.5</td>\n",
       "      <td>0.333333</td>\n",
       "      <td>{'criterion': 'gini', 'max_features': 'auto', ...</td>\n",
       "    </tr>\n",
       "  </tbody>\n",
       "</table>\n",
       "</div>"
      ],
      "text/plain": [
       "   Test Size  Random State  Accuracy  Precision  Recall  F1 Score  \\\n",
       "0        100             7       0.5       0.25     0.5  0.333333   \n",
       "1        100            69       0.5       0.25     0.5  0.333333   \n",
       "2        100           101       0.5       0.25     0.5  0.333333   \n",
       "\n",
       "                                          Best Param  \n",
       "0  {'criterion': 'gini', 'max_features': 'auto', ...  \n",
       "1  {'criterion': 'gini', 'max_features': 'auto', ...  \n",
       "2  {'criterion': 'gini', 'max_features': 'auto', ...  "
      ]
     },
     "execution_count": 55,
     "metadata": {},
     "output_type": "execute_result"
    }
   ],
   "source": [
    "tempB_ROS = []\n",
    "\n",
    "y_train = df3_B_ROS[['CGPA']]\n",
    "X_train = df3_B_ROS.drop(columns=['CGPA'])\n",
    "\n",
    "y_test = merge_B_ROS[['CGPA']]\n",
    "X_test = merge_B_ROS.drop(columns=['CGPA'])\n",
    "\n",
    "for j in rand_states:\n",
    "    param_grid = {'n_estimators': [100, 200, 300, 400],\n",
    "                  'max_features': ['auto', 'sqrt', 'log2'],\n",
    "                  'criterion' :['gini', 'entropy']}\n",
    "\n",
    "    model = GridSearchCV(RandomForestClassifier(), param_grid, refit=True, n_jobs=-1, cv=10, verbose=1)\n",
    "    model.fit(X_train, y_train)\n",
    "    pred = model.predict(X_test)\n",
    "\n",
    "    acc = accuracy_score(y_test,pred)\n",
    "    pre = precision_score(y_test, pred, average='weighted')\n",
    "    recall = recall_score(y_test, pred, average='weighted')\n",
    "    f1 = f1_score(y_test, pred, average='weighted')\n",
    "    param = model.best_params_\n",
    "\n",
    "    tempB_ROS.append([100,j,acc,pre,recall,f1,param])\n",
    "        \n",
    "dfB_ROS = pd.DataFrame(columns=['Test Size','Random State','Accuracy','Precision','Recall','F1 Score','Best Param'],data=tempB_ROS)\n",
    "dfB_ROS"
   ]
  },
  {
   "cell_type": "code",
   "execution_count": 56,
   "id": "f0e8a30a-954e-42f3-8466-24eeaa26e9e7",
   "metadata": {},
   "outputs": [
    {
     "data": {
      "text/html": [
       "<div>\n",
       "<style scoped>\n",
       "    .dataframe tbody tr th:only-of-type {\n",
       "        vertical-align: middle;\n",
       "    }\n",
       "\n",
       "    .dataframe tbody tr th {\n",
       "        vertical-align: top;\n",
       "    }\n",
       "\n",
       "    .dataframe thead th {\n",
       "        text-align: right;\n",
       "    }\n",
       "</style>\n",
       "<table border=\"1\" class=\"dataframe\">\n",
       "  <thead>\n",
       "    <tr style=\"text-align: right;\">\n",
       "      <th></th>\n",
       "      <th>Accuracy</th>\n",
       "      <th>Precision</th>\n",
       "      <th>Recall</th>\n",
       "      <th>F1 Score</th>\n",
       "    </tr>\n",
       "    <tr>\n",
       "      <th>Test Size</th>\n",
       "      <th></th>\n",
       "      <th></th>\n",
       "      <th></th>\n",
       "      <th></th>\n",
       "    </tr>\n",
       "  </thead>\n",
       "  <tbody>\n",
       "    <tr>\n",
       "      <th>100</th>\n",
       "      <td>0.5</td>\n",
       "      <td>0.25</td>\n",
       "      <td>0.5</td>\n",
       "      <td>0.333333</td>\n",
       "    </tr>\n",
       "  </tbody>\n",
       "</table>\n",
       "</div>"
      ],
      "text/plain": [
       "           Accuracy  Precision  Recall  F1 Score\n",
       "Test Size                                       \n",
       "100             0.5       0.25     0.5  0.333333"
      ]
     },
     "execution_count": 56,
     "metadata": {},
     "output_type": "execute_result"
    }
   ],
   "source": [
    "dfB_ROS.groupby('Test Size')[['Accuracy','Precision','Recall','F1 Score']].mean()"
   ]
  },
  {
   "cell_type": "code",
   "execution_count": 57,
   "id": "de181f47-3e07-4ffb-9419-94c60ffd3600",
   "metadata": {},
   "outputs": [
    {
     "name": "stdout",
     "output_type": "stream",
     "text": [
      "All Attributes\n",
      "\n",
      "{'criterion': 'gini', 'max_features': 'auto', 'n_estimators': 100}\n",
      "{'criterion': 'gini', 'max_features': 'auto', 'n_estimators': 100}\n",
      "{'criterion': 'gini', 'max_features': 'auto', 'n_estimators': 200}\n"
     ]
    }
   ],
   "source": [
    "print(\"All Attributes\\n\")\n",
    "for x in dfB_ROS[\"Best Param\"]:\n",
    "    print(x)"
   ]
  },
  {
   "cell_type": "markdown",
   "id": "87199e57-c86e-40e7-af2f-72dca4723893",
   "metadata": {},
   "source": [
    "### AA after SMOTE"
   ]
  },
  {
   "cell_type": "code",
   "execution_count": 58,
   "id": "50487508-08ac-4597-a4d7-18f49403e9ac",
   "metadata": {},
   "outputs": [
    {
     "name": "stdout",
     "output_type": "stream",
     "text": [
      "Fitting 10 folds for each of 24 candidates, totalling 240 fits\n"
     ]
    },
    {
     "name": "stderr",
     "output_type": "stream",
     "text": [
      "C:\\Users\\hazel\\anaconda3\\Lib\\site-packages\\sklearn\\model_selection\\_search.py:909: DataConversionWarning: A column-vector y was passed when a 1d array was expected. Please change the shape of y to (n_samples,), for example using ravel().\n",
      "  self.best_estimator_.fit(X, y, **fit_params)\n"
     ]
    },
    {
     "name": "stdout",
     "output_type": "stream",
     "text": [
      "Fitting 10 folds for each of 24 candidates, totalling 240 fits\n"
     ]
    },
    {
     "name": "stderr",
     "output_type": "stream",
     "text": [
      "C:\\Users\\hazel\\anaconda3\\Lib\\site-packages\\sklearn\\model_selection\\_search.py:909: DataConversionWarning: A column-vector y was passed when a 1d array was expected. Please change the shape of y to (n_samples,), for example using ravel().\n",
      "  self.best_estimator_.fit(X, y, **fit_params)\n",
      "C:\\Users\\hazel\\anaconda3\\Lib\\site-packages\\sklearn\\ensemble\\_forest.py:424: FutureWarning: `max_features='auto'` has been deprecated in 1.1 and will be removed in 1.3. To keep the past behaviour, explicitly set `max_features='sqrt'` or remove this parameter as it is also the default value for RandomForestClassifiers and ExtraTreesClassifiers.\n",
      "  warn(\n"
     ]
    },
    {
     "name": "stdout",
     "output_type": "stream",
     "text": [
      "Fitting 10 folds for each of 24 candidates, totalling 240 fits\n"
     ]
    },
    {
     "name": "stderr",
     "output_type": "stream",
     "text": [
      "C:\\Users\\hazel\\anaconda3\\Lib\\site-packages\\sklearn\\model_selection\\_search.py:909: DataConversionWarning: A column-vector y was passed when a 1d array was expected. Please change the shape of y to (n_samples,), for example using ravel().\n",
      "  self.best_estimator_.fit(X, y, **fit_params)\n"
     ]
    },
    {
     "data": {
      "text/html": [
       "<div>\n",
       "<style scoped>\n",
       "    .dataframe tbody tr th:only-of-type {\n",
       "        vertical-align: middle;\n",
       "    }\n",
       "\n",
       "    .dataframe tbody tr th {\n",
       "        vertical-align: top;\n",
       "    }\n",
       "\n",
       "    .dataframe thead th {\n",
       "        text-align: right;\n",
       "    }\n",
       "</style>\n",
       "<table border=\"1\" class=\"dataframe\">\n",
       "  <thead>\n",
       "    <tr style=\"text-align: right;\">\n",
       "      <th></th>\n",
       "      <th>Test Size</th>\n",
       "      <th>Random State</th>\n",
       "      <th>Accuracy</th>\n",
       "      <th>Precision</th>\n",
       "      <th>Recall</th>\n",
       "      <th>F1 Score</th>\n",
       "      <th>Best Param</th>\n",
       "    </tr>\n",
       "  </thead>\n",
       "  <tbody>\n",
       "    <tr>\n",
       "      <th>0</th>\n",
       "      <td>100</td>\n",
       "      <td>7</td>\n",
       "      <td>0.513386</td>\n",
       "      <td>0.753392</td>\n",
       "      <td>0.513386</td>\n",
       "      <td>0.362408</td>\n",
       "      <td>{'criterion': 'gini', 'max_features': 'log2', ...</td>\n",
       "    </tr>\n",
       "    <tr>\n",
       "      <th>1</th>\n",
       "      <td>100</td>\n",
       "      <td>69</td>\n",
       "      <td>0.517717</td>\n",
       "      <td>0.754509</td>\n",
       "      <td>0.517717</td>\n",
       "      <td>0.371538</td>\n",
       "      <td>{'criterion': 'entropy', 'max_features': 'auto...</td>\n",
       "    </tr>\n",
       "    <tr>\n",
       "      <th>2</th>\n",
       "      <td>100</td>\n",
       "      <td>101</td>\n",
       "      <td>0.513386</td>\n",
       "      <td>0.753392</td>\n",
       "      <td>0.513386</td>\n",
       "      <td>0.362408</td>\n",
       "      <td>{'criterion': 'entropy', 'max_features': 'log2...</td>\n",
       "    </tr>\n",
       "  </tbody>\n",
       "</table>\n",
       "</div>"
      ],
      "text/plain": [
       "   Test Size  Random State  Accuracy  Precision    Recall  F1 Score  \\\n",
       "0        100             7  0.513386   0.753392  0.513386  0.362408   \n",
       "1        100            69  0.517717   0.754509  0.517717  0.371538   \n",
       "2        100           101  0.513386   0.753392  0.513386  0.362408   \n",
       "\n",
       "                                          Best Param  \n",
       "0  {'criterion': 'gini', 'max_features': 'log2', ...  \n",
       "1  {'criterion': 'entropy', 'max_features': 'auto...  \n",
       "2  {'criterion': 'entropy', 'max_features': 'log2...  "
      ]
     },
     "execution_count": 58,
     "metadata": {},
     "output_type": "execute_result"
    }
   ],
   "source": [
    "tempB_SMOTE = []\n",
    "\n",
    "y_train = df3_B_SMOTE[['CGPA']]\n",
    "X_train = df3_B_SMOTE.drop(columns=['CGPA'])\n",
    "\n",
    "y_test = merge_B_SMOTE[['CGPA']]\n",
    "X_test = merge_B_SMOTE.drop(columns=['CGPA'])\n",
    "\n",
    "for j in rand_states:\n",
    "    param_grid = {'n_estimators': [100, 200, 300, 400],\n",
    "                  'max_features': ['auto', 'sqrt', 'log2'],\n",
    "                  'criterion' :['gini', 'entropy']}\n",
    "\n",
    "    model = GridSearchCV(RandomForestClassifier(), param_grid, refit=True, n_jobs=-1, cv=10, verbose=1)\n",
    "    model.fit(X_train, y_train)\n",
    "    pred = model.predict(X_test)\n",
    "\n",
    "    acc = accuracy_score(y_test,pred)\n",
    "    pre = precision_score(y_test, pred, average='weighted')\n",
    "    recall = recall_score(y_test, pred, average='weighted')\n",
    "    f1 = f1_score(y_test, pred, average='weighted')\n",
    "    param = model.best_params_\n",
    "\n",
    "    tempB_SMOTE.append([100,j,acc,pre,recall,f1,param])\n",
    "        \n",
    "dfB_SMOTE = pd.DataFrame(columns=['Test Size','Random State','Accuracy','Precision','Recall','F1 Score','Best Param'],data=tempB_SMOTE)\n",
    "dfB_SMOTE"
   ]
  },
  {
   "cell_type": "code",
   "execution_count": 59,
   "id": "9a0f0f30-d436-4d93-98d0-39f9966195d9",
   "metadata": {},
   "outputs": [
    {
     "data": {
      "text/html": [
       "<div>\n",
       "<style scoped>\n",
       "    .dataframe tbody tr th:only-of-type {\n",
       "        vertical-align: middle;\n",
       "    }\n",
       "\n",
       "    .dataframe tbody tr th {\n",
       "        vertical-align: top;\n",
       "    }\n",
       "\n",
       "    .dataframe thead th {\n",
       "        text-align: right;\n",
       "    }\n",
       "</style>\n",
       "<table border=\"1\" class=\"dataframe\">\n",
       "  <thead>\n",
       "    <tr style=\"text-align: right;\">\n",
       "      <th></th>\n",
       "      <th>Accuracy</th>\n",
       "      <th>Precision</th>\n",
       "      <th>Recall</th>\n",
       "      <th>F1 Score</th>\n",
       "    </tr>\n",
       "    <tr>\n",
       "      <th>Test Size</th>\n",
       "      <th></th>\n",
       "      <th></th>\n",
       "      <th></th>\n",
       "      <th></th>\n",
       "    </tr>\n",
       "  </thead>\n",
       "  <tbody>\n",
       "    <tr>\n",
       "      <th>100</th>\n",
       "      <td>0.514829</td>\n",
       "      <td>0.753764</td>\n",
       "      <td>0.514829</td>\n",
       "      <td>0.365452</td>\n",
       "    </tr>\n",
       "  </tbody>\n",
       "</table>\n",
       "</div>"
      ],
      "text/plain": [
       "           Accuracy  Precision    Recall  F1 Score\n",
       "Test Size                                         \n",
       "100        0.514829   0.753764  0.514829  0.365452"
      ]
     },
     "execution_count": 59,
     "metadata": {},
     "output_type": "execute_result"
    }
   ],
   "source": [
    "dfB_SMOTE.groupby('Test Size')[['Accuracy','Precision','Recall','F1 Score']].mean()"
   ]
  },
  {
   "cell_type": "code",
   "execution_count": 60,
   "id": "a6e1b6b6-60e1-46ae-8d79-d0f069e5eb9c",
   "metadata": {},
   "outputs": [
    {
     "name": "stdout",
     "output_type": "stream",
     "text": [
      "SMOTE All Attributes\n",
      "\n",
      "{'criterion': 'gini', 'max_features': 'log2', 'n_estimators': 100}\n",
      "{'criterion': 'entropy', 'max_features': 'auto', 'n_estimators': 400}\n",
      "{'criterion': 'entropy', 'max_features': 'log2', 'n_estimators': 300}\n"
     ]
    }
   ],
   "source": [
    "print(\"SMOTE All Attributes\\n\")\n",
    "for x in dfB_SMOTE[\"Best Param\"]:\n",
    "    print(x)"
   ]
  },
  {
   "cell_type": "markdown",
   "id": "c1143b5d-b1b1-48f6-8aec-b1428a39642c",
   "metadata": {},
   "source": [
    "# 5-Level Classification"
   ]
  },
  {
   "cell_type": "markdown",
   "id": "74b9a1ff-08fe-49f2-bf8d-f1193105166c",
   "metadata": {},
   "source": [
    "## Student Background"
   ]
  },
  {
   "cell_type": "markdown",
   "id": "9f62d7e4-a2d6-4153-be88-ecae71b8550d",
   "metadata": {},
   "source": [
    "### SB before Data Balancing"
   ]
  },
  {
   "cell_type": "code",
   "execution_count": 61,
   "id": "6cbdc498-8fd5-425d-8301-d48931f14f0c",
   "metadata": {},
   "outputs": [
    {
     "name": "stdout",
     "output_type": "stream",
     "text": [
      "Fitting 10 folds for each of 24 candidates, totalling 240 fits\n"
     ]
    },
    {
     "name": "stderr",
     "output_type": "stream",
     "text": [
      "C:\\Users\\hazel\\anaconda3\\Lib\\site-packages\\sklearn\\model_selection\\_search.py:909: DataConversionWarning: A column-vector y was passed when a 1d array was expected. Please change the shape of y to (n_samples,), for example using ravel().\n",
      "  self.best_estimator_.fit(X, y, **fit_params)\n",
      "C:\\Users\\hazel\\anaconda3\\Lib\\site-packages\\sklearn\\ensemble\\_forest.py:424: FutureWarning: `max_features='auto'` has been deprecated in 1.1 and will be removed in 1.3. To keep the past behaviour, explicitly set `max_features='sqrt'` or remove this parameter as it is also the default value for RandomForestClassifiers and ExtraTreesClassifiers.\n",
      "  warn(\n",
      "C:\\Users\\hazel\\anaconda3\\Lib\\site-packages\\sklearn\\metrics\\_classification.py:1344: UndefinedMetricWarning: Precision is ill-defined and being set to 0.0 in labels with no predicted samples. Use `zero_division` parameter to control this behavior.\n",
      "  _warn_prf(average, modifier, msg_start, len(result))\n"
     ]
    },
    {
     "name": "stdout",
     "output_type": "stream",
     "text": [
      "Fitting 10 folds for each of 24 candidates, totalling 240 fits\n"
     ]
    },
    {
     "name": "stderr",
     "output_type": "stream",
     "text": [
      "C:\\Users\\hazel\\anaconda3\\Lib\\site-packages\\sklearn\\model_selection\\_search.py:909: DataConversionWarning: A column-vector y was passed when a 1d array was expected. Please change the shape of y to (n_samples,), for example using ravel().\n",
      "  self.best_estimator_.fit(X, y, **fit_params)\n",
      "C:\\Users\\hazel\\anaconda3\\Lib\\site-packages\\sklearn\\ensemble\\_forest.py:424: FutureWarning: `max_features='auto'` has been deprecated in 1.1 and will be removed in 1.3. To keep the past behaviour, explicitly set `max_features='sqrt'` or remove this parameter as it is also the default value for RandomForestClassifiers and ExtraTreesClassifiers.\n",
      "  warn(\n",
      "C:\\Users\\hazel\\anaconda3\\Lib\\site-packages\\sklearn\\metrics\\_classification.py:1344: UndefinedMetricWarning: Precision is ill-defined and being set to 0.0 in labels with no predicted samples. Use `zero_division` parameter to control this behavior.\n",
      "  _warn_prf(average, modifier, msg_start, len(result))\n"
     ]
    },
    {
     "name": "stdout",
     "output_type": "stream",
     "text": [
      "Fitting 10 folds for each of 24 candidates, totalling 240 fits\n"
     ]
    },
    {
     "name": "stderr",
     "output_type": "stream",
     "text": [
      "C:\\Users\\hazel\\anaconda3\\Lib\\site-packages\\sklearn\\model_selection\\_search.py:909: DataConversionWarning: A column-vector y was passed when a 1d array was expected. Please change the shape of y to (n_samples,), for example using ravel().\n",
      "  self.best_estimator_.fit(X, y, **fit_params)\n"
     ]
    },
    {
     "data": {
      "text/html": [
       "<div>\n",
       "<style scoped>\n",
       "    .dataframe tbody tr th:only-of-type {\n",
       "        vertical-align: middle;\n",
       "    }\n",
       "\n",
       "    .dataframe tbody tr th {\n",
       "        vertical-align: top;\n",
       "    }\n",
       "\n",
       "    .dataframe thead th {\n",
       "        text-align: right;\n",
       "    }\n",
       "</style>\n",
       "<table border=\"1\" class=\"dataframe\">\n",
       "  <thead>\n",
       "    <tr style=\"text-align: right;\">\n",
       "      <th></th>\n",
       "      <th>Test Size</th>\n",
       "      <th>Random State</th>\n",
       "      <th>Accuracy</th>\n",
       "      <th>Precision</th>\n",
       "      <th>Recall</th>\n",
       "      <th>F1 Score</th>\n",
       "      <th>Best Param</th>\n",
       "    </tr>\n",
       "  </thead>\n",
       "  <tbody>\n",
       "    <tr>\n",
       "      <th>0</th>\n",
       "      <td>100</td>\n",
       "      <td>7</td>\n",
       "      <td>0.412587</td>\n",
       "      <td>0.361984</td>\n",
       "      <td>0.412587</td>\n",
       "      <td>0.381797</td>\n",
       "      <td>{'criterion': 'gini', 'max_features': 'auto', ...</td>\n",
       "    </tr>\n",
       "    <tr>\n",
       "      <th>1</th>\n",
       "      <td>100</td>\n",
       "      <td>69</td>\n",
       "      <td>0.427350</td>\n",
       "      <td>0.371623</td>\n",
       "      <td>0.427350</td>\n",
       "      <td>0.392436</td>\n",
       "      <td>{'criterion': 'gini', 'max_features': 'auto', ...</td>\n",
       "    </tr>\n",
       "    <tr>\n",
       "      <th>2</th>\n",
       "      <td>100</td>\n",
       "      <td>101</td>\n",
       "      <td>0.425019</td>\n",
       "      <td>0.369695</td>\n",
       "      <td>0.425019</td>\n",
       "      <td>0.390577</td>\n",
       "      <td>{'criterion': 'gini', 'max_features': 'sqrt', ...</td>\n",
       "    </tr>\n",
       "  </tbody>\n",
       "</table>\n",
       "</div>"
      ],
      "text/plain": [
       "   Test Size  Random State  Accuracy  Precision    Recall  F1 Score  \\\n",
       "0        100             7  0.412587   0.361984  0.412587  0.381797   \n",
       "1        100            69  0.427350   0.371623  0.427350  0.392436   \n",
       "2        100           101  0.425019   0.369695  0.425019  0.390577   \n",
       "\n",
       "                                          Best Param  \n",
       "0  {'criterion': 'gini', 'max_features': 'auto', ...  \n",
       "1  {'criterion': 'gini', 'max_features': 'auto', ...  \n",
       "2  {'criterion': 'gini', 'max_features': 'sqrt', ...  "
      ]
     },
     "execution_count": 61,
     "metadata": {},
     "output_type": "execute_result"
    }
   ],
   "source": [
    "temp5L_SB_imb = []\n",
    "\n",
    "y_train = df3_5L_imb[['CGPA']]\n",
    "X_train = df3_5L_imb[['Age','Gender','Nationality', 'Living Status', 'Home Town', 'Faculty', 'Education Level',\n",
    "                     'Years of Study', 'Completed Credit Hours']]\n",
    "\n",
    "y_test = merge_5L_imb[['CGPA']]\n",
    "X_test = merge_5L_imb[['Age','Gender','Nationality', 'Living Status', 'Home Town', 'Faculty', 'Education Level',\n",
    "                     'Years of Study', 'Completed Credit Hours']]\n",
    "\n",
    "for j in rand_states:\n",
    "    param_grid = {'n_estimators': [100, 200, 300, 400],\n",
    "                  'max_features': ['auto', 'sqrt', 'log2'],\n",
    "                  'criterion' :['gini', 'entropy']}\n",
    "\n",
    "    model = GridSearchCV(RandomForestClassifier(), param_grid, refit=True, n_jobs=-1, cv=10, verbose=1)\n",
    "    model.fit(X_train, y_train)\n",
    "    pred = model.predict(X_test)\n",
    "\n",
    "    acc = accuracy_score(y_test,pred)\n",
    "    pre = precision_score(y_test, pred, average='weighted')\n",
    "    recall = recall_score(y_test, pred, average='weighted')\n",
    "    f1 = f1_score(y_test, pred, average='weighted')\n",
    "    param = model.best_params_\n",
    "\n",
    "    temp5L_SB_imb.append([100,j,acc,pre,recall,f1,param])\n",
    "        \n",
    "df5L_SB_imb = pd.DataFrame(columns=['Test Size','Random State','Accuracy','Precision','Recall','F1 Score','Best Param'],data=temp5L_SB_imb)\n",
    "df5L_SB_imb"
   ]
  },
  {
   "cell_type": "code",
   "execution_count": 62,
   "id": "b10b1a5f-c5a0-44e5-b9a8-fa1040f2b86e",
   "metadata": {},
   "outputs": [
    {
     "data": {
      "text/html": [
       "<div>\n",
       "<style scoped>\n",
       "    .dataframe tbody tr th:only-of-type {\n",
       "        vertical-align: middle;\n",
       "    }\n",
       "\n",
       "    .dataframe tbody tr th {\n",
       "        vertical-align: top;\n",
       "    }\n",
       "\n",
       "    .dataframe thead th {\n",
       "        text-align: right;\n",
       "    }\n",
       "</style>\n",
       "<table border=\"1\" class=\"dataframe\">\n",
       "  <thead>\n",
       "    <tr style=\"text-align: right;\">\n",
       "      <th></th>\n",
       "      <th>Accuracy</th>\n",
       "      <th>Precision</th>\n",
       "      <th>Recall</th>\n",
       "      <th>F1 Score</th>\n",
       "    </tr>\n",
       "    <tr>\n",
       "      <th>Test Size</th>\n",
       "      <th></th>\n",
       "      <th></th>\n",
       "      <th></th>\n",
       "      <th></th>\n",
       "    </tr>\n",
       "  </thead>\n",
       "  <tbody>\n",
       "    <tr>\n",
       "      <th>100</th>\n",
       "      <td>0.421652</td>\n",
       "      <td>0.367767</td>\n",
       "      <td>0.421652</td>\n",
       "      <td>0.38827</td>\n",
       "    </tr>\n",
       "  </tbody>\n",
       "</table>\n",
       "</div>"
      ],
      "text/plain": [
       "           Accuracy  Precision    Recall  F1 Score\n",
       "Test Size                                         \n",
       "100        0.421652   0.367767  0.421652   0.38827"
      ]
     },
     "execution_count": 62,
     "metadata": {},
     "output_type": "execute_result"
    }
   ],
   "source": [
    "df5L_SB_imb.groupby('Test Size')[['Accuracy','Precision','Recall','F1 Score']].mean()"
   ]
  },
  {
   "cell_type": "code",
   "execution_count": 63,
   "id": "24c2ce3d-d469-465f-b5d9-09b073c55ca7",
   "metadata": {},
   "outputs": [
    {
     "name": "stdout",
     "output_type": "stream",
     "text": [
      "Imbalance 5-Level: Student Background\n",
      "\n",
      "{'criterion': 'gini', 'max_features': 'auto', 'n_estimators': 200}\n",
      "{'criterion': 'gini', 'max_features': 'auto', 'n_estimators': 200}\n",
      "{'criterion': 'gini', 'max_features': 'sqrt', 'n_estimators': 300}\n"
     ]
    }
   ],
   "source": [
    "print(\"Imbalance 5-Level: Student Background\\n\")\n",
    "for x in df5L_SB_imb[\"Best Param\"]:\n",
    "    print(x)"
   ]
  },
  {
   "cell_type": "markdown",
   "id": "c3f684b8-1f3c-4973-9e6e-6ff878e54b6d",
   "metadata": {},
   "source": [
    "### SB after RandomOverSampler"
   ]
  },
  {
   "cell_type": "code",
   "execution_count": 64,
   "id": "d451da98-ff06-4c4a-bcc3-79c42143ad99",
   "metadata": {},
   "outputs": [
    {
     "name": "stdout",
     "output_type": "stream",
     "text": [
      "Fitting 10 folds for each of 24 candidates, totalling 240 fits\n"
     ]
    },
    {
     "name": "stderr",
     "output_type": "stream",
     "text": [
      "C:\\Users\\hazel\\anaconda3\\Lib\\site-packages\\sklearn\\model_selection\\_search.py:909: DataConversionWarning: A column-vector y was passed when a 1d array was expected. Please change the shape of y to (n_samples,), for example using ravel().\n",
      "  self.best_estimator_.fit(X, y, **fit_params)\n",
      "C:\\Users\\hazel\\anaconda3\\Lib\\site-packages\\sklearn\\ensemble\\_forest.py:424: FutureWarning: `max_features='auto'` has been deprecated in 1.1 and will be removed in 1.3. To keep the past behaviour, explicitly set `max_features='sqrt'` or remove this parameter as it is also the default value for RandomForestClassifiers and ExtraTreesClassifiers.\n",
      "  warn(\n"
     ]
    },
    {
     "name": "stdout",
     "output_type": "stream",
     "text": [
      "Fitting 10 folds for each of 24 candidates, totalling 240 fits\n"
     ]
    },
    {
     "name": "stderr",
     "output_type": "stream",
     "text": [
      "C:\\Users\\hazel\\anaconda3\\Lib\\site-packages\\sklearn\\model_selection\\_search.py:909: DataConversionWarning: A column-vector y was passed when a 1d array was expected. Please change the shape of y to (n_samples,), for example using ravel().\n",
      "  self.best_estimator_.fit(X, y, **fit_params)\n"
     ]
    },
    {
     "name": "stdout",
     "output_type": "stream",
     "text": [
      "Fitting 10 folds for each of 24 candidates, totalling 240 fits\n"
     ]
    },
    {
     "name": "stderr",
     "output_type": "stream",
     "text": [
      "C:\\Users\\hazel\\anaconda3\\Lib\\site-packages\\sklearn\\model_selection\\_search.py:909: DataConversionWarning: A column-vector y was passed when a 1d array was expected. Please change the shape of y to (n_samples,), for example using ravel().\n",
      "  self.best_estimator_.fit(X, y, **fit_params)\n",
      "C:\\Users\\hazel\\anaconda3\\Lib\\site-packages\\sklearn\\ensemble\\_forest.py:424: FutureWarning: `max_features='auto'` has been deprecated in 1.1 and will be removed in 1.3. To keep the past behaviour, explicitly set `max_features='sqrt'` or remove this parameter as it is also the default value for RandomForestClassifiers and ExtraTreesClassifiers.\n",
      "  warn(\n"
     ]
    },
    {
     "data": {
      "text/html": [
       "<div>\n",
       "<style scoped>\n",
       "    .dataframe tbody tr th:only-of-type {\n",
       "        vertical-align: middle;\n",
       "    }\n",
       "\n",
       "    .dataframe tbody tr th {\n",
       "        vertical-align: top;\n",
       "    }\n",
       "\n",
       "    .dataframe thead th {\n",
       "        text-align: right;\n",
       "    }\n",
       "</style>\n",
       "<table border=\"1\" class=\"dataframe\">\n",
       "  <thead>\n",
       "    <tr style=\"text-align: right;\">\n",
       "      <th></th>\n",
       "      <th>Test Size</th>\n",
       "      <th>Random State</th>\n",
       "      <th>Accuracy</th>\n",
       "      <th>Precision</th>\n",
       "      <th>Recall</th>\n",
       "      <th>F1 Score</th>\n",
       "      <th>Best Param</th>\n",
       "    </tr>\n",
       "  </thead>\n",
       "  <tbody>\n",
       "    <tr>\n",
       "      <th>0</th>\n",
       "      <td>100</td>\n",
       "      <td>7</td>\n",
       "      <td>0.211669</td>\n",
       "      <td>0.213990</td>\n",
       "      <td>0.211669</td>\n",
       "      <td>0.173945</td>\n",
       "      <td>{'criterion': 'entropy', 'max_features': 'auto...</td>\n",
       "    </tr>\n",
       "    <tr>\n",
       "      <th>1</th>\n",
       "      <td>100</td>\n",
       "      <td>69</td>\n",
       "      <td>0.212966</td>\n",
       "      <td>0.214113</td>\n",
       "      <td>0.212966</td>\n",
       "      <td>0.174524</td>\n",
       "      <td>{'criterion': 'gini', 'max_features': 'log2', ...</td>\n",
       "    </tr>\n",
       "    <tr>\n",
       "      <th>2</th>\n",
       "      <td>100</td>\n",
       "      <td>101</td>\n",
       "      <td>0.219125</td>\n",
       "      <td>0.218720</td>\n",
       "      <td>0.219125</td>\n",
       "      <td>0.179135</td>\n",
       "      <td>{'criterion': 'entropy', 'max_features': 'auto...</td>\n",
       "    </tr>\n",
       "  </tbody>\n",
       "</table>\n",
       "</div>"
      ],
      "text/plain": [
       "   Test Size  Random State  Accuracy  Precision    Recall  F1 Score  \\\n",
       "0        100             7  0.211669   0.213990  0.211669  0.173945   \n",
       "1        100            69  0.212966   0.214113  0.212966  0.174524   \n",
       "2        100           101  0.219125   0.218720  0.219125  0.179135   \n",
       "\n",
       "                                          Best Param  \n",
       "0  {'criterion': 'entropy', 'max_features': 'auto...  \n",
       "1  {'criterion': 'gini', 'max_features': 'log2', ...  \n",
       "2  {'criterion': 'entropy', 'max_features': 'auto...  "
      ]
     },
     "execution_count": 64,
     "metadata": {},
     "output_type": "execute_result"
    }
   ],
   "source": [
    "temp5L_SB_ROS = []\n",
    "\n",
    "y_train = df3_5L_ROS[['CGPA']]\n",
    "X_train = df3_5L_ROS[['Age','Gender','Nationality', 'Living Status', 'Home Town', 'Faculty', 'Education Level',\n",
    "                     'Years of Study', 'Completed Credit Hours']]\n",
    "\n",
    "y_test = merge_5L_ROS[['CGPA']]\n",
    "X_test = merge_5L_ROS[['Age','Gender','Nationality', 'Living Status', 'Home Town', 'Faculty', 'Education Level',\n",
    "                     'Years of Study', 'Completed Credit Hours']]\n",
    "\n",
    "for j in rand_states:\n",
    "    param_grid = {'n_estimators': [100, 200, 300, 400],\n",
    "                  'max_features': ['auto', 'sqrt', 'log2'],\n",
    "                  'criterion' :['gini', 'entropy']}\n",
    "\n",
    "    model = GridSearchCV(RandomForestClassifier(), param_grid, refit=True, n_jobs=-1, cv=10, verbose=1)\n",
    "    model.fit(X_train, y_train)\n",
    "    pred = model.predict(X_test)\n",
    "\n",
    "    acc = accuracy_score(y_test,pred)\n",
    "    pre = precision_score(y_test, pred, average='weighted')\n",
    "    recall = recall_score(y_test, pred, average='weighted')\n",
    "    f1 = f1_score(y_test, pred, average='weighted')\n",
    "    param = model.best_params_\n",
    "\n",
    "    temp5L_SB_ROS.append([100,j,acc,pre,recall,f1,param])\n",
    "        \n",
    "df5L_SB_ROS = pd.DataFrame(columns=['Test Size','Random State','Accuracy','Precision','Recall','F1 Score','Best Param'],data=temp5L_SB_ROS)\n",
    "df5L_SB_ROS"
   ]
  },
  {
   "cell_type": "code",
   "execution_count": 65,
   "id": "df476af3-a707-454c-916f-734068b986dd",
   "metadata": {},
   "outputs": [
    {
     "data": {
      "text/html": [
       "<div>\n",
       "<style scoped>\n",
       "    .dataframe tbody tr th:only-of-type {\n",
       "        vertical-align: middle;\n",
       "    }\n",
       "\n",
       "    .dataframe tbody tr th {\n",
       "        vertical-align: top;\n",
       "    }\n",
       "\n",
       "    .dataframe thead th {\n",
       "        text-align: right;\n",
       "    }\n",
       "</style>\n",
       "<table border=\"1\" class=\"dataframe\">\n",
       "  <thead>\n",
       "    <tr style=\"text-align: right;\">\n",
       "      <th></th>\n",
       "      <th>Accuracy</th>\n",
       "      <th>Precision</th>\n",
       "      <th>Recall</th>\n",
       "      <th>F1 Score</th>\n",
       "    </tr>\n",
       "    <tr>\n",
       "      <th>Test Size</th>\n",
       "      <th></th>\n",
       "      <th></th>\n",
       "      <th></th>\n",
       "      <th></th>\n",
       "    </tr>\n",
       "  </thead>\n",
       "  <tbody>\n",
       "    <tr>\n",
       "      <th>100</th>\n",
       "      <td>0.214587</td>\n",
       "      <td>0.215608</td>\n",
       "      <td>0.214587</td>\n",
       "      <td>0.175868</td>\n",
       "    </tr>\n",
       "  </tbody>\n",
       "</table>\n",
       "</div>"
      ],
      "text/plain": [
       "           Accuracy  Precision    Recall  F1 Score\n",
       "Test Size                                         \n",
       "100        0.214587   0.215608  0.214587  0.175868"
      ]
     },
     "execution_count": 65,
     "metadata": {},
     "output_type": "execute_result"
    }
   ],
   "source": [
    "df5L_SB_ROS.groupby('Test Size')[['Accuracy','Precision','Recall','F1 Score']].mean()"
   ]
  },
  {
   "cell_type": "code",
   "execution_count": 66,
   "id": "0e0f73cb-b25a-4223-bcc5-5c66c97529b7",
   "metadata": {},
   "outputs": [
    {
     "name": "stdout",
     "output_type": "stream",
     "text": [
      "5-Level: Student Background\n",
      "\n",
      "{'criterion': 'entropy', 'max_features': 'auto', 'n_estimators': 100}\n",
      "{'criterion': 'gini', 'max_features': 'log2', 'n_estimators': 200}\n",
      "{'criterion': 'entropy', 'max_features': 'auto', 'n_estimators': 300}\n"
     ]
    }
   ],
   "source": [
    "print(\"5-Level: Student Background\\n\")\n",
    "for x in df5L_SB_ROS[\"Best Param\"]:\n",
    "    print(x)"
   ]
  },
  {
   "cell_type": "markdown",
   "id": "65c91079-95ea-4cce-be49-7d1eccf4d016",
   "metadata": {},
   "source": [
    "### SB after SMOTE"
   ]
  },
  {
   "cell_type": "code",
   "execution_count": 67,
   "id": "13ca4aa0-8e8a-4111-8a90-1af4da56cbda",
   "metadata": {},
   "outputs": [
    {
     "name": "stdout",
     "output_type": "stream",
     "text": [
      "Fitting 10 folds for each of 24 candidates, totalling 240 fits\n"
     ]
    },
    {
     "name": "stderr",
     "output_type": "stream",
     "text": [
      "C:\\Users\\hazel\\anaconda3\\Lib\\site-packages\\sklearn\\model_selection\\_search.py:909: DataConversionWarning: A column-vector y was passed when a 1d array was expected. Please change the shape of y to (n_samples,), for example using ravel().\n",
      "  self.best_estimator_.fit(X, y, **fit_params)\n"
     ]
    },
    {
     "name": "stdout",
     "output_type": "stream",
     "text": [
      "Fitting 10 folds for each of 24 candidates, totalling 240 fits\n"
     ]
    },
    {
     "name": "stderr",
     "output_type": "stream",
     "text": [
      "C:\\Users\\hazel\\anaconda3\\Lib\\site-packages\\sklearn\\model_selection\\_search.py:909: DataConversionWarning: A column-vector y was passed when a 1d array was expected. Please change the shape of y to (n_samples,), for example using ravel().\n",
      "  self.best_estimator_.fit(X, y, **fit_params)\n",
      "C:\\Users\\hazel\\anaconda3\\Lib\\site-packages\\sklearn\\ensemble\\_forest.py:424: FutureWarning: `max_features='auto'` has been deprecated in 1.1 and will be removed in 1.3. To keep the past behaviour, explicitly set `max_features='sqrt'` or remove this parameter as it is also the default value for RandomForestClassifiers and ExtraTreesClassifiers.\n",
      "  warn(\n"
     ]
    },
    {
     "name": "stdout",
     "output_type": "stream",
     "text": [
      "Fitting 10 folds for each of 24 candidates, totalling 240 fits\n"
     ]
    },
    {
     "name": "stderr",
     "output_type": "stream",
     "text": [
      "C:\\Users\\hazel\\anaconda3\\Lib\\site-packages\\sklearn\\model_selection\\_search.py:909: DataConversionWarning: A column-vector y was passed when a 1d array was expected. Please change the shape of y to (n_samples,), for example using ravel().\n",
      "  self.best_estimator_.fit(X, y, **fit_params)\n"
     ]
    },
    {
     "data": {
      "text/html": [
       "<div>\n",
       "<style scoped>\n",
       "    .dataframe tbody tr th:only-of-type {\n",
       "        vertical-align: middle;\n",
       "    }\n",
       "\n",
       "    .dataframe tbody tr th {\n",
       "        vertical-align: top;\n",
       "    }\n",
       "\n",
       "    .dataframe thead th {\n",
       "        text-align: right;\n",
       "    }\n",
       "</style>\n",
       "<table border=\"1\" class=\"dataframe\">\n",
       "  <thead>\n",
       "    <tr style=\"text-align: right;\">\n",
       "      <th></th>\n",
       "      <th>Test Size</th>\n",
       "      <th>Random State</th>\n",
       "      <th>Accuracy</th>\n",
       "      <th>Precision</th>\n",
       "      <th>Recall</th>\n",
       "      <th>F1 Score</th>\n",
       "      <th>Best Param</th>\n",
       "    </tr>\n",
       "  </thead>\n",
       "  <tbody>\n",
       "    <tr>\n",
       "      <th>0</th>\n",
       "      <td>100</td>\n",
       "      <td>7</td>\n",
       "      <td>0.272934</td>\n",
       "      <td>0.276844</td>\n",
       "      <td>0.272934</td>\n",
       "      <td>0.261484</td>\n",
       "      <td>{'criterion': 'gini', 'max_features': 'sqrt', ...</td>\n",
       "    </tr>\n",
       "    <tr>\n",
       "      <th>1</th>\n",
       "      <td>100</td>\n",
       "      <td>69</td>\n",
       "      <td>0.274230</td>\n",
       "      <td>0.278957</td>\n",
       "      <td>0.274230</td>\n",
       "      <td>0.262385</td>\n",
       "      <td>{'criterion': 'gini', 'max_features': 'auto', ...</td>\n",
       "    </tr>\n",
       "    <tr>\n",
       "      <th>2</th>\n",
       "      <td>100</td>\n",
       "      <td>101</td>\n",
       "      <td>0.272285</td>\n",
       "      <td>0.278496</td>\n",
       "      <td>0.272285</td>\n",
       "      <td>0.260950</td>\n",
       "      <td>{'criterion': 'gini', 'max_features': 'sqrt', ...</td>\n",
       "    </tr>\n",
       "  </tbody>\n",
       "</table>\n",
       "</div>"
      ],
      "text/plain": [
       "   Test Size  Random State  Accuracy  Precision    Recall  F1 Score  \\\n",
       "0        100             7  0.272934   0.276844  0.272934  0.261484   \n",
       "1        100            69  0.274230   0.278957  0.274230  0.262385   \n",
       "2        100           101  0.272285   0.278496  0.272285  0.260950   \n",
       "\n",
       "                                          Best Param  \n",
       "0  {'criterion': 'gini', 'max_features': 'sqrt', ...  \n",
       "1  {'criterion': 'gini', 'max_features': 'auto', ...  \n",
       "2  {'criterion': 'gini', 'max_features': 'sqrt', ...  "
      ]
     },
     "execution_count": 67,
     "metadata": {},
     "output_type": "execute_result"
    }
   ],
   "source": [
    "temp5L_SB_SMOTE = []\n",
    "\n",
    "y_train = df3_5L_SMOTE[['CGPA']]\n",
    "X_train = df3_5L_SMOTE[['Age','Gender','Nationality', 'Living Status', 'Home Town', 'Faculty', 'Education Level',\n",
    "                     'Years of Study', 'Completed Credit Hours']]\n",
    "\n",
    "y_test = merge_5L_SMOTE[['CGPA']]\n",
    "X_test = merge_5L_SMOTE[['Age','Gender','Nationality', 'Living Status', 'Home Town', 'Faculty', 'Education Level',\n",
    "                     'Years of Study', 'Completed Credit Hours']]\n",
    "\n",
    "for j in rand_states:\n",
    "    param_grid = {'n_estimators': [100, 200, 300, 400],\n",
    "                  'max_features': ['auto', 'sqrt', 'log2'],\n",
    "                  'criterion' :['gini', 'entropy']}\n",
    "\n",
    "    model = GridSearchCV(RandomForestClassifier(), param_grid, refit=True, n_jobs=-1, cv=10, verbose=1)\n",
    "    model.fit(X_train, y_train)\n",
    "    pred = model.predict(X_test)\n",
    "\n",
    "    acc = accuracy_score(y_test,pred)\n",
    "    pre = precision_score(y_test, pred, average='weighted')\n",
    "    recall = recall_score(y_test, pred, average='weighted')\n",
    "    f1 = f1_score(y_test, pred, average='weighted')\n",
    "    param = model.best_params_\n",
    "\n",
    "    temp5L_SB_SMOTE.append([100,j,acc,pre,recall,f1,param])\n",
    "        \n",
    "df5L_SB_SMOTE = pd.DataFrame(columns=['Test Size','Random State','Accuracy','Precision','Recall','F1 Score','Best Param'],data=temp5L_SB_SMOTE)\n",
    "df5L_SB_SMOTE"
   ]
  },
  {
   "cell_type": "code",
   "execution_count": 68,
   "id": "027a65db-a9fd-4830-8355-445f7d3dccf9",
   "metadata": {},
   "outputs": [
    {
     "data": {
      "text/html": [
       "<div>\n",
       "<style scoped>\n",
       "    .dataframe tbody tr th:only-of-type {\n",
       "        vertical-align: middle;\n",
       "    }\n",
       "\n",
       "    .dataframe tbody tr th {\n",
       "        vertical-align: top;\n",
       "    }\n",
       "\n",
       "    .dataframe thead th {\n",
       "        text-align: right;\n",
       "    }\n",
       "</style>\n",
       "<table border=\"1\" class=\"dataframe\">\n",
       "  <thead>\n",
       "    <tr style=\"text-align: right;\">\n",
       "      <th></th>\n",
       "      <th>Accuracy</th>\n",
       "      <th>Precision</th>\n",
       "      <th>Recall</th>\n",
       "      <th>F1 Score</th>\n",
       "    </tr>\n",
       "    <tr>\n",
       "      <th>Test Size</th>\n",
       "      <th></th>\n",
       "      <th></th>\n",
       "      <th></th>\n",
       "      <th></th>\n",
       "    </tr>\n",
       "  </thead>\n",
       "  <tbody>\n",
       "    <tr>\n",
       "      <th>100</th>\n",
       "      <td>0.27315</td>\n",
       "      <td>0.278099</td>\n",
       "      <td>0.27315</td>\n",
       "      <td>0.261606</td>\n",
       "    </tr>\n",
       "  </tbody>\n",
       "</table>\n",
       "</div>"
      ],
      "text/plain": [
       "           Accuracy  Precision   Recall  F1 Score\n",
       "Test Size                                        \n",
       "100         0.27315   0.278099  0.27315  0.261606"
      ]
     },
     "execution_count": 68,
     "metadata": {},
     "output_type": "execute_result"
    }
   ],
   "source": [
    "df5L_SB_SMOTE.groupby('Test Size')[['Accuracy','Precision','Recall','F1 Score']].mean()"
   ]
  },
  {
   "cell_type": "code",
   "execution_count": 69,
   "id": "6ddd9f9b-e27d-43eb-acca-23fc14cb730d",
   "metadata": {},
   "outputs": [
    {
     "name": "stdout",
     "output_type": "stream",
     "text": [
      "SMOTE 5-Level: Student Background\n",
      "\n",
      "{'criterion': 'gini', 'max_features': 'sqrt', 'n_estimators': 100}\n",
      "{'criterion': 'gini', 'max_features': 'auto', 'n_estimators': 300}\n",
      "{'criterion': 'gini', 'max_features': 'sqrt', 'n_estimators': 400}\n"
     ]
    }
   ],
   "source": [
    "print(\"SMOTE 5-Level: Student Background\\n\")\n",
    "for x in df5L_SB_SMOTE[\"Best Param\"]:\n",
    "    print(x)"
   ]
  },
  {
   "cell_type": "markdown",
   "id": "368d0654-dc49-4f18-a759-65deebc32432",
   "metadata": {},
   "source": [
    "## Student History Grades"
   ]
  },
  {
   "cell_type": "markdown",
   "id": "e04ded7b-9bb4-4ce9-826c-9113b2afa891",
   "metadata": {},
   "source": [
    "### SHG before Data Balancing"
   ]
  },
  {
   "cell_type": "code",
   "execution_count": 70,
   "id": "41307b27-94be-494c-bddf-b463e09a8b03",
   "metadata": {},
   "outputs": [
    {
     "name": "stdout",
     "output_type": "stream",
     "text": [
      "Fitting 10 folds for each of 24 candidates, totalling 240 fits\n"
     ]
    },
    {
     "name": "stderr",
     "output_type": "stream",
     "text": [
      "C:\\Users\\hazel\\anaconda3\\Lib\\site-packages\\sklearn\\model_selection\\_search.py:909: DataConversionWarning: A column-vector y was passed when a 1d array was expected. Please change the shape of y to (n_samples,), for example using ravel().\n",
      "  self.best_estimator_.fit(X, y, **fit_params)\n",
      "C:\\Users\\hazel\\anaconda3\\Lib\\site-packages\\sklearn\\ensemble\\_forest.py:424: FutureWarning: `max_features='auto'` has been deprecated in 1.1 and will be removed in 1.3. To keep the past behaviour, explicitly set `max_features='sqrt'` or remove this parameter as it is also the default value for RandomForestClassifiers and ExtraTreesClassifiers.\n",
      "  warn(\n"
     ]
    },
    {
     "name": "stdout",
     "output_type": "stream",
     "text": [
      "Fitting 10 folds for each of 24 candidates, totalling 240 fits\n"
     ]
    },
    {
     "name": "stderr",
     "output_type": "stream",
     "text": [
      "C:\\Users\\hazel\\anaconda3\\Lib\\site-packages\\sklearn\\model_selection\\_search.py:909: DataConversionWarning: A column-vector y was passed when a 1d array was expected. Please change the shape of y to (n_samples,), for example using ravel().\n",
      "  self.best_estimator_.fit(X, y, **fit_params)\n",
      "C:\\Users\\hazel\\anaconda3\\Lib\\site-packages\\sklearn\\ensemble\\_forest.py:424: FutureWarning: `max_features='auto'` has been deprecated in 1.1 and will be removed in 1.3. To keep the past behaviour, explicitly set `max_features='sqrt'` or remove this parameter as it is also the default value for RandomForestClassifiers and ExtraTreesClassifiers.\n",
      "  warn(\n"
     ]
    },
    {
     "name": "stdout",
     "output_type": "stream",
     "text": [
      "Fitting 10 folds for each of 24 candidates, totalling 240 fits\n"
     ]
    },
    {
     "name": "stderr",
     "output_type": "stream",
     "text": [
      "C:\\Users\\hazel\\anaconda3\\Lib\\site-packages\\sklearn\\model_selection\\_search.py:909: DataConversionWarning: A column-vector y was passed when a 1d array was expected. Please change the shape of y to (n_samples,), for example using ravel().\n",
      "  self.best_estimator_.fit(X, y, **fit_params)\n"
     ]
    },
    {
     "data": {
      "text/html": [
       "<div>\n",
       "<style scoped>\n",
       "    .dataframe tbody tr th:only-of-type {\n",
       "        vertical-align: middle;\n",
       "    }\n",
       "\n",
       "    .dataframe tbody tr th {\n",
       "        vertical-align: top;\n",
       "    }\n",
       "\n",
       "    .dataframe thead th {\n",
       "        text-align: right;\n",
       "    }\n",
       "</style>\n",
       "<table border=\"1\" class=\"dataframe\">\n",
       "  <thead>\n",
       "    <tr style=\"text-align: right;\">\n",
       "      <th></th>\n",
       "      <th>Test Size</th>\n",
       "      <th>Random State</th>\n",
       "      <th>Accuracy</th>\n",
       "      <th>Precision</th>\n",
       "      <th>Recall</th>\n",
       "      <th>F1 Score</th>\n",
       "      <th>Best Param</th>\n",
       "    </tr>\n",
       "  </thead>\n",
       "  <tbody>\n",
       "    <tr>\n",
       "      <th>0</th>\n",
       "      <td>100</td>\n",
       "      <td>7</td>\n",
       "      <td>0.502720</td>\n",
       "      <td>0.472609</td>\n",
       "      <td>0.502720</td>\n",
       "      <td>0.481724</td>\n",
       "      <td>{'criterion': 'gini', 'max_features': 'auto', ...</td>\n",
       "    </tr>\n",
       "    <tr>\n",
       "      <th>1</th>\n",
       "      <td>100</td>\n",
       "      <td>69</td>\n",
       "      <td>0.508159</td>\n",
       "      <td>0.477025</td>\n",
       "      <td>0.508159</td>\n",
       "      <td>0.484279</td>\n",
       "      <td>{'criterion': 'gini', 'max_features': 'auto', ...</td>\n",
       "    </tr>\n",
       "    <tr>\n",
       "      <th>2</th>\n",
       "      <td>100</td>\n",
       "      <td>101</td>\n",
       "      <td>0.511267</td>\n",
       "      <td>0.477452</td>\n",
       "      <td>0.511267</td>\n",
       "      <td>0.486988</td>\n",
       "      <td>{'criterion': 'entropy', 'max_features': 'log2...</td>\n",
       "    </tr>\n",
       "  </tbody>\n",
       "</table>\n",
       "</div>"
      ],
      "text/plain": [
       "   Test Size  Random State  Accuracy  Precision    Recall  F1 Score  \\\n",
       "0        100             7  0.502720   0.472609  0.502720  0.481724   \n",
       "1        100            69  0.508159   0.477025  0.508159  0.484279   \n",
       "2        100           101  0.511267   0.477452  0.511267  0.486988   \n",
       "\n",
       "                                          Best Param  \n",
       "0  {'criterion': 'gini', 'max_features': 'auto', ...  \n",
       "1  {'criterion': 'gini', 'max_features': 'auto', ...  \n",
       "2  {'criterion': 'entropy', 'max_features': 'log2...  "
      ]
     },
     "execution_count": 70,
     "metadata": {},
     "output_type": "execute_result"
    }
   ],
   "source": [
    "temp5L_SHG_imb = []\n",
    "\n",
    "y_train = df3_5L_imb[['CGPA']]\n",
    "X_train = df3_5L_imb[['Number of Subjects Failed','SPM Result (A)','SPM Result (B)','SPM Result (C)']]\n",
    "\n",
    "y_test = merge_5L_imb[['CGPA']]\n",
    "X_test = merge_5L_imb[['Number of Subjects Failed','SPM Result (A)','SPM Result (B)','SPM Result (C)']]\n",
    "\n",
    "for j in rand_states:\n",
    "    param_grid = {'n_estimators': [100, 200, 300, 400],\n",
    "                  'max_features': ['auto', 'sqrt', 'log2'],\n",
    "                  'criterion' :['gini', 'entropy']}\n",
    "\n",
    "    model = GridSearchCV(RandomForestClassifier(), param_grid, refit=True, n_jobs=-1, cv=10, verbose=1)\n",
    "    model.fit(X_train, y_train)\n",
    "    pred = model.predict(X_test)\n",
    "\n",
    "    acc = accuracy_score(y_test,pred)\n",
    "    pre = precision_score(y_test, pred, average='weighted')\n",
    "    recall = recall_score(y_test, pred, average='weighted')\n",
    "    f1 = f1_score(y_test, pred, average='weighted')\n",
    "    param = model.best_params_\n",
    "\n",
    "    temp5L_SHG_imb.append([100,j,acc,pre,recall,f1,param])\n",
    "        \n",
    "df5L_SHG_imb = pd.DataFrame(columns=['Test Size','Random State','Accuracy','Precision','Recall','F1 Score','Best Param'],data=temp5L_SHG_imb)\n",
    "df5L_SHG_imb"
   ]
  },
  {
   "cell_type": "code",
   "execution_count": 71,
   "id": "25ba82c3-ad05-43e3-8bfa-01f81ad1cd08",
   "metadata": {},
   "outputs": [
    {
     "data": {
      "text/html": [
       "<div>\n",
       "<style scoped>\n",
       "    .dataframe tbody tr th:only-of-type {\n",
       "        vertical-align: middle;\n",
       "    }\n",
       "\n",
       "    .dataframe tbody tr th {\n",
       "        vertical-align: top;\n",
       "    }\n",
       "\n",
       "    .dataframe thead th {\n",
       "        text-align: right;\n",
       "    }\n",
       "</style>\n",
       "<table border=\"1\" class=\"dataframe\">\n",
       "  <thead>\n",
       "    <tr style=\"text-align: right;\">\n",
       "      <th></th>\n",
       "      <th>Accuracy</th>\n",
       "      <th>Precision</th>\n",
       "      <th>Recall</th>\n",
       "      <th>F1 Score</th>\n",
       "    </tr>\n",
       "    <tr>\n",
       "      <th>Test Size</th>\n",
       "      <th></th>\n",
       "      <th></th>\n",
       "      <th></th>\n",
       "      <th></th>\n",
       "    </tr>\n",
       "  </thead>\n",
       "  <tbody>\n",
       "    <tr>\n",
       "      <th>100</th>\n",
       "      <td>0.507382</td>\n",
       "      <td>0.475696</td>\n",
       "      <td>0.507382</td>\n",
       "      <td>0.48433</td>\n",
       "    </tr>\n",
       "  </tbody>\n",
       "</table>\n",
       "</div>"
      ],
      "text/plain": [
       "           Accuracy  Precision    Recall  F1 Score\n",
       "Test Size                                         \n",
       "100        0.507382   0.475696  0.507382   0.48433"
      ]
     },
     "execution_count": 71,
     "metadata": {},
     "output_type": "execute_result"
    }
   ],
   "source": [
    "df5L_SHG_imb.groupby('Test Size')[['Accuracy','Precision','Recall','F1 Score']].mean()"
   ]
  },
  {
   "cell_type": "code",
   "execution_count": 72,
   "id": "216059ac-a66c-4be0-8a8c-26d7b72dcbbe",
   "metadata": {},
   "outputs": [
    {
     "name": "stdout",
     "output_type": "stream",
     "text": [
      "Imbalance 5-Level: Student History Grades\n",
      "\n",
      "{'criterion': 'gini', 'max_features': 'auto', 'n_estimators': 400}\n",
      "{'criterion': 'gini', 'max_features': 'auto', 'n_estimators': 300}\n",
      "{'criterion': 'entropy', 'max_features': 'log2', 'n_estimators': 400}\n"
     ]
    }
   ],
   "source": [
    "print(\"Imbalance 5-Level: Student History Grades\\n\")\n",
    "for x in df5L_SHG_imb[\"Best Param\"]:\n",
    "    print(x)"
   ]
  },
  {
   "cell_type": "markdown",
   "id": "a08aafa0-0629-470e-bcb9-1c7d18a80ce1",
   "metadata": {},
   "source": [
    "### SHG after RandomOverSampler"
   ]
  },
  {
   "cell_type": "code",
   "execution_count": 73,
   "id": "91d73589-3730-438a-8b29-e1d611c69ad3",
   "metadata": {},
   "outputs": [
    {
     "name": "stdout",
     "output_type": "stream",
     "text": [
      "Fitting 10 folds for each of 24 candidates, totalling 240 fits\n"
     ]
    },
    {
     "name": "stderr",
     "output_type": "stream",
     "text": [
      "C:\\Users\\hazel\\anaconda3\\Lib\\site-packages\\sklearn\\model_selection\\_search.py:909: DataConversionWarning: A column-vector y was passed when a 1d array was expected. Please change the shape of y to (n_samples,), for example using ravel().\n",
      "  self.best_estimator_.fit(X, y, **fit_params)\n"
     ]
    },
    {
     "name": "stdout",
     "output_type": "stream",
     "text": [
      "Fitting 10 folds for each of 24 candidates, totalling 240 fits\n"
     ]
    },
    {
     "name": "stderr",
     "output_type": "stream",
     "text": [
      "C:\\Users\\hazel\\anaconda3\\Lib\\site-packages\\sklearn\\model_selection\\_search.py:909: DataConversionWarning: A column-vector y was passed when a 1d array was expected. Please change the shape of y to (n_samples,), for example using ravel().\n",
      "  self.best_estimator_.fit(X, y, **fit_params)\n",
      "C:\\Users\\hazel\\anaconda3\\Lib\\site-packages\\sklearn\\ensemble\\_forest.py:424: FutureWarning: `max_features='auto'` has been deprecated in 1.1 and will be removed in 1.3. To keep the past behaviour, explicitly set `max_features='sqrt'` or remove this parameter as it is also the default value for RandomForestClassifiers and ExtraTreesClassifiers.\n",
      "  warn(\n"
     ]
    },
    {
     "name": "stdout",
     "output_type": "stream",
     "text": [
      "Fitting 10 folds for each of 24 candidates, totalling 240 fits\n"
     ]
    },
    {
     "name": "stderr",
     "output_type": "stream",
     "text": [
      "C:\\Users\\hazel\\anaconda3\\Lib\\site-packages\\sklearn\\model_selection\\_search.py:909: DataConversionWarning: A column-vector y was passed when a 1d array was expected. Please change the shape of y to (n_samples,), for example using ravel().\n",
      "  self.best_estimator_.fit(X, y, **fit_params)\n"
     ]
    },
    {
     "data": {
      "text/html": [
       "<div>\n",
       "<style scoped>\n",
       "    .dataframe tbody tr th:only-of-type {\n",
       "        vertical-align: middle;\n",
       "    }\n",
       "\n",
       "    .dataframe tbody tr th {\n",
       "        vertical-align: top;\n",
       "    }\n",
       "\n",
       "    .dataframe thead th {\n",
       "        text-align: right;\n",
       "    }\n",
       "</style>\n",
       "<table border=\"1\" class=\"dataframe\">\n",
       "  <thead>\n",
       "    <tr style=\"text-align: right;\">\n",
       "      <th></th>\n",
       "      <th>Test Size</th>\n",
       "      <th>Random State</th>\n",
       "      <th>Accuracy</th>\n",
       "      <th>Precision</th>\n",
       "      <th>Recall</th>\n",
       "      <th>F1 Score</th>\n",
       "      <th>Best Param</th>\n",
       "    </tr>\n",
       "  </thead>\n",
       "  <tbody>\n",
       "    <tr>\n",
       "      <th>0</th>\n",
       "      <td>100</td>\n",
       "      <td>7</td>\n",
       "      <td>0.327066</td>\n",
       "      <td>0.303879</td>\n",
       "      <td>0.327066</td>\n",
       "      <td>0.301470</td>\n",
       "      <td>{'criterion': 'gini', 'max_features': 'sqrt', ...</td>\n",
       "    </tr>\n",
       "    <tr>\n",
       "      <th>1</th>\n",
       "      <td>100</td>\n",
       "      <td>69</td>\n",
       "      <td>0.313452</td>\n",
       "      <td>0.290426</td>\n",
       "      <td>0.313452</td>\n",
       "      <td>0.287797</td>\n",
       "      <td>{'criterion': 'entropy', 'max_features': 'auto...</td>\n",
       "    </tr>\n",
       "    <tr>\n",
       "      <th>2</th>\n",
       "      <td>100</td>\n",
       "      <td>101</td>\n",
       "      <td>0.311507</td>\n",
       "      <td>0.289911</td>\n",
       "      <td>0.311507</td>\n",
       "      <td>0.286331</td>\n",
       "      <td>{'criterion': 'gini', 'max_features': 'sqrt', ...</td>\n",
       "    </tr>\n",
       "  </tbody>\n",
       "</table>\n",
       "</div>"
      ],
      "text/plain": [
       "   Test Size  Random State  Accuracy  Precision    Recall  F1 Score  \\\n",
       "0        100             7  0.327066   0.303879  0.327066  0.301470   \n",
       "1        100            69  0.313452   0.290426  0.313452  0.287797   \n",
       "2        100           101  0.311507   0.289911  0.311507  0.286331   \n",
       "\n",
       "                                          Best Param  \n",
       "0  {'criterion': 'gini', 'max_features': 'sqrt', ...  \n",
       "1  {'criterion': 'entropy', 'max_features': 'auto...  \n",
       "2  {'criterion': 'gini', 'max_features': 'sqrt', ...  "
      ]
     },
     "execution_count": 73,
     "metadata": {},
     "output_type": "execute_result"
    }
   ],
   "source": [
    "temp5L_SHG_ROS = []\n",
    "\n",
    "y_train = df3_5L_ROS[['CGPA']]\n",
    "X_train = df3_5L_ROS[['Number of Subjects Failed','SPM Result (A)','SPM Result (B)','SPM Result (C)']]\n",
    "\n",
    "y_test = merge_5L_ROS[['CGPA']]\n",
    "X_test = merge_5L_ROS[['Number of Subjects Failed','SPM Result (A)','SPM Result (B)','SPM Result (C)']]\n",
    "\n",
    "for j in rand_states:\n",
    "    param_grid = {'n_estimators': [100, 200, 300, 400],\n",
    "                  'max_features': ['auto', 'sqrt', 'log2'],\n",
    "                  'criterion' :['gini', 'entropy']}\n",
    "\n",
    "    model = GridSearchCV(RandomForestClassifier(), param_grid, refit=True, n_jobs=-1, cv=10, verbose=1)\n",
    "    model.fit(X_train, y_train)\n",
    "    pred = model.predict(X_test)\n",
    "\n",
    "    acc = accuracy_score(y_test,pred)\n",
    "    pre = precision_score(y_test, pred, average='weighted')\n",
    "    recall = recall_score(y_test, pred, average='weighted')\n",
    "    f1 = f1_score(y_test, pred, average='weighted')\n",
    "    param = model.best_params_\n",
    "\n",
    "    temp5L_SHG_ROS.append([100,j,acc,pre,recall,f1,param])\n",
    "        \n",
    "df5L_SHG_ROS = pd.DataFrame(columns=['Test Size','Random State','Accuracy','Precision','Recall','F1 Score','Best Param'],data=temp5L_SHG_ROS)\n",
    "df5L_SHG_ROS"
   ]
  },
  {
   "cell_type": "code",
   "execution_count": 74,
   "id": "a0322f11-9996-416c-9b37-72b4145618b3",
   "metadata": {},
   "outputs": [
    {
     "data": {
      "text/html": [
       "<div>\n",
       "<style scoped>\n",
       "    .dataframe tbody tr th:only-of-type {\n",
       "        vertical-align: middle;\n",
       "    }\n",
       "\n",
       "    .dataframe tbody tr th {\n",
       "        vertical-align: top;\n",
       "    }\n",
       "\n",
       "    .dataframe thead th {\n",
       "        text-align: right;\n",
       "    }\n",
       "</style>\n",
       "<table border=\"1\" class=\"dataframe\">\n",
       "  <thead>\n",
       "    <tr style=\"text-align: right;\">\n",
       "      <th></th>\n",
       "      <th>Accuracy</th>\n",
       "      <th>Precision</th>\n",
       "      <th>Recall</th>\n",
       "      <th>F1 Score</th>\n",
       "    </tr>\n",
       "    <tr>\n",
       "      <th>Test Size</th>\n",
       "      <th></th>\n",
       "      <th></th>\n",
       "      <th></th>\n",
       "      <th></th>\n",
       "    </tr>\n",
       "  </thead>\n",
       "  <tbody>\n",
       "    <tr>\n",
       "      <th>100</th>\n",
       "      <td>0.317342</td>\n",
       "      <td>0.294739</td>\n",
       "      <td>0.317342</td>\n",
       "      <td>0.291866</td>\n",
       "    </tr>\n",
       "  </tbody>\n",
       "</table>\n",
       "</div>"
      ],
      "text/plain": [
       "           Accuracy  Precision    Recall  F1 Score\n",
       "Test Size                                         \n",
       "100        0.317342   0.294739  0.317342  0.291866"
      ]
     },
     "execution_count": 74,
     "metadata": {},
     "output_type": "execute_result"
    }
   ],
   "source": [
    "df5L_SHG_ROS.groupby('Test Size')[['Accuracy','Precision','Recall','F1 Score']].mean()"
   ]
  },
  {
   "cell_type": "code",
   "execution_count": 75,
   "id": "d44e2326-4261-4a21-953e-48281adc23c8",
   "metadata": {},
   "outputs": [
    {
     "name": "stdout",
     "output_type": "stream",
     "text": [
      "5-Level: Student History Grades\n",
      "\n",
      "{'criterion': 'gini', 'max_features': 'sqrt', 'n_estimators': 400}\n",
      "{'criterion': 'entropy', 'max_features': 'auto', 'n_estimators': 200}\n",
      "{'criterion': 'gini', 'max_features': 'sqrt', 'n_estimators': 400}\n"
     ]
    }
   ],
   "source": [
    "print(\"5-Level: Student History Grades\\n\")\n",
    "for x in df5L_SHG_ROS[\"Best Param\"]:\n",
    "    print(x)"
   ]
  },
  {
   "cell_type": "markdown",
   "id": "fcb06fc7-076e-4f32-a9a1-aa0dad9c00cd",
   "metadata": {},
   "source": [
    "### SHG after SMOTE"
   ]
  },
  {
   "cell_type": "code",
   "execution_count": 76,
   "id": "d4f442b2-91f7-41e3-8be7-61171f975ad1",
   "metadata": {},
   "outputs": [
    {
     "name": "stdout",
     "output_type": "stream",
     "text": [
      "Fitting 10 folds for each of 24 candidates, totalling 240 fits\n"
     ]
    },
    {
     "name": "stderr",
     "output_type": "stream",
     "text": [
      "C:\\Users\\hazel\\anaconda3\\Lib\\site-packages\\sklearn\\model_selection\\_search.py:909: DataConversionWarning: A column-vector y was passed when a 1d array was expected. Please change the shape of y to (n_samples,), for example using ravel().\n",
      "  self.best_estimator_.fit(X, y, **fit_params)\n",
      "C:\\Users\\hazel\\anaconda3\\Lib\\site-packages\\sklearn\\ensemble\\_forest.py:424: FutureWarning: `max_features='auto'` has been deprecated in 1.1 and will be removed in 1.3. To keep the past behaviour, explicitly set `max_features='sqrt'` or remove this parameter as it is also the default value for RandomForestClassifiers and ExtraTreesClassifiers.\n",
      "  warn(\n"
     ]
    },
    {
     "name": "stdout",
     "output_type": "stream",
     "text": [
      "Fitting 10 folds for each of 24 candidates, totalling 240 fits\n"
     ]
    },
    {
     "name": "stderr",
     "output_type": "stream",
     "text": [
      "C:\\Users\\hazel\\anaconda3\\Lib\\site-packages\\sklearn\\model_selection\\_search.py:909: DataConversionWarning: A column-vector y was passed when a 1d array was expected. Please change the shape of y to (n_samples,), for example using ravel().\n",
      "  self.best_estimator_.fit(X, y, **fit_params)\n"
     ]
    },
    {
     "name": "stdout",
     "output_type": "stream",
     "text": [
      "Fitting 10 folds for each of 24 candidates, totalling 240 fits\n"
     ]
    },
    {
     "name": "stderr",
     "output_type": "stream",
     "text": [
      "C:\\Users\\hazel\\anaconda3\\Lib\\site-packages\\sklearn\\model_selection\\_search.py:909: DataConversionWarning: A column-vector y was passed when a 1d array was expected. Please change the shape of y to (n_samples,), for example using ravel().\n",
      "  self.best_estimator_.fit(X, y, **fit_params)\n",
      "C:\\Users\\hazel\\anaconda3\\Lib\\site-packages\\sklearn\\ensemble\\_forest.py:424: FutureWarning: `max_features='auto'` has been deprecated in 1.1 and will be removed in 1.3. To keep the past behaviour, explicitly set `max_features='sqrt'` or remove this parameter as it is also the default value for RandomForestClassifiers and ExtraTreesClassifiers.\n",
      "  warn(\n"
     ]
    },
    {
     "data": {
      "text/html": [
       "<div>\n",
       "<style scoped>\n",
       "    .dataframe tbody tr th:only-of-type {\n",
       "        vertical-align: middle;\n",
       "    }\n",
       "\n",
       "    .dataframe tbody tr th {\n",
       "        vertical-align: top;\n",
       "    }\n",
       "\n",
       "    .dataframe thead th {\n",
       "        text-align: right;\n",
       "    }\n",
       "</style>\n",
       "<table border=\"1\" class=\"dataframe\">\n",
       "  <thead>\n",
       "    <tr style=\"text-align: right;\">\n",
       "      <th></th>\n",
       "      <th>Test Size</th>\n",
       "      <th>Random State</th>\n",
       "      <th>Accuracy</th>\n",
       "      <th>Precision</th>\n",
       "      <th>Recall</th>\n",
       "      <th>F1 Score</th>\n",
       "      <th>Best Param</th>\n",
       "    </tr>\n",
       "  </thead>\n",
       "  <tbody>\n",
       "    <tr>\n",
       "      <th>0</th>\n",
       "      <td>100</td>\n",
       "      <td>7</td>\n",
       "      <td>0.343922</td>\n",
       "      <td>0.340412</td>\n",
       "      <td>0.343922</td>\n",
       "      <td>0.335954</td>\n",
       "      <td>{'criterion': 'entropy', 'max_features': 'auto...</td>\n",
       "    </tr>\n",
       "    <tr>\n",
       "      <th>1</th>\n",
       "      <td>100</td>\n",
       "      <td>69</td>\n",
       "      <td>0.345219</td>\n",
       "      <td>0.340980</td>\n",
       "      <td>0.345219</td>\n",
       "      <td>0.337229</td>\n",
       "      <td>{'criterion': 'entropy', 'max_features': 'log2...</td>\n",
       "    </tr>\n",
       "    <tr>\n",
       "      <th>2</th>\n",
       "      <td>100</td>\n",
       "      <td>101</td>\n",
       "      <td>0.343274</td>\n",
       "      <td>0.336911</td>\n",
       "      <td>0.343274</td>\n",
       "      <td>0.333927</td>\n",
       "      <td>{'criterion': 'gini', 'max_features': 'auto', ...</td>\n",
       "    </tr>\n",
       "  </tbody>\n",
       "</table>\n",
       "</div>"
      ],
      "text/plain": [
       "   Test Size  Random State  Accuracy  Precision    Recall  F1 Score  \\\n",
       "0        100             7  0.343922   0.340412  0.343922  0.335954   \n",
       "1        100            69  0.345219   0.340980  0.345219  0.337229   \n",
       "2        100           101  0.343274   0.336911  0.343274  0.333927   \n",
       "\n",
       "                                          Best Param  \n",
       "0  {'criterion': 'entropy', 'max_features': 'auto...  \n",
       "1  {'criterion': 'entropy', 'max_features': 'log2...  \n",
       "2  {'criterion': 'gini', 'max_features': 'auto', ...  "
      ]
     },
     "execution_count": 76,
     "metadata": {},
     "output_type": "execute_result"
    }
   ],
   "source": [
    "temp5L_SHG_SMOTE = []\n",
    "\n",
    "y_train = df3_5L_SMOTE[['CGPA']]\n",
    "X_train = df3_5L_SMOTE[['Number of Subjects Failed','SPM Result (A)','SPM Result (B)','SPM Result (C)']]\n",
    "\n",
    "y_test = merge_5L_SMOTE[['CGPA']]\n",
    "X_test = merge_5L_SMOTE[['Number of Subjects Failed','SPM Result (A)','SPM Result (B)','SPM Result (C)']]\n",
    "\n",
    "for j in rand_states:\n",
    "    param_grid = {'n_estimators': [100, 200, 300, 400],\n",
    "                  'max_features': ['auto', 'sqrt', 'log2'],\n",
    "                  'criterion' :['gini', 'entropy']}\n",
    "\n",
    "    model = GridSearchCV(RandomForestClassifier(), param_grid, refit=True, n_jobs=-1, cv=10, verbose=1)\n",
    "    model.fit(X_train, y_train)\n",
    "    pred = model.predict(X_test)\n",
    "\n",
    "    acc = accuracy_score(y_test,pred)\n",
    "    pre = precision_score(y_test, pred, average='weighted')\n",
    "    recall = recall_score(y_test, pred, average='weighted')\n",
    "    f1 = f1_score(y_test, pred, average='weighted')\n",
    "    param = model.best_params_\n",
    "\n",
    "    temp5L_SHG_SMOTE.append([100,j,acc,pre,recall,f1,param])\n",
    "        \n",
    "df5L_SHG_SMOTE = pd.DataFrame(columns=['Test Size','Random State','Accuracy','Precision','Recall','F1 Score','Best Param'],data=temp5L_SHG_SMOTE)\n",
    "df5L_SHG_SMOTE"
   ]
  },
  {
   "cell_type": "code",
   "execution_count": 77,
   "id": "bad5bbb2-9653-47a3-a63b-a951a325ace5",
   "metadata": {},
   "outputs": [
    {
     "data": {
      "text/html": [
       "<div>\n",
       "<style scoped>\n",
       "    .dataframe tbody tr th:only-of-type {\n",
       "        vertical-align: middle;\n",
       "    }\n",
       "\n",
       "    .dataframe tbody tr th {\n",
       "        vertical-align: top;\n",
       "    }\n",
       "\n",
       "    .dataframe thead th {\n",
       "        text-align: right;\n",
       "    }\n",
       "</style>\n",
       "<table border=\"1\" class=\"dataframe\">\n",
       "  <thead>\n",
       "    <tr style=\"text-align: right;\">\n",
       "      <th></th>\n",
       "      <th>Accuracy</th>\n",
       "      <th>Precision</th>\n",
       "      <th>Recall</th>\n",
       "      <th>F1 Score</th>\n",
       "    </tr>\n",
       "    <tr>\n",
       "      <th>Test Size</th>\n",
       "      <th></th>\n",
       "      <th></th>\n",
       "      <th></th>\n",
       "      <th></th>\n",
       "    </tr>\n",
       "  </thead>\n",
       "  <tbody>\n",
       "    <tr>\n",
       "      <th>100</th>\n",
       "      <td>0.344138</td>\n",
       "      <td>0.339435</td>\n",
       "      <td>0.344138</td>\n",
       "      <td>0.335703</td>\n",
       "    </tr>\n",
       "  </tbody>\n",
       "</table>\n",
       "</div>"
      ],
      "text/plain": [
       "           Accuracy  Precision    Recall  F1 Score\n",
       "Test Size                                         \n",
       "100        0.344138   0.339435  0.344138  0.335703"
      ]
     },
     "execution_count": 77,
     "metadata": {},
     "output_type": "execute_result"
    }
   ],
   "source": [
    "df5L_SHG_SMOTE.groupby('Test Size')[['Accuracy','Precision','Recall','F1 Score']].mean()"
   ]
  },
  {
   "cell_type": "code",
   "execution_count": 78,
   "id": "b3a86853-9959-4a09-9ef8-4787d62c2a2e",
   "metadata": {},
   "outputs": [
    {
     "name": "stdout",
     "output_type": "stream",
     "text": [
      "SMOTE 5-Level: Student History Grades\n",
      "\n",
      "{'criterion': 'entropy', 'max_features': 'auto', 'n_estimators': 400}\n",
      "{'criterion': 'entropy', 'max_features': 'log2', 'n_estimators': 400}\n",
      "{'criterion': 'gini', 'max_features': 'auto', 'n_estimators': 300}\n"
     ]
    }
   ],
   "source": [
    "print(\"SMOTE 5-Level: Student History Grades\\n\")\n",
    "for x in df5L_SHG_SMOTE[\"Best Param\"]:\n",
    "    print(x)"
   ]
  },
  {
   "cell_type": "markdown",
   "id": "9b094cb2-0891-4b45-b98c-1000dfb6ecdf",
   "metadata": {},
   "source": [
    "## Student Opinion Towards MMU Environment"
   ]
  },
  {
   "cell_type": "markdown",
   "id": "6b480bb1-573c-43c8-8a78-1046d8491ec1",
   "metadata": {},
   "source": [
    "### SOTME before Data Balancing"
   ]
  },
  {
   "cell_type": "code",
   "execution_count": 79,
   "id": "06617a82-1689-4385-9e7a-9db762139111",
   "metadata": {},
   "outputs": [
    {
     "name": "stdout",
     "output_type": "stream",
     "text": [
      "Fitting 10 folds for each of 24 candidates, totalling 240 fits\n"
     ]
    },
    {
     "name": "stderr",
     "output_type": "stream",
     "text": [
      "C:\\Users\\hazel\\anaconda3\\Lib\\site-packages\\sklearn\\model_selection\\_search.py:909: DataConversionWarning: A column-vector y was passed when a 1d array was expected. Please change the shape of y to (n_samples,), for example using ravel().\n",
      "  self.best_estimator_.fit(X, y, **fit_params)\n",
      "C:\\Users\\hazel\\anaconda3\\Lib\\site-packages\\sklearn\\ensemble\\_forest.py:424: FutureWarning: `max_features='auto'` has been deprecated in 1.1 and will be removed in 1.3. To keep the past behaviour, explicitly set `max_features='sqrt'` or remove this parameter as it is also the default value for RandomForestClassifiers and ExtraTreesClassifiers.\n",
      "  warn(\n",
      "C:\\Users\\hazel\\anaconda3\\Lib\\site-packages\\sklearn\\metrics\\_classification.py:1344: UndefinedMetricWarning: Precision is ill-defined and being set to 0.0 in labels with no predicted samples. Use `zero_division` parameter to control this behavior.\n",
      "  _warn_prf(average, modifier, msg_start, len(result))\n"
     ]
    },
    {
     "name": "stdout",
     "output_type": "stream",
     "text": [
      "Fitting 10 folds for each of 24 candidates, totalling 240 fits\n"
     ]
    },
    {
     "name": "stderr",
     "output_type": "stream",
     "text": [
      "C:\\Users\\hazel\\anaconda3\\Lib\\site-packages\\sklearn\\model_selection\\_search.py:909: DataConversionWarning: A column-vector y was passed when a 1d array was expected. Please change the shape of y to (n_samples,), for example using ravel().\n",
      "  self.best_estimator_.fit(X, y, **fit_params)\n",
      "C:\\Users\\hazel\\anaconda3\\Lib\\site-packages\\sklearn\\ensemble\\_forest.py:424: FutureWarning: `max_features='auto'` has been deprecated in 1.1 and will be removed in 1.3. To keep the past behaviour, explicitly set `max_features='sqrt'` or remove this parameter as it is also the default value for RandomForestClassifiers and ExtraTreesClassifiers.\n",
      "  warn(\n",
      "C:\\Users\\hazel\\anaconda3\\Lib\\site-packages\\sklearn\\metrics\\_classification.py:1344: UndefinedMetricWarning: Precision is ill-defined and being set to 0.0 in labels with no predicted samples. Use `zero_division` parameter to control this behavior.\n",
      "  _warn_prf(average, modifier, msg_start, len(result))\n"
     ]
    },
    {
     "name": "stdout",
     "output_type": "stream",
     "text": [
      "Fitting 10 folds for each of 24 candidates, totalling 240 fits\n"
     ]
    },
    {
     "name": "stderr",
     "output_type": "stream",
     "text": [
      "C:\\Users\\hazel\\anaconda3\\Lib\\site-packages\\sklearn\\model_selection\\_search.py:909: DataConversionWarning: A column-vector y was passed when a 1d array was expected. Please change the shape of y to (n_samples,), for example using ravel().\n",
      "  self.best_estimator_.fit(X, y, **fit_params)\n",
      "C:\\Users\\hazel\\anaconda3\\Lib\\site-packages\\sklearn\\metrics\\_classification.py:1344: UndefinedMetricWarning: Precision is ill-defined and being set to 0.0 in labels with no predicted samples. Use `zero_division` parameter to control this behavior.\n",
      "  _warn_prf(average, modifier, msg_start, len(result))\n"
     ]
    },
    {
     "data": {
      "text/html": [
       "<div>\n",
       "<style scoped>\n",
       "    .dataframe tbody tr th:only-of-type {\n",
       "        vertical-align: middle;\n",
       "    }\n",
       "\n",
       "    .dataframe tbody tr th {\n",
       "        vertical-align: top;\n",
       "    }\n",
       "\n",
       "    .dataframe thead th {\n",
       "        text-align: right;\n",
       "    }\n",
       "</style>\n",
       "<table border=\"1\" class=\"dataframe\">\n",
       "  <thead>\n",
       "    <tr style=\"text-align: right;\">\n",
       "      <th></th>\n",
       "      <th>Test Size</th>\n",
       "      <th>Random State</th>\n",
       "      <th>Accuracy</th>\n",
       "      <th>Precision</th>\n",
       "      <th>Recall</th>\n",
       "      <th>F1 Score</th>\n",
       "      <th>Best Param</th>\n",
       "    </tr>\n",
       "  </thead>\n",
       "  <tbody>\n",
       "    <tr>\n",
       "      <th>0</th>\n",
       "      <td>100</td>\n",
       "      <td>7</td>\n",
       "      <td>0.445998</td>\n",
       "      <td>0.372725</td>\n",
       "      <td>0.445998</td>\n",
       "      <td>0.380026</td>\n",
       "      <td>{'criterion': 'gini', 'max_features': 'auto', ...</td>\n",
       "    </tr>\n",
       "    <tr>\n",
       "      <th>1</th>\n",
       "      <td>100</td>\n",
       "      <td>69</td>\n",
       "      <td>0.452214</td>\n",
       "      <td>0.356042</td>\n",
       "      <td>0.452214</td>\n",
       "      <td>0.363512</td>\n",
       "      <td>{'criterion': 'gini', 'max_features': 'auto', ...</td>\n",
       "    </tr>\n",
       "    <tr>\n",
       "      <th>2</th>\n",
       "      <td>100</td>\n",
       "      <td>101</td>\n",
       "      <td>0.451437</td>\n",
       "      <td>0.356392</td>\n",
       "      <td>0.451437</td>\n",
       "      <td>0.364273</td>\n",
       "      <td>{'criterion': 'entropy', 'max_features': 'log2...</td>\n",
       "    </tr>\n",
       "  </tbody>\n",
       "</table>\n",
       "</div>"
      ],
      "text/plain": [
       "   Test Size  Random State  Accuracy  Precision    Recall  F1 Score  \\\n",
       "0        100             7  0.445998   0.372725  0.445998  0.380026   \n",
       "1        100            69  0.452214   0.356042  0.452214  0.363512   \n",
       "2        100           101  0.451437   0.356392  0.451437  0.364273   \n",
       "\n",
       "                                          Best Param  \n",
       "0  {'criterion': 'gini', 'max_features': 'auto', ...  \n",
       "1  {'criterion': 'gini', 'max_features': 'auto', ...  \n",
       "2  {'criterion': 'entropy', 'max_features': 'log2...  "
      ]
     },
     "execution_count": 79,
     "metadata": {},
     "output_type": "execute_result"
    }
   ],
   "source": [
    "temp5L_SOTME_imb = []\n",
    "\n",
    "y_train = df3_5L_imb[['CGPA']]\n",
    "X_train = df3_5L_imb[['Reason Study at Multimedia University', 'Lecture Class Capacity','Tutorial Class Capacity', \n",
    "                     'Classroom Facilities', 'Campus Environment']]\n",
    "\n",
    "y_test = merge_5L_imb[['CGPA']]\n",
    "X_test = merge_5L_imb[['Reason Study at Multimedia University', 'Lecture Class Capacity','Tutorial Class Capacity', \n",
    "                     'Classroom Facilities', 'Campus Environment']]\n",
    "\n",
    "for j in rand_states:\n",
    "    param_grid = {'n_estimators': [100, 200, 300, 400],\n",
    "                  'max_features': ['auto', 'sqrt', 'log2'],\n",
    "                  'criterion' :['gini', 'entropy']}\n",
    "\n",
    "    model = GridSearchCV(RandomForestClassifier(), param_grid, refit=True, n_jobs=-1, cv=10, verbose=1)\n",
    "    model.fit(X_train, y_train)\n",
    "    pred = model.predict(X_test)\n",
    "\n",
    "    acc = accuracy_score(y_test,pred)\n",
    "    pre = precision_score(y_test, pred, average='weighted')\n",
    "    recall = recall_score(y_test, pred, average='weighted')\n",
    "    f1 = f1_score(y_test, pred, average='weighted')\n",
    "    param = model.best_params_\n",
    "\n",
    "    temp5L_SOTME_imb.append([100,j,acc,pre,recall,f1,param])\n",
    "        \n",
    "df5L_SOTME_imb = pd.DataFrame(columns=['Test Size','Random State','Accuracy','Precision','Recall','F1 Score','Best Param'],data=temp5L_SOTME_imb)\n",
    "df5L_SOTME_imb"
   ]
  },
  {
   "cell_type": "code",
   "execution_count": 80,
   "id": "69278059-b667-4f10-9f82-ddfcdba0b63b",
   "metadata": {},
   "outputs": [
    {
     "data": {
      "text/html": [
       "<div>\n",
       "<style scoped>\n",
       "    .dataframe tbody tr th:only-of-type {\n",
       "        vertical-align: middle;\n",
       "    }\n",
       "\n",
       "    .dataframe tbody tr th {\n",
       "        vertical-align: top;\n",
       "    }\n",
       "\n",
       "    .dataframe thead th {\n",
       "        text-align: right;\n",
       "    }\n",
       "</style>\n",
       "<table border=\"1\" class=\"dataframe\">\n",
       "  <thead>\n",
       "    <tr style=\"text-align: right;\">\n",
       "      <th></th>\n",
       "      <th>Accuracy</th>\n",
       "      <th>Precision</th>\n",
       "      <th>Recall</th>\n",
       "      <th>F1 Score</th>\n",
       "    </tr>\n",
       "    <tr>\n",
       "      <th>Test Size</th>\n",
       "      <th></th>\n",
       "      <th></th>\n",
       "      <th></th>\n",
       "      <th></th>\n",
       "    </tr>\n",
       "  </thead>\n",
       "  <tbody>\n",
       "    <tr>\n",
       "      <th>100</th>\n",
       "      <td>0.449883</td>\n",
       "      <td>0.36172</td>\n",
       "      <td>0.449883</td>\n",
       "      <td>0.36927</td>\n",
       "    </tr>\n",
       "  </tbody>\n",
       "</table>\n",
       "</div>"
      ],
      "text/plain": [
       "           Accuracy  Precision    Recall  F1 Score\n",
       "Test Size                                         \n",
       "100        0.449883    0.36172  0.449883   0.36927"
      ]
     },
     "execution_count": 80,
     "metadata": {},
     "output_type": "execute_result"
    }
   ],
   "source": [
    "df5L_SOTME_imb.groupby('Test Size')[['Accuracy','Precision','Recall','F1 Score']].mean()"
   ]
  },
  {
   "cell_type": "code",
   "execution_count": 81,
   "id": "7765a379-d760-46e0-9a27-289fd2f6f54e",
   "metadata": {},
   "outputs": [
    {
     "name": "stdout",
     "output_type": "stream",
     "text": [
      "Imbalance 5-Level: Student Opinion Towards MMU Environment\n",
      "\n",
      "{'criterion': 'gini', 'max_features': 'auto', 'n_estimators': 200}\n",
      "{'criterion': 'gini', 'max_features': 'auto', 'n_estimators': 400}\n",
      "{'criterion': 'entropy', 'max_features': 'log2', 'n_estimators': 200}\n"
     ]
    }
   ],
   "source": [
    "print(\"Imbalance 5-Level: Student Opinion Towards MMU Environment\\n\")\n",
    "for x in df5L_SOTME_imb[\"Best Param\"]:\n",
    "    print(x)"
   ]
  },
  {
   "cell_type": "markdown",
   "id": "80ff2f1c-f9ad-4e26-b384-3745858055a3",
   "metadata": {},
   "source": [
    "### SOTME after RandomOverSampler"
   ]
  },
  {
   "cell_type": "code",
   "execution_count": 82,
   "id": "f92be49e-e64f-42c6-acdd-f9e46e5ba8eb",
   "metadata": {},
   "outputs": [
    {
     "name": "stdout",
     "output_type": "stream",
     "text": [
      "Fitting 10 folds for each of 24 candidates, totalling 240 fits\n"
     ]
    },
    {
     "name": "stderr",
     "output_type": "stream",
     "text": [
      "C:\\Users\\hazel\\anaconda3\\Lib\\site-packages\\sklearn\\model_selection\\_search.py:909: DataConversionWarning: A column-vector y was passed when a 1d array was expected. Please change the shape of y to (n_samples,), for example using ravel().\n",
      "  self.best_estimator_.fit(X, y, **fit_params)\n"
     ]
    },
    {
     "name": "stdout",
     "output_type": "stream",
     "text": [
      "Fitting 10 folds for each of 24 candidates, totalling 240 fits\n"
     ]
    },
    {
     "name": "stderr",
     "output_type": "stream",
     "text": [
      "C:\\Users\\hazel\\anaconda3\\Lib\\site-packages\\sklearn\\model_selection\\_search.py:909: DataConversionWarning: A column-vector y was passed when a 1d array was expected. Please change the shape of y to (n_samples,), for example using ravel().\n",
      "  self.best_estimator_.fit(X, y, **fit_params)\n"
     ]
    },
    {
     "name": "stdout",
     "output_type": "stream",
     "text": [
      "Fitting 10 folds for each of 24 candidates, totalling 240 fits\n"
     ]
    },
    {
     "name": "stderr",
     "output_type": "stream",
     "text": [
      "C:\\Users\\hazel\\anaconda3\\Lib\\site-packages\\sklearn\\model_selection\\_search.py:909: DataConversionWarning: A column-vector y was passed when a 1d array was expected. Please change the shape of y to (n_samples,), for example using ravel().\n",
      "  self.best_estimator_.fit(X, y, **fit_params)\n"
     ]
    },
    {
     "data": {
      "text/html": [
       "<div>\n",
       "<style scoped>\n",
       "    .dataframe tbody tr th:only-of-type {\n",
       "        vertical-align: middle;\n",
       "    }\n",
       "\n",
       "    .dataframe tbody tr th {\n",
       "        vertical-align: top;\n",
       "    }\n",
       "\n",
       "    .dataframe thead th {\n",
       "        text-align: right;\n",
       "    }\n",
       "</style>\n",
       "<table border=\"1\" class=\"dataframe\">\n",
       "  <thead>\n",
       "    <tr style=\"text-align: right;\">\n",
       "      <th></th>\n",
       "      <th>Test Size</th>\n",
       "      <th>Random State</th>\n",
       "      <th>Accuracy</th>\n",
       "      <th>Precision</th>\n",
       "      <th>Recall</th>\n",
       "      <th>F1 Score</th>\n",
       "      <th>Best Param</th>\n",
       "    </tr>\n",
       "  </thead>\n",
       "  <tbody>\n",
       "    <tr>\n",
       "      <th>0</th>\n",
       "      <td>100</td>\n",
       "      <td>7</td>\n",
       "      <td>0.211994</td>\n",
       "      <td>0.175213</td>\n",
       "      <td>0.211994</td>\n",
       "      <td>0.189369</td>\n",
       "      <td>{'criterion': 'gini', 'max_features': 'sqrt', ...</td>\n",
       "    </tr>\n",
       "    <tr>\n",
       "      <th>1</th>\n",
       "      <td>100</td>\n",
       "      <td>69</td>\n",
       "      <td>0.213290</td>\n",
       "      <td>0.176403</td>\n",
       "      <td>0.213290</td>\n",
       "      <td>0.190444</td>\n",
       "      <td>{'criterion': 'entropy', 'max_features': 'sqrt...</td>\n",
       "    </tr>\n",
       "    <tr>\n",
       "      <th>2</th>\n",
       "      <td>100</td>\n",
       "      <td>101</td>\n",
       "      <td>0.213614</td>\n",
       "      <td>0.176567</td>\n",
       "      <td>0.213614</td>\n",
       "      <td>0.190848</td>\n",
       "      <td>{'criterion': 'gini', 'max_features': 'log2', ...</td>\n",
       "    </tr>\n",
       "  </tbody>\n",
       "</table>\n",
       "</div>"
      ],
      "text/plain": [
       "   Test Size  Random State  Accuracy  Precision    Recall  F1 Score  \\\n",
       "0        100             7  0.211994   0.175213  0.211994  0.189369   \n",
       "1        100            69  0.213290   0.176403  0.213290  0.190444   \n",
       "2        100           101  0.213614   0.176567  0.213614  0.190848   \n",
       "\n",
       "                                          Best Param  \n",
       "0  {'criterion': 'gini', 'max_features': 'sqrt', ...  \n",
       "1  {'criterion': 'entropy', 'max_features': 'sqrt...  \n",
       "2  {'criterion': 'gini', 'max_features': 'log2', ...  "
      ]
     },
     "execution_count": 82,
     "metadata": {},
     "output_type": "execute_result"
    }
   ],
   "source": [
    "temp5L_SOTME_ROS = []\n",
    "\n",
    "y_train = df3_5L_ROS[['CGPA']]\n",
    "X_train = df3_5L_ROS[['Reason Study at Multimedia University', 'Lecture Class Capacity','Tutorial Class Capacity', \n",
    "                     'Classroom Facilities', 'Campus Environment']]\n",
    "\n",
    "y_test = merge_5L_ROS[['CGPA']]\n",
    "X_test = merge_5L_ROS[['Reason Study at Multimedia University', 'Lecture Class Capacity','Tutorial Class Capacity', \n",
    "                     'Classroom Facilities', 'Campus Environment']]\n",
    "\n",
    "for j in rand_states:\n",
    "    param_grid = {'n_estimators': [100, 200, 300, 400],\n",
    "                  'max_features': ['auto', 'sqrt', 'log2'],\n",
    "                  'criterion' :['gini', 'entropy']}\n",
    "\n",
    "    model = GridSearchCV(RandomForestClassifier(), param_grid, refit=True, n_jobs=-1, cv=10, verbose=1)\n",
    "    model.fit(X_train, y_train)\n",
    "    pred = model.predict(X_test)\n",
    "\n",
    "    acc = accuracy_score(y_test,pred)\n",
    "    pre = precision_score(y_test, pred, average='weighted')\n",
    "    recall = recall_score(y_test, pred, average='weighted')\n",
    "    f1 = f1_score(y_test, pred, average='weighted')\n",
    "    param = model.best_params_\n",
    "\n",
    "    temp5L_SOTME_ROS.append([100,j,acc,pre,recall,f1,param])\n",
    "        \n",
    "df5L_SOTME_ROS = pd.DataFrame(columns=['Test Size','Random State','Accuracy','Precision','Recall','F1 Score','Best Param'],data=temp5L_SOTME_ROS)\n",
    "df5L_SOTME_ROS"
   ]
  },
  {
   "cell_type": "code",
   "execution_count": 83,
   "id": "ad4d4861-caad-4331-91c0-74b9d2d046a5",
   "metadata": {},
   "outputs": [
    {
     "data": {
      "text/html": [
       "<div>\n",
       "<style scoped>\n",
       "    .dataframe tbody tr th:only-of-type {\n",
       "        vertical-align: middle;\n",
       "    }\n",
       "\n",
       "    .dataframe tbody tr th {\n",
       "        vertical-align: top;\n",
       "    }\n",
       "\n",
       "    .dataframe thead th {\n",
       "        text-align: right;\n",
       "    }\n",
       "</style>\n",
       "<table border=\"1\" class=\"dataframe\">\n",
       "  <thead>\n",
       "    <tr style=\"text-align: right;\">\n",
       "      <th></th>\n",
       "      <th>Accuracy</th>\n",
       "      <th>Precision</th>\n",
       "      <th>Recall</th>\n",
       "      <th>F1 Score</th>\n",
       "    </tr>\n",
       "    <tr>\n",
       "      <th>Test Size</th>\n",
       "      <th></th>\n",
       "      <th></th>\n",
       "      <th></th>\n",
       "      <th></th>\n",
       "    </tr>\n",
       "  </thead>\n",
       "  <tbody>\n",
       "    <tr>\n",
       "      <th>100</th>\n",
       "      <td>0.212966</td>\n",
       "      <td>0.176061</td>\n",
       "      <td>0.212966</td>\n",
       "      <td>0.19022</td>\n",
       "    </tr>\n",
       "  </tbody>\n",
       "</table>\n",
       "</div>"
      ],
      "text/plain": [
       "           Accuracy  Precision    Recall  F1 Score\n",
       "Test Size                                         \n",
       "100        0.212966   0.176061  0.212966   0.19022"
      ]
     },
     "execution_count": 83,
     "metadata": {},
     "output_type": "execute_result"
    }
   ],
   "source": [
    "df5L_SOTME_ROS.groupby('Test Size')[['Accuracy','Precision','Recall','F1 Score']].mean()"
   ]
  },
  {
   "cell_type": "code",
   "execution_count": 84,
   "id": "47537421-3b88-4895-89f3-fe475e03db24",
   "metadata": {},
   "outputs": [
    {
     "name": "stdout",
     "output_type": "stream",
     "text": [
      "5-Level: Student Opinion Towards MMU Environment\n",
      "\n",
      "{'criterion': 'gini', 'max_features': 'sqrt', 'n_estimators': 200}\n",
      "{'criterion': 'entropy', 'max_features': 'sqrt', 'n_estimators': 300}\n",
      "{'criterion': 'gini', 'max_features': 'log2', 'n_estimators': 100}\n"
     ]
    }
   ],
   "source": [
    "print(\"5-Level: Student Opinion Towards MMU Environment\\n\")\n",
    "for x in df5L_SOTME_ROS[\"Best Param\"]:\n",
    "    print(x)"
   ]
  },
  {
   "cell_type": "markdown",
   "id": "ce266d54-69fe-481e-99cf-ca4351919773",
   "metadata": {},
   "source": [
    "### SOTME after SMOTE"
   ]
  },
  {
   "cell_type": "code",
   "execution_count": 85,
   "id": "0b529e8c-1d1a-4870-b616-18d848e6efb8",
   "metadata": {},
   "outputs": [
    {
     "name": "stdout",
     "output_type": "stream",
     "text": [
      "Fitting 10 folds for each of 24 candidates, totalling 240 fits\n"
     ]
    },
    {
     "name": "stderr",
     "output_type": "stream",
     "text": [
      "C:\\Users\\hazel\\anaconda3\\Lib\\site-packages\\sklearn\\model_selection\\_search.py:909: DataConversionWarning: A column-vector y was passed when a 1d array was expected. Please change the shape of y to (n_samples,), for example using ravel().\n",
      "  self.best_estimator_.fit(X, y, **fit_params)\n",
      "C:\\Users\\hazel\\anaconda3\\Lib\\site-packages\\sklearn\\metrics\\_classification.py:1344: UndefinedMetricWarning: Precision is ill-defined and being set to 0.0 in labels with no predicted samples. Use `zero_division` parameter to control this behavior.\n",
      "  _warn_prf(average, modifier, msg_start, len(result))\n"
     ]
    },
    {
     "name": "stdout",
     "output_type": "stream",
     "text": [
      "Fitting 10 folds for each of 24 candidates, totalling 240 fits\n"
     ]
    },
    {
     "name": "stderr",
     "output_type": "stream",
     "text": [
      "C:\\Users\\hazel\\anaconda3\\Lib\\site-packages\\sklearn\\model_selection\\_search.py:909: DataConversionWarning: A column-vector y was passed when a 1d array was expected. Please change the shape of y to (n_samples,), for example using ravel().\n",
      "  self.best_estimator_.fit(X, y, **fit_params)\n",
      "C:\\Users\\hazel\\anaconda3\\Lib\\site-packages\\sklearn\\metrics\\_classification.py:1344: UndefinedMetricWarning: Precision is ill-defined and being set to 0.0 in labels with no predicted samples. Use `zero_division` parameter to control this behavior.\n",
      "  _warn_prf(average, modifier, msg_start, len(result))\n"
     ]
    },
    {
     "name": "stdout",
     "output_type": "stream",
     "text": [
      "Fitting 10 folds for each of 24 candidates, totalling 240 fits\n"
     ]
    },
    {
     "name": "stderr",
     "output_type": "stream",
     "text": [
      "C:\\Users\\hazel\\anaconda3\\Lib\\site-packages\\sklearn\\model_selection\\_search.py:909: DataConversionWarning: A column-vector y was passed when a 1d array was expected. Please change the shape of y to (n_samples,), for example using ravel().\n",
      "  self.best_estimator_.fit(X, y, **fit_params)\n",
      "C:\\Users\\hazel\\anaconda3\\Lib\\site-packages\\sklearn\\metrics\\_classification.py:1344: UndefinedMetricWarning: Precision is ill-defined and being set to 0.0 in labels with no predicted samples. Use `zero_division` parameter to control this behavior.\n",
      "  _warn_prf(average, modifier, msg_start, len(result))\n"
     ]
    },
    {
     "data": {
      "text/html": [
       "<div>\n",
       "<style scoped>\n",
       "    .dataframe tbody tr th:only-of-type {\n",
       "        vertical-align: middle;\n",
       "    }\n",
       "\n",
       "    .dataframe tbody tr th {\n",
       "        vertical-align: top;\n",
       "    }\n",
       "\n",
       "    .dataframe thead th {\n",
       "        text-align: right;\n",
       "    }\n",
       "</style>\n",
       "<table border=\"1\" class=\"dataframe\">\n",
       "  <thead>\n",
       "    <tr style=\"text-align: right;\">\n",
       "      <th></th>\n",
       "      <th>Test Size</th>\n",
       "      <th>Random State</th>\n",
       "      <th>Accuracy</th>\n",
       "      <th>Precision</th>\n",
       "      <th>Recall</th>\n",
       "      <th>F1 Score</th>\n",
       "      <th>Best Param</th>\n",
       "    </tr>\n",
       "  </thead>\n",
       "  <tbody>\n",
       "    <tr>\n",
       "      <th>0</th>\n",
       "      <td>100</td>\n",
       "      <td>7</td>\n",
       "      <td>0.244084</td>\n",
       "      <td>0.210158</td>\n",
       "      <td>0.244084</td>\n",
       "      <td>0.192665</td>\n",
       "      <td>{'criterion': 'gini', 'max_features': 'sqrt', ...</td>\n",
       "    </tr>\n",
       "    <tr>\n",
       "      <th>1</th>\n",
       "      <td>100</td>\n",
       "      <td>69</td>\n",
       "      <td>0.245705</td>\n",
       "      <td>0.207151</td>\n",
       "      <td>0.245705</td>\n",
       "      <td>0.192954</td>\n",
       "      <td>{'criterion': 'entropy', 'max_features': 'log2...</td>\n",
       "    </tr>\n",
       "    <tr>\n",
       "      <th>2</th>\n",
       "      <td>100</td>\n",
       "      <td>101</td>\n",
       "      <td>0.243112</td>\n",
       "      <td>0.208389</td>\n",
       "      <td>0.243112</td>\n",
       "      <td>0.186688</td>\n",
       "      <td>{'criterion': 'gini', 'max_features': 'log2', ...</td>\n",
       "    </tr>\n",
       "  </tbody>\n",
       "</table>\n",
       "</div>"
      ],
      "text/plain": [
       "   Test Size  Random State  Accuracy  Precision    Recall  F1 Score  \\\n",
       "0        100             7  0.244084   0.210158  0.244084  0.192665   \n",
       "1        100            69  0.245705   0.207151  0.245705  0.192954   \n",
       "2        100           101  0.243112   0.208389  0.243112  0.186688   \n",
       "\n",
       "                                          Best Param  \n",
       "0  {'criterion': 'gini', 'max_features': 'sqrt', ...  \n",
       "1  {'criterion': 'entropy', 'max_features': 'log2...  \n",
       "2  {'criterion': 'gini', 'max_features': 'log2', ...  "
      ]
     },
     "execution_count": 85,
     "metadata": {},
     "output_type": "execute_result"
    }
   ],
   "source": [
    "temp5L_SOTME_SMOTE = []\n",
    "\n",
    "y_train = df3_5L_SMOTE[['CGPA']]\n",
    "X_train = df3_5L_SMOTE[['Reason Study at Multimedia University', 'Lecture Class Capacity','Tutorial Class Capacity', \n",
    "                     'Classroom Facilities', 'Campus Environment']]\n",
    "\n",
    "y_test = merge_5L_SMOTE[['CGPA']]\n",
    "X_test = merge_5L_SMOTE[['Reason Study at Multimedia University', 'Lecture Class Capacity','Tutorial Class Capacity', \n",
    "                     'Classroom Facilities', 'Campus Environment']]\n",
    "\n",
    "for j in rand_states:\n",
    "    param_grid = {'n_estimators': [100, 200, 300, 400],\n",
    "                  'max_features': ['auto', 'sqrt', 'log2'],\n",
    "                  'criterion' :['gini', 'entropy']}\n",
    "\n",
    "    model = GridSearchCV(RandomForestClassifier(), param_grid, refit=True, n_jobs=-1, cv=10, verbose=1)\n",
    "    model.fit(X_train, y_train)\n",
    "    pred = model.predict(X_test)\n",
    "\n",
    "    acc = accuracy_score(y_test,pred)\n",
    "    pre = precision_score(y_test, pred, average='weighted')\n",
    "    recall = recall_score(y_test, pred, average='weighted')\n",
    "    f1 = f1_score(y_test, pred, average='weighted')\n",
    "    param = model.best_params_\n",
    "\n",
    "    temp5L_SOTME_SMOTE.append([100,j,acc,pre,recall,f1,param])\n",
    "        \n",
    "df5L_SOTME_SMOTE = pd.DataFrame(columns=['Test Size','Random State','Accuracy','Precision','Recall','F1 Score','Best Param'],data=temp5L_SOTME_SMOTE)\n",
    "df5L_SOTME_SMOTE"
   ]
  },
  {
   "cell_type": "code",
   "execution_count": 86,
   "id": "b8a9cc88-f8ca-46a3-aaff-4f431d3353b4",
   "metadata": {},
   "outputs": [
    {
     "data": {
      "text/html": [
       "<div>\n",
       "<style scoped>\n",
       "    .dataframe tbody tr th:only-of-type {\n",
       "        vertical-align: middle;\n",
       "    }\n",
       "\n",
       "    .dataframe tbody tr th {\n",
       "        vertical-align: top;\n",
       "    }\n",
       "\n",
       "    .dataframe thead th {\n",
       "        text-align: right;\n",
       "    }\n",
       "</style>\n",
       "<table border=\"1\" class=\"dataframe\">\n",
       "  <thead>\n",
       "    <tr style=\"text-align: right;\">\n",
       "      <th></th>\n",
       "      <th>Accuracy</th>\n",
       "      <th>Precision</th>\n",
       "      <th>Recall</th>\n",
       "      <th>F1 Score</th>\n",
       "    </tr>\n",
       "    <tr>\n",
       "      <th>Test Size</th>\n",
       "      <th></th>\n",
       "      <th></th>\n",
       "      <th></th>\n",
       "      <th></th>\n",
       "    </tr>\n",
       "  </thead>\n",
       "  <tbody>\n",
       "    <tr>\n",
       "      <th>100</th>\n",
       "      <td>0.2443</td>\n",
       "      <td>0.208566</td>\n",
       "      <td>0.2443</td>\n",
       "      <td>0.190769</td>\n",
       "    </tr>\n",
       "  </tbody>\n",
       "</table>\n",
       "</div>"
      ],
      "text/plain": [
       "           Accuracy  Precision  Recall  F1 Score\n",
       "Test Size                                       \n",
       "100          0.2443   0.208566  0.2443  0.190769"
      ]
     },
     "execution_count": 86,
     "metadata": {},
     "output_type": "execute_result"
    }
   ],
   "source": [
    "df5L_SOTME_SMOTE.groupby('Test Size')[['Accuracy','Precision','Recall','F1 Score']].mean()"
   ]
  },
  {
   "cell_type": "code",
   "execution_count": 87,
   "id": "4b9539e6-5025-402b-a955-7d3183c1a91c",
   "metadata": {},
   "outputs": [
    {
     "name": "stdout",
     "output_type": "stream",
     "text": [
      "SMOTE 5-Level: Student Opinion Towards MMU Environment\n",
      "\n",
      "{'criterion': 'gini', 'max_features': 'sqrt', 'n_estimators': 300}\n",
      "{'criterion': 'entropy', 'max_features': 'log2', 'n_estimators': 400}\n",
      "{'criterion': 'gini', 'max_features': 'log2', 'n_estimators': 400}\n"
     ]
    }
   ],
   "source": [
    "print(\"SMOTE 5-Level: Student Opinion Towards MMU Environment\\n\")\n",
    "for x in df5L_SOTME_SMOTE[\"Best Param\"]:\n",
    "    print(x)"
   ]
  },
  {
   "cell_type": "markdown",
   "id": "95c059f7-65a0-4410-8c26-3d71464f39a3",
   "metadata": {},
   "source": [
    "## Student Family Background"
   ]
  },
  {
   "cell_type": "markdown",
   "id": "9dbdd691-b5fb-49b8-b36d-f44043daa197",
   "metadata": {},
   "source": [
    "### SFB before Data Balancing"
   ]
  },
  {
   "cell_type": "code",
   "execution_count": 88,
   "id": "9983dda5-5c4c-426f-8a64-5cc5d995cb82",
   "metadata": {},
   "outputs": [],
   "source": [
    "df3_5L_imb.rename(columns={\"Parent's Education Level [Father]\": \"Parent's Education Level.Father\"}, inplace=True)\n",
    "df3_5L_imb.rename(columns={\"Parent's Education Level [Mother]\": \"Parent's Education Level.Mother\"}, inplace=True)\n",
    "df3_5L_ROS.rename(columns={\"Parent's Education Level [Father]\": \"Parent's Education Level.Father\"}, inplace=True)\n",
    "df3_5L_ROS.rename(columns={\"Parent's Education Level [Mother]\": \"Parent's Education Level.Mother\"}, inplace=True)\n",
    "df3_5L_SMOTE.rename(columns={\"Parent's Education Level [Father]\": \"Parent's Education Level.Father\"}, inplace=True)\n",
    "df3_5L_SMOTE.rename(columns={\"Parent's Education Level [Mother]\": \"Parent's Education Level.Mother\"}, inplace=True)"
   ]
  },
  {
   "cell_type": "code",
   "execution_count": 89,
   "id": "7ada7d97-0722-4313-9bfa-fe2b385feef8",
   "metadata": {},
   "outputs": [
    {
     "name": "stdout",
     "output_type": "stream",
     "text": [
      "Fitting 10 folds for each of 24 candidates, totalling 240 fits\n"
     ]
    },
    {
     "name": "stderr",
     "output_type": "stream",
     "text": [
      "C:\\Users\\hazel\\anaconda3\\Lib\\site-packages\\sklearn\\model_selection\\_search.py:909: DataConversionWarning: A column-vector y was passed when a 1d array was expected. Please change the shape of y to (n_samples,), for example using ravel().\n",
      "  self.best_estimator_.fit(X, y, **fit_params)\n",
      "C:\\Users\\hazel\\anaconda3\\Lib\\site-packages\\sklearn\\metrics\\_classification.py:1344: UndefinedMetricWarning: Precision is ill-defined and being set to 0.0 in labels with no predicted samples. Use `zero_division` parameter to control this behavior.\n",
      "  _warn_prf(average, modifier, msg_start, len(result))\n"
     ]
    },
    {
     "name": "stdout",
     "output_type": "stream",
     "text": [
      "Fitting 10 folds for each of 24 candidates, totalling 240 fits\n"
     ]
    },
    {
     "name": "stderr",
     "output_type": "stream",
     "text": [
      "C:\\Users\\hazel\\anaconda3\\Lib\\site-packages\\sklearn\\model_selection\\_search.py:909: DataConversionWarning: A column-vector y was passed when a 1d array was expected. Please change the shape of y to (n_samples,), for example using ravel().\n",
      "  self.best_estimator_.fit(X, y, **fit_params)\n",
      "C:\\Users\\hazel\\anaconda3\\Lib\\site-packages\\sklearn\\ensemble\\_forest.py:424: FutureWarning: `max_features='auto'` has been deprecated in 1.1 and will be removed in 1.3. To keep the past behaviour, explicitly set `max_features='sqrt'` or remove this parameter as it is also the default value for RandomForestClassifiers and ExtraTreesClassifiers.\n",
      "  warn(\n",
      "C:\\Users\\hazel\\anaconda3\\Lib\\site-packages\\sklearn\\metrics\\_classification.py:1344: UndefinedMetricWarning: Precision is ill-defined and being set to 0.0 in labels with no predicted samples. Use `zero_division` parameter to control this behavior.\n",
      "  _warn_prf(average, modifier, msg_start, len(result))\n"
     ]
    },
    {
     "name": "stdout",
     "output_type": "stream",
     "text": [
      "Fitting 10 folds for each of 24 candidates, totalling 240 fits\n"
     ]
    },
    {
     "name": "stderr",
     "output_type": "stream",
     "text": [
      "C:\\Users\\hazel\\anaconda3\\Lib\\site-packages\\sklearn\\model_selection\\_search.py:909: DataConversionWarning: A column-vector y was passed when a 1d array was expected. Please change the shape of y to (n_samples,), for example using ravel().\n",
      "  self.best_estimator_.fit(X, y, **fit_params)\n",
      "C:\\Users\\hazel\\anaconda3\\Lib\\site-packages\\sklearn\\metrics\\_classification.py:1344: UndefinedMetricWarning: Precision is ill-defined and being set to 0.0 in labels with no predicted samples. Use `zero_division` parameter to control this behavior.\n",
      "  _warn_prf(average, modifier, msg_start, len(result))\n"
     ]
    },
    {
     "data": {
      "text/html": [
       "<div>\n",
       "<style scoped>\n",
       "    .dataframe tbody tr th:only-of-type {\n",
       "        vertical-align: middle;\n",
       "    }\n",
       "\n",
       "    .dataframe tbody tr th {\n",
       "        vertical-align: top;\n",
       "    }\n",
       "\n",
       "    .dataframe thead th {\n",
       "        text-align: right;\n",
       "    }\n",
       "</style>\n",
       "<table border=\"1\" class=\"dataframe\">\n",
       "  <thead>\n",
       "    <tr style=\"text-align: right;\">\n",
       "      <th></th>\n",
       "      <th>Test Size</th>\n",
       "      <th>Random State</th>\n",
       "      <th>Accuracy</th>\n",
       "      <th>Precision</th>\n",
       "      <th>Recall</th>\n",
       "      <th>F1 Score</th>\n",
       "      <th>Best Param</th>\n",
       "    </tr>\n",
       "  </thead>\n",
       "  <tbody>\n",
       "    <tr>\n",
       "      <th>0</th>\n",
       "      <td>100</td>\n",
       "      <td>7</td>\n",
       "      <td>0.359751</td>\n",
       "      <td>0.335971</td>\n",
       "      <td>0.359751</td>\n",
       "      <td>0.338989</td>\n",
       "      <td>{'criterion': 'entropy', 'max_features': 'log2...</td>\n",
       "    </tr>\n",
       "    <tr>\n",
       "      <th>1</th>\n",
       "      <td>100</td>\n",
       "      <td>69</td>\n",
       "      <td>0.368298</td>\n",
       "      <td>0.349905</td>\n",
       "      <td>0.368298</td>\n",
       "      <td>0.342967</td>\n",
       "      <td>{'criterion': 'gini', 'max_features': 'auto', ...</td>\n",
       "    </tr>\n",
       "    <tr>\n",
       "      <th>2</th>\n",
       "      <td>100</td>\n",
       "      <td>101</td>\n",
       "      <td>0.348096</td>\n",
       "      <td>0.330040</td>\n",
       "      <td>0.348096</td>\n",
       "      <td>0.329300</td>\n",
       "      <td>{'criterion': 'gini', 'max_features': 'log2', ...</td>\n",
       "    </tr>\n",
       "  </tbody>\n",
       "</table>\n",
       "</div>"
      ],
      "text/plain": [
       "   Test Size  Random State  Accuracy  Precision    Recall  F1 Score  \\\n",
       "0        100             7  0.359751   0.335971  0.359751  0.338989   \n",
       "1        100            69  0.368298   0.349905  0.368298  0.342967   \n",
       "2        100           101  0.348096   0.330040  0.348096  0.329300   \n",
       "\n",
       "                                          Best Param  \n",
       "0  {'criterion': 'entropy', 'max_features': 'log2...  \n",
       "1  {'criterion': 'gini', 'max_features': 'auto', ...  \n",
       "2  {'criterion': 'gini', 'max_features': 'log2', ...  "
      ]
     },
     "execution_count": 89,
     "metadata": {},
     "output_type": "execute_result"
    }
   ],
   "source": [
    "temp5L_SFB_imb = []\n",
    "\n",
    "y_train = df3_5L_imb[['CGPA']]\n",
    "X_train = df3_5L_imb[['Family Size', \"Parent's Education Level.Father\", \"Parent's Education Level.Mother\", \n",
    "                     \"Father's Occupation\", \"Mother's Occupation\", 'Financial Difficulties', 'Financial Support']]\n",
    "\n",
    "y_test = merge_5L_imb[['CGPA']]\n",
    "X_test = merge_5L_imb[['Family Size', \"Parent's Education Level.Father\", \"Parent's Education Level.Mother\", \n",
    "                     \"Father's Occupation\", \"Mother's Occupation\", 'Financial Difficulties', 'Financial Support']]\n",
    "\n",
    "for j in rand_states:\n",
    "    param_grid = {'n_estimators': [100, 200, 300, 400],\n",
    "                  'max_features': ['auto', 'sqrt', 'log2'],\n",
    "                  'criterion' :['gini', 'entropy']}\n",
    "\n",
    "    model = GridSearchCV(RandomForestClassifier(), param_grid, refit=True, n_jobs=-1, cv=10, verbose=1)\n",
    "    model.fit(X_train, y_train)\n",
    "    pred = model.predict(X_test)\n",
    "\n",
    "    acc = accuracy_score(y_test,pred)\n",
    "    pre = precision_score(y_test, pred, average='weighted')\n",
    "    recall = recall_score(y_test, pred, average='weighted')\n",
    "    f1 = f1_score(y_test, pred, average='weighted')\n",
    "    param = model.best_params_\n",
    "\n",
    "    temp5L_SFB_imb.append([100,j,acc,pre,recall,f1,param])\n",
    "        \n",
    "df5L_SFB_imb = pd.DataFrame(columns=['Test Size','Random State','Accuracy','Precision','Recall','F1 Score','Best Param'],data=temp5L_SFB_imb)\n",
    "df5L_SFB_imb"
   ]
  },
  {
   "cell_type": "code",
   "execution_count": 90,
   "id": "b192edf4-fa2d-4f66-97db-c8ecb37c6491",
   "metadata": {},
   "outputs": [
    {
     "data": {
      "text/html": [
       "<div>\n",
       "<style scoped>\n",
       "    .dataframe tbody tr th:only-of-type {\n",
       "        vertical-align: middle;\n",
       "    }\n",
       "\n",
       "    .dataframe tbody tr th {\n",
       "        vertical-align: top;\n",
       "    }\n",
       "\n",
       "    .dataframe thead th {\n",
       "        text-align: right;\n",
       "    }\n",
       "</style>\n",
       "<table border=\"1\" class=\"dataframe\">\n",
       "  <thead>\n",
       "    <tr style=\"text-align: right;\">\n",
       "      <th></th>\n",
       "      <th>Accuracy</th>\n",
       "      <th>Precision</th>\n",
       "      <th>Recall</th>\n",
       "      <th>F1 Score</th>\n",
       "    </tr>\n",
       "    <tr>\n",
       "      <th>Test Size</th>\n",
       "      <th></th>\n",
       "      <th></th>\n",
       "      <th></th>\n",
       "      <th></th>\n",
       "    </tr>\n",
       "  </thead>\n",
       "  <tbody>\n",
       "    <tr>\n",
       "      <th>100</th>\n",
       "      <td>0.358715</td>\n",
       "      <td>0.338639</td>\n",
       "      <td>0.358715</td>\n",
       "      <td>0.337085</td>\n",
       "    </tr>\n",
       "  </tbody>\n",
       "</table>\n",
       "</div>"
      ],
      "text/plain": [
       "           Accuracy  Precision    Recall  F1 Score\n",
       "Test Size                                         \n",
       "100        0.358715   0.338639  0.358715  0.337085"
      ]
     },
     "execution_count": 90,
     "metadata": {},
     "output_type": "execute_result"
    }
   ],
   "source": [
    "df5L_SFB_imb.groupby('Test Size')[['Accuracy','Precision','Recall','F1 Score']].mean()"
   ]
  },
  {
   "cell_type": "code",
   "execution_count": 91,
   "id": "8dc65812-d3e8-41f6-ba10-537a1f6d83e4",
   "metadata": {},
   "outputs": [
    {
     "name": "stdout",
     "output_type": "stream",
     "text": [
      "Imbalance 5-Level: Student Family Background\n",
      "\n",
      "{'criterion': 'entropy', 'max_features': 'log2', 'n_estimators': 100}\n",
      "{'criterion': 'gini', 'max_features': 'auto', 'n_estimators': 400}\n",
      "{'criterion': 'gini', 'max_features': 'log2', 'n_estimators': 400}\n"
     ]
    }
   ],
   "source": [
    "print(\"Imbalance 5-Level: Student Family Background\\n\")\n",
    "for x in df5L_SFB_imb[\"Best Param\"]:\n",
    "    print(x)"
   ]
  },
  {
   "cell_type": "markdown",
   "id": "fa3db425-589c-464a-abac-baaf867d28da",
   "metadata": {},
   "source": [
    "### SFB after RandomOverSampler"
   ]
  },
  {
   "cell_type": "code",
   "execution_count": 92,
   "id": "67dc9782-9106-4a79-a7a1-feb9685672b2",
   "metadata": {},
   "outputs": [
    {
     "name": "stdout",
     "output_type": "stream",
     "text": [
      "Fitting 10 folds for each of 24 candidates, totalling 240 fits\n"
     ]
    },
    {
     "name": "stderr",
     "output_type": "stream",
     "text": [
      "C:\\Users\\hazel\\anaconda3\\Lib\\site-packages\\sklearn\\model_selection\\_search.py:909: DataConversionWarning: A column-vector y was passed when a 1d array was expected. Please change the shape of y to (n_samples,), for example using ravel().\n",
      "  self.best_estimator_.fit(X, y, **fit_params)\n"
     ]
    },
    {
     "name": "stdout",
     "output_type": "stream",
     "text": [
      "Fitting 10 folds for each of 24 candidates, totalling 240 fits\n"
     ]
    },
    {
     "name": "stderr",
     "output_type": "stream",
     "text": [
      "C:\\Users\\hazel\\anaconda3\\Lib\\site-packages\\sklearn\\model_selection\\_search.py:909: DataConversionWarning: A column-vector y was passed when a 1d array was expected. Please change the shape of y to (n_samples,), for example using ravel().\n",
      "  self.best_estimator_.fit(X, y, **fit_params)\n",
      "C:\\Users\\hazel\\anaconda3\\Lib\\site-packages\\sklearn\\ensemble\\_forest.py:424: FutureWarning: `max_features='auto'` has been deprecated in 1.1 and will be removed in 1.3. To keep the past behaviour, explicitly set `max_features='sqrt'` or remove this parameter as it is also the default value for RandomForestClassifiers and ExtraTreesClassifiers.\n",
      "  warn(\n"
     ]
    },
    {
     "name": "stdout",
     "output_type": "stream",
     "text": [
      "Fitting 10 folds for each of 24 candidates, totalling 240 fits\n"
     ]
    },
    {
     "name": "stderr",
     "output_type": "stream",
     "text": [
      "C:\\Users\\hazel\\anaconda3\\Lib\\site-packages\\sklearn\\model_selection\\_search.py:909: DataConversionWarning: A column-vector y was passed when a 1d array was expected. Please change the shape of y to (n_samples,), for example using ravel().\n",
      "  self.best_estimator_.fit(X, y, **fit_params)\n",
      "C:\\Users\\hazel\\anaconda3\\Lib\\site-packages\\sklearn\\ensemble\\_forest.py:424: FutureWarning: `max_features='auto'` has been deprecated in 1.1 and will be removed in 1.3. To keep the past behaviour, explicitly set `max_features='sqrt'` or remove this parameter as it is also the default value for RandomForestClassifiers and ExtraTreesClassifiers.\n",
      "  warn(\n"
     ]
    },
    {
     "data": {
      "text/html": [
       "<div>\n",
       "<style scoped>\n",
       "    .dataframe tbody tr th:only-of-type {\n",
       "        vertical-align: middle;\n",
       "    }\n",
       "\n",
       "    .dataframe tbody tr th {\n",
       "        vertical-align: top;\n",
       "    }\n",
       "\n",
       "    .dataframe thead th {\n",
       "        text-align: right;\n",
       "    }\n",
       "</style>\n",
       "<table border=\"1\" class=\"dataframe\">\n",
       "  <thead>\n",
       "    <tr style=\"text-align: right;\">\n",
       "      <th></th>\n",
       "      <th>Test Size</th>\n",
       "      <th>Random State</th>\n",
       "      <th>Accuracy</th>\n",
       "      <th>Precision</th>\n",
       "      <th>Recall</th>\n",
       "      <th>F1 Score</th>\n",
       "      <th>Best Param</th>\n",
       "    </tr>\n",
       "  </thead>\n",
       "  <tbody>\n",
       "    <tr>\n",
       "      <th>0</th>\n",
       "      <td>100</td>\n",
       "      <td>7</td>\n",
       "      <td>0.196434</td>\n",
       "      <td>0.124525</td>\n",
       "      <td>0.196434</td>\n",
       "      <td>0.141700</td>\n",
       "      <td>{'criterion': 'gini', 'max_features': 'sqrt', ...</td>\n",
       "    </tr>\n",
       "    <tr>\n",
       "      <th>1</th>\n",
       "      <td>100</td>\n",
       "      <td>69</td>\n",
       "      <td>0.199028</td>\n",
       "      <td>0.120967</td>\n",
       "      <td>0.199028</td>\n",
       "      <td>0.144897</td>\n",
       "      <td>{'criterion': 'entropy', 'max_features': 'auto...</td>\n",
       "    </tr>\n",
       "    <tr>\n",
       "      <th>2</th>\n",
       "      <td>100</td>\n",
       "      <td>101</td>\n",
       "      <td>0.191896</td>\n",
       "      <td>0.121368</td>\n",
       "      <td>0.191896</td>\n",
       "      <td>0.141908</td>\n",
       "      <td>{'criterion': 'gini', 'max_features': 'auto', ...</td>\n",
       "    </tr>\n",
       "  </tbody>\n",
       "</table>\n",
       "</div>"
      ],
      "text/plain": [
       "   Test Size  Random State  Accuracy  Precision    Recall  F1 Score  \\\n",
       "0        100             7  0.196434   0.124525  0.196434  0.141700   \n",
       "1        100            69  0.199028   0.120967  0.199028  0.144897   \n",
       "2        100           101  0.191896   0.121368  0.191896  0.141908   \n",
       "\n",
       "                                          Best Param  \n",
       "0  {'criterion': 'gini', 'max_features': 'sqrt', ...  \n",
       "1  {'criterion': 'entropy', 'max_features': 'auto...  \n",
       "2  {'criterion': 'gini', 'max_features': 'auto', ...  "
      ]
     },
     "execution_count": 92,
     "metadata": {},
     "output_type": "execute_result"
    }
   ],
   "source": [
    "temp5L_SFB_ROS = []\n",
    "\n",
    "y_train = df3_5L_ROS[['CGPA']]\n",
    "X_train = df3_5L_ROS[['Family Size', \"Parent's Education Level.Father\", \"Parent's Education Level.Mother\", \n",
    "                     \"Father's Occupation\", \"Mother's Occupation\", 'Financial Difficulties', 'Financial Support']]\n",
    "\n",
    "y_test = merge_5L_ROS[['CGPA']]\n",
    "X_test = merge_5L_ROS[['Family Size', \"Parent's Education Level.Father\", \"Parent's Education Level.Mother\", \n",
    "                     \"Father's Occupation\", \"Mother's Occupation\", 'Financial Difficulties', 'Financial Support']]\n",
    "\n",
    "for j in rand_states:\n",
    "    param_grid = {'n_estimators': [100, 200, 300, 400],\n",
    "                  'max_features': ['auto', 'sqrt', 'log2'],\n",
    "                  'criterion' :['gini', 'entropy']}\n",
    "\n",
    "    model = GridSearchCV(RandomForestClassifier(), param_grid, refit=True, n_jobs=-1, cv=10, verbose=1)\n",
    "    model.fit(X_train, y_train)\n",
    "    pred = model.predict(X_test)\n",
    "\n",
    "    acc = accuracy_score(y_test,pred)\n",
    "    pre = precision_score(y_test, pred, average='weighted')\n",
    "    recall = recall_score(y_test, pred, average='weighted')\n",
    "    f1 = f1_score(y_test, pred, average='weighted')\n",
    "    param = model.best_params_\n",
    "\n",
    "    temp5L_SFB_ROS.append([100,j,acc,pre,recall,f1,param])\n",
    "        \n",
    "df5L_SFB_ROS = pd.DataFrame(columns=['Test Size','Random State','Accuracy','Precision','Recall','F1 Score','Best Param'],data=temp5L_SFB_ROS)\n",
    "df5L_SFB_ROS"
   ]
  },
  {
   "cell_type": "code",
   "execution_count": 93,
   "id": "bd9f8b9d-88f6-4aef-9a31-80138288d03c",
   "metadata": {},
   "outputs": [
    {
     "data": {
      "text/html": [
       "<div>\n",
       "<style scoped>\n",
       "    .dataframe tbody tr th:only-of-type {\n",
       "        vertical-align: middle;\n",
       "    }\n",
       "\n",
       "    .dataframe tbody tr th {\n",
       "        vertical-align: top;\n",
       "    }\n",
       "\n",
       "    .dataframe thead th {\n",
       "        text-align: right;\n",
       "    }\n",
       "</style>\n",
       "<table border=\"1\" class=\"dataframe\">\n",
       "  <thead>\n",
       "    <tr style=\"text-align: right;\">\n",
       "      <th></th>\n",
       "      <th>Accuracy</th>\n",
       "      <th>Precision</th>\n",
       "      <th>Recall</th>\n",
       "      <th>F1 Score</th>\n",
       "    </tr>\n",
       "    <tr>\n",
       "      <th>Test Size</th>\n",
       "      <th></th>\n",
       "      <th></th>\n",
       "      <th></th>\n",
       "      <th></th>\n",
       "    </tr>\n",
       "  </thead>\n",
       "  <tbody>\n",
       "    <tr>\n",
       "      <th>100</th>\n",
       "      <td>0.195786</td>\n",
       "      <td>0.122287</td>\n",
       "      <td>0.195786</td>\n",
       "      <td>0.142835</td>\n",
       "    </tr>\n",
       "  </tbody>\n",
       "</table>\n",
       "</div>"
      ],
      "text/plain": [
       "           Accuracy  Precision    Recall  F1 Score\n",
       "Test Size                                         \n",
       "100        0.195786   0.122287  0.195786  0.142835"
      ]
     },
     "execution_count": 93,
     "metadata": {},
     "output_type": "execute_result"
    }
   ],
   "source": [
    "df5L_SFB_ROS.groupby('Test Size')[['Accuracy','Precision','Recall','F1 Score']].mean()"
   ]
  },
  {
   "cell_type": "code",
   "execution_count": 94,
   "id": "7693b9d5-f501-4843-b133-8a2c624091b6",
   "metadata": {},
   "outputs": [
    {
     "name": "stdout",
     "output_type": "stream",
     "text": [
      "5-Level: Student Family Background\n",
      "\n",
      "{'criterion': 'gini', 'max_features': 'sqrt', 'n_estimators': 400}\n",
      "{'criterion': 'entropy', 'max_features': 'auto', 'n_estimators': 100}\n",
      "{'criterion': 'gini', 'max_features': 'auto', 'n_estimators': 400}\n"
     ]
    }
   ],
   "source": [
    "print(\"5-Level: Student Family Background\\n\")\n",
    "for x in df5L_SFB_ROS[\"Best Param\"]:\n",
    "    print(x)"
   ]
  },
  {
   "cell_type": "markdown",
   "id": "669e0e8f-437e-4aca-9e2e-de88fbe5ae1a",
   "metadata": {},
   "source": [
    "### SFB after SMOTE"
   ]
  },
  {
   "cell_type": "code",
   "execution_count": 95,
   "id": "bbe9d610-d029-4515-89fb-c88a79861a1e",
   "metadata": {},
   "outputs": [
    {
     "name": "stdout",
     "output_type": "stream",
     "text": [
      "Fitting 10 folds for each of 24 candidates, totalling 240 fits\n"
     ]
    },
    {
     "name": "stderr",
     "output_type": "stream",
     "text": [
      "C:\\Users\\hazel\\anaconda3\\Lib\\site-packages\\sklearn\\model_selection\\_search.py:909: DataConversionWarning: A column-vector y was passed when a 1d array was expected. Please change the shape of y to (n_samples,), for example using ravel().\n",
      "  self.best_estimator_.fit(X, y, **fit_params)\n",
      "C:\\Users\\hazel\\anaconda3\\Lib\\site-packages\\sklearn\\ensemble\\_forest.py:424: FutureWarning: `max_features='auto'` has been deprecated in 1.1 and will be removed in 1.3. To keep the past behaviour, explicitly set `max_features='sqrt'` or remove this parameter as it is also the default value for RandomForestClassifiers and ExtraTreesClassifiers.\n",
      "  warn(\n"
     ]
    },
    {
     "name": "stdout",
     "output_type": "stream",
     "text": [
      "Fitting 10 folds for each of 24 candidates, totalling 240 fits\n"
     ]
    },
    {
     "name": "stderr",
     "output_type": "stream",
     "text": [
      "C:\\Users\\hazel\\anaconda3\\Lib\\site-packages\\sklearn\\model_selection\\_search.py:909: DataConversionWarning: A column-vector y was passed when a 1d array was expected. Please change the shape of y to (n_samples,), for example using ravel().\n",
      "  self.best_estimator_.fit(X, y, **fit_params)\n",
      "C:\\Users\\hazel\\anaconda3\\Lib\\site-packages\\sklearn\\ensemble\\_forest.py:424: FutureWarning: `max_features='auto'` has been deprecated in 1.1 and will be removed in 1.3. To keep the past behaviour, explicitly set `max_features='sqrt'` or remove this parameter as it is also the default value for RandomForestClassifiers and ExtraTreesClassifiers.\n",
      "  warn(\n"
     ]
    },
    {
     "name": "stdout",
     "output_type": "stream",
     "text": [
      "Fitting 10 folds for each of 24 candidates, totalling 240 fits\n"
     ]
    },
    {
     "name": "stderr",
     "output_type": "stream",
     "text": [
      "C:\\Users\\hazel\\anaconda3\\Lib\\site-packages\\sklearn\\model_selection\\_search.py:909: DataConversionWarning: A column-vector y was passed when a 1d array was expected. Please change the shape of y to (n_samples,), for example using ravel().\n",
      "  self.best_estimator_.fit(X, y, **fit_params)\n",
      "C:\\Users\\hazel\\anaconda3\\Lib\\site-packages\\sklearn\\ensemble\\_forest.py:424: FutureWarning: `max_features='auto'` has been deprecated in 1.1 and will be removed in 1.3. To keep the past behaviour, explicitly set `max_features='sqrt'` or remove this parameter as it is also the default value for RandomForestClassifiers and ExtraTreesClassifiers.\n",
      "  warn(\n"
     ]
    },
    {
     "data": {
      "text/html": [
       "<div>\n",
       "<style scoped>\n",
       "    .dataframe tbody tr th:only-of-type {\n",
       "        vertical-align: middle;\n",
       "    }\n",
       "\n",
       "    .dataframe tbody tr th {\n",
       "        vertical-align: top;\n",
       "    }\n",
       "\n",
       "    .dataframe thead th {\n",
       "        text-align: right;\n",
       "    }\n",
       "</style>\n",
       "<table border=\"1\" class=\"dataframe\">\n",
       "  <thead>\n",
       "    <tr style=\"text-align: right;\">\n",
       "      <th></th>\n",
       "      <th>Test Size</th>\n",
       "      <th>Random State</th>\n",
       "      <th>Accuracy</th>\n",
       "      <th>Precision</th>\n",
       "      <th>Recall</th>\n",
       "      <th>F1 Score</th>\n",
       "      <th>Best Param</th>\n",
       "    </tr>\n",
       "  </thead>\n",
       "  <tbody>\n",
       "    <tr>\n",
       "      <th>0</th>\n",
       "      <td>100</td>\n",
       "      <td>7</td>\n",
       "      <td>0.192869</td>\n",
       "      <td>0.181779</td>\n",
       "      <td>0.192869</td>\n",
       "      <td>0.121715</td>\n",
       "      <td>{'criterion': 'entropy', 'max_features': 'auto...</td>\n",
       "    </tr>\n",
       "    <tr>\n",
       "      <th>1</th>\n",
       "      <td>100</td>\n",
       "      <td>69</td>\n",
       "      <td>0.199028</td>\n",
       "      <td>0.197702</td>\n",
       "      <td>0.199028</td>\n",
       "      <td>0.127750</td>\n",
       "      <td>{'criterion': 'gini', 'max_features': 'auto', ...</td>\n",
       "    </tr>\n",
       "    <tr>\n",
       "      <th>2</th>\n",
       "      <td>100</td>\n",
       "      <td>101</td>\n",
       "      <td>0.196110</td>\n",
       "      <td>0.135472</td>\n",
       "      <td>0.196110</td>\n",
       "      <td>0.131050</td>\n",
       "      <td>{'criterion': 'entropy', 'max_features': 'auto...</td>\n",
       "    </tr>\n",
       "  </tbody>\n",
       "</table>\n",
       "</div>"
      ],
      "text/plain": [
       "   Test Size  Random State  Accuracy  Precision    Recall  F1 Score  \\\n",
       "0        100             7  0.192869   0.181779  0.192869  0.121715   \n",
       "1        100            69  0.199028   0.197702  0.199028  0.127750   \n",
       "2        100           101  0.196110   0.135472  0.196110  0.131050   \n",
       "\n",
       "                                          Best Param  \n",
       "0  {'criterion': 'entropy', 'max_features': 'auto...  \n",
       "1  {'criterion': 'gini', 'max_features': 'auto', ...  \n",
       "2  {'criterion': 'entropy', 'max_features': 'auto...  "
      ]
     },
     "execution_count": 95,
     "metadata": {},
     "output_type": "execute_result"
    }
   ],
   "source": [
    "temp5L_SFB_SMOTE = []\n",
    "\n",
    "y_train = df3_5L_SMOTE[['CGPA']]\n",
    "X_train = df3_5L_SMOTE[['Family Size', \"Parent's Education Level.Father\", \"Parent's Education Level.Mother\", \n",
    "                     \"Father's Occupation\", \"Mother's Occupation\", 'Financial Difficulties', 'Financial Support']]\n",
    "\n",
    "y_test = merge_5L_SMOTE[['CGPA']]\n",
    "X_test = merge_5L_SMOTE[['Family Size', \"Parent's Education Level.Father\", \"Parent's Education Level.Mother\", \n",
    "                     \"Father's Occupation\", \"Mother's Occupation\", 'Financial Difficulties', 'Financial Support']]\n",
    "\n",
    "for j in rand_states:\n",
    "    param_grid = {'n_estimators': [100, 200, 300, 400],\n",
    "                  'max_features': ['auto', 'sqrt', 'log2'],\n",
    "                  'criterion' :['gini', 'entropy']}\n",
    "\n",
    "    model = GridSearchCV(RandomForestClassifier(), param_grid, refit=True, n_jobs=-1, cv=10, verbose=1)\n",
    "    model.fit(X_train, y_train)\n",
    "    pred = model.predict(X_test)\n",
    "\n",
    "    acc = accuracy_score(y_test,pred)\n",
    "    pre = precision_score(y_test, pred, average='weighted')\n",
    "    recall = recall_score(y_test, pred, average='weighted')\n",
    "    f1 = f1_score(y_test, pred, average='weighted')\n",
    "    param = model.best_params_\n",
    "\n",
    "    temp5L_SFB_SMOTE.append([100,j,acc,pre,recall,f1,param])\n",
    "        \n",
    "df5L_SFB_SMOTE = pd.DataFrame(columns=['Test Size','Random State','Accuracy','Precision','Recall','F1 Score','Best Param'],data=temp5L_SFB_SMOTE)\n",
    "df5L_SFB_SMOTE"
   ]
  },
  {
   "cell_type": "code",
   "execution_count": 96,
   "id": "0d8afed6-6825-439b-b755-fa11cf7ee4c6",
   "metadata": {},
   "outputs": [
    {
     "data": {
      "text/html": [
       "<div>\n",
       "<style scoped>\n",
       "    .dataframe tbody tr th:only-of-type {\n",
       "        vertical-align: middle;\n",
       "    }\n",
       "\n",
       "    .dataframe tbody tr th {\n",
       "        vertical-align: top;\n",
       "    }\n",
       "\n",
       "    .dataframe thead th {\n",
       "        text-align: right;\n",
       "    }\n",
       "</style>\n",
       "<table border=\"1\" class=\"dataframe\">\n",
       "  <thead>\n",
       "    <tr style=\"text-align: right;\">\n",
       "      <th></th>\n",
       "      <th>Accuracy</th>\n",
       "      <th>Precision</th>\n",
       "      <th>Recall</th>\n",
       "      <th>F1 Score</th>\n",
       "    </tr>\n",
       "    <tr>\n",
       "      <th>Test Size</th>\n",
       "      <th></th>\n",
       "      <th></th>\n",
       "      <th></th>\n",
       "      <th></th>\n",
       "    </tr>\n",
       "  </thead>\n",
       "  <tbody>\n",
       "    <tr>\n",
       "      <th>100</th>\n",
       "      <td>0.196002</td>\n",
       "      <td>0.171651</td>\n",
       "      <td>0.196002</td>\n",
       "      <td>0.126838</td>\n",
       "    </tr>\n",
       "  </tbody>\n",
       "</table>\n",
       "</div>"
      ],
      "text/plain": [
       "           Accuracy  Precision    Recall  F1 Score\n",
       "Test Size                                         \n",
       "100        0.196002   0.171651  0.196002  0.126838"
      ]
     },
     "execution_count": 96,
     "metadata": {},
     "output_type": "execute_result"
    }
   ],
   "source": [
    "df5L_SFB_SMOTE.groupby('Test Size')[['Accuracy','Precision','Recall','F1 Score']].mean()"
   ]
  },
  {
   "cell_type": "code",
   "execution_count": 97,
   "id": "5d23855f-9f9f-44ce-bdfe-aeaad4f038ee",
   "metadata": {},
   "outputs": [
    {
     "name": "stdout",
     "output_type": "stream",
     "text": [
      "SMOTE 5-Level: Student Family Background\n",
      "\n",
      "{'criterion': 'entropy', 'max_features': 'auto', 'n_estimators': 100}\n",
      "{'criterion': 'gini', 'max_features': 'auto', 'n_estimators': 400}\n",
      "{'criterion': 'entropy', 'max_features': 'auto', 'n_estimators': 100}\n"
     ]
    }
   ],
   "source": [
    "print(\"SMOTE 5-Level: Student Family Background\\n\")\n",
    "for x in df5L_SFB_SMOTE[\"Best Param\"]:\n",
    "    print(x)"
   ]
  },
  {
   "cell_type": "markdown",
   "id": "8271a5d7-04ee-49f9-b4b5-2a515160b8f1",
   "metadata": {},
   "source": [
    "## Student Lifestyle"
   ]
  },
  {
   "cell_type": "markdown",
   "id": "396d46e0-1818-4dea-9e81-fccdace9aa74",
   "metadata": {},
   "source": [
    "### SL before Data Balancing"
   ]
  },
  {
   "cell_type": "code",
   "execution_count": 98,
   "id": "d58143a9-a051-4101-b449-0f5000ca7bc8",
   "metadata": {},
   "outputs": [],
   "source": [
    "df3_5L_imb.rename(columns={\"Dating\": \"Relationship Status\"}, inplace=True)\n",
    "df3_5L_imb.rename(columns={\"Study Behaviour\": \"Study Behavior\"}, inplace=True)\n",
    "df3_5L_imb.rename(columns={\"I have enough free time after class.\": \"I have enough free time after class\"}, inplace=True)\n",
    "df3_5L_imb.rename(columns={\"I hang out with friends.\": \"I hang out with friends\"}, inplace=True)\n",
    "\n",
    "df3_5L_ROS.rename(columns={\"Dating\": \"Relationship Status\"}, inplace=True)\n",
    "df3_5L_ROS.rename(columns={\"Study Behaviour\": \"Study Behavior\"}, inplace=True)\n",
    "df3_5L_ROS.rename(columns={\"I have enough free time after class.\": \"I have enough free time after class\"}, inplace=True)\n",
    "df3_5L_ROS.rename(columns={\"I hang out with friends.\": \"I hang out with friends\"}, inplace=True)\n",
    "\n",
    "df3_5L_SMOTE.rename(columns={\"Dating\": \"Relationship Status\"}, inplace=True)\n",
    "df3_5L_SMOTE.rename(columns={\"Study Behaviour\": \"Study Behavior\"}, inplace=True)\n",
    "df3_5L_SMOTE.rename(columns={\"I have enough free time after class.\": \"I have enough free time after class\"}, inplace=True)\n",
    "df3_5L_SMOTE.rename(columns={\"I hang out with friends.\": \"I hang out with friends\"}, inplace=True)"
   ]
  },
  {
   "cell_type": "code",
   "execution_count": 99,
   "id": "06c7f91a-e840-4b47-808f-e7e9d134b55b",
   "metadata": {},
   "outputs": [
    {
     "name": "stdout",
     "output_type": "stream",
     "text": [
      "Fitting 10 folds for each of 24 candidates, totalling 240 fits\n"
     ]
    },
    {
     "name": "stderr",
     "output_type": "stream",
     "text": [
      "C:\\Users\\hazel\\anaconda3\\Lib\\site-packages\\sklearn\\model_selection\\_search.py:909: DataConversionWarning: A column-vector y was passed when a 1d array was expected. Please change the shape of y to (n_samples,), for example using ravel().\n",
      "  self.best_estimator_.fit(X, y, **fit_params)\n",
      "C:\\Users\\hazel\\anaconda3\\Lib\\site-packages\\sklearn\\ensemble\\_forest.py:424: FutureWarning: `max_features='auto'` has been deprecated in 1.1 and will be removed in 1.3. To keep the past behaviour, explicitly set `max_features='sqrt'` or remove this parameter as it is also the default value for RandomForestClassifiers and ExtraTreesClassifiers.\n",
      "  warn(\n"
     ]
    },
    {
     "name": "stdout",
     "output_type": "stream",
     "text": [
      "Fitting 10 folds for each of 24 candidates, totalling 240 fits\n"
     ]
    },
    {
     "name": "stderr",
     "output_type": "stream",
     "text": [
      "C:\\Users\\hazel\\anaconda3\\Lib\\site-packages\\sklearn\\model_selection\\_search.py:909: DataConversionWarning: A column-vector y was passed when a 1d array was expected. Please change the shape of y to (n_samples,), for example using ravel().\n",
      "  self.best_estimator_.fit(X, y, **fit_params)\n"
     ]
    },
    {
     "name": "stdout",
     "output_type": "stream",
     "text": [
      "Fitting 10 folds for each of 24 candidates, totalling 240 fits\n"
     ]
    },
    {
     "name": "stderr",
     "output_type": "stream",
     "text": [
      "C:\\Users\\hazel\\anaconda3\\Lib\\site-packages\\sklearn\\model_selection\\_search.py:909: DataConversionWarning: A column-vector y was passed when a 1d array was expected. Please change the shape of y to (n_samples,), for example using ravel().\n",
      "  self.best_estimator_.fit(X, y, **fit_params)\n"
     ]
    },
    {
     "data": {
      "text/html": [
       "<div>\n",
       "<style scoped>\n",
       "    .dataframe tbody tr th:only-of-type {\n",
       "        vertical-align: middle;\n",
       "    }\n",
       "\n",
       "    .dataframe tbody tr th {\n",
       "        vertical-align: top;\n",
       "    }\n",
       "\n",
       "    .dataframe thead th {\n",
       "        text-align: right;\n",
       "    }\n",
       "</style>\n",
       "<table border=\"1\" class=\"dataframe\">\n",
       "  <thead>\n",
       "    <tr style=\"text-align: right;\">\n",
       "      <th></th>\n",
       "      <th>Test Size</th>\n",
       "      <th>Random State</th>\n",
       "      <th>Accuracy</th>\n",
       "      <th>Precision</th>\n",
       "      <th>Recall</th>\n",
       "      <th>F1 Score</th>\n",
       "      <th>Best Param</th>\n",
       "    </tr>\n",
       "  </thead>\n",
       "  <tbody>\n",
       "    <tr>\n",
       "      <th>0</th>\n",
       "      <td>100</td>\n",
       "      <td>7</td>\n",
       "      <td>0.445221</td>\n",
       "      <td>0.396125</td>\n",
       "      <td>0.445221</td>\n",
       "      <td>0.398894</td>\n",
       "      <td>{'criterion': 'gini', 'max_features': 'auto', ...</td>\n",
       "    </tr>\n",
       "    <tr>\n",
       "      <th>1</th>\n",
       "      <td>100</td>\n",
       "      <td>69</td>\n",
       "      <td>0.442113</td>\n",
       "      <td>0.383814</td>\n",
       "      <td>0.442113</td>\n",
       "      <td>0.395138</td>\n",
       "      <td>{'criterion': 'gini', 'max_features': 'log2', ...</td>\n",
       "    </tr>\n",
       "    <tr>\n",
       "      <th>2</th>\n",
       "      <td>100</td>\n",
       "      <td>101</td>\n",
       "      <td>0.435120</td>\n",
       "      <td>0.381578</td>\n",
       "      <td>0.435120</td>\n",
       "      <td>0.390880</td>\n",
       "      <td>{'criterion': 'gini', 'max_features': 'log2', ...</td>\n",
       "    </tr>\n",
       "  </tbody>\n",
       "</table>\n",
       "</div>"
      ],
      "text/plain": [
       "   Test Size  Random State  Accuracy  Precision    Recall  F1 Score  \\\n",
       "0        100             7  0.445221   0.396125  0.445221  0.398894   \n",
       "1        100            69  0.442113   0.383814  0.442113  0.395138   \n",
       "2        100           101  0.435120   0.381578  0.435120  0.390880   \n",
       "\n",
       "                                          Best Param  \n",
       "0  {'criterion': 'gini', 'max_features': 'auto', ...  \n",
       "1  {'criterion': 'gini', 'max_features': 'log2', ...  \n",
       "2  {'criterion': 'gini', 'max_features': 'log2', ...  "
      ]
     },
     "execution_count": 99,
     "metadata": {},
     "output_type": "execute_result"
    }
   ],
   "source": [
    "temp5L_SL_imb = []\n",
    "\n",
    "y_train = df3_5L_imb[['CGPA']]\n",
    "X_train = df3_5L_imb[['Relationship Status', 'Scholarship', 'PTPTN', 'Skipping Class', 'Additional Course',\n",
    "                    'Study Behavior', 'Study Time', 'Extra Curricular Activities', 'Part-time Job', 'Commute Time',\n",
    "                    'Gaming', 'Alcohol Consumption', 'I have enough free time after class', 'Social Interaction',\n",
    "                    'I hang out with friends']]\n",
    "\n",
    "y_test = merge_5L_imb[['CGPA']]\n",
    "X_test = merge_5L_imb[['Relationship Status', 'Scholarship', 'PTPTN', 'Skipping Class', 'Additional Course',\n",
    "                    'Study Behavior', 'Study Time', 'Extra Curricular Activities', 'Part-time Job', 'Commute Time',\n",
    "                    'Gaming', 'Alcohol Consumption', 'I have enough free time after class', 'Social Interaction',\n",
    "                    'I hang out with friends']]\n",
    "\n",
    "for j in rand_states:\n",
    "    param_grid = {'n_estimators': [100, 200, 300, 400],\n",
    "                  'max_features': ['auto', 'sqrt', 'log2'],\n",
    "                  'criterion' :['gini', 'entropy']}\n",
    "\n",
    "    model = GridSearchCV(RandomForestClassifier(), param_grid, refit=True, n_jobs=-1, cv=10, verbose=1)\n",
    "    model.fit(X_train, y_train)\n",
    "    pred = model.predict(X_test)\n",
    "\n",
    "    acc = accuracy_score(y_test,pred)\n",
    "    pre = precision_score(y_test, pred, average='weighted')\n",
    "    recall = recall_score(y_test, pred, average='weighted')\n",
    "    f1 = f1_score(y_test, pred, average='weighted')\n",
    "    param = model.best_params_\n",
    "\n",
    "    temp5L_SL_imb.append([100,j,acc,pre,recall,f1,param])\n",
    "        \n",
    "df5L_SL_imb = pd.DataFrame(columns=['Test Size','Random State','Accuracy','Precision','Recall','F1 Score','Best Param'],data=temp5L_SL_imb)\n",
    "df5L_SL_imb"
   ]
  },
  {
   "cell_type": "code",
   "execution_count": 100,
   "id": "f029829d-39f0-4fe8-ab0c-275643f6d682",
   "metadata": {},
   "outputs": [
    {
     "data": {
      "text/html": [
       "<div>\n",
       "<style scoped>\n",
       "    .dataframe tbody tr th:only-of-type {\n",
       "        vertical-align: middle;\n",
       "    }\n",
       "\n",
       "    .dataframe tbody tr th {\n",
       "        vertical-align: top;\n",
       "    }\n",
       "\n",
       "    .dataframe thead th {\n",
       "        text-align: right;\n",
       "    }\n",
       "</style>\n",
       "<table border=\"1\" class=\"dataframe\">\n",
       "  <thead>\n",
       "    <tr style=\"text-align: right;\">\n",
       "      <th></th>\n",
       "      <th>Accuracy</th>\n",
       "      <th>Precision</th>\n",
       "      <th>Recall</th>\n",
       "      <th>F1 Score</th>\n",
       "    </tr>\n",
       "    <tr>\n",
       "      <th>Test Size</th>\n",
       "      <th></th>\n",
       "      <th></th>\n",
       "      <th></th>\n",
       "      <th></th>\n",
       "    </tr>\n",
       "  </thead>\n",
       "  <tbody>\n",
       "    <tr>\n",
       "      <th>100</th>\n",
       "      <td>0.440818</td>\n",
       "      <td>0.387172</td>\n",
       "      <td>0.440818</td>\n",
       "      <td>0.394971</td>\n",
       "    </tr>\n",
       "  </tbody>\n",
       "</table>\n",
       "</div>"
      ],
      "text/plain": [
       "           Accuracy  Precision    Recall  F1 Score\n",
       "Test Size                                         \n",
       "100        0.440818   0.387172  0.440818  0.394971"
      ]
     },
     "execution_count": 100,
     "metadata": {},
     "output_type": "execute_result"
    }
   ],
   "source": [
    "df5L_SL_imb.groupby('Test Size')[['Accuracy','Precision','Recall','F1 Score']].mean()"
   ]
  },
  {
   "cell_type": "code",
   "execution_count": 101,
   "id": "20499c95-1981-4083-a69c-998d6650d457",
   "metadata": {},
   "outputs": [
    {
     "name": "stdout",
     "output_type": "stream",
     "text": [
      "Imbalance 5-Level: Student Lifestyle\n",
      "\n",
      "{'criterion': 'gini', 'max_features': 'auto', 'n_estimators': 300}\n",
      "{'criterion': 'gini', 'max_features': 'log2', 'n_estimators': 200}\n",
      "{'criterion': 'gini', 'max_features': 'log2', 'n_estimators': 200}\n"
     ]
    }
   ],
   "source": [
    "print(\"Imbalance 5-Level: Student Lifestyle\\n\")\n",
    "for x in df5L_SL_imb[\"Best Param\"]:\n",
    "    print(x)"
   ]
  },
  {
   "cell_type": "markdown",
   "id": "cd9c2bc3-3f8b-41dc-8087-9f75bc1d2bd1",
   "metadata": {},
   "source": [
    "### SL after RandomOverSampler"
   ]
  },
  {
   "cell_type": "code",
   "execution_count": 102,
   "id": "953af783-770e-41c2-8284-3367c8bc921c",
   "metadata": {},
   "outputs": [
    {
     "name": "stdout",
     "output_type": "stream",
     "text": [
      "Fitting 10 folds for each of 24 candidates, totalling 240 fits\n"
     ]
    },
    {
     "name": "stderr",
     "output_type": "stream",
     "text": [
      "C:\\Users\\hazel\\anaconda3\\Lib\\site-packages\\sklearn\\model_selection\\_search.py:909: DataConversionWarning: A column-vector y was passed when a 1d array was expected. Please change the shape of y to (n_samples,), for example using ravel().\n",
      "  self.best_estimator_.fit(X, y, **fit_params)\n",
      "C:\\Users\\hazel\\anaconda3\\Lib\\site-packages\\sklearn\\ensemble\\_forest.py:424: FutureWarning: `max_features='auto'` has been deprecated in 1.1 and will be removed in 1.3. To keep the past behaviour, explicitly set `max_features='sqrt'` or remove this parameter as it is also the default value for RandomForestClassifiers and ExtraTreesClassifiers.\n",
      "  warn(\n"
     ]
    },
    {
     "name": "stdout",
     "output_type": "stream",
     "text": [
      "Fitting 10 folds for each of 24 candidates, totalling 240 fits\n"
     ]
    },
    {
     "name": "stderr",
     "output_type": "stream",
     "text": [
      "C:\\Users\\hazel\\anaconda3\\Lib\\site-packages\\sklearn\\model_selection\\_search.py:909: DataConversionWarning: A column-vector y was passed when a 1d array was expected. Please change the shape of y to (n_samples,), for example using ravel().\n",
      "  self.best_estimator_.fit(X, y, **fit_params)\n"
     ]
    },
    {
     "name": "stdout",
     "output_type": "stream",
     "text": [
      "Fitting 10 folds for each of 24 candidates, totalling 240 fits\n"
     ]
    },
    {
     "name": "stderr",
     "output_type": "stream",
     "text": [
      "C:\\Users\\hazel\\anaconda3\\Lib\\site-packages\\sklearn\\model_selection\\_search.py:909: DataConversionWarning: A column-vector y was passed when a 1d array was expected. Please change the shape of y to (n_samples,), for example using ravel().\n",
      "  self.best_estimator_.fit(X, y, **fit_params)\n"
     ]
    },
    {
     "data": {
      "text/html": [
       "<div>\n",
       "<style scoped>\n",
       "    .dataframe tbody tr th:only-of-type {\n",
       "        vertical-align: middle;\n",
       "    }\n",
       "\n",
       "    .dataframe tbody tr th {\n",
       "        vertical-align: top;\n",
       "    }\n",
       "\n",
       "    .dataframe thead th {\n",
       "        text-align: right;\n",
       "    }\n",
       "</style>\n",
       "<table border=\"1\" class=\"dataframe\">\n",
       "  <thead>\n",
       "    <tr style=\"text-align: right;\">\n",
       "      <th></th>\n",
       "      <th>Test Size</th>\n",
       "      <th>Random State</th>\n",
       "      <th>Accuracy</th>\n",
       "      <th>Precision</th>\n",
       "      <th>Recall</th>\n",
       "      <th>F1 Score</th>\n",
       "      <th>Best Param</th>\n",
       "    </tr>\n",
       "  </thead>\n",
       "  <tbody>\n",
       "    <tr>\n",
       "      <th>0</th>\n",
       "      <td>100</td>\n",
       "      <td>7</td>\n",
       "      <td>0.212966</td>\n",
       "      <td>0.171949</td>\n",
       "      <td>0.212966</td>\n",
       "      <td>0.146623</td>\n",
       "      <td>{'criterion': 'entropy', 'max_features': 'auto...</td>\n",
       "    </tr>\n",
       "    <tr>\n",
       "      <th>1</th>\n",
       "      <td>100</td>\n",
       "      <td>69</td>\n",
       "      <td>0.213614</td>\n",
       "      <td>0.175449</td>\n",
       "      <td>0.213614</td>\n",
       "      <td>0.144934</td>\n",
       "      <td>{'criterion': 'entropy', 'max_features': 'log2...</td>\n",
       "    </tr>\n",
       "    <tr>\n",
       "      <th>2</th>\n",
       "      <td>100</td>\n",
       "      <td>101</td>\n",
       "      <td>0.215883</td>\n",
       "      <td>0.180926</td>\n",
       "      <td>0.215883</td>\n",
       "      <td>0.151408</td>\n",
       "      <td>{'criterion': 'entropy', 'max_features': 'sqrt...</td>\n",
       "    </tr>\n",
       "  </tbody>\n",
       "</table>\n",
       "</div>"
      ],
      "text/plain": [
       "   Test Size  Random State  Accuracy  Precision    Recall  F1 Score  \\\n",
       "0        100             7  0.212966   0.171949  0.212966  0.146623   \n",
       "1        100            69  0.213614   0.175449  0.213614  0.144934   \n",
       "2        100           101  0.215883   0.180926  0.215883  0.151408   \n",
       "\n",
       "                                          Best Param  \n",
       "0  {'criterion': 'entropy', 'max_features': 'auto...  \n",
       "1  {'criterion': 'entropy', 'max_features': 'log2...  \n",
       "2  {'criterion': 'entropy', 'max_features': 'sqrt...  "
      ]
     },
     "execution_count": 102,
     "metadata": {},
     "output_type": "execute_result"
    }
   ],
   "source": [
    "temp5L_SL_ROS = []\n",
    "\n",
    "y_train = df3_5L_ROS[['CGPA']]\n",
    "X_train = df3_5L_ROS[['Relationship Status', 'Scholarship', 'PTPTN', 'Skipping Class', 'Additional Course',\n",
    "                    'Study Behavior', 'Study Time', 'Extra Curricular Activities', 'Part-time Job', 'Commute Time',\n",
    "                    'Gaming', 'Alcohol Consumption', 'I have enough free time after class', 'Social Interaction',\n",
    "                    'I hang out with friends']]\n",
    "\n",
    "y_test = merge_5L_ROS[['CGPA']]\n",
    "X_test = merge_5L_ROS[['Relationship Status', 'Scholarship', 'PTPTN', 'Skipping Class', 'Additional Course',\n",
    "                    'Study Behavior', 'Study Time', 'Extra Curricular Activities', 'Part-time Job', 'Commute Time',\n",
    "                    'Gaming', 'Alcohol Consumption', 'I have enough free time after class', 'Social Interaction',\n",
    "                    'I hang out with friends']]\n",
    "\n",
    "for j in rand_states:\n",
    "    param_grid = {'n_estimators': [100, 200, 300, 400],\n",
    "                  'max_features': ['auto', 'sqrt', 'log2'],\n",
    "                  'criterion' :['gini', 'entropy']}\n",
    "\n",
    "    model = GridSearchCV(RandomForestClassifier(), param_grid, refit=True, n_jobs=-1, cv=10, verbose=1)\n",
    "    model.fit(X_train, y_train)\n",
    "    pred = model.predict(X_test)\n",
    "\n",
    "    acc = accuracy_score(y_test,pred)\n",
    "    pre = precision_score(y_test, pred, average='weighted')\n",
    "    recall = recall_score(y_test, pred, average='weighted')\n",
    "    f1 = f1_score(y_test, pred, average='weighted')\n",
    "    param = model.best_params_\n",
    "\n",
    "    temp5L_SL_ROS.append([100,j,acc,pre,recall,f1,param])\n",
    "        \n",
    "df5L_SL_ROS = pd.DataFrame(columns=['Test Size','Random State','Accuracy','Precision','Recall','F1 Score','Best Param'],data=temp5L_SL_ROS)\n",
    "df5L_SL_ROS"
   ]
  },
  {
   "cell_type": "code",
   "execution_count": 103,
   "id": "7f2eef94-0b6c-4584-9a98-4a0f115c6f55",
   "metadata": {},
   "outputs": [
    {
     "data": {
      "text/html": [
       "<div>\n",
       "<style scoped>\n",
       "    .dataframe tbody tr th:only-of-type {\n",
       "        vertical-align: middle;\n",
       "    }\n",
       "\n",
       "    .dataframe tbody tr th {\n",
       "        vertical-align: top;\n",
       "    }\n",
       "\n",
       "    .dataframe thead th {\n",
       "        text-align: right;\n",
       "    }\n",
       "</style>\n",
       "<table border=\"1\" class=\"dataframe\">\n",
       "  <thead>\n",
       "    <tr style=\"text-align: right;\">\n",
       "      <th></th>\n",
       "      <th>Accuracy</th>\n",
       "      <th>Precision</th>\n",
       "      <th>Recall</th>\n",
       "      <th>F1 Score</th>\n",
       "    </tr>\n",
       "    <tr>\n",
       "      <th>Test Size</th>\n",
       "      <th></th>\n",
       "      <th></th>\n",
       "      <th></th>\n",
       "      <th></th>\n",
       "    </tr>\n",
       "  </thead>\n",
       "  <tbody>\n",
       "    <tr>\n",
       "      <th>100</th>\n",
       "      <td>0.214155</td>\n",
       "      <td>0.176108</td>\n",
       "      <td>0.214155</td>\n",
       "      <td>0.147655</td>\n",
       "    </tr>\n",
       "  </tbody>\n",
       "</table>\n",
       "</div>"
      ],
      "text/plain": [
       "           Accuracy  Precision    Recall  F1 Score\n",
       "Test Size                                         \n",
       "100        0.214155   0.176108  0.214155  0.147655"
      ]
     },
     "execution_count": 103,
     "metadata": {},
     "output_type": "execute_result"
    }
   ],
   "source": [
    "df5L_SL_ROS.groupby('Test Size')[['Accuracy','Precision','Recall','F1 Score']].mean()"
   ]
  },
  {
   "cell_type": "code",
   "execution_count": 104,
   "id": "ccee874d-04d7-48b4-b1ce-2ddbbd9b6149",
   "metadata": {},
   "outputs": [
    {
     "name": "stdout",
     "output_type": "stream",
     "text": [
      "5-Level: Student Lifestyle\n",
      "\n",
      "{'criterion': 'entropy', 'max_features': 'auto', 'n_estimators': 400}\n",
      "{'criterion': 'entropy', 'max_features': 'log2', 'n_estimators': 400}\n",
      "{'criterion': 'entropy', 'max_features': 'sqrt', 'n_estimators': 400}\n"
     ]
    }
   ],
   "source": [
    "print(\"5-Level: Student Lifestyle\\n\")\n",
    "for x in df5L_SL_ROS[\"Best Param\"]:\n",
    "    print(x)"
   ]
  },
  {
   "cell_type": "markdown",
   "id": "372cb023-e1e1-43d2-97a2-d9896656aa30",
   "metadata": {},
   "source": [
    "### SL after SMOTE"
   ]
  },
  {
   "cell_type": "code",
   "execution_count": 105,
   "id": "b199c221-94ed-4090-89ec-9245130f9871",
   "metadata": {},
   "outputs": [
    {
     "name": "stdout",
     "output_type": "stream",
     "text": [
      "Fitting 10 folds for each of 24 candidates, totalling 240 fits\n"
     ]
    },
    {
     "name": "stderr",
     "output_type": "stream",
     "text": [
      "C:\\Users\\hazel\\anaconda3\\Lib\\site-packages\\sklearn\\model_selection\\_search.py:909: DataConversionWarning: A column-vector y was passed when a 1d array was expected. Please change the shape of y to (n_samples,), for example using ravel().\n",
      "  self.best_estimator_.fit(X, y, **fit_params)\n",
      "C:\\Users\\hazel\\anaconda3\\Lib\\site-packages\\sklearn\\ensemble\\_forest.py:424: FutureWarning: `max_features='auto'` has been deprecated in 1.1 and will be removed in 1.3. To keep the past behaviour, explicitly set `max_features='sqrt'` or remove this parameter as it is also the default value for RandomForestClassifiers and ExtraTreesClassifiers.\n",
      "  warn(\n"
     ]
    },
    {
     "name": "stdout",
     "output_type": "stream",
     "text": [
      "Fitting 10 folds for each of 24 candidates, totalling 240 fits\n"
     ]
    },
    {
     "name": "stderr",
     "output_type": "stream",
     "text": [
      "C:\\Users\\hazel\\anaconda3\\Lib\\site-packages\\sklearn\\model_selection\\_search.py:909: DataConversionWarning: A column-vector y was passed when a 1d array was expected. Please change the shape of y to (n_samples,), for example using ravel().\n",
      "  self.best_estimator_.fit(X, y, **fit_params)\n"
     ]
    },
    {
     "name": "stdout",
     "output_type": "stream",
     "text": [
      "Fitting 10 folds for each of 24 candidates, totalling 240 fits\n"
     ]
    },
    {
     "name": "stderr",
     "output_type": "stream",
     "text": [
      "C:\\Users\\hazel\\anaconda3\\Lib\\site-packages\\sklearn\\model_selection\\_search.py:909: DataConversionWarning: A column-vector y was passed when a 1d array was expected. Please change the shape of y to (n_samples,), for example using ravel().\n",
      "  self.best_estimator_.fit(X, y, **fit_params)\n",
      "C:\\Users\\hazel\\anaconda3\\Lib\\site-packages\\sklearn\\ensemble\\_forest.py:424: FutureWarning: `max_features='auto'` has been deprecated in 1.1 and will be removed in 1.3. To keep the past behaviour, explicitly set `max_features='sqrt'` or remove this parameter as it is also the default value for RandomForestClassifiers and ExtraTreesClassifiers.\n",
      "  warn(\n"
     ]
    },
    {
     "data": {
      "text/html": [
       "<div>\n",
       "<style scoped>\n",
       "    .dataframe tbody tr th:only-of-type {\n",
       "        vertical-align: middle;\n",
       "    }\n",
       "\n",
       "    .dataframe tbody tr th {\n",
       "        vertical-align: top;\n",
       "    }\n",
       "\n",
       "    .dataframe thead th {\n",
       "        text-align: right;\n",
       "    }\n",
       "</style>\n",
       "<table border=\"1\" class=\"dataframe\">\n",
       "  <thead>\n",
       "    <tr style=\"text-align: right;\">\n",
       "      <th></th>\n",
       "      <th>Test Size</th>\n",
       "      <th>Random State</th>\n",
       "      <th>Accuracy</th>\n",
       "      <th>Precision</th>\n",
       "      <th>Recall</th>\n",
       "      <th>F1 Score</th>\n",
       "      <th>Best Param</th>\n",
       "    </tr>\n",
       "  </thead>\n",
       "  <tbody>\n",
       "    <tr>\n",
       "      <th>0</th>\n",
       "      <td>100</td>\n",
       "      <td>7</td>\n",
       "      <td>0.241491</td>\n",
       "      <td>0.216450</td>\n",
       "      <td>0.241491</td>\n",
       "      <td>0.224004</td>\n",
       "      <td>{'criterion': 'gini', 'max_features': 'auto', ...</td>\n",
       "    </tr>\n",
       "    <tr>\n",
       "      <th>1</th>\n",
       "      <td>100</td>\n",
       "      <td>69</td>\n",
       "      <td>0.243112</td>\n",
       "      <td>0.215322</td>\n",
       "      <td>0.243112</td>\n",
       "      <td>0.225725</td>\n",
       "      <td>{'criterion': 'gini', 'max_features': 'log2', ...</td>\n",
       "    </tr>\n",
       "    <tr>\n",
       "      <th>2</th>\n",
       "      <td>100</td>\n",
       "      <td>101</td>\n",
       "      <td>0.253160</td>\n",
       "      <td>0.228207</td>\n",
       "      <td>0.253160</td>\n",
       "      <td>0.235823</td>\n",
       "      <td>{'criterion': 'gini', 'max_features': 'auto', ...</td>\n",
       "    </tr>\n",
       "  </tbody>\n",
       "</table>\n",
       "</div>"
      ],
      "text/plain": [
       "   Test Size  Random State  Accuracy  Precision    Recall  F1 Score  \\\n",
       "0        100             7  0.241491   0.216450  0.241491  0.224004   \n",
       "1        100            69  0.243112   0.215322  0.243112  0.225725   \n",
       "2        100           101  0.253160   0.228207  0.253160  0.235823   \n",
       "\n",
       "                                          Best Param  \n",
       "0  {'criterion': 'gini', 'max_features': 'auto', ...  \n",
       "1  {'criterion': 'gini', 'max_features': 'log2', ...  \n",
       "2  {'criterion': 'gini', 'max_features': 'auto', ...  "
      ]
     },
     "execution_count": 105,
     "metadata": {},
     "output_type": "execute_result"
    }
   ],
   "source": [
    "temp5L_SL_SMOTE = []\n",
    "\n",
    "y_train = df3_5L_SMOTE[['CGPA']]\n",
    "X_train = df3_5L_SMOTE[['Relationship Status', 'Scholarship', 'PTPTN', 'Skipping Class', 'Additional Course',\n",
    "                    'Study Behavior', 'Study Time', 'Extra Curricular Activities', 'Part-time Job', 'Commute Time',\n",
    "                    'Gaming', 'Alcohol Consumption', 'I have enough free time after class', 'Social Interaction',\n",
    "                    'I hang out with friends']]\n",
    "\n",
    "y_test = merge_5L_SMOTE[['CGPA']]\n",
    "X_test = merge_5L_SMOTE[['Relationship Status', 'Scholarship', 'PTPTN', 'Skipping Class', 'Additional Course',\n",
    "                    'Study Behavior', 'Study Time', 'Extra Curricular Activities', 'Part-time Job', 'Commute Time',\n",
    "                    'Gaming', 'Alcohol Consumption', 'I have enough free time after class', 'Social Interaction',\n",
    "                    'I hang out with friends']]\n",
    "\n",
    "for j in rand_states:\n",
    "    param_grid = {'n_estimators': [100, 200, 300, 400],\n",
    "                  'max_features': ['auto', 'sqrt', 'log2'],\n",
    "                  'criterion' :['gini', 'entropy']}\n",
    "\n",
    "    model = GridSearchCV(RandomForestClassifier(), param_grid, refit=True, n_jobs=-1, cv=10, verbose=1)\n",
    "    model.fit(X_train, y_train)\n",
    "    pred = model.predict(X_test)\n",
    "\n",
    "    acc = accuracy_score(y_test,pred)\n",
    "    pre = precision_score(y_test, pred, average='weighted')\n",
    "    recall = recall_score(y_test, pred, average='weighted')\n",
    "    f1 = f1_score(y_test, pred, average='weighted')\n",
    "    param = model.best_params_\n",
    "\n",
    "    temp5L_SL_SMOTE.append([100,j,acc,pre,recall,f1,param])\n",
    "        \n",
    "df5L_SL_SMOTE = pd.DataFrame(columns=['Test Size','Random State','Accuracy','Precision','Recall','F1 Score','Best Param'],data=temp5L_SL_SMOTE)\n",
    "df5L_SL_SMOTE"
   ]
  },
  {
   "cell_type": "code",
   "execution_count": 106,
   "id": "7691050e-38c2-49c8-aea0-b107f2a787e3",
   "metadata": {},
   "outputs": [
    {
     "data": {
      "text/html": [
       "<div>\n",
       "<style scoped>\n",
       "    .dataframe tbody tr th:only-of-type {\n",
       "        vertical-align: middle;\n",
       "    }\n",
       "\n",
       "    .dataframe tbody tr th {\n",
       "        vertical-align: top;\n",
       "    }\n",
       "\n",
       "    .dataframe thead th {\n",
       "        text-align: right;\n",
       "    }\n",
       "</style>\n",
       "<table border=\"1\" class=\"dataframe\">\n",
       "  <thead>\n",
       "    <tr style=\"text-align: right;\">\n",
       "      <th></th>\n",
       "      <th>Accuracy</th>\n",
       "      <th>Precision</th>\n",
       "      <th>Recall</th>\n",
       "      <th>F1 Score</th>\n",
       "    </tr>\n",
       "    <tr>\n",
       "      <th>Test Size</th>\n",
       "      <th></th>\n",
       "      <th></th>\n",
       "      <th></th>\n",
       "      <th></th>\n",
       "    </tr>\n",
       "  </thead>\n",
       "  <tbody>\n",
       "    <tr>\n",
       "      <th>100</th>\n",
       "      <td>0.245921</td>\n",
       "      <td>0.219993</td>\n",
       "      <td>0.245921</td>\n",
       "      <td>0.228517</td>\n",
       "    </tr>\n",
       "  </tbody>\n",
       "</table>\n",
       "</div>"
      ],
      "text/plain": [
       "           Accuracy  Precision    Recall  F1 Score\n",
       "Test Size                                         \n",
       "100        0.245921   0.219993  0.245921  0.228517"
      ]
     },
     "execution_count": 106,
     "metadata": {},
     "output_type": "execute_result"
    }
   ],
   "source": [
    "df5L_SL_SMOTE.groupby('Test Size')[['Accuracy','Precision','Recall','F1 Score']].mean()"
   ]
  },
  {
   "cell_type": "code",
   "execution_count": 107,
   "id": "42d75334-22f4-40f4-a853-e4e407d16d54",
   "metadata": {},
   "outputs": [
    {
     "name": "stdout",
     "output_type": "stream",
     "text": [
      "SMOTE 5-Level: Student Lifestyle\n",
      "\n",
      "{'criterion': 'gini', 'max_features': 'auto', 'n_estimators': 200}\n",
      "{'criterion': 'gini', 'max_features': 'log2', 'n_estimators': 200}\n",
      "{'criterion': 'gini', 'max_features': 'auto', 'n_estimators': 400}\n"
     ]
    }
   ],
   "source": [
    "print(\"SMOTE 5-Level: Student Lifestyle\\n\")\n",
    "for x in df5L_SL_SMOTE[\"Best Param\"]:\n",
    "    print(x)"
   ]
  },
  {
   "cell_type": "markdown",
   "id": "90ffb77b-fa32-483f-8a93-10f5e92c15db",
   "metadata": {},
   "source": [
    "## All Attributes"
   ]
  },
  {
   "cell_type": "markdown",
   "id": "9312bb97-02f6-41a6-80c7-4e18eedfb7ae",
   "metadata": {},
   "source": [
    "### AA before Data Balancing"
   ]
  },
  {
   "cell_type": "code",
   "execution_count": 108,
   "id": "87276b7e-e599-45ca-8754-605838127851",
   "metadata": {},
   "outputs": [
    {
     "name": "stdout",
     "output_type": "stream",
     "text": [
      "Fitting 10 folds for each of 24 candidates, totalling 240 fits\n"
     ]
    },
    {
     "name": "stderr",
     "output_type": "stream",
     "text": [
      "C:\\Users\\hazel\\anaconda3\\Lib\\site-packages\\sklearn\\model_selection\\_search.py:909: DataConversionWarning: A column-vector y was passed when a 1d array was expected. Please change the shape of y to (n_samples,), for example using ravel().\n",
      "  self.best_estimator_.fit(X, y, **fit_params)\n",
      "C:\\Users\\hazel\\anaconda3\\Lib\\site-packages\\sklearn\\ensemble\\_forest.py:424: FutureWarning: `max_features='auto'` has been deprecated in 1.1 and will be removed in 1.3. To keep the past behaviour, explicitly set `max_features='sqrt'` or remove this parameter as it is also the default value for RandomForestClassifiers and ExtraTreesClassifiers.\n",
      "  warn(\n",
      "C:\\Users\\hazel\\anaconda3\\Lib\\site-packages\\sklearn\\metrics\\_classification.py:1344: UndefinedMetricWarning: Precision is ill-defined and being set to 0.0 in labels with no predicted samples. Use `zero_division` parameter to control this behavior.\n",
      "  _warn_prf(average, modifier, msg_start, len(result))\n"
     ]
    },
    {
     "name": "stdout",
     "output_type": "stream",
     "text": [
      "Fitting 10 folds for each of 24 candidates, totalling 240 fits\n"
     ]
    },
    {
     "name": "stderr",
     "output_type": "stream",
     "text": [
      "C:\\Users\\hazel\\anaconda3\\Lib\\site-packages\\sklearn\\model_selection\\_search.py:909: DataConversionWarning: A column-vector y was passed when a 1d array was expected. Please change the shape of y to (n_samples,), for example using ravel().\n",
      "  self.best_estimator_.fit(X, y, **fit_params)\n",
      "C:\\Users\\hazel\\anaconda3\\Lib\\site-packages\\sklearn\\ensemble\\_forest.py:424: FutureWarning: `max_features='auto'` has been deprecated in 1.1 and will be removed in 1.3. To keep the past behaviour, explicitly set `max_features='sqrt'` or remove this parameter as it is also the default value for RandomForestClassifiers and ExtraTreesClassifiers.\n",
      "  warn(\n",
      "C:\\Users\\hazel\\anaconda3\\Lib\\site-packages\\sklearn\\metrics\\_classification.py:1344: UndefinedMetricWarning: Precision is ill-defined and being set to 0.0 in labels with no predicted samples. Use `zero_division` parameter to control this behavior.\n",
      "  _warn_prf(average, modifier, msg_start, len(result))\n"
     ]
    },
    {
     "name": "stdout",
     "output_type": "stream",
     "text": [
      "Fitting 10 folds for each of 24 candidates, totalling 240 fits\n"
     ]
    },
    {
     "name": "stderr",
     "output_type": "stream",
     "text": [
      "C:\\Users\\hazel\\anaconda3\\Lib\\site-packages\\sklearn\\model_selection\\_search.py:909: DataConversionWarning: A column-vector y was passed when a 1d array was expected. Please change the shape of y to (n_samples,), for example using ravel().\n",
      "  self.best_estimator_.fit(X, y, **fit_params)\n",
      "C:\\Users\\hazel\\anaconda3\\Lib\\site-packages\\sklearn\\metrics\\_classification.py:1344: UndefinedMetricWarning: Precision is ill-defined and being set to 0.0 in labels with no predicted samples. Use `zero_division` parameter to control this behavior.\n",
      "  _warn_prf(average, modifier, msg_start, len(result))\n"
     ]
    },
    {
     "data": {
      "text/html": [
       "<div>\n",
       "<style scoped>\n",
       "    .dataframe tbody tr th:only-of-type {\n",
       "        vertical-align: middle;\n",
       "    }\n",
       "\n",
       "    .dataframe tbody tr th {\n",
       "        vertical-align: top;\n",
       "    }\n",
       "\n",
       "    .dataframe thead th {\n",
       "        text-align: right;\n",
       "    }\n",
       "</style>\n",
       "<table border=\"1\" class=\"dataframe\">\n",
       "  <thead>\n",
       "    <tr style=\"text-align: right;\">\n",
       "      <th></th>\n",
       "      <th>Test Size</th>\n",
       "      <th>Random State</th>\n",
       "      <th>Accuracy</th>\n",
       "      <th>Precision</th>\n",
       "      <th>Recall</th>\n",
       "      <th>F1 Score</th>\n",
       "      <th>Best Param</th>\n",
       "    </tr>\n",
       "  </thead>\n",
       "  <tbody>\n",
       "    <tr>\n",
       "      <th>0</th>\n",
       "      <td>100</td>\n",
       "      <td>7</td>\n",
       "      <td>0.550117</td>\n",
       "      <td>0.479513</td>\n",
       "      <td>0.550117</td>\n",
       "      <td>0.485751</td>\n",
       "      <td>{'criterion': 'entropy', 'max_features': 'auto...</td>\n",
       "    </tr>\n",
       "    <tr>\n",
       "      <th>1</th>\n",
       "      <td>100</td>\n",
       "      <td>69</td>\n",
       "      <td>0.546232</td>\n",
       "      <td>0.475817</td>\n",
       "      <td>0.546232</td>\n",
       "      <td>0.485354</td>\n",
       "      <td>{'criterion': 'gini', 'max_features': 'auto', ...</td>\n",
       "    </tr>\n",
       "    <tr>\n",
       "      <th>2</th>\n",
       "      <td>100</td>\n",
       "      <td>101</td>\n",
       "      <td>0.546232</td>\n",
       "      <td>0.500509</td>\n",
       "      <td>0.546232</td>\n",
       "      <td>0.482613</td>\n",
       "      <td>{'criterion': 'gini', 'max_features': 'log2', ...</td>\n",
       "    </tr>\n",
       "  </tbody>\n",
       "</table>\n",
       "</div>"
      ],
      "text/plain": [
       "   Test Size  Random State  Accuracy  Precision    Recall  F1 Score  \\\n",
       "0        100             7  0.550117   0.479513  0.550117  0.485751   \n",
       "1        100            69  0.546232   0.475817  0.546232  0.485354   \n",
       "2        100           101  0.546232   0.500509  0.546232  0.482613   \n",
       "\n",
       "                                          Best Param  \n",
       "0  {'criterion': 'entropy', 'max_features': 'auto...  \n",
       "1  {'criterion': 'gini', 'max_features': 'auto', ...  \n",
       "2  {'criterion': 'gini', 'max_features': 'log2', ...  "
      ]
     },
     "execution_count": 108,
     "metadata": {},
     "output_type": "execute_result"
    }
   ],
   "source": [
    "temp5L_imb = []\n",
    "\n",
    "y_train = df3_5L_imb[['CGPA']]\n",
    "X_train = df3_5L_imb.drop(columns=['CGPA'])\n",
    "\n",
    "y_test = merge_5L_imb[['CGPA']]\n",
    "X_test = merge_5L_imb.drop(columns=['CGPA'])\n",
    "\n",
    "for j in rand_states:\n",
    "    param_grid = {'n_estimators': [100, 200, 300, 400],\n",
    "                  'max_features': ['auto', 'sqrt', 'log2'],\n",
    "                  'criterion' :['gini', 'entropy']}\n",
    "\n",
    "    model = GridSearchCV(RandomForestClassifier(), param_grid, refit=True, n_jobs=-1, cv=10, verbose=1)\n",
    "    model.fit(X_train, y_train)\n",
    "    pred = model.predict(X_test)\n",
    "\n",
    "    acc = accuracy_score(y_test,pred)\n",
    "    pre = precision_score(y_test, pred, average='weighted')\n",
    "    recall = recall_score(y_test, pred, average='weighted')\n",
    "    f1 = f1_score(y_test, pred, average='weighted')\n",
    "    param = model.best_params_\n",
    "\n",
    "    temp5L_imb.append([100,j,acc,pre,recall,f1,param])\n",
    "        \n",
    "df5L_imb = pd.DataFrame(columns=['Test Size','Random State','Accuracy','Precision','Recall','F1 Score','Best Param'],data=temp5L_imb)\n",
    "df5L_imb"
   ]
  },
  {
   "cell_type": "code",
   "execution_count": 109,
   "id": "635a2de4-dfca-4059-81fc-089852e42fc5",
   "metadata": {},
   "outputs": [
    {
     "data": {
      "text/html": [
       "<div>\n",
       "<style scoped>\n",
       "    .dataframe tbody tr th:only-of-type {\n",
       "        vertical-align: middle;\n",
       "    }\n",
       "\n",
       "    .dataframe tbody tr th {\n",
       "        vertical-align: top;\n",
       "    }\n",
       "\n",
       "    .dataframe thead th {\n",
       "        text-align: right;\n",
       "    }\n",
       "</style>\n",
       "<table border=\"1\" class=\"dataframe\">\n",
       "  <thead>\n",
       "    <tr style=\"text-align: right;\">\n",
       "      <th></th>\n",
       "      <th>Accuracy</th>\n",
       "      <th>Precision</th>\n",
       "      <th>Recall</th>\n",
       "      <th>F1 Score</th>\n",
       "    </tr>\n",
       "    <tr>\n",
       "      <th>Test Size</th>\n",
       "      <th></th>\n",
       "      <th></th>\n",
       "      <th></th>\n",
       "      <th></th>\n",
       "    </tr>\n",
       "  </thead>\n",
       "  <tbody>\n",
       "    <tr>\n",
       "      <th>100</th>\n",
       "      <td>0.547527</td>\n",
       "      <td>0.48528</td>\n",
       "      <td>0.547527</td>\n",
       "      <td>0.484573</td>\n",
       "    </tr>\n",
       "  </tbody>\n",
       "</table>\n",
       "</div>"
      ],
      "text/plain": [
       "           Accuracy  Precision    Recall  F1 Score\n",
       "Test Size                                         \n",
       "100        0.547527    0.48528  0.547527  0.484573"
      ]
     },
     "execution_count": 109,
     "metadata": {},
     "output_type": "execute_result"
    }
   ],
   "source": [
    "df5L_imb.groupby('Test Size')[['Accuracy','Precision','Recall','F1 Score']].mean()"
   ]
  },
  {
   "cell_type": "code",
   "execution_count": 110,
   "id": "dd83398a-9dfd-4b64-b003-ea92c7880032",
   "metadata": {},
   "outputs": [
    {
     "name": "stdout",
     "output_type": "stream",
     "text": [
      "Imbalance All Attributes\n",
      "\n",
      "{'criterion': 'entropy', 'max_features': 'auto', 'n_estimators': 200}\n",
      "{'criterion': 'gini', 'max_features': 'auto', 'n_estimators': 400}\n",
      "{'criterion': 'gini', 'max_features': 'log2', 'n_estimators': 200}\n"
     ]
    }
   ],
   "source": [
    "print(\"Imbalance All Attributes\\n\")\n",
    "for x in df5L_imb[\"Best Param\"]:\n",
    "    print(x)"
   ]
  },
  {
   "cell_type": "markdown",
   "id": "caed4014-07a6-4ba0-a548-9a86e6d8ae2d",
   "metadata": {},
   "source": [
    "### AA after RandomOverSampler"
   ]
  },
  {
   "cell_type": "code",
   "execution_count": 111,
   "id": "c47adf25-8797-4182-8307-b7ed3a6609fe",
   "metadata": {},
   "outputs": [
    {
     "name": "stdout",
     "output_type": "stream",
     "text": [
      "Fitting 10 folds for each of 24 candidates, totalling 240 fits\n"
     ]
    },
    {
     "name": "stderr",
     "output_type": "stream",
     "text": [
      "C:\\Users\\hazel\\anaconda3\\Lib\\site-packages\\sklearn\\model_selection\\_search.py:909: DataConversionWarning: A column-vector y was passed when a 1d array was expected. Please change the shape of y to (n_samples,), for example using ravel().\n",
      "  self.best_estimator_.fit(X, y, **fit_params)\n",
      "C:\\Users\\hazel\\anaconda3\\Lib\\site-packages\\sklearn\\ensemble\\_forest.py:424: FutureWarning: `max_features='auto'` has been deprecated in 1.1 and will be removed in 1.3. To keep the past behaviour, explicitly set `max_features='sqrt'` or remove this parameter as it is also the default value for RandomForestClassifiers and ExtraTreesClassifiers.\n",
      "  warn(\n"
     ]
    },
    {
     "name": "stdout",
     "output_type": "stream",
     "text": [
      "Fitting 10 folds for each of 24 candidates, totalling 240 fits\n"
     ]
    },
    {
     "name": "stderr",
     "output_type": "stream",
     "text": [
      "C:\\Users\\hazel\\anaconda3\\Lib\\site-packages\\sklearn\\model_selection\\_search.py:909: DataConversionWarning: A column-vector y was passed when a 1d array was expected. Please change the shape of y to (n_samples,), for example using ravel().\n",
      "  self.best_estimator_.fit(X, y, **fit_params)\n",
      "C:\\Users\\hazel\\anaconda3\\Lib\\site-packages\\sklearn\\ensemble\\_forest.py:424: FutureWarning: `max_features='auto'` has been deprecated in 1.1 and will be removed in 1.3. To keep the past behaviour, explicitly set `max_features='sqrt'` or remove this parameter as it is also the default value for RandomForestClassifiers and ExtraTreesClassifiers.\n",
      "  warn(\n"
     ]
    },
    {
     "name": "stdout",
     "output_type": "stream",
     "text": [
      "Fitting 10 folds for each of 24 candidates, totalling 240 fits\n"
     ]
    },
    {
     "name": "stderr",
     "output_type": "stream",
     "text": [
      "C:\\Users\\hazel\\anaconda3\\Lib\\site-packages\\sklearn\\model_selection\\_search.py:909: DataConversionWarning: A column-vector y was passed when a 1d array was expected. Please change the shape of y to (n_samples,), for example using ravel().\n",
      "  self.best_estimator_.fit(X, y, **fit_params)\n"
     ]
    },
    {
     "data": {
      "text/html": [
       "<div>\n",
       "<style scoped>\n",
       "    .dataframe tbody tr th:only-of-type {\n",
       "        vertical-align: middle;\n",
       "    }\n",
       "\n",
       "    .dataframe tbody tr th {\n",
       "        vertical-align: top;\n",
       "    }\n",
       "\n",
       "    .dataframe thead th {\n",
       "        text-align: right;\n",
       "    }\n",
       "</style>\n",
       "<table border=\"1\" class=\"dataframe\">\n",
       "  <thead>\n",
       "    <tr style=\"text-align: right;\">\n",
       "      <th></th>\n",
       "      <th>Test Size</th>\n",
       "      <th>Random State</th>\n",
       "      <th>Accuracy</th>\n",
       "      <th>Precision</th>\n",
       "      <th>Recall</th>\n",
       "      <th>F1 Score</th>\n",
       "      <th>Best Param</th>\n",
       "    </tr>\n",
       "  </thead>\n",
       "  <tbody>\n",
       "    <tr>\n",
       "      <th>0</th>\n",
       "      <td>100</td>\n",
       "      <td>7</td>\n",
       "      <td>0.304700</td>\n",
       "      <td>0.390590</td>\n",
       "      <td>0.304700</td>\n",
       "      <td>0.234972</td>\n",
       "      <td>{'criterion': 'gini', 'max_features': 'auto', ...</td>\n",
       "    </tr>\n",
       "    <tr>\n",
       "      <th>1</th>\n",
       "      <td>100</td>\n",
       "      <td>69</td>\n",
       "      <td>0.310859</td>\n",
       "      <td>0.377536</td>\n",
       "      <td>0.310859</td>\n",
       "      <td>0.240171</td>\n",
       "      <td>{'criterion': 'gini', 'max_features': 'auto', ...</td>\n",
       "    </tr>\n",
       "    <tr>\n",
       "      <th>2</th>\n",
       "      <td>100</td>\n",
       "      <td>101</td>\n",
       "      <td>0.315721</td>\n",
       "      <td>0.421308</td>\n",
       "      <td>0.315721</td>\n",
       "      <td>0.247234</td>\n",
       "      <td>{'criterion': 'gini', 'max_features': 'sqrt', ...</td>\n",
       "    </tr>\n",
       "  </tbody>\n",
       "</table>\n",
       "</div>"
      ],
      "text/plain": [
       "   Test Size  Random State  Accuracy  Precision    Recall  F1 Score  \\\n",
       "0        100             7  0.304700   0.390590  0.304700  0.234972   \n",
       "1        100            69  0.310859   0.377536  0.310859  0.240171   \n",
       "2        100           101  0.315721   0.421308  0.315721  0.247234   \n",
       "\n",
       "                                          Best Param  \n",
       "0  {'criterion': 'gini', 'max_features': 'auto', ...  \n",
       "1  {'criterion': 'gini', 'max_features': 'auto', ...  \n",
       "2  {'criterion': 'gini', 'max_features': 'sqrt', ...  "
      ]
     },
     "execution_count": 111,
     "metadata": {},
     "output_type": "execute_result"
    }
   ],
   "source": [
    "temp5L_ROS = []\n",
    "\n",
    "y_train = df3_5L_ROS[['CGPA']]\n",
    "X_train = df3_5L_ROS.drop(columns=['CGPA'])\n",
    "\n",
    "y_test = merge_5L_ROS[['CGPA']]\n",
    "X_test = merge_5L_ROS.drop(columns=['CGPA'])\n",
    "\n",
    "for j in rand_states:\n",
    "    param_grid = {'n_estimators': [100, 200, 300, 400],\n",
    "                  'max_features': ['auto', 'sqrt', 'log2'],\n",
    "                  'criterion' :['gini', 'entropy']}\n",
    "\n",
    "    model = GridSearchCV(RandomForestClassifier(), param_grid, refit=True, n_jobs=-1, cv=10, verbose=1)\n",
    "    model.fit(X_train, y_train)\n",
    "    pred = model.predict(X_test)\n",
    "\n",
    "    acc = accuracy_score(y_test,pred)\n",
    "    pre = precision_score(y_test, pred, average='weighted')\n",
    "    recall = recall_score(y_test, pred, average='weighted')\n",
    "    f1 = f1_score(y_test, pred, average='weighted')\n",
    "    param = model.best_params_\n",
    "\n",
    "    temp5L_ROS.append([100,j,acc,pre,recall,f1,param])\n",
    "        \n",
    "df5L_ROS = pd.DataFrame(columns=['Test Size','Random State','Accuracy','Precision','Recall','F1 Score','Best Param'],data=temp5L_ROS)\n",
    "df5L_ROS"
   ]
  },
  {
   "cell_type": "code",
   "execution_count": 112,
   "id": "a7ccaf3e-dec2-46db-b0c4-cdbb97df33ce",
   "metadata": {},
   "outputs": [
    {
     "data": {
      "text/html": [
       "<div>\n",
       "<style scoped>\n",
       "    .dataframe tbody tr th:only-of-type {\n",
       "        vertical-align: middle;\n",
       "    }\n",
       "\n",
       "    .dataframe tbody tr th {\n",
       "        vertical-align: top;\n",
       "    }\n",
       "\n",
       "    .dataframe thead th {\n",
       "        text-align: right;\n",
       "    }\n",
       "</style>\n",
       "<table border=\"1\" class=\"dataframe\">\n",
       "  <thead>\n",
       "    <tr style=\"text-align: right;\">\n",
       "      <th></th>\n",
       "      <th>Accuracy</th>\n",
       "      <th>Precision</th>\n",
       "      <th>Recall</th>\n",
       "      <th>F1 Score</th>\n",
       "    </tr>\n",
       "    <tr>\n",
       "      <th>Test Size</th>\n",
       "      <th></th>\n",
       "      <th></th>\n",
       "      <th></th>\n",
       "      <th></th>\n",
       "    </tr>\n",
       "  </thead>\n",
       "  <tbody>\n",
       "    <tr>\n",
       "      <th>100</th>\n",
       "      <td>0.310427</td>\n",
       "      <td>0.396478</td>\n",
       "      <td>0.310427</td>\n",
       "      <td>0.240792</td>\n",
       "    </tr>\n",
       "  </tbody>\n",
       "</table>\n",
       "</div>"
      ],
      "text/plain": [
       "           Accuracy  Precision    Recall  F1 Score\n",
       "Test Size                                         \n",
       "100        0.310427   0.396478  0.310427  0.240792"
      ]
     },
     "execution_count": 112,
     "metadata": {},
     "output_type": "execute_result"
    }
   ],
   "source": [
    "df5L_ROS.groupby('Test Size')[['Accuracy','Precision','Recall','F1 Score']].mean()"
   ]
  },
  {
   "cell_type": "code",
   "execution_count": 113,
   "id": "3c00370c-35f8-4fb9-b608-97eaefbf4bbb",
   "metadata": {},
   "outputs": [
    {
     "name": "stdout",
     "output_type": "stream",
     "text": [
      "All Attributes\n",
      "\n",
      "{'criterion': 'gini', 'max_features': 'auto', 'n_estimators': 200}\n",
      "{'criterion': 'gini', 'max_features': 'auto', 'n_estimators': 300}\n",
      "{'criterion': 'gini', 'max_features': 'sqrt', 'n_estimators': 400}\n"
     ]
    }
   ],
   "source": [
    "print(\"All Attributes\\n\")\n",
    "for x in df5L_ROS[\"Best Param\"]:\n",
    "    print(x)"
   ]
  },
  {
   "cell_type": "markdown",
   "id": "a8cfe9b0-e6e7-4393-8c2c-2291c1d451fc",
   "metadata": {},
   "source": [
    "### AA after SMOTE"
   ]
  },
  {
   "cell_type": "code",
   "execution_count": 114,
   "id": "fb8035eb-8723-4617-b335-75d6d163b2a6",
   "metadata": {},
   "outputs": [
    {
     "name": "stdout",
     "output_type": "stream",
     "text": [
      "Fitting 10 folds for each of 24 candidates, totalling 240 fits\n"
     ]
    },
    {
     "name": "stderr",
     "output_type": "stream",
     "text": [
      "C:\\Users\\hazel\\anaconda3\\Lib\\site-packages\\sklearn\\model_selection\\_search.py:909: DataConversionWarning: A column-vector y was passed when a 1d array was expected. Please change the shape of y to (n_samples,), for example using ravel().\n",
      "  self.best_estimator_.fit(X, y, **fit_params)\n"
     ]
    },
    {
     "name": "stdout",
     "output_type": "stream",
     "text": [
      "Fitting 10 folds for each of 24 candidates, totalling 240 fits\n"
     ]
    },
    {
     "name": "stderr",
     "output_type": "stream",
     "text": [
      "C:\\Users\\hazel\\anaconda3\\Lib\\site-packages\\sklearn\\model_selection\\_search.py:909: DataConversionWarning: A column-vector y was passed when a 1d array was expected. Please change the shape of y to (n_samples,), for example using ravel().\n",
      "  self.best_estimator_.fit(X, y, **fit_params)\n"
     ]
    },
    {
     "name": "stdout",
     "output_type": "stream",
     "text": [
      "Fitting 10 folds for each of 24 candidates, totalling 240 fits\n"
     ]
    },
    {
     "name": "stderr",
     "output_type": "stream",
     "text": [
      "C:\\Users\\hazel\\anaconda3\\Lib\\site-packages\\sklearn\\model_selection\\_search.py:909: DataConversionWarning: A column-vector y was passed when a 1d array was expected. Please change the shape of y to (n_samples,), for example using ravel().\n",
      "  self.best_estimator_.fit(X, y, **fit_params)\n"
     ]
    },
    {
     "data": {
      "text/html": [
       "<div>\n",
       "<style scoped>\n",
       "    .dataframe tbody tr th:only-of-type {\n",
       "        vertical-align: middle;\n",
       "    }\n",
       "\n",
       "    .dataframe tbody tr th {\n",
       "        vertical-align: top;\n",
       "    }\n",
       "\n",
       "    .dataframe thead th {\n",
       "        text-align: right;\n",
       "    }\n",
       "</style>\n",
       "<table border=\"1\" class=\"dataframe\">\n",
       "  <thead>\n",
       "    <tr style=\"text-align: right;\">\n",
       "      <th></th>\n",
       "      <th>Test Size</th>\n",
       "      <th>Random State</th>\n",
       "      <th>Accuracy</th>\n",
       "      <th>Precision</th>\n",
       "      <th>Recall</th>\n",
       "      <th>F1 Score</th>\n",
       "      <th>Best Param</th>\n",
       "    </tr>\n",
       "  </thead>\n",
       "  <tbody>\n",
       "    <tr>\n",
       "      <th>0</th>\n",
       "      <td>100</td>\n",
       "      <td>7</td>\n",
       "      <td>0.348784</td>\n",
       "      <td>0.384595</td>\n",
       "      <td>0.348784</td>\n",
       "      <td>0.299333</td>\n",
       "      <td>{'criterion': 'gini', 'max_features': 'log2', ...</td>\n",
       "    </tr>\n",
       "    <tr>\n",
       "      <th>1</th>\n",
       "      <td>100</td>\n",
       "      <td>69</td>\n",
       "      <td>0.355916</td>\n",
       "      <td>0.390170</td>\n",
       "      <td>0.355916</td>\n",
       "      <td>0.305763</td>\n",
       "      <td>{'criterion': 'gini', 'max_features': 'sqrt', ...</td>\n",
       "    </tr>\n",
       "    <tr>\n",
       "      <th>2</th>\n",
       "      <td>100</td>\n",
       "      <td>101</td>\n",
       "      <td>0.358833</td>\n",
       "      <td>0.412675</td>\n",
       "      <td>0.358833</td>\n",
       "      <td>0.312433</td>\n",
       "      <td>{'criterion': 'gini', 'max_features': 'log2', ...</td>\n",
       "    </tr>\n",
       "  </tbody>\n",
       "</table>\n",
       "</div>"
      ],
      "text/plain": [
       "   Test Size  Random State  Accuracy  Precision    Recall  F1 Score  \\\n",
       "0        100             7  0.348784   0.384595  0.348784  0.299333   \n",
       "1        100            69  0.355916   0.390170  0.355916  0.305763   \n",
       "2        100           101  0.358833   0.412675  0.358833  0.312433   \n",
       "\n",
       "                                          Best Param  \n",
       "0  {'criterion': 'gini', 'max_features': 'log2', ...  \n",
       "1  {'criterion': 'gini', 'max_features': 'sqrt', ...  \n",
       "2  {'criterion': 'gini', 'max_features': 'log2', ...  "
      ]
     },
     "execution_count": 114,
     "metadata": {},
     "output_type": "execute_result"
    }
   ],
   "source": [
    "temp5L_SMOTE = []\n",
    "\n",
    "y_train = df3_5L_SMOTE[['CGPA']]\n",
    "X_train = df3_5L_SMOTE.drop(columns=['CGPA'])\n",
    "\n",
    "y_test = merge_5L_SMOTE[['CGPA']]\n",
    "X_test = merge_5L_SMOTE.drop(columns=['CGPA'])\n",
    "\n",
    "for j in rand_states:\n",
    "    param_grid = {'n_estimators': [100, 200, 300, 400],\n",
    "                  'max_features': ['auto', 'sqrt', 'log2'],\n",
    "                  'criterion' :['gini', 'entropy']}\n",
    "\n",
    "    model = GridSearchCV(RandomForestClassifier(), param_grid, refit=True, n_jobs=-1, cv=10, verbose=1)\n",
    "    model.fit(X_train, y_train)\n",
    "    pred = model.predict(X_test)\n",
    "\n",
    "    acc = accuracy_score(y_test,pred)\n",
    "    pre = precision_score(y_test, pred, average='weighted')\n",
    "    recall = recall_score(y_test, pred, average='weighted')\n",
    "    f1 = f1_score(y_test, pred, average='weighted')\n",
    "    param = model.best_params_\n",
    "\n",
    "    temp5L_SMOTE.append([100,j,acc,pre,recall,f1,param])\n",
    "        \n",
    "df5L_SMOTE = pd.DataFrame(columns=['Test Size','Random State','Accuracy','Precision','Recall','F1 Score','Best Param'],data=temp5L_SMOTE)\n",
    "df5L_SMOTE"
   ]
  },
  {
   "cell_type": "code",
   "execution_count": 115,
   "id": "23a754d3-1f79-45fd-b399-d456b15e8b9a",
   "metadata": {},
   "outputs": [
    {
     "data": {
      "text/html": [
       "<div>\n",
       "<style scoped>\n",
       "    .dataframe tbody tr th:only-of-type {\n",
       "        vertical-align: middle;\n",
       "    }\n",
       "\n",
       "    .dataframe tbody tr th {\n",
       "        vertical-align: top;\n",
       "    }\n",
       "\n",
       "    .dataframe thead th {\n",
       "        text-align: right;\n",
       "    }\n",
       "</style>\n",
       "<table border=\"1\" class=\"dataframe\">\n",
       "  <thead>\n",
       "    <tr style=\"text-align: right;\">\n",
       "      <th></th>\n",
       "      <th>Accuracy</th>\n",
       "      <th>Precision</th>\n",
       "      <th>Recall</th>\n",
       "      <th>F1 Score</th>\n",
       "    </tr>\n",
       "    <tr>\n",
       "      <th>Test Size</th>\n",
       "      <th></th>\n",
       "      <th></th>\n",
       "      <th></th>\n",
       "      <th></th>\n",
       "    </tr>\n",
       "  </thead>\n",
       "  <tbody>\n",
       "    <tr>\n",
       "      <th>100</th>\n",
       "      <td>0.354511</td>\n",
       "      <td>0.395813</td>\n",
       "      <td>0.354511</td>\n",
       "      <td>0.305843</td>\n",
       "    </tr>\n",
       "  </tbody>\n",
       "</table>\n",
       "</div>"
      ],
      "text/plain": [
       "           Accuracy  Precision    Recall  F1 Score\n",
       "Test Size                                         \n",
       "100        0.354511   0.395813  0.354511  0.305843"
      ]
     },
     "execution_count": 115,
     "metadata": {},
     "output_type": "execute_result"
    }
   ],
   "source": [
    "df5L_SMOTE.groupby('Test Size')[['Accuracy','Precision','Recall','F1 Score']].mean()"
   ]
  },
  {
   "cell_type": "code",
   "execution_count": 116,
   "id": "043dfdd8-e743-4337-ae3f-8e9289145cc7",
   "metadata": {},
   "outputs": [
    {
     "name": "stdout",
     "output_type": "stream",
     "text": [
      "SMOTE All Attributes\n",
      "\n",
      "{'criterion': 'gini', 'max_features': 'log2', 'n_estimators': 400}\n",
      "{'criterion': 'gini', 'max_features': 'sqrt', 'n_estimators': 300}\n",
      "{'criterion': 'gini', 'max_features': 'log2', 'n_estimators': 400}\n"
     ]
    }
   ],
   "source": [
    "print(\"SMOTE All Attributes\\n\")\n",
    "for x in df5L_SMOTE[\"Best Param\"]:\n",
    "    print(x)"
   ]
  }
 ],
 "metadata": {
  "kernelspec": {
   "display_name": "Python 3 (ipykernel)",
   "language": "python",
   "name": "python3"
  },
  "language_info": {
   "codemirror_mode": {
    "name": "ipython",
    "version": 3
   },
   "file_extension": ".py",
   "mimetype": "text/x-python",
   "name": "python",
   "nbconvert_exporter": "python",
   "pygments_lexer": "ipython3",
   "version": "3.11.7"
  }
 },
 "nbformat": 4,
 "nbformat_minor": 5
}
