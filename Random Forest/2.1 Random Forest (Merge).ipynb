{
 "cells": [
  {
   "cell_type": "markdown",
   "id": "355b3005-5090-4f65-b93f-f4fde5c7d896",
   "metadata": {},
   "source": [
    "# 2.1 Random Forest (Merge)"
   ]
  },
  {
   "cell_type": "markdown",
   "id": "e8fcc78a-9a0e-4b5a-9068-95655c8a1156",
   "metadata": {},
   "source": [
    "### Import Libraries"
   ]
  },
  {
   "cell_type": "code",
   "execution_count": 1,
   "id": "7a48407d-9875-4e64-93df-9bae8a7417e0",
   "metadata": {},
   "outputs": [],
   "source": [
    "import pandas as pd\n",
    "import numpy as np\n",
    "import matplotlib.pyplot as plt\n",
    "\n",
    "from sklearn.model_selection import GridSearchCV\n",
    "from sklearn.model_selection import train_test_split\n",
    "from sklearn.ensemble import RandomForestClassifier\n",
    "\n",
    "from sklearn.metrics import accuracy_score, precision_score, recall_score, f1_score\n",
    "from sklearn.metrics import classification_report, confusion_matrix"
   ]
  },
  {
   "cell_type": "markdown",
   "id": "e984d9a5-0d71-45ae-8d70-d677f7b00d48",
   "metadata": {},
   "source": [
    "# Dataset used"
   ]
  },
  {
   "cell_type": "code",
   "execution_count": 2,
   "id": "00104bca-d6a2-4b16-a1c3-ac1ca62debc6",
   "metadata": {},
   "outputs": [
    {
     "name": "stdout",
     "output_type": "stream",
     "text": [
      "merge_B_imb: (1287, 41)\n",
      "merge_5L_imb: (1287, 41)\n",
      "merge_B_ROS: (2540, 41)\n",
      "merge_5L_ROS: (3085, 41)\n",
      "merge_B_SMOTE: (2540, 41)\n",
      "merge_5L_SMOTE: (3085, 41)\n"
     ]
    }
   ],
   "source": [
    "merge_B_imb = pd.read_csv('merge_B_imb.csv')\n",
    "merge_5L_imb = pd.read_csv('merge_5L_imb.csv')\n",
    "\n",
    "merge_B_ROS = pd.read_csv('merge_B_ROS.csv')\n",
    "merge_5L_ROS = pd.read_csv('merge_5L_ROS.csv')\n",
    "\n",
    "merge_B_SMOTE = pd.read_csv('merge_B_SMOTE.csv')\n",
    "merge_5L_SMOTE = pd.read_csv('merge_5L_SMOTE.csv')\n",
    "\n",
    "print(\"merge_B_imb:\", merge_B_imb.shape)\n",
    "print(\"merge_5L_imb:\", merge_5L_imb.shape)\n",
    "print(\"merge_B_ROS:\", merge_B_ROS.shape)\n",
    "print(\"merge_5L_ROS:\", merge_5L_ROS.shape)\n",
    "print(\"merge_B_SMOTE:\", merge_B_SMOTE.shape)\n",
    "print(\"merge_5L_SMOTE:\", merge_5L_SMOTE.shape)"
   ]
  },
  {
   "cell_type": "code",
   "execution_count": 3,
   "id": "5a60be75-1ca1-40f1-b0fd-56e646610d52",
   "metadata": {},
   "outputs": [],
   "source": [
    "rand_states = [7,69,101]"
   ]
  },
  {
   "cell_type": "markdown",
   "id": "e139a909-e0ae-4266-8c22-c1bb0bf1505f",
   "metadata": {},
   "source": [
    "# Binary Classification"
   ]
  },
  {
   "cell_type": "markdown",
   "id": "5229116a-84a5-42f4-92e1-c606e962fb26",
   "metadata": {},
   "source": [
    "## Student Background"
   ]
  },
  {
   "cell_type": "markdown",
   "id": "018bf344-dc90-4bae-897d-c03be0598679",
   "metadata": {},
   "source": [
    "### SB before Data Balancing"
   ]
  },
  {
   "cell_type": "code",
   "execution_count": 4,
   "id": "4d1278ca-624a-48d8-a21d-e77aa70f6f15",
   "metadata": {},
   "outputs": [
    {
     "name": "stdout",
     "output_type": "stream",
     "text": [
      "X: (1287, 9) y: (1287, 1)\n",
      "Fitting 10 folds for each of 24 candidates, totalling 240 fits\n"
     ]
    },
    {
     "name": "stderr",
     "output_type": "stream",
     "text": [
      "C:\\Users\\hazel\\anaconda3\\Lib\\site-packages\\sklearn\\model_selection\\_split.py:700: UserWarning: The least populated class in y has only 8 members, which is less than n_splits=10.\n",
      "  warnings.warn(\n",
      "C:\\Users\\hazel\\anaconda3\\Lib\\site-packages\\sklearn\\model_selection\\_search.py:909: DataConversionWarning: A column-vector y was passed when a 1d array was expected. Please change the shape of y to (n_samples,), for example using ravel().\n",
      "  self.best_estimator_.fit(X, y, **fit_params)\n",
      "C:\\Users\\hazel\\anaconda3\\Lib\\site-packages\\sklearn\\ensemble\\_forest.py:424: FutureWarning: `max_features='auto'` has been deprecated in 1.1 and will be removed in 1.3. To keep the past behaviour, explicitly set `max_features='sqrt'` or remove this parameter as it is also the default value for RandomForestClassifiers and ExtraTreesClassifiers.\n",
      "  warn(\n",
      "C:\\Users\\hazel\\anaconda3\\Lib\\site-packages\\sklearn\\metrics\\_classification.py:1344: UndefinedMetricWarning: Precision is ill-defined and being set to 0.0 in labels with no predicted samples. Use `zero_division` parameter to control this behavior.\n",
      "  _warn_prf(average, modifier, msg_start, len(result))\n",
      "C:\\Users\\hazel\\anaconda3\\Lib\\site-packages\\sklearn\\model_selection\\_split.py:700: UserWarning: The least populated class in y has only 8 members, which is less than n_splits=10.\n",
      "  warnings.warn(\n"
     ]
    },
    {
     "name": "stdout",
     "output_type": "stream",
     "text": [
      "Fitting 10 folds for each of 24 candidates, totalling 240 fits\n"
     ]
    },
    {
     "name": "stderr",
     "output_type": "stream",
     "text": [
      "C:\\Users\\hazel\\anaconda3\\Lib\\site-packages\\sklearn\\model_selection\\_search.py:909: DataConversionWarning: A column-vector y was passed when a 1d array was expected. Please change the shape of y to (n_samples,), for example using ravel().\n",
      "  self.best_estimator_.fit(X, y, **fit_params)\n",
      "C:\\Users\\hazel\\anaconda3\\Lib\\site-packages\\sklearn\\ensemble\\_forest.py:424: FutureWarning: `max_features='auto'` has been deprecated in 1.1 and will be removed in 1.3. To keep the past behaviour, explicitly set `max_features='sqrt'` or remove this parameter as it is also the default value for RandomForestClassifiers and ExtraTreesClassifiers.\n",
      "  warn(\n"
     ]
    },
    {
     "name": "stdout",
     "output_type": "stream",
     "text": [
      "Fitting 10 folds for each of 24 candidates, totalling 240 fits\n"
     ]
    },
    {
     "name": "stderr",
     "output_type": "stream",
     "text": [
      "C:\\Users\\hazel\\anaconda3\\Lib\\site-packages\\sklearn\\model_selection\\_split.py:700: UserWarning: The least populated class in y has only 8 members, which is less than n_splits=10.\n",
      "  warnings.warn(\n",
      "C:\\Users\\hazel\\anaconda3\\Lib\\site-packages\\sklearn\\model_selection\\_search.py:909: DataConversionWarning: A column-vector y was passed when a 1d array was expected. Please change the shape of y to (n_samples,), for example using ravel().\n",
      "  self.best_estimator_.fit(X, y, **fit_params)\n",
      "C:\\Users\\hazel\\anaconda3\\Lib\\site-packages\\sklearn\\ensemble\\_forest.py:424: FutureWarning: `max_features='auto'` has been deprecated in 1.1 and will be removed in 1.3. To keep the past behaviour, explicitly set `max_features='sqrt'` or remove this parameter as it is also the default value for RandomForestClassifiers and ExtraTreesClassifiers.\n",
      "  warn(\n"
     ]
    },
    {
     "name": "stdout",
     "output_type": "stream",
     "text": [
      "Fitting 10 folds for each of 24 candidates, totalling 240 fits\n"
     ]
    },
    {
     "name": "stderr",
     "output_type": "stream",
     "text": [
      "C:\\Users\\hazel\\anaconda3\\Lib\\site-packages\\sklearn\\model_selection\\_search.py:909: DataConversionWarning: A column-vector y was passed when a 1d array was expected. Please change the shape of y to (n_samples,), for example using ravel().\n",
      "  self.best_estimator_.fit(X, y, **fit_params)\n",
      "C:\\Users\\hazel\\anaconda3\\Lib\\site-packages\\sklearn\\ensemble\\_forest.py:424: FutureWarning: `max_features='auto'` has been deprecated in 1.1 and will be removed in 1.3. To keep the past behaviour, explicitly set `max_features='sqrt'` or remove this parameter as it is also the default value for RandomForestClassifiers and ExtraTreesClassifiers.\n",
      "  warn(\n"
     ]
    },
    {
     "name": "stdout",
     "output_type": "stream",
     "text": [
      "Fitting 10 folds for each of 24 candidates, totalling 240 fits\n"
     ]
    },
    {
     "name": "stderr",
     "output_type": "stream",
     "text": [
      "C:\\Users\\hazel\\anaconda3\\Lib\\site-packages\\sklearn\\model_selection\\_split.py:700: UserWarning: The least populated class in y has only 9 members, which is less than n_splits=10.\n",
      "  warnings.warn(\n",
      "C:\\Users\\hazel\\anaconda3\\Lib\\site-packages\\sklearn\\model_selection\\_search.py:909: DataConversionWarning: A column-vector y was passed when a 1d array was expected. Please change the shape of y to (n_samples,), for example using ravel().\n",
      "  self.best_estimator_.fit(X, y, **fit_params)\n",
      "C:\\Users\\hazel\\anaconda3\\Lib\\site-packages\\sklearn\\ensemble\\_forest.py:424: FutureWarning: `max_features='auto'` has been deprecated in 1.1 and will be removed in 1.3. To keep the past behaviour, explicitly set `max_features='sqrt'` or remove this parameter as it is also the default value for RandomForestClassifiers and ExtraTreesClassifiers.\n",
      "  warn(\n"
     ]
    },
    {
     "name": "stdout",
     "output_type": "stream",
     "text": [
      "Fitting 10 folds for each of 24 candidates, totalling 240 fits\n"
     ]
    },
    {
     "name": "stderr",
     "output_type": "stream",
     "text": [
      "C:\\Users\\hazel\\anaconda3\\Lib\\site-packages\\sklearn\\model_selection\\_search.py:909: DataConversionWarning: A column-vector y was passed when a 1d array was expected. Please change the shape of y to (n_samples,), for example using ravel().\n",
      "  self.best_estimator_.fit(X, y, **fit_params)\n",
      "C:\\Users\\hazel\\anaconda3\\Lib\\site-packages\\sklearn\\ensemble\\_forest.py:424: FutureWarning: `max_features='auto'` has been deprecated in 1.1 and will be removed in 1.3. To keep the past behaviour, explicitly set `max_features='sqrt'` or remove this parameter as it is also the default value for RandomForestClassifiers and ExtraTreesClassifiers.\n",
      "  warn(\n"
     ]
    },
    {
     "name": "stdout",
     "output_type": "stream",
     "text": [
      "Fitting 10 folds for each of 24 candidates, totalling 240 fits\n"
     ]
    },
    {
     "name": "stderr",
     "output_type": "stream",
     "text": [
      "C:\\Users\\hazel\\anaconda3\\Lib\\site-packages\\sklearn\\model_selection\\_search.py:909: DataConversionWarning: A column-vector y was passed when a 1d array was expected. Please change the shape of y to (n_samples,), for example using ravel().\n",
      "  self.best_estimator_.fit(X, y, **fit_params)\n",
      "C:\\Users\\hazel\\anaconda3\\Lib\\site-packages\\sklearn\\ensemble\\_forest.py:424: FutureWarning: `max_features='auto'` has been deprecated in 1.1 and will be removed in 1.3. To keep the past behaviour, explicitly set `max_features='sqrt'` or remove this parameter as it is also the default value for RandomForestClassifiers and ExtraTreesClassifiers.\n",
      "  warn(\n"
     ]
    },
    {
     "name": "stdout",
     "output_type": "stream",
     "text": [
      "Fitting 10 folds for each of 24 candidates, totalling 240 fits\n"
     ]
    },
    {
     "name": "stderr",
     "output_type": "stream",
     "text": [
      "C:\\Users\\hazel\\anaconda3\\Lib\\site-packages\\sklearn\\model_selection\\_search.py:909: DataConversionWarning: A column-vector y was passed when a 1d array was expected. Please change the shape of y to (n_samples,), for example using ravel().\n",
      "  self.best_estimator_.fit(X, y, **fit_params)\n",
      "C:\\Users\\hazel\\anaconda3\\Lib\\site-packages\\sklearn\\ensemble\\_forest.py:424: FutureWarning: `max_features='auto'` has been deprecated in 1.1 and will be removed in 1.3. To keep the past behaviour, explicitly set `max_features='sqrt'` or remove this parameter as it is also the default value for RandomForestClassifiers and ExtraTreesClassifiers.\n",
      "  warn(\n"
     ]
    },
    {
     "name": "stdout",
     "output_type": "stream",
     "text": [
      "Fitting 10 folds for each of 24 candidates, totalling 240 fits\n"
     ]
    },
    {
     "name": "stderr",
     "output_type": "stream",
     "text": [
      "C:\\Users\\hazel\\anaconda3\\Lib\\site-packages\\sklearn\\model_selection\\_search.py:909: DataConversionWarning: A column-vector y was passed when a 1d array was expected. Please change the shape of y to (n_samples,), for example using ravel().\n",
      "  self.best_estimator_.fit(X, y, **fit_params)\n",
      "C:\\Users\\hazel\\anaconda3\\Lib\\site-packages\\sklearn\\ensemble\\_forest.py:424: FutureWarning: `max_features='auto'` has been deprecated in 1.1 and will be removed in 1.3. To keep the past behaviour, explicitly set `max_features='sqrt'` or remove this parameter as it is also the default value for RandomForestClassifiers and ExtraTreesClassifiers.\n",
      "  warn(\n"
     ]
    },
    {
     "name": "stdout",
     "output_type": "stream",
     "text": [
      "Fitting 10 folds for each of 24 candidates, totalling 240 fits\n"
     ]
    },
    {
     "name": "stderr",
     "output_type": "stream",
     "text": [
      "C:\\Users\\hazel\\anaconda3\\Lib\\site-packages\\sklearn\\model_selection\\_search.py:909: DataConversionWarning: A column-vector y was passed when a 1d array was expected. Please change the shape of y to (n_samples,), for example using ravel().\n",
      "  self.best_estimator_.fit(X, y, **fit_params)\n",
      "C:\\Users\\hazel\\anaconda3\\Lib\\site-packages\\sklearn\\ensemble\\_forest.py:424: FutureWarning: `max_features='auto'` has been deprecated in 1.1 and will be removed in 1.3. To keep the past behaviour, explicitly set `max_features='sqrt'` or remove this parameter as it is also the default value for RandomForestClassifiers and ExtraTreesClassifiers.\n",
      "  warn(\n"
     ]
    },
    {
     "name": "stdout",
     "output_type": "stream",
     "text": [
      "Fitting 10 folds for each of 24 candidates, totalling 240 fits\n"
     ]
    },
    {
     "name": "stderr",
     "output_type": "stream",
     "text": [
      "C:\\Users\\hazel\\anaconda3\\Lib\\site-packages\\sklearn\\model_selection\\_search.py:909: DataConversionWarning: A column-vector y was passed when a 1d array was expected. Please change the shape of y to (n_samples,), for example using ravel().\n",
      "  self.best_estimator_.fit(X, y, **fit_params)\n",
      "C:\\Users\\hazel\\anaconda3\\Lib\\site-packages\\sklearn\\ensemble\\_forest.py:424: FutureWarning: `max_features='auto'` has been deprecated in 1.1 and will be removed in 1.3. To keep the past behaviour, explicitly set `max_features='sqrt'` or remove this parameter as it is also the default value for RandomForestClassifiers and ExtraTreesClassifiers.\n",
      "  warn(\n"
     ]
    },
    {
     "name": "stdout",
     "output_type": "stream",
     "text": [
      "Fitting 10 folds for each of 24 candidates, totalling 240 fits\n"
     ]
    },
    {
     "name": "stderr",
     "output_type": "stream",
     "text": [
      "C:\\Users\\hazel\\anaconda3\\Lib\\site-packages\\sklearn\\model_selection\\_search.py:909: DataConversionWarning: A column-vector y was passed when a 1d array was expected. Please change the shape of y to (n_samples,), for example using ravel().\n",
      "  self.best_estimator_.fit(X, y, **fit_params)\n"
     ]
    },
    {
     "data": {
      "text/html": [
       "<div>\n",
       "<style scoped>\n",
       "    .dataframe tbody tr th:only-of-type {\n",
       "        vertical-align: middle;\n",
       "    }\n",
       "\n",
       "    .dataframe tbody tr th {\n",
       "        vertical-align: top;\n",
       "    }\n",
       "\n",
       "    .dataframe thead th {\n",
       "        text-align: right;\n",
       "    }\n",
       "</style>\n",
       "<table border=\"1\" class=\"dataframe\">\n",
       "  <thead>\n",
       "    <tr style=\"text-align: right;\">\n",
       "      <th></th>\n",
       "      <th>Test Size</th>\n",
       "      <th>Random State</th>\n",
       "      <th>Accuracy</th>\n",
       "      <th>Precision</th>\n",
       "      <th>Recall</th>\n",
       "      <th>F1 Score</th>\n",
       "      <th>Best Param</th>\n",
       "    </tr>\n",
       "  </thead>\n",
       "  <tbody>\n",
       "    <tr>\n",
       "      <th>0</th>\n",
       "      <td>0.5</td>\n",
       "      <td>7</td>\n",
       "      <td>0.986025</td>\n",
       "      <td>0.972245</td>\n",
       "      <td>0.986025</td>\n",
       "      <td>0.979086</td>\n",
       "      <td>{'criterion': 'gini', 'max_features': 'auto', ...</td>\n",
       "    </tr>\n",
       "    <tr>\n",
       "      <th>1</th>\n",
       "      <td>0.5</td>\n",
       "      <td>69</td>\n",
       "      <td>0.981366</td>\n",
       "      <td>0.972181</td>\n",
       "      <td>0.981366</td>\n",
       "      <td>0.976752</td>\n",
       "      <td>{'criterion': 'gini', 'max_features': 'auto', ...</td>\n",
       "    </tr>\n",
       "    <tr>\n",
       "      <th>2</th>\n",
       "      <td>0.5</td>\n",
       "      <td>101</td>\n",
       "      <td>0.984472</td>\n",
       "      <td>0.972224</td>\n",
       "      <td>0.984472</td>\n",
       "      <td>0.978309</td>\n",
       "      <td>{'criterion': 'gini', 'max_features': 'auto', ...</td>\n",
       "    </tr>\n",
       "    <tr>\n",
       "      <th>3</th>\n",
       "      <td>0.4</td>\n",
       "      <td>7</td>\n",
       "      <td>0.986408</td>\n",
       "      <td>0.976812</td>\n",
       "      <td>0.986408</td>\n",
       "      <td>0.981587</td>\n",
       "      <td>{'criterion': 'gini', 'max_features': 'auto', ...</td>\n",
       "    </tr>\n",
       "    <tr>\n",
       "      <th>4</th>\n",
       "      <td>0.4</td>\n",
       "      <td>69</td>\n",
       "      <td>0.982524</td>\n",
       "      <td>0.969144</td>\n",
       "      <td>0.982524</td>\n",
       "      <td>0.975788</td>\n",
       "      <td>{'criterion': 'gini', 'max_features': 'auto', ...</td>\n",
       "    </tr>\n",
       "    <tr>\n",
       "      <th>5</th>\n",
       "      <td>0.4</td>\n",
       "      <td>101</td>\n",
       "      <td>0.984466</td>\n",
       "      <td>0.972974</td>\n",
       "      <td>0.984466</td>\n",
       "      <td>0.978686</td>\n",
       "      <td>{'criterion': 'gini', 'max_features': 'auto', ...</td>\n",
       "    </tr>\n",
       "    <tr>\n",
       "      <th>6</th>\n",
       "      <td>0.3</td>\n",
       "      <td>7</td>\n",
       "      <td>0.984496</td>\n",
       "      <td>0.979382</td>\n",
       "      <td>0.984496</td>\n",
       "      <td>0.981932</td>\n",
       "      <td>{'criterion': 'gini', 'max_features': 'auto', ...</td>\n",
       "    </tr>\n",
       "    <tr>\n",
       "      <th>7</th>\n",
       "      <td>0.3</td>\n",
       "      <td>69</td>\n",
       "      <td>0.984496</td>\n",
       "      <td>0.974294</td>\n",
       "      <td>0.984496</td>\n",
       "      <td>0.979369</td>\n",
       "      <td>{'criterion': 'gini', 'max_features': 'auto', ...</td>\n",
       "    </tr>\n",
       "    <tr>\n",
       "      <th>8</th>\n",
       "      <td>0.3</td>\n",
       "      <td>101</td>\n",
       "      <td>0.984496</td>\n",
       "      <td>0.974294</td>\n",
       "      <td>0.984496</td>\n",
       "      <td>0.979369</td>\n",
       "      <td>{'criterion': 'gini', 'max_features': 'auto', ...</td>\n",
       "    </tr>\n",
       "    <tr>\n",
       "      <th>9</th>\n",
       "      <td>0.2</td>\n",
       "      <td>7</td>\n",
       "      <td>0.984496</td>\n",
       "      <td>0.984496</td>\n",
       "      <td>0.984496</td>\n",
       "      <td>0.984496</td>\n",
       "      <td>{'criterion': 'gini', 'max_features': 'auto', ...</td>\n",
       "    </tr>\n",
       "    <tr>\n",
       "      <th>10</th>\n",
       "      <td>0.2</td>\n",
       "      <td>69</td>\n",
       "      <td>0.980620</td>\n",
       "      <td>0.969173</td>\n",
       "      <td>0.980620</td>\n",
       "      <td>0.974863</td>\n",
       "      <td>{'criterion': 'gini', 'max_features': 'auto', ...</td>\n",
       "    </tr>\n",
       "    <tr>\n",
       "      <th>11</th>\n",
       "      <td>0.2</td>\n",
       "      <td>101</td>\n",
       "      <td>0.980620</td>\n",
       "      <td>0.969173</td>\n",
       "      <td>0.980620</td>\n",
       "      <td>0.974863</td>\n",
       "      <td>{'criterion': 'gini', 'max_features': 'sqrt', ...</td>\n",
       "    </tr>\n",
       "  </tbody>\n",
       "</table>\n",
       "</div>"
      ],
      "text/plain": [
       "    Test Size  Random State  Accuracy  Precision    Recall  F1 Score  \\\n",
       "0         0.5             7  0.986025   0.972245  0.986025  0.979086   \n",
       "1         0.5            69  0.981366   0.972181  0.981366  0.976752   \n",
       "2         0.5           101  0.984472   0.972224  0.984472  0.978309   \n",
       "3         0.4             7  0.986408   0.976812  0.986408  0.981587   \n",
       "4         0.4            69  0.982524   0.969144  0.982524  0.975788   \n",
       "5         0.4           101  0.984466   0.972974  0.984466  0.978686   \n",
       "6         0.3             7  0.984496   0.979382  0.984496  0.981932   \n",
       "7         0.3            69  0.984496   0.974294  0.984496  0.979369   \n",
       "8         0.3           101  0.984496   0.974294  0.984496  0.979369   \n",
       "9         0.2             7  0.984496   0.984496  0.984496  0.984496   \n",
       "10        0.2            69  0.980620   0.969173  0.980620  0.974863   \n",
       "11        0.2           101  0.980620   0.969173  0.980620  0.974863   \n",
       "\n",
       "                                           Best Param  \n",
       "0   {'criterion': 'gini', 'max_features': 'auto', ...  \n",
       "1   {'criterion': 'gini', 'max_features': 'auto', ...  \n",
       "2   {'criterion': 'gini', 'max_features': 'auto', ...  \n",
       "3   {'criterion': 'gini', 'max_features': 'auto', ...  \n",
       "4   {'criterion': 'gini', 'max_features': 'auto', ...  \n",
       "5   {'criterion': 'gini', 'max_features': 'auto', ...  \n",
       "6   {'criterion': 'gini', 'max_features': 'auto', ...  \n",
       "7   {'criterion': 'gini', 'max_features': 'auto', ...  \n",
       "8   {'criterion': 'gini', 'max_features': 'auto', ...  \n",
       "9   {'criterion': 'gini', 'max_features': 'auto', ...  \n",
       "10  {'criterion': 'gini', 'max_features': 'auto', ...  \n",
       "11  {'criterion': 'gini', 'max_features': 'sqrt', ...  "
      ]
     },
     "execution_count": 4,
     "metadata": {},
     "output_type": "execute_result"
    }
   ],
   "source": [
    "tempB_SB_imb = []\n",
    "\n",
    "y = merge_B_imb[['CGPA']]\n",
    "X = merge_B_imb[['Age','Gender','Nationality', 'Living Status', 'Home Town', 'Faculty', 'Education Level',\n",
    "                     'Years of Study', 'Completed Credit Hours']]\n",
    "\n",
    "print(\"X:\", X.shape,\"y:\", y.shape)\n",
    "\n",
    "for i in [0.5,0.4,0.3,0.2]:\n",
    "    for j in rand_states:\n",
    "        X_train, X_test, y_train, y_test = train_test_split(X, y, test_size=i, random_state=j)\n",
    "        param_grid = {'n_estimators': [100, 200, 300, 400],\n",
    "                      'max_features': ['auto', 'sqrt', 'log2'],\n",
    "                      'criterion' :['gini', 'entropy']}\n",
    "\n",
    "        model = GridSearchCV(RandomForestClassifier(), param_grid, refit=True, n_jobs=-1, cv=10, verbose=1)\n",
    "        model.fit(X_train, y_train)\n",
    "        pred = model.predict(X_test)\n",
    "\n",
    "        acc = accuracy_score(y_test,pred)\n",
    "        pre = precision_score(y_test, pred, average='weighted')\n",
    "        recall = recall_score(y_test, pred, average='weighted')\n",
    "        f1 = f1_score(y_test, pred, average='weighted')\n",
    "        param = model.best_params_\n",
    "    \n",
    "        tempB_SB_imb.append([i,j,acc,pre,recall,f1,param])\n",
    "        \n",
    "dfB_SB_imb = pd.DataFrame(columns=['Test Size','Random State','Accuracy','Precision','Recall','F1 Score','Best Param'],data=tempB_SB_imb)\n",
    "dfB_SB_imb"
   ]
  },
  {
   "cell_type": "code",
   "execution_count": 5,
   "id": "27db77ae-627a-4354-9478-e7d553a7da60",
   "metadata": {},
   "outputs": [
    {
     "data": {
      "text/html": [
       "<div>\n",
       "<style scoped>\n",
       "    .dataframe tbody tr th:only-of-type {\n",
       "        vertical-align: middle;\n",
       "    }\n",
       "\n",
       "    .dataframe tbody tr th {\n",
       "        vertical-align: top;\n",
       "    }\n",
       "\n",
       "    .dataframe thead th {\n",
       "        text-align: right;\n",
       "    }\n",
       "</style>\n",
       "<table border=\"1\" class=\"dataframe\">\n",
       "  <thead>\n",
       "    <tr style=\"text-align: right;\">\n",
       "      <th></th>\n",
       "      <th>Accuracy</th>\n",
       "      <th>Precision</th>\n",
       "      <th>Recall</th>\n",
       "      <th>F1 Score</th>\n",
       "    </tr>\n",
       "    <tr>\n",
       "      <th>Test Size</th>\n",
       "      <th></th>\n",
       "      <th></th>\n",
       "      <th></th>\n",
       "      <th></th>\n",
       "    </tr>\n",
       "  </thead>\n",
       "  <tbody>\n",
       "    <tr>\n",
       "      <th>0.2</th>\n",
       "      <td>0.981912</td>\n",
       "      <td>0.974281</td>\n",
       "      <td>0.981912</td>\n",
       "      <td>0.978074</td>\n",
       "    </tr>\n",
       "    <tr>\n",
       "      <th>0.3</th>\n",
       "      <td>0.984496</td>\n",
       "      <td>0.975990</td>\n",
       "      <td>0.984496</td>\n",
       "      <td>0.980223</td>\n",
       "    </tr>\n",
       "    <tr>\n",
       "      <th>0.4</th>\n",
       "      <td>0.984466</td>\n",
       "      <td>0.972977</td>\n",
       "      <td>0.984466</td>\n",
       "      <td>0.978687</td>\n",
       "    </tr>\n",
       "    <tr>\n",
       "      <th>0.5</th>\n",
       "      <td>0.983954</td>\n",
       "      <td>0.972216</td>\n",
       "      <td>0.983954</td>\n",
       "      <td>0.978049</td>\n",
       "    </tr>\n",
       "  </tbody>\n",
       "</table>\n",
       "</div>"
      ],
      "text/plain": [
       "           Accuracy  Precision    Recall  F1 Score\n",
       "Test Size                                         \n",
       "0.2        0.981912   0.974281  0.981912  0.978074\n",
       "0.3        0.984496   0.975990  0.984496  0.980223\n",
       "0.4        0.984466   0.972977  0.984466  0.978687\n",
       "0.5        0.983954   0.972216  0.983954  0.978049"
      ]
     },
     "execution_count": 5,
     "metadata": {},
     "output_type": "execute_result"
    }
   ],
   "source": [
    "dfB_SB_imb.groupby('Test Size')[['Accuracy','Precision','Recall','F1 Score']].mean()"
   ]
  },
  {
   "cell_type": "code",
   "execution_count": 6,
   "id": "8c8120f8-9fef-427e-bf07-7237cfe7b710",
   "metadata": {},
   "outputs": [
    {
     "name": "stdout",
     "output_type": "stream",
     "text": [
      "Imbalance Binary: Student Background\n",
      "\n",
      "{'criterion': 'gini', 'max_features': 'auto', 'n_estimators': 300}\n",
      "{'criterion': 'gini', 'max_features': 'auto', 'n_estimators': 100}\n",
      "{'criterion': 'gini', 'max_features': 'auto', 'n_estimators': 100}\n",
      "{'criterion': 'gini', 'max_features': 'auto', 'n_estimators': 200}\n",
      "{'criterion': 'gini', 'max_features': 'auto', 'n_estimators': 100}\n",
      "{'criterion': 'gini', 'max_features': 'auto', 'n_estimators': 100}\n",
      "{'criterion': 'gini', 'max_features': 'auto', 'n_estimators': 100}\n",
      "{'criterion': 'gini', 'max_features': 'auto', 'n_estimators': 100}\n",
      "{'criterion': 'gini', 'max_features': 'auto', 'n_estimators': 100}\n",
      "{'criterion': 'gini', 'max_features': 'auto', 'n_estimators': 100}\n",
      "{'criterion': 'gini', 'max_features': 'auto', 'n_estimators': 100}\n",
      "{'criterion': 'gini', 'max_features': 'sqrt', 'n_estimators': 100}\n"
     ]
    }
   ],
   "source": [
    "print(\"Imbalance Binary: Student Background\\n\")\n",
    "for x in dfB_SB_imb[\"Best Param\"]:\n",
    "    print(x)"
   ]
  },
  {
   "cell_type": "markdown",
   "id": "0bf4d969-53f7-4e67-a612-de9bd459ef8c",
   "metadata": {},
   "source": [
    "### SB after RandomOverSampler"
   ]
  },
  {
   "cell_type": "code",
   "execution_count": 7,
   "id": "f824aea2-a216-464e-b026-909687cca796",
   "metadata": {},
   "outputs": [
    {
     "name": "stdout",
     "output_type": "stream",
     "text": [
      "Fitting 10 folds for each of 24 candidates, totalling 240 fits\n"
     ]
    },
    {
     "name": "stderr",
     "output_type": "stream",
     "text": [
      "C:\\Users\\hazel\\anaconda3\\Lib\\site-packages\\sklearn\\model_selection\\_search.py:909: DataConversionWarning: A column-vector y was passed when a 1d array was expected. Please change the shape of y to (n_samples,), for example using ravel().\n",
      "  self.best_estimator_.fit(X, y, **fit_params)\n",
      "C:\\Users\\hazel\\anaconda3\\Lib\\site-packages\\sklearn\\ensemble\\_forest.py:424: FutureWarning: `max_features='auto'` has been deprecated in 1.1 and will be removed in 1.3. To keep the past behaviour, explicitly set `max_features='sqrt'` or remove this parameter as it is also the default value for RandomForestClassifiers and ExtraTreesClassifiers.\n",
      "  warn(\n"
     ]
    },
    {
     "name": "stdout",
     "output_type": "stream",
     "text": [
      "Fitting 10 folds for each of 24 candidates, totalling 240 fits\n"
     ]
    },
    {
     "name": "stderr",
     "output_type": "stream",
     "text": [
      "C:\\Users\\hazel\\anaconda3\\Lib\\site-packages\\sklearn\\model_selection\\_search.py:909: DataConversionWarning: A column-vector y was passed when a 1d array was expected. Please change the shape of y to (n_samples,), for example using ravel().\n",
      "  self.best_estimator_.fit(X, y, **fit_params)\n",
      "C:\\Users\\hazel\\anaconda3\\Lib\\site-packages\\sklearn\\ensemble\\_forest.py:424: FutureWarning: `max_features='auto'` has been deprecated in 1.1 and will be removed in 1.3. To keep the past behaviour, explicitly set `max_features='sqrt'` or remove this parameter as it is also the default value for RandomForestClassifiers and ExtraTreesClassifiers.\n",
      "  warn(\n"
     ]
    },
    {
     "name": "stdout",
     "output_type": "stream",
     "text": [
      "Fitting 10 folds for each of 24 candidates, totalling 240 fits\n"
     ]
    },
    {
     "name": "stderr",
     "output_type": "stream",
     "text": [
      "C:\\Users\\hazel\\anaconda3\\Lib\\site-packages\\sklearn\\model_selection\\_search.py:909: DataConversionWarning: A column-vector y was passed when a 1d array was expected. Please change the shape of y to (n_samples,), for example using ravel().\n",
      "  self.best_estimator_.fit(X, y, **fit_params)\n",
      "C:\\Users\\hazel\\anaconda3\\Lib\\site-packages\\sklearn\\ensemble\\_forest.py:424: FutureWarning: `max_features='auto'` has been deprecated in 1.1 and will be removed in 1.3. To keep the past behaviour, explicitly set `max_features='sqrt'` or remove this parameter as it is also the default value for RandomForestClassifiers and ExtraTreesClassifiers.\n",
      "  warn(\n"
     ]
    },
    {
     "name": "stdout",
     "output_type": "stream",
     "text": [
      "Fitting 10 folds for each of 24 candidates, totalling 240 fits\n"
     ]
    },
    {
     "name": "stderr",
     "output_type": "stream",
     "text": [
      "C:\\Users\\hazel\\anaconda3\\Lib\\site-packages\\sklearn\\model_selection\\_search.py:909: DataConversionWarning: A column-vector y was passed when a 1d array was expected. Please change the shape of y to (n_samples,), for example using ravel().\n",
      "  self.best_estimator_.fit(X, y, **fit_params)\n"
     ]
    },
    {
     "name": "stdout",
     "output_type": "stream",
     "text": [
      "Fitting 10 folds for each of 24 candidates, totalling 240 fits\n"
     ]
    },
    {
     "name": "stderr",
     "output_type": "stream",
     "text": [
      "C:\\Users\\hazel\\anaconda3\\Lib\\site-packages\\sklearn\\model_selection\\_search.py:909: DataConversionWarning: A column-vector y was passed when a 1d array was expected. Please change the shape of y to (n_samples,), for example using ravel().\n",
      "  self.best_estimator_.fit(X, y, **fit_params)\n"
     ]
    },
    {
     "name": "stdout",
     "output_type": "stream",
     "text": [
      "Fitting 10 folds for each of 24 candidates, totalling 240 fits\n"
     ]
    },
    {
     "name": "stderr",
     "output_type": "stream",
     "text": [
      "C:\\Users\\hazel\\anaconda3\\Lib\\site-packages\\sklearn\\model_selection\\_search.py:909: DataConversionWarning: A column-vector y was passed when a 1d array was expected. Please change the shape of y to (n_samples,), for example using ravel().\n",
      "  self.best_estimator_.fit(X, y, **fit_params)\n",
      "C:\\Users\\hazel\\anaconda3\\Lib\\site-packages\\sklearn\\ensemble\\_forest.py:424: FutureWarning: `max_features='auto'` has been deprecated in 1.1 and will be removed in 1.3. To keep the past behaviour, explicitly set `max_features='sqrt'` or remove this parameter as it is also the default value for RandomForestClassifiers and ExtraTreesClassifiers.\n",
      "  warn(\n"
     ]
    },
    {
     "name": "stdout",
     "output_type": "stream",
     "text": [
      "Fitting 10 folds for each of 24 candidates, totalling 240 fits\n"
     ]
    },
    {
     "name": "stderr",
     "output_type": "stream",
     "text": [
      "C:\\Users\\hazel\\anaconda3\\Lib\\site-packages\\sklearn\\model_selection\\_search.py:909: DataConversionWarning: A column-vector y was passed when a 1d array was expected. Please change the shape of y to (n_samples,), for example using ravel().\n",
      "  self.best_estimator_.fit(X, y, **fit_params)\n"
     ]
    },
    {
     "name": "stdout",
     "output_type": "stream",
     "text": [
      "Fitting 10 folds for each of 24 candidates, totalling 240 fits\n"
     ]
    },
    {
     "name": "stderr",
     "output_type": "stream",
     "text": [
      "C:\\Users\\hazel\\anaconda3\\Lib\\site-packages\\sklearn\\model_selection\\_search.py:909: DataConversionWarning: A column-vector y was passed when a 1d array was expected. Please change the shape of y to (n_samples,), for example using ravel().\n",
      "  self.best_estimator_.fit(X, y, **fit_params)\n"
     ]
    },
    {
     "name": "stdout",
     "output_type": "stream",
     "text": [
      "Fitting 10 folds for each of 24 candidates, totalling 240 fits\n"
     ]
    },
    {
     "name": "stderr",
     "output_type": "stream",
     "text": [
      "C:\\Users\\hazel\\anaconda3\\Lib\\site-packages\\sklearn\\model_selection\\_search.py:909: DataConversionWarning: A column-vector y was passed when a 1d array was expected. Please change the shape of y to (n_samples,), for example using ravel().\n",
      "  self.best_estimator_.fit(X, y, **fit_params)\n"
     ]
    },
    {
     "name": "stdout",
     "output_type": "stream",
     "text": [
      "Fitting 10 folds for each of 24 candidates, totalling 240 fits\n"
     ]
    },
    {
     "name": "stderr",
     "output_type": "stream",
     "text": [
      "C:\\Users\\hazel\\anaconda3\\Lib\\site-packages\\sklearn\\model_selection\\_search.py:909: DataConversionWarning: A column-vector y was passed when a 1d array was expected. Please change the shape of y to (n_samples,), for example using ravel().\n",
      "  self.best_estimator_.fit(X, y, **fit_params)\n"
     ]
    },
    {
     "name": "stdout",
     "output_type": "stream",
     "text": [
      "Fitting 10 folds for each of 24 candidates, totalling 240 fits\n"
     ]
    },
    {
     "name": "stderr",
     "output_type": "stream",
     "text": [
      "C:\\Users\\hazel\\anaconda3\\Lib\\site-packages\\sklearn\\model_selection\\_search.py:909: DataConversionWarning: A column-vector y was passed when a 1d array was expected. Please change the shape of y to (n_samples,), for example using ravel().\n",
      "  self.best_estimator_.fit(X, y, **fit_params)\n",
      "C:\\Users\\hazel\\anaconda3\\Lib\\site-packages\\sklearn\\ensemble\\_forest.py:424: FutureWarning: `max_features='auto'` has been deprecated in 1.1 and will be removed in 1.3. To keep the past behaviour, explicitly set `max_features='sqrt'` or remove this parameter as it is also the default value for RandomForestClassifiers and ExtraTreesClassifiers.\n",
      "  warn(\n"
     ]
    },
    {
     "name": "stdout",
     "output_type": "stream",
     "text": [
      "Fitting 10 folds for each of 24 candidates, totalling 240 fits\n"
     ]
    },
    {
     "name": "stderr",
     "output_type": "stream",
     "text": [
      "C:\\Users\\hazel\\anaconda3\\Lib\\site-packages\\sklearn\\model_selection\\_search.py:909: DataConversionWarning: A column-vector y was passed when a 1d array was expected. Please change the shape of y to (n_samples,), for example using ravel().\n",
      "  self.best_estimator_.fit(X, y, **fit_params)\n",
      "C:\\Users\\hazel\\anaconda3\\Lib\\site-packages\\sklearn\\ensemble\\_forest.py:424: FutureWarning: `max_features='auto'` has been deprecated in 1.1 and will be removed in 1.3. To keep the past behaviour, explicitly set `max_features='sqrt'` or remove this parameter as it is also the default value for RandomForestClassifiers and ExtraTreesClassifiers.\n",
      "  warn(\n"
     ]
    },
    {
     "data": {
      "text/html": [
       "<div>\n",
       "<style scoped>\n",
       "    .dataframe tbody tr th:only-of-type {\n",
       "        vertical-align: middle;\n",
       "    }\n",
       "\n",
       "    .dataframe tbody tr th {\n",
       "        vertical-align: top;\n",
       "    }\n",
       "\n",
       "    .dataframe thead th {\n",
       "        text-align: right;\n",
       "    }\n",
       "</style>\n",
       "<table border=\"1\" class=\"dataframe\">\n",
       "  <thead>\n",
       "    <tr style=\"text-align: right;\">\n",
       "      <th></th>\n",
       "      <th>Test Size</th>\n",
       "      <th>Random State</th>\n",
       "      <th>Accuracy</th>\n",
       "      <th>Precision</th>\n",
       "      <th>Recall</th>\n",
       "      <th>F1 Score</th>\n",
       "      <th>Best Param</th>\n",
       "    </tr>\n",
       "  </thead>\n",
       "  <tbody>\n",
       "    <tr>\n",
       "      <th>0</th>\n",
       "      <td>0.5</td>\n",
       "      <td>7</td>\n",
       "      <td>0.986614</td>\n",
       "      <td>0.986956</td>\n",
       "      <td>0.986614</td>\n",
       "      <td>0.986608</td>\n",
       "      <td>{'criterion': 'gini', 'max_features': 'auto', ...</td>\n",
       "    </tr>\n",
       "    <tr>\n",
       "      <th>1</th>\n",
       "      <td>0.5</td>\n",
       "      <td>69</td>\n",
       "      <td>0.990551</td>\n",
       "      <td>0.990730</td>\n",
       "      <td>0.990551</td>\n",
       "      <td>0.990552</td>\n",
       "      <td>{'criterion': 'gini', 'max_features': 'auto', ...</td>\n",
       "    </tr>\n",
       "    <tr>\n",
       "      <th>2</th>\n",
       "      <td>0.5</td>\n",
       "      <td>101</td>\n",
       "      <td>0.993701</td>\n",
       "      <td>0.993781</td>\n",
       "      <td>0.993701</td>\n",
       "      <td>0.993702</td>\n",
       "      <td>{'criterion': 'entropy', 'max_features': 'auto...</td>\n",
       "    </tr>\n",
       "    <tr>\n",
       "      <th>3</th>\n",
       "      <td>0.4</td>\n",
       "      <td>7</td>\n",
       "      <td>0.989173</td>\n",
       "      <td>0.989398</td>\n",
       "      <td>0.989173</td>\n",
       "      <td>0.989169</td>\n",
       "      <td>{'criterion': 'gini', 'max_features': 'sqrt', ...</td>\n",
       "    </tr>\n",
       "    <tr>\n",
       "      <th>4</th>\n",
       "      <td>0.4</td>\n",
       "      <td>69</td>\n",
       "      <td>0.991142</td>\n",
       "      <td>0.991299</td>\n",
       "      <td>0.991142</td>\n",
       "      <td>0.991142</td>\n",
       "      <td>{'criterion': 'entropy', 'max_features': 'log2...</td>\n",
       "    </tr>\n",
       "    <tr>\n",
       "      <th>5</th>\n",
       "      <td>0.4</td>\n",
       "      <td>101</td>\n",
       "      <td>0.993110</td>\n",
       "      <td>0.993206</td>\n",
       "      <td>0.993110</td>\n",
       "      <td>0.993111</td>\n",
       "      <td>{'criterion': 'gini', 'max_features': 'auto', ...</td>\n",
       "    </tr>\n",
       "    <tr>\n",
       "      <th>6</th>\n",
       "      <td>0.3</td>\n",
       "      <td>7</td>\n",
       "      <td>0.988189</td>\n",
       "      <td>0.988453</td>\n",
       "      <td>0.988189</td>\n",
       "      <td>0.988183</td>\n",
       "      <td>{'criterion': 'gini', 'max_features': 'sqrt', ...</td>\n",
       "    </tr>\n",
       "    <tr>\n",
       "      <th>7</th>\n",
       "      <td>0.3</td>\n",
       "      <td>69</td>\n",
       "      <td>0.993438</td>\n",
       "      <td>0.993526</td>\n",
       "      <td>0.993438</td>\n",
       "      <td>0.993439</td>\n",
       "      <td>{'criterion': 'gini', 'max_features': 'log2', ...</td>\n",
       "    </tr>\n",
       "    <tr>\n",
       "      <th>8</th>\n",
       "      <td>0.3</td>\n",
       "      <td>101</td>\n",
       "      <td>0.992126</td>\n",
       "      <td>0.992251</td>\n",
       "      <td>0.992126</td>\n",
       "      <td>0.992127</td>\n",
       "      <td>{'criterion': 'gini', 'max_features': 'sqrt', ...</td>\n",
       "    </tr>\n",
       "    <tr>\n",
       "      <th>9</th>\n",
       "      <td>0.2</td>\n",
       "      <td>7</td>\n",
       "      <td>0.988189</td>\n",
       "      <td>0.988442</td>\n",
       "      <td>0.988189</td>\n",
       "      <td>0.988176</td>\n",
       "      <td>{'criterion': 'gini', 'max_features': 'sqrt', ...</td>\n",
       "    </tr>\n",
       "    <tr>\n",
       "      <th>10</th>\n",
       "      <td>0.2</td>\n",
       "      <td>69</td>\n",
       "      <td>0.996063</td>\n",
       "      <td>0.996095</td>\n",
       "      <td>0.996063</td>\n",
       "      <td>0.996063</td>\n",
       "      <td>{'criterion': 'gini', 'max_features': 'auto', ...</td>\n",
       "    </tr>\n",
       "    <tr>\n",
       "      <th>11</th>\n",
       "      <td>0.2</td>\n",
       "      <td>101</td>\n",
       "      <td>0.996063</td>\n",
       "      <td>0.996095</td>\n",
       "      <td>0.996063</td>\n",
       "      <td>0.996064</td>\n",
       "      <td>{'criterion': 'entropy', 'max_features': 'auto...</td>\n",
       "    </tr>\n",
       "  </tbody>\n",
       "</table>\n",
       "</div>"
      ],
      "text/plain": [
       "    Test Size  Random State  Accuracy  Precision    Recall  F1 Score  \\\n",
       "0         0.5             7  0.986614   0.986956  0.986614  0.986608   \n",
       "1         0.5            69  0.990551   0.990730  0.990551  0.990552   \n",
       "2         0.5           101  0.993701   0.993781  0.993701  0.993702   \n",
       "3         0.4             7  0.989173   0.989398  0.989173  0.989169   \n",
       "4         0.4            69  0.991142   0.991299  0.991142  0.991142   \n",
       "5         0.4           101  0.993110   0.993206  0.993110  0.993111   \n",
       "6         0.3             7  0.988189   0.988453  0.988189  0.988183   \n",
       "7         0.3            69  0.993438   0.993526  0.993438  0.993439   \n",
       "8         0.3           101  0.992126   0.992251  0.992126  0.992127   \n",
       "9         0.2             7  0.988189   0.988442  0.988189  0.988176   \n",
       "10        0.2            69  0.996063   0.996095  0.996063  0.996063   \n",
       "11        0.2           101  0.996063   0.996095  0.996063  0.996064   \n",
       "\n",
       "                                           Best Param  \n",
       "0   {'criterion': 'gini', 'max_features': 'auto', ...  \n",
       "1   {'criterion': 'gini', 'max_features': 'auto', ...  \n",
       "2   {'criterion': 'entropy', 'max_features': 'auto...  \n",
       "3   {'criterion': 'gini', 'max_features': 'sqrt', ...  \n",
       "4   {'criterion': 'entropy', 'max_features': 'log2...  \n",
       "5   {'criterion': 'gini', 'max_features': 'auto', ...  \n",
       "6   {'criterion': 'gini', 'max_features': 'sqrt', ...  \n",
       "7   {'criterion': 'gini', 'max_features': 'log2', ...  \n",
       "8   {'criterion': 'gini', 'max_features': 'sqrt', ...  \n",
       "9   {'criterion': 'gini', 'max_features': 'sqrt', ...  \n",
       "10  {'criterion': 'gini', 'max_features': 'auto', ...  \n",
       "11  {'criterion': 'entropy', 'max_features': 'auto...  "
      ]
     },
     "execution_count": 7,
     "metadata": {},
     "output_type": "execute_result"
    }
   ],
   "source": [
    "tempB_SB_ROS = []\n",
    "\n",
    "y = merge_B_ROS[['CGPA']]\n",
    "X = merge_B_ROS[['Age','Gender','Nationality', 'Living Status', 'Home Town', 'Faculty', 'Education Level',\n",
    "                     'Years of Study', 'Completed Credit Hours']]\n",
    "\n",
    "for i in [0.5,0.4,0.3,0.2]:\n",
    "    for j in rand_states:\n",
    "        X_train, X_test, y_train, y_test = train_test_split(X, y, test_size=i, random_state=j)\n",
    "        param_grid = {'n_estimators': [100, 200, 300, 400],\n",
    "                      'max_features': ['auto', 'sqrt', 'log2'],\n",
    "                      'criterion' :['gini', 'entropy']}\n",
    "\n",
    "        model = GridSearchCV(RandomForestClassifier(), param_grid, refit=True, n_jobs=-1, cv=10, verbose=1)\n",
    "        model.fit(X_train, y_train)\n",
    "        pred = model.predict(X_test)\n",
    "\n",
    "        acc = accuracy_score(y_test,pred)\n",
    "        pre = precision_score(y_test, pred, average='weighted')\n",
    "        recall = recall_score(y_test, pred, average='weighted')\n",
    "        f1 = f1_score(y_test, pred, average='weighted')\n",
    "        param = model.best_params_\n",
    "    \n",
    "        tempB_SB_ROS.append([i,j,acc,pre,recall,f1,param])\n",
    "        \n",
    "dfB_SB_ROS = pd.DataFrame(columns=['Test Size','Random State','Accuracy','Precision','Recall','F1 Score','Best Param'],data=tempB_SB_ROS)\n",
    "dfB_SB_ROS"
   ]
  },
  {
   "cell_type": "code",
   "execution_count": 8,
   "id": "a98dbb88-e9de-47ef-b524-753fd604d07a",
   "metadata": {},
   "outputs": [
    {
     "data": {
      "text/html": [
       "<div>\n",
       "<style scoped>\n",
       "    .dataframe tbody tr th:only-of-type {\n",
       "        vertical-align: middle;\n",
       "    }\n",
       "\n",
       "    .dataframe tbody tr th {\n",
       "        vertical-align: top;\n",
       "    }\n",
       "\n",
       "    .dataframe thead th {\n",
       "        text-align: right;\n",
       "    }\n",
       "</style>\n",
       "<table border=\"1\" class=\"dataframe\">\n",
       "  <thead>\n",
       "    <tr style=\"text-align: right;\">\n",
       "      <th></th>\n",
       "      <th>Accuracy</th>\n",
       "      <th>Precision</th>\n",
       "      <th>Recall</th>\n",
       "      <th>F1 Score</th>\n",
       "    </tr>\n",
       "    <tr>\n",
       "      <th>Test Size</th>\n",
       "      <th></th>\n",
       "      <th></th>\n",
       "      <th></th>\n",
       "      <th></th>\n",
       "    </tr>\n",
       "  </thead>\n",
       "  <tbody>\n",
       "    <tr>\n",
       "      <th>0.2</th>\n",
       "      <td>0.993438</td>\n",
       "      <td>0.993544</td>\n",
       "      <td>0.993438</td>\n",
       "      <td>0.993434</td>\n",
       "    </tr>\n",
       "    <tr>\n",
       "      <th>0.3</th>\n",
       "      <td>0.991251</td>\n",
       "      <td>0.991410</td>\n",
       "      <td>0.991251</td>\n",
       "      <td>0.991250</td>\n",
       "    </tr>\n",
       "    <tr>\n",
       "      <th>0.4</th>\n",
       "      <td>0.991142</td>\n",
       "      <td>0.991301</td>\n",
       "      <td>0.991142</td>\n",
       "      <td>0.991141</td>\n",
       "    </tr>\n",
       "    <tr>\n",
       "      <th>0.5</th>\n",
       "      <td>0.990289</td>\n",
       "      <td>0.990489</td>\n",
       "      <td>0.990289</td>\n",
       "      <td>0.990287</td>\n",
       "    </tr>\n",
       "  </tbody>\n",
       "</table>\n",
       "</div>"
      ],
      "text/plain": [
       "           Accuracy  Precision    Recall  F1 Score\n",
       "Test Size                                         \n",
       "0.2        0.993438   0.993544  0.993438  0.993434\n",
       "0.3        0.991251   0.991410  0.991251  0.991250\n",
       "0.4        0.991142   0.991301  0.991142  0.991141\n",
       "0.5        0.990289   0.990489  0.990289  0.990287"
      ]
     },
     "execution_count": 8,
     "metadata": {},
     "output_type": "execute_result"
    }
   ],
   "source": [
    "dfB_SB_ROS.groupby('Test Size')[['Accuracy','Precision','Recall','F1 Score']].mean()"
   ]
  },
  {
   "cell_type": "code",
   "execution_count": 9,
   "id": "36c357c2-16c5-4d48-95bf-38c48040b2be",
   "metadata": {},
   "outputs": [
    {
     "name": "stdout",
     "output_type": "stream",
     "text": [
      "Binary: Student Background\n",
      "\n",
      "{'criterion': 'gini', 'max_features': 'auto', 'n_estimators': 300}\n",
      "{'criterion': 'gini', 'max_features': 'auto', 'n_estimators': 300}\n",
      "{'criterion': 'entropy', 'max_features': 'auto', 'n_estimators': 300}\n",
      "{'criterion': 'gini', 'max_features': 'sqrt', 'n_estimators': 400}\n",
      "{'criterion': 'entropy', 'max_features': 'log2', 'n_estimators': 100}\n",
      "{'criterion': 'gini', 'max_features': 'auto', 'n_estimators': 300}\n",
      "{'criterion': 'gini', 'max_features': 'sqrt', 'n_estimators': 400}\n",
      "{'criterion': 'gini', 'max_features': 'log2', 'n_estimators': 300}\n",
      "{'criterion': 'gini', 'max_features': 'sqrt', 'n_estimators': 400}\n",
      "{'criterion': 'gini', 'max_features': 'sqrt', 'n_estimators': 400}\n",
      "{'criterion': 'gini', 'max_features': 'auto', 'n_estimators': 400}\n",
      "{'criterion': 'entropy', 'max_features': 'auto', 'n_estimators': 400}\n"
     ]
    }
   ],
   "source": [
    "print(\"Binary: Student Background\\n\")\n",
    "for x in dfB_SB_ROS[\"Best Param\"]:\n",
    "    print(x)"
   ]
  },
  {
   "cell_type": "markdown",
   "id": "bb30cac6-a9e9-4636-a54f-c788f142f1d7",
   "metadata": {},
   "source": [
    "### SB after SMOTE"
   ]
  },
  {
   "cell_type": "code",
   "execution_count": 10,
   "id": "003ae2b6-690b-4a4d-acf6-fbda5f18c36f",
   "metadata": {},
   "outputs": [
    {
     "name": "stdout",
     "output_type": "stream",
     "text": [
      "Fitting 10 folds for each of 24 candidates, totalling 240 fits\n"
     ]
    },
    {
     "name": "stderr",
     "output_type": "stream",
     "text": [
      "C:\\Users\\hazel\\anaconda3\\Lib\\site-packages\\sklearn\\model_selection\\_search.py:909: DataConversionWarning: A column-vector y was passed when a 1d array was expected. Please change the shape of y to (n_samples,), for example using ravel().\n",
      "  self.best_estimator_.fit(X, y, **fit_params)\n"
     ]
    },
    {
     "name": "stdout",
     "output_type": "stream",
     "text": [
      "Fitting 10 folds for each of 24 candidates, totalling 240 fits\n"
     ]
    },
    {
     "name": "stderr",
     "output_type": "stream",
     "text": [
      "C:\\Users\\hazel\\anaconda3\\Lib\\site-packages\\sklearn\\model_selection\\_search.py:909: DataConversionWarning: A column-vector y was passed when a 1d array was expected. Please change the shape of y to (n_samples,), for example using ravel().\n",
      "  self.best_estimator_.fit(X, y, **fit_params)\n",
      "C:\\Users\\hazel\\anaconda3\\Lib\\site-packages\\sklearn\\ensemble\\_forest.py:424: FutureWarning: `max_features='auto'` has been deprecated in 1.1 and will be removed in 1.3. To keep the past behaviour, explicitly set `max_features='sqrt'` or remove this parameter as it is also the default value for RandomForestClassifiers and ExtraTreesClassifiers.\n",
      "  warn(\n"
     ]
    },
    {
     "name": "stdout",
     "output_type": "stream",
     "text": [
      "Fitting 10 folds for each of 24 candidates, totalling 240 fits\n"
     ]
    },
    {
     "name": "stderr",
     "output_type": "stream",
     "text": [
      "C:\\Users\\hazel\\anaconda3\\Lib\\site-packages\\sklearn\\model_selection\\_search.py:909: DataConversionWarning: A column-vector y was passed when a 1d array was expected. Please change the shape of y to (n_samples,), for example using ravel().\n",
      "  self.best_estimator_.fit(X, y, **fit_params)\n",
      "C:\\Users\\hazel\\anaconda3\\Lib\\site-packages\\sklearn\\ensemble\\_forest.py:424: FutureWarning: `max_features='auto'` has been deprecated in 1.1 and will be removed in 1.3. To keep the past behaviour, explicitly set `max_features='sqrt'` or remove this parameter as it is also the default value for RandomForestClassifiers and ExtraTreesClassifiers.\n",
      "  warn(\n"
     ]
    },
    {
     "name": "stdout",
     "output_type": "stream",
     "text": [
      "Fitting 10 folds for each of 24 candidates, totalling 240 fits\n"
     ]
    },
    {
     "name": "stderr",
     "output_type": "stream",
     "text": [
      "C:\\Users\\hazel\\anaconda3\\Lib\\site-packages\\sklearn\\model_selection\\_search.py:909: DataConversionWarning: A column-vector y was passed when a 1d array was expected. Please change the shape of y to (n_samples,), for example using ravel().\n",
      "  self.best_estimator_.fit(X, y, **fit_params)\n",
      "C:\\Users\\hazel\\anaconda3\\Lib\\site-packages\\sklearn\\ensemble\\_forest.py:424: FutureWarning: `max_features='auto'` has been deprecated in 1.1 and will be removed in 1.3. To keep the past behaviour, explicitly set `max_features='sqrt'` or remove this parameter as it is also the default value for RandomForestClassifiers and ExtraTreesClassifiers.\n",
      "  warn(\n"
     ]
    },
    {
     "name": "stdout",
     "output_type": "stream",
     "text": [
      "Fitting 10 folds for each of 24 candidates, totalling 240 fits\n"
     ]
    },
    {
     "name": "stderr",
     "output_type": "stream",
     "text": [
      "C:\\Users\\hazel\\anaconda3\\Lib\\site-packages\\sklearn\\model_selection\\_search.py:909: DataConversionWarning: A column-vector y was passed when a 1d array was expected. Please change the shape of y to (n_samples,), for example using ravel().\n",
      "  self.best_estimator_.fit(X, y, **fit_params)\n"
     ]
    },
    {
     "name": "stdout",
     "output_type": "stream",
     "text": [
      "Fitting 10 folds for each of 24 candidates, totalling 240 fits\n"
     ]
    },
    {
     "name": "stderr",
     "output_type": "stream",
     "text": [
      "C:\\Users\\hazel\\anaconda3\\Lib\\site-packages\\sklearn\\model_selection\\_search.py:909: DataConversionWarning: A column-vector y was passed when a 1d array was expected. Please change the shape of y to (n_samples,), for example using ravel().\n",
      "  self.best_estimator_.fit(X, y, **fit_params)\n"
     ]
    },
    {
     "name": "stdout",
     "output_type": "stream",
     "text": [
      "Fitting 10 folds for each of 24 candidates, totalling 240 fits\n"
     ]
    },
    {
     "name": "stderr",
     "output_type": "stream",
     "text": [
      "C:\\Users\\hazel\\anaconda3\\Lib\\site-packages\\sklearn\\model_selection\\_search.py:909: DataConversionWarning: A column-vector y was passed when a 1d array was expected. Please change the shape of y to (n_samples,), for example using ravel().\n",
      "  self.best_estimator_.fit(X, y, **fit_params)\n"
     ]
    },
    {
     "name": "stdout",
     "output_type": "stream",
     "text": [
      "Fitting 10 folds for each of 24 candidates, totalling 240 fits\n"
     ]
    },
    {
     "name": "stderr",
     "output_type": "stream",
     "text": [
      "C:\\Users\\hazel\\anaconda3\\Lib\\site-packages\\sklearn\\model_selection\\_search.py:909: DataConversionWarning: A column-vector y was passed when a 1d array was expected. Please change the shape of y to (n_samples,), for example using ravel().\n",
      "  self.best_estimator_.fit(X, y, **fit_params)\n"
     ]
    },
    {
     "name": "stdout",
     "output_type": "stream",
     "text": [
      "Fitting 10 folds for each of 24 candidates, totalling 240 fits\n"
     ]
    },
    {
     "name": "stderr",
     "output_type": "stream",
     "text": [
      "C:\\Users\\hazel\\anaconda3\\Lib\\site-packages\\sklearn\\model_selection\\_search.py:909: DataConversionWarning: A column-vector y was passed when a 1d array was expected. Please change the shape of y to (n_samples,), for example using ravel().\n",
      "  self.best_estimator_.fit(X, y, **fit_params)\n"
     ]
    },
    {
     "name": "stdout",
     "output_type": "stream",
     "text": [
      "Fitting 10 folds for each of 24 candidates, totalling 240 fits\n"
     ]
    },
    {
     "name": "stderr",
     "output_type": "stream",
     "text": [
      "C:\\Users\\hazel\\anaconda3\\Lib\\site-packages\\sklearn\\model_selection\\_search.py:909: DataConversionWarning: A column-vector y was passed when a 1d array was expected. Please change the shape of y to (n_samples,), for example using ravel().\n",
      "  self.best_estimator_.fit(X, y, **fit_params)\n"
     ]
    },
    {
     "name": "stdout",
     "output_type": "stream",
     "text": [
      "Fitting 10 folds for each of 24 candidates, totalling 240 fits\n"
     ]
    },
    {
     "name": "stderr",
     "output_type": "stream",
     "text": [
      "C:\\Users\\hazel\\anaconda3\\Lib\\site-packages\\sklearn\\model_selection\\_search.py:909: DataConversionWarning: A column-vector y was passed when a 1d array was expected. Please change the shape of y to (n_samples,), for example using ravel().\n",
      "  self.best_estimator_.fit(X, y, **fit_params)\n"
     ]
    },
    {
     "name": "stdout",
     "output_type": "stream",
     "text": [
      "Fitting 10 folds for each of 24 candidates, totalling 240 fits\n"
     ]
    },
    {
     "name": "stderr",
     "output_type": "stream",
     "text": [
      "C:\\Users\\hazel\\anaconda3\\Lib\\site-packages\\sklearn\\model_selection\\_search.py:909: DataConversionWarning: A column-vector y was passed when a 1d array was expected. Please change the shape of y to (n_samples,), for example using ravel().\n",
      "  self.best_estimator_.fit(X, y, **fit_params)\n"
     ]
    },
    {
     "data": {
      "text/html": [
       "<div>\n",
       "<style scoped>\n",
       "    .dataframe tbody tr th:only-of-type {\n",
       "        vertical-align: middle;\n",
       "    }\n",
       "\n",
       "    .dataframe tbody tr th {\n",
       "        vertical-align: top;\n",
       "    }\n",
       "\n",
       "    .dataframe thead th {\n",
       "        text-align: right;\n",
       "    }\n",
       "</style>\n",
       "<table border=\"1\" class=\"dataframe\">\n",
       "  <thead>\n",
       "    <tr style=\"text-align: right;\">\n",
       "      <th></th>\n",
       "      <th>Test Size</th>\n",
       "      <th>Random State</th>\n",
       "      <th>Accuracy</th>\n",
       "      <th>Precision</th>\n",
       "      <th>Recall</th>\n",
       "      <th>F1 Score</th>\n",
       "      <th>Best Param</th>\n",
       "    </tr>\n",
       "  </thead>\n",
       "  <tbody>\n",
       "    <tr>\n",
       "      <th>0</th>\n",
       "      <td>0.5</td>\n",
       "      <td>7</td>\n",
       "      <td>0.961417</td>\n",
       "      <td>0.962348</td>\n",
       "      <td>0.961417</td>\n",
       "      <td>0.961379</td>\n",
       "      <td>{'criterion': 'entropy', 'max_features': 'log2...</td>\n",
       "    </tr>\n",
       "    <tr>\n",
       "      <th>1</th>\n",
       "      <td>0.5</td>\n",
       "      <td>69</td>\n",
       "      <td>0.959055</td>\n",
       "      <td>0.960421</td>\n",
       "      <td>0.959055</td>\n",
       "      <td>0.959050</td>\n",
       "      <td>{'criterion': 'gini', 'max_features': 'auto', ...</td>\n",
       "    </tr>\n",
       "    <tr>\n",
       "      <th>2</th>\n",
       "      <td>0.5</td>\n",
       "      <td>101</td>\n",
       "      <td>0.949606</td>\n",
       "      <td>0.951473</td>\n",
       "      <td>0.949606</td>\n",
       "      <td>0.949596</td>\n",
       "      <td>{'criterion': 'gini', 'max_features': 'auto', ...</td>\n",
       "    </tr>\n",
       "    <tr>\n",
       "      <th>3</th>\n",
       "      <td>0.4</td>\n",
       "      <td>7</td>\n",
       "      <td>0.955709</td>\n",
       "      <td>0.956766</td>\n",
       "      <td>0.955709</td>\n",
       "      <td>0.955656</td>\n",
       "      <td>{'criterion': 'entropy', 'max_features': 'auto...</td>\n",
       "    </tr>\n",
       "    <tr>\n",
       "      <th>4</th>\n",
       "      <td>0.4</td>\n",
       "      <td>69</td>\n",
       "      <td>0.968504</td>\n",
       "      <td>0.968986</td>\n",
       "      <td>0.968504</td>\n",
       "      <td>0.968505</td>\n",
       "      <td>{'criterion': 'gini', 'max_features': 'log2', ...</td>\n",
       "    </tr>\n",
       "    <tr>\n",
       "      <th>5</th>\n",
       "      <td>0.4</td>\n",
       "      <td>101</td>\n",
       "      <td>0.957677</td>\n",
       "      <td>0.959929</td>\n",
       "      <td>0.957677</td>\n",
       "      <td>0.957664</td>\n",
       "      <td>{'criterion': 'gini', 'max_features': 'sqrt', ...</td>\n",
       "    </tr>\n",
       "    <tr>\n",
       "      <th>6</th>\n",
       "      <td>0.3</td>\n",
       "      <td>7</td>\n",
       "      <td>0.956693</td>\n",
       "      <td>0.957035</td>\n",
       "      <td>0.956693</td>\n",
       "      <td>0.956664</td>\n",
       "      <td>{'criterion': 'gini', 'max_features': 'sqrt', ...</td>\n",
       "    </tr>\n",
       "    <tr>\n",
       "      <th>7</th>\n",
       "      <td>0.3</td>\n",
       "      <td>69</td>\n",
       "      <td>0.967192</td>\n",
       "      <td>0.967771</td>\n",
       "      <td>0.967192</td>\n",
       "      <td>0.967200</td>\n",
       "      <td>{'criterion': 'gini', 'max_features': 'log2', ...</td>\n",
       "    </tr>\n",
       "    <tr>\n",
       "      <th>8</th>\n",
       "      <td>0.3</td>\n",
       "      <td>101</td>\n",
       "      <td>0.956693</td>\n",
       "      <td>0.958428</td>\n",
       "      <td>0.956693</td>\n",
       "      <td>0.956688</td>\n",
       "      <td>{'criterion': 'gini', 'max_features': 'sqrt', ...</td>\n",
       "    </tr>\n",
       "    <tr>\n",
       "      <th>9</th>\n",
       "      <td>0.2</td>\n",
       "      <td>7</td>\n",
       "      <td>0.956693</td>\n",
       "      <td>0.956753</td>\n",
       "      <td>0.956693</td>\n",
       "      <td>0.956663</td>\n",
       "      <td>{'criterion': 'entropy', 'max_features': 'log2...</td>\n",
       "    </tr>\n",
       "    <tr>\n",
       "      <th>10</th>\n",
       "      <td>0.2</td>\n",
       "      <td>69</td>\n",
       "      <td>0.968504</td>\n",
       "      <td>0.969591</td>\n",
       "      <td>0.968504</td>\n",
       "      <td>0.968507</td>\n",
       "      <td>{'criterion': 'gini', 'max_features': 'log2', ...</td>\n",
       "    </tr>\n",
       "    <tr>\n",
       "      <th>11</th>\n",
       "      <td>0.2</td>\n",
       "      <td>101</td>\n",
       "      <td>0.954724</td>\n",
       "      <td>0.956437</td>\n",
       "      <td>0.954724</td>\n",
       "      <td>0.954748</td>\n",
       "      <td>{'criterion': 'gini', 'max_features': 'sqrt', ...</td>\n",
       "    </tr>\n",
       "  </tbody>\n",
       "</table>\n",
       "</div>"
      ],
      "text/plain": [
       "    Test Size  Random State  Accuracy  Precision    Recall  F1 Score  \\\n",
       "0         0.5             7  0.961417   0.962348  0.961417  0.961379   \n",
       "1         0.5            69  0.959055   0.960421  0.959055  0.959050   \n",
       "2         0.5           101  0.949606   0.951473  0.949606  0.949596   \n",
       "3         0.4             7  0.955709   0.956766  0.955709  0.955656   \n",
       "4         0.4            69  0.968504   0.968986  0.968504  0.968505   \n",
       "5         0.4           101  0.957677   0.959929  0.957677  0.957664   \n",
       "6         0.3             7  0.956693   0.957035  0.956693  0.956664   \n",
       "7         0.3            69  0.967192   0.967771  0.967192  0.967200   \n",
       "8         0.3           101  0.956693   0.958428  0.956693  0.956688   \n",
       "9         0.2             7  0.956693   0.956753  0.956693  0.956663   \n",
       "10        0.2            69  0.968504   0.969591  0.968504  0.968507   \n",
       "11        0.2           101  0.954724   0.956437  0.954724  0.954748   \n",
       "\n",
       "                                           Best Param  \n",
       "0   {'criterion': 'entropy', 'max_features': 'log2...  \n",
       "1   {'criterion': 'gini', 'max_features': 'auto', ...  \n",
       "2   {'criterion': 'gini', 'max_features': 'auto', ...  \n",
       "3   {'criterion': 'entropy', 'max_features': 'auto...  \n",
       "4   {'criterion': 'gini', 'max_features': 'log2', ...  \n",
       "5   {'criterion': 'gini', 'max_features': 'sqrt', ...  \n",
       "6   {'criterion': 'gini', 'max_features': 'sqrt', ...  \n",
       "7   {'criterion': 'gini', 'max_features': 'log2', ...  \n",
       "8   {'criterion': 'gini', 'max_features': 'sqrt', ...  \n",
       "9   {'criterion': 'entropy', 'max_features': 'log2...  \n",
       "10  {'criterion': 'gini', 'max_features': 'log2', ...  \n",
       "11  {'criterion': 'gini', 'max_features': 'sqrt', ...  "
      ]
     },
     "execution_count": 10,
     "metadata": {},
     "output_type": "execute_result"
    }
   ],
   "source": [
    "tempB_SB_SMOTE = []\n",
    "\n",
    "y = merge_B_SMOTE[['CGPA']]\n",
    "X = merge_B_SMOTE[['Age','Gender','Nationality', 'Living Status', 'Home Town', 'Faculty', 'Education Level',\n",
    "                     'Years of Study', 'Completed Credit Hours']]\n",
    "\n",
    "for i in [0.5,0.4,0.3,0.2]:\n",
    "    for j in rand_states:\n",
    "        X_train, X_test, y_train, y_test = train_test_split(X, y, test_size=i, random_state=j)\n",
    "        param_grid = {'n_estimators': [100, 200, 300, 400],\n",
    "                      'max_features': ['auto', 'sqrt', 'log2'],\n",
    "                      'criterion' :['gini', 'entropy']}\n",
    "\n",
    "        model = GridSearchCV(RandomForestClassifier(), param_grid, refit=True, n_jobs=-1, cv=10, verbose=1)\n",
    "        model.fit(X_train, y_train)\n",
    "        pred = model.predict(X_test)\n",
    "\n",
    "        acc = accuracy_score(y_test,pred)\n",
    "        pre = precision_score(y_test, pred, average='weighted')\n",
    "        recall = recall_score(y_test, pred, average='weighted')\n",
    "        f1 = f1_score(y_test, pred, average='weighted')\n",
    "        param = model.best_params_\n",
    "    \n",
    "        tempB_SB_SMOTE.append([i,j,acc,pre,recall,f1,param])\n",
    "        \n",
    "dfB_SB_SMOTE = pd.DataFrame(columns=['Test Size','Random State','Accuracy','Precision','Recall','F1 Score','Best Param'],data=tempB_SB_SMOTE)\n",
    "dfB_SB_SMOTE"
   ]
  },
  {
   "cell_type": "code",
   "execution_count": 11,
   "id": "f7683ba6-2f6c-4554-b159-7b726bd8b24d",
   "metadata": {},
   "outputs": [
    {
     "data": {
      "text/html": [
       "<div>\n",
       "<style scoped>\n",
       "    .dataframe tbody tr th:only-of-type {\n",
       "        vertical-align: middle;\n",
       "    }\n",
       "\n",
       "    .dataframe tbody tr th {\n",
       "        vertical-align: top;\n",
       "    }\n",
       "\n",
       "    .dataframe thead th {\n",
       "        text-align: right;\n",
       "    }\n",
       "</style>\n",
       "<table border=\"1\" class=\"dataframe\">\n",
       "  <thead>\n",
       "    <tr style=\"text-align: right;\">\n",
       "      <th></th>\n",
       "      <th>Accuracy</th>\n",
       "      <th>Precision</th>\n",
       "      <th>Recall</th>\n",
       "      <th>F1 Score</th>\n",
       "    </tr>\n",
       "    <tr>\n",
       "      <th>Test Size</th>\n",
       "      <th></th>\n",
       "      <th></th>\n",
       "      <th></th>\n",
       "      <th></th>\n",
       "    </tr>\n",
       "  </thead>\n",
       "  <tbody>\n",
       "    <tr>\n",
       "      <th>0.2</th>\n",
       "      <td>0.959974</td>\n",
       "      <td>0.960927</td>\n",
       "      <td>0.959974</td>\n",
       "      <td>0.959973</td>\n",
       "    </tr>\n",
       "    <tr>\n",
       "      <th>0.3</th>\n",
       "      <td>0.960192</td>\n",
       "      <td>0.961078</td>\n",
       "      <td>0.960192</td>\n",
       "      <td>0.960184</td>\n",
       "    </tr>\n",
       "    <tr>\n",
       "      <th>0.4</th>\n",
       "      <td>0.960630</td>\n",
       "      <td>0.961894</td>\n",
       "      <td>0.960630</td>\n",
       "      <td>0.960608</td>\n",
       "    </tr>\n",
       "    <tr>\n",
       "      <th>0.5</th>\n",
       "      <td>0.956693</td>\n",
       "      <td>0.958081</td>\n",
       "      <td>0.956693</td>\n",
       "      <td>0.956675</td>\n",
       "    </tr>\n",
       "  </tbody>\n",
       "</table>\n",
       "</div>"
      ],
      "text/plain": [
       "           Accuracy  Precision    Recall  F1 Score\n",
       "Test Size                                         \n",
       "0.2        0.959974   0.960927  0.959974  0.959973\n",
       "0.3        0.960192   0.961078  0.960192  0.960184\n",
       "0.4        0.960630   0.961894  0.960630  0.960608\n",
       "0.5        0.956693   0.958081  0.956693  0.956675"
      ]
     },
     "execution_count": 11,
     "metadata": {},
     "output_type": "execute_result"
    }
   ],
   "source": [
    "dfB_SB_SMOTE.groupby('Test Size')[['Accuracy','Precision','Recall','F1 Score']].mean()"
   ]
  },
  {
   "cell_type": "code",
   "execution_count": 12,
   "id": "340234db-c14a-4a5c-9770-95daea3a3bb3",
   "metadata": {},
   "outputs": [
    {
     "name": "stdout",
     "output_type": "stream",
     "text": [
      "SMOTE Binary: Student Background\n",
      "\n",
      "{'criterion': 'entropy', 'max_features': 'log2', 'n_estimators': 100}\n",
      "{'criterion': 'gini', 'max_features': 'auto', 'n_estimators': 300}\n",
      "{'criterion': 'gini', 'max_features': 'auto', 'n_estimators': 200}\n",
      "{'criterion': 'entropy', 'max_features': 'auto', 'n_estimators': 100}\n",
      "{'criterion': 'gini', 'max_features': 'log2', 'n_estimators': 100}\n",
      "{'criterion': 'gini', 'max_features': 'sqrt', 'n_estimators': 300}\n",
      "{'criterion': 'gini', 'max_features': 'sqrt', 'n_estimators': 200}\n",
      "{'criterion': 'gini', 'max_features': 'log2', 'n_estimators': 400}\n",
      "{'criterion': 'gini', 'max_features': 'sqrt', 'n_estimators': 400}\n",
      "{'criterion': 'entropy', 'max_features': 'log2', 'n_estimators': 200}\n",
      "{'criterion': 'gini', 'max_features': 'log2', 'n_estimators': 200}\n",
      "{'criterion': 'gini', 'max_features': 'sqrt', 'n_estimators': 400}\n"
     ]
    }
   ],
   "source": [
    "print(\"SMOTE Binary: Student Background\\n\")\n",
    "for x in dfB_SB_SMOTE[\"Best Param\"]:\n",
    "    print(x)"
   ]
  },
  {
   "cell_type": "markdown",
   "id": "468a6007-52e4-4849-b8a6-fabf8eee6304",
   "metadata": {},
   "source": [
    "## Student History Grades"
   ]
  },
  {
   "cell_type": "markdown",
   "id": "286fda4f-b4f1-4a39-b4ae-ba824159ac23",
   "metadata": {},
   "source": [
    "### SHG before Data Balancing"
   ]
  },
  {
   "cell_type": "code",
   "execution_count": 13,
   "id": "4f3d1a44-1ac0-4549-8627-1fe2a997bc28",
   "metadata": {},
   "outputs": [
    {
     "name": "stdout",
     "output_type": "stream",
     "text": [
      "X: (1287, 4) y: (1287, 1)\n",
      "Fitting 10 folds for each of 24 candidates, totalling 240 fits\n"
     ]
    },
    {
     "name": "stderr",
     "output_type": "stream",
     "text": [
      "C:\\Users\\hazel\\anaconda3\\Lib\\site-packages\\sklearn\\model_selection\\_split.py:700: UserWarning: The least populated class in y has only 8 members, which is less than n_splits=10.\n",
      "  warnings.warn(\n",
      "C:\\Users\\hazel\\anaconda3\\Lib\\site-packages\\sklearn\\model_selection\\_search.py:909: DataConversionWarning: A column-vector y was passed when a 1d array was expected. Please change the shape of y to (n_samples,), for example using ravel().\n",
      "  self.best_estimator_.fit(X, y, **fit_params)\n",
      "C:\\Users\\hazel\\anaconda3\\Lib\\site-packages\\sklearn\\ensemble\\_forest.py:424: FutureWarning: `max_features='auto'` has been deprecated in 1.1 and will be removed in 1.3. To keep the past behaviour, explicitly set `max_features='sqrt'` or remove this parameter as it is also the default value for RandomForestClassifiers and ExtraTreesClassifiers.\n",
      "  warn(\n"
     ]
    },
    {
     "name": "stdout",
     "output_type": "stream",
     "text": [
      "Fitting 10 folds for each of 24 candidates, totalling 240 fits\n"
     ]
    },
    {
     "name": "stderr",
     "output_type": "stream",
     "text": [
      "C:\\Users\\hazel\\anaconda3\\Lib\\site-packages\\sklearn\\model_selection\\_split.py:700: UserWarning: The least populated class in y has only 8 members, which is less than n_splits=10.\n",
      "  warnings.warn(\n",
      "C:\\Users\\hazel\\anaconda3\\Lib\\site-packages\\sklearn\\model_selection\\_search.py:909: DataConversionWarning: A column-vector y was passed when a 1d array was expected. Please change the shape of y to (n_samples,), for example using ravel().\n",
      "  self.best_estimator_.fit(X, y, **fit_params)\n",
      "C:\\Users\\hazel\\anaconda3\\Lib\\site-packages\\sklearn\\ensemble\\_forest.py:424: FutureWarning: `max_features='auto'` has been deprecated in 1.1 and will be removed in 1.3. To keep the past behaviour, explicitly set `max_features='sqrt'` or remove this parameter as it is also the default value for RandomForestClassifiers and ExtraTreesClassifiers.\n",
      "  warn(\n"
     ]
    },
    {
     "name": "stdout",
     "output_type": "stream",
     "text": [
      "Fitting 10 folds for each of 24 candidates, totalling 240 fits\n"
     ]
    },
    {
     "name": "stderr",
     "output_type": "stream",
     "text": [
      "C:\\Users\\hazel\\anaconda3\\Lib\\site-packages\\sklearn\\model_selection\\_split.py:700: UserWarning: The least populated class in y has only 8 members, which is less than n_splits=10.\n",
      "  warnings.warn(\n",
      "C:\\Users\\hazel\\anaconda3\\Lib\\site-packages\\sklearn\\model_selection\\_search.py:909: DataConversionWarning: A column-vector y was passed when a 1d array was expected. Please change the shape of y to (n_samples,), for example using ravel().\n",
      "  self.best_estimator_.fit(X, y, **fit_params)\n"
     ]
    },
    {
     "name": "stdout",
     "output_type": "stream",
     "text": [
      "Fitting 10 folds for each of 24 candidates, totalling 240 fits\n"
     ]
    },
    {
     "name": "stderr",
     "output_type": "stream",
     "text": [
      "C:\\Users\\hazel\\anaconda3\\Lib\\site-packages\\sklearn\\model_selection\\_search.py:909: DataConversionWarning: A column-vector y was passed when a 1d array was expected. Please change the shape of y to (n_samples,), for example using ravel().\n",
      "  self.best_estimator_.fit(X, y, **fit_params)\n",
      "C:\\Users\\hazel\\anaconda3\\Lib\\site-packages\\sklearn\\ensemble\\_forest.py:424: FutureWarning: `max_features='auto'` has been deprecated in 1.1 and will be removed in 1.3. To keep the past behaviour, explicitly set `max_features='sqrt'` or remove this parameter as it is also the default value for RandomForestClassifiers and ExtraTreesClassifiers.\n",
      "  warn(\n"
     ]
    },
    {
     "name": "stdout",
     "output_type": "stream",
     "text": [
      "Fitting 10 folds for each of 24 candidates, totalling 240 fits\n"
     ]
    },
    {
     "name": "stderr",
     "output_type": "stream",
     "text": [
      "C:\\Users\\hazel\\anaconda3\\Lib\\site-packages\\sklearn\\model_selection\\_split.py:700: UserWarning: The least populated class in y has only 9 members, which is less than n_splits=10.\n",
      "  warnings.warn(\n",
      "C:\\Users\\hazel\\anaconda3\\Lib\\site-packages\\sklearn\\model_selection\\_search.py:909: DataConversionWarning: A column-vector y was passed when a 1d array was expected. Please change the shape of y to (n_samples,), for example using ravel().\n",
      "  self.best_estimator_.fit(X, y, **fit_params)\n",
      "C:\\Users\\hazel\\anaconda3\\Lib\\site-packages\\sklearn\\ensemble\\_forest.py:424: FutureWarning: `max_features='auto'` has been deprecated in 1.1 and will be removed in 1.3. To keep the past behaviour, explicitly set `max_features='sqrt'` or remove this parameter as it is also the default value for RandomForestClassifiers and ExtraTreesClassifiers.\n",
      "  warn(\n"
     ]
    },
    {
     "name": "stdout",
     "output_type": "stream",
     "text": [
      "Fitting 10 folds for each of 24 candidates, totalling 240 fits\n"
     ]
    },
    {
     "name": "stderr",
     "output_type": "stream",
     "text": [
      "C:\\Users\\hazel\\anaconda3\\Lib\\site-packages\\sklearn\\model_selection\\_search.py:909: DataConversionWarning: A column-vector y was passed when a 1d array was expected. Please change the shape of y to (n_samples,), for example using ravel().\n",
      "  self.best_estimator_.fit(X, y, **fit_params)\n",
      "C:\\Users\\hazel\\anaconda3\\Lib\\site-packages\\sklearn\\ensemble\\_forest.py:424: FutureWarning: `max_features='auto'` has been deprecated in 1.1 and will be removed in 1.3. To keep the past behaviour, explicitly set `max_features='sqrt'` or remove this parameter as it is also the default value for RandomForestClassifiers and ExtraTreesClassifiers.\n",
      "  warn(\n"
     ]
    },
    {
     "name": "stdout",
     "output_type": "stream",
     "text": [
      "Fitting 10 folds for each of 24 candidates, totalling 240 fits\n"
     ]
    },
    {
     "name": "stderr",
     "output_type": "stream",
     "text": [
      "C:\\Users\\hazel\\anaconda3\\Lib\\site-packages\\sklearn\\model_selection\\_search.py:909: DataConversionWarning: A column-vector y was passed when a 1d array was expected. Please change the shape of y to (n_samples,), for example using ravel().\n",
      "  self.best_estimator_.fit(X, y, **fit_params)\n",
      "C:\\Users\\hazel\\anaconda3\\Lib\\site-packages\\sklearn\\ensemble\\_forest.py:424: FutureWarning: `max_features='auto'` has been deprecated in 1.1 and will be removed in 1.3. To keep the past behaviour, explicitly set `max_features='sqrt'` or remove this parameter as it is also the default value for RandomForestClassifiers and ExtraTreesClassifiers.\n",
      "  warn(\n"
     ]
    },
    {
     "name": "stdout",
     "output_type": "stream",
     "text": [
      "Fitting 10 folds for each of 24 candidates, totalling 240 fits\n"
     ]
    },
    {
     "name": "stderr",
     "output_type": "stream",
     "text": [
      "C:\\Users\\hazel\\anaconda3\\Lib\\site-packages\\sklearn\\model_selection\\_search.py:909: DataConversionWarning: A column-vector y was passed when a 1d array was expected. Please change the shape of y to (n_samples,), for example using ravel().\n",
      "  self.best_estimator_.fit(X, y, **fit_params)\n",
      "C:\\Users\\hazel\\anaconda3\\Lib\\site-packages\\sklearn\\ensemble\\_forest.py:424: FutureWarning: `max_features='auto'` has been deprecated in 1.1 and will be removed in 1.3. To keep the past behaviour, explicitly set `max_features='sqrt'` or remove this parameter as it is also the default value for RandomForestClassifiers and ExtraTreesClassifiers.\n",
      "  warn(\n"
     ]
    },
    {
     "name": "stdout",
     "output_type": "stream",
     "text": [
      "Fitting 10 folds for each of 24 candidates, totalling 240 fits\n"
     ]
    },
    {
     "name": "stderr",
     "output_type": "stream",
     "text": [
      "C:\\Users\\hazel\\anaconda3\\Lib\\site-packages\\sklearn\\model_selection\\_search.py:909: DataConversionWarning: A column-vector y was passed when a 1d array was expected. Please change the shape of y to (n_samples,), for example using ravel().\n",
      "  self.best_estimator_.fit(X, y, **fit_params)\n",
      "C:\\Users\\hazel\\anaconda3\\Lib\\site-packages\\sklearn\\ensemble\\_forest.py:424: FutureWarning: `max_features='auto'` has been deprecated in 1.1 and will be removed in 1.3. To keep the past behaviour, explicitly set `max_features='sqrt'` or remove this parameter as it is also the default value for RandomForestClassifiers and ExtraTreesClassifiers.\n",
      "  warn(\n"
     ]
    },
    {
     "name": "stdout",
     "output_type": "stream",
     "text": [
      "Fitting 10 folds for each of 24 candidates, totalling 240 fits\n"
     ]
    },
    {
     "name": "stderr",
     "output_type": "stream",
     "text": [
      "C:\\Users\\hazel\\anaconda3\\Lib\\site-packages\\sklearn\\model_selection\\_search.py:909: DataConversionWarning: A column-vector y was passed when a 1d array was expected. Please change the shape of y to (n_samples,), for example using ravel().\n",
      "  self.best_estimator_.fit(X, y, **fit_params)\n",
      "C:\\Users\\hazel\\anaconda3\\Lib\\site-packages\\sklearn\\ensemble\\_forest.py:424: FutureWarning: `max_features='auto'` has been deprecated in 1.1 and will be removed in 1.3. To keep the past behaviour, explicitly set `max_features='sqrt'` or remove this parameter as it is also the default value for RandomForestClassifiers and ExtraTreesClassifiers.\n",
      "  warn(\n"
     ]
    },
    {
     "name": "stdout",
     "output_type": "stream",
     "text": [
      "Fitting 10 folds for each of 24 candidates, totalling 240 fits\n"
     ]
    },
    {
     "name": "stderr",
     "output_type": "stream",
     "text": [
      "C:\\Users\\hazel\\anaconda3\\Lib\\site-packages\\sklearn\\model_selection\\_search.py:909: DataConversionWarning: A column-vector y was passed when a 1d array was expected. Please change the shape of y to (n_samples,), for example using ravel().\n",
      "  self.best_estimator_.fit(X, y, **fit_params)\n",
      "C:\\Users\\hazel\\anaconda3\\Lib\\site-packages\\sklearn\\ensemble\\_forest.py:424: FutureWarning: `max_features='auto'` has been deprecated in 1.1 and will be removed in 1.3. To keep the past behaviour, explicitly set `max_features='sqrt'` or remove this parameter as it is also the default value for RandomForestClassifiers and ExtraTreesClassifiers.\n",
      "  warn(\n",
      "C:\\Users\\hazel\\anaconda3\\Lib\\site-packages\\sklearn\\metrics\\_classification.py:1344: UndefinedMetricWarning: Precision is ill-defined and being set to 0.0 in labels with no predicted samples. Use `zero_division` parameter to control this behavior.\n",
      "  _warn_prf(average, modifier, msg_start, len(result))\n"
     ]
    },
    {
     "name": "stdout",
     "output_type": "stream",
     "text": [
      "Fitting 10 folds for each of 24 candidates, totalling 240 fits\n"
     ]
    },
    {
     "name": "stderr",
     "output_type": "stream",
     "text": [
      "C:\\Users\\hazel\\anaconda3\\Lib\\site-packages\\sklearn\\model_selection\\_search.py:909: DataConversionWarning: A column-vector y was passed when a 1d array was expected. Please change the shape of y to (n_samples,), for example using ravel().\n",
      "  self.best_estimator_.fit(X, y, **fit_params)\n",
      "C:\\Users\\hazel\\anaconda3\\Lib\\site-packages\\sklearn\\ensemble\\_forest.py:424: FutureWarning: `max_features='auto'` has been deprecated in 1.1 and will be removed in 1.3. To keep the past behaviour, explicitly set `max_features='sqrt'` or remove this parameter as it is also the default value for RandomForestClassifiers and ExtraTreesClassifiers.\n",
      "  warn(\n"
     ]
    },
    {
     "data": {
      "text/html": [
       "<div>\n",
       "<style scoped>\n",
       "    .dataframe tbody tr th:only-of-type {\n",
       "        vertical-align: middle;\n",
       "    }\n",
       "\n",
       "    .dataframe tbody tr th {\n",
       "        vertical-align: top;\n",
       "    }\n",
       "\n",
       "    .dataframe thead th {\n",
       "        text-align: right;\n",
       "    }\n",
       "</style>\n",
       "<table border=\"1\" class=\"dataframe\">\n",
       "  <thead>\n",
       "    <tr style=\"text-align: right;\">\n",
       "      <th></th>\n",
       "      <th>Test Size</th>\n",
       "      <th>Random State</th>\n",
       "      <th>Accuracy</th>\n",
       "      <th>Precision</th>\n",
       "      <th>Recall</th>\n",
       "      <th>F1 Score</th>\n",
       "      <th>Best Param</th>\n",
       "    </tr>\n",
       "  </thead>\n",
       "  <tbody>\n",
       "    <tr>\n",
       "      <th>0</th>\n",
       "      <td>0.5</td>\n",
       "      <td>7</td>\n",
       "      <td>0.981366</td>\n",
       "      <td>0.972181</td>\n",
       "      <td>0.981366</td>\n",
       "      <td>0.976752</td>\n",
       "      <td>{'criterion': 'gini', 'max_features': 'auto', ...</td>\n",
       "    </tr>\n",
       "    <tr>\n",
       "      <th>1</th>\n",
       "      <td>0.5</td>\n",
       "      <td>69</td>\n",
       "      <td>0.981366</td>\n",
       "      <td>0.972181</td>\n",
       "      <td>0.981366</td>\n",
       "      <td>0.976752</td>\n",
       "      <td>{'criterion': 'gini', 'max_features': 'auto', ...</td>\n",
       "    </tr>\n",
       "    <tr>\n",
       "      <th>2</th>\n",
       "      <td>0.5</td>\n",
       "      <td>101</td>\n",
       "      <td>0.979814</td>\n",
       "      <td>0.972159</td>\n",
       "      <td>0.979814</td>\n",
       "      <td>0.975971</td>\n",
       "      <td>{'criterion': 'entropy', 'max_features': 'log2...</td>\n",
       "    </tr>\n",
       "    <tr>\n",
       "      <th>3</th>\n",
       "      <td>0.4</td>\n",
       "      <td>7</td>\n",
       "      <td>0.980583</td>\n",
       "      <td>0.976745</td>\n",
       "      <td>0.980583</td>\n",
       "      <td>0.978660</td>\n",
       "      <td>{'criterion': 'gini', 'max_features': 'auto', ...</td>\n",
       "    </tr>\n",
       "    <tr>\n",
       "      <th>4</th>\n",
       "      <td>0.4</td>\n",
       "      <td>69</td>\n",
       "      <td>0.978641</td>\n",
       "      <td>0.969084</td>\n",
       "      <td>0.978641</td>\n",
       "      <td>0.973839</td>\n",
       "      <td>{'criterion': 'gini', 'max_features': 'auto', ...</td>\n",
       "    </tr>\n",
       "    <tr>\n",
       "      <th>5</th>\n",
       "      <td>0.4</td>\n",
       "      <td>101</td>\n",
       "      <td>0.982524</td>\n",
       "      <td>0.972948</td>\n",
       "      <td>0.982524</td>\n",
       "      <td>0.977713</td>\n",
       "      <td>{'criterion': 'gini', 'max_features': 'auto', ...</td>\n",
       "    </tr>\n",
       "    <tr>\n",
       "      <th>6</th>\n",
       "      <td>0.3</td>\n",
       "      <td>7</td>\n",
       "      <td>0.979328</td>\n",
       "      <td>0.979328</td>\n",
       "      <td>0.979328</td>\n",
       "      <td>0.979328</td>\n",
       "      <td>{'criterion': 'gini', 'max_features': 'auto', ...</td>\n",
       "    </tr>\n",
       "    <tr>\n",
       "      <th>7</th>\n",
       "      <td>0.3</td>\n",
       "      <td>69</td>\n",
       "      <td>0.984496</td>\n",
       "      <td>0.974294</td>\n",
       "      <td>0.984496</td>\n",
       "      <td>0.979369</td>\n",
       "      <td>{'criterion': 'gini', 'max_features': 'auto', ...</td>\n",
       "    </tr>\n",
       "    <tr>\n",
       "      <th>8</th>\n",
       "      <td>0.3</td>\n",
       "      <td>101</td>\n",
       "      <td>0.976744</td>\n",
       "      <td>0.974194</td>\n",
       "      <td>0.976744</td>\n",
       "      <td>0.975467</td>\n",
       "      <td>{'criterion': 'gini', 'max_features': 'auto', ...</td>\n",
       "    </tr>\n",
       "    <tr>\n",
       "      <th>9</th>\n",
       "      <td>0.2</td>\n",
       "      <td>7</td>\n",
       "      <td>0.976744</td>\n",
       "      <td>0.984435</td>\n",
       "      <td>0.976744</td>\n",
       "      <td>0.980575</td>\n",
       "      <td>{'criterion': 'gini', 'max_features': 'auto', ...</td>\n",
       "    </tr>\n",
       "    <tr>\n",
       "      <th>10</th>\n",
       "      <td>0.2</td>\n",
       "      <td>69</td>\n",
       "      <td>0.984496</td>\n",
       "      <td>0.969233</td>\n",
       "      <td>0.984496</td>\n",
       "      <td>0.976805</td>\n",
       "      <td>{'criterion': 'gini', 'max_features': 'auto', ...</td>\n",
       "    </tr>\n",
       "    <tr>\n",
       "      <th>11</th>\n",
       "      <td>0.2</td>\n",
       "      <td>101</td>\n",
       "      <td>0.976744</td>\n",
       "      <td>0.969113</td>\n",
       "      <td>0.976744</td>\n",
       "      <td>0.972914</td>\n",
       "      <td>{'criterion': 'gini', 'max_features': 'auto', ...</td>\n",
       "    </tr>\n",
       "  </tbody>\n",
       "</table>\n",
       "</div>"
      ],
      "text/plain": [
       "    Test Size  Random State  Accuracy  Precision    Recall  F1 Score  \\\n",
       "0         0.5             7  0.981366   0.972181  0.981366  0.976752   \n",
       "1         0.5            69  0.981366   0.972181  0.981366  0.976752   \n",
       "2         0.5           101  0.979814   0.972159  0.979814  0.975971   \n",
       "3         0.4             7  0.980583   0.976745  0.980583  0.978660   \n",
       "4         0.4            69  0.978641   0.969084  0.978641  0.973839   \n",
       "5         0.4           101  0.982524   0.972948  0.982524  0.977713   \n",
       "6         0.3             7  0.979328   0.979328  0.979328  0.979328   \n",
       "7         0.3            69  0.984496   0.974294  0.984496  0.979369   \n",
       "8         0.3           101  0.976744   0.974194  0.976744  0.975467   \n",
       "9         0.2             7  0.976744   0.984435  0.976744  0.980575   \n",
       "10        0.2            69  0.984496   0.969233  0.984496  0.976805   \n",
       "11        0.2           101  0.976744   0.969113  0.976744  0.972914   \n",
       "\n",
       "                                           Best Param  \n",
       "0   {'criterion': 'gini', 'max_features': 'auto', ...  \n",
       "1   {'criterion': 'gini', 'max_features': 'auto', ...  \n",
       "2   {'criterion': 'entropy', 'max_features': 'log2...  \n",
       "3   {'criterion': 'gini', 'max_features': 'auto', ...  \n",
       "4   {'criterion': 'gini', 'max_features': 'auto', ...  \n",
       "5   {'criterion': 'gini', 'max_features': 'auto', ...  \n",
       "6   {'criterion': 'gini', 'max_features': 'auto', ...  \n",
       "7   {'criterion': 'gini', 'max_features': 'auto', ...  \n",
       "8   {'criterion': 'gini', 'max_features': 'auto', ...  \n",
       "9   {'criterion': 'gini', 'max_features': 'auto', ...  \n",
       "10  {'criterion': 'gini', 'max_features': 'auto', ...  \n",
       "11  {'criterion': 'gini', 'max_features': 'auto', ...  "
      ]
     },
     "execution_count": 13,
     "metadata": {},
     "output_type": "execute_result"
    }
   ],
   "source": [
    "tempB_SHG_imb = []\n",
    "\n",
    "y = merge_B_imb[['CGPA']]\n",
    "X = merge_B_imb[['Number of Subjects Failed','SPM Result (A)','SPM Result (B)','SPM Result (C)']]\n",
    "\n",
    "print(\"X:\", X.shape,\"y:\", y.shape)\n",
    "\n",
    "for i in [0.5,0.4,0.3,0.2]:\n",
    "    for j in rand_states:\n",
    "        X_train, X_test, y_train, y_test = train_test_split(X, y, test_size=i, random_state=j)\n",
    "        param_grid = {'n_estimators': [100, 200, 300, 400],\n",
    "                      'max_features': ['auto', 'sqrt', 'log2'],\n",
    "                      'criterion' :['gini', 'entropy']}\n",
    "\n",
    "        model = GridSearchCV(RandomForestClassifier(), param_grid, refit=True, n_jobs=-1, cv=10, verbose=1)\n",
    "        model.fit(X_train, y_train)\n",
    "        pred = model.predict(X_test)\n",
    "\n",
    "        acc = accuracy_score(y_test,pred)\n",
    "        pre = precision_score(y_test, pred, average='weighted')\n",
    "        recall = recall_score(y_test, pred, average='weighted')\n",
    "        f1 = f1_score(y_test, pred, average='weighted')\n",
    "        param = model.best_params_\n",
    "    \n",
    "        tempB_SHG_imb.append([i,j,acc,pre,recall,f1,param])\n",
    "        \n",
    "dfB_SHG_imb = pd.DataFrame(columns=['Test Size','Random State','Accuracy','Precision','Recall','F1 Score','Best Param'],data=tempB_SHG_imb)\n",
    "dfB_SHG_imb"
   ]
  },
  {
   "cell_type": "code",
   "execution_count": 14,
   "id": "ad9f157e-8c57-4d71-a26c-72562538479e",
   "metadata": {},
   "outputs": [
    {
     "data": {
      "text/html": [
       "<div>\n",
       "<style scoped>\n",
       "    .dataframe tbody tr th:only-of-type {\n",
       "        vertical-align: middle;\n",
       "    }\n",
       "\n",
       "    .dataframe tbody tr th {\n",
       "        vertical-align: top;\n",
       "    }\n",
       "\n",
       "    .dataframe thead th {\n",
       "        text-align: right;\n",
       "    }\n",
       "</style>\n",
       "<table border=\"1\" class=\"dataframe\">\n",
       "  <thead>\n",
       "    <tr style=\"text-align: right;\">\n",
       "      <th></th>\n",
       "      <th>Accuracy</th>\n",
       "      <th>Precision</th>\n",
       "      <th>Recall</th>\n",
       "      <th>F1 Score</th>\n",
       "    </tr>\n",
       "    <tr>\n",
       "      <th>Test Size</th>\n",
       "      <th></th>\n",
       "      <th></th>\n",
       "      <th></th>\n",
       "      <th></th>\n",
       "    </tr>\n",
       "  </thead>\n",
       "  <tbody>\n",
       "    <tr>\n",
       "      <th>0.2</th>\n",
       "      <td>0.979328</td>\n",
       "      <td>0.974260</td>\n",
       "      <td>0.979328</td>\n",
       "      <td>0.976764</td>\n",
       "    </tr>\n",
       "    <tr>\n",
       "      <th>0.3</th>\n",
       "      <td>0.980189</td>\n",
       "      <td>0.975939</td>\n",
       "      <td>0.980189</td>\n",
       "      <td>0.978055</td>\n",
       "    </tr>\n",
       "    <tr>\n",
       "      <th>0.4</th>\n",
       "      <td>0.980583</td>\n",
       "      <td>0.972925</td>\n",
       "      <td>0.980583</td>\n",
       "      <td>0.976737</td>\n",
       "    </tr>\n",
       "    <tr>\n",
       "      <th>0.5</th>\n",
       "      <td>0.980849</td>\n",
       "      <td>0.972173</td>\n",
       "      <td>0.980849</td>\n",
       "      <td>0.976492</td>\n",
       "    </tr>\n",
       "  </tbody>\n",
       "</table>\n",
       "</div>"
      ],
      "text/plain": [
       "           Accuracy  Precision    Recall  F1 Score\n",
       "Test Size                                         \n",
       "0.2        0.979328   0.974260  0.979328  0.976764\n",
       "0.3        0.980189   0.975939  0.980189  0.978055\n",
       "0.4        0.980583   0.972925  0.980583  0.976737\n",
       "0.5        0.980849   0.972173  0.980849  0.976492"
      ]
     },
     "execution_count": 14,
     "metadata": {},
     "output_type": "execute_result"
    }
   ],
   "source": [
    "dfB_SHG_imb.groupby('Test Size')[['Accuracy','Precision','Recall','F1 Score']].mean()"
   ]
  },
  {
   "cell_type": "code",
   "execution_count": 15,
   "id": "05e415b7-4e08-4fc9-9f7d-cc317014a2c5",
   "metadata": {},
   "outputs": [
    {
     "name": "stdout",
     "output_type": "stream",
     "text": [
      "Imbalance Binary: Student History Grades\n",
      "\n",
      "{'criterion': 'gini', 'max_features': 'auto', 'n_estimators': 100}\n",
      "{'criterion': 'gini', 'max_features': 'auto', 'n_estimators': 100}\n",
      "{'criterion': 'entropy', 'max_features': 'log2', 'n_estimators': 100}\n",
      "{'criterion': 'gini', 'max_features': 'auto', 'n_estimators': 100}\n",
      "{'criterion': 'gini', 'max_features': 'auto', 'n_estimators': 100}\n",
      "{'criterion': 'gini', 'max_features': 'auto', 'n_estimators': 300}\n",
      "{'criterion': 'gini', 'max_features': 'auto', 'n_estimators': 100}\n",
      "{'criterion': 'gini', 'max_features': 'auto', 'n_estimators': 100}\n",
      "{'criterion': 'gini', 'max_features': 'auto', 'n_estimators': 200}\n",
      "{'criterion': 'gini', 'max_features': 'auto', 'n_estimators': 100}\n",
      "{'criterion': 'gini', 'max_features': 'auto', 'n_estimators': 200}\n",
      "{'criterion': 'gini', 'max_features': 'auto', 'n_estimators': 100}\n"
     ]
    }
   ],
   "source": [
    "print(\"Imbalance Binary: Student History Grades\\n\")\n",
    "for x in dfB_SHG_imb[\"Best Param\"]:\n",
    "    print(x)"
   ]
  },
  {
   "cell_type": "markdown",
   "id": "63ca7fbe-1ef3-4bbd-be8d-b66440c11821",
   "metadata": {},
   "source": [
    "### SHG after RandomOverSampler"
   ]
  },
  {
   "cell_type": "code",
   "execution_count": 16,
   "id": "63ddb7ad-704b-4144-a443-26148c1e0756",
   "metadata": {},
   "outputs": [
    {
     "name": "stdout",
     "output_type": "stream",
     "text": [
      "X: (2540, 4) y: (2540, 1)\n",
      "Fitting 10 folds for each of 24 candidates, totalling 240 fits\n"
     ]
    },
    {
     "name": "stderr",
     "output_type": "stream",
     "text": [
      "C:\\Users\\hazel\\anaconda3\\Lib\\site-packages\\sklearn\\model_selection\\_search.py:909: DataConversionWarning: A column-vector y was passed when a 1d array was expected. Please change the shape of y to (n_samples,), for example using ravel().\n",
      "  self.best_estimator_.fit(X, y, **fit_params)\n",
      "C:\\Users\\hazel\\anaconda3\\Lib\\site-packages\\sklearn\\ensemble\\_forest.py:424: FutureWarning: `max_features='auto'` has been deprecated in 1.1 and will be removed in 1.3. To keep the past behaviour, explicitly set `max_features='sqrt'` or remove this parameter as it is also the default value for RandomForestClassifiers and ExtraTreesClassifiers.\n",
      "  warn(\n"
     ]
    },
    {
     "name": "stdout",
     "output_type": "stream",
     "text": [
      "Fitting 10 folds for each of 24 candidates, totalling 240 fits\n"
     ]
    },
    {
     "name": "stderr",
     "output_type": "stream",
     "text": [
      "C:\\Users\\hazel\\anaconda3\\Lib\\site-packages\\sklearn\\model_selection\\_search.py:909: DataConversionWarning: A column-vector y was passed when a 1d array was expected. Please change the shape of y to (n_samples,), for example using ravel().\n",
      "  self.best_estimator_.fit(X, y, **fit_params)\n"
     ]
    },
    {
     "name": "stdout",
     "output_type": "stream",
     "text": [
      "Fitting 10 folds for each of 24 candidates, totalling 240 fits\n"
     ]
    },
    {
     "name": "stderr",
     "output_type": "stream",
     "text": [
      "C:\\Users\\hazel\\anaconda3\\Lib\\site-packages\\sklearn\\model_selection\\_search.py:909: DataConversionWarning: A column-vector y was passed when a 1d array was expected. Please change the shape of y to (n_samples,), for example using ravel().\n",
      "  self.best_estimator_.fit(X, y, **fit_params)\n"
     ]
    },
    {
     "name": "stdout",
     "output_type": "stream",
     "text": [
      "Fitting 10 folds for each of 24 candidates, totalling 240 fits\n"
     ]
    },
    {
     "name": "stderr",
     "output_type": "stream",
     "text": [
      "C:\\Users\\hazel\\anaconda3\\Lib\\site-packages\\sklearn\\model_selection\\_search.py:909: DataConversionWarning: A column-vector y was passed when a 1d array was expected. Please change the shape of y to (n_samples,), for example using ravel().\n",
      "  self.best_estimator_.fit(X, y, **fit_params)\n",
      "C:\\Users\\hazel\\anaconda3\\Lib\\site-packages\\sklearn\\ensemble\\_forest.py:424: FutureWarning: `max_features='auto'` has been deprecated in 1.1 and will be removed in 1.3. To keep the past behaviour, explicitly set `max_features='sqrt'` or remove this parameter as it is also the default value for RandomForestClassifiers and ExtraTreesClassifiers.\n",
      "  warn(\n"
     ]
    },
    {
     "name": "stdout",
     "output_type": "stream",
     "text": [
      "Fitting 10 folds for each of 24 candidates, totalling 240 fits\n"
     ]
    },
    {
     "name": "stderr",
     "output_type": "stream",
     "text": [
      "C:\\Users\\hazel\\anaconda3\\Lib\\site-packages\\sklearn\\model_selection\\_search.py:909: DataConversionWarning: A column-vector y was passed when a 1d array was expected. Please change the shape of y to (n_samples,), for example using ravel().\n",
      "  self.best_estimator_.fit(X, y, **fit_params)\n",
      "C:\\Users\\hazel\\anaconda3\\Lib\\site-packages\\sklearn\\ensemble\\_forest.py:424: FutureWarning: `max_features='auto'` has been deprecated in 1.1 and will be removed in 1.3. To keep the past behaviour, explicitly set `max_features='sqrt'` or remove this parameter as it is also the default value for RandomForestClassifiers and ExtraTreesClassifiers.\n",
      "  warn(\n"
     ]
    },
    {
     "name": "stdout",
     "output_type": "stream",
     "text": [
      "Fitting 10 folds for each of 24 candidates, totalling 240 fits\n"
     ]
    },
    {
     "name": "stderr",
     "output_type": "stream",
     "text": [
      "C:\\Users\\hazel\\anaconda3\\Lib\\site-packages\\sklearn\\model_selection\\_search.py:909: DataConversionWarning: A column-vector y was passed when a 1d array was expected. Please change the shape of y to (n_samples,), for example using ravel().\n",
      "  self.best_estimator_.fit(X, y, **fit_params)\n",
      "C:\\Users\\hazel\\anaconda3\\Lib\\site-packages\\sklearn\\ensemble\\_forest.py:424: FutureWarning: `max_features='auto'` has been deprecated in 1.1 and will be removed in 1.3. To keep the past behaviour, explicitly set `max_features='sqrt'` or remove this parameter as it is also the default value for RandomForestClassifiers and ExtraTreesClassifiers.\n",
      "  warn(\n"
     ]
    },
    {
     "name": "stdout",
     "output_type": "stream",
     "text": [
      "Fitting 10 folds for each of 24 candidates, totalling 240 fits\n"
     ]
    },
    {
     "name": "stderr",
     "output_type": "stream",
     "text": [
      "C:\\Users\\hazel\\anaconda3\\Lib\\site-packages\\sklearn\\model_selection\\_search.py:909: DataConversionWarning: A column-vector y was passed when a 1d array was expected. Please change the shape of y to (n_samples,), for example using ravel().\n",
      "  self.best_estimator_.fit(X, y, **fit_params)\n"
     ]
    },
    {
     "name": "stdout",
     "output_type": "stream",
     "text": [
      "Fitting 10 folds for each of 24 candidates, totalling 240 fits\n"
     ]
    },
    {
     "name": "stderr",
     "output_type": "stream",
     "text": [
      "C:\\Users\\hazel\\anaconda3\\Lib\\site-packages\\sklearn\\model_selection\\_search.py:909: DataConversionWarning: A column-vector y was passed when a 1d array was expected. Please change the shape of y to (n_samples,), for example using ravel().\n",
      "  self.best_estimator_.fit(X, y, **fit_params)\n"
     ]
    },
    {
     "name": "stdout",
     "output_type": "stream",
     "text": [
      "Fitting 10 folds for each of 24 candidates, totalling 240 fits\n"
     ]
    },
    {
     "name": "stderr",
     "output_type": "stream",
     "text": [
      "C:\\Users\\hazel\\anaconda3\\Lib\\site-packages\\sklearn\\model_selection\\_search.py:909: DataConversionWarning: A column-vector y was passed when a 1d array was expected. Please change the shape of y to (n_samples,), for example using ravel().\n",
      "  self.best_estimator_.fit(X, y, **fit_params)\n",
      "C:\\Users\\hazel\\anaconda3\\Lib\\site-packages\\sklearn\\ensemble\\_forest.py:424: FutureWarning: `max_features='auto'` has been deprecated in 1.1 and will be removed in 1.3. To keep the past behaviour, explicitly set `max_features='sqrt'` or remove this parameter as it is also the default value for RandomForestClassifiers and ExtraTreesClassifiers.\n",
      "  warn(\n"
     ]
    },
    {
     "name": "stdout",
     "output_type": "stream",
     "text": [
      "Fitting 10 folds for each of 24 candidates, totalling 240 fits\n"
     ]
    },
    {
     "name": "stderr",
     "output_type": "stream",
     "text": [
      "C:\\Users\\hazel\\anaconda3\\Lib\\site-packages\\sklearn\\model_selection\\_search.py:909: DataConversionWarning: A column-vector y was passed when a 1d array was expected. Please change the shape of y to (n_samples,), for example using ravel().\n",
      "  self.best_estimator_.fit(X, y, **fit_params)\n"
     ]
    },
    {
     "name": "stdout",
     "output_type": "stream",
     "text": [
      "Fitting 10 folds for each of 24 candidates, totalling 240 fits\n"
     ]
    },
    {
     "name": "stderr",
     "output_type": "stream",
     "text": [
      "C:\\Users\\hazel\\anaconda3\\Lib\\site-packages\\sklearn\\model_selection\\_search.py:909: DataConversionWarning: A column-vector y was passed when a 1d array was expected. Please change the shape of y to (n_samples,), for example using ravel().\n",
      "  self.best_estimator_.fit(X, y, **fit_params)\n",
      "C:\\Users\\hazel\\anaconda3\\Lib\\site-packages\\sklearn\\ensemble\\_forest.py:424: FutureWarning: `max_features='auto'` has been deprecated in 1.1 and will be removed in 1.3. To keep the past behaviour, explicitly set `max_features='sqrt'` or remove this parameter as it is also the default value for RandomForestClassifiers and ExtraTreesClassifiers.\n",
      "  warn(\n"
     ]
    },
    {
     "name": "stdout",
     "output_type": "stream",
     "text": [
      "Fitting 10 folds for each of 24 candidates, totalling 240 fits\n"
     ]
    },
    {
     "name": "stderr",
     "output_type": "stream",
     "text": [
      "C:\\Users\\hazel\\anaconda3\\Lib\\site-packages\\sklearn\\model_selection\\_search.py:909: DataConversionWarning: A column-vector y was passed when a 1d array was expected. Please change the shape of y to (n_samples,), for example using ravel().\n",
      "  self.best_estimator_.fit(X, y, **fit_params)\n",
      "C:\\Users\\hazel\\anaconda3\\Lib\\site-packages\\sklearn\\ensemble\\_forest.py:424: FutureWarning: `max_features='auto'` has been deprecated in 1.1 and will be removed in 1.3. To keep the past behaviour, explicitly set `max_features='sqrt'` or remove this parameter as it is also the default value for RandomForestClassifiers and ExtraTreesClassifiers.\n",
      "  warn(\n"
     ]
    },
    {
     "data": {
      "text/html": [
       "<div>\n",
       "<style scoped>\n",
       "    .dataframe tbody tr th:only-of-type {\n",
       "        vertical-align: middle;\n",
       "    }\n",
       "\n",
       "    .dataframe tbody tr th {\n",
       "        vertical-align: top;\n",
       "    }\n",
       "\n",
       "    .dataframe thead th {\n",
       "        text-align: right;\n",
       "    }\n",
       "</style>\n",
       "<table border=\"1\" class=\"dataframe\">\n",
       "  <thead>\n",
       "    <tr style=\"text-align: right;\">\n",
       "      <th></th>\n",
       "      <th>Test Size</th>\n",
       "      <th>Random State</th>\n",
       "      <th>Accuracy</th>\n",
       "      <th>Precision</th>\n",
       "      <th>Recall</th>\n",
       "      <th>F1 Score</th>\n",
       "      <th>Best Param</th>\n",
       "    </tr>\n",
       "  </thead>\n",
       "  <tbody>\n",
       "    <tr>\n",
       "      <th>0</th>\n",
       "      <td>0.5</td>\n",
       "      <td>7</td>\n",
       "      <td>0.966929</td>\n",
       "      <td>0.968942</td>\n",
       "      <td>0.966929</td>\n",
       "      <td>0.966870</td>\n",
       "      <td>{'criterion': 'gini', 'max_features': 'auto', ...</td>\n",
       "    </tr>\n",
       "    <tr>\n",
       "      <th>1</th>\n",
       "      <td>0.5</td>\n",
       "      <td>69</td>\n",
       "      <td>0.973228</td>\n",
       "      <td>0.974618</td>\n",
       "      <td>0.973228</td>\n",
       "      <td>0.973225</td>\n",
       "      <td>{'criterion': 'entropy', 'max_features': 'log2...</td>\n",
       "    </tr>\n",
       "    <tr>\n",
       "      <th>2</th>\n",
       "      <td>0.5</td>\n",
       "      <td>101</td>\n",
       "      <td>0.968504</td>\n",
       "      <td>0.970416</td>\n",
       "      <td>0.968504</td>\n",
       "      <td>0.968498</td>\n",
       "      <td>{'criterion': 'gini', 'max_features': 'sqrt', ...</td>\n",
       "    </tr>\n",
       "    <tr>\n",
       "      <th>3</th>\n",
       "      <td>0.4</td>\n",
       "      <td>7</td>\n",
       "      <td>0.971457</td>\n",
       "      <td>0.972964</td>\n",
       "      <td>0.971457</td>\n",
       "      <td>0.971414</td>\n",
       "      <td>{'criterion': 'gini', 'max_features': 'auto', ...</td>\n",
       "    </tr>\n",
       "    <tr>\n",
       "      <th>4</th>\n",
       "      <td>0.4</td>\n",
       "      <td>69</td>\n",
       "      <td>0.977362</td>\n",
       "      <td>0.978360</td>\n",
       "      <td>0.977362</td>\n",
       "      <td>0.977360</td>\n",
       "      <td>{'criterion': 'entropy', 'max_features': 'auto...</td>\n",
       "    </tr>\n",
       "    <tr>\n",
       "      <th>5</th>\n",
       "      <td>0.4</td>\n",
       "      <td>101</td>\n",
       "      <td>0.972441</td>\n",
       "      <td>0.973916</td>\n",
       "      <td>0.972441</td>\n",
       "      <td>0.972439</td>\n",
       "      <td>{'criterion': 'gini', 'max_features': 'auto', ...</td>\n",
       "    </tr>\n",
       "    <tr>\n",
       "      <th>6</th>\n",
       "      <td>0.3</td>\n",
       "      <td>7</td>\n",
       "      <td>0.975066</td>\n",
       "      <td>0.976216</td>\n",
       "      <td>0.975066</td>\n",
       "      <td>0.975030</td>\n",
       "      <td>{'criterion': 'gini', 'max_features': 'sqrt', ...</td>\n",
       "    </tr>\n",
       "    <tr>\n",
       "      <th>7</th>\n",
       "      <td>0.3</td>\n",
       "      <td>69</td>\n",
       "      <td>0.980315</td>\n",
       "      <td>0.981084</td>\n",
       "      <td>0.980315</td>\n",
       "      <td>0.980320</td>\n",
       "      <td>{'criterion': 'entropy', 'max_features': 'sqrt...</td>\n",
       "    </tr>\n",
       "    <tr>\n",
       "      <th>8</th>\n",
       "      <td>0.3</td>\n",
       "      <td>101</td>\n",
       "      <td>0.969816</td>\n",
       "      <td>0.971578</td>\n",
       "      <td>0.969816</td>\n",
       "      <td>0.969813</td>\n",
       "      <td>{'criterion': 'entropy', 'max_features': 'auto...</td>\n",
       "    </tr>\n",
       "    <tr>\n",
       "      <th>9</th>\n",
       "      <td>0.2</td>\n",
       "      <td>7</td>\n",
       "      <td>0.974409</td>\n",
       "      <td>0.975569</td>\n",
       "      <td>0.974409</td>\n",
       "      <td>0.974340</td>\n",
       "      <td>{'criterion': 'gini', 'max_features': 'sqrt', ...</td>\n",
       "    </tr>\n",
       "    <tr>\n",
       "      <th>10</th>\n",
       "      <td>0.2</td>\n",
       "      <td>69</td>\n",
       "      <td>0.972441</td>\n",
       "      <td>0.973919</td>\n",
       "      <td>0.972441</td>\n",
       "      <td>0.972441</td>\n",
       "      <td>{'criterion': 'entropy', 'max_features': 'auto...</td>\n",
       "    </tr>\n",
       "    <tr>\n",
       "      <th>11</th>\n",
       "      <td>0.2</td>\n",
       "      <td>101</td>\n",
       "      <td>0.966535</td>\n",
       "      <td>0.968732</td>\n",
       "      <td>0.966535</td>\n",
       "      <td>0.966551</td>\n",
       "      <td>{'criterion': 'entropy', 'max_features': 'auto...</td>\n",
       "    </tr>\n",
       "  </tbody>\n",
       "</table>\n",
       "</div>"
      ],
      "text/plain": [
       "    Test Size  Random State  Accuracy  Precision    Recall  F1 Score  \\\n",
       "0         0.5             7  0.966929   0.968942  0.966929  0.966870   \n",
       "1         0.5            69  0.973228   0.974618  0.973228  0.973225   \n",
       "2         0.5           101  0.968504   0.970416  0.968504  0.968498   \n",
       "3         0.4             7  0.971457   0.972964  0.971457  0.971414   \n",
       "4         0.4            69  0.977362   0.978360  0.977362  0.977360   \n",
       "5         0.4           101  0.972441   0.973916  0.972441  0.972439   \n",
       "6         0.3             7  0.975066   0.976216  0.975066  0.975030   \n",
       "7         0.3            69  0.980315   0.981084  0.980315  0.980320   \n",
       "8         0.3           101  0.969816   0.971578  0.969816  0.969813   \n",
       "9         0.2             7  0.974409   0.975569  0.974409  0.974340   \n",
       "10        0.2            69  0.972441   0.973919  0.972441  0.972441   \n",
       "11        0.2           101  0.966535   0.968732  0.966535  0.966551   \n",
       "\n",
       "                                           Best Param  \n",
       "0   {'criterion': 'gini', 'max_features': 'auto', ...  \n",
       "1   {'criterion': 'entropy', 'max_features': 'log2...  \n",
       "2   {'criterion': 'gini', 'max_features': 'sqrt', ...  \n",
       "3   {'criterion': 'gini', 'max_features': 'auto', ...  \n",
       "4   {'criterion': 'entropy', 'max_features': 'auto...  \n",
       "5   {'criterion': 'gini', 'max_features': 'auto', ...  \n",
       "6   {'criterion': 'gini', 'max_features': 'sqrt', ...  \n",
       "7   {'criterion': 'entropy', 'max_features': 'sqrt...  \n",
       "8   {'criterion': 'entropy', 'max_features': 'auto...  \n",
       "9   {'criterion': 'gini', 'max_features': 'sqrt', ...  \n",
       "10  {'criterion': 'entropy', 'max_features': 'auto...  \n",
       "11  {'criterion': 'entropy', 'max_features': 'auto...  "
      ]
     },
     "execution_count": 16,
     "metadata": {},
     "output_type": "execute_result"
    }
   ],
   "source": [
    "tempB_SHG_ROS = []\n",
    "\n",
    "y = merge_B_ROS[['CGPA']]\n",
    "X = merge_B_ROS[['Number of Subjects Failed','SPM Result (A)','SPM Result (B)','SPM Result (C)']]\n",
    "\n",
    "print(\"X:\", X.shape,\"y:\", y.shape)\n",
    "\n",
    "for i in [0.5,0.4,0.3,0.2]:\n",
    "    for j in rand_states:\n",
    "        X_train, X_test, y_train, y_test = train_test_split(X, y, test_size=i, random_state=j)\n",
    "        param_grid = {'n_estimators': [100, 200, 300, 400],\n",
    "                      'max_features': ['auto', 'sqrt', 'log2'],\n",
    "                      'criterion' :['gini', 'entropy']}\n",
    "\n",
    "        model = GridSearchCV(RandomForestClassifier(), param_grid, refit=True, n_jobs=-1, cv=10, verbose=1)\n",
    "        model.fit(X_train, y_train)\n",
    "        pred = model.predict(X_test)\n",
    "\n",
    "        acc = accuracy_score(y_test,pred)\n",
    "        pre = precision_score(y_test, pred, average='weighted')\n",
    "        recall = recall_score(y_test, pred, average='weighted')\n",
    "        f1 = f1_score(y_test, pred, average='weighted')\n",
    "        param = model.best_params_\n",
    "    \n",
    "        tempB_SHG_ROS.append([i,j,acc,pre,recall,f1,param])\n",
    "        \n",
    "dfB_SHG_ROS = pd.DataFrame(columns=['Test Size','Random State','Accuracy','Precision','Recall','F1 Score','Best Param'],data=tempB_SHG_ROS)\n",
    "dfB_SHG_ROS"
   ]
  },
  {
   "cell_type": "code",
   "execution_count": 17,
   "id": "2d9eb9ee-625f-4aef-ba23-21e8b1d48c12",
   "metadata": {},
   "outputs": [
    {
     "data": {
      "text/html": [
       "<div>\n",
       "<style scoped>\n",
       "    .dataframe tbody tr th:only-of-type {\n",
       "        vertical-align: middle;\n",
       "    }\n",
       "\n",
       "    .dataframe tbody tr th {\n",
       "        vertical-align: top;\n",
       "    }\n",
       "\n",
       "    .dataframe thead th {\n",
       "        text-align: right;\n",
       "    }\n",
       "</style>\n",
       "<table border=\"1\" class=\"dataframe\">\n",
       "  <thead>\n",
       "    <tr style=\"text-align: right;\">\n",
       "      <th></th>\n",
       "      <th>Accuracy</th>\n",
       "      <th>Precision</th>\n",
       "      <th>Recall</th>\n",
       "      <th>F1 Score</th>\n",
       "    </tr>\n",
       "    <tr>\n",
       "      <th>Test Size</th>\n",
       "      <th></th>\n",
       "      <th></th>\n",
       "      <th></th>\n",
       "      <th></th>\n",
       "    </tr>\n",
       "  </thead>\n",
       "  <tbody>\n",
       "    <tr>\n",
       "      <th>0.2</th>\n",
       "      <td>0.971129</td>\n",
       "      <td>0.972740</td>\n",
       "      <td>0.971129</td>\n",
       "      <td>0.971111</td>\n",
       "    </tr>\n",
       "    <tr>\n",
       "      <th>0.3</th>\n",
       "      <td>0.975066</td>\n",
       "      <td>0.976293</td>\n",
       "      <td>0.975066</td>\n",
       "      <td>0.975054</td>\n",
       "    </tr>\n",
       "    <tr>\n",
       "      <th>0.4</th>\n",
       "      <td>0.973753</td>\n",
       "      <td>0.975080</td>\n",
       "      <td>0.973753</td>\n",
       "      <td>0.973738</td>\n",
       "    </tr>\n",
       "    <tr>\n",
       "      <th>0.5</th>\n",
       "      <td>0.969554</td>\n",
       "      <td>0.971325</td>\n",
       "      <td>0.969554</td>\n",
       "      <td>0.969531</td>\n",
       "    </tr>\n",
       "  </tbody>\n",
       "</table>\n",
       "</div>"
      ],
      "text/plain": [
       "           Accuracy  Precision    Recall  F1 Score\n",
       "Test Size                                         \n",
       "0.2        0.971129   0.972740  0.971129  0.971111\n",
       "0.3        0.975066   0.976293  0.975066  0.975054\n",
       "0.4        0.973753   0.975080  0.973753  0.973738\n",
       "0.5        0.969554   0.971325  0.969554  0.969531"
      ]
     },
     "execution_count": 17,
     "metadata": {},
     "output_type": "execute_result"
    }
   ],
   "source": [
    "dfB_SHG_ROS.groupby('Test Size')[['Accuracy','Precision','Recall','F1 Score']].mean()"
   ]
  },
  {
   "cell_type": "code",
   "execution_count": 18,
   "id": "431f14d5-d1cc-4447-90bc-72947dd5f208",
   "metadata": {},
   "outputs": [
    {
     "name": "stdout",
     "output_type": "stream",
     "text": [
      "Binary: Student History Grades\n",
      "\n",
      "{'criterion': 'gini', 'max_features': 'auto', 'n_estimators': 400}\n",
      "{'criterion': 'entropy', 'max_features': 'log2', 'n_estimators': 100}\n",
      "{'criterion': 'gini', 'max_features': 'sqrt', 'n_estimators': 100}\n",
      "{'criterion': 'gini', 'max_features': 'auto', 'n_estimators': 100}\n",
      "{'criterion': 'entropy', 'max_features': 'auto', 'n_estimators': 300}\n",
      "{'criterion': 'gini', 'max_features': 'auto', 'n_estimators': 300}\n",
      "{'criterion': 'gini', 'max_features': 'sqrt', 'n_estimators': 100}\n",
      "{'criterion': 'entropy', 'max_features': 'sqrt', 'n_estimators': 300}\n",
      "{'criterion': 'entropy', 'max_features': 'auto', 'n_estimators': 100}\n",
      "{'criterion': 'gini', 'max_features': 'sqrt', 'n_estimators': 300}\n",
      "{'criterion': 'entropy', 'max_features': 'auto', 'n_estimators': 300}\n",
      "{'criterion': 'entropy', 'max_features': 'auto', 'n_estimators': 300}\n"
     ]
    }
   ],
   "source": [
    "print(\"Binary: Student History Grades\\n\")\n",
    "for x in dfB_SHG_ROS[\"Best Param\"]:\n",
    "    print(x)"
   ]
  },
  {
   "cell_type": "markdown",
   "id": "362f3ed7-4039-4c36-8a52-a7ca060c57a6",
   "metadata": {},
   "source": [
    "### SHG after SMOTE"
   ]
  },
  {
   "cell_type": "code",
   "execution_count": 19,
   "id": "cbd75959-9f2b-4de0-8e13-13030413ed2a",
   "metadata": {},
   "outputs": [
    {
     "name": "stdout",
     "output_type": "stream",
     "text": [
      "X: (2540, 4) y: (2540, 1)\n",
      "Fitting 10 folds for each of 24 candidates, totalling 240 fits\n"
     ]
    },
    {
     "name": "stderr",
     "output_type": "stream",
     "text": [
      "C:\\Users\\hazel\\anaconda3\\Lib\\site-packages\\sklearn\\model_selection\\_search.py:909: DataConversionWarning: A column-vector y was passed when a 1d array was expected. Please change the shape of y to (n_samples,), for example using ravel().\n",
      "  self.best_estimator_.fit(X, y, **fit_params)\n"
     ]
    },
    {
     "name": "stdout",
     "output_type": "stream",
     "text": [
      "Fitting 10 folds for each of 24 candidates, totalling 240 fits\n"
     ]
    },
    {
     "name": "stderr",
     "output_type": "stream",
     "text": [
      "C:\\Users\\hazel\\anaconda3\\Lib\\site-packages\\sklearn\\model_selection\\_search.py:909: DataConversionWarning: A column-vector y was passed when a 1d array was expected. Please change the shape of y to (n_samples,), for example using ravel().\n",
      "  self.best_estimator_.fit(X, y, **fit_params)\n",
      "C:\\Users\\hazel\\anaconda3\\Lib\\site-packages\\sklearn\\ensemble\\_forest.py:424: FutureWarning: `max_features='auto'` has been deprecated in 1.1 and will be removed in 1.3. To keep the past behaviour, explicitly set `max_features='sqrt'` or remove this parameter as it is also the default value for RandomForestClassifiers and ExtraTreesClassifiers.\n",
      "  warn(\n"
     ]
    },
    {
     "name": "stdout",
     "output_type": "stream",
     "text": [
      "Fitting 10 folds for each of 24 candidates, totalling 240 fits\n"
     ]
    },
    {
     "name": "stderr",
     "output_type": "stream",
     "text": [
      "C:\\Users\\hazel\\anaconda3\\Lib\\site-packages\\sklearn\\model_selection\\_search.py:909: DataConversionWarning: A column-vector y was passed when a 1d array was expected. Please change the shape of y to (n_samples,), for example using ravel().\n",
      "  self.best_estimator_.fit(X, y, **fit_params)\n"
     ]
    },
    {
     "name": "stdout",
     "output_type": "stream",
     "text": [
      "Fitting 10 folds for each of 24 candidates, totalling 240 fits\n"
     ]
    },
    {
     "name": "stderr",
     "output_type": "stream",
     "text": [
      "C:\\Users\\hazel\\anaconda3\\Lib\\site-packages\\sklearn\\model_selection\\_search.py:909: DataConversionWarning: A column-vector y was passed when a 1d array was expected. Please change the shape of y to (n_samples,), for example using ravel().\n",
      "  self.best_estimator_.fit(X, y, **fit_params)\n"
     ]
    },
    {
     "name": "stdout",
     "output_type": "stream",
     "text": [
      "Fitting 10 folds for each of 24 candidates, totalling 240 fits\n"
     ]
    },
    {
     "name": "stderr",
     "output_type": "stream",
     "text": [
      "C:\\Users\\hazel\\anaconda3\\Lib\\site-packages\\sklearn\\model_selection\\_search.py:909: DataConversionWarning: A column-vector y was passed when a 1d array was expected. Please change the shape of y to (n_samples,), for example using ravel().\n",
      "  self.best_estimator_.fit(X, y, **fit_params)\n",
      "C:\\Users\\hazel\\anaconda3\\Lib\\site-packages\\sklearn\\ensemble\\_forest.py:424: FutureWarning: `max_features='auto'` has been deprecated in 1.1 and will be removed in 1.3. To keep the past behaviour, explicitly set `max_features='sqrt'` or remove this parameter as it is also the default value for RandomForestClassifiers and ExtraTreesClassifiers.\n",
      "  warn(\n"
     ]
    },
    {
     "name": "stdout",
     "output_type": "stream",
     "text": [
      "Fitting 10 folds for each of 24 candidates, totalling 240 fits\n"
     ]
    },
    {
     "name": "stderr",
     "output_type": "stream",
     "text": [
      "C:\\Users\\hazel\\anaconda3\\Lib\\site-packages\\sklearn\\model_selection\\_search.py:909: DataConversionWarning: A column-vector y was passed when a 1d array was expected. Please change the shape of y to (n_samples,), for example using ravel().\n",
      "  self.best_estimator_.fit(X, y, **fit_params)\n",
      "C:\\Users\\hazel\\anaconda3\\Lib\\site-packages\\sklearn\\ensemble\\_forest.py:424: FutureWarning: `max_features='auto'` has been deprecated in 1.1 and will be removed in 1.3. To keep the past behaviour, explicitly set `max_features='sqrt'` or remove this parameter as it is also the default value for RandomForestClassifiers and ExtraTreesClassifiers.\n",
      "  warn(\n"
     ]
    },
    {
     "name": "stdout",
     "output_type": "stream",
     "text": [
      "Fitting 10 folds for each of 24 candidates, totalling 240 fits\n"
     ]
    },
    {
     "name": "stderr",
     "output_type": "stream",
     "text": [
      "C:\\Users\\hazel\\anaconda3\\Lib\\site-packages\\sklearn\\model_selection\\_search.py:909: DataConversionWarning: A column-vector y was passed when a 1d array was expected. Please change the shape of y to (n_samples,), for example using ravel().\n",
      "  self.best_estimator_.fit(X, y, **fit_params)\n",
      "C:\\Users\\hazel\\anaconda3\\Lib\\site-packages\\sklearn\\ensemble\\_forest.py:424: FutureWarning: `max_features='auto'` has been deprecated in 1.1 and will be removed in 1.3. To keep the past behaviour, explicitly set `max_features='sqrt'` or remove this parameter as it is also the default value for RandomForestClassifiers and ExtraTreesClassifiers.\n",
      "  warn(\n"
     ]
    },
    {
     "name": "stdout",
     "output_type": "stream",
     "text": [
      "Fitting 10 folds for each of 24 candidates, totalling 240 fits\n"
     ]
    },
    {
     "name": "stderr",
     "output_type": "stream",
     "text": [
      "C:\\Users\\hazel\\anaconda3\\Lib\\site-packages\\sklearn\\model_selection\\_search.py:909: DataConversionWarning: A column-vector y was passed when a 1d array was expected. Please change the shape of y to (n_samples,), for example using ravel().\n",
      "  self.best_estimator_.fit(X, y, **fit_params)\n"
     ]
    },
    {
     "name": "stdout",
     "output_type": "stream",
     "text": [
      "Fitting 10 folds for each of 24 candidates, totalling 240 fits\n"
     ]
    },
    {
     "name": "stderr",
     "output_type": "stream",
     "text": [
      "C:\\Users\\hazel\\anaconda3\\Lib\\site-packages\\sklearn\\model_selection\\_search.py:909: DataConversionWarning: A column-vector y was passed when a 1d array was expected. Please change the shape of y to (n_samples,), for example using ravel().\n",
      "  self.best_estimator_.fit(X, y, **fit_params)\n"
     ]
    },
    {
     "name": "stdout",
     "output_type": "stream",
     "text": [
      "Fitting 10 folds for each of 24 candidates, totalling 240 fits\n"
     ]
    },
    {
     "name": "stderr",
     "output_type": "stream",
     "text": [
      "C:\\Users\\hazel\\anaconda3\\Lib\\site-packages\\sklearn\\model_selection\\_search.py:909: DataConversionWarning: A column-vector y was passed when a 1d array was expected. Please change the shape of y to (n_samples,), for example using ravel().\n",
      "  self.best_estimator_.fit(X, y, **fit_params)\n"
     ]
    },
    {
     "name": "stdout",
     "output_type": "stream",
     "text": [
      "Fitting 10 folds for each of 24 candidates, totalling 240 fits\n"
     ]
    },
    {
     "name": "stderr",
     "output_type": "stream",
     "text": [
      "C:\\Users\\hazel\\anaconda3\\Lib\\site-packages\\sklearn\\model_selection\\_search.py:909: DataConversionWarning: A column-vector y was passed when a 1d array was expected. Please change the shape of y to (n_samples,), for example using ravel().\n",
      "  self.best_estimator_.fit(X, y, **fit_params)\n"
     ]
    },
    {
     "name": "stdout",
     "output_type": "stream",
     "text": [
      "Fitting 10 folds for each of 24 candidates, totalling 240 fits\n"
     ]
    },
    {
     "name": "stderr",
     "output_type": "stream",
     "text": [
      "C:\\Users\\hazel\\anaconda3\\Lib\\site-packages\\sklearn\\model_selection\\_search.py:909: DataConversionWarning: A column-vector y was passed when a 1d array was expected. Please change the shape of y to (n_samples,), for example using ravel().\n",
      "  self.best_estimator_.fit(X, y, **fit_params)\n"
     ]
    },
    {
     "data": {
      "text/html": [
       "<div>\n",
       "<style scoped>\n",
       "    .dataframe tbody tr th:only-of-type {\n",
       "        vertical-align: middle;\n",
       "    }\n",
       "\n",
       "    .dataframe tbody tr th {\n",
       "        vertical-align: top;\n",
       "    }\n",
       "\n",
       "    .dataframe thead th {\n",
       "        text-align: right;\n",
       "    }\n",
       "</style>\n",
       "<table border=\"1\" class=\"dataframe\">\n",
       "  <thead>\n",
       "    <tr style=\"text-align: right;\">\n",
       "      <th></th>\n",
       "      <th>Test Size</th>\n",
       "      <th>Random State</th>\n",
       "      <th>Accuracy</th>\n",
       "      <th>Precision</th>\n",
       "      <th>Recall</th>\n",
       "      <th>F1 Score</th>\n",
       "      <th>Best Param</th>\n",
       "    </tr>\n",
       "  </thead>\n",
       "  <tbody>\n",
       "    <tr>\n",
       "      <th>0</th>\n",
       "      <td>0.5</td>\n",
       "      <td>7</td>\n",
       "      <td>0.948031</td>\n",
       "      <td>0.950534</td>\n",
       "      <td>0.948031</td>\n",
       "      <td>0.947917</td>\n",
       "      <td>{'criterion': 'gini', 'max_features': 'log2', ...</td>\n",
       "    </tr>\n",
       "    <tr>\n",
       "      <th>1</th>\n",
       "      <td>0.5</td>\n",
       "      <td>69</td>\n",
       "      <td>0.948819</td>\n",
       "      <td>0.950958</td>\n",
       "      <td>0.948819</td>\n",
       "      <td>0.948798</td>\n",
       "      <td>{'criterion': 'gini', 'max_features': 'auto', ...</td>\n",
       "    </tr>\n",
       "    <tr>\n",
       "      <th>2</th>\n",
       "      <td>0.5</td>\n",
       "      <td>101</td>\n",
       "      <td>0.944094</td>\n",
       "      <td>0.947081</td>\n",
       "      <td>0.944094</td>\n",
       "      <td>0.944061</td>\n",
       "      <td>{'criterion': 'gini', 'max_features': 'sqrt', ...</td>\n",
       "    </tr>\n",
       "    <tr>\n",
       "      <th>3</th>\n",
       "      <td>0.4</td>\n",
       "      <td>7</td>\n",
       "      <td>0.956693</td>\n",
       "      <td>0.958236</td>\n",
       "      <td>0.956693</td>\n",
       "      <td>0.956625</td>\n",
       "      <td>{'criterion': 'entropy', 'max_features': 'log2...</td>\n",
       "    </tr>\n",
       "    <tr>\n",
       "      <th>4</th>\n",
       "      <td>0.4</td>\n",
       "      <td>69</td>\n",
       "      <td>0.949803</td>\n",
       "      <td>0.951322</td>\n",
       "      <td>0.949803</td>\n",
       "      <td>0.949788</td>\n",
       "      <td>{'criterion': 'gini', 'max_features': 'auto', ...</td>\n",
       "    </tr>\n",
       "    <tr>\n",
       "      <th>5</th>\n",
       "      <td>0.4</td>\n",
       "      <td>101</td>\n",
       "      <td>0.946850</td>\n",
       "      <td>0.949459</td>\n",
       "      <td>0.946850</td>\n",
       "      <td>0.946827</td>\n",
       "      <td>{'criterion': 'gini', 'max_features': 'auto', ...</td>\n",
       "    </tr>\n",
       "    <tr>\n",
       "      <th>6</th>\n",
       "      <td>0.3</td>\n",
       "      <td>7</td>\n",
       "      <td>0.955381</td>\n",
       "      <td>0.957114</td>\n",
       "      <td>0.955381</td>\n",
       "      <td>0.955292</td>\n",
       "      <td>{'criterion': 'gini', 'max_features': 'auto', ...</td>\n",
       "    </tr>\n",
       "    <tr>\n",
       "      <th>7</th>\n",
       "      <td>0.3</td>\n",
       "      <td>69</td>\n",
       "      <td>0.954068</td>\n",
       "      <td>0.955528</td>\n",
       "      <td>0.954068</td>\n",
       "      <td>0.954073</td>\n",
       "      <td>{'criterion': 'gini', 'max_features': 'sqrt', ...</td>\n",
       "    </tr>\n",
       "    <tr>\n",
       "      <th>8</th>\n",
       "      <td>0.3</td>\n",
       "      <td>101</td>\n",
       "      <td>0.948819</td>\n",
       "      <td>0.951909</td>\n",
       "      <td>0.948819</td>\n",
       "      <td>0.948789</td>\n",
       "      <td>{'criterion': 'gini', 'max_features': 'log2', ...</td>\n",
       "    </tr>\n",
       "    <tr>\n",
       "      <th>9</th>\n",
       "      <td>0.2</td>\n",
       "      <td>7</td>\n",
       "      <td>0.954724</td>\n",
       "      <td>0.956126</td>\n",
       "      <td>0.954724</td>\n",
       "      <td>0.954578</td>\n",
       "      <td>{'criterion': 'entropy', 'max_features': 'log2...</td>\n",
       "    </tr>\n",
       "    <tr>\n",
       "      <th>10</th>\n",
       "      <td>0.2</td>\n",
       "      <td>69</td>\n",
       "      <td>0.950787</td>\n",
       "      <td>0.952441</td>\n",
       "      <td>0.950787</td>\n",
       "      <td>0.950785</td>\n",
       "      <td>{'criterion': 'gini', 'max_features': 'sqrt', ...</td>\n",
       "    </tr>\n",
       "    <tr>\n",
       "      <th>11</th>\n",
       "      <td>0.2</td>\n",
       "      <td>101</td>\n",
       "      <td>0.950787</td>\n",
       "      <td>0.953486</td>\n",
       "      <td>0.950787</td>\n",
       "      <td>0.950806</td>\n",
       "      <td>{'criterion': 'gini', 'max_features': 'log2', ...</td>\n",
       "    </tr>\n",
       "  </tbody>\n",
       "</table>\n",
       "</div>"
      ],
      "text/plain": [
       "    Test Size  Random State  Accuracy  Precision    Recall  F1 Score  \\\n",
       "0         0.5             7  0.948031   0.950534  0.948031  0.947917   \n",
       "1         0.5            69  0.948819   0.950958  0.948819  0.948798   \n",
       "2         0.5           101  0.944094   0.947081  0.944094  0.944061   \n",
       "3         0.4             7  0.956693   0.958236  0.956693  0.956625   \n",
       "4         0.4            69  0.949803   0.951322  0.949803  0.949788   \n",
       "5         0.4           101  0.946850   0.949459  0.946850  0.946827   \n",
       "6         0.3             7  0.955381   0.957114  0.955381  0.955292   \n",
       "7         0.3            69  0.954068   0.955528  0.954068  0.954073   \n",
       "8         0.3           101  0.948819   0.951909  0.948819  0.948789   \n",
       "9         0.2             7  0.954724   0.956126  0.954724  0.954578   \n",
       "10        0.2            69  0.950787   0.952441  0.950787  0.950785   \n",
       "11        0.2           101  0.950787   0.953486  0.950787  0.950806   \n",
       "\n",
       "                                           Best Param  \n",
       "0   {'criterion': 'gini', 'max_features': 'log2', ...  \n",
       "1   {'criterion': 'gini', 'max_features': 'auto', ...  \n",
       "2   {'criterion': 'gini', 'max_features': 'sqrt', ...  \n",
       "3   {'criterion': 'entropy', 'max_features': 'log2...  \n",
       "4   {'criterion': 'gini', 'max_features': 'auto', ...  \n",
       "5   {'criterion': 'gini', 'max_features': 'auto', ...  \n",
       "6   {'criterion': 'gini', 'max_features': 'auto', ...  \n",
       "7   {'criterion': 'gini', 'max_features': 'sqrt', ...  \n",
       "8   {'criterion': 'gini', 'max_features': 'log2', ...  \n",
       "9   {'criterion': 'entropy', 'max_features': 'log2...  \n",
       "10  {'criterion': 'gini', 'max_features': 'sqrt', ...  \n",
       "11  {'criterion': 'gini', 'max_features': 'log2', ...  "
      ]
     },
     "execution_count": 19,
     "metadata": {},
     "output_type": "execute_result"
    }
   ],
   "source": [
    "tempB_SHG_SMOTE = []\n",
    "\n",
    "y = merge_B_SMOTE[['CGPA']]\n",
    "X = merge_B_SMOTE[['Number of Subjects Failed','SPM Result (A)','SPM Result (B)','SPM Result (C)']]\n",
    "\n",
    "print(\"X:\", X.shape,\"y:\", y.shape)\n",
    "\n",
    "for i in [0.5,0.4,0.3,0.2]:\n",
    "    for j in rand_states:\n",
    "        X_train, X_test, y_train, y_test = train_test_split(X, y, test_size=i, random_state=j)\n",
    "        param_grid = {'n_estimators': [100, 200, 300, 400],\n",
    "                      'max_features': ['auto', 'sqrt', 'log2'],\n",
    "                      'criterion' :['gini', 'entropy']}\n",
    "\n",
    "        model = GridSearchCV(RandomForestClassifier(), param_grid, refit=True, n_jobs=-1, cv=10, verbose=1)\n",
    "        model.fit(X_train, y_train)\n",
    "        pred = model.predict(X_test)\n",
    "\n",
    "        acc = accuracy_score(y_test,pred)\n",
    "        pre = precision_score(y_test, pred, average='weighted')\n",
    "        recall = recall_score(y_test, pred, average='weighted')\n",
    "        f1 = f1_score(y_test, pred, average='weighted')\n",
    "        param = model.best_params_\n",
    "    \n",
    "        tempB_SHG_SMOTE.append([i,j,acc,pre,recall,f1,param])\n",
    "        \n",
    "dfB_SHG_SMOTE = pd.DataFrame(columns=['Test Size','Random State','Accuracy','Precision','Recall','F1 Score','Best Param'],data=tempB_SHG_SMOTE)\n",
    "dfB_SHG_SMOTE"
   ]
  },
  {
   "cell_type": "code",
   "execution_count": 20,
   "id": "24497b58-cf1b-4554-bb39-87d2b716c103",
   "metadata": {},
   "outputs": [
    {
     "data": {
      "text/html": [
       "<div>\n",
       "<style scoped>\n",
       "    .dataframe tbody tr th:only-of-type {\n",
       "        vertical-align: middle;\n",
       "    }\n",
       "\n",
       "    .dataframe tbody tr th {\n",
       "        vertical-align: top;\n",
       "    }\n",
       "\n",
       "    .dataframe thead th {\n",
       "        text-align: right;\n",
       "    }\n",
       "</style>\n",
       "<table border=\"1\" class=\"dataframe\">\n",
       "  <thead>\n",
       "    <tr style=\"text-align: right;\">\n",
       "      <th></th>\n",
       "      <th>Accuracy</th>\n",
       "      <th>Precision</th>\n",
       "      <th>Recall</th>\n",
       "      <th>F1 Score</th>\n",
       "    </tr>\n",
       "    <tr>\n",
       "      <th>Test Size</th>\n",
       "      <th></th>\n",
       "      <th></th>\n",
       "      <th></th>\n",
       "      <th></th>\n",
       "    </tr>\n",
       "  </thead>\n",
       "  <tbody>\n",
       "    <tr>\n",
       "      <th>0.2</th>\n",
       "      <td>0.952100</td>\n",
       "      <td>0.954018</td>\n",
       "      <td>0.952100</td>\n",
       "      <td>0.952056</td>\n",
       "    </tr>\n",
       "    <tr>\n",
       "      <th>0.3</th>\n",
       "      <td>0.952756</td>\n",
       "      <td>0.954851</td>\n",
       "      <td>0.952756</td>\n",
       "      <td>0.952718</td>\n",
       "    </tr>\n",
       "    <tr>\n",
       "      <th>0.4</th>\n",
       "      <td>0.951115</td>\n",
       "      <td>0.953006</td>\n",
       "      <td>0.951115</td>\n",
       "      <td>0.951080</td>\n",
       "    </tr>\n",
       "    <tr>\n",
       "      <th>0.5</th>\n",
       "      <td>0.946982</td>\n",
       "      <td>0.949524</td>\n",
       "      <td>0.946982</td>\n",
       "      <td>0.946925</td>\n",
       "    </tr>\n",
       "  </tbody>\n",
       "</table>\n",
       "</div>"
      ],
      "text/plain": [
       "           Accuracy  Precision    Recall  F1 Score\n",
       "Test Size                                         \n",
       "0.2        0.952100   0.954018  0.952100  0.952056\n",
       "0.3        0.952756   0.954851  0.952756  0.952718\n",
       "0.4        0.951115   0.953006  0.951115  0.951080\n",
       "0.5        0.946982   0.949524  0.946982  0.946925"
      ]
     },
     "execution_count": 20,
     "metadata": {},
     "output_type": "execute_result"
    }
   ],
   "source": [
    "dfB_SHG_SMOTE.groupby('Test Size')[['Accuracy','Precision','Recall','F1 Score']].mean()"
   ]
  },
  {
   "cell_type": "code",
   "execution_count": 21,
   "id": "e940a924-8ab0-464f-95d6-166b2cfa279f",
   "metadata": {},
   "outputs": [
    {
     "name": "stdout",
     "output_type": "stream",
     "text": [
      "SMOTE Binary: Student History Grades\n",
      "\n",
      "{'criterion': 'gini', 'max_features': 'log2', 'n_estimators': 100}\n",
      "{'criterion': 'gini', 'max_features': 'auto', 'n_estimators': 400}\n",
      "{'criterion': 'gini', 'max_features': 'sqrt', 'n_estimators': 200}\n",
      "{'criterion': 'entropy', 'max_features': 'log2', 'n_estimators': 100}\n",
      "{'criterion': 'gini', 'max_features': 'auto', 'n_estimators': 300}\n",
      "{'criterion': 'gini', 'max_features': 'auto', 'n_estimators': 300}\n",
      "{'criterion': 'gini', 'max_features': 'auto', 'n_estimators': 300}\n",
      "{'criterion': 'gini', 'max_features': 'sqrt', 'n_estimators': 100}\n",
      "{'criterion': 'gini', 'max_features': 'log2', 'n_estimators': 100}\n",
      "{'criterion': 'entropy', 'max_features': 'log2', 'n_estimators': 100}\n",
      "{'criterion': 'gini', 'max_features': 'sqrt', 'n_estimators': 200}\n",
      "{'criterion': 'gini', 'max_features': 'log2', 'n_estimators': 200}\n"
     ]
    }
   ],
   "source": [
    "print(\"SMOTE Binary: Student History Grades\\n\")\n",
    "for x in dfB_SHG_SMOTE[\"Best Param\"]:\n",
    "    print(x)"
   ]
  },
  {
   "cell_type": "markdown",
   "id": "12bcd81a-780c-4a9a-95ee-901fa902f0eb",
   "metadata": {},
   "source": [
    "## Student Opinion Towards MMU Environment"
   ]
  },
  {
   "cell_type": "markdown",
   "id": "ca13ef2a-9d20-49db-838a-bfdfe5398a30",
   "metadata": {},
   "source": [
    "### SOTME before Data Balancing"
   ]
  },
  {
   "cell_type": "code",
   "execution_count": 22,
   "id": "fc2147f1-d0b2-4da2-99b2-c3384d28de53",
   "metadata": {},
   "outputs": [
    {
     "name": "stdout",
     "output_type": "stream",
     "text": [
      "X: (1287, 5) y: (1287, 1)\n",
      "Fitting 10 folds for each of 24 candidates, totalling 240 fits\n"
     ]
    },
    {
     "name": "stderr",
     "output_type": "stream",
     "text": [
      "C:\\Users\\hazel\\anaconda3\\Lib\\site-packages\\sklearn\\model_selection\\_split.py:700: UserWarning: The least populated class in y has only 8 members, which is less than n_splits=10.\n",
      "  warnings.warn(\n",
      "C:\\Users\\hazel\\anaconda3\\Lib\\site-packages\\sklearn\\model_selection\\_search.py:909: DataConversionWarning: A column-vector y was passed when a 1d array was expected. Please change the shape of y to (n_samples,), for example using ravel().\n",
      "  self.best_estimator_.fit(X, y, **fit_params)\n",
      "C:\\Users\\hazel\\anaconda3\\Lib\\site-packages\\sklearn\\ensemble\\_forest.py:424: FutureWarning: `max_features='auto'` has been deprecated in 1.1 and will be removed in 1.3. To keep the past behaviour, explicitly set `max_features='sqrt'` or remove this parameter as it is also the default value for RandomForestClassifiers and ExtraTreesClassifiers.\n",
      "  warn(\n",
      "C:\\Users\\hazel\\anaconda3\\Lib\\site-packages\\sklearn\\metrics\\_classification.py:1344: UndefinedMetricWarning: Precision is ill-defined and being set to 0.0 in labels with no predicted samples. Use `zero_division` parameter to control this behavior.\n",
      "  _warn_prf(average, modifier, msg_start, len(result))\n",
      "C:\\Users\\hazel\\anaconda3\\Lib\\site-packages\\sklearn\\model_selection\\_split.py:700: UserWarning: The least populated class in y has only 8 members, which is less than n_splits=10.\n",
      "  warnings.warn(\n"
     ]
    },
    {
     "name": "stdout",
     "output_type": "stream",
     "text": [
      "Fitting 10 folds for each of 24 candidates, totalling 240 fits\n"
     ]
    },
    {
     "name": "stderr",
     "output_type": "stream",
     "text": [
      "C:\\Users\\hazel\\anaconda3\\Lib\\site-packages\\sklearn\\model_selection\\_search.py:909: DataConversionWarning: A column-vector y was passed when a 1d array was expected. Please change the shape of y to (n_samples,), for example using ravel().\n",
      "  self.best_estimator_.fit(X, y, **fit_params)\n",
      "C:\\Users\\hazel\\anaconda3\\Lib\\site-packages\\sklearn\\ensemble\\_forest.py:424: FutureWarning: `max_features='auto'` has been deprecated in 1.1 and will be removed in 1.3. To keep the past behaviour, explicitly set `max_features='sqrt'` or remove this parameter as it is also the default value for RandomForestClassifiers and ExtraTreesClassifiers.\n",
      "  warn(\n"
     ]
    },
    {
     "name": "stdout",
     "output_type": "stream",
     "text": [
      "Fitting 10 folds for each of 24 candidates, totalling 240 fits\n"
     ]
    },
    {
     "name": "stderr",
     "output_type": "stream",
     "text": [
      "C:\\Users\\hazel\\anaconda3\\Lib\\site-packages\\sklearn\\model_selection\\_split.py:700: UserWarning: The least populated class in y has only 8 members, which is less than n_splits=10.\n",
      "  warnings.warn(\n",
      "C:\\Users\\hazel\\anaconda3\\Lib\\site-packages\\sklearn\\model_selection\\_search.py:909: DataConversionWarning: A column-vector y was passed when a 1d array was expected. Please change the shape of y to (n_samples,), for example using ravel().\n",
      "  self.best_estimator_.fit(X, y, **fit_params)\n",
      "C:\\Users\\hazel\\anaconda3\\Lib\\site-packages\\sklearn\\ensemble\\_forest.py:424: FutureWarning: `max_features='auto'` has been deprecated in 1.1 and will be removed in 1.3. To keep the past behaviour, explicitly set `max_features='sqrt'` or remove this parameter as it is also the default value for RandomForestClassifiers and ExtraTreesClassifiers.\n",
      "  warn(\n"
     ]
    },
    {
     "name": "stdout",
     "output_type": "stream",
     "text": [
      "Fitting 10 folds for each of 24 candidates, totalling 240 fits\n"
     ]
    },
    {
     "name": "stderr",
     "output_type": "stream",
     "text": [
      "C:\\Users\\hazel\\anaconda3\\Lib\\site-packages\\sklearn\\model_selection\\_search.py:909: DataConversionWarning: A column-vector y was passed when a 1d array was expected. Please change the shape of y to (n_samples,), for example using ravel().\n",
      "  self.best_estimator_.fit(X, y, **fit_params)\n",
      "C:\\Users\\hazel\\anaconda3\\Lib\\site-packages\\sklearn\\ensemble\\_forest.py:424: FutureWarning: `max_features='auto'` has been deprecated in 1.1 and will be removed in 1.3. To keep the past behaviour, explicitly set `max_features='sqrt'` or remove this parameter as it is also the default value for RandomForestClassifiers and ExtraTreesClassifiers.\n",
      "  warn(\n",
      "C:\\Users\\hazel\\anaconda3\\Lib\\site-packages\\sklearn\\metrics\\_classification.py:1344: UndefinedMetricWarning: Precision is ill-defined and being set to 0.0 in labels with no predicted samples. Use `zero_division` parameter to control this behavior.\n",
      "  _warn_prf(average, modifier, msg_start, len(result))\n",
      "C:\\Users\\hazel\\anaconda3\\Lib\\site-packages\\sklearn\\model_selection\\_split.py:700: UserWarning: The least populated class in y has only 9 members, which is less than n_splits=10.\n",
      "  warnings.warn(\n"
     ]
    },
    {
     "name": "stdout",
     "output_type": "stream",
     "text": [
      "Fitting 10 folds for each of 24 candidates, totalling 240 fits\n"
     ]
    },
    {
     "name": "stderr",
     "output_type": "stream",
     "text": [
      "C:\\Users\\hazel\\anaconda3\\Lib\\site-packages\\sklearn\\model_selection\\_search.py:909: DataConversionWarning: A column-vector y was passed when a 1d array was expected. Please change the shape of y to (n_samples,), for example using ravel().\n",
      "  self.best_estimator_.fit(X, y, **fit_params)\n",
      "C:\\Users\\hazel\\anaconda3\\Lib\\site-packages\\sklearn\\ensemble\\_forest.py:424: FutureWarning: `max_features='auto'` has been deprecated in 1.1 and will be removed in 1.3. To keep the past behaviour, explicitly set `max_features='sqrt'` or remove this parameter as it is also the default value for RandomForestClassifiers and ExtraTreesClassifiers.\n",
      "  warn(\n"
     ]
    },
    {
     "name": "stdout",
     "output_type": "stream",
     "text": [
      "Fitting 10 folds for each of 24 candidates, totalling 240 fits\n"
     ]
    },
    {
     "name": "stderr",
     "output_type": "stream",
     "text": [
      "C:\\Users\\hazel\\anaconda3\\Lib\\site-packages\\sklearn\\model_selection\\_search.py:909: DataConversionWarning: A column-vector y was passed when a 1d array was expected. Please change the shape of y to (n_samples,), for example using ravel().\n",
      "  self.best_estimator_.fit(X, y, **fit_params)\n",
      "C:\\Users\\hazel\\anaconda3\\Lib\\site-packages\\sklearn\\ensemble\\_forest.py:424: FutureWarning: `max_features='auto'` has been deprecated in 1.1 and will be removed in 1.3. To keep the past behaviour, explicitly set `max_features='sqrt'` or remove this parameter as it is also the default value for RandomForestClassifiers and ExtraTreesClassifiers.\n",
      "  warn(\n",
      "C:\\Users\\hazel\\anaconda3\\Lib\\site-packages\\sklearn\\metrics\\_classification.py:1344: UndefinedMetricWarning: Precision is ill-defined and being set to 0.0 in labels with no predicted samples. Use `zero_division` parameter to control this behavior.\n",
      "  _warn_prf(average, modifier, msg_start, len(result))\n"
     ]
    },
    {
     "name": "stdout",
     "output_type": "stream",
     "text": [
      "Fitting 10 folds for each of 24 candidates, totalling 240 fits\n"
     ]
    },
    {
     "name": "stderr",
     "output_type": "stream",
     "text": [
      "C:\\Users\\hazel\\anaconda3\\Lib\\site-packages\\sklearn\\model_selection\\_search.py:909: DataConversionWarning: A column-vector y was passed when a 1d array was expected. Please change the shape of y to (n_samples,), for example using ravel().\n",
      "  self.best_estimator_.fit(X, y, **fit_params)\n",
      "C:\\Users\\hazel\\anaconda3\\Lib\\site-packages\\sklearn\\ensemble\\_forest.py:424: FutureWarning: `max_features='auto'` has been deprecated in 1.1 and will be removed in 1.3. To keep the past behaviour, explicitly set `max_features='sqrt'` or remove this parameter as it is also the default value for RandomForestClassifiers and ExtraTreesClassifiers.\n",
      "  warn(\n"
     ]
    },
    {
     "name": "stdout",
     "output_type": "stream",
     "text": [
      "Fitting 10 folds for each of 24 candidates, totalling 240 fits\n"
     ]
    },
    {
     "name": "stderr",
     "output_type": "stream",
     "text": [
      "C:\\Users\\hazel\\anaconda3\\Lib\\site-packages\\sklearn\\model_selection\\_search.py:909: DataConversionWarning: A column-vector y was passed when a 1d array was expected. Please change the shape of y to (n_samples,), for example using ravel().\n",
      "  self.best_estimator_.fit(X, y, **fit_params)\n",
      "C:\\Users\\hazel\\anaconda3\\Lib\\site-packages\\sklearn\\ensemble\\_forest.py:424: FutureWarning: `max_features='auto'` has been deprecated in 1.1 and will be removed in 1.3. To keep the past behaviour, explicitly set `max_features='sqrt'` or remove this parameter as it is also the default value for RandomForestClassifiers and ExtraTreesClassifiers.\n",
      "  warn(\n",
      "C:\\Users\\hazel\\anaconda3\\Lib\\site-packages\\sklearn\\metrics\\_classification.py:1344: UndefinedMetricWarning: Precision is ill-defined and being set to 0.0 in labels with no predicted samples. Use `zero_division` parameter to control this behavior.\n",
      "  _warn_prf(average, modifier, msg_start, len(result))\n"
     ]
    },
    {
     "name": "stdout",
     "output_type": "stream",
     "text": [
      "Fitting 10 folds for each of 24 candidates, totalling 240 fits\n"
     ]
    },
    {
     "name": "stderr",
     "output_type": "stream",
     "text": [
      "C:\\Users\\hazel\\anaconda3\\Lib\\site-packages\\sklearn\\model_selection\\_search.py:909: DataConversionWarning: A column-vector y was passed when a 1d array was expected. Please change the shape of y to (n_samples,), for example using ravel().\n",
      "  self.best_estimator_.fit(X, y, **fit_params)\n",
      "C:\\Users\\hazel\\anaconda3\\Lib\\site-packages\\sklearn\\ensemble\\_forest.py:424: FutureWarning: `max_features='auto'` has been deprecated in 1.1 and will be removed in 1.3. To keep the past behaviour, explicitly set `max_features='sqrt'` or remove this parameter as it is also the default value for RandomForestClassifiers and ExtraTreesClassifiers.\n",
      "  warn(\n",
      "C:\\Users\\hazel\\anaconda3\\Lib\\site-packages\\sklearn\\metrics\\_classification.py:1344: UndefinedMetricWarning: Precision is ill-defined and being set to 0.0 in labels with no predicted samples. Use `zero_division` parameter to control this behavior.\n",
      "  _warn_prf(average, modifier, msg_start, len(result))\n"
     ]
    },
    {
     "name": "stdout",
     "output_type": "stream",
     "text": [
      "Fitting 10 folds for each of 24 candidates, totalling 240 fits\n"
     ]
    },
    {
     "name": "stderr",
     "output_type": "stream",
     "text": [
      "C:\\Users\\hazel\\anaconda3\\Lib\\site-packages\\sklearn\\model_selection\\_search.py:909: DataConversionWarning: A column-vector y was passed when a 1d array was expected. Please change the shape of y to (n_samples,), for example using ravel().\n",
      "  self.best_estimator_.fit(X, y, **fit_params)\n",
      "C:\\Users\\hazel\\anaconda3\\Lib\\site-packages\\sklearn\\ensemble\\_forest.py:424: FutureWarning: `max_features='auto'` has been deprecated in 1.1 and will be removed in 1.3. To keep the past behaviour, explicitly set `max_features='sqrt'` or remove this parameter as it is also the default value for RandomForestClassifiers and ExtraTreesClassifiers.\n",
      "  warn(\n",
      "C:\\Users\\hazel\\anaconda3\\Lib\\site-packages\\sklearn\\metrics\\_classification.py:1344: UndefinedMetricWarning: Precision is ill-defined and being set to 0.0 in labels with no predicted samples. Use `zero_division` parameter to control this behavior.\n",
      "  _warn_prf(average, modifier, msg_start, len(result))\n"
     ]
    },
    {
     "name": "stdout",
     "output_type": "stream",
     "text": [
      "Fitting 10 folds for each of 24 candidates, totalling 240 fits\n"
     ]
    },
    {
     "name": "stderr",
     "output_type": "stream",
     "text": [
      "C:\\Users\\hazel\\anaconda3\\Lib\\site-packages\\sklearn\\model_selection\\_search.py:909: DataConversionWarning: A column-vector y was passed when a 1d array was expected. Please change the shape of y to (n_samples,), for example using ravel().\n",
      "  self.best_estimator_.fit(X, y, **fit_params)\n",
      "C:\\Users\\hazel\\anaconda3\\Lib\\site-packages\\sklearn\\ensemble\\_forest.py:424: FutureWarning: `max_features='auto'` has been deprecated in 1.1 and will be removed in 1.3. To keep the past behaviour, explicitly set `max_features='sqrt'` or remove this parameter as it is also the default value for RandomForestClassifiers and ExtraTreesClassifiers.\n",
      "  warn(\n",
      "C:\\Users\\hazel\\anaconda3\\Lib\\site-packages\\sklearn\\metrics\\_classification.py:1344: UndefinedMetricWarning: Precision is ill-defined and being set to 0.0 in labels with no predicted samples. Use `zero_division` parameter to control this behavior.\n",
      "  _warn_prf(average, modifier, msg_start, len(result))\n"
     ]
    },
    {
     "name": "stdout",
     "output_type": "stream",
     "text": [
      "Fitting 10 folds for each of 24 candidates, totalling 240 fits\n"
     ]
    },
    {
     "name": "stderr",
     "output_type": "stream",
     "text": [
      "C:\\Users\\hazel\\anaconda3\\Lib\\site-packages\\sklearn\\model_selection\\_search.py:909: DataConversionWarning: A column-vector y was passed when a 1d array was expected. Please change the shape of y to (n_samples,), for example using ravel().\n",
      "  self.best_estimator_.fit(X, y, **fit_params)\n",
      "C:\\Users\\hazel\\anaconda3\\Lib\\site-packages\\sklearn\\ensemble\\_forest.py:424: FutureWarning: `max_features='auto'` has been deprecated in 1.1 and will be removed in 1.3. To keep the past behaviour, explicitly set `max_features='sqrt'` or remove this parameter as it is also the default value for RandomForestClassifiers and ExtraTreesClassifiers.\n",
      "  warn(\n",
      "C:\\Users\\hazel\\anaconda3\\Lib\\site-packages\\sklearn\\metrics\\_classification.py:1344: UndefinedMetricWarning: Precision is ill-defined and being set to 0.0 in labels with no predicted samples. Use `zero_division` parameter to control this behavior.\n",
      "  _warn_prf(average, modifier, msg_start, len(result))\n"
     ]
    },
    {
     "data": {
      "text/html": [
       "<div>\n",
       "<style scoped>\n",
       "    .dataframe tbody tr th:only-of-type {\n",
       "        vertical-align: middle;\n",
       "    }\n",
       "\n",
       "    .dataframe tbody tr th {\n",
       "        vertical-align: top;\n",
       "    }\n",
       "\n",
       "    .dataframe thead th {\n",
       "        text-align: right;\n",
       "    }\n",
       "</style>\n",
       "<table border=\"1\" class=\"dataframe\">\n",
       "  <thead>\n",
       "    <tr style=\"text-align: right;\">\n",
       "      <th></th>\n",
       "      <th>Test Size</th>\n",
       "      <th>Random State</th>\n",
       "      <th>Accuracy</th>\n",
       "      <th>Precision</th>\n",
       "      <th>Recall</th>\n",
       "      <th>F1 Score</th>\n",
       "      <th>Best Param</th>\n",
       "    </tr>\n",
       "  </thead>\n",
       "  <tbody>\n",
       "    <tr>\n",
       "      <th>0</th>\n",
       "      <td>0.5</td>\n",
       "      <td>7</td>\n",
       "      <td>0.986025</td>\n",
       "      <td>0.972245</td>\n",
       "      <td>0.986025</td>\n",
       "      <td>0.979086</td>\n",
       "      <td>{'criterion': 'gini', 'max_features': 'auto', ...</td>\n",
       "    </tr>\n",
       "    <tr>\n",
       "      <th>1</th>\n",
       "      <td>0.5</td>\n",
       "      <td>69</td>\n",
       "      <td>0.982919</td>\n",
       "      <td>0.972202</td>\n",
       "      <td>0.982919</td>\n",
       "      <td>0.977531</td>\n",
       "      <td>{'criterion': 'gini', 'max_features': 'auto', ...</td>\n",
       "    </tr>\n",
       "    <tr>\n",
       "      <th>2</th>\n",
       "      <td>0.5</td>\n",
       "      <td>101</td>\n",
       "      <td>0.979814</td>\n",
       "      <td>0.972159</td>\n",
       "      <td>0.979814</td>\n",
       "      <td>0.975971</td>\n",
       "      <td>{'criterion': 'gini', 'max_features': 'auto', ...</td>\n",
       "    </tr>\n",
       "    <tr>\n",
       "      <th>3</th>\n",
       "      <td>0.4</td>\n",
       "      <td>7</td>\n",
       "      <td>0.988350</td>\n",
       "      <td>0.976835</td>\n",
       "      <td>0.988350</td>\n",
       "      <td>0.982558</td>\n",
       "      <td>{'criterion': 'gini', 'max_features': 'auto', ...</td>\n",
       "    </tr>\n",
       "    <tr>\n",
       "      <th>4</th>\n",
       "      <td>0.4</td>\n",
       "      <td>69</td>\n",
       "      <td>0.980583</td>\n",
       "      <td>0.969114</td>\n",
       "      <td>0.980583</td>\n",
       "      <td>0.974814</td>\n",
       "      <td>{'criterion': 'gini', 'max_features': 'auto', ...</td>\n",
       "    </tr>\n",
       "    <tr>\n",
       "      <th>5</th>\n",
       "      <td>0.4</td>\n",
       "      <td>101</td>\n",
       "      <td>0.986408</td>\n",
       "      <td>0.973000</td>\n",
       "      <td>0.986408</td>\n",
       "      <td>0.979658</td>\n",
       "      <td>{'criterion': 'gini', 'max_features': 'auto', ...</td>\n",
       "    </tr>\n",
       "    <tr>\n",
       "      <th>6</th>\n",
       "      <td>0.3</td>\n",
       "      <td>7</td>\n",
       "      <td>0.987080</td>\n",
       "      <td>0.979408</td>\n",
       "      <td>0.987080</td>\n",
       "      <td>0.983229</td>\n",
       "      <td>{'criterion': 'gini', 'max_features': 'auto', ...</td>\n",
       "    </tr>\n",
       "    <tr>\n",
       "      <th>7</th>\n",
       "      <td>0.3</td>\n",
       "      <td>69</td>\n",
       "      <td>0.987080</td>\n",
       "      <td>0.974327</td>\n",
       "      <td>0.987080</td>\n",
       "      <td>0.980662</td>\n",
       "      <td>{'criterion': 'gini', 'max_features': 'auto', ...</td>\n",
       "    </tr>\n",
       "    <tr>\n",
       "      <th>8</th>\n",
       "      <td>0.3</td>\n",
       "      <td>101</td>\n",
       "      <td>0.987080</td>\n",
       "      <td>0.974327</td>\n",
       "      <td>0.987080</td>\n",
       "      <td>0.980662</td>\n",
       "      <td>{'criterion': 'gini', 'max_features': 'auto', ...</td>\n",
       "    </tr>\n",
       "    <tr>\n",
       "      <th>9</th>\n",
       "      <td>0.2</td>\n",
       "      <td>7</td>\n",
       "      <td>0.992248</td>\n",
       "      <td>0.984556</td>\n",
       "      <td>0.992248</td>\n",
       "      <td>0.988387</td>\n",
       "      <td>{'criterion': 'gini', 'max_features': 'auto', ...</td>\n",
       "    </tr>\n",
       "    <tr>\n",
       "      <th>10</th>\n",
       "      <td>0.2</td>\n",
       "      <td>69</td>\n",
       "      <td>0.984496</td>\n",
       "      <td>0.969233</td>\n",
       "      <td>0.984496</td>\n",
       "      <td>0.976805</td>\n",
       "      <td>{'criterion': 'gini', 'max_features': 'auto', ...</td>\n",
       "    </tr>\n",
       "    <tr>\n",
       "      <th>11</th>\n",
       "      <td>0.2</td>\n",
       "      <td>101</td>\n",
       "      <td>0.984496</td>\n",
       "      <td>0.969233</td>\n",
       "      <td>0.984496</td>\n",
       "      <td>0.976805</td>\n",
       "      <td>{'criterion': 'gini', 'max_features': 'auto', ...</td>\n",
       "    </tr>\n",
       "  </tbody>\n",
       "</table>\n",
       "</div>"
      ],
      "text/plain": [
       "    Test Size  Random State  Accuracy  Precision    Recall  F1 Score  \\\n",
       "0         0.5             7  0.986025   0.972245  0.986025  0.979086   \n",
       "1         0.5            69  0.982919   0.972202  0.982919  0.977531   \n",
       "2         0.5           101  0.979814   0.972159  0.979814  0.975971   \n",
       "3         0.4             7  0.988350   0.976835  0.988350  0.982558   \n",
       "4         0.4            69  0.980583   0.969114  0.980583  0.974814   \n",
       "5         0.4           101  0.986408   0.973000  0.986408  0.979658   \n",
       "6         0.3             7  0.987080   0.979408  0.987080  0.983229   \n",
       "7         0.3            69  0.987080   0.974327  0.987080  0.980662   \n",
       "8         0.3           101  0.987080   0.974327  0.987080  0.980662   \n",
       "9         0.2             7  0.992248   0.984556  0.992248  0.988387   \n",
       "10        0.2            69  0.984496   0.969233  0.984496  0.976805   \n",
       "11        0.2           101  0.984496   0.969233  0.984496  0.976805   \n",
       "\n",
       "                                           Best Param  \n",
       "0   {'criterion': 'gini', 'max_features': 'auto', ...  \n",
       "1   {'criterion': 'gini', 'max_features': 'auto', ...  \n",
       "2   {'criterion': 'gini', 'max_features': 'auto', ...  \n",
       "3   {'criterion': 'gini', 'max_features': 'auto', ...  \n",
       "4   {'criterion': 'gini', 'max_features': 'auto', ...  \n",
       "5   {'criterion': 'gini', 'max_features': 'auto', ...  \n",
       "6   {'criterion': 'gini', 'max_features': 'auto', ...  \n",
       "7   {'criterion': 'gini', 'max_features': 'auto', ...  \n",
       "8   {'criterion': 'gini', 'max_features': 'auto', ...  \n",
       "9   {'criterion': 'gini', 'max_features': 'auto', ...  \n",
       "10  {'criterion': 'gini', 'max_features': 'auto', ...  \n",
       "11  {'criterion': 'gini', 'max_features': 'auto', ...  "
      ]
     },
     "execution_count": 22,
     "metadata": {},
     "output_type": "execute_result"
    }
   ],
   "source": [
    "tempB_SOTME_imb = []\n",
    "\n",
    "y = merge_B_imb[['CGPA']]\n",
    "X = merge_B_imb[['Reason Study at Multimedia University', 'Lecture Class Capacity','Tutorial Class Capacity', \n",
    "                     'Classroom Facilities', 'Campus Environment']]\n",
    "\n",
    "print(\"X:\", X.shape,\"y:\", y.shape)\n",
    "\n",
    "for i in [0.5,0.4,0.3,0.2]:\n",
    "    for j in rand_states:\n",
    "        X_train, X_test, y_train, y_test = train_test_split(X, y, test_size=i, random_state=j)\n",
    "        param_grid = {'n_estimators': [100, 200, 300, 400],\n",
    "                      'max_features': ['auto', 'sqrt', 'log2'],\n",
    "                      'criterion' :['gini', 'entropy']}\n",
    "\n",
    "        model = GridSearchCV(RandomForestClassifier(), param_grid, refit=True, n_jobs=-1, cv=10, verbose=1)\n",
    "        model.fit(X_train, y_train)\n",
    "        pred = model.predict(X_test)\n",
    "\n",
    "        acc = accuracy_score(y_test,pred)\n",
    "        pre = precision_score(y_test, pred, average='weighted')\n",
    "        recall = recall_score(y_test, pred, average='weighted')\n",
    "        f1 = f1_score(y_test, pred, average='weighted')\n",
    "        param = model.best_params_\n",
    "    \n",
    "        tempB_SOTME_imb.append([i,j,acc,pre,recall,f1,param])\n",
    "        \n",
    "dfB_SOTME_imb = pd.DataFrame(columns=['Test Size','Random State','Accuracy','Precision','Recall','F1 Score','Best Param'],data=tempB_SOTME_imb)\n",
    "dfB_SOTME_imb"
   ]
  },
  {
   "cell_type": "code",
   "execution_count": 23,
   "id": "31776108-e5aa-454b-937c-3e189d249112",
   "metadata": {},
   "outputs": [
    {
     "data": {
      "text/html": [
       "<div>\n",
       "<style scoped>\n",
       "    .dataframe tbody tr th:only-of-type {\n",
       "        vertical-align: middle;\n",
       "    }\n",
       "\n",
       "    .dataframe tbody tr th {\n",
       "        vertical-align: top;\n",
       "    }\n",
       "\n",
       "    .dataframe thead th {\n",
       "        text-align: right;\n",
       "    }\n",
       "</style>\n",
       "<table border=\"1\" class=\"dataframe\">\n",
       "  <thead>\n",
       "    <tr style=\"text-align: right;\">\n",
       "      <th></th>\n",
       "      <th>Accuracy</th>\n",
       "      <th>Precision</th>\n",
       "      <th>Recall</th>\n",
       "      <th>F1 Score</th>\n",
       "    </tr>\n",
       "    <tr>\n",
       "      <th>Test Size</th>\n",
       "      <th></th>\n",
       "      <th></th>\n",
       "      <th></th>\n",
       "      <th></th>\n",
       "    </tr>\n",
       "  </thead>\n",
       "  <tbody>\n",
       "    <tr>\n",
       "      <th>0.2</th>\n",
       "      <td>0.987080</td>\n",
       "      <td>0.974340</td>\n",
       "      <td>0.987080</td>\n",
       "      <td>0.980666</td>\n",
       "    </tr>\n",
       "    <tr>\n",
       "      <th>0.3</th>\n",
       "      <td>0.987080</td>\n",
       "      <td>0.976021</td>\n",
       "      <td>0.987080</td>\n",
       "      <td>0.981518</td>\n",
       "    </tr>\n",
       "    <tr>\n",
       "      <th>0.4</th>\n",
       "      <td>0.985113</td>\n",
       "      <td>0.972983</td>\n",
       "      <td>0.985113</td>\n",
       "      <td>0.979010</td>\n",
       "    </tr>\n",
       "    <tr>\n",
       "      <th>0.5</th>\n",
       "      <td>0.982919</td>\n",
       "      <td>0.972202</td>\n",
       "      <td>0.982919</td>\n",
       "      <td>0.977530</td>\n",
       "    </tr>\n",
       "  </tbody>\n",
       "</table>\n",
       "</div>"
      ],
      "text/plain": [
       "           Accuracy  Precision    Recall  F1 Score\n",
       "Test Size                                         \n",
       "0.2        0.987080   0.974340  0.987080  0.980666\n",
       "0.3        0.987080   0.976021  0.987080  0.981518\n",
       "0.4        0.985113   0.972983  0.985113  0.979010\n",
       "0.5        0.982919   0.972202  0.982919  0.977530"
      ]
     },
     "execution_count": 23,
     "metadata": {},
     "output_type": "execute_result"
    }
   ],
   "source": [
    "dfB_SOTME_imb.groupby('Test Size')[['Accuracy','Precision','Recall','F1 Score']].mean()"
   ]
  },
  {
   "cell_type": "code",
   "execution_count": 24,
   "id": "871b02a6-c7c5-404d-9f53-4d6c2e732715",
   "metadata": {},
   "outputs": [
    {
     "name": "stdout",
     "output_type": "stream",
     "text": [
      "Imbalance Binary: Student Opinion Towards MMU Environment\n",
      "\n",
      "{'criterion': 'gini', 'max_features': 'auto', 'n_estimators': 100}\n",
      "{'criterion': 'gini', 'max_features': 'auto', 'n_estimators': 100}\n",
      "{'criterion': 'gini', 'max_features': 'auto', 'n_estimators': 100}\n",
      "{'criterion': 'gini', 'max_features': 'auto', 'n_estimators': 100}\n",
      "{'criterion': 'gini', 'max_features': 'auto', 'n_estimators': 100}\n",
      "{'criterion': 'gini', 'max_features': 'auto', 'n_estimators': 100}\n",
      "{'criterion': 'gini', 'max_features': 'auto', 'n_estimators': 100}\n",
      "{'criterion': 'gini', 'max_features': 'auto', 'n_estimators': 100}\n",
      "{'criterion': 'gini', 'max_features': 'auto', 'n_estimators': 200}\n",
      "{'criterion': 'gini', 'max_features': 'auto', 'n_estimators': 100}\n",
      "{'criterion': 'gini', 'max_features': 'auto', 'n_estimators': 100}\n",
      "{'criterion': 'gini', 'max_features': 'auto', 'n_estimators': 100}\n"
     ]
    }
   ],
   "source": [
    "print(\"Imbalance Binary: Student Opinion Towards MMU Environment\\n\")\n",
    "for x in dfB_SOTME_imb[\"Best Param\"]:\n",
    "    print(x)"
   ]
  },
  {
   "cell_type": "markdown",
   "id": "c24c200a-3b17-4b68-a404-bdaa7e009393",
   "metadata": {},
   "source": [
    "### SOTME after RandomOverSampler"
   ]
  },
  {
   "cell_type": "code",
   "execution_count": 25,
   "id": "b1a63797-b09e-4bd1-b67a-f4cbb6cf9ba4",
   "metadata": {},
   "outputs": [
    {
     "name": "stdout",
     "output_type": "stream",
     "text": [
      "X: (2540, 5) y: (2540, 1)\n",
      "Fitting 10 folds for each of 24 candidates, totalling 240 fits\n"
     ]
    },
    {
     "name": "stderr",
     "output_type": "stream",
     "text": [
      "C:\\Users\\hazel\\anaconda3\\Lib\\site-packages\\sklearn\\model_selection\\_search.py:909: DataConversionWarning: A column-vector y was passed when a 1d array was expected. Please change the shape of y to (n_samples,), for example using ravel().\n",
      "  self.best_estimator_.fit(X, y, **fit_params)\n",
      "C:\\Users\\hazel\\anaconda3\\Lib\\site-packages\\sklearn\\ensemble\\_forest.py:424: FutureWarning: `max_features='auto'` has been deprecated in 1.1 and will be removed in 1.3. To keep the past behaviour, explicitly set `max_features='sqrt'` or remove this parameter as it is also the default value for RandomForestClassifiers and ExtraTreesClassifiers.\n",
      "  warn(\n"
     ]
    },
    {
     "name": "stdout",
     "output_type": "stream",
     "text": [
      "Fitting 10 folds for each of 24 candidates, totalling 240 fits\n"
     ]
    },
    {
     "name": "stderr",
     "output_type": "stream",
     "text": [
      "C:\\Users\\hazel\\anaconda3\\Lib\\site-packages\\sklearn\\model_selection\\_search.py:909: DataConversionWarning: A column-vector y was passed when a 1d array was expected. Please change the shape of y to (n_samples,), for example using ravel().\n",
      "  self.best_estimator_.fit(X, y, **fit_params)\n",
      "C:\\Users\\hazel\\anaconda3\\Lib\\site-packages\\sklearn\\ensemble\\_forest.py:424: FutureWarning: `max_features='auto'` has been deprecated in 1.1 and will be removed in 1.3. To keep the past behaviour, explicitly set `max_features='sqrt'` or remove this parameter as it is also the default value for RandomForestClassifiers and ExtraTreesClassifiers.\n",
      "  warn(\n"
     ]
    },
    {
     "name": "stdout",
     "output_type": "stream",
     "text": [
      "Fitting 10 folds for each of 24 candidates, totalling 240 fits\n"
     ]
    },
    {
     "name": "stderr",
     "output_type": "stream",
     "text": [
      "C:\\Users\\hazel\\anaconda3\\Lib\\site-packages\\sklearn\\model_selection\\_search.py:909: DataConversionWarning: A column-vector y was passed when a 1d array was expected. Please change the shape of y to (n_samples,), for example using ravel().\n",
      "  self.best_estimator_.fit(X, y, **fit_params)\n",
      "C:\\Users\\hazel\\anaconda3\\Lib\\site-packages\\sklearn\\ensemble\\_forest.py:424: FutureWarning: `max_features='auto'` has been deprecated in 1.1 and will be removed in 1.3. To keep the past behaviour, explicitly set `max_features='sqrt'` or remove this parameter as it is also the default value for RandomForestClassifiers and ExtraTreesClassifiers.\n",
      "  warn(\n"
     ]
    },
    {
     "name": "stdout",
     "output_type": "stream",
     "text": [
      "Fitting 10 folds for each of 24 candidates, totalling 240 fits\n"
     ]
    },
    {
     "name": "stderr",
     "output_type": "stream",
     "text": [
      "C:\\Users\\hazel\\anaconda3\\Lib\\site-packages\\sklearn\\model_selection\\_search.py:909: DataConversionWarning: A column-vector y was passed when a 1d array was expected. Please change the shape of y to (n_samples,), for example using ravel().\n",
      "  self.best_estimator_.fit(X, y, **fit_params)\n"
     ]
    },
    {
     "name": "stdout",
     "output_type": "stream",
     "text": [
      "Fitting 10 folds for each of 24 candidates, totalling 240 fits\n"
     ]
    },
    {
     "name": "stderr",
     "output_type": "stream",
     "text": [
      "C:\\Users\\hazel\\anaconda3\\Lib\\site-packages\\sklearn\\model_selection\\_search.py:909: DataConversionWarning: A column-vector y was passed when a 1d array was expected. Please change the shape of y to (n_samples,), for example using ravel().\n",
      "  self.best_estimator_.fit(X, y, **fit_params)\n",
      "C:\\Users\\hazel\\anaconda3\\Lib\\site-packages\\sklearn\\ensemble\\_forest.py:424: FutureWarning: `max_features='auto'` has been deprecated in 1.1 and will be removed in 1.3. To keep the past behaviour, explicitly set `max_features='sqrt'` or remove this parameter as it is also the default value for RandomForestClassifiers and ExtraTreesClassifiers.\n",
      "  warn(\n"
     ]
    },
    {
     "name": "stdout",
     "output_type": "stream",
     "text": [
      "Fitting 10 folds for each of 24 candidates, totalling 240 fits\n"
     ]
    },
    {
     "name": "stderr",
     "output_type": "stream",
     "text": [
      "C:\\Users\\hazel\\anaconda3\\Lib\\site-packages\\sklearn\\model_selection\\_search.py:909: DataConversionWarning: A column-vector y was passed when a 1d array was expected. Please change the shape of y to (n_samples,), for example using ravel().\n",
      "  self.best_estimator_.fit(X, y, **fit_params)\n",
      "C:\\Users\\hazel\\anaconda3\\Lib\\site-packages\\sklearn\\ensemble\\_forest.py:424: FutureWarning: `max_features='auto'` has been deprecated in 1.1 and will be removed in 1.3. To keep the past behaviour, explicitly set `max_features='sqrt'` or remove this parameter as it is also the default value for RandomForestClassifiers and ExtraTreesClassifiers.\n",
      "  warn(\n"
     ]
    },
    {
     "name": "stdout",
     "output_type": "stream",
     "text": [
      "Fitting 10 folds for each of 24 candidates, totalling 240 fits\n"
     ]
    },
    {
     "name": "stderr",
     "output_type": "stream",
     "text": [
      "C:\\Users\\hazel\\anaconda3\\Lib\\site-packages\\sklearn\\model_selection\\_search.py:909: DataConversionWarning: A column-vector y was passed when a 1d array was expected. Please change the shape of y to (n_samples,), for example using ravel().\n",
      "  self.best_estimator_.fit(X, y, **fit_params)\n",
      "C:\\Users\\hazel\\anaconda3\\Lib\\site-packages\\sklearn\\ensemble\\_forest.py:424: FutureWarning: `max_features='auto'` has been deprecated in 1.1 and will be removed in 1.3. To keep the past behaviour, explicitly set `max_features='sqrt'` or remove this parameter as it is also the default value for RandomForestClassifiers and ExtraTreesClassifiers.\n",
      "  warn(\n"
     ]
    },
    {
     "name": "stdout",
     "output_type": "stream",
     "text": [
      "Fitting 10 folds for each of 24 candidates, totalling 240 fits\n"
     ]
    },
    {
     "name": "stderr",
     "output_type": "stream",
     "text": [
      "C:\\Users\\hazel\\anaconda3\\Lib\\site-packages\\sklearn\\model_selection\\_search.py:909: DataConversionWarning: A column-vector y was passed when a 1d array was expected. Please change the shape of y to (n_samples,), for example using ravel().\n",
      "  self.best_estimator_.fit(X, y, **fit_params)\n",
      "C:\\Users\\hazel\\anaconda3\\Lib\\site-packages\\sklearn\\ensemble\\_forest.py:424: FutureWarning: `max_features='auto'` has been deprecated in 1.1 and will be removed in 1.3. To keep the past behaviour, explicitly set `max_features='sqrt'` or remove this parameter as it is also the default value for RandomForestClassifiers and ExtraTreesClassifiers.\n",
      "  warn(\n"
     ]
    },
    {
     "name": "stdout",
     "output_type": "stream",
     "text": [
      "Fitting 10 folds for each of 24 candidates, totalling 240 fits\n"
     ]
    },
    {
     "name": "stderr",
     "output_type": "stream",
     "text": [
      "C:\\Users\\hazel\\anaconda3\\Lib\\site-packages\\sklearn\\model_selection\\_search.py:909: DataConversionWarning: A column-vector y was passed when a 1d array was expected. Please change the shape of y to (n_samples,), for example using ravel().\n",
      "  self.best_estimator_.fit(X, y, **fit_params)\n",
      "C:\\Users\\hazel\\anaconda3\\Lib\\site-packages\\sklearn\\ensemble\\_forest.py:424: FutureWarning: `max_features='auto'` has been deprecated in 1.1 and will be removed in 1.3. To keep the past behaviour, explicitly set `max_features='sqrt'` or remove this parameter as it is also the default value for RandomForestClassifiers and ExtraTreesClassifiers.\n",
      "  warn(\n"
     ]
    },
    {
     "name": "stdout",
     "output_type": "stream",
     "text": [
      "Fitting 10 folds for each of 24 candidates, totalling 240 fits\n"
     ]
    },
    {
     "name": "stderr",
     "output_type": "stream",
     "text": [
      "C:\\Users\\hazel\\anaconda3\\Lib\\site-packages\\sklearn\\model_selection\\_search.py:909: DataConversionWarning: A column-vector y was passed when a 1d array was expected. Please change the shape of y to (n_samples,), for example using ravel().\n",
      "  self.best_estimator_.fit(X, y, **fit_params)\n",
      "C:\\Users\\hazel\\anaconda3\\Lib\\site-packages\\sklearn\\ensemble\\_forest.py:424: FutureWarning: `max_features='auto'` has been deprecated in 1.1 and will be removed in 1.3. To keep the past behaviour, explicitly set `max_features='sqrt'` or remove this parameter as it is also the default value for RandomForestClassifiers and ExtraTreesClassifiers.\n",
      "  warn(\n"
     ]
    },
    {
     "name": "stdout",
     "output_type": "stream",
     "text": [
      "Fitting 10 folds for each of 24 candidates, totalling 240 fits\n"
     ]
    },
    {
     "name": "stderr",
     "output_type": "stream",
     "text": [
      "C:\\Users\\hazel\\anaconda3\\Lib\\site-packages\\sklearn\\model_selection\\_search.py:909: DataConversionWarning: A column-vector y was passed when a 1d array was expected. Please change the shape of y to (n_samples,), for example using ravel().\n",
      "  self.best_estimator_.fit(X, y, **fit_params)\n"
     ]
    },
    {
     "name": "stdout",
     "output_type": "stream",
     "text": [
      "Fitting 10 folds for each of 24 candidates, totalling 240 fits\n"
     ]
    },
    {
     "name": "stderr",
     "output_type": "stream",
     "text": [
      "C:\\Users\\hazel\\anaconda3\\Lib\\site-packages\\sklearn\\model_selection\\_search.py:909: DataConversionWarning: A column-vector y was passed when a 1d array was expected. Please change the shape of y to (n_samples,), for example using ravel().\n",
      "  self.best_estimator_.fit(X, y, **fit_params)\n"
     ]
    },
    {
     "data": {
      "text/html": [
       "<div>\n",
       "<style scoped>\n",
       "    .dataframe tbody tr th:only-of-type {\n",
       "        vertical-align: middle;\n",
       "    }\n",
       "\n",
       "    .dataframe tbody tr th {\n",
       "        vertical-align: top;\n",
       "    }\n",
       "\n",
       "    .dataframe thead th {\n",
       "        text-align: right;\n",
       "    }\n",
       "</style>\n",
       "<table border=\"1\" class=\"dataframe\">\n",
       "  <thead>\n",
       "    <tr style=\"text-align: right;\">\n",
       "      <th></th>\n",
       "      <th>Test Size</th>\n",
       "      <th>Random State</th>\n",
       "      <th>Accuracy</th>\n",
       "      <th>Precision</th>\n",
       "      <th>Recall</th>\n",
       "      <th>F1 Score</th>\n",
       "      <th>Best Param</th>\n",
       "    </tr>\n",
       "  </thead>\n",
       "  <tbody>\n",
       "    <tr>\n",
       "      <th>0</th>\n",
       "      <td>0.5</td>\n",
       "      <td>7</td>\n",
       "      <td>0.929134</td>\n",
       "      <td>0.937776</td>\n",
       "      <td>0.929134</td>\n",
       "      <td>0.928671</td>\n",
       "      <td>{'criterion': 'gini', 'max_features': 'auto', ...</td>\n",
       "    </tr>\n",
       "    <tr>\n",
       "      <th>1</th>\n",
       "      <td>0.5</td>\n",
       "      <td>69</td>\n",
       "      <td>0.918898</td>\n",
       "      <td>0.930436</td>\n",
       "      <td>0.918898</td>\n",
       "      <td>0.918508</td>\n",
       "      <td>{'criterion': 'gini', 'max_features': 'auto', ...</td>\n",
       "    </tr>\n",
       "    <tr>\n",
       "      <th>2</th>\n",
       "      <td>0.5</td>\n",
       "      <td>101</td>\n",
       "      <td>0.929921</td>\n",
       "      <td>0.938731</td>\n",
       "      <td>0.929921</td>\n",
       "      <td>0.929700</td>\n",
       "      <td>{'criterion': 'gini', 'max_features': 'auto', ...</td>\n",
       "    </tr>\n",
       "    <tr>\n",
       "      <th>3</th>\n",
       "      <td>0.4</td>\n",
       "      <td>7</td>\n",
       "      <td>0.933071</td>\n",
       "      <td>0.940811</td>\n",
       "      <td>0.933071</td>\n",
       "      <td>0.932662</td>\n",
       "      <td>{'criterion': 'entropy', 'max_features': 'log2...</td>\n",
       "    </tr>\n",
       "    <tr>\n",
       "      <th>4</th>\n",
       "      <td>0.4</td>\n",
       "      <td>69</td>\n",
       "      <td>0.911417</td>\n",
       "      <td>0.924953</td>\n",
       "      <td>0.911417</td>\n",
       "      <td>0.910858</td>\n",
       "      <td>{'criterion': 'gini', 'max_features': 'auto', ...</td>\n",
       "    </tr>\n",
       "    <tr>\n",
       "      <th>5</th>\n",
       "      <td>0.4</td>\n",
       "      <td>101</td>\n",
       "      <td>0.928150</td>\n",
       "      <td>0.937384</td>\n",
       "      <td>0.928150</td>\n",
       "      <td>0.927910</td>\n",
       "      <td>{'criterion': 'gini', 'max_features': 'auto', ...</td>\n",
       "    </tr>\n",
       "    <tr>\n",
       "      <th>6</th>\n",
       "      <td>0.3</td>\n",
       "      <td>7</td>\n",
       "      <td>0.935696</td>\n",
       "      <td>0.942824</td>\n",
       "      <td>0.935696</td>\n",
       "      <td>0.935296</td>\n",
       "      <td>{'criterion': 'gini', 'max_features': 'auto', ...</td>\n",
       "    </tr>\n",
       "    <tr>\n",
       "      <th>7</th>\n",
       "      <td>0.3</td>\n",
       "      <td>69</td>\n",
       "      <td>0.906824</td>\n",
       "      <td>0.921859</td>\n",
       "      <td>0.906824</td>\n",
       "      <td>0.906287</td>\n",
       "      <td>{'criterion': 'entropy', 'max_features': 'auto...</td>\n",
       "    </tr>\n",
       "    <tr>\n",
       "      <th>8</th>\n",
       "      <td>0.3</td>\n",
       "      <td>101</td>\n",
       "      <td>0.931759</td>\n",
       "      <td>0.940148</td>\n",
       "      <td>0.931759</td>\n",
       "      <td>0.931563</td>\n",
       "      <td>{'criterion': 'gini', 'max_features': 'auto', ...</td>\n",
       "    </tr>\n",
       "    <tr>\n",
       "      <th>9</th>\n",
       "      <td>0.2</td>\n",
       "      <td>7</td>\n",
       "      <td>0.940945</td>\n",
       "      <td>0.946773</td>\n",
       "      <td>0.940945</td>\n",
       "      <td>0.940455</td>\n",
       "      <td>{'criterion': 'gini', 'max_features': 'auto', ...</td>\n",
       "    </tr>\n",
       "    <tr>\n",
       "      <th>10</th>\n",
       "      <td>0.2</td>\n",
       "      <td>69</td>\n",
       "      <td>0.903543</td>\n",
       "      <td>0.919511</td>\n",
       "      <td>0.903543</td>\n",
       "      <td>0.902899</td>\n",
       "      <td>{'criterion': 'gini', 'max_features': 'sqrt', ...</td>\n",
       "    </tr>\n",
       "    <tr>\n",
       "      <th>11</th>\n",
       "      <td>0.2</td>\n",
       "      <td>101</td>\n",
       "      <td>0.931102</td>\n",
       "      <td>0.939808</td>\n",
       "      <td>0.931102</td>\n",
       "      <td>0.931000</td>\n",
       "      <td>{'criterion': 'gini', 'max_features': 'sqrt', ...</td>\n",
       "    </tr>\n",
       "  </tbody>\n",
       "</table>\n",
       "</div>"
      ],
      "text/plain": [
       "    Test Size  Random State  Accuracy  Precision    Recall  F1 Score  \\\n",
       "0         0.5             7  0.929134   0.937776  0.929134  0.928671   \n",
       "1         0.5            69  0.918898   0.930436  0.918898  0.918508   \n",
       "2         0.5           101  0.929921   0.938731  0.929921  0.929700   \n",
       "3         0.4             7  0.933071   0.940811  0.933071  0.932662   \n",
       "4         0.4            69  0.911417   0.924953  0.911417  0.910858   \n",
       "5         0.4           101  0.928150   0.937384  0.928150  0.927910   \n",
       "6         0.3             7  0.935696   0.942824  0.935696  0.935296   \n",
       "7         0.3            69  0.906824   0.921859  0.906824  0.906287   \n",
       "8         0.3           101  0.931759   0.940148  0.931759  0.931563   \n",
       "9         0.2             7  0.940945   0.946773  0.940945  0.940455   \n",
       "10        0.2            69  0.903543   0.919511  0.903543  0.902899   \n",
       "11        0.2           101  0.931102   0.939808  0.931102  0.931000   \n",
       "\n",
       "                                           Best Param  \n",
       "0   {'criterion': 'gini', 'max_features': 'auto', ...  \n",
       "1   {'criterion': 'gini', 'max_features': 'auto', ...  \n",
       "2   {'criterion': 'gini', 'max_features': 'auto', ...  \n",
       "3   {'criterion': 'entropy', 'max_features': 'log2...  \n",
       "4   {'criterion': 'gini', 'max_features': 'auto', ...  \n",
       "5   {'criterion': 'gini', 'max_features': 'auto', ...  \n",
       "6   {'criterion': 'gini', 'max_features': 'auto', ...  \n",
       "7   {'criterion': 'entropy', 'max_features': 'auto...  \n",
       "8   {'criterion': 'gini', 'max_features': 'auto', ...  \n",
       "9   {'criterion': 'gini', 'max_features': 'auto', ...  \n",
       "10  {'criterion': 'gini', 'max_features': 'sqrt', ...  \n",
       "11  {'criterion': 'gini', 'max_features': 'sqrt', ...  "
      ]
     },
     "execution_count": 25,
     "metadata": {},
     "output_type": "execute_result"
    }
   ],
   "source": [
    "tempB_SOTME_ROS = []\n",
    "\n",
    "y = merge_B_ROS[['CGPA']]\n",
    "X = merge_B_ROS[['Reason Study at Multimedia University', 'Lecture Class Capacity','Tutorial Class Capacity', \n",
    "                     'Classroom Facilities', 'Campus Environment']]\n",
    "\n",
    "print(\"X:\", X.shape,\"y:\", y.shape)\n",
    "\n",
    "for i in [0.5,0.4,0.3,0.2]:\n",
    "    for j in rand_states:\n",
    "        X_train, X_test, y_train, y_test = train_test_split(X, y, test_size=i, random_state=j)\n",
    "        param_grid = {'n_estimators': [100, 200, 300, 400],\n",
    "                      'max_features': ['auto', 'sqrt', 'log2'],\n",
    "                      'criterion' :['gini', 'entropy']}\n",
    "\n",
    "        model = GridSearchCV(RandomForestClassifier(), param_grid, refit=True, n_jobs=-1, cv=10, verbose=1)\n",
    "        model.fit(X_train, y_train)\n",
    "        pred = model.predict(X_test)\n",
    "\n",
    "        acc = accuracy_score(y_test,pred)\n",
    "        pre = precision_score(y_test, pred, average='weighted')\n",
    "        recall = recall_score(y_test, pred, average='weighted')\n",
    "        f1 = f1_score(y_test, pred, average='weighted')\n",
    "        param = model.best_params_\n",
    "    \n",
    "        tempB_SOTME_ROS.append([i,j,acc,pre,recall,f1,param])\n",
    "        \n",
    "dfB_SOTME_ROS = pd.DataFrame(columns=['Test Size','Random State','Accuracy','Precision','Recall','F1 Score','Best Param'],data=tempB_SOTME_ROS)\n",
    "dfB_SOTME_ROS"
   ]
  },
  {
   "cell_type": "code",
   "execution_count": 26,
   "id": "afd2021c-b2ec-438b-a100-9c8d4e2e562c",
   "metadata": {},
   "outputs": [
    {
     "data": {
      "text/html": [
       "<div>\n",
       "<style scoped>\n",
       "    .dataframe tbody tr th:only-of-type {\n",
       "        vertical-align: middle;\n",
       "    }\n",
       "\n",
       "    .dataframe tbody tr th {\n",
       "        vertical-align: top;\n",
       "    }\n",
       "\n",
       "    .dataframe thead th {\n",
       "        text-align: right;\n",
       "    }\n",
       "</style>\n",
       "<table border=\"1\" class=\"dataframe\">\n",
       "  <thead>\n",
       "    <tr style=\"text-align: right;\">\n",
       "      <th></th>\n",
       "      <th>Accuracy</th>\n",
       "      <th>Precision</th>\n",
       "      <th>Recall</th>\n",
       "      <th>F1 Score</th>\n",
       "    </tr>\n",
       "    <tr>\n",
       "      <th>Test Size</th>\n",
       "      <th></th>\n",
       "      <th></th>\n",
       "      <th></th>\n",
       "      <th></th>\n",
       "    </tr>\n",
       "  </thead>\n",
       "  <tbody>\n",
       "    <tr>\n",
       "      <th>0.2</th>\n",
       "      <td>0.925197</td>\n",
       "      <td>0.935364</td>\n",
       "      <td>0.925197</td>\n",
       "      <td>0.924785</td>\n",
       "    </tr>\n",
       "    <tr>\n",
       "      <th>0.3</th>\n",
       "      <td>0.924759</td>\n",
       "      <td>0.934944</td>\n",
       "      <td>0.924759</td>\n",
       "      <td>0.924382</td>\n",
       "    </tr>\n",
       "    <tr>\n",
       "      <th>0.4</th>\n",
       "      <td>0.924213</td>\n",
       "      <td>0.934383</td>\n",
       "      <td>0.924213</td>\n",
       "      <td>0.923810</td>\n",
       "    </tr>\n",
       "    <tr>\n",
       "      <th>0.5</th>\n",
       "      <td>0.925984</td>\n",
       "      <td>0.935647</td>\n",
       "      <td>0.925984</td>\n",
       "      <td>0.925627</td>\n",
       "    </tr>\n",
       "  </tbody>\n",
       "</table>\n",
       "</div>"
      ],
      "text/plain": [
       "           Accuracy  Precision    Recall  F1 Score\n",
       "Test Size                                         \n",
       "0.2        0.925197   0.935364  0.925197  0.924785\n",
       "0.3        0.924759   0.934944  0.924759  0.924382\n",
       "0.4        0.924213   0.934383  0.924213  0.923810\n",
       "0.5        0.925984   0.935647  0.925984  0.925627"
      ]
     },
     "execution_count": 26,
     "metadata": {},
     "output_type": "execute_result"
    }
   ],
   "source": [
    "dfB_SOTME_ROS.groupby('Test Size')[['Accuracy','Precision','Recall','F1 Score']].mean()"
   ]
  },
  {
   "cell_type": "code",
   "execution_count": 27,
   "id": "05949526-b2cb-408a-8aa3-112463157750",
   "metadata": {},
   "outputs": [
    {
     "name": "stdout",
     "output_type": "stream",
     "text": [
      "Binary: Student Opinion Towards MMU Environment\n",
      "\n",
      "{'criterion': 'gini', 'max_features': 'auto', 'n_estimators': 300}\n",
      "{'criterion': 'gini', 'max_features': 'auto', 'n_estimators': 400}\n",
      "{'criterion': 'gini', 'max_features': 'auto', 'n_estimators': 200}\n",
      "{'criterion': 'entropy', 'max_features': 'log2', 'n_estimators': 300}\n",
      "{'criterion': 'gini', 'max_features': 'auto', 'n_estimators': 300}\n",
      "{'criterion': 'gini', 'max_features': 'auto', 'n_estimators': 100}\n",
      "{'criterion': 'gini', 'max_features': 'auto', 'n_estimators': 200}\n",
      "{'criterion': 'entropy', 'max_features': 'auto', 'n_estimators': 100}\n",
      "{'criterion': 'gini', 'max_features': 'auto', 'n_estimators': 200}\n",
      "{'criterion': 'gini', 'max_features': 'auto', 'n_estimators': 100}\n",
      "{'criterion': 'gini', 'max_features': 'sqrt', 'n_estimators': 100}\n",
      "{'criterion': 'gini', 'max_features': 'sqrt', 'n_estimators': 200}\n"
     ]
    }
   ],
   "source": [
    "print(\"Binary: Student Opinion Towards MMU Environment\\n\")\n",
    "for x in dfB_SOTME_ROS[\"Best Param\"]:\n",
    "    print(x)"
   ]
  },
  {
   "cell_type": "markdown",
   "id": "45de91df-8697-43de-a045-e111ff77900d",
   "metadata": {},
   "source": [
    "### SOTME after SMOTE"
   ]
  },
  {
   "cell_type": "code",
   "execution_count": 28,
   "id": "02ded81f-2459-43d2-8960-eadd36037c23",
   "metadata": {},
   "outputs": [
    {
     "name": "stdout",
     "output_type": "stream",
     "text": [
      "X: (2540, 5) y: (2540, 1)\n",
      "Fitting 10 folds for each of 24 candidates, totalling 240 fits\n"
     ]
    },
    {
     "name": "stderr",
     "output_type": "stream",
     "text": [
      "C:\\Users\\hazel\\anaconda3\\Lib\\site-packages\\sklearn\\model_selection\\_search.py:909: DataConversionWarning: A column-vector y was passed when a 1d array was expected. Please change the shape of y to (n_samples,), for example using ravel().\n",
      "  self.best_estimator_.fit(X, y, **fit_params)\n",
      "C:\\Users\\hazel\\anaconda3\\Lib\\site-packages\\sklearn\\ensemble\\_forest.py:424: FutureWarning: `max_features='auto'` has been deprecated in 1.1 and will be removed in 1.3. To keep the past behaviour, explicitly set `max_features='sqrt'` or remove this parameter as it is also the default value for RandomForestClassifiers and ExtraTreesClassifiers.\n",
      "  warn(\n"
     ]
    },
    {
     "name": "stdout",
     "output_type": "stream",
     "text": [
      "Fitting 10 folds for each of 24 candidates, totalling 240 fits\n"
     ]
    },
    {
     "name": "stderr",
     "output_type": "stream",
     "text": [
      "C:\\Users\\hazel\\anaconda3\\Lib\\site-packages\\sklearn\\model_selection\\_search.py:909: DataConversionWarning: A column-vector y was passed when a 1d array was expected. Please change the shape of y to (n_samples,), for example using ravel().\n",
      "  self.best_estimator_.fit(X, y, **fit_params)\n",
      "C:\\Users\\hazel\\anaconda3\\Lib\\site-packages\\sklearn\\ensemble\\_forest.py:424: FutureWarning: `max_features='auto'` has been deprecated in 1.1 and will be removed in 1.3. To keep the past behaviour, explicitly set `max_features='sqrt'` or remove this parameter as it is also the default value for RandomForestClassifiers and ExtraTreesClassifiers.\n",
      "  warn(\n"
     ]
    },
    {
     "name": "stdout",
     "output_type": "stream",
     "text": [
      "Fitting 10 folds for each of 24 candidates, totalling 240 fits\n"
     ]
    },
    {
     "name": "stderr",
     "output_type": "stream",
     "text": [
      "C:\\Users\\hazel\\anaconda3\\Lib\\site-packages\\sklearn\\model_selection\\_search.py:909: DataConversionWarning: A column-vector y was passed when a 1d array was expected. Please change the shape of y to (n_samples,), for example using ravel().\n",
      "  self.best_estimator_.fit(X, y, **fit_params)\n"
     ]
    },
    {
     "name": "stdout",
     "output_type": "stream",
     "text": [
      "Fitting 10 folds for each of 24 candidates, totalling 240 fits\n"
     ]
    },
    {
     "name": "stderr",
     "output_type": "stream",
     "text": [
      "C:\\Users\\hazel\\anaconda3\\Lib\\site-packages\\sklearn\\model_selection\\_search.py:909: DataConversionWarning: A column-vector y was passed when a 1d array was expected. Please change the shape of y to (n_samples,), for example using ravel().\n",
      "  self.best_estimator_.fit(X, y, **fit_params)\n"
     ]
    },
    {
     "name": "stdout",
     "output_type": "stream",
     "text": [
      "Fitting 10 folds for each of 24 candidates, totalling 240 fits\n"
     ]
    },
    {
     "name": "stderr",
     "output_type": "stream",
     "text": [
      "C:\\Users\\hazel\\anaconda3\\Lib\\site-packages\\sklearn\\model_selection\\_search.py:909: DataConversionWarning: A column-vector y was passed when a 1d array was expected. Please change the shape of y to (n_samples,), for example using ravel().\n",
      "  self.best_estimator_.fit(X, y, **fit_params)\n"
     ]
    },
    {
     "name": "stdout",
     "output_type": "stream",
     "text": [
      "Fitting 10 folds for each of 24 candidates, totalling 240 fits\n"
     ]
    },
    {
     "name": "stderr",
     "output_type": "stream",
     "text": [
      "C:\\Users\\hazel\\anaconda3\\Lib\\site-packages\\sklearn\\model_selection\\_search.py:909: DataConversionWarning: A column-vector y was passed when a 1d array was expected. Please change the shape of y to (n_samples,), for example using ravel().\n",
      "  self.best_estimator_.fit(X, y, **fit_params)\n"
     ]
    },
    {
     "name": "stdout",
     "output_type": "stream",
     "text": [
      "Fitting 10 folds for each of 24 candidates, totalling 240 fits\n"
     ]
    },
    {
     "name": "stderr",
     "output_type": "stream",
     "text": [
      "C:\\Users\\hazel\\anaconda3\\Lib\\site-packages\\sklearn\\model_selection\\_search.py:909: DataConversionWarning: A column-vector y was passed when a 1d array was expected. Please change the shape of y to (n_samples,), for example using ravel().\n",
      "  self.best_estimator_.fit(X, y, **fit_params)\n"
     ]
    },
    {
     "name": "stdout",
     "output_type": "stream",
     "text": [
      "Fitting 10 folds for each of 24 candidates, totalling 240 fits\n"
     ]
    },
    {
     "name": "stderr",
     "output_type": "stream",
     "text": [
      "C:\\Users\\hazel\\anaconda3\\Lib\\site-packages\\sklearn\\model_selection\\_search.py:909: DataConversionWarning: A column-vector y was passed when a 1d array was expected. Please change the shape of y to (n_samples,), for example using ravel().\n",
      "  self.best_estimator_.fit(X, y, **fit_params)\n"
     ]
    },
    {
     "name": "stdout",
     "output_type": "stream",
     "text": [
      "Fitting 10 folds for each of 24 candidates, totalling 240 fits\n"
     ]
    },
    {
     "name": "stderr",
     "output_type": "stream",
     "text": [
      "C:\\Users\\hazel\\anaconda3\\Lib\\site-packages\\sklearn\\model_selection\\_search.py:909: DataConversionWarning: A column-vector y was passed when a 1d array was expected. Please change the shape of y to (n_samples,), for example using ravel().\n",
      "  self.best_estimator_.fit(X, y, **fit_params)\n",
      "C:\\Users\\hazel\\anaconda3\\Lib\\site-packages\\sklearn\\ensemble\\_forest.py:424: FutureWarning: `max_features='auto'` has been deprecated in 1.1 and will be removed in 1.3. To keep the past behaviour, explicitly set `max_features='sqrt'` or remove this parameter as it is also the default value for RandomForestClassifiers and ExtraTreesClassifiers.\n",
      "  warn(\n"
     ]
    },
    {
     "name": "stdout",
     "output_type": "stream",
     "text": [
      "Fitting 10 folds for each of 24 candidates, totalling 240 fits\n"
     ]
    },
    {
     "name": "stderr",
     "output_type": "stream",
     "text": [
      "C:\\Users\\hazel\\anaconda3\\Lib\\site-packages\\sklearn\\model_selection\\_search.py:909: DataConversionWarning: A column-vector y was passed when a 1d array was expected. Please change the shape of y to (n_samples,), for example using ravel().\n",
      "  self.best_estimator_.fit(X, y, **fit_params)\n",
      "C:\\Users\\hazel\\anaconda3\\Lib\\site-packages\\sklearn\\ensemble\\_forest.py:424: FutureWarning: `max_features='auto'` has been deprecated in 1.1 and will be removed in 1.3. To keep the past behaviour, explicitly set `max_features='sqrt'` or remove this parameter as it is also the default value for RandomForestClassifiers and ExtraTreesClassifiers.\n",
      "  warn(\n"
     ]
    },
    {
     "name": "stdout",
     "output_type": "stream",
     "text": [
      "Fitting 10 folds for each of 24 candidates, totalling 240 fits\n"
     ]
    },
    {
     "name": "stderr",
     "output_type": "stream",
     "text": [
      "C:\\Users\\hazel\\anaconda3\\Lib\\site-packages\\sklearn\\model_selection\\_search.py:909: DataConversionWarning: A column-vector y was passed when a 1d array was expected. Please change the shape of y to (n_samples,), for example using ravel().\n",
      "  self.best_estimator_.fit(X, y, **fit_params)\n"
     ]
    },
    {
     "name": "stdout",
     "output_type": "stream",
     "text": [
      "Fitting 10 folds for each of 24 candidates, totalling 240 fits\n"
     ]
    },
    {
     "name": "stderr",
     "output_type": "stream",
     "text": [
      "C:\\Users\\hazel\\anaconda3\\Lib\\site-packages\\sklearn\\model_selection\\_search.py:909: DataConversionWarning: A column-vector y was passed when a 1d array was expected. Please change the shape of y to (n_samples,), for example using ravel().\n",
      "  self.best_estimator_.fit(X, y, **fit_params)\n"
     ]
    },
    {
     "data": {
      "text/html": [
       "<div>\n",
       "<style scoped>\n",
       "    .dataframe tbody tr th:only-of-type {\n",
       "        vertical-align: middle;\n",
       "    }\n",
       "\n",
       "    .dataframe tbody tr th {\n",
       "        vertical-align: top;\n",
       "    }\n",
       "\n",
       "    .dataframe thead th {\n",
       "        text-align: right;\n",
       "    }\n",
       "</style>\n",
       "<table border=\"1\" class=\"dataframe\">\n",
       "  <thead>\n",
       "    <tr style=\"text-align: right;\">\n",
       "      <th></th>\n",
       "      <th>Test Size</th>\n",
       "      <th>Random State</th>\n",
       "      <th>Accuracy</th>\n",
       "      <th>Precision</th>\n",
       "      <th>Recall</th>\n",
       "      <th>F1 Score</th>\n",
       "      <th>Best Param</th>\n",
       "    </tr>\n",
       "  </thead>\n",
       "  <tbody>\n",
       "    <tr>\n",
       "      <th>0</th>\n",
       "      <td>0.5</td>\n",
       "      <td>7</td>\n",
       "      <td>0.884252</td>\n",
       "      <td>0.884411</td>\n",
       "      <td>0.884252</td>\n",
       "      <td>0.884208</td>\n",
       "      <td>{'criterion': 'gini', 'max_features': 'auto', ...</td>\n",
       "    </tr>\n",
       "    <tr>\n",
       "      <th>1</th>\n",
       "      <td>0.5</td>\n",
       "      <td>69</td>\n",
       "      <td>0.885039</td>\n",
       "      <td>0.891540</td>\n",
       "      <td>0.885039</td>\n",
       "      <td>0.884742</td>\n",
       "      <td>{'criterion': 'gini', 'max_features': 'auto', ...</td>\n",
       "    </tr>\n",
       "    <tr>\n",
       "      <th>2</th>\n",
       "      <td>0.5</td>\n",
       "      <td>101</td>\n",
       "      <td>0.896850</td>\n",
       "      <td>0.905876</td>\n",
       "      <td>0.896850</td>\n",
       "      <td>0.896487</td>\n",
       "      <td>{'criterion': 'gini', 'max_features': 'sqrt', ...</td>\n",
       "    </tr>\n",
       "    <tr>\n",
       "      <th>3</th>\n",
       "      <td>0.4</td>\n",
       "      <td>7</td>\n",
       "      <td>0.883858</td>\n",
       "      <td>0.883953</td>\n",
       "      <td>0.883858</td>\n",
       "      <td>0.883820</td>\n",
       "      <td>{'criterion': 'gini', 'max_features': 'sqrt', ...</td>\n",
       "    </tr>\n",
       "    <tr>\n",
       "      <th>4</th>\n",
       "      <td>0.4</td>\n",
       "      <td>69</td>\n",
       "      <td>0.894685</td>\n",
       "      <td>0.899910</td>\n",
       "      <td>0.894685</td>\n",
       "      <td>0.894458</td>\n",
       "      <td>{'criterion': 'gini', 'max_features': 'log2', ...</td>\n",
       "    </tr>\n",
       "    <tr>\n",
       "      <th>5</th>\n",
       "      <td>0.4</td>\n",
       "      <td>101</td>\n",
       "      <td>0.871063</td>\n",
       "      <td>0.873755</td>\n",
       "      <td>0.871063</td>\n",
       "      <td>0.870986</td>\n",
       "      <td>{'criterion': 'gini', 'max_features': 'sqrt', ...</td>\n",
       "    </tr>\n",
       "    <tr>\n",
       "      <th>6</th>\n",
       "      <td>0.3</td>\n",
       "      <td>7</td>\n",
       "      <td>0.901575</td>\n",
       "      <td>0.903690</td>\n",
       "      <td>0.901575</td>\n",
       "      <td>0.901313</td>\n",
       "      <td>{'criterion': 'gini', 'max_features': 'sqrt', ...</td>\n",
       "    </tr>\n",
       "    <tr>\n",
       "      <th>7</th>\n",
       "      <td>0.3</td>\n",
       "      <td>69</td>\n",
       "      <td>0.895013</td>\n",
       "      <td>0.900703</td>\n",
       "      <td>0.895013</td>\n",
       "      <td>0.894854</td>\n",
       "      <td>{'criterion': 'gini', 'max_features': 'sqrt', ...</td>\n",
       "    </tr>\n",
       "    <tr>\n",
       "      <th>8</th>\n",
       "      <td>0.3</td>\n",
       "      <td>101</td>\n",
       "      <td>0.884514</td>\n",
       "      <td>0.895393</td>\n",
       "      <td>0.884514</td>\n",
       "      <td>0.883995</td>\n",
       "      <td>{'criterion': 'gini', 'max_features': 'auto', ...</td>\n",
       "    </tr>\n",
       "    <tr>\n",
       "      <th>9</th>\n",
       "      <td>0.2</td>\n",
       "      <td>7</td>\n",
       "      <td>0.911417</td>\n",
       "      <td>0.912460</td>\n",
       "      <td>0.911417</td>\n",
       "      <td>0.911131</td>\n",
       "      <td>{'criterion': 'gini', 'max_features': 'auto', ...</td>\n",
       "    </tr>\n",
       "    <tr>\n",
       "      <th>10</th>\n",
       "      <td>0.2</td>\n",
       "      <td>69</td>\n",
       "      <td>0.897638</td>\n",
       "      <td>0.902816</td>\n",
       "      <td>0.897638</td>\n",
       "      <td>0.897482</td>\n",
       "      <td>{'criterion': 'entropy', 'max_features': 'sqrt...</td>\n",
       "    </tr>\n",
       "    <tr>\n",
       "      <th>11</th>\n",
       "      <td>0.2</td>\n",
       "      <td>101</td>\n",
       "      <td>0.887795</td>\n",
       "      <td>0.895956</td>\n",
       "      <td>0.887795</td>\n",
       "      <td>0.887628</td>\n",
       "      <td>{'criterion': 'gini', 'max_features': 'sqrt', ...</td>\n",
       "    </tr>\n",
       "  </tbody>\n",
       "</table>\n",
       "</div>"
      ],
      "text/plain": [
       "    Test Size  Random State  Accuracy  Precision    Recall  F1 Score  \\\n",
       "0         0.5             7  0.884252   0.884411  0.884252  0.884208   \n",
       "1         0.5            69  0.885039   0.891540  0.885039  0.884742   \n",
       "2         0.5           101  0.896850   0.905876  0.896850  0.896487   \n",
       "3         0.4             7  0.883858   0.883953  0.883858  0.883820   \n",
       "4         0.4            69  0.894685   0.899910  0.894685  0.894458   \n",
       "5         0.4           101  0.871063   0.873755  0.871063  0.870986   \n",
       "6         0.3             7  0.901575   0.903690  0.901575  0.901313   \n",
       "7         0.3            69  0.895013   0.900703  0.895013  0.894854   \n",
       "8         0.3           101  0.884514   0.895393  0.884514  0.883995   \n",
       "9         0.2             7  0.911417   0.912460  0.911417  0.911131   \n",
       "10        0.2            69  0.897638   0.902816  0.897638  0.897482   \n",
       "11        0.2           101  0.887795   0.895956  0.887795  0.887628   \n",
       "\n",
       "                                           Best Param  \n",
       "0   {'criterion': 'gini', 'max_features': 'auto', ...  \n",
       "1   {'criterion': 'gini', 'max_features': 'auto', ...  \n",
       "2   {'criterion': 'gini', 'max_features': 'sqrt', ...  \n",
       "3   {'criterion': 'gini', 'max_features': 'sqrt', ...  \n",
       "4   {'criterion': 'gini', 'max_features': 'log2', ...  \n",
       "5   {'criterion': 'gini', 'max_features': 'sqrt', ...  \n",
       "6   {'criterion': 'gini', 'max_features': 'sqrt', ...  \n",
       "7   {'criterion': 'gini', 'max_features': 'sqrt', ...  \n",
       "8   {'criterion': 'gini', 'max_features': 'auto', ...  \n",
       "9   {'criterion': 'gini', 'max_features': 'auto', ...  \n",
       "10  {'criterion': 'entropy', 'max_features': 'sqrt...  \n",
       "11  {'criterion': 'gini', 'max_features': 'sqrt', ...  "
      ]
     },
     "execution_count": 28,
     "metadata": {},
     "output_type": "execute_result"
    }
   ],
   "source": [
    "tempB_SOTME_SMOTE = []\n",
    "\n",
    "y = merge_B_SMOTE[['CGPA']]\n",
    "X = merge_B_SMOTE[['Reason Study at Multimedia University', 'Lecture Class Capacity','Tutorial Class Capacity', \n",
    "                     'Classroom Facilities', 'Campus Environment']]\n",
    "\n",
    "print(\"X:\", X.shape,\"y:\", y.shape)\n",
    "\n",
    "for i in [0.5,0.4,0.3,0.2]:\n",
    "    for j in rand_states:\n",
    "        X_train, X_test, y_train, y_test = train_test_split(X, y, test_size=i, random_state=j)\n",
    "        param_grid = {'n_estimators': [100, 200, 300, 400],\n",
    "                      'max_features': ['auto', 'sqrt', 'log2'],\n",
    "                      'criterion' :['gini', 'entropy']}\n",
    "\n",
    "        model = GridSearchCV(RandomForestClassifier(), param_grid, refit=True, n_jobs=-1, cv=10, verbose=1)\n",
    "        model.fit(X_train, y_train)\n",
    "        pred = model.predict(X_test)\n",
    "\n",
    "        acc = accuracy_score(y_test,pred)\n",
    "        pre = precision_score(y_test, pred, average='weighted')\n",
    "        recall = recall_score(y_test, pred, average='weighted')\n",
    "        f1 = f1_score(y_test, pred, average='weighted')\n",
    "        param = model.best_params_\n",
    "    \n",
    "        tempB_SOTME_SMOTE.append([i,j,acc,pre,recall,f1,param])\n",
    "        \n",
    "dfB_SOTME_SMOTE = pd.DataFrame(columns=['Test Size','Random State','Accuracy','Precision','Recall','F1 Score','Best Param'],data=tempB_SOTME_SMOTE)\n",
    "dfB_SOTME_SMOTE"
   ]
  },
  {
   "cell_type": "code",
   "execution_count": 29,
   "id": "97802981-4f8b-451d-801f-2a834079666f",
   "metadata": {},
   "outputs": [
    {
     "data": {
      "text/html": [
       "<div>\n",
       "<style scoped>\n",
       "    .dataframe tbody tr th:only-of-type {\n",
       "        vertical-align: middle;\n",
       "    }\n",
       "\n",
       "    .dataframe tbody tr th {\n",
       "        vertical-align: top;\n",
       "    }\n",
       "\n",
       "    .dataframe thead th {\n",
       "        text-align: right;\n",
       "    }\n",
       "</style>\n",
       "<table border=\"1\" class=\"dataframe\">\n",
       "  <thead>\n",
       "    <tr style=\"text-align: right;\">\n",
       "      <th></th>\n",
       "      <th>Accuracy</th>\n",
       "      <th>Precision</th>\n",
       "      <th>Recall</th>\n",
       "      <th>F1 Score</th>\n",
       "    </tr>\n",
       "    <tr>\n",
       "      <th>Test Size</th>\n",
       "      <th></th>\n",
       "      <th></th>\n",
       "      <th></th>\n",
       "      <th></th>\n",
       "    </tr>\n",
       "  </thead>\n",
       "  <tbody>\n",
       "    <tr>\n",
       "      <th>0.2</th>\n",
       "      <td>0.898950</td>\n",
       "      <td>0.903744</td>\n",
       "      <td>0.898950</td>\n",
       "      <td>0.898747</td>\n",
       "    </tr>\n",
       "    <tr>\n",
       "      <th>0.3</th>\n",
       "      <td>0.893701</td>\n",
       "      <td>0.899929</td>\n",
       "      <td>0.893701</td>\n",
       "      <td>0.893387</td>\n",
       "    </tr>\n",
       "    <tr>\n",
       "      <th>0.4</th>\n",
       "      <td>0.883202</td>\n",
       "      <td>0.885873</td>\n",
       "      <td>0.883202</td>\n",
       "      <td>0.883088</td>\n",
       "    </tr>\n",
       "    <tr>\n",
       "      <th>0.5</th>\n",
       "      <td>0.888714</td>\n",
       "      <td>0.893942</td>\n",
       "      <td>0.888714</td>\n",
       "      <td>0.888479</td>\n",
       "    </tr>\n",
       "  </tbody>\n",
       "</table>\n",
       "</div>"
      ],
      "text/plain": [
       "           Accuracy  Precision    Recall  F1 Score\n",
       "Test Size                                         \n",
       "0.2        0.898950   0.903744  0.898950  0.898747\n",
       "0.3        0.893701   0.899929  0.893701  0.893387\n",
       "0.4        0.883202   0.885873  0.883202  0.883088\n",
       "0.5        0.888714   0.893942  0.888714  0.888479"
      ]
     },
     "execution_count": 29,
     "metadata": {},
     "output_type": "execute_result"
    }
   ],
   "source": [
    "dfB_SOTME_SMOTE.groupby('Test Size')[['Accuracy','Precision','Recall','F1 Score']].mean()"
   ]
  },
  {
   "cell_type": "code",
   "execution_count": 30,
   "id": "2b27888e-1daf-4c0f-9188-9134763901aa",
   "metadata": {},
   "outputs": [
    {
     "name": "stdout",
     "output_type": "stream",
     "text": [
      "SMOTE Binary: Student Opinion Towards MMU Environment\n",
      "\n",
      "{'criterion': 'gini', 'max_features': 'auto', 'n_estimators': 100}\n",
      "{'criterion': 'gini', 'max_features': 'auto', 'n_estimators': 400}\n",
      "{'criterion': 'gini', 'max_features': 'sqrt', 'n_estimators': 300}\n",
      "{'criterion': 'gini', 'max_features': 'sqrt', 'n_estimators': 200}\n",
      "{'criterion': 'gini', 'max_features': 'log2', 'n_estimators': 400}\n",
      "{'criterion': 'gini', 'max_features': 'sqrt', 'n_estimators': 100}\n",
      "{'criterion': 'gini', 'max_features': 'sqrt', 'n_estimators': 400}\n",
      "{'criterion': 'gini', 'max_features': 'sqrt', 'n_estimators': 200}\n",
      "{'criterion': 'gini', 'max_features': 'auto', 'n_estimators': 100}\n",
      "{'criterion': 'gini', 'max_features': 'auto', 'n_estimators': 200}\n",
      "{'criterion': 'entropy', 'max_features': 'sqrt', 'n_estimators': 300}\n",
      "{'criterion': 'gini', 'max_features': 'sqrt', 'n_estimators': 400}\n"
     ]
    }
   ],
   "source": [
    "print(\"SMOTE Binary: Student Opinion Towards MMU Environment\\n\")\n",
    "for x in dfB_SOTME_SMOTE[\"Best Param\"]:\n",
    "    print(x)"
   ]
  },
  {
   "cell_type": "markdown",
   "id": "237b1064-bd73-415b-a0a3-ed4b66b6f61c",
   "metadata": {},
   "source": [
    "## Student Family Background"
   ]
  },
  {
   "cell_type": "markdown",
   "id": "ded3461b-d679-426a-ad42-5ae00eb42315",
   "metadata": {},
   "source": [
    "### SFB before Data Balancing"
   ]
  },
  {
   "cell_type": "code",
   "execution_count": 31,
   "id": "28a812a8-9040-4fab-b653-e9a0429e0c7c",
   "metadata": {},
   "outputs": [
    {
     "name": "stdout",
     "output_type": "stream",
     "text": [
      "X: (1287, 7) y: (1287, 1)\n",
      "Fitting 10 folds for each of 24 candidates, totalling 240 fits\n"
     ]
    },
    {
     "name": "stderr",
     "output_type": "stream",
     "text": [
      "C:\\Users\\hazel\\anaconda3\\Lib\\site-packages\\sklearn\\model_selection\\_split.py:700: UserWarning: The least populated class in y has only 8 members, which is less than n_splits=10.\n",
      "  warnings.warn(\n",
      "C:\\Users\\hazel\\anaconda3\\Lib\\site-packages\\sklearn\\model_selection\\_search.py:909: DataConversionWarning: A column-vector y was passed when a 1d array was expected. Please change the shape of y to (n_samples,), for example using ravel().\n",
      "  self.best_estimator_.fit(X, y, **fit_params)\n",
      "C:\\Users\\hazel\\anaconda3\\Lib\\site-packages\\sklearn\\ensemble\\_forest.py:424: FutureWarning: `max_features='auto'` has been deprecated in 1.1 and will be removed in 1.3. To keep the past behaviour, explicitly set `max_features='sqrt'` or remove this parameter as it is also the default value for RandomForestClassifiers and ExtraTreesClassifiers.\n",
      "  warn(\n"
     ]
    },
    {
     "name": "stdout",
     "output_type": "stream",
     "text": [
      "Fitting 10 folds for each of 24 candidates, totalling 240 fits\n"
     ]
    },
    {
     "name": "stderr",
     "output_type": "stream",
     "text": [
      "C:\\Users\\hazel\\anaconda3\\Lib\\site-packages\\sklearn\\model_selection\\_split.py:700: UserWarning: The least populated class in y has only 8 members, which is less than n_splits=10.\n",
      "  warnings.warn(\n",
      "C:\\Users\\hazel\\anaconda3\\Lib\\site-packages\\sklearn\\model_selection\\_search.py:909: DataConversionWarning: A column-vector y was passed when a 1d array was expected. Please change the shape of y to (n_samples,), for example using ravel().\n",
      "  self.best_estimator_.fit(X, y, **fit_params)\n",
      "C:\\Users\\hazel\\anaconda3\\Lib\\site-packages\\sklearn\\ensemble\\_forest.py:424: FutureWarning: `max_features='auto'` has been deprecated in 1.1 and will be removed in 1.3. To keep the past behaviour, explicitly set `max_features='sqrt'` or remove this parameter as it is also the default value for RandomForestClassifiers and ExtraTreesClassifiers.\n",
      "  warn(\n"
     ]
    },
    {
     "name": "stdout",
     "output_type": "stream",
     "text": [
      "Fitting 10 folds for each of 24 candidates, totalling 240 fits\n"
     ]
    },
    {
     "name": "stderr",
     "output_type": "stream",
     "text": [
      "C:\\Users\\hazel\\anaconda3\\Lib\\site-packages\\sklearn\\model_selection\\_split.py:700: UserWarning: The least populated class in y has only 8 members, which is less than n_splits=10.\n",
      "  warnings.warn(\n",
      "C:\\Users\\hazel\\anaconda3\\Lib\\site-packages\\sklearn\\model_selection\\_search.py:909: DataConversionWarning: A column-vector y was passed when a 1d array was expected. Please change the shape of y to (n_samples,), for example using ravel().\n",
      "  self.best_estimator_.fit(X, y, **fit_params)\n",
      "C:\\Users\\hazel\\anaconda3\\Lib\\site-packages\\sklearn\\metrics\\_classification.py:1344: UndefinedMetricWarning: Precision is ill-defined and being set to 0.0 in labels with no predicted samples. Use `zero_division` parameter to control this behavior.\n",
      "  _warn_prf(average, modifier, msg_start, len(result))\n"
     ]
    },
    {
     "name": "stdout",
     "output_type": "stream",
     "text": [
      "Fitting 10 folds for each of 24 candidates, totalling 240 fits\n"
     ]
    },
    {
     "name": "stderr",
     "output_type": "stream",
     "text": [
      "C:\\Users\\hazel\\anaconda3\\Lib\\site-packages\\sklearn\\model_selection\\_search.py:909: DataConversionWarning: A column-vector y was passed when a 1d array was expected. Please change the shape of y to (n_samples,), for example using ravel().\n",
      "  self.best_estimator_.fit(X, y, **fit_params)\n",
      "C:\\Users\\hazel\\anaconda3\\Lib\\site-packages\\sklearn\\ensemble\\_forest.py:424: FutureWarning: `max_features='auto'` has been deprecated in 1.1 and will be removed in 1.3. To keep the past behaviour, explicitly set `max_features='sqrt'` or remove this parameter as it is also the default value for RandomForestClassifiers and ExtraTreesClassifiers.\n",
      "  warn(\n"
     ]
    },
    {
     "name": "stdout",
     "output_type": "stream",
     "text": [
      "Fitting 10 folds for each of 24 candidates, totalling 240 fits\n"
     ]
    },
    {
     "name": "stderr",
     "output_type": "stream",
     "text": [
      "C:\\Users\\hazel\\anaconda3\\Lib\\site-packages\\sklearn\\model_selection\\_split.py:700: UserWarning: The least populated class in y has only 9 members, which is less than n_splits=10.\n",
      "  warnings.warn(\n",
      "C:\\Users\\hazel\\anaconda3\\Lib\\site-packages\\sklearn\\model_selection\\_search.py:909: DataConversionWarning: A column-vector y was passed when a 1d array was expected. Please change the shape of y to (n_samples,), for example using ravel().\n",
      "  self.best_estimator_.fit(X, y, **fit_params)\n",
      "C:\\Users\\hazel\\anaconda3\\Lib\\site-packages\\sklearn\\ensemble\\_forest.py:424: FutureWarning: `max_features='auto'` has been deprecated in 1.1 and will be removed in 1.3. To keep the past behaviour, explicitly set `max_features='sqrt'` or remove this parameter as it is also the default value for RandomForestClassifiers and ExtraTreesClassifiers.\n",
      "  warn(\n"
     ]
    },
    {
     "name": "stdout",
     "output_type": "stream",
     "text": [
      "Fitting 10 folds for each of 24 candidates, totalling 240 fits\n"
     ]
    },
    {
     "name": "stderr",
     "output_type": "stream",
     "text": [
      "C:\\Users\\hazel\\anaconda3\\Lib\\site-packages\\sklearn\\model_selection\\_search.py:909: DataConversionWarning: A column-vector y was passed when a 1d array was expected. Please change the shape of y to (n_samples,), for example using ravel().\n",
      "  self.best_estimator_.fit(X, y, **fit_params)\n",
      "C:\\Users\\hazel\\anaconda3\\Lib\\site-packages\\sklearn\\ensemble\\_forest.py:424: FutureWarning: `max_features='auto'` has been deprecated in 1.1 and will be removed in 1.3. To keep the past behaviour, explicitly set `max_features='sqrt'` or remove this parameter as it is also the default value for RandomForestClassifiers and ExtraTreesClassifiers.\n",
      "  warn(\n",
      "C:\\Users\\hazel\\anaconda3\\Lib\\site-packages\\sklearn\\metrics\\_classification.py:1344: UndefinedMetricWarning: Precision is ill-defined and being set to 0.0 in labels with no predicted samples. Use `zero_division` parameter to control this behavior.\n",
      "  _warn_prf(average, modifier, msg_start, len(result))\n"
     ]
    },
    {
     "name": "stdout",
     "output_type": "stream",
     "text": [
      "Fitting 10 folds for each of 24 candidates, totalling 240 fits\n"
     ]
    },
    {
     "name": "stderr",
     "output_type": "stream",
     "text": [
      "C:\\Users\\hazel\\anaconda3\\Lib\\site-packages\\sklearn\\model_selection\\_search.py:909: DataConversionWarning: A column-vector y was passed when a 1d array was expected. Please change the shape of y to (n_samples,), for example using ravel().\n",
      "  self.best_estimator_.fit(X, y, **fit_params)\n",
      "C:\\Users\\hazel\\anaconda3\\Lib\\site-packages\\sklearn\\ensemble\\_forest.py:424: FutureWarning: `max_features='auto'` has been deprecated in 1.1 and will be removed in 1.3. To keep the past behaviour, explicitly set `max_features='sqrt'` or remove this parameter as it is also the default value for RandomForestClassifiers and ExtraTreesClassifiers.\n",
      "  warn(\n"
     ]
    },
    {
     "name": "stdout",
     "output_type": "stream",
     "text": [
      "Fitting 10 folds for each of 24 candidates, totalling 240 fits\n"
     ]
    },
    {
     "name": "stderr",
     "output_type": "stream",
     "text": [
      "C:\\Users\\hazel\\anaconda3\\Lib\\site-packages\\sklearn\\model_selection\\_search.py:909: DataConversionWarning: A column-vector y was passed when a 1d array was expected. Please change the shape of y to (n_samples,), for example using ravel().\n",
      "  self.best_estimator_.fit(X, y, **fit_params)\n",
      "C:\\Users\\hazel\\anaconda3\\Lib\\site-packages\\sklearn\\ensemble\\_forest.py:424: FutureWarning: `max_features='auto'` has been deprecated in 1.1 and will be removed in 1.3. To keep the past behaviour, explicitly set `max_features='sqrt'` or remove this parameter as it is also the default value for RandomForestClassifiers and ExtraTreesClassifiers.\n",
      "  warn(\n"
     ]
    },
    {
     "name": "stdout",
     "output_type": "stream",
     "text": [
      "Fitting 10 folds for each of 24 candidates, totalling 240 fits\n"
     ]
    },
    {
     "name": "stderr",
     "output_type": "stream",
     "text": [
      "C:\\Users\\hazel\\anaconda3\\Lib\\site-packages\\sklearn\\model_selection\\_search.py:909: DataConversionWarning: A column-vector y was passed when a 1d array was expected. Please change the shape of y to (n_samples,), for example using ravel().\n",
      "  self.best_estimator_.fit(X, y, **fit_params)\n",
      "C:\\Users\\hazel\\anaconda3\\Lib\\site-packages\\sklearn\\ensemble\\_forest.py:424: FutureWarning: `max_features='auto'` has been deprecated in 1.1 and will be removed in 1.3. To keep the past behaviour, explicitly set `max_features='sqrt'` or remove this parameter as it is also the default value for RandomForestClassifiers and ExtraTreesClassifiers.\n",
      "  warn(\n"
     ]
    },
    {
     "name": "stdout",
     "output_type": "stream",
     "text": [
      "Fitting 10 folds for each of 24 candidates, totalling 240 fits\n"
     ]
    },
    {
     "name": "stderr",
     "output_type": "stream",
     "text": [
      "C:\\Users\\hazel\\anaconda3\\Lib\\site-packages\\sklearn\\model_selection\\_search.py:909: DataConversionWarning: A column-vector y was passed when a 1d array was expected. Please change the shape of y to (n_samples,), for example using ravel().\n",
      "  self.best_estimator_.fit(X, y, **fit_params)\n",
      "C:\\Users\\hazel\\anaconda3\\Lib\\site-packages\\sklearn\\ensemble\\_forest.py:424: FutureWarning: `max_features='auto'` has been deprecated in 1.1 and will be removed in 1.3. To keep the past behaviour, explicitly set `max_features='sqrt'` or remove this parameter as it is also the default value for RandomForestClassifiers and ExtraTreesClassifiers.\n",
      "  warn(\n"
     ]
    },
    {
     "name": "stdout",
     "output_type": "stream",
     "text": [
      "Fitting 10 folds for each of 24 candidates, totalling 240 fits\n"
     ]
    },
    {
     "name": "stderr",
     "output_type": "stream",
     "text": [
      "C:\\Users\\hazel\\anaconda3\\Lib\\site-packages\\sklearn\\model_selection\\_search.py:909: DataConversionWarning: A column-vector y was passed when a 1d array was expected. Please change the shape of y to (n_samples,), for example using ravel().\n",
      "  self.best_estimator_.fit(X, y, **fit_params)\n",
      "C:\\Users\\hazel\\anaconda3\\Lib\\site-packages\\sklearn\\ensemble\\_forest.py:424: FutureWarning: `max_features='auto'` has been deprecated in 1.1 and will be removed in 1.3. To keep the past behaviour, explicitly set `max_features='sqrt'` or remove this parameter as it is also the default value for RandomForestClassifiers and ExtraTreesClassifiers.\n",
      "  warn(\n"
     ]
    },
    {
     "name": "stdout",
     "output_type": "stream",
     "text": [
      "Fitting 10 folds for each of 24 candidates, totalling 240 fits\n"
     ]
    },
    {
     "name": "stderr",
     "output_type": "stream",
     "text": [
      "C:\\Users\\hazel\\anaconda3\\Lib\\site-packages\\sklearn\\model_selection\\_search.py:909: DataConversionWarning: A column-vector y was passed when a 1d array was expected. Please change the shape of y to (n_samples,), for example using ravel().\n",
      "  self.best_estimator_.fit(X, y, **fit_params)\n",
      "C:\\Users\\hazel\\anaconda3\\Lib\\site-packages\\sklearn\\ensemble\\_forest.py:424: FutureWarning: `max_features='auto'` has been deprecated in 1.1 and will be removed in 1.3. To keep the past behaviour, explicitly set `max_features='sqrt'` or remove this parameter as it is also the default value for RandomForestClassifiers and ExtraTreesClassifiers.\n",
      "  warn(\n"
     ]
    },
    {
     "data": {
      "text/html": [
       "<div>\n",
       "<style scoped>\n",
       "    .dataframe tbody tr th:only-of-type {\n",
       "        vertical-align: middle;\n",
       "    }\n",
       "\n",
       "    .dataframe tbody tr th {\n",
       "        vertical-align: top;\n",
       "    }\n",
       "\n",
       "    .dataframe thead th {\n",
       "        text-align: right;\n",
       "    }\n",
       "</style>\n",
       "<table border=\"1\" class=\"dataframe\">\n",
       "  <thead>\n",
       "    <tr style=\"text-align: right;\">\n",
       "      <th></th>\n",
       "      <th>Test Size</th>\n",
       "      <th>Random State</th>\n",
       "      <th>Accuracy</th>\n",
       "      <th>Precision</th>\n",
       "      <th>Recall</th>\n",
       "      <th>F1 Score</th>\n",
       "      <th>Best Param</th>\n",
       "    </tr>\n",
       "  </thead>\n",
       "  <tbody>\n",
       "    <tr>\n",
       "      <th>0</th>\n",
       "      <td>0.5</td>\n",
       "      <td>7</td>\n",
       "      <td>0.978261</td>\n",
       "      <td>0.972137</td>\n",
       "      <td>0.978261</td>\n",
       "      <td>0.975189</td>\n",
       "      <td>{'criterion': 'gini', 'max_features': 'auto', ...</td>\n",
       "    </tr>\n",
       "    <tr>\n",
       "      <th>1</th>\n",
       "      <td>0.5</td>\n",
       "      <td>69</td>\n",
       "      <td>0.979814</td>\n",
       "      <td>0.972159</td>\n",
       "      <td>0.979814</td>\n",
       "      <td>0.975971</td>\n",
       "      <td>{'criterion': 'gini', 'max_features': 'auto', ...</td>\n",
       "    </tr>\n",
       "    <tr>\n",
       "      <th>2</th>\n",
       "      <td>0.5</td>\n",
       "      <td>101</td>\n",
       "      <td>0.986025</td>\n",
       "      <td>0.972245</td>\n",
       "      <td>0.986025</td>\n",
       "      <td>0.979086</td>\n",
       "      <td>{'criterion': 'entropy', 'max_features': 'sqrt...</td>\n",
       "    </tr>\n",
       "    <tr>\n",
       "      <th>3</th>\n",
       "      <td>0.4</td>\n",
       "      <td>7</td>\n",
       "      <td>0.986408</td>\n",
       "      <td>0.976812</td>\n",
       "      <td>0.986408</td>\n",
       "      <td>0.981587</td>\n",
       "      <td>{'criterion': 'gini', 'max_features': 'auto', ...</td>\n",
       "    </tr>\n",
       "    <tr>\n",
       "      <th>4</th>\n",
       "      <td>0.4</td>\n",
       "      <td>69</td>\n",
       "      <td>0.980583</td>\n",
       "      <td>0.969114</td>\n",
       "      <td>0.980583</td>\n",
       "      <td>0.974814</td>\n",
       "      <td>{'criterion': 'gini', 'max_features': 'auto', ...</td>\n",
       "    </tr>\n",
       "    <tr>\n",
       "      <th>5</th>\n",
       "      <td>0.4</td>\n",
       "      <td>101</td>\n",
       "      <td>0.986408</td>\n",
       "      <td>0.973000</td>\n",
       "      <td>0.986408</td>\n",
       "      <td>0.979658</td>\n",
       "      <td>{'criterion': 'gini', 'max_features': 'auto', ...</td>\n",
       "    </tr>\n",
       "    <tr>\n",
       "      <th>6</th>\n",
       "      <td>0.3</td>\n",
       "      <td>7</td>\n",
       "      <td>0.984496</td>\n",
       "      <td>0.979382</td>\n",
       "      <td>0.984496</td>\n",
       "      <td>0.981932</td>\n",
       "      <td>{'criterion': 'gini', 'max_features': 'auto', ...</td>\n",
       "    </tr>\n",
       "    <tr>\n",
       "      <th>7</th>\n",
       "      <td>0.3</td>\n",
       "      <td>69</td>\n",
       "      <td>0.981912</td>\n",
       "      <td>0.974261</td>\n",
       "      <td>0.981912</td>\n",
       "      <td>0.978072</td>\n",
       "      <td>{'criterion': 'gini', 'max_features': 'auto', ...</td>\n",
       "    </tr>\n",
       "    <tr>\n",
       "      <th>8</th>\n",
       "      <td>0.3</td>\n",
       "      <td>101</td>\n",
       "      <td>0.984496</td>\n",
       "      <td>0.974294</td>\n",
       "      <td>0.984496</td>\n",
       "      <td>0.979369</td>\n",
       "      <td>{'criterion': 'entropy', 'max_features': 'auto...</td>\n",
       "    </tr>\n",
       "    <tr>\n",
       "      <th>9</th>\n",
       "      <td>0.2</td>\n",
       "      <td>7</td>\n",
       "      <td>0.984496</td>\n",
       "      <td>0.984496</td>\n",
       "      <td>0.984496</td>\n",
       "      <td>0.984496</td>\n",
       "      <td>{'criterion': 'gini', 'max_features': 'auto', ...</td>\n",
       "    </tr>\n",
       "    <tr>\n",
       "      <th>10</th>\n",
       "      <td>0.2</td>\n",
       "      <td>69</td>\n",
       "      <td>0.976744</td>\n",
       "      <td>0.969113</td>\n",
       "      <td>0.976744</td>\n",
       "      <td>0.972914</td>\n",
       "      <td>{'criterion': 'gini', 'max_features': 'auto', ...</td>\n",
       "    </tr>\n",
       "    <tr>\n",
       "      <th>11</th>\n",
       "      <td>0.2</td>\n",
       "      <td>101</td>\n",
       "      <td>0.980620</td>\n",
       "      <td>0.969173</td>\n",
       "      <td>0.980620</td>\n",
       "      <td>0.974863</td>\n",
       "      <td>{'criterion': 'entropy', 'max_features': 'auto...</td>\n",
       "    </tr>\n",
       "  </tbody>\n",
       "</table>\n",
       "</div>"
      ],
      "text/plain": [
       "    Test Size  Random State  Accuracy  Precision    Recall  F1 Score  \\\n",
       "0         0.5             7  0.978261   0.972137  0.978261  0.975189   \n",
       "1         0.5            69  0.979814   0.972159  0.979814  0.975971   \n",
       "2         0.5           101  0.986025   0.972245  0.986025  0.979086   \n",
       "3         0.4             7  0.986408   0.976812  0.986408  0.981587   \n",
       "4         0.4            69  0.980583   0.969114  0.980583  0.974814   \n",
       "5         0.4           101  0.986408   0.973000  0.986408  0.979658   \n",
       "6         0.3             7  0.984496   0.979382  0.984496  0.981932   \n",
       "7         0.3            69  0.981912   0.974261  0.981912  0.978072   \n",
       "8         0.3           101  0.984496   0.974294  0.984496  0.979369   \n",
       "9         0.2             7  0.984496   0.984496  0.984496  0.984496   \n",
       "10        0.2            69  0.976744   0.969113  0.976744  0.972914   \n",
       "11        0.2           101  0.980620   0.969173  0.980620  0.974863   \n",
       "\n",
       "                                           Best Param  \n",
       "0   {'criterion': 'gini', 'max_features': 'auto', ...  \n",
       "1   {'criterion': 'gini', 'max_features': 'auto', ...  \n",
       "2   {'criterion': 'entropy', 'max_features': 'sqrt...  \n",
       "3   {'criterion': 'gini', 'max_features': 'auto', ...  \n",
       "4   {'criterion': 'gini', 'max_features': 'auto', ...  \n",
       "5   {'criterion': 'gini', 'max_features': 'auto', ...  \n",
       "6   {'criterion': 'gini', 'max_features': 'auto', ...  \n",
       "7   {'criterion': 'gini', 'max_features': 'auto', ...  \n",
       "8   {'criterion': 'entropy', 'max_features': 'auto...  \n",
       "9   {'criterion': 'gini', 'max_features': 'auto', ...  \n",
       "10  {'criterion': 'gini', 'max_features': 'auto', ...  \n",
       "11  {'criterion': 'entropy', 'max_features': 'auto...  "
      ]
     },
     "execution_count": 31,
     "metadata": {},
     "output_type": "execute_result"
    }
   ],
   "source": [
    "tempB_SFB_imb = []\n",
    "\n",
    "y = merge_B_imb[['CGPA']]\n",
    "X = merge_B_imb[['Family Size', \"Parent's Education Level.Father\", \"Parent's Education Level.Mother\", \n",
    "                     \"Father's Occupation\", \"Mother's Occupation\", 'Financial Difficulties', 'Financial Support']]\n",
    "\n",
    "print(\"X:\", X.shape,\"y:\", y.shape)\n",
    "\n",
    "for i in [0.5,0.4,0.3,0.2]:\n",
    "    for j in rand_states:\n",
    "        X_train, X_test, y_train, y_test = train_test_split(X, y, test_size=i, random_state=j)\n",
    "        param_grid = {'n_estimators': [100, 200, 300, 400],\n",
    "                      'max_features': ['auto', 'sqrt', 'log2'],\n",
    "                      'criterion' :['gini', 'entropy']}\n",
    "\n",
    "        model = GridSearchCV(RandomForestClassifier(), param_grid, refit=True, n_jobs=-1, cv=10, verbose=1)\n",
    "        model.fit(X_train, y_train)\n",
    "        pred = model.predict(X_test)\n",
    "\n",
    "        acc = accuracy_score(y_test,pred)\n",
    "        pre = precision_score(y_test, pred, average='weighted')\n",
    "        recall = recall_score(y_test, pred, average='weighted')\n",
    "        f1 = f1_score(y_test, pred, average='weighted')\n",
    "        param = model.best_params_\n",
    "    \n",
    "        tempB_SFB_imb.append([i,j,acc,pre,recall,f1,param])\n",
    "        \n",
    "dfB_SFB_imb = pd.DataFrame(columns=['Test Size','Random State','Accuracy','Precision','Recall','F1 Score','Best Param'],data=tempB_SFB_imb)\n",
    "dfB_SFB_imb"
   ]
  },
  {
   "cell_type": "code",
   "execution_count": 32,
   "id": "56ccf51e-b95a-46f7-a397-392439b0d254",
   "metadata": {},
   "outputs": [
    {
     "data": {
      "text/html": [
       "<div>\n",
       "<style scoped>\n",
       "    .dataframe tbody tr th:only-of-type {\n",
       "        vertical-align: middle;\n",
       "    }\n",
       "\n",
       "    .dataframe tbody tr th {\n",
       "        vertical-align: top;\n",
       "    }\n",
       "\n",
       "    .dataframe thead th {\n",
       "        text-align: right;\n",
       "    }\n",
       "</style>\n",
       "<table border=\"1\" class=\"dataframe\">\n",
       "  <thead>\n",
       "    <tr style=\"text-align: right;\">\n",
       "      <th></th>\n",
       "      <th>Accuracy</th>\n",
       "      <th>Precision</th>\n",
       "      <th>Recall</th>\n",
       "      <th>F1 Score</th>\n",
       "    </tr>\n",
       "    <tr>\n",
       "      <th>Test Size</th>\n",
       "      <th></th>\n",
       "      <th></th>\n",
       "      <th></th>\n",
       "      <th></th>\n",
       "    </tr>\n",
       "  </thead>\n",
       "  <tbody>\n",
       "    <tr>\n",
       "      <th>0.2</th>\n",
       "      <td>0.980620</td>\n",
       "      <td>0.974261</td>\n",
       "      <td>0.980620</td>\n",
       "      <td>0.977424</td>\n",
       "    </tr>\n",
       "    <tr>\n",
       "      <th>0.3</th>\n",
       "      <td>0.983635</td>\n",
       "      <td>0.975979</td>\n",
       "      <td>0.983635</td>\n",
       "      <td>0.979791</td>\n",
       "    </tr>\n",
       "    <tr>\n",
       "      <th>0.4</th>\n",
       "      <td>0.984466</td>\n",
       "      <td>0.972975</td>\n",
       "      <td>0.984466</td>\n",
       "      <td>0.978686</td>\n",
       "    </tr>\n",
       "    <tr>\n",
       "      <th>0.5</th>\n",
       "      <td>0.981366</td>\n",
       "      <td>0.972180</td>\n",
       "      <td>0.981366</td>\n",
       "      <td>0.976749</td>\n",
       "    </tr>\n",
       "  </tbody>\n",
       "</table>\n",
       "</div>"
      ],
      "text/plain": [
       "           Accuracy  Precision    Recall  F1 Score\n",
       "Test Size                                         \n",
       "0.2        0.980620   0.974261  0.980620  0.977424\n",
       "0.3        0.983635   0.975979  0.983635  0.979791\n",
       "0.4        0.984466   0.972975  0.984466  0.978686\n",
       "0.5        0.981366   0.972180  0.981366  0.976749"
      ]
     },
     "execution_count": 32,
     "metadata": {},
     "output_type": "execute_result"
    }
   ],
   "source": [
    "dfB_SFB_imb.groupby('Test Size')[['Accuracy','Precision','Recall','F1 Score']].mean()"
   ]
  },
  {
   "cell_type": "code",
   "execution_count": 33,
   "id": "dfd4a717-4a28-44a8-bb94-5b2de3df9867",
   "metadata": {},
   "outputs": [
    {
     "name": "stdout",
     "output_type": "stream",
     "text": [
      "Imbalance Binary: Student Family Background\n",
      "\n",
      "{'criterion': 'gini', 'max_features': 'auto', 'n_estimators': 400}\n",
      "{'criterion': 'gini', 'max_features': 'auto', 'n_estimators': 100}\n",
      "{'criterion': 'entropy', 'max_features': 'sqrt', 'n_estimators': 200}\n",
      "{'criterion': 'gini', 'max_features': 'auto', 'n_estimators': 100}\n",
      "{'criterion': 'gini', 'max_features': 'auto', 'n_estimators': 100}\n",
      "{'criterion': 'gini', 'max_features': 'auto', 'n_estimators': 100}\n",
      "{'criterion': 'gini', 'max_features': 'auto', 'n_estimators': 100}\n",
      "{'criterion': 'gini', 'max_features': 'auto', 'n_estimators': 200}\n",
      "{'criterion': 'entropy', 'max_features': 'auto', 'n_estimators': 200}\n",
      "{'criterion': 'gini', 'max_features': 'auto', 'n_estimators': 100}\n",
      "{'criterion': 'gini', 'max_features': 'auto', 'n_estimators': 100}\n",
      "{'criterion': 'entropy', 'max_features': 'auto', 'n_estimators': 300}\n"
     ]
    }
   ],
   "source": [
    "print(\"Imbalance Binary: Student Family Background\\n\")\n",
    "for x in dfB_SFB_imb[\"Best Param\"]:\n",
    "    print(x)"
   ]
  },
  {
   "cell_type": "markdown",
   "id": "fb4612fb-036e-415e-b52f-bfb4b3cadad9",
   "metadata": {},
   "source": [
    "### SFB after RandomOverSampler"
   ]
  },
  {
   "cell_type": "code",
   "execution_count": 34,
   "id": "14b7c7ae-748b-49ac-86bb-fc795267743f",
   "metadata": {},
   "outputs": [
    {
     "name": "stdout",
     "output_type": "stream",
     "text": [
      "X: (2540, 7) y: (2540, 1)\n",
      "Fitting 10 folds for each of 24 candidates, totalling 240 fits\n"
     ]
    },
    {
     "name": "stderr",
     "output_type": "stream",
     "text": [
      "C:\\Users\\hazel\\anaconda3\\Lib\\site-packages\\sklearn\\model_selection\\_search.py:909: DataConversionWarning: A column-vector y was passed when a 1d array was expected. Please change the shape of y to (n_samples,), for example using ravel().\n",
      "  self.best_estimator_.fit(X, y, **fit_params)\n"
     ]
    },
    {
     "name": "stdout",
     "output_type": "stream",
     "text": [
      "Fitting 10 folds for each of 24 candidates, totalling 240 fits\n"
     ]
    },
    {
     "name": "stderr",
     "output_type": "stream",
     "text": [
      "C:\\Users\\hazel\\anaconda3\\Lib\\site-packages\\sklearn\\model_selection\\_search.py:909: DataConversionWarning: A column-vector y was passed when a 1d array was expected. Please change the shape of y to (n_samples,), for example using ravel().\n",
      "  self.best_estimator_.fit(X, y, **fit_params)\n",
      "C:\\Users\\hazel\\anaconda3\\Lib\\site-packages\\sklearn\\ensemble\\_forest.py:424: FutureWarning: `max_features='auto'` has been deprecated in 1.1 and will be removed in 1.3. To keep the past behaviour, explicitly set `max_features='sqrt'` or remove this parameter as it is also the default value for RandomForestClassifiers and ExtraTreesClassifiers.\n",
      "  warn(\n"
     ]
    },
    {
     "name": "stdout",
     "output_type": "stream",
     "text": [
      "Fitting 10 folds for each of 24 candidates, totalling 240 fits\n"
     ]
    },
    {
     "name": "stderr",
     "output_type": "stream",
     "text": [
      "C:\\Users\\hazel\\anaconda3\\Lib\\site-packages\\sklearn\\model_selection\\_search.py:909: DataConversionWarning: A column-vector y was passed when a 1d array was expected. Please change the shape of y to (n_samples,), for example using ravel().\n",
      "  self.best_estimator_.fit(X, y, **fit_params)\n"
     ]
    },
    {
     "name": "stdout",
     "output_type": "stream",
     "text": [
      "Fitting 10 folds for each of 24 candidates, totalling 240 fits\n"
     ]
    },
    {
     "name": "stderr",
     "output_type": "stream",
     "text": [
      "C:\\Users\\hazel\\anaconda3\\Lib\\site-packages\\sklearn\\model_selection\\_search.py:909: DataConversionWarning: A column-vector y was passed when a 1d array was expected. Please change the shape of y to (n_samples,), for example using ravel().\n",
      "  self.best_estimator_.fit(X, y, **fit_params)\n"
     ]
    },
    {
     "name": "stdout",
     "output_type": "stream",
     "text": [
      "Fitting 10 folds for each of 24 candidates, totalling 240 fits\n"
     ]
    },
    {
     "name": "stderr",
     "output_type": "stream",
     "text": [
      "C:\\Users\\hazel\\anaconda3\\Lib\\site-packages\\sklearn\\model_selection\\_search.py:909: DataConversionWarning: A column-vector y was passed when a 1d array was expected. Please change the shape of y to (n_samples,), for example using ravel().\n",
      "  self.best_estimator_.fit(X, y, **fit_params)\n",
      "C:\\Users\\hazel\\anaconda3\\Lib\\site-packages\\sklearn\\ensemble\\_forest.py:424: FutureWarning: `max_features='auto'` has been deprecated in 1.1 and will be removed in 1.3. To keep the past behaviour, explicitly set `max_features='sqrt'` or remove this parameter as it is also the default value for RandomForestClassifiers and ExtraTreesClassifiers.\n",
      "  warn(\n"
     ]
    },
    {
     "name": "stdout",
     "output_type": "stream",
     "text": [
      "Fitting 10 folds for each of 24 candidates, totalling 240 fits\n"
     ]
    },
    {
     "name": "stderr",
     "output_type": "stream",
     "text": [
      "C:\\Users\\hazel\\anaconda3\\Lib\\site-packages\\sklearn\\model_selection\\_search.py:909: DataConversionWarning: A column-vector y was passed when a 1d array was expected. Please change the shape of y to (n_samples,), for example using ravel().\n",
      "  self.best_estimator_.fit(X, y, **fit_params)\n",
      "C:\\Users\\hazel\\anaconda3\\Lib\\site-packages\\sklearn\\ensemble\\_forest.py:424: FutureWarning: `max_features='auto'` has been deprecated in 1.1 and will be removed in 1.3. To keep the past behaviour, explicitly set `max_features='sqrt'` or remove this parameter as it is also the default value for RandomForestClassifiers and ExtraTreesClassifiers.\n",
      "  warn(\n"
     ]
    },
    {
     "name": "stdout",
     "output_type": "stream",
     "text": [
      "Fitting 10 folds for each of 24 candidates, totalling 240 fits\n"
     ]
    },
    {
     "name": "stderr",
     "output_type": "stream",
     "text": [
      "C:\\Users\\hazel\\anaconda3\\Lib\\site-packages\\sklearn\\model_selection\\_search.py:909: DataConversionWarning: A column-vector y was passed when a 1d array was expected. Please change the shape of y to (n_samples,), for example using ravel().\n",
      "  self.best_estimator_.fit(X, y, **fit_params)\n"
     ]
    },
    {
     "name": "stdout",
     "output_type": "stream",
     "text": [
      "Fitting 10 folds for each of 24 candidates, totalling 240 fits\n"
     ]
    },
    {
     "name": "stderr",
     "output_type": "stream",
     "text": [
      "C:\\Users\\hazel\\anaconda3\\Lib\\site-packages\\sklearn\\model_selection\\_search.py:909: DataConversionWarning: A column-vector y was passed when a 1d array was expected. Please change the shape of y to (n_samples,), for example using ravel().\n",
      "  self.best_estimator_.fit(X, y, **fit_params)\n",
      "C:\\Users\\hazel\\anaconda3\\Lib\\site-packages\\sklearn\\ensemble\\_forest.py:424: FutureWarning: `max_features='auto'` has been deprecated in 1.1 and will be removed in 1.3. To keep the past behaviour, explicitly set `max_features='sqrt'` or remove this parameter as it is also the default value for RandomForestClassifiers and ExtraTreesClassifiers.\n",
      "  warn(\n"
     ]
    },
    {
     "name": "stdout",
     "output_type": "stream",
     "text": [
      "Fitting 10 folds for each of 24 candidates, totalling 240 fits\n"
     ]
    },
    {
     "name": "stderr",
     "output_type": "stream",
     "text": [
      "C:\\Users\\hazel\\anaconda3\\Lib\\site-packages\\sklearn\\model_selection\\_search.py:909: DataConversionWarning: A column-vector y was passed when a 1d array was expected. Please change the shape of y to (n_samples,), for example using ravel().\n",
      "  self.best_estimator_.fit(X, y, **fit_params)\n"
     ]
    },
    {
     "name": "stdout",
     "output_type": "stream",
     "text": [
      "Fitting 10 folds for each of 24 candidates, totalling 240 fits\n"
     ]
    },
    {
     "name": "stderr",
     "output_type": "stream",
     "text": [
      "C:\\Users\\hazel\\anaconda3\\Lib\\site-packages\\sklearn\\model_selection\\_search.py:909: DataConversionWarning: A column-vector y was passed when a 1d array was expected. Please change the shape of y to (n_samples,), for example using ravel().\n",
      "  self.best_estimator_.fit(X, y, **fit_params)\n"
     ]
    },
    {
     "name": "stdout",
     "output_type": "stream",
     "text": [
      "Fitting 10 folds for each of 24 candidates, totalling 240 fits\n"
     ]
    },
    {
     "name": "stderr",
     "output_type": "stream",
     "text": [
      "C:\\Users\\hazel\\anaconda3\\Lib\\site-packages\\sklearn\\model_selection\\_search.py:909: DataConversionWarning: A column-vector y was passed when a 1d array was expected. Please change the shape of y to (n_samples,), for example using ravel().\n",
      "  self.best_estimator_.fit(X, y, **fit_params)\n"
     ]
    },
    {
     "name": "stdout",
     "output_type": "stream",
     "text": [
      "Fitting 10 folds for each of 24 candidates, totalling 240 fits\n"
     ]
    },
    {
     "name": "stderr",
     "output_type": "stream",
     "text": [
      "C:\\Users\\hazel\\anaconda3\\Lib\\site-packages\\sklearn\\model_selection\\_search.py:909: DataConversionWarning: A column-vector y was passed when a 1d array was expected. Please change the shape of y to (n_samples,), for example using ravel().\n",
      "  self.best_estimator_.fit(X, y, **fit_params)\n"
     ]
    },
    {
     "data": {
      "text/html": [
       "<div>\n",
       "<style scoped>\n",
       "    .dataframe tbody tr th:only-of-type {\n",
       "        vertical-align: middle;\n",
       "    }\n",
       "\n",
       "    .dataframe tbody tr th {\n",
       "        vertical-align: top;\n",
       "    }\n",
       "\n",
       "    .dataframe thead th {\n",
       "        text-align: right;\n",
       "    }\n",
       "</style>\n",
       "<table border=\"1\" class=\"dataframe\">\n",
       "  <thead>\n",
       "    <tr style=\"text-align: right;\">\n",
       "      <th></th>\n",
       "      <th>Test Size</th>\n",
       "      <th>Random State</th>\n",
       "      <th>Accuracy</th>\n",
       "      <th>Precision</th>\n",
       "      <th>Recall</th>\n",
       "      <th>F1 Score</th>\n",
       "      <th>Best Param</th>\n",
       "    </tr>\n",
       "  </thead>\n",
       "  <tbody>\n",
       "    <tr>\n",
       "      <th>0</th>\n",
       "      <td>0.5</td>\n",
       "      <td>7</td>\n",
       "      <td>0.986614</td>\n",
       "      <td>0.986956</td>\n",
       "      <td>0.986614</td>\n",
       "      <td>0.986608</td>\n",
       "      <td>{'criterion': 'gini', 'max_features': 'sqrt', ...</td>\n",
       "    </tr>\n",
       "    <tr>\n",
       "      <th>1</th>\n",
       "      <td>0.5</td>\n",
       "      <td>69</td>\n",
       "      <td>0.986614</td>\n",
       "      <td>0.986971</td>\n",
       "      <td>0.986614</td>\n",
       "      <td>0.986616</td>\n",
       "      <td>{'criterion': 'entropy', 'max_features': 'auto...</td>\n",
       "    </tr>\n",
       "    <tr>\n",
       "      <th>2</th>\n",
       "      <td>0.5</td>\n",
       "      <td>101</td>\n",
       "      <td>0.990551</td>\n",
       "      <td>0.990731</td>\n",
       "      <td>0.990551</td>\n",
       "      <td>0.990553</td>\n",
       "      <td>{'criterion': 'gini', 'max_features': 'sqrt', ...</td>\n",
       "    </tr>\n",
       "    <tr>\n",
       "      <th>3</th>\n",
       "      <td>0.4</td>\n",
       "      <td>7</td>\n",
       "      <td>0.987205</td>\n",
       "      <td>0.987517</td>\n",
       "      <td>0.987205</td>\n",
       "      <td>0.987199</td>\n",
       "      <td>{'criterion': 'entropy', 'max_features': 'sqrt...</td>\n",
       "    </tr>\n",
       "    <tr>\n",
       "      <th>4</th>\n",
       "      <td>0.4</td>\n",
       "      <td>69</td>\n",
       "      <td>0.991142</td>\n",
       "      <td>0.991299</td>\n",
       "      <td>0.991142</td>\n",
       "      <td>0.991142</td>\n",
       "      <td>{'criterion': 'gini', 'max_features': 'auto', ...</td>\n",
       "    </tr>\n",
       "    <tr>\n",
       "      <th>5</th>\n",
       "      <td>0.4</td>\n",
       "      <td>101</td>\n",
       "      <td>0.992126</td>\n",
       "      <td>0.992251</td>\n",
       "      <td>0.992126</td>\n",
       "      <td>0.992127</td>\n",
       "      <td>{'criterion': 'gini', 'max_features': 'auto', ...</td>\n",
       "    </tr>\n",
       "    <tr>\n",
       "      <th>6</th>\n",
       "      <td>0.3</td>\n",
       "      <td>7</td>\n",
       "      <td>0.986877</td>\n",
       "      <td>0.987202</td>\n",
       "      <td>0.986877</td>\n",
       "      <td>0.986869</td>\n",
       "      <td>{'criterion': 'entropy', 'max_features': 'sqrt...</td>\n",
       "    </tr>\n",
       "    <tr>\n",
       "      <th>7</th>\n",
       "      <td>0.3</td>\n",
       "      <td>69</td>\n",
       "      <td>0.989501</td>\n",
       "      <td>0.989724</td>\n",
       "      <td>0.989501</td>\n",
       "      <td>0.989504</td>\n",
       "      <td>{'criterion': 'gini', 'max_features': 'auto', ...</td>\n",
       "    </tr>\n",
       "    <tr>\n",
       "      <th>8</th>\n",
       "      <td>0.3</td>\n",
       "      <td>101</td>\n",
       "      <td>0.990814</td>\n",
       "      <td>0.990984</td>\n",
       "      <td>0.990814</td>\n",
       "      <td>0.990815</td>\n",
       "      <td>{'criterion': 'gini', 'max_features': 'sqrt', ...</td>\n",
       "    </tr>\n",
       "    <tr>\n",
       "      <th>9</th>\n",
       "      <td>0.2</td>\n",
       "      <td>7</td>\n",
       "      <td>0.986220</td>\n",
       "      <td>0.986564</td>\n",
       "      <td>0.986220</td>\n",
       "      <td>0.986203</td>\n",
       "      <td>{'criterion': 'gini', 'max_features': 'sqrt', ...</td>\n",
       "    </tr>\n",
       "    <tr>\n",
       "      <th>10</th>\n",
       "      <td>0.2</td>\n",
       "      <td>69</td>\n",
       "      <td>0.994094</td>\n",
       "      <td>0.994165</td>\n",
       "      <td>0.994094</td>\n",
       "      <td>0.994095</td>\n",
       "      <td>{'criterion': 'gini', 'max_features': 'log2', ...</td>\n",
       "    </tr>\n",
       "    <tr>\n",
       "      <th>11</th>\n",
       "      <td>0.2</td>\n",
       "      <td>101</td>\n",
       "      <td>0.990157</td>\n",
       "      <td>0.990357</td>\n",
       "      <td>0.990157</td>\n",
       "      <td>0.990161</td>\n",
       "      <td>{'criterion': 'gini', 'max_features': 'sqrt', ...</td>\n",
       "    </tr>\n",
       "  </tbody>\n",
       "</table>\n",
       "</div>"
      ],
      "text/plain": [
       "    Test Size  Random State  Accuracy  Precision    Recall  F1 Score  \\\n",
       "0         0.5             7  0.986614   0.986956  0.986614  0.986608   \n",
       "1         0.5            69  0.986614   0.986971  0.986614  0.986616   \n",
       "2         0.5           101  0.990551   0.990731  0.990551  0.990553   \n",
       "3         0.4             7  0.987205   0.987517  0.987205  0.987199   \n",
       "4         0.4            69  0.991142   0.991299  0.991142  0.991142   \n",
       "5         0.4           101  0.992126   0.992251  0.992126  0.992127   \n",
       "6         0.3             7  0.986877   0.987202  0.986877  0.986869   \n",
       "7         0.3            69  0.989501   0.989724  0.989501  0.989504   \n",
       "8         0.3           101  0.990814   0.990984  0.990814  0.990815   \n",
       "9         0.2             7  0.986220   0.986564  0.986220  0.986203   \n",
       "10        0.2            69  0.994094   0.994165  0.994094  0.994095   \n",
       "11        0.2           101  0.990157   0.990357  0.990157  0.990161   \n",
       "\n",
       "                                           Best Param  \n",
       "0   {'criterion': 'gini', 'max_features': 'sqrt', ...  \n",
       "1   {'criterion': 'entropy', 'max_features': 'auto...  \n",
       "2   {'criterion': 'gini', 'max_features': 'sqrt', ...  \n",
       "3   {'criterion': 'entropy', 'max_features': 'sqrt...  \n",
       "4   {'criterion': 'gini', 'max_features': 'auto', ...  \n",
       "5   {'criterion': 'gini', 'max_features': 'auto', ...  \n",
       "6   {'criterion': 'entropy', 'max_features': 'sqrt...  \n",
       "7   {'criterion': 'gini', 'max_features': 'auto', ...  \n",
       "8   {'criterion': 'gini', 'max_features': 'sqrt', ...  \n",
       "9   {'criterion': 'gini', 'max_features': 'sqrt', ...  \n",
       "10  {'criterion': 'gini', 'max_features': 'log2', ...  \n",
       "11  {'criterion': 'gini', 'max_features': 'sqrt', ...  "
      ]
     },
     "execution_count": 34,
     "metadata": {},
     "output_type": "execute_result"
    }
   ],
   "source": [
    "tempB_SFB_ROS = []\n",
    "\n",
    "y = merge_B_ROS[['CGPA']]\n",
    "X = merge_B_ROS[['Family Size', \"Parent's Education Level.Father\", \"Parent's Education Level.Mother\", \n",
    "                     \"Father's Occupation\", \"Mother's Occupation\", 'Financial Difficulties', 'Financial Support']]\n",
    "\n",
    "print(\"X:\", X.shape,\"y:\", y.shape)\n",
    "\n",
    "for i in [0.5,0.4,0.3,0.2]:\n",
    "    for j in rand_states:\n",
    "        X_train, X_test, y_train, y_test = train_test_split(X, y, test_size=i, random_state=j)\n",
    "        param_grid = {'n_estimators': [100, 200, 300, 400],\n",
    "                      'max_features': ['auto', 'sqrt', 'log2'],\n",
    "                      'criterion' :['gini', 'entropy']}\n",
    "\n",
    "        model = GridSearchCV(RandomForestClassifier(), param_grid, refit=True, n_jobs=-1, cv=10, verbose=1)\n",
    "        model.fit(X_train, y_train)\n",
    "        pred = model.predict(X_test)\n",
    "\n",
    "        acc = accuracy_score(y_test,pred)\n",
    "        pre = precision_score(y_test, pred, average='weighted')\n",
    "        recall = recall_score(y_test, pred, average='weighted')\n",
    "        f1 = f1_score(y_test, pred, average='weighted')\n",
    "        param = model.best_params_\n",
    "    \n",
    "        tempB_SFB_ROS.append([i,j,acc,pre,recall,f1,param])\n",
    "        \n",
    "dfB_SFB_ROS = pd.DataFrame(columns=['Test Size','Random State','Accuracy','Precision','Recall','F1 Score','Best Param'],data=tempB_SFB_ROS)\n",
    "dfB_SFB_ROS"
   ]
  },
  {
   "cell_type": "code",
   "execution_count": 35,
   "id": "c2382325-1216-4591-b670-5a7b3e406453",
   "metadata": {},
   "outputs": [
    {
     "data": {
      "text/html": [
       "<div>\n",
       "<style scoped>\n",
       "    .dataframe tbody tr th:only-of-type {\n",
       "        vertical-align: middle;\n",
       "    }\n",
       "\n",
       "    .dataframe tbody tr th {\n",
       "        vertical-align: top;\n",
       "    }\n",
       "\n",
       "    .dataframe thead th {\n",
       "        text-align: right;\n",
       "    }\n",
       "</style>\n",
       "<table border=\"1\" class=\"dataframe\">\n",
       "  <thead>\n",
       "    <tr style=\"text-align: right;\">\n",
       "      <th></th>\n",
       "      <th>Accuracy</th>\n",
       "      <th>Precision</th>\n",
       "      <th>Recall</th>\n",
       "      <th>F1 Score</th>\n",
       "    </tr>\n",
       "    <tr>\n",
       "      <th>Test Size</th>\n",
       "      <th></th>\n",
       "      <th></th>\n",
       "      <th></th>\n",
       "      <th></th>\n",
       "    </tr>\n",
       "  </thead>\n",
       "  <tbody>\n",
       "    <tr>\n",
       "      <th>0.2</th>\n",
       "      <td>0.990157</td>\n",
       "      <td>0.990362</td>\n",
       "      <td>0.990157</td>\n",
       "      <td>0.990153</td>\n",
       "    </tr>\n",
       "    <tr>\n",
       "      <th>0.3</th>\n",
       "      <td>0.989064</td>\n",
       "      <td>0.989303</td>\n",
       "      <td>0.989064</td>\n",
       "      <td>0.989063</td>\n",
       "    </tr>\n",
       "    <tr>\n",
       "      <th>0.4</th>\n",
       "      <td>0.990157</td>\n",
       "      <td>0.990356</td>\n",
       "      <td>0.990157</td>\n",
       "      <td>0.990156</td>\n",
       "    </tr>\n",
       "    <tr>\n",
       "      <th>0.5</th>\n",
       "      <td>0.987927</td>\n",
       "      <td>0.988219</td>\n",
       "      <td>0.987927</td>\n",
       "      <td>0.987925</td>\n",
       "    </tr>\n",
       "  </tbody>\n",
       "</table>\n",
       "</div>"
      ],
      "text/plain": [
       "           Accuracy  Precision    Recall  F1 Score\n",
       "Test Size                                         \n",
       "0.2        0.990157   0.990362  0.990157  0.990153\n",
       "0.3        0.989064   0.989303  0.989064  0.989063\n",
       "0.4        0.990157   0.990356  0.990157  0.990156\n",
       "0.5        0.987927   0.988219  0.987927  0.987925"
      ]
     },
     "execution_count": 35,
     "metadata": {},
     "output_type": "execute_result"
    }
   ],
   "source": [
    "dfB_SFB_ROS.groupby('Test Size')[['Accuracy','Precision','Recall','F1 Score']].mean()"
   ]
  },
  {
   "cell_type": "code",
   "execution_count": 36,
   "id": "b49c656c-5a88-4c51-9b9f-c90bd9a1719b",
   "metadata": {},
   "outputs": [
    {
     "name": "stdout",
     "output_type": "stream",
     "text": [
      "Binary: Student Family Background\n",
      "\n",
      "{'criterion': 'gini', 'max_features': 'sqrt', 'n_estimators': 400}\n",
      "{'criterion': 'entropy', 'max_features': 'auto', 'n_estimators': 300}\n",
      "{'criterion': 'gini', 'max_features': 'sqrt', 'n_estimators': 200}\n",
      "{'criterion': 'entropy', 'max_features': 'sqrt', 'n_estimators': 100}\n",
      "{'criterion': 'gini', 'max_features': 'auto', 'n_estimators': 100}\n",
      "{'criterion': 'gini', 'max_features': 'auto', 'n_estimators': 200}\n",
      "{'criterion': 'entropy', 'max_features': 'sqrt', 'n_estimators': 200}\n",
      "{'criterion': 'gini', 'max_features': 'auto', 'n_estimators': 400}\n",
      "{'criterion': 'gini', 'max_features': 'sqrt', 'n_estimators': 200}\n",
      "{'criterion': 'gini', 'max_features': 'sqrt', 'n_estimators': 200}\n",
      "{'criterion': 'gini', 'max_features': 'log2', 'n_estimators': 100}\n",
      "{'criterion': 'gini', 'max_features': 'sqrt', 'n_estimators': 200}\n"
     ]
    }
   ],
   "source": [
    "print(\"Binary: Student Family Background\\n\")\n",
    "for x in dfB_SFB_ROS[\"Best Param\"]:\n",
    "    print(x)"
   ]
  },
  {
   "cell_type": "markdown",
   "id": "2c9d1a6f-29dc-49eb-9ce1-d64624799730",
   "metadata": {},
   "source": [
    "### SFB after SMOTE"
   ]
  },
  {
   "cell_type": "code",
   "execution_count": 37,
   "id": "665e273b-4a8a-4939-b49c-f840cfee13ec",
   "metadata": {},
   "outputs": [
    {
     "name": "stdout",
     "output_type": "stream",
     "text": [
      "X: (2540, 7) y: (2540, 1)\n",
      "Fitting 10 folds for each of 24 candidates, totalling 240 fits\n"
     ]
    },
    {
     "name": "stderr",
     "output_type": "stream",
     "text": [
      "C:\\Users\\hazel\\anaconda3\\Lib\\site-packages\\sklearn\\model_selection\\_search.py:909: DataConversionWarning: A column-vector y was passed when a 1d array was expected. Please change the shape of y to (n_samples,), for example using ravel().\n",
      "  self.best_estimator_.fit(X, y, **fit_params)\n"
     ]
    },
    {
     "name": "stdout",
     "output_type": "stream",
     "text": [
      "Fitting 10 folds for each of 24 candidates, totalling 240 fits\n"
     ]
    },
    {
     "name": "stderr",
     "output_type": "stream",
     "text": [
      "C:\\Users\\hazel\\anaconda3\\Lib\\site-packages\\sklearn\\model_selection\\_search.py:909: DataConversionWarning: A column-vector y was passed when a 1d array was expected. Please change the shape of y to (n_samples,), for example using ravel().\n",
      "  self.best_estimator_.fit(X, y, **fit_params)\n"
     ]
    },
    {
     "name": "stdout",
     "output_type": "stream",
     "text": [
      "Fitting 10 folds for each of 24 candidates, totalling 240 fits\n"
     ]
    },
    {
     "name": "stderr",
     "output_type": "stream",
     "text": [
      "C:\\Users\\hazel\\anaconda3\\Lib\\site-packages\\sklearn\\model_selection\\_search.py:909: DataConversionWarning: A column-vector y was passed when a 1d array was expected. Please change the shape of y to (n_samples,), for example using ravel().\n",
      "  self.best_estimator_.fit(X, y, **fit_params)\n",
      "C:\\Users\\hazel\\anaconda3\\Lib\\site-packages\\sklearn\\ensemble\\_forest.py:424: FutureWarning: `max_features='auto'` has been deprecated in 1.1 and will be removed in 1.3. To keep the past behaviour, explicitly set `max_features='sqrt'` or remove this parameter as it is also the default value for RandomForestClassifiers and ExtraTreesClassifiers.\n",
      "  warn(\n"
     ]
    },
    {
     "name": "stdout",
     "output_type": "stream",
     "text": [
      "Fitting 10 folds for each of 24 candidates, totalling 240 fits\n"
     ]
    },
    {
     "name": "stderr",
     "output_type": "stream",
     "text": [
      "C:\\Users\\hazel\\anaconda3\\Lib\\site-packages\\sklearn\\model_selection\\_search.py:909: DataConversionWarning: A column-vector y was passed when a 1d array was expected. Please change the shape of y to (n_samples,), for example using ravel().\n",
      "  self.best_estimator_.fit(X, y, **fit_params)\n"
     ]
    },
    {
     "name": "stdout",
     "output_type": "stream",
     "text": [
      "Fitting 10 folds for each of 24 candidates, totalling 240 fits\n"
     ]
    },
    {
     "name": "stderr",
     "output_type": "stream",
     "text": [
      "C:\\Users\\hazel\\anaconda3\\Lib\\site-packages\\sklearn\\model_selection\\_search.py:909: DataConversionWarning: A column-vector y was passed when a 1d array was expected. Please change the shape of y to (n_samples,), for example using ravel().\n",
      "  self.best_estimator_.fit(X, y, **fit_params)\n"
     ]
    },
    {
     "name": "stdout",
     "output_type": "stream",
     "text": [
      "Fitting 10 folds for each of 24 candidates, totalling 240 fits\n"
     ]
    },
    {
     "name": "stderr",
     "output_type": "stream",
     "text": [
      "C:\\Users\\hazel\\anaconda3\\Lib\\site-packages\\sklearn\\model_selection\\_search.py:909: DataConversionWarning: A column-vector y was passed when a 1d array was expected. Please change the shape of y to (n_samples,), for example using ravel().\n",
      "  self.best_estimator_.fit(X, y, **fit_params)\n"
     ]
    },
    {
     "name": "stdout",
     "output_type": "stream",
     "text": [
      "Fitting 10 folds for each of 24 candidates, totalling 240 fits\n"
     ]
    },
    {
     "name": "stderr",
     "output_type": "stream",
     "text": [
      "C:\\Users\\hazel\\anaconda3\\Lib\\site-packages\\sklearn\\model_selection\\_search.py:909: DataConversionWarning: A column-vector y was passed when a 1d array was expected. Please change the shape of y to (n_samples,), for example using ravel().\n",
      "  self.best_estimator_.fit(X, y, **fit_params)\n"
     ]
    },
    {
     "name": "stdout",
     "output_type": "stream",
     "text": [
      "Fitting 10 folds for each of 24 candidates, totalling 240 fits\n"
     ]
    },
    {
     "name": "stderr",
     "output_type": "stream",
     "text": [
      "C:\\Users\\hazel\\anaconda3\\Lib\\site-packages\\sklearn\\model_selection\\_search.py:909: DataConversionWarning: A column-vector y was passed when a 1d array was expected. Please change the shape of y to (n_samples,), for example using ravel().\n",
      "  self.best_estimator_.fit(X, y, **fit_params)\n"
     ]
    },
    {
     "name": "stdout",
     "output_type": "stream",
     "text": [
      "Fitting 10 folds for each of 24 candidates, totalling 240 fits\n"
     ]
    },
    {
     "name": "stderr",
     "output_type": "stream",
     "text": [
      "C:\\Users\\hazel\\anaconda3\\Lib\\site-packages\\sklearn\\model_selection\\_search.py:909: DataConversionWarning: A column-vector y was passed when a 1d array was expected. Please change the shape of y to (n_samples,), for example using ravel().\n",
      "  self.best_estimator_.fit(X, y, **fit_params)\n",
      "C:\\Users\\hazel\\anaconda3\\Lib\\site-packages\\sklearn\\ensemble\\_forest.py:424: FutureWarning: `max_features='auto'` has been deprecated in 1.1 and will be removed in 1.3. To keep the past behaviour, explicitly set `max_features='sqrt'` or remove this parameter as it is also the default value for RandomForestClassifiers and ExtraTreesClassifiers.\n",
      "  warn(\n"
     ]
    },
    {
     "name": "stdout",
     "output_type": "stream",
     "text": [
      "Fitting 10 folds for each of 24 candidates, totalling 240 fits\n"
     ]
    },
    {
     "name": "stderr",
     "output_type": "stream",
     "text": [
      "C:\\Users\\hazel\\anaconda3\\Lib\\site-packages\\sklearn\\model_selection\\_search.py:909: DataConversionWarning: A column-vector y was passed when a 1d array was expected. Please change the shape of y to (n_samples,), for example using ravel().\n",
      "  self.best_estimator_.fit(X, y, **fit_params)\n"
     ]
    },
    {
     "name": "stdout",
     "output_type": "stream",
     "text": [
      "Fitting 10 folds for each of 24 candidates, totalling 240 fits\n"
     ]
    },
    {
     "name": "stderr",
     "output_type": "stream",
     "text": [
      "C:\\Users\\hazel\\anaconda3\\Lib\\site-packages\\sklearn\\model_selection\\_search.py:909: DataConversionWarning: A column-vector y was passed when a 1d array was expected. Please change the shape of y to (n_samples,), for example using ravel().\n",
      "  self.best_estimator_.fit(X, y, **fit_params)\n",
      "C:\\Users\\hazel\\anaconda3\\Lib\\site-packages\\sklearn\\ensemble\\_forest.py:424: FutureWarning: `max_features='auto'` has been deprecated in 1.1 and will be removed in 1.3. To keep the past behaviour, explicitly set `max_features='sqrt'` or remove this parameter as it is also the default value for RandomForestClassifiers and ExtraTreesClassifiers.\n",
      "  warn(\n"
     ]
    },
    {
     "name": "stdout",
     "output_type": "stream",
     "text": [
      "Fitting 10 folds for each of 24 candidates, totalling 240 fits\n"
     ]
    },
    {
     "name": "stderr",
     "output_type": "stream",
     "text": [
      "C:\\Users\\hazel\\anaconda3\\Lib\\site-packages\\sklearn\\model_selection\\_search.py:909: DataConversionWarning: A column-vector y was passed when a 1d array was expected. Please change the shape of y to (n_samples,), for example using ravel().\n",
      "  self.best_estimator_.fit(X, y, **fit_params)\n"
     ]
    },
    {
     "data": {
      "text/html": [
       "<div>\n",
       "<style scoped>\n",
       "    .dataframe tbody tr th:only-of-type {\n",
       "        vertical-align: middle;\n",
       "    }\n",
       "\n",
       "    .dataframe tbody tr th {\n",
       "        vertical-align: top;\n",
       "    }\n",
       "\n",
       "    .dataframe thead th {\n",
       "        text-align: right;\n",
       "    }\n",
       "</style>\n",
       "<table border=\"1\" class=\"dataframe\">\n",
       "  <thead>\n",
       "    <tr style=\"text-align: right;\">\n",
       "      <th></th>\n",
       "      <th>Test Size</th>\n",
       "      <th>Random State</th>\n",
       "      <th>Accuracy</th>\n",
       "      <th>Precision</th>\n",
       "      <th>Recall</th>\n",
       "      <th>F1 Score</th>\n",
       "      <th>Best Param</th>\n",
       "    </tr>\n",
       "  </thead>\n",
       "  <tbody>\n",
       "    <tr>\n",
       "      <th>0</th>\n",
       "      <td>0.5</td>\n",
       "      <td>7</td>\n",
       "      <td>0.945669</td>\n",
       "      <td>0.945960</td>\n",
       "      <td>0.945669</td>\n",
       "      <td>0.945645</td>\n",
       "      <td>{'criterion': 'gini', 'max_features': 'sqrt', ...</td>\n",
       "    </tr>\n",
       "    <tr>\n",
       "      <th>1</th>\n",
       "      <td>0.5</td>\n",
       "      <td>69</td>\n",
       "      <td>0.955906</td>\n",
       "      <td>0.956594</td>\n",
       "      <td>0.955906</td>\n",
       "      <td>0.955908</td>\n",
       "      <td>{'criterion': 'gini', 'max_features': 'sqrt', ...</td>\n",
       "    </tr>\n",
       "    <tr>\n",
       "      <th>2</th>\n",
       "      <td>0.5</td>\n",
       "      <td>101</td>\n",
       "      <td>0.958268</td>\n",
       "      <td>0.958624</td>\n",
       "      <td>0.958268</td>\n",
       "      <td>0.958274</td>\n",
       "      <td>{'criterion': 'gini', 'max_features': 'auto', ...</td>\n",
       "    </tr>\n",
       "    <tr>\n",
       "      <th>3</th>\n",
       "      <td>0.4</td>\n",
       "      <td>7</td>\n",
       "      <td>0.949803</td>\n",
       "      <td>0.949872</td>\n",
       "      <td>0.949803</td>\n",
       "      <td>0.949793</td>\n",
       "      <td>{'criterion': 'gini', 'max_features': 'sqrt', ...</td>\n",
       "    </tr>\n",
       "    <tr>\n",
       "      <th>4</th>\n",
       "      <td>0.4</td>\n",
       "      <td>69</td>\n",
       "      <td>0.948819</td>\n",
       "      <td>0.949701</td>\n",
       "      <td>0.948819</td>\n",
       "      <td>0.948815</td>\n",
       "      <td>{'criterion': 'entropy', 'max_features': 'log2...</td>\n",
       "    </tr>\n",
       "    <tr>\n",
       "      <th>5</th>\n",
       "      <td>0.4</td>\n",
       "      <td>101</td>\n",
       "      <td>0.963583</td>\n",
       "      <td>0.964014</td>\n",
       "      <td>0.963583</td>\n",
       "      <td>0.963588</td>\n",
       "      <td>{'criterion': 'gini', 'max_features': 'log2', ...</td>\n",
       "    </tr>\n",
       "    <tr>\n",
       "      <th>6</th>\n",
       "      <td>0.3</td>\n",
       "      <td>7</td>\n",
       "      <td>0.942257</td>\n",
       "      <td>0.942338</td>\n",
       "      <td>0.942257</td>\n",
       "      <td>0.942239</td>\n",
       "      <td>{'criterion': 'entropy', 'max_features': 'sqrt...</td>\n",
       "    </tr>\n",
       "    <tr>\n",
       "      <th>7</th>\n",
       "      <td>0.3</td>\n",
       "      <td>69</td>\n",
       "      <td>0.956693</td>\n",
       "      <td>0.957271</td>\n",
       "      <td>0.956693</td>\n",
       "      <td>0.956704</td>\n",
       "      <td>{'criterion': 'entropy', 'max_features': 'log2...</td>\n",
       "    </tr>\n",
       "    <tr>\n",
       "      <th>8</th>\n",
       "      <td>0.3</td>\n",
       "      <td>101</td>\n",
       "      <td>0.964567</td>\n",
       "      <td>0.964741</td>\n",
       "      <td>0.964567</td>\n",
       "      <td>0.964572</td>\n",
       "      <td>{'criterion': 'gini', 'max_features': 'auto', ...</td>\n",
       "    </tr>\n",
       "    <tr>\n",
       "      <th>9</th>\n",
       "      <td>0.2</td>\n",
       "      <td>7</td>\n",
       "      <td>0.948819</td>\n",
       "      <td>0.948879</td>\n",
       "      <td>0.948819</td>\n",
       "      <td>0.948834</td>\n",
       "      <td>{'criterion': 'gini', 'max_features': 'log2', ...</td>\n",
       "    </tr>\n",
       "    <tr>\n",
       "      <th>10</th>\n",
       "      <td>0.2</td>\n",
       "      <td>69</td>\n",
       "      <td>0.960630</td>\n",
       "      <td>0.962090</td>\n",
       "      <td>0.960630</td>\n",
       "      <td>0.960630</td>\n",
       "      <td>{'criterion': 'entropy', 'max_features': 'auto...</td>\n",
       "    </tr>\n",
       "    <tr>\n",
       "      <th>11</th>\n",
       "      <td>0.2</td>\n",
       "      <td>101</td>\n",
       "      <td>0.974409</td>\n",
       "      <td>0.974617</td>\n",
       "      <td>0.974409</td>\n",
       "      <td>0.974419</td>\n",
       "      <td>{'criterion': 'gini', 'max_features': 'sqrt', ...</td>\n",
       "    </tr>\n",
       "  </tbody>\n",
       "</table>\n",
       "</div>"
      ],
      "text/plain": [
       "    Test Size  Random State  Accuracy  Precision    Recall  F1 Score  \\\n",
       "0         0.5             7  0.945669   0.945960  0.945669  0.945645   \n",
       "1         0.5            69  0.955906   0.956594  0.955906  0.955908   \n",
       "2         0.5           101  0.958268   0.958624  0.958268  0.958274   \n",
       "3         0.4             7  0.949803   0.949872  0.949803  0.949793   \n",
       "4         0.4            69  0.948819   0.949701  0.948819  0.948815   \n",
       "5         0.4           101  0.963583   0.964014  0.963583  0.963588   \n",
       "6         0.3             7  0.942257   0.942338  0.942257  0.942239   \n",
       "7         0.3            69  0.956693   0.957271  0.956693  0.956704   \n",
       "8         0.3           101  0.964567   0.964741  0.964567  0.964572   \n",
       "9         0.2             7  0.948819   0.948879  0.948819  0.948834   \n",
       "10        0.2            69  0.960630   0.962090  0.960630  0.960630   \n",
       "11        0.2           101  0.974409   0.974617  0.974409  0.974419   \n",
       "\n",
       "                                           Best Param  \n",
       "0   {'criterion': 'gini', 'max_features': 'sqrt', ...  \n",
       "1   {'criterion': 'gini', 'max_features': 'sqrt', ...  \n",
       "2   {'criterion': 'gini', 'max_features': 'auto', ...  \n",
       "3   {'criterion': 'gini', 'max_features': 'sqrt', ...  \n",
       "4   {'criterion': 'entropy', 'max_features': 'log2...  \n",
       "5   {'criterion': 'gini', 'max_features': 'log2', ...  \n",
       "6   {'criterion': 'entropy', 'max_features': 'sqrt...  \n",
       "7   {'criterion': 'entropy', 'max_features': 'log2...  \n",
       "8   {'criterion': 'gini', 'max_features': 'auto', ...  \n",
       "9   {'criterion': 'gini', 'max_features': 'log2', ...  \n",
       "10  {'criterion': 'entropy', 'max_features': 'auto...  \n",
       "11  {'criterion': 'gini', 'max_features': 'sqrt', ...  "
      ]
     },
     "execution_count": 37,
     "metadata": {},
     "output_type": "execute_result"
    }
   ],
   "source": [
    "tempB_SFB_SMOTE = []\n",
    "\n",
    "y = merge_B_SMOTE[['CGPA']]\n",
    "X = merge_B_SMOTE[['Family Size', \"Parent's Education Level.Father\", \"Parent's Education Level.Mother\", \n",
    "                     \"Father's Occupation\", \"Mother's Occupation\", 'Financial Difficulties', 'Financial Support']]\n",
    "\n",
    "print(\"X:\", X.shape,\"y:\", y.shape)\n",
    "\n",
    "for i in [0.5,0.4,0.3,0.2]:\n",
    "    for j in rand_states:\n",
    "        X_train, X_test, y_train, y_test = train_test_split(X, y, test_size=i, random_state=j)\n",
    "        param_grid = {'n_estimators': [100, 200, 300, 400],\n",
    "                      'max_features': ['auto', 'sqrt', 'log2'],\n",
    "                      'criterion' :['gini', 'entropy']}\n",
    "\n",
    "        model = GridSearchCV(RandomForestClassifier(), param_grid, refit=True, n_jobs=-1, cv=10, verbose=1)\n",
    "        model.fit(X_train, y_train)\n",
    "        pred = model.predict(X_test)\n",
    "\n",
    "        acc = accuracy_score(y_test,pred)\n",
    "        pre = precision_score(y_test, pred, average='weighted')\n",
    "        recall = recall_score(y_test, pred, average='weighted')\n",
    "        f1 = f1_score(y_test, pred, average='weighted')\n",
    "        param = model.best_params_\n",
    "    \n",
    "        tempB_SFB_SMOTE.append([i,j,acc,pre,recall,f1,param])\n",
    "        \n",
    "dfB_SFB_SMOTE = pd.DataFrame(columns=['Test Size','Random State','Accuracy','Precision','Recall','F1 Score','Best Param'],data=tempB_SFB_SMOTE)\n",
    "dfB_SFB_SMOTE"
   ]
  },
  {
   "cell_type": "code",
   "execution_count": 38,
   "id": "9d9afc64-b7a3-42fc-ba94-1109c1ffdf3e",
   "metadata": {},
   "outputs": [
    {
     "data": {
      "text/html": [
       "<div>\n",
       "<style scoped>\n",
       "    .dataframe tbody tr th:only-of-type {\n",
       "        vertical-align: middle;\n",
       "    }\n",
       "\n",
       "    .dataframe tbody tr th {\n",
       "        vertical-align: top;\n",
       "    }\n",
       "\n",
       "    .dataframe thead th {\n",
       "        text-align: right;\n",
       "    }\n",
       "</style>\n",
       "<table border=\"1\" class=\"dataframe\">\n",
       "  <thead>\n",
       "    <tr style=\"text-align: right;\">\n",
       "      <th></th>\n",
       "      <th>Accuracy</th>\n",
       "      <th>Precision</th>\n",
       "      <th>Recall</th>\n",
       "      <th>F1 Score</th>\n",
       "    </tr>\n",
       "    <tr>\n",
       "      <th>Test Size</th>\n",
       "      <th></th>\n",
       "      <th></th>\n",
       "      <th></th>\n",
       "      <th></th>\n",
       "    </tr>\n",
       "  </thead>\n",
       "  <tbody>\n",
       "    <tr>\n",
       "      <th>0.2</th>\n",
       "      <td>0.961286</td>\n",
       "      <td>0.961862</td>\n",
       "      <td>0.961286</td>\n",
       "      <td>0.961294</td>\n",
       "    </tr>\n",
       "    <tr>\n",
       "      <th>0.3</th>\n",
       "      <td>0.954506</td>\n",
       "      <td>0.954783</td>\n",
       "      <td>0.954506</td>\n",
       "      <td>0.954505</td>\n",
       "    </tr>\n",
       "    <tr>\n",
       "      <th>0.4</th>\n",
       "      <td>0.954068</td>\n",
       "      <td>0.954529</td>\n",
       "      <td>0.954068</td>\n",
       "      <td>0.954065</td>\n",
       "    </tr>\n",
       "    <tr>\n",
       "      <th>0.5</th>\n",
       "      <td>0.953281</td>\n",
       "      <td>0.953726</td>\n",
       "      <td>0.953281</td>\n",
       "      <td>0.953276</td>\n",
       "    </tr>\n",
       "  </tbody>\n",
       "</table>\n",
       "</div>"
      ],
      "text/plain": [
       "           Accuracy  Precision    Recall  F1 Score\n",
       "Test Size                                         \n",
       "0.2        0.961286   0.961862  0.961286  0.961294\n",
       "0.3        0.954506   0.954783  0.954506  0.954505\n",
       "0.4        0.954068   0.954529  0.954068  0.954065\n",
       "0.5        0.953281   0.953726  0.953281  0.953276"
      ]
     },
     "execution_count": 38,
     "metadata": {},
     "output_type": "execute_result"
    }
   ],
   "source": [
    "dfB_SFB_SMOTE.groupby('Test Size')[['Accuracy','Precision','Recall','F1 Score']].mean()"
   ]
  },
  {
   "cell_type": "code",
   "execution_count": 39,
   "id": "21ddd6a9-0d33-436c-81a0-f1cda5efcde0",
   "metadata": {},
   "outputs": [
    {
     "name": "stdout",
     "output_type": "stream",
     "text": [
      "SMOTE Binary: Student Family Background\n",
      "\n",
      "{'criterion': 'gini', 'max_features': 'sqrt', 'n_estimators': 100}\n",
      "{'criterion': 'gini', 'max_features': 'sqrt', 'n_estimators': 300}\n",
      "{'criterion': 'gini', 'max_features': 'auto', 'n_estimators': 200}\n",
      "{'criterion': 'gini', 'max_features': 'sqrt', 'n_estimators': 100}\n",
      "{'criterion': 'entropy', 'max_features': 'log2', 'n_estimators': 300}\n",
      "{'criterion': 'gini', 'max_features': 'log2', 'n_estimators': 100}\n",
      "{'criterion': 'entropy', 'max_features': 'sqrt', 'n_estimators': 400}\n",
      "{'criterion': 'entropy', 'max_features': 'log2', 'n_estimators': 100}\n",
      "{'criterion': 'gini', 'max_features': 'auto', 'n_estimators': 300}\n",
      "{'criterion': 'gini', 'max_features': 'log2', 'n_estimators': 300}\n",
      "{'criterion': 'entropy', 'max_features': 'auto', 'n_estimators': 100}\n",
      "{'criterion': 'gini', 'max_features': 'sqrt', 'n_estimators': 400}\n"
     ]
    }
   ],
   "source": [
    "print(\"SMOTE Binary: Student Family Background\\n\")\n",
    "for x in dfB_SFB_SMOTE[\"Best Param\"]:\n",
    "    print(x)"
   ]
  },
  {
   "cell_type": "markdown",
   "id": "5a0b7861-3c90-40e3-b1ed-dd5014693a10",
   "metadata": {},
   "source": [
    "## Student Lifestyle"
   ]
  },
  {
   "cell_type": "markdown",
   "id": "c117aa8c-b5b3-4742-95e1-8a4be5e65653",
   "metadata": {},
   "source": [
    "### SL before Data Balancing"
   ]
  },
  {
   "cell_type": "code",
   "execution_count": 40,
   "id": "317cac61-53c8-4094-9b0e-058993c93801",
   "metadata": {},
   "outputs": [
    {
     "name": "stdout",
     "output_type": "stream",
     "text": [
      "X: (1287, 15) y: (1287, 1)\n",
      "Fitting 10 folds for each of 24 candidates, totalling 240 fits\n"
     ]
    },
    {
     "name": "stderr",
     "output_type": "stream",
     "text": [
      "C:\\Users\\hazel\\anaconda3\\Lib\\site-packages\\sklearn\\model_selection\\_split.py:700: UserWarning: The least populated class in y has only 8 members, which is less than n_splits=10.\n",
      "  warnings.warn(\n",
      "C:\\Users\\hazel\\anaconda3\\Lib\\site-packages\\sklearn\\model_selection\\_search.py:909: DataConversionWarning: A column-vector y was passed when a 1d array was expected. Please change the shape of y to (n_samples,), for example using ravel().\n",
      "  self.best_estimator_.fit(X, y, **fit_params)\n",
      "C:\\Users\\hazel\\anaconda3\\Lib\\site-packages\\sklearn\\ensemble\\_forest.py:424: FutureWarning: `max_features='auto'` has been deprecated in 1.1 and will be removed in 1.3. To keep the past behaviour, explicitly set `max_features='sqrt'` or remove this parameter as it is also the default value for RandomForestClassifiers and ExtraTreesClassifiers.\n",
      "  warn(\n",
      "C:\\Users\\hazel\\anaconda3\\Lib\\site-packages\\sklearn\\metrics\\_classification.py:1344: UndefinedMetricWarning: Precision is ill-defined and being set to 0.0 in labels with no predicted samples. Use `zero_division` parameter to control this behavior.\n",
      "  _warn_prf(average, modifier, msg_start, len(result))\n",
      "C:\\Users\\hazel\\anaconda3\\Lib\\site-packages\\sklearn\\model_selection\\_split.py:700: UserWarning: The least populated class in y has only 8 members, which is less than n_splits=10.\n",
      "  warnings.warn(\n"
     ]
    },
    {
     "name": "stdout",
     "output_type": "stream",
     "text": [
      "Fitting 10 folds for each of 24 candidates, totalling 240 fits\n"
     ]
    },
    {
     "name": "stderr",
     "output_type": "stream",
     "text": [
      "C:\\Users\\hazel\\anaconda3\\Lib\\site-packages\\sklearn\\model_selection\\_search.py:909: DataConversionWarning: A column-vector y was passed when a 1d array was expected. Please change the shape of y to (n_samples,), for example using ravel().\n",
      "  self.best_estimator_.fit(X, y, **fit_params)\n",
      "C:\\Users\\hazel\\anaconda3\\Lib\\site-packages\\sklearn\\ensemble\\_forest.py:424: FutureWarning: `max_features='auto'` has been deprecated in 1.1 and will be removed in 1.3. To keep the past behaviour, explicitly set `max_features='sqrt'` or remove this parameter as it is also the default value for RandomForestClassifiers and ExtraTreesClassifiers.\n",
      "  warn(\n",
      "C:\\Users\\hazel\\anaconda3\\Lib\\site-packages\\sklearn\\metrics\\_classification.py:1344: UndefinedMetricWarning: Precision is ill-defined and being set to 0.0 in labels with no predicted samples. Use `zero_division` parameter to control this behavior.\n",
      "  _warn_prf(average, modifier, msg_start, len(result))\n",
      "C:\\Users\\hazel\\anaconda3\\Lib\\site-packages\\sklearn\\model_selection\\_split.py:700: UserWarning: The least populated class in y has only 8 members, which is less than n_splits=10.\n",
      "  warnings.warn(\n"
     ]
    },
    {
     "name": "stdout",
     "output_type": "stream",
     "text": [
      "Fitting 10 folds for each of 24 candidates, totalling 240 fits\n"
     ]
    },
    {
     "name": "stderr",
     "output_type": "stream",
     "text": [
      "C:\\Users\\hazel\\anaconda3\\Lib\\site-packages\\sklearn\\model_selection\\_search.py:909: DataConversionWarning: A column-vector y was passed when a 1d array was expected. Please change the shape of y to (n_samples,), for example using ravel().\n",
      "  self.best_estimator_.fit(X, y, **fit_params)\n",
      "C:\\Users\\hazel\\anaconda3\\Lib\\site-packages\\sklearn\\ensemble\\_forest.py:424: FutureWarning: `max_features='auto'` has been deprecated in 1.1 and will be removed in 1.3. To keep the past behaviour, explicitly set `max_features='sqrt'` or remove this parameter as it is also the default value for RandomForestClassifiers and ExtraTreesClassifiers.\n",
      "  warn(\n",
      "C:\\Users\\hazel\\anaconda3\\Lib\\site-packages\\sklearn\\metrics\\_classification.py:1344: UndefinedMetricWarning: Precision is ill-defined and being set to 0.0 in labels with no predicted samples. Use `zero_division` parameter to control this behavior.\n",
      "  _warn_prf(average, modifier, msg_start, len(result))\n"
     ]
    },
    {
     "name": "stdout",
     "output_type": "stream",
     "text": [
      "Fitting 10 folds for each of 24 candidates, totalling 240 fits\n"
     ]
    },
    {
     "name": "stderr",
     "output_type": "stream",
     "text": [
      "C:\\Users\\hazel\\anaconda3\\Lib\\site-packages\\sklearn\\model_selection\\_search.py:909: DataConversionWarning: A column-vector y was passed when a 1d array was expected. Please change the shape of y to (n_samples,), for example using ravel().\n",
      "  self.best_estimator_.fit(X, y, **fit_params)\n",
      "C:\\Users\\hazel\\anaconda3\\Lib\\site-packages\\sklearn\\ensemble\\_forest.py:424: FutureWarning: `max_features='auto'` has been deprecated in 1.1 and will be removed in 1.3. To keep the past behaviour, explicitly set `max_features='sqrt'` or remove this parameter as it is also the default value for RandomForestClassifiers and ExtraTreesClassifiers.\n",
      "  warn(\n"
     ]
    },
    {
     "name": "stdout",
     "output_type": "stream",
     "text": [
      "Fitting 10 folds for each of 24 candidates, totalling 240 fits\n"
     ]
    },
    {
     "name": "stderr",
     "output_type": "stream",
     "text": [
      "C:\\Users\\hazel\\anaconda3\\Lib\\site-packages\\sklearn\\model_selection\\_split.py:700: UserWarning: The least populated class in y has only 9 members, which is less than n_splits=10.\n",
      "  warnings.warn(\n",
      "C:\\Users\\hazel\\anaconda3\\Lib\\site-packages\\sklearn\\model_selection\\_search.py:909: DataConversionWarning: A column-vector y was passed when a 1d array was expected. Please change the shape of y to (n_samples,), for example using ravel().\n",
      "  self.best_estimator_.fit(X, y, **fit_params)\n",
      "C:\\Users\\hazel\\anaconda3\\Lib\\site-packages\\sklearn\\ensemble\\_forest.py:424: FutureWarning: `max_features='auto'` has been deprecated in 1.1 and will be removed in 1.3. To keep the past behaviour, explicitly set `max_features='sqrt'` or remove this parameter as it is also the default value for RandomForestClassifiers and ExtraTreesClassifiers.\n",
      "  warn(\n",
      "C:\\Users\\hazel\\anaconda3\\Lib\\site-packages\\sklearn\\metrics\\_classification.py:1344: UndefinedMetricWarning: Precision is ill-defined and being set to 0.0 in labels with no predicted samples. Use `zero_division` parameter to control this behavior.\n",
      "  _warn_prf(average, modifier, msg_start, len(result))\n"
     ]
    },
    {
     "name": "stdout",
     "output_type": "stream",
     "text": [
      "Fitting 10 folds for each of 24 candidates, totalling 240 fits\n"
     ]
    },
    {
     "name": "stderr",
     "output_type": "stream",
     "text": [
      "C:\\Users\\hazel\\anaconda3\\Lib\\site-packages\\sklearn\\model_selection\\_search.py:909: DataConversionWarning: A column-vector y was passed when a 1d array was expected. Please change the shape of y to (n_samples,), for example using ravel().\n",
      "  self.best_estimator_.fit(X, y, **fit_params)\n",
      "C:\\Users\\hazel\\anaconda3\\Lib\\site-packages\\sklearn\\ensemble\\_forest.py:424: FutureWarning: `max_features='auto'` has been deprecated in 1.1 and will be removed in 1.3. To keep the past behaviour, explicitly set `max_features='sqrt'` or remove this parameter as it is also the default value for RandomForestClassifiers and ExtraTreesClassifiers.\n",
      "  warn(\n",
      "C:\\Users\\hazel\\anaconda3\\Lib\\site-packages\\sklearn\\metrics\\_classification.py:1344: UndefinedMetricWarning: Precision is ill-defined and being set to 0.0 in labels with no predicted samples. Use `zero_division` parameter to control this behavior.\n",
      "  _warn_prf(average, modifier, msg_start, len(result))\n"
     ]
    },
    {
     "name": "stdout",
     "output_type": "stream",
     "text": [
      "Fitting 10 folds for each of 24 candidates, totalling 240 fits\n"
     ]
    },
    {
     "name": "stderr",
     "output_type": "stream",
     "text": [
      "C:\\Users\\hazel\\anaconda3\\Lib\\site-packages\\sklearn\\model_selection\\_search.py:909: DataConversionWarning: A column-vector y was passed when a 1d array was expected. Please change the shape of y to (n_samples,), for example using ravel().\n",
      "  self.best_estimator_.fit(X, y, **fit_params)\n",
      "C:\\Users\\hazel\\anaconda3\\Lib\\site-packages\\sklearn\\ensemble\\_forest.py:424: FutureWarning: `max_features='auto'` has been deprecated in 1.1 and will be removed in 1.3. To keep the past behaviour, explicitly set `max_features='sqrt'` or remove this parameter as it is also the default value for RandomForestClassifiers and ExtraTreesClassifiers.\n",
      "  warn(\n",
      "C:\\Users\\hazel\\anaconda3\\Lib\\site-packages\\sklearn\\metrics\\_classification.py:1344: UndefinedMetricWarning: Precision is ill-defined and being set to 0.0 in labels with no predicted samples. Use `zero_division` parameter to control this behavior.\n",
      "  _warn_prf(average, modifier, msg_start, len(result))\n"
     ]
    },
    {
     "name": "stdout",
     "output_type": "stream",
     "text": [
      "Fitting 10 folds for each of 24 candidates, totalling 240 fits\n"
     ]
    },
    {
     "name": "stderr",
     "output_type": "stream",
     "text": [
      "C:\\Users\\hazel\\anaconda3\\Lib\\site-packages\\sklearn\\model_selection\\_search.py:909: DataConversionWarning: A column-vector y was passed when a 1d array was expected. Please change the shape of y to (n_samples,), for example using ravel().\n",
      "  self.best_estimator_.fit(X, y, **fit_params)\n",
      "C:\\Users\\hazel\\anaconda3\\Lib\\site-packages\\sklearn\\ensemble\\_forest.py:424: FutureWarning: `max_features='auto'` has been deprecated in 1.1 and will be removed in 1.3. To keep the past behaviour, explicitly set `max_features='sqrt'` or remove this parameter as it is also the default value for RandomForestClassifiers and ExtraTreesClassifiers.\n",
      "  warn(\n",
      "C:\\Users\\hazel\\anaconda3\\Lib\\site-packages\\sklearn\\metrics\\_classification.py:1344: UndefinedMetricWarning: Precision is ill-defined and being set to 0.0 in labels with no predicted samples. Use `zero_division` parameter to control this behavior.\n",
      "  _warn_prf(average, modifier, msg_start, len(result))\n"
     ]
    },
    {
     "name": "stdout",
     "output_type": "stream",
     "text": [
      "Fitting 10 folds for each of 24 candidates, totalling 240 fits\n"
     ]
    },
    {
     "name": "stderr",
     "output_type": "stream",
     "text": [
      "C:\\Users\\hazel\\anaconda3\\Lib\\site-packages\\sklearn\\model_selection\\_search.py:909: DataConversionWarning: A column-vector y was passed when a 1d array was expected. Please change the shape of y to (n_samples,), for example using ravel().\n",
      "  self.best_estimator_.fit(X, y, **fit_params)\n",
      "C:\\Users\\hazel\\anaconda3\\Lib\\site-packages\\sklearn\\ensemble\\_forest.py:424: FutureWarning: `max_features='auto'` has been deprecated in 1.1 and will be removed in 1.3. To keep the past behaviour, explicitly set `max_features='sqrt'` or remove this parameter as it is also the default value for RandomForestClassifiers and ExtraTreesClassifiers.\n",
      "  warn(\n",
      "C:\\Users\\hazel\\anaconda3\\Lib\\site-packages\\sklearn\\metrics\\_classification.py:1344: UndefinedMetricWarning: Precision is ill-defined and being set to 0.0 in labels with no predicted samples. Use `zero_division` parameter to control this behavior.\n",
      "  _warn_prf(average, modifier, msg_start, len(result))\n"
     ]
    },
    {
     "name": "stdout",
     "output_type": "stream",
     "text": [
      "Fitting 10 folds for each of 24 candidates, totalling 240 fits\n"
     ]
    },
    {
     "name": "stderr",
     "output_type": "stream",
     "text": [
      "C:\\Users\\hazel\\anaconda3\\Lib\\site-packages\\sklearn\\model_selection\\_search.py:909: DataConversionWarning: A column-vector y was passed when a 1d array was expected. Please change the shape of y to (n_samples,), for example using ravel().\n",
      "  self.best_estimator_.fit(X, y, **fit_params)\n",
      "C:\\Users\\hazel\\anaconda3\\Lib\\site-packages\\sklearn\\ensemble\\_forest.py:424: FutureWarning: `max_features='auto'` has been deprecated in 1.1 and will be removed in 1.3. To keep the past behaviour, explicitly set `max_features='sqrt'` or remove this parameter as it is also the default value for RandomForestClassifiers and ExtraTreesClassifiers.\n",
      "  warn(\n",
      "C:\\Users\\hazel\\anaconda3\\Lib\\site-packages\\sklearn\\metrics\\_classification.py:1344: UndefinedMetricWarning: Precision is ill-defined and being set to 0.0 in labels with no predicted samples. Use `zero_division` parameter to control this behavior.\n",
      "  _warn_prf(average, modifier, msg_start, len(result))\n"
     ]
    },
    {
     "name": "stdout",
     "output_type": "stream",
     "text": [
      "Fitting 10 folds for each of 24 candidates, totalling 240 fits\n"
     ]
    },
    {
     "name": "stderr",
     "output_type": "stream",
     "text": [
      "C:\\Users\\hazel\\anaconda3\\Lib\\site-packages\\sklearn\\model_selection\\_search.py:909: DataConversionWarning: A column-vector y was passed when a 1d array was expected. Please change the shape of y to (n_samples,), for example using ravel().\n",
      "  self.best_estimator_.fit(X, y, **fit_params)\n",
      "C:\\Users\\hazel\\anaconda3\\Lib\\site-packages\\sklearn\\ensemble\\_forest.py:424: FutureWarning: `max_features='auto'` has been deprecated in 1.1 and will be removed in 1.3. To keep the past behaviour, explicitly set `max_features='sqrt'` or remove this parameter as it is also the default value for RandomForestClassifiers and ExtraTreesClassifiers.\n",
      "  warn(\n",
      "C:\\Users\\hazel\\anaconda3\\Lib\\site-packages\\sklearn\\metrics\\_classification.py:1344: UndefinedMetricWarning: Precision is ill-defined and being set to 0.0 in labels with no predicted samples. Use `zero_division` parameter to control this behavior.\n",
      "  _warn_prf(average, modifier, msg_start, len(result))\n"
     ]
    },
    {
     "name": "stdout",
     "output_type": "stream",
     "text": [
      "Fitting 10 folds for each of 24 candidates, totalling 240 fits\n"
     ]
    },
    {
     "name": "stderr",
     "output_type": "stream",
     "text": [
      "C:\\Users\\hazel\\anaconda3\\Lib\\site-packages\\sklearn\\model_selection\\_search.py:909: DataConversionWarning: A column-vector y was passed when a 1d array was expected. Please change the shape of y to (n_samples,), for example using ravel().\n",
      "  self.best_estimator_.fit(X, y, **fit_params)\n",
      "C:\\Users\\hazel\\anaconda3\\Lib\\site-packages\\sklearn\\ensemble\\_forest.py:424: FutureWarning: `max_features='auto'` has been deprecated in 1.1 and will be removed in 1.3. To keep the past behaviour, explicitly set `max_features='sqrt'` or remove this parameter as it is also the default value for RandomForestClassifiers and ExtraTreesClassifiers.\n",
      "  warn(\n",
      "C:\\Users\\hazel\\anaconda3\\Lib\\site-packages\\sklearn\\metrics\\_classification.py:1344: UndefinedMetricWarning: Precision is ill-defined and being set to 0.0 in labels with no predicted samples. Use `zero_division` parameter to control this behavior.\n",
      "  _warn_prf(average, modifier, msg_start, len(result))\n"
     ]
    },
    {
     "data": {
      "text/html": [
       "<div>\n",
       "<style scoped>\n",
       "    .dataframe tbody tr th:only-of-type {\n",
       "        vertical-align: middle;\n",
       "    }\n",
       "\n",
       "    .dataframe tbody tr th {\n",
       "        vertical-align: top;\n",
       "    }\n",
       "\n",
       "    .dataframe thead th {\n",
       "        text-align: right;\n",
       "    }\n",
       "</style>\n",
       "<table border=\"1\" class=\"dataframe\">\n",
       "  <thead>\n",
       "    <tr style=\"text-align: right;\">\n",
       "      <th></th>\n",
       "      <th>Test Size</th>\n",
       "      <th>Random State</th>\n",
       "      <th>Accuracy</th>\n",
       "      <th>Precision</th>\n",
       "      <th>Recall</th>\n",
       "      <th>F1 Score</th>\n",
       "      <th>Best Param</th>\n",
       "    </tr>\n",
       "  </thead>\n",
       "  <tbody>\n",
       "    <tr>\n",
       "      <th>0</th>\n",
       "      <td>0.5</td>\n",
       "      <td>7</td>\n",
       "      <td>0.986025</td>\n",
       "      <td>0.972245</td>\n",
       "      <td>0.986025</td>\n",
       "      <td>0.979086</td>\n",
       "      <td>{'criterion': 'gini', 'max_features': 'auto', ...</td>\n",
       "    </tr>\n",
       "    <tr>\n",
       "      <th>1</th>\n",
       "      <td>0.5</td>\n",
       "      <td>69</td>\n",
       "      <td>0.986025</td>\n",
       "      <td>0.972245</td>\n",
       "      <td>0.986025</td>\n",
       "      <td>0.979086</td>\n",
       "      <td>{'criterion': 'gini', 'max_features': 'auto', ...</td>\n",
       "    </tr>\n",
       "    <tr>\n",
       "      <th>2</th>\n",
       "      <td>0.5</td>\n",
       "      <td>101</td>\n",
       "      <td>0.986025</td>\n",
       "      <td>0.972245</td>\n",
       "      <td>0.986025</td>\n",
       "      <td>0.979086</td>\n",
       "      <td>{'criterion': 'gini', 'max_features': 'auto', ...</td>\n",
       "    </tr>\n",
       "    <tr>\n",
       "      <th>3</th>\n",
       "      <td>0.4</td>\n",
       "      <td>7</td>\n",
       "      <td>0.986408</td>\n",
       "      <td>0.976812</td>\n",
       "      <td>0.986408</td>\n",
       "      <td>0.981587</td>\n",
       "      <td>{'criterion': 'gini', 'max_features': 'auto', ...</td>\n",
       "    </tr>\n",
       "    <tr>\n",
       "      <th>4</th>\n",
       "      <td>0.4</td>\n",
       "      <td>69</td>\n",
       "      <td>0.984466</td>\n",
       "      <td>0.969173</td>\n",
       "      <td>0.984466</td>\n",
       "      <td>0.976760</td>\n",
       "      <td>{'criterion': 'gini', 'max_features': 'auto', ...</td>\n",
       "    </tr>\n",
       "    <tr>\n",
       "      <th>5</th>\n",
       "      <td>0.4</td>\n",
       "      <td>101</td>\n",
       "      <td>0.986408</td>\n",
       "      <td>0.973000</td>\n",
       "      <td>0.986408</td>\n",
       "      <td>0.979658</td>\n",
       "      <td>{'criterion': 'gini', 'max_features': 'auto', ...</td>\n",
       "    </tr>\n",
       "    <tr>\n",
       "      <th>6</th>\n",
       "      <td>0.3</td>\n",
       "      <td>7</td>\n",
       "      <td>0.989664</td>\n",
       "      <td>0.979435</td>\n",
       "      <td>0.989664</td>\n",
       "      <td>0.984523</td>\n",
       "      <td>{'criterion': 'gini', 'max_features': 'auto', ...</td>\n",
       "    </tr>\n",
       "    <tr>\n",
       "      <th>7</th>\n",
       "      <td>0.3</td>\n",
       "      <td>69</td>\n",
       "      <td>0.987080</td>\n",
       "      <td>0.974327</td>\n",
       "      <td>0.987080</td>\n",
       "      <td>0.980662</td>\n",
       "      <td>{'criterion': 'gini', 'max_features': 'auto', ...</td>\n",
       "    </tr>\n",
       "    <tr>\n",
       "      <th>8</th>\n",
       "      <td>0.3</td>\n",
       "      <td>101</td>\n",
       "      <td>0.987080</td>\n",
       "      <td>0.974327</td>\n",
       "      <td>0.987080</td>\n",
       "      <td>0.980662</td>\n",
       "      <td>{'criterion': 'gini', 'max_features': 'auto', ...</td>\n",
       "    </tr>\n",
       "    <tr>\n",
       "      <th>9</th>\n",
       "      <td>0.2</td>\n",
       "      <td>7</td>\n",
       "      <td>0.992248</td>\n",
       "      <td>0.984556</td>\n",
       "      <td>0.992248</td>\n",
       "      <td>0.988387</td>\n",
       "      <td>{'criterion': 'gini', 'max_features': 'auto', ...</td>\n",
       "    </tr>\n",
       "    <tr>\n",
       "      <th>10</th>\n",
       "      <td>0.2</td>\n",
       "      <td>69</td>\n",
       "      <td>0.984496</td>\n",
       "      <td>0.969233</td>\n",
       "      <td>0.984496</td>\n",
       "      <td>0.976805</td>\n",
       "      <td>{'criterion': 'gini', 'max_features': 'auto', ...</td>\n",
       "    </tr>\n",
       "    <tr>\n",
       "      <th>11</th>\n",
       "      <td>0.2</td>\n",
       "      <td>101</td>\n",
       "      <td>0.984496</td>\n",
       "      <td>0.969233</td>\n",
       "      <td>0.984496</td>\n",
       "      <td>0.976805</td>\n",
       "      <td>{'criterion': 'gini', 'max_features': 'auto', ...</td>\n",
       "    </tr>\n",
       "  </tbody>\n",
       "</table>\n",
       "</div>"
      ],
      "text/plain": [
       "    Test Size  Random State  Accuracy  Precision    Recall  F1 Score  \\\n",
       "0         0.5             7  0.986025   0.972245  0.986025  0.979086   \n",
       "1         0.5            69  0.986025   0.972245  0.986025  0.979086   \n",
       "2         0.5           101  0.986025   0.972245  0.986025  0.979086   \n",
       "3         0.4             7  0.986408   0.976812  0.986408  0.981587   \n",
       "4         0.4            69  0.984466   0.969173  0.984466  0.976760   \n",
       "5         0.4           101  0.986408   0.973000  0.986408  0.979658   \n",
       "6         0.3             7  0.989664   0.979435  0.989664  0.984523   \n",
       "7         0.3            69  0.987080   0.974327  0.987080  0.980662   \n",
       "8         0.3           101  0.987080   0.974327  0.987080  0.980662   \n",
       "9         0.2             7  0.992248   0.984556  0.992248  0.988387   \n",
       "10        0.2            69  0.984496   0.969233  0.984496  0.976805   \n",
       "11        0.2           101  0.984496   0.969233  0.984496  0.976805   \n",
       "\n",
       "                                           Best Param  \n",
       "0   {'criterion': 'gini', 'max_features': 'auto', ...  \n",
       "1   {'criterion': 'gini', 'max_features': 'auto', ...  \n",
       "2   {'criterion': 'gini', 'max_features': 'auto', ...  \n",
       "3   {'criterion': 'gini', 'max_features': 'auto', ...  \n",
       "4   {'criterion': 'gini', 'max_features': 'auto', ...  \n",
       "5   {'criterion': 'gini', 'max_features': 'auto', ...  \n",
       "6   {'criterion': 'gini', 'max_features': 'auto', ...  \n",
       "7   {'criterion': 'gini', 'max_features': 'auto', ...  \n",
       "8   {'criterion': 'gini', 'max_features': 'auto', ...  \n",
       "9   {'criterion': 'gini', 'max_features': 'auto', ...  \n",
       "10  {'criterion': 'gini', 'max_features': 'auto', ...  \n",
       "11  {'criterion': 'gini', 'max_features': 'auto', ...  "
      ]
     },
     "execution_count": 40,
     "metadata": {},
     "output_type": "execute_result"
    }
   ],
   "source": [
    "tempB_SL_imb = []\n",
    "\n",
    "y = merge_B_imb[['CGPA']]\n",
    "X = merge_B_imb[['Relationship Status', 'Scholarship', 'PTPTN', 'Skipping Class', 'Additional Course',\n",
    "                    'Study Behavior', 'Study Time', 'Extra Curricular Activities', 'Part-time Job', 'Commute Time',\n",
    "                    'Gaming', 'Alcohol Consumption', 'I have enough free time after class', 'Social Interaction',\n",
    "                    'I hang out with friends']]\n",
    "\n",
    "print(\"X:\", X.shape,\"y:\", y.shape)\n",
    "\n",
    "for i in [0.5,0.4,0.3,0.2]:\n",
    "    for j in rand_states:\n",
    "        X_train, X_test, y_train, y_test = train_test_split(X, y, test_size=i, random_state=j)\n",
    "        param_grid = {'n_estimators': [100, 200, 300, 400],\n",
    "                      'max_features': ['auto', 'sqrt', 'log2'],\n",
    "                      'criterion' :['gini', 'entropy']}\n",
    "\n",
    "        model = GridSearchCV(RandomForestClassifier(), param_grid, refit=True, n_jobs=-1, cv=10, verbose=1)\n",
    "        model.fit(X_train, y_train)\n",
    "        pred = model.predict(X_test)\n",
    "\n",
    "        acc = accuracy_score(y_test,pred)\n",
    "        pre = precision_score(y_test, pred, average='weighted')\n",
    "        recall = recall_score(y_test, pred, average='weighted')\n",
    "        f1 = f1_score(y_test, pred, average='weighted')\n",
    "        param = model.best_params_\n",
    "    \n",
    "        tempB_SL_imb.append([i,j,acc,pre,recall,f1,param])\n",
    "        \n",
    "dfB_SL_imb = pd.DataFrame(columns=['Test Size','Random State','Accuracy','Precision','Recall','F1 Score','Best Param'],data=tempB_SL_imb)\n",
    "dfB_SL_imb"
   ]
  },
  {
   "cell_type": "code",
   "execution_count": 41,
   "id": "c2be9b0e-ac5b-48cc-8672-7aedb3f39c38",
   "metadata": {},
   "outputs": [
    {
     "data": {
      "text/html": [
       "<div>\n",
       "<style scoped>\n",
       "    .dataframe tbody tr th:only-of-type {\n",
       "        vertical-align: middle;\n",
       "    }\n",
       "\n",
       "    .dataframe tbody tr th {\n",
       "        vertical-align: top;\n",
       "    }\n",
       "\n",
       "    .dataframe thead th {\n",
       "        text-align: right;\n",
       "    }\n",
       "</style>\n",
       "<table border=\"1\" class=\"dataframe\">\n",
       "  <thead>\n",
       "    <tr style=\"text-align: right;\">\n",
       "      <th></th>\n",
       "      <th>Accuracy</th>\n",
       "      <th>Precision</th>\n",
       "      <th>Recall</th>\n",
       "      <th>F1 Score</th>\n",
       "    </tr>\n",
       "    <tr>\n",
       "      <th>Test Size</th>\n",
       "      <th></th>\n",
       "      <th></th>\n",
       "      <th></th>\n",
       "      <th></th>\n",
       "    </tr>\n",
       "  </thead>\n",
       "  <tbody>\n",
       "    <tr>\n",
       "      <th>0.2</th>\n",
       "      <td>0.987080</td>\n",
       "      <td>0.974340</td>\n",
       "      <td>0.987080</td>\n",
       "      <td>0.980666</td>\n",
       "    </tr>\n",
       "    <tr>\n",
       "      <th>0.3</th>\n",
       "      <td>0.987941</td>\n",
       "      <td>0.976030</td>\n",
       "      <td>0.987941</td>\n",
       "      <td>0.981949</td>\n",
       "    </tr>\n",
       "    <tr>\n",
       "      <th>0.4</th>\n",
       "      <td>0.985761</td>\n",
       "      <td>0.972995</td>\n",
       "      <td>0.985761</td>\n",
       "      <td>0.979335</td>\n",
       "    </tr>\n",
       "    <tr>\n",
       "      <th>0.5</th>\n",
       "      <td>0.986025</td>\n",
       "      <td>0.972245</td>\n",
       "      <td>0.986025</td>\n",
       "      <td>0.979086</td>\n",
       "    </tr>\n",
       "  </tbody>\n",
       "</table>\n",
       "</div>"
      ],
      "text/plain": [
       "           Accuracy  Precision    Recall  F1 Score\n",
       "Test Size                                         \n",
       "0.2        0.987080   0.974340  0.987080  0.980666\n",
       "0.3        0.987941   0.976030  0.987941  0.981949\n",
       "0.4        0.985761   0.972995  0.985761  0.979335\n",
       "0.5        0.986025   0.972245  0.986025  0.979086"
      ]
     },
     "execution_count": 41,
     "metadata": {},
     "output_type": "execute_result"
    }
   ],
   "source": [
    "dfB_SL_imb.groupby('Test Size')[['Accuracy','Precision','Recall','F1 Score']].mean()"
   ]
  },
  {
   "cell_type": "code",
   "execution_count": 42,
   "id": "4ba7ffb3-b262-4668-9142-ff903a956fb0",
   "metadata": {},
   "outputs": [
    {
     "name": "stdout",
     "output_type": "stream",
     "text": [
      "Imbalance Binary: Student Lifestyle\n",
      "\n",
      "{'criterion': 'gini', 'max_features': 'auto', 'n_estimators': 100}\n",
      "{'criterion': 'gini', 'max_features': 'auto', 'n_estimators': 100}\n",
      "{'criterion': 'gini', 'max_features': 'auto', 'n_estimators': 100}\n",
      "{'criterion': 'gini', 'max_features': 'auto', 'n_estimators': 100}\n",
      "{'criterion': 'gini', 'max_features': 'auto', 'n_estimators': 100}\n",
      "{'criterion': 'gini', 'max_features': 'auto', 'n_estimators': 100}\n",
      "{'criterion': 'gini', 'max_features': 'auto', 'n_estimators': 100}\n",
      "{'criterion': 'gini', 'max_features': 'auto', 'n_estimators': 200}\n",
      "{'criterion': 'gini', 'max_features': 'auto', 'n_estimators': 100}\n",
      "{'criterion': 'gini', 'max_features': 'auto', 'n_estimators': 100}\n",
      "{'criterion': 'gini', 'max_features': 'auto', 'n_estimators': 100}\n",
      "{'criterion': 'gini', 'max_features': 'auto', 'n_estimators': 100}\n"
     ]
    }
   ],
   "source": [
    "print(\"Imbalance Binary: Student Lifestyle\\n\")\n",
    "for x in dfB_SL_imb[\"Best Param\"]:\n",
    "    print(x)"
   ]
  },
  {
   "cell_type": "markdown",
   "id": "81a4a539-93ad-44d7-ba78-1d74289765e1",
   "metadata": {},
   "source": [
    "### SL after RandomOverSampler"
   ]
  },
  {
   "cell_type": "code",
   "execution_count": 43,
   "id": "c6d827c3-b857-4a88-b578-f7db597cc85f",
   "metadata": {},
   "outputs": [
    {
     "name": "stdout",
     "output_type": "stream",
     "text": [
      "X: (2540, 15) y: (2540, 1)\n",
      "Fitting 10 folds for each of 24 candidates, totalling 240 fits\n"
     ]
    },
    {
     "name": "stderr",
     "output_type": "stream",
     "text": [
      "C:\\Users\\hazel\\anaconda3\\Lib\\site-packages\\sklearn\\model_selection\\_search.py:909: DataConversionWarning: A column-vector y was passed when a 1d array was expected. Please change the shape of y to (n_samples,), for example using ravel().\n",
      "  self.best_estimator_.fit(X, y, **fit_params)\n",
      "C:\\Users\\hazel\\anaconda3\\Lib\\site-packages\\sklearn\\ensemble\\_forest.py:424: FutureWarning: `max_features='auto'` has been deprecated in 1.1 and will be removed in 1.3. To keep the past behaviour, explicitly set `max_features='sqrt'` or remove this parameter as it is also the default value for RandomForestClassifiers and ExtraTreesClassifiers.\n",
      "  warn(\n"
     ]
    },
    {
     "name": "stdout",
     "output_type": "stream",
     "text": [
      "Fitting 10 folds for each of 24 candidates, totalling 240 fits\n"
     ]
    },
    {
     "name": "stderr",
     "output_type": "stream",
     "text": [
      "C:\\Users\\hazel\\anaconda3\\Lib\\site-packages\\sklearn\\model_selection\\_search.py:909: DataConversionWarning: A column-vector y was passed when a 1d array was expected. Please change the shape of y to (n_samples,), for example using ravel().\n",
      "  self.best_estimator_.fit(X, y, **fit_params)\n"
     ]
    },
    {
     "name": "stdout",
     "output_type": "stream",
     "text": [
      "Fitting 10 folds for each of 24 candidates, totalling 240 fits\n"
     ]
    },
    {
     "name": "stderr",
     "output_type": "stream",
     "text": [
      "C:\\Users\\hazel\\anaconda3\\Lib\\site-packages\\sklearn\\model_selection\\_search.py:909: DataConversionWarning: A column-vector y was passed when a 1d array was expected. Please change the shape of y to (n_samples,), for example using ravel().\n",
      "  self.best_estimator_.fit(X, y, **fit_params)\n",
      "C:\\Users\\hazel\\anaconda3\\Lib\\site-packages\\sklearn\\ensemble\\_forest.py:424: FutureWarning: `max_features='auto'` has been deprecated in 1.1 and will be removed in 1.3. To keep the past behaviour, explicitly set `max_features='sqrt'` or remove this parameter as it is also the default value for RandomForestClassifiers and ExtraTreesClassifiers.\n",
      "  warn(\n"
     ]
    },
    {
     "name": "stdout",
     "output_type": "stream",
     "text": [
      "Fitting 10 folds for each of 24 candidates, totalling 240 fits\n"
     ]
    },
    {
     "name": "stderr",
     "output_type": "stream",
     "text": [
      "C:\\Users\\hazel\\anaconda3\\Lib\\site-packages\\sklearn\\model_selection\\_search.py:909: DataConversionWarning: A column-vector y was passed when a 1d array was expected. Please change the shape of y to (n_samples,), for example using ravel().\n",
      "  self.best_estimator_.fit(X, y, **fit_params)\n",
      "C:\\Users\\hazel\\anaconda3\\Lib\\site-packages\\sklearn\\ensemble\\_forest.py:424: FutureWarning: `max_features='auto'` has been deprecated in 1.1 and will be removed in 1.3. To keep the past behaviour, explicitly set `max_features='sqrt'` or remove this parameter as it is also the default value for RandomForestClassifiers and ExtraTreesClassifiers.\n",
      "  warn(\n"
     ]
    },
    {
     "name": "stdout",
     "output_type": "stream",
     "text": [
      "Fitting 10 folds for each of 24 candidates, totalling 240 fits\n"
     ]
    },
    {
     "name": "stderr",
     "output_type": "stream",
     "text": [
      "C:\\Users\\hazel\\anaconda3\\Lib\\site-packages\\sklearn\\model_selection\\_search.py:909: DataConversionWarning: A column-vector y was passed when a 1d array was expected. Please change the shape of y to (n_samples,), for example using ravel().\n",
      "  self.best_estimator_.fit(X, y, **fit_params)\n"
     ]
    },
    {
     "name": "stdout",
     "output_type": "stream",
     "text": [
      "Fitting 10 folds for each of 24 candidates, totalling 240 fits\n"
     ]
    },
    {
     "name": "stderr",
     "output_type": "stream",
     "text": [
      "C:\\Users\\hazel\\anaconda3\\Lib\\site-packages\\sklearn\\model_selection\\_search.py:909: DataConversionWarning: A column-vector y was passed when a 1d array was expected. Please change the shape of y to (n_samples,), for example using ravel().\n",
      "  self.best_estimator_.fit(X, y, **fit_params)\n",
      "C:\\Users\\hazel\\anaconda3\\Lib\\site-packages\\sklearn\\ensemble\\_forest.py:424: FutureWarning: `max_features='auto'` has been deprecated in 1.1 and will be removed in 1.3. To keep the past behaviour, explicitly set `max_features='sqrt'` or remove this parameter as it is also the default value for RandomForestClassifiers and ExtraTreesClassifiers.\n",
      "  warn(\n"
     ]
    },
    {
     "name": "stdout",
     "output_type": "stream",
     "text": [
      "Fitting 10 folds for each of 24 candidates, totalling 240 fits\n"
     ]
    },
    {
     "name": "stderr",
     "output_type": "stream",
     "text": [
      "C:\\Users\\hazel\\anaconda3\\Lib\\site-packages\\sklearn\\model_selection\\_search.py:909: DataConversionWarning: A column-vector y was passed when a 1d array was expected. Please change the shape of y to (n_samples,), for example using ravel().\n",
      "  self.best_estimator_.fit(X, y, **fit_params)\n",
      "C:\\Users\\hazel\\anaconda3\\Lib\\site-packages\\sklearn\\ensemble\\_forest.py:424: FutureWarning: `max_features='auto'` has been deprecated in 1.1 and will be removed in 1.3. To keep the past behaviour, explicitly set `max_features='sqrt'` or remove this parameter as it is also the default value for RandomForestClassifiers and ExtraTreesClassifiers.\n",
      "  warn(\n"
     ]
    },
    {
     "name": "stdout",
     "output_type": "stream",
     "text": [
      "Fitting 10 folds for each of 24 candidates, totalling 240 fits\n"
     ]
    },
    {
     "name": "stderr",
     "output_type": "stream",
     "text": [
      "C:\\Users\\hazel\\anaconda3\\Lib\\site-packages\\sklearn\\model_selection\\_search.py:909: DataConversionWarning: A column-vector y was passed when a 1d array was expected. Please change the shape of y to (n_samples,), for example using ravel().\n",
      "  self.best_estimator_.fit(X, y, **fit_params)\n",
      "C:\\Users\\hazel\\anaconda3\\Lib\\site-packages\\sklearn\\ensemble\\_forest.py:424: FutureWarning: `max_features='auto'` has been deprecated in 1.1 and will be removed in 1.3. To keep the past behaviour, explicitly set `max_features='sqrt'` or remove this parameter as it is also the default value for RandomForestClassifiers and ExtraTreesClassifiers.\n",
      "  warn(\n"
     ]
    },
    {
     "name": "stdout",
     "output_type": "stream",
     "text": [
      "Fitting 10 folds for each of 24 candidates, totalling 240 fits\n"
     ]
    },
    {
     "name": "stderr",
     "output_type": "stream",
     "text": [
      "C:\\Users\\hazel\\anaconda3\\Lib\\site-packages\\sklearn\\model_selection\\_search.py:909: DataConversionWarning: A column-vector y was passed when a 1d array was expected. Please change the shape of y to (n_samples,), for example using ravel().\n",
      "  self.best_estimator_.fit(X, y, **fit_params)\n",
      "C:\\Users\\hazel\\anaconda3\\Lib\\site-packages\\sklearn\\ensemble\\_forest.py:424: FutureWarning: `max_features='auto'` has been deprecated in 1.1 and will be removed in 1.3. To keep the past behaviour, explicitly set `max_features='sqrt'` or remove this parameter as it is also the default value for RandomForestClassifiers and ExtraTreesClassifiers.\n",
      "  warn(\n"
     ]
    },
    {
     "name": "stdout",
     "output_type": "stream",
     "text": [
      "Fitting 10 folds for each of 24 candidates, totalling 240 fits\n"
     ]
    },
    {
     "name": "stderr",
     "output_type": "stream",
     "text": [
      "C:\\Users\\hazel\\anaconda3\\Lib\\site-packages\\sklearn\\model_selection\\_search.py:909: DataConversionWarning: A column-vector y was passed when a 1d array was expected. Please change the shape of y to (n_samples,), for example using ravel().\n",
      "  self.best_estimator_.fit(X, y, **fit_params)\n",
      "C:\\Users\\hazel\\anaconda3\\Lib\\site-packages\\sklearn\\ensemble\\_forest.py:424: FutureWarning: `max_features='auto'` has been deprecated in 1.1 and will be removed in 1.3. To keep the past behaviour, explicitly set `max_features='sqrt'` or remove this parameter as it is also the default value for RandomForestClassifiers and ExtraTreesClassifiers.\n",
      "  warn(\n"
     ]
    },
    {
     "name": "stdout",
     "output_type": "stream",
     "text": [
      "Fitting 10 folds for each of 24 candidates, totalling 240 fits\n"
     ]
    },
    {
     "name": "stderr",
     "output_type": "stream",
     "text": [
      "C:\\Users\\hazel\\anaconda3\\Lib\\site-packages\\sklearn\\model_selection\\_search.py:909: DataConversionWarning: A column-vector y was passed when a 1d array was expected. Please change the shape of y to (n_samples,), for example using ravel().\n",
      "  self.best_estimator_.fit(X, y, **fit_params)\n"
     ]
    },
    {
     "name": "stdout",
     "output_type": "stream",
     "text": [
      "Fitting 10 folds for each of 24 candidates, totalling 240 fits\n"
     ]
    },
    {
     "name": "stderr",
     "output_type": "stream",
     "text": [
      "C:\\Users\\hazel\\anaconda3\\Lib\\site-packages\\sklearn\\model_selection\\_search.py:909: DataConversionWarning: A column-vector y was passed when a 1d array was expected. Please change the shape of y to (n_samples,), for example using ravel().\n",
      "  self.best_estimator_.fit(X, y, **fit_params)\n",
      "C:\\Users\\hazel\\anaconda3\\Lib\\site-packages\\sklearn\\ensemble\\_forest.py:424: FutureWarning: `max_features='auto'` has been deprecated in 1.1 and will be removed in 1.3. To keep the past behaviour, explicitly set `max_features='sqrt'` or remove this parameter as it is also the default value for RandomForestClassifiers and ExtraTreesClassifiers.\n",
      "  warn(\n"
     ]
    },
    {
     "data": {
      "text/html": [
       "<div>\n",
       "<style scoped>\n",
       "    .dataframe tbody tr th:only-of-type {\n",
       "        vertical-align: middle;\n",
       "    }\n",
       "\n",
       "    .dataframe tbody tr th {\n",
       "        vertical-align: top;\n",
       "    }\n",
       "\n",
       "    .dataframe thead th {\n",
       "        text-align: right;\n",
       "    }\n",
       "</style>\n",
       "<table border=\"1\" class=\"dataframe\">\n",
       "  <thead>\n",
       "    <tr style=\"text-align: right;\">\n",
       "      <th></th>\n",
       "      <th>Test Size</th>\n",
       "      <th>Random State</th>\n",
       "      <th>Accuracy</th>\n",
       "      <th>Precision</th>\n",
       "      <th>Recall</th>\n",
       "      <th>F1 Score</th>\n",
       "      <th>Best Param</th>\n",
       "    </tr>\n",
       "  </thead>\n",
       "  <tbody>\n",
       "    <tr>\n",
       "      <th>0</th>\n",
       "      <td>0.5</td>\n",
       "      <td>7</td>\n",
       "      <td>0.996850</td>\n",
       "      <td>0.996870</td>\n",
       "      <td>0.996850</td>\n",
       "      <td>0.996850</td>\n",
       "      <td>{'criterion': 'gini', 'max_features': 'auto', ...</td>\n",
       "    </tr>\n",
       "    <tr>\n",
       "      <th>1</th>\n",
       "      <td>0.5</td>\n",
       "      <td>69</td>\n",
       "      <td>0.999213</td>\n",
       "      <td>0.999214</td>\n",
       "      <td>0.999213</td>\n",
       "      <td>0.999213</td>\n",
       "      <td>{'criterion': 'entropy', 'max_features': 'sqrt...</td>\n",
       "    </tr>\n",
       "    <tr>\n",
       "      <th>2</th>\n",
       "      <td>0.5</td>\n",
       "      <td>101</td>\n",
       "      <td>0.995276</td>\n",
       "      <td>0.995321</td>\n",
       "      <td>0.995276</td>\n",
       "      <td>0.995276</td>\n",
       "      <td>{'criterion': 'gini', 'max_features': 'auto', ...</td>\n",
       "    </tr>\n",
       "    <tr>\n",
       "      <th>3</th>\n",
       "      <td>0.4</td>\n",
       "      <td>7</td>\n",
       "      <td>0.998031</td>\n",
       "      <td>0.998039</td>\n",
       "      <td>0.998031</td>\n",
       "      <td>0.998031</td>\n",
       "      <td>{'criterion': 'gini', 'max_features': 'auto', ...</td>\n",
       "    </tr>\n",
       "    <tr>\n",
       "      <th>4</th>\n",
       "      <td>0.4</td>\n",
       "      <td>69</td>\n",
       "      <td>1.000000</td>\n",
       "      <td>1.000000</td>\n",
       "      <td>1.000000</td>\n",
       "      <td>1.000000</td>\n",
       "      <td>{'criterion': 'gini', 'max_features': 'sqrt', ...</td>\n",
       "    </tr>\n",
       "    <tr>\n",
       "      <th>5</th>\n",
       "      <td>0.4</td>\n",
       "      <td>101</td>\n",
       "      <td>0.998031</td>\n",
       "      <td>0.998039</td>\n",
       "      <td>0.998031</td>\n",
       "      <td>0.998032</td>\n",
       "      <td>{'criterion': 'gini', 'max_features': 'auto', ...</td>\n",
       "    </tr>\n",
       "    <tr>\n",
       "      <th>6</th>\n",
       "      <td>0.3</td>\n",
       "      <td>7</td>\n",
       "      <td>0.996063</td>\n",
       "      <td>0.996093</td>\n",
       "      <td>0.996063</td>\n",
       "      <td>0.996062</td>\n",
       "      <td>{'criterion': 'gini', 'max_features': 'auto', ...</td>\n",
       "    </tr>\n",
       "    <tr>\n",
       "      <th>7</th>\n",
       "      <td>0.3</td>\n",
       "      <td>69</td>\n",
       "      <td>1.000000</td>\n",
       "      <td>1.000000</td>\n",
       "      <td>1.000000</td>\n",
       "      <td>1.000000</td>\n",
       "      <td>{'criterion': 'entropy', 'max_features': 'auto...</td>\n",
       "    </tr>\n",
       "    <tr>\n",
       "      <th>8</th>\n",
       "      <td>0.3</td>\n",
       "      <td>101</td>\n",
       "      <td>0.998688</td>\n",
       "      <td>0.998691</td>\n",
       "      <td>0.998688</td>\n",
       "      <td>0.998688</td>\n",
       "      <td>{'criterion': 'gini', 'max_features': 'auto', ...</td>\n",
       "    </tr>\n",
       "    <tr>\n",
       "      <th>9</th>\n",
       "      <td>0.2</td>\n",
       "      <td>7</td>\n",
       "      <td>0.998031</td>\n",
       "      <td>0.998039</td>\n",
       "      <td>0.998031</td>\n",
       "      <td>0.998031</td>\n",
       "      <td>{'criterion': 'gini', 'max_features': 'auto', ...</td>\n",
       "    </tr>\n",
       "    <tr>\n",
       "      <th>10</th>\n",
       "      <td>0.2</td>\n",
       "      <td>69</td>\n",
       "      <td>1.000000</td>\n",
       "      <td>1.000000</td>\n",
       "      <td>1.000000</td>\n",
       "      <td>1.000000</td>\n",
       "      <td>{'criterion': 'gini', 'max_features': 'sqrt', ...</td>\n",
       "    </tr>\n",
       "    <tr>\n",
       "      <th>11</th>\n",
       "      <td>0.2</td>\n",
       "      <td>101</td>\n",
       "      <td>1.000000</td>\n",
       "      <td>1.000000</td>\n",
       "      <td>1.000000</td>\n",
       "      <td>1.000000</td>\n",
       "      <td>{'criterion': 'entropy', 'max_features': 'auto...</td>\n",
       "    </tr>\n",
       "  </tbody>\n",
       "</table>\n",
       "</div>"
      ],
      "text/plain": [
       "    Test Size  Random State  Accuracy  Precision    Recall  F1 Score  \\\n",
       "0         0.5             7  0.996850   0.996870  0.996850  0.996850   \n",
       "1         0.5            69  0.999213   0.999214  0.999213  0.999213   \n",
       "2         0.5           101  0.995276   0.995321  0.995276  0.995276   \n",
       "3         0.4             7  0.998031   0.998039  0.998031  0.998031   \n",
       "4         0.4            69  1.000000   1.000000  1.000000  1.000000   \n",
       "5         0.4           101  0.998031   0.998039  0.998031  0.998032   \n",
       "6         0.3             7  0.996063   0.996093  0.996063  0.996062   \n",
       "7         0.3            69  1.000000   1.000000  1.000000  1.000000   \n",
       "8         0.3           101  0.998688   0.998691  0.998688  0.998688   \n",
       "9         0.2             7  0.998031   0.998039  0.998031  0.998031   \n",
       "10        0.2            69  1.000000   1.000000  1.000000  1.000000   \n",
       "11        0.2           101  1.000000   1.000000  1.000000  1.000000   \n",
       "\n",
       "                                           Best Param  \n",
       "0   {'criterion': 'gini', 'max_features': 'auto', ...  \n",
       "1   {'criterion': 'entropy', 'max_features': 'sqrt...  \n",
       "2   {'criterion': 'gini', 'max_features': 'auto', ...  \n",
       "3   {'criterion': 'gini', 'max_features': 'auto', ...  \n",
       "4   {'criterion': 'gini', 'max_features': 'sqrt', ...  \n",
       "5   {'criterion': 'gini', 'max_features': 'auto', ...  \n",
       "6   {'criterion': 'gini', 'max_features': 'auto', ...  \n",
       "7   {'criterion': 'entropy', 'max_features': 'auto...  \n",
       "8   {'criterion': 'gini', 'max_features': 'auto', ...  \n",
       "9   {'criterion': 'gini', 'max_features': 'auto', ...  \n",
       "10  {'criterion': 'gini', 'max_features': 'sqrt', ...  \n",
       "11  {'criterion': 'entropy', 'max_features': 'auto...  "
      ]
     },
     "execution_count": 43,
     "metadata": {},
     "output_type": "execute_result"
    }
   ],
   "source": [
    "tempB_SL_ROS = []\n",
    "\n",
    "y = merge_B_ROS[['CGPA']]\n",
    "X = merge_B_ROS[['Relationship Status', 'Scholarship', 'PTPTN', 'Skipping Class', 'Additional Course',\n",
    "                    'Study Behavior', 'Study Time', 'Extra Curricular Activities', 'Part-time Job', 'Commute Time',\n",
    "                    'Gaming', 'Alcohol Consumption', 'I have enough free time after class', 'Social Interaction',\n",
    "                    'I hang out with friends']]\n",
    "\n",
    "print(\"X:\", X.shape,\"y:\", y.shape)\n",
    "\n",
    "for i in [0.5,0.4,0.3,0.2]:\n",
    "    for j in rand_states:\n",
    "        X_train, X_test, y_train, y_test = train_test_split(X, y, test_size=i, random_state=j)\n",
    "        param_grid = {'n_estimators': [100, 200, 300, 400],\n",
    "                      'max_features': ['auto', 'sqrt', 'log2'],\n",
    "                      'criterion' :['gini', 'entropy']}\n",
    "\n",
    "        model = GridSearchCV(RandomForestClassifier(), param_grid, refit=True, n_jobs=-1, cv=10, verbose=1)\n",
    "        model.fit(X_train, y_train)\n",
    "        pred = model.predict(X_test)\n",
    "\n",
    "        acc = accuracy_score(y_test,pred)\n",
    "        pre = precision_score(y_test, pred, average='weighted')\n",
    "        recall = recall_score(y_test, pred, average='weighted')\n",
    "        f1 = f1_score(y_test, pred, average='weighted')\n",
    "        param = model.best_params_\n",
    "    \n",
    "        tempB_SL_ROS.append([i,j,acc,pre,recall,f1,param])\n",
    "        \n",
    "dfB_SL_ROS = pd.DataFrame(columns=['Test Size','Random State','Accuracy','Precision','Recall','F1 Score','Best Param'],data=tempB_SL_ROS)\n",
    "dfB_SL_ROS"
   ]
  },
  {
   "cell_type": "code",
   "execution_count": 44,
   "id": "5fe2462a-46c8-4e99-86f7-4340013977cd",
   "metadata": {},
   "outputs": [
    {
     "data": {
      "text/html": [
       "<div>\n",
       "<style scoped>\n",
       "    .dataframe tbody tr th:only-of-type {\n",
       "        vertical-align: middle;\n",
       "    }\n",
       "\n",
       "    .dataframe tbody tr th {\n",
       "        vertical-align: top;\n",
       "    }\n",
       "\n",
       "    .dataframe thead th {\n",
       "        text-align: right;\n",
       "    }\n",
       "</style>\n",
       "<table border=\"1\" class=\"dataframe\">\n",
       "  <thead>\n",
       "    <tr style=\"text-align: right;\">\n",
       "      <th></th>\n",
       "      <th>Accuracy</th>\n",
       "      <th>Precision</th>\n",
       "      <th>Recall</th>\n",
       "      <th>F1 Score</th>\n",
       "    </tr>\n",
       "    <tr>\n",
       "      <th>Test Size</th>\n",
       "      <th></th>\n",
       "      <th></th>\n",
       "      <th></th>\n",
       "      <th></th>\n",
       "    </tr>\n",
       "  </thead>\n",
       "  <tbody>\n",
       "    <tr>\n",
       "      <th>0.2</th>\n",
       "      <td>0.999344</td>\n",
       "      <td>0.999346</td>\n",
       "      <td>0.999344</td>\n",
       "      <td>0.999344</td>\n",
       "    </tr>\n",
       "    <tr>\n",
       "      <th>0.3</th>\n",
       "      <td>0.998250</td>\n",
       "      <td>0.998261</td>\n",
       "      <td>0.998250</td>\n",
       "      <td>0.998250</td>\n",
       "    </tr>\n",
       "    <tr>\n",
       "      <th>0.4</th>\n",
       "      <td>0.998688</td>\n",
       "      <td>0.998693</td>\n",
       "      <td>0.998688</td>\n",
       "      <td>0.998688</td>\n",
       "    </tr>\n",
       "    <tr>\n",
       "      <th>0.5</th>\n",
       "      <td>0.997113</td>\n",
       "      <td>0.997135</td>\n",
       "      <td>0.997113</td>\n",
       "      <td>0.997113</td>\n",
       "    </tr>\n",
       "  </tbody>\n",
       "</table>\n",
       "</div>"
      ],
      "text/plain": [
       "           Accuracy  Precision    Recall  F1 Score\n",
       "Test Size                                         \n",
       "0.2        0.999344   0.999346  0.999344  0.999344\n",
       "0.3        0.998250   0.998261  0.998250  0.998250\n",
       "0.4        0.998688   0.998693  0.998688  0.998688\n",
       "0.5        0.997113   0.997135  0.997113  0.997113"
      ]
     },
     "execution_count": 44,
     "metadata": {},
     "output_type": "execute_result"
    }
   ],
   "source": [
    "dfB_SL_ROS.groupby('Test Size')[['Accuracy','Precision','Recall','F1 Score']].mean()"
   ]
  },
  {
   "cell_type": "code",
   "execution_count": 45,
   "id": "e3604ccd-e8bc-4e98-a563-51fd3b77a8ff",
   "metadata": {},
   "outputs": [
    {
     "name": "stdout",
     "output_type": "stream",
     "text": [
      "Binary: Student Lifestyle\n",
      "\n",
      "{'criterion': 'gini', 'max_features': 'auto', 'n_estimators': 100}\n",
      "{'criterion': 'entropy', 'max_features': 'sqrt', 'n_estimators': 100}\n",
      "{'criterion': 'gini', 'max_features': 'auto', 'n_estimators': 100}\n",
      "{'criterion': 'gini', 'max_features': 'auto', 'n_estimators': 200}\n",
      "{'criterion': 'gini', 'max_features': 'sqrt', 'n_estimators': 100}\n",
      "{'criterion': 'gini', 'max_features': 'auto', 'n_estimators': 300}\n",
      "{'criterion': 'gini', 'max_features': 'auto', 'n_estimators': 100}\n",
      "{'criterion': 'entropy', 'max_features': 'auto', 'n_estimators': 300}\n",
      "{'criterion': 'gini', 'max_features': 'auto', 'n_estimators': 400}\n",
      "{'criterion': 'gini', 'max_features': 'auto', 'n_estimators': 100}\n",
      "{'criterion': 'gini', 'max_features': 'sqrt', 'n_estimators': 100}\n",
      "{'criterion': 'entropy', 'max_features': 'auto', 'n_estimators': 100}\n"
     ]
    }
   ],
   "source": [
    "print(\"Binary: Student Lifestyle\\n\")\n",
    "for x in dfB_SL_ROS[\"Best Param\"]:\n",
    "    print(x)"
   ]
  },
  {
   "cell_type": "markdown",
   "id": "05273ced-2c29-4c47-8b41-2f8c9114bade",
   "metadata": {},
   "source": [
    "### SL after SMOTE"
   ]
  },
  {
   "cell_type": "code",
   "execution_count": 46,
   "id": "04a8b7fe-5dea-497b-9711-18fc1d1a2b57",
   "metadata": {},
   "outputs": [
    {
     "name": "stdout",
     "output_type": "stream",
     "text": [
      "X: (2540, 15) y: (2540, 1)\n",
      "Fitting 10 folds for each of 24 candidates, totalling 240 fits\n"
     ]
    },
    {
     "name": "stderr",
     "output_type": "stream",
     "text": [
      "C:\\Users\\hazel\\anaconda3\\Lib\\site-packages\\sklearn\\model_selection\\_search.py:909: DataConversionWarning: A column-vector y was passed when a 1d array was expected. Please change the shape of y to (n_samples,), for example using ravel().\n",
      "  self.best_estimator_.fit(X, y, **fit_params)\n"
     ]
    },
    {
     "name": "stdout",
     "output_type": "stream",
     "text": [
      "Fitting 10 folds for each of 24 candidates, totalling 240 fits\n"
     ]
    },
    {
     "name": "stderr",
     "output_type": "stream",
     "text": [
      "C:\\Users\\hazel\\anaconda3\\Lib\\site-packages\\sklearn\\model_selection\\_search.py:909: DataConversionWarning: A column-vector y was passed when a 1d array was expected. Please change the shape of y to (n_samples,), for example using ravel().\n",
      "  self.best_estimator_.fit(X, y, **fit_params)\n"
     ]
    },
    {
     "name": "stdout",
     "output_type": "stream",
     "text": [
      "Fitting 10 folds for each of 24 candidates, totalling 240 fits\n"
     ]
    },
    {
     "name": "stderr",
     "output_type": "stream",
     "text": [
      "C:\\Users\\hazel\\anaconda3\\Lib\\site-packages\\sklearn\\model_selection\\_search.py:909: DataConversionWarning: A column-vector y was passed when a 1d array was expected. Please change the shape of y to (n_samples,), for example using ravel().\n",
      "  self.best_estimator_.fit(X, y, **fit_params)\n",
      "C:\\Users\\hazel\\anaconda3\\Lib\\site-packages\\sklearn\\ensemble\\_forest.py:424: FutureWarning: `max_features='auto'` has been deprecated in 1.1 and will be removed in 1.3. To keep the past behaviour, explicitly set `max_features='sqrt'` or remove this parameter as it is also the default value for RandomForestClassifiers and ExtraTreesClassifiers.\n",
      "  warn(\n"
     ]
    },
    {
     "name": "stdout",
     "output_type": "stream",
     "text": [
      "Fitting 10 folds for each of 24 candidates, totalling 240 fits\n"
     ]
    },
    {
     "name": "stderr",
     "output_type": "stream",
     "text": [
      "C:\\Users\\hazel\\anaconda3\\Lib\\site-packages\\sklearn\\model_selection\\_search.py:909: DataConversionWarning: A column-vector y was passed when a 1d array was expected. Please change the shape of y to (n_samples,), for example using ravel().\n",
      "  self.best_estimator_.fit(X, y, **fit_params)\n"
     ]
    },
    {
     "name": "stdout",
     "output_type": "stream",
     "text": [
      "Fitting 10 folds for each of 24 candidates, totalling 240 fits\n"
     ]
    },
    {
     "name": "stderr",
     "output_type": "stream",
     "text": [
      "C:\\Users\\hazel\\anaconda3\\Lib\\site-packages\\sklearn\\model_selection\\_search.py:909: DataConversionWarning: A column-vector y was passed when a 1d array was expected. Please change the shape of y to (n_samples,), for example using ravel().\n",
      "  self.best_estimator_.fit(X, y, **fit_params)\n"
     ]
    },
    {
     "name": "stdout",
     "output_type": "stream",
     "text": [
      "Fitting 10 folds for each of 24 candidates, totalling 240 fits\n"
     ]
    },
    {
     "name": "stderr",
     "output_type": "stream",
     "text": [
      "C:\\Users\\hazel\\anaconda3\\Lib\\site-packages\\sklearn\\model_selection\\_search.py:909: DataConversionWarning: A column-vector y was passed when a 1d array was expected. Please change the shape of y to (n_samples,), for example using ravel().\n",
      "  self.best_estimator_.fit(X, y, **fit_params)\n",
      "C:\\Users\\hazel\\anaconda3\\Lib\\site-packages\\sklearn\\ensemble\\_forest.py:424: FutureWarning: `max_features='auto'` has been deprecated in 1.1 and will be removed in 1.3. To keep the past behaviour, explicitly set `max_features='sqrt'` or remove this parameter as it is also the default value for RandomForestClassifiers and ExtraTreesClassifiers.\n",
      "  warn(\n"
     ]
    },
    {
     "name": "stdout",
     "output_type": "stream",
     "text": [
      "Fitting 10 folds for each of 24 candidates, totalling 240 fits\n"
     ]
    },
    {
     "name": "stderr",
     "output_type": "stream",
     "text": [
      "C:\\Users\\hazel\\anaconda3\\Lib\\site-packages\\sklearn\\model_selection\\_search.py:909: DataConversionWarning: A column-vector y was passed when a 1d array was expected. Please change the shape of y to (n_samples,), for example using ravel().\n",
      "  self.best_estimator_.fit(X, y, **fit_params)\n"
     ]
    },
    {
     "name": "stdout",
     "output_type": "stream",
     "text": [
      "Fitting 10 folds for each of 24 candidates, totalling 240 fits\n"
     ]
    },
    {
     "name": "stderr",
     "output_type": "stream",
     "text": [
      "C:\\Users\\hazel\\anaconda3\\Lib\\site-packages\\sklearn\\model_selection\\_search.py:909: DataConversionWarning: A column-vector y was passed when a 1d array was expected. Please change the shape of y to (n_samples,), for example using ravel().\n",
      "  self.best_estimator_.fit(X, y, **fit_params)\n"
     ]
    },
    {
     "name": "stdout",
     "output_type": "stream",
     "text": [
      "Fitting 10 folds for each of 24 candidates, totalling 240 fits\n"
     ]
    },
    {
     "name": "stderr",
     "output_type": "stream",
     "text": [
      "C:\\Users\\hazel\\anaconda3\\Lib\\site-packages\\sklearn\\model_selection\\_search.py:909: DataConversionWarning: A column-vector y was passed when a 1d array was expected. Please change the shape of y to (n_samples,), for example using ravel().\n",
      "  self.best_estimator_.fit(X, y, **fit_params)\n"
     ]
    },
    {
     "name": "stdout",
     "output_type": "stream",
     "text": [
      "Fitting 10 folds for each of 24 candidates, totalling 240 fits\n"
     ]
    },
    {
     "name": "stderr",
     "output_type": "stream",
     "text": [
      "C:\\Users\\hazel\\anaconda3\\Lib\\site-packages\\sklearn\\model_selection\\_search.py:909: DataConversionWarning: A column-vector y was passed when a 1d array was expected. Please change the shape of y to (n_samples,), for example using ravel().\n",
      "  self.best_estimator_.fit(X, y, **fit_params)\n"
     ]
    },
    {
     "name": "stdout",
     "output_type": "stream",
     "text": [
      "Fitting 10 folds for each of 24 candidates, totalling 240 fits\n"
     ]
    },
    {
     "name": "stderr",
     "output_type": "stream",
     "text": [
      "C:\\Users\\hazel\\anaconda3\\Lib\\site-packages\\sklearn\\model_selection\\_search.py:909: DataConversionWarning: A column-vector y was passed when a 1d array was expected. Please change the shape of y to (n_samples,), for example using ravel().\n",
      "  self.best_estimator_.fit(X, y, **fit_params)\n",
      "C:\\Users\\hazel\\anaconda3\\Lib\\site-packages\\sklearn\\ensemble\\_forest.py:424: FutureWarning: `max_features='auto'` has been deprecated in 1.1 and will be removed in 1.3. To keep the past behaviour, explicitly set `max_features='sqrt'` or remove this parameter as it is also the default value for RandomForestClassifiers and ExtraTreesClassifiers.\n",
      "  warn(\n"
     ]
    },
    {
     "name": "stdout",
     "output_type": "stream",
     "text": [
      "Fitting 10 folds for each of 24 candidates, totalling 240 fits\n"
     ]
    },
    {
     "name": "stderr",
     "output_type": "stream",
     "text": [
      "C:\\Users\\hazel\\anaconda3\\Lib\\site-packages\\sklearn\\model_selection\\_search.py:909: DataConversionWarning: A column-vector y was passed when a 1d array was expected. Please change the shape of y to (n_samples,), for example using ravel().\n",
      "  self.best_estimator_.fit(X, y, **fit_params)\n"
     ]
    },
    {
     "data": {
      "text/html": [
       "<div>\n",
       "<style scoped>\n",
       "    .dataframe tbody tr th:only-of-type {\n",
       "        vertical-align: middle;\n",
       "    }\n",
       "\n",
       "    .dataframe tbody tr th {\n",
       "        vertical-align: top;\n",
       "    }\n",
       "\n",
       "    .dataframe thead th {\n",
       "        text-align: right;\n",
       "    }\n",
       "</style>\n",
       "<table border=\"1\" class=\"dataframe\">\n",
       "  <thead>\n",
       "    <tr style=\"text-align: right;\">\n",
       "      <th></th>\n",
       "      <th>Test Size</th>\n",
       "      <th>Random State</th>\n",
       "      <th>Accuracy</th>\n",
       "      <th>Precision</th>\n",
       "      <th>Recall</th>\n",
       "      <th>F1 Score</th>\n",
       "      <th>Best Param</th>\n",
       "    </tr>\n",
       "  </thead>\n",
       "  <tbody>\n",
       "    <tr>\n",
       "      <th>0</th>\n",
       "      <td>0.5</td>\n",
       "      <td>7</td>\n",
       "      <td>0.977953</td>\n",
       "      <td>0.977953</td>\n",
       "      <td>0.977953</td>\n",
       "      <td>0.977953</td>\n",
       "      <td>{'criterion': 'entropy', 'max_features': 'sqrt...</td>\n",
       "    </tr>\n",
       "    <tr>\n",
       "      <th>1</th>\n",
       "      <td>0.5</td>\n",
       "      <td>69</td>\n",
       "      <td>0.980315</td>\n",
       "      <td>0.980317</td>\n",
       "      <td>0.980315</td>\n",
       "      <td>0.980315</td>\n",
       "      <td>{'criterion': 'gini', 'max_features': 'log2', ...</td>\n",
       "    </tr>\n",
       "    <tr>\n",
       "      <th>2</th>\n",
       "      <td>0.5</td>\n",
       "      <td>101</td>\n",
       "      <td>0.984252</td>\n",
       "      <td>0.984378</td>\n",
       "      <td>0.984252</td>\n",
       "      <td>0.984254</td>\n",
       "      <td>{'criterion': 'gini', 'max_features': 'auto', ...</td>\n",
       "    </tr>\n",
       "    <tr>\n",
       "      <th>3</th>\n",
       "      <td>0.4</td>\n",
       "      <td>7</td>\n",
       "      <td>0.979331</td>\n",
       "      <td>0.979345</td>\n",
       "      <td>0.979331</td>\n",
       "      <td>0.979329</td>\n",
       "      <td>{'criterion': 'entropy', 'max_features': 'log2...</td>\n",
       "    </tr>\n",
       "    <tr>\n",
       "      <th>4</th>\n",
       "      <td>0.4</td>\n",
       "      <td>69</td>\n",
       "      <td>0.985236</td>\n",
       "      <td>0.985286</td>\n",
       "      <td>0.985236</td>\n",
       "      <td>0.985237</td>\n",
       "      <td>{'criterion': 'entropy', 'max_features': 'log2...</td>\n",
       "    </tr>\n",
       "    <tr>\n",
       "      <th>5</th>\n",
       "      <td>0.4</td>\n",
       "      <td>101</td>\n",
       "      <td>0.988189</td>\n",
       "      <td>0.988261</td>\n",
       "      <td>0.988189</td>\n",
       "      <td>0.988190</td>\n",
       "      <td>{'criterion': 'entropy', 'max_features': 'auto...</td>\n",
       "    </tr>\n",
       "    <tr>\n",
       "      <th>6</th>\n",
       "      <td>0.3</td>\n",
       "      <td>7</td>\n",
       "      <td>0.984252</td>\n",
       "      <td>0.984300</td>\n",
       "      <td>0.984252</td>\n",
       "      <td>0.984249</td>\n",
       "      <td>{'criterion': 'entropy', 'max_features': 'sqrt...</td>\n",
       "    </tr>\n",
       "    <tr>\n",
       "      <th>7</th>\n",
       "      <td>0.3</td>\n",
       "      <td>69</td>\n",
       "      <td>0.988189</td>\n",
       "      <td>0.988193</td>\n",
       "      <td>0.988189</td>\n",
       "      <td>0.988189</td>\n",
       "      <td>{'criterion': 'entropy', 'max_features': 'sqrt...</td>\n",
       "    </tr>\n",
       "    <tr>\n",
       "      <th>8</th>\n",
       "      <td>0.3</td>\n",
       "      <td>101</td>\n",
       "      <td>0.985564</td>\n",
       "      <td>0.985653</td>\n",
       "      <td>0.985564</td>\n",
       "      <td>0.985566</td>\n",
       "      <td>{'criterion': 'entropy', 'max_features': 'sqrt...</td>\n",
       "    </tr>\n",
       "    <tr>\n",
       "      <th>9</th>\n",
       "      <td>0.2</td>\n",
       "      <td>7</td>\n",
       "      <td>0.988189</td>\n",
       "      <td>0.988296</td>\n",
       "      <td>0.988189</td>\n",
       "      <td>0.988181</td>\n",
       "      <td>{'criterion': 'entropy', 'max_features': 'sqrt...</td>\n",
       "    </tr>\n",
       "    <tr>\n",
       "      <th>10</th>\n",
       "      <td>0.2</td>\n",
       "      <td>69</td>\n",
       "      <td>0.994094</td>\n",
       "      <td>0.994103</td>\n",
       "      <td>0.994094</td>\n",
       "      <td>0.994095</td>\n",
       "      <td>{'criterion': 'gini', 'max_features': 'auto', ...</td>\n",
       "    </tr>\n",
       "    <tr>\n",
       "      <th>11</th>\n",
       "      <td>0.2</td>\n",
       "      <td>101</td>\n",
       "      <td>0.990157</td>\n",
       "      <td>0.990167</td>\n",
       "      <td>0.990157</td>\n",
       "      <td>0.990158</td>\n",
       "      <td>{'criterion': 'gini', 'max_features': 'log2', ...</td>\n",
       "    </tr>\n",
       "  </tbody>\n",
       "</table>\n",
       "</div>"
      ],
      "text/plain": [
       "    Test Size  Random State  Accuracy  Precision    Recall  F1 Score  \\\n",
       "0         0.5             7  0.977953   0.977953  0.977953  0.977953   \n",
       "1         0.5            69  0.980315   0.980317  0.980315  0.980315   \n",
       "2         0.5           101  0.984252   0.984378  0.984252  0.984254   \n",
       "3         0.4             7  0.979331   0.979345  0.979331  0.979329   \n",
       "4         0.4            69  0.985236   0.985286  0.985236  0.985237   \n",
       "5         0.4           101  0.988189   0.988261  0.988189  0.988190   \n",
       "6         0.3             7  0.984252   0.984300  0.984252  0.984249   \n",
       "7         0.3            69  0.988189   0.988193  0.988189  0.988189   \n",
       "8         0.3           101  0.985564   0.985653  0.985564  0.985566   \n",
       "9         0.2             7  0.988189   0.988296  0.988189  0.988181   \n",
       "10        0.2            69  0.994094   0.994103  0.994094  0.994095   \n",
       "11        0.2           101  0.990157   0.990167  0.990157  0.990158   \n",
       "\n",
       "                                           Best Param  \n",
       "0   {'criterion': 'entropy', 'max_features': 'sqrt...  \n",
       "1   {'criterion': 'gini', 'max_features': 'log2', ...  \n",
       "2   {'criterion': 'gini', 'max_features': 'auto', ...  \n",
       "3   {'criterion': 'entropy', 'max_features': 'log2...  \n",
       "4   {'criterion': 'entropy', 'max_features': 'log2...  \n",
       "5   {'criterion': 'entropy', 'max_features': 'auto...  \n",
       "6   {'criterion': 'entropy', 'max_features': 'sqrt...  \n",
       "7   {'criterion': 'entropy', 'max_features': 'sqrt...  \n",
       "8   {'criterion': 'entropy', 'max_features': 'sqrt...  \n",
       "9   {'criterion': 'entropy', 'max_features': 'sqrt...  \n",
       "10  {'criterion': 'gini', 'max_features': 'auto', ...  \n",
       "11  {'criterion': 'gini', 'max_features': 'log2', ...  "
      ]
     },
     "execution_count": 46,
     "metadata": {},
     "output_type": "execute_result"
    }
   ],
   "source": [
    "tempB_SL_SMOTE = []\n",
    "\n",
    "y = merge_B_SMOTE[['CGPA']]\n",
    "X = merge_B_SMOTE[['Relationship Status', 'Scholarship', 'PTPTN', 'Skipping Class', 'Additional Course',\n",
    "                    'Study Behavior', 'Study Time', 'Extra Curricular Activities', 'Part-time Job', 'Commute Time',\n",
    "                    'Gaming', 'Alcohol Consumption', 'I have enough free time after class', 'Social Interaction',\n",
    "                    'I hang out with friends']]\n",
    "\n",
    "print(\"X:\", X.shape,\"y:\", y.shape)\n",
    "\n",
    "for i in [0.5,0.4,0.3,0.2]:\n",
    "    for j in rand_states:\n",
    "        X_train, X_test, y_train, y_test = train_test_split(X, y, test_size=i, random_state=j)\n",
    "        param_grid = {'n_estimators': [100, 200, 300, 400],\n",
    "                      'max_features': ['auto', 'sqrt', 'log2'],\n",
    "                      'criterion' :['gini', 'entropy']}\n",
    "\n",
    "        model = GridSearchCV(RandomForestClassifier(), param_grid, refit=True, n_jobs=-1, cv=10, verbose=1)\n",
    "        model.fit(X_train, y_train)\n",
    "        pred = model.predict(X_test)\n",
    "\n",
    "        acc = accuracy_score(y_test,pred)\n",
    "        pre = precision_score(y_test, pred, average='weighted')\n",
    "        recall = recall_score(y_test, pred, average='weighted')\n",
    "        f1 = f1_score(y_test, pred, average='weighted')\n",
    "        param = model.best_params_\n",
    "    \n",
    "        tempB_SL_SMOTE.append([i,j,acc,pre,recall,f1,param])\n",
    "        \n",
    "dfB_SL_SMOTE = pd.DataFrame(columns=['Test Size','Random State','Accuracy','Precision','Recall','F1 Score','Best Param'],data=tempB_SL_SMOTE)\n",
    "dfB_SL_SMOTE"
   ]
  },
  {
   "cell_type": "code",
   "execution_count": 47,
   "id": "80b52b83-2823-4cde-82d6-948965f2db33",
   "metadata": {},
   "outputs": [
    {
     "data": {
      "text/html": [
       "<div>\n",
       "<style scoped>\n",
       "    .dataframe tbody tr th:only-of-type {\n",
       "        vertical-align: middle;\n",
       "    }\n",
       "\n",
       "    .dataframe tbody tr th {\n",
       "        vertical-align: top;\n",
       "    }\n",
       "\n",
       "    .dataframe thead th {\n",
       "        text-align: right;\n",
       "    }\n",
       "</style>\n",
       "<table border=\"1\" class=\"dataframe\">\n",
       "  <thead>\n",
       "    <tr style=\"text-align: right;\">\n",
       "      <th></th>\n",
       "      <th>Accuracy</th>\n",
       "      <th>Precision</th>\n",
       "      <th>Recall</th>\n",
       "      <th>F1 Score</th>\n",
       "    </tr>\n",
       "    <tr>\n",
       "      <th>Test Size</th>\n",
       "      <th></th>\n",
       "      <th></th>\n",
       "      <th></th>\n",
       "      <th></th>\n",
       "    </tr>\n",
       "  </thead>\n",
       "  <tbody>\n",
       "    <tr>\n",
       "      <th>0.2</th>\n",
       "      <td>0.990814</td>\n",
       "      <td>0.990855</td>\n",
       "      <td>0.990814</td>\n",
       "      <td>0.990811</td>\n",
       "    </tr>\n",
       "    <tr>\n",
       "      <th>0.3</th>\n",
       "      <td>0.986002</td>\n",
       "      <td>0.986049</td>\n",
       "      <td>0.986002</td>\n",
       "      <td>0.986002</td>\n",
       "    </tr>\n",
       "    <tr>\n",
       "      <th>0.4</th>\n",
       "      <td>0.984252</td>\n",
       "      <td>0.984297</td>\n",
       "      <td>0.984252</td>\n",
       "      <td>0.984252</td>\n",
       "    </tr>\n",
       "    <tr>\n",
       "      <th>0.5</th>\n",
       "      <td>0.980840</td>\n",
       "      <td>0.980883</td>\n",
       "      <td>0.980840</td>\n",
       "      <td>0.980841</td>\n",
       "    </tr>\n",
       "  </tbody>\n",
       "</table>\n",
       "</div>"
      ],
      "text/plain": [
       "           Accuracy  Precision    Recall  F1 Score\n",
       "Test Size                                         \n",
       "0.2        0.990814   0.990855  0.990814  0.990811\n",
       "0.3        0.986002   0.986049  0.986002  0.986002\n",
       "0.4        0.984252   0.984297  0.984252  0.984252\n",
       "0.5        0.980840   0.980883  0.980840  0.980841"
      ]
     },
     "execution_count": 47,
     "metadata": {},
     "output_type": "execute_result"
    }
   ],
   "source": [
    "dfB_SL_SMOTE.groupby('Test Size')[['Accuracy','Precision','Recall','F1 Score']].mean()"
   ]
  },
  {
   "cell_type": "code",
   "execution_count": 48,
   "id": "9602e064-9d19-4b8a-9c75-ff7324928b76",
   "metadata": {},
   "outputs": [
    {
     "name": "stdout",
     "output_type": "stream",
     "text": [
      "SMOTE Binary: Student Lifestyle\n",
      "\n",
      "{'criterion': 'entropy', 'max_features': 'sqrt', 'n_estimators': 400}\n",
      "{'criterion': 'gini', 'max_features': 'log2', 'n_estimators': 200}\n",
      "{'criterion': 'gini', 'max_features': 'auto', 'n_estimators': 200}\n",
      "{'criterion': 'entropy', 'max_features': 'log2', 'n_estimators': 400}\n",
      "{'criterion': 'entropy', 'max_features': 'log2', 'n_estimators': 200}\n",
      "{'criterion': 'entropy', 'max_features': 'auto', 'n_estimators': 400}\n",
      "{'criterion': 'entropy', 'max_features': 'sqrt', 'n_estimators': 400}\n",
      "{'criterion': 'entropy', 'max_features': 'sqrt', 'n_estimators': 100}\n",
      "{'criterion': 'entropy', 'max_features': 'sqrt', 'n_estimators': 100}\n",
      "{'criterion': 'entropy', 'max_features': 'sqrt', 'n_estimators': 400}\n",
      "{'criterion': 'gini', 'max_features': 'auto', 'n_estimators': 400}\n",
      "{'criterion': 'gini', 'max_features': 'log2', 'n_estimators': 400}\n"
     ]
    }
   ],
   "source": [
    "print(\"SMOTE Binary: Student Lifestyle\\n\")\n",
    "for x in dfB_SL_SMOTE[\"Best Param\"]:\n",
    "    print(x)"
   ]
  },
  {
   "cell_type": "markdown",
   "id": "9b4e6b4e-f77d-4dc4-a1fe-a21c1bd2c576",
   "metadata": {},
   "source": [
    "## All Attributes"
   ]
  },
  {
   "cell_type": "markdown",
   "id": "77eaf1e0-d103-4189-ab1d-c3db7f22c94b",
   "metadata": {},
   "source": [
    "### AA before Data Balancing"
   ]
  },
  {
   "cell_type": "code",
   "execution_count": 49,
   "id": "6f2cef4f-8c48-4a98-a3fe-7f3ed10b3223",
   "metadata": {},
   "outputs": [
    {
     "name": "stdout",
     "output_type": "stream",
     "text": [
      "X: (1287, 40) y: (1287, 1)\n",
      "Fitting 10 folds for each of 24 candidates, totalling 240 fits\n"
     ]
    },
    {
     "name": "stderr",
     "output_type": "stream",
     "text": [
      "C:\\Users\\hazel\\anaconda3\\Lib\\site-packages\\sklearn\\model_selection\\_split.py:700: UserWarning: The least populated class in y has only 8 members, which is less than n_splits=10.\n",
      "  warnings.warn(\n",
      "C:\\Users\\hazel\\anaconda3\\Lib\\site-packages\\sklearn\\model_selection\\_search.py:909: DataConversionWarning: A column-vector y was passed when a 1d array was expected. Please change the shape of y to (n_samples,), for example using ravel().\n",
      "  self.best_estimator_.fit(X, y, **fit_params)\n",
      "C:\\Users\\hazel\\anaconda3\\Lib\\site-packages\\sklearn\\ensemble\\_forest.py:424: FutureWarning: `max_features='auto'` has been deprecated in 1.1 and will be removed in 1.3. To keep the past behaviour, explicitly set `max_features='sqrt'` or remove this parameter as it is also the default value for RandomForestClassifiers and ExtraTreesClassifiers.\n",
      "  warn(\n",
      "C:\\Users\\hazel\\anaconda3\\Lib\\site-packages\\sklearn\\metrics\\_classification.py:1344: UndefinedMetricWarning: Precision is ill-defined and being set to 0.0 in labels with no predicted samples. Use `zero_division` parameter to control this behavior.\n",
      "  _warn_prf(average, modifier, msg_start, len(result))\n",
      "C:\\Users\\hazel\\anaconda3\\Lib\\site-packages\\sklearn\\model_selection\\_split.py:700: UserWarning: The least populated class in y has only 8 members, which is less than n_splits=10.\n",
      "  warnings.warn(\n"
     ]
    },
    {
     "name": "stdout",
     "output_type": "stream",
     "text": [
      "Fitting 10 folds for each of 24 candidates, totalling 240 fits\n"
     ]
    },
    {
     "name": "stderr",
     "output_type": "stream",
     "text": [
      "C:\\Users\\hazel\\anaconda3\\Lib\\site-packages\\sklearn\\model_selection\\_search.py:909: DataConversionWarning: A column-vector y was passed when a 1d array was expected. Please change the shape of y to (n_samples,), for example using ravel().\n",
      "  self.best_estimator_.fit(X, y, **fit_params)\n",
      "C:\\Users\\hazel\\anaconda3\\Lib\\site-packages\\sklearn\\ensemble\\_forest.py:424: FutureWarning: `max_features='auto'` has been deprecated in 1.1 and will be removed in 1.3. To keep the past behaviour, explicitly set `max_features='sqrt'` or remove this parameter as it is also the default value for RandomForestClassifiers and ExtraTreesClassifiers.\n",
      "  warn(\n",
      "C:\\Users\\hazel\\anaconda3\\Lib\\site-packages\\sklearn\\metrics\\_classification.py:1344: UndefinedMetricWarning: Precision is ill-defined and being set to 0.0 in labels with no predicted samples. Use `zero_division` parameter to control this behavior.\n",
      "  _warn_prf(average, modifier, msg_start, len(result))\n",
      "C:\\Users\\hazel\\anaconda3\\Lib\\site-packages\\sklearn\\model_selection\\_split.py:700: UserWarning: The least populated class in y has only 8 members, which is less than n_splits=10.\n",
      "  warnings.warn(\n"
     ]
    },
    {
     "name": "stdout",
     "output_type": "stream",
     "text": [
      "Fitting 10 folds for each of 24 candidates, totalling 240 fits\n"
     ]
    },
    {
     "name": "stderr",
     "output_type": "stream",
     "text": [
      "C:\\Users\\hazel\\anaconda3\\Lib\\site-packages\\sklearn\\model_selection\\_search.py:909: DataConversionWarning: A column-vector y was passed when a 1d array was expected. Please change the shape of y to (n_samples,), for example using ravel().\n",
      "  self.best_estimator_.fit(X, y, **fit_params)\n",
      "C:\\Users\\hazel\\anaconda3\\Lib\\site-packages\\sklearn\\ensemble\\_forest.py:424: FutureWarning: `max_features='auto'` has been deprecated in 1.1 and will be removed in 1.3. To keep the past behaviour, explicitly set `max_features='sqrt'` or remove this parameter as it is also the default value for RandomForestClassifiers and ExtraTreesClassifiers.\n",
      "  warn(\n",
      "C:\\Users\\hazel\\anaconda3\\Lib\\site-packages\\sklearn\\metrics\\_classification.py:1344: UndefinedMetricWarning: Precision is ill-defined and being set to 0.0 in labels with no predicted samples. Use `zero_division` parameter to control this behavior.\n",
      "  _warn_prf(average, modifier, msg_start, len(result))\n"
     ]
    },
    {
     "name": "stdout",
     "output_type": "stream",
     "text": [
      "Fitting 10 folds for each of 24 candidates, totalling 240 fits\n"
     ]
    },
    {
     "name": "stderr",
     "output_type": "stream",
     "text": [
      "C:\\Users\\hazel\\anaconda3\\Lib\\site-packages\\sklearn\\model_selection\\_search.py:909: DataConversionWarning: A column-vector y was passed when a 1d array was expected. Please change the shape of y to (n_samples,), for example using ravel().\n",
      "  self.best_estimator_.fit(X, y, **fit_params)\n",
      "C:\\Users\\hazel\\anaconda3\\Lib\\site-packages\\sklearn\\ensemble\\_forest.py:424: FutureWarning: `max_features='auto'` has been deprecated in 1.1 and will be removed in 1.3. To keep the past behaviour, explicitly set `max_features='sqrt'` or remove this parameter as it is also the default value for RandomForestClassifiers and ExtraTreesClassifiers.\n",
      "  warn(\n",
      "C:\\Users\\hazel\\anaconda3\\Lib\\site-packages\\sklearn\\metrics\\_classification.py:1344: UndefinedMetricWarning: Precision is ill-defined and being set to 0.0 in labels with no predicted samples. Use `zero_division` parameter to control this behavior.\n",
      "  _warn_prf(average, modifier, msg_start, len(result))\n",
      "C:\\Users\\hazel\\anaconda3\\Lib\\site-packages\\sklearn\\model_selection\\_split.py:700: UserWarning: The least populated class in y has only 9 members, which is less than n_splits=10.\n",
      "  warnings.warn(\n"
     ]
    },
    {
     "name": "stdout",
     "output_type": "stream",
     "text": [
      "Fitting 10 folds for each of 24 candidates, totalling 240 fits\n"
     ]
    },
    {
     "name": "stderr",
     "output_type": "stream",
     "text": [
      "C:\\Users\\hazel\\anaconda3\\Lib\\site-packages\\sklearn\\model_selection\\_search.py:909: DataConversionWarning: A column-vector y was passed when a 1d array was expected. Please change the shape of y to (n_samples,), for example using ravel().\n",
      "  self.best_estimator_.fit(X, y, **fit_params)\n",
      "C:\\Users\\hazel\\anaconda3\\Lib\\site-packages\\sklearn\\ensemble\\_forest.py:424: FutureWarning: `max_features='auto'` has been deprecated in 1.1 and will be removed in 1.3. To keep the past behaviour, explicitly set `max_features='sqrt'` or remove this parameter as it is also the default value for RandomForestClassifiers and ExtraTreesClassifiers.\n",
      "  warn(\n",
      "C:\\Users\\hazel\\anaconda3\\Lib\\site-packages\\sklearn\\metrics\\_classification.py:1344: UndefinedMetricWarning: Precision is ill-defined and being set to 0.0 in labels with no predicted samples. Use `zero_division` parameter to control this behavior.\n",
      "  _warn_prf(average, modifier, msg_start, len(result))\n"
     ]
    },
    {
     "name": "stdout",
     "output_type": "stream",
     "text": [
      "Fitting 10 folds for each of 24 candidates, totalling 240 fits\n"
     ]
    },
    {
     "name": "stderr",
     "output_type": "stream",
     "text": [
      "C:\\Users\\hazel\\anaconda3\\Lib\\site-packages\\sklearn\\model_selection\\_search.py:909: DataConversionWarning: A column-vector y was passed when a 1d array was expected. Please change the shape of y to (n_samples,), for example using ravel().\n",
      "  self.best_estimator_.fit(X, y, **fit_params)\n",
      "C:\\Users\\hazel\\anaconda3\\Lib\\site-packages\\sklearn\\ensemble\\_forest.py:424: FutureWarning: `max_features='auto'` has been deprecated in 1.1 and will be removed in 1.3. To keep the past behaviour, explicitly set `max_features='sqrt'` or remove this parameter as it is also the default value for RandomForestClassifiers and ExtraTreesClassifiers.\n",
      "  warn(\n",
      "C:\\Users\\hazel\\anaconda3\\Lib\\site-packages\\sklearn\\metrics\\_classification.py:1344: UndefinedMetricWarning: Precision is ill-defined and being set to 0.0 in labels with no predicted samples. Use `zero_division` parameter to control this behavior.\n",
      "  _warn_prf(average, modifier, msg_start, len(result))\n"
     ]
    },
    {
     "name": "stdout",
     "output_type": "stream",
     "text": [
      "Fitting 10 folds for each of 24 candidates, totalling 240 fits\n"
     ]
    },
    {
     "name": "stderr",
     "output_type": "stream",
     "text": [
      "C:\\Users\\hazel\\anaconda3\\Lib\\site-packages\\sklearn\\model_selection\\_search.py:909: DataConversionWarning: A column-vector y was passed when a 1d array was expected. Please change the shape of y to (n_samples,), for example using ravel().\n",
      "  self.best_estimator_.fit(X, y, **fit_params)\n",
      "C:\\Users\\hazel\\anaconda3\\Lib\\site-packages\\sklearn\\ensemble\\_forest.py:424: FutureWarning: `max_features='auto'` has been deprecated in 1.1 and will be removed in 1.3. To keep the past behaviour, explicitly set `max_features='sqrt'` or remove this parameter as it is also the default value for RandomForestClassifiers and ExtraTreesClassifiers.\n",
      "  warn(\n",
      "C:\\Users\\hazel\\anaconda3\\Lib\\site-packages\\sklearn\\metrics\\_classification.py:1344: UndefinedMetricWarning: Precision is ill-defined and being set to 0.0 in labels with no predicted samples. Use `zero_division` parameter to control this behavior.\n",
      "  _warn_prf(average, modifier, msg_start, len(result))\n"
     ]
    },
    {
     "name": "stdout",
     "output_type": "stream",
     "text": [
      "Fitting 10 folds for each of 24 candidates, totalling 240 fits\n"
     ]
    },
    {
     "name": "stderr",
     "output_type": "stream",
     "text": [
      "C:\\Users\\hazel\\anaconda3\\Lib\\site-packages\\sklearn\\model_selection\\_search.py:909: DataConversionWarning: A column-vector y was passed when a 1d array was expected. Please change the shape of y to (n_samples,), for example using ravel().\n",
      "  self.best_estimator_.fit(X, y, **fit_params)\n",
      "C:\\Users\\hazel\\anaconda3\\Lib\\site-packages\\sklearn\\ensemble\\_forest.py:424: FutureWarning: `max_features='auto'` has been deprecated in 1.1 and will be removed in 1.3. To keep the past behaviour, explicitly set `max_features='sqrt'` or remove this parameter as it is also the default value for RandomForestClassifiers and ExtraTreesClassifiers.\n",
      "  warn(\n",
      "C:\\Users\\hazel\\anaconda3\\Lib\\site-packages\\sklearn\\metrics\\_classification.py:1344: UndefinedMetricWarning: Precision is ill-defined and being set to 0.0 in labels with no predicted samples. Use `zero_division` parameter to control this behavior.\n",
      "  _warn_prf(average, modifier, msg_start, len(result))\n"
     ]
    },
    {
     "name": "stdout",
     "output_type": "stream",
     "text": [
      "Fitting 10 folds for each of 24 candidates, totalling 240 fits\n"
     ]
    },
    {
     "name": "stderr",
     "output_type": "stream",
     "text": [
      "C:\\Users\\hazel\\anaconda3\\Lib\\site-packages\\sklearn\\model_selection\\_search.py:909: DataConversionWarning: A column-vector y was passed when a 1d array was expected. Please change the shape of y to (n_samples,), for example using ravel().\n",
      "  self.best_estimator_.fit(X, y, **fit_params)\n",
      "C:\\Users\\hazel\\anaconda3\\Lib\\site-packages\\sklearn\\ensemble\\_forest.py:424: FutureWarning: `max_features='auto'` has been deprecated in 1.1 and will be removed in 1.3. To keep the past behaviour, explicitly set `max_features='sqrt'` or remove this parameter as it is also the default value for RandomForestClassifiers and ExtraTreesClassifiers.\n",
      "  warn(\n",
      "C:\\Users\\hazel\\anaconda3\\Lib\\site-packages\\sklearn\\metrics\\_classification.py:1344: UndefinedMetricWarning: Precision is ill-defined and being set to 0.0 in labels with no predicted samples. Use `zero_division` parameter to control this behavior.\n",
      "  _warn_prf(average, modifier, msg_start, len(result))\n"
     ]
    },
    {
     "name": "stdout",
     "output_type": "stream",
     "text": [
      "Fitting 10 folds for each of 24 candidates, totalling 240 fits\n"
     ]
    },
    {
     "name": "stderr",
     "output_type": "stream",
     "text": [
      "C:\\Users\\hazel\\anaconda3\\Lib\\site-packages\\sklearn\\model_selection\\_search.py:909: DataConversionWarning: A column-vector y was passed when a 1d array was expected. Please change the shape of y to (n_samples,), for example using ravel().\n",
      "  self.best_estimator_.fit(X, y, **fit_params)\n",
      "C:\\Users\\hazel\\anaconda3\\Lib\\site-packages\\sklearn\\ensemble\\_forest.py:424: FutureWarning: `max_features='auto'` has been deprecated in 1.1 and will be removed in 1.3. To keep the past behaviour, explicitly set `max_features='sqrt'` or remove this parameter as it is also the default value for RandomForestClassifiers and ExtraTreesClassifiers.\n",
      "  warn(\n",
      "C:\\Users\\hazel\\anaconda3\\Lib\\site-packages\\sklearn\\metrics\\_classification.py:1344: UndefinedMetricWarning: Precision is ill-defined and being set to 0.0 in labels with no predicted samples. Use `zero_division` parameter to control this behavior.\n",
      "  _warn_prf(average, modifier, msg_start, len(result))\n"
     ]
    },
    {
     "name": "stdout",
     "output_type": "stream",
     "text": [
      "Fitting 10 folds for each of 24 candidates, totalling 240 fits\n"
     ]
    },
    {
     "name": "stderr",
     "output_type": "stream",
     "text": [
      "C:\\Users\\hazel\\anaconda3\\Lib\\site-packages\\sklearn\\model_selection\\_search.py:909: DataConversionWarning: A column-vector y was passed when a 1d array was expected. Please change the shape of y to (n_samples,), for example using ravel().\n",
      "  self.best_estimator_.fit(X, y, **fit_params)\n",
      "C:\\Users\\hazel\\anaconda3\\Lib\\site-packages\\sklearn\\ensemble\\_forest.py:424: FutureWarning: `max_features='auto'` has been deprecated in 1.1 and will be removed in 1.3. To keep the past behaviour, explicitly set `max_features='sqrt'` or remove this parameter as it is also the default value for RandomForestClassifiers and ExtraTreesClassifiers.\n",
      "  warn(\n",
      "C:\\Users\\hazel\\anaconda3\\Lib\\site-packages\\sklearn\\metrics\\_classification.py:1344: UndefinedMetricWarning: Precision is ill-defined and being set to 0.0 in labels with no predicted samples. Use `zero_division` parameter to control this behavior.\n",
      "  _warn_prf(average, modifier, msg_start, len(result))\n"
     ]
    },
    {
     "name": "stdout",
     "output_type": "stream",
     "text": [
      "Fitting 10 folds for each of 24 candidates, totalling 240 fits\n"
     ]
    },
    {
     "name": "stderr",
     "output_type": "stream",
     "text": [
      "C:\\Users\\hazel\\anaconda3\\Lib\\site-packages\\sklearn\\model_selection\\_search.py:909: DataConversionWarning: A column-vector y was passed when a 1d array was expected. Please change the shape of y to (n_samples,), for example using ravel().\n",
      "  self.best_estimator_.fit(X, y, **fit_params)\n",
      "C:\\Users\\hazel\\anaconda3\\Lib\\site-packages\\sklearn\\ensemble\\_forest.py:424: FutureWarning: `max_features='auto'` has been deprecated in 1.1 and will be removed in 1.3. To keep the past behaviour, explicitly set `max_features='sqrt'` or remove this parameter as it is also the default value for RandomForestClassifiers and ExtraTreesClassifiers.\n",
      "  warn(\n",
      "C:\\Users\\hazel\\anaconda3\\Lib\\site-packages\\sklearn\\metrics\\_classification.py:1344: UndefinedMetricWarning: Precision is ill-defined and being set to 0.0 in labels with no predicted samples. Use `zero_division` parameter to control this behavior.\n",
      "  _warn_prf(average, modifier, msg_start, len(result))\n"
     ]
    },
    {
     "data": {
      "text/html": [
       "<div>\n",
       "<style scoped>\n",
       "    .dataframe tbody tr th:only-of-type {\n",
       "        vertical-align: middle;\n",
       "    }\n",
       "\n",
       "    .dataframe tbody tr th {\n",
       "        vertical-align: top;\n",
       "    }\n",
       "\n",
       "    .dataframe thead th {\n",
       "        text-align: right;\n",
       "    }\n",
       "</style>\n",
       "<table border=\"1\" class=\"dataframe\">\n",
       "  <thead>\n",
       "    <tr style=\"text-align: right;\">\n",
       "      <th></th>\n",
       "      <th>Test Size</th>\n",
       "      <th>Random State</th>\n",
       "      <th>Accuracy</th>\n",
       "      <th>Precision</th>\n",
       "      <th>Recall</th>\n",
       "      <th>F1 Score</th>\n",
       "      <th>Best Param</th>\n",
       "    </tr>\n",
       "  </thead>\n",
       "  <tbody>\n",
       "    <tr>\n",
       "      <th>0</th>\n",
       "      <td>0.5</td>\n",
       "      <td>7</td>\n",
       "      <td>0.986025</td>\n",
       "      <td>0.972245</td>\n",
       "      <td>0.986025</td>\n",
       "      <td>0.979086</td>\n",
       "      <td>{'criterion': 'gini', 'max_features': 'auto', ...</td>\n",
       "    </tr>\n",
       "    <tr>\n",
       "      <th>1</th>\n",
       "      <td>0.5</td>\n",
       "      <td>69</td>\n",
       "      <td>0.986025</td>\n",
       "      <td>0.972245</td>\n",
       "      <td>0.986025</td>\n",
       "      <td>0.979086</td>\n",
       "      <td>{'criterion': 'gini', 'max_features': 'auto', ...</td>\n",
       "    </tr>\n",
       "    <tr>\n",
       "      <th>2</th>\n",
       "      <td>0.5</td>\n",
       "      <td>101</td>\n",
       "      <td>0.986025</td>\n",
       "      <td>0.972245</td>\n",
       "      <td>0.986025</td>\n",
       "      <td>0.979086</td>\n",
       "      <td>{'criterion': 'gini', 'max_features': 'auto', ...</td>\n",
       "    </tr>\n",
       "    <tr>\n",
       "      <th>3</th>\n",
       "      <td>0.4</td>\n",
       "      <td>7</td>\n",
       "      <td>0.988350</td>\n",
       "      <td>0.976835</td>\n",
       "      <td>0.988350</td>\n",
       "      <td>0.982558</td>\n",
       "      <td>{'criterion': 'gini', 'max_features': 'auto', ...</td>\n",
       "    </tr>\n",
       "    <tr>\n",
       "      <th>4</th>\n",
       "      <td>0.4</td>\n",
       "      <td>69</td>\n",
       "      <td>0.984466</td>\n",
       "      <td>0.969173</td>\n",
       "      <td>0.984466</td>\n",
       "      <td>0.976760</td>\n",
       "      <td>{'criterion': 'gini', 'max_features': 'auto', ...</td>\n",
       "    </tr>\n",
       "    <tr>\n",
       "      <th>5</th>\n",
       "      <td>0.4</td>\n",
       "      <td>101</td>\n",
       "      <td>0.986408</td>\n",
       "      <td>0.973000</td>\n",
       "      <td>0.986408</td>\n",
       "      <td>0.979658</td>\n",
       "      <td>{'criterion': 'gini', 'max_features': 'auto', ...</td>\n",
       "    </tr>\n",
       "    <tr>\n",
       "      <th>6</th>\n",
       "      <td>0.3</td>\n",
       "      <td>7</td>\n",
       "      <td>0.989664</td>\n",
       "      <td>0.979435</td>\n",
       "      <td>0.989664</td>\n",
       "      <td>0.984523</td>\n",
       "      <td>{'criterion': 'gini', 'max_features': 'auto', ...</td>\n",
       "    </tr>\n",
       "    <tr>\n",
       "      <th>7</th>\n",
       "      <td>0.3</td>\n",
       "      <td>69</td>\n",
       "      <td>0.987080</td>\n",
       "      <td>0.974327</td>\n",
       "      <td>0.987080</td>\n",
       "      <td>0.980662</td>\n",
       "      <td>{'criterion': 'gini', 'max_features': 'auto', ...</td>\n",
       "    </tr>\n",
       "    <tr>\n",
       "      <th>8</th>\n",
       "      <td>0.3</td>\n",
       "      <td>101</td>\n",
       "      <td>0.987080</td>\n",
       "      <td>0.974327</td>\n",
       "      <td>0.987080</td>\n",
       "      <td>0.980662</td>\n",
       "      <td>{'criterion': 'gini', 'max_features': 'auto', ...</td>\n",
       "    </tr>\n",
       "    <tr>\n",
       "      <th>9</th>\n",
       "      <td>0.2</td>\n",
       "      <td>7</td>\n",
       "      <td>0.992248</td>\n",
       "      <td>0.984556</td>\n",
       "      <td>0.992248</td>\n",
       "      <td>0.988387</td>\n",
       "      <td>{'criterion': 'gini', 'max_features': 'auto', ...</td>\n",
       "    </tr>\n",
       "    <tr>\n",
       "      <th>10</th>\n",
       "      <td>0.2</td>\n",
       "      <td>69</td>\n",
       "      <td>0.984496</td>\n",
       "      <td>0.969233</td>\n",
       "      <td>0.984496</td>\n",
       "      <td>0.976805</td>\n",
       "      <td>{'criterion': 'gini', 'max_features': 'auto', ...</td>\n",
       "    </tr>\n",
       "    <tr>\n",
       "      <th>11</th>\n",
       "      <td>0.2</td>\n",
       "      <td>101</td>\n",
       "      <td>0.984496</td>\n",
       "      <td>0.969233</td>\n",
       "      <td>0.984496</td>\n",
       "      <td>0.976805</td>\n",
       "      <td>{'criterion': 'gini', 'max_features': 'auto', ...</td>\n",
       "    </tr>\n",
       "  </tbody>\n",
       "</table>\n",
       "</div>"
      ],
      "text/plain": [
       "    Test Size  Random State  Accuracy  Precision    Recall  F1 Score  \\\n",
       "0         0.5             7  0.986025   0.972245  0.986025  0.979086   \n",
       "1         0.5            69  0.986025   0.972245  0.986025  0.979086   \n",
       "2         0.5           101  0.986025   0.972245  0.986025  0.979086   \n",
       "3         0.4             7  0.988350   0.976835  0.988350  0.982558   \n",
       "4         0.4            69  0.984466   0.969173  0.984466  0.976760   \n",
       "5         0.4           101  0.986408   0.973000  0.986408  0.979658   \n",
       "6         0.3             7  0.989664   0.979435  0.989664  0.984523   \n",
       "7         0.3            69  0.987080   0.974327  0.987080  0.980662   \n",
       "8         0.3           101  0.987080   0.974327  0.987080  0.980662   \n",
       "9         0.2             7  0.992248   0.984556  0.992248  0.988387   \n",
       "10        0.2            69  0.984496   0.969233  0.984496  0.976805   \n",
       "11        0.2           101  0.984496   0.969233  0.984496  0.976805   \n",
       "\n",
       "                                           Best Param  \n",
       "0   {'criterion': 'gini', 'max_features': 'auto', ...  \n",
       "1   {'criterion': 'gini', 'max_features': 'auto', ...  \n",
       "2   {'criterion': 'gini', 'max_features': 'auto', ...  \n",
       "3   {'criterion': 'gini', 'max_features': 'auto', ...  \n",
       "4   {'criterion': 'gini', 'max_features': 'auto', ...  \n",
       "5   {'criterion': 'gini', 'max_features': 'auto', ...  \n",
       "6   {'criterion': 'gini', 'max_features': 'auto', ...  \n",
       "7   {'criterion': 'gini', 'max_features': 'auto', ...  \n",
       "8   {'criterion': 'gini', 'max_features': 'auto', ...  \n",
       "9   {'criterion': 'gini', 'max_features': 'auto', ...  \n",
       "10  {'criterion': 'gini', 'max_features': 'auto', ...  \n",
       "11  {'criterion': 'gini', 'max_features': 'auto', ...  "
      ]
     },
     "execution_count": 49,
     "metadata": {},
     "output_type": "execute_result"
    }
   ],
   "source": [
    "tempB_imb = []\n",
    "\n",
    "y = merge_B_imb[['CGPA']]\n",
    "X = merge_B_imb.drop(columns=['CGPA'])\n",
    "\n",
    "print(\"X:\", X.shape,\"y:\", y.shape)\n",
    "\n",
    "for i in [0.5,0.4,0.3,0.2]:\n",
    "    for j in rand_states:\n",
    "        X_train, X_test, y_train, y_test = train_test_split(X, y, test_size=i, random_state=j)\n",
    "        param_grid = {'n_estimators': [100, 200, 300, 400],\n",
    "                      'max_features': ['auto', 'sqrt', 'log2'],\n",
    "                      'criterion' :['gini', 'entropy']}\n",
    "\n",
    "        model = GridSearchCV(RandomForestClassifier(), param_grid, refit=True, n_jobs=-1, cv=10, verbose=1)\n",
    "        model.fit(X_train, y_train)\n",
    "        pred = model.predict(X_test)\n",
    "\n",
    "        acc = accuracy_score(y_test,pred)\n",
    "        pre = precision_score(y_test, pred, average='weighted')\n",
    "        recall = recall_score(y_test, pred, average='weighted')\n",
    "        f1 = f1_score(y_test, pred, average='weighted')\n",
    "        param = model.best_params_\n",
    "    \n",
    "        tempB_imb.append([i,j,acc,pre,recall,f1,param])\n",
    "        \n",
    "dfB_imb = pd.DataFrame(columns=['Test Size','Random State','Accuracy','Precision','Recall','F1 Score','Best Param'],data=tempB_imb)\n",
    "dfB_imb"
   ]
  },
  {
   "cell_type": "code",
   "execution_count": 50,
   "id": "a5f069fc-2795-4bdd-8080-a1cf9fd10e30",
   "metadata": {},
   "outputs": [
    {
     "data": {
      "text/html": [
       "<div>\n",
       "<style scoped>\n",
       "    .dataframe tbody tr th:only-of-type {\n",
       "        vertical-align: middle;\n",
       "    }\n",
       "\n",
       "    .dataframe tbody tr th {\n",
       "        vertical-align: top;\n",
       "    }\n",
       "\n",
       "    .dataframe thead th {\n",
       "        text-align: right;\n",
       "    }\n",
       "</style>\n",
       "<table border=\"1\" class=\"dataframe\">\n",
       "  <thead>\n",
       "    <tr style=\"text-align: right;\">\n",
       "      <th></th>\n",
       "      <th>Accuracy</th>\n",
       "      <th>Precision</th>\n",
       "      <th>Recall</th>\n",
       "      <th>F1 Score</th>\n",
       "    </tr>\n",
       "    <tr>\n",
       "      <th>Test Size</th>\n",
       "      <th></th>\n",
       "      <th></th>\n",
       "      <th></th>\n",
       "      <th></th>\n",
       "    </tr>\n",
       "  </thead>\n",
       "  <tbody>\n",
       "    <tr>\n",
       "      <th>0.2</th>\n",
       "      <td>0.987080</td>\n",
       "      <td>0.974340</td>\n",
       "      <td>0.987080</td>\n",
       "      <td>0.980666</td>\n",
       "    </tr>\n",
       "    <tr>\n",
       "      <th>0.3</th>\n",
       "      <td>0.987941</td>\n",
       "      <td>0.976030</td>\n",
       "      <td>0.987941</td>\n",
       "      <td>0.981949</td>\n",
       "    </tr>\n",
       "    <tr>\n",
       "      <th>0.4</th>\n",
       "      <td>0.986408</td>\n",
       "      <td>0.973003</td>\n",
       "      <td>0.986408</td>\n",
       "      <td>0.979659</td>\n",
       "    </tr>\n",
       "    <tr>\n",
       "      <th>0.5</th>\n",
       "      <td>0.986025</td>\n",
       "      <td>0.972245</td>\n",
       "      <td>0.986025</td>\n",
       "      <td>0.979086</td>\n",
       "    </tr>\n",
       "  </tbody>\n",
       "</table>\n",
       "</div>"
      ],
      "text/plain": [
       "           Accuracy  Precision    Recall  F1 Score\n",
       "Test Size                                         \n",
       "0.2        0.987080   0.974340  0.987080  0.980666\n",
       "0.3        0.987941   0.976030  0.987941  0.981949\n",
       "0.4        0.986408   0.973003  0.986408  0.979659\n",
       "0.5        0.986025   0.972245  0.986025  0.979086"
      ]
     },
     "execution_count": 50,
     "metadata": {},
     "output_type": "execute_result"
    }
   ],
   "source": [
    "dfB_imb.groupby('Test Size')[['Accuracy','Precision','Recall','F1 Score']].mean()"
   ]
  },
  {
   "cell_type": "code",
   "execution_count": 51,
   "id": "8ccc2bf7-4f3f-49d8-8ad5-45cfb00478c8",
   "metadata": {},
   "outputs": [
    {
     "name": "stdout",
     "output_type": "stream",
     "text": [
      "Imbalance All Attributes\n",
      "\n",
      "{'criterion': 'gini', 'max_features': 'auto', 'n_estimators': 100}\n",
      "{'criterion': 'gini', 'max_features': 'auto', 'n_estimators': 100}\n",
      "{'criterion': 'gini', 'max_features': 'auto', 'n_estimators': 100}\n",
      "{'criterion': 'gini', 'max_features': 'auto', 'n_estimators': 100}\n",
      "{'criterion': 'gini', 'max_features': 'auto', 'n_estimators': 100}\n",
      "{'criterion': 'gini', 'max_features': 'auto', 'n_estimators': 100}\n",
      "{'criterion': 'gini', 'max_features': 'auto', 'n_estimators': 100}\n",
      "{'criterion': 'gini', 'max_features': 'auto', 'n_estimators': 100}\n",
      "{'criterion': 'gini', 'max_features': 'auto', 'n_estimators': 100}\n",
      "{'criterion': 'gini', 'max_features': 'auto', 'n_estimators': 100}\n",
      "{'criterion': 'gini', 'max_features': 'auto', 'n_estimators': 100}\n",
      "{'criterion': 'gini', 'max_features': 'auto', 'n_estimators': 100}\n"
     ]
    }
   ],
   "source": [
    "print(\"Imbalance All Attributes\\n\")\n",
    "for x in dfB_imb[\"Best Param\"]:\n",
    "    print(x)"
   ]
  },
  {
   "cell_type": "markdown",
   "id": "15eba18d-999d-42cd-a62d-869bd9b2fb5b",
   "metadata": {},
   "source": [
    "### AA after RandomOverSampler"
   ]
  },
  {
   "cell_type": "code",
   "execution_count": 52,
   "id": "30d92bfb-ef73-428b-93c0-2834702747a9",
   "metadata": {},
   "outputs": [
    {
     "name": "stdout",
     "output_type": "stream",
     "text": [
      "X: (2540, 40) y: (2540, 1)\n",
      "Fitting 10 folds for each of 24 candidates, totalling 240 fits\n"
     ]
    },
    {
     "name": "stderr",
     "output_type": "stream",
     "text": [
      "C:\\Users\\hazel\\anaconda3\\Lib\\site-packages\\sklearn\\model_selection\\_search.py:909: DataConversionWarning: A column-vector y was passed when a 1d array was expected. Please change the shape of y to (n_samples,), for example using ravel().\n",
      "  self.best_estimator_.fit(X, y, **fit_params)\n"
     ]
    },
    {
     "name": "stdout",
     "output_type": "stream",
     "text": [
      "Fitting 10 folds for each of 24 candidates, totalling 240 fits\n"
     ]
    },
    {
     "name": "stderr",
     "output_type": "stream",
     "text": [
      "C:\\Users\\hazel\\anaconda3\\Lib\\site-packages\\sklearn\\model_selection\\_search.py:909: DataConversionWarning: A column-vector y was passed when a 1d array was expected. Please change the shape of y to (n_samples,), for example using ravel().\n",
      "  self.best_estimator_.fit(X, y, **fit_params)\n",
      "C:\\Users\\hazel\\anaconda3\\Lib\\site-packages\\sklearn\\ensemble\\_forest.py:424: FutureWarning: `max_features='auto'` has been deprecated in 1.1 and will be removed in 1.3. To keep the past behaviour, explicitly set `max_features='sqrt'` or remove this parameter as it is also the default value for RandomForestClassifiers and ExtraTreesClassifiers.\n",
      "  warn(\n"
     ]
    },
    {
     "name": "stdout",
     "output_type": "stream",
     "text": [
      "Fitting 10 folds for each of 24 candidates, totalling 240 fits\n"
     ]
    },
    {
     "name": "stderr",
     "output_type": "stream",
     "text": [
      "C:\\Users\\hazel\\anaconda3\\Lib\\site-packages\\sklearn\\model_selection\\_search.py:909: DataConversionWarning: A column-vector y was passed when a 1d array was expected. Please change the shape of y to (n_samples,), for example using ravel().\n",
      "  self.best_estimator_.fit(X, y, **fit_params)\n",
      "C:\\Users\\hazel\\anaconda3\\Lib\\site-packages\\sklearn\\ensemble\\_forest.py:424: FutureWarning: `max_features='auto'` has been deprecated in 1.1 and will be removed in 1.3. To keep the past behaviour, explicitly set `max_features='sqrt'` or remove this parameter as it is also the default value for RandomForestClassifiers and ExtraTreesClassifiers.\n",
      "  warn(\n"
     ]
    },
    {
     "name": "stdout",
     "output_type": "stream",
     "text": [
      "Fitting 10 folds for each of 24 candidates, totalling 240 fits\n"
     ]
    },
    {
     "name": "stderr",
     "output_type": "stream",
     "text": [
      "C:\\Users\\hazel\\anaconda3\\Lib\\site-packages\\sklearn\\model_selection\\_search.py:909: DataConversionWarning: A column-vector y was passed when a 1d array was expected. Please change the shape of y to (n_samples,), for example using ravel().\n",
      "  self.best_estimator_.fit(X, y, **fit_params)\n"
     ]
    },
    {
     "name": "stdout",
     "output_type": "stream",
     "text": [
      "Fitting 10 folds for each of 24 candidates, totalling 240 fits\n"
     ]
    },
    {
     "name": "stderr",
     "output_type": "stream",
     "text": [
      "C:\\Users\\hazel\\anaconda3\\Lib\\site-packages\\sklearn\\model_selection\\_search.py:909: DataConversionWarning: A column-vector y was passed when a 1d array was expected. Please change the shape of y to (n_samples,), for example using ravel().\n",
      "  self.best_estimator_.fit(X, y, **fit_params)\n",
      "C:\\Users\\hazel\\anaconda3\\Lib\\site-packages\\sklearn\\ensemble\\_forest.py:424: FutureWarning: `max_features='auto'` has been deprecated in 1.1 and will be removed in 1.3. To keep the past behaviour, explicitly set `max_features='sqrt'` or remove this parameter as it is also the default value for RandomForestClassifiers and ExtraTreesClassifiers.\n",
      "  warn(\n"
     ]
    },
    {
     "name": "stdout",
     "output_type": "stream",
     "text": [
      "Fitting 10 folds for each of 24 candidates, totalling 240 fits\n"
     ]
    },
    {
     "name": "stderr",
     "output_type": "stream",
     "text": [
      "C:\\Users\\hazel\\anaconda3\\Lib\\site-packages\\sklearn\\model_selection\\_search.py:909: DataConversionWarning: A column-vector y was passed when a 1d array was expected. Please change the shape of y to (n_samples,), for example using ravel().\n",
      "  self.best_estimator_.fit(X, y, **fit_params)\n",
      "C:\\Users\\hazel\\anaconda3\\Lib\\site-packages\\sklearn\\ensemble\\_forest.py:424: FutureWarning: `max_features='auto'` has been deprecated in 1.1 and will be removed in 1.3. To keep the past behaviour, explicitly set `max_features='sqrt'` or remove this parameter as it is also the default value for RandomForestClassifiers and ExtraTreesClassifiers.\n",
      "  warn(\n"
     ]
    },
    {
     "name": "stdout",
     "output_type": "stream",
     "text": [
      "Fitting 10 folds for each of 24 candidates, totalling 240 fits\n"
     ]
    },
    {
     "name": "stderr",
     "output_type": "stream",
     "text": [
      "C:\\Users\\hazel\\anaconda3\\Lib\\site-packages\\sklearn\\model_selection\\_search.py:909: DataConversionWarning: A column-vector y was passed when a 1d array was expected. Please change the shape of y to (n_samples,), for example using ravel().\n",
      "  self.best_estimator_.fit(X, y, **fit_params)\n",
      "C:\\Users\\hazel\\anaconda3\\Lib\\site-packages\\sklearn\\ensemble\\_forest.py:424: FutureWarning: `max_features='auto'` has been deprecated in 1.1 and will be removed in 1.3. To keep the past behaviour, explicitly set `max_features='sqrt'` or remove this parameter as it is also the default value for RandomForestClassifiers and ExtraTreesClassifiers.\n",
      "  warn(\n"
     ]
    },
    {
     "name": "stdout",
     "output_type": "stream",
     "text": [
      "Fitting 10 folds for each of 24 candidates, totalling 240 fits\n"
     ]
    },
    {
     "name": "stderr",
     "output_type": "stream",
     "text": [
      "C:\\Users\\hazel\\anaconda3\\Lib\\site-packages\\sklearn\\model_selection\\_search.py:909: DataConversionWarning: A column-vector y was passed when a 1d array was expected. Please change the shape of y to (n_samples,), for example using ravel().\n",
      "  self.best_estimator_.fit(X, y, **fit_params)\n",
      "C:\\Users\\hazel\\anaconda3\\Lib\\site-packages\\sklearn\\ensemble\\_forest.py:424: FutureWarning: `max_features='auto'` has been deprecated in 1.1 and will be removed in 1.3. To keep the past behaviour, explicitly set `max_features='sqrt'` or remove this parameter as it is also the default value for RandomForestClassifiers and ExtraTreesClassifiers.\n",
      "  warn(\n"
     ]
    },
    {
     "name": "stdout",
     "output_type": "stream",
     "text": [
      "Fitting 10 folds for each of 24 candidates, totalling 240 fits\n"
     ]
    },
    {
     "name": "stderr",
     "output_type": "stream",
     "text": [
      "C:\\Users\\hazel\\anaconda3\\Lib\\site-packages\\sklearn\\model_selection\\_search.py:909: DataConversionWarning: A column-vector y was passed when a 1d array was expected. Please change the shape of y to (n_samples,), for example using ravel().\n",
      "  self.best_estimator_.fit(X, y, **fit_params)\n",
      "C:\\Users\\hazel\\anaconda3\\Lib\\site-packages\\sklearn\\ensemble\\_forest.py:424: FutureWarning: `max_features='auto'` has been deprecated in 1.1 and will be removed in 1.3. To keep the past behaviour, explicitly set `max_features='sqrt'` or remove this parameter as it is also the default value for RandomForestClassifiers and ExtraTreesClassifiers.\n",
      "  warn(\n"
     ]
    },
    {
     "name": "stdout",
     "output_type": "stream",
     "text": [
      "Fitting 10 folds for each of 24 candidates, totalling 240 fits\n"
     ]
    },
    {
     "name": "stderr",
     "output_type": "stream",
     "text": [
      "C:\\Users\\hazel\\anaconda3\\Lib\\site-packages\\sklearn\\model_selection\\_search.py:909: DataConversionWarning: A column-vector y was passed when a 1d array was expected. Please change the shape of y to (n_samples,), for example using ravel().\n",
      "  self.best_estimator_.fit(X, y, **fit_params)\n",
      "C:\\Users\\hazel\\anaconda3\\Lib\\site-packages\\sklearn\\ensemble\\_forest.py:424: FutureWarning: `max_features='auto'` has been deprecated in 1.1 and will be removed in 1.3. To keep the past behaviour, explicitly set `max_features='sqrt'` or remove this parameter as it is also the default value for RandomForestClassifiers and ExtraTreesClassifiers.\n",
      "  warn(\n"
     ]
    },
    {
     "name": "stdout",
     "output_type": "stream",
     "text": [
      "Fitting 10 folds for each of 24 candidates, totalling 240 fits\n"
     ]
    },
    {
     "name": "stderr",
     "output_type": "stream",
     "text": [
      "C:\\Users\\hazel\\anaconda3\\Lib\\site-packages\\sklearn\\model_selection\\_search.py:909: DataConversionWarning: A column-vector y was passed when a 1d array was expected. Please change the shape of y to (n_samples,), for example using ravel().\n",
      "  self.best_estimator_.fit(X, y, **fit_params)\n",
      "C:\\Users\\hazel\\anaconda3\\Lib\\site-packages\\sklearn\\ensemble\\_forest.py:424: FutureWarning: `max_features='auto'` has been deprecated in 1.1 and will be removed in 1.3. To keep the past behaviour, explicitly set `max_features='sqrt'` or remove this parameter as it is also the default value for RandomForestClassifiers and ExtraTreesClassifiers.\n",
      "  warn(\n"
     ]
    },
    {
     "name": "stdout",
     "output_type": "stream",
     "text": [
      "Fitting 10 folds for each of 24 candidates, totalling 240 fits\n"
     ]
    },
    {
     "name": "stderr",
     "output_type": "stream",
     "text": [
      "C:\\Users\\hazel\\anaconda3\\Lib\\site-packages\\sklearn\\model_selection\\_search.py:909: DataConversionWarning: A column-vector y was passed when a 1d array was expected. Please change the shape of y to (n_samples,), for example using ravel().\n",
      "  self.best_estimator_.fit(X, y, **fit_params)\n",
      "C:\\Users\\hazel\\anaconda3\\Lib\\site-packages\\sklearn\\ensemble\\_forest.py:424: FutureWarning: `max_features='auto'` has been deprecated in 1.1 and will be removed in 1.3. To keep the past behaviour, explicitly set `max_features='sqrt'` or remove this parameter as it is also the default value for RandomForestClassifiers and ExtraTreesClassifiers.\n",
      "  warn(\n"
     ]
    },
    {
     "data": {
      "text/html": [
       "<div>\n",
       "<style scoped>\n",
       "    .dataframe tbody tr th:only-of-type {\n",
       "        vertical-align: middle;\n",
       "    }\n",
       "\n",
       "    .dataframe tbody tr th {\n",
       "        vertical-align: top;\n",
       "    }\n",
       "\n",
       "    .dataframe thead th {\n",
       "        text-align: right;\n",
       "    }\n",
       "</style>\n",
       "<table border=\"1\" class=\"dataframe\">\n",
       "  <thead>\n",
       "    <tr style=\"text-align: right;\">\n",
       "      <th></th>\n",
       "      <th>Test Size</th>\n",
       "      <th>Random State</th>\n",
       "      <th>Accuracy</th>\n",
       "      <th>Precision</th>\n",
       "      <th>Recall</th>\n",
       "      <th>F1 Score</th>\n",
       "      <th>Best Param</th>\n",
       "    </tr>\n",
       "  </thead>\n",
       "  <tbody>\n",
       "    <tr>\n",
       "      <th>0</th>\n",
       "      <td>0.5</td>\n",
       "      <td>7</td>\n",
       "      <td>1.000000</td>\n",
       "      <td>1.000000</td>\n",
       "      <td>1.000000</td>\n",
       "      <td>1.000000</td>\n",
       "      <td>{'criterion': 'gini', 'max_features': 'log2', ...</td>\n",
       "    </tr>\n",
       "    <tr>\n",
       "      <th>1</th>\n",
       "      <td>0.5</td>\n",
       "      <td>69</td>\n",
       "      <td>1.000000</td>\n",
       "      <td>1.000000</td>\n",
       "      <td>1.000000</td>\n",
       "      <td>1.000000</td>\n",
       "      <td>{'criterion': 'gini', 'max_features': 'auto', ...</td>\n",
       "    </tr>\n",
       "    <tr>\n",
       "      <th>2</th>\n",
       "      <td>0.5</td>\n",
       "      <td>101</td>\n",
       "      <td>1.000000</td>\n",
       "      <td>1.000000</td>\n",
       "      <td>1.000000</td>\n",
       "      <td>1.000000</td>\n",
       "      <td>{'criterion': 'gini', 'max_features': 'auto', ...</td>\n",
       "    </tr>\n",
       "    <tr>\n",
       "      <th>3</th>\n",
       "      <td>0.4</td>\n",
       "      <td>7</td>\n",
       "      <td>1.000000</td>\n",
       "      <td>1.000000</td>\n",
       "      <td>1.000000</td>\n",
       "      <td>1.000000</td>\n",
       "      <td>{'criterion': 'gini', 'max_features': 'log2', ...</td>\n",
       "    </tr>\n",
       "    <tr>\n",
       "      <th>4</th>\n",
       "      <td>0.4</td>\n",
       "      <td>69</td>\n",
       "      <td>1.000000</td>\n",
       "      <td>1.000000</td>\n",
       "      <td>1.000000</td>\n",
       "      <td>1.000000</td>\n",
       "      <td>{'criterion': 'gini', 'max_features': 'auto', ...</td>\n",
       "    </tr>\n",
       "    <tr>\n",
       "      <th>5</th>\n",
       "      <td>0.4</td>\n",
       "      <td>101</td>\n",
       "      <td>0.999016</td>\n",
       "      <td>0.999018</td>\n",
       "      <td>0.999016</td>\n",
       "      <td>0.999016</td>\n",
       "      <td>{'criterion': 'gini', 'max_features': 'auto', ...</td>\n",
       "    </tr>\n",
       "    <tr>\n",
       "      <th>6</th>\n",
       "      <td>0.3</td>\n",
       "      <td>7</td>\n",
       "      <td>1.000000</td>\n",
       "      <td>1.000000</td>\n",
       "      <td>1.000000</td>\n",
       "      <td>1.000000</td>\n",
       "      <td>{'criterion': 'gini', 'max_features': 'auto', ...</td>\n",
       "    </tr>\n",
       "    <tr>\n",
       "      <th>7</th>\n",
       "      <td>0.3</td>\n",
       "      <td>69</td>\n",
       "      <td>1.000000</td>\n",
       "      <td>1.000000</td>\n",
       "      <td>1.000000</td>\n",
       "      <td>1.000000</td>\n",
       "      <td>{'criterion': 'gini', 'max_features': 'auto', ...</td>\n",
       "    </tr>\n",
       "    <tr>\n",
       "      <th>8</th>\n",
       "      <td>0.3</td>\n",
       "      <td>101</td>\n",
       "      <td>1.000000</td>\n",
       "      <td>1.000000</td>\n",
       "      <td>1.000000</td>\n",
       "      <td>1.000000</td>\n",
       "      <td>{'criterion': 'gini', 'max_features': 'auto', ...</td>\n",
       "    </tr>\n",
       "    <tr>\n",
       "      <th>9</th>\n",
       "      <td>0.2</td>\n",
       "      <td>7</td>\n",
       "      <td>1.000000</td>\n",
       "      <td>1.000000</td>\n",
       "      <td>1.000000</td>\n",
       "      <td>1.000000</td>\n",
       "      <td>{'criterion': 'gini', 'max_features': 'auto', ...</td>\n",
       "    </tr>\n",
       "    <tr>\n",
       "      <th>10</th>\n",
       "      <td>0.2</td>\n",
       "      <td>69</td>\n",
       "      <td>1.000000</td>\n",
       "      <td>1.000000</td>\n",
       "      <td>1.000000</td>\n",
       "      <td>1.000000</td>\n",
       "      <td>{'criterion': 'gini', 'max_features': 'auto', ...</td>\n",
       "    </tr>\n",
       "    <tr>\n",
       "      <th>11</th>\n",
       "      <td>0.2</td>\n",
       "      <td>101</td>\n",
       "      <td>1.000000</td>\n",
       "      <td>1.000000</td>\n",
       "      <td>1.000000</td>\n",
       "      <td>1.000000</td>\n",
       "      <td>{'criterion': 'gini', 'max_features': 'auto', ...</td>\n",
       "    </tr>\n",
       "  </tbody>\n",
       "</table>\n",
       "</div>"
      ],
      "text/plain": [
       "    Test Size  Random State  Accuracy  Precision    Recall  F1 Score  \\\n",
       "0         0.5             7  1.000000   1.000000  1.000000  1.000000   \n",
       "1         0.5            69  1.000000   1.000000  1.000000  1.000000   \n",
       "2         0.5           101  1.000000   1.000000  1.000000  1.000000   \n",
       "3         0.4             7  1.000000   1.000000  1.000000  1.000000   \n",
       "4         0.4            69  1.000000   1.000000  1.000000  1.000000   \n",
       "5         0.4           101  0.999016   0.999018  0.999016  0.999016   \n",
       "6         0.3             7  1.000000   1.000000  1.000000  1.000000   \n",
       "7         0.3            69  1.000000   1.000000  1.000000  1.000000   \n",
       "8         0.3           101  1.000000   1.000000  1.000000  1.000000   \n",
       "9         0.2             7  1.000000   1.000000  1.000000  1.000000   \n",
       "10        0.2            69  1.000000   1.000000  1.000000  1.000000   \n",
       "11        0.2           101  1.000000   1.000000  1.000000  1.000000   \n",
       "\n",
       "                                           Best Param  \n",
       "0   {'criterion': 'gini', 'max_features': 'log2', ...  \n",
       "1   {'criterion': 'gini', 'max_features': 'auto', ...  \n",
       "2   {'criterion': 'gini', 'max_features': 'auto', ...  \n",
       "3   {'criterion': 'gini', 'max_features': 'log2', ...  \n",
       "4   {'criterion': 'gini', 'max_features': 'auto', ...  \n",
       "5   {'criterion': 'gini', 'max_features': 'auto', ...  \n",
       "6   {'criterion': 'gini', 'max_features': 'auto', ...  \n",
       "7   {'criterion': 'gini', 'max_features': 'auto', ...  \n",
       "8   {'criterion': 'gini', 'max_features': 'auto', ...  \n",
       "9   {'criterion': 'gini', 'max_features': 'auto', ...  \n",
       "10  {'criterion': 'gini', 'max_features': 'auto', ...  \n",
       "11  {'criterion': 'gini', 'max_features': 'auto', ...  "
      ]
     },
     "execution_count": 52,
     "metadata": {},
     "output_type": "execute_result"
    }
   ],
   "source": [
    "tempB_ROS = []\n",
    "\n",
    "y = merge_B_ROS[['CGPA']]\n",
    "X = merge_B_ROS.drop(columns=['CGPA'])\n",
    "\n",
    "print(\"X:\", X.shape,\"y:\", y.shape)\n",
    "\n",
    "for i in [0.5,0.4,0.3,0.2]:\n",
    "    for j in rand_states:\n",
    "        X_train, X_test, y_train, y_test = train_test_split(X, y, test_size=i, random_state=j)\n",
    "        param_grid = {'n_estimators': [100, 200, 300, 400],\n",
    "                      'max_features': ['auto', 'sqrt', 'log2'],\n",
    "                      'criterion' :['gini', 'entropy']}\n",
    "\n",
    "        model = GridSearchCV(RandomForestClassifier(), param_grid, refit=True, n_jobs=-1, cv=10, verbose=1)\n",
    "        model.fit(X_train, y_train)\n",
    "        pred = model.predict(X_test)\n",
    "\n",
    "        acc = accuracy_score(y_test,pred)\n",
    "        pre = precision_score(y_test, pred, average='weighted')\n",
    "        recall = recall_score(y_test, pred, average='weighted')\n",
    "        f1 = f1_score(y_test, pred, average='weighted')\n",
    "        param = model.best_params_\n",
    "    \n",
    "        tempB_ROS.append([i,j,acc,pre,recall,f1,param])\n",
    "        \n",
    "dfB_ROS = pd.DataFrame(columns=['Test Size','Random State','Accuracy','Precision','Recall','F1 Score','Best Param'],data=tempB_ROS)\n",
    "dfB_ROS"
   ]
  },
  {
   "cell_type": "code",
   "execution_count": 53,
   "id": "a8618528-bd24-4fc9-9e99-84b565e160b3",
   "metadata": {},
   "outputs": [
    {
     "data": {
      "text/html": [
       "<div>\n",
       "<style scoped>\n",
       "    .dataframe tbody tr th:only-of-type {\n",
       "        vertical-align: middle;\n",
       "    }\n",
       "\n",
       "    .dataframe tbody tr th {\n",
       "        vertical-align: top;\n",
       "    }\n",
       "\n",
       "    .dataframe thead th {\n",
       "        text-align: right;\n",
       "    }\n",
       "</style>\n",
       "<table border=\"1\" class=\"dataframe\">\n",
       "  <thead>\n",
       "    <tr style=\"text-align: right;\">\n",
       "      <th></th>\n",
       "      <th>Accuracy</th>\n",
       "      <th>Precision</th>\n",
       "      <th>Recall</th>\n",
       "      <th>F1 Score</th>\n",
       "    </tr>\n",
       "    <tr>\n",
       "      <th>Test Size</th>\n",
       "      <th></th>\n",
       "      <th></th>\n",
       "      <th></th>\n",
       "      <th></th>\n",
       "    </tr>\n",
       "  </thead>\n",
       "  <tbody>\n",
       "    <tr>\n",
       "      <th>0.2</th>\n",
       "      <td>1.000000</td>\n",
       "      <td>1.000000</td>\n",
       "      <td>1.000000</td>\n",
       "      <td>1.000000</td>\n",
       "    </tr>\n",
       "    <tr>\n",
       "      <th>0.3</th>\n",
       "      <td>1.000000</td>\n",
       "      <td>1.000000</td>\n",
       "      <td>1.000000</td>\n",
       "      <td>1.000000</td>\n",
       "    </tr>\n",
       "    <tr>\n",
       "      <th>0.4</th>\n",
       "      <td>0.999672</td>\n",
       "      <td>0.999673</td>\n",
       "      <td>0.999672</td>\n",
       "      <td>0.999672</td>\n",
       "    </tr>\n",
       "    <tr>\n",
       "      <th>0.5</th>\n",
       "      <td>1.000000</td>\n",
       "      <td>1.000000</td>\n",
       "      <td>1.000000</td>\n",
       "      <td>1.000000</td>\n",
       "    </tr>\n",
       "  </tbody>\n",
       "</table>\n",
       "</div>"
      ],
      "text/plain": [
       "           Accuracy  Precision    Recall  F1 Score\n",
       "Test Size                                         \n",
       "0.2        1.000000   1.000000  1.000000  1.000000\n",
       "0.3        1.000000   1.000000  1.000000  1.000000\n",
       "0.4        0.999672   0.999673  0.999672  0.999672\n",
       "0.5        1.000000   1.000000  1.000000  1.000000"
      ]
     },
     "execution_count": 53,
     "metadata": {},
     "output_type": "execute_result"
    }
   ],
   "source": [
    "dfB_ROS.groupby('Test Size')[['Accuracy','Precision','Recall','F1 Score']].mean()"
   ]
  },
  {
   "cell_type": "code",
   "execution_count": 54,
   "id": "94cc5a4d-a27b-4e32-b946-9986abd1019d",
   "metadata": {},
   "outputs": [
    {
     "name": "stdout",
     "output_type": "stream",
     "text": [
      "All Attributes\n",
      "\n",
      "{'criterion': 'gini', 'max_features': 'log2', 'n_estimators': 200}\n",
      "{'criterion': 'gini', 'max_features': 'auto', 'n_estimators': 100}\n",
      "{'criterion': 'gini', 'max_features': 'auto', 'n_estimators': 100}\n",
      "{'criterion': 'gini', 'max_features': 'log2', 'n_estimators': 200}\n",
      "{'criterion': 'gini', 'max_features': 'auto', 'n_estimators': 100}\n",
      "{'criterion': 'gini', 'max_features': 'auto', 'n_estimators': 100}\n",
      "{'criterion': 'gini', 'max_features': 'auto', 'n_estimators': 100}\n",
      "{'criterion': 'gini', 'max_features': 'auto', 'n_estimators': 100}\n",
      "{'criterion': 'gini', 'max_features': 'auto', 'n_estimators': 100}\n",
      "{'criterion': 'gini', 'max_features': 'auto', 'n_estimators': 200}\n",
      "{'criterion': 'gini', 'max_features': 'auto', 'n_estimators': 100}\n",
      "{'criterion': 'gini', 'max_features': 'auto', 'n_estimators': 100}\n"
     ]
    }
   ],
   "source": [
    "print(\"All Attributes\\n\")\n",
    "for x in dfB_ROS[\"Best Param\"]:\n",
    "    print(x)"
   ]
  },
  {
   "cell_type": "markdown",
   "id": "ee1d6e50-0189-49e9-845c-fda1e22d1407",
   "metadata": {},
   "source": [
    "### AA after SMOTE"
   ]
  },
  {
   "cell_type": "code",
   "execution_count": 55,
   "id": "302e18ac-b5dd-42c4-b1ee-584c6e9f63ba",
   "metadata": {},
   "outputs": [
    {
     "name": "stdout",
     "output_type": "stream",
     "text": [
      "X: (2540, 40) y: (2540, 1)\n",
      "Fitting 10 folds for each of 24 candidates, totalling 240 fits\n"
     ]
    },
    {
     "name": "stderr",
     "output_type": "stream",
     "text": [
      "C:\\Users\\hazel\\anaconda3\\Lib\\site-packages\\sklearn\\model_selection\\_search.py:909: DataConversionWarning: A column-vector y was passed when a 1d array was expected. Please change the shape of y to (n_samples,), for example using ravel().\n",
      "  self.best_estimator_.fit(X, y, **fit_params)\n"
     ]
    },
    {
     "name": "stdout",
     "output_type": "stream",
     "text": [
      "Fitting 10 folds for each of 24 candidates, totalling 240 fits\n"
     ]
    },
    {
     "name": "stderr",
     "output_type": "stream",
     "text": [
      "C:\\Users\\hazel\\anaconda3\\Lib\\site-packages\\sklearn\\model_selection\\_search.py:909: DataConversionWarning: A column-vector y was passed when a 1d array was expected. Please change the shape of y to (n_samples,), for example using ravel().\n",
      "  self.best_estimator_.fit(X, y, **fit_params)\n",
      "C:\\Users\\hazel\\anaconda3\\Lib\\site-packages\\sklearn\\ensemble\\_forest.py:424: FutureWarning: `max_features='auto'` has been deprecated in 1.1 and will be removed in 1.3. To keep the past behaviour, explicitly set `max_features='sqrt'` or remove this parameter as it is also the default value for RandomForestClassifiers and ExtraTreesClassifiers.\n",
      "  warn(\n"
     ]
    },
    {
     "name": "stdout",
     "output_type": "stream",
     "text": [
      "Fitting 10 folds for each of 24 candidates, totalling 240 fits\n"
     ]
    },
    {
     "name": "stderr",
     "output_type": "stream",
     "text": [
      "C:\\Users\\hazel\\anaconda3\\Lib\\site-packages\\sklearn\\model_selection\\_search.py:909: DataConversionWarning: A column-vector y was passed when a 1d array was expected. Please change the shape of y to (n_samples,), for example using ravel().\n",
      "  self.best_estimator_.fit(X, y, **fit_params)\n",
      "C:\\Users\\hazel\\anaconda3\\Lib\\site-packages\\sklearn\\ensemble\\_forest.py:424: FutureWarning: `max_features='auto'` has been deprecated in 1.1 and will be removed in 1.3. To keep the past behaviour, explicitly set `max_features='sqrt'` or remove this parameter as it is also the default value for RandomForestClassifiers and ExtraTreesClassifiers.\n",
      "  warn(\n"
     ]
    },
    {
     "name": "stdout",
     "output_type": "stream",
     "text": [
      "Fitting 10 folds for each of 24 candidates, totalling 240 fits\n"
     ]
    },
    {
     "name": "stderr",
     "output_type": "stream",
     "text": [
      "C:\\Users\\hazel\\anaconda3\\Lib\\site-packages\\sklearn\\model_selection\\_search.py:909: DataConversionWarning: A column-vector y was passed when a 1d array was expected. Please change the shape of y to (n_samples,), for example using ravel().\n",
      "  self.best_estimator_.fit(X, y, **fit_params)\n"
     ]
    },
    {
     "name": "stdout",
     "output_type": "stream",
     "text": [
      "Fitting 10 folds for each of 24 candidates, totalling 240 fits\n"
     ]
    },
    {
     "name": "stderr",
     "output_type": "stream",
     "text": [
      "C:\\Users\\hazel\\anaconda3\\Lib\\site-packages\\sklearn\\model_selection\\_search.py:909: DataConversionWarning: A column-vector y was passed when a 1d array was expected. Please change the shape of y to (n_samples,), for example using ravel().\n",
      "  self.best_estimator_.fit(X, y, **fit_params)\n",
      "C:\\Users\\hazel\\anaconda3\\Lib\\site-packages\\sklearn\\ensemble\\_forest.py:424: FutureWarning: `max_features='auto'` has been deprecated in 1.1 and will be removed in 1.3. To keep the past behaviour, explicitly set `max_features='sqrt'` or remove this parameter as it is also the default value for RandomForestClassifiers and ExtraTreesClassifiers.\n",
      "  warn(\n"
     ]
    },
    {
     "name": "stdout",
     "output_type": "stream",
     "text": [
      "Fitting 10 folds for each of 24 candidates, totalling 240 fits\n"
     ]
    },
    {
     "name": "stderr",
     "output_type": "stream",
     "text": [
      "C:\\Users\\hazel\\anaconda3\\Lib\\site-packages\\sklearn\\model_selection\\_search.py:909: DataConversionWarning: A column-vector y was passed when a 1d array was expected. Please change the shape of y to (n_samples,), for example using ravel().\n",
      "  self.best_estimator_.fit(X, y, **fit_params)\n"
     ]
    },
    {
     "name": "stdout",
     "output_type": "stream",
     "text": [
      "Fitting 10 folds for each of 24 candidates, totalling 240 fits\n"
     ]
    },
    {
     "name": "stderr",
     "output_type": "stream",
     "text": [
      "C:\\Users\\hazel\\anaconda3\\Lib\\site-packages\\sklearn\\model_selection\\_search.py:909: DataConversionWarning: A column-vector y was passed when a 1d array was expected. Please change the shape of y to (n_samples,), for example using ravel().\n",
      "  self.best_estimator_.fit(X, y, **fit_params)\n",
      "C:\\Users\\hazel\\anaconda3\\Lib\\site-packages\\sklearn\\ensemble\\_forest.py:424: FutureWarning: `max_features='auto'` has been deprecated in 1.1 and will be removed in 1.3. To keep the past behaviour, explicitly set `max_features='sqrt'` or remove this parameter as it is also the default value for RandomForestClassifiers and ExtraTreesClassifiers.\n",
      "  warn(\n"
     ]
    },
    {
     "name": "stdout",
     "output_type": "stream",
     "text": [
      "Fitting 10 folds for each of 24 candidates, totalling 240 fits\n"
     ]
    },
    {
     "name": "stderr",
     "output_type": "stream",
     "text": [
      "C:\\Users\\hazel\\anaconda3\\Lib\\site-packages\\sklearn\\model_selection\\_search.py:909: DataConversionWarning: A column-vector y was passed when a 1d array was expected. Please change the shape of y to (n_samples,), for example using ravel().\n",
      "  self.best_estimator_.fit(X, y, **fit_params)\n",
      "C:\\Users\\hazel\\anaconda3\\Lib\\site-packages\\sklearn\\ensemble\\_forest.py:424: FutureWarning: `max_features='auto'` has been deprecated in 1.1 and will be removed in 1.3. To keep the past behaviour, explicitly set `max_features='sqrt'` or remove this parameter as it is also the default value for RandomForestClassifiers and ExtraTreesClassifiers.\n",
      "  warn(\n"
     ]
    },
    {
     "name": "stdout",
     "output_type": "stream",
     "text": [
      "Fitting 10 folds for each of 24 candidates, totalling 240 fits\n"
     ]
    },
    {
     "name": "stderr",
     "output_type": "stream",
     "text": [
      "C:\\Users\\hazel\\anaconda3\\Lib\\site-packages\\sklearn\\model_selection\\_search.py:909: DataConversionWarning: A column-vector y was passed when a 1d array was expected. Please change the shape of y to (n_samples,), for example using ravel().\n",
      "  self.best_estimator_.fit(X, y, **fit_params)\n",
      "C:\\Users\\hazel\\anaconda3\\Lib\\site-packages\\sklearn\\ensemble\\_forest.py:424: FutureWarning: `max_features='auto'` has been deprecated in 1.1 and will be removed in 1.3. To keep the past behaviour, explicitly set `max_features='sqrt'` or remove this parameter as it is also the default value for RandomForestClassifiers and ExtraTreesClassifiers.\n",
      "  warn(\n"
     ]
    },
    {
     "name": "stdout",
     "output_type": "stream",
     "text": [
      "Fitting 10 folds for each of 24 candidates, totalling 240 fits\n"
     ]
    },
    {
     "name": "stderr",
     "output_type": "stream",
     "text": [
      "C:\\Users\\hazel\\anaconda3\\Lib\\site-packages\\sklearn\\model_selection\\_search.py:909: DataConversionWarning: A column-vector y was passed when a 1d array was expected. Please change the shape of y to (n_samples,), for example using ravel().\n",
      "  self.best_estimator_.fit(X, y, **fit_params)\n",
      "C:\\Users\\hazel\\anaconda3\\Lib\\site-packages\\sklearn\\ensemble\\_forest.py:424: FutureWarning: `max_features='auto'` has been deprecated in 1.1 and will be removed in 1.3. To keep the past behaviour, explicitly set `max_features='sqrt'` or remove this parameter as it is also the default value for RandomForestClassifiers and ExtraTreesClassifiers.\n",
      "  warn(\n"
     ]
    },
    {
     "name": "stdout",
     "output_type": "stream",
     "text": [
      "Fitting 10 folds for each of 24 candidates, totalling 240 fits\n"
     ]
    },
    {
     "name": "stderr",
     "output_type": "stream",
     "text": [
      "C:\\Users\\hazel\\anaconda3\\Lib\\site-packages\\sklearn\\model_selection\\_search.py:909: DataConversionWarning: A column-vector y was passed when a 1d array was expected. Please change the shape of y to (n_samples,), for example using ravel().\n",
      "  self.best_estimator_.fit(X, y, **fit_params)\n",
      "C:\\Users\\hazel\\anaconda3\\Lib\\site-packages\\sklearn\\ensemble\\_forest.py:424: FutureWarning: `max_features='auto'` has been deprecated in 1.1 and will be removed in 1.3. To keep the past behaviour, explicitly set `max_features='sqrt'` or remove this parameter as it is also the default value for RandomForestClassifiers and ExtraTreesClassifiers.\n",
      "  warn(\n"
     ]
    },
    {
     "name": "stdout",
     "output_type": "stream",
     "text": [
      "Fitting 10 folds for each of 24 candidates, totalling 240 fits\n"
     ]
    },
    {
     "name": "stderr",
     "output_type": "stream",
     "text": [
      "C:\\Users\\hazel\\anaconda3\\Lib\\site-packages\\sklearn\\model_selection\\_search.py:909: DataConversionWarning: A column-vector y was passed when a 1d array was expected. Please change the shape of y to (n_samples,), for example using ravel().\n",
      "  self.best_estimator_.fit(X, y, **fit_params)\n",
      "C:\\Users\\hazel\\anaconda3\\Lib\\site-packages\\sklearn\\ensemble\\_forest.py:424: FutureWarning: `max_features='auto'` has been deprecated in 1.1 and will be removed in 1.3. To keep the past behaviour, explicitly set `max_features='sqrt'` or remove this parameter as it is also the default value for RandomForestClassifiers and ExtraTreesClassifiers.\n",
      "  warn(\n"
     ]
    },
    {
     "data": {
      "text/html": [
       "<div>\n",
       "<style scoped>\n",
       "    .dataframe tbody tr th:only-of-type {\n",
       "        vertical-align: middle;\n",
       "    }\n",
       "\n",
       "    .dataframe tbody tr th {\n",
       "        vertical-align: top;\n",
       "    }\n",
       "\n",
       "    .dataframe thead th {\n",
       "        text-align: right;\n",
       "    }\n",
       "</style>\n",
       "<table border=\"1\" class=\"dataframe\">\n",
       "  <thead>\n",
       "    <tr style=\"text-align: right;\">\n",
       "      <th></th>\n",
       "      <th>Test Size</th>\n",
       "      <th>Random State</th>\n",
       "      <th>Accuracy</th>\n",
       "      <th>Precision</th>\n",
       "      <th>Recall</th>\n",
       "      <th>F1 Score</th>\n",
       "      <th>Best Param</th>\n",
       "    </tr>\n",
       "  </thead>\n",
       "  <tbody>\n",
       "    <tr>\n",
       "      <th>0</th>\n",
       "      <td>0.5</td>\n",
       "      <td>7</td>\n",
       "      <td>0.994488</td>\n",
       "      <td>0.994490</td>\n",
       "      <td>0.994488</td>\n",
       "      <td>0.994488</td>\n",
       "      <td>{'criterion': 'gini', 'max_features': 'sqrt', ...</td>\n",
       "    </tr>\n",
       "    <tr>\n",
       "      <th>1</th>\n",
       "      <td>0.5</td>\n",
       "      <td>69</td>\n",
       "      <td>0.996063</td>\n",
       "      <td>0.996074</td>\n",
       "      <td>0.996063</td>\n",
       "      <td>0.996063</td>\n",
       "      <td>{'criterion': 'gini', 'max_features': 'auto', ...</td>\n",
       "    </tr>\n",
       "    <tr>\n",
       "      <th>2</th>\n",
       "      <td>0.5</td>\n",
       "      <td>101</td>\n",
       "      <td>0.994488</td>\n",
       "      <td>0.994489</td>\n",
       "      <td>0.994488</td>\n",
       "      <td>0.994488</td>\n",
       "      <td>{'criterion': 'gini', 'max_features': 'auto', ...</td>\n",
       "    </tr>\n",
       "    <tr>\n",
       "      <th>3</th>\n",
       "      <td>0.4</td>\n",
       "      <td>7</td>\n",
       "      <td>0.995079</td>\n",
       "      <td>0.995097</td>\n",
       "      <td>0.995079</td>\n",
       "      <td>0.995079</td>\n",
       "      <td>{'criterion': 'gini', 'max_features': 'sqrt', ...</td>\n",
       "    </tr>\n",
       "    <tr>\n",
       "      <th>4</th>\n",
       "      <td>0.4</td>\n",
       "      <td>69</td>\n",
       "      <td>0.996063</td>\n",
       "      <td>0.996070</td>\n",
       "      <td>0.996063</td>\n",
       "      <td>0.996063</td>\n",
       "      <td>{'criterion': 'entropy', 'max_features': 'auto...</td>\n",
       "    </tr>\n",
       "    <tr>\n",
       "      <th>5</th>\n",
       "      <td>0.4</td>\n",
       "      <td>101</td>\n",
       "      <td>0.995079</td>\n",
       "      <td>0.995080</td>\n",
       "      <td>0.995079</td>\n",
       "      <td>0.995079</td>\n",
       "      <td>{'criterion': 'gini', 'max_features': 'sqrt', ...</td>\n",
       "    </tr>\n",
       "    <tr>\n",
       "      <th>6</th>\n",
       "      <td>0.3</td>\n",
       "      <td>7</td>\n",
       "      <td>0.994751</td>\n",
       "      <td>0.994807</td>\n",
       "      <td>0.994751</td>\n",
       "      <td>0.994751</td>\n",
       "      <td>{'criterion': 'gini', 'max_features': 'auto', ...</td>\n",
       "    </tr>\n",
       "    <tr>\n",
       "      <th>7</th>\n",
       "      <td>0.3</td>\n",
       "      <td>69</td>\n",
       "      <td>0.996063</td>\n",
       "      <td>0.996066</td>\n",
       "      <td>0.996063</td>\n",
       "      <td>0.996063</td>\n",
       "      <td>{'criterion': 'entropy', 'max_features': 'auto...</td>\n",
       "    </tr>\n",
       "    <tr>\n",
       "      <th>8</th>\n",
       "      <td>0.3</td>\n",
       "      <td>101</td>\n",
       "      <td>0.992126</td>\n",
       "      <td>0.992126</td>\n",
       "      <td>0.992126</td>\n",
       "      <td>0.992126</td>\n",
       "      <td>{'criterion': 'gini', 'max_features': 'auto', ...</td>\n",
       "    </tr>\n",
       "    <tr>\n",
       "      <th>9</th>\n",
       "      <td>0.2</td>\n",
       "      <td>7</td>\n",
       "      <td>0.996063</td>\n",
       "      <td>0.996096</td>\n",
       "      <td>0.996063</td>\n",
       "      <td>0.996064</td>\n",
       "      <td>{'criterion': 'gini', 'max_features': 'auto', ...</td>\n",
       "    </tr>\n",
       "    <tr>\n",
       "      <th>10</th>\n",
       "      <td>0.2</td>\n",
       "      <td>69</td>\n",
       "      <td>0.998031</td>\n",
       "      <td>0.998039</td>\n",
       "      <td>0.998031</td>\n",
       "      <td>0.998032</td>\n",
       "      <td>{'criterion': 'gini', 'max_features': 'auto', ...</td>\n",
       "    </tr>\n",
       "    <tr>\n",
       "      <th>11</th>\n",
       "      <td>0.2</td>\n",
       "      <td>101</td>\n",
       "      <td>0.992126</td>\n",
       "      <td>0.992154</td>\n",
       "      <td>0.992126</td>\n",
       "      <td>0.992124</td>\n",
       "      <td>{'criterion': 'gini', 'max_features': 'auto', ...</td>\n",
       "    </tr>\n",
       "  </tbody>\n",
       "</table>\n",
       "</div>"
      ],
      "text/plain": [
       "    Test Size  Random State  Accuracy  Precision    Recall  F1 Score  \\\n",
       "0         0.5             7  0.994488   0.994490  0.994488  0.994488   \n",
       "1         0.5            69  0.996063   0.996074  0.996063  0.996063   \n",
       "2         0.5           101  0.994488   0.994489  0.994488  0.994488   \n",
       "3         0.4             7  0.995079   0.995097  0.995079  0.995079   \n",
       "4         0.4            69  0.996063   0.996070  0.996063  0.996063   \n",
       "5         0.4           101  0.995079   0.995080  0.995079  0.995079   \n",
       "6         0.3             7  0.994751   0.994807  0.994751  0.994751   \n",
       "7         0.3            69  0.996063   0.996066  0.996063  0.996063   \n",
       "8         0.3           101  0.992126   0.992126  0.992126  0.992126   \n",
       "9         0.2             7  0.996063   0.996096  0.996063  0.996064   \n",
       "10        0.2            69  0.998031   0.998039  0.998031  0.998032   \n",
       "11        0.2           101  0.992126   0.992154  0.992126  0.992124   \n",
       "\n",
       "                                           Best Param  \n",
       "0   {'criterion': 'gini', 'max_features': 'sqrt', ...  \n",
       "1   {'criterion': 'gini', 'max_features': 'auto', ...  \n",
       "2   {'criterion': 'gini', 'max_features': 'auto', ...  \n",
       "3   {'criterion': 'gini', 'max_features': 'sqrt', ...  \n",
       "4   {'criterion': 'entropy', 'max_features': 'auto...  \n",
       "5   {'criterion': 'gini', 'max_features': 'sqrt', ...  \n",
       "6   {'criterion': 'gini', 'max_features': 'auto', ...  \n",
       "7   {'criterion': 'entropy', 'max_features': 'auto...  \n",
       "8   {'criterion': 'gini', 'max_features': 'auto', ...  \n",
       "9   {'criterion': 'gini', 'max_features': 'auto', ...  \n",
       "10  {'criterion': 'gini', 'max_features': 'auto', ...  \n",
       "11  {'criterion': 'gini', 'max_features': 'auto', ...  "
      ]
     },
     "execution_count": 55,
     "metadata": {},
     "output_type": "execute_result"
    }
   ],
   "source": [
    "tempB_SMOTE = []\n",
    "\n",
    "y = merge_B_SMOTE[['CGPA']]\n",
    "X = merge_B_SMOTE.drop(columns=['CGPA'])\n",
    "\n",
    "print(\"X:\", X.shape,\"y:\", y.shape)\n",
    "\n",
    "for i in [0.5,0.4,0.3,0.2]:\n",
    "    for j in rand_states:\n",
    "        X_train, X_test, y_train, y_test = train_test_split(X, y, test_size=i, random_state=j)\n",
    "        param_grid = {'n_estimators': [100, 200, 300, 400],\n",
    "                      'max_features': ['auto', 'sqrt', 'log2'],\n",
    "                      'criterion' :['gini', 'entropy']}\n",
    "\n",
    "        model = GridSearchCV(RandomForestClassifier(), param_grid, refit=True, n_jobs=-1, cv=10, verbose=1)\n",
    "        model.fit(X_train, y_train)\n",
    "        pred = model.predict(X_test)\n",
    "\n",
    "        acc = accuracy_score(y_test,pred)\n",
    "        pre = precision_score(y_test, pred, average='weighted')\n",
    "        recall = recall_score(y_test, pred, average='weighted')\n",
    "        f1 = f1_score(y_test, pred, average='weighted')\n",
    "        param = model.best_params_\n",
    "    \n",
    "        tempB_SMOTE.append([i,j,acc,pre,recall,f1,param])\n",
    "        \n",
    "dfB_SMOTE = pd.DataFrame(columns=['Test Size','Random State','Accuracy','Precision','Recall','F1 Score','Best Param'],data=tempB_SMOTE)\n",
    "dfB_SMOTE"
   ]
  },
  {
   "cell_type": "code",
   "execution_count": 56,
   "id": "6e26317e-82a1-4e2c-b05e-c847974102d9",
   "metadata": {},
   "outputs": [
    {
     "data": {
      "text/html": [
       "<div>\n",
       "<style scoped>\n",
       "    .dataframe tbody tr th:only-of-type {\n",
       "        vertical-align: middle;\n",
       "    }\n",
       "\n",
       "    .dataframe tbody tr th {\n",
       "        vertical-align: top;\n",
       "    }\n",
       "\n",
       "    .dataframe thead th {\n",
       "        text-align: right;\n",
       "    }\n",
       "</style>\n",
       "<table border=\"1\" class=\"dataframe\">\n",
       "  <thead>\n",
       "    <tr style=\"text-align: right;\">\n",
       "      <th></th>\n",
       "      <th>Accuracy</th>\n",
       "      <th>Precision</th>\n",
       "      <th>Recall</th>\n",
       "      <th>F1 Score</th>\n",
       "    </tr>\n",
       "    <tr>\n",
       "      <th>Test Size</th>\n",
       "      <th></th>\n",
       "      <th></th>\n",
       "      <th></th>\n",
       "      <th></th>\n",
       "    </tr>\n",
       "  </thead>\n",
       "  <tbody>\n",
       "    <tr>\n",
       "      <th>0.2</th>\n",
       "      <td>0.995407</td>\n",
       "      <td>0.995430</td>\n",
       "      <td>0.995407</td>\n",
       "      <td>0.995407</td>\n",
       "    </tr>\n",
       "    <tr>\n",
       "      <th>0.3</th>\n",
       "      <td>0.994313</td>\n",
       "      <td>0.994333</td>\n",
       "      <td>0.994313</td>\n",
       "      <td>0.994313</td>\n",
       "    </tr>\n",
       "    <tr>\n",
       "      <th>0.4</th>\n",
       "      <td>0.995407</td>\n",
       "      <td>0.995416</td>\n",
       "      <td>0.995407</td>\n",
       "      <td>0.995407</td>\n",
       "    </tr>\n",
       "    <tr>\n",
       "      <th>0.5</th>\n",
       "      <td>0.995013</td>\n",
       "      <td>0.995017</td>\n",
       "      <td>0.995013</td>\n",
       "      <td>0.995013</td>\n",
       "    </tr>\n",
       "  </tbody>\n",
       "</table>\n",
       "</div>"
      ],
      "text/plain": [
       "           Accuracy  Precision    Recall  F1 Score\n",
       "Test Size                                         \n",
       "0.2        0.995407   0.995430  0.995407  0.995407\n",
       "0.3        0.994313   0.994333  0.994313  0.994313\n",
       "0.4        0.995407   0.995416  0.995407  0.995407\n",
       "0.5        0.995013   0.995017  0.995013  0.995013"
      ]
     },
     "execution_count": 56,
     "metadata": {},
     "output_type": "execute_result"
    }
   ],
   "source": [
    "dfB_SMOTE.groupby('Test Size')[['Accuracy','Precision','Recall','F1 Score']].mean()"
   ]
  },
  {
   "cell_type": "code",
   "execution_count": 57,
   "id": "cd41fc7c-fac6-44db-bdf0-0bddbb30550c",
   "metadata": {},
   "outputs": [
    {
     "name": "stdout",
     "output_type": "stream",
     "text": [
      "SMOTE All Attributes\n",
      "\n",
      "{'criterion': 'gini', 'max_features': 'sqrt', 'n_estimators': 100}\n",
      "{'criterion': 'gini', 'max_features': 'auto', 'n_estimators': 200}\n",
      "{'criterion': 'gini', 'max_features': 'auto', 'n_estimators': 100}\n",
      "{'criterion': 'gini', 'max_features': 'sqrt', 'n_estimators': 200}\n",
      "{'criterion': 'entropy', 'max_features': 'auto', 'n_estimators': 300}\n",
      "{'criterion': 'gini', 'max_features': 'sqrt', 'n_estimators': 100}\n",
      "{'criterion': 'gini', 'max_features': 'auto', 'n_estimators': 300}\n",
      "{'criterion': 'entropy', 'max_features': 'auto', 'n_estimators': 400}\n",
      "{'criterion': 'gini', 'max_features': 'auto', 'n_estimators': 100}\n",
      "{'criterion': 'gini', 'max_features': 'auto', 'n_estimators': 200}\n",
      "{'criterion': 'gini', 'max_features': 'auto', 'n_estimators': 200}\n",
      "{'criterion': 'gini', 'max_features': 'auto', 'n_estimators': 300}\n"
     ]
    }
   ],
   "source": [
    "print(\"SMOTE All Attributes\\n\")\n",
    "for x in dfB_SMOTE[\"Best Param\"]:\n",
    "    print(x)"
   ]
  },
  {
   "cell_type": "markdown",
   "id": "70b08aa2-2213-42f7-9244-2acdc94196a8",
   "metadata": {},
   "source": [
    "# 5-Level Classification"
   ]
  },
  {
   "cell_type": "markdown",
   "id": "cc296664-7804-48cc-ab35-6778fdda8747",
   "metadata": {},
   "source": [
    "## Student Background"
   ]
  },
  {
   "cell_type": "markdown",
   "id": "37d58ee0-32fe-4891-b142-633fc58ed19e",
   "metadata": {},
   "source": [
    "### SB before Data Balancing"
   ]
  },
  {
   "cell_type": "code",
   "execution_count": 58,
   "id": "e0800af8-8c22-40d7-8086-809688c798df",
   "metadata": {},
   "outputs": [
    {
     "name": "stdout",
     "output_type": "stream",
     "text": [
      "X: (1287, 9) y: (1287, 1)\n",
      "Fitting 10 folds for each of 24 candidates, totalling 240 fits\n"
     ]
    },
    {
     "name": "stderr",
     "output_type": "stream",
     "text": [
      "C:\\Users\\hazel\\anaconda3\\Lib\\site-packages\\sklearn\\model_selection\\_split.py:700: UserWarning: The least populated class in y has only 8 members, which is less than n_splits=10.\n",
      "  warnings.warn(\n",
      "C:\\Users\\hazel\\anaconda3\\Lib\\site-packages\\sklearn\\model_selection\\_search.py:909: DataConversionWarning: A column-vector y was passed when a 1d array was expected. Please change the shape of y to (n_samples,), for example using ravel().\n",
      "  self.best_estimator_.fit(X, y, **fit_params)\n",
      "C:\\Users\\hazel\\anaconda3\\Lib\\site-packages\\sklearn\\model_selection\\_split.py:700: UserWarning: The least populated class in y has only 8 members, which is less than n_splits=10.\n",
      "  warnings.warn(\n"
     ]
    },
    {
     "name": "stdout",
     "output_type": "stream",
     "text": [
      "Fitting 10 folds for each of 24 candidates, totalling 240 fits\n"
     ]
    },
    {
     "name": "stderr",
     "output_type": "stream",
     "text": [
      "C:\\Users\\hazel\\anaconda3\\Lib\\site-packages\\sklearn\\model_selection\\_search.py:909: DataConversionWarning: A column-vector y was passed when a 1d array was expected. Please change the shape of y to (n_samples,), for example using ravel().\n",
      "  self.best_estimator_.fit(X, y, **fit_params)\n"
     ]
    },
    {
     "name": "stdout",
     "output_type": "stream",
     "text": [
      "Fitting 10 folds for each of 24 candidates, totalling 240 fits\n"
     ]
    },
    {
     "name": "stderr",
     "output_type": "stream",
     "text": [
      "C:\\Users\\hazel\\anaconda3\\Lib\\site-packages\\sklearn\\model_selection\\_split.py:700: UserWarning: The least populated class in y has only 8 members, which is less than n_splits=10.\n",
      "  warnings.warn(\n",
      "C:\\Users\\hazel\\anaconda3\\Lib\\site-packages\\sklearn\\model_selection\\_search.py:909: DataConversionWarning: A column-vector y was passed when a 1d array was expected. Please change the shape of y to (n_samples,), for example using ravel().\n",
      "  self.best_estimator_.fit(X, y, **fit_params)\n",
      "C:\\Users\\hazel\\anaconda3\\Lib\\site-packages\\sklearn\\ensemble\\_forest.py:424: FutureWarning: `max_features='auto'` has been deprecated in 1.1 and will be removed in 1.3. To keep the past behaviour, explicitly set `max_features='sqrt'` or remove this parameter as it is also the default value for RandomForestClassifiers and ExtraTreesClassifiers.\n",
      "  warn(\n"
     ]
    },
    {
     "name": "stdout",
     "output_type": "stream",
     "text": [
      "Fitting 10 folds for each of 24 candidates, totalling 240 fits\n"
     ]
    },
    {
     "name": "stderr",
     "output_type": "stream",
     "text": [
      "C:\\Users\\hazel\\anaconda3\\Lib\\site-packages\\sklearn\\model_selection\\_search.py:909: DataConversionWarning: A column-vector y was passed when a 1d array was expected. Please change the shape of y to (n_samples,), for example using ravel().\n",
      "  self.best_estimator_.fit(X, y, **fit_params)\n",
      "C:\\Users\\hazel\\anaconda3\\Lib\\site-packages\\sklearn\\ensemble\\_forest.py:424: FutureWarning: `max_features='auto'` has been deprecated in 1.1 and will be removed in 1.3. To keep the past behaviour, explicitly set `max_features='sqrt'` or remove this parameter as it is also the default value for RandomForestClassifiers and ExtraTreesClassifiers.\n",
      "  warn(\n"
     ]
    },
    {
     "name": "stdout",
     "output_type": "stream",
     "text": [
      "Fitting 10 folds for each of 24 candidates, totalling 240 fits\n"
     ]
    },
    {
     "name": "stderr",
     "output_type": "stream",
     "text": [
      "C:\\Users\\hazel\\anaconda3\\Lib\\site-packages\\sklearn\\model_selection\\_split.py:700: UserWarning: The least populated class in y has only 9 members, which is less than n_splits=10.\n",
      "  warnings.warn(\n",
      "C:\\Users\\hazel\\anaconda3\\Lib\\site-packages\\sklearn\\model_selection\\_search.py:909: DataConversionWarning: A column-vector y was passed when a 1d array was expected. Please change the shape of y to (n_samples,), for example using ravel().\n",
      "  self.best_estimator_.fit(X, y, **fit_params)\n"
     ]
    },
    {
     "name": "stdout",
     "output_type": "stream",
     "text": [
      "Fitting 10 folds for each of 24 candidates, totalling 240 fits\n"
     ]
    },
    {
     "name": "stderr",
     "output_type": "stream",
     "text": [
      "C:\\Users\\hazel\\anaconda3\\Lib\\site-packages\\sklearn\\model_selection\\_search.py:909: DataConversionWarning: A column-vector y was passed when a 1d array was expected. Please change the shape of y to (n_samples,), for example using ravel().\n",
      "  self.best_estimator_.fit(X, y, **fit_params)\n",
      "C:\\Users\\hazel\\anaconda3\\Lib\\site-packages\\sklearn\\ensemble\\_forest.py:424: FutureWarning: `max_features='auto'` has been deprecated in 1.1 and will be removed in 1.3. To keep the past behaviour, explicitly set `max_features='sqrt'` or remove this parameter as it is also the default value for RandomForestClassifiers and ExtraTreesClassifiers.\n",
      "  warn(\n"
     ]
    },
    {
     "name": "stdout",
     "output_type": "stream",
     "text": [
      "Fitting 10 folds for each of 24 candidates, totalling 240 fits\n"
     ]
    },
    {
     "name": "stderr",
     "output_type": "stream",
     "text": [
      "C:\\Users\\hazel\\anaconda3\\Lib\\site-packages\\sklearn\\model_selection\\_search.py:909: DataConversionWarning: A column-vector y was passed when a 1d array was expected. Please change the shape of y to (n_samples,), for example using ravel().\n",
      "  self.best_estimator_.fit(X, y, **fit_params)\n",
      "C:\\Users\\hazel\\anaconda3\\Lib\\site-packages\\sklearn\\ensemble\\_forest.py:424: FutureWarning: `max_features='auto'` has been deprecated in 1.1 and will be removed in 1.3. To keep the past behaviour, explicitly set `max_features='sqrt'` or remove this parameter as it is also the default value for RandomForestClassifiers and ExtraTreesClassifiers.\n",
      "  warn(\n"
     ]
    },
    {
     "name": "stdout",
     "output_type": "stream",
     "text": [
      "Fitting 10 folds for each of 24 candidates, totalling 240 fits\n"
     ]
    },
    {
     "name": "stderr",
     "output_type": "stream",
     "text": [
      "C:\\Users\\hazel\\anaconda3\\Lib\\site-packages\\sklearn\\model_selection\\_search.py:909: DataConversionWarning: A column-vector y was passed when a 1d array was expected. Please change the shape of y to (n_samples,), for example using ravel().\n",
      "  self.best_estimator_.fit(X, y, **fit_params)\n",
      "C:\\Users\\hazel\\anaconda3\\Lib\\site-packages\\sklearn\\ensemble\\_forest.py:424: FutureWarning: `max_features='auto'` has been deprecated in 1.1 and will be removed in 1.3. To keep the past behaviour, explicitly set `max_features='sqrt'` or remove this parameter as it is also the default value for RandomForestClassifiers and ExtraTreesClassifiers.\n",
      "  warn(\n"
     ]
    },
    {
     "name": "stdout",
     "output_type": "stream",
     "text": [
      "Fitting 10 folds for each of 24 candidates, totalling 240 fits\n"
     ]
    },
    {
     "name": "stderr",
     "output_type": "stream",
     "text": [
      "C:\\Users\\hazel\\anaconda3\\Lib\\site-packages\\sklearn\\model_selection\\_search.py:909: DataConversionWarning: A column-vector y was passed when a 1d array was expected. Please change the shape of y to (n_samples,), for example using ravel().\n",
      "  self.best_estimator_.fit(X, y, **fit_params)\n"
     ]
    },
    {
     "name": "stdout",
     "output_type": "stream",
     "text": [
      "Fitting 10 folds for each of 24 candidates, totalling 240 fits\n"
     ]
    },
    {
     "name": "stderr",
     "output_type": "stream",
     "text": [
      "C:\\Users\\hazel\\anaconda3\\Lib\\site-packages\\sklearn\\model_selection\\_search.py:909: DataConversionWarning: A column-vector y was passed when a 1d array was expected. Please change the shape of y to (n_samples,), for example using ravel().\n",
      "  self.best_estimator_.fit(X, y, **fit_params)\n"
     ]
    },
    {
     "name": "stdout",
     "output_type": "stream",
     "text": [
      "Fitting 10 folds for each of 24 candidates, totalling 240 fits\n"
     ]
    },
    {
     "name": "stderr",
     "output_type": "stream",
     "text": [
      "C:\\Users\\hazel\\anaconda3\\Lib\\site-packages\\sklearn\\model_selection\\_search.py:909: DataConversionWarning: A column-vector y was passed when a 1d array was expected. Please change the shape of y to (n_samples,), for example using ravel().\n",
      "  self.best_estimator_.fit(X, y, **fit_params)\n"
     ]
    },
    {
     "name": "stdout",
     "output_type": "stream",
     "text": [
      "Fitting 10 folds for each of 24 candidates, totalling 240 fits\n"
     ]
    },
    {
     "name": "stderr",
     "output_type": "stream",
     "text": [
      "C:\\Users\\hazel\\anaconda3\\Lib\\site-packages\\sklearn\\model_selection\\_search.py:909: DataConversionWarning: A column-vector y was passed when a 1d array was expected. Please change the shape of y to (n_samples,), for example using ravel().\n",
      "  self.best_estimator_.fit(X, y, **fit_params)\n"
     ]
    },
    {
     "data": {
      "text/html": [
       "<div>\n",
       "<style scoped>\n",
       "    .dataframe tbody tr th:only-of-type {\n",
       "        vertical-align: middle;\n",
       "    }\n",
       "\n",
       "    .dataframe tbody tr th {\n",
       "        vertical-align: top;\n",
       "    }\n",
       "\n",
       "    .dataframe thead th {\n",
       "        text-align: right;\n",
       "    }\n",
       "</style>\n",
       "<table border=\"1\" class=\"dataframe\">\n",
       "  <thead>\n",
       "    <tr style=\"text-align: right;\">\n",
       "      <th></th>\n",
       "      <th>Test Size</th>\n",
       "      <th>Random State</th>\n",
       "      <th>Accuracy</th>\n",
       "      <th>Precision</th>\n",
       "      <th>Recall</th>\n",
       "      <th>F1 Score</th>\n",
       "      <th>Best Param</th>\n",
       "    </tr>\n",
       "  </thead>\n",
       "  <tbody>\n",
       "    <tr>\n",
       "      <th>0</th>\n",
       "      <td>0.5</td>\n",
       "      <td>7</td>\n",
       "      <td>0.444099</td>\n",
       "      <td>0.408970</td>\n",
       "      <td>0.444099</td>\n",
       "      <td>0.416252</td>\n",
       "      <td>{'criterion': 'entropy', 'max_features': 'sqrt...</td>\n",
       "    </tr>\n",
       "    <tr>\n",
       "      <th>1</th>\n",
       "      <td>0.5</td>\n",
       "      <td>69</td>\n",
       "      <td>0.417702</td>\n",
       "      <td>0.378705</td>\n",
       "      <td>0.417702</td>\n",
       "      <td>0.395659</td>\n",
       "      <td>{'criterion': 'gini', 'max_features': 'sqrt', ...</td>\n",
       "    </tr>\n",
       "    <tr>\n",
       "      <th>2</th>\n",
       "      <td>0.5</td>\n",
       "      <td>101</td>\n",
       "      <td>0.434783</td>\n",
       "      <td>0.417439</td>\n",
       "      <td>0.434783</td>\n",
       "      <td>0.424141</td>\n",
       "      <td>{'criterion': 'gini', 'max_features': 'auto', ...</td>\n",
       "    </tr>\n",
       "    <tr>\n",
       "      <th>3</th>\n",
       "      <td>0.4</td>\n",
       "      <td>7</td>\n",
       "      <td>0.438835</td>\n",
       "      <td>0.413814</td>\n",
       "      <td>0.438835</td>\n",
       "      <td>0.416185</td>\n",
       "      <td>{'criterion': 'gini', 'max_features': 'auto', ...</td>\n",
       "    </tr>\n",
       "    <tr>\n",
       "      <th>4</th>\n",
       "      <td>0.4</td>\n",
       "      <td>69</td>\n",
       "      <td>0.448544</td>\n",
       "      <td>0.411058</td>\n",
       "      <td>0.448544</td>\n",
       "      <td>0.424624</td>\n",
       "      <td>{'criterion': 'gini', 'max_features': 'sqrt', ...</td>\n",
       "    </tr>\n",
       "    <tr>\n",
       "      <th>5</th>\n",
       "      <td>0.4</td>\n",
       "      <td>101</td>\n",
       "      <td>0.436893</td>\n",
       "      <td>0.411119</td>\n",
       "      <td>0.436893</td>\n",
       "      <td>0.421877</td>\n",
       "      <td>{'criterion': 'gini', 'max_features': 'auto', ...</td>\n",
       "    </tr>\n",
       "    <tr>\n",
       "      <th>6</th>\n",
       "      <td>0.3</td>\n",
       "      <td>7</td>\n",
       "      <td>0.434109</td>\n",
       "      <td>0.408153</td>\n",
       "      <td>0.434109</td>\n",
       "      <td>0.415957</td>\n",
       "      <td>{'criterion': 'entropy', 'max_features': 'auto...</td>\n",
       "    </tr>\n",
       "    <tr>\n",
       "      <th>7</th>\n",
       "      <td>0.3</td>\n",
       "      <td>69</td>\n",
       "      <td>0.480620</td>\n",
       "      <td>0.431715</td>\n",
       "      <td>0.480620</td>\n",
       "      <td>0.449734</td>\n",
       "      <td>{'criterion': 'gini', 'max_features': 'auto', ...</td>\n",
       "    </tr>\n",
       "    <tr>\n",
       "      <th>8</th>\n",
       "      <td>0.3</td>\n",
       "      <td>101</td>\n",
       "      <td>0.449612</td>\n",
       "      <td>0.426924</td>\n",
       "      <td>0.449612</td>\n",
       "      <td>0.436083</td>\n",
       "      <td>{'criterion': 'gini', 'max_features': 'log2', ...</td>\n",
       "    </tr>\n",
       "    <tr>\n",
       "      <th>9</th>\n",
       "      <td>0.2</td>\n",
       "      <td>7</td>\n",
       "      <td>0.422481</td>\n",
       "      <td>0.397488</td>\n",
       "      <td>0.422481</td>\n",
       "      <td>0.406866</td>\n",
       "      <td>{'criterion': 'gini', 'max_features': 'sqrt', ...</td>\n",
       "    </tr>\n",
       "    <tr>\n",
       "      <th>10</th>\n",
       "      <td>0.2</td>\n",
       "      <td>69</td>\n",
       "      <td>0.437984</td>\n",
       "      <td>0.397721</td>\n",
       "      <td>0.437984</td>\n",
       "      <td>0.412877</td>\n",
       "      <td>{'criterion': 'gini', 'max_features': 'sqrt', ...</td>\n",
       "    </tr>\n",
       "    <tr>\n",
       "      <th>11</th>\n",
       "      <td>0.2</td>\n",
       "      <td>101</td>\n",
       "      <td>0.453488</td>\n",
       "      <td>0.452221</td>\n",
       "      <td>0.453488</td>\n",
       "      <td>0.451200</td>\n",
       "      <td>{'criterion': 'gini', 'max_features': 'log2', ...</td>\n",
       "    </tr>\n",
       "  </tbody>\n",
       "</table>\n",
       "</div>"
      ],
      "text/plain": [
       "    Test Size  Random State  Accuracy  Precision    Recall  F1 Score  \\\n",
       "0         0.5             7  0.444099   0.408970  0.444099  0.416252   \n",
       "1         0.5            69  0.417702   0.378705  0.417702  0.395659   \n",
       "2         0.5           101  0.434783   0.417439  0.434783  0.424141   \n",
       "3         0.4             7  0.438835   0.413814  0.438835  0.416185   \n",
       "4         0.4            69  0.448544   0.411058  0.448544  0.424624   \n",
       "5         0.4           101  0.436893   0.411119  0.436893  0.421877   \n",
       "6         0.3             7  0.434109   0.408153  0.434109  0.415957   \n",
       "7         0.3            69  0.480620   0.431715  0.480620  0.449734   \n",
       "8         0.3           101  0.449612   0.426924  0.449612  0.436083   \n",
       "9         0.2             7  0.422481   0.397488  0.422481  0.406866   \n",
       "10        0.2            69  0.437984   0.397721  0.437984  0.412877   \n",
       "11        0.2           101  0.453488   0.452221  0.453488  0.451200   \n",
       "\n",
       "                                           Best Param  \n",
       "0   {'criterion': 'entropy', 'max_features': 'sqrt...  \n",
       "1   {'criterion': 'gini', 'max_features': 'sqrt', ...  \n",
       "2   {'criterion': 'gini', 'max_features': 'auto', ...  \n",
       "3   {'criterion': 'gini', 'max_features': 'auto', ...  \n",
       "4   {'criterion': 'gini', 'max_features': 'sqrt', ...  \n",
       "5   {'criterion': 'gini', 'max_features': 'auto', ...  \n",
       "6   {'criterion': 'entropy', 'max_features': 'auto...  \n",
       "7   {'criterion': 'gini', 'max_features': 'auto', ...  \n",
       "8   {'criterion': 'gini', 'max_features': 'log2', ...  \n",
       "9   {'criterion': 'gini', 'max_features': 'sqrt', ...  \n",
       "10  {'criterion': 'gini', 'max_features': 'sqrt', ...  \n",
       "11  {'criterion': 'gini', 'max_features': 'log2', ...  "
      ]
     },
     "execution_count": 58,
     "metadata": {},
     "output_type": "execute_result"
    }
   ],
   "source": [
    "temp5L_SB_imb = []\n",
    "\n",
    "y = merge_5L_imb[['CGPA']]\n",
    "X = merge_5L_imb[['Age','Gender','Nationality', 'Living Status', 'Home Town', 'Faculty', 'Education Level',\n",
    "                     'Years of Study', 'Completed Credit Hours']]\n",
    "\n",
    "print(\"X:\", X.shape,\"y:\", y.shape)\n",
    "\n",
    "for i in [0.5,0.4,0.3,0.2]:\n",
    "    for j in rand_states:\n",
    "        X_train, X_test, y_train, y_test = train_test_split(X, y, test_size=i, random_state=j)\n",
    "        param_grid = {'n_estimators': [100, 200, 300, 400],\n",
    "                      'max_features': ['auto', 'sqrt', 'log2'],\n",
    "                      'criterion' :['gini', 'entropy']}\n",
    "\n",
    "        model = GridSearchCV(RandomForestClassifier(), param_grid, refit=True, n_jobs=-1, cv=10, verbose=1)\n",
    "        model.fit(X_train, y_train)\n",
    "        pred = model.predict(X_test)\n",
    "\n",
    "        acc = accuracy_score(y_test,pred)\n",
    "        pre = precision_score(y_test, pred, average='weighted')\n",
    "        recall = recall_score(y_test, pred, average='weighted')\n",
    "        f1 = f1_score(y_test, pred, average='weighted')\n",
    "        param = model.best_params_\n",
    "        \n",
    "        temp5L_SB_imb.append([i,j,acc,pre,recall,f1,param])\n",
    "        \n",
    "df5L_SB_imb = pd.DataFrame(columns=['Test Size','Random State','Accuracy','Precision','Recall','F1 Score','Best Param'],data=temp5L_SB_imb)\n",
    "df5L_SB_imb"
   ]
  },
  {
   "cell_type": "code",
   "execution_count": 59,
   "id": "c0bac6b7-42a7-41ef-b871-b1f11f6a0e1f",
   "metadata": {},
   "outputs": [
    {
     "data": {
      "text/html": [
       "<div>\n",
       "<style scoped>\n",
       "    .dataframe tbody tr th:only-of-type {\n",
       "        vertical-align: middle;\n",
       "    }\n",
       "\n",
       "    .dataframe tbody tr th {\n",
       "        vertical-align: top;\n",
       "    }\n",
       "\n",
       "    .dataframe thead th {\n",
       "        text-align: right;\n",
       "    }\n",
       "</style>\n",
       "<table border=\"1\" class=\"dataframe\">\n",
       "  <thead>\n",
       "    <tr style=\"text-align: right;\">\n",
       "      <th></th>\n",
       "      <th>Accuracy</th>\n",
       "      <th>Precision</th>\n",
       "      <th>Recall</th>\n",
       "      <th>F1 Score</th>\n",
       "    </tr>\n",
       "    <tr>\n",
       "      <th>Test Size</th>\n",
       "      <th></th>\n",
       "      <th></th>\n",
       "      <th></th>\n",
       "      <th></th>\n",
       "    </tr>\n",
       "  </thead>\n",
       "  <tbody>\n",
       "    <tr>\n",
       "      <th>0.2</th>\n",
       "      <td>0.437984</td>\n",
       "      <td>0.415810</td>\n",
       "      <td>0.437984</td>\n",
       "      <td>0.423648</td>\n",
       "    </tr>\n",
       "    <tr>\n",
       "      <th>0.3</th>\n",
       "      <td>0.454780</td>\n",
       "      <td>0.422264</td>\n",
       "      <td>0.454780</td>\n",
       "      <td>0.433925</td>\n",
       "    </tr>\n",
       "    <tr>\n",
       "      <th>0.4</th>\n",
       "      <td>0.441424</td>\n",
       "      <td>0.411997</td>\n",
       "      <td>0.441424</td>\n",
       "      <td>0.420896</td>\n",
       "    </tr>\n",
       "    <tr>\n",
       "      <th>0.5</th>\n",
       "      <td>0.432195</td>\n",
       "      <td>0.401705</td>\n",
       "      <td>0.432195</td>\n",
       "      <td>0.412017</td>\n",
       "    </tr>\n",
       "  </tbody>\n",
       "</table>\n",
       "</div>"
      ],
      "text/plain": [
       "           Accuracy  Precision    Recall  F1 Score\n",
       "Test Size                                         \n",
       "0.2        0.437984   0.415810  0.437984  0.423648\n",
       "0.3        0.454780   0.422264  0.454780  0.433925\n",
       "0.4        0.441424   0.411997  0.441424  0.420896\n",
       "0.5        0.432195   0.401705  0.432195  0.412017"
      ]
     },
     "execution_count": 59,
     "metadata": {},
     "output_type": "execute_result"
    }
   ],
   "source": [
    "df5L_SB_imb.groupby('Test Size')[['Accuracy','Precision','Recall','F1 Score']].mean()"
   ]
  },
  {
   "cell_type": "code",
   "execution_count": 60,
   "id": "3ac6712c-cf1d-4aba-b0ce-1c45a183ea0c",
   "metadata": {},
   "outputs": [
    {
     "name": "stdout",
     "output_type": "stream",
     "text": [
      "Imbalance 5-Level: Student Background\n",
      "\n",
      "{'criterion': 'entropy', 'max_features': 'sqrt', 'n_estimators': 100}\n",
      "{'criterion': 'gini', 'max_features': 'sqrt', 'n_estimators': 200}\n",
      "{'criterion': 'gini', 'max_features': 'auto', 'n_estimators': 200}\n",
      "{'criterion': 'gini', 'max_features': 'auto', 'n_estimators': 200}\n",
      "{'criterion': 'gini', 'max_features': 'sqrt', 'n_estimators': 200}\n",
      "{'criterion': 'gini', 'max_features': 'auto', 'n_estimators': 300}\n",
      "{'criterion': 'entropy', 'max_features': 'auto', 'n_estimators': 400}\n",
      "{'criterion': 'gini', 'max_features': 'auto', 'n_estimators': 200}\n",
      "{'criterion': 'gini', 'max_features': 'log2', 'n_estimators': 400}\n",
      "{'criterion': 'gini', 'max_features': 'sqrt', 'n_estimators': 300}\n",
      "{'criterion': 'gini', 'max_features': 'sqrt', 'n_estimators': 400}\n",
      "{'criterion': 'gini', 'max_features': 'log2', 'n_estimators': 200}\n"
     ]
    }
   ],
   "source": [
    "print(\"Imbalance 5-Level: Student Background\\n\")\n",
    "for x in df5L_SB_imb[\"Best Param\"]:\n",
    "    print(x)"
   ]
  },
  {
   "cell_type": "markdown",
   "id": "dcfc9b14-e3bd-4784-9bd3-b6be66e123e8",
   "metadata": {},
   "source": [
    "### SB after RandomOverSampler"
   ]
  },
  {
   "cell_type": "code",
   "execution_count": 61,
   "id": "1af950eb-5f16-48b1-a5ab-fc52692c13b7",
   "metadata": {},
   "outputs": [
    {
     "name": "stdout",
     "output_type": "stream",
     "text": [
      "X: (3085, 9) y: (3085, 1)\n",
      "Fitting 10 folds for each of 24 candidates, totalling 240 fits\n"
     ]
    },
    {
     "name": "stderr",
     "output_type": "stream",
     "text": [
      "C:\\Users\\hazel\\anaconda3\\Lib\\site-packages\\sklearn\\model_selection\\_search.py:909: DataConversionWarning: A column-vector y was passed when a 1d array was expected. Please change the shape of y to (n_samples,), for example using ravel().\n",
      "  self.best_estimator_.fit(X, y, **fit_params)\n"
     ]
    },
    {
     "name": "stdout",
     "output_type": "stream",
     "text": [
      "Fitting 10 folds for each of 24 candidates, totalling 240 fits\n"
     ]
    },
    {
     "name": "stderr",
     "output_type": "stream",
     "text": [
      "C:\\Users\\hazel\\anaconda3\\Lib\\site-packages\\sklearn\\model_selection\\_search.py:909: DataConversionWarning: A column-vector y was passed when a 1d array was expected. Please change the shape of y to (n_samples,), for example using ravel().\n",
      "  self.best_estimator_.fit(X, y, **fit_params)\n"
     ]
    },
    {
     "name": "stdout",
     "output_type": "stream",
     "text": [
      "Fitting 10 folds for each of 24 candidates, totalling 240 fits\n"
     ]
    },
    {
     "name": "stderr",
     "output_type": "stream",
     "text": [
      "C:\\Users\\hazel\\anaconda3\\Lib\\site-packages\\sklearn\\model_selection\\_search.py:909: DataConversionWarning: A column-vector y was passed when a 1d array was expected. Please change the shape of y to (n_samples,), for example using ravel().\n",
      "  self.best_estimator_.fit(X, y, **fit_params)\n",
      "C:\\Users\\hazel\\anaconda3\\Lib\\site-packages\\sklearn\\ensemble\\_forest.py:424: FutureWarning: `max_features='auto'` has been deprecated in 1.1 and will be removed in 1.3. To keep the past behaviour, explicitly set `max_features='sqrt'` or remove this parameter as it is also the default value for RandomForestClassifiers and ExtraTreesClassifiers.\n",
      "  warn(\n"
     ]
    },
    {
     "name": "stdout",
     "output_type": "stream",
     "text": [
      "Fitting 10 folds for each of 24 candidates, totalling 240 fits\n"
     ]
    },
    {
     "name": "stderr",
     "output_type": "stream",
     "text": [
      "C:\\Users\\hazel\\anaconda3\\Lib\\site-packages\\sklearn\\model_selection\\_search.py:909: DataConversionWarning: A column-vector y was passed when a 1d array was expected. Please change the shape of y to (n_samples,), for example using ravel().\n",
      "  self.best_estimator_.fit(X, y, **fit_params)\n"
     ]
    },
    {
     "name": "stdout",
     "output_type": "stream",
     "text": [
      "Fitting 10 folds for each of 24 candidates, totalling 240 fits\n"
     ]
    },
    {
     "name": "stderr",
     "output_type": "stream",
     "text": [
      "C:\\Users\\hazel\\anaconda3\\Lib\\site-packages\\sklearn\\model_selection\\_search.py:909: DataConversionWarning: A column-vector y was passed when a 1d array was expected. Please change the shape of y to (n_samples,), for example using ravel().\n",
      "  self.best_estimator_.fit(X, y, **fit_params)\n"
     ]
    },
    {
     "name": "stdout",
     "output_type": "stream",
     "text": [
      "Fitting 10 folds for each of 24 candidates, totalling 240 fits\n"
     ]
    },
    {
     "name": "stderr",
     "output_type": "stream",
     "text": [
      "C:\\Users\\hazel\\anaconda3\\Lib\\site-packages\\sklearn\\model_selection\\_search.py:909: DataConversionWarning: A column-vector y was passed when a 1d array was expected. Please change the shape of y to (n_samples,), for example using ravel().\n",
      "  self.best_estimator_.fit(X, y, **fit_params)\n"
     ]
    },
    {
     "name": "stdout",
     "output_type": "stream",
     "text": [
      "Fitting 10 folds for each of 24 candidates, totalling 240 fits\n"
     ]
    },
    {
     "name": "stderr",
     "output_type": "stream",
     "text": [
      "C:\\Users\\hazel\\anaconda3\\Lib\\site-packages\\sklearn\\model_selection\\_search.py:909: DataConversionWarning: A column-vector y was passed when a 1d array was expected. Please change the shape of y to (n_samples,), for example using ravel().\n",
      "  self.best_estimator_.fit(X, y, **fit_params)\n"
     ]
    },
    {
     "name": "stdout",
     "output_type": "stream",
     "text": [
      "Fitting 10 folds for each of 24 candidates, totalling 240 fits\n"
     ]
    },
    {
     "name": "stderr",
     "output_type": "stream",
     "text": [
      "C:\\Users\\hazel\\anaconda3\\Lib\\site-packages\\sklearn\\model_selection\\_search.py:909: DataConversionWarning: A column-vector y was passed when a 1d array was expected. Please change the shape of y to (n_samples,), for example using ravel().\n",
      "  self.best_estimator_.fit(X, y, **fit_params)\n",
      "C:\\Users\\hazel\\anaconda3\\Lib\\site-packages\\sklearn\\ensemble\\_forest.py:424: FutureWarning: `max_features='auto'` has been deprecated in 1.1 and will be removed in 1.3. To keep the past behaviour, explicitly set `max_features='sqrt'` or remove this parameter as it is also the default value for RandomForestClassifiers and ExtraTreesClassifiers.\n",
      "  warn(\n"
     ]
    },
    {
     "name": "stdout",
     "output_type": "stream",
     "text": [
      "Fitting 10 folds for each of 24 candidates, totalling 240 fits\n"
     ]
    },
    {
     "name": "stderr",
     "output_type": "stream",
     "text": [
      "C:\\Users\\hazel\\anaconda3\\Lib\\site-packages\\sklearn\\model_selection\\_search.py:909: DataConversionWarning: A column-vector y was passed when a 1d array was expected. Please change the shape of y to (n_samples,), for example using ravel().\n",
      "  self.best_estimator_.fit(X, y, **fit_params)\n",
      "C:\\Users\\hazel\\anaconda3\\Lib\\site-packages\\sklearn\\ensemble\\_forest.py:424: FutureWarning: `max_features='auto'` has been deprecated in 1.1 and will be removed in 1.3. To keep the past behaviour, explicitly set `max_features='sqrt'` or remove this parameter as it is also the default value for RandomForestClassifiers and ExtraTreesClassifiers.\n",
      "  warn(\n"
     ]
    },
    {
     "name": "stdout",
     "output_type": "stream",
     "text": [
      "Fitting 10 folds for each of 24 candidates, totalling 240 fits\n"
     ]
    },
    {
     "name": "stderr",
     "output_type": "stream",
     "text": [
      "C:\\Users\\hazel\\anaconda3\\Lib\\site-packages\\sklearn\\model_selection\\_search.py:909: DataConversionWarning: A column-vector y was passed when a 1d array was expected. Please change the shape of y to (n_samples,), for example using ravel().\n",
      "  self.best_estimator_.fit(X, y, **fit_params)\n"
     ]
    },
    {
     "name": "stdout",
     "output_type": "stream",
     "text": [
      "Fitting 10 folds for each of 24 candidates, totalling 240 fits\n"
     ]
    },
    {
     "name": "stderr",
     "output_type": "stream",
     "text": [
      "C:\\Users\\hazel\\anaconda3\\Lib\\site-packages\\sklearn\\model_selection\\_search.py:909: DataConversionWarning: A column-vector y was passed when a 1d array was expected. Please change the shape of y to (n_samples,), for example using ravel().\n",
      "  self.best_estimator_.fit(X, y, **fit_params)\n"
     ]
    },
    {
     "name": "stdout",
     "output_type": "stream",
     "text": [
      "Fitting 10 folds for each of 24 candidates, totalling 240 fits\n"
     ]
    },
    {
     "name": "stderr",
     "output_type": "stream",
     "text": [
      "C:\\Users\\hazel\\anaconda3\\Lib\\site-packages\\sklearn\\model_selection\\_search.py:909: DataConversionWarning: A column-vector y was passed when a 1d array was expected. Please change the shape of y to (n_samples,), for example using ravel().\n",
      "  self.best_estimator_.fit(X, y, **fit_params)\n"
     ]
    },
    {
     "data": {
      "text/html": [
       "<div>\n",
       "<style scoped>\n",
       "    .dataframe tbody tr th:only-of-type {\n",
       "        vertical-align: middle;\n",
       "    }\n",
       "\n",
       "    .dataframe tbody tr th {\n",
       "        vertical-align: top;\n",
       "    }\n",
       "\n",
       "    .dataframe thead th {\n",
       "        text-align: right;\n",
       "    }\n",
       "</style>\n",
       "<table border=\"1\" class=\"dataframe\">\n",
       "  <thead>\n",
       "    <tr style=\"text-align: right;\">\n",
       "      <th></th>\n",
       "      <th>Test Size</th>\n",
       "      <th>Random State</th>\n",
       "      <th>Accuracy</th>\n",
       "      <th>Precision</th>\n",
       "      <th>Recall</th>\n",
       "      <th>F1 Score</th>\n",
       "      <th>Best Param</th>\n",
       "    </tr>\n",
       "  </thead>\n",
       "  <tbody>\n",
       "    <tr>\n",
       "      <th>0</th>\n",
       "      <td>0.5</td>\n",
       "      <td>7</td>\n",
       "      <td>0.748542</td>\n",
       "      <td>0.733508</td>\n",
       "      <td>0.748542</td>\n",
       "      <td>0.737121</td>\n",
       "      <td>{'criterion': 'entropy', 'max_features': 'sqrt...</td>\n",
       "    </tr>\n",
       "    <tr>\n",
       "      <th>1</th>\n",
       "      <td>0.5</td>\n",
       "      <td>69</td>\n",
       "      <td>0.758263</td>\n",
       "      <td>0.747419</td>\n",
       "      <td>0.758263</td>\n",
       "      <td>0.751418</td>\n",
       "      <td>{'criterion': 'gini', 'max_features': 'sqrt', ...</td>\n",
       "    </tr>\n",
       "    <tr>\n",
       "      <th>2</th>\n",
       "      <td>0.5</td>\n",
       "      <td>101</td>\n",
       "      <td>0.731692</td>\n",
       "      <td>0.717058</td>\n",
       "      <td>0.731692</td>\n",
       "      <td>0.720621</td>\n",
       "      <td>{'criterion': 'entropy', 'max_features': 'auto...</td>\n",
       "    </tr>\n",
       "    <tr>\n",
       "      <th>3</th>\n",
       "      <td>0.4</td>\n",
       "      <td>7</td>\n",
       "      <td>0.768233</td>\n",
       "      <td>0.755152</td>\n",
       "      <td>0.768233</td>\n",
       "      <td>0.759543</td>\n",
       "      <td>{'criterion': 'entropy', 'max_features': 'log2...</td>\n",
       "    </tr>\n",
       "    <tr>\n",
       "      <th>4</th>\n",
       "      <td>0.4</td>\n",
       "      <td>69</td>\n",
       "      <td>0.773096</td>\n",
       "      <td>0.762864</td>\n",
       "      <td>0.773096</td>\n",
       "      <td>0.766728</td>\n",
       "      <td>{'criterion': 'gini', 'max_features': 'sqrt', ...</td>\n",
       "    </tr>\n",
       "    <tr>\n",
       "      <th>5</th>\n",
       "      <td>0.4</td>\n",
       "      <td>101</td>\n",
       "      <td>0.743112</td>\n",
       "      <td>0.730835</td>\n",
       "      <td>0.743112</td>\n",
       "      <td>0.733542</td>\n",
       "      <td>{'criterion': 'gini', 'max_features': 'sqrt', ...</td>\n",
       "    </tr>\n",
       "    <tr>\n",
       "      <th>6</th>\n",
       "      <td>0.3</td>\n",
       "      <td>7</td>\n",
       "      <td>0.766739</td>\n",
       "      <td>0.753916</td>\n",
       "      <td>0.766739</td>\n",
       "      <td>0.755830</td>\n",
       "      <td>{'criterion': 'gini', 'max_features': 'log2', ...</td>\n",
       "    </tr>\n",
       "    <tr>\n",
       "      <th>7</th>\n",
       "      <td>0.3</td>\n",
       "      <td>69</td>\n",
       "      <td>0.788337</td>\n",
       "      <td>0.778523</td>\n",
       "      <td>0.788337</td>\n",
       "      <td>0.782099</td>\n",
       "      <td>{'criterion': 'gini', 'max_features': 'auto', ...</td>\n",
       "    </tr>\n",
       "    <tr>\n",
       "      <th>8</th>\n",
       "      <td>0.3</td>\n",
       "      <td>101</td>\n",
       "      <td>0.779698</td>\n",
       "      <td>0.773435</td>\n",
       "      <td>0.779698</td>\n",
       "      <td>0.770509</td>\n",
       "      <td>{'criterion': 'gini', 'max_features': 'auto', ...</td>\n",
       "    </tr>\n",
       "    <tr>\n",
       "      <th>9</th>\n",
       "      <td>0.2</td>\n",
       "      <td>7</td>\n",
       "      <td>0.790924</td>\n",
       "      <td>0.780511</td>\n",
       "      <td>0.790924</td>\n",
       "      <td>0.784008</td>\n",
       "      <td>{'criterion': 'gini', 'max_features': 'sqrt', ...</td>\n",
       "    </tr>\n",
       "    <tr>\n",
       "      <th>10</th>\n",
       "      <td>0.2</td>\n",
       "      <td>69</td>\n",
       "      <td>0.790924</td>\n",
       "      <td>0.781713</td>\n",
       "      <td>0.790924</td>\n",
       "      <td>0.783544</td>\n",
       "      <td>{'criterion': 'entropy', 'max_features': 'log2...</td>\n",
       "    </tr>\n",
       "    <tr>\n",
       "      <th>11</th>\n",
       "      <td>0.2</td>\n",
       "      <td>101</td>\n",
       "      <td>0.807131</td>\n",
       "      <td>0.801224</td>\n",
       "      <td>0.807131</td>\n",
       "      <td>0.799976</td>\n",
       "      <td>{'criterion': 'entropy', 'max_features': 'log2...</td>\n",
       "    </tr>\n",
       "  </tbody>\n",
       "</table>\n",
       "</div>"
      ],
      "text/plain": [
       "    Test Size  Random State  Accuracy  Precision    Recall  F1 Score  \\\n",
       "0         0.5             7  0.748542   0.733508  0.748542  0.737121   \n",
       "1         0.5            69  0.758263   0.747419  0.758263  0.751418   \n",
       "2         0.5           101  0.731692   0.717058  0.731692  0.720621   \n",
       "3         0.4             7  0.768233   0.755152  0.768233  0.759543   \n",
       "4         0.4            69  0.773096   0.762864  0.773096  0.766728   \n",
       "5         0.4           101  0.743112   0.730835  0.743112  0.733542   \n",
       "6         0.3             7  0.766739   0.753916  0.766739  0.755830   \n",
       "7         0.3            69  0.788337   0.778523  0.788337  0.782099   \n",
       "8         0.3           101  0.779698   0.773435  0.779698  0.770509   \n",
       "9         0.2             7  0.790924   0.780511  0.790924  0.784008   \n",
       "10        0.2            69  0.790924   0.781713  0.790924  0.783544   \n",
       "11        0.2           101  0.807131   0.801224  0.807131  0.799976   \n",
       "\n",
       "                                           Best Param  \n",
       "0   {'criterion': 'entropy', 'max_features': 'sqrt...  \n",
       "1   {'criterion': 'gini', 'max_features': 'sqrt', ...  \n",
       "2   {'criterion': 'entropy', 'max_features': 'auto...  \n",
       "3   {'criterion': 'entropy', 'max_features': 'log2...  \n",
       "4   {'criterion': 'gini', 'max_features': 'sqrt', ...  \n",
       "5   {'criterion': 'gini', 'max_features': 'sqrt', ...  \n",
       "6   {'criterion': 'gini', 'max_features': 'log2', ...  \n",
       "7   {'criterion': 'gini', 'max_features': 'auto', ...  \n",
       "8   {'criterion': 'gini', 'max_features': 'auto', ...  \n",
       "9   {'criterion': 'gini', 'max_features': 'sqrt', ...  \n",
       "10  {'criterion': 'entropy', 'max_features': 'log2...  \n",
       "11  {'criterion': 'entropy', 'max_features': 'log2...  "
      ]
     },
     "execution_count": 61,
     "metadata": {},
     "output_type": "execute_result"
    }
   ],
   "source": [
    "temp5L_SB_ROS = []\n",
    "\n",
    "y = merge_5L_ROS[['CGPA']]\n",
    "X = merge_5L_ROS[['Age','Gender','Nationality', 'Living Status', 'Home Town', 'Faculty', 'Education Level',\n",
    "                     'Years of Study', 'Completed Credit Hours']]\n",
    "\n",
    "print(\"X:\", X.shape,\"y:\", y.shape)\n",
    "\n",
    "for i in [0.5,0.4,0.3,0.2]:\n",
    "    for j in rand_states:\n",
    "        X_train, X_test, y_train, y_test = train_test_split(X, y, test_size=i, random_state=j)\n",
    "        param_grid = {'n_estimators': [100, 200, 300, 400],\n",
    "                      'max_features': ['auto', 'sqrt', 'log2'],\n",
    "                      'criterion' :['gini', 'entropy']}\n",
    "\n",
    "        model = GridSearchCV(RandomForestClassifier(), param_grid, refit=True, n_jobs=-1, cv=10, verbose=1)\n",
    "        model.fit(X_train, y_train)\n",
    "        pred = model.predict(X_test)\n",
    "\n",
    "        acc = accuracy_score(y_test,pred)\n",
    "        pre = precision_score(y_test, pred, average='weighted')\n",
    "        recall = recall_score(y_test, pred, average='weighted')\n",
    "        f1 = f1_score(y_test, pred, average='weighted')\n",
    "        param = model.best_params_\n",
    "        \n",
    "        temp5L_SB_ROS.append([i,j,acc,pre,recall,f1,param])\n",
    "        \n",
    "df5L_SB_ROS = pd.DataFrame(columns=['Test Size','Random State','Accuracy','Precision','Recall','F1 Score','Best Param'],data=temp5L_SB_ROS)\n",
    "df5L_SB_ROS"
   ]
  },
  {
   "cell_type": "code",
   "execution_count": 62,
   "id": "78c847cd-d04c-4252-bf4e-1aea004c0792",
   "metadata": {},
   "outputs": [
    {
     "data": {
      "text/html": [
       "<div>\n",
       "<style scoped>\n",
       "    .dataframe tbody tr th:only-of-type {\n",
       "        vertical-align: middle;\n",
       "    }\n",
       "\n",
       "    .dataframe tbody tr th {\n",
       "        vertical-align: top;\n",
       "    }\n",
       "\n",
       "    .dataframe thead th {\n",
       "        text-align: right;\n",
       "    }\n",
       "</style>\n",
       "<table border=\"1\" class=\"dataframe\">\n",
       "  <thead>\n",
       "    <tr style=\"text-align: right;\">\n",
       "      <th></th>\n",
       "      <th>Accuracy</th>\n",
       "      <th>Precision</th>\n",
       "      <th>Recall</th>\n",
       "      <th>F1 Score</th>\n",
       "    </tr>\n",
       "    <tr>\n",
       "      <th>Test Size</th>\n",
       "      <th></th>\n",
       "      <th></th>\n",
       "      <th></th>\n",
       "      <th></th>\n",
       "    </tr>\n",
       "  </thead>\n",
       "  <tbody>\n",
       "    <tr>\n",
       "      <th>0.2</th>\n",
       "      <td>0.796326</td>\n",
       "      <td>0.787816</td>\n",
       "      <td>0.796326</td>\n",
       "      <td>0.789176</td>\n",
       "    </tr>\n",
       "    <tr>\n",
       "      <th>0.3</th>\n",
       "      <td>0.778258</td>\n",
       "      <td>0.768625</td>\n",
       "      <td>0.778258</td>\n",
       "      <td>0.769479</td>\n",
       "    </tr>\n",
       "    <tr>\n",
       "      <th>0.4</th>\n",
       "      <td>0.761480</td>\n",
       "      <td>0.749617</td>\n",
       "      <td>0.761480</td>\n",
       "      <td>0.753271</td>\n",
       "    </tr>\n",
       "    <tr>\n",
       "      <th>0.5</th>\n",
       "      <td>0.746165</td>\n",
       "      <td>0.732661</td>\n",
       "      <td>0.746165</td>\n",
       "      <td>0.736387</td>\n",
       "    </tr>\n",
       "  </tbody>\n",
       "</table>\n",
       "</div>"
      ],
      "text/plain": [
       "           Accuracy  Precision    Recall  F1 Score\n",
       "Test Size                                         \n",
       "0.2        0.796326   0.787816  0.796326  0.789176\n",
       "0.3        0.778258   0.768625  0.778258  0.769479\n",
       "0.4        0.761480   0.749617  0.761480  0.753271\n",
       "0.5        0.746165   0.732661  0.746165  0.736387"
      ]
     },
     "execution_count": 62,
     "metadata": {},
     "output_type": "execute_result"
    }
   ],
   "source": [
    "df5L_SB_ROS.groupby('Test Size')[['Accuracy','Precision','Recall','F1 Score']].mean()"
   ]
  },
  {
   "cell_type": "code",
   "execution_count": 63,
   "id": "d4664f5e-ae60-4e7f-ae42-65816851fafb",
   "metadata": {},
   "outputs": [
    {
     "name": "stdout",
     "output_type": "stream",
     "text": [
      "5-Level: Student Background\n",
      "\n",
      "{'criterion': 'entropy', 'max_features': 'sqrt', 'n_estimators': 300}\n",
      "{'criterion': 'gini', 'max_features': 'sqrt', 'n_estimators': 100}\n",
      "{'criterion': 'entropy', 'max_features': 'auto', 'n_estimators': 100}\n",
      "{'criterion': 'entropy', 'max_features': 'log2', 'n_estimators': 200}\n",
      "{'criterion': 'gini', 'max_features': 'sqrt', 'n_estimators': 100}\n",
      "{'criterion': 'gini', 'max_features': 'sqrt', 'n_estimators': 300}\n",
      "{'criterion': 'gini', 'max_features': 'log2', 'n_estimators': 100}\n",
      "{'criterion': 'gini', 'max_features': 'auto', 'n_estimators': 300}\n",
      "{'criterion': 'gini', 'max_features': 'auto', 'n_estimators': 400}\n",
      "{'criterion': 'gini', 'max_features': 'sqrt', 'n_estimators': 300}\n",
      "{'criterion': 'entropy', 'max_features': 'log2', 'n_estimators': 300}\n",
      "{'criterion': 'entropy', 'max_features': 'log2', 'n_estimators': 100}\n"
     ]
    }
   ],
   "source": [
    "print(\"5-Level: Student Background\\n\")\n",
    "for x in df5L_SB_ROS[\"Best Param\"]:\n",
    "    print(x)"
   ]
  },
  {
   "cell_type": "markdown",
   "id": "21fcebec-a8bc-4e3d-b25b-1f77aa398f93",
   "metadata": {},
   "source": [
    "### SB after SMOTE"
   ]
  },
  {
   "cell_type": "code",
   "execution_count": 64,
   "id": "330b67a6-1fbd-4d2c-8184-10645111d8d5",
   "metadata": {},
   "outputs": [
    {
     "name": "stdout",
     "output_type": "stream",
     "text": [
      "X: (3085, 9) y: (3085, 1)\n",
      "Fitting 10 folds for each of 24 candidates, totalling 240 fits\n"
     ]
    },
    {
     "name": "stderr",
     "output_type": "stream",
     "text": [
      "C:\\Users\\hazel\\anaconda3\\Lib\\site-packages\\sklearn\\model_selection\\_search.py:909: DataConversionWarning: A column-vector y was passed when a 1d array was expected. Please change the shape of y to (n_samples,), for example using ravel().\n",
      "  self.best_estimator_.fit(X, y, **fit_params)\n",
      "C:\\Users\\hazel\\anaconda3\\Lib\\site-packages\\sklearn\\ensemble\\_forest.py:424: FutureWarning: `max_features='auto'` has been deprecated in 1.1 and will be removed in 1.3. To keep the past behaviour, explicitly set `max_features='sqrt'` or remove this parameter as it is also the default value for RandomForestClassifiers and ExtraTreesClassifiers.\n",
      "  warn(\n"
     ]
    },
    {
     "name": "stdout",
     "output_type": "stream",
     "text": [
      "Fitting 10 folds for each of 24 candidates, totalling 240 fits\n"
     ]
    },
    {
     "name": "stderr",
     "output_type": "stream",
     "text": [
      "C:\\Users\\hazel\\anaconda3\\Lib\\site-packages\\sklearn\\model_selection\\_search.py:909: DataConversionWarning: A column-vector y was passed when a 1d array was expected. Please change the shape of y to (n_samples,), for example using ravel().\n",
      "  self.best_estimator_.fit(X, y, **fit_params)\n"
     ]
    },
    {
     "name": "stdout",
     "output_type": "stream",
     "text": [
      "Fitting 10 folds for each of 24 candidates, totalling 240 fits\n"
     ]
    },
    {
     "name": "stderr",
     "output_type": "stream",
     "text": [
      "C:\\Users\\hazel\\anaconda3\\Lib\\site-packages\\sklearn\\model_selection\\_search.py:909: DataConversionWarning: A column-vector y was passed when a 1d array was expected. Please change the shape of y to (n_samples,), for example using ravel().\n",
      "  self.best_estimator_.fit(X, y, **fit_params)\n",
      "C:\\Users\\hazel\\anaconda3\\Lib\\site-packages\\sklearn\\ensemble\\_forest.py:424: FutureWarning: `max_features='auto'` has been deprecated in 1.1 and will be removed in 1.3. To keep the past behaviour, explicitly set `max_features='sqrt'` or remove this parameter as it is also the default value for RandomForestClassifiers and ExtraTreesClassifiers.\n",
      "  warn(\n"
     ]
    },
    {
     "name": "stdout",
     "output_type": "stream",
     "text": [
      "Fitting 10 folds for each of 24 candidates, totalling 240 fits\n"
     ]
    },
    {
     "name": "stderr",
     "output_type": "stream",
     "text": [
      "C:\\Users\\hazel\\anaconda3\\Lib\\site-packages\\sklearn\\model_selection\\_search.py:909: DataConversionWarning: A column-vector y was passed when a 1d array was expected. Please change the shape of y to (n_samples,), for example using ravel().\n",
      "  self.best_estimator_.fit(X, y, **fit_params)\n",
      "C:\\Users\\hazel\\anaconda3\\Lib\\site-packages\\sklearn\\ensemble\\_forest.py:424: FutureWarning: `max_features='auto'` has been deprecated in 1.1 and will be removed in 1.3. To keep the past behaviour, explicitly set `max_features='sqrt'` or remove this parameter as it is also the default value for RandomForestClassifiers and ExtraTreesClassifiers.\n",
      "  warn(\n"
     ]
    },
    {
     "name": "stdout",
     "output_type": "stream",
     "text": [
      "Fitting 10 folds for each of 24 candidates, totalling 240 fits\n"
     ]
    },
    {
     "name": "stderr",
     "output_type": "stream",
     "text": [
      "C:\\Users\\hazel\\anaconda3\\Lib\\site-packages\\sklearn\\model_selection\\_search.py:909: DataConversionWarning: A column-vector y was passed when a 1d array was expected. Please change the shape of y to (n_samples,), for example using ravel().\n",
      "  self.best_estimator_.fit(X, y, **fit_params)\n"
     ]
    },
    {
     "name": "stdout",
     "output_type": "stream",
     "text": [
      "Fitting 10 folds for each of 24 candidates, totalling 240 fits\n"
     ]
    },
    {
     "name": "stderr",
     "output_type": "stream",
     "text": [
      "C:\\Users\\hazel\\anaconda3\\Lib\\site-packages\\sklearn\\model_selection\\_search.py:909: DataConversionWarning: A column-vector y was passed when a 1d array was expected. Please change the shape of y to (n_samples,), for example using ravel().\n",
      "  self.best_estimator_.fit(X, y, **fit_params)\n"
     ]
    },
    {
     "name": "stdout",
     "output_type": "stream",
     "text": [
      "Fitting 10 folds for each of 24 candidates, totalling 240 fits\n"
     ]
    },
    {
     "name": "stderr",
     "output_type": "stream",
     "text": [
      "C:\\Users\\hazel\\anaconda3\\Lib\\site-packages\\sklearn\\model_selection\\_search.py:909: DataConversionWarning: A column-vector y was passed when a 1d array was expected. Please change the shape of y to (n_samples,), for example using ravel().\n",
      "  self.best_estimator_.fit(X, y, **fit_params)\n"
     ]
    },
    {
     "name": "stdout",
     "output_type": "stream",
     "text": [
      "Fitting 10 folds for each of 24 candidates, totalling 240 fits\n"
     ]
    },
    {
     "name": "stderr",
     "output_type": "stream",
     "text": [
      "C:\\Users\\hazel\\anaconda3\\Lib\\site-packages\\sklearn\\model_selection\\_search.py:909: DataConversionWarning: A column-vector y was passed when a 1d array was expected. Please change the shape of y to (n_samples,), for example using ravel().\n",
      "  self.best_estimator_.fit(X, y, **fit_params)\n"
     ]
    },
    {
     "name": "stdout",
     "output_type": "stream",
     "text": [
      "Fitting 10 folds for each of 24 candidates, totalling 240 fits\n"
     ]
    },
    {
     "name": "stderr",
     "output_type": "stream",
     "text": [
      "C:\\Users\\hazel\\anaconda3\\Lib\\site-packages\\sklearn\\model_selection\\_search.py:909: DataConversionWarning: A column-vector y was passed when a 1d array was expected. Please change the shape of y to (n_samples,), for example using ravel().\n",
      "  self.best_estimator_.fit(X, y, **fit_params)\n",
      "C:\\Users\\hazel\\anaconda3\\Lib\\site-packages\\sklearn\\ensemble\\_forest.py:424: FutureWarning: `max_features='auto'` has been deprecated in 1.1 and will be removed in 1.3. To keep the past behaviour, explicitly set `max_features='sqrt'` or remove this parameter as it is also the default value for RandomForestClassifiers and ExtraTreesClassifiers.\n",
      "  warn(\n"
     ]
    },
    {
     "name": "stdout",
     "output_type": "stream",
     "text": [
      "Fitting 10 folds for each of 24 candidates, totalling 240 fits\n"
     ]
    },
    {
     "name": "stderr",
     "output_type": "stream",
     "text": [
      "C:\\Users\\hazel\\anaconda3\\Lib\\site-packages\\sklearn\\model_selection\\_search.py:909: DataConversionWarning: A column-vector y was passed when a 1d array was expected. Please change the shape of y to (n_samples,), for example using ravel().\n",
      "  self.best_estimator_.fit(X, y, **fit_params)\n"
     ]
    },
    {
     "name": "stdout",
     "output_type": "stream",
     "text": [
      "Fitting 10 folds for each of 24 candidates, totalling 240 fits\n"
     ]
    },
    {
     "name": "stderr",
     "output_type": "stream",
     "text": [
      "C:\\Users\\hazel\\anaconda3\\Lib\\site-packages\\sklearn\\model_selection\\_search.py:909: DataConversionWarning: A column-vector y was passed when a 1d array was expected. Please change the shape of y to (n_samples,), for example using ravel().\n",
      "  self.best_estimator_.fit(X, y, **fit_params)\n"
     ]
    },
    {
     "name": "stdout",
     "output_type": "stream",
     "text": [
      "Fitting 10 folds for each of 24 candidates, totalling 240 fits\n"
     ]
    },
    {
     "name": "stderr",
     "output_type": "stream",
     "text": [
      "C:\\Users\\hazel\\anaconda3\\Lib\\site-packages\\sklearn\\model_selection\\_search.py:909: DataConversionWarning: A column-vector y was passed when a 1d array was expected. Please change the shape of y to (n_samples,), for example using ravel().\n",
      "  self.best_estimator_.fit(X, y, **fit_params)\n"
     ]
    },
    {
     "data": {
      "text/html": [
       "<div>\n",
       "<style scoped>\n",
       "    .dataframe tbody tr th:only-of-type {\n",
       "        vertical-align: middle;\n",
       "    }\n",
       "\n",
       "    .dataframe tbody tr th {\n",
       "        vertical-align: top;\n",
       "    }\n",
       "\n",
       "    .dataframe thead th {\n",
       "        text-align: right;\n",
       "    }\n",
       "</style>\n",
       "<table border=\"1\" class=\"dataframe\">\n",
       "  <thead>\n",
       "    <tr style=\"text-align: right;\">\n",
       "      <th></th>\n",
       "      <th>Test Size</th>\n",
       "      <th>Random State</th>\n",
       "      <th>Accuracy</th>\n",
       "      <th>Precision</th>\n",
       "      <th>Recall</th>\n",
       "      <th>F1 Score</th>\n",
       "      <th>Best Param</th>\n",
       "    </tr>\n",
       "  </thead>\n",
       "  <tbody>\n",
       "    <tr>\n",
       "      <th>0</th>\n",
       "      <td>0.5</td>\n",
       "      <td>7</td>\n",
       "      <td>0.554763</td>\n",
       "      <td>0.543427</td>\n",
       "      <td>0.554763</td>\n",
       "      <td>0.547593</td>\n",
       "      <td>{'criterion': 'gini', 'max_features': 'auto', ...</td>\n",
       "    </tr>\n",
       "    <tr>\n",
       "      <th>1</th>\n",
       "      <td>0.5</td>\n",
       "      <td>69</td>\n",
       "      <td>0.537265</td>\n",
       "      <td>0.528612</td>\n",
       "      <td>0.537265</td>\n",
       "      <td>0.532364</td>\n",
       "      <td>{'criterion': 'gini', 'max_features': 'sqrt', ...</td>\n",
       "    </tr>\n",
       "    <tr>\n",
       "      <th>2</th>\n",
       "      <td>0.5</td>\n",
       "      <td>101</td>\n",
       "      <td>0.542450</td>\n",
       "      <td>0.530570</td>\n",
       "      <td>0.542450</td>\n",
       "      <td>0.534274</td>\n",
       "      <td>{'criterion': 'entropy', 'max_features': 'auto...</td>\n",
       "    </tr>\n",
       "    <tr>\n",
       "      <th>3</th>\n",
       "      <td>0.4</td>\n",
       "      <td>7</td>\n",
       "      <td>0.561588</td>\n",
       "      <td>0.550822</td>\n",
       "      <td>0.561588</td>\n",
       "      <td>0.555116</td>\n",
       "      <td>{'criterion': 'gini', 'max_features': 'auto', ...</td>\n",
       "    </tr>\n",
       "    <tr>\n",
       "      <th>4</th>\n",
       "      <td>0.4</td>\n",
       "      <td>69</td>\n",
       "      <td>0.542950</td>\n",
       "      <td>0.534216</td>\n",
       "      <td>0.542950</td>\n",
       "      <td>0.537413</td>\n",
       "      <td>{'criterion': 'gini', 'max_features': 'sqrt', ...</td>\n",
       "    </tr>\n",
       "    <tr>\n",
       "      <th>5</th>\n",
       "      <td>0.4</td>\n",
       "      <td>101</td>\n",
       "      <td>0.529984</td>\n",
       "      <td>0.518748</td>\n",
       "      <td>0.529984</td>\n",
       "      <td>0.521613</td>\n",
       "      <td>{'criterion': 'gini', 'max_features': 'sqrt', ...</td>\n",
       "    </tr>\n",
       "    <tr>\n",
       "      <th>6</th>\n",
       "      <td>0.3</td>\n",
       "      <td>7</td>\n",
       "      <td>0.558315</td>\n",
       "      <td>0.548700</td>\n",
       "      <td>0.558315</td>\n",
       "      <td>0.551508</td>\n",
       "      <td>{'criterion': 'gini', 'max_features': 'log2', ...</td>\n",
       "    </tr>\n",
       "    <tr>\n",
       "      <th>7</th>\n",
       "      <td>0.3</td>\n",
       "      <td>69</td>\n",
       "      <td>0.566955</td>\n",
       "      <td>0.556084</td>\n",
       "      <td>0.566955</td>\n",
       "      <td>0.560491</td>\n",
       "      <td>{'criterion': 'gini', 'max_features': 'log2', ...</td>\n",
       "    </tr>\n",
       "    <tr>\n",
       "      <th>8</th>\n",
       "      <td>0.3</td>\n",
       "      <td>101</td>\n",
       "      <td>0.546436</td>\n",
       "      <td>0.533415</td>\n",
       "      <td>0.546436</td>\n",
       "      <td>0.537852</td>\n",
       "      <td>{'criterion': 'entropy', 'max_features': 'auto...</td>\n",
       "    </tr>\n",
       "    <tr>\n",
       "      <th>9</th>\n",
       "      <td>0.2</td>\n",
       "      <td>7</td>\n",
       "      <td>0.570502</td>\n",
       "      <td>0.559993</td>\n",
       "      <td>0.570502</td>\n",
       "      <td>0.564478</td>\n",
       "      <td>{'criterion': 'entropy', 'max_features': 'log2...</td>\n",
       "    </tr>\n",
       "    <tr>\n",
       "      <th>10</th>\n",
       "      <td>0.2</td>\n",
       "      <td>69</td>\n",
       "      <td>0.591572</td>\n",
       "      <td>0.580307</td>\n",
       "      <td>0.591572</td>\n",
       "      <td>0.583334</td>\n",
       "      <td>{'criterion': 'gini', 'max_features': 'sqrt', ...</td>\n",
       "    </tr>\n",
       "    <tr>\n",
       "      <th>11</th>\n",
       "      <td>0.2</td>\n",
       "      <td>101</td>\n",
       "      <td>0.573744</td>\n",
       "      <td>0.562995</td>\n",
       "      <td>0.573744</td>\n",
       "      <td>0.565643</td>\n",
       "      <td>{'criterion': 'gini', 'max_features': 'log2', ...</td>\n",
       "    </tr>\n",
       "  </tbody>\n",
       "</table>\n",
       "</div>"
      ],
      "text/plain": [
       "    Test Size  Random State  Accuracy  Precision    Recall  F1 Score  \\\n",
       "0         0.5             7  0.554763   0.543427  0.554763  0.547593   \n",
       "1         0.5            69  0.537265   0.528612  0.537265  0.532364   \n",
       "2         0.5           101  0.542450   0.530570  0.542450  0.534274   \n",
       "3         0.4             7  0.561588   0.550822  0.561588  0.555116   \n",
       "4         0.4            69  0.542950   0.534216  0.542950  0.537413   \n",
       "5         0.4           101  0.529984   0.518748  0.529984  0.521613   \n",
       "6         0.3             7  0.558315   0.548700  0.558315  0.551508   \n",
       "7         0.3            69  0.566955   0.556084  0.566955  0.560491   \n",
       "8         0.3           101  0.546436   0.533415  0.546436  0.537852   \n",
       "9         0.2             7  0.570502   0.559993  0.570502  0.564478   \n",
       "10        0.2            69  0.591572   0.580307  0.591572  0.583334   \n",
       "11        0.2           101  0.573744   0.562995  0.573744  0.565643   \n",
       "\n",
       "                                           Best Param  \n",
       "0   {'criterion': 'gini', 'max_features': 'auto', ...  \n",
       "1   {'criterion': 'gini', 'max_features': 'sqrt', ...  \n",
       "2   {'criterion': 'entropy', 'max_features': 'auto...  \n",
       "3   {'criterion': 'gini', 'max_features': 'auto', ...  \n",
       "4   {'criterion': 'gini', 'max_features': 'sqrt', ...  \n",
       "5   {'criterion': 'gini', 'max_features': 'sqrt', ...  \n",
       "6   {'criterion': 'gini', 'max_features': 'log2', ...  \n",
       "7   {'criterion': 'gini', 'max_features': 'log2', ...  \n",
       "8   {'criterion': 'entropy', 'max_features': 'auto...  \n",
       "9   {'criterion': 'entropy', 'max_features': 'log2...  \n",
       "10  {'criterion': 'gini', 'max_features': 'sqrt', ...  \n",
       "11  {'criterion': 'gini', 'max_features': 'log2', ...  "
      ]
     },
     "execution_count": 64,
     "metadata": {},
     "output_type": "execute_result"
    }
   ],
   "source": [
    "temp5L_SB_SMOTE = []\n",
    "\n",
    "y = merge_5L_SMOTE[['CGPA']]\n",
    "X = merge_5L_SMOTE[['Age','Gender','Nationality', 'Living Status', 'Home Town', 'Faculty', 'Education Level',\n",
    "                     'Years of Study', 'Completed Credit Hours']]\n",
    "\n",
    "print(\"X:\", X.shape,\"y:\", y.shape)\n",
    "\n",
    "for i in [0.5,0.4,0.3,0.2]:\n",
    "    for j in rand_states:\n",
    "        X_train, X_test, y_train, y_test = train_test_split(X, y, test_size=i, random_state=j)\n",
    "        param_grid = {'n_estimators': [100, 200, 300, 400],\n",
    "                      'max_features': ['auto', 'sqrt', 'log2'],\n",
    "                      'criterion' :['gini', 'entropy']}\n",
    "\n",
    "        model = GridSearchCV(RandomForestClassifier(), param_grid, refit=True, n_jobs=-1, cv=10, verbose=1)\n",
    "        model.fit(X_train, y_train)\n",
    "        pred = model.predict(X_test)\n",
    "\n",
    "        acc = accuracy_score(y_test,pred)\n",
    "        pre = precision_score(y_test, pred, average='weighted')\n",
    "        recall = recall_score(y_test, pred, average='weighted')\n",
    "        f1 = f1_score(y_test, pred, average='weighted')\n",
    "        param = model.best_params_\n",
    "        \n",
    "        temp5L_SB_SMOTE.append([i,j,acc,pre,recall,f1,param])\n",
    "        \n",
    "df5L_SB_SMOTE = pd.DataFrame(columns=['Test Size','Random State','Accuracy','Precision','Recall','F1 Score','Best Param'],data=temp5L_SB_SMOTE)\n",
    "df5L_SB_SMOTE"
   ]
  },
  {
   "cell_type": "code",
   "execution_count": 65,
   "id": "6718a3e3-9007-4c60-a888-9c098e3b6027",
   "metadata": {},
   "outputs": [
    {
     "data": {
      "text/html": [
       "<div>\n",
       "<style scoped>\n",
       "    .dataframe tbody tr th:only-of-type {\n",
       "        vertical-align: middle;\n",
       "    }\n",
       "\n",
       "    .dataframe tbody tr th {\n",
       "        vertical-align: top;\n",
       "    }\n",
       "\n",
       "    .dataframe thead th {\n",
       "        text-align: right;\n",
       "    }\n",
       "</style>\n",
       "<table border=\"1\" class=\"dataframe\">\n",
       "  <thead>\n",
       "    <tr style=\"text-align: right;\">\n",
       "      <th></th>\n",
       "      <th>Accuracy</th>\n",
       "      <th>Precision</th>\n",
       "      <th>Recall</th>\n",
       "      <th>F1 Score</th>\n",
       "    </tr>\n",
       "    <tr>\n",
       "      <th>Test Size</th>\n",
       "      <th></th>\n",
       "      <th></th>\n",
       "      <th></th>\n",
       "      <th></th>\n",
       "    </tr>\n",
       "  </thead>\n",
       "  <tbody>\n",
       "    <tr>\n",
       "      <th>0.2</th>\n",
       "      <td>0.578606</td>\n",
       "      <td>0.567765</td>\n",
       "      <td>0.578606</td>\n",
       "      <td>0.571152</td>\n",
       "    </tr>\n",
       "    <tr>\n",
       "      <th>0.3</th>\n",
       "      <td>0.557235</td>\n",
       "      <td>0.546066</td>\n",
       "      <td>0.557235</td>\n",
       "      <td>0.549950</td>\n",
       "    </tr>\n",
       "    <tr>\n",
       "      <th>0.4</th>\n",
       "      <td>0.544841</td>\n",
       "      <td>0.534595</td>\n",
       "      <td>0.544841</td>\n",
       "      <td>0.538047</td>\n",
       "    </tr>\n",
       "    <tr>\n",
       "      <th>0.5</th>\n",
       "      <td>0.544826</td>\n",
       "      <td>0.534203</td>\n",
       "      <td>0.544826</td>\n",
       "      <td>0.538077</td>\n",
       "    </tr>\n",
       "  </tbody>\n",
       "</table>\n",
       "</div>"
      ],
      "text/plain": [
       "           Accuracy  Precision    Recall  F1 Score\n",
       "Test Size                                         \n",
       "0.2        0.578606   0.567765  0.578606  0.571152\n",
       "0.3        0.557235   0.546066  0.557235  0.549950\n",
       "0.4        0.544841   0.534595  0.544841  0.538047\n",
       "0.5        0.544826   0.534203  0.544826  0.538077"
      ]
     },
     "execution_count": 65,
     "metadata": {},
     "output_type": "execute_result"
    }
   ],
   "source": [
    "df5L_SB_SMOTE.groupby('Test Size')[['Accuracy','Precision','Recall','F1 Score']].mean()"
   ]
  },
  {
   "cell_type": "code",
   "execution_count": 66,
   "id": "b643df4d-a18a-4b4f-9708-9b0d41c62adc",
   "metadata": {},
   "outputs": [
    {
     "name": "stdout",
     "output_type": "stream",
     "text": [
      "SMOTE 5-Level: Student Background\n",
      "\n",
      "{'criterion': 'gini', 'max_features': 'auto', 'n_estimators': 200}\n",
      "{'criterion': 'gini', 'max_features': 'sqrt', 'n_estimators': 300}\n",
      "{'criterion': 'entropy', 'max_features': 'auto', 'n_estimators': 100}\n",
      "{'criterion': 'gini', 'max_features': 'auto', 'n_estimators': 400}\n",
      "{'criterion': 'gini', 'max_features': 'sqrt', 'n_estimators': 100}\n",
      "{'criterion': 'gini', 'max_features': 'sqrt', 'n_estimators': 200}\n",
      "{'criterion': 'gini', 'max_features': 'log2', 'n_estimators': 300}\n",
      "{'criterion': 'gini', 'max_features': 'log2', 'n_estimators': 400}\n",
      "{'criterion': 'entropy', 'max_features': 'auto', 'n_estimators': 400}\n",
      "{'criterion': 'entropy', 'max_features': 'log2', 'n_estimators': 100}\n",
      "{'criterion': 'gini', 'max_features': 'sqrt', 'n_estimators': 200}\n",
      "{'criterion': 'gini', 'max_features': 'log2', 'n_estimators': 100}\n"
     ]
    }
   ],
   "source": [
    "print(\"SMOTE 5-Level: Student Background\\n\")\n",
    "for x in df5L_SB_SMOTE[\"Best Param\"]:\n",
    "    print(x)"
   ]
  },
  {
   "cell_type": "markdown",
   "id": "16f06cbf-dce3-43c4-a1f0-f295dc1bcf23",
   "metadata": {},
   "source": [
    "## Student History Grades"
   ]
  },
  {
   "cell_type": "markdown",
   "id": "52a29a0a-4361-4826-8451-e37aebb2ef97",
   "metadata": {},
   "source": [
    "### SHG before Data Balancing"
   ]
  },
  {
   "cell_type": "code",
   "execution_count": 67,
   "id": "dc04ef83-c69d-434c-9b86-ce692f00c135",
   "metadata": {},
   "outputs": [
    {
     "name": "stdout",
     "output_type": "stream",
     "text": [
      "X: (1287, 4) y: (1287, 1)\n",
      "Fitting 10 folds for each of 24 candidates, totalling 240 fits\n"
     ]
    },
    {
     "name": "stderr",
     "output_type": "stream",
     "text": [
      "C:\\Users\\hazel\\anaconda3\\Lib\\site-packages\\sklearn\\model_selection\\_split.py:700: UserWarning: The least populated class in y has only 8 members, which is less than n_splits=10.\n",
      "  warnings.warn(\n",
      "C:\\Users\\hazel\\anaconda3\\Lib\\site-packages\\sklearn\\model_selection\\_search.py:909: DataConversionWarning: A column-vector y was passed when a 1d array was expected. Please change the shape of y to (n_samples,), for example using ravel().\n",
      "  self.best_estimator_.fit(X, y, **fit_params)\n"
     ]
    },
    {
     "name": "stdout",
     "output_type": "stream",
     "text": [
      "Fitting 10 folds for each of 24 candidates, totalling 240 fits\n"
     ]
    },
    {
     "name": "stderr",
     "output_type": "stream",
     "text": [
      "C:\\Users\\hazel\\anaconda3\\Lib\\site-packages\\sklearn\\model_selection\\_split.py:700: UserWarning: The least populated class in y has only 8 members, which is less than n_splits=10.\n",
      "  warnings.warn(\n",
      "C:\\Users\\hazel\\anaconda3\\Lib\\site-packages\\sklearn\\model_selection\\_search.py:909: DataConversionWarning: A column-vector y was passed when a 1d array was expected. Please change the shape of y to (n_samples,), for example using ravel().\n",
      "  self.best_estimator_.fit(X, y, **fit_params)\n",
      "C:\\Users\\hazel\\anaconda3\\Lib\\site-packages\\sklearn\\ensemble\\_forest.py:424: FutureWarning: `max_features='auto'` has been deprecated in 1.1 and will be removed in 1.3. To keep the past behaviour, explicitly set `max_features='sqrt'` or remove this parameter as it is also the default value for RandomForestClassifiers and ExtraTreesClassifiers.\n",
      "  warn(\n"
     ]
    },
    {
     "name": "stdout",
     "output_type": "stream",
     "text": [
      "Fitting 10 folds for each of 24 candidates, totalling 240 fits\n"
     ]
    },
    {
     "name": "stderr",
     "output_type": "stream",
     "text": [
      "C:\\Users\\hazel\\anaconda3\\Lib\\site-packages\\sklearn\\model_selection\\_split.py:700: UserWarning: The least populated class in y has only 8 members, which is less than n_splits=10.\n",
      "  warnings.warn(\n",
      "C:\\Users\\hazel\\anaconda3\\Lib\\site-packages\\sklearn\\model_selection\\_search.py:909: DataConversionWarning: A column-vector y was passed when a 1d array was expected. Please change the shape of y to (n_samples,), for example using ravel().\n",
      "  self.best_estimator_.fit(X, y, **fit_params)\n"
     ]
    },
    {
     "name": "stdout",
     "output_type": "stream",
     "text": [
      "Fitting 10 folds for each of 24 candidates, totalling 240 fits\n"
     ]
    },
    {
     "name": "stderr",
     "output_type": "stream",
     "text": [
      "C:\\Users\\hazel\\anaconda3\\Lib\\site-packages\\sklearn\\model_selection\\_search.py:909: DataConversionWarning: A column-vector y was passed when a 1d array was expected. Please change the shape of y to (n_samples,), for example using ravel().\n",
      "  self.best_estimator_.fit(X, y, **fit_params)\n",
      "C:\\Users\\hazel\\anaconda3\\Lib\\site-packages\\sklearn\\ensemble\\_forest.py:424: FutureWarning: `max_features='auto'` has been deprecated in 1.1 and will be removed in 1.3. To keep the past behaviour, explicitly set `max_features='sqrt'` or remove this parameter as it is also the default value for RandomForestClassifiers and ExtraTreesClassifiers.\n",
      "  warn(\n",
      "C:\\Users\\hazel\\anaconda3\\Lib\\site-packages\\sklearn\\model_selection\\_split.py:700: UserWarning: The least populated class in y has only 9 members, which is less than n_splits=10.\n",
      "  warnings.warn(\n"
     ]
    },
    {
     "name": "stdout",
     "output_type": "stream",
     "text": [
      "Fitting 10 folds for each of 24 candidates, totalling 240 fits\n"
     ]
    },
    {
     "name": "stderr",
     "output_type": "stream",
     "text": [
      "C:\\Users\\hazel\\anaconda3\\Lib\\site-packages\\sklearn\\model_selection\\_search.py:909: DataConversionWarning: A column-vector y was passed when a 1d array was expected. Please change the shape of y to (n_samples,), for example using ravel().\n",
      "  self.best_estimator_.fit(X, y, **fit_params)\n"
     ]
    },
    {
     "name": "stdout",
     "output_type": "stream",
     "text": [
      "Fitting 10 folds for each of 24 candidates, totalling 240 fits\n"
     ]
    },
    {
     "name": "stderr",
     "output_type": "stream",
     "text": [
      "C:\\Users\\hazel\\anaconda3\\Lib\\site-packages\\sklearn\\model_selection\\_search.py:909: DataConversionWarning: A column-vector y was passed when a 1d array was expected. Please change the shape of y to (n_samples,), for example using ravel().\n",
      "  self.best_estimator_.fit(X, y, **fit_params)\n",
      "C:\\Users\\hazel\\anaconda3\\Lib\\site-packages\\sklearn\\ensemble\\_forest.py:424: FutureWarning: `max_features='auto'` has been deprecated in 1.1 and will be removed in 1.3. To keep the past behaviour, explicitly set `max_features='sqrt'` or remove this parameter as it is also the default value for RandomForestClassifiers and ExtraTreesClassifiers.\n",
      "  warn(\n"
     ]
    },
    {
     "name": "stdout",
     "output_type": "stream",
     "text": [
      "Fitting 10 folds for each of 24 candidates, totalling 240 fits\n"
     ]
    },
    {
     "name": "stderr",
     "output_type": "stream",
     "text": [
      "C:\\Users\\hazel\\anaconda3\\Lib\\site-packages\\sklearn\\model_selection\\_search.py:909: DataConversionWarning: A column-vector y was passed when a 1d array was expected. Please change the shape of y to (n_samples,), for example using ravel().\n",
      "  self.best_estimator_.fit(X, y, **fit_params)\n",
      "C:\\Users\\hazel\\anaconda3\\Lib\\site-packages\\sklearn\\ensemble\\_forest.py:424: FutureWarning: `max_features='auto'` has been deprecated in 1.1 and will be removed in 1.3. To keep the past behaviour, explicitly set `max_features='sqrt'` or remove this parameter as it is also the default value for RandomForestClassifiers and ExtraTreesClassifiers.\n",
      "  warn(\n"
     ]
    },
    {
     "name": "stdout",
     "output_type": "stream",
     "text": [
      "Fitting 10 folds for each of 24 candidates, totalling 240 fits\n"
     ]
    },
    {
     "name": "stderr",
     "output_type": "stream",
     "text": [
      "C:\\Users\\hazel\\anaconda3\\Lib\\site-packages\\sklearn\\model_selection\\_search.py:909: DataConversionWarning: A column-vector y was passed when a 1d array was expected. Please change the shape of y to (n_samples,), for example using ravel().\n",
      "  self.best_estimator_.fit(X, y, **fit_params)\n",
      "C:\\Users\\hazel\\anaconda3\\Lib\\site-packages\\sklearn\\ensemble\\_forest.py:424: FutureWarning: `max_features='auto'` has been deprecated in 1.1 and will be removed in 1.3. To keep the past behaviour, explicitly set `max_features='sqrt'` or remove this parameter as it is also the default value for RandomForestClassifiers and ExtraTreesClassifiers.\n",
      "  warn(\n",
      "C:\\Users\\hazel\\anaconda3\\Lib\\site-packages\\sklearn\\metrics\\_classification.py:1344: UndefinedMetricWarning: Precision is ill-defined and being set to 0.0 in labels with no predicted samples. Use `zero_division` parameter to control this behavior.\n",
      "  _warn_prf(average, modifier, msg_start, len(result))\n"
     ]
    },
    {
     "name": "stdout",
     "output_type": "stream",
     "text": [
      "Fitting 10 folds for each of 24 candidates, totalling 240 fits\n"
     ]
    },
    {
     "name": "stderr",
     "output_type": "stream",
     "text": [
      "C:\\Users\\hazel\\anaconda3\\Lib\\site-packages\\sklearn\\model_selection\\_search.py:909: DataConversionWarning: A column-vector y was passed when a 1d array was expected. Please change the shape of y to (n_samples,), for example using ravel().\n",
      "  self.best_estimator_.fit(X, y, **fit_params)\n",
      "C:\\Users\\hazel\\anaconda3\\Lib\\site-packages\\sklearn\\ensemble\\_forest.py:424: FutureWarning: `max_features='auto'` has been deprecated in 1.1 and will be removed in 1.3. To keep the past behaviour, explicitly set `max_features='sqrt'` or remove this parameter as it is also the default value for RandomForestClassifiers and ExtraTreesClassifiers.\n",
      "  warn(\n"
     ]
    },
    {
     "name": "stdout",
     "output_type": "stream",
     "text": [
      "Fitting 10 folds for each of 24 candidates, totalling 240 fits\n"
     ]
    },
    {
     "name": "stderr",
     "output_type": "stream",
     "text": [
      "C:\\Users\\hazel\\anaconda3\\Lib\\site-packages\\sklearn\\model_selection\\_search.py:909: DataConversionWarning: A column-vector y was passed when a 1d array was expected. Please change the shape of y to (n_samples,), for example using ravel().\n",
      "  self.best_estimator_.fit(X, y, **fit_params)\n",
      "C:\\Users\\hazel\\anaconda3\\Lib\\site-packages\\sklearn\\ensemble\\_forest.py:424: FutureWarning: `max_features='auto'` has been deprecated in 1.1 and will be removed in 1.3. To keep the past behaviour, explicitly set `max_features='sqrt'` or remove this parameter as it is also the default value for RandomForestClassifiers and ExtraTreesClassifiers.\n",
      "  warn(\n"
     ]
    },
    {
     "name": "stdout",
     "output_type": "stream",
     "text": [
      "Fitting 10 folds for each of 24 candidates, totalling 240 fits\n"
     ]
    },
    {
     "name": "stderr",
     "output_type": "stream",
     "text": [
      "C:\\Users\\hazel\\anaconda3\\Lib\\site-packages\\sklearn\\model_selection\\_search.py:909: DataConversionWarning: A column-vector y was passed when a 1d array was expected. Please change the shape of y to (n_samples,), for example using ravel().\n",
      "  self.best_estimator_.fit(X, y, **fit_params)\n",
      "C:\\Users\\hazel\\anaconda3\\Lib\\site-packages\\sklearn\\ensemble\\_forest.py:424: FutureWarning: `max_features='auto'` has been deprecated in 1.1 and will be removed in 1.3. To keep the past behaviour, explicitly set `max_features='sqrt'` or remove this parameter as it is also the default value for RandomForestClassifiers and ExtraTreesClassifiers.\n",
      "  warn(\n"
     ]
    },
    {
     "name": "stdout",
     "output_type": "stream",
     "text": [
      "Fitting 10 folds for each of 24 candidates, totalling 240 fits\n"
     ]
    },
    {
     "name": "stderr",
     "output_type": "stream",
     "text": [
      "C:\\Users\\hazel\\anaconda3\\Lib\\site-packages\\sklearn\\model_selection\\_search.py:909: DataConversionWarning: A column-vector y was passed when a 1d array was expected. Please change the shape of y to (n_samples,), for example using ravel().\n",
      "  self.best_estimator_.fit(X, y, **fit_params)\n"
     ]
    },
    {
     "data": {
      "text/html": [
       "<div>\n",
       "<style scoped>\n",
       "    .dataframe tbody tr th:only-of-type {\n",
       "        vertical-align: middle;\n",
       "    }\n",
       "\n",
       "    .dataframe tbody tr th {\n",
       "        vertical-align: top;\n",
       "    }\n",
       "\n",
       "    .dataframe thead th {\n",
       "        text-align: right;\n",
       "    }\n",
       "</style>\n",
       "<table border=\"1\" class=\"dataframe\">\n",
       "  <thead>\n",
       "    <tr style=\"text-align: right;\">\n",
       "      <th></th>\n",
       "      <th>Test Size</th>\n",
       "      <th>Random State</th>\n",
       "      <th>Accuracy</th>\n",
       "      <th>Precision</th>\n",
       "      <th>Recall</th>\n",
       "      <th>F1 Score</th>\n",
       "      <th>Best Param</th>\n",
       "    </tr>\n",
       "  </thead>\n",
       "  <tbody>\n",
       "    <tr>\n",
       "      <th>0</th>\n",
       "      <td>0.5</td>\n",
       "      <td>7</td>\n",
       "      <td>0.518634</td>\n",
       "      <td>0.491534</td>\n",
       "      <td>0.518634</td>\n",
       "      <td>0.493073</td>\n",
       "      <td>{'criterion': 'gini', 'max_features': 'sqrt', ...</td>\n",
       "    </tr>\n",
       "    <tr>\n",
       "      <th>1</th>\n",
       "      <td>0.5</td>\n",
       "      <td>69</td>\n",
       "      <td>0.524845</td>\n",
       "      <td>0.502111</td>\n",
       "      <td>0.524845</td>\n",
       "      <td>0.511194</td>\n",
       "      <td>{'criterion': 'entropy', 'max_features': 'auto...</td>\n",
       "    </tr>\n",
       "    <tr>\n",
       "      <th>2</th>\n",
       "      <td>0.5</td>\n",
       "      <td>101</td>\n",
       "      <td>0.534161</td>\n",
       "      <td>0.515782</td>\n",
       "      <td>0.534161</td>\n",
       "      <td>0.520856</td>\n",
       "      <td>{'criterion': 'entropy', 'max_features': 'log2...</td>\n",
       "    </tr>\n",
       "    <tr>\n",
       "      <th>3</th>\n",
       "      <td>0.4</td>\n",
       "      <td>7</td>\n",
       "      <td>0.502913</td>\n",
       "      <td>0.473022</td>\n",
       "      <td>0.502913</td>\n",
       "      <td>0.474061</td>\n",
       "      <td>{'criterion': 'gini', 'max_features': 'auto', ...</td>\n",
       "    </tr>\n",
       "    <tr>\n",
       "      <th>4</th>\n",
       "      <td>0.4</td>\n",
       "      <td>69</td>\n",
       "      <td>0.499029</td>\n",
       "      <td>0.470420</td>\n",
       "      <td>0.499029</td>\n",
       "      <td>0.481754</td>\n",
       "      <td>{'criterion': 'gini', 'max_features': 'sqrt', ...</td>\n",
       "    </tr>\n",
       "    <tr>\n",
       "      <th>5</th>\n",
       "      <td>0.4</td>\n",
       "      <td>101</td>\n",
       "      <td>0.543689</td>\n",
       "      <td>0.515909</td>\n",
       "      <td>0.543689</td>\n",
       "      <td>0.522924</td>\n",
       "      <td>{'criterion': 'entropy', 'max_features': 'auto...</td>\n",
       "    </tr>\n",
       "    <tr>\n",
       "      <th>6</th>\n",
       "      <td>0.3</td>\n",
       "      <td>7</td>\n",
       "      <td>0.490956</td>\n",
       "      <td>0.466142</td>\n",
       "      <td>0.490956</td>\n",
       "      <td>0.470434</td>\n",
       "      <td>{'criterion': 'entropy', 'max_features': 'auto...</td>\n",
       "    </tr>\n",
       "    <tr>\n",
       "      <th>7</th>\n",
       "      <td>0.3</td>\n",
       "      <td>69</td>\n",
       "      <td>0.540052</td>\n",
       "      <td>0.511017</td>\n",
       "      <td>0.540052</td>\n",
       "      <td>0.522371</td>\n",
       "      <td>{'criterion': 'entropy', 'max_features': 'auto...</td>\n",
       "    </tr>\n",
       "    <tr>\n",
       "      <th>8</th>\n",
       "      <td>0.3</td>\n",
       "      <td>101</td>\n",
       "      <td>0.503876</td>\n",
       "      <td>0.489541</td>\n",
       "      <td>0.503876</td>\n",
       "      <td>0.492318</td>\n",
       "      <td>{'criterion': 'entropy', 'max_features': 'auto...</td>\n",
       "    </tr>\n",
       "    <tr>\n",
       "      <th>9</th>\n",
       "      <td>0.2</td>\n",
       "      <td>7</td>\n",
       "      <td>0.534884</td>\n",
       "      <td>0.516260</td>\n",
       "      <td>0.534884</td>\n",
       "      <td>0.518896</td>\n",
       "      <td>{'criterion': 'entropy', 'max_features': 'auto...</td>\n",
       "    </tr>\n",
       "    <tr>\n",
       "      <th>10</th>\n",
       "      <td>0.2</td>\n",
       "      <td>69</td>\n",
       "      <td>0.546512</td>\n",
       "      <td>0.519544</td>\n",
       "      <td>0.546512</td>\n",
       "      <td>0.529640</td>\n",
       "      <td>{'criterion': 'entropy', 'max_features': 'auto...</td>\n",
       "    </tr>\n",
       "    <tr>\n",
       "      <th>11</th>\n",
       "      <td>0.2</td>\n",
       "      <td>101</td>\n",
       "      <td>0.523256</td>\n",
       "      <td>0.503277</td>\n",
       "      <td>0.523256</td>\n",
       "      <td>0.499013</td>\n",
       "      <td>{'criterion': 'gini', 'max_features': 'log2', ...</td>\n",
       "    </tr>\n",
       "  </tbody>\n",
       "</table>\n",
       "</div>"
      ],
      "text/plain": [
       "    Test Size  Random State  Accuracy  Precision    Recall  F1 Score  \\\n",
       "0         0.5             7  0.518634   0.491534  0.518634  0.493073   \n",
       "1         0.5            69  0.524845   0.502111  0.524845  0.511194   \n",
       "2         0.5           101  0.534161   0.515782  0.534161  0.520856   \n",
       "3         0.4             7  0.502913   0.473022  0.502913  0.474061   \n",
       "4         0.4            69  0.499029   0.470420  0.499029  0.481754   \n",
       "5         0.4           101  0.543689   0.515909  0.543689  0.522924   \n",
       "6         0.3             7  0.490956   0.466142  0.490956  0.470434   \n",
       "7         0.3            69  0.540052   0.511017  0.540052  0.522371   \n",
       "8         0.3           101  0.503876   0.489541  0.503876  0.492318   \n",
       "9         0.2             7  0.534884   0.516260  0.534884  0.518896   \n",
       "10        0.2            69  0.546512   0.519544  0.546512  0.529640   \n",
       "11        0.2           101  0.523256   0.503277  0.523256  0.499013   \n",
       "\n",
       "                                           Best Param  \n",
       "0   {'criterion': 'gini', 'max_features': 'sqrt', ...  \n",
       "1   {'criterion': 'entropy', 'max_features': 'auto...  \n",
       "2   {'criterion': 'entropy', 'max_features': 'log2...  \n",
       "3   {'criterion': 'gini', 'max_features': 'auto', ...  \n",
       "4   {'criterion': 'gini', 'max_features': 'sqrt', ...  \n",
       "5   {'criterion': 'entropy', 'max_features': 'auto...  \n",
       "6   {'criterion': 'entropy', 'max_features': 'auto...  \n",
       "7   {'criterion': 'entropy', 'max_features': 'auto...  \n",
       "8   {'criterion': 'entropy', 'max_features': 'auto...  \n",
       "9   {'criterion': 'entropy', 'max_features': 'auto...  \n",
       "10  {'criterion': 'entropy', 'max_features': 'auto...  \n",
       "11  {'criterion': 'gini', 'max_features': 'log2', ...  "
      ]
     },
     "execution_count": 67,
     "metadata": {},
     "output_type": "execute_result"
    }
   ],
   "source": [
    "temp5L_SHG_imb = []\n",
    "\n",
    "y = merge_5L_imb[['CGPA']]\n",
    "X = merge_5L_imb[['Number of Subjects Failed','SPM Result (A)','SPM Result (B)','SPM Result (C)']]\n",
    "\n",
    "print(\"X:\", X.shape,\"y:\", y.shape)\n",
    "\n",
    "for i in [0.5,0.4,0.3,0.2]:\n",
    "    for j in rand_states:\n",
    "        X_train, X_test, y_train, y_test = train_test_split(X, y, test_size=i, random_state=j)\n",
    "        param_grid = {'n_estimators': [100, 200, 300, 400],\n",
    "                      'max_features': ['auto', 'sqrt', 'log2'],\n",
    "                      'criterion' :['gini', 'entropy']}\n",
    "\n",
    "        model = GridSearchCV(RandomForestClassifier(), param_grid, refit=True, n_jobs=-1, cv=10, verbose=1)\n",
    "        model.fit(X_train, y_train)\n",
    "        pred = model.predict(X_test)\n",
    "\n",
    "        acc = accuracy_score(y_test,pred)\n",
    "        pre = precision_score(y_test, pred, average='weighted')\n",
    "        recall = recall_score(y_test, pred, average='weighted')\n",
    "        f1 = f1_score(y_test, pred, average='weighted')\n",
    "        param = model.best_params_\n",
    "        \n",
    "        temp5L_SHG_imb.append([i,j,acc,pre,recall,f1,param])\n",
    "        \n",
    "df5L_SHG_imb = pd.DataFrame(columns=['Test Size','Random State','Accuracy','Precision','Recall','F1 Score','Best Param'],data=temp5L_SHG_imb)\n",
    "df5L_SHG_imb"
   ]
  },
  {
   "cell_type": "code",
   "execution_count": 68,
   "id": "d4228659-248f-42c7-a849-11eb9bbdbe8f",
   "metadata": {},
   "outputs": [
    {
     "data": {
      "text/html": [
       "<div>\n",
       "<style scoped>\n",
       "    .dataframe tbody tr th:only-of-type {\n",
       "        vertical-align: middle;\n",
       "    }\n",
       "\n",
       "    .dataframe tbody tr th {\n",
       "        vertical-align: top;\n",
       "    }\n",
       "\n",
       "    .dataframe thead th {\n",
       "        text-align: right;\n",
       "    }\n",
       "</style>\n",
       "<table border=\"1\" class=\"dataframe\">\n",
       "  <thead>\n",
       "    <tr style=\"text-align: right;\">\n",
       "      <th></th>\n",
       "      <th>Accuracy</th>\n",
       "      <th>Precision</th>\n",
       "      <th>Recall</th>\n",
       "      <th>F1 Score</th>\n",
       "    </tr>\n",
       "    <tr>\n",
       "      <th>Test Size</th>\n",
       "      <th></th>\n",
       "      <th></th>\n",
       "      <th></th>\n",
       "      <th></th>\n",
       "    </tr>\n",
       "  </thead>\n",
       "  <tbody>\n",
       "    <tr>\n",
       "      <th>0.2</th>\n",
       "      <td>0.534884</td>\n",
       "      <td>0.513027</td>\n",
       "      <td>0.534884</td>\n",
       "      <td>0.515850</td>\n",
       "    </tr>\n",
       "    <tr>\n",
       "      <th>0.3</th>\n",
       "      <td>0.511628</td>\n",
       "      <td>0.488900</td>\n",
       "      <td>0.511628</td>\n",
       "      <td>0.495041</td>\n",
       "    </tr>\n",
       "    <tr>\n",
       "      <th>0.4</th>\n",
       "      <td>0.515210</td>\n",
       "      <td>0.486450</td>\n",
       "      <td>0.515210</td>\n",
       "      <td>0.492913</td>\n",
       "    </tr>\n",
       "    <tr>\n",
       "      <th>0.5</th>\n",
       "      <td>0.525880</td>\n",
       "      <td>0.503142</td>\n",
       "      <td>0.525880</td>\n",
       "      <td>0.508374</td>\n",
       "    </tr>\n",
       "  </tbody>\n",
       "</table>\n",
       "</div>"
      ],
      "text/plain": [
       "           Accuracy  Precision    Recall  F1 Score\n",
       "Test Size                                         \n",
       "0.2        0.534884   0.513027  0.534884  0.515850\n",
       "0.3        0.511628   0.488900  0.511628  0.495041\n",
       "0.4        0.515210   0.486450  0.515210  0.492913\n",
       "0.5        0.525880   0.503142  0.525880  0.508374"
      ]
     },
     "execution_count": 68,
     "metadata": {},
     "output_type": "execute_result"
    }
   ],
   "source": [
    "df5L_SHG_imb.groupby('Test Size')[['Accuracy','Precision','Recall','F1 Score']].mean()"
   ]
  },
  {
   "cell_type": "code",
   "execution_count": 69,
   "id": "3b215fec-3044-4dfb-b115-968f6e77d46b",
   "metadata": {},
   "outputs": [
    {
     "name": "stdout",
     "output_type": "stream",
     "text": [
      "Imbalance 5-Level: Student History Grades\n",
      "\n",
      "{'criterion': 'gini', 'max_features': 'sqrt', 'n_estimators': 400}\n",
      "{'criterion': 'entropy', 'max_features': 'auto', 'n_estimators': 200}\n",
      "{'criterion': 'entropy', 'max_features': 'log2', 'n_estimators': 100}\n",
      "{'criterion': 'gini', 'max_features': 'auto', 'n_estimators': 100}\n",
      "{'criterion': 'gini', 'max_features': 'sqrt', 'n_estimators': 300}\n",
      "{'criterion': 'entropy', 'max_features': 'auto', 'n_estimators': 300}\n",
      "{'criterion': 'entropy', 'max_features': 'auto', 'n_estimators': 100}\n",
      "{'criterion': 'entropy', 'max_features': 'auto', 'n_estimators': 400}\n",
      "{'criterion': 'entropy', 'max_features': 'auto', 'n_estimators': 300}\n",
      "{'criterion': 'entropy', 'max_features': 'auto', 'n_estimators': 400}\n",
      "{'criterion': 'entropy', 'max_features': 'auto', 'n_estimators': 400}\n",
      "{'criterion': 'gini', 'max_features': 'log2', 'n_estimators': 400}\n"
     ]
    }
   ],
   "source": [
    "print(\"Imbalance 5-Level: Student History Grades\\n\")\n",
    "for x in df5L_SHG_imb[\"Best Param\"]:\n",
    "    print(x)"
   ]
  },
  {
   "cell_type": "markdown",
   "id": "b85db94a-f6a9-4a7e-ad70-c15a76e530f4",
   "metadata": {},
   "source": [
    "### SHG after RandomOverSampler"
   ]
  },
  {
   "cell_type": "code",
   "execution_count": 70,
   "id": "0d4620aa-9203-4cdb-bbb7-dfd29e59c6aa",
   "metadata": {},
   "outputs": [
    {
     "name": "stdout",
     "output_type": "stream",
     "text": [
      "X: (3085, 4) y: (3085, 1)\n",
      "Fitting 10 folds for each of 24 candidates, totalling 240 fits\n"
     ]
    },
    {
     "name": "stderr",
     "output_type": "stream",
     "text": [
      "C:\\Users\\hazel\\anaconda3\\Lib\\site-packages\\sklearn\\model_selection\\_search.py:909: DataConversionWarning: A column-vector y was passed when a 1d array was expected. Please change the shape of y to (n_samples,), for example using ravel().\n",
      "  self.best_estimator_.fit(X, y, **fit_params)\n",
      "C:\\Users\\hazel\\anaconda3\\Lib\\site-packages\\sklearn\\ensemble\\_forest.py:424: FutureWarning: `max_features='auto'` has been deprecated in 1.1 and will be removed in 1.3. To keep the past behaviour, explicitly set `max_features='sqrt'` or remove this parameter as it is also the default value for RandomForestClassifiers and ExtraTreesClassifiers.\n",
      "  warn(\n"
     ]
    },
    {
     "name": "stdout",
     "output_type": "stream",
     "text": [
      "Fitting 10 folds for each of 24 candidates, totalling 240 fits\n"
     ]
    },
    {
     "name": "stderr",
     "output_type": "stream",
     "text": [
      "C:\\Users\\hazel\\anaconda3\\Lib\\site-packages\\sklearn\\model_selection\\_search.py:909: DataConversionWarning: A column-vector y was passed when a 1d array was expected. Please change the shape of y to (n_samples,), for example using ravel().\n",
      "  self.best_estimator_.fit(X, y, **fit_params)\n",
      "C:\\Users\\hazel\\anaconda3\\Lib\\site-packages\\sklearn\\ensemble\\_forest.py:424: FutureWarning: `max_features='auto'` has been deprecated in 1.1 and will be removed in 1.3. To keep the past behaviour, explicitly set `max_features='sqrt'` or remove this parameter as it is also the default value for RandomForestClassifiers and ExtraTreesClassifiers.\n",
      "  warn(\n"
     ]
    },
    {
     "name": "stdout",
     "output_type": "stream",
     "text": [
      "Fitting 10 folds for each of 24 candidates, totalling 240 fits\n"
     ]
    },
    {
     "name": "stderr",
     "output_type": "stream",
     "text": [
      "C:\\Users\\hazel\\anaconda3\\Lib\\site-packages\\sklearn\\model_selection\\_search.py:909: DataConversionWarning: A column-vector y was passed when a 1d array was expected. Please change the shape of y to (n_samples,), for example using ravel().\n",
      "  self.best_estimator_.fit(X, y, **fit_params)\n",
      "C:\\Users\\hazel\\anaconda3\\Lib\\site-packages\\sklearn\\ensemble\\_forest.py:424: FutureWarning: `max_features='auto'` has been deprecated in 1.1 and will be removed in 1.3. To keep the past behaviour, explicitly set `max_features='sqrt'` or remove this parameter as it is also the default value for RandomForestClassifiers and ExtraTreesClassifiers.\n",
      "  warn(\n"
     ]
    },
    {
     "name": "stdout",
     "output_type": "stream",
     "text": [
      "Fitting 10 folds for each of 24 candidates, totalling 240 fits\n"
     ]
    },
    {
     "name": "stderr",
     "output_type": "stream",
     "text": [
      "C:\\Users\\hazel\\anaconda3\\Lib\\site-packages\\sklearn\\model_selection\\_search.py:909: DataConversionWarning: A column-vector y was passed when a 1d array was expected. Please change the shape of y to (n_samples,), for example using ravel().\n",
      "  self.best_estimator_.fit(X, y, **fit_params)\n"
     ]
    },
    {
     "name": "stdout",
     "output_type": "stream",
     "text": [
      "Fitting 10 folds for each of 24 candidates, totalling 240 fits\n"
     ]
    },
    {
     "name": "stderr",
     "output_type": "stream",
     "text": [
      "C:\\Users\\hazel\\anaconda3\\Lib\\site-packages\\sklearn\\model_selection\\_search.py:909: DataConversionWarning: A column-vector y was passed when a 1d array was expected. Please change the shape of y to (n_samples,), for example using ravel().\n",
      "  self.best_estimator_.fit(X, y, **fit_params)\n"
     ]
    },
    {
     "name": "stdout",
     "output_type": "stream",
     "text": [
      "Fitting 10 folds for each of 24 candidates, totalling 240 fits\n"
     ]
    },
    {
     "name": "stderr",
     "output_type": "stream",
     "text": [
      "C:\\Users\\hazel\\anaconda3\\Lib\\site-packages\\sklearn\\model_selection\\_search.py:909: DataConversionWarning: A column-vector y was passed when a 1d array was expected. Please change the shape of y to (n_samples,), for example using ravel().\n",
      "  self.best_estimator_.fit(X, y, **fit_params)\n"
     ]
    },
    {
     "name": "stdout",
     "output_type": "stream",
     "text": [
      "Fitting 10 folds for each of 24 candidates, totalling 240 fits\n"
     ]
    },
    {
     "name": "stderr",
     "output_type": "stream",
     "text": [
      "C:\\Users\\hazel\\anaconda3\\Lib\\site-packages\\sklearn\\model_selection\\_search.py:909: DataConversionWarning: A column-vector y was passed when a 1d array was expected. Please change the shape of y to (n_samples,), for example using ravel().\n",
      "  self.best_estimator_.fit(X, y, **fit_params)\n"
     ]
    },
    {
     "name": "stdout",
     "output_type": "stream",
     "text": [
      "Fitting 10 folds for each of 24 candidates, totalling 240 fits\n"
     ]
    },
    {
     "name": "stderr",
     "output_type": "stream",
     "text": [
      "C:\\Users\\hazel\\anaconda3\\Lib\\site-packages\\sklearn\\model_selection\\_search.py:909: DataConversionWarning: A column-vector y was passed when a 1d array was expected. Please change the shape of y to (n_samples,), for example using ravel().\n",
      "  self.best_estimator_.fit(X, y, **fit_params)\n",
      "C:\\Users\\hazel\\anaconda3\\Lib\\site-packages\\sklearn\\ensemble\\_forest.py:424: FutureWarning: `max_features='auto'` has been deprecated in 1.1 and will be removed in 1.3. To keep the past behaviour, explicitly set `max_features='sqrt'` or remove this parameter as it is also the default value for RandomForestClassifiers and ExtraTreesClassifiers.\n",
      "  warn(\n"
     ]
    },
    {
     "name": "stdout",
     "output_type": "stream",
     "text": [
      "Fitting 10 folds for each of 24 candidates, totalling 240 fits\n"
     ]
    },
    {
     "name": "stderr",
     "output_type": "stream",
     "text": [
      "C:\\Users\\hazel\\anaconda3\\Lib\\site-packages\\sklearn\\model_selection\\_search.py:909: DataConversionWarning: A column-vector y was passed when a 1d array was expected. Please change the shape of y to (n_samples,), for example using ravel().\n",
      "  self.best_estimator_.fit(X, y, **fit_params)\n",
      "C:\\Users\\hazel\\anaconda3\\Lib\\site-packages\\sklearn\\ensemble\\_forest.py:424: FutureWarning: `max_features='auto'` has been deprecated in 1.1 and will be removed in 1.3. To keep the past behaviour, explicitly set `max_features='sqrt'` or remove this parameter as it is also the default value for RandomForestClassifiers and ExtraTreesClassifiers.\n",
      "  warn(\n"
     ]
    },
    {
     "name": "stdout",
     "output_type": "stream",
     "text": [
      "Fitting 10 folds for each of 24 candidates, totalling 240 fits\n"
     ]
    },
    {
     "name": "stderr",
     "output_type": "stream",
     "text": [
      "C:\\Users\\hazel\\anaconda3\\Lib\\site-packages\\sklearn\\model_selection\\_search.py:909: DataConversionWarning: A column-vector y was passed when a 1d array was expected. Please change the shape of y to (n_samples,), for example using ravel().\n",
      "  self.best_estimator_.fit(X, y, **fit_params)\n"
     ]
    },
    {
     "name": "stdout",
     "output_type": "stream",
     "text": [
      "Fitting 10 folds for each of 24 candidates, totalling 240 fits\n"
     ]
    },
    {
     "name": "stderr",
     "output_type": "stream",
     "text": [
      "C:\\Users\\hazel\\anaconda3\\Lib\\site-packages\\sklearn\\model_selection\\_search.py:909: DataConversionWarning: A column-vector y was passed when a 1d array was expected. Please change the shape of y to (n_samples,), for example using ravel().\n",
      "  self.best_estimator_.fit(X, y, **fit_params)\n"
     ]
    },
    {
     "name": "stdout",
     "output_type": "stream",
     "text": [
      "Fitting 10 folds for each of 24 candidates, totalling 240 fits\n"
     ]
    },
    {
     "name": "stderr",
     "output_type": "stream",
     "text": [
      "C:\\Users\\hazel\\anaconda3\\Lib\\site-packages\\sklearn\\model_selection\\_search.py:909: DataConversionWarning: A column-vector y was passed when a 1d array was expected. Please change the shape of y to (n_samples,), for example using ravel().\n",
      "  self.best_estimator_.fit(X, y, **fit_params)\n"
     ]
    },
    {
     "data": {
      "text/html": [
       "<div>\n",
       "<style scoped>\n",
       "    .dataframe tbody tr th:only-of-type {\n",
       "        vertical-align: middle;\n",
       "    }\n",
       "\n",
       "    .dataframe tbody tr th {\n",
       "        vertical-align: top;\n",
       "    }\n",
       "\n",
       "    .dataframe thead th {\n",
       "        text-align: right;\n",
       "    }\n",
       "</style>\n",
       "<table border=\"1\" class=\"dataframe\">\n",
       "  <thead>\n",
       "    <tr style=\"text-align: right;\">\n",
       "      <th></th>\n",
       "      <th>Test Size</th>\n",
       "      <th>Random State</th>\n",
       "      <th>Accuracy</th>\n",
       "      <th>Precision</th>\n",
       "      <th>Recall</th>\n",
       "      <th>F1 Score</th>\n",
       "      <th>Best Param</th>\n",
       "    </tr>\n",
       "  </thead>\n",
       "  <tbody>\n",
       "    <tr>\n",
       "      <th>0</th>\n",
       "      <td>0.5</td>\n",
       "      <td>7</td>\n",
       "      <td>0.675308</td>\n",
       "      <td>0.668609</td>\n",
       "      <td>0.675308</td>\n",
       "      <td>0.665690</td>\n",
       "      <td>{'criterion': 'gini', 'max_features': 'auto', ...</td>\n",
       "    </tr>\n",
       "    <tr>\n",
       "      <th>1</th>\n",
       "      <td>0.5</td>\n",
       "      <td>69</td>\n",
       "      <td>0.675308</td>\n",
       "      <td>0.667888</td>\n",
       "      <td>0.675308</td>\n",
       "      <td>0.664500</td>\n",
       "      <td>{'criterion': 'gini', 'max_features': 'auto', ...</td>\n",
       "    </tr>\n",
       "    <tr>\n",
       "      <th>2</th>\n",
       "      <td>0.5</td>\n",
       "      <td>101</td>\n",
       "      <td>0.665587</td>\n",
       "      <td>0.660738</td>\n",
       "      <td>0.665587</td>\n",
       "      <td>0.654819</td>\n",
       "      <td>{'criterion': 'gini', 'max_features': 'auto', ...</td>\n",
       "    </tr>\n",
       "    <tr>\n",
       "      <th>3</th>\n",
       "      <td>0.4</td>\n",
       "      <td>7</td>\n",
       "      <td>0.696110</td>\n",
       "      <td>0.692792</td>\n",
       "      <td>0.696110</td>\n",
       "      <td>0.686460</td>\n",
       "      <td>{'criterion': 'entropy', 'max_features': 'log2...</td>\n",
       "    </tr>\n",
       "    <tr>\n",
       "      <th>4</th>\n",
       "      <td>0.4</td>\n",
       "      <td>69</td>\n",
       "      <td>0.677472</td>\n",
       "      <td>0.670252</td>\n",
       "      <td>0.677472</td>\n",
       "      <td>0.664380</td>\n",
       "      <td>{'criterion': 'gini', 'max_features': 'sqrt', ...</td>\n",
       "    </tr>\n",
       "    <tr>\n",
       "      <th>5</th>\n",
       "      <td>0.4</td>\n",
       "      <td>101</td>\n",
       "      <td>0.658023</td>\n",
       "      <td>0.656519</td>\n",
       "      <td>0.658023</td>\n",
       "      <td>0.647892</td>\n",
       "      <td>{'criterion': 'gini', 'max_features': 'sqrt', ...</td>\n",
       "    </tr>\n",
       "    <tr>\n",
       "      <th>6</th>\n",
       "      <td>0.3</td>\n",
       "      <td>7</td>\n",
       "      <td>0.698704</td>\n",
       "      <td>0.697482</td>\n",
       "      <td>0.698704</td>\n",
       "      <td>0.689998</td>\n",
       "      <td>{'criterion': 'entropy', 'max_features': 'log2...</td>\n",
       "    </tr>\n",
       "    <tr>\n",
       "      <th>7</th>\n",
       "      <td>0.3</td>\n",
       "      <td>69</td>\n",
       "      <td>0.697624</td>\n",
       "      <td>0.695626</td>\n",
       "      <td>0.697624</td>\n",
       "      <td>0.686856</td>\n",
       "      <td>{'criterion': 'gini', 'max_features': 'auto', ...</td>\n",
       "    </tr>\n",
       "    <tr>\n",
       "      <th>8</th>\n",
       "      <td>0.3</td>\n",
       "      <td>101</td>\n",
       "      <td>0.652268</td>\n",
       "      <td>0.658822</td>\n",
       "      <td>0.652268</td>\n",
       "      <td>0.645573</td>\n",
       "      <td>{'criterion': 'entropy', 'max_features': 'auto...</td>\n",
       "    </tr>\n",
       "    <tr>\n",
       "      <th>9</th>\n",
       "      <td>0.2</td>\n",
       "      <td>7</td>\n",
       "      <td>0.721232</td>\n",
       "      <td>0.721089</td>\n",
       "      <td>0.721232</td>\n",
       "      <td>0.712966</td>\n",
       "      <td>{'criterion': 'gini', 'max_features': 'sqrt', ...</td>\n",
       "    </tr>\n",
       "    <tr>\n",
       "      <th>10</th>\n",
       "      <td>0.2</td>\n",
       "      <td>69</td>\n",
       "      <td>0.672609</td>\n",
       "      <td>0.661183</td>\n",
       "      <td>0.672609</td>\n",
       "      <td>0.659162</td>\n",
       "      <td>{'criterion': 'gini', 'max_features': 'log2', ...</td>\n",
       "    </tr>\n",
       "    <tr>\n",
       "      <th>11</th>\n",
       "      <td>0.2</td>\n",
       "      <td>101</td>\n",
       "      <td>0.672609</td>\n",
       "      <td>0.678931</td>\n",
       "      <td>0.672609</td>\n",
       "      <td>0.664969</td>\n",
       "      <td>{'criterion': 'entropy', 'max_features': 'log2...</td>\n",
       "    </tr>\n",
       "  </tbody>\n",
       "</table>\n",
       "</div>"
      ],
      "text/plain": [
       "    Test Size  Random State  Accuracy  Precision    Recall  F1 Score  \\\n",
       "0         0.5             7  0.675308   0.668609  0.675308  0.665690   \n",
       "1         0.5            69  0.675308   0.667888  0.675308  0.664500   \n",
       "2         0.5           101  0.665587   0.660738  0.665587  0.654819   \n",
       "3         0.4             7  0.696110   0.692792  0.696110  0.686460   \n",
       "4         0.4            69  0.677472   0.670252  0.677472  0.664380   \n",
       "5         0.4           101  0.658023   0.656519  0.658023  0.647892   \n",
       "6         0.3             7  0.698704   0.697482  0.698704  0.689998   \n",
       "7         0.3            69  0.697624   0.695626  0.697624  0.686856   \n",
       "8         0.3           101  0.652268   0.658822  0.652268  0.645573   \n",
       "9         0.2             7  0.721232   0.721089  0.721232  0.712966   \n",
       "10        0.2            69  0.672609   0.661183  0.672609  0.659162   \n",
       "11        0.2           101  0.672609   0.678931  0.672609  0.664969   \n",
       "\n",
       "                                           Best Param  \n",
       "0   {'criterion': 'gini', 'max_features': 'auto', ...  \n",
       "1   {'criterion': 'gini', 'max_features': 'auto', ...  \n",
       "2   {'criterion': 'gini', 'max_features': 'auto', ...  \n",
       "3   {'criterion': 'entropy', 'max_features': 'log2...  \n",
       "4   {'criterion': 'gini', 'max_features': 'sqrt', ...  \n",
       "5   {'criterion': 'gini', 'max_features': 'sqrt', ...  \n",
       "6   {'criterion': 'entropy', 'max_features': 'log2...  \n",
       "7   {'criterion': 'gini', 'max_features': 'auto', ...  \n",
       "8   {'criterion': 'entropy', 'max_features': 'auto...  \n",
       "9   {'criterion': 'gini', 'max_features': 'sqrt', ...  \n",
       "10  {'criterion': 'gini', 'max_features': 'log2', ...  \n",
       "11  {'criterion': 'entropy', 'max_features': 'log2...  "
      ]
     },
     "execution_count": 70,
     "metadata": {},
     "output_type": "execute_result"
    }
   ],
   "source": [
    "temp5L_SHG_ROS = []\n",
    "\n",
    "y = merge_5L_ROS[['CGPA']]\n",
    "X = merge_5L_ROS[['Number of Subjects Failed','SPM Result (A)','SPM Result (B)','SPM Result (C)']]\n",
    "\n",
    "print(\"X:\", X.shape,\"y:\", y.shape)\n",
    "\n",
    "for i in [0.5,0.4,0.3,0.2]:\n",
    "    for j in rand_states:\n",
    "        X_train, X_test, y_train, y_test = train_test_split(X, y, test_size=i, random_state=j)\n",
    "        param_grid = {'n_estimators': [100, 200, 300, 400],\n",
    "                      'max_features': ['auto', 'sqrt', 'log2'],\n",
    "                      'criterion' :['gini', 'entropy']}\n",
    "\n",
    "        model = GridSearchCV(RandomForestClassifier(), param_grid, refit=True, n_jobs=-1, cv=10, verbose=1)\n",
    "        model.fit(X_train, y_train)\n",
    "        pred = model.predict(X_test)\n",
    "\n",
    "        acc = accuracy_score(y_test,pred)\n",
    "        pre = precision_score(y_test, pred, average='weighted')\n",
    "        recall = recall_score(y_test, pred, average='weighted')\n",
    "        f1 = f1_score(y_test, pred, average='weighted')\n",
    "        param = model.best_params_\n",
    "        \n",
    "        temp5L_SHG_ROS.append([i,j,acc,pre,recall,f1,param])\n",
    "        \n",
    "df5L_SHG_ROS = pd.DataFrame(columns=['Test Size','Random State','Accuracy','Precision','Recall','F1 Score','Best Param'],data=temp5L_SHG_ROS)\n",
    "df5L_SHG_ROS"
   ]
  },
  {
   "cell_type": "code",
   "execution_count": 71,
   "id": "c977c39b-1f73-4242-b3d1-7be8a3699081",
   "metadata": {},
   "outputs": [
    {
     "data": {
      "text/html": [
       "<div>\n",
       "<style scoped>\n",
       "    .dataframe tbody tr th:only-of-type {\n",
       "        vertical-align: middle;\n",
       "    }\n",
       "\n",
       "    .dataframe tbody tr th {\n",
       "        vertical-align: top;\n",
       "    }\n",
       "\n",
       "    .dataframe thead th {\n",
       "        text-align: right;\n",
       "    }\n",
       "</style>\n",
       "<table border=\"1\" class=\"dataframe\">\n",
       "  <thead>\n",
       "    <tr style=\"text-align: right;\">\n",
       "      <th></th>\n",
       "      <th>Accuracy</th>\n",
       "      <th>Precision</th>\n",
       "      <th>Recall</th>\n",
       "      <th>F1 Score</th>\n",
       "    </tr>\n",
       "    <tr>\n",
       "      <th>Test Size</th>\n",
       "      <th></th>\n",
       "      <th></th>\n",
       "      <th></th>\n",
       "      <th></th>\n",
       "    </tr>\n",
       "  </thead>\n",
       "  <tbody>\n",
       "    <tr>\n",
       "      <th>0.2</th>\n",
       "      <td>0.688817</td>\n",
       "      <td>0.687068</td>\n",
       "      <td>0.688817</td>\n",
       "      <td>0.679032</td>\n",
       "    </tr>\n",
       "    <tr>\n",
       "      <th>0.3</th>\n",
       "      <td>0.682865</td>\n",
       "      <td>0.683977</td>\n",
       "      <td>0.682865</td>\n",
       "      <td>0.674142</td>\n",
       "    </tr>\n",
       "    <tr>\n",
       "      <th>0.4</th>\n",
       "      <td>0.677202</td>\n",
       "      <td>0.673188</td>\n",
       "      <td>0.677202</td>\n",
       "      <td>0.666244</td>\n",
       "    </tr>\n",
       "    <tr>\n",
       "      <th>0.5</th>\n",
       "      <td>0.672067</td>\n",
       "      <td>0.665745</td>\n",
       "      <td>0.672067</td>\n",
       "      <td>0.661670</td>\n",
       "    </tr>\n",
       "  </tbody>\n",
       "</table>\n",
       "</div>"
      ],
      "text/plain": [
       "           Accuracy  Precision    Recall  F1 Score\n",
       "Test Size                                         \n",
       "0.2        0.688817   0.687068  0.688817  0.679032\n",
       "0.3        0.682865   0.683977  0.682865  0.674142\n",
       "0.4        0.677202   0.673188  0.677202  0.666244\n",
       "0.5        0.672067   0.665745  0.672067  0.661670"
      ]
     },
     "execution_count": 71,
     "metadata": {},
     "output_type": "execute_result"
    }
   ],
   "source": [
    "df5L_SHG_ROS.groupby('Test Size')[['Accuracy','Precision','Recall','F1 Score']].mean()"
   ]
  },
  {
   "cell_type": "code",
   "execution_count": 72,
   "id": "4473c541-1ccb-4627-82e2-9408c1e24ca1",
   "metadata": {},
   "outputs": [
    {
     "name": "stdout",
     "output_type": "stream",
     "text": [
      "5-Level: Student History Grades\n",
      "\n",
      "{'criterion': 'gini', 'max_features': 'auto', 'n_estimators': 100}\n",
      "{'criterion': 'gini', 'max_features': 'auto', 'n_estimators': 400}\n",
      "{'criterion': 'gini', 'max_features': 'auto', 'n_estimators': 200}\n",
      "{'criterion': 'entropy', 'max_features': 'log2', 'n_estimators': 400}\n",
      "{'criterion': 'gini', 'max_features': 'sqrt', 'n_estimators': 300}\n",
      "{'criterion': 'gini', 'max_features': 'sqrt', 'n_estimators': 100}\n",
      "{'criterion': 'entropy', 'max_features': 'log2', 'n_estimators': 200}\n",
      "{'criterion': 'gini', 'max_features': 'auto', 'n_estimators': 100}\n",
      "{'criterion': 'entropy', 'max_features': 'auto', 'n_estimators': 300}\n",
      "{'criterion': 'gini', 'max_features': 'sqrt', 'n_estimators': 300}\n",
      "{'criterion': 'gini', 'max_features': 'log2', 'n_estimators': 100}\n",
      "{'criterion': 'entropy', 'max_features': 'log2', 'n_estimators': 400}\n"
     ]
    }
   ],
   "source": [
    "print(\"5-Level: Student History Grades\\n\")\n",
    "for x in df5L_SHG_ROS[\"Best Param\"]:\n",
    "    print(x)"
   ]
  },
  {
   "cell_type": "markdown",
   "id": "9b0e410e-78e9-4034-8b04-b9a9559702f9",
   "metadata": {},
   "source": [
    "### SHG after SMOTE"
   ]
  },
  {
   "cell_type": "code",
   "execution_count": 73,
   "id": "75595824-0b06-406c-a4d6-b76bd853cfee",
   "metadata": {},
   "outputs": [
    {
     "name": "stdout",
     "output_type": "stream",
     "text": [
      "X: (3085, 4) y: (3085, 1)\n",
      "Fitting 10 folds for each of 24 candidates, totalling 240 fits\n"
     ]
    },
    {
     "name": "stderr",
     "output_type": "stream",
     "text": [
      "C:\\Users\\hazel\\anaconda3\\Lib\\site-packages\\sklearn\\model_selection\\_search.py:909: DataConversionWarning: A column-vector y was passed when a 1d array was expected. Please change the shape of y to (n_samples,), for example using ravel().\n",
      "  self.best_estimator_.fit(X, y, **fit_params)\n"
     ]
    },
    {
     "name": "stdout",
     "output_type": "stream",
     "text": [
      "Fitting 10 folds for each of 24 candidates, totalling 240 fits\n"
     ]
    },
    {
     "name": "stderr",
     "output_type": "stream",
     "text": [
      "C:\\Users\\hazel\\anaconda3\\Lib\\site-packages\\sklearn\\model_selection\\_search.py:909: DataConversionWarning: A column-vector y was passed when a 1d array was expected. Please change the shape of y to (n_samples,), for example using ravel().\n",
      "  self.best_estimator_.fit(X, y, **fit_params)\n",
      "C:\\Users\\hazel\\anaconda3\\Lib\\site-packages\\sklearn\\ensemble\\_forest.py:424: FutureWarning: `max_features='auto'` has been deprecated in 1.1 and will be removed in 1.3. To keep the past behaviour, explicitly set `max_features='sqrt'` or remove this parameter as it is also the default value for RandomForestClassifiers and ExtraTreesClassifiers.\n",
      "  warn(\n"
     ]
    },
    {
     "name": "stdout",
     "output_type": "stream",
     "text": [
      "Fitting 10 folds for each of 24 candidates, totalling 240 fits\n"
     ]
    },
    {
     "name": "stderr",
     "output_type": "stream",
     "text": [
      "C:\\Users\\hazel\\anaconda3\\Lib\\site-packages\\sklearn\\model_selection\\_search.py:909: DataConversionWarning: A column-vector y was passed when a 1d array was expected. Please change the shape of y to (n_samples,), for example using ravel().\n",
      "  self.best_estimator_.fit(X, y, **fit_params)\n"
     ]
    },
    {
     "name": "stdout",
     "output_type": "stream",
     "text": [
      "Fitting 10 folds for each of 24 candidates, totalling 240 fits\n"
     ]
    },
    {
     "name": "stderr",
     "output_type": "stream",
     "text": [
      "C:\\Users\\hazel\\anaconda3\\Lib\\site-packages\\sklearn\\model_selection\\_search.py:909: DataConversionWarning: A column-vector y was passed when a 1d array was expected. Please change the shape of y to (n_samples,), for example using ravel().\n",
      "  self.best_estimator_.fit(X, y, **fit_params)\n"
     ]
    },
    {
     "name": "stdout",
     "output_type": "stream",
     "text": [
      "Fitting 10 folds for each of 24 candidates, totalling 240 fits\n"
     ]
    },
    {
     "name": "stderr",
     "output_type": "stream",
     "text": [
      "C:\\Users\\hazel\\anaconda3\\Lib\\site-packages\\sklearn\\model_selection\\_search.py:909: DataConversionWarning: A column-vector y was passed when a 1d array was expected. Please change the shape of y to (n_samples,), for example using ravel().\n",
      "  self.best_estimator_.fit(X, y, **fit_params)\n"
     ]
    },
    {
     "name": "stdout",
     "output_type": "stream",
     "text": [
      "Fitting 10 folds for each of 24 candidates, totalling 240 fits\n"
     ]
    },
    {
     "name": "stderr",
     "output_type": "stream",
     "text": [
      "C:\\Users\\hazel\\anaconda3\\Lib\\site-packages\\sklearn\\model_selection\\_search.py:909: DataConversionWarning: A column-vector y was passed when a 1d array was expected. Please change the shape of y to (n_samples,), for example using ravel().\n",
      "  self.best_estimator_.fit(X, y, **fit_params)\n",
      "C:\\Users\\hazel\\anaconda3\\Lib\\site-packages\\sklearn\\ensemble\\_forest.py:424: FutureWarning: `max_features='auto'` has been deprecated in 1.1 and will be removed in 1.3. To keep the past behaviour, explicitly set `max_features='sqrt'` or remove this parameter as it is also the default value for RandomForestClassifiers and ExtraTreesClassifiers.\n",
      "  warn(\n"
     ]
    },
    {
     "name": "stdout",
     "output_type": "stream",
     "text": [
      "Fitting 10 folds for each of 24 candidates, totalling 240 fits\n"
     ]
    },
    {
     "name": "stderr",
     "output_type": "stream",
     "text": [
      "C:\\Users\\hazel\\anaconda3\\Lib\\site-packages\\sklearn\\model_selection\\_search.py:909: DataConversionWarning: A column-vector y was passed when a 1d array was expected. Please change the shape of y to (n_samples,), for example using ravel().\n",
      "  self.best_estimator_.fit(X, y, **fit_params)\n",
      "C:\\Users\\hazel\\anaconda3\\Lib\\site-packages\\sklearn\\ensemble\\_forest.py:424: FutureWarning: `max_features='auto'` has been deprecated in 1.1 and will be removed in 1.3. To keep the past behaviour, explicitly set `max_features='sqrt'` or remove this parameter as it is also the default value for RandomForestClassifiers and ExtraTreesClassifiers.\n",
      "  warn(\n"
     ]
    },
    {
     "name": "stdout",
     "output_type": "stream",
     "text": [
      "Fitting 10 folds for each of 24 candidates, totalling 240 fits\n"
     ]
    },
    {
     "name": "stderr",
     "output_type": "stream",
     "text": [
      "C:\\Users\\hazel\\anaconda3\\Lib\\site-packages\\sklearn\\model_selection\\_search.py:909: DataConversionWarning: A column-vector y was passed when a 1d array was expected. Please change the shape of y to (n_samples,), for example using ravel().\n",
      "  self.best_estimator_.fit(X, y, **fit_params)\n",
      "C:\\Users\\hazel\\anaconda3\\Lib\\site-packages\\sklearn\\ensemble\\_forest.py:424: FutureWarning: `max_features='auto'` has been deprecated in 1.1 and will be removed in 1.3. To keep the past behaviour, explicitly set `max_features='sqrt'` or remove this parameter as it is also the default value for RandomForestClassifiers and ExtraTreesClassifiers.\n",
      "  warn(\n"
     ]
    },
    {
     "name": "stdout",
     "output_type": "stream",
     "text": [
      "Fitting 10 folds for each of 24 candidates, totalling 240 fits\n"
     ]
    },
    {
     "name": "stderr",
     "output_type": "stream",
     "text": [
      "C:\\Users\\hazel\\anaconda3\\Lib\\site-packages\\sklearn\\model_selection\\_search.py:909: DataConversionWarning: A column-vector y was passed when a 1d array was expected. Please change the shape of y to (n_samples,), for example using ravel().\n",
      "  self.best_estimator_.fit(X, y, **fit_params)\n",
      "C:\\Users\\hazel\\anaconda3\\Lib\\site-packages\\sklearn\\ensemble\\_forest.py:424: FutureWarning: `max_features='auto'` has been deprecated in 1.1 and will be removed in 1.3. To keep the past behaviour, explicitly set `max_features='sqrt'` or remove this parameter as it is also the default value for RandomForestClassifiers and ExtraTreesClassifiers.\n",
      "  warn(\n"
     ]
    },
    {
     "name": "stdout",
     "output_type": "stream",
     "text": [
      "Fitting 10 folds for each of 24 candidates, totalling 240 fits\n"
     ]
    },
    {
     "name": "stderr",
     "output_type": "stream",
     "text": [
      "C:\\Users\\hazel\\anaconda3\\Lib\\site-packages\\sklearn\\model_selection\\_search.py:909: DataConversionWarning: A column-vector y was passed when a 1d array was expected. Please change the shape of y to (n_samples,), for example using ravel().\n",
      "  self.best_estimator_.fit(X, y, **fit_params)\n"
     ]
    },
    {
     "name": "stdout",
     "output_type": "stream",
     "text": [
      "Fitting 10 folds for each of 24 candidates, totalling 240 fits\n"
     ]
    },
    {
     "name": "stderr",
     "output_type": "stream",
     "text": [
      "C:\\Users\\hazel\\anaconda3\\Lib\\site-packages\\sklearn\\model_selection\\_search.py:909: DataConversionWarning: A column-vector y was passed when a 1d array was expected. Please change the shape of y to (n_samples,), for example using ravel().\n",
      "  self.best_estimator_.fit(X, y, **fit_params)\n",
      "C:\\Users\\hazel\\anaconda3\\Lib\\site-packages\\sklearn\\ensemble\\_forest.py:424: FutureWarning: `max_features='auto'` has been deprecated in 1.1 and will be removed in 1.3. To keep the past behaviour, explicitly set `max_features='sqrt'` or remove this parameter as it is also the default value for RandomForestClassifiers and ExtraTreesClassifiers.\n",
      "  warn(\n"
     ]
    },
    {
     "name": "stdout",
     "output_type": "stream",
     "text": [
      "Fitting 10 folds for each of 24 candidates, totalling 240 fits\n"
     ]
    },
    {
     "name": "stderr",
     "output_type": "stream",
     "text": [
      "C:\\Users\\hazel\\anaconda3\\Lib\\site-packages\\sklearn\\model_selection\\_search.py:909: DataConversionWarning: A column-vector y was passed when a 1d array was expected. Please change the shape of y to (n_samples,), for example using ravel().\n",
      "  self.best_estimator_.fit(X, y, **fit_params)\n"
     ]
    },
    {
     "data": {
      "text/html": [
       "<div>\n",
       "<style scoped>\n",
       "    .dataframe tbody tr th:only-of-type {\n",
       "        vertical-align: middle;\n",
       "    }\n",
       "\n",
       "    .dataframe tbody tr th {\n",
       "        vertical-align: top;\n",
       "    }\n",
       "\n",
       "    .dataframe thead th {\n",
       "        text-align: right;\n",
       "    }\n",
       "</style>\n",
       "<table border=\"1\" class=\"dataframe\">\n",
       "  <thead>\n",
       "    <tr style=\"text-align: right;\">\n",
       "      <th></th>\n",
       "      <th>Test Size</th>\n",
       "      <th>Random State</th>\n",
       "      <th>Accuracy</th>\n",
       "      <th>Precision</th>\n",
       "      <th>Recall</th>\n",
       "      <th>F1 Score</th>\n",
       "      <th>Best Param</th>\n",
       "    </tr>\n",
       "  </thead>\n",
       "  <tbody>\n",
       "    <tr>\n",
       "      <th>0</th>\n",
       "      <td>0.5</td>\n",
       "      <td>7</td>\n",
       "      <td>0.517822</td>\n",
       "      <td>0.505548</td>\n",
       "      <td>0.517822</td>\n",
       "      <td>0.507304</td>\n",
       "      <td>{'criterion': 'gini', 'max_features': 'log2', ...</td>\n",
       "    </tr>\n",
       "    <tr>\n",
       "      <th>1</th>\n",
       "      <td>0.5</td>\n",
       "      <td>69</td>\n",
       "      <td>0.521063</td>\n",
       "      <td>0.509519</td>\n",
       "      <td>0.521063</td>\n",
       "      <td>0.509245</td>\n",
       "      <td>{'criterion': 'gini', 'max_features': 'auto', ...</td>\n",
       "    </tr>\n",
       "    <tr>\n",
       "      <th>2</th>\n",
       "      <td>0.5</td>\n",
       "      <td>101</td>\n",
       "      <td>0.550875</td>\n",
       "      <td>0.533503</td>\n",
       "      <td>0.550875</td>\n",
       "      <td>0.536929</td>\n",
       "      <td>{'criterion': 'entropy', 'max_features': 'sqrt...</td>\n",
       "    </tr>\n",
       "    <tr>\n",
       "      <th>3</th>\n",
       "      <td>0.4</td>\n",
       "      <td>7</td>\n",
       "      <td>0.556726</td>\n",
       "      <td>0.546430</td>\n",
       "      <td>0.556726</td>\n",
       "      <td>0.544161</td>\n",
       "      <td>{'criterion': 'gini', 'max_features': 'log2', ...</td>\n",
       "    </tr>\n",
       "    <tr>\n",
       "      <th>4</th>\n",
       "      <td>0.4</td>\n",
       "      <td>69</td>\n",
       "      <td>0.512156</td>\n",
       "      <td>0.501292</td>\n",
       "      <td>0.512156</td>\n",
       "      <td>0.503772</td>\n",
       "      <td>{'criterion': 'gini', 'max_features': 'log2', ...</td>\n",
       "    </tr>\n",
       "    <tr>\n",
       "      <th>5</th>\n",
       "      <td>0.4</td>\n",
       "      <td>101</td>\n",
       "      <td>0.538898</td>\n",
       "      <td>0.520980</td>\n",
       "      <td>0.538898</td>\n",
       "      <td>0.521669</td>\n",
       "      <td>{'criterion': 'entropy', 'max_features': 'auto...</td>\n",
       "    </tr>\n",
       "    <tr>\n",
       "      <th>6</th>\n",
       "      <td>0.3</td>\n",
       "      <td>7</td>\n",
       "      <td>0.550756</td>\n",
       "      <td>0.539645</td>\n",
       "      <td>0.550756</td>\n",
       "      <td>0.533693</td>\n",
       "      <td>{'criterion': 'gini', 'max_features': 'auto', ...</td>\n",
       "    </tr>\n",
       "    <tr>\n",
       "      <th>7</th>\n",
       "      <td>0.3</td>\n",
       "      <td>69</td>\n",
       "      <td>0.525918</td>\n",
       "      <td>0.511419</td>\n",
       "      <td>0.525918</td>\n",
       "      <td>0.511747</td>\n",
       "      <td>{'criterion': 'entropy', 'max_features': 'auto...</td>\n",
       "    </tr>\n",
       "    <tr>\n",
       "      <th>8</th>\n",
       "      <td>0.3</td>\n",
       "      <td>101</td>\n",
       "      <td>0.530238</td>\n",
       "      <td>0.507328</td>\n",
       "      <td>0.530238</td>\n",
       "      <td>0.511012</td>\n",
       "      <td>{'criterion': 'entropy', 'max_features': 'auto...</td>\n",
       "    </tr>\n",
       "    <tr>\n",
       "      <th>9</th>\n",
       "      <td>0.2</td>\n",
       "      <td>7</td>\n",
       "      <td>0.568882</td>\n",
       "      <td>0.559619</td>\n",
       "      <td>0.568882</td>\n",
       "      <td>0.558243</td>\n",
       "      <td>{'criterion': 'entropy', 'max_features': 'sqrt...</td>\n",
       "    </tr>\n",
       "    <tr>\n",
       "      <th>10</th>\n",
       "      <td>0.2</td>\n",
       "      <td>69</td>\n",
       "      <td>0.554295</td>\n",
       "      <td>0.539901</td>\n",
       "      <td>0.554295</td>\n",
       "      <td>0.541687</td>\n",
       "      <td>{'criterion': 'gini', 'max_features': 'auto', ...</td>\n",
       "    </tr>\n",
       "    <tr>\n",
       "      <th>11</th>\n",
       "      <td>0.2</td>\n",
       "      <td>101</td>\n",
       "      <td>0.529984</td>\n",
       "      <td>0.518296</td>\n",
       "      <td>0.529984</td>\n",
       "      <td>0.518158</td>\n",
       "      <td>{'criterion': 'gini', 'max_features': 'log2', ...</td>\n",
       "    </tr>\n",
       "  </tbody>\n",
       "</table>\n",
       "</div>"
      ],
      "text/plain": [
       "    Test Size  Random State  Accuracy  Precision    Recall  F1 Score  \\\n",
       "0         0.5             7  0.517822   0.505548  0.517822  0.507304   \n",
       "1         0.5            69  0.521063   0.509519  0.521063  0.509245   \n",
       "2         0.5           101  0.550875   0.533503  0.550875  0.536929   \n",
       "3         0.4             7  0.556726   0.546430  0.556726  0.544161   \n",
       "4         0.4            69  0.512156   0.501292  0.512156  0.503772   \n",
       "5         0.4           101  0.538898   0.520980  0.538898  0.521669   \n",
       "6         0.3             7  0.550756   0.539645  0.550756  0.533693   \n",
       "7         0.3            69  0.525918   0.511419  0.525918  0.511747   \n",
       "8         0.3           101  0.530238   0.507328  0.530238  0.511012   \n",
       "9         0.2             7  0.568882   0.559619  0.568882  0.558243   \n",
       "10        0.2            69  0.554295   0.539901  0.554295  0.541687   \n",
       "11        0.2           101  0.529984   0.518296  0.529984  0.518158   \n",
       "\n",
       "                                           Best Param  \n",
       "0   {'criterion': 'gini', 'max_features': 'log2', ...  \n",
       "1   {'criterion': 'gini', 'max_features': 'auto', ...  \n",
       "2   {'criterion': 'entropy', 'max_features': 'sqrt...  \n",
       "3   {'criterion': 'gini', 'max_features': 'log2', ...  \n",
       "4   {'criterion': 'gini', 'max_features': 'log2', ...  \n",
       "5   {'criterion': 'entropy', 'max_features': 'auto...  \n",
       "6   {'criterion': 'gini', 'max_features': 'auto', ...  \n",
       "7   {'criterion': 'entropy', 'max_features': 'auto...  \n",
       "8   {'criterion': 'entropy', 'max_features': 'auto...  \n",
       "9   {'criterion': 'entropy', 'max_features': 'sqrt...  \n",
       "10  {'criterion': 'gini', 'max_features': 'auto', ...  \n",
       "11  {'criterion': 'gini', 'max_features': 'log2', ...  "
      ]
     },
     "execution_count": 73,
     "metadata": {},
     "output_type": "execute_result"
    }
   ],
   "source": [
    "temp5L_SHG_SMOTE = []\n",
    "\n",
    "y = merge_5L_SMOTE[['CGPA']]\n",
    "X = merge_5L_SMOTE[['Number of Subjects Failed','SPM Result (A)','SPM Result (B)','SPM Result (C)']]\n",
    "\n",
    "print(\"X:\", X.shape,\"y:\", y.shape)\n",
    "\n",
    "for i in [0.5,0.4,0.3,0.2]:\n",
    "    for j in rand_states:\n",
    "        X_train, X_test, y_train, y_test = train_test_split(X, y, test_size=i, random_state=j)\n",
    "        param_grid = {'n_estimators': [100, 200, 300, 400],\n",
    "                      'max_features': ['auto', 'sqrt', 'log2'],\n",
    "                      'criterion' :['gini', 'entropy']}\n",
    "\n",
    "        model = GridSearchCV(RandomForestClassifier(), param_grid, refit=True, n_jobs=-1, cv=10, verbose=1)\n",
    "        model.fit(X_train, y_train)\n",
    "        pred = model.predict(X_test)\n",
    "\n",
    "        acc = accuracy_score(y_test,pred)\n",
    "        pre = precision_score(y_test, pred, average='weighted')\n",
    "        recall = recall_score(y_test, pred, average='weighted')\n",
    "        f1 = f1_score(y_test, pred, average='weighted')\n",
    "        param = model.best_params_\n",
    "        \n",
    "        temp5L_SHG_SMOTE.append([i,j,acc,pre,recall,f1,param])\n",
    "        \n",
    "df5L_SHG_SMOTE = pd.DataFrame(columns=['Test Size','Random State','Accuracy','Precision','Recall','F1 Score','Best Param'],data=temp5L_SHG_SMOTE)\n",
    "df5L_SHG_SMOTE"
   ]
  },
  {
   "cell_type": "code",
   "execution_count": 74,
   "id": "78c04340-cb30-43bc-b1e1-8bef05157e41",
   "metadata": {},
   "outputs": [
    {
     "data": {
      "text/html": [
       "<div>\n",
       "<style scoped>\n",
       "    .dataframe tbody tr th:only-of-type {\n",
       "        vertical-align: middle;\n",
       "    }\n",
       "\n",
       "    .dataframe tbody tr th {\n",
       "        vertical-align: top;\n",
       "    }\n",
       "\n",
       "    .dataframe thead th {\n",
       "        text-align: right;\n",
       "    }\n",
       "</style>\n",
       "<table border=\"1\" class=\"dataframe\">\n",
       "  <thead>\n",
       "    <tr style=\"text-align: right;\">\n",
       "      <th></th>\n",
       "      <th>Accuracy</th>\n",
       "      <th>Precision</th>\n",
       "      <th>Recall</th>\n",
       "      <th>F1 Score</th>\n",
       "    </tr>\n",
       "    <tr>\n",
       "      <th>Test Size</th>\n",
       "      <th></th>\n",
       "      <th></th>\n",
       "      <th></th>\n",
       "      <th></th>\n",
       "    </tr>\n",
       "  </thead>\n",
       "  <tbody>\n",
       "    <tr>\n",
       "      <th>0.2</th>\n",
       "      <td>0.551053</td>\n",
       "      <td>0.539272</td>\n",
       "      <td>0.551053</td>\n",
       "      <td>0.539363</td>\n",
       "    </tr>\n",
       "    <tr>\n",
       "      <th>0.3</th>\n",
       "      <td>0.535637</td>\n",
       "      <td>0.519464</td>\n",
       "      <td>0.535637</td>\n",
       "      <td>0.518817</td>\n",
       "    </tr>\n",
       "    <tr>\n",
       "      <th>0.4</th>\n",
       "      <td>0.535927</td>\n",
       "      <td>0.522901</td>\n",
       "      <td>0.535927</td>\n",
       "      <td>0.523201</td>\n",
       "    </tr>\n",
       "    <tr>\n",
       "      <th>0.5</th>\n",
       "      <td>0.529920</td>\n",
       "      <td>0.516190</td>\n",
       "      <td>0.529920</td>\n",
       "      <td>0.517826</td>\n",
       "    </tr>\n",
       "  </tbody>\n",
       "</table>\n",
       "</div>"
      ],
      "text/plain": [
       "           Accuracy  Precision    Recall  F1 Score\n",
       "Test Size                                         \n",
       "0.2        0.551053   0.539272  0.551053  0.539363\n",
       "0.3        0.535637   0.519464  0.535637  0.518817\n",
       "0.4        0.535927   0.522901  0.535927  0.523201\n",
       "0.5        0.529920   0.516190  0.529920  0.517826"
      ]
     },
     "execution_count": 74,
     "metadata": {},
     "output_type": "execute_result"
    }
   ],
   "source": [
    "df5L_SHG_SMOTE.groupby('Test Size')[['Accuracy','Precision','Recall','F1 Score']].mean()"
   ]
  },
  {
   "cell_type": "code",
   "execution_count": 75,
   "id": "d35be344-1d54-41cd-ab3f-3176dfbac4f5",
   "metadata": {},
   "outputs": [
    {
     "name": "stdout",
     "output_type": "stream",
     "text": [
      "SMOTE 5-Level: Student History Grades\n",
      "\n",
      "{'criterion': 'gini', 'max_features': 'log2', 'n_estimators': 200}\n",
      "{'criterion': 'gini', 'max_features': 'auto', 'n_estimators': 400}\n",
      "{'criterion': 'entropy', 'max_features': 'sqrt', 'n_estimators': 400}\n",
      "{'criterion': 'gini', 'max_features': 'log2', 'n_estimators': 300}\n",
      "{'criterion': 'gini', 'max_features': 'log2', 'n_estimators': 400}\n",
      "{'criterion': 'entropy', 'max_features': 'auto', 'n_estimators': 300}\n",
      "{'criterion': 'gini', 'max_features': 'auto', 'n_estimators': 400}\n",
      "{'criterion': 'entropy', 'max_features': 'auto', 'n_estimators': 300}\n",
      "{'criterion': 'entropy', 'max_features': 'auto', 'n_estimators': 200}\n",
      "{'criterion': 'entropy', 'max_features': 'sqrt', 'n_estimators': 300}\n",
      "{'criterion': 'gini', 'max_features': 'auto', 'n_estimators': 200}\n",
      "{'criterion': 'gini', 'max_features': 'log2', 'n_estimators': 400}\n"
     ]
    }
   ],
   "source": [
    "print(\"SMOTE 5-Level: Student History Grades\\n\")\n",
    "for x in df5L_SHG_SMOTE[\"Best Param\"]:\n",
    "    print(x)"
   ]
  },
  {
   "cell_type": "markdown",
   "id": "4d974d3f-4f79-4a4e-8584-e8d40b0217c8",
   "metadata": {},
   "source": [
    "## Student Opinion Towards MMU Environment"
   ]
  },
  {
   "cell_type": "markdown",
   "id": "37265a3d-d3e9-481d-bee7-7c05034e3bc4",
   "metadata": {},
   "source": [
    "### SOTME before Data Balancing"
   ]
  },
  {
   "cell_type": "code",
   "execution_count": 76,
   "id": "19d7b108-3f2b-45b6-8df1-0ca0e87fdd40",
   "metadata": {},
   "outputs": [
    {
     "name": "stdout",
     "output_type": "stream",
     "text": [
      "X: (1287, 5) y: (1287, 1)\n",
      "Fitting 10 folds for each of 24 candidates, totalling 240 fits\n"
     ]
    },
    {
     "name": "stderr",
     "output_type": "stream",
     "text": [
      "C:\\Users\\hazel\\anaconda3\\Lib\\site-packages\\sklearn\\model_selection\\_split.py:700: UserWarning: The least populated class in y has only 8 members, which is less than n_splits=10.\n",
      "  warnings.warn(\n",
      "C:\\Users\\hazel\\anaconda3\\Lib\\site-packages\\sklearn\\model_selection\\_search.py:909: DataConversionWarning: A column-vector y was passed when a 1d array was expected. Please change the shape of y to (n_samples,), for example using ravel().\n",
      "  self.best_estimator_.fit(X, y, **fit_params)\n",
      "C:\\Users\\hazel\\anaconda3\\Lib\\site-packages\\sklearn\\ensemble\\_forest.py:424: FutureWarning: `max_features='auto'` has been deprecated in 1.1 and will be removed in 1.3. To keep the past behaviour, explicitly set `max_features='sqrt'` or remove this parameter as it is also the default value for RandomForestClassifiers and ExtraTreesClassifiers.\n",
      "  warn(\n"
     ]
    },
    {
     "name": "stdout",
     "output_type": "stream",
     "text": [
      "Fitting 10 folds for each of 24 candidates, totalling 240 fits\n"
     ]
    },
    {
     "name": "stderr",
     "output_type": "stream",
     "text": [
      "C:\\Users\\hazel\\anaconda3\\Lib\\site-packages\\sklearn\\model_selection\\_split.py:700: UserWarning: The least populated class in y has only 8 members, which is less than n_splits=10.\n",
      "  warnings.warn(\n",
      "C:\\Users\\hazel\\anaconda3\\Lib\\site-packages\\sklearn\\model_selection\\_search.py:909: DataConversionWarning: A column-vector y was passed when a 1d array was expected. Please change the shape of y to (n_samples,), for example using ravel().\n",
      "  self.best_estimator_.fit(X, y, **fit_params)\n"
     ]
    },
    {
     "name": "stdout",
     "output_type": "stream",
     "text": [
      "Fitting 10 folds for each of 24 candidates, totalling 240 fits\n"
     ]
    },
    {
     "name": "stderr",
     "output_type": "stream",
     "text": [
      "C:\\Users\\hazel\\anaconda3\\Lib\\site-packages\\sklearn\\model_selection\\_split.py:700: UserWarning: The least populated class in y has only 8 members, which is less than n_splits=10.\n",
      "  warnings.warn(\n",
      "C:\\Users\\hazel\\anaconda3\\Lib\\site-packages\\sklearn\\model_selection\\_search.py:909: DataConversionWarning: A column-vector y was passed when a 1d array was expected. Please change the shape of y to (n_samples,), for example using ravel().\n",
      "  self.best_estimator_.fit(X, y, **fit_params)\n"
     ]
    },
    {
     "name": "stdout",
     "output_type": "stream",
     "text": [
      "Fitting 10 folds for each of 24 candidates, totalling 240 fits\n"
     ]
    },
    {
     "name": "stderr",
     "output_type": "stream",
     "text": [
      "C:\\Users\\hazel\\anaconda3\\Lib\\site-packages\\sklearn\\model_selection\\_search.py:909: DataConversionWarning: A column-vector y was passed when a 1d array was expected. Please change the shape of y to (n_samples,), for example using ravel().\n",
      "  self.best_estimator_.fit(X, y, **fit_params)\n",
      "C:\\Users\\hazel\\anaconda3\\Lib\\site-packages\\sklearn\\ensemble\\_forest.py:424: FutureWarning: `max_features='auto'` has been deprecated in 1.1 and will be removed in 1.3. To keep the past behaviour, explicitly set `max_features='sqrt'` or remove this parameter as it is also the default value for RandomForestClassifiers and ExtraTreesClassifiers.\n",
      "  warn(\n",
      "C:\\Users\\hazel\\anaconda3\\Lib\\site-packages\\sklearn\\metrics\\_classification.py:1344: UndefinedMetricWarning: Precision is ill-defined and being set to 0.0 in labels with no predicted samples. Use `zero_division` parameter to control this behavior.\n",
      "  _warn_prf(average, modifier, msg_start, len(result))\n",
      "C:\\Users\\hazel\\anaconda3\\Lib\\site-packages\\sklearn\\model_selection\\_split.py:700: UserWarning: The least populated class in y has only 9 members, which is less than n_splits=10.\n",
      "  warnings.warn(\n"
     ]
    },
    {
     "name": "stdout",
     "output_type": "stream",
     "text": [
      "Fitting 10 folds for each of 24 candidates, totalling 240 fits\n"
     ]
    },
    {
     "name": "stderr",
     "output_type": "stream",
     "text": [
      "C:\\Users\\hazel\\anaconda3\\Lib\\site-packages\\sklearn\\model_selection\\_search.py:909: DataConversionWarning: A column-vector y was passed when a 1d array was expected. Please change the shape of y to (n_samples,), for example using ravel().\n",
      "  self.best_estimator_.fit(X, y, **fit_params)\n"
     ]
    },
    {
     "name": "stdout",
     "output_type": "stream",
     "text": [
      "Fitting 10 folds for each of 24 candidates, totalling 240 fits\n"
     ]
    },
    {
     "name": "stderr",
     "output_type": "stream",
     "text": [
      "C:\\Users\\hazel\\anaconda3\\Lib\\site-packages\\sklearn\\model_selection\\_search.py:909: DataConversionWarning: A column-vector y was passed when a 1d array was expected. Please change the shape of y to (n_samples,), for example using ravel().\n",
      "  self.best_estimator_.fit(X, y, **fit_params)\n",
      "C:\\Users\\hazel\\anaconda3\\Lib\\site-packages\\sklearn\\ensemble\\_forest.py:424: FutureWarning: `max_features='auto'` has been deprecated in 1.1 and will be removed in 1.3. To keep the past behaviour, explicitly set `max_features='sqrt'` or remove this parameter as it is also the default value for RandomForestClassifiers and ExtraTreesClassifiers.\n",
      "  warn(\n",
      "C:\\Users\\hazel\\anaconda3\\Lib\\site-packages\\sklearn\\metrics\\_classification.py:1344: UndefinedMetricWarning: Precision is ill-defined and being set to 0.0 in labels with no predicted samples. Use `zero_division` parameter to control this behavior.\n",
      "  _warn_prf(average, modifier, msg_start, len(result))\n"
     ]
    },
    {
     "name": "stdout",
     "output_type": "stream",
     "text": [
      "Fitting 10 folds for each of 24 candidates, totalling 240 fits\n"
     ]
    },
    {
     "name": "stderr",
     "output_type": "stream",
     "text": [
      "C:\\Users\\hazel\\anaconda3\\Lib\\site-packages\\sklearn\\model_selection\\_search.py:909: DataConversionWarning: A column-vector y was passed when a 1d array was expected. Please change the shape of y to (n_samples,), for example using ravel().\n",
      "  self.best_estimator_.fit(X, y, **fit_params)\n"
     ]
    },
    {
     "name": "stdout",
     "output_type": "stream",
     "text": [
      "Fitting 10 folds for each of 24 candidates, totalling 240 fits\n"
     ]
    },
    {
     "name": "stderr",
     "output_type": "stream",
     "text": [
      "C:\\Users\\hazel\\anaconda3\\Lib\\site-packages\\sklearn\\model_selection\\_search.py:909: DataConversionWarning: A column-vector y was passed when a 1d array was expected. Please change the shape of y to (n_samples,), for example using ravel().\n",
      "  self.best_estimator_.fit(X, y, **fit_params)\n",
      "C:\\Users\\hazel\\anaconda3\\Lib\\site-packages\\sklearn\\ensemble\\_forest.py:424: FutureWarning: `max_features='auto'` has been deprecated in 1.1 and will be removed in 1.3. To keep the past behaviour, explicitly set `max_features='sqrt'` or remove this parameter as it is also the default value for RandomForestClassifiers and ExtraTreesClassifiers.\n",
      "  warn(\n"
     ]
    },
    {
     "name": "stdout",
     "output_type": "stream",
     "text": [
      "Fitting 10 folds for each of 24 candidates, totalling 240 fits\n"
     ]
    },
    {
     "name": "stderr",
     "output_type": "stream",
     "text": [
      "C:\\Users\\hazel\\anaconda3\\Lib\\site-packages\\sklearn\\model_selection\\_search.py:909: DataConversionWarning: A column-vector y was passed when a 1d array was expected. Please change the shape of y to (n_samples,), for example using ravel().\n",
      "  self.best_estimator_.fit(X, y, **fit_params)\n",
      "C:\\Users\\hazel\\anaconda3\\Lib\\site-packages\\sklearn\\metrics\\_classification.py:1344: UndefinedMetricWarning: Precision is ill-defined and being set to 0.0 in labels with no predicted samples. Use `zero_division` parameter to control this behavior.\n",
      "  _warn_prf(average, modifier, msg_start, len(result))\n"
     ]
    },
    {
     "name": "stdout",
     "output_type": "stream",
     "text": [
      "Fitting 10 folds for each of 24 candidates, totalling 240 fits\n"
     ]
    },
    {
     "name": "stderr",
     "output_type": "stream",
     "text": [
      "C:\\Users\\hazel\\anaconda3\\Lib\\site-packages\\sklearn\\model_selection\\_search.py:909: DataConversionWarning: A column-vector y was passed when a 1d array was expected. Please change the shape of y to (n_samples,), for example using ravel().\n",
      "  self.best_estimator_.fit(X, y, **fit_params)\n"
     ]
    },
    {
     "name": "stdout",
     "output_type": "stream",
     "text": [
      "Fitting 10 folds for each of 24 candidates, totalling 240 fits\n"
     ]
    },
    {
     "name": "stderr",
     "output_type": "stream",
     "text": [
      "C:\\Users\\hazel\\anaconda3\\Lib\\site-packages\\sklearn\\model_selection\\_search.py:909: DataConversionWarning: A column-vector y was passed when a 1d array was expected. Please change the shape of y to (n_samples,), for example using ravel().\n",
      "  self.best_estimator_.fit(X, y, **fit_params)\n"
     ]
    },
    {
     "name": "stdout",
     "output_type": "stream",
     "text": [
      "Fitting 10 folds for each of 24 candidates, totalling 240 fits\n"
     ]
    },
    {
     "name": "stderr",
     "output_type": "stream",
     "text": [
      "C:\\Users\\hazel\\anaconda3\\Lib\\site-packages\\sklearn\\model_selection\\_search.py:909: DataConversionWarning: A column-vector y was passed when a 1d array was expected. Please change the shape of y to (n_samples,), for example using ravel().\n",
      "  self.best_estimator_.fit(X, y, **fit_params)\n",
      "C:\\Users\\hazel\\anaconda3\\Lib\\site-packages\\sklearn\\metrics\\_classification.py:1344: UndefinedMetricWarning: Precision is ill-defined and being set to 0.0 in labels with no predicted samples. Use `zero_division` parameter to control this behavior.\n",
      "  _warn_prf(average, modifier, msg_start, len(result))\n"
     ]
    },
    {
     "data": {
      "text/html": [
       "<div>\n",
       "<style scoped>\n",
       "    .dataframe tbody tr th:only-of-type {\n",
       "        vertical-align: middle;\n",
       "    }\n",
       "\n",
       "    .dataframe tbody tr th {\n",
       "        vertical-align: top;\n",
       "    }\n",
       "\n",
       "    .dataframe thead th {\n",
       "        text-align: right;\n",
       "    }\n",
       "</style>\n",
       "<table border=\"1\" class=\"dataframe\">\n",
       "  <thead>\n",
       "    <tr style=\"text-align: right;\">\n",
       "      <th></th>\n",
       "      <th>Test Size</th>\n",
       "      <th>Random State</th>\n",
       "      <th>Accuracy</th>\n",
       "      <th>Precision</th>\n",
       "      <th>Recall</th>\n",
       "      <th>F1 Score</th>\n",
       "      <th>Best Param</th>\n",
       "    </tr>\n",
       "  </thead>\n",
       "  <tbody>\n",
       "    <tr>\n",
       "      <th>0</th>\n",
       "      <td>0.5</td>\n",
       "      <td>7</td>\n",
       "      <td>0.388199</td>\n",
       "      <td>0.339206</td>\n",
       "      <td>0.388199</td>\n",
       "      <td>0.351479</td>\n",
       "      <td>{'criterion': 'gini', 'max_features': 'auto', ...</td>\n",
       "    </tr>\n",
       "    <tr>\n",
       "      <th>1</th>\n",
       "      <td>0.5</td>\n",
       "      <td>69</td>\n",
       "      <td>0.402174</td>\n",
       "      <td>0.347874</td>\n",
       "      <td>0.402174</td>\n",
       "      <td>0.367230</td>\n",
       "      <td>{'criterion': 'gini', 'max_features': 'sqrt', ...</td>\n",
       "    </tr>\n",
       "    <tr>\n",
       "      <th>2</th>\n",
       "      <td>0.5</td>\n",
       "      <td>101</td>\n",
       "      <td>0.411491</td>\n",
       "      <td>0.382479</td>\n",
       "      <td>0.411491</td>\n",
       "      <td>0.393601</td>\n",
       "      <td>{'criterion': 'entropy', 'max_features': 'log2...</td>\n",
       "    </tr>\n",
       "    <tr>\n",
       "      <th>3</th>\n",
       "      <td>0.4</td>\n",
       "      <td>7</td>\n",
       "      <td>0.382524</td>\n",
       "      <td>0.334584</td>\n",
       "      <td>0.382524</td>\n",
       "      <td>0.338656</td>\n",
       "      <td>{'criterion': 'gini', 'max_features': 'auto', ...</td>\n",
       "    </tr>\n",
       "    <tr>\n",
       "      <th>4</th>\n",
       "      <td>0.4</td>\n",
       "      <td>69</td>\n",
       "      <td>0.427184</td>\n",
       "      <td>0.391828</td>\n",
       "      <td>0.427184</td>\n",
       "      <td>0.398062</td>\n",
       "      <td>{'criterion': 'gini', 'max_features': 'sqrt', ...</td>\n",
       "    </tr>\n",
       "    <tr>\n",
       "      <th>5</th>\n",
       "      <td>0.4</td>\n",
       "      <td>101</td>\n",
       "      <td>0.413592</td>\n",
       "      <td>0.381076</td>\n",
       "      <td>0.413592</td>\n",
       "      <td>0.389851</td>\n",
       "      <td>{'criterion': 'gini', 'max_features': 'auto', ...</td>\n",
       "    </tr>\n",
       "    <tr>\n",
       "      <th>6</th>\n",
       "      <td>0.3</td>\n",
       "      <td>7</td>\n",
       "      <td>0.403101</td>\n",
       "      <td>0.367272</td>\n",
       "      <td>0.403101</td>\n",
       "      <td>0.364276</td>\n",
       "      <td>{'criterion': 'gini', 'max_features': 'sqrt', ...</td>\n",
       "    </tr>\n",
       "    <tr>\n",
       "      <th>7</th>\n",
       "      <td>0.3</td>\n",
       "      <td>69</td>\n",
       "      <td>0.421189</td>\n",
       "      <td>0.379621</td>\n",
       "      <td>0.421189</td>\n",
       "      <td>0.392857</td>\n",
       "      <td>{'criterion': 'entropy', 'max_features': 'auto...</td>\n",
       "    </tr>\n",
       "    <tr>\n",
       "      <th>8</th>\n",
       "      <td>0.3</td>\n",
       "      <td>101</td>\n",
       "      <td>0.395349</td>\n",
       "      <td>0.358709</td>\n",
       "      <td>0.395349</td>\n",
       "      <td>0.370932</td>\n",
       "      <td>{'criterion': 'gini', 'max_features': 'log2', ...</td>\n",
       "    </tr>\n",
       "    <tr>\n",
       "      <th>9</th>\n",
       "      <td>0.2</td>\n",
       "      <td>7</td>\n",
       "      <td>0.410853</td>\n",
       "      <td>0.357705</td>\n",
       "      <td>0.410853</td>\n",
       "      <td>0.369271</td>\n",
       "      <td>{'criterion': 'gini', 'max_features': 'sqrt', ...</td>\n",
       "    </tr>\n",
       "    <tr>\n",
       "      <th>10</th>\n",
       "      <td>0.2</td>\n",
       "      <td>69</td>\n",
       "      <td>0.410853</td>\n",
       "      <td>0.372700</td>\n",
       "      <td>0.410853</td>\n",
       "      <td>0.384051</td>\n",
       "      <td>{'criterion': 'entropy', 'max_features': 'log2...</td>\n",
       "    </tr>\n",
       "    <tr>\n",
       "      <th>11</th>\n",
       "      <td>0.2</td>\n",
       "      <td>101</td>\n",
       "      <td>0.399225</td>\n",
       "      <td>0.352909</td>\n",
       "      <td>0.399225</td>\n",
       "      <td>0.370831</td>\n",
       "      <td>{'criterion': 'gini', 'max_features': 'sqrt', ...</td>\n",
       "    </tr>\n",
       "  </tbody>\n",
       "</table>\n",
       "</div>"
      ],
      "text/plain": [
       "    Test Size  Random State  Accuracy  Precision    Recall  F1 Score  \\\n",
       "0         0.5             7  0.388199   0.339206  0.388199  0.351479   \n",
       "1         0.5            69  0.402174   0.347874  0.402174  0.367230   \n",
       "2         0.5           101  0.411491   0.382479  0.411491  0.393601   \n",
       "3         0.4             7  0.382524   0.334584  0.382524  0.338656   \n",
       "4         0.4            69  0.427184   0.391828  0.427184  0.398062   \n",
       "5         0.4           101  0.413592   0.381076  0.413592  0.389851   \n",
       "6         0.3             7  0.403101   0.367272  0.403101  0.364276   \n",
       "7         0.3            69  0.421189   0.379621  0.421189  0.392857   \n",
       "8         0.3           101  0.395349   0.358709  0.395349  0.370932   \n",
       "9         0.2             7  0.410853   0.357705  0.410853  0.369271   \n",
       "10        0.2            69  0.410853   0.372700  0.410853  0.384051   \n",
       "11        0.2           101  0.399225   0.352909  0.399225  0.370831   \n",
       "\n",
       "                                           Best Param  \n",
       "0   {'criterion': 'gini', 'max_features': 'auto', ...  \n",
       "1   {'criterion': 'gini', 'max_features': 'sqrt', ...  \n",
       "2   {'criterion': 'entropy', 'max_features': 'log2...  \n",
       "3   {'criterion': 'gini', 'max_features': 'auto', ...  \n",
       "4   {'criterion': 'gini', 'max_features': 'sqrt', ...  \n",
       "5   {'criterion': 'gini', 'max_features': 'auto', ...  \n",
       "6   {'criterion': 'gini', 'max_features': 'sqrt', ...  \n",
       "7   {'criterion': 'entropy', 'max_features': 'auto...  \n",
       "8   {'criterion': 'gini', 'max_features': 'log2', ...  \n",
       "9   {'criterion': 'gini', 'max_features': 'sqrt', ...  \n",
       "10  {'criterion': 'entropy', 'max_features': 'log2...  \n",
       "11  {'criterion': 'gini', 'max_features': 'sqrt', ...  "
      ]
     },
     "execution_count": 76,
     "metadata": {},
     "output_type": "execute_result"
    }
   ],
   "source": [
    "temp5L_SOTME_imb = []\n",
    "\n",
    "y = merge_5L_imb[['CGPA']]\n",
    "X = merge_5L_imb[['Reason Study at Multimedia University', 'Lecture Class Capacity','Tutorial Class Capacity', \n",
    "                     'Classroom Facilities', 'Campus Environment']]\n",
    "\n",
    "print(\"X:\", X.shape,\"y:\", y.shape)\n",
    "\n",
    "for i in [0.5,0.4,0.3,0.2]:\n",
    "    for j in rand_states:\n",
    "        X_train, X_test, y_train, y_test = train_test_split(X, y, test_size=i, random_state=j)\n",
    "        param_grid = {'n_estimators': [100, 200, 300, 400],\n",
    "                      'max_features': ['auto', 'sqrt', 'log2'],\n",
    "                      'criterion' :['gini', 'entropy']}\n",
    "\n",
    "        model = GridSearchCV(RandomForestClassifier(), param_grid, refit=True, n_jobs=-1, cv=10, verbose=1)\n",
    "        model.fit(X_train, y_train)\n",
    "        pred = model.predict(X_test)\n",
    "\n",
    "        acc = accuracy_score(y_test,pred)\n",
    "        pre = precision_score(y_test, pred, average='weighted')\n",
    "        recall = recall_score(y_test, pred, average='weighted')\n",
    "        f1 = f1_score(y_test, pred, average='weighted')\n",
    "        param = model.best_params_\n",
    "    \n",
    "        temp5L_SOTME_imb.append([i,j,acc,pre,recall,f1,param])\n",
    "        \n",
    "df5L_SOTME_imb = pd.DataFrame(columns=['Test Size','Random State','Accuracy','Precision','Recall','F1 Score','Best Param'],data=temp5L_SOTME_imb)\n",
    "df5L_SOTME_imb"
   ]
  },
  {
   "cell_type": "code",
   "execution_count": 77,
   "id": "e01cd6c4-4041-4993-8ffb-79bb846ec40c",
   "metadata": {},
   "outputs": [
    {
     "data": {
      "text/html": [
       "<div>\n",
       "<style scoped>\n",
       "    .dataframe tbody tr th:only-of-type {\n",
       "        vertical-align: middle;\n",
       "    }\n",
       "\n",
       "    .dataframe tbody tr th {\n",
       "        vertical-align: top;\n",
       "    }\n",
       "\n",
       "    .dataframe thead th {\n",
       "        text-align: right;\n",
       "    }\n",
       "</style>\n",
       "<table border=\"1\" class=\"dataframe\">\n",
       "  <thead>\n",
       "    <tr style=\"text-align: right;\">\n",
       "      <th></th>\n",
       "      <th>Accuracy</th>\n",
       "      <th>Precision</th>\n",
       "      <th>Recall</th>\n",
       "      <th>F1 Score</th>\n",
       "    </tr>\n",
       "    <tr>\n",
       "      <th>Test Size</th>\n",
       "      <th></th>\n",
       "      <th></th>\n",
       "      <th></th>\n",
       "      <th></th>\n",
       "    </tr>\n",
       "  </thead>\n",
       "  <tbody>\n",
       "    <tr>\n",
       "      <th>0.2</th>\n",
       "      <td>0.406977</td>\n",
       "      <td>0.361105</td>\n",
       "      <td>0.406977</td>\n",
       "      <td>0.374718</td>\n",
       "    </tr>\n",
       "    <tr>\n",
       "      <th>0.3</th>\n",
       "      <td>0.406546</td>\n",
       "      <td>0.368534</td>\n",
       "      <td>0.406546</td>\n",
       "      <td>0.376022</td>\n",
       "    </tr>\n",
       "    <tr>\n",
       "      <th>0.4</th>\n",
       "      <td>0.407767</td>\n",
       "      <td>0.369163</td>\n",
       "      <td>0.407767</td>\n",
       "      <td>0.375523</td>\n",
       "    </tr>\n",
       "    <tr>\n",
       "      <th>0.5</th>\n",
       "      <td>0.400621</td>\n",
       "      <td>0.356520</td>\n",
       "      <td>0.400621</td>\n",
       "      <td>0.370770</td>\n",
       "    </tr>\n",
       "  </tbody>\n",
       "</table>\n",
       "</div>"
      ],
      "text/plain": [
       "           Accuracy  Precision    Recall  F1 Score\n",
       "Test Size                                         \n",
       "0.2        0.406977   0.361105  0.406977  0.374718\n",
       "0.3        0.406546   0.368534  0.406546  0.376022\n",
       "0.4        0.407767   0.369163  0.407767  0.375523\n",
       "0.5        0.400621   0.356520  0.400621  0.370770"
      ]
     },
     "execution_count": 77,
     "metadata": {},
     "output_type": "execute_result"
    }
   ],
   "source": [
    "df5L_SOTME_imb.groupby('Test Size')[['Accuracy','Precision','Recall','F1 Score']].mean()"
   ]
  },
  {
   "cell_type": "code",
   "execution_count": 78,
   "id": "4f3d654f-963a-440d-b3b2-5c57e6b5b971",
   "metadata": {},
   "outputs": [
    {
     "name": "stdout",
     "output_type": "stream",
     "text": [
      "Imbalance 5-Level: Student Opinion Towards MMU Environment\n",
      "\n",
      "{'criterion': 'gini', 'max_features': 'auto', 'n_estimators': 200}\n",
      "{'criterion': 'gini', 'max_features': 'sqrt', 'n_estimators': 200}\n",
      "{'criterion': 'entropy', 'max_features': 'log2', 'n_estimators': 100}\n",
      "{'criterion': 'gini', 'max_features': 'auto', 'n_estimators': 300}\n",
      "{'criterion': 'gini', 'max_features': 'sqrt', 'n_estimators': 100}\n",
      "{'criterion': 'gini', 'max_features': 'auto', 'n_estimators': 200}\n",
      "{'criterion': 'gini', 'max_features': 'sqrt', 'n_estimators': 200}\n",
      "{'criterion': 'entropy', 'max_features': 'auto', 'n_estimators': 300}\n",
      "{'criterion': 'gini', 'max_features': 'log2', 'n_estimators': 200}\n",
      "{'criterion': 'gini', 'max_features': 'sqrt', 'n_estimators': 200}\n",
      "{'criterion': 'entropy', 'max_features': 'log2', 'n_estimators': 400}\n",
      "{'criterion': 'gini', 'max_features': 'sqrt', 'n_estimators': 200}\n"
     ]
    }
   ],
   "source": [
    "print(\"Imbalance 5-Level: Student Opinion Towards MMU Environment\\n\")\n",
    "for x in df5L_SOTME_imb[\"Best Param\"]:\n",
    "    print(x)"
   ]
  },
  {
   "cell_type": "markdown",
   "id": "945b0ad7-4eca-4314-9cae-e146e113e97a",
   "metadata": {},
   "source": [
    "### SOTME after RandomOverSampler"
   ]
  },
  {
   "cell_type": "code",
   "execution_count": 79,
   "id": "b4b9bc13-db2a-43c0-bac5-2934fb966f90",
   "metadata": {},
   "outputs": [
    {
     "name": "stdout",
     "output_type": "stream",
     "text": [
      "X: (3085, 5) y: (3085, 1)\n",
      "Fitting 10 folds for each of 24 candidates, totalling 240 fits\n"
     ]
    },
    {
     "name": "stderr",
     "output_type": "stream",
     "text": [
      "C:\\Users\\hazel\\anaconda3\\Lib\\site-packages\\sklearn\\model_selection\\_search.py:909: DataConversionWarning: A column-vector y was passed when a 1d array was expected. Please change the shape of y to (n_samples,), for example using ravel().\n",
      "  self.best_estimator_.fit(X, y, **fit_params)\n"
     ]
    },
    {
     "name": "stdout",
     "output_type": "stream",
     "text": [
      "Fitting 10 folds for each of 24 candidates, totalling 240 fits\n"
     ]
    },
    {
     "name": "stderr",
     "output_type": "stream",
     "text": [
      "C:\\Users\\hazel\\anaconda3\\Lib\\site-packages\\sklearn\\model_selection\\_search.py:909: DataConversionWarning: A column-vector y was passed when a 1d array was expected. Please change the shape of y to (n_samples,), for example using ravel().\n",
      "  self.best_estimator_.fit(X, y, **fit_params)\n",
      "C:\\Users\\hazel\\anaconda3\\Lib\\site-packages\\sklearn\\ensemble\\_forest.py:424: FutureWarning: `max_features='auto'` has been deprecated in 1.1 and will be removed in 1.3. To keep the past behaviour, explicitly set `max_features='sqrt'` or remove this parameter as it is also the default value for RandomForestClassifiers and ExtraTreesClassifiers.\n",
      "  warn(\n"
     ]
    },
    {
     "name": "stdout",
     "output_type": "stream",
     "text": [
      "Fitting 10 folds for each of 24 candidates, totalling 240 fits\n"
     ]
    },
    {
     "name": "stderr",
     "output_type": "stream",
     "text": [
      "C:\\Users\\hazel\\anaconda3\\Lib\\site-packages\\sklearn\\model_selection\\_search.py:909: DataConversionWarning: A column-vector y was passed when a 1d array was expected. Please change the shape of y to (n_samples,), for example using ravel().\n",
      "  self.best_estimator_.fit(X, y, **fit_params)\n",
      "C:\\Users\\hazel\\anaconda3\\Lib\\site-packages\\sklearn\\ensemble\\_forest.py:424: FutureWarning: `max_features='auto'` has been deprecated in 1.1 and will be removed in 1.3. To keep the past behaviour, explicitly set `max_features='sqrt'` or remove this parameter as it is also the default value for RandomForestClassifiers and ExtraTreesClassifiers.\n",
      "  warn(\n"
     ]
    },
    {
     "name": "stdout",
     "output_type": "stream",
     "text": [
      "Fitting 10 folds for each of 24 candidates, totalling 240 fits\n"
     ]
    },
    {
     "name": "stderr",
     "output_type": "stream",
     "text": [
      "C:\\Users\\hazel\\anaconda3\\Lib\\site-packages\\sklearn\\model_selection\\_search.py:909: DataConversionWarning: A column-vector y was passed when a 1d array was expected. Please change the shape of y to (n_samples,), for example using ravel().\n",
      "  self.best_estimator_.fit(X, y, **fit_params)\n"
     ]
    },
    {
     "name": "stdout",
     "output_type": "stream",
     "text": [
      "Fitting 10 folds for each of 24 candidates, totalling 240 fits\n"
     ]
    },
    {
     "name": "stderr",
     "output_type": "stream",
     "text": [
      "C:\\Users\\hazel\\anaconda3\\Lib\\site-packages\\sklearn\\model_selection\\_search.py:909: DataConversionWarning: A column-vector y was passed when a 1d array was expected. Please change the shape of y to (n_samples,), for example using ravel().\n",
      "  self.best_estimator_.fit(X, y, **fit_params)\n"
     ]
    },
    {
     "name": "stdout",
     "output_type": "stream",
     "text": [
      "Fitting 10 folds for each of 24 candidates, totalling 240 fits\n"
     ]
    },
    {
     "name": "stderr",
     "output_type": "stream",
     "text": [
      "C:\\Users\\hazel\\anaconda3\\Lib\\site-packages\\sklearn\\model_selection\\_search.py:909: DataConversionWarning: A column-vector y was passed when a 1d array was expected. Please change the shape of y to (n_samples,), for example using ravel().\n",
      "  self.best_estimator_.fit(X, y, **fit_params)\n"
     ]
    },
    {
     "name": "stdout",
     "output_type": "stream",
     "text": [
      "Fitting 10 folds for each of 24 candidates, totalling 240 fits\n"
     ]
    },
    {
     "name": "stderr",
     "output_type": "stream",
     "text": [
      "C:\\Users\\hazel\\anaconda3\\Lib\\site-packages\\sklearn\\model_selection\\_search.py:909: DataConversionWarning: A column-vector y was passed when a 1d array was expected. Please change the shape of y to (n_samples,), for example using ravel().\n",
      "  self.best_estimator_.fit(X, y, **fit_params)\n",
      "C:\\Users\\hazel\\anaconda3\\Lib\\site-packages\\sklearn\\ensemble\\_forest.py:424: FutureWarning: `max_features='auto'` has been deprecated in 1.1 and will be removed in 1.3. To keep the past behaviour, explicitly set `max_features='sqrt'` or remove this parameter as it is also the default value for RandomForestClassifiers and ExtraTreesClassifiers.\n",
      "  warn(\n"
     ]
    },
    {
     "name": "stdout",
     "output_type": "stream",
     "text": [
      "Fitting 10 folds for each of 24 candidates, totalling 240 fits\n"
     ]
    },
    {
     "name": "stderr",
     "output_type": "stream",
     "text": [
      "C:\\Users\\hazel\\anaconda3\\Lib\\site-packages\\sklearn\\model_selection\\_search.py:909: DataConversionWarning: A column-vector y was passed when a 1d array was expected. Please change the shape of y to (n_samples,), for example using ravel().\n",
      "  self.best_estimator_.fit(X, y, **fit_params)\n"
     ]
    },
    {
     "name": "stdout",
     "output_type": "stream",
     "text": [
      "Fitting 10 folds for each of 24 candidates, totalling 240 fits\n"
     ]
    },
    {
     "name": "stderr",
     "output_type": "stream",
     "text": [
      "C:\\Users\\hazel\\anaconda3\\Lib\\site-packages\\sklearn\\model_selection\\_search.py:909: DataConversionWarning: A column-vector y was passed when a 1d array was expected. Please change the shape of y to (n_samples,), for example using ravel().\n",
      "  self.best_estimator_.fit(X, y, **fit_params)\n"
     ]
    },
    {
     "name": "stdout",
     "output_type": "stream",
     "text": [
      "Fitting 10 folds for each of 24 candidates, totalling 240 fits\n"
     ]
    },
    {
     "name": "stderr",
     "output_type": "stream",
     "text": [
      "C:\\Users\\hazel\\anaconda3\\Lib\\site-packages\\sklearn\\model_selection\\_search.py:909: DataConversionWarning: A column-vector y was passed when a 1d array was expected. Please change the shape of y to (n_samples,), for example using ravel().\n",
      "  self.best_estimator_.fit(X, y, **fit_params)\n"
     ]
    },
    {
     "name": "stdout",
     "output_type": "stream",
     "text": [
      "Fitting 10 folds for each of 24 candidates, totalling 240 fits\n"
     ]
    },
    {
     "name": "stderr",
     "output_type": "stream",
     "text": [
      "C:\\Users\\hazel\\anaconda3\\Lib\\site-packages\\sklearn\\model_selection\\_search.py:909: DataConversionWarning: A column-vector y was passed when a 1d array was expected. Please change the shape of y to (n_samples,), for example using ravel().\n",
      "  self.best_estimator_.fit(X, y, **fit_params)\n"
     ]
    },
    {
     "name": "stdout",
     "output_type": "stream",
     "text": [
      "Fitting 10 folds for each of 24 candidates, totalling 240 fits\n"
     ]
    },
    {
     "name": "stderr",
     "output_type": "stream",
     "text": [
      "C:\\Users\\hazel\\anaconda3\\Lib\\site-packages\\sklearn\\model_selection\\_search.py:909: DataConversionWarning: A column-vector y was passed when a 1d array was expected. Please change the shape of y to (n_samples,), for example using ravel().\n",
      "  self.best_estimator_.fit(X, y, **fit_params)\n"
     ]
    },
    {
     "data": {
      "text/html": [
       "<div>\n",
       "<style scoped>\n",
       "    .dataframe tbody tr th:only-of-type {\n",
       "        vertical-align: middle;\n",
       "    }\n",
       "\n",
       "    .dataframe tbody tr th {\n",
       "        vertical-align: top;\n",
       "    }\n",
       "\n",
       "    .dataframe thead th {\n",
       "        text-align: right;\n",
       "    }\n",
       "</style>\n",
       "<table border=\"1\" class=\"dataframe\">\n",
       "  <thead>\n",
       "    <tr style=\"text-align: right;\">\n",
       "      <th></th>\n",
       "      <th>Test Size</th>\n",
       "      <th>Random State</th>\n",
       "      <th>Accuracy</th>\n",
       "      <th>Precision</th>\n",
       "      <th>Recall</th>\n",
       "      <th>F1 Score</th>\n",
       "      <th>Best Param</th>\n",
       "    </tr>\n",
       "  </thead>\n",
       "  <tbody>\n",
       "    <tr>\n",
       "      <th>0</th>\n",
       "      <td>0.5</td>\n",
       "      <td>7</td>\n",
       "      <td>0.551523</td>\n",
       "      <td>0.521230</td>\n",
       "      <td>0.551523</td>\n",
       "      <td>0.521330</td>\n",
       "      <td>{'criterion': 'entropy', 'max_features': 'sqrt...</td>\n",
       "    </tr>\n",
       "    <tr>\n",
       "      <th>1</th>\n",
       "      <td>0.5</td>\n",
       "      <td>69</td>\n",
       "      <td>0.528192</td>\n",
       "      <td>0.500207</td>\n",
       "      <td>0.528192</td>\n",
       "      <td>0.501301</td>\n",
       "      <td>{'criterion': 'entropy', 'max_features': 'auto...</td>\n",
       "    </tr>\n",
       "    <tr>\n",
       "      <th>2</th>\n",
       "      <td>0.5</td>\n",
       "      <td>101</td>\n",
       "      <td>0.529488</td>\n",
       "      <td>0.502411</td>\n",
       "      <td>0.529488</td>\n",
       "      <td>0.499410</td>\n",
       "      <td>{'criterion': 'gini', 'max_features': 'auto', ...</td>\n",
       "    </tr>\n",
       "    <tr>\n",
       "      <th>3</th>\n",
       "      <td>0.4</td>\n",
       "      <td>7</td>\n",
       "      <td>0.559968</td>\n",
       "      <td>0.529580</td>\n",
       "      <td>0.559968</td>\n",
       "      <td>0.529883</td>\n",
       "      <td>{'criterion': 'entropy', 'max_features': 'sqrt...</td>\n",
       "    </tr>\n",
       "    <tr>\n",
       "      <th>4</th>\n",
       "      <td>0.4</td>\n",
       "      <td>69</td>\n",
       "      <td>0.547002</td>\n",
       "      <td>0.526087</td>\n",
       "      <td>0.547002</td>\n",
       "      <td>0.522614</td>\n",
       "      <td>{'criterion': 'entropy', 'max_features': 'log2...</td>\n",
       "    </tr>\n",
       "    <tr>\n",
       "      <th>5</th>\n",
       "      <td>0.4</td>\n",
       "      <td>101</td>\n",
       "      <td>0.539708</td>\n",
       "      <td>0.518038</td>\n",
       "      <td>0.539708</td>\n",
       "      <td>0.505480</td>\n",
       "      <td>{'criterion': 'entropy', 'max_features': 'sqrt...</td>\n",
       "    </tr>\n",
       "    <tr>\n",
       "      <th>6</th>\n",
       "      <td>0.3</td>\n",
       "      <td>7</td>\n",
       "      <td>0.543197</td>\n",
       "      <td>0.509005</td>\n",
       "      <td>0.543197</td>\n",
       "      <td>0.504593</td>\n",
       "      <td>{'criterion': 'entropy', 'max_features': 'auto...</td>\n",
       "    </tr>\n",
       "    <tr>\n",
       "      <th>7</th>\n",
       "      <td>0.3</td>\n",
       "      <td>69</td>\n",
       "      <td>0.568035</td>\n",
       "      <td>0.537746</td>\n",
       "      <td>0.568035</td>\n",
       "      <td>0.538912</td>\n",
       "      <td>{'criterion': 'entropy', 'max_features': 'sqrt...</td>\n",
       "    </tr>\n",
       "    <tr>\n",
       "      <th>8</th>\n",
       "      <td>0.3</td>\n",
       "      <td>101</td>\n",
       "      <td>0.560475</td>\n",
       "      <td>0.538061</td>\n",
       "      <td>0.560475</td>\n",
       "      <td>0.530705</td>\n",
       "      <td>{'criterion': 'entropy', 'max_features': 'sqrt...</td>\n",
       "    </tr>\n",
       "    <tr>\n",
       "      <th>9</th>\n",
       "      <td>0.2</td>\n",
       "      <td>7</td>\n",
       "      <td>0.547812</td>\n",
       "      <td>0.514559</td>\n",
       "      <td>0.547812</td>\n",
       "      <td>0.512524</td>\n",
       "      <td>{'criterion': 'entropy', 'max_features': 'sqrt...</td>\n",
       "    </tr>\n",
       "    <tr>\n",
       "      <th>10</th>\n",
       "      <td>0.2</td>\n",
       "      <td>69</td>\n",
       "      <td>0.586710</td>\n",
       "      <td>0.561669</td>\n",
       "      <td>0.586710</td>\n",
       "      <td>0.549836</td>\n",
       "      <td>{'criterion': 'entropy', 'max_features': 'sqrt...</td>\n",
       "    </tr>\n",
       "    <tr>\n",
       "      <th>11</th>\n",
       "      <td>0.2</td>\n",
       "      <td>101</td>\n",
       "      <td>0.568882</td>\n",
       "      <td>0.549339</td>\n",
       "      <td>0.568882</td>\n",
       "      <td>0.541957</td>\n",
       "      <td>{'criterion': 'entropy', 'max_features': 'log2...</td>\n",
       "    </tr>\n",
       "  </tbody>\n",
       "</table>\n",
       "</div>"
      ],
      "text/plain": [
       "    Test Size  Random State  Accuracy  Precision    Recall  F1 Score  \\\n",
       "0         0.5             7  0.551523   0.521230  0.551523  0.521330   \n",
       "1         0.5            69  0.528192   0.500207  0.528192  0.501301   \n",
       "2         0.5           101  0.529488   0.502411  0.529488  0.499410   \n",
       "3         0.4             7  0.559968   0.529580  0.559968  0.529883   \n",
       "4         0.4            69  0.547002   0.526087  0.547002  0.522614   \n",
       "5         0.4           101  0.539708   0.518038  0.539708  0.505480   \n",
       "6         0.3             7  0.543197   0.509005  0.543197  0.504593   \n",
       "7         0.3            69  0.568035   0.537746  0.568035  0.538912   \n",
       "8         0.3           101  0.560475   0.538061  0.560475  0.530705   \n",
       "9         0.2             7  0.547812   0.514559  0.547812  0.512524   \n",
       "10        0.2            69  0.586710   0.561669  0.586710  0.549836   \n",
       "11        0.2           101  0.568882   0.549339  0.568882  0.541957   \n",
       "\n",
       "                                           Best Param  \n",
       "0   {'criterion': 'entropy', 'max_features': 'sqrt...  \n",
       "1   {'criterion': 'entropy', 'max_features': 'auto...  \n",
       "2   {'criterion': 'gini', 'max_features': 'auto', ...  \n",
       "3   {'criterion': 'entropy', 'max_features': 'sqrt...  \n",
       "4   {'criterion': 'entropy', 'max_features': 'log2...  \n",
       "5   {'criterion': 'entropy', 'max_features': 'sqrt...  \n",
       "6   {'criterion': 'entropy', 'max_features': 'auto...  \n",
       "7   {'criterion': 'entropy', 'max_features': 'sqrt...  \n",
       "8   {'criterion': 'entropy', 'max_features': 'sqrt...  \n",
       "9   {'criterion': 'entropy', 'max_features': 'sqrt...  \n",
       "10  {'criterion': 'entropy', 'max_features': 'sqrt...  \n",
       "11  {'criterion': 'entropy', 'max_features': 'log2...  "
      ]
     },
     "execution_count": 79,
     "metadata": {},
     "output_type": "execute_result"
    }
   ],
   "source": [
    "temp5L_SOTME_ROS = []\n",
    "\n",
    "y = merge_5L_ROS[['CGPA']]\n",
    "X = merge_5L_ROS[['Reason Study at Multimedia University', 'Lecture Class Capacity','Tutorial Class Capacity', \n",
    "                     'Classroom Facilities', 'Campus Environment']]\n",
    "\n",
    "print(\"X:\", X.shape,\"y:\", y.shape)\n",
    "\n",
    "for i in [0.5,0.4,0.3,0.2]:\n",
    "    for j in rand_states:\n",
    "        X_train, X_test, y_train, y_test = train_test_split(X, y, test_size=i, random_state=j)\n",
    "        param_grid = {'n_estimators': [100, 200, 300, 400],\n",
    "                      'max_features': ['auto', 'sqrt', 'log2'],\n",
    "                      'criterion' :['gini', 'entropy']}\n",
    "\n",
    "        model = GridSearchCV(RandomForestClassifier(), param_grid, refit=True, n_jobs=-1, cv=10, verbose=1)\n",
    "        model.fit(X_train, y_train)\n",
    "        pred = model.predict(X_test)\n",
    "\n",
    "        acc = accuracy_score(y_test,pred)\n",
    "        pre = precision_score(y_test, pred, average='weighted')\n",
    "        recall = recall_score(y_test, pred, average='weighted')\n",
    "        f1 = f1_score(y_test, pred, average='weighted')\n",
    "        param = model.best_params_\n",
    "    \n",
    "        temp5L_SOTME_ROS.append([i,j,acc,pre,recall,f1,param])\n",
    "        \n",
    "df5L_SOTME_ROS = pd.DataFrame(columns=['Test Size','Random State','Accuracy','Precision','Recall','F1 Score','Best Param'],data=temp5L_SOTME_ROS)\n",
    "df5L_SOTME_ROS"
   ]
  },
  {
   "cell_type": "code",
   "execution_count": 80,
   "id": "49001e6a-692b-4da2-8dae-e8f56ce4320e",
   "metadata": {},
   "outputs": [
    {
     "data": {
      "text/html": [
       "<div>\n",
       "<style scoped>\n",
       "    .dataframe tbody tr th:only-of-type {\n",
       "        vertical-align: middle;\n",
       "    }\n",
       "\n",
       "    .dataframe tbody tr th {\n",
       "        vertical-align: top;\n",
       "    }\n",
       "\n",
       "    .dataframe thead th {\n",
       "        text-align: right;\n",
       "    }\n",
       "</style>\n",
       "<table border=\"1\" class=\"dataframe\">\n",
       "  <thead>\n",
       "    <tr style=\"text-align: right;\">\n",
       "      <th></th>\n",
       "      <th>Accuracy</th>\n",
       "      <th>Precision</th>\n",
       "      <th>Recall</th>\n",
       "      <th>F1 Score</th>\n",
       "    </tr>\n",
       "    <tr>\n",
       "      <th>Test Size</th>\n",
       "      <th></th>\n",
       "      <th></th>\n",
       "      <th></th>\n",
       "      <th></th>\n",
       "    </tr>\n",
       "  </thead>\n",
       "  <tbody>\n",
       "    <tr>\n",
       "      <th>0.2</th>\n",
       "      <td>0.567801</td>\n",
       "      <td>0.541856</td>\n",
       "      <td>0.567801</td>\n",
       "      <td>0.534772</td>\n",
       "    </tr>\n",
       "    <tr>\n",
       "      <th>0.3</th>\n",
       "      <td>0.557235</td>\n",
       "      <td>0.528271</td>\n",
       "      <td>0.557235</td>\n",
       "      <td>0.524737</td>\n",
       "    </tr>\n",
       "    <tr>\n",
       "      <th>0.4</th>\n",
       "      <td>0.548892</td>\n",
       "      <td>0.524568</td>\n",
       "      <td>0.548892</td>\n",
       "      <td>0.519326</td>\n",
       "    </tr>\n",
       "    <tr>\n",
       "      <th>0.5</th>\n",
       "      <td>0.536401</td>\n",
       "      <td>0.507949</td>\n",
       "      <td>0.536401</td>\n",
       "      <td>0.507347</td>\n",
       "    </tr>\n",
       "  </tbody>\n",
       "</table>\n",
       "</div>"
      ],
      "text/plain": [
       "           Accuracy  Precision    Recall  F1 Score\n",
       "Test Size                                         \n",
       "0.2        0.567801   0.541856  0.567801  0.534772\n",
       "0.3        0.557235   0.528271  0.557235  0.524737\n",
       "0.4        0.548892   0.524568  0.548892  0.519326\n",
       "0.5        0.536401   0.507949  0.536401  0.507347"
      ]
     },
     "execution_count": 80,
     "metadata": {},
     "output_type": "execute_result"
    }
   ],
   "source": [
    "df5L_SOTME_ROS.groupby('Test Size')[['Accuracy','Precision','Recall','F1 Score']].mean()"
   ]
  },
  {
   "cell_type": "code",
   "execution_count": 81,
   "id": "d6d0bc01-8c90-424b-acda-9f066f302ab4",
   "metadata": {},
   "outputs": [
    {
     "name": "stdout",
     "output_type": "stream",
     "text": [
      "5-Level: Student Opinion Towards MMU Environment\n",
      "\n",
      "{'criterion': 'entropy', 'max_features': 'sqrt', 'n_estimators': 100}\n",
      "{'criterion': 'entropy', 'max_features': 'auto', 'n_estimators': 100}\n",
      "{'criterion': 'gini', 'max_features': 'auto', 'n_estimators': 300}\n",
      "{'criterion': 'entropy', 'max_features': 'sqrt', 'n_estimators': 100}\n",
      "{'criterion': 'entropy', 'max_features': 'log2', 'n_estimators': 100}\n",
      "{'criterion': 'entropy', 'max_features': 'sqrt', 'n_estimators': 100}\n",
      "{'criterion': 'entropy', 'max_features': 'auto', 'n_estimators': 300}\n",
      "{'criterion': 'entropy', 'max_features': 'sqrt', 'n_estimators': 200}\n",
      "{'criterion': 'entropy', 'max_features': 'sqrt', 'n_estimators': 300}\n",
      "{'criterion': 'entropy', 'max_features': 'sqrt', 'n_estimators': 400}\n",
      "{'criterion': 'entropy', 'max_features': 'sqrt', 'n_estimators': 300}\n",
      "{'criterion': 'entropy', 'max_features': 'log2', 'n_estimators': 200}\n"
     ]
    }
   ],
   "source": [
    "print(\"5-Level: Student Opinion Towards MMU Environment\\n\")\n",
    "for x in df5L_SOTME_ROS[\"Best Param\"]:\n",
    "    print(x)"
   ]
  },
  {
   "cell_type": "markdown",
   "id": "f44cc727-1838-47c5-87f1-cb37ee1a5f8b",
   "metadata": {},
   "source": [
    "### SOTME after SMOTE"
   ]
  },
  {
   "cell_type": "code",
   "execution_count": 82,
   "id": "a7aed64c-a0b2-4c70-b702-945fbeb21818",
   "metadata": {},
   "outputs": [
    {
     "name": "stdout",
     "output_type": "stream",
     "text": [
      "X: (3085, 5) y: (3085, 1)\n",
      "Fitting 10 folds for each of 24 candidates, totalling 240 fits\n"
     ]
    },
    {
     "name": "stderr",
     "output_type": "stream",
     "text": [
      "C:\\Users\\hazel\\anaconda3\\Lib\\site-packages\\sklearn\\model_selection\\_search.py:909: DataConversionWarning: A column-vector y was passed when a 1d array was expected. Please change the shape of y to (n_samples,), for example using ravel().\n",
      "  self.best_estimator_.fit(X, y, **fit_params)\n"
     ]
    },
    {
     "name": "stdout",
     "output_type": "stream",
     "text": [
      "Fitting 10 folds for each of 24 candidates, totalling 240 fits\n"
     ]
    },
    {
     "name": "stderr",
     "output_type": "stream",
     "text": [
      "C:\\Users\\hazel\\anaconda3\\Lib\\site-packages\\sklearn\\model_selection\\_search.py:909: DataConversionWarning: A column-vector y was passed when a 1d array was expected. Please change the shape of y to (n_samples,), for example using ravel().\n",
      "  self.best_estimator_.fit(X, y, **fit_params)\n"
     ]
    },
    {
     "name": "stdout",
     "output_type": "stream",
     "text": [
      "Fitting 10 folds for each of 24 candidates, totalling 240 fits\n"
     ]
    },
    {
     "name": "stderr",
     "output_type": "stream",
     "text": [
      "C:\\Users\\hazel\\anaconda3\\Lib\\site-packages\\sklearn\\model_selection\\_search.py:909: DataConversionWarning: A column-vector y was passed when a 1d array was expected. Please change the shape of y to (n_samples,), for example using ravel().\n",
      "  self.best_estimator_.fit(X, y, **fit_params)\n",
      "C:\\Users\\hazel\\anaconda3\\Lib\\site-packages\\sklearn\\ensemble\\_forest.py:424: FutureWarning: `max_features='auto'` has been deprecated in 1.1 and will be removed in 1.3. To keep the past behaviour, explicitly set `max_features='sqrt'` or remove this parameter as it is also the default value for RandomForestClassifiers and ExtraTreesClassifiers.\n",
      "  warn(\n"
     ]
    },
    {
     "name": "stdout",
     "output_type": "stream",
     "text": [
      "Fitting 10 folds for each of 24 candidates, totalling 240 fits\n"
     ]
    },
    {
     "name": "stderr",
     "output_type": "stream",
     "text": [
      "C:\\Users\\hazel\\anaconda3\\Lib\\site-packages\\sklearn\\model_selection\\_search.py:909: DataConversionWarning: A column-vector y was passed when a 1d array was expected. Please change the shape of y to (n_samples,), for example using ravel().\n",
      "  self.best_estimator_.fit(X, y, **fit_params)\n"
     ]
    },
    {
     "name": "stdout",
     "output_type": "stream",
     "text": [
      "Fitting 10 folds for each of 24 candidates, totalling 240 fits\n"
     ]
    },
    {
     "name": "stderr",
     "output_type": "stream",
     "text": [
      "C:\\Users\\hazel\\anaconda3\\Lib\\site-packages\\sklearn\\model_selection\\_search.py:909: DataConversionWarning: A column-vector y was passed when a 1d array was expected. Please change the shape of y to (n_samples,), for example using ravel().\n",
      "  self.best_estimator_.fit(X, y, **fit_params)\n"
     ]
    },
    {
     "name": "stdout",
     "output_type": "stream",
     "text": [
      "Fitting 10 folds for each of 24 candidates, totalling 240 fits\n"
     ]
    },
    {
     "name": "stderr",
     "output_type": "stream",
     "text": [
      "C:\\Users\\hazel\\anaconda3\\Lib\\site-packages\\sklearn\\model_selection\\_search.py:909: DataConversionWarning: A column-vector y was passed when a 1d array was expected. Please change the shape of y to (n_samples,), for example using ravel().\n",
      "  self.best_estimator_.fit(X, y, **fit_params)\n"
     ]
    },
    {
     "name": "stdout",
     "output_type": "stream",
     "text": [
      "Fitting 10 folds for each of 24 candidates, totalling 240 fits\n"
     ]
    },
    {
     "name": "stderr",
     "output_type": "stream",
     "text": [
      "C:\\Users\\hazel\\anaconda3\\Lib\\site-packages\\sklearn\\model_selection\\_search.py:909: DataConversionWarning: A column-vector y was passed when a 1d array was expected. Please change the shape of y to (n_samples,), for example using ravel().\n",
      "  self.best_estimator_.fit(X, y, **fit_params)\n"
     ]
    },
    {
     "name": "stdout",
     "output_type": "stream",
     "text": [
      "Fitting 10 folds for each of 24 candidates, totalling 240 fits\n"
     ]
    },
    {
     "name": "stderr",
     "output_type": "stream",
     "text": [
      "C:\\Users\\hazel\\anaconda3\\Lib\\site-packages\\sklearn\\model_selection\\_search.py:909: DataConversionWarning: A column-vector y was passed when a 1d array was expected. Please change the shape of y to (n_samples,), for example using ravel().\n",
      "  self.best_estimator_.fit(X, y, **fit_params)\n"
     ]
    },
    {
     "name": "stdout",
     "output_type": "stream",
     "text": [
      "Fitting 10 folds for each of 24 candidates, totalling 240 fits\n"
     ]
    },
    {
     "name": "stderr",
     "output_type": "stream",
     "text": [
      "C:\\Users\\hazel\\anaconda3\\Lib\\site-packages\\sklearn\\model_selection\\_search.py:909: DataConversionWarning: A column-vector y was passed when a 1d array was expected. Please change the shape of y to (n_samples,), for example using ravel().\n",
      "  self.best_estimator_.fit(X, y, **fit_params)\n",
      "C:\\Users\\hazel\\anaconda3\\Lib\\site-packages\\sklearn\\ensemble\\_forest.py:424: FutureWarning: `max_features='auto'` has been deprecated in 1.1 and will be removed in 1.3. To keep the past behaviour, explicitly set `max_features='sqrt'` or remove this parameter as it is also the default value for RandomForestClassifiers and ExtraTreesClassifiers.\n",
      "  warn(\n"
     ]
    },
    {
     "name": "stdout",
     "output_type": "stream",
     "text": [
      "Fitting 10 folds for each of 24 candidates, totalling 240 fits\n"
     ]
    },
    {
     "name": "stderr",
     "output_type": "stream",
     "text": [
      "C:\\Users\\hazel\\anaconda3\\Lib\\site-packages\\sklearn\\model_selection\\_search.py:909: DataConversionWarning: A column-vector y was passed when a 1d array was expected. Please change the shape of y to (n_samples,), for example using ravel().\n",
      "  self.best_estimator_.fit(X, y, **fit_params)\n"
     ]
    },
    {
     "name": "stdout",
     "output_type": "stream",
     "text": [
      "Fitting 10 folds for each of 24 candidates, totalling 240 fits\n"
     ]
    },
    {
     "name": "stderr",
     "output_type": "stream",
     "text": [
      "C:\\Users\\hazel\\anaconda3\\Lib\\site-packages\\sklearn\\model_selection\\_search.py:909: DataConversionWarning: A column-vector y was passed when a 1d array was expected. Please change the shape of y to (n_samples,), for example using ravel().\n",
      "  self.best_estimator_.fit(X, y, **fit_params)\n",
      "C:\\Users\\hazel\\anaconda3\\Lib\\site-packages\\sklearn\\ensemble\\_forest.py:424: FutureWarning: `max_features='auto'` has been deprecated in 1.1 and will be removed in 1.3. To keep the past behaviour, explicitly set `max_features='sqrt'` or remove this parameter as it is also the default value for RandomForestClassifiers and ExtraTreesClassifiers.\n",
      "  warn(\n"
     ]
    },
    {
     "name": "stdout",
     "output_type": "stream",
     "text": [
      "Fitting 10 folds for each of 24 candidates, totalling 240 fits\n"
     ]
    },
    {
     "name": "stderr",
     "output_type": "stream",
     "text": [
      "C:\\Users\\hazel\\anaconda3\\Lib\\site-packages\\sklearn\\model_selection\\_search.py:909: DataConversionWarning: A column-vector y was passed when a 1d array was expected. Please change the shape of y to (n_samples,), for example using ravel().\n",
      "  self.best_estimator_.fit(X, y, **fit_params)\n"
     ]
    },
    {
     "data": {
      "text/html": [
       "<div>\n",
       "<style scoped>\n",
       "    .dataframe tbody tr th:only-of-type {\n",
       "        vertical-align: middle;\n",
       "    }\n",
       "\n",
       "    .dataframe tbody tr th {\n",
       "        vertical-align: top;\n",
       "    }\n",
       "\n",
       "    .dataframe thead th {\n",
       "        text-align: right;\n",
       "    }\n",
       "</style>\n",
       "<table border=\"1\" class=\"dataframe\">\n",
       "  <thead>\n",
       "    <tr style=\"text-align: right;\">\n",
       "      <th></th>\n",
       "      <th>Test Size</th>\n",
       "      <th>Random State</th>\n",
       "      <th>Accuracy</th>\n",
       "      <th>Precision</th>\n",
       "      <th>Recall</th>\n",
       "      <th>F1 Score</th>\n",
       "      <th>Best Param</th>\n",
       "    </tr>\n",
       "  </thead>\n",
       "  <tbody>\n",
       "    <tr>\n",
       "      <th>0</th>\n",
       "      <td>0.5</td>\n",
       "      <td>7</td>\n",
       "      <td>0.451717</td>\n",
       "      <td>0.450965</td>\n",
       "      <td>0.451717</td>\n",
       "      <td>0.448029</td>\n",
       "      <td>{'criterion': 'gini', 'max_features': 'sqrt', ...</td>\n",
       "    </tr>\n",
       "    <tr>\n",
       "      <th>1</th>\n",
       "      <td>0.5</td>\n",
       "      <td>69</td>\n",
       "      <td>0.437459</td>\n",
       "      <td>0.435880</td>\n",
       "      <td>0.437459</td>\n",
       "      <td>0.431725</td>\n",
       "      <td>{'criterion': 'entropy', 'max_features': 'log2...</td>\n",
       "    </tr>\n",
       "    <tr>\n",
       "      <th>2</th>\n",
       "      <td>0.5</td>\n",
       "      <td>101</td>\n",
       "      <td>0.427738</td>\n",
       "      <td>0.426471</td>\n",
       "      <td>0.427738</td>\n",
       "      <td>0.425787</td>\n",
       "      <td>{'criterion': 'entropy', 'max_features': 'auto...</td>\n",
       "    </tr>\n",
       "    <tr>\n",
       "      <th>3</th>\n",
       "      <td>0.4</td>\n",
       "      <td>7</td>\n",
       "      <td>0.450567</td>\n",
       "      <td>0.448403</td>\n",
       "      <td>0.450567</td>\n",
       "      <td>0.448583</td>\n",
       "      <td>{'criterion': 'entropy', 'max_features': 'sqrt...</td>\n",
       "    </tr>\n",
       "    <tr>\n",
       "      <th>4</th>\n",
       "      <td>0.4</td>\n",
       "      <td>69</td>\n",
       "      <td>0.451378</td>\n",
       "      <td>0.452837</td>\n",
       "      <td>0.451378</td>\n",
       "      <td>0.447865</td>\n",
       "      <td>{'criterion': 'entropy', 'max_features': 'sqrt...</td>\n",
       "    </tr>\n",
       "    <tr>\n",
       "      <th>5</th>\n",
       "      <td>0.4</td>\n",
       "      <td>101</td>\n",
       "      <td>0.413290</td>\n",
       "      <td>0.408552</td>\n",
       "      <td>0.413290</td>\n",
       "      <td>0.408498</td>\n",
       "      <td>{'criterion': 'entropy', 'max_features': 'sqrt...</td>\n",
       "    </tr>\n",
       "    <tr>\n",
       "      <th>6</th>\n",
       "      <td>0.3</td>\n",
       "      <td>7</td>\n",
       "      <td>0.434125</td>\n",
       "      <td>0.433698</td>\n",
       "      <td>0.434125</td>\n",
       "      <td>0.432907</td>\n",
       "      <td>{'criterion': 'entropy', 'max_features': 'sqrt...</td>\n",
       "    </tr>\n",
       "    <tr>\n",
       "      <th>7</th>\n",
       "      <td>0.3</td>\n",
       "      <td>69</td>\n",
       "      <td>0.443844</td>\n",
       "      <td>0.456370</td>\n",
       "      <td>0.443844</td>\n",
       "      <td>0.445053</td>\n",
       "      <td>{'criterion': 'entropy', 'max_features': 'log2...</td>\n",
       "    </tr>\n",
       "    <tr>\n",
       "      <th>8</th>\n",
       "      <td>0.3</td>\n",
       "      <td>101</td>\n",
       "      <td>0.417927</td>\n",
       "      <td>0.410898</td>\n",
       "      <td>0.417927</td>\n",
       "      <td>0.411697</td>\n",
       "      <td>{'criterion': 'entropy', 'max_features': 'auto...</td>\n",
       "    </tr>\n",
       "    <tr>\n",
       "      <th>9</th>\n",
       "      <td>0.2</td>\n",
       "      <td>7</td>\n",
       "      <td>0.448947</td>\n",
       "      <td>0.448263</td>\n",
       "      <td>0.448947</td>\n",
       "      <td>0.446973</td>\n",
       "      <td>{'criterion': 'gini', 'max_features': 'sqrt', ...</td>\n",
       "    </tr>\n",
       "    <tr>\n",
       "      <th>10</th>\n",
       "      <td>0.2</td>\n",
       "      <td>69</td>\n",
       "      <td>0.435981</td>\n",
       "      <td>0.436132</td>\n",
       "      <td>0.435981</td>\n",
       "      <td>0.433740</td>\n",
       "      <td>{'criterion': 'gini', 'max_features': 'auto', ...</td>\n",
       "    </tr>\n",
       "    <tr>\n",
       "      <th>11</th>\n",
       "      <td>0.2</td>\n",
       "      <td>101</td>\n",
       "      <td>0.432739</td>\n",
       "      <td>0.440410</td>\n",
       "      <td>0.432739</td>\n",
       "      <td>0.436143</td>\n",
       "      <td>{'criterion': 'entropy', 'max_features': 'sqrt...</td>\n",
       "    </tr>\n",
       "  </tbody>\n",
       "</table>\n",
       "</div>"
      ],
      "text/plain": [
       "    Test Size  Random State  Accuracy  Precision    Recall  F1 Score  \\\n",
       "0         0.5             7  0.451717   0.450965  0.451717  0.448029   \n",
       "1         0.5            69  0.437459   0.435880  0.437459  0.431725   \n",
       "2         0.5           101  0.427738   0.426471  0.427738  0.425787   \n",
       "3         0.4             7  0.450567   0.448403  0.450567  0.448583   \n",
       "4         0.4            69  0.451378   0.452837  0.451378  0.447865   \n",
       "5         0.4           101  0.413290   0.408552  0.413290  0.408498   \n",
       "6         0.3             7  0.434125   0.433698  0.434125  0.432907   \n",
       "7         0.3            69  0.443844   0.456370  0.443844  0.445053   \n",
       "8         0.3           101  0.417927   0.410898  0.417927  0.411697   \n",
       "9         0.2             7  0.448947   0.448263  0.448947  0.446973   \n",
       "10        0.2            69  0.435981   0.436132  0.435981  0.433740   \n",
       "11        0.2           101  0.432739   0.440410  0.432739  0.436143   \n",
       "\n",
       "                                           Best Param  \n",
       "0   {'criterion': 'gini', 'max_features': 'sqrt', ...  \n",
       "1   {'criterion': 'entropy', 'max_features': 'log2...  \n",
       "2   {'criterion': 'entropy', 'max_features': 'auto...  \n",
       "3   {'criterion': 'entropy', 'max_features': 'sqrt...  \n",
       "4   {'criterion': 'entropy', 'max_features': 'sqrt...  \n",
       "5   {'criterion': 'entropy', 'max_features': 'sqrt...  \n",
       "6   {'criterion': 'entropy', 'max_features': 'sqrt...  \n",
       "7   {'criterion': 'entropy', 'max_features': 'log2...  \n",
       "8   {'criterion': 'entropy', 'max_features': 'auto...  \n",
       "9   {'criterion': 'gini', 'max_features': 'sqrt', ...  \n",
       "10  {'criterion': 'gini', 'max_features': 'auto', ...  \n",
       "11  {'criterion': 'entropy', 'max_features': 'sqrt...  "
      ]
     },
     "execution_count": 82,
     "metadata": {},
     "output_type": "execute_result"
    }
   ],
   "source": [
    "temp5L_SOTME_SMOTE = []\n",
    "\n",
    "y = merge_5L_SMOTE[['CGPA']]\n",
    "X = merge_5L_SMOTE[['Reason Study at Multimedia University', 'Lecture Class Capacity','Tutorial Class Capacity', \n",
    "                     'Classroom Facilities', 'Campus Environment']]\n",
    "\n",
    "print(\"X:\", X.shape,\"y:\", y.shape)\n",
    "\n",
    "for i in [0.5,0.4,0.3,0.2]:\n",
    "    for j in rand_states:\n",
    "        X_train, X_test, y_train, y_test = train_test_split(X, y, test_size=i, random_state=j)\n",
    "        param_grid = {'n_estimators': [100, 200, 300, 400],\n",
    "                      'max_features': ['auto', 'sqrt', 'log2'],\n",
    "                      'criterion' :['gini', 'entropy']}\n",
    "\n",
    "        model = GridSearchCV(RandomForestClassifier(), param_grid, refit=True, n_jobs=-1, cv=10, verbose=1)\n",
    "        model.fit(X_train, y_train)\n",
    "        pred = model.predict(X_test)\n",
    "\n",
    "        acc = accuracy_score(y_test,pred)\n",
    "        pre = precision_score(y_test, pred, average='weighted')\n",
    "        recall = recall_score(y_test, pred, average='weighted')\n",
    "        f1 = f1_score(y_test, pred, average='weighted')\n",
    "        param = model.best_params_\n",
    "    \n",
    "        temp5L_SOTME_SMOTE.append([i,j,acc,pre,recall,f1,param])\n",
    "        \n",
    "df5L_SOTME_SMOTE = pd.DataFrame(columns=['Test Size','Random State','Accuracy','Precision','Recall','F1 Score','Best Param'],data=temp5L_SOTME_SMOTE)\n",
    "df5L_SOTME_SMOTE"
   ]
  },
  {
   "cell_type": "code",
   "execution_count": 83,
   "id": "839bf5ea-d4c4-4c6a-bc8d-73c0290f888b",
   "metadata": {},
   "outputs": [
    {
     "data": {
      "text/html": [
       "<div>\n",
       "<style scoped>\n",
       "    .dataframe tbody tr th:only-of-type {\n",
       "        vertical-align: middle;\n",
       "    }\n",
       "\n",
       "    .dataframe tbody tr th {\n",
       "        vertical-align: top;\n",
       "    }\n",
       "\n",
       "    .dataframe thead th {\n",
       "        text-align: right;\n",
       "    }\n",
       "</style>\n",
       "<table border=\"1\" class=\"dataframe\">\n",
       "  <thead>\n",
       "    <tr style=\"text-align: right;\">\n",
       "      <th></th>\n",
       "      <th>Accuracy</th>\n",
       "      <th>Precision</th>\n",
       "      <th>Recall</th>\n",
       "      <th>F1 Score</th>\n",
       "    </tr>\n",
       "    <tr>\n",
       "      <th>Test Size</th>\n",
       "      <th></th>\n",
       "      <th></th>\n",
       "      <th></th>\n",
       "      <th></th>\n",
       "    </tr>\n",
       "  </thead>\n",
       "  <tbody>\n",
       "    <tr>\n",
       "      <th>0.2</th>\n",
       "      <td>0.439222</td>\n",
       "      <td>0.441602</td>\n",
       "      <td>0.439222</td>\n",
       "      <td>0.438952</td>\n",
       "    </tr>\n",
       "    <tr>\n",
       "      <th>0.3</th>\n",
       "      <td>0.431965</td>\n",
       "      <td>0.433655</td>\n",
       "      <td>0.431965</td>\n",
       "      <td>0.429886</td>\n",
       "    </tr>\n",
       "    <tr>\n",
       "      <th>0.4</th>\n",
       "      <td>0.438412</td>\n",
       "      <td>0.436597</td>\n",
       "      <td>0.438412</td>\n",
       "      <td>0.434982</td>\n",
       "    </tr>\n",
       "    <tr>\n",
       "      <th>0.5</th>\n",
       "      <td>0.438972</td>\n",
       "      <td>0.437772</td>\n",
       "      <td>0.438972</td>\n",
       "      <td>0.435180</td>\n",
       "    </tr>\n",
       "  </tbody>\n",
       "</table>\n",
       "</div>"
      ],
      "text/plain": [
       "           Accuracy  Precision    Recall  F1 Score\n",
       "Test Size                                         \n",
       "0.2        0.439222   0.441602  0.439222  0.438952\n",
       "0.3        0.431965   0.433655  0.431965  0.429886\n",
       "0.4        0.438412   0.436597  0.438412  0.434982\n",
       "0.5        0.438972   0.437772  0.438972  0.435180"
      ]
     },
     "execution_count": 83,
     "metadata": {},
     "output_type": "execute_result"
    }
   ],
   "source": [
    "df5L_SOTME_SMOTE.groupby('Test Size')[['Accuracy','Precision','Recall','F1 Score']].mean()"
   ]
  },
  {
   "cell_type": "code",
   "execution_count": 84,
   "id": "45ebcaff-c03f-441f-8886-9927c0a1d21c",
   "metadata": {},
   "outputs": [
    {
     "name": "stdout",
     "output_type": "stream",
     "text": [
      "SMOTE 5-Level: Student Opinion Towards MMU Environment\n",
      "\n",
      "{'criterion': 'gini', 'max_features': 'sqrt', 'n_estimators': 400}\n",
      "{'criterion': 'entropy', 'max_features': 'log2', 'n_estimators': 200}\n",
      "{'criterion': 'entropy', 'max_features': 'auto', 'n_estimators': 300}\n",
      "{'criterion': 'entropy', 'max_features': 'sqrt', 'n_estimators': 300}\n",
      "{'criterion': 'entropy', 'max_features': 'sqrt', 'n_estimators': 200}\n",
      "{'criterion': 'entropy', 'max_features': 'sqrt', 'n_estimators': 100}\n",
      "{'criterion': 'entropy', 'max_features': 'sqrt', 'n_estimators': 300}\n",
      "{'criterion': 'entropy', 'max_features': 'log2', 'n_estimators': 400}\n",
      "{'criterion': 'entropy', 'max_features': 'auto', 'n_estimators': 300}\n",
      "{'criterion': 'gini', 'max_features': 'sqrt', 'n_estimators': 200}\n",
      "{'criterion': 'gini', 'max_features': 'auto', 'n_estimators': 200}\n",
      "{'criterion': 'entropy', 'max_features': 'sqrt', 'n_estimators': 400}\n"
     ]
    }
   ],
   "source": [
    "print(\"SMOTE 5-Level: Student Opinion Towards MMU Environment\\n\")\n",
    "for x in df5L_SOTME_SMOTE[\"Best Param\"]:\n",
    "    print(x)"
   ]
  },
  {
   "cell_type": "markdown",
   "id": "6d9e707a-11b8-46d9-b18b-4470e341477a",
   "metadata": {},
   "source": [
    "## Student Family Background"
   ]
  },
  {
   "cell_type": "markdown",
   "id": "f2083735-bd9b-469f-a988-6b533176ba6a",
   "metadata": {},
   "source": [
    "### SFB before Data Balancing"
   ]
  },
  {
   "cell_type": "code",
   "execution_count": 85,
   "id": "3d330c3c-c194-4e54-ada6-1be2db02b805",
   "metadata": {},
   "outputs": [
    {
     "name": "stdout",
     "output_type": "stream",
     "text": [
      "X: (1287, 7) y: (1287, 1)\n",
      "Fitting 10 folds for each of 24 candidates, totalling 240 fits\n"
     ]
    },
    {
     "name": "stderr",
     "output_type": "stream",
     "text": [
      "C:\\Users\\hazel\\anaconda3\\Lib\\site-packages\\sklearn\\model_selection\\_split.py:700: UserWarning: The least populated class in y has only 8 members, which is less than n_splits=10.\n",
      "  warnings.warn(\n",
      "C:\\Users\\hazel\\anaconda3\\Lib\\site-packages\\sklearn\\model_selection\\_search.py:909: DataConversionWarning: A column-vector y was passed when a 1d array was expected. Please change the shape of y to (n_samples,), for example using ravel().\n",
      "  self.best_estimator_.fit(X, y, **fit_params)\n"
     ]
    },
    {
     "name": "stdout",
     "output_type": "stream",
     "text": [
      "Fitting 10 folds for each of 24 candidates, totalling 240 fits\n"
     ]
    },
    {
     "name": "stderr",
     "output_type": "stream",
     "text": [
      "C:\\Users\\hazel\\anaconda3\\Lib\\site-packages\\sklearn\\model_selection\\_split.py:700: UserWarning: The least populated class in y has only 8 members, which is less than n_splits=10.\n",
      "  warnings.warn(\n",
      "C:\\Users\\hazel\\anaconda3\\Lib\\site-packages\\sklearn\\model_selection\\_search.py:909: DataConversionWarning: A column-vector y was passed when a 1d array was expected. Please change the shape of y to (n_samples,), for example using ravel().\n",
      "  self.best_estimator_.fit(X, y, **fit_params)\n"
     ]
    },
    {
     "name": "stdout",
     "output_type": "stream",
     "text": [
      "Fitting 10 folds for each of 24 candidates, totalling 240 fits\n"
     ]
    },
    {
     "name": "stderr",
     "output_type": "stream",
     "text": [
      "C:\\Users\\hazel\\anaconda3\\Lib\\site-packages\\sklearn\\model_selection\\_split.py:700: UserWarning: The least populated class in y has only 8 members, which is less than n_splits=10.\n",
      "  warnings.warn(\n",
      "C:\\Users\\hazel\\anaconda3\\Lib\\site-packages\\sklearn\\model_selection\\_search.py:909: DataConversionWarning: A column-vector y was passed when a 1d array was expected. Please change the shape of y to (n_samples,), for example using ravel().\n",
      "  self.best_estimator_.fit(X, y, **fit_params)\n",
      "C:\\Users\\hazel\\anaconda3\\Lib\\site-packages\\sklearn\\metrics\\_classification.py:1344: UndefinedMetricWarning: Precision is ill-defined and being set to 0.0 in labels with no predicted samples. Use `zero_division` parameter to control this behavior.\n",
      "  _warn_prf(average, modifier, msg_start, len(result))\n"
     ]
    },
    {
     "name": "stdout",
     "output_type": "stream",
     "text": [
      "Fitting 10 folds for each of 24 candidates, totalling 240 fits\n"
     ]
    },
    {
     "name": "stderr",
     "output_type": "stream",
     "text": [
      "C:\\Users\\hazel\\anaconda3\\Lib\\site-packages\\sklearn\\model_selection\\_search.py:909: DataConversionWarning: A column-vector y was passed when a 1d array was expected. Please change the shape of y to (n_samples,), for example using ravel().\n",
      "  self.best_estimator_.fit(X, y, **fit_params)\n"
     ]
    },
    {
     "name": "stdout",
     "output_type": "stream",
     "text": [
      "Fitting 10 folds for each of 24 candidates, totalling 240 fits\n"
     ]
    },
    {
     "name": "stderr",
     "output_type": "stream",
     "text": [
      "C:\\Users\\hazel\\anaconda3\\Lib\\site-packages\\sklearn\\model_selection\\_split.py:700: UserWarning: The least populated class in y has only 9 members, which is less than n_splits=10.\n",
      "  warnings.warn(\n",
      "C:\\Users\\hazel\\anaconda3\\Lib\\site-packages\\sklearn\\model_selection\\_search.py:909: DataConversionWarning: A column-vector y was passed when a 1d array was expected. Please change the shape of y to (n_samples,), for example using ravel().\n",
      "  self.best_estimator_.fit(X, y, **fit_params)\n"
     ]
    },
    {
     "name": "stdout",
     "output_type": "stream",
     "text": [
      "Fitting 10 folds for each of 24 candidates, totalling 240 fits\n"
     ]
    },
    {
     "name": "stderr",
     "output_type": "stream",
     "text": [
      "C:\\Users\\hazel\\anaconda3\\Lib\\site-packages\\sklearn\\model_selection\\_search.py:909: DataConversionWarning: A column-vector y was passed when a 1d array was expected. Please change the shape of y to (n_samples,), for example using ravel().\n",
      "  self.best_estimator_.fit(X, y, **fit_params)\n",
      "C:\\Users\\hazel\\anaconda3\\Lib\\site-packages\\sklearn\\ensemble\\_forest.py:424: FutureWarning: `max_features='auto'` has been deprecated in 1.1 and will be removed in 1.3. To keep the past behaviour, explicitly set `max_features='sqrt'` or remove this parameter as it is also the default value for RandomForestClassifiers and ExtraTreesClassifiers.\n",
      "  warn(\n",
      "C:\\Users\\hazel\\anaconda3\\Lib\\site-packages\\sklearn\\metrics\\_classification.py:1344: UndefinedMetricWarning: Precision is ill-defined and being set to 0.0 in labels with no predicted samples. Use `zero_division` parameter to control this behavior.\n",
      "  _warn_prf(average, modifier, msg_start, len(result))\n"
     ]
    },
    {
     "name": "stdout",
     "output_type": "stream",
     "text": [
      "Fitting 10 folds for each of 24 candidates, totalling 240 fits\n"
     ]
    },
    {
     "name": "stderr",
     "output_type": "stream",
     "text": [
      "C:\\Users\\hazel\\anaconda3\\Lib\\site-packages\\sklearn\\model_selection\\_search.py:909: DataConversionWarning: A column-vector y was passed when a 1d array was expected. Please change the shape of y to (n_samples,), for example using ravel().\n",
      "  self.best_estimator_.fit(X, y, **fit_params)\n",
      "C:\\Users\\hazel\\anaconda3\\Lib\\site-packages\\sklearn\\ensemble\\_forest.py:424: FutureWarning: `max_features='auto'` has been deprecated in 1.1 and will be removed in 1.3. To keep the past behaviour, explicitly set `max_features='sqrt'` or remove this parameter as it is also the default value for RandomForestClassifiers and ExtraTreesClassifiers.\n",
      "  warn(\n"
     ]
    },
    {
     "name": "stdout",
     "output_type": "stream",
     "text": [
      "Fitting 10 folds for each of 24 candidates, totalling 240 fits\n"
     ]
    },
    {
     "name": "stderr",
     "output_type": "stream",
     "text": [
      "C:\\Users\\hazel\\anaconda3\\Lib\\site-packages\\sklearn\\model_selection\\_search.py:909: DataConversionWarning: A column-vector y was passed when a 1d array was expected. Please change the shape of y to (n_samples,), for example using ravel().\n",
      "  self.best_estimator_.fit(X, y, **fit_params)\n",
      "C:\\Users\\hazel\\anaconda3\\Lib\\site-packages\\sklearn\\ensemble\\_forest.py:424: FutureWarning: `max_features='auto'` has been deprecated in 1.1 and will be removed in 1.3. To keep the past behaviour, explicitly set `max_features='sqrt'` or remove this parameter as it is also the default value for RandomForestClassifiers and ExtraTreesClassifiers.\n",
      "  warn(\n"
     ]
    },
    {
     "name": "stdout",
     "output_type": "stream",
     "text": [
      "Fitting 10 folds for each of 24 candidates, totalling 240 fits\n"
     ]
    },
    {
     "name": "stderr",
     "output_type": "stream",
     "text": [
      "C:\\Users\\hazel\\anaconda3\\Lib\\site-packages\\sklearn\\model_selection\\_search.py:909: DataConversionWarning: A column-vector y was passed when a 1d array was expected. Please change the shape of y to (n_samples,), for example using ravel().\n",
      "  self.best_estimator_.fit(X, y, **fit_params)\n"
     ]
    },
    {
     "name": "stdout",
     "output_type": "stream",
     "text": [
      "Fitting 10 folds for each of 24 candidates, totalling 240 fits\n"
     ]
    },
    {
     "name": "stderr",
     "output_type": "stream",
     "text": [
      "C:\\Users\\hazel\\anaconda3\\Lib\\site-packages\\sklearn\\model_selection\\_search.py:909: DataConversionWarning: A column-vector y was passed when a 1d array was expected. Please change the shape of y to (n_samples,), for example using ravel().\n",
      "  self.best_estimator_.fit(X, y, **fit_params)\n"
     ]
    },
    {
     "name": "stdout",
     "output_type": "stream",
     "text": [
      "Fitting 10 folds for each of 24 candidates, totalling 240 fits\n"
     ]
    },
    {
     "name": "stderr",
     "output_type": "stream",
     "text": [
      "C:\\Users\\hazel\\anaconda3\\Lib\\site-packages\\sklearn\\model_selection\\_search.py:909: DataConversionWarning: A column-vector y was passed when a 1d array was expected. Please change the shape of y to (n_samples,), for example using ravel().\n",
      "  self.best_estimator_.fit(X, y, **fit_params)\n"
     ]
    },
    {
     "name": "stdout",
     "output_type": "stream",
     "text": [
      "Fitting 10 folds for each of 24 candidates, totalling 240 fits\n"
     ]
    },
    {
     "name": "stderr",
     "output_type": "stream",
     "text": [
      "C:\\Users\\hazel\\anaconda3\\Lib\\site-packages\\sklearn\\model_selection\\_search.py:909: DataConversionWarning: A column-vector y was passed when a 1d array was expected. Please change the shape of y to (n_samples,), for example using ravel().\n",
      "  self.best_estimator_.fit(X, y, **fit_params)\n"
     ]
    },
    {
     "data": {
      "text/html": [
       "<div>\n",
       "<style scoped>\n",
       "    .dataframe tbody tr th:only-of-type {\n",
       "        vertical-align: middle;\n",
       "    }\n",
       "\n",
       "    .dataframe tbody tr th {\n",
       "        vertical-align: top;\n",
       "    }\n",
       "\n",
       "    .dataframe thead th {\n",
       "        text-align: right;\n",
       "    }\n",
       "</style>\n",
       "<table border=\"1\" class=\"dataframe\">\n",
       "  <thead>\n",
       "    <tr style=\"text-align: right;\">\n",
       "      <th></th>\n",
       "      <th>Test Size</th>\n",
       "      <th>Random State</th>\n",
       "      <th>Accuracy</th>\n",
       "      <th>Precision</th>\n",
       "      <th>Recall</th>\n",
       "      <th>F1 Score</th>\n",
       "      <th>Best Param</th>\n",
       "    </tr>\n",
       "  </thead>\n",
       "  <tbody>\n",
       "    <tr>\n",
       "      <th>0</th>\n",
       "      <td>0.5</td>\n",
       "      <td>7</td>\n",
       "      <td>0.385093</td>\n",
       "      <td>0.336770</td>\n",
       "      <td>0.385093</td>\n",
       "      <td>0.347271</td>\n",
       "      <td>{'criterion': 'entropy', 'max_features': 'sqrt...</td>\n",
       "    </tr>\n",
       "    <tr>\n",
       "      <th>1</th>\n",
       "      <td>0.5</td>\n",
       "      <td>69</td>\n",
       "      <td>0.394410</td>\n",
       "      <td>0.365189</td>\n",
       "      <td>0.394410</td>\n",
       "      <td>0.377379</td>\n",
       "      <td>{'criterion': 'gini', 'max_features': 'sqrt', ...</td>\n",
       "    </tr>\n",
       "    <tr>\n",
       "      <th>2</th>\n",
       "      <td>0.5</td>\n",
       "      <td>101</td>\n",
       "      <td>0.397516</td>\n",
       "      <td>0.362108</td>\n",
       "      <td>0.397516</td>\n",
       "      <td>0.375576</td>\n",
       "      <td>{'criterion': 'entropy', 'max_features': 'sqrt...</td>\n",
       "    </tr>\n",
       "    <tr>\n",
       "      <th>3</th>\n",
       "      <td>0.4</td>\n",
       "      <td>7</td>\n",
       "      <td>0.425243</td>\n",
       "      <td>0.387387</td>\n",
       "      <td>0.425243</td>\n",
       "      <td>0.383034</td>\n",
       "      <td>{'criterion': 'gini', 'max_features': 'log2', ...</td>\n",
       "    </tr>\n",
       "    <tr>\n",
       "      <th>4</th>\n",
       "      <td>0.4</td>\n",
       "      <td>69</td>\n",
       "      <td>0.384466</td>\n",
       "      <td>0.353990</td>\n",
       "      <td>0.384466</td>\n",
       "      <td>0.365227</td>\n",
       "      <td>{'criterion': 'entropy', 'max_features': 'sqrt...</td>\n",
       "    </tr>\n",
       "    <tr>\n",
       "      <th>5</th>\n",
       "      <td>0.4</td>\n",
       "      <td>101</td>\n",
       "      <td>0.401942</td>\n",
       "      <td>0.369006</td>\n",
       "      <td>0.401942</td>\n",
       "      <td>0.381282</td>\n",
       "      <td>{'criterion': 'gini', 'max_features': 'auto', ...</td>\n",
       "    </tr>\n",
       "    <tr>\n",
       "      <th>6</th>\n",
       "      <td>0.3</td>\n",
       "      <td>7</td>\n",
       "      <td>0.431525</td>\n",
       "      <td>0.395834</td>\n",
       "      <td>0.431525</td>\n",
       "      <td>0.400826</td>\n",
       "      <td>{'criterion': 'entropy', 'max_features': 'auto...</td>\n",
       "    </tr>\n",
       "    <tr>\n",
       "      <th>7</th>\n",
       "      <td>0.3</td>\n",
       "      <td>69</td>\n",
       "      <td>0.366925</td>\n",
       "      <td>0.344596</td>\n",
       "      <td>0.366925</td>\n",
       "      <td>0.354342</td>\n",
       "      <td>{'criterion': 'entropy', 'max_features': 'auto...</td>\n",
       "    </tr>\n",
       "    <tr>\n",
       "      <th>8</th>\n",
       "      <td>0.3</td>\n",
       "      <td>101</td>\n",
       "      <td>0.366925</td>\n",
       "      <td>0.341064</td>\n",
       "      <td>0.366925</td>\n",
       "      <td>0.350613</td>\n",
       "      <td>{'criterion': 'entropy', 'max_features': 'sqrt...</td>\n",
       "    </tr>\n",
       "    <tr>\n",
       "      <th>9</th>\n",
       "      <td>0.2</td>\n",
       "      <td>7</td>\n",
       "      <td>0.406977</td>\n",
       "      <td>0.370197</td>\n",
       "      <td>0.406977</td>\n",
       "      <td>0.376997</td>\n",
       "      <td>{'criterion': 'entropy', 'max_features': 'log2...</td>\n",
       "    </tr>\n",
       "    <tr>\n",
       "      <th>10</th>\n",
       "      <td>0.2</td>\n",
       "      <td>69</td>\n",
       "      <td>0.364341</td>\n",
       "      <td>0.349088</td>\n",
       "      <td>0.364341</td>\n",
       "      <td>0.354102</td>\n",
       "      <td>{'criterion': 'entropy', 'max_features': 'sqrt...</td>\n",
       "    </tr>\n",
       "    <tr>\n",
       "      <th>11</th>\n",
       "      <td>0.2</td>\n",
       "      <td>101</td>\n",
       "      <td>0.391473</td>\n",
       "      <td>0.360115</td>\n",
       "      <td>0.391473</td>\n",
       "      <td>0.370793</td>\n",
       "      <td>{'criterion': 'gini', 'max_features': 'log2', ...</td>\n",
       "    </tr>\n",
       "  </tbody>\n",
       "</table>\n",
       "</div>"
      ],
      "text/plain": [
       "    Test Size  Random State  Accuracy  Precision    Recall  F1 Score  \\\n",
       "0         0.5             7  0.385093   0.336770  0.385093  0.347271   \n",
       "1         0.5            69  0.394410   0.365189  0.394410  0.377379   \n",
       "2         0.5           101  0.397516   0.362108  0.397516  0.375576   \n",
       "3         0.4             7  0.425243   0.387387  0.425243  0.383034   \n",
       "4         0.4            69  0.384466   0.353990  0.384466  0.365227   \n",
       "5         0.4           101  0.401942   0.369006  0.401942  0.381282   \n",
       "6         0.3             7  0.431525   0.395834  0.431525  0.400826   \n",
       "7         0.3            69  0.366925   0.344596  0.366925  0.354342   \n",
       "8         0.3           101  0.366925   0.341064  0.366925  0.350613   \n",
       "9         0.2             7  0.406977   0.370197  0.406977  0.376997   \n",
       "10        0.2            69  0.364341   0.349088  0.364341  0.354102   \n",
       "11        0.2           101  0.391473   0.360115  0.391473  0.370793   \n",
       "\n",
       "                                           Best Param  \n",
       "0   {'criterion': 'entropy', 'max_features': 'sqrt...  \n",
       "1   {'criterion': 'gini', 'max_features': 'sqrt', ...  \n",
       "2   {'criterion': 'entropy', 'max_features': 'sqrt...  \n",
       "3   {'criterion': 'gini', 'max_features': 'log2', ...  \n",
       "4   {'criterion': 'entropy', 'max_features': 'sqrt...  \n",
       "5   {'criterion': 'gini', 'max_features': 'auto', ...  \n",
       "6   {'criterion': 'entropy', 'max_features': 'auto...  \n",
       "7   {'criterion': 'entropy', 'max_features': 'auto...  \n",
       "8   {'criterion': 'entropy', 'max_features': 'sqrt...  \n",
       "9   {'criterion': 'entropy', 'max_features': 'log2...  \n",
       "10  {'criterion': 'entropy', 'max_features': 'sqrt...  \n",
       "11  {'criterion': 'gini', 'max_features': 'log2', ...  "
      ]
     },
     "execution_count": 85,
     "metadata": {},
     "output_type": "execute_result"
    }
   ],
   "source": [
    "temp5L_SFB_imb = []\n",
    "\n",
    "y = merge_5L_imb[['CGPA']]\n",
    "X = merge_5L_imb[['Family Size', \"Parent's Education Level.Father\", \"Parent's Education Level.Mother\", \n",
    "                     \"Father's Occupation\", \"Mother's Occupation\", 'Financial Difficulties', 'Financial Support']]\n",
    "\n",
    "print(\"X:\", X.shape,\"y:\", y.shape)\n",
    "\n",
    "for i in [0.5,0.4,0.3,0.2]:\n",
    "    for j in rand_states:\n",
    "        X_train, X_test, y_train, y_test = train_test_split(X, y, test_size=i, random_state=j)\n",
    "        param_grid = {'n_estimators': [100, 200, 300, 400],\n",
    "                      'max_features': ['auto', 'sqrt', 'log2'],\n",
    "                      'criterion' :['gini', 'entropy']}\n",
    "\n",
    "        model = GridSearchCV(RandomForestClassifier(), param_grid, refit=True, n_jobs=-1, cv=10, verbose=1)\n",
    "        model.fit(X_train, y_train)\n",
    "        pred = model.predict(X_test)\n",
    "\n",
    "        acc = accuracy_score(y_test,pred)\n",
    "        pre = precision_score(y_test, pred, average='weighted')\n",
    "        recall = recall_score(y_test, pred, average='weighted')\n",
    "        f1 = f1_score(y_test, pred, average='weighted')\n",
    "        param = model.best_params_\n",
    "    \n",
    "        temp5L_SFB_imb.append([i,j,acc,pre,recall,f1,param])\n",
    "        \n",
    "df5L_SFB_imb = pd.DataFrame(columns=['Test Size','Random State','Accuracy','Precision','Recall','F1 Score','Best Param'],data=temp5L_SFB_imb)\n",
    "df5L_SFB_imb"
   ]
  },
  {
   "cell_type": "code",
   "execution_count": 86,
   "id": "9a3f4dbc-218f-4996-8a14-44e12ad60f6b",
   "metadata": {},
   "outputs": [
    {
     "data": {
      "text/html": [
       "<div>\n",
       "<style scoped>\n",
       "    .dataframe tbody tr th:only-of-type {\n",
       "        vertical-align: middle;\n",
       "    }\n",
       "\n",
       "    .dataframe tbody tr th {\n",
       "        vertical-align: top;\n",
       "    }\n",
       "\n",
       "    .dataframe thead th {\n",
       "        text-align: right;\n",
       "    }\n",
       "</style>\n",
       "<table border=\"1\" class=\"dataframe\">\n",
       "  <thead>\n",
       "    <tr style=\"text-align: right;\">\n",
       "      <th></th>\n",
       "      <th>Accuracy</th>\n",
       "      <th>Precision</th>\n",
       "      <th>Recall</th>\n",
       "      <th>F1 Score</th>\n",
       "    </tr>\n",
       "    <tr>\n",
       "      <th>Test Size</th>\n",
       "      <th></th>\n",
       "      <th></th>\n",
       "      <th></th>\n",
       "      <th></th>\n",
       "    </tr>\n",
       "  </thead>\n",
       "  <tbody>\n",
       "    <tr>\n",
       "      <th>0.2</th>\n",
       "      <td>0.387597</td>\n",
       "      <td>0.359800</td>\n",
       "      <td>0.387597</td>\n",
       "      <td>0.367297</td>\n",
       "    </tr>\n",
       "    <tr>\n",
       "      <th>0.3</th>\n",
       "      <td>0.388458</td>\n",
       "      <td>0.360498</td>\n",
       "      <td>0.388458</td>\n",
       "      <td>0.368594</td>\n",
       "    </tr>\n",
       "    <tr>\n",
       "      <th>0.4</th>\n",
       "      <td>0.403883</td>\n",
       "      <td>0.370128</td>\n",
       "      <td>0.403883</td>\n",
       "      <td>0.376514</td>\n",
       "    </tr>\n",
       "    <tr>\n",
       "      <th>0.5</th>\n",
       "      <td>0.392340</td>\n",
       "      <td>0.354689</td>\n",
       "      <td>0.392340</td>\n",
       "      <td>0.366742</td>\n",
       "    </tr>\n",
       "  </tbody>\n",
       "</table>\n",
       "</div>"
      ],
      "text/plain": [
       "           Accuracy  Precision    Recall  F1 Score\n",
       "Test Size                                         \n",
       "0.2        0.387597   0.359800  0.387597  0.367297\n",
       "0.3        0.388458   0.360498  0.388458  0.368594\n",
       "0.4        0.403883   0.370128  0.403883  0.376514\n",
       "0.5        0.392340   0.354689  0.392340  0.366742"
      ]
     },
     "execution_count": 86,
     "metadata": {},
     "output_type": "execute_result"
    }
   ],
   "source": [
    "df5L_SFB_imb.groupby('Test Size')[['Accuracy','Precision','Recall','F1 Score']].mean()"
   ]
  },
  {
   "cell_type": "code",
   "execution_count": 87,
   "id": "cf282599-c1e9-45ce-bc20-2564f2d6dce8",
   "metadata": {},
   "outputs": [
    {
     "name": "stdout",
     "output_type": "stream",
     "text": [
      "Imbalance 5-Level: Student Family Background\n",
      "\n",
      "{'criterion': 'entropy', 'max_features': 'sqrt', 'n_estimators': 200}\n",
      "{'criterion': 'gini', 'max_features': 'sqrt', 'n_estimators': 200}\n",
      "{'criterion': 'entropy', 'max_features': 'sqrt', 'n_estimators': 200}\n",
      "{'criterion': 'gini', 'max_features': 'log2', 'n_estimators': 200}\n",
      "{'criterion': 'entropy', 'max_features': 'sqrt', 'n_estimators': 300}\n",
      "{'criterion': 'gini', 'max_features': 'auto', 'n_estimators': 200}\n",
      "{'criterion': 'entropy', 'max_features': 'auto', 'n_estimators': 200}\n",
      "{'criterion': 'entropy', 'max_features': 'auto', 'n_estimators': 100}\n",
      "{'criterion': 'entropy', 'max_features': 'sqrt', 'n_estimators': 300}\n",
      "{'criterion': 'entropy', 'max_features': 'log2', 'n_estimators': 200}\n",
      "{'criterion': 'entropy', 'max_features': 'sqrt', 'n_estimators': 400}\n",
      "{'criterion': 'gini', 'max_features': 'log2', 'n_estimators': 100}\n"
     ]
    }
   ],
   "source": [
    "print(\"Imbalance 5-Level: Student Family Background\\n\")\n",
    "for x in df5L_SFB_imb[\"Best Param\"]:\n",
    "    print(x)"
   ]
  },
  {
   "cell_type": "markdown",
   "id": "8e84755d-d885-477d-9d1a-5dc85039daab",
   "metadata": {},
   "source": [
    "### SFB after RandomOverSampler"
   ]
  },
  {
   "cell_type": "code",
   "execution_count": 88,
   "id": "6c1fe8f9-d41a-4530-8c07-81f48632ff7d",
   "metadata": {},
   "outputs": [
    {
     "name": "stdout",
     "output_type": "stream",
     "text": [
      "X: (3085, 7) y: (3085, 1)\n",
      "Fitting 10 folds for each of 24 candidates, totalling 240 fits\n"
     ]
    },
    {
     "name": "stderr",
     "output_type": "stream",
     "text": [
      "C:\\Users\\hazel\\anaconda3\\Lib\\site-packages\\sklearn\\model_selection\\_search.py:909: DataConversionWarning: A column-vector y was passed when a 1d array was expected. Please change the shape of y to (n_samples,), for example using ravel().\n",
      "  self.best_estimator_.fit(X, y, **fit_params)\n"
     ]
    },
    {
     "name": "stdout",
     "output_type": "stream",
     "text": [
      "Fitting 10 folds for each of 24 candidates, totalling 240 fits\n"
     ]
    },
    {
     "name": "stderr",
     "output_type": "stream",
     "text": [
      "C:\\Users\\hazel\\anaconda3\\Lib\\site-packages\\sklearn\\model_selection\\_search.py:909: DataConversionWarning: A column-vector y was passed when a 1d array was expected. Please change the shape of y to (n_samples,), for example using ravel().\n",
      "  self.best_estimator_.fit(X, y, **fit_params)\n"
     ]
    },
    {
     "name": "stdout",
     "output_type": "stream",
     "text": [
      "Fitting 10 folds for each of 24 candidates, totalling 240 fits\n"
     ]
    },
    {
     "name": "stderr",
     "output_type": "stream",
     "text": [
      "C:\\Users\\hazel\\anaconda3\\Lib\\site-packages\\sklearn\\model_selection\\_search.py:909: DataConversionWarning: A column-vector y was passed when a 1d array was expected. Please change the shape of y to (n_samples,), for example using ravel().\n",
      "  self.best_estimator_.fit(X, y, **fit_params)\n"
     ]
    },
    {
     "name": "stdout",
     "output_type": "stream",
     "text": [
      "Fitting 10 folds for each of 24 candidates, totalling 240 fits\n"
     ]
    },
    {
     "name": "stderr",
     "output_type": "stream",
     "text": [
      "C:\\Users\\hazel\\anaconda3\\Lib\\site-packages\\sklearn\\model_selection\\_search.py:909: DataConversionWarning: A column-vector y was passed when a 1d array was expected. Please change the shape of y to (n_samples,), for example using ravel().\n",
      "  self.best_estimator_.fit(X, y, **fit_params)\n",
      "C:\\Users\\hazel\\anaconda3\\Lib\\site-packages\\sklearn\\ensemble\\_forest.py:424: FutureWarning: `max_features='auto'` has been deprecated in 1.1 and will be removed in 1.3. To keep the past behaviour, explicitly set `max_features='sqrt'` or remove this parameter as it is also the default value for RandomForestClassifiers and ExtraTreesClassifiers.\n",
      "  warn(\n"
     ]
    },
    {
     "name": "stdout",
     "output_type": "stream",
     "text": [
      "Fitting 10 folds for each of 24 candidates, totalling 240 fits\n"
     ]
    },
    {
     "name": "stderr",
     "output_type": "stream",
     "text": [
      "C:\\Users\\hazel\\anaconda3\\Lib\\site-packages\\sklearn\\model_selection\\_search.py:909: DataConversionWarning: A column-vector y was passed when a 1d array was expected. Please change the shape of y to (n_samples,), for example using ravel().\n",
      "  self.best_estimator_.fit(X, y, **fit_params)\n",
      "C:\\Users\\hazel\\anaconda3\\Lib\\site-packages\\sklearn\\ensemble\\_forest.py:424: FutureWarning: `max_features='auto'` has been deprecated in 1.1 and will be removed in 1.3. To keep the past behaviour, explicitly set `max_features='sqrt'` or remove this parameter as it is also the default value for RandomForestClassifiers and ExtraTreesClassifiers.\n",
      "  warn(\n"
     ]
    },
    {
     "name": "stdout",
     "output_type": "stream",
     "text": [
      "Fitting 10 folds for each of 24 candidates, totalling 240 fits\n"
     ]
    },
    {
     "name": "stderr",
     "output_type": "stream",
     "text": [
      "C:\\Users\\hazel\\anaconda3\\Lib\\site-packages\\sklearn\\model_selection\\_search.py:909: DataConversionWarning: A column-vector y was passed when a 1d array was expected. Please change the shape of y to (n_samples,), for example using ravel().\n",
      "  self.best_estimator_.fit(X, y, **fit_params)\n"
     ]
    },
    {
     "name": "stdout",
     "output_type": "stream",
     "text": [
      "Fitting 10 folds for each of 24 candidates, totalling 240 fits\n"
     ]
    },
    {
     "name": "stderr",
     "output_type": "stream",
     "text": [
      "C:\\Users\\hazel\\anaconda3\\Lib\\site-packages\\sklearn\\model_selection\\_search.py:909: DataConversionWarning: A column-vector y was passed when a 1d array was expected. Please change the shape of y to (n_samples,), for example using ravel().\n",
      "  self.best_estimator_.fit(X, y, **fit_params)\n",
      "C:\\Users\\hazel\\anaconda3\\Lib\\site-packages\\sklearn\\ensemble\\_forest.py:424: FutureWarning: `max_features='auto'` has been deprecated in 1.1 and will be removed in 1.3. To keep the past behaviour, explicitly set `max_features='sqrt'` or remove this parameter as it is also the default value for RandomForestClassifiers and ExtraTreesClassifiers.\n",
      "  warn(\n"
     ]
    },
    {
     "name": "stdout",
     "output_type": "stream",
     "text": [
      "Fitting 10 folds for each of 24 candidates, totalling 240 fits\n"
     ]
    },
    {
     "name": "stderr",
     "output_type": "stream",
     "text": [
      "C:\\Users\\hazel\\anaconda3\\Lib\\site-packages\\sklearn\\model_selection\\_search.py:909: DataConversionWarning: A column-vector y was passed when a 1d array was expected. Please change the shape of y to (n_samples,), for example using ravel().\n",
      "  self.best_estimator_.fit(X, y, **fit_params)\n"
     ]
    },
    {
     "name": "stdout",
     "output_type": "stream",
     "text": [
      "Fitting 10 folds for each of 24 candidates, totalling 240 fits\n"
     ]
    },
    {
     "name": "stderr",
     "output_type": "stream",
     "text": [
      "C:\\Users\\hazel\\anaconda3\\Lib\\site-packages\\sklearn\\model_selection\\_search.py:909: DataConversionWarning: A column-vector y was passed when a 1d array was expected. Please change the shape of y to (n_samples,), for example using ravel().\n",
      "  self.best_estimator_.fit(X, y, **fit_params)\n",
      "C:\\Users\\hazel\\anaconda3\\Lib\\site-packages\\sklearn\\ensemble\\_forest.py:424: FutureWarning: `max_features='auto'` has been deprecated in 1.1 and will be removed in 1.3. To keep the past behaviour, explicitly set `max_features='sqrt'` or remove this parameter as it is also the default value for RandomForestClassifiers and ExtraTreesClassifiers.\n",
      "  warn(\n"
     ]
    },
    {
     "name": "stdout",
     "output_type": "stream",
     "text": [
      "Fitting 10 folds for each of 24 candidates, totalling 240 fits\n"
     ]
    },
    {
     "name": "stderr",
     "output_type": "stream",
     "text": [
      "C:\\Users\\hazel\\anaconda3\\Lib\\site-packages\\sklearn\\model_selection\\_search.py:909: DataConversionWarning: A column-vector y was passed when a 1d array was expected. Please change the shape of y to (n_samples,), for example using ravel().\n",
      "  self.best_estimator_.fit(X, y, **fit_params)\n"
     ]
    },
    {
     "name": "stdout",
     "output_type": "stream",
     "text": [
      "Fitting 10 folds for each of 24 candidates, totalling 240 fits\n"
     ]
    },
    {
     "name": "stderr",
     "output_type": "stream",
     "text": [
      "C:\\Users\\hazel\\anaconda3\\Lib\\site-packages\\sklearn\\model_selection\\_search.py:909: DataConversionWarning: A column-vector y was passed when a 1d array was expected. Please change the shape of y to (n_samples,), for example using ravel().\n",
      "  self.best_estimator_.fit(X, y, **fit_params)\n"
     ]
    },
    {
     "name": "stdout",
     "output_type": "stream",
     "text": [
      "Fitting 10 folds for each of 24 candidates, totalling 240 fits\n"
     ]
    },
    {
     "name": "stderr",
     "output_type": "stream",
     "text": [
      "C:\\Users\\hazel\\anaconda3\\Lib\\site-packages\\sklearn\\model_selection\\_search.py:909: DataConversionWarning: A column-vector y was passed when a 1d array was expected. Please change the shape of y to (n_samples,), for example using ravel().\n",
      "  self.best_estimator_.fit(X, y, **fit_params)\n",
      "C:\\Users\\hazel\\anaconda3\\Lib\\site-packages\\sklearn\\ensemble\\_forest.py:424: FutureWarning: `max_features='auto'` has been deprecated in 1.1 and will be removed in 1.3. To keep the past behaviour, explicitly set `max_features='sqrt'` or remove this parameter as it is also the default value for RandomForestClassifiers and ExtraTreesClassifiers.\n",
      "  warn(\n"
     ]
    },
    {
     "data": {
      "text/html": [
       "<div>\n",
       "<style scoped>\n",
       "    .dataframe tbody tr th:only-of-type {\n",
       "        vertical-align: middle;\n",
       "    }\n",
       "\n",
       "    .dataframe tbody tr th {\n",
       "        vertical-align: top;\n",
       "    }\n",
       "\n",
       "    .dataframe thead th {\n",
       "        text-align: right;\n",
       "    }\n",
       "</style>\n",
       "<table border=\"1\" class=\"dataframe\">\n",
       "  <thead>\n",
       "    <tr style=\"text-align: right;\">\n",
       "      <th></th>\n",
       "      <th>Test Size</th>\n",
       "      <th>Random State</th>\n",
       "      <th>Accuracy</th>\n",
       "      <th>Precision</th>\n",
       "      <th>Recall</th>\n",
       "      <th>F1 Score</th>\n",
       "      <th>Best Param</th>\n",
       "    </tr>\n",
       "  </thead>\n",
       "  <tbody>\n",
       "    <tr>\n",
       "      <th>0</th>\n",
       "      <td>0.5</td>\n",
       "      <td>7</td>\n",
       "      <td>0.696047</td>\n",
       "      <td>0.678231</td>\n",
       "      <td>0.696047</td>\n",
       "      <td>0.683128</td>\n",
       "      <td>{'criterion': 'entropy', 'max_features': 'sqrt...</td>\n",
       "    </tr>\n",
       "    <tr>\n",
       "      <th>1</th>\n",
       "      <td>0.5</td>\n",
       "      <td>69</td>\n",
       "      <td>0.690862</td>\n",
       "      <td>0.674259</td>\n",
       "      <td>0.690862</td>\n",
       "      <td>0.675132</td>\n",
       "      <td>{'criterion': 'gini', 'max_features': 'sqrt', ...</td>\n",
       "    </tr>\n",
       "    <tr>\n",
       "      <th>2</th>\n",
       "      <td>0.5</td>\n",
       "      <td>101</td>\n",
       "      <td>0.675308</td>\n",
       "      <td>0.652549</td>\n",
       "      <td>0.675308</td>\n",
       "      <td>0.658907</td>\n",
       "      <td>{'criterion': 'entropy', 'max_features': 'sqrt...</td>\n",
       "    </tr>\n",
       "    <tr>\n",
       "      <th>3</th>\n",
       "      <td>0.4</td>\n",
       "      <td>7</td>\n",
       "      <td>0.718801</td>\n",
       "      <td>0.698938</td>\n",
       "      <td>0.718801</td>\n",
       "      <td>0.703124</td>\n",
       "      <td>{'criterion': 'entropy', 'max_features': 'auto...</td>\n",
       "    </tr>\n",
       "    <tr>\n",
       "      <th>4</th>\n",
       "      <td>0.4</td>\n",
       "      <td>69</td>\n",
       "      <td>0.716370</td>\n",
       "      <td>0.700495</td>\n",
       "      <td>0.716370</td>\n",
       "      <td>0.704149</td>\n",
       "      <td>{'criterion': 'entropy', 'max_features': 'auto...</td>\n",
       "    </tr>\n",
       "    <tr>\n",
       "      <th>5</th>\n",
       "      <td>0.4</td>\n",
       "      <td>101</td>\n",
       "      <td>0.678282</td>\n",
       "      <td>0.656080</td>\n",
       "      <td>0.678282</td>\n",
       "      <td>0.661227</td>\n",
       "      <td>{'criterion': 'gini', 'max_features': 'log2', ...</td>\n",
       "    </tr>\n",
       "    <tr>\n",
       "      <th>6</th>\n",
       "      <td>0.3</td>\n",
       "      <td>7</td>\n",
       "      <td>0.732181</td>\n",
       "      <td>0.712076</td>\n",
       "      <td>0.732181</td>\n",
       "      <td>0.714639</td>\n",
       "      <td>{'criterion': 'gini', 'max_features': 'auto', ...</td>\n",
       "    </tr>\n",
       "    <tr>\n",
       "      <th>7</th>\n",
       "      <td>0.3</td>\n",
       "      <td>69</td>\n",
       "      <td>0.719222</td>\n",
       "      <td>0.706273</td>\n",
       "      <td>0.719222</td>\n",
       "      <td>0.710834</td>\n",
       "      <td>{'criterion': 'entropy', 'max_features': 'sqrt...</td>\n",
       "    </tr>\n",
       "    <tr>\n",
       "      <th>8</th>\n",
       "      <td>0.3</td>\n",
       "      <td>101</td>\n",
       "      <td>0.701944</td>\n",
       "      <td>0.681999</td>\n",
       "      <td>0.701944</td>\n",
       "      <td>0.687888</td>\n",
       "      <td>{'criterion': 'gini', 'max_features': 'auto', ...</td>\n",
       "    </tr>\n",
       "    <tr>\n",
       "      <th>9</th>\n",
       "      <td>0.2</td>\n",
       "      <td>7</td>\n",
       "      <td>0.737439</td>\n",
       "      <td>0.720180</td>\n",
       "      <td>0.737439</td>\n",
       "      <td>0.721503</td>\n",
       "      <td>{'criterion': 'entropy', 'max_features': 'sqrt...</td>\n",
       "    </tr>\n",
       "    <tr>\n",
       "      <th>10</th>\n",
       "      <td>0.2</td>\n",
       "      <td>69</td>\n",
       "      <td>0.727715</td>\n",
       "      <td>0.711276</td>\n",
       "      <td>0.727715</td>\n",
       "      <td>0.716544</td>\n",
       "      <td>{'criterion': 'entropy', 'max_features': 'sqrt...</td>\n",
       "    </tr>\n",
       "    <tr>\n",
       "      <th>11</th>\n",
       "      <td>0.2</td>\n",
       "      <td>101</td>\n",
       "      <td>0.714749</td>\n",
       "      <td>0.698555</td>\n",
       "      <td>0.714749</td>\n",
       "      <td>0.701184</td>\n",
       "      <td>{'criterion': 'entropy', 'max_features': 'auto...</td>\n",
       "    </tr>\n",
       "  </tbody>\n",
       "</table>\n",
       "</div>"
      ],
      "text/plain": [
       "    Test Size  Random State  Accuracy  Precision    Recall  F1 Score  \\\n",
       "0         0.5             7  0.696047   0.678231  0.696047  0.683128   \n",
       "1         0.5            69  0.690862   0.674259  0.690862  0.675132   \n",
       "2         0.5           101  0.675308   0.652549  0.675308  0.658907   \n",
       "3         0.4             7  0.718801   0.698938  0.718801  0.703124   \n",
       "4         0.4            69  0.716370   0.700495  0.716370  0.704149   \n",
       "5         0.4           101  0.678282   0.656080  0.678282  0.661227   \n",
       "6         0.3             7  0.732181   0.712076  0.732181  0.714639   \n",
       "7         0.3            69  0.719222   0.706273  0.719222  0.710834   \n",
       "8         0.3           101  0.701944   0.681999  0.701944  0.687888   \n",
       "9         0.2             7  0.737439   0.720180  0.737439  0.721503   \n",
       "10        0.2            69  0.727715   0.711276  0.727715  0.716544   \n",
       "11        0.2           101  0.714749   0.698555  0.714749  0.701184   \n",
       "\n",
       "                                           Best Param  \n",
       "0   {'criterion': 'entropy', 'max_features': 'sqrt...  \n",
       "1   {'criterion': 'gini', 'max_features': 'sqrt', ...  \n",
       "2   {'criterion': 'entropy', 'max_features': 'sqrt...  \n",
       "3   {'criterion': 'entropy', 'max_features': 'auto...  \n",
       "4   {'criterion': 'entropy', 'max_features': 'auto...  \n",
       "5   {'criterion': 'gini', 'max_features': 'log2', ...  \n",
       "6   {'criterion': 'gini', 'max_features': 'auto', ...  \n",
       "7   {'criterion': 'entropy', 'max_features': 'sqrt...  \n",
       "8   {'criterion': 'gini', 'max_features': 'auto', ...  \n",
       "9   {'criterion': 'entropy', 'max_features': 'sqrt...  \n",
       "10  {'criterion': 'entropy', 'max_features': 'sqrt...  \n",
       "11  {'criterion': 'entropy', 'max_features': 'auto...  "
      ]
     },
     "execution_count": 88,
     "metadata": {},
     "output_type": "execute_result"
    }
   ],
   "source": [
    "temp5L_SFB_ROS = []\n",
    "\n",
    "y = merge_5L_ROS[['CGPA']]\n",
    "X = merge_5L_ROS[['Family Size', \"Parent's Education Level.Father\", \"Parent's Education Level.Mother\", \n",
    "                     \"Father's Occupation\", \"Mother's Occupation\", 'Financial Difficulties', 'Financial Support']]\n",
    "\n",
    "print(\"X:\", X.shape,\"y:\", y.shape)\n",
    "\n",
    "for i in [0.5,0.4,0.3,0.2]:\n",
    "    for j in rand_states:\n",
    "        X_train, X_test, y_train, y_test = train_test_split(X, y, test_size=i, random_state=j)\n",
    "        param_grid = {'n_estimators': [100, 200, 300, 400],\n",
    "                      'max_features': ['auto', 'sqrt', 'log2'],\n",
    "                      'criterion' :['gini', 'entropy']}\n",
    "\n",
    "        model = GridSearchCV(RandomForestClassifier(), param_grid, refit=True, n_jobs=-1, cv=10, verbose=1)\n",
    "        model.fit(X_train, y_train)\n",
    "        pred = model.predict(X_test)\n",
    "\n",
    "        acc = accuracy_score(y_test,pred)\n",
    "        pre = precision_score(y_test, pred, average='weighted')\n",
    "        recall = recall_score(y_test, pred, average='weighted')\n",
    "        f1 = f1_score(y_test, pred, average='weighted')\n",
    "        param = model.best_params_\n",
    "    \n",
    "        temp5L_SFB_ROS.append([i,j,acc,pre,recall,f1,param])\n",
    "        \n",
    "df5L_SFB_ROS = pd.DataFrame(columns=['Test Size','Random State','Accuracy','Precision','Recall','F1 Score','Best Param'],data=temp5L_SFB_ROS)\n",
    "df5L_SFB_ROS"
   ]
  },
  {
   "cell_type": "code",
   "execution_count": 89,
   "id": "83bb86cd-2e9f-4646-8033-a278794cbe55",
   "metadata": {},
   "outputs": [
    {
     "data": {
      "text/html": [
       "<div>\n",
       "<style scoped>\n",
       "    .dataframe tbody tr th:only-of-type {\n",
       "        vertical-align: middle;\n",
       "    }\n",
       "\n",
       "    .dataframe tbody tr th {\n",
       "        vertical-align: top;\n",
       "    }\n",
       "\n",
       "    .dataframe thead th {\n",
       "        text-align: right;\n",
       "    }\n",
       "</style>\n",
       "<table border=\"1\" class=\"dataframe\">\n",
       "  <thead>\n",
       "    <tr style=\"text-align: right;\">\n",
       "      <th></th>\n",
       "      <th>Accuracy</th>\n",
       "      <th>Precision</th>\n",
       "      <th>Recall</th>\n",
       "      <th>F1 Score</th>\n",
       "    </tr>\n",
       "    <tr>\n",
       "      <th>Test Size</th>\n",
       "      <th></th>\n",
       "      <th></th>\n",
       "      <th></th>\n",
       "      <th></th>\n",
       "    </tr>\n",
       "  </thead>\n",
       "  <tbody>\n",
       "    <tr>\n",
       "      <th>0.2</th>\n",
       "      <td>0.726634</td>\n",
       "      <td>0.710004</td>\n",
       "      <td>0.726634</td>\n",
       "      <td>0.713077</td>\n",
       "    </tr>\n",
       "    <tr>\n",
       "      <th>0.3</th>\n",
       "      <td>0.717783</td>\n",
       "      <td>0.700116</td>\n",
       "      <td>0.717783</td>\n",
       "      <td>0.704454</td>\n",
       "    </tr>\n",
       "    <tr>\n",
       "      <th>0.4</th>\n",
       "      <td>0.704484</td>\n",
       "      <td>0.685171</td>\n",
       "      <td>0.704484</td>\n",
       "      <td>0.689500</td>\n",
       "    </tr>\n",
       "    <tr>\n",
       "      <th>0.5</th>\n",
       "      <td>0.687405</td>\n",
       "      <td>0.668347</td>\n",
       "      <td>0.687405</td>\n",
       "      <td>0.672389</td>\n",
       "    </tr>\n",
       "  </tbody>\n",
       "</table>\n",
       "</div>"
      ],
      "text/plain": [
       "           Accuracy  Precision    Recall  F1 Score\n",
       "Test Size                                         \n",
       "0.2        0.726634   0.710004  0.726634  0.713077\n",
       "0.3        0.717783   0.700116  0.717783  0.704454\n",
       "0.4        0.704484   0.685171  0.704484  0.689500\n",
       "0.5        0.687405   0.668347  0.687405  0.672389"
      ]
     },
     "execution_count": 89,
     "metadata": {},
     "output_type": "execute_result"
    }
   ],
   "source": [
    "df5L_SFB_ROS.groupby('Test Size')[['Accuracy','Precision','Recall','F1 Score']].mean()"
   ]
  },
  {
   "cell_type": "code",
   "execution_count": 90,
   "id": "bee75d15-7189-4f89-b193-ffe9d88c7800",
   "metadata": {},
   "outputs": [
    {
     "name": "stdout",
     "output_type": "stream",
     "text": [
      "5-Level: Student Family Background\n",
      "\n",
      "{'criterion': 'entropy', 'max_features': 'sqrt', 'n_estimators': 300}\n",
      "{'criterion': 'gini', 'max_features': 'sqrt', 'n_estimators': 100}\n",
      "{'criterion': 'entropy', 'max_features': 'sqrt', 'n_estimators': 400}\n",
      "{'criterion': 'entropy', 'max_features': 'auto', 'n_estimators': 300}\n",
      "{'criterion': 'entropy', 'max_features': 'auto', 'n_estimators': 200}\n",
      "{'criterion': 'gini', 'max_features': 'log2', 'n_estimators': 100}\n",
      "{'criterion': 'gini', 'max_features': 'auto', 'n_estimators': 100}\n",
      "{'criterion': 'entropy', 'max_features': 'sqrt', 'n_estimators': 400}\n",
      "{'criterion': 'gini', 'max_features': 'auto', 'n_estimators': 100}\n",
      "{'criterion': 'entropy', 'max_features': 'sqrt', 'n_estimators': 100}\n",
      "{'criterion': 'entropy', 'max_features': 'sqrt', 'n_estimators': 200}\n",
      "{'criterion': 'entropy', 'max_features': 'auto', 'n_estimators': 100}\n"
     ]
    }
   ],
   "source": [
    "print(\"5-Level: Student Family Background\\n\")\n",
    "for x in df5L_SFB_ROS[\"Best Param\"]:\n",
    "    print(x)"
   ]
  },
  {
   "cell_type": "markdown",
   "id": "c569f13a-9ad5-4017-afd9-a4b6f9aa9be3",
   "metadata": {},
   "source": [
    "### SFB after SMOTE"
   ]
  },
  {
   "cell_type": "code",
   "execution_count": 91,
   "id": "ff5adc0d-7e1a-4f4e-963b-c3fd9ee00f4a",
   "metadata": {},
   "outputs": [
    {
     "name": "stdout",
     "output_type": "stream",
     "text": [
      "X: (3085, 7) y: (3085, 1)\n",
      "Fitting 10 folds for each of 24 candidates, totalling 240 fits\n"
     ]
    },
    {
     "name": "stderr",
     "output_type": "stream",
     "text": [
      "C:\\Users\\hazel\\anaconda3\\Lib\\site-packages\\sklearn\\model_selection\\_search.py:909: DataConversionWarning: A column-vector y was passed when a 1d array was expected. Please change the shape of y to (n_samples,), for example using ravel().\n",
      "  self.best_estimator_.fit(X, y, **fit_params)\n",
      "C:\\Users\\hazel\\anaconda3\\Lib\\site-packages\\sklearn\\ensemble\\_forest.py:424: FutureWarning: `max_features='auto'` has been deprecated in 1.1 and will be removed in 1.3. To keep the past behaviour, explicitly set `max_features='sqrt'` or remove this parameter as it is also the default value for RandomForestClassifiers and ExtraTreesClassifiers.\n",
      "  warn(\n"
     ]
    },
    {
     "name": "stdout",
     "output_type": "stream",
     "text": [
      "Fitting 10 folds for each of 24 candidates, totalling 240 fits\n"
     ]
    },
    {
     "name": "stderr",
     "output_type": "stream",
     "text": [
      "C:\\Users\\hazel\\anaconda3\\Lib\\site-packages\\sklearn\\model_selection\\_search.py:909: DataConversionWarning: A column-vector y was passed when a 1d array was expected. Please change the shape of y to (n_samples,), for example using ravel().\n",
      "  self.best_estimator_.fit(X, y, **fit_params)\n"
     ]
    },
    {
     "name": "stdout",
     "output_type": "stream",
     "text": [
      "Fitting 10 folds for each of 24 candidates, totalling 240 fits\n"
     ]
    },
    {
     "name": "stderr",
     "output_type": "stream",
     "text": [
      "C:\\Users\\hazel\\anaconda3\\Lib\\site-packages\\sklearn\\model_selection\\_search.py:909: DataConversionWarning: A column-vector y was passed when a 1d array was expected. Please change the shape of y to (n_samples,), for example using ravel().\n",
      "  self.best_estimator_.fit(X, y, **fit_params)\n"
     ]
    },
    {
     "name": "stdout",
     "output_type": "stream",
     "text": [
      "Fitting 10 folds for each of 24 candidates, totalling 240 fits\n"
     ]
    },
    {
     "name": "stderr",
     "output_type": "stream",
     "text": [
      "C:\\Users\\hazel\\anaconda3\\Lib\\site-packages\\sklearn\\model_selection\\_search.py:909: DataConversionWarning: A column-vector y was passed when a 1d array was expected. Please change the shape of y to (n_samples,), for example using ravel().\n",
      "  self.best_estimator_.fit(X, y, **fit_params)\n"
     ]
    },
    {
     "name": "stdout",
     "output_type": "stream",
     "text": [
      "Fitting 10 folds for each of 24 candidates, totalling 240 fits\n"
     ]
    },
    {
     "name": "stderr",
     "output_type": "stream",
     "text": [
      "C:\\Users\\hazel\\anaconda3\\Lib\\site-packages\\sklearn\\model_selection\\_search.py:909: DataConversionWarning: A column-vector y was passed when a 1d array was expected. Please change the shape of y to (n_samples,), for example using ravel().\n",
      "  self.best_estimator_.fit(X, y, **fit_params)\n",
      "C:\\Users\\hazel\\anaconda3\\Lib\\site-packages\\sklearn\\ensemble\\_forest.py:424: FutureWarning: `max_features='auto'` has been deprecated in 1.1 and will be removed in 1.3. To keep the past behaviour, explicitly set `max_features='sqrt'` or remove this parameter as it is also the default value for RandomForestClassifiers and ExtraTreesClassifiers.\n",
      "  warn(\n"
     ]
    },
    {
     "name": "stdout",
     "output_type": "stream",
     "text": [
      "Fitting 10 folds for each of 24 candidates, totalling 240 fits\n"
     ]
    },
    {
     "name": "stderr",
     "output_type": "stream",
     "text": [
      "C:\\Users\\hazel\\anaconda3\\Lib\\site-packages\\sklearn\\model_selection\\_search.py:909: DataConversionWarning: A column-vector y was passed when a 1d array was expected. Please change the shape of y to (n_samples,), for example using ravel().\n",
      "  self.best_estimator_.fit(X, y, **fit_params)\n"
     ]
    },
    {
     "name": "stdout",
     "output_type": "stream",
     "text": [
      "Fitting 10 folds for each of 24 candidates, totalling 240 fits\n"
     ]
    },
    {
     "name": "stderr",
     "output_type": "stream",
     "text": [
      "C:\\Users\\hazel\\anaconda3\\Lib\\site-packages\\sklearn\\model_selection\\_search.py:909: DataConversionWarning: A column-vector y was passed when a 1d array was expected. Please change the shape of y to (n_samples,), for example using ravel().\n",
      "  self.best_estimator_.fit(X, y, **fit_params)\n",
      "C:\\Users\\hazel\\anaconda3\\Lib\\site-packages\\sklearn\\ensemble\\_forest.py:424: FutureWarning: `max_features='auto'` has been deprecated in 1.1 and will be removed in 1.3. To keep the past behaviour, explicitly set `max_features='sqrt'` or remove this parameter as it is also the default value for RandomForestClassifiers and ExtraTreesClassifiers.\n",
      "  warn(\n"
     ]
    },
    {
     "name": "stdout",
     "output_type": "stream",
     "text": [
      "Fitting 10 folds for each of 24 candidates, totalling 240 fits\n"
     ]
    },
    {
     "name": "stderr",
     "output_type": "stream",
     "text": [
      "C:\\Users\\hazel\\anaconda3\\Lib\\site-packages\\sklearn\\model_selection\\_search.py:909: DataConversionWarning: A column-vector y was passed when a 1d array was expected. Please change the shape of y to (n_samples,), for example using ravel().\n",
      "  self.best_estimator_.fit(X, y, **fit_params)\n"
     ]
    },
    {
     "name": "stdout",
     "output_type": "stream",
     "text": [
      "Fitting 10 folds for each of 24 candidates, totalling 240 fits\n"
     ]
    },
    {
     "name": "stderr",
     "output_type": "stream",
     "text": [
      "C:\\Users\\hazel\\anaconda3\\Lib\\site-packages\\sklearn\\model_selection\\_search.py:909: DataConversionWarning: A column-vector y was passed when a 1d array was expected. Please change the shape of y to (n_samples,), for example using ravel().\n",
      "  self.best_estimator_.fit(X, y, **fit_params)\n"
     ]
    },
    {
     "name": "stdout",
     "output_type": "stream",
     "text": [
      "Fitting 10 folds for each of 24 candidates, totalling 240 fits\n"
     ]
    },
    {
     "name": "stderr",
     "output_type": "stream",
     "text": [
      "C:\\Users\\hazel\\anaconda3\\Lib\\site-packages\\sklearn\\model_selection\\_search.py:909: DataConversionWarning: A column-vector y was passed when a 1d array was expected. Please change the shape of y to (n_samples,), for example using ravel().\n",
      "  self.best_estimator_.fit(X, y, **fit_params)\n"
     ]
    },
    {
     "name": "stdout",
     "output_type": "stream",
     "text": [
      "Fitting 10 folds for each of 24 candidates, totalling 240 fits\n"
     ]
    },
    {
     "name": "stderr",
     "output_type": "stream",
     "text": [
      "C:\\Users\\hazel\\anaconda3\\Lib\\site-packages\\sklearn\\model_selection\\_search.py:909: DataConversionWarning: A column-vector y was passed when a 1d array was expected. Please change the shape of y to (n_samples,), for example using ravel().\n",
      "  self.best_estimator_.fit(X, y, **fit_params)\n"
     ]
    },
    {
     "name": "stdout",
     "output_type": "stream",
     "text": [
      "Fitting 10 folds for each of 24 candidates, totalling 240 fits\n"
     ]
    },
    {
     "name": "stderr",
     "output_type": "stream",
     "text": [
      "C:\\Users\\hazel\\anaconda3\\Lib\\site-packages\\sklearn\\model_selection\\_search.py:909: DataConversionWarning: A column-vector y was passed when a 1d array was expected. Please change the shape of y to (n_samples,), for example using ravel().\n",
      "  self.best_estimator_.fit(X, y, **fit_params)\n"
     ]
    },
    {
     "data": {
      "text/html": [
       "<div>\n",
       "<style scoped>\n",
       "    .dataframe tbody tr th:only-of-type {\n",
       "        vertical-align: middle;\n",
       "    }\n",
       "\n",
       "    .dataframe tbody tr th {\n",
       "        vertical-align: top;\n",
       "    }\n",
       "\n",
       "    .dataframe thead th {\n",
       "        text-align: right;\n",
       "    }\n",
       "</style>\n",
       "<table border=\"1\" class=\"dataframe\">\n",
       "  <thead>\n",
       "    <tr style=\"text-align: right;\">\n",
       "      <th></th>\n",
       "      <th>Test Size</th>\n",
       "      <th>Random State</th>\n",
       "      <th>Accuracy</th>\n",
       "      <th>Precision</th>\n",
       "      <th>Recall</th>\n",
       "      <th>F1 Score</th>\n",
       "      <th>Best Param</th>\n",
       "    </tr>\n",
       "  </thead>\n",
       "  <tbody>\n",
       "    <tr>\n",
       "      <th>0</th>\n",
       "      <td>0.5</td>\n",
       "      <td>7</td>\n",
       "      <td>0.581983</td>\n",
       "      <td>0.578674</td>\n",
       "      <td>0.581983</td>\n",
       "      <td>0.578562</td>\n",
       "      <td>{'criterion': 'entropy', 'max_features': 'auto...</td>\n",
       "    </tr>\n",
       "    <tr>\n",
       "      <th>1</th>\n",
       "      <td>0.5</td>\n",
       "      <td>69</td>\n",
       "      <td>0.588464</td>\n",
       "      <td>0.576804</td>\n",
       "      <td>0.588464</td>\n",
       "      <td>0.581495</td>\n",
       "      <td>{'criterion': 'entropy', 'max_features': 'log2...</td>\n",
       "    </tr>\n",
       "    <tr>\n",
       "      <th>2</th>\n",
       "      <td>0.5</td>\n",
       "      <td>101</td>\n",
       "      <td>0.602074</td>\n",
       "      <td>0.584223</td>\n",
       "      <td>0.602074</td>\n",
       "      <td>0.590769</td>\n",
       "      <td>{'criterion': 'gini', 'max_features': 'sqrt', ...</td>\n",
       "    </tr>\n",
       "    <tr>\n",
       "      <th>3</th>\n",
       "      <td>0.4</td>\n",
       "      <td>7</td>\n",
       "      <td>0.600486</td>\n",
       "      <td>0.592431</td>\n",
       "      <td>0.600486</td>\n",
       "      <td>0.595018</td>\n",
       "      <td>{'criterion': 'gini', 'max_features': 'sqrt', ...</td>\n",
       "    </tr>\n",
       "    <tr>\n",
       "      <th>4</th>\n",
       "      <td>0.4</td>\n",
       "      <td>69</td>\n",
       "      <td>0.611021</td>\n",
       "      <td>0.602846</td>\n",
       "      <td>0.611021</td>\n",
       "      <td>0.605735</td>\n",
       "      <td>{'criterion': 'entropy', 'max_features': 'auto...</td>\n",
       "    </tr>\n",
       "    <tr>\n",
       "      <th>5</th>\n",
       "      <td>0.4</td>\n",
       "      <td>101</td>\n",
       "      <td>0.594814</td>\n",
       "      <td>0.581697</td>\n",
       "      <td>0.594814</td>\n",
       "      <td>0.586895</td>\n",
       "      <td>{'criterion': 'entropy', 'max_features': 'log2...</td>\n",
       "    </tr>\n",
       "    <tr>\n",
       "      <th>6</th>\n",
       "      <td>0.3</td>\n",
       "      <td>7</td>\n",
       "      <td>0.599352</td>\n",
       "      <td>0.594361</td>\n",
       "      <td>0.599352</td>\n",
       "      <td>0.596434</td>\n",
       "      <td>{'criterion': 'gini', 'max_features': 'auto', ...</td>\n",
       "    </tr>\n",
       "    <tr>\n",
       "      <th>7</th>\n",
       "      <td>0.3</td>\n",
       "      <td>69</td>\n",
       "      <td>0.623110</td>\n",
       "      <td>0.621285</td>\n",
       "      <td>0.623110</td>\n",
       "      <td>0.621903</td>\n",
       "      <td>{'criterion': 'entropy', 'max_features': 'log2...</td>\n",
       "    </tr>\n",
       "    <tr>\n",
       "      <th>8</th>\n",
       "      <td>0.3</td>\n",
       "      <td>101</td>\n",
       "      <td>0.602592</td>\n",
       "      <td>0.599834</td>\n",
       "      <td>0.602592</td>\n",
       "      <td>0.600673</td>\n",
       "      <td>{'criterion': 'gini', 'max_features': 'log2', ...</td>\n",
       "    </tr>\n",
       "    <tr>\n",
       "      <th>9</th>\n",
       "      <td>0.2</td>\n",
       "      <td>7</td>\n",
       "      <td>0.619125</td>\n",
       "      <td>0.612567</td>\n",
       "      <td>0.619125</td>\n",
       "      <td>0.615514</td>\n",
       "      <td>{'criterion': 'entropy', 'max_features': 'log2...</td>\n",
       "    </tr>\n",
       "    <tr>\n",
       "      <th>10</th>\n",
       "      <td>0.2</td>\n",
       "      <td>69</td>\n",
       "      <td>0.627229</td>\n",
       "      <td>0.623672</td>\n",
       "      <td>0.627229</td>\n",
       "      <td>0.625233</td>\n",
       "      <td>{'criterion': 'gini', 'max_features': 'log2', ...</td>\n",
       "    </tr>\n",
       "    <tr>\n",
       "      <th>11</th>\n",
       "      <td>0.2</td>\n",
       "      <td>101</td>\n",
       "      <td>0.648298</td>\n",
       "      <td>0.652316</td>\n",
       "      <td>0.648298</td>\n",
       "      <td>0.648614</td>\n",
       "      <td>{'criterion': 'entropy', 'max_features': 'log2...</td>\n",
       "    </tr>\n",
       "  </tbody>\n",
       "</table>\n",
       "</div>"
      ],
      "text/plain": [
       "    Test Size  Random State  Accuracy  Precision    Recall  F1 Score  \\\n",
       "0         0.5             7  0.581983   0.578674  0.581983  0.578562   \n",
       "1         0.5            69  0.588464   0.576804  0.588464  0.581495   \n",
       "2         0.5           101  0.602074   0.584223  0.602074  0.590769   \n",
       "3         0.4             7  0.600486   0.592431  0.600486  0.595018   \n",
       "4         0.4            69  0.611021   0.602846  0.611021  0.605735   \n",
       "5         0.4           101  0.594814   0.581697  0.594814  0.586895   \n",
       "6         0.3             7  0.599352   0.594361  0.599352  0.596434   \n",
       "7         0.3            69  0.623110   0.621285  0.623110  0.621903   \n",
       "8         0.3           101  0.602592   0.599834  0.602592  0.600673   \n",
       "9         0.2             7  0.619125   0.612567  0.619125  0.615514   \n",
       "10        0.2            69  0.627229   0.623672  0.627229  0.625233   \n",
       "11        0.2           101  0.648298   0.652316  0.648298  0.648614   \n",
       "\n",
       "                                           Best Param  \n",
       "0   {'criterion': 'entropy', 'max_features': 'auto...  \n",
       "1   {'criterion': 'entropy', 'max_features': 'log2...  \n",
       "2   {'criterion': 'gini', 'max_features': 'sqrt', ...  \n",
       "3   {'criterion': 'gini', 'max_features': 'sqrt', ...  \n",
       "4   {'criterion': 'entropy', 'max_features': 'auto...  \n",
       "5   {'criterion': 'entropy', 'max_features': 'log2...  \n",
       "6   {'criterion': 'gini', 'max_features': 'auto', ...  \n",
       "7   {'criterion': 'entropy', 'max_features': 'log2...  \n",
       "8   {'criterion': 'gini', 'max_features': 'log2', ...  \n",
       "9   {'criterion': 'entropy', 'max_features': 'log2...  \n",
       "10  {'criterion': 'gini', 'max_features': 'log2', ...  \n",
       "11  {'criterion': 'entropy', 'max_features': 'log2...  "
      ]
     },
     "execution_count": 91,
     "metadata": {},
     "output_type": "execute_result"
    }
   ],
   "source": [
    "temp5L_SFB_SMOTE = []\n",
    "\n",
    "y = merge_5L_SMOTE[['CGPA']]\n",
    "X = merge_5L_SMOTE[['Family Size', \"Parent's Education Level.Father\", \"Parent's Education Level.Mother\", \n",
    "                     \"Father's Occupation\", \"Mother's Occupation\", 'Financial Difficulties', 'Financial Support']]\n",
    "\n",
    "print(\"X:\", X.shape,\"y:\", y.shape)\n",
    "\n",
    "for i in [0.5,0.4,0.3,0.2]:\n",
    "    for j in rand_states:\n",
    "        X_train, X_test, y_train, y_test = train_test_split(X, y, test_size=i, random_state=j)\n",
    "        param_grid = {'n_estimators': [100, 200, 300, 400],\n",
    "                      'max_features': ['auto', 'sqrt', 'log2'],\n",
    "                      'criterion' :['gini', 'entropy']}\n",
    "\n",
    "        model = GridSearchCV(RandomForestClassifier(), param_grid, refit=True, n_jobs=-1, cv=10, verbose=1)\n",
    "        model.fit(X_train, y_train)\n",
    "        pred = model.predict(X_test)\n",
    "\n",
    "        acc = accuracy_score(y_test,pred)\n",
    "        pre = precision_score(y_test, pred, average='weighted')\n",
    "        recall = recall_score(y_test, pred, average='weighted')\n",
    "        f1 = f1_score(y_test, pred, average='weighted')\n",
    "        param = model.best_params_\n",
    "    \n",
    "        temp5L_SFB_SMOTE.append([i,j,acc,pre,recall,f1,param])\n",
    "        \n",
    "df5L_SFB_SMOTE = pd.DataFrame(columns=['Test Size','Random State','Accuracy','Precision','Recall','F1 Score','Best Param'],data=temp5L_SFB_SMOTE)\n",
    "df5L_SFB_SMOTE"
   ]
  },
  {
   "cell_type": "code",
   "execution_count": 92,
   "id": "fad33b67-f045-4f8d-a63d-763806f396ee",
   "metadata": {},
   "outputs": [
    {
     "data": {
      "text/html": [
       "<div>\n",
       "<style scoped>\n",
       "    .dataframe tbody tr th:only-of-type {\n",
       "        vertical-align: middle;\n",
       "    }\n",
       "\n",
       "    .dataframe tbody tr th {\n",
       "        vertical-align: top;\n",
       "    }\n",
       "\n",
       "    .dataframe thead th {\n",
       "        text-align: right;\n",
       "    }\n",
       "</style>\n",
       "<table border=\"1\" class=\"dataframe\">\n",
       "  <thead>\n",
       "    <tr style=\"text-align: right;\">\n",
       "      <th></th>\n",
       "      <th>Accuracy</th>\n",
       "      <th>Precision</th>\n",
       "      <th>Recall</th>\n",
       "      <th>F1 Score</th>\n",
       "    </tr>\n",
       "    <tr>\n",
       "      <th>Test Size</th>\n",
       "      <th></th>\n",
       "      <th></th>\n",
       "      <th></th>\n",
       "      <th></th>\n",
       "    </tr>\n",
       "  </thead>\n",
       "  <tbody>\n",
       "    <tr>\n",
       "      <th>0.2</th>\n",
       "      <td>0.631551</td>\n",
       "      <td>0.629518</td>\n",
       "      <td>0.631551</td>\n",
       "      <td>0.629787</td>\n",
       "    </tr>\n",
       "    <tr>\n",
       "      <th>0.3</th>\n",
       "      <td>0.608351</td>\n",
       "      <td>0.605160</td>\n",
       "      <td>0.608351</td>\n",
       "      <td>0.606337</td>\n",
       "    </tr>\n",
       "    <tr>\n",
       "      <th>0.4</th>\n",
       "      <td>0.602107</td>\n",
       "      <td>0.592325</td>\n",
       "      <td>0.602107</td>\n",
       "      <td>0.595883</td>\n",
       "    </tr>\n",
       "    <tr>\n",
       "      <th>0.5</th>\n",
       "      <td>0.590840</td>\n",
       "      <td>0.579900</td>\n",
       "      <td>0.590840</td>\n",
       "      <td>0.583608</td>\n",
       "    </tr>\n",
       "  </tbody>\n",
       "</table>\n",
       "</div>"
      ],
      "text/plain": [
       "           Accuracy  Precision    Recall  F1 Score\n",
       "Test Size                                         \n",
       "0.2        0.631551   0.629518  0.631551  0.629787\n",
       "0.3        0.608351   0.605160  0.608351  0.606337\n",
       "0.4        0.602107   0.592325  0.602107  0.595883\n",
       "0.5        0.590840   0.579900  0.590840  0.583608"
      ]
     },
     "execution_count": 92,
     "metadata": {},
     "output_type": "execute_result"
    }
   ],
   "source": [
    "df5L_SFB_SMOTE.groupby('Test Size')[['Accuracy','Precision','Recall','F1 Score']].mean()"
   ]
  },
  {
   "cell_type": "code",
   "execution_count": 93,
   "id": "8feead90-b56a-47e1-8bda-63853152e901",
   "metadata": {},
   "outputs": [
    {
     "name": "stdout",
     "output_type": "stream",
     "text": [
      "SMOTE 5-Level: Student Family Background\n",
      "\n",
      "{'criterion': 'entropy', 'max_features': 'auto', 'n_estimators': 200}\n",
      "{'criterion': 'entropy', 'max_features': 'log2', 'n_estimators': 100}\n",
      "{'criterion': 'gini', 'max_features': 'sqrt', 'n_estimators': 400}\n",
      "{'criterion': 'gini', 'max_features': 'sqrt', 'n_estimators': 100}\n",
      "{'criterion': 'entropy', 'max_features': 'auto', 'n_estimators': 300}\n",
      "{'criterion': 'entropy', 'max_features': 'log2', 'n_estimators': 200}\n",
      "{'criterion': 'gini', 'max_features': 'auto', 'n_estimators': 100}\n",
      "{'criterion': 'entropy', 'max_features': 'log2', 'n_estimators': 100}\n",
      "{'criterion': 'gini', 'max_features': 'log2', 'n_estimators': 100}\n",
      "{'criterion': 'entropy', 'max_features': 'log2', 'n_estimators': 400}\n",
      "{'criterion': 'gini', 'max_features': 'log2', 'n_estimators': 100}\n",
      "{'criterion': 'entropy', 'max_features': 'log2', 'n_estimators': 100}\n"
     ]
    }
   ],
   "source": [
    "print(\"SMOTE 5-Level: Student Family Background\\n\")\n",
    "for x in df5L_SFB_SMOTE[\"Best Param\"]:\n",
    "    print(x)"
   ]
  },
  {
   "cell_type": "markdown",
   "id": "02d5a463-5db1-4959-bde7-3e8002c11966",
   "metadata": {},
   "source": [
    "## Student Lifestyle"
   ]
  },
  {
   "cell_type": "markdown",
   "id": "c65d6858-bd4e-470a-9a28-a5817909660c",
   "metadata": {},
   "source": [
    "### SL before Data Balancing"
   ]
  },
  {
   "cell_type": "code",
   "execution_count": 94,
   "id": "47cfe99f-7841-4d9e-9e2d-8ae9e5c67544",
   "metadata": {},
   "outputs": [
    {
     "name": "stdout",
     "output_type": "stream",
     "text": [
      "X: (1287, 15) y: (1287, 1)\n",
      "Fitting 10 folds for each of 24 candidates, totalling 240 fits\n"
     ]
    },
    {
     "name": "stderr",
     "output_type": "stream",
     "text": [
      "C:\\Users\\hazel\\anaconda3\\Lib\\site-packages\\sklearn\\model_selection\\_split.py:700: UserWarning: The least populated class in y has only 8 members, which is less than n_splits=10.\n",
      "  warnings.warn(\n",
      "C:\\Users\\hazel\\anaconda3\\Lib\\site-packages\\sklearn\\model_selection\\_search.py:909: DataConversionWarning: A column-vector y was passed when a 1d array was expected. Please change the shape of y to (n_samples,), for example using ravel().\n",
      "  self.best_estimator_.fit(X, y, **fit_params)\n",
      "C:\\Users\\hazel\\anaconda3\\Lib\\site-packages\\sklearn\\ensemble\\_forest.py:424: FutureWarning: `max_features='auto'` has been deprecated in 1.1 and will be removed in 1.3. To keep the past behaviour, explicitly set `max_features='sqrt'` or remove this parameter as it is also the default value for RandomForestClassifiers and ExtraTreesClassifiers.\n",
      "  warn(\n",
      "C:\\Users\\hazel\\anaconda3\\Lib\\site-packages\\sklearn\\metrics\\_classification.py:1344: UndefinedMetricWarning: Precision is ill-defined and being set to 0.0 in labels with no predicted samples. Use `zero_division` parameter to control this behavior.\n",
      "  _warn_prf(average, modifier, msg_start, len(result))\n",
      "C:\\Users\\hazel\\anaconda3\\Lib\\site-packages\\sklearn\\model_selection\\_split.py:700: UserWarning: The least populated class in y has only 8 members, which is less than n_splits=10.\n",
      "  warnings.warn(\n"
     ]
    },
    {
     "name": "stdout",
     "output_type": "stream",
     "text": [
      "Fitting 10 folds for each of 24 candidates, totalling 240 fits\n"
     ]
    },
    {
     "name": "stderr",
     "output_type": "stream",
     "text": [
      "C:\\Users\\hazel\\anaconda3\\Lib\\site-packages\\sklearn\\model_selection\\_search.py:909: DataConversionWarning: A column-vector y was passed when a 1d array was expected. Please change the shape of y to (n_samples,), for example using ravel().\n",
      "  self.best_estimator_.fit(X, y, **fit_params)\n"
     ]
    },
    {
     "name": "stdout",
     "output_type": "stream",
     "text": [
      "Fitting 10 folds for each of 24 candidates, totalling 240 fits\n"
     ]
    },
    {
     "name": "stderr",
     "output_type": "stream",
     "text": [
      "C:\\Users\\hazel\\anaconda3\\Lib\\site-packages\\sklearn\\model_selection\\_split.py:700: UserWarning: The least populated class in y has only 8 members, which is less than n_splits=10.\n",
      "  warnings.warn(\n",
      "C:\\Users\\hazel\\anaconda3\\Lib\\site-packages\\sklearn\\model_selection\\_search.py:909: DataConversionWarning: A column-vector y was passed when a 1d array was expected. Please change the shape of y to (n_samples,), for example using ravel().\n",
      "  self.best_estimator_.fit(X, y, **fit_params)\n",
      "C:\\Users\\hazel\\anaconda3\\Lib\\site-packages\\sklearn\\ensemble\\_forest.py:424: FutureWarning: `max_features='auto'` has been deprecated in 1.1 and will be removed in 1.3. To keep the past behaviour, explicitly set `max_features='sqrt'` or remove this parameter as it is also the default value for RandomForestClassifiers and ExtraTreesClassifiers.\n",
      "  warn(\n",
      "C:\\Users\\hazel\\anaconda3\\Lib\\site-packages\\sklearn\\metrics\\_classification.py:1344: UndefinedMetricWarning: Precision is ill-defined and being set to 0.0 in labels with no predicted samples. Use `zero_division` parameter to control this behavior.\n",
      "  _warn_prf(average, modifier, msg_start, len(result))\n"
     ]
    },
    {
     "name": "stdout",
     "output_type": "stream",
     "text": [
      "Fitting 10 folds for each of 24 candidates, totalling 240 fits\n"
     ]
    },
    {
     "name": "stderr",
     "output_type": "stream",
     "text": [
      "C:\\Users\\hazel\\anaconda3\\Lib\\site-packages\\sklearn\\model_selection\\_search.py:909: DataConversionWarning: A column-vector y was passed when a 1d array was expected. Please change the shape of y to (n_samples,), for example using ravel().\n",
      "  self.best_estimator_.fit(X, y, **fit_params)\n"
     ]
    },
    {
     "name": "stdout",
     "output_type": "stream",
     "text": [
      "Fitting 10 folds for each of 24 candidates, totalling 240 fits\n"
     ]
    },
    {
     "name": "stderr",
     "output_type": "stream",
     "text": [
      "C:\\Users\\hazel\\anaconda3\\Lib\\site-packages\\sklearn\\model_selection\\_split.py:700: UserWarning: The least populated class in y has only 9 members, which is less than n_splits=10.\n",
      "  warnings.warn(\n",
      "C:\\Users\\hazel\\anaconda3\\Lib\\site-packages\\sklearn\\model_selection\\_search.py:909: DataConversionWarning: A column-vector y was passed when a 1d array was expected. Please change the shape of y to (n_samples,), for example using ravel().\n",
      "  self.best_estimator_.fit(X, y, **fit_params)\n"
     ]
    },
    {
     "name": "stdout",
     "output_type": "stream",
     "text": [
      "Fitting 10 folds for each of 24 candidates, totalling 240 fits\n"
     ]
    },
    {
     "name": "stderr",
     "output_type": "stream",
     "text": [
      "C:\\Users\\hazel\\anaconda3\\Lib\\site-packages\\sklearn\\model_selection\\_search.py:909: DataConversionWarning: A column-vector y was passed when a 1d array was expected. Please change the shape of y to (n_samples,), for example using ravel().\n",
      "  self.best_estimator_.fit(X, y, **fit_params)\n",
      "C:\\Users\\hazel\\anaconda3\\Lib\\site-packages\\sklearn\\metrics\\_classification.py:1344: UndefinedMetricWarning: Precision is ill-defined and being set to 0.0 in labels with no predicted samples. Use `zero_division` parameter to control this behavior.\n",
      "  _warn_prf(average, modifier, msg_start, len(result))\n"
     ]
    },
    {
     "name": "stdout",
     "output_type": "stream",
     "text": [
      "Fitting 10 folds for each of 24 candidates, totalling 240 fits\n"
     ]
    },
    {
     "name": "stderr",
     "output_type": "stream",
     "text": [
      "C:\\Users\\hazel\\anaconda3\\Lib\\site-packages\\sklearn\\model_selection\\_search.py:909: DataConversionWarning: A column-vector y was passed when a 1d array was expected. Please change the shape of y to (n_samples,), for example using ravel().\n",
      "  self.best_estimator_.fit(X, y, **fit_params)\n",
      "C:\\Users\\hazel\\anaconda3\\Lib\\site-packages\\sklearn\\metrics\\_classification.py:1344: UndefinedMetricWarning: Precision is ill-defined and being set to 0.0 in labels with no predicted samples. Use `zero_division` parameter to control this behavior.\n",
      "  _warn_prf(average, modifier, msg_start, len(result))\n"
     ]
    },
    {
     "name": "stdout",
     "output_type": "stream",
     "text": [
      "Fitting 10 folds for each of 24 candidates, totalling 240 fits\n"
     ]
    },
    {
     "name": "stderr",
     "output_type": "stream",
     "text": [
      "C:\\Users\\hazel\\anaconda3\\Lib\\site-packages\\sklearn\\model_selection\\_search.py:909: DataConversionWarning: A column-vector y was passed when a 1d array was expected. Please change the shape of y to (n_samples,), for example using ravel().\n",
      "  self.best_estimator_.fit(X, y, **fit_params)\n",
      "C:\\Users\\hazel\\anaconda3\\Lib\\site-packages\\sklearn\\ensemble\\_forest.py:424: FutureWarning: `max_features='auto'` has been deprecated in 1.1 and will be removed in 1.3. To keep the past behaviour, explicitly set `max_features='sqrt'` or remove this parameter as it is also the default value for RandomForestClassifiers and ExtraTreesClassifiers.\n",
      "  warn(\n",
      "C:\\Users\\hazel\\anaconda3\\Lib\\site-packages\\sklearn\\metrics\\_classification.py:1344: UndefinedMetricWarning: Precision is ill-defined and being set to 0.0 in labels with no predicted samples. Use `zero_division` parameter to control this behavior.\n",
      "  _warn_prf(average, modifier, msg_start, len(result))\n"
     ]
    },
    {
     "name": "stdout",
     "output_type": "stream",
     "text": [
      "Fitting 10 folds for each of 24 candidates, totalling 240 fits\n"
     ]
    },
    {
     "name": "stderr",
     "output_type": "stream",
     "text": [
      "C:\\Users\\hazel\\anaconda3\\Lib\\site-packages\\sklearn\\model_selection\\_search.py:909: DataConversionWarning: A column-vector y was passed when a 1d array was expected. Please change the shape of y to (n_samples,), for example using ravel().\n",
      "  self.best_estimator_.fit(X, y, **fit_params)\n",
      "C:\\Users\\hazel\\anaconda3\\Lib\\site-packages\\sklearn\\metrics\\_classification.py:1344: UndefinedMetricWarning: Precision is ill-defined and being set to 0.0 in labels with no predicted samples. Use `zero_division` parameter to control this behavior.\n",
      "  _warn_prf(average, modifier, msg_start, len(result))\n"
     ]
    },
    {
     "name": "stdout",
     "output_type": "stream",
     "text": [
      "Fitting 10 folds for each of 24 candidates, totalling 240 fits\n"
     ]
    },
    {
     "name": "stderr",
     "output_type": "stream",
     "text": [
      "C:\\Users\\hazel\\anaconda3\\Lib\\site-packages\\sklearn\\model_selection\\_search.py:909: DataConversionWarning: A column-vector y was passed when a 1d array was expected. Please change the shape of y to (n_samples,), for example using ravel().\n",
      "  self.best_estimator_.fit(X, y, **fit_params)\n",
      "C:\\Users\\hazel\\anaconda3\\Lib\\site-packages\\sklearn\\metrics\\_classification.py:1344: UndefinedMetricWarning: Precision is ill-defined and being set to 0.0 in labels with no predicted samples. Use `zero_division` parameter to control this behavior.\n",
      "  _warn_prf(average, modifier, msg_start, len(result))\n"
     ]
    },
    {
     "name": "stdout",
     "output_type": "stream",
     "text": [
      "Fitting 10 folds for each of 24 candidates, totalling 240 fits\n"
     ]
    },
    {
     "name": "stderr",
     "output_type": "stream",
     "text": [
      "C:\\Users\\hazel\\anaconda3\\Lib\\site-packages\\sklearn\\model_selection\\_search.py:909: DataConversionWarning: A column-vector y was passed when a 1d array was expected. Please change the shape of y to (n_samples,), for example using ravel().\n",
      "  self.best_estimator_.fit(X, y, **fit_params)\n",
      "C:\\Users\\hazel\\anaconda3\\Lib\\site-packages\\sklearn\\metrics\\_classification.py:1344: UndefinedMetricWarning: Precision is ill-defined and being set to 0.0 in labels with no predicted samples. Use `zero_division` parameter to control this behavior.\n",
      "  _warn_prf(average, modifier, msg_start, len(result))\n"
     ]
    },
    {
     "name": "stdout",
     "output_type": "stream",
     "text": [
      "Fitting 10 folds for each of 24 candidates, totalling 240 fits\n"
     ]
    },
    {
     "name": "stderr",
     "output_type": "stream",
     "text": [
      "C:\\Users\\hazel\\anaconda3\\Lib\\site-packages\\sklearn\\model_selection\\_search.py:909: DataConversionWarning: A column-vector y was passed when a 1d array was expected. Please change the shape of y to (n_samples,), for example using ravel().\n",
      "  self.best_estimator_.fit(X, y, **fit_params)\n",
      "C:\\Users\\hazel\\anaconda3\\Lib\\site-packages\\sklearn\\metrics\\_classification.py:1344: UndefinedMetricWarning: Precision is ill-defined and being set to 0.0 in labels with no predicted samples. Use `zero_division` parameter to control this behavior.\n",
      "  _warn_prf(average, modifier, msg_start, len(result))\n"
     ]
    },
    {
     "data": {
      "text/html": [
       "<div>\n",
       "<style scoped>\n",
       "    .dataframe tbody tr th:only-of-type {\n",
       "        vertical-align: middle;\n",
       "    }\n",
       "\n",
       "    .dataframe tbody tr th {\n",
       "        vertical-align: top;\n",
       "    }\n",
       "\n",
       "    .dataframe thead th {\n",
       "        text-align: right;\n",
       "    }\n",
       "</style>\n",
       "<table border=\"1\" class=\"dataframe\">\n",
       "  <thead>\n",
       "    <tr style=\"text-align: right;\">\n",
       "      <th></th>\n",
       "      <th>Test Size</th>\n",
       "      <th>Random State</th>\n",
       "      <th>Accuracy</th>\n",
       "      <th>Precision</th>\n",
       "      <th>Recall</th>\n",
       "      <th>F1 Score</th>\n",
       "      <th>Best Param</th>\n",
       "    </tr>\n",
       "  </thead>\n",
       "  <tbody>\n",
       "    <tr>\n",
       "      <th>0</th>\n",
       "      <td>0.5</td>\n",
       "      <td>7</td>\n",
       "      <td>0.425466</td>\n",
       "      <td>0.349706</td>\n",
       "      <td>0.425466</td>\n",
       "      <td>0.362966</td>\n",
       "      <td>{'criterion': 'gini', 'max_features': 'auto', ...</td>\n",
       "    </tr>\n",
       "    <tr>\n",
       "      <th>1</th>\n",
       "      <td>0.5</td>\n",
       "      <td>69</td>\n",
       "      <td>0.453416</td>\n",
       "      <td>0.377024</td>\n",
       "      <td>0.453416</td>\n",
       "      <td>0.392372</td>\n",
       "      <td>{'criterion': 'entropy', 'max_features': 'sqrt...</td>\n",
       "    </tr>\n",
       "    <tr>\n",
       "      <th>2</th>\n",
       "      <td>0.5</td>\n",
       "      <td>101</td>\n",
       "      <td>0.467391</td>\n",
       "      <td>0.409859</td>\n",
       "      <td>0.467391</td>\n",
       "      <td>0.418791</td>\n",
       "      <td>{'criterion': 'gini', 'max_features': 'auto', ...</td>\n",
       "    </tr>\n",
       "    <tr>\n",
       "      <th>3</th>\n",
       "      <td>0.4</td>\n",
       "      <td>7</td>\n",
       "      <td>0.440777</td>\n",
       "      <td>0.370548</td>\n",
       "      <td>0.440777</td>\n",
       "      <td>0.371801</td>\n",
       "      <td>{'criterion': 'entropy', 'max_features': 'log2...</td>\n",
       "    </tr>\n",
       "    <tr>\n",
       "      <th>4</th>\n",
       "      <td>0.4</td>\n",
       "      <td>69</td>\n",
       "      <td>0.452427</td>\n",
       "      <td>0.400045</td>\n",
       "      <td>0.452427</td>\n",
       "      <td>0.411494</td>\n",
       "      <td>{'criterion': 'entropy', 'max_features': 'sqrt...</td>\n",
       "    </tr>\n",
       "    <tr>\n",
       "      <th>5</th>\n",
       "      <td>0.4</td>\n",
       "      <td>101</td>\n",
       "      <td>0.469903</td>\n",
       "      <td>0.410016</td>\n",
       "      <td>0.469903</td>\n",
       "      <td>0.422343</td>\n",
       "      <td>{'criterion': 'entropy', 'max_features': 'log2...</td>\n",
       "    </tr>\n",
       "    <tr>\n",
       "      <th>6</th>\n",
       "      <td>0.3</td>\n",
       "      <td>7</td>\n",
       "      <td>0.441860</td>\n",
       "      <td>0.366475</td>\n",
       "      <td>0.441860</td>\n",
       "      <td>0.369138</td>\n",
       "      <td>{'criterion': 'entropy', 'max_features': 'sqrt...</td>\n",
       "    </tr>\n",
       "    <tr>\n",
       "      <th>7</th>\n",
       "      <td>0.3</td>\n",
       "      <td>69</td>\n",
       "      <td>0.472868</td>\n",
       "      <td>0.389621</td>\n",
       "      <td>0.472868</td>\n",
       "      <td>0.417032</td>\n",
       "      <td>{'criterion': 'gini', 'max_features': 'auto', ...</td>\n",
       "    </tr>\n",
       "    <tr>\n",
       "      <th>8</th>\n",
       "      <td>0.3</td>\n",
       "      <td>101</td>\n",
       "      <td>0.439276</td>\n",
       "      <td>0.368768</td>\n",
       "      <td>0.439276</td>\n",
       "      <td>0.387447</td>\n",
       "      <td>{'criterion': 'entropy', 'max_features': 'sqrt...</td>\n",
       "    </tr>\n",
       "    <tr>\n",
       "      <th>9</th>\n",
       "      <td>0.2</td>\n",
       "      <td>7</td>\n",
       "      <td>0.445736</td>\n",
       "      <td>0.379476</td>\n",
       "      <td>0.445736</td>\n",
       "      <td>0.381400</td>\n",
       "      <td>{'criterion': 'entropy', 'max_features': 'sqrt...</td>\n",
       "    </tr>\n",
       "    <tr>\n",
       "      <th>10</th>\n",
       "      <td>0.2</td>\n",
       "      <td>69</td>\n",
       "      <td>0.472868</td>\n",
       "      <td>0.399811</td>\n",
       "      <td>0.472868</td>\n",
       "      <td>0.412745</td>\n",
       "      <td>{'criterion': 'entropy', 'max_features': 'sqrt...</td>\n",
       "    </tr>\n",
       "    <tr>\n",
       "      <th>11</th>\n",
       "      <td>0.2</td>\n",
       "      <td>101</td>\n",
       "      <td>0.457364</td>\n",
       "      <td>0.384084</td>\n",
       "      <td>0.457364</td>\n",
       "      <td>0.407081</td>\n",
       "      <td>{'criterion': 'gini', 'max_features': 'sqrt', ...</td>\n",
       "    </tr>\n",
       "  </tbody>\n",
       "</table>\n",
       "</div>"
      ],
      "text/plain": [
       "    Test Size  Random State  Accuracy  Precision    Recall  F1 Score  \\\n",
       "0         0.5             7  0.425466   0.349706  0.425466  0.362966   \n",
       "1         0.5            69  0.453416   0.377024  0.453416  0.392372   \n",
       "2         0.5           101  0.467391   0.409859  0.467391  0.418791   \n",
       "3         0.4             7  0.440777   0.370548  0.440777  0.371801   \n",
       "4         0.4            69  0.452427   0.400045  0.452427  0.411494   \n",
       "5         0.4           101  0.469903   0.410016  0.469903  0.422343   \n",
       "6         0.3             7  0.441860   0.366475  0.441860  0.369138   \n",
       "7         0.3            69  0.472868   0.389621  0.472868  0.417032   \n",
       "8         0.3           101  0.439276   0.368768  0.439276  0.387447   \n",
       "9         0.2             7  0.445736   0.379476  0.445736  0.381400   \n",
       "10        0.2            69  0.472868   0.399811  0.472868  0.412745   \n",
       "11        0.2           101  0.457364   0.384084  0.457364  0.407081   \n",
       "\n",
       "                                           Best Param  \n",
       "0   {'criterion': 'gini', 'max_features': 'auto', ...  \n",
       "1   {'criterion': 'entropy', 'max_features': 'sqrt...  \n",
       "2   {'criterion': 'gini', 'max_features': 'auto', ...  \n",
       "3   {'criterion': 'entropy', 'max_features': 'log2...  \n",
       "4   {'criterion': 'entropy', 'max_features': 'sqrt...  \n",
       "5   {'criterion': 'entropy', 'max_features': 'log2...  \n",
       "6   {'criterion': 'entropy', 'max_features': 'sqrt...  \n",
       "7   {'criterion': 'gini', 'max_features': 'auto', ...  \n",
       "8   {'criterion': 'entropy', 'max_features': 'sqrt...  \n",
       "9   {'criterion': 'entropy', 'max_features': 'sqrt...  \n",
       "10  {'criterion': 'entropy', 'max_features': 'sqrt...  \n",
       "11  {'criterion': 'gini', 'max_features': 'sqrt', ...  "
      ]
     },
     "execution_count": 94,
     "metadata": {},
     "output_type": "execute_result"
    }
   ],
   "source": [
    "temp5L_SL_imb = []\n",
    "\n",
    "y = merge_5L_imb[['CGPA']]\n",
    "X = merge_5L_imb[['Relationship Status', 'Scholarship', 'PTPTN', 'Skipping Class', 'Additional Course',\n",
    "                    'Study Behavior', 'Study Time', 'Extra Curricular Activities', 'Part-time Job', 'Commute Time',\n",
    "                    'Gaming', 'Alcohol Consumption', 'I have enough free time after class', 'Social Interaction',\n",
    "                    'I hang out with friends']]\n",
    "\n",
    "print(\"X:\", X.shape,\"y:\", y.shape)\n",
    "\n",
    "for i in [0.5,0.4,0.3,0.2]:\n",
    "    for j in rand_states:\n",
    "        X_train, X_test, y_train, y_test = train_test_split(X, y, test_size=i, random_state=j)\n",
    "        param_grid = {'n_estimators': [100, 200, 300, 400],\n",
    "                      'max_features': ['auto', 'sqrt', 'log2'],\n",
    "                      'criterion' :['gini', 'entropy']}\n",
    "\n",
    "        model = GridSearchCV(RandomForestClassifier(), param_grid, refit=True, n_jobs=-1, cv=10, verbose=1)\n",
    "        model.fit(X_train, y_train)\n",
    "        pred = model.predict(X_test)\n",
    "\n",
    "        acc = accuracy_score(y_test,pred)\n",
    "        pre = precision_score(y_test, pred, average='weighted')\n",
    "        recall = recall_score(y_test, pred, average='weighted')\n",
    "        f1 = f1_score(y_test, pred, average='weighted')\n",
    "        param = model.best_params_\n",
    "    \n",
    "        temp5L_SL_imb.append([i,j,acc,pre,recall,f1,param])\n",
    "        \n",
    "df5L_SL_imb = pd.DataFrame(columns=['Test Size','Random State','Accuracy','Precision','Recall','F1 Score','Best Param'],data=temp5L_SL_imb)\n",
    "df5L_SL_imb"
   ]
  },
  {
   "cell_type": "code",
   "execution_count": 95,
   "id": "11e85b7b-8f8f-4d7d-ad7b-23306e99b44e",
   "metadata": {},
   "outputs": [
    {
     "data": {
      "text/html": [
       "<div>\n",
       "<style scoped>\n",
       "    .dataframe tbody tr th:only-of-type {\n",
       "        vertical-align: middle;\n",
       "    }\n",
       "\n",
       "    .dataframe tbody tr th {\n",
       "        vertical-align: top;\n",
       "    }\n",
       "\n",
       "    .dataframe thead th {\n",
       "        text-align: right;\n",
       "    }\n",
       "</style>\n",
       "<table border=\"1\" class=\"dataframe\">\n",
       "  <thead>\n",
       "    <tr style=\"text-align: right;\">\n",
       "      <th></th>\n",
       "      <th>Accuracy</th>\n",
       "      <th>Precision</th>\n",
       "      <th>Recall</th>\n",
       "      <th>F1 Score</th>\n",
       "    </tr>\n",
       "    <tr>\n",
       "      <th>Test Size</th>\n",
       "      <th></th>\n",
       "      <th></th>\n",
       "      <th></th>\n",
       "      <th></th>\n",
       "    </tr>\n",
       "  </thead>\n",
       "  <tbody>\n",
       "    <tr>\n",
       "      <th>0.2</th>\n",
       "      <td>0.458656</td>\n",
       "      <td>0.387790</td>\n",
       "      <td>0.458656</td>\n",
       "      <td>0.400409</td>\n",
       "    </tr>\n",
       "    <tr>\n",
       "      <th>0.3</th>\n",
       "      <td>0.451335</td>\n",
       "      <td>0.374955</td>\n",
       "      <td>0.451335</td>\n",
       "      <td>0.391206</td>\n",
       "    </tr>\n",
       "    <tr>\n",
       "      <th>0.4</th>\n",
       "      <td>0.454369</td>\n",
       "      <td>0.393536</td>\n",
       "      <td>0.454369</td>\n",
       "      <td>0.401879</td>\n",
       "    </tr>\n",
       "    <tr>\n",
       "      <th>0.5</th>\n",
       "      <td>0.448758</td>\n",
       "      <td>0.378863</td>\n",
       "      <td>0.448758</td>\n",
       "      <td>0.391377</td>\n",
       "    </tr>\n",
       "  </tbody>\n",
       "</table>\n",
       "</div>"
      ],
      "text/plain": [
       "           Accuracy  Precision    Recall  F1 Score\n",
       "Test Size                                         \n",
       "0.2        0.458656   0.387790  0.458656  0.400409\n",
       "0.3        0.451335   0.374955  0.451335  0.391206\n",
       "0.4        0.454369   0.393536  0.454369  0.401879\n",
       "0.5        0.448758   0.378863  0.448758  0.391377"
      ]
     },
     "execution_count": 95,
     "metadata": {},
     "output_type": "execute_result"
    }
   ],
   "source": [
    "df5L_SL_imb.groupby('Test Size')[['Accuracy','Precision','Recall','F1 Score']].mean()"
   ]
  },
  {
   "cell_type": "code",
   "execution_count": 96,
   "id": "7e9b4943-ab32-4b45-8d72-2902571d1bdc",
   "metadata": {},
   "outputs": [
    {
     "name": "stdout",
     "output_type": "stream",
     "text": [
      "Imbalance 5-Level: Student Lifestyle\n",
      "\n",
      "{'criterion': 'gini', 'max_features': 'auto', 'n_estimators': 100}\n",
      "{'criterion': 'entropy', 'max_features': 'sqrt', 'n_estimators': 200}\n",
      "{'criterion': 'gini', 'max_features': 'auto', 'n_estimators': 400}\n",
      "{'criterion': 'entropy', 'max_features': 'log2', 'n_estimators': 300}\n",
      "{'criterion': 'entropy', 'max_features': 'sqrt', 'n_estimators': 200}\n",
      "{'criterion': 'entropy', 'max_features': 'log2', 'n_estimators': 100}\n",
      "{'criterion': 'entropy', 'max_features': 'sqrt', 'n_estimators': 400}\n",
      "{'criterion': 'gini', 'max_features': 'auto', 'n_estimators': 300}\n",
      "{'criterion': 'entropy', 'max_features': 'sqrt', 'n_estimators': 100}\n",
      "{'criterion': 'entropy', 'max_features': 'sqrt', 'n_estimators': 400}\n",
      "{'criterion': 'entropy', 'max_features': 'sqrt', 'n_estimators': 400}\n",
      "{'criterion': 'gini', 'max_features': 'sqrt', 'n_estimators': 200}\n"
     ]
    }
   ],
   "source": [
    "print(\"Imbalance 5-Level: Student Lifestyle\\n\")\n",
    "for x in df5L_SL_imb[\"Best Param\"]:\n",
    "    print(x)"
   ]
  },
  {
   "cell_type": "markdown",
   "id": "8c53505e-335d-43bb-8771-90cb405fd3c6",
   "metadata": {},
   "source": [
    "### SL after RandomOverSampler"
   ]
  },
  {
   "cell_type": "code",
   "execution_count": 97,
   "id": "7e74c77b-9cc9-4a57-9d65-87f91b701361",
   "metadata": {},
   "outputs": [
    {
     "name": "stdout",
     "output_type": "stream",
     "text": [
      "X: (3085, 15) y: (3085, 1)\n",
      "Fitting 10 folds for each of 24 candidates, totalling 240 fits\n"
     ]
    },
    {
     "name": "stderr",
     "output_type": "stream",
     "text": [
      "C:\\Users\\hazel\\anaconda3\\Lib\\site-packages\\sklearn\\model_selection\\_search.py:909: DataConversionWarning: A column-vector y was passed when a 1d array was expected. Please change the shape of y to (n_samples,), for example using ravel().\n",
      "  self.best_estimator_.fit(X, y, **fit_params)\n"
     ]
    },
    {
     "name": "stdout",
     "output_type": "stream",
     "text": [
      "Fitting 10 folds for each of 24 candidates, totalling 240 fits\n"
     ]
    },
    {
     "name": "stderr",
     "output_type": "stream",
     "text": [
      "C:\\Users\\hazel\\anaconda3\\Lib\\site-packages\\sklearn\\model_selection\\_search.py:909: DataConversionWarning: A column-vector y was passed when a 1d array was expected. Please change the shape of y to (n_samples,), for example using ravel().\n",
      "  self.best_estimator_.fit(X, y, **fit_params)\n",
      "C:\\Users\\hazel\\anaconda3\\Lib\\site-packages\\sklearn\\ensemble\\_forest.py:424: FutureWarning: `max_features='auto'` has been deprecated in 1.1 and will be removed in 1.3. To keep the past behaviour, explicitly set `max_features='sqrt'` or remove this parameter as it is also the default value for RandomForestClassifiers and ExtraTreesClassifiers.\n",
      "  warn(\n"
     ]
    },
    {
     "name": "stdout",
     "output_type": "stream",
     "text": [
      "Fitting 10 folds for each of 24 candidates, totalling 240 fits\n"
     ]
    },
    {
     "name": "stderr",
     "output_type": "stream",
     "text": [
      "C:\\Users\\hazel\\anaconda3\\Lib\\site-packages\\sklearn\\model_selection\\_search.py:909: DataConversionWarning: A column-vector y was passed when a 1d array was expected. Please change the shape of y to (n_samples,), for example using ravel().\n",
      "  self.best_estimator_.fit(X, y, **fit_params)\n"
     ]
    },
    {
     "name": "stdout",
     "output_type": "stream",
     "text": [
      "Fitting 10 folds for each of 24 candidates, totalling 240 fits\n"
     ]
    },
    {
     "name": "stderr",
     "output_type": "stream",
     "text": [
      "C:\\Users\\hazel\\anaconda3\\Lib\\site-packages\\sklearn\\model_selection\\_search.py:909: DataConversionWarning: A column-vector y was passed when a 1d array was expected. Please change the shape of y to (n_samples,), for example using ravel().\n",
      "  self.best_estimator_.fit(X, y, **fit_params)\n"
     ]
    },
    {
     "name": "stdout",
     "output_type": "stream",
     "text": [
      "Fitting 10 folds for each of 24 candidates, totalling 240 fits\n"
     ]
    },
    {
     "name": "stderr",
     "output_type": "stream",
     "text": [
      "C:\\Users\\hazel\\anaconda3\\Lib\\site-packages\\sklearn\\model_selection\\_search.py:909: DataConversionWarning: A column-vector y was passed when a 1d array was expected. Please change the shape of y to (n_samples,), for example using ravel().\n",
      "  self.best_estimator_.fit(X, y, **fit_params)\n"
     ]
    },
    {
     "name": "stdout",
     "output_type": "stream",
     "text": [
      "Fitting 10 folds for each of 24 candidates, totalling 240 fits\n"
     ]
    },
    {
     "name": "stderr",
     "output_type": "stream",
     "text": [
      "C:\\Users\\hazel\\anaconda3\\Lib\\site-packages\\sklearn\\model_selection\\_search.py:909: DataConversionWarning: A column-vector y was passed when a 1d array was expected. Please change the shape of y to (n_samples,), for example using ravel().\n",
      "  self.best_estimator_.fit(X, y, **fit_params)\n"
     ]
    },
    {
     "name": "stdout",
     "output_type": "stream",
     "text": [
      "Fitting 10 folds for each of 24 candidates, totalling 240 fits\n"
     ]
    },
    {
     "name": "stderr",
     "output_type": "stream",
     "text": [
      "C:\\Users\\hazel\\anaconda3\\Lib\\site-packages\\sklearn\\model_selection\\_search.py:909: DataConversionWarning: A column-vector y was passed when a 1d array was expected. Please change the shape of y to (n_samples,), for example using ravel().\n",
      "  self.best_estimator_.fit(X, y, **fit_params)\n"
     ]
    },
    {
     "name": "stdout",
     "output_type": "stream",
     "text": [
      "Fitting 10 folds for each of 24 candidates, totalling 240 fits\n"
     ]
    },
    {
     "name": "stderr",
     "output_type": "stream",
     "text": [
      "C:\\Users\\hazel\\anaconda3\\Lib\\site-packages\\sklearn\\model_selection\\_search.py:909: DataConversionWarning: A column-vector y was passed when a 1d array was expected. Please change the shape of y to (n_samples,), for example using ravel().\n",
      "  self.best_estimator_.fit(X, y, **fit_params)\n"
     ]
    },
    {
     "name": "stdout",
     "output_type": "stream",
     "text": [
      "Fitting 10 folds for each of 24 candidates, totalling 240 fits\n"
     ]
    },
    {
     "name": "stderr",
     "output_type": "stream",
     "text": [
      "C:\\Users\\hazel\\anaconda3\\Lib\\site-packages\\sklearn\\model_selection\\_search.py:909: DataConversionWarning: A column-vector y was passed when a 1d array was expected. Please change the shape of y to (n_samples,), for example using ravel().\n",
      "  self.best_estimator_.fit(X, y, **fit_params)\n"
     ]
    },
    {
     "name": "stdout",
     "output_type": "stream",
     "text": [
      "Fitting 10 folds for each of 24 candidates, totalling 240 fits\n"
     ]
    },
    {
     "name": "stderr",
     "output_type": "stream",
     "text": [
      "C:\\Users\\hazel\\anaconda3\\Lib\\site-packages\\sklearn\\model_selection\\_search.py:909: DataConversionWarning: A column-vector y was passed when a 1d array was expected. Please change the shape of y to (n_samples,), for example using ravel().\n",
      "  self.best_estimator_.fit(X, y, **fit_params)\n"
     ]
    },
    {
     "name": "stdout",
     "output_type": "stream",
     "text": [
      "Fitting 10 folds for each of 24 candidates, totalling 240 fits\n"
     ]
    },
    {
     "name": "stderr",
     "output_type": "stream",
     "text": [
      "C:\\Users\\hazel\\anaconda3\\Lib\\site-packages\\sklearn\\model_selection\\_search.py:909: DataConversionWarning: A column-vector y was passed when a 1d array was expected. Please change the shape of y to (n_samples,), for example using ravel().\n",
      "  self.best_estimator_.fit(X, y, **fit_params)\n"
     ]
    },
    {
     "name": "stdout",
     "output_type": "stream",
     "text": [
      "Fitting 10 folds for each of 24 candidates, totalling 240 fits\n"
     ]
    },
    {
     "name": "stderr",
     "output_type": "stream",
     "text": [
      "C:\\Users\\hazel\\anaconda3\\Lib\\site-packages\\sklearn\\model_selection\\_search.py:909: DataConversionWarning: A column-vector y was passed when a 1d array was expected. Please change the shape of y to (n_samples,), for example using ravel().\n",
      "  self.best_estimator_.fit(X, y, **fit_params)\n"
     ]
    },
    {
     "data": {
      "text/html": [
       "<div>\n",
       "<style scoped>\n",
       "    .dataframe tbody tr th:only-of-type {\n",
       "        vertical-align: middle;\n",
       "    }\n",
       "\n",
       "    .dataframe tbody tr th {\n",
       "        vertical-align: top;\n",
       "    }\n",
       "\n",
       "    .dataframe thead th {\n",
       "        text-align: right;\n",
       "    }\n",
       "</style>\n",
       "<table border=\"1\" class=\"dataframe\">\n",
       "  <thead>\n",
       "    <tr style=\"text-align: right;\">\n",
       "      <th></th>\n",
       "      <th>Test Size</th>\n",
       "      <th>Random State</th>\n",
       "      <th>Accuracy</th>\n",
       "      <th>Precision</th>\n",
       "      <th>Recall</th>\n",
       "      <th>F1 Score</th>\n",
       "      <th>Best Param</th>\n",
       "    </tr>\n",
       "  </thead>\n",
       "  <tbody>\n",
       "    <tr>\n",
       "      <th>0</th>\n",
       "      <td>0.5</td>\n",
       "      <td>7</td>\n",
       "      <td>0.774465</td>\n",
       "      <td>0.769887</td>\n",
       "      <td>0.774465</td>\n",
       "      <td>0.771175</td>\n",
       "      <td>{'criterion': 'entropy', 'max_features': 'sqrt...</td>\n",
       "    </tr>\n",
       "    <tr>\n",
       "      <th>1</th>\n",
       "      <td>0.5</td>\n",
       "      <td>69</td>\n",
       "      <td>0.801037</td>\n",
       "      <td>0.796004</td>\n",
       "      <td>0.801037</td>\n",
       "      <td>0.798284</td>\n",
       "      <td>{'criterion': 'gini', 'max_features': 'auto', ...</td>\n",
       "    </tr>\n",
       "    <tr>\n",
       "      <th>2</th>\n",
       "      <td>0.5</td>\n",
       "      <td>101</td>\n",
       "      <td>0.763448</td>\n",
       "      <td>0.756055</td>\n",
       "      <td>0.763448</td>\n",
       "      <td>0.759259</td>\n",
       "      <td>{'criterion': 'gini', 'max_features': 'log2', ...</td>\n",
       "    </tr>\n",
       "    <tr>\n",
       "      <th>3</th>\n",
       "      <td>0.4</td>\n",
       "      <td>7</td>\n",
       "      <td>0.804700</td>\n",
       "      <td>0.797574</td>\n",
       "      <td>0.804700</td>\n",
       "      <td>0.800491</td>\n",
       "      <td>{'criterion': 'gini', 'max_features': 'log2', ...</td>\n",
       "    </tr>\n",
       "    <tr>\n",
       "      <th>4</th>\n",
       "      <td>0.4</td>\n",
       "      <td>69</td>\n",
       "      <td>0.833063</td>\n",
       "      <td>0.828666</td>\n",
       "      <td>0.833063</td>\n",
       "      <td>0.830014</td>\n",
       "      <td>{'criterion': 'entropy', 'max_features': 'sqrt...</td>\n",
       "    </tr>\n",
       "    <tr>\n",
       "      <th>5</th>\n",
       "      <td>0.4</td>\n",
       "      <td>101</td>\n",
       "      <td>0.783630</td>\n",
       "      <td>0.779049</td>\n",
       "      <td>0.783630</td>\n",
       "      <td>0.780674</td>\n",
       "      <td>{'criterion': 'entropy', 'max_features': 'log2...</td>\n",
       "    </tr>\n",
       "    <tr>\n",
       "      <th>6</th>\n",
       "      <td>0.3</td>\n",
       "      <td>7</td>\n",
       "      <td>0.838013</td>\n",
       "      <td>0.834188</td>\n",
       "      <td>0.838013</td>\n",
       "      <td>0.833738</td>\n",
       "      <td>{'criterion': 'entropy', 'max_features': 'sqrt...</td>\n",
       "    </tr>\n",
       "    <tr>\n",
       "      <th>7</th>\n",
       "      <td>0.3</td>\n",
       "      <td>69</td>\n",
       "      <td>0.845572</td>\n",
       "      <td>0.843960</td>\n",
       "      <td>0.845572</td>\n",
       "      <td>0.843822</td>\n",
       "      <td>{'criterion': 'entropy', 'max_features': 'log2...</td>\n",
       "    </tr>\n",
       "    <tr>\n",
       "      <th>8</th>\n",
       "      <td>0.3</td>\n",
       "      <td>101</td>\n",
       "      <td>0.821814</td>\n",
       "      <td>0.816603</td>\n",
       "      <td>0.821814</td>\n",
       "      <td>0.818628</td>\n",
       "      <td>{'criterion': 'gini', 'max_features': 'sqrt', ...</td>\n",
       "    </tr>\n",
       "    <tr>\n",
       "      <th>9</th>\n",
       "      <td>0.2</td>\n",
       "      <td>7</td>\n",
       "      <td>0.849271</td>\n",
       "      <td>0.844506</td>\n",
       "      <td>0.849271</td>\n",
       "      <td>0.845105</td>\n",
       "      <td>{'criterion': 'gini', 'max_features': 'sqrt', ...</td>\n",
       "    </tr>\n",
       "    <tr>\n",
       "      <th>10</th>\n",
       "      <td>0.2</td>\n",
       "      <td>69</td>\n",
       "      <td>0.849271</td>\n",
       "      <td>0.846007</td>\n",
       "      <td>0.849271</td>\n",
       "      <td>0.847106</td>\n",
       "      <td>{'criterion': 'gini', 'max_features': 'sqrt', ...</td>\n",
       "    </tr>\n",
       "    <tr>\n",
       "      <th>11</th>\n",
       "      <td>0.2</td>\n",
       "      <td>101</td>\n",
       "      <td>0.852512</td>\n",
       "      <td>0.853847</td>\n",
       "      <td>0.852512</td>\n",
       "      <td>0.851981</td>\n",
       "      <td>{'criterion': 'gini', 'max_features': 'sqrt', ...</td>\n",
       "    </tr>\n",
       "  </tbody>\n",
       "</table>\n",
       "</div>"
      ],
      "text/plain": [
       "    Test Size  Random State  Accuracy  Precision    Recall  F1 Score  \\\n",
       "0         0.5             7  0.774465   0.769887  0.774465  0.771175   \n",
       "1         0.5            69  0.801037   0.796004  0.801037  0.798284   \n",
       "2         0.5           101  0.763448   0.756055  0.763448  0.759259   \n",
       "3         0.4             7  0.804700   0.797574  0.804700  0.800491   \n",
       "4         0.4            69  0.833063   0.828666  0.833063  0.830014   \n",
       "5         0.4           101  0.783630   0.779049  0.783630  0.780674   \n",
       "6         0.3             7  0.838013   0.834188  0.838013  0.833738   \n",
       "7         0.3            69  0.845572   0.843960  0.845572  0.843822   \n",
       "8         0.3           101  0.821814   0.816603  0.821814  0.818628   \n",
       "9         0.2             7  0.849271   0.844506  0.849271  0.845105   \n",
       "10        0.2            69  0.849271   0.846007  0.849271  0.847106   \n",
       "11        0.2           101  0.852512   0.853847  0.852512  0.851981   \n",
       "\n",
       "                                           Best Param  \n",
       "0   {'criterion': 'entropy', 'max_features': 'sqrt...  \n",
       "1   {'criterion': 'gini', 'max_features': 'auto', ...  \n",
       "2   {'criterion': 'gini', 'max_features': 'log2', ...  \n",
       "3   {'criterion': 'gini', 'max_features': 'log2', ...  \n",
       "4   {'criterion': 'entropy', 'max_features': 'sqrt...  \n",
       "5   {'criterion': 'entropy', 'max_features': 'log2...  \n",
       "6   {'criterion': 'entropy', 'max_features': 'sqrt...  \n",
       "7   {'criterion': 'entropy', 'max_features': 'log2...  \n",
       "8   {'criterion': 'gini', 'max_features': 'sqrt', ...  \n",
       "9   {'criterion': 'gini', 'max_features': 'sqrt', ...  \n",
       "10  {'criterion': 'gini', 'max_features': 'sqrt', ...  \n",
       "11  {'criterion': 'gini', 'max_features': 'sqrt', ...  "
      ]
     },
     "execution_count": 97,
     "metadata": {},
     "output_type": "execute_result"
    }
   ],
   "source": [
    "temp5L_SL_ROS = []\n",
    "\n",
    "y = merge_5L_ROS[['CGPA']]\n",
    "X = merge_5L_ROS[['Relationship Status', 'Scholarship', 'PTPTN', 'Skipping Class', 'Additional Course',\n",
    "                    'Study Behavior', 'Study Time', 'Extra Curricular Activities', 'Part-time Job', 'Commute Time',\n",
    "                    'Gaming', 'Alcohol Consumption', 'I have enough free time after class', 'Social Interaction',\n",
    "                    'I hang out with friends']]\n",
    "\n",
    "print(\"X:\", X.shape,\"y:\", y.shape)\n",
    "\n",
    "for i in [0.5,0.4,0.3,0.2]:\n",
    "    for j in rand_states:\n",
    "        X_train, X_test, y_train, y_test = train_test_split(X, y, test_size=i, random_state=j)\n",
    "        param_grid = {'n_estimators': [100, 200, 300, 400],\n",
    "                      'max_features': ['auto', 'sqrt', 'log2'],\n",
    "                      'criterion' :['gini', 'entropy']}\n",
    "\n",
    "        model = GridSearchCV(RandomForestClassifier(), param_grid, refit=True, n_jobs=-1, cv=10, verbose=1)\n",
    "        model.fit(X_train, y_train)\n",
    "        pred = model.predict(X_test)\n",
    "\n",
    "        acc = accuracy_score(y_test,pred)\n",
    "        pre = precision_score(y_test, pred, average='weighted')\n",
    "        recall = recall_score(y_test, pred, average='weighted')\n",
    "        f1 = f1_score(y_test, pred, average='weighted')\n",
    "        param = model.best_params_\n",
    "    \n",
    "        temp5L_SL_ROS.append([i,j,acc,pre,recall,f1,param])\n",
    "        \n",
    "df5L_SL_ROS = pd.DataFrame(columns=['Test Size','Random State','Accuracy','Precision','Recall','F1 Score','Best Param'],data=temp5L_SL_ROS)\n",
    "df5L_SL_ROS"
   ]
  },
  {
   "cell_type": "code",
   "execution_count": 98,
   "id": "677d679b-63e2-4de6-ad92-01b7764e7040",
   "metadata": {},
   "outputs": [
    {
     "data": {
      "text/html": [
       "<div>\n",
       "<style scoped>\n",
       "    .dataframe tbody tr th:only-of-type {\n",
       "        vertical-align: middle;\n",
       "    }\n",
       "\n",
       "    .dataframe tbody tr th {\n",
       "        vertical-align: top;\n",
       "    }\n",
       "\n",
       "    .dataframe thead th {\n",
       "        text-align: right;\n",
       "    }\n",
       "</style>\n",
       "<table border=\"1\" class=\"dataframe\">\n",
       "  <thead>\n",
       "    <tr style=\"text-align: right;\">\n",
       "      <th></th>\n",
       "      <th>Accuracy</th>\n",
       "      <th>Precision</th>\n",
       "      <th>Recall</th>\n",
       "      <th>F1 Score</th>\n",
       "    </tr>\n",
       "    <tr>\n",
       "      <th>Test Size</th>\n",
       "      <th></th>\n",
       "      <th></th>\n",
       "      <th></th>\n",
       "      <th></th>\n",
       "    </tr>\n",
       "  </thead>\n",
       "  <tbody>\n",
       "    <tr>\n",
       "      <th>0.2</th>\n",
       "      <td>0.850351</td>\n",
       "      <td>0.848120</td>\n",
       "      <td>0.850351</td>\n",
       "      <td>0.848064</td>\n",
       "    </tr>\n",
       "    <tr>\n",
       "      <th>0.3</th>\n",
       "      <td>0.835133</td>\n",
       "      <td>0.831584</td>\n",
       "      <td>0.835133</td>\n",
       "      <td>0.832063</td>\n",
       "    </tr>\n",
       "    <tr>\n",
       "      <th>0.4</th>\n",
       "      <td>0.807131</td>\n",
       "      <td>0.801763</td>\n",
       "      <td>0.807131</td>\n",
       "      <td>0.803726</td>\n",
       "    </tr>\n",
       "    <tr>\n",
       "      <th>0.5</th>\n",
       "      <td>0.779650</td>\n",
       "      <td>0.773982</td>\n",
       "      <td>0.779650</td>\n",
       "      <td>0.776239</td>\n",
       "    </tr>\n",
       "  </tbody>\n",
       "</table>\n",
       "</div>"
      ],
      "text/plain": [
       "           Accuracy  Precision    Recall  F1 Score\n",
       "Test Size                                         \n",
       "0.2        0.850351   0.848120  0.850351  0.848064\n",
       "0.3        0.835133   0.831584  0.835133  0.832063\n",
       "0.4        0.807131   0.801763  0.807131  0.803726\n",
       "0.5        0.779650   0.773982  0.779650  0.776239"
      ]
     },
     "execution_count": 98,
     "metadata": {},
     "output_type": "execute_result"
    }
   ],
   "source": [
    "df5L_SL_ROS.groupby('Test Size')[['Accuracy','Precision','Recall','F1 Score']].mean()"
   ]
  },
  {
   "cell_type": "code",
   "execution_count": 99,
   "id": "ba526213-3880-460b-bb65-67054f9f51ce",
   "metadata": {},
   "outputs": [
    {
     "name": "stdout",
     "output_type": "stream",
     "text": [
      "5-Level: Student Lifestyle\n",
      "\n",
      "{'criterion': 'entropy', 'max_features': 'sqrt', 'n_estimators': 200}\n",
      "{'criterion': 'gini', 'max_features': 'auto', 'n_estimators': 200}\n",
      "{'criterion': 'gini', 'max_features': 'log2', 'n_estimators': 200}\n",
      "{'criterion': 'gini', 'max_features': 'log2', 'n_estimators': 400}\n",
      "{'criterion': 'entropy', 'max_features': 'sqrt', 'n_estimators': 100}\n",
      "{'criterion': 'entropy', 'max_features': 'log2', 'n_estimators': 200}\n",
      "{'criterion': 'entropy', 'max_features': 'sqrt', 'n_estimators': 100}\n",
      "{'criterion': 'entropy', 'max_features': 'log2', 'n_estimators': 100}\n",
      "{'criterion': 'gini', 'max_features': 'sqrt', 'n_estimators': 400}\n",
      "{'criterion': 'gini', 'max_features': 'sqrt', 'n_estimators': 300}\n",
      "{'criterion': 'gini', 'max_features': 'sqrt', 'n_estimators': 400}\n",
      "{'criterion': 'gini', 'max_features': 'sqrt', 'n_estimators': 300}\n"
     ]
    }
   ],
   "source": [
    "print(\"5-Level: Student Lifestyle\\n\")\n",
    "for x in df5L_SL_ROS[\"Best Param\"]:\n",
    "    print(x)"
   ]
  },
  {
   "cell_type": "markdown",
   "id": "0713f96c-b9e3-4dfe-988c-70917bfd331b",
   "metadata": {},
   "source": [
    "### SL after SMOTE"
   ]
  },
  {
   "cell_type": "code",
   "execution_count": 100,
   "id": "42d06130-7118-41d4-af03-ab914d05e4b4",
   "metadata": {},
   "outputs": [
    {
     "name": "stdout",
     "output_type": "stream",
     "text": [
      "X: (3085, 15) y: (3085, 1)\n",
      "Fitting 10 folds for each of 24 candidates, totalling 240 fits\n"
     ]
    },
    {
     "name": "stderr",
     "output_type": "stream",
     "text": [
      "C:\\Users\\hazel\\anaconda3\\Lib\\site-packages\\sklearn\\model_selection\\_search.py:909: DataConversionWarning: A column-vector y was passed when a 1d array was expected. Please change the shape of y to (n_samples,), for example using ravel().\n",
      "  self.best_estimator_.fit(X, y, **fit_params)\n"
     ]
    },
    {
     "name": "stdout",
     "output_type": "stream",
     "text": [
      "Fitting 10 folds for each of 24 candidates, totalling 240 fits\n"
     ]
    },
    {
     "name": "stderr",
     "output_type": "stream",
     "text": [
      "C:\\Users\\hazel\\anaconda3\\Lib\\site-packages\\sklearn\\model_selection\\_search.py:909: DataConversionWarning: A column-vector y was passed when a 1d array was expected. Please change the shape of y to (n_samples,), for example using ravel().\n",
      "  self.best_estimator_.fit(X, y, **fit_params)\n"
     ]
    },
    {
     "name": "stdout",
     "output_type": "stream",
     "text": [
      "Fitting 10 folds for each of 24 candidates, totalling 240 fits\n"
     ]
    },
    {
     "name": "stderr",
     "output_type": "stream",
     "text": [
      "C:\\Users\\hazel\\anaconda3\\Lib\\site-packages\\sklearn\\model_selection\\_search.py:909: DataConversionWarning: A column-vector y was passed when a 1d array was expected. Please change the shape of y to (n_samples,), for example using ravel().\n",
      "  self.best_estimator_.fit(X, y, **fit_params)\n",
      "C:\\Users\\hazel\\anaconda3\\Lib\\site-packages\\sklearn\\ensemble\\_forest.py:424: FutureWarning: `max_features='auto'` has been deprecated in 1.1 and will be removed in 1.3. To keep the past behaviour, explicitly set `max_features='sqrt'` or remove this parameter as it is also the default value for RandomForestClassifiers and ExtraTreesClassifiers.\n",
      "  warn(\n"
     ]
    },
    {
     "name": "stdout",
     "output_type": "stream",
     "text": [
      "Fitting 10 folds for each of 24 candidates, totalling 240 fits\n"
     ]
    },
    {
     "name": "stderr",
     "output_type": "stream",
     "text": [
      "C:\\Users\\hazel\\anaconda3\\Lib\\site-packages\\sklearn\\model_selection\\_search.py:909: DataConversionWarning: A column-vector y was passed when a 1d array was expected. Please change the shape of y to (n_samples,), for example using ravel().\n",
      "  self.best_estimator_.fit(X, y, **fit_params)\n",
      "C:\\Users\\hazel\\anaconda3\\Lib\\site-packages\\sklearn\\ensemble\\_forest.py:424: FutureWarning: `max_features='auto'` has been deprecated in 1.1 and will be removed in 1.3. To keep the past behaviour, explicitly set `max_features='sqrt'` or remove this parameter as it is also the default value for RandomForestClassifiers and ExtraTreesClassifiers.\n",
      "  warn(\n"
     ]
    },
    {
     "name": "stdout",
     "output_type": "stream",
     "text": [
      "Fitting 10 folds for each of 24 candidates, totalling 240 fits\n"
     ]
    },
    {
     "name": "stderr",
     "output_type": "stream",
     "text": [
      "C:\\Users\\hazel\\anaconda3\\Lib\\site-packages\\sklearn\\model_selection\\_search.py:909: DataConversionWarning: A column-vector y was passed when a 1d array was expected. Please change the shape of y to (n_samples,), for example using ravel().\n",
      "  self.best_estimator_.fit(X, y, **fit_params)\n"
     ]
    },
    {
     "name": "stdout",
     "output_type": "stream",
     "text": [
      "Fitting 10 folds for each of 24 candidates, totalling 240 fits\n"
     ]
    },
    {
     "name": "stderr",
     "output_type": "stream",
     "text": [
      "C:\\Users\\hazel\\anaconda3\\Lib\\site-packages\\sklearn\\model_selection\\_search.py:909: DataConversionWarning: A column-vector y was passed when a 1d array was expected. Please change the shape of y to (n_samples,), for example using ravel().\n",
      "  self.best_estimator_.fit(X, y, **fit_params)\n"
     ]
    },
    {
     "name": "stdout",
     "output_type": "stream",
     "text": [
      "Fitting 10 folds for each of 24 candidates, totalling 240 fits\n"
     ]
    },
    {
     "name": "stderr",
     "output_type": "stream",
     "text": [
      "C:\\Users\\hazel\\anaconda3\\Lib\\site-packages\\sklearn\\model_selection\\_search.py:909: DataConversionWarning: A column-vector y was passed when a 1d array was expected. Please change the shape of y to (n_samples,), for example using ravel().\n",
      "  self.best_estimator_.fit(X, y, **fit_params)\n",
      "C:\\Users\\hazel\\anaconda3\\Lib\\site-packages\\sklearn\\ensemble\\_forest.py:424: FutureWarning: `max_features='auto'` has been deprecated in 1.1 and will be removed in 1.3. To keep the past behaviour, explicitly set `max_features='sqrt'` or remove this parameter as it is also the default value for RandomForestClassifiers and ExtraTreesClassifiers.\n",
      "  warn(\n"
     ]
    },
    {
     "name": "stdout",
     "output_type": "stream",
     "text": [
      "Fitting 10 folds for each of 24 candidates, totalling 240 fits\n"
     ]
    },
    {
     "name": "stderr",
     "output_type": "stream",
     "text": [
      "C:\\Users\\hazel\\anaconda3\\Lib\\site-packages\\sklearn\\model_selection\\_search.py:909: DataConversionWarning: A column-vector y was passed when a 1d array was expected. Please change the shape of y to (n_samples,), for example using ravel().\n",
      "  self.best_estimator_.fit(X, y, **fit_params)\n"
     ]
    },
    {
     "name": "stdout",
     "output_type": "stream",
     "text": [
      "Fitting 10 folds for each of 24 candidates, totalling 240 fits\n"
     ]
    },
    {
     "name": "stderr",
     "output_type": "stream",
     "text": [
      "C:\\Users\\hazel\\anaconda3\\Lib\\site-packages\\sklearn\\model_selection\\_search.py:909: DataConversionWarning: A column-vector y was passed when a 1d array was expected. Please change the shape of y to (n_samples,), for example using ravel().\n",
      "  self.best_estimator_.fit(X, y, **fit_params)\n"
     ]
    },
    {
     "name": "stdout",
     "output_type": "stream",
     "text": [
      "Fitting 10 folds for each of 24 candidates, totalling 240 fits\n"
     ]
    },
    {
     "name": "stderr",
     "output_type": "stream",
     "text": [
      "C:\\Users\\hazel\\anaconda3\\Lib\\site-packages\\sklearn\\model_selection\\_search.py:909: DataConversionWarning: A column-vector y was passed when a 1d array was expected. Please change the shape of y to (n_samples,), for example using ravel().\n",
      "  self.best_estimator_.fit(X, y, **fit_params)\n"
     ]
    },
    {
     "name": "stdout",
     "output_type": "stream",
     "text": [
      "Fitting 10 folds for each of 24 candidates, totalling 240 fits\n"
     ]
    },
    {
     "name": "stderr",
     "output_type": "stream",
     "text": [
      "C:\\Users\\hazel\\anaconda3\\Lib\\site-packages\\sklearn\\model_selection\\_search.py:909: DataConversionWarning: A column-vector y was passed when a 1d array was expected. Please change the shape of y to (n_samples,), for example using ravel().\n",
      "  self.best_estimator_.fit(X, y, **fit_params)\n"
     ]
    },
    {
     "name": "stdout",
     "output_type": "stream",
     "text": [
      "Fitting 10 folds for each of 24 candidates, totalling 240 fits\n"
     ]
    },
    {
     "name": "stderr",
     "output_type": "stream",
     "text": [
      "C:\\Users\\hazel\\anaconda3\\Lib\\site-packages\\sklearn\\model_selection\\_search.py:909: DataConversionWarning: A column-vector y was passed when a 1d array was expected. Please change the shape of y to (n_samples,), for example using ravel().\n",
      "  self.best_estimator_.fit(X, y, **fit_params)\n",
      "C:\\Users\\hazel\\anaconda3\\Lib\\site-packages\\sklearn\\ensemble\\_forest.py:424: FutureWarning: `max_features='auto'` has been deprecated in 1.1 and will be removed in 1.3. To keep the past behaviour, explicitly set `max_features='sqrt'` or remove this parameter as it is also the default value for RandomForestClassifiers and ExtraTreesClassifiers.\n",
      "  warn(\n"
     ]
    },
    {
     "data": {
      "text/html": [
       "<div>\n",
       "<style scoped>\n",
       "    .dataframe tbody tr th:only-of-type {\n",
       "        vertical-align: middle;\n",
       "    }\n",
       "\n",
       "    .dataframe tbody tr th {\n",
       "        vertical-align: top;\n",
       "    }\n",
       "\n",
       "    .dataframe thead th {\n",
       "        text-align: right;\n",
       "    }\n",
       "</style>\n",
       "<table border=\"1\" class=\"dataframe\">\n",
       "  <thead>\n",
       "    <tr style=\"text-align: right;\">\n",
       "      <th></th>\n",
       "      <th>Test Size</th>\n",
       "      <th>Random State</th>\n",
       "      <th>Accuracy</th>\n",
       "      <th>Precision</th>\n",
       "      <th>Recall</th>\n",
       "      <th>F1 Score</th>\n",
       "      <th>Best Param</th>\n",
       "    </tr>\n",
       "  </thead>\n",
       "  <tbody>\n",
       "    <tr>\n",
       "      <th>0</th>\n",
       "      <td>0.5</td>\n",
       "      <td>7</td>\n",
       "      <td>0.641607</td>\n",
       "      <td>0.628062</td>\n",
       "      <td>0.641607</td>\n",
       "      <td>0.629137</td>\n",
       "      <td>{'criterion': 'gini', 'max_features': 'log2', ...</td>\n",
       "    </tr>\n",
       "    <tr>\n",
       "      <th>1</th>\n",
       "      <td>0.5</td>\n",
       "      <td>69</td>\n",
       "      <td>0.613739</td>\n",
       "      <td>0.602624</td>\n",
       "      <td>0.613739</td>\n",
       "      <td>0.606320</td>\n",
       "      <td>{'criterion': 'entropy', 'max_features': 'log2...</td>\n",
       "    </tr>\n",
       "    <tr>\n",
       "      <th>2</th>\n",
       "      <td>0.5</td>\n",
       "      <td>101</td>\n",
       "      <td>0.596889</td>\n",
       "      <td>0.581608</td>\n",
       "      <td>0.596889</td>\n",
       "      <td>0.587395</td>\n",
       "      <td>{'criterion': 'gini', 'max_features': 'auto', ...</td>\n",
       "    </tr>\n",
       "    <tr>\n",
       "      <th>3</th>\n",
       "      <td>0.4</td>\n",
       "      <td>7</td>\n",
       "      <td>0.642626</td>\n",
       "      <td>0.627031</td>\n",
       "      <td>0.642626</td>\n",
       "      <td>0.632252</td>\n",
       "      <td>{'criterion': 'gini', 'max_features': 'auto', ...</td>\n",
       "    </tr>\n",
       "    <tr>\n",
       "      <th>4</th>\n",
       "      <td>0.4</td>\n",
       "      <td>69</td>\n",
       "      <td>0.625608</td>\n",
       "      <td>0.615927</td>\n",
       "      <td>0.625608</td>\n",
       "      <td>0.615781</td>\n",
       "      <td>{'criterion': 'entropy', 'max_features': 'sqrt...</td>\n",
       "    </tr>\n",
       "    <tr>\n",
       "      <th>5</th>\n",
       "      <td>0.4</td>\n",
       "      <td>101</td>\n",
       "      <td>0.613452</td>\n",
       "      <td>0.601943</td>\n",
       "      <td>0.613452</td>\n",
       "      <td>0.606393</td>\n",
       "      <td>{'criterion': 'entropy', 'max_features': 'sqrt...</td>\n",
       "    </tr>\n",
       "    <tr>\n",
       "      <th>6</th>\n",
       "      <td>0.3</td>\n",
       "      <td>7</td>\n",
       "      <td>0.639309</td>\n",
       "      <td>0.623356</td>\n",
       "      <td>0.639309</td>\n",
       "      <td>0.628295</td>\n",
       "      <td>{'criterion': 'entropy', 'max_features': 'auto...</td>\n",
       "    </tr>\n",
       "    <tr>\n",
       "      <th>7</th>\n",
       "      <td>0.3</td>\n",
       "      <td>69</td>\n",
       "      <td>0.638229</td>\n",
       "      <td>0.630911</td>\n",
       "      <td>0.638229</td>\n",
       "      <td>0.631795</td>\n",
       "      <td>{'criterion': 'entropy', 'max_features': 'log2...</td>\n",
       "    </tr>\n",
       "    <tr>\n",
       "      <th>8</th>\n",
       "      <td>0.3</td>\n",
       "      <td>101</td>\n",
       "      <td>0.624190</td>\n",
       "      <td>0.611549</td>\n",
       "      <td>0.624190</td>\n",
       "      <td>0.615953</td>\n",
       "      <td>{'criterion': 'gini', 'max_features': 'log2', ...</td>\n",
       "    </tr>\n",
       "    <tr>\n",
       "      <th>9</th>\n",
       "      <td>0.2</td>\n",
       "      <td>7</td>\n",
       "      <td>0.656402</td>\n",
       "      <td>0.643762</td>\n",
       "      <td>0.656402</td>\n",
       "      <td>0.646090</td>\n",
       "      <td>{'criterion': 'gini', 'max_features': 'sqrt', ...</td>\n",
       "    </tr>\n",
       "    <tr>\n",
       "      <th>10</th>\n",
       "      <td>0.2</td>\n",
       "      <td>69</td>\n",
       "      <td>0.646677</td>\n",
       "      <td>0.640484</td>\n",
       "      <td>0.646677</td>\n",
       "      <td>0.642501</td>\n",
       "      <td>{'criterion': 'gini', 'max_features': 'sqrt', ...</td>\n",
       "    </tr>\n",
       "    <tr>\n",
       "      <th>11</th>\n",
       "      <td>0.2</td>\n",
       "      <td>101</td>\n",
       "      <td>0.625608</td>\n",
       "      <td>0.619898</td>\n",
       "      <td>0.625608</td>\n",
       "      <td>0.620403</td>\n",
       "      <td>{'criterion': 'gini', 'max_features': 'auto', ...</td>\n",
       "    </tr>\n",
       "  </tbody>\n",
       "</table>\n",
       "</div>"
      ],
      "text/plain": [
       "    Test Size  Random State  Accuracy  Precision    Recall  F1 Score  \\\n",
       "0         0.5             7  0.641607   0.628062  0.641607  0.629137   \n",
       "1         0.5            69  0.613739   0.602624  0.613739  0.606320   \n",
       "2         0.5           101  0.596889   0.581608  0.596889  0.587395   \n",
       "3         0.4             7  0.642626   0.627031  0.642626  0.632252   \n",
       "4         0.4            69  0.625608   0.615927  0.625608  0.615781   \n",
       "5         0.4           101  0.613452   0.601943  0.613452  0.606393   \n",
       "6         0.3             7  0.639309   0.623356  0.639309  0.628295   \n",
       "7         0.3            69  0.638229   0.630911  0.638229  0.631795   \n",
       "8         0.3           101  0.624190   0.611549  0.624190  0.615953   \n",
       "9         0.2             7  0.656402   0.643762  0.656402  0.646090   \n",
       "10        0.2            69  0.646677   0.640484  0.646677  0.642501   \n",
       "11        0.2           101  0.625608   0.619898  0.625608  0.620403   \n",
       "\n",
       "                                           Best Param  \n",
       "0   {'criterion': 'gini', 'max_features': 'log2', ...  \n",
       "1   {'criterion': 'entropy', 'max_features': 'log2...  \n",
       "2   {'criterion': 'gini', 'max_features': 'auto', ...  \n",
       "3   {'criterion': 'gini', 'max_features': 'auto', ...  \n",
       "4   {'criterion': 'entropy', 'max_features': 'sqrt...  \n",
       "5   {'criterion': 'entropy', 'max_features': 'sqrt...  \n",
       "6   {'criterion': 'entropy', 'max_features': 'auto...  \n",
       "7   {'criterion': 'entropy', 'max_features': 'log2...  \n",
       "8   {'criterion': 'gini', 'max_features': 'log2', ...  \n",
       "9   {'criterion': 'gini', 'max_features': 'sqrt', ...  \n",
       "10  {'criterion': 'gini', 'max_features': 'sqrt', ...  \n",
       "11  {'criterion': 'gini', 'max_features': 'auto', ...  "
      ]
     },
     "execution_count": 100,
     "metadata": {},
     "output_type": "execute_result"
    }
   ],
   "source": [
    "temp5L_SL_SMOTE = []\n",
    "\n",
    "y = merge_5L_SMOTE[['CGPA']]\n",
    "X = merge_5L_SMOTE[['Relationship Status', 'Scholarship', 'PTPTN', 'Skipping Class', 'Additional Course',\n",
    "                    'Study Behavior', 'Study Time', 'Extra Curricular Activities', 'Part-time Job', 'Commute Time',\n",
    "                    'Gaming', 'Alcohol Consumption', 'I have enough free time after class', 'Social Interaction',\n",
    "                    'I hang out with friends']]\n",
    "\n",
    "print(\"X:\", X.shape,\"y:\", y.shape)\n",
    "\n",
    "for i in [0.5,0.4,0.3,0.2]:\n",
    "    for j in rand_states:\n",
    "        X_train, X_test, y_train, y_test = train_test_split(X, y, test_size=i, random_state=j)\n",
    "        param_grid = {'n_estimators': [100, 200, 300, 400],\n",
    "                      'max_features': ['auto', 'sqrt', 'log2'],\n",
    "                      'criterion' :['gini', 'entropy']}\n",
    "\n",
    "        model = GridSearchCV(RandomForestClassifier(), param_grid, refit=True, n_jobs=-1, cv=10, verbose=1)\n",
    "        model.fit(X_train, y_train)\n",
    "        pred = model.predict(X_test)\n",
    "\n",
    "        acc = accuracy_score(y_test,pred)\n",
    "        pre = precision_score(y_test, pred, average='weighted')\n",
    "        recall = recall_score(y_test, pred, average='weighted')\n",
    "        f1 = f1_score(y_test, pred, average='weighted')\n",
    "        param = model.best_params_\n",
    "    \n",
    "        temp5L_SL_SMOTE.append([i,j,acc,pre,recall,f1,param])\n",
    "        \n",
    "df5L_SL_SMOTE = pd.DataFrame(columns=['Test Size','Random State','Accuracy','Precision','Recall','F1 Score','Best Param'],data=temp5L_SL_SMOTE)\n",
    "df5L_SL_SMOTE"
   ]
  },
  {
   "cell_type": "code",
   "execution_count": 101,
   "id": "e9fbe98c-389f-4242-a02f-8b327a46c6d7",
   "metadata": {},
   "outputs": [
    {
     "data": {
      "text/html": [
       "<div>\n",
       "<style scoped>\n",
       "    .dataframe tbody tr th:only-of-type {\n",
       "        vertical-align: middle;\n",
       "    }\n",
       "\n",
       "    .dataframe tbody tr th {\n",
       "        vertical-align: top;\n",
       "    }\n",
       "\n",
       "    .dataframe thead th {\n",
       "        text-align: right;\n",
       "    }\n",
       "</style>\n",
       "<table border=\"1\" class=\"dataframe\">\n",
       "  <thead>\n",
       "    <tr style=\"text-align: right;\">\n",
       "      <th></th>\n",
       "      <th>Accuracy</th>\n",
       "      <th>Precision</th>\n",
       "      <th>Recall</th>\n",
       "      <th>F1 Score</th>\n",
       "    </tr>\n",
       "    <tr>\n",
       "      <th>Test Size</th>\n",
       "      <th></th>\n",
       "      <th></th>\n",
       "      <th></th>\n",
       "      <th></th>\n",
       "    </tr>\n",
       "  </thead>\n",
       "  <tbody>\n",
       "    <tr>\n",
       "      <th>0.2</th>\n",
       "      <td>0.642896</td>\n",
       "      <td>0.634715</td>\n",
       "      <td>0.642896</td>\n",
       "      <td>0.636332</td>\n",
       "    </tr>\n",
       "    <tr>\n",
       "      <th>0.3</th>\n",
       "      <td>0.633909</td>\n",
       "      <td>0.621939</td>\n",
       "      <td>0.633909</td>\n",
       "      <td>0.625348</td>\n",
       "    </tr>\n",
       "    <tr>\n",
       "      <th>0.4</th>\n",
       "      <td>0.627229</td>\n",
       "      <td>0.614967</td>\n",
       "      <td>0.627229</td>\n",
       "      <td>0.618142</td>\n",
       "    </tr>\n",
       "    <tr>\n",
       "      <th>0.5</th>\n",
       "      <td>0.617412</td>\n",
       "      <td>0.604098</td>\n",
       "      <td>0.617412</td>\n",
       "      <td>0.607618</td>\n",
       "    </tr>\n",
       "  </tbody>\n",
       "</table>\n",
       "</div>"
      ],
      "text/plain": [
       "           Accuracy  Precision    Recall  F1 Score\n",
       "Test Size                                         \n",
       "0.2        0.642896   0.634715  0.642896  0.636332\n",
       "0.3        0.633909   0.621939  0.633909  0.625348\n",
       "0.4        0.627229   0.614967  0.627229  0.618142\n",
       "0.5        0.617412   0.604098  0.617412  0.607618"
      ]
     },
     "execution_count": 101,
     "metadata": {},
     "output_type": "execute_result"
    }
   ],
   "source": [
    "df5L_SL_SMOTE.groupby('Test Size')[['Accuracy','Precision','Recall','F1 Score']].mean()"
   ]
  },
  {
   "cell_type": "code",
   "execution_count": 102,
   "id": "92dbc8d1-a1b2-4416-96cd-6f0a49451f30",
   "metadata": {},
   "outputs": [
    {
     "name": "stdout",
     "output_type": "stream",
     "text": [
      "SMOTE 5-Level: Student Lifestyle\n",
      "\n",
      "{'criterion': 'gini', 'max_features': 'log2', 'n_estimators': 400}\n",
      "{'criterion': 'entropy', 'max_features': 'log2', 'n_estimators': 200}\n",
      "{'criterion': 'gini', 'max_features': 'auto', 'n_estimators': 300}\n",
      "{'criterion': 'gini', 'max_features': 'auto', 'n_estimators': 300}\n",
      "{'criterion': 'entropy', 'max_features': 'sqrt', 'n_estimators': 200}\n",
      "{'criterion': 'entropy', 'max_features': 'sqrt', 'n_estimators': 400}\n",
      "{'criterion': 'entropy', 'max_features': 'auto', 'n_estimators': 400}\n",
      "{'criterion': 'entropy', 'max_features': 'log2', 'n_estimators': 100}\n",
      "{'criterion': 'gini', 'max_features': 'log2', 'n_estimators': 400}\n",
      "{'criterion': 'gini', 'max_features': 'sqrt', 'n_estimators': 300}\n",
      "{'criterion': 'gini', 'max_features': 'sqrt', 'n_estimators': 400}\n",
      "{'criterion': 'gini', 'max_features': 'auto', 'n_estimators': 400}\n"
     ]
    }
   ],
   "source": [
    "print(\"SMOTE 5-Level: Student Lifestyle\\n\")\n",
    "for x in df5L_SL_SMOTE[\"Best Param\"]:\n",
    "    print(x)"
   ]
  },
  {
   "cell_type": "markdown",
   "id": "3626067c-8bf0-440a-9b35-c5daf10b9843",
   "metadata": {},
   "source": [
    "## All Attributes"
   ]
  },
  {
   "cell_type": "markdown",
   "id": "c53f8b17-ceeb-4695-a2a1-9e0d8116c19a",
   "metadata": {},
   "source": [
    "### AA before Data Balancing"
   ]
  },
  {
   "cell_type": "code",
   "execution_count": 103,
   "id": "542e340a-d3d3-4caf-8594-e30036af2201",
   "metadata": {},
   "outputs": [
    {
     "name": "stdout",
     "output_type": "stream",
     "text": [
      "X: (1287, 40) y: (1287, 1)\n",
      "Fitting 10 folds for each of 24 candidates, totalling 240 fits\n"
     ]
    },
    {
     "name": "stderr",
     "output_type": "stream",
     "text": [
      "C:\\Users\\hazel\\anaconda3\\Lib\\site-packages\\sklearn\\model_selection\\_split.py:700: UserWarning: The least populated class in y has only 8 members, which is less than n_splits=10.\n",
      "  warnings.warn(\n",
      "C:\\Users\\hazel\\anaconda3\\Lib\\site-packages\\sklearn\\model_selection\\_search.py:909: DataConversionWarning: A column-vector y was passed when a 1d array was expected. Please change the shape of y to (n_samples,), for example using ravel().\n",
      "  self.best_estimator_.fit(X, y, **fit_params)\n",
      "C:\\Users\\hazel\\anaconda3\\Lib\\site-packages\\sklearn\\ensemble\\_forest.py:424: FutureWarning: `max_features='auto'` has been deprecated in 1.1 and will be removed in 1.3. To keep the past behaviour, explicitly set `max_features='sqrt'` or remove this parameter as it is also the default value for RandomForestClassifiers and ExtraTreesClassifiers.\n",
      "  warn(\n",
      "C:\\Users\\hazel\\anaconda3\\Lib\\site-packages\\sklearn\\metrics\\_classification.py:1344: UndefinedMetricWarning: Precision is ill-defined and being set to 0.0 in labels with no predicted samples. Use `zero_division` parameter to control this behavior.\n",
      "  _warn_prf(average, modifier, msg_start, len(result))\n",
      "C:\\Users\\hazel\\anaconda3\\Lib\\site-packages\\sklearn\\model_selection\\_split.py:700: UserWarning: The least populated class in y has only 8 members, which is less than n_splits=10.\n",
      "  warnings.warn(\n"
     ]
    },
    {
     "name": "stdout",
     "output_type": "stream",
     "text": [
      "Fitting 10 folds for each of 24 candidates, totalling 240 fits\n"
     ]
    },
    {
     "name": "stderr",
     "output_type": "stream",
     "text": [
      "C:\\Users\\hazel\\anaconda3\\Lib\\site-packages\\sklearn\\model_selection\\_search.py:909: DataConversionWarning: A column-vector y was passed when a 1d array was expected. Please change the shape of y to (n_samples,), for example using ravel().\n",
      "  self.best_estimator_.fit(X, y, **fit_params)\n",
      "C:\\Users\\hazel\\anaconda3\\Lib\\site-packages\\sklearn\\metrics\\_classification.py:1344: UndefinedMetricWarning: Precision is ill-defined and being set to 0.0 in labels with no predicted samples. Use `zero_division` parameter to control this behavior.\n",
      "  _warn_prf(average, modifier, msg_start, len(result))\n",
      "C:\\Users\\hazel\\anaconda3\\Lib\\site-packages\\sklearn\\model_selection\\_split.py:700: UserWarning: The least populated class in y has only 8 members, which is less than n_splits=10.\n",
      "  warnings.warn(\n"
     ]
    },
    {
     "name": "stdout",
     "output_type": "stream",
     "text": [
      "Fitting 10 folds for each of 24 candidates, totalling 240 fits\n"
     ]
    },
    {
     "name": "stderr",
     "output_type": "stream",
     "text": [
      "C:\\Users\\hazel\\anaconda3\\Lib\\site-packages\\sklearn\\model_selection\\_search.py:909: DataConversionWarning: A column-vector y was passed when a 1d array was expected. Please change the shape of y to (n_samples,), for example using ravel().\n",
      "  self.best_estimator_.fit(X, y, **fit_params)\n",
      "C:\\Users\\hazel\\anaconda3\\Lib\\site-packages\\sklearn\\ensemble\\_forest.py:424: FutureWarning: `max_features='auto'` has been deprecated in 1.1 and will be removed in 1.3. To keep the past behaviour, explicitly set `max_features='sqrt'` or remove this parameter as it is also the default value for RandomForestClassifiers and ExtraTreesClassifiers.\n",
      "  warn(\n",
      "C:\\Users\\hazel\\anaconda3\\Lib\\site-packages\\sklearn\\metrics\\_classification.py:1344: UndefinedMetricWarning: Precision is ill-defined and being set to 0.0 in labels with no predicted samples. Use `zero_division` parameter to control this behavior.\n",
      "  _warn_prf(average, modifier, msg_start, len(result))\n"
     ]
    },
    {
     "name": "stdout",
     "output_type": "stream",
     "text": [
      "Fitting 10 folds for each of 24 candidates, totalling 240 fits\n"
     ]
    },
    {
     "name": "stderr",
     "output_type": "stream",
     "text": [
      "C:\\Users\\hazel\\anaconda3\\Lib\\site-packages\\sklearn\\model_selection\\_search.py:909: DataConversionWarning: A column-vector y was passed when a 1d array was expected. Please change the shape of y to (n_samples,), for example using ravel().\n",
      "  self.best_estimator_.fit(X, y, **fit_params)\n",
      "C:\\Users\\hazel\\anaconda3\\Lib\\site-packages\\sklearn\\ensemble\\_forest.py:424: FutureWarning: `max_features='auto'` has been deprecated in 1.1 and will be removed in 1.3. To keep the past behaviour, explicitly set `max_features='sqrt'` or remove this parameter as it is also the default value for RandomForestClassifiers and ExtraTreesClassifiers.\n",
      "  warn(\n",
      "C:\\Users\\hazel\\anaconda3\\Lib\\site-packages\\sklearn\\metrics\\_classification.py:1344: UndefinedMetricWarning: Precision is ill-defined and being set to 0.0 in labels with no predicted samples. Use `zero_division` parameter to control this behavior.\n",
      "  _warn_prf(average, modifier, msg_start, len(result))\n",
      "C:\\Users\\hazel\\anaconda3\\Lib\\site-packages\\sklearn\\model_selection\\_split.py:700: UserWarning: The least populated class in y has only 9 members, which is less than n_splits=10.\n",
      "  warnings.warn(\n"
     ]
    },
    {
     "name": "stdout",
     "output_type": "stream",
     "text": [
      "Fitting 10 folds for each of 24 candidates, totalling 240 fits\n"
     ]
    },
    {
     "name": "stderr",
     "output_type": "stream",
     "text": [
      "C:\\Users\\hazel\\anaconda3\\Lib\\site-packages\\sklearn\\model_selection\\_search.py:909: DataConversionWarning: A column-vector y was passed when a 1d array was expected. Please change the shape of y to (n_samples,), for example using ravel().\n",
      "  self.best_estimator_.fit(X, y, **fit_params)\n",
      "C:\\Users\\hazel\\anaconda3\\Lib\\site-packages\\sklearn\\ensemble\\_forest.py:424: FutureWarning: `max_features='auto'` has been deprecated in 1.1 and will be removed in 1.3. To keep the past behaviour, explicitly set `max_features='sqrt'` or remove this parameter as it is also the default value for RandomForestClassifiers and ExtraTreesClassifiers.\n",
      "  warn(\n",
      "C:\\Users\\hazel\\anaconda3\\Lib\\site-packages\\sklearn\\metrics\\_classification.py:1344: UndefinedMetricWarning: Precision is ill-defined and being set to 0.0 in labels with no predicted samples. Use `zero_division` parameter to control this behavior.\n",
      "  _warn_prf(average, modifier, msg_start, len(result))\n"
     ]
    },
    {
     "name": "stdout",
     "output_type": "stream",
     "text": [
      "Fitting 10 folds for each of 24 candidates, totalling 240 fits\n"
     ]
    },
    {
     "name": "stderr",
     "output_type": "stream",
     "text": [
      "C:\\Users\\hazel\\anaconda3\\Lib\\site-packages\\sklearn\\model_selection\\_search.py:909: DataConversionWarning: A column-vector y was passed when a 1d array was expected. Please change the shape of y to (n_samples,), for example using ravel().\n",
      "  self.best_estimator_.fit(X, y, **fit_params)\n",
      "C:\\Users\\hazel\\anaconda3\\Lib\\site-packages\\sklearn\\ensemble\\_forest.py:424: FutureWarning: `max_features='auto'` has been deprecated in 1.1 and will be removed in 1.3. To keep the past behaviour, explicitly set `max_features='sqrt'` or remove this parameter as it is also the default value for RandomForestClassifiers and ExtraTreesClassifiers.\n",
      "  warn(\n",
      "C:\\Users\\hazel\\anaconda3\\Lib\\site-packages\\sklearn\\metrics\\_classification.py:1344: UndefinedMetricWarning: Precision is ill-defined and being set to 0.0 in labels with no predicted samples. Use `zero_division` parameter to control this behavior.\n",
      "  _warn_prf(average, modifier, msg_start, len(result))\n"
     ]
    },
    {
     "name": "stdout",
     "output_type": "stream",
     "text": [
      "Fitting 10 folds for each of 24 candidates, totalling 240 fits\n"
     ]
    },
    {
     "name": "stderr",
     "output_type": "stream",
     "text": [
      "C:\\Users\\hazel\\anaconda3\\Lib\\site-packages\\sklearn\\model_selection\\_search.py:909: DataConversionWarning: A column-vector y was passed when a 1d array was expected. Please change the shape of y to (n_samples,), for example using ravel().\n",
      "  self.best_estimator_.fit(X, y, **fit_params)\n",
      "C:\\Users\\hazel\\anaconda3\\Lib\\site-packages\\sklearn\\metrics\\_classification.py:1344: UndefinedMetricWarning: Precision is ill-defined and being set to 0.0 in labels with no predicted samples. Use `zero_division` parameter to control this behavior.\n",
      "  _warn_prf(average, modifier, msg_start, len(result))\n"
     ]
    },
    {
     "name": "stdout",
     "output_type": "stream",
     "text": [
      "Fitting 10 folds for each of 24 candidates, totalling 240 fits\n"
     ]
    },
    {
     "name": "stderr",
     "output_type": "stream",
     "text": [
      "C:\\Users\\hazel\\anaconda3\\Lib\\site-packages\\sklearn\\model_selection\\_search.py:909: DataConversionWarning: A column-vector y was passed when a 1d array was expected. Please change the shape of y to (n_samples,), for example using ravel().\n",
      "  self.best_estimator_.fit(X, y, **fit_params)\n",
      "C:\\Users\\hazel\\anaconda3\\Lib\\site-packages\\sklearn\\ensemble\\_forest.py:424: FutureWarning: `max_features='auto'` has been deprecated in 1.1 and will be removed in 1.3. To keep the past behaviour, explicitly set `max_features='sqrt'` or remove this parameter as it is also the default value for RandomForestClassifiers and ExtraTreesClassifiers.\n",
      "  warn(\n",
      "C:\\Users\\hazel\\anaconda3\\Lib\\site-packages\\sklearn\\metrics\\_classification.py:1344: UndefinedMetricWarning: Precision is ill-defined and being set to 0.0 in labels with no predicted samples. Use `zero_division` parameter to control this behavior.\n",
      "  _warn_prf(average, modifier, msg_start, len(result))\n"
     ]
    },
    {
     "name": "stdout",
     "output_type": "stream",
     "text": [
      "Fitting 10 folds for each of 24 candidates, totalling 240 fits\n"
     ]
    },
    {
     "name": "stderr",
     "output_type": "stream",
     "text": [
      "C:\\Users\\hazel\\anaconda3\\Lib\\site-packages\\sklearn\\model_selection\\_search.py:909: DataConversionWarning: A column-vector y was passed when a 1d array was expected. Please change the shape of y to (n_samples,), for example using ravel().\n",
      "  self.best_estimator_.fit(X, y, **fit_params)\n",
      "C:\\Users\\hazel\\anaconda3\\Lib\\site-packages\\sklearn\\ensemble\\_forest.py:424: FutureWarning: `max_features='auto'` has been deprecated in 1.1 and will be removed in 1.3. To keep the past behaviour, explicitly set `max_features='sqrt'` or remove this parameter as it is also the default value for RandomForestClassifiers and ExtraTreesClassifiers.\n",
      "  warn(\n",
      "C:\\Users\\hazel\\anaconda3\\Lib\\site-packages\\sklearn\\metrics\\_classification.py:1344: UndefinedMetricWarning: Precision is ill-defined and being set to 0.0 in labels with no predicted samples. Use `zero_division` parameter to control this behavior.\n",
      "  _warn_prf(average, modifier, msg_start, len(result))\n"
     ]
    },
    {
     "name": "stdout",
     "output_type": "stream",
     "text": [
      "Fitting 10 folds for each of 24 candidates, totalling 240 fits\n"
     ]
    },
    {
     "name": "stderr",
     "output_type": "stream",
     "text": [
      "C:\\Users\\hazel\\anaconda3\\Lib\\site-packages\\sklearn\\model_selection\\_search.py:909: DataConversionWarning: A column-vector y was passed when a 1d array was expected. Please change the shape of y to (n_samples,), for example using ravel().\n",
      "  self.best_estimator_.fit(X, y, **fit_params)\n",
      "C:\\Users\\hazel\\anaconda3\\Lib\\site-packages\\sklearn\\metrics\\_classification.py:1344: UndefinedMetricWarning: Precision is ill-defined and being set to 0.0 in labels with no predicted samples. Use `zero_division` parameter to control this behavior.\n",
      "  _warn_prf(average, modifier, msg_start, len(result))\n"
     ]
    },
    {
     "name": "stdout",
     "output_type": "stream",
     "text": [
      "Fitting 10 folds for each of 24 candidates, totalling 240 fits\n"
     ]
    },
    {
     "name": "stderr",
     "output_type": "stream",
     "text": [
      "C:\\Users\\hazel\\anaconda3\\Lib\\site-packages\\sklearn\\model_selection\\_search.py:909: DataConversionWarning: A column-vector y was passed when a 1d array was expected. Please change the shape of y to (n_samples,), for example using ravel().\n",
      "  self.best_estimator_.fit(X, y, **fit_params)\n",
      "C:\\Users\\hazel\\anaconda3\\Lib\\site-packages\\sklearn\\metrics\\_classification.py:1344: UndefinedMetricWarning: Precision is ill-defined and being set to 0.0 in labels with no predicted samples. Use `zero_division` parameter to control this behavior.\n",
      "  _warn_prf(average, modifier, msg_start, len(result))\n"
     ]
    },
    {
     "name": "stdout",
     "output_type": "stream",
     "text": [
      "Fitting 10 folds for each of 24 candidates, totalling 240 fits\n"
     ]
    },
    {
     "name": "stderr",
     "output_type": "stream",
     "text": [
      "C:\\Users\\hazel\\anaconda3\\Lib\\site-packages\\sklearn\\model_selection\\_search.py:909: DataConversionWarning: A column-vector y was passed when a 1d array was expected. Please change the shape of y to (n_samples,), for example using ravel().\n",
      "  self.best_estimator_.fit(X, y, **fit_params)\n",
      "C:\\Users\\hazel\\anaconda3\\Lib\\site-packages\\sklearn\\metrics\\_classification.py:1344: UndefinedMetricWarning: Precision is ill-defined and being set to 0.0 in labels with no predicted samples. Use `zero_division` parameter to control this behavior.\n",
      "  _warn_prf(average, modifier, msg_start, len(result))\n"
     ]
    },
    {
     "data": {
      "text/html": [
       "<div>\n",
       "<style scoped>\n",
       "    .dataframe tbody tr th:only-of-type {\n",
       "        vertical-align: middle;\n",
       "    }\n",
       "\n",
       "    .dataframe tbody tr th {\n",
       "        vertical-align: top;\n",
       "    }\n",
       "\n",
       "    .dataframe thead th {\n",
       "        text-align: right;\n",
       "    }\n",
       "</style>\n",
       "<table border=\"1\" class=\"dataframe\">\n",
       "  <thead>\n",
       "    <tr style=\"text-align: right;\">\n",
       "      <th></th>\n",
       "      <th>Test Size</th>\n",
       "      <th>Random State</th>\n",
       "      <th>Accuracy</th>\n",
       "      <th>Precision</th>\n",
       "      <th>Recall</th>\n",
       "      <th>F1 Score</th>\n",
       "      <th>Best Param</th>\n",
       "    </tr>\n",
       "  </thead>\n",
       "  <tbody>\n",
       "    <tr>\n",
       "      <th>0</th>\n",
       "      <td>0.5</td>\n",
       "      <td>7</td>\n",
       "      <td>0.551242</td>\n",
       "      <td>0.492884</td>\n",
       "      <td>0.551242</td>\n",
       "      <td>0.482520</td>\n",
       "      <td>{'criterion': 'entropy', 'max_features': 'auto...</td>\n",
       "    </tr>\n",
       "    <tr>\n",
       "      <th>1</th>\n",
       "      <td>0.5</td>\n",
       "      <td>69</td>\n",
       "      <td>0.540373</td>\n",
       "      <td>0.468794</td>\n",
       "      <td>0.540373</td>\n",
       "      <td>0.482810</td>\n",
       "      <td>{'criterion': 'gini', 'max_features': 'log2', ...</td>\n",
       "    </tr>\n",
       "    <tr>\n",
       "      <th>2</th>\n",
       "      <td>0.5</td>\n",
       "      <td>101</td>\n",
       "      <td>0.569876</td>\n",
       "      <td>0.523624</td>\n",
       "      <td>0.569876</td>\n",
       "      <td>0.540586</td>\n",
       "      <td>{'criterion': 'gini', 'max_features': 'auto', ...</td>\n",
       "    </tr>\n",
       "    <tr>\n",
       "      <th>3</th>\n",
       "      <td>0.4</td>\n",
       "      <td>7</td>\n",
       "      <td>0.528155</td>\n",
       "      <td>0.456468</td>\n",
       "      <td>0.528155</td>\n",
       "      <td>0.450871</td>\n",
       "      <td>{'criterion': 'entropy', 'max_features': 'auto...</td>\n",
       "    </tr>\n",
       "    <tr>\n",
       "      <th>4</th>\n",
       "      <td>0.4</td>\n",
       "      <td>69</td>\n",
       "      <td>0.557282</td>\n",
       "      <td>0.496538</td>\n",
       "      <td>0.557282</td>\n",
       "      <td>0.517600</td>\n",
       "      <td>{'criterion': 'entropy', 'max_features': 'auto...</td>\n",
       "    </tr>\n",
       "    <tr>\n",
       "      <th>5</th>\n",
       "      <td>0.4</td>\n",
       "      <td>101</td>\n",
       "      <td>0.565049</td>\n",
       "      <td>0.543258</td>\n",
       "      <td>0.565049</td>\n",
       "      <td>0.534372</td>\n",
       "      <td>{'criterion': 'gini', 'max_features': 'auto', ...</td>\n",
       "    </tr>\n",
       "    <tr>\n",
       "      <th>6</th>\n",
       "      <td>0.3</td>\n",
       "      <td>7</td>\n",
       "      <td>0.527132</td>\n",
       "      <td>0.461718</td>\n",
       "      <td>0.527132</td>\n",
       "      <td>0.471435</td>\n",
       "      <td>{'criterion': 'gini', 'max_features': 'log2', ...</td>\n",
       "    </tr>\n",
       "    <tr>\n",
       "      <th>7</th>\n",
       "      <td>0.3</td>\n",
       "      <td>69</td>\n",
       "      <td>0.594315</td>\n",
       "      <td>0.532768</td>\n",
       "      <td>0.594315</td>\n",
       "      <td>0.549380</td>\n",
       "      <td>{'criterion': 'entropy', 'max_features': 'auto...</td>\n",
       "    </tr>\n",
       "    <tr>\n",
       "      <th>8</th>\n",
       "      <td>0.3</td>\n",
       "      <td>101</td>\n",
       "      <td>0.558140</td>\n",
       "      <td>0.505293</td>\n",
       "      <td>0.558140</td>\n",
       "      <td>0.514776</td>\n",
       "      <td>{'criterion': 'entropy', 'max_features': 'auto...</td>\n",
       "    </tr>\n",
       "    <tr>\n",
       "      <th>9</th>\n",
       "      <td>0.2</td>\n",
       "      <td>7</td>\n",
       "      <td>0.562016</td>\n",
       "      <td>0.511498</td>\n",
       "      <td>0.562016</td>\n",
       "      <td>0.521030</td>\n",
       "      <td>{'criterion': 'entropy', 'max_features': 'sqrt...</td>\n",
       "    </tr>\n",
       "    <tr>\n",
       "      <th>10</th>\n",
       "      <td>0.2</td>\n",
       "      <td>69</td>\n",
       "      <td>0.581395</td>\n",
       "      <td>0.524609</td>\n",
       "      <td>0.581395</td>\n",
       "      <td>0.541800</td>\n",
       "      <td>{'criterion': 'entropy', 'max_features': 'sqrt...</td>\n",
       "    </tr>\n",
       "    <tr>\n",
       "      <th>11</th>\n",
       "      <td>0.2</td>\n",
       "      <td>101</td>\n",
       "      <td>0.577519</td>\n",
       "      <td>0.532321</td>\n",
       "      <td>0.577519</td>\n",
       "      <td>0.545662</td>\n",
       "      <td>{'criterion': 'gini', 'max_features': 'sqrt', ...</td>\n",
       "    </tr>\n",
       "  </tbody>\n",
       "</table>\n",
       "</div>"
      ],
      "text/plain": [
       "    Test Size  Random State  Accuracy  Precision    Recall  F1 Score  \\\n",
       "0         0.5             7  0.551242   0.492884  0.551242  0.482520   \n",
       "1         0.5            69  0.540373   0.468794  0.540373  0.482810   \n",
       "2         0.5           101  0.569876   0.523624  0.569876  0.540586   \n",
       "3         0.4             7  0.528155   0.456468  0.528155  0.450871   \n",
       "4         0.4            69  0.557282   0.496538  0.557282  0.517600   \n",
       "5         0.4           101  0.565049   0.543258  0.565049  0.534372   \n",
       "6         0.3             7  0.527132   0.461718  0.527132  0.471435   \n",
       "7         0.3            69  0.594315   0.532768  0.594315  0.549380   \n",
       "8         0.3           101  0.558140   0.505293  0.558140  0.514776   \n",
       "9         0.2             7  0.562016   0.511498  0.562016  0.521030   \n",
       "10        0.2            69  0.581395   0.524609  0.581395  0.541800   \n",
       "11        0.2           101  0.577519   0.532321  0.577519  0.545662   \n",
       "\n",
       "                                           Best Param  \n",
       "0   {'criterion': 'entropy', 'max_features': 'auto...  \n",
       "1   {'criterion': 'gini', 'max_features': 'log2', ...  \n",
       "2   {'criterion': 'gini', 'max_features': 'auto', ...  \n",
       "3   {'criterion': 'entropy', 'max_features': 'auto...  \n",
       "4   {'criterion': 'entropy', 'max_features': 'auto...  \n",
       "5   {'criterion': 'gini', 'max_features': 'auto', ...  \n",
       "6   {'criterion': 'gini', 'max_features': 'log2', ...  \n",
       "7   {'criterion': 'entropy', 'max_features': 'auto...  \n",
       "8   {'criterion': 'entropy', 'max_features': 'auto...  \n",
       "9   {'criterion': 'entropy', 'max_features': 'sqrt...  \n",
       "10  {'criterion': 'entropy', 'max_features': 'sqrt...  \n",
       "11  {'criterion': 'gini', 'max_features': 'sqrt', ...  "
      ]
     },
     "execution_count": 103,
     "metadata": {},
     "output_type": "execute_result"
    }
   ],
   "source": [
    "temp5L_imb = []\n",
    "\n",
    "y = merge_5L_imb[['CGPA']]\n",
    "X = merge_5L_imb.drop(columns=[\"CGPA\"])\n",
    "\n",
    "print(\"X:\", X.shape,\"y:\", y.shape)\n",
    "\n",
    "for i in [0.5,0.4,0.3,0.2]:\n",
    "    for j in rand_states:\n",
    "        X_train, X_test, y_train, y_test = train_test_split(X, y, test_size=i, random_state=j)\n",
    "        param_grid = {'n_estimators': [100, 200, 300, 400],\n",
    "                      'max_features': ['auto', 'sqrt', 'log2'],\n",
    "                      'criterion' :['gini', 'entropy']}\n",
    "\n",
    "        model = GridSearchCV(RandomForestClassifier(), param_grid, refit=True, n_jobs=-1, cv=10, verbose=1)\n",
    "        model.fit(X_train, y_train)\n",
    "        pred = model.predict(X_test)\n",
    "\n",
    "        acc = accuracy_score(y_test,pred)\n",
    "        pre = precision_score(y_test, pred, average='weighted')\n",
    "        recall = recall_score(y_test, pred, average='weighted')\n",
    "        f1 = f1_score(y_test, pred, average='weighted')\n",
    "        param = model.best_params_\n",
    "    \n",
    "        temp5L_imb.append([i,j,acc,pre,recall,f1,param])\n",
    "        \n",
    "df5L_imb = pd.DataFrame(columns=['Test Size','Random State','Accuracy','Precision','Recall','F1 Score','Best Param'],data=temp5L_imb)\n",
    "df5L_imb"
   ]
  },
  {
   "cell_type": "code",
   "execution_count": 104,
   "id": "7190e742-ed29-4715-b259-6e9df9dd3f51",
   "metadata": {},
   "outputs": [
    {
     "data": {
      "text/html": [
       "<div>\n",
       "<style scoped>\n",
       "    .dataframe tbody tr th:only-of-type {\n",
       "        vertical-align: middle;\n",
       "    }\n",
       "\n",
       "    .dataframe tbody tr th {\n",
       "        vertical-align: top;\n",
       "    }\n",
       "\n",
       "    .dataframe thead th {\n",
       "        text-align: right;\n",
       "    }\n",
       "</style>\n",
       "<table border=\"1\" class=\"dataframe\">\n",
       "  <thead>\n",
       "    <tr style=\"text-align: right;\">\n",
       "      <th></th>\n",
       "      <th>Accuracy</th>\n",
       "      <th>Precision</th>\n",
       "      <th>Recall</th>\n",
       "      <th>F1 Score</th>\n",
       "    </tr>\n",
       "    <tr>\n",
       "      <th>Test Size</th>\n",
       "      <th></th>\n",
       "      <th></th>\n",
       "      <th></th>\n",
       "      <th></th>\n",
       "    </tr>\n",
       "  </thead>\n",
       "  <tbody>\n",
       "    <tr>\n",
       "      <th>0.2</th>\n",
       "      <td>0.573643</td>\n",
       "      <td>0.522810</td>\n",
       "      <td>0.573643</td>\n",
       "      <td>0.536164</td>\n",
       "    </tr>\n",
       "    <tr>\n",
       "      <th>0.3</th>\n",
       "      <td>0.559862</td>\n",
       "      <td>0.499926</td>\n",
       "      <td>0.559862</td>\n",
       "      <td>0.511864</td>\n",
       "    </tr>\n",
       "    <tr>\n",
       "      <th>0.4</th>\n",
       "      <td>0.550162</td>\n",
       "      <td>0.498755</td>\n",
       "      <td>0.550162</td>\n",
       "      <td>0.500948</td>\n",
       "    </tr>\n",
       "    <tr>\n",
       "      <th>0.5</th>\n",
       "      <td>0.553830</td>\n",
       "      <td>0.495101</td>\n",
       "      <td>0.553830</td>\n",
       "      <td>0.501972</td>\n",
       "    </tr>\n",
       "  </tbody>\n",
       "</table>\n",
       "</div>"
      ],
      "text/plain": [
       "           Accuracy  Precision    Recall  F1 Score\n",
       "Test Size                                         \n",
       "0.2        0.573643   0.522810  0.573643  0.536164\n",
       "0.3        0.559862   0.499926  0.559862  0.511864\n",
       "0.4        0.550162   0.498755  0.550162  0.500948\n",
       "0.5        0.553830   0.495101  0.553830  0.501972"
      ]
     },
     "execution_count": 104,
     "metadata": {},
     "output_type": "execute_result"
    }
   ],
   "source": [
    "df5L_imb.groupby('Test Size')[['Accuracy','Precision','Recall','F1 Score']].mean()"
   ]
  },
  {
   "cell_type": "code",
   "execution_count": 105,
   "id": "1b7e0d10-c3cd-4979-8aa2-c7dc8e935476",
   "metadata": {},
   "outputs": [
    {
     "name": "stdout",
     "output_type": "stream",
     "text": [
      "Imbalance All Attributes\n",
      "\n",
      "{'criterion': 'entropy', 'max_features': 'auto', 'n_estimators': 400}\n",
      "{'criterion': 'gini', 'max_features': 'log2', 'n_estimators': 400}\n",
      "{'criterion': 'gini', 'max_features': 'auto', 'n_estimators': 300}\n",
      "{'criterion': 'entropy', 'max_features': 'auto', 'n_estimators': 400}\n",
      "{'criterion': 'entropy', 'max_features': 'auto', 'n_estimators': 100}\n",
      "{'criterion': 'gini', 'max_features': 'auto', 'n_estimators': 200}\n",
      "{'criterion': 'gini', 'max_features': 'log2', 'n_estimators': 200}\n",
      "{'criterion': 'entropy', 'max_features': 'auto', 'n_estimators': 400}\n",
      "{'criterion': 'entropy', 'max_features': 'auto', 'n_estimators': 300}\n",
      "{'criterion': 'entropy', 'max_features': 'sqrt', 'n_estimators': 200}\n",
      "{'criterion': 'entropy', 'max_features': 'sqrt', 'n_estimators': 300}\n",
      "{'criterion': 'gini', 'max_features': 'sqrt', 'n_estimators': 300}\n"
     ]
    }
   ],
   "source": [
    "print(\"Imbalance All Attributes\\n\")\n",
    "for x in df5L_imb[\"Best Param\"]:\n",
    "    print(x)"
   ]
  },
  {
   "cell_type": "markdown",
   "id": "dc17ee39-bf7f-498f-b443-f17aea6853c9",
   "metadata": {},
   "source": [
    "### AA after RandomOverSampler"
   ]
  },
  {
   "cell_type": "code",
   "execution_count": 106,
   "id": "6b7f2a9b-cdfd-48b5-b614-19a7a3c0afd4",
   "metadata": {},
   "outputs": [
    {
     "name": "stdout",
     "output_type": "stream",
     "text": [
      "X: (3085, 40) y: (3085, 1)\n",
      "Fitting 10 folds for each of 24 candidates, totalling 240 fits\n"
     ]
    },
    {
     "name": "stderr",
     "output_type": "stream",
     "text": [
      "C:\\Users\\hazel\\anaconda3\\Lib\\site-packages\\sklearn\\model_selection\\_search.py:909: DataConversionWarning: A column-vector y was passed when a 1d array was expected. Please change the shape of y to (n_samples,), for example using ravel().\n",
      "  self.best_estimator_.fit(X, y, **fit_params)\n"
     ]
    },
    {
     "name": "stdout",
     "output_type": "stream",
     "text": [
      "Fitting 10 folds for each of 24 candidates, totalling 240 fits\n"
     ]
    },
    {
     "name": "stderr",
     "output_type": "stream",
     "text": [
      "C:\\Users\\hazel\\anaconda3\\Lib\\site-packages\\sklearn\\model_selection\\_search.py:909: DataConversionWarning: A column-vector y was passed when a 1d array was expected. Please change the shape of y to (n_samples,), for example using ravel().\n",
      "  self.best_estimator_.fit(X, y, **fit_params)\n"
     ]
    },
    {
     "name": "stdout",
     "output_type": "stream",
     "text": [
      "Fitting 10 folds for each of 24 candidates, totalling 240 fits\n"
     ]
    },
    {
     "name": "stderr",
     "output_type": "stream",
     "text": [
      "C:\\Users\\hazel\\anaconda3\\Lib\\site-packages\\sklearn\\model_selection\\_search.py:909: DataConversionWarning: A column-vector y was passed when a 1d array was expected. Please change the shape of y to (n_samples,), for example using ravel().\n",
      "  self.best_estimator_.fit(X, y, **fit_params)\n"
     ]
    },
    {
     "name": "stdout",
     "output_type": "stream",
     "text": [
      "Fitting 10 folds for each of 24 candidates, totalling 240 fits\n"
     ]
    },
    {
     "name": "stderr",
     "output_type": "stream",
     "text": [
      "C:\\Users\\hazel\\anaconda3\\Lib\\site-packages\\sklearn\\model_selection\\_search.py:909: DataConversionWarning: A column-vector y was passed when a 1d array was expected. Please change the shape of y to (n_samples,), for example using ravel().\n",
      "  self.best_estimator_.fit(X, y, **fit_params)\n"
     ]
    },
    {
     "name": "stdout",
     "output_type": "stream",
     "text": [
      "Fitting 10 folds for each of 24 candidates, totalling 240 fits\n"
     ]
    },
    {
     "name": "stderr",
     "output_type": "stream",
     "text": [
      "C:\\Users\\hazel\\anaconda3\\Lib\\site-packages\\sklearn\\model_selection\\_search.py:909: DataConversionWarning: A column-vector y was passed when a 1d array was expected. Please change the shape of y to (n_samples,), for example using ravel().\n",
      "  self.best_estimator_.fit(X, y, **fit_params)\n"
     ]
    },
    {
     "name": "stdout",
     "output_type": "stream",
     "text": [
      "Fitting 10 folds for each of 24 candidates, totalling 240 fits\n"
     ]
    },
    {
     "name": "stderr",
     "output_type": "stream",
     "text": [
      "C:\\Users\\hazel\\anaconda3\\Lib\\site-packages\\sklearn\\model_selection\\_search.py:909: DataConversionWarning: A column-vector y was passed when a 1d array was expected. Please change the shape of y to (n_samples,), for example using ravel().\n",
      "  self.best_estimator_.fit(X, y, **fit_params)\n"
     ]
    },
    {
     "name": "stdout",
     "output_type": "stream",
     "text": [
      "Fitting 10 folds for each of 24 candidates, totalling 240 fits\n"
     ]
    },
    {
     "name": "stderr",
     "output_type": "stream",
     "text": [
      "C:\\Users\\hazel\\anaconda3\\Lib\\site-packages\\sklearn\\model_selection\\_search.py:909: DataConversionWarning: A column-vector y was passed when a 1d array was expected. Please change the shape of y to (n_samples,), for example using ravel().\n",
      "  self.best_estimator_.fit(X, y, **fit_params)\n"
     ]
    },
    {
     "name": "stdout",
     "output_type": "stream",
     "text": [
      "Fitting 10 folds for each of 24 candidates, totalling 240 fits\n"
     ]
    },
    {
     "name": "stderr",
     "output_type": "stream",
     "text": [
      "C:\\Users\\hazel\\anaconda3\\Lib\\site-packages\\sklearn\\model_selection\\_search.py:909: DataConversionWarning: A column-vector y was passed when a 1d array was expected. Please change the shape of y to (n_samples,), for example using ravel().\n",
      "  self.best_estimator_.fit(X, y, **fit_params)\n",
      "C:\\Users\\hazel\\anaconda3\\Lib\\site-packages\\sklearn\\ensemble\\_forest.py:424: FutureWarning: `max_features='auto'` has been deprecated in 1.1 and will be removed in 1.3. To keep the past behaviour, explicitly set `max_features='sqrt'` or remove this parameter as it is also the default value for RandomForestClassifiers and ExtraTreesClassifiers.\n",
      "  warn(\n"
     ]
    },
    {
     "name": "stdout",
     "output_type": "stream",
     "text": [
      "Fitting 10 folds for each of 24 candidates, totalling 240 fits\n"
     ]
    },
    {
     "name": "stderr",
     "output_type": "stream",
     "text": [
      "C:\\Users\\hazel\\anaconda3\\Lib\\site-packages\\sklearn\\model_selection\\_search.py:909: DataConversionWarning: A column-vector y was passed when a 1d array was expected. Please change the shape of y to (n_samples,), for example using ravel().\n",
      "  self.best_estimator_.fit(X, y, **fit_params)\n",
      "C:\\Users\\hazel\\anaconda3\\Lib\\site-packages\\sklearn\\ensemble\\_forest.py:424: FutureWarning: `max_features='auto'` has been deprecated in 1.1 and will be removed in 1.3. To keep the past behaviour, explicitly set `max_features='sqrt'` or remove this parameter as it is also the default value for RandomForestClassifiers and ExtraTreesClassifiers.\n",
      "  warn(\n"
     ]
    },
    {
     "name": "stdout",
     "output_type": "stream",
     "text": [
      "Fitting 10 folds for each of 24 candidates, totalling 240 fits\n"
     ]
    },
    {
     "name": "stderr",
     "output_type": "stream",
     "text": [
      "C:\\Users\\hazel\\anaconda3\\Lib\\site-packages\\sklearn\\model_selection\\_search.py:909: DataConversionWarning: A column-vector y was passed when a 1d array was expected. Please change the shape of y to (n_samples,), for example using ravel().\n",
      "  self.best_estimator_.fit(X, y, **fit_params)\n"
     ]
    },
    {
     "name": "stdout",
     "output_type": "stream",
     "text": [
      "Fitting 10 folds for each of 24 candidates, totalling 240 fits\n"
     ]
    },
    {
     "name": "stderr",
     "output_type": "stream",
     "text": [
      "C:\\Users\\hazel\\anaconda3\\Lib\\site-packages\\sklearn\\model_selection\\_search.py:909: DataConversionWarning: A column-vector y was passed when a 1d array was expected. Please change the shape of y to (n_samples,), for example using ravel().\n",
      "  self.best_estimator_.fit(X, y, **fit_params)\n",
      "C:\\Users\\hazel\\anaconda3\\Lib\\site-packages\\sklearn\\ensemble\\_forest.py:424: FutureWarning: `max_features='auto'` has been deprecated in 1.1 and will be removed in 1.3. To keep the past behaviour, explicitly set `max_features='sqrt'` or remove this parameter as it is also the default value for RandomForestClassifiers and ExtraTreesClassifiers.\n",
      "  warn(\n"
     ]
    },
    {
     "name": "stdout",
     "output_type": "stream",
     "text": [
      "Fitting 10 folds for each of 24 candidates, totalling 240 fits\n"
     ]
    },
    {
     "name": "stderr",
     "output_type": "stream",
     "text": [
      "C:\\Users\\hazel\\anaconda3\\Lib\\site-packages\\sklearn\\model_selection\\_search.py:909: DataConversionWarning: A column-vector y was passed when a 1d array was expected. Please change the shape of y to (n_samples,), for example using ravel().\n",
      "  self.best_estimator_.fit(X, y, **fit_params)\n",
      "C:\\Users\\hazel\\anaconda3\\Lib\\site-packages\\sklearn\\ensemble\\_forest.py:424: FutureWarning: `max_features='auto'` has been deprecated in 1.1 and will be removed in 1.3. To keep the past behaviour, explicitly set `max_features='sqrt'` or remove this parameter as it is also the default value for RandomForestClassifiers and ExtraTreesClassifiers.\n",
      "  warn(\n"
     ]
    },
    {
     "data": {
      "text/html": [
       "<div>\n",
       "<style scoped>\n",
       "    .dataframe tbody tr th:only-of-type {\n",
       "        vertical-align: middle;\n",
       "    }\n",
       "\n",
       "    .dataframe tbody tr th {\n",
       "        vertical-align: top;\n",
       "    }\n",
       "\n",
       "    .dataframe thead th {\n",
       "        text-align: right;\n",
       "    }\n",
       "</style>\n",
       "<table border=\"1\" class=\"dataframe\">\n",
       "  <thead>\n",
       "    <tr style=\"text-align: right;\">\n",
       "      <th></th>\n",
       "      <th>Test Size</th>\n",
       "      <th>Random State</th>\n",
       "      <th>Accuracy</th>\n",
       "      <th>Precision</th>\n",
       "      <th>Recall</th>\n",
       "      <th>F1 Score</th>\n",
       "      <th>Best Param</th>\n",
       "    </tr>\n",
       "  </thead>\n",
       "  <tbody>\n",
       "    <tr>\n",
       "      <th>0</th>\n",
       "      <td>0.5</td>\n",
       "      <td>7</td>\n",
       "      <td>0.820480</td>\n",
       "      <td>0.820277</td>\n",
       "      <td>0.820480</td>\n",
       "      <td>0.817021</td>\n",
       "      <td>{'criterion': 'gini', 'max_features': 'sqrt', ...</td>\n",
       "    </tr>\n",
       "    <tr>\n",
       "      <th>1</th>\n",
       "      <td>0.5</td>\n",
       "      <td>69</td>\n",
       "      <td>0.843163</td>\n",
       "      <td>0.841098</td>\n",
       "      <td>0.843163</td>\n",
       "      <td>0.840963</td>\n",
       "      <td>{'criterion': 'gini', 'max_features': 'sqrt', ...</td>\n",
       "    </tr>\n",
       "    <tr>\n",
       "      <th>2</th>\n",
       "      <td>0.5</td>\n",
       "      <td>101</td>\n",
       "      <td>0.837330</td>\n",
       "      <td>0.837369</td>\n",
       "      <td>0.837330</td>\n",
       "      <td>0.837204</td>\n",
       "      <td>{'criterion': 'gini', 'max_features': 'log2', ...</td>\n",
       "    </tr>\n",
       "    <tr>\n",
       "      <th>3</th>\n",
       "      <td>0.4</td>\n",
       "      <td>7</td>\n",
       "      <td>0.857374</td>\n",
       "      <td>0.857311</td>\n",
       "      <td>0.857374</td>\n",
       "      <td>0.855890</td>\n",
       "      <td>{'criterion': 'entropy', 'max_features': 'sqrt...</td>\n",
       "    </tr>\n",
       "    <tr>\n",
       "      <th>4</th>\n",
       "      <td>0.4</td>\n",
       "      <td>69</td>\n",
       "      <td>0.856564</td>\n",
       "      <td>0.854314</td>\n",
       "      <td>0.856564</td>\n",
       "      <td>0.852727</td>\n",
       "      <td>{'criterion': 'gini', 'max_features': 'log2', ...</td>\n",
       "    </tr>\n",
       "    <tr>\n",
       "      <th>5</th>\n",
       "      <td>0.4</td>\n",
       "      <td>101</td>\n",
       "      <td>0.841167</td>\n",
       "      <td>0.842352</td>\n",
       "      <td>0.841167</td>\n",
       "      <td>0.841619</td>\n",
       "      <td>{'criterion': 'gini', 'max_features': 'sqrt', ...</td>\n",
       "    </tr>\n",
       "    <tr>\n",
       "      <th>6</th>\n",
       "      <td>0.3</td>\n",
       "      <td>7</td>\n",
       "      <td>0.873650</td>\n",
       "      <td>0.872575</td>\n",
       "      <td>0.873650</td>\n",
       "      <td>0.872247</td>\n",
       "      <td>{'criterion': 'entropy', 'max_features': 'log2...</td>\n",
       "    </tr>\n",
       "    <tr>\n",
       "      <th>7</th>\n",
       "      <td>0.3</td>\n",
       "      <td>69</td>\n",
       "      <td>0.861771</td>\n",
       "      <td>0.858837</td>\n",
       "      <td>0.861771</td>\n",
       "      <td>0.858274</td>\n",
       "      <td>{'criterion': 'entropy', 'max_features': 'auto...</td>\n",
       "    </tr>\n",
       "    <tr>\n",
       "      <th>8</th>\n",
       "      <td>0.3</td>\n",
       "      <td>101</td>\n",
       "      <td>0.880130</td>\n",
       "      <td>0.878361</td>\n",
       "      <td>0.880130</td>\n",
       "      <td>0.878739</td>\n",
       "      <td>{'criterion': 'entropy', 'max_features': 'auto...</td>\n",
       "    </tr>\n",
       "    <tr>\n",
       "      <th>9</th>\n",
       "      <td>0.2</td>\n",
       "      <td>7</td>\n",
       "      <td>0.896272</td>\n",
       "      <td>0.894885</td>\n",
       "      <td>0.896272</td>\n",
       "      <td>0.895360</td>\n",
       "      <td>{'criterion': 'entropy', 'max_features': 'log2...</td>\n",
       "    </tr>\n",
       "    <tr>\n",
       "      <th>10</th>\n",
       "      <td>0.2</td>\n",
       "      <td>69</td>\n",
       "      <td>0.884927</td>\n",
       "      <td>0.883191</td>\n",
       "      <td>0.884927</td>\n",
       "      <td>0.883530</td>\n",
       "      <td>{'criterion': 'entropy', 'max_features': 'auto...</td>\n",
       "    </tr>\n",
       "    <tr>\n",
       "      <th>11</th>\n",
       "      <td>0.2</td>\n",
       "      <td>101</td>\n",
       "      <td>0.899514</td>\n",
       "      <td>0.899502</td>\n",
       "      <td>0.899514</td>\n",
       "      <td>0.899415</td>\n",
       "      <td>{'criterion': 'entropy', 'max_features': 'auto...</td>\n",
       "    </tr>\n",
       "  </tbody>\n",
       "</table>\n",
       "</div>"
      ],
      "text/plain": [
       "    Test Size  Random State  Accuracy  Precision    Recall  F1 Score  \\\n",
       "0         0.5             7  0.820480   0.820277  0.820480  0.817021   \n",
       "1         0.5            69  0.843163   0.841098  0.843163  0.840963   \n",
       "2         0.5           101  0.837330   0.837369  0.837330  0.837204   \n",
       "3         0.4             7  0.857374   0.857311  0.857374  0.855890   \n",
       "4         0.4            69  0.856564   0.854314  0.856564  0.852727   \n",
       "5         0.4           101  0.841167   0.842352  0.841167  0.841619   \n",
       "6         0.3             7  0.873650   0.872575  0.873650  0.872247   \n",
       "7         0.3            69  0.861771   0.858837  0.861771  0.858274   \n",
       "8         0.3           101  0.880130   0.878361  0.880130  0.878739   \n",
       "9         0.2             7  0.896272   0.894885  0.896272  0.895360   \n",
       "10        0.2            69  0.884927   0.883191  0.884927  0.883530   \n",
       "11        0.2           101  0.899514   0.899502  0.899514  0.899415   \n",
       "\n",
       "                                           Best Param  \n",
       "0   {'criterion': 'gini', 'max_features': 'sqrt', ...  \n",
       "1   {'criterion': 'gini', 'max_features': 'sqrt', ...  \n",
       "2   {'criterion': 'gini', 'max_features': 'log2', ...  \n",
       "3   {'criterion': 'entropy', 'max_features': 'sqrt...  \n",
       "4   {'criterion': 'gini', 'max_features': 'log2', ...  \n",
       "5   {'criterion': 'gini', 'max_features': 'sqrt', ...  \n",
       "6   {'criterion': 'entropy', 'max_features': 'log2...  \n",
       "7   {'criterion': 'entropy', 'max_features': 'auto...  \n",
       "8   {'criterion': 'entropy', 'max_features': 'auto...  \n",
       "9   {'criterion': 'entropy', 'max_features': 'log2...  \n",
       "10  {'criterion': 'entropy', 'max_features': 'auto...  \n",
       "11  {'criterion': 'entropy', 'max_features': 'auto...  "
      ]
     },
     "execution_count": 106,
     "metadata": {},
     "output_type": "execute_result"
    }
   ],
   "source": [
    "temp5L_ROS = []\n",
    "\n",
    "y = merge_5L_ROS[['CGPA']]\n",
    "X = merge_5L_ROS.drop(columns=[\"CGPA\"])\n",
    "\n",
    "print(\"X:\", X.shape,\"y:\", y.shape)\n",
    "\n",
    "for i in [0.5,0.4,0.3,0.2]:\n",
    "    for j in rand_states:\n",
    "        X_train, X_test, y_train, y_test = train_test_split(X, y, test_size=i, random_state=j)\n",
    "        param_grid = {'n_estimators': [100, 200, 300, 400],\n",
    "                      'max_features': ['auto', 'sqrt', 'log2'],\n",
    "                      'criterion' :['gini', 'entropy']}\n",
    "\n",
    "        model = GridSearchCV(RandomForestClassifier(), param_grid, refit=True, n_jobs=-1, cv=10, verbose=1)\n",
    "        model.fit(X_train, y_train)\n",
    "        pred = model.predict(X_test)\n",
    "\n",
    "        acc = accuracy_score(y_test,pred)\n",
    "        pre = precision_score(y_test, pred, average='weighted')\n",
    "        recall = recall_score(y_test, pred, average='weighted')\n",
    "        f1 = f1_score(y_test, pred, average='weighted')\n",
    "        param = model.best_params_\n",
    "    \n",
    "        temp5L_ROS.append([i,j,acc,pre,recall,f1,param])\n",
    "        \n",
    "df5L_ROS = pd.DataFrame(columns=['Test Size','Random State','Accuracy','Precision','Recall','F1 Score','Best Param'],data=temp5L_ROS)\n",
    "df5L_ROS"
   ]
  },
  {
   "cell_type": "code",
   "execution_count": 107,
   "id": "201e6506-16d2-44b0-b778-31c25d47a1e7",
   "metadata": {},
   "outputs": [
    {
     "data": {
      "text/html": [
       "<div>\n",
       "<style scoped>\n",
       "    .dataframe tbody tr th:only-of-type {\n",
       "        vertical-align: middle;\n",
       "    }\n",
       "\n",
       "    .dataframe tbody tr th {\n",
       "        vertical-align: top;\n",
       "    }\n",
       "\n",
       "    .dataframe thead th {\n",
       "        text-align: right;\n",
       "    }\n",
       "</style>\n",
       "<table border=\"1\" class=\"dataframe\">\n",
       "  <thead>\n",
       "    <tr style=\"text-align: right;\">\n",
       "      <th></th>\n",
       "      <th>Accuracy</th>\n",
       "      <th>Precision</th>\n",
       "      <th>Recall</th>\n",
       "      <th>F1 Score</th>\n",
       "    </tr>\n",
       "    <tr>\n",
       "      <th>Test Size</th>\n",
       "      <th></th>\n",
       "      <th></th>\n",
       "      <th></th>\n",
       "      <th></th>\n",
       "    </tr>\n",
       "  </thead>\n",
       "  <tbody>\n",
       "    <tr>\n",
       "      <th>0.2</th>\n",
       "      <td>0.893571</td>\n",
       "      <td>0.892526</td>\n",
       "      <td>0.893571</td>\n",
       "      <td>0.892768</td>\n",
       "    </tr>\n",
       "    <tr>\n",
       "      <th>0.3</th>\n",
       "      <td>0.871850</td>\n",
       "      <td>0.869924</td>\n",
       "      <td>0.871850</td>\n",
       "      <td>0.869754</td>\n",
       "    </tr>\n",
       "    <tr>\n",
       "      <th>0.4</th>\n",
       "      <td>0.851702</td>\n",
       "      <td>0.851326</td>\n",
       "      <td>0.851702</td>\n",
       "      <td>0.850078</td>\n",
       "    </tr>\n",
       "    <tr>\n",
       "      <th>0.5</th>\n",
       "      <td>0.833657</td>\n",
       "      <td>0.832915</td>\n",
       "      <td>0.833657</td>\n",
       "      <td>0.831729</td>\n",
       "    </tr>\n",
       "  </tbody>\n",
       "</table>\n",
       "</div>"
      ],
      "text/plain": [
       "           Accuracy  Precision    Recall  F1 Score\n",
       "Test Size                                         \n",
       "0.2        0.893571   0.892526  0.893571  0.892768\n",
       "0.3        0.871850   0.869924  0.871850  0.869754\n",
       "0.4        0.851702   0.851326  0.851702  0.850078\n",
       "0.5        0.833657   0.832915  0.833657  0.831729"
      ]
     },
     "execution_count": 107,
     "metadata": {},
     "output_type": "execute_result"
    }
   ],
   "source": [
    "df5L_ROS.groupby('Test Size')[['Accuracy','Precision','Recall','F1 Score']].mean()"
   ]
  },
  {
   "cell_type": "code",
   "execution_count": 108,
   "id": "54f69126-fcc4-45b4-be19-57ac17f9adad",
   "metadata": {},
   "outputs": [
    {
     "name": "stdout",
     "output_type": "stream",
     "text": [
      "All Attributes\n",
      "\n",
      "{'criterion': 'gini', 'max_features': 'sqrt', 'n_estimators': 100}\n",
      "{'criterion': 'gini', 'max_features': 'sqrt', 'n_estimators': 200}\n",
      "{'criterion': 'gini', 'max_features': 'log2', 'n_estimators': 200}\n",
      "{'criterion': 'entropy', 'max_features': 'sqrt', 'n_estimators': 400}\n",
      "{'criterion': 'gini', 'max_features': 'log2', 'n_estimators': 100}\n",
      "{'criterion': 'gini', 'max_features': 'sqrt', 'n_estimators': 200}\n",
      "{'criterion': 'entropy', 'max_features': 'log2', 'n_estimators': 200}\n",
      "{'criterion': 'entropy', 'max_features': 'auto', 'n_estimators': 100}\n",
      "{'criterion': 'entropy', 'max_features': 'auto', 'n_estimators': 100}\n",
      "{'criterion': 'entropy', 'max_features': 'log2', 'n_estimators': 200}\n",
      "{'criterion': 'entropy', 'max_features': 'auto', 'n_estimators': 400}\n",
      "{'criterion': 'entropy', 'max_features': 'auto', 'n_estimators': 400}\n"
     ]
    }
   ],
   "source": [
    "print(\"All Attributes\\n\")\n",
    "for x in df5L_ROS[\"Best Param\"]:\n",
    "    print(x)"
   ]
  },
  {
   "cell_type": "markdown",
   "id": "7d57b636-3ead-486a-a09e-33ad527ae8e9",
   "metadata": {},
   "source": [
    "### AA after SMOTE"
   ]
  },
  {
   "cell_type": "code",
   "execution_count": 109,
   "id": "8180743b-1722-49f1-8a76-aabe61db18f5",
   "metadata": {},
   "outputs": [
    {
     "name": "stdout",
     "output_type": "stream",
     "text": [
      "X: (3085, 40) y: (3085, 1)\n",
      "Fitting 10 folds for each of 24 candidates, totalling 240 fits\n"
     ]
    },
    {
     "name": "stderr",
     "output_type": "stream",
     "text": [
      "C:\\Users\\hazel\\anaconda3\\Lib\\site-packages\\sklearn\\model_selection\\_search.py:909: DataConversionWarning: A column-vector y was passed when a 1d array was expected. Please change the shape of y to (n_samples,), for example using ravel().\n",
      "  self.best_estimator_.fit(X, y, **fit_params)\n"
     ]
    },
    {
     "name": "stdout",
     "output_type": "stream",
     "text": [
      "Fitting 10 folds for each of 24 candidates, totalling 240 fits\n"
     ]
    },
    {
     "name": "stderr",
     "output_type": "stream",
     "text": [
      "C:\\Users\\hazel\\anaconda3\\Lib\\site-packages\\sklearn\\model_selection\\_search.py:909: DataConversionWarning: A column-vector y was passed when a 1d array was expected. Please change the shape of y to (n_samples,), for example using ravel().\n",
      "  self.best_estimator_.fit(X, y, **fit_params)\n",
      "C:\\Users\\hazel\\anaconda3\\Lib\\site-packages\\sklearn\\ensemble\\_forest.py:424: FutureWarning: `max_features='auto'` has been deprecated in 1.1 and will be removed in 1.3. To keep the past behaviour, explicitly set `max_features='sqrt'` or remove this parameter as it is also the default value for RandomForestClassifiers and ExtraTreesClassifiers.\n",
      "  warn(\n"
     ]
    },
    {
     "name": "stdout",
     "output_type": "stream",
     "text": [
      "Fitting 10 folds for each of 24 candidates, totalling 240 fits\n"
     ]
    },
    {
     "name": "stderr",
     "output_type": "stream",
     "text": [
      "C:\\Users\\hazel\\anaconda3\\Lib\\site-packages\\sklearn\\model_selection\\_search.py:909: DataConversionWarning: A column-vector y was passed when a 1d array was expected. Please change the shape of y to (n_samples,), for example using ravel().\n",
      "  self.best_estimator_.fit(X, y, **fit_params)\n",
      "C:\\Users\\hazel\\anaconda3\\Lib\\site-packages\\sklearn\\ensemble\\_forest.py:424: FutureWarning: `max_features='auto'` has been deprecated in 1.1 and will be removed in 1.3. To keep the past behaviour, explicitly set `max_features='sqrt'` or remove this parameter as it is also the default value for RandomForestClassifiers and ExtraTreesClassifiers.\n",
      "  warn(\n"
     ]
    },
    {
     "name": "stdout",
     "output_type": "stream",
     "text": [
      "Fitting 10 folds for each of 24 candidates, totalling 240 fits\n"
     ]
    },
    {
     "name": "stderr",
     "output_type": "stream",
     "text": [
      "C:\\Users\\hazel\\anaconda3\\Lib\\site-packages\\sklearn\\model_selection\\_search.py:909: DataConversionWarning: A column-vector y was passed when a 1d array was expected. Please change the shape of y to (n_samples,), for example using ravel().\n",
      "  self.best_estimator_.fit(X, y, **fit_params)\n"
     ]
    },
    {
     "name": "stdout",
     "output_type": "stream",
     "text": [
      "Fitting 10 folds for each of 24 candidates, totalling 240 fits\n"
     ]
    },
    {
     "name": "stderr",
     "output_type": "stream",
     "text": [
      "C:\\Users\\hazel\\anaconda3\\Lib\\site-packages\\sklearn\\model_selection\\_search.py:909: DataConversionWarning: A column-vector y was passed when a 1d array was expected. Please change the shape of y to (n_samples,), for example using ravel().\n",
      "  self.best_estimator_.fit(X, y, **fit_params)\n"
     ]
    },
    {
     "name": "stdout",
     "output_type": "stream",
     "text": [
      "Fitting 10 folds for each of 24 candidates, totalling 240 fits\n"
     ]
    },
    {
     "name": "stderr",
     "output_type": "stream",
     "text": [
      "C:\\Users\\hazel\\anaconda3\\Lib\\site-packages\\sklearn\\model_selection\\_search.py:909: DataConversionWarning: A column-vector y was passed when a 1d array was expected. Please change the shape of y to (n_samples,), for example using ravel().\n",
      "  self.best_estimator_.fit(X, y, **fit_params)\n"
     ]
    },
    {
     "name": "stdout",
     "output_type": "stream",
     "text": [
      "Fitting 10 folds for each of 24 candidates, totalling 240 fits\n"
     ]
    },
    {
     "name": "stderr",
     "output_type": "stream",
     "text": [
      "C:\\Users\\hazel\\anaconda3\\Lib\\site-packages\\sklearn\\model_selection\\_search.py:909: DataConversionWarning: A column-vector y was passed when a 1d array was expected. Please change the shape of y to (n_samples,), for example using ravel().\n",
      "  self.best_estimator_.fit(X, y, **fit_params)\n"
     ]
    },
    {
     "name": "stdout",
     "output_type": "stream",
     "text": [
      "Fitting 10 folds for each of 24 candidates, totalling 240 fits\n"
     ]
    },
    {
     "name": "stderr",
     "output_type": "stream",
     "text": [
      "C:\\Users\\hazel\\anaconda3\\Lib\\site-packages\\sklearn\\model_selection\\_search.py:909: DataConversionWarning: A column-vector y was passed when a 1d array was expected. Please change the shape of y to (n_samples,), for example using ravel().\n",
      "  self.best_estimator_.fit(X, y, **fit_params)\n"
     ]
    },
    {
     "name": "stdout",
     "output_type": "stream",
     "text": [
      "Fitting 10 folds for each of 24 candidates, totalling 240 fits\n"
     ]
    },
    {
     "name": "stderr",
     "output_type": "stream",
     "text": [
      "C:\\Users\\hazel\\anaconda3\\Lib\\site-packages\\sklearn\\model_selection\\_search.py:909: DataConversionWarning: A column-vector y was passed when a 1d array was expected. Please change the shape of y to (n_samples,), for example using ravel().\n",
      "  self.best_estimator_.fit(X, y, **fit_params)\n"
     ]
    },
    {
     "name": "stdout",
     "output_type": "stream",
     "text": [
      "Fitting 10 folds for each of 24 candidates, totalling 240 fits\n"
     ]
    },
    {
     "name": "stderr",
     "output_type": "stream",
     "text": [
      "C:\\Users\\hazel\\anaconda3\\Lib\\site-packages\\sklearn\\model_selection\\_search.py:909: DataConversionWarning: A column-vector y was passed when a 1d array was expected. Please change the shape of y to (n_samples,), for example using ravel().\n",
      "  self.best_estimator_.fit(X, y, **fit_params)\n"
     ]
    },
    {
     "name": "stdout",
     "output_type": "stream",
     "text": [
      "Fitting 10 folds for each of 24 candidates, totalling 240 fits\n"
     ]
    },
    {
     "name": "stderr",
     "output_type": "stream",
     "text": [
      "C:\\Users\\hazel\\anaconda3\\Lib\\site-packages\\sklearn\\model_selection\\_search.py:909: DataConversionWarning: A column-vector y was passed when a 1d array was expected. Please change the shape of y to (n_samples,), for example using ravel().\n",
      "  self.best_estimator_.fit(X, y, **fit_params)\n",
      "C:\\Users\\hazel\\anaconda3\\Lib\\site-packages\\sklearn\\ensemble\\_forest.py:424: FutureWarning: `max_features='auto'` has been deprecated in 1.1 and will be removed in 1.3. To keep the past behaviour, explicitly set `max_features='sqrt'` or remove this parameter as it is also the default value for RandomForestClassifiers and ExtraTreesClassifiers.\n",
      "  warn(\n"
     ]
    },
    {
     "name": "stdout",
     "output_type": "stream",
     "text": [
      "Fitting 10 folds for each of 24 candidates, totalling 240 fits\n"
     ]
    },
    {
     "name": "stderr",
     "output_type": "stream",
     "text": [
      "C:\\Users\\hazel\\anaconda3\\Lib\\site-packages\\sklearn\\model_selection\\_search.py:909: DataConversionWarning: A column-vector y was passed when a 1d array was expected. Please change the shape of y to (n_samples,), for example using ravel().\n",
      "  self.best_estimator_.fit(X, y, **fit_params)\n",
      "C:\\Users\\hazel\\anaconda3\\Lib\\site-packages\\sklearn\\ensemble\\_forest.py:424: FutureWarning: `max_features='auto'` has been deprecated in 1.1 and will be removed in 1.3. To keep the past behaviour, explicitly set `max_features='sqrt'` or remove this parameter as it is also the default value for RandomForestClassifiers and ExtraTreesClassifiers.\n",
      "  warn(\n"
     ]
    },
    {
     "data": {
      "text/html": [
       "<div>\n",
       "<style scoped>\n",
       "    .dataframe tbody tr th:only-of-type {\n",
       "        vertical-align: middle;\n",
       "    }\n",
       "\n",
       "    .dataframe tbody tr th {\n",
       "        vertical-align: top;\n",
       "    }\n",
       "\n",
       "    .dataframe thead th {\n",
       "        text-align: right;\n",
       "    }\n",
       "</style>\n",
       "<table border=\"1\" class=\"dataframe\">\n",
       "  <thead>\n",
       "    <tr style=\"text-align: right;\">\n",
       "      <th></th>\n",
       "      <th>Test Size</th>\n",
       "      <th>Random State</th>\n",
       "      <th>Accuracy</th>\n",
       "      <th>Precision</th>\n",
       "      <th>Recall</th>\n",
       "      <th>F1 Score</th>\n",
       "      <th>Best Param</th>\n",
       "    </tr>\n",
       "  </thead>\n",
       "  <tbody>\n",
       "    <tr>\n",
       "      <th>0</th>\n",
       "      <td>0.5</td>\n",
       "      <td>7</td>\n",
       "      <td>0.799093</td>\n",
       "      <td>0.798362</td>\n",
       "      <td>0.799093</td>\n",
       "      <td>0.793045</td>\n",
       "      <td>{'criterion': 'gini', 'max_features': 'sqrt', ...</td>\n",
       "    </tr>\n",
       "    <tr>\n",
       "      <th>1</th>\n",
       "      <td>0.5</td>\n",
       "      <td>69</td>\n",
       "      <td>0.804277</td>\n",
       "      <td>0.805428</td>\n",
       "      <td>0.804277</td>\n",
       "      <td>0.802947</td>\n",
       "      <td>{'criterion': 'gini', 'max_features': 'auto', ...</td>\n",
       "    </tr>\n",
       "    <tr>\n",
       "      <th>2</th>\n",
       "      <td>0.5</td>\n",
       "      <td>101</td>\n",
       "      <td>0.806222</td>\n",
       "      <td>0.803506</td>\n",
       "      <td>0.806222</td>\n",
       "      <td>0.803783</td>\n",
       "      <td>{'criterion': 'entropy', 'max_features': 'auto...</td>\n",
       "    </tr>\n",
       "    <tr>\n",
       "      <th>3</th>\n",
       "      <td>0.4</td>\n",
       "      <td>7</td>\n",
       "      <td>0.810373</td>\n",
       "      <td>0.809469</td>\n",
       "      <td>0.810373</td>\n",
       "      <td>0.806685</td>\n",
       "      <td>{'criterion': 'entropy', 'max_features': 'sqrt...</td>\n",
       "    </tr>\n",
       "    <tr>\n",
       "      <th>4</th>\n",
       "      <td>0.4</td>\n",
       "      <td>69</td>\n",
       "      <td>0.811994</td>\n",
       "      <td>0.814262</td>\n",
       "      <td>0.811994</td>\n",
       "      <td>0.809619</td>\n",
       "      <td>{'criterion': 'gini', 'max_features': 'sqrt', ...</td>\n",
       "    </tr>\n",
       "    <tr>\n",
       "      <th>5</th>\n",
       "      <td>0.4</td>\n",
       "      <td>101</td>\n",
       "      <td>0.811994</td>\n",
       "      <td>0.809739</td>\n",
       "      <td>0.811994</td>\n",
       "      <td>0.809480</td>\n",
       "      <td>{'criterion': 'gini', 'max_features': 'sqrt', ...</td>\n",
       "    </tr>\n",
       "    <tr>\n",
       "      <th>6</th>\n",
       "      <td>0.3</td>\n",
       "      <td>7</td>\n",
       "      <td>0.814255</td>\n",
       "      <td>0.813631</td>\n",
       "      <td>0.814255</td>\n",
       "      <td>0.811905</td>\n",
       "      <td>{'criterion': 'entropy', 'max_features': 'sqrt...</td>\n",
       "    </tr>\n",
       "    <tr>\n",
       "      <th>7</th>\n",
       "      <td>0.3</td>\n",
       "      <td>69</td>\n",
       "      <td>0.836933</td>\n",
       "      <td>0.837563</td>\n",
       "      <td>0.836933</td>\n",
       "      <td>0.834668</td>\n",
       "      <td>{'criterion': 'gini', 'max_features': 'log2', ...</td>\n",
       "    </tr>\n",
       "    <tr>\n",
       "      <th>8</th>\n",
       "      <td>0.3</td>\n",
       "      <td>101</td>\n",
       "      <td>0.834773</td>\n",
       "      <td>0.833122</td>\n",
       "      <td>0.834773</td>\n",
       "      <td>0.832043</td>\n",
       "      <td>{'criterion': 'entropy', 'max_features': 'log2...</td>\n",
       "    </tr>\n",
       "    <tr>\n",
       "      <th>9</th>\n",
       "      <td>0.2</td>\n",
       "      <td>7</td>\n",
       "      <td>0.820097</td>\n",
       "      <td>0.821372</td>\n",
       "      <td>0.820097</td>\n",
       "      <td>0.817603</td>\n",
       "      <td>{'criterion': 'entropy', 'max_features': 'log2...</td>\n",
       "    </tr>\n",
       "    <tr>\n",
       "      <th>10</th>\n",
       "      <td>0.2</td>\n",
       "      <td>69</td>\n",
       "      <td>0.834684</td>\n",
       "      <td>0.832086</td>\n",
       "      <td>0.834684</td>\n",
       "      <td>0.832742</td>\n",
       "      <td>{'criterion': 'gini', 'max_features': 'auto', ...</td>\n",
       "    </tr>\n",
       "    <tr>\n",
       "      <th>11</th>\n",
       "      <td>0.2</td>\n",
       "      <td>101</td>\n",
       "      <td>0.850891</td>\n",
       "      <td>0.849912</td>\n",
       "      <td>0.850891</td>\n",
       "      <td>0.849452</td>\n",
       "      <td>{'criterion': 'gini', 'max_features': 'auto', ...</td>\n",
       "    </tr>\n",
       "  </tbody>\n",
       "</table>\n",
       "</div>"
      ],
      "text/plain": [
       "    Test Size  Random State  Accuracy  Precision    Recall  F1 Score  \\\n",
       "0         0.5             7  0.799093   0.798362  0.799093  0.793045   \n",
       "1         0.5            69  0.804277   0.805428  0.804277  0.802947   \n",
       "2         0.5           101  0.806222   0.803506  0.806222  0.803783   \n",
       "3         0.4             7  0.810373   0.809469  0.810373  0.806685   \n",
       "4         0.4            69  0.811994   0.814262  0.811994  0.809619   \n",
       "5         0.4           101  0.811994   0.809739  0.811994  0.809480   \n",
       "6         0.3             7  0.814255   0.813631  0.814255  0.811905   \n",
       "7         0.3            69  0.836933   0.837563  0.836933  0.834668   \n",
       "8         0.3           101  0.834773   0.833122  0.834773  0.832043   \n",
       "9         0.2             7  0.820097   0.821372  0.820097  0.817603   \n",
       "10        0.2            69  0.834684   0.832086  0.834684  0.832742   \n",
       "11        0.2           101  0.850891   0.849912  0.850891  0.849452   \n",
       "\n",
       "                                           Best Param  \n",
       "0   {'criterion': 'gini', 'max_features': 'sqrt', ...  \n",
       "1   {'criterion': 'gini', 'max_features': 'auto', ...  \n",
       "2   {'criterion': 'entropy', 'max_features': 'auto...  \n",
       "3   {'criterion': 'entropy', 'max_features': 'sqrt...  \n",
       "4   {'criterion': 'gini', 'max_features': 'sqrt', ...  \n",
       "5   {'criterion': 'gini', 'max_features': 'sqrt', ...  \n",
       "6   {'criterion': 'entropy', 'max_features': 'sqrt...  \n",
       "7   {'criterion': 'gini', 'max_features': 'log2', ...  \n",
       "8   {'criterion': 'entropy', 'max_features': 'log2...  \n",
       "9   {'criterion': 'entropy', 'max_features': 'log2...  \n",
       "10  {'criterion': 'gini', 'max_features': 'auto', ...  \n",
       "11  {'criterion': 'gini', 'max_features': 'auto', ...  "
      ]
     },
     "execution_count": 109,
     "metadata": {},
     "output_type": "execute_result"
    }
   ],
   "source": [
    "temp5L_SMOTE = []\n",
    "\n",
    "y = merge_5L_SMOTE[['CGPA']]\n",
    "X = merge_5L_SMOTE.drop(columns=[\"CGPA\"])\n",
    "\n",
    "print(\"X:\", X.shape,\"y:\", y.shape)\n",
    "\n",
    "for i in [0.5,0.4,0.3,0.2]:\n",
    "    for j in rand_states:\n",
    "        X_train, X_test, y_train, y_test = train_test_split(X, y, test_size=i, random_state=j)\n",
    "        param_grid = {'n_estimators': [100, 200, 300, 400],\n",
    "                      'max_features': ['auto', 'sqrt', 'log2'],\n",
    "                      'criterion' :['gini', 'entropy']}\n",
    "\n",
    "        model = GridSearchCV(RandomForestClassifier(), param_grid, refit=True, n_jobs=-1, cv=10, verbose=1)\n",
    "        model.fit(X_train, y_train)\n",
    "        pred = model.predict(X_test)\n",
    "\n",
    "        acc = accuracy_score(y_test,pred)\n",
    "        pre = precision_score(y_test, pred, average='weighted')\n",
    "        recall = recall_score(y_test, pred, average='weighted')\n",
    "        f1 = f1_score(y_test, pred, average='weighted')\n",
    "        param = model.best_params_\n",
    "    \n",
    "        temp5L_SMOTE.append([i,j,acc,pre,recall,f1,param])\n",
    "        \n",
    "df5L_SMOTE = pd.DataFrame(columns=['Test Size','Random State','Accuracy','Precision','Recall','F1 Score','Best Param'],data=temp5L_SMOTE)\n",
    "df5L_SMOTE"
   ]
  },
  {
   "cell_type": "code",
   "execution_count": 110,
   "id": "cee69bdb-42d7-42e2-9a28-8074aa191330",
   "metadata": {},
   "outputs": [
    {
     "data": {
      "text/html": [
       "<div>\n",
       "<style scoped>\n",
       "    .dataframe tbody tr th:only-of-type {\n",
       "        vertical-align: middle;\n",
       "    }\n",
       "\n",
       "    .dataframe tbody tr th {\n",
       "        vertical-align: top;\n",
       "    }\n",
       "\n",
       "    .dataframe thead th {\n",
       "        text-align: right;\n",
       "    }\n",
       "</style>\n",
       "<table border=\"1\" class=\"dataframe\">\n",
       "  <thead>\n",
       "    <tr style=\"text-align: right;\">\n",
       "      <th></th>\n",
       "      <th>Accuracy</th>\n",
       "      <th>Precision</th>\n",
       "      <th>Recall</th>\n",
       "      <th>F1 Score</th>\n",
       "    </tr>\n",
       "    <tr>\n",
       "      <th>Test Size</th>\n",
       "      <th></th>\n",
       "      <th></th>\n",
       "      <th></th>\n",
       "      <th></th>\n",
       "    </tr>\n",
       "  </thead>\n",
       "  <tbody>\n",
       "    <tr>\n",
       "      <th>0.2</th>\n",
       "      <td>0.835224</td>\n",
       "      <td>0.834457</td>\n",
       "      <td>0.835224</td>\n",
       "      <td>0.833265</td>\n",
       "    </tr>\n",
       "    <tr>\n",
       "      <th>0.3</th>\n",
       "      <td>0.828654</td>\n",
       "      <td>0.828105</td>\n",
       "      <td>0.828654</td>\n",
       "      <td>0.826205</td>\n",
       "    </tr>\n",
       "    <tr>\n",
       "      <th>0.4</th>\n",
       "      <td>0.811453</td>\n",
       "      <td>0.811157</td>\n",
       "      <td>0.811453</td>\n",
       "      <td>0.808595</td>\n",
       "    </tr>\n",
       "    <tr>\n",
       "      <th>0.5</th>\n",
       "      <td>0.803197</td>\n",
       "      <td>0.802432</td>\n",
       "      <td>0.803197</td>\n",
       "      <td>0.799925</td>\n",
       "    </tr>\n",
       "  </tbody>\n",
       "</table>\n",
       "</div>"
      ],
      "text/plain": [
       "           Accuracy  Precision    Recall  F1 Score\n",
       "Test Size                                         \n",
       "0.2        0.835224   0.834457  0.835224  0.833265\n",
       "0.3        0.828654   0.828105  0.828654  0.826205\n",
       "0.4        0.811453   0.811157  0.811453  0.808595\n",
       "0.5        0.803197   0.802432  0.803197  0.799925"
      ]
     },
     "execution_count": 110,
     "metadata": {},
     "output_type": "execute_result"
    }
   ],
   "source": [
    "df5L_SMOTE.groupby('Test Size')[['Accuracy','Precision','Recall','F1 Score']].mean()"
   ]
  },
  {
   "cell_type": "code",
   "execution_count": 111,
   "id": "1139fed0-1c2d-4b45-8d41-0e0a48257fce",
   "metadata": {},
   "outputs": [
    {
     "name": "stdout",
     "output_type": "stream",
     "text": [
      "SMOTE All Attributes\n",
      "\n",
      "{'criterion': 'gini', 'max_features': 'sqrt', 'n_estimators': 400}\n",
      "{'criterion': 'gini', 'max_features': 'auto', 'n_estimators': 400}\n",
      "{'criterion': 'entropy', 'max_features': 'auto', 'n_estimators': 400}\n",
      "{'criterion': 'entropy', 'max_features': 'sqrt', 'n_estimators': 300}\n",
      "{'criterion': 'gini', 'max_features': 'sqrt', 'n_estimators': 400}\n",
      "{'criterion': 'gini', 'max_features': 'sqrt', 'n_estimators': 200}\n",
      "{'criterion': 'entropy', 'max_features': 'sqrt', 'n_estimators': 400}\n",
      "{'criterion': 'gini', 'max_features': 'log2', 'n_estimators': 300}\n",
      "{'criterion': 'entropy', 'max_features': 'log2', 'n_estimators': 300}\n",
      "{'criterion': 'entropy', 'max_features': 'log2', 'n_estimators': 400}\n",
      "{'criterion': 'gini', 'max_features': 'auto', 'n_estimators': 200}\n",
      "{'criterion': 'gini', 'max_features': 'auto', 'n_estimators': 300}\n"
     ]
    }
   ],
   "source": [
    "print(\"SMOTE All Attributes\\n\")\n",
    "for x in df5L_SMOTE[\"Best Param\"]:\n",
    "    print(x)"
   ]
  }
 ],
 "metadata": {
  "kernelspec": {
   "display_name": "Python 3 (ipykernel)",
   "language": "python",
   "name": "python3"
  },
  "language_info": {
   "codemirror_mode": {
    "name": "ipython",
    "version": 3
   },
   "file_extension": ".py",
   "mimetype": "text/x-python",
   "name": "python",
   "nbconvert_exporter": "python",
   "pygments_lexer": "ipython3",
   "version": "3.11.7"
  }
 },
 "nbformat": 4,
 "nbformat_minor": 5
}
