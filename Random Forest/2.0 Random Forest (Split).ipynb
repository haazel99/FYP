{
 "cells": [
  {
   "cell_type": "markdown",
   "id": "d547a6fb-5603-4120-a498-bf5ad459321b",
   "metadata": {},
   "source": [
    "# 2.0 Random Forest (Split)"
   ]
  },
  {
   "cell_type": "markdown",
   "id": "2e7755a3-1a7f-46f8-8498-35f008b4ff90",
   "metadata": {},
   "source": [
    "### Import Libraries"
   ]
  },
  {
   "cell_type": "code",
   "execution_count": 1,
   "id": "8f35be97-598a-4dd0-a43c-309e9a8600cc",
   "metadata": {},
   "outputs": [],
   "source": [
    "import pandas as pd\n",
    "import numpy as np\n",
    "import matplotlib.pyplot as plt\n",
    "\n",
    "from sklearn.model_selection import GridSearchCV\n",
    "from sklearn.model_selection import train_test_split\n",
    "from sklearn.ensemble import RandomForestClassifier\n",
    "\n",
    "from sklearn.metrics import accuracy_score, precision_score, recall_score, f1_score\n",
    "from sklearn.metrics import classification_report, confusion_matrix"
   ]
  },
  {
   "cell_type": "markdown",
   "id": "2c29ac23-d177-43f1-88ba-63eacbcdec47",
   "metadata": {},
   "source": [
    "# Dataset used"
   ]
  },
  {
   "cell_type": "code",
   "execution_count": 2,
   "id": "96f1037c-1f76-4c6e-893c-8657f9789eee",
   "metadata": {},
   "outputs": [
    {
     "name": "stdout",
     "output_type": "stream",
     "text": [
      "df1_B_imb: (673, 41)\n",
      "df1_5L_imb: (673, 41)\n",
      "df1_B_ROS: (1338, 41)\n",
      "df1_5L_ROS: (1695, 41)\n",
      "df1_B_SMOTE: (1338, 41)\n",
      "df1_5L_SMOTE: (1695, 41)\n",
      "df2_B_imb: (614, 41)\n",
      "df2_5L_imb: (614, 41)\n",
      "df2_B_ROS: (1202, 41)\n",
      "df2_5L_ROS: (1390, 41)\n",
      "df2_B_SMOTE: (1202, 41)\n",
      "df2_5L_SMOTE: (1390, 41)\n"
     ]
    }
   ],
   "source": [
    "### Dataset from FYP1\n",
    "df1_B_imb = pd.read_csv('CSurvey1_Trans_Binary_imb.csv')\n",
    "df1_5L_imb = pd.read_csv('CSurvey1_Trans_5level_imb.csv')\n",
    "\n",
    "df1_B_ROS = pd.read_csv('CSurvey1_Trans_Binary_ROS.csv')\n",
    "df1_5L_ROS = pd.read_csv('CSurvey1_Trans_5level_ROS.csv')\n",
    "\n",
    "df1_B_SMOTE = pd.read_csv('CSurvey1_Trans_Binary_SMOTE.csv')\n",
    "df1_5L_SMOTE = pd.read_csv('CSurvey1_Trans_5level_SMOTE.csv')\n",
    "\n",
    "### Dataset from FYP2\n",
    "df2_B_imb = pd.read_csv('CSurvey2_Trans_Binary_imb.csv')\n",
    "df2_5L_imb = pd.read_csv('CSurvey2_Trans_5level_imb.csv')\n",
    "\n",
    "df2_B_ROS = pd.read_csv('CSurvey2_Trans_Binary_ROS.csv')\n",
    "df2_5L_ROS = pd.read_csv('CSurvey2_Trans_5level_ROS.csv')\n",
    "\n",
    "df2_B_SMOTE = pd.read_csv('CSurvey2_Trans_Binary_SMOTE.csv')\n",
    "df2_5L_SMOTE = pd.read_csv('CSurvey2_Trans_5level_SMOTE.csv')\n",
    "\n",
    "### Dataset shape\n",
    "print(\"df1_B_imb:\", df1_B_imb.shape)\n",
    "print(\"df1_5L_imb:\", df1_5L_imb.shape)\n",
    "print(\"df1_B_ROS:\", df1_B_ROS.shape)\n",
    "print(\"df1_5L_ROS:\", df1_5L_ROS.shape)\n",
    "print(\"df1_B_SMOTE:\", df1_B_SMOTE.shape)\n",
    "print(\"df1_5L_SMOTE:\", df1_5L_SMOTE.shape)\n",
    "\n",
    "print(\"df2_B_imb:\", df2_B_imb.shape)\n",
    "print(\"df2_5L_imb:\", df2_5L_imb.shape)\n",
    "print(\"df2_B_ROS:\", df2_B_ROS.shape)\n",
    "print(\"df2_5L_ROS:\", df2_5L_ROS.shape)\n",
    "print(\"df2_B_SMOTE:\", df2_B_SMOTE.shape)\n",
    "print(\"df2_5L_SMOTE:\", df2_5L_SMOTE.shape)"
   ]
  },
  {
   "cell_type": "markdown",
   "id": "a77fb85a-658d-4fc4-be8f-a055af3a4819",
   "metadata": {},
   "source": [
    "# Binary Classification"
   ]
  },
  {
   "cell_type": "markdown",
   "id": "b9d0f100-337c-49ad-925a-a29c58305d48",
   "metadata": {},
   "source": [
    "## Student Background"
   ]
  },
  {
   "cell_type": "code",
   "execution_count": 3,
   "id": "9f89f254-9917-48c4-adc3-f2f237bd5581",
   "metadata": {},
   "outputs": [],
   "source": [
    "rand_states = [7,69,101]"
   ]
  },
  {
   "cell_type": "markdown",
   "id": "671163eb-90e7-4141-b4eb-3be1e1f78dc7",
   "metadata": {},
   "source": [
    "### SB before Data Balancing"
   ]
  },
  {
   "cell_type": "code",
   "execution_count": 4,
   "id": "4b4613ce-be8a-4f09-84de-61c01a455b4c",
   "metadata": {},
   "outputs": [
    {
     "name": "stdout",
     "output_type": "stream",
     "text": [
      "Fitting 10 folds for each of 24 candidates, totalling 240 fits\n"
     ]
    },
    {
     "name": "stderr",
     "output_type": "stream",
     "text": [
      "C:\\Users\\hazel\\anaconda3\\Lib\\site-packages\\sklearn\\model_selection\\_split.py:700: UserWarning: The least populated class in y has only 4 members, which is less than n_splits=10.\n",
      "  warnings.warn(\n",
      "C:\\Users\\hazel\\anaconda3\\Lib\\site-packages\\sklearn\\model_selection\\_search.py:909: DataConversionWarning: A column-vector y was passed when a 1d array was expected. Please change the shape of y to (n_samples,), for example using ravel().\n",
      "  self.best_estimator_.fit(X, y, **fit_params)\n",
      "C:\\Users\\hazel\\anaconda3\\Lib\\site-packages\\sklearn\\ensemble\\_forest.py:424: FutureWarning: `max_features='auto'` has been deprecated in 1.1 and will be removed in 1.3. To keep the past behaviour, explicitly set `max_features='sqrt'` or remove this parameter as it is also the default value for RandomForestClassifiers and ExtraTreesClassifiers.\n",
      "  warn(\n"
     ]
    },
    {
     "name": "stdout",
     "output_type": "stream",
     "text": [
      "Fitting 10 folds for each of 24 candidates, totalling 240 fits\n"
     ]
    },
    {
     "name": "stderr",
     "output_type": "stream",
     "text": [
      "C:\\Users\\hazel\\anaconda3\\Lib\\site-packages\\sklearn\\model_selection\\_split.py:700: UserWarning: The least populated class in y has only 4 members, which is less than n_splits=10.\n",
      "  warnings.warn(\n",
      "C:\\Users\\hazel\\anaconda3\\Lib\\site-packages\\sklearn\\model_selection\\_search.py:909: DataConversionWarning: A column-vector y was passed when a 1d array was expected. Please change the shape of y to (n_samples,), for example using ravel().\n",
      "  self.best_estimator_.fit(X, y, **fit_params)\n",
      "C:\\Users\\hazel\\anaconda3\\Lib\\site-packages\\sklearn\\ensemble\\_forest.py:424: FutureWarning: `max_features='auto'` has been deprecated in 1.1 and will be removed in 1.3. To keep the past behaviour, explicitly set `max_features='sqrt'` or remove this parameter as it is also the default value for RandomForestClassifiers and ExtraTreesClassifiers.\n",
      "  warn(\n"
     ]
    },
    {
     "name": "stdout",
     "output_type": "stream",
     "text": [
      "Fitting 10 folds for each of 24 candidates, totalling 240 fits\n"
     ]
    },
    {
     "name": "stderr",
     "output_type": "stream",
     "text": [
      "C:\\Users\\hazel\\anaconda3\\Lib\\site-packages\\sklearn\\model_selection\\_split.py:700: UserWarning: The least populated class in y has only 4 members, which is less than n_splits=10.\n",
      "  warnings.warn(\n",
      "C:\\Users\\hazel\\anaconda3\\Lib\\site-packages\\sklearn\\model_selection\\_search.py:909: DataConversionWarning: A column-vector y was passed when a 1d array was expected. Please change the shape of y to (n_samples,), for example using ravel().\n",
      "  self.best_estimator_.fit(X, y, **fit_params)\n",
      "C:\\Users\\hazel\\anaconda3\\Lib\\site-packages\\sklearn\\ensemble\\_forest.py:424: FutureWarning: `max_features='auto'` has been deprecated in 1.1 and will be removed in 1.3. To keep the past behaviour, explicitly set `max_features='sqrt'` or remove this parameter as it is also the default value for RandomForestClassifiers and ExtraTreesClassifiers.\n",
      "  warn(\n"
     ]
    },
    {
     "data": {
      "text/html": [
       "<div>\n",
       "<style scoped>\n",
       "    .dataframe tbody tr th:only-of-type {\n",
       "        vertical-align: middle;\n",
       "    }\n",
       "\n",
       "    .dataframe tbody tr th {\n",
       "        vertical-align: top;\n",
       "    }\n",
       "\n",
       "    .dataframe thead th {\n",
       "        text-align: right;\n",
       "    }\n",
       "</style>\n",
       "<table border=\"1\" class=\"dataframe\">\n",
       "  <thead>\n",
       "    <tr style=\"text-align: right;\">\n",
       "      <th></th>\n",
       "      <th>Test Size</th>\n",
       "      <th>Random State</th>\n",
       "      <th>Accuracy</th>\n",
       "      <th>Precision</th>\n",
       "      <th>Recall</th>\n",
       "      <th>F1 Score</th>\n",
       "      <th>Best Param</th>\n",
       "    </tr>\n",
       "  </thead>\n",
       "  <tbody>\n",
       "    <tr>\n",
       "      <th>0</th>\n",
       "      <td>100</td>\n",
       "      <td>7</td>\n",
       "      <td>0.973941</td>\n",
       "      <td>0.958001</td>\n",
       "      <td>0.973941</td>\n",
       "      <td>0.965906</td>\n",
       "      <td>{'criterion': 'gini', 'max_features': 'auto', ...</td>\n",
       "    </tr>\n",
       "    <tr>\n",
       "      <th>1</th>\n",
       "      <td>100</td>\n",
       "      <td>69</td>\n",
       "      <td>0.975570</td>\n",
       "      <td>0.958035</td>\n",
       "      <td>0.975570</td>\n",
       "      <td>0.966723</td>\n",
       "      <td>{'criterion': 'gini', 'max_features': 'auto', ...</td>\n",
       "    </tr>\n",
       "    <tr>\n",
       "      <th>2</th>\n",
       "      <td>100</td>\n",
       "      <td>101</td>\n",
       "      <td>0.975570</td>\n",
       "      <td>0.958035</td>\n",
       "      <td>0.975570</td>\n",
       "      <td>0.966723</td>\n",
       "      <td>{'criterion': 'gini', 'max_features': 'auto', ...</td>\n",
       "    </tr>\n",
       "  </tbody>\n",
       "</table>\n",
       "</div>"
      ],
      "text/plain": [
       "   Test Size  Random State  Accuracy  Precision    Recall  F1 Score  \\\n",
       "0        100             7  0.973941   0.958001  0.973941  0.965906   \n",
       "1        100            69  0.975570   0.958035  0.975570  0.966723   \n",
       "2        100           101  0.975570   0.958035  0.975570  0.966723   \n",
       "\n",
       "                                          Best Param  \n",
       "0  {'criterion': 'gini', 'max_features': 'auto', ...  \n",
       "1  {'criterion': 'gini', 'max_features': 'auto', ...  \n",
       "2  {'criterion': 'gini', 'max_features': 'auto', ...  "
      ]
     },
     "execution_count": 4,
     "metadata": {},
     "output_type": "execute_result"
    }
   ],
   "source": [
    "tempB_SB_imb = []\n",
    "\n",
    "y_train = df1_B_imb[['CGPA']]\n",
    "X_train = df1_B_imb[['Age','Gender','Nationality', 'Living Status', 'Home Town', 'Faculty', 'Education Level',\n",
    "                     'Years of Study', 'Completed Credit Hours']]\n",
    "\n",
    "y_test = df2_B_imb[['CGPA']]\n",
    "X_test = df2_B_imb[['Age','Gender','Nationality', 'Living Status', 'Home Town', 'Faculty', 'Education Level',\n",
    "                     'Years of Study', 'Completed Credit Hours']]\n",
    "\n",
    "for j in rand_states:\n",
    "    param_grid = {'n_estimators': [100, 200, 300, 400],\n",
    "                  'max_features': ['auto', 'sqrt', 'log2'],\n",
    "                  'criterion' :['gini', 'entropy']}\n",
    "\n",
    "    model = GridSearchCV(RandomForestClassifier(), param_grid, refit=True, n_jobs=-1, cv=10, verbose=1)\n",
    "    model.fit(X_train, y_train)\n",
    "    pred = model.predict(X_test)\n",
    "\n",
    "    acc = accuracy_score(y_test,pred)\n",
    "    pre = precision_score(y_test, pred, average='weighted')\n",
    "    recall = recall_score(y_test, pred, average='weighted')\n",
    "    f1 = f1_score(y_test, pred, average='weighted')\n",
    "    param = model.best_params_\n",
    "\n",
    "    tempB_SB_imb.append([100,j,acc,pre,recall,f1,param])\n",
    "        \n",
    "dfB_SB_imb = pd.DataFrame(columns=['Test Size','Random State','Accuracy','Precision','Recall','F1 Score','Best Param'],data=tempB_SB_imb)\n",
    "dfB_SB_imb"
   ]
  },
  {
   "cell_type": "code",
   "execution_count": 5,
   "id": "8b71c612-da31-421d-94e3-6eeaf087bc37",
   "metadata": {},
   "outputs": [
    {
     "data": {
      "text/html": [
       "<div>\n",
       "<style scoped>\n",
       "    .dataframe tbody tr th:only-of-type {\n",
       "        vertical-align: middle;\n",
       "    }\n",
       "\n",
       "    .dataframe tbody tr th {\n",
       "        vertical-align: top;\n",
       "    }\n",
       "\n",
       "    .dataframe thead th {\n",
       "        text-align: right;\n",
       "    }\n",
       "</style>\n",
       "<table border=\"1\" class=\"dataframe\">\n",
       "  <thead>\n",
       "    <tr style=\"text-align: right;\">\n",
       "      <th></th>\n",
       "      <th>Accuracy</th>\n",
       "      <th>Precision</th>\n",
       "      <th>Recall</th>\n",
       "      <th>F1 Score</th>\n",
       "    </tr>\n",
       "    <tr>\n",
       "      <th>Test Size</th>\n",
       "      <th></th>\n",
       "      <th></th>\n",
       "      <th></th>\n",
       "      <th></th>\n",
       "    </tr>\n",
       "  </thead>\n",
       "  <tbody>\n",
       "    <tr>\n",
       "      <th>100</th>\n",
       "      <td>0.975027</td>\n",
       "      <td>0.958024</td>\n",
       "      <td>0.975027</td>\n",
       "      <td>0.966451</td>\n",
       "    </tr>\n",
       "  </tbody>\n",
       "</table>\n",
       "</div>"
      ],
      "text/plain": [
       "           Accuracy  Precision    Recall  F1 Score\n",
       "Test Size                                         \n",
       "100        0.975027   0.958024  0.975027  0.966451"
      ]
     },
     "execution_count": 5,
     "metadata": {},
     "output_type": "execute_result"
    }
   ],
   "source": [
    "dfB_SB_imb.groupby('Test Size')[['Accuracy','Precision','Recall','F1 Score']].mean()"
   ]
  },
  {
   "cell_type": "code",
   "execution_count": 6,
   "id": "b96931f5-5c47-430c-8f97-0846cc6991c9",
   "metadata": {},
   "outputs": [
    {
     "name": "stdout",
     "output_type": "stream",
     "text": [
      "Imbalance Binary: Student Background\n",
      "\n",
      "{'criterion': 'gini', 'max_features': 'auto', 'n_estimators': 100}\n",
      "{'criterion': 'gini', 'max_features': 'auto', 'n_estimators': 400}\n",
      "{'criterion': 'gini', 'max_features': 'auto', 'n_estimators': 100}\n"
     ]
    }
   ],
   "source": [
    "print(\"Imbalance Binary: Student Background\\n\")\n",
    "for x in dfB_SB_imb[\"Best Param\"]:\n",
    "    print(x)"
   ]
  },
  {
   "cell_type": "markdown",
   "id": "59820282-9698-4db7-9119-165d4bd6fc4a",
   "metadata": {},
   "source": [
    "### SB after RandomOverSampler"
   ]
  },
  {
   "cell_type": "code",
   "execution_count": 7,
   "id": "6b668ca5-8775-4415-9ce5-d580ce74083b",
   "metadata": {},
   "outputs": [
    {
     "name": "stdout",
     "output_type": "stream",
     "text": [
      "Fitting 10 folds for each of 24 candidates, totalling 240 fits\n"
     ]
    },
    {
     "name": "stderr",
     "output_type": "stream",
     "text": [
      "C:\\Users\\hazel\\anaconda3\\Lib\\site-packages\\sklearn\\model_selection\\_search.py:909: DataConversionWarning: A column-vector y was passed when a 1d array was expected. Please change the shape of y to (n_samples,), for example using ravel().\n",
      "  self.best_estimator_.fit(X, y, **fit_params)\n"
     ]
    },
    {
     "name": "stdout",
     "output_type": "stream",
     "text": [
      "Fitting 10 folds for each of 24 candidates, totalling 240 fits\n"
     ]
    },
    {
     "name": "stderr",
     "output_type": "stream",
     "text": [
      "C:\\Users\\hazel\\anaconda3\\Lib\\site-packages\\sklearn\\model_selection\\_search.py:909: DataConversionWarning: A column-vector y was passed when a 1d array was expected. Please change the shape of y to (n_samples,), for example using ravel().\n",
      "  self.best_estimator_.fit(X, y, **fit_params)\n",
      "C:\\Users\\hazel\\anaconda3\\Lib\\site-packages\\sklearn\\ensemble\\_forest.py:424: FutureWarning: `max_features='auto'` has been deprecated in 1.1 and will be removed in 1.3. To keep the past behaviour, explicitly set `max_features='sqrt'` or remove this parameter as it is also the default value for RandomForestClassifiers and ExtraTreesClassifiers.\n",
      "  warn(\n"
     ]
    },
    {
     "name": "stdout",
     "output_type": "stream",
     "text": [
      "Fitting 10 folds for each of 24 candidates, totalling 240 fits\n"
     ]
    },
    {
     "name": "stderr",
     "output_type": "stream",
     "text": [
      "C:\\Users\\hazel\\anaconda3\\Lib\\site-packages\\sklearn\\model_selection\\_search.py:909: DataConversionWarning: A column-vector y was passed when a 1d array was expected. Please change the shape of y to (n_samples,), for example using ravel().\n",
      "  self.best_estimator_.fit(X, y, **fit_params)\n",
      "C:\\Users\\hazel\\anaconda3\\Lib\\site-packages\\sklearn\\ensemble\\_forest.py:424: FutureWarning: `max_features='auto'` has been deprecated in 1.1 and will be removed in 1.3. To keep the past behaviour, explicitly set `max_features='sqrt'` or remove this parameter as it is also the default value for RandomForestClassifiers and ExtraTreesClassifiers.\n",
      "  warn(\n"
     ]
    },
    {
     "data": {
      "text/html": [
       "<div>\n",
       "<style scoped>\n",
       "    .dataframe tbody tr th:only-of-type {\n",
       "        vertical-align: middle;\n",
       "    }\n",
       "\n",
       "    .dataframe tbody tr th {\n",
       "        vertical-align: top;\n",
       "    }\n",
       "\n",
       "    .dataframe thead th {\n",
       "        text-align: right;\n",
       "    }\n",
       "</style>\n",
       "<table border=\"1\" class=\"dataframe\">\n",
       "  <thead>\n",
       "    <tr style=\"text-align: right;\">\n",
       "      <th></th>\n",
       "      <th>Test Size</th>\n",
       "      <th>Random State</th>\n",
       "      <th>Accuracy</th>\n",
       "      <th>Precision</th>\n",
       "      <th>Recall</th>\n",
       "      <th>F1 Score</th>\n",
       "      <th>Best Param</th>\n",
       "    </tr>\n",
       "  </thead>\n",
       "  <tbody>\n",
       "    <tr>\n",
       "      <th>0</th>\n",
       "      <td>100</td>\n",
       "      <td>7</td>\n",
       "      <td>0.497504</td>\n",
       "      <td>0.249374</td>\n",
       "      <td>0.497504</td>\n",
       "      <td>0.332222</td>\n",
       "      <td>{'criterion': 'gini', 'max_features': 'sqrt', ...</td>\n",
       "    </tr>\n",
       "    <tr>\n",
       "      <th>1</th>\n",
       "      <td>100</td>\n",
       "      <td>69</td>\n",
       "      <td>0.497504</td>\n",
       "      <td>0.249374</td>\n",
       "      <td>0.497504</td>\n",
       "      <td>0.332222</td>\n",
       "      <td>{'criterion': 'gini', 'max_features': 'auto', ...</td>\n",
       "    </tr>\n",
       "    <tr>\n",
       "      <th>2</th>\n",
       "      <td>100</td>\n",
       "      <td>101</td>\n",
       "      <td>0.498336</td>\n",
       "      <td>0.249583</td>\n",
       "      <td>0.498336</td>\n",
       "      <td>0.332593</td>\n",
       "      <td>{'criterion': 'gini', 'max_features': 'auto', ...</td>\n",
       "    </tr>\n",
       "  </tbody>\n",
       "</table>\n",
       "</div>"
      ],
      "text/plain": [
       "   Test Size  Random State  Accuracy  Precision    Recall  F1 Score  \\\n",
       "0        100             7  0.497504   0.249374  0.497504  0.332222   \n",
       "1        100            69  0.497504   0.249374  0.497504  0.332222   \n",
       "2        100           101  0.498336   0.249583  0.498336  0.332593   \n",
       "\n",
       "                                          Best Param  \n",
       "0  {'criterion': 'gini', 'max_features': 'sqrt', ...  \n",
       "1  {'criterion': 'gini', 'max_features': 'auto', ...  \n",
       "2  {'criterion': 'gini', 'max_features': 'auto', ...  "
      ]
     },
     "execution_count": 7,
     "metadata": {},
     "output_type": "execute_result"
    }
   ],
   "source": [
    "tempB_SB_ROS = []\n",
    "\n",
    "y_train = df1_B_ROS[['CGPA']]\n",
    "X_train = df1_B_ROS[['Age','Gender','Nationality', 'Living Status', 'Home Town', 'Faculty', 'Education Level',\n",
    "                     'Years of Study', 'Completed Credit Hours']]\n",
    "\n",
    "y_test = df2_B_ROS[['CGPA']]\n",
    "X_test = df2_B_ROS[['Age','Gender','Nationality', 'Living Status', 'Home Town', 'Faculty', 'Education Level',\n",
    "                     'Years of Study', 'Completed Credit Hours']]\n",
    "\n",
    "\n",
    "for j in rand_states:\n",
    "    param_grid = {'n_estimators': [100, 200, 300, 400],\n",
    "                  'max_features': ['auto', 'sqrt', 'log2'],\n",
    "                  'criterion' :['gini', 'entropy']}\n",
    "\n",
    "    model = GridSearchCV(RandomForestClassifier(), param_grid, refit=True, n_jobs=-1, cv=10, verbose=1)\n",
    "    model.fit(X_train, y_train)\n",
    "    pred = model.predict(X_test)\n",
    "\n",
    "    acc = accuracy_score(y_test,pred)\n",
    "    pre = precision_score(y_test, pred, average='weighted')\n",
    "    recall = recall_score(y_test, pred, average='weighted')\n",
    "    f1 = f1_score(y_test, pred, average='weighted')\n",
    "    param = model.best_params_\n",
    "\n",
    "    tempB_SB_ROS.append([100,j,acc,pre,recall,f1,param])\n",
    "        \n",
    "dfB_SB_ROS = pd.DataFrame(columns=['Test Size','Random State','Accuracy','Precision','Recall','F1 Score','Best Param'],data=tempB_SB_ROS)\n",
    "dfB_SB_ROS"
   ]
  },
  {
   "cell_type": "code",
   "execution_count": 8,
   "id": "d1177898-581d-4773-8c11-25236d40815d",
   "metadata": {},
   "outputs": [
    {
     "data": {
      "text/html": [
       "<div>\n",
       "<style scoped>\n",
       "    .dataframe tbody tr th:only-of-type {\n",
       "        vertical-align: middle;\n",
       "    }\n",
       "\n",
       "    .dataframe tbody tr th {\n",
       "        vertical-align: top;\n",
       "    }\n",
       "\n",
       "    .dataframe thead th {\n",
       "        text-align: right;\n",
       "    }\n",
       "</style>\n",
       "<table border=\"1\" class=\"dataframe\">\n",
       "  <thead>\n",
       "    <tr style=\"text-align: right;\">\n",
       "      <th></th>\n",
       "      <th>Accuracy</th>\n",
       "      <th>Precision</th>\n",
       "      <th>Recall</th>\n",
       "      <th>F1 Score</th>\n",
       "    </tr>\n",
       "    <tr>\n",
       "      <th>Test Size</th>\n",
       "      <th></th>\n",
       "      <th></th>\n",
       "      <th></th>\n",
       "      <th></th>\n",
       "    </tr>\n",
       "  </thead>\n",
       "  <tbody>\n",
       "    <tr>\n",
       "      <th>100</th>\n",
       "      <td>0.497781</td>\n",
       "      <td>0.249444</td>\n",
       "      <td>0.497781</td>\n",
       "      <td>0.332346</td>\n",
       "    </tr>\n",
       "  </tbody>\n",
       "</table>\n",
       "</div>"
      ],
      "text/plain": [
       "           Accuracy  Precision    Recall  F1 Score\n",
       "Test Size                                         \n",
       "100        0.497781   0.249444  0.497781  0.332346"
      ]
     },
     "execution_count": 8,
     "metadata": {},
     "output_type": "execute_result"
    }
   ],
   "source": [
    "dfB_SB_ROS.groupby('Test Size')[['Accuracy','Precision','Recall','F1 Score']].mean()"
   ]
  },
  {
   "cell_type": "code",
   "execution_count": 9,
   "id": "6732506d-42a0-4aad-9d7e-af1e9ceee1d2",
   "metadata": {},
   "outputs": [
    {
     "name": "stdout",
     "output_type": "stream",
     "text": [
      "Binary: Student Background\n",
      "\n",
      "{'criterion': 'gini', 'max_features': 'sqrt', 'n_estimators': 100}\n",
      "{'criterion': 'gini', 'max_features': 'auto', 'n_estimators': 100}\n",
      "{'criterion': 'gini', 'max_features': 'auto', 'n_estimators': 200}\n"
     ]
    }
   ],
   "source": [
    "print(\"Binary: Student Background\\n\")\n",
    "for x in dfB_SB_ROS[\"Best Param\"]:\n",
    "    print(x)"
   ]
  },
  {
   "cell_type": "markdown",
   "id": "e4883dce-ba90-429c-86ec-0442f662ada5",
   "metadata": {},
   "source": [
    "### SB after SMOTE"
   ]
  },
  {
   "cell_type": "code",
   "execution_count": 10,
   "id": "3808ad54-7966-485d-a109-44b4eec921b0",
   "metadata": {},
   "outputs": [
    {
     "name": "stdout",
     "output_type": "stream",
     "text": [
      "Fitting 10 folds for each of 24 candidates, totalling 240 fits\n"
     ]
    },
    {
     "name": "stderr",
     "output_type": "stream",
     "text": [
      "C:\\Users\\hazel\\anaconda3\\Lib\\site-packages\\sklearn\\model_selection\\_search.py:909: DataConversionWarning: A column-vector y was passed when a 1d array was expected. Please change the shape of y to (n_samples,), for example using ravel().\n",
      "  self.best_estimator_.fit(X, y, **fit_params)\n",
      "C:\\Users\\hazel\\anaconda3\\Lib\\site-packages\\sklearn\\ensemble\\_forest.py:424: FutureWarning: `max_features='auto'` has been deprecated in 1.1 and will be removed in 1.3. To keep the past behaviour, explicitly set `max_features='sqrt'` or remove this parameter as it is also the default value for RandomForestClassifiers and ExtraTreesClassifiers.\n",
      "  warn(\n"
     ]
    },
    {
     "name": "stdout",
     "output_type": "stream",
     "text": [
      "Fitting 10 folds for each of 24 candidates, totalling 240 fits\n"
     ]
    },
    {
     "name": "stderr",
     "output_type": "stream",
     "text": [
      "C:\\Users\\hazel\\anaconda3\\Lib\\site-packages\\sklearn\\model_selection\\_search.py:909: DataConversionWarning: A column-vector y was passed when a 1d array was expected. Please change the shape of y to (n_samples,), for example using ravel().\n",
      "  self.best_estimator_.fit(X, y, **fit_params)\n",
      "C:\\Users\\hazel\\anaconda3\\Lib\\site-packages\\sklearn\\ensemble\\_forest.py:424: FutureWarning: `max_features='auto'` has been deprecated in 1.1 and will be removed in 1.3. To keep the past behaviour, explicitly set `max_features='sqrt'` or remove this parameter as it is also the default value for RandomForestClassifiers and ExtraTreesClassifiers.\n",
      "  warn(\n"
     ]
    },
    {
     "name": "stdout",
     "output_type": "stream",
     "text": [
      "Fitting 10 folds for each of 24 candidates, totalling 240 fits\n"
     ]
    },
    {
     "name": "stderr",
     "output_type": "stream",
     "text": [
      "C:\\Users\\hazel\\anaconda3\\Lib\\site-packages\\sklearn\\model_selection\\_search.py:909: DataConversionWarning: A column-vector y was passed when a 1d array was expected. Please change the shape of y to (n_samples,), for example using ravel().\n",
      "  self.best_estimator_.fit(X, y, **fit_params)\n",
      "C:\\Users\\hazel\\anaconda3\\Lib\\site-packages\\sklearn\\ensemble\\_forest.py:424: FutureWarning: `max_features='auto'` has been deprecated in 1.1 and will be removed in 1.3. To keep the past behaviour, explicitly set `max_features='sqrt'` or remove this parameter as it is also the default value for RandomForestClassifiers and ExtraTreesClassifiers.\n",
      "  warn(\n"
     ]
    },
    {
     "data": {
      "text/html": [
       "<div>\n",
       "<style scoped>\n",
       "    .dataframe tbody tr th:only-of-type {\n",
       "        vertical-align: middle;\n",
       "    }\n",
       "\n",
       "    .dataframe tbody tr th {\n",
       "        vertical-align: top;\n",
       "    }\n",
       "\n",
       "    .dataframe thead th {\n",
       "        text-align: right;\n",
       "    }\n",
       "</style>\n",
       "<table border=\"1\" class=\"dataframe\">\n",
       "  <thead>\n",
       "    <tr style=\"text-align: right;\">\n",
       "      <th></th>\n",
       "      <th>Test Size</th>\n",
       "      <th>Random State</th>\n",
       "      <th>Accuracy</th>\n",
       "      <th>Precision</th>\n",
       "      <th>Recall</th>\n",
       "      <th>F1 Score</th>\n",
       "      <th>Best Param</th>\n",
       "    </tr>\n",
       "  </thead>\n",
       "  <tbody>\n",
       "    <tr>\n",
       "      <th>0</th>\n",
       "      <td>100</td>\n",
       "      <td>7</td>\n",
       "      <td>0.531614</td>\n",
       "      <td>0.672097</td>\n",
       "      <td>0.531614</td>\n",
       "      <td>0.411520</td>\n",
       "      <td>{'criterion': 'gini', 'max_features': 'auto', ...</td>\n",
       "    </tr>\n",
       "    <tr>\n",
       "      <th>1</th>\n",
       "      <td>100</td>\n",
       "      <td>69</td>\n",
       "      <td>0.531614</td>\n",
       "      <td>0.666652</td>\n",
       "      <td>0.531614</td>\n",
       "      <td>0.412627</td>\n",
       "      <td>{'criterion': 'gini', 'max_features': 'auto', ...</td>\n",
       "    </tr>\n",
       "    <tr>\n",
       "      <th>2</th>\n",
       "      <td>100</td>\n",
       "      <td>101</td>\n",
       "      <td>0.536606</td>\n",
       "      <td>0.681541</td>\n",
       "      <td>0.536606</td>\n",
       "      <td>0.421053</td>\n",
       "      <td>{'criterion': 'gini', 'max_features': 'auto', ...</td>\n",
       "    </tr>\n",
       "  </tbody>\n",
       "</table>\n",
       "</div>"
      ],
      "text/plain": [
       "   Test Size  Random State  Accuracy  Precision    Recall  F1 Score  \\\n",
       "0        100             7  0.531614   0.672097  0.531614  0.411520   \n",
       "1        100            69  0.531614   0.666652  0.531614  0.412627   \n",
       "2        100           101  0.536606   0.681541  0.536606  0.421053   \n",
       "\n",
       "                                          Best Param  \n",
       "0  {'criterion': 'gini', 'max_features': 'auto', ...  \n",
       "1  {'criterion': 'gini', 'max_features': 'auto', ...  \n",
       "2  {'criterion': 'gini', 'max_features': 'auto', ...  "
      ]
     },
     "execution_count": 10,
     "metadata": {},
     "output_type": "execute_result"
    }
   ],
   "source": [
    "tempB_SB_SMOTE = []\n",
    "\n",
    "y_train = df1_B_SMOTE[['CGPA']]\n",
    "X_train = df1_B_SMOTE[['Age','Gender','Nationality', 'Living Status', 'Home Town', 'Faculty', 'Education Level',\n",
    "                     'Years of Study', 'Completed Credit Hours']]\n",
    "\n",
    "y_test = df2_B_SMOTE[['CGPA']]\n",
    "X_test = df2_B_SMOTE[['Age','Gender','Nationality', 'Living Status', 'Home Town', 'Faculty', 'Education Level',\n",
    "                     'Years of Study', 'Completed Credit Hours']]\n",
    "\n",
    "\n",
    "for j in rand_states:\n",
    "    param_grid = {'n_estimators': [100, 200, 300, 400],\n",
    "                  'max_features': ['auto', 'sqrt', 'log2'],\n",
    "                  'criterion' :['gini', 'entropy']}\n",
    "\n",
    "    model = GridSearchCV(RandomForestClassifier(), param_grid, refit=True, n_jobs=-1, cv=10, verbose=1)\n",
    "    model.fit(X_train, y_train)\n",
    "    pred = model.predict(X_test)\n",
    "\n",
    "    acc = accuracy_score(y_test,pred)\n",
    "    pre = precision_score(y_test, pred, average='weighted')\n",
    "    recall = recall_score(y_test, pred, average='weighted')\n",
    "    f1 = f1_score(y_test, pred, average='weighted')\n",
    "    param = model.best_params_\n",
    "\n",
    "    tempB_SB_SMOTE.append([100,j,acc,pre,recall,f1,param])\n",
    "        \n",
    "dfB_SB_SMOTE = pd.DataFrame(columns=['Test Size','Random State','Accuracy','Precision','Recall','F1 Score','Best Param'],data=tempB_SB_SMOTE)\n",
    "dfB_SB_SMOTE"
   ]
  },
  {
   "cell_type": "code",
   "execution_count": 11,
   "id": "8439e016-27a0-4de6-9f74-7990c7a64327",
   "metadata": {},
   "outputs": [
    {
     "data": {
      "text/html": [
       "<div>\n",
       "<style scoped>\n",
       "    .dataframe tbody tr th:only-of-type {\n",
       "        vertical-align: middle;\n",
       "    }\n",
       "\n",
       "    .dataframe tbody tr th {\n",
       "        vertical-align: top;\n",
       "    }\n",
       "\n",
       "    .dataframe thead th {\n",
       "        text-align: right;\n",
       "    }\n",
       "</style>\n",
       "<table border=\"1\" class=\"dataframe\">\n",
       "  <thead>\n",
       "    <tr style=\"text-align: right;\">\n",
       "      <th></th>\n",
       "      <th>Accuracy</th>\n",
       "      <th>Precision</th>\n",
       "      <th>Recall</th>\n",
       "      <th>F1 Score</th>\n",
       "    </tr>\n",
       "    <tr>\n",
       "      <th>Test Size</th>\n",
       "      <th></th>\n",
       "      <th></th>\n",
       "      <th></th>\n",
       "      <th></th>\n",
       "    </tr>\n",
       "  </thead>\n",
       "  <tbody>\n",
       "    <tr>\n",
       "      <th>100</th>\n",
       "      <td>0.533278</td>\n",
       "      <td>0.67343</td>\n",
       "      <td>0.533278</td>\n",
       "      <td>0.415067</td>\n",
       "    </tr>\n",
       "  </tbody>\n",
       "</table>\n",
       "</div>"
      ],
      "text/plain": [
       "           Accuracy  Precision    Recall  F1 Score\n",
       "Test Size                                         \n",
       "100        0.533278    0.67343  0.533278  0.415067"
      ]
     },
     "execution_count": 11,
     "metadata": {},
     "output_type": "execute_result"
    }
   ],
   "source": [
    "dfB_SB_SMOTE.groupby('Test Size')[['Accuracy','Precision','Recall','F1 Score']].mean()"
   ]
  },
  {
   "cell_type": "code",
   "execution_count": 12,
   "id": "32647270-b5fa-4782-b840-2ca5fd0906c7",
   "metadata": {},
   "outputs": [
    {
     "name": "stdout",
     "output_type": "stream",
     "text": [
      "SMOTE Binary: Student Background\n",
      "\n",
      "{'criterion': 'gini', 'max_features': 'auto', 'n_estimators': 100}\n",
      "{'criterion': 'gini', 'max_features': 'auto', 'n_estimators': 100}\n",
      "{'criterion': 'gini', 'max_features': 'auto', 'n_estimators': 400}\n"
     ]
    }
   ],
   "source": [
    "print(\"SMOTE Binary: Student Background\\n\")\n",
    "for x in dfB_SB_SMOTE[\"Best Param\"]:\n",
    "    print(x)"
   ]
  },
  {
   "cell_type": "markdown",
   "id": "b9effff9-fee0-4778-8f2d-a1a8066a7efe",
   "metadata": {},
   "source": [
    "## Student History Grades"
   ]
  },
  {
   "cell_type": "markdown",
   "id": "0b42b799-d734-4f1d-bf86-6839cb5af840",
   "metadata": {},
   "source": [
    "### SHG before Data Balancing"
   ]
  },
  {
   "cell_type": "code",
   "execution_count": 13,
   "id": "9088b3dd-f93a-42ac-ab00-43c4923cf120",
   "metadata": {},
   "outputs": [
    {
     "name": "stdout",
     "output_type": "stream",
     "text": [
      "Fitting 10 folds for each of 24 candidates, totalling 240 fits\n"
     ]
    },
    {
     "name": "stderr",
     "output_type": "stream",
     "text": [
      "C:\\Users\\hazel\\anaconda3\\Lib\\site-packages\\sklearn\\model_selection\\_split.py:700: UserWarning: The least populated class in y has only 4 members, which is less than n_splits=10.\n",
      "  warnings.warn(\n",
      "C:\\Users\\hazel\\anaconda3\\Lib\\site-packages\\sklearn\\model_selection\\_search.py:909: DataConversionWarning: A column-vector y was passed when a 1d array was expected. Please change the shape of y to (n_samples,), for example using ravel().\n",
      "  self.best_estimator_.fit(X, y, **fit_params)\n",
      "C:\\Users\\hazel\\anaconda3\\Lib\\site-packages\\sklearn\\ensemble\\_forest.py:424: FutureWarning: `max_features='auto'` has been deprecated in 1.1 and will be removed in 1.3. To keep the past behaviour, explicitly set `max_features='sqrt'` or remove this parameter as it is also the default value for RandomForestClassifiers and ExtraTreesClassifiers.\n",
      "  warn(\n"
     ]
    },
    {
     "name": "stdout",
     "output_type": "stream",
     "text": [
      "Fitting 10 folds for each of 24 candidates, totalling 240 fits\n"
     ]
    },
    {
     "name": "stderr",
     "output_type": "stream",
     "text": [
      "C:\\Users\\hazel\\anaconda3\\Lib\\site-packages\\sklearn\\model_selection\\_split.py:700: UserWarning: The least populated class in y has only 4 members, which is less than n_splits=10.\n",
      "  warnings.warn(\n",
      "C:\\Users\\hazel\\anaconda3\\Lib\\site-packages\\sklearn\\model_selection\\_search.py:909: DataConversionWarning: A column-vector y was passed when a 1d array was expected. Please change the shape of y to (n_samples,), for example using ravel().\n",
      "  self.best_estimator_.fit(X, y, **fit_params)\n",
      "C:\\Users\\hazel\\anaconda3\\Lib\\site-packages\\sklearn\\ensemble\\_forest.py:424: FutureWarning: `max_features='auto'` has been deprecated in 1.1 and will be removed in 1.3. To keep the past behaviour, explicitly set `max_features='sqrt'` or remove this parameter as it is also the default value for RandomForestClassifiers and ExtraTreesClassifiers.\n",
      "  warn(\n"
     ]
    },
    {
     "name": "stdout",
     "output_type": "stream",
     "text": [
      "Fitting 10 folds for each of 24 candidates, totalling 240 fits\n"
     ]
    },
    {
     "name": "stderr",
     "output_type": "stream",
     "text": [
      "C:\\Users\\hazel\\anaconda3\\Lib\\site-packages\\sklearn\\model_selection\\_split.py:700: UserWarning: The least populated class in y has only 4 members, which is less than n_splits=10.\n",
      "  warnings.warn(\n",
      "C:\\Users\\hazel\\anaconda3\\Lib\\site-packages\\sklearn\\model_selection\\_search.py:909: DataConversionWarning: A column-vector y was passed when a 1d array was expected. Please change the shape of y to (n_samples,), for example using ravel().\n",
      "  self.best_estimator_.fit(X, y, **fit_params)\n",
      "C:\\Users\\hazel\\anaconda3\\Lib\\site-packages\\sklearn\\ensemble\\_forest.py:424: FutureWarning: `max_features='auto'` has been deprecated in 1.1 and will be removed in 1.3. To keep the past behaviour, explicitly set `max_features='sqrt'` or remove this parameter as it is also the default value for RandomForestClassifiers and ExtraTreesClassifiers.\n",
      "  warn(\n"
     ]
    },
    {
     "data": {
      "text/html": [
       "<div>\n",
       "<style scoped>\n",
       "    .dataframe tbody tr th:only-of-type {\n",
       "        vertical-align: middle;\n",
       "    }\n",
       "\n",
       "    .dataframe tbody tr th {\n",
       "        vertical-align: top;\n",
       "    }\n",
       "\n",
       "    .dataframe thead th {\n",
       "        text-align: right;\n",
       "    }\n",
       "</style>\n",
       "<table border=\"1\" class=\"dataframe\">\n",
       "  <thead>\n",
       "    <tr style=\"text-align: right;\">\n",
       "      <th></th>\n",
       "      <th>Test Size</th>\n",
       "      <th>Random State</th>\n",
       "      <th>Accuracy</th>\n",
       "      <th>Precision</th>\n",
       "      <th>Recall</th>\n",
       "      <th>F1 Score</th>\n",
       "      <th>Best Param</th>\n",
       "    </tr>\n",
       "  </thead>\n",
       "  <tbody>\n",
       "    <tr>\n",
       "      <th>0</th>\n",
       "      <td>100</td>\n",
       "      <td>7</td>\n",
       "      <td>0.977199</td>\n",
       "      <td>0.958069</td>\n",
       "      <td>0.977199</td>\n",
       "      <td>0.967539</td>\n",
       "      <td>{'criterion': 'gini', 'max_features': 'auto', ...</td>\n",
       "    </tr>\n",
       "    <tr>\n",
       "      <th>1</th>\n",
       "      <td>100</td>\n",
       "      <td>69</td>\n",
       "      <td>0.977199</td>\n",
       "      <td>0.958069</td>\n",
       "      <td>0.977199</td>\n",
       "      <td>0.967539</td>\n",
       "      <td>{'criterion': 'gini', 'max_features': 'auto', ...</td>\n",
       "    </tr>\n",
       "    <tr>\n",
       "      <th>2</th>\n",
       "      <td>100</td>\n",
       "      <td>101</td>\n",
       "      <td>0.977199</td>\n",
       "      <td>0.958069</td>\n",
       "      <td>0.977199</td>\n",
       "      <td>0.967539</td>\n",
       "      <td>{'criterion': 'gini', 'max_features': 'auto', ...</td>\n",
       "    </tr>\n",
       "  </tbody>\n",
       "</table>\n",
       "</div>"
      ],
      "text/plain": [
       "   Test Size  Random State  Accuracy  Precision    Recall  F1 Score  \\\n",
       "0        100             7  0.977199   0.958069  0.977199  0.967539   \n",
       "1        100            69  0.977199   0.958069  0.977199  0.967539   \n",
       "2        100           101  0.977199   0.958069  0.977199  0.967539   \n",
       "\n",
       "                                          Best Param  \n",
       "0  {'criterion': 'gini', 'max_features': 'auto', ...  \n",
       "1  {'criterion': 'gini', 'max_features': 'auto', ...  \n",
       "2  {'criterion': 'gini', 'max_features': 'auto', ...  "
      ]
     },
     "execution_count": 13,
     "metadata": {},
     "output_type": "execute_result"
    }
   ],
   "source": [
    "tempB_SHG_imb = []\n",
    "\n",
    "y_train = df1_B_imb[['CGPA']]\n",
    "X_train = df1_B_imb[['Number of Subjects Failed','SPM Result (A)','SPM Result (B)','SPM Result (C)']]\n",
    "\n",
    "y_test = df2_B_imb[['CGPA']]\n",
    "X_test = df2_B_imb[['Number of Subjects Failed','SPM Result (A)','SPM Result (B)','SPM Result (C)']]\n",
    "\n",
    "for j in rand_states:\n",
    "    param_grid = {'n_estimators': [100, 200, 300, 400],\n",
    "                  'max_features': ['auto', 'sqrt', 'log2'],\n",
    "                  'criterion' :['gini', 'entropy']}\n",
    "\n",
    "    model = GridSearchCV(RandomForestClassifier(), param_grid, refit=True, n_jobs=-1, cv=10, verbose=1)\n",
    "    model.fit(X_train, y_train)\n",
    "    pred = model.predict(X_test)\n",
    "\n",
    "    acc = accuracy_score(y_test,pred)\n",
    "    pre = precision_score(y_test, pred, average='weighted')\n",
    "    recall = recall_score(y_test, pred, average='weighted')\n",
    "    f1 = f1_score(y_test, pred, average='weighted')\n",
    "    param = model.best_params_\n",
    "\n",
    "    tempB_SHG_imb.append([100,j,acc,pre,recall,f1,param])\n",
    "        \n",
    "dfB_SHG_imb = pd.DataFrame(columns=['Test Size','Random State','Accuracy','Precision','Recall','F1 Score','Best Param'],data=tempB_SHG_imb)\n",
    "dfB_SHG_imb"
   ]
  },
  {
   "cell_type": "code",
   "execution_count": 14,
   "id": "e5607703-1566-481d-98cc-e456f43a800a",
   "metadata": {},
   "outputs": [
    {
     "data": {
      "text/html": [
       "<div>\n",
       "<style scoped>\n",
       "    .dataframe tbody tr th:only-of-type {\n",
       "        vertical-align: middle;\n",
       "    }\n",
       "\n",
       "    .dataframe tbody tr th {\n",
       "        vertical-align: top;\n",
       "    }\n",
       "\n",
       "    .dataframe thead th {\n",
       "        text-align: right;\n",
       "    }\n",
       "</style>\n",
       "<table border=\"1\" class=\"dataframe\">\n",
       "  <thead>\n",
       "    <tr style=\"text-align: right;\">\n",
       "      <th></th>\n",
       "      <th>Accuracy</th>\n",
       "      <th>Precision</th>\n",
       "      <th>Recall</th>\n",
       "      <th>F1 Score</th>\n",
       "    </tr>\n",
       "    <tr>\n",
       "      <th>Test Size</th>\n",
       "      <th></th>\n",
       "      <th></th>\n",
       "      <th></th>\n",
       "      <th></th>\n",
       "    </tr>\n",
       "  </thead>\n",
       "  <tbody>\n",
       "    <tr>\n",
       "      <th>100</th>\n",
       "      <td>0.977199</td>\n",
       "      <td>0.958069</td>\n",
       "      <td>0.977199</td>\n",
       "      <td>0.967539</td>\n",
       "    </tr>\n",
       "  </tbody>\n",
       "</table>\n",
       "</div>"
      ],
      "text/plain": [
       "           Accuracy  Precision    Recall  F1 Score\n",
       "Test Size                                         \n",
       "100        0.977199   0.958069  0.977199  0.967539"
      ]
     },
     "execution_count": 14,
     "metadata": {},
     "output_type": "execute_result"
    }
   ],
   "source": [
    "dfB_SHG_imb.groupby('Test Size')[['Accuracy','Precision','Recall','F1 Score']].mean()"
   ]
  },
  {
   "cell_type": "code",
   "execution_count": 15,
   "id": "bee87720-4fb9-4bfe-ae96-7cd0295b4548",
   "metadata": {},
   "outputs": [
    {
     "name": "stdout",
     "output_type": "stream",
     "text": [
      "Imbalance Binary: Student History Grades\n",
      "\n",
      "{'criterion': 'gini', 'max_features': 'auto', 'n_estimators': 100}\n",
      "{'criterion': 'gini', 'max_features': 'auto', 'n_estimators': 100}\n",
      "{'criterion': 'gini', 'max_features': 'auto', 'n_estimators': 100}\n"
     ]
    }
   ],
   "source": [
    "print(\"Imbalance Binary: Student History Grades\\n\")\n",
    "for x in dfB_SHG_imb[\"Best Param\"]:\n",
    "    print(x)"
   ]
  },
  {
   "cell_type": "markdown",
   "id": "a7075600-f2b0-45ad-9d73-08054d7c4edf",
   "metadata": {},
   "source": [
    "### SHG after OverSampling"
   ]
  },
  {
   "cell_type": "code",
   "execution_count": 16,
   "id": "ab77df38-7c49-47e6-9f21-0a835856ab68",
   "metadata": {},
   "outputs": [
    {
     "name": "stdout",
     "output_type": "stream",
     "text": [
      "Fitting 10 folds for each of 24 candidates, totalling 240 fits\n"
     ]
    },
    {
     "name": "stderr",
     "output_type": "stream",
     "text": [
      "C:\\Users\\hazel\\anaconda3\\Lib\\site-packages\\sklearn\\model_selection\\_search.py:909: DataConversionWarning: A column-vector y was passed when a 1d array was expected. Please change the shape of y to (n_samples,), for example using ravel().\n",
      "  self.best_estimator_.fit(X, y, **fit_params)\n",
      "C:\\Users\\hazel\\anaconda3\\Lib\\site-packages\\sklearn\\ensemble\\_forest.py:424: FutureWarning: `max_features='auto'` has been deprecated in 1.1 and will be removed in 1.3. To keep the past behaviour, explicitly set `max_features='sqrt'` or remove this parameter as it is also the default value for RandomForestClassifiers and ExtraTreesClassifiers.\n",
      "  warn(\n"
     ]
    },
    {
     "name": "stdout",
     "output_type": "stream",
     "text": [
      "Fitting 10 folds for each of 24 candidates, totalling 240 fits\n"
     ]
    },
    {
     "name": "stderr",
     "output_type": "stream",
     "text": [
      "C:\\Users\\hazel\\anaconda3\\Lib\\site-packages\\sklearn\\model_selection\\_search.py:909: DataConversionWarning: A column-vector y was passed when a 1d array was expected. Please change the shape of y to (n_samples,), for example using ravel().\n",
      "  self.best_estimator_.fit(X, y, **fit_params)\n",
      "C:\\Users\\hazel\\anaconda3\\Lib\\site-packages\\sklearn\\ensemble\\_forest.py:424: FutureWarning: `max_features='auto'` has been deprecated in 1.1 and will be removed in 1.3. To keep the past behaviour, explicitly set `max_features='sqrt'` or remove this parameter as it is also the default value for RandomForestClassifiers and ExtraTreesClassifiers.\n",
      "  warn(\n"
     ]
    },
    {
     "name": "stdout",
     "output_type": "stream",
     "text": [
      "Fitting 10 folds for each of 24 candidates, totalling 240 fits\n"
     ]
    },
    {
     "name": "stderr",
     "output_type": "stream",
     "text": [
      "C:\\Users\\hazel\\anaconda3\\Lib\\site-packages\\sklearn\\model_selection\\_search.py:909: DataConversionWarning: A column-vector y was passed when a 1d array was expected. Please change the shape of y to (n_samples,), for example using ravel().\n",
      "  self.best_estimator_.fit(X, y, **fit_params)\n",
      "C:\\Users\\hazel\\anaconda3\\Lib\\site-packages\\sklearn\\ensemble\\_forest.py:424: FutureWarning: `max_features='auto'` has been deprecated in 1.1 and will be removed in 1.3. To keep the past behaviour, explicitly set `max_features='sqrt'` or remove this parameter as it is also the default value for RandomForestClassifiers and ExtraTreesClassifiers.\n",
      "  warn(\n"
     ]
    },
    {
     "data": {
      "text/html": [
       "<div>\n",
       "<style scoped>\n",
       "    .dataframe tbody tr th:only-of-type {\n",
       "        vertical-align: middle;\n",
       "    }\n",
       "\n",
       "    .dataframe tbody tr th {\n",
       "        vertical-align: top;\n",
       "    }\n",
       "\n",
       "    .dataframe thead th {\n",
       "        text-align: right;\n",
       "    }\n",
       "</style>\n",
       "<table border=\"1\" class=\"dataframe\">\n",
       "  <thead>\n",
       "    <tr style=\"text-align: right;\">\n",
       "      <th></th>\n",
       "      <th>Test Size</th>\n",
       "      <th>Random State</th>\n",
       "      <th>Accuracy</th>\n",
       "      <th>Precision</th>\n",
       "      <th>Recall</th>\n",
       "      <th>F1 Score</th>\n",
       "      <th>Best Param</th>\n",
       "    </tr>\n",
       "  </thead>\n",
       "  <tbody>\n",
       "    <tr>\n",
       "      <th>0</th>\n",
       "      <td>100</td>\n",
       "      <td>7</td>\n",
       "      <td>0.526622</td>\n",
       "      <td>0.63203</td>\n",
       "      <td>0.526622</td>\n",
       "      <td>0.408581</td>\n",
       "      <td>{'criterion': 'gini', 'max_features': 'auto', ...</td>\n",
       "    </tr>\n",
       "    <tr>\n",
       "      <th>1</th>\n",
       "      <td>100</td>\n",
       "      <td>69</td>\n",
       "      <td>0.526622</td>\n",
       "      <td>0.63203</td>\n",
       "      <td>0.526622</td>\n",
       "      <td>0.408581</td>\n",
       "      <td>{'criterion': 'entropy', 'max_features': 'auto...</td>\n",
       "    </tr>\n",
       "    <tr>\n",
       "      <th>2</th>\n",
       "      <td>100</td>\n",
       "      <td>101</td>\n",
       "      <td>0.526622</td>\n",
       "      <td>0.63203</td>\n",
       "      <td>0.526622</td>\n",
       "      <td>0.408581</td>\n",
       "      <td>{'criterion': 'gini', 'max_features': 'auto', ...</td>\n",
       "    </tr>\n",
       "  </tbody>\n",
       "</table>\n",
       "</div>"
      ],
      "text/plain": [
       "   Test Size  Random State  Accuracy  Precision    Recall  F1 Score  \\\n",
       "0        100             7  0.526622    0.63203  0.526622  0.408581   \n",
       "1        100            69  0.526622    0.63203  0.526622  0.408581   \n",
       "2        100           101  0.526622    0.63203  0.526622  0.408581   \n",
       "\n",
       "                                          Best Param  \n",
       "0  {'criterion': 'gini', 'max_features': 'auto', ...  \n",
       "1  {'criterion': 'entropy', 'max_features': 'auto...  \n",
       "2  {'criterion': 'gini', 'max_features': 'auto', ...  "
      ]
     },
     "execution_count": 16,
     "metadata": {},
     "output_type": "execute_result"
    }
   ],
   "source": [
    "tempB_SHG_ROS = []\n",
    "\n",
    "y_train = df1_B_ROS[['CGPA']]\n",
    "X_train = df1_B_ROS[['Number of Subjects Failed','SPM Result (A)','SPM Result (B)','SPM Result (C)']]\n",
    "\n",
    "y_test = df2_B_ROS[['CGPA']]\n",
    "X_test = df2_B_ROS[['Number of Subjects Failed','SPM Result (A)','SPM Result (B)','SPM Result (C)']]\n",
    "\n",
    "for j in rand_states:\n",
    "    param_grid = {'n_estimators': [100, 200, 300, 400],\n",
    "                  'max_features': ['auto', 'sqrt', 'log2'],\n",
    "                  'criterion' :['gini', 'entropy']}\n",
    "\n",
    "    model = GridSearchCV(RandomForestClassifier(), param_grid, refit=True, n_jobs=-1, cv=10, verbose=1)\n",
    "    model.fit(X_train, y_train)\n",
    "    pred = model.predict(X_test)\n",
    "\n",
    "    acc = accuracy_score(y_test,pred)\n",
    "    pre = precision_score(y_test, pred, average='weighted')\n",
    "    recall = recall_score(y_test, pred, average='weighted')\n",
    "    f1 = f1_score(y_test, pred, average='weighted')\n",
    "    param = model.best_params_\n",
    "\n",
    "    tempB_SHG_ROS.append([100,j,acc,pre,recall,f1,param])\n",
    "        \n",
    "dfB_SHG_ROS = pd.DataFrame(columns=['Test Size','Random State','Accuracy','Precision','Recall','F1 Score','Best Param'],data=tempB_SHG_ROS)\n",
    "dfB_SHG_ROS"
   ]
  },
  {
   "cell_type": "code",
   "execution_count": 17,
   "id": "522cf4f1-9866-44f4-9182-ffb06ca23fa7",
   "metadata": {},
   "outputs": [
    {
     "data": {
      "text/html": [
       "<div>\n",
       "<style scoped>\n",
       "    .dataframe tbody tr th:only-of-type {\n",
       "        vertical-align: middle;\n",
       "    }\n",
       "\n",
       "    .dataframe tbody tr th {\n",
       "        vertical-align: top;\n",
       "    }\n",
       "\n",
       "    .dataframe thead th {\n",
       "        text-align: right;\n",
       "    }\n",
       "</style>\n",
       "<table border=\"1\" class=\"dataframe\">\n",
       "  <thead>\n",
       "    <tr style=\"text-align: right;\">\n",
       "      <th></th>\n",
       "      <th>Accuracy</th>\n",
       "      <th>Precision</th>\n",
       "      <th>Recall</th>\n",
       "      <th>F1 Score</th>\n",
       "    </tr>\n",
       "    <tr>\n",
       "      <th>Test Size</th>\n",
       "      <th></th>\n",
       "      <th></th>\n",
       "      <th></th>\n",
       "      <th></th>\n",
       "    </tr>\n",
       "  </thead>\n",
       "  <tbody>\n",
       "    <tr>\n",
       "      <th>100</th>\n",
       "      <td>0.526622</td>\n",
       "      <td>0.63203</td>\n",
       "      <td>0.526622</td>\n",
       "      <td>0.408581</td>\n",
       "    </tr>\n",
       "  </tbody>\n",
       "</table>\n",
       "</div>"
      ],
      "text/plain": [
       "           Accuracy  Precision    Recall  F1 Score\n",
       "Test Size                                         \n",
       "100        0.526622    0.63203  0.526622  0.408581"
      ]
     },
     "execution_count": 17,
     "metadata": {},
     "output_type": "execute_result"
    }
   ],
   "source": [
    "dfB_SHG_ROS.groupby('Test Size')[['Accuracy','Precision','Recall','F1 Score']].mean()"
   ]
  },
  {
   "cell_type": "code",
   "execution_count": 18,
   "id": "32607de0-1519-4d72-92e9-68599d80bbed",
   "metadata": {},
   "outputs": [
    {
     "name": "stdout",
     "output_type": "stream",
     "text": [
      "Binary: Student History Grades\n",
      "\n",
      "{'criterion': 'gini', 'max_features': 'auto', 'n_estimators': 100}\n",
      "{'criterion': 'entropy', 'max_features': 'auto', 'n_estimators': 100}\n",
      "{'criterion': 'gini', 'max_features': 'auto', 'n_estimators': 200}\n"
     ]
    }
   ],
   "source": [
    "print(\"Binary: Student History Grades\\n\")\n",
    "for x in dfB_SHG_ROS[\"Best Param\"]:\n",
    "    print(x)"
   ]
  },
  {
   "cell_type": "markdown",
   "id": "6f510696-77af-44f4-87ae-90c4a292f2f8",
   "metadata": {},
   "source": [
    "### SHG after SMOTE"
   ]
  },
  {
   "cell_type": "code",
   "execution_count": 19,
   "id": "f6627841-ba8e-4c48-8643-da65d7282b88",
   "metadata": {},
   "outputs": [
    {
     "name": "stdout",
     "output_type": "stream",
     "text": [
      "Fitting 10 folds for each of 24 candidates, totalling 240 fits\n"
     ]
    },
    {
     "name": "stderr",
     "output_type": "stream",
     "text": [
      "C:\\Users\\hazel\\anaconda3\\Lib\\site-packages\\sklearn\\model_selection\\_search.py:909: DataConversionWarning: A column-vector y was passed when a 1d array was expected. Please change the shape of y to (n_samples,), for example using ravel().\n",
      "  self.best_estimator_.fit(X, y, **fit_params)\n",
      "C:\\Users\\hazel\\anaconda3\\Lib\\site-packages\\sklearn\\ensemble\\_forest.py:424: FutureWarning: `max_features='auto'` has been deprecated in 1.1 and will be removed in 1.3. To keep the past behaviour, explicitly set `max_features='sqrt'` or remove this parameter as it is also the default value for RandomForestClassifiers and ExtraTreesClassifiers.\n",
      "  warn(\n"
     ]
    },
    {
     "name": "stdout",
     "output_type": "stream",
     "text": [
      "Fitting 10 folds for each of 24 candidates, totalling 240 fits\n"
     ]
    },
    {
     "name": "stderr",
     "output_type": "stream",
     "text": [
      "C:\\Users\\hazel\\anaconda3\\Lib\\site-packages\\sklearn\\model_selection\\_search.py:909: DataConversionWarning: A column-vector y was passed when a 1d array was expected. Please change the shape of y to (n_samples,), for example using ravel().\n",
      "  self.best_estimator_.fit(X, y, **fit_params)\n",
      "C:\\Users\\hazel\\anaconda3\\Lib\\site-packages\\sklearn\\ensemble\\_forest.py:424: FutureWarning: `max_features='auto'` has been deprecated in 1.1 and will be removed in 1.3. To keep the past behaviour, explicitly set `max_features='sqrt'` or remove this parameter as it is also the default value for RandomForestClassifiers and ExtraTreesClassifiers.\n",
      "  warn(\n"
     ]
    },
    {
     "name": "stdout",
     "output_type": "stream",
     "text": [
      "Fitting 10 folds for each of 24 candidates, totalling 240 fits\n"
     ]
    },
    {
     "name": "stderr",
     "output_type": "stream",
     "text": [
      "C:\\Users\\hazel\\anaconda3\\Lib\\site-packages\\sklearn\\model_selection\\_search.py:909: DataConversionWarning: A column-vector y was passed when a 1d array was expected. Please change the shape of y to (n_samples,), for example using ravel().\n",
      "  self.best_estimator_.fit(X, y, **fit_params)\n",
      "C:\\Users\\hazel\\anaconda3\\Lib\\site-packages\\sklearn\\ensemble\\_forest.py:424: FutureWarning: `max_features='auto'` has been deprecated in 1.1 and will be removed in 1.3. To keep the past behaviour, explicitly set `max_features='sqrt'` or remove this parameter as it is also the default value for RandomForestClassifiers and ExtraTreesClassifiers.\n",
      "  warn(\n"
     ]
    },
    {
     "data": {
      "text/html": [
       "<div>\n",
       "<style scoped>\n",
       "    .dataframe tbody tr th:only-of-type {\n",
       "        vertical-align: middle;\n",
       "    }\n",
       "\n",
       "    .dataframe tbody tr th {\n",
       "        vertical-align: top;\n",
       "    }\n",
       "\n",
       "    .dataframe thead th {\n",
       "        text-align: right;\n",
       "    }\n",
       "</style>\n",
       "<table border=\"1\" class=\"dataframe\">\n",
       "  <thead>\n",
       "    <tr style=\"text-align: right;\">\n",
       "      <th></th>\n",
       "      <th>Test Size</th>\n",
       "      <th>Random State</th>\n",
       "      <th>Accuracy</th>\n",
       "      <th>Precision</th>\n",
       "      <th>Recall</th>\n",
       "      <th>F1 Score</th>\n",
       "      <th>Best Param</th>\n",
       "    </tr>\n",
       "  </thead>\n",
       "  <tbody>\n",
       "    <tr>\n",
       "      <th>0</th>\n",
       "      <td>100</td>\n",
       "      <td>7</td>\n",
       "      <td>0.659734</td>\n",
       "      <td>0.749896</td>\n",
       "      <td>0.659734</td>\n",
       "      <td>0.625999</td>\n",
       "      <td>{'criterion': 'gini', 'max_features': 'auto', ...</td>\n",
       "    </tr>\n",
       "    <tr>\n",
       "      <th>1</th>\n",
       "      <td>100</td>\n",
       "      <td>69</td>\n",
       "      <td>0.657238</td>\n",
       "      <td>0.748331</td>\n",
       "      <td>0.657238</td>\n",
       "      <td>0.622631</td>\n",
       "      <td>{'criterion': 'gini', 'max_features': 'auto', ...</td>\n",
       "    </tr>\n",
       "    <tr>\n",
       "      <th>2</th>\n",
       "      <td>100</td>\n",
       "      <td>101</td>\n",
       "      <td>0.659734</td>\n",
       "      <td>0.749896</td>\n",
       "      <td>0.659734</td>\n",
       "      <td>0.625999</td>\n",
       "      <td>{'criterion': 'gini', 'max_features': 'auto', ...</td>\n",
       "    </tr>\n",
       "  </tbody>\n",
       "</table>\n",
       "</div>"
      ],
      "text/plain": [
       "   Test Size  Random State  Accuracy  Precision    Recall  F1 Score  \\\n",
       "0        100             7  0.659734   0.749896  0.659734  0.625999   \n",
       "1        100            69  0.657238   0.748331  0.657238  0.622631   \n",
       "2        100           101  0.659734   0.749896  0.659734  0.625999   \n",
       "\n",
       "                                          Best Param  \n",
       "0  {'criterion': 'gini', 'max_features': 'auto', ...  \n",
       "1  {'criterion': 'gini', 'max_features': 'auto', ...  \n",
       "2  {'criterion': 'gini', 'max_features': 'auto', ...  "
      ]
     },
     "execution_count": 19,
     "metadata": {},
     "output_type": "execute_result"
    }
   ],
   "source": [
    "tempB_SHG_SMOTE = []\n",
    "\n",
    "y_train = df1_B_SMOTE[['CGPA']]\n",
    "X_train = df1_B_SMOTE[['Number of Subjects Failed','SPM Result (A)','SPM Result (B)','SPM Result (C)']]\n",
    "\n",
    "y_test = df2_B_SMOTE[['CGPA']]\n",
    "X_test = df2_B_SMOTE[['Number of Subjects Failed','SPM Result (A)','SPM Result (B)','SPM Result (C)']]\n",
    "\n",
    "for j in rand_states:\n",
    "    param_grid = {'n_estimators': [100, 200, 300, 400],\n",
    "                  'max_features': ['auto', 'sqrt', 'log2'],\n",
    "                  'criterion' :['gini', 'entropy']}\n",
    "\n",
    "    model = GridSearchCV(RandomForestClassifier(), param_grid, refit=True, n_jobs=-1, cv=10, verbose=1)\n",
    "    model.fit(X_train, y_train)\n",
    "    pred = model.predict(X_test)\n",
    "\n",
    "    acc = accuracy_score(y_test,pred)\n",
    "    pre = precision_score(y_test, pred, average='weighted')\n",
    "    recall = recall_score(y_test, pred, average='weighted')\n",
    "    f1 = f1_score(y_test, pred, average='weighted')\n",
    "    param = model.best_params_\n",
    "\n",
    "    tempB_SHG_SMOTE.append([100,j,acc,pre,recall,f1,param])\n",
    "        \n",
    "dfB_SHG_SMOTE = pd.DataFrame(columns=['Test Size','Random State','Accuracy','Precision','Recall','F1 Score','Best Param'],data=tempB_SHG_SMOTE)\n",
    "dfB_SHG_SMOTE"
   ]
  },
  {
   "cell_type": "code",
   "execution_count": 20,
   "id": "f23d4665-f62b-441d-9d8f-1696e350f097",
   "metadata": {},
   "outputs": [
    {
     "data": {
      "text/html": [
       "<div>\n",
       "<style scoped>\n",
       "    .dataframe tbody tr th:only-of-type {\n",
       "        vertical-align: middle;\n",
       "    }\n",
       "\n",
       "    .dataframe tbody tr th {\n",
       "        vertical-align: top;\n",
       "    }\n",
       "\n",
       "    .dataframe thead th {\n",
       "        text-align: right;\n",
       "    }\n",
       "</style>\n",
       "<table border=\"1\" class=\"dataframe\">\n",
       "  <thead>\n",
       "    <tr style=\"text-align: right;\">\n",
       "      <th></th>\n",
       "      <th>Accuracy</th>\n",
       "      <th>Precision</th>\n",
       "      <th>Recall</th>\n",
       "      <th>F1 Score</th>\n",
       "    </tr>\n",
       "    <tr>\n",
       "      <th>Test Size</th>\n",
       "      <th></th>\n",
       "      <th></th>\n",
       "      <th></th>\n",
       "      <th></th>\n",
       "    </tr>\n",
       "  </thead>\n",
       "  <tbody>\n",
       "    <tr>\n",
       "      <th>100</th>\n",
       "      <td>0.658902</td>\n",
       "      <td>0.749374</td>\n",
       "      <td>0.658902</td>\n",
       "      <td>0.624876</td>\n",
       "    </tr>\n",
       "  </tbody>\n",
       "</table>\n",
       "</div>"
      ],
      "text/plain": [
       "           Accuracy  Precision    Recall  F1 Score\n",
       "Test Size                                         \n",
       "100        0.658902   0.749374  0.658902  0.624876"
      ]
     },
     "execution_count": 20,
     "metadata": {},
     "output_type": "execute_result"
    }
   ],
   "source": [
    "dfB_SHG_SMOTE.groupby('Test Size')[['Accuracy','Precision','Recall','F1 Score']].mean()"
   ]
  },
  {
   "cell_type": "code",
   "execution_count": 21,
   "id": "3fc2bec8-3150-48cd-85da-4f17351613b2",
   "metadata": {},
   "outputs": [
    {
     "name": "stdout",
     "output_type": "stream",
     "text": [
      "SMOTE Binary: Student History Grades\n",
      "\n",
      "{'criterion': 'gini', 'max_features': 'auto', 'n_estimators': 200}\n",
      "{'criterion': 'gini', 'max_features': 'auto', 'n_estimators': 100}\n",
      "{'criterion': 'gini', 'max_features': 'auto', 'n_estimators': 200}\n"
     ]
    }
   ],
   "source": [
    "print(\"SMOTE Binary: Student History Grades\\n\")\n",
    "for x in dfB_SHG_SMOTE[\"Best Param\"]:\n",
    "    print(x)"
   ]
  },
  {
   "cell_type": "markdown",
   "id": "e6fdb4f0-49d2-4d61-9140-6f39aa7d947a",
   "metadata": {},
   "source": [
    "## Student Opinion Towards MMU Environment "
   ]
  },
  {
   "cell_type": "markdown",
   "id": "500c17a6-ce32-49b7-967b-80319ac61af2",
   "metadata": {},
   "source": [
    "### SOTME before Data Balancing"
   ]
  },
  {
   "cell_type": "code",
   "execution_count": 22,
   "id": "81093561-f320-43ac-89cd-0da59c499030",
   "metadata": {},
   "outputs": [
    {
     "name": "stdout",
     "output_type": "stream",
     "text": [
      "Fitting 10 folds for each of 24 candidates, totalling 240 fits\n"
     ]
    },
    {
     "name": "stderr",
     "output_type": "stream",
     "text": [
      "C:\\Users\\hazel\\anaconda3\\Lib\\site-packages\\sklearn\\model_selection\\_split.py:700: UserWarning: The least populated class in y has only 4 members, which is less than n_splits=10.\n",
      "  warnings.warn(\n",
      "C:\\Users\\hazel\\anaconda3\\Lib\\site-packages\\sklearn\\model_selection\\_search.py:909: DataConversionWarning: A column-vector y was passed when a 1d array was expected. Please change the shape of y to (n_samples,), for example using ravel().\n",
      "  self.best_estimator_.fit(X, y, **fit_params)\n",
      "C:\\Users\\hazel\\anaconda3\\Lib\\site-packages\\sklearn\\ensemble\\_forest.py:424: FutureWarning: `max_features='auto'` has been deprecated in 1.1 and will be removed in 1.3. To keep the past behaviour, explicitly set `max_features='sqrt'` or remove this parameter as it is also the default value for RandomForestClassifiers and ExtraTreesClassifiers.\n",
      "  warn(\n",
      "C:\\Users\\hazel\\anaconda3\\Lib\\site-packages\\sklearn\\metrics\\_classification.py:1344: UndefinedMetricWarning: Precision is ill-defined and being set to 0.0 in labels with no predicted samples. Use `zero_division` parameter to control this behavior.\n",
      "  _warn_prf(average, modifier, msg_start, len(result))\n",
      "C:\\Users\\hazel\\anaconda3\\Lib\\site-packages\\sklearn\\model_selection\\_split.py:700: UserWarning: The least populated class in y has only 4 members, which is less than n_splits=10.\n",
      "  warnings.warn(\n"
     ]
    },
    {
     "name": "stdout",
     "output_type": "stream",
     "text": [
      "Fitting 10 folds for each of 24 candidates, totalling 240 fits\n"
     ]
    },
    {
     "name": "stderr",
     "output_type": "stream",
     "text": [
      "C:\\Users\\hazel\\anaconda3\\Lib\\site-packages\\sklearn\\model_selection\\_search.py:909: DataConversionWarning: A column-vector y was passed when a 1d array was expected. Please change the shape of y to (n_samples,), for example using ravel().\n",
      "  self.best_estimator_.fit(X, y, **fit_params)\n",
      "C:\\Users\\hazel\\anaconda3\\Lib\\site-packages\\sklearn\\ensemble\\_forest.py:424: FutureWarning: `max_features='auto'` has been deprecated in 1.1 and will be removed in 1.3. To keep the past behaviour, explicitly set `max_features='sqrt'` or remove this parameter as it is also the default value for RandomForestClassifiers and ExtraTreesClassifiers.\n",
      "  warn(\n",
      "C:\\Users\\hazel\\anaconda3\\Lib\\site-packages\\sklearn\\metrics\\_classification.py:1344: UndefinedMetricWarning: Precision is ill-defined and being set to 0.0 in labels with no predicted samples. Use `zero_division` parameter to control this behavior.\n",
      "  _warn_prf(average, modifier, msg_start, len(result))\n",
      "C:\\Users\\hazel\\anaconda3\\Lib\\site-packages\\sklearn\\model_selection\\_split.py:700: UserWarning: The least populated class in y has only 4 members, which is less than n_splits=10.\n",
      "  warnings.warn(\n"
     ]
    },
    {
     "name": "stdout",
     "output_type": "stream",
     "text": [
      "Fitting 10 folds for each of 24 candidates, totalling 240 fits\n"
     ]
    },
    {
     "name": "stderr",
     "output_type": "stream",
     "text": [
      "C:\\Users\\hazel\\anaconda3\\Lib\\site-packages\\sklearn\\model_selection\\_search.py:909: DataConversionWarning: A column-vector y was passed when a 1d array was expected. Please change the shape of y to (n_samples,), for example using ravel().\n",
      "  self.best_estimator_.fit(X, y, **fit_params)\n",
      "C:\\Users\\hazel\\anaconda3\\Lib\\site-packages\\sklearn\\ensemble\\_forest.py:424: FutureWarning: `max_features='auto'` has been deprecated in 1.1 and will be removed in 1.3. To keep the past behaviour, explicitly set `max_features='sqrt'` or remove this parameter as it is also the default value for RandomForestClassifiers and ExtraTreesClassifiers.\n",
      "  warn(\n",
      "C:\\Users\\hazel\\anaconda3\\Lib\\site-packages\\sklearn\\metrics\\_classification.py:1344: UndefinedMetricWarning: Precision is ill-defined and being set to 0.0 in labels with no predicted samples. Use `zero_division` parameter to control this behavior.\n",
      "  _warn_prf(average, modifier, msg_start, len(result))\n"
     ]
    },
    {
     "data": {
      "text/html": [
       "<div>\n",
       "<style scoped>\n",
       "    .dataframe tbody tr th:only-of-type {\n",
       "        vertical-align: middle;\n",
       "    }\n",
       "\n",
       "    .dataframe tbody tr th {\n",
       "        vertical-align: top;\n",
       "    }\n",
       "\n",
       "    .dataframe thead th {\n",
       "        text-align: right;\n",
       "    }\n",
       "</style>\n",
       "<table border=\"1\" class=\"dataframe\">\n",
       "  <thead>\n",
       "    <tr style=\"text-align: right;\">\n",
       "      <th></th>\n",
       "      <th>Test Size</th>\n",
       "      <th>Random State</th>\n",
       "      <th>Accuracy</th>\n",
       "      <th>Precision</th>\n",
       "      <th>Recall</th>\n",
       "      <th>F1 Score</th>\n",
       "      <th>Best Param</th>\n",
       "    </tr>\n",
       "  </thead>\n",
       "  <tbody>\n",
       "    <tr>\n",
       "      <th>0</th>\n",
       "      <td>100</td>\n",
       "      <td>7</td>\n",
       "      <td>0.978827</td>\n",
       "      <td>0.958103</td>\n",
       "      <td>0.978827</td>\n",
       "      <td>0.968354</td>\n",
       "      <td>{'criterion': 'gini', 'max_features': 'auto', ...</td>\n",
       "    </tr>\n",
       "    <tr>\n",
       "      <th>1</th>\n",
       "      <td>100</td>\n",
       "      <td>69</td>\n",
       "      <td>0.978827</td>\n",
       "      <td>0.958103</td>\n",
       "      <td>0.978827</td>\n",
       "      <td>0.968354</td>\n",
       "      <td>{'criterion': 'gini', 'max_features': 'auto', ...</td>\n",
       "    </tr>\n",
       "    <tr>\n",
       "      <th>2</th>\n",
       "      <td>100</td>\n",
       "      <td>101</td>\n",
       "      <td>0.978827</td>\n",
       "      <td>0.958103</td>\n",
       "      <td>0.978827</td>\n",
       "      <td>0.968354</td>\n",
       "      <td>{'criterion': 'gini', 'max_features': 'auto', ...</td>\n",
       "    </tr>\n",
       "  </tbody>\n",
       "</table>\n",
       "</div>"
      ],
      "text/plain": [
       "   Test Size  Random State  Accuracy  Precision    Recall  F1 Score  \\\n",
       "0        100             7  0.978827   0.958103  0.978827  0.968354   \n",
       "1        100            69  0.978827   0.958103  0.978827  0.968354   \n",
       "2        100           101  0.978827   0.958103  0.978827  0.968354   \n",
       "\n",
       "                                          Best Param  \n",
       "0  {'criterion': 'gini', 'max_features': 'auto', ...  \n",
       "1  {'criterion': 'gini', 'max_features': 'auto', ...  \n",
       "2  {'criterion': 'gini', 'max_features': 'auto', ...  "
      ]
     },
     "execution_count": 22,
     "metadata": {},
     "output_type": "execute_result"
    }
   ],
   "source": [
    "tempB_SOTME_imb = []\n",
    "\n",
    "y_train = df1_B_imb[['CGPA']]\n",
    "X_train = df1_B_imb[['Reason Study at Multimedia University', 'Lecture Class Capacity','Tutorial Class Capacity', \n",
    "                     'Classroom Facilities', 'Campus Environment']]\n",
    "\n",
    "y_test = df2_B_imb[['CGPA']]\n",
    "X_test = df2_B_imb[['Reason Study at Multimedia University', 'Lecture Class Capacity','Tutorial Class Capacity', \n",
    "                     'Classroom Facilities', 'Campus Environment']]\n",
    "\n",
    "for j in rand_states:\n",
    "    param_grid = {'n_estimators': [100, 200, 300, 400],\n",
    "                  'max_features': ['auto', 'sqrt', 'log2'],\n",
    "                  'criterion' :['gini', 'entropy']}\n",
    "\n",
    "    model = GridSearchCV(RandomForestClassifier(), param_grid, refit=True, n_jobs=-1, cv=10, verbose=1)\n",
    "    model.fit(X_train, y_train)\n",
    "    pred = model.predict(X_test)\n",
    "\n",
    "    acc = accuracy_score(y_test,pred)\n",
    "    pre = precision_score(y_test, pred, average='weighted')\n",
    "    recall = recall_score(y_test, pred, average='weighted')\n",
    "    f1 = f1_score(y_test, pred, average='weighted')\n",
    "    param = model.best_params_\n",
    "\n",
    "    tempB_SOTME_imb.append([100,j,acc,pre,recall,f1,param])\n",
    "        \n",
    "dfB_SOTME_imb = pd.DataFrame(columns=['Test Size','Random State','Accuracy','Precision','Recall','F1 Score','Best Param'],data=tempB_SOTME_imb)\n",
    "dfB_SOTME_imb"
   ]
  },
  {
   "cell_type": "code",
   "execution_count": 23,
   "id": "6ac99721-3362-4868-9fe8-82c6e2b9c8bd",
   "metadata": {},
   "outputs": [
    {
     "data": {
      "text/html": [
       "<div>\n",
       "<style scoped>\n",
       "    .dataframe tbody tr th:only-of-type {\n",
       "        vertical-align: middle;\n",
       "    }\n",
       "\n",
       "    .dataframe tbody tr th {\n",
       "        vertical-align: top;\n",
       "    }\n",
       "\n",
       "    .dataframe thead th {\n",
       "        text-align: right;\n",
       "    }\n",
       "</style>\n",
       "<table border=\"1\" class=\"dataframe\">\n",
       "  <thead>\n",
       "    <tr style=\"text-align: right;\">\n",
       "      <th></th>\n",
       "      <th>Accuracy</th>\n",
       "      <th>Precision</th>\n",
       "      <th>Recall</th>\n",
       "      <th>F1 Score</th>\n",
       "    </tr>\n",
       "    <tr>\n",
       "      <th>Test Size</th>\n",
       "      <th></th>\n",
       "      <th></th>\n",
       "      <th></th>\n",
       "      <th></th>\n",
       "    </tr>\n",
       "  </thead>\n",
       "  <tbody>\n",
       "    <tr>\n",
       "      <th>100</th>\n",
       "      <td>0.978827</td>\n",
       "      <td>0.958103</td>\n",
       "      <td>0.978827</td>\n",
       "      <td>0.968354</td>\n",
       "    </tr>\n",
       "  </tbody>\n",
       "</table>\n",
       "</div>"
      ],
      "text/plain": [
       "           Accuracy  Precision    Recall  F1 Score\n",
       "Test Size                                         \n",
       "100        0.978827   0.958103  0.978827  0.968354"
      ]
     },
     "execution_count": 23,
     "metadata": {},
     "output_type": "execute_result"
    }
   ],
   "source": [
    "dfB_SOTME_imb.groupby('Test Size')[['Accuracy','Precision','Recall','F1 Score']].mean()"
   ]
  },
  {
   "cell_type": "code",
   "execution_count": 24,
   "id": "05f49035-b565-4d56-b2d8-7c51b0c14b37",
   "metadata": {},
   "outputs": [
    {
     "name": "stdout",
     "output_type": "stream",
     "text": [
      "Imbalance Binary: Student Opinion Towards MMU Environment\n",
      "\n",
      "{'criterion': 'gini', 'max_features': 'auto', 'n_estimators': 100}\n",
      "{'criterion': 'gini', 'max_features': 'auto', 'n_estimators': 100}\n",
      "{'criterion': 'gini', 'max_features': 'auto', 'n_estimators': 100}\n"
     ]
    }
   ],
   "source": [
    "print(\"Imbalance Binary: Student Opinion Towards MMU Environment\\n\")\n",
    "for x in dfB_SOTME_imb[\"Best Param\"]:\n",
    "    print(x)"
   ]
  },
  {
   "cell_type": "markdown",
   "id": "101e937d-7af9-452e-80ee-54dd64629d51",
   "metadata": {},
   "source": [
    "### SOTME after RandomOverSampler"
   ]
  },
  {
   "cell_type": "code",
   "execution_count": 25,
   "id": "6d6a2bbc-a503-4b68-b487-1a8852bf60b0",
   "metadata": {},
   "outputs": [
    {
     "name": "stdout",
     "output_type": "stream",
     "text": [
      "Fitting 10 folds for each of 24 candidates, totalling 240 fits\n"
     ]
    },
    {
     "name": "stderr",
     "output_type": "stream",
     "text": [
      "C:\\Users\\hazel\\anaconda3\\Lib\\site-packages\\sklearn\\model_selection\\_search.py:909: DataConversionWarning: A column-vector y was passed when a 1d array was expected. Please change the shape of y to (n_samples,), for example using ravel().\n",
      "  self.best_estimator_.fit(X, y, **fit_params)\n",
      "C:\\Users\\hazel\\anaconda3\\Lib\\site-packages\\sklearn\\ensemble\\_forest.py:424: FutureWarning: `max_features='auto'` has been deprecated in 1.1 and will be removed in 1.3. To keep the past behaviour, explicitly set `max_features='sqrt'` or remove this parameter as it is also the default value for RandomForestClassifiers and ExtraTreesClassifiers.\n",
      "  warn(\n"
     ]
    },
    {
     "name": "stdout",
     "output_type": "stream",
     "text": [
      "Fitting 10 folds for each of 24 candidates, totalling 240 fits\n"
     ]
    },
    {
     "name": "stderr",
     "output_type": "stream",
     "text": [
      "C:\\Users\\hazel\\anaconda3\\Lib\\site-packages\\sklearn\\model_selection\\_search.py:909: DataConversionWarning: A column-vector y was passed when a 1d array was expected. Please change the shape of y to (n_samples,), for example using ravel().\n",
      "  self.best_estimator_.fit(X, y, **fit_params)\n",
      "C:\\Users\\hazel\\anaconda3\\Lib\\site-packages\\sklearn\\ensemble\\_forest.py:424: FutureWarning: `max_features='auto'` has been deprecated in 1.1 and will be removed in 1.3. To keep the past behaviour, explicitly set `max_features='sqrt'` or remove this parameter as it is also the default value for RandomForestClassifiers and ExtraTreesClassifiers.\n",
      "  warn(\n"
     ]
    },
    {
     "name": "stdout",
     "output_type": "stream",
     "text": [
      "Fitting 10 folds for each of 24 candidates, totalling 240 fits\n"
     ]
    },
    {
     "name": "stderr",
     "output_type": "stream",
     "text": [
      "C:\\Users\\hazel\\anaconda3\\Lib\\site-packages\\sklearn\\model_selection\\_search.py:909: DataConversionWarning: A column-vector y was passed when a 1d array was expected. Please change the shape of y to (n_samples,), for example using ravel().\n",
      "  self.best_estimator_.fit(X, y, **fit_params)\n",
      "C:\\Users\\hazel\\anaconda3\\Lib\\site-packages\\sklearn\\ensemble\\_forest.py:424: FutureWarning: `max_features='auto'` has been deprecated in 1.1 and will be removed in 1.3. To keep the past behaviour, explicitly set `max_features='sqrt'` or remove this parameter as it is also the default value for RandomForestClassifiers and ExtraTreesClassifiers.\n",
      "  warn(\n"
     ]
    },
    {
     "data": {
      "text/html": [
       "<div>\n",
       "<style scoped>\n",
       "    .dataframe tbody tr th:only-of-type {\n",
       "        vertical-align: middle;\n",
       "    }\n",
       "\n",
       "    .dataframe tbody tr th {\n",
       "        vertical-align: top;\n",
       "    }\n",
       "\n",
       "    .dataframe thead th {\n",
       "        text-align: right;\n",
       "    }\n",
       "</style>\n",
       "<table border=\"1\" class=\"dataframe\">\n",
       "  <thead>\n",
       "    <tr style=\"text-align: right;\">\n",
       "      <th></th>\n",
       "      <th>Test Size</th>\n",
       "      <th>Random State</th>\n",
       "      <th>Accuracy</th>\n",
       "      <th>Precision</th>\n",
       "      <th>Recall</th>\n",
       "      <th>F1 Score</th>\n",
       "      <th>Best Param</th>\n",
       "    </tr>\n",
       "  </thead>\n",
       "  <tbody>\n",
       "    <tr>\n",
       "      <th>0</th>\n",
       "      <td>100</td>\n",
       "      <td>7</td>\n",
       "      <td>0.499168</td>\n",
       "      <td>0.249792</td>\n",
       "      <td>0.499168</td>\n",
       "      <td>0.332963</td>\n",
       "      <td>{'criterion': 'gini', 'max_features': 'auto', ...</td>\n",
       "    </tr>\n",
       "    <tr>\n",
       "      <th>1</th>\n",
       "      <td>100</td>\n",
       "      <td>69</td>\n",
       "      <td>0.499168</td>\n",
       "      <td>0.249792</td>\n",
       "      <td>0.499168</td>\n",
       "      <td>0.332963</td>\n",
       "      <td>{'criterion': 'gini', 'max_features': 'auto', ...</td>\n",
       "    </tr>\n",
       "    <tr>\n",
       "      <th>2</th>\n",
       "      <td>100</td>\n",
       "      <td>101</td>\n",
       "      <td>0.499168</td>\n",
       "      <td>0.249792</td>\n",
       "      <td>0.499168</td>\n",
       "      <td>0.332963</td>\n",
       "      <td>{'criterion': 'gini', 'max_features': 'auto', ...</td>\n",
       "    </tr>\n",
       "  </tbody>\n",
       "</table>\n",
       "</div>"
      ],
      "text/plain": [
       "   Test Size  Random State  Accuracy  Precision    Recall  F1 Score  \\\n",
       "0        100             7  0.499168   0.249792  0.499168  0.332963   \n",
       "1        100            69  0.499168   0.249792  0.499168  0.332963   \n",
       "2        100           101  0.499168   0.249792  0.499168  0.332963   \n",
       "\n",
       "                                          Best Param  \n",
       "0  {'criterion': 'gini', 'max_features': 'auto', ...  \n",
       "1  {'criterion': 'gini', 'max_features': 'auto', ...  \n",
       "2  {'criterion': 'gini', 'max_features': 'auto', ...  "
      ]
     },
     "execution_count": 25,
     "metadata": {},
     "output_type": "execute_result"
    }
   ],
   "source": [
    "tempB_SOTME_ROS = []\n",
    "\n",
    "y_train = df1_B_ROS[['CGPA']]\n",
    "X_train = df1_B_ROS[['Reason Study at Multimedia University', 'Lecture Class Capacity','Tutorial Class Capacity', \n",
    "                     'Classroom Facilities', 'Campus Environment']]\n",
    "\n",
    "y_test = df2_B_ROS[['CGPA']]\n",
    "X_test = df2_B_ROS[['Reason Study at Multimedia University', 'Lecture Class Capacity','Tutorial Class Capacity', \n",
    "                     'Classroom Facilities', 'Campus Environment']]\n",
    "\n",
    "for j in rand_states:\n",
    "    param_grid = {'n_estimators': [100, 200, 300, 400],\n",
    "                  'max_features': ['auto', 'sqrt', 'log2'],\n",
    "                  'criterion' :['gini', 'entropy']}\n",
    "\n",
    "    model = GridSearchCV(RandomForestClassifier(), param_grid, refit=True, n_jobs=-1, cv=10, verbose=1)\n",
    "    model.fit(X_train, y_train)\n",
    "    pred = model.predict(X_test)\n",
    "\n",
    "    acc = accuracy_score(y_test,pred)\n",
    "    pre = precision_score(y_test, pred, average='weighted')\n",
    "    recall = recall_score(y_test, pred, average='weighted')\n",
    "    f1 = f1_score(y_test, pred, average='weighted')\n",
    "    param = model.best_params_\n",
    "\n",
    "    tempB_SOTME_ROS.append([100,j,acc,pre,recall,f1,param])\n",
    "        \n",
    "dfB_SOTME_ROS = pd.DataFrame(columns=['Test Size','Random State','Accuracy','Precision','Recall','F1 Score','Best Param'],data=tempB_SOTME_ROS)\n",
    "dfB_SOTME_ROS"
   ]
  },
  {
   "cell_type": "code",
   "execution_count": 26,
   "id": "41244b0f-c82c-4dd7-938e-374ad3573973",
   "metadata": {},
   "outputs": [
    {
     "data": {
      "text/html": [
       "<div>\n",
       "<style scoped>\n",
       "    .dataframe tbody tr th:only-of-type {\n",
       "        vertical-align: middle;\n",
       "    }\n",
       "\n",
       "    .dataframe tbody tr th {\n",
       "        vertical-align: top;\n",
       "    }\n",
       "\n",
       "    .dataframe thead th {\n",
       "        text-align: right;\n",
       "    }\n",
       "</style>\n",
       "<table border=\"1\" class=\"dataframe\">\n",
       "  <thead>\n",
       "    <tr style=\"text-align: right;\">\n",
       "      <th></th>\n",
       "      <th>Accuracy</th>\n",
       "      <th>Precision</th>\n",
       "      <th>Recall</th>\n",
       "      <th>F1 Score</th>\n",
       "    </tr>\n",
       "    <tr>\n",
       "      <th>Test Size</th>\n",
       "      <th></th>\n",
       "      <th></th>\n",
       "      <th></th>\n",
       "      <th></th>\n",
       "    </tr>\n",
       "  </thead>\n",
       "  <tbody>\n",
       "    <tr>\n",
       "      <th>100</th>\n",
       "      <td>0.499168</td>\n",
       "      <td>0.249792</td>\n",
       "      <td>0.499168</td>\n",
       "      <td>0.332963</td>\n",
       "    </tr>\n",
       "  </tbody>\n",
       "</table>\n",
       "</div>"
      ],
      "text/plain": [
       "           Accuracy  Precision    Recall  F1 Score\n",
       "Test Size                                         \n",
       "100        0.499168   0.249792  0.499168  0.332963"
      ]
     },
     "execution_count": 26,
     "metadata": {},
     "output_type": "execute_result"
    }
   ],
   "source": [
    "dfB_SOTME_ROS.groupby('Test Size')[['Accuracy','Precision','Recall','F1 Score']].mean()"
   ]
  },
  {
   "cell_type": "code",
   "execution_count": 27,
   "id": "7841bec0-2f3e-4003-a07d-b223d246331e",
   "metadata": {},
   "outputs": [
    {
     "name": "stdout",
     "output_type": "stream",
     "text": [
      "Binary: Student Opinion Towards MMU Environment\n",
      "\n",
      "{'criterion': 'gini', 'max_features': 'auto', 'n_estimators': 100}\n",
      "{'criterion': 'gini', 'max_features': 'auto', 'n_estimators': 100}\n",
      "{'criterion': 'gini', 'max_features': 'auto', 'n_estimators': 100}\n"
     ]
    }
   ],
   "source": [
    "print(\"Binary: Student Opinion Towards MMU Environment\\n\")\n",
    "for x in dfB_SOTME_ROS[\"Best Param\"]:\n",
    "    print(x)"
   ]
  },
  {
   "cell_type": "markdown",
   "id": "1644a878-96e0-4a22-804c-da824cd6be46",
   "metadata": {},
   "source": [
    "### SOTME after SMOTE"
   ]
  },
  {
   "cell_type": "code",
   "execution_count": 28,
   "id": "ddd87f04-8a62-4ccf-b76d-e2457530c6c3",
   "metadata": {},
   "outputs": [
    {
     "name": "stdout",
     "output_type": "stream",
     "text": [
      "Fitting 10 folds for each of 24 candidates, totalling 240 fits\n"
     ]
    },
    {
     "name": "stderr",
     "output_type": "stream",
     "text": [
      "C:\\Users\\hazel\\anaconda3\\Lib\\site-packages\\sklearn\\model_selection\\_search.py:909: DataConversionWarning: A column-vector y was passed when a 1d array was expected. Please change the shape of y to (n_samples,), for example using ravel().\n",
      "  self.best_estimator_.fit(X, y, **fit_params)\n"
     ]
    },
    {
     "name": "stdout",
     "output_type": "stream",
     "text": [
      "Fitting 10 folds for each of 24 candidates, totalling 240 fits\n"
     ]
    },
    {
     "name": "stderr",
     "output_type": "stream",
     "text": [
      "C:\\Users\\hazel\\anaconda3\\Lib\\site-packages\\sklearn\\model_selection\\_search.py:909: DataConversionWarning: A column-vector y was passed when a 1d array was expected. Please change the shape of y to (n_samples,), for example using ravel().\n",
      "  self.best_estimator_.fit(X, y, **fit_params)\n",
      "C:\\Users\\hazel\\anaconda3\\Lib\\site-packages\\sklearn\\ensemble\\_forest.py:424: FutureWarning: `max_features='auto'` has been deprecated in 1.1 and will be removed in 1.3. To keep the past behaviour, explicitly set `max_features='sqrt'` or remove this parameter as it is also the default value for RandomForestClassifiers and ExtraTreesClassifiers.\n",
      "  warn(\n"
     ]
    },
    {
     "name": "stdout",
     "output_type": "stream",
     "text": [
      "Fitting 10 folds for each of 24 candidates, totalling 240 fits\n"
     ]
    },
    {
     "name": "stderr",
     "output_type": "stream",
     "text": [
      "C:\\Users\\hazel\\anaconda3\\Lib\\site-packages\\sklearn\\model_selection\\_search.py:909: DataConversionWarning: A column-vector y was passed when a 1d array was expected. Please change the shape of y to (n_samples,), for example using ravel().\n",
      "  self.best_estimator_.fit(X, y, **fit_params)\n",
      "C:\\Users\\hazel\\anaconda3\\Lib\\site-packages\\sklearn\\ensemble\\_forest.py:424: FutureWarning: `max_features='auto'` has been deprecated in 1.1 and will be removed in 1.3. To keep the past behaviour, explicitly set `max_features='sqrt'` or remove this parameter as it is also the default value for RandomForestClassifiers and ExtraTreesClassifiers.\n",
      "  warn(\n"
     ]
    },
    {
     "data": {
      "text/html": [
       "<div>\n",
       "<style scoped>\n",
       "    .dataframe tbody tr th:only-of-type {\n",
       "        vertical-align: middle;\n",
       "    }\n",
       "\n",
       "    .dataframe tbody tr th {\n",
       "        vertical-align: top;\n",
       "    }\n",
       "\n",
       "    .dataframe thead th {\n",
       "        text-align: right;\n",
       "    }\n",
       "</style>\n",
       "<table border=\"1\" class=\"dataframe\">\n",
       "  <thead>\n",
       "    <tr style=\"text-align: right;\">\n",
       "      <th></th>\n",
       "      <th>Test Size</th>\n",
       "      <th>Random State</th>\n",
       "      <th>Accuracy</th>\n",
       "      <th>Precision</th>\n",
       "      <th>Recall</th>\n",
       "      <th>F1 Score</th>\n",
       "      <th>Best Param</th>\n",
       "    </tr>\n",
       "  </thead>\n",
       "  <tbody>\n",
       "    <tr>\n",
       "      <th>0</th>\n",
       "      <td>100</td>\n",
       "      <td>7</td>\n",
       "      <td>0.499168</td>\n",
       "      <td>0.491166</td>\n",
       "      <td>0.499168</td>\n",
       "      <td>0.352549</td>\n",
       "      <td>{'criterion': 'entropy', 'max_features': 'sqrt...</td>\n",
       "    </tr>\n",
       "    <tr>\n",
       "      <th>1</th>\n",
       "      <td>100</td>\n",
       "      <td>69</td>\n",
       "      <td>0.499168</td>\n",
       "      <td>0.491166</td>\n",
       "      <td>0.499168</td>\n",
       "      <td>0.352549</td>\n",
       "      <td>{'criterion': 'gini', 'max_features': 'auto', ...</td>\n",
       "    </tr>\n",
       "    <tr>\n",
       "      <th>2</th>\n",
       "      <td>100</td>\n",
       "      <td>101</td>\n",
       "      <td>0.499168</td>\n",
       "      <td>0.491166</td>\n",
       "      <td>0.499168</td>\n",
       "      <td>0.352549</td>\n",
       "      <td>{'criterion': 'gini', 'max_features': 'auto', ...</td>\n",
       "    </tr>\n",
       "  </tbody>\n",
       "</table>\n",
       "</div>"
      ],
      "text/plain": [
       "   Test Size  Random State  Accuracy  Precision    Recall  F1 Score  \\\n",
       "0        100             7  0.499168   0.491166  0.499168  0.352549   \n",
       "1        100            69  0.499168   0.491166  0.499168  0.352549   \n",
       "2        100           101  0.499168   0.491166  0.499168  0.352549   \n",
       "\n",
       "                                          Best Param  \n",
       "0  {'criterion': 'entropy', 'max_features': 'sqrt...  \n",
       "1  {'criterion': 'gini', 'max_features': 'auto', ...  \n",
       "2  {'criterion': 'gini', 'max_features': 'auto', ...  "
      ]
     },
     "execution_count": 28,
     "metadata": {},
     "output_type": "execute_result"
    }
   ],
   "source": [
    "tempB_SOTME_SMOTE = []\n",
    "\n",
    "y_train = df1_B_SMOTE[['CGPA']]\n",
    "X_train = df1_B_SMOTE[['Reason Study at Multimedia University', 'Lecture Class Capacity','Tutorial Class Capacity', \n",
    "                     'Classroom Facilities', 'Campus Environment']]\n",
    "\n",
    "y_test = df2_B_SMOTE[['CGPA']]\n",
    "X_test = df2_B_SMOTE[['Reason Study at Multimedia University', 'Lecture Class Capacity','Tutorial Class Capacity', \n",
    "                     'Classroom Facilities', 'Campus Environment']]\n",
    "\n",
    "for j in rand_states:\n",
    "    param_grid = {'n_estimators': [100, 200, 300, 400],\n",
    "                  'max_features': ['auto', 'sqrt', 'log2'],\n",
    "                  'criterion' :['gini', 'entropy']}\n",
    "\n",
    "    model = GridSearchCV(RandomForestClassifier(), param_grid, refit=True, n_jobs=-1, cv=10, verbose=1)\n",
    "    model.fit(X_train, y_train)\n",
    "    pred = model.predict(X_test)\n",
    "\n",
    "    acc = accuracy_score(y_test,pred)\n",
    "    pre = precision_score(y_test, pred, average='weighted')\n",
    "    recall = recall_score(y_test, pred, average='weighted')\n",
    "    f1 = f1_score(y_test, pred, average='weighted')\n",
    "    param = model.best_params_\n",
    "\n",
    "    tempB_SOTME_SMOTE.append([100,j,acc,pre,recall,f1,param])\n",
    "        \n",
    "dfB_SOTME_SMOTE = pd.DataFrame(columns=['Test Size','Random State','Accuracy','Precision','Recall','F1 Score','Best Param'],data=tempB_SOTME_SMOTE)\n",
    "dfB_SOTME_SMOTE"
   ]
  },
  {
   "cell_type": "code",
   "execution_count": 29,
   "id": "8f2b3d7a-442a-439a-a83d-d71140011995",
   "metadata": {},
   "outputs": [
    {
     "data": {
      "text/html": [
       "<div>\n",
       "<style scoped>\n",
       "    .dataframe tbody tr th:only-of-type {\n",
       "        vertical-align: middle;\n",
       "    }\n",
       "\n",
       "    .dataframe tbody tr th {\n",
       "        vertical-align: top;\n",
       "    }\n",
       "\n",
       "    .dataframe thead th {\n",
       "        text-align: right;\n",
       "    }\n",
       "</style>\n",
       "<table border=\"1\" class=\"dataframe\">\n",
       "  <thead>\n",
       "    <tr style=\"text-align: right;\">\n",
       "      <th></th>\n",
       "      <th>Accuracy</th>\n",
       "      <th>Precision</th>\n",
       "      <th>Recall</th>\n",
       "      <th>F1 Score</th>\n",
       "    </tr>\n",
       "    <tr>\n",
       "      <th>Test Size</th>\n",
       "      <th></th>\n",
       "      <th></th>\n",
       "      <th></th>\n",
       "      <th></th>\n",
       "    </tr>\n",
       "  </thead>\n",
       "  <tbody>\n",
       "    <tr>\n",
       "      <th>100</th>\n",
       "      <td>0.499168</td>\n",
       "      <td>0.491166</td>\n",
       "      <td>0.499168</td>\n",
       "      <td>0.352549</td>\n",
       "    </tr>\n",
       "  </tbody>\n",
       "</table>\n",
       "</div>"
      ],
      "text/plain": [
       "           Accuracy  Precision    Recall  F1 Score\n",
       "Test Size                                         \n",
       "100        0.499168   0.491166  0.499168  0.352549"
      ]
     },
     "execution_count": 29,
     "metadata": {},
     "output_type": "execute_result"
    }
   ],
   "source": [
    "dfB_SOTME_SMOTE.groupby('Test Size')[['Accuracy','Precision','Recall','F1 Score']].mean()"
   ]
  },
  {
   "cell_type": "code",
   "execution_count": 30,
   "id": "890d9693-907c-4971-929f-5d9171116f1b",
   "metadata": {},
   "outputs": [
    {
     "name": "stdout",
     "output_type": "stream",
     "text": [
      "SMOTE Binary: Student Opinion Towards MMU Environment\n",
      "\n",
      "{'criterion': 'entropy', 'max_features': 'sqrt', 'n_estimators': 200}\n",
      "{'criterion': 'gini', 'max_features': 'auto', 'n_estimators': 100}\n",
      "{'criterion': 'gini', 'max_features': 'auto', 'n_estimators': 200}\n"
     ]
    }
   ],
   "source": [
    "print(\"SMOTE Binary: Student Opinion Towards MMU Environment\\n\")\n",
    "for x in dfB_SOTME_SMOTE[\"Best Param\"]:\n",
    "    print(x)"
   ]
  },
  {
   "cell_type": "markdown",
   "id": "023dc304-cb5d-4106-8177-1097341d49e3",
   "metadata": {},
   "source": [
    "## Student Family Background"
   ]
  },
  {
   "cell_type": "markdown",
   "id": "c0403599-b198-4c54-ac58-d35910be8d99",
   "metadata": {},
   "source": [
    "### SFB before Data Balancing"
   ]
  },
  {
   "cell_type": "code",
   "execution_count": 31,
   "id": "0041f82c-524b-489a-9ded-f3ba406c2de6",
   "metadata": {},
   "outputs": [
    {
     "name": "stdout",
     "output_type": "stream",
     "text": [
      "Fitting 10 folds for each of 24 candidates, totalling 240 fits\n"
     ]
    },
    {
     "name": "stderr",
     "output_type": "stream",
     "text": [
      "C:\\Users\\hazel\\anaconda3\\Lib\\site-packages\\sklearn\\model_selection\\_split.py:700: UserWarning: The least populated class in y has only 4 members, which is less than n_splits=10.\n",
      "  warnings.warn(\n",
      "C:\\Users\\hazel\\anaconda3\\Lib\\site-packages\\sklearn\\model_selection\\_search.py:909: DataConversionWarning: A column-vector y was passed when a 1d array was expected. Please change the shape of y to (n_samples,), for example using ravel().\n",
      "  self.best_estimator_.fit(X, y, **fit_params)\n",
      "C:\\Users\\hazel\\anaconda3\\Lib\\site-packages\\sklearn\\ensemble\\_forest.py:424: FutureWarning: `max_features='auto'` has been deprecated in 1.1 and will be removed in 1.3. To keep the past behaviour, explicitly set `max_features='sqrt'` or remove this parameter as it is also the default value for RandomForestClassifiers and ExtraTreesClassifiers.\n",
      "  warn(\n",
      "C:\\Users\\hazel\\anaconda3\\Lib\\site-packages\\sklearn\\metrics\\_classification.py:1344: UndefinedMetricWarning: Precision is ill-defined and being set to 0.0 in labels with no predicted samples. Use `zero_division` parameter to control this behavior.\n",
      "  _warn_prf(average, modifier, msg_start, len(result))\n",
      "C:\\Users\\hazel\\anaconda3\\Lib\\site-packages\\sklearn\\model_selection\\_split.py:700: UserWarning: The least populated class in y has only 4 members, which is less than n_splits=10.\n",
      "  warnings.warn(\n"
     ]
    },
    {
     "name": "stdout",
     "output_type": "stream",
     "text": [
      "Fitting 10 folds for each of 24 candidates, totalling 240 fits\n"
     ]
    },
    {
     "name": "stderr",
     "output_type": "stream",
     "text": [
      "C:\\Users\\hazel\\anaconda3\\Lib\\site-packages\\sklearn\\model_selection\\_search.py:909: DataConversionWarning: A column-vector y was passed when a 1d array was expected. Please change the shape of y to (n_samples,), for example using ravel().\n",
      "  self.best_estimator_.fit(X, y, **fit_params)\n",
      "C:\\Users\\hazel\\anaconda3\\Lib\\site-packages\\sklearn\\ensemble\\_forest.py:424: FutureWarning: `max_features='auto'` has been deprecated in 1.1 and will be removed in 1.3. To keep the past behaviour, explicitly set `max_features='sqrt'` or remove this parameter as it is also the default value for RandomForestClassifiers and ExtraTreesClassifiers.\n",
      "  warn(\n",
      "C:\\Users\\hazel\\anaconda3\\Lib\\site-packages\\sklearn\\metrics\\_classification.py:1344: UndefinedMetricWarning: Precision is ill-defined and being set to 0.0 in labels with no predicted samples. Use `zero_division` parameter to control this behavior.\n",
      "  _warn_prf(average, modifier, msg_start, len(result))\n",
      "C:\\Users\\hazel\\anaconda3\\Lib\\site-packages\\sklearn\\model_selection\\_split.py:700: UserWarning: The least populated class in y has only 4 members, which is less than n_splits=10.\n",
      "  warnings.warn(\n"
     ]
    },
    {
     "name": "stdout",
     "output_type": "stream",
     "text": [
      "Fitting 10 folds for each of 24 candidates, totalling 240 fits\n"
     ]
    },
    {
     "name": "stderr",
     "output_type": "stream",
     "text": [
      "C:\\Users\\hazel\\anaconda3\\Lib\\site-packages\\sklearn\\model_selection\\_search.py:909: DataConversionWarning: A column-vector y was passed when a 1d array was expected. Please change the shape of y to (n_samples,), for example using ravel().\n",
      "  self.best_estimator_.fit(X, y, **fit_params)\n",
      "C:\\Users\\hazel\\anaconda3\\Lib\\site-packages\\sklearn\\ensemble\\_forest.py:424: FutureWarning: `max_features='auto'` has been deprecated in 1.1 and will be removed in 1.3. To keep the past behaviour, explicitly set `max_features='sqrt'` or remove this parameter as it is also the default value for RandomForestClassifiers and ExtraTreesClassifiers.\n",
      "  warn(\n",
      "C:\\Users\\hazel\\anaconda3\\Lib\\site-packages\\sklearn\\metrics\\_classification.py:1344: UndefinedMetricWarning: Precision is ill-defined and being set to 0.0 in labels with no predicted samples. Use `zero_division` parameter to control this behavior.\n",
      "  _warn_prf(average, modifier, msg_start, len(result))\n"
     ]
    },
    {
     "data": {
      "text/html": [
       "<div>\n",
       "<style scoped>\n",
       "    .dataframe tbody tr th:only-of-type {\n",
       "        vertical-align: middle;\n",
       "    }\n",
       "\n",
       "    .dataframe tbody tr th {\n",
       "        vertical-align: top;\n",
       "    }\n",
       "\n",
       "    .dataframe thead th {\n",
       "        text-align: right;\n",
       "    }\n",
       "</style>\n",
       "<table border=\"1\" class=\"dataframe\">\n",
       "  <thead>\n",
       "    <tr style=\"text-align: right;\">\n",
       "      <th></th>\n",
       "      <th>Test Size</th>\n",
       "      <th>Random State</th>\n",
       "      <th>Accuracy</th>\n",
       "      <th>Precision</th>\n",
       "      <th>Recall</th>\n",
       "      <th>F1 Score</th>\n",
       "      <th>Best Param</th>\n",
       "    </tr>\n",
       "  </thead>\n",
       "  <tbody>\n",
       "    <tr>\n",
       "      <th>0</th>\n",
       "      <td>100</td>\n",
       "      <td>7</td>\n",
       "      <td>0.978827</td>\n",
       "      <td>0.958103</td>\n",
       "      <td>0.978827</td>\n",
       "      <td>0.968354</td>\n",
       "      <td>{'criterion': 'gini', 'max_features': 'auto', ...</td>\n",
       "    </tr>\n",
       "    <tr>\n",
       "      <th>1</th>\n",
       "      <td>100</td>\n",
       "      <td>69</td>\n",
       "      <td>0.978827</td>\n",
       "      <td>0.958103</td>\n",
       "      <td>0.978827</td>\n",
       "      <td>0.968354</td>\n",
       "      <td>{'criterion': 'gini', 'max_features': 'auto', ...</td>\n",
       "    </tr>\n",
       "    <tr>\n",
       "      <th>2</th>\n",
       "      <td>100</td>\n",
       "      <td>101</td>\n",
       "      <td>0.978827</td>\n",
       "      <td>0.958103</td>\n",
       "      <td>0.978827</td>\n",
       "      <td>0.968354</td>\n",
       "      <td>{'criterion': 'gini', 'max_features': 'auto', ...</td>\n",
       "    </tr>\n",
       "  </tbody>\n",
       "</table>\n",
       "</div>"
      ],
      "text/plain": [
       "   Test Size  Random State  Accuracy  Precision    Recall  F1 Score  \\\n",
       "0        100             7  0.978827   0.958103  0.978827  0.968354   \n",
       "1        100            69  0.978827   0.958103  0.978827  0.968354   \n",
       "2        100           101  0.978827   0.958103  0.978827  0.968354   \n",
       "\n",
       "                                          Best Param  \n",
       "0  {'criterion': 'gini', 'max_features': 'auto', ...  \n",
       "1  {'criterion': 'gini', 'max_features': 'auto', ...  \n",
       "2  {'criterion': 'gini', 'max_features': 'auto', ...  "
      ]
     },
     "execution_count": 31,
     "metadata": {},
     "output_type": "execute_result"
    }
   ],
   "source": [
    "tempB_SFB_imb = []\n",
    "\n",
    "y_train = df1_B_imb[['CGPA']]\n",
    "X_train = df1_B_imb[['Family Size', \"Parent's Education Level.Father\", \"Parent's Education Level.Mother\", \n",
    "                     \"Father's Occupation\", \"Mother's Occupation\", 'Financial Difficulties', 'Financial Support']]\n",
    "\n",
    "y_test = df2_B_imb[['CGPA']]\n",
    "X_test = df2_B_imb[['Family Size', \"Parent's Education Level.Father\", \"Parent's Education Level.Mother\", \n",
    "                     \"Father's Occupation\", \"Mother's Occupation\", 'Financial Difficulties', 'Financial Support']]\n",
    "\n",
    "for j in rand_states:\n",
    "    param_grid = {'n_estimators': [100, 200, 300, 400],\n",
    "                  'max_features': ['auto', 'sqrt', 'log2'],\n",
    "                  'criterion' :['gini', 'entropy']}\n",
    "\n",
    "    model = GridSearchCV(RandomForestClassifier(), param_grid, refit=True, n_jobs=-1, cv=10, verbose=1)\n",
    "    model.fit(X_train, y_train)\n",
    "    pred = model.predict(X_test)\n",
    "\n",
    "    acc = accuracy_score(y_test,pred)\n",
    "    pre = precision_score(y_test, pred, average='weighted')\n",
    "    recall = recall_score(y_test, pred, average='weighted')\n",
    "    f1 = f1_score(y_test, pred, average='weighted')\n",
    "    param = model.best_params_\n",
    "\n",
    "    tempB_SFB_imb.append([100,j,acc,pre,recall,f1,param])\n",
    "        \n",
    "dfB_SFB_imb = pd.DataFrame(columns=['Test Size','Random State','Accuracy','Precision','Recall','F1 Score','Best Param'],data=tempB_SFB_imb)\n",
    "dfB_SFB_imb"
   ]
  },
  {
   "cell_type": "code",
   "execution_count": 32,
   "id": "ee282051-3e6e-4285-a112-fd77f00e38be",
   "metadata": {},
   "outputs": [
    {
     "data": {
      "text/html": [
       "<div>\n",
       "<style scoped>\n",
       "    .dataframe tbody tr th:only-of-type {\n",
       "        vertical-align: middle;\n",
       "    }\n",
       "\n",
       "    .dataframe tbody tr th {\n",
       "        vertical-align: top;\n",
       "    }\n",
       "\n",
       "    .dataframe thead th {\n",
       "        text-align: right;\n",
       "    }\n",
       "</style>\n",
       "<table border=\"1\" class=\"dataframe\">\n",
       "  <thead>\n",
       "    <tr style=\"text-align: right;\">\n",
       "      <th></th>\n",
       "      <th>Accuracy</th>\n",
       "      <th>Precision</th>\n",
       "      <th>Recall</th>\n",
       "      <th>F1 Score</th>\n",
       "    </tr>\n",
       "    <tr>\n",
       "      <th>Test Size</th>\n",
       "      <th></th>\n",
       "      <th></th>\n",
       "      <th></th>\n",
       "      <th></th>\n",
       "    </tr>\n",
       "  </thead>\n",
       "  <tbody>\n",
       "    <tr>\n",
       "      <th>100</th>\n",
       "      <td>0.978827</td>\n",
       "      <td>0.958103</td>\n",
       "      <td>0.978827</td>\n",
       "      <td>0.968354</td>\n",
       "    </tr>\n",
       "  </tbody>\n",
       "</table>\n",
       "</div>"
      ],
      "text/plain": [
       "           Accuracy  Precision    Recall  F1 Score\n",
       "Test Size                                         \n",
       "100        0.978827   0.958103  0.978827  0.968354"
      ]
     },
     "execution_count": 32,
     "metadata": {},
     "output_type": "execute_result"
    }
   ],
   "source": [
    "dfB_SFB_imb.groupby('Test Size')[['Accuracy','Precision','Recall','F1 Score']].mean()"
   ]
  },
  {
   "cell_type": "code",
   "execution_count": 33,
   "id": "6aacf274-e707-4c71-98a6-66fd0643a7a8",
   "metadata": {},
   "outputs": [
    {
     "name": "stdout",
     "output_type": "stream",
     "text": [
      "Imbalance Binary: Student Family Background\n",
      "\n",
      "{'criterion': 'gini', 'max_features': 'auto', 'n_estimators': 100}\n",
      "{'criterion': 'gini', 'max_features': 'auto', 'n_estimators': 100}\n",
      "{'criterion': 'gini', 'max_features': 'auto', 'n_estimators': 100}\n"
     ]
    }
   ],
   "source": [
    "print(\"Imbalance Binary: Student Family Background\\n\")\n",
    "for x in dfB_SFB_imb[\"Best Param\"]:\n",
    "    print(x)"
   ]
  },
  {
   "cell_type": "markdown",
   "id": "8437b263-ceb9-4c9b-9583-beb77f651b6c",
   "metadata": {},
   "source": [
    "### SFB after RandomOverSampler"
   ]
  },
  {
   "cell_type": "code",
   "execution_count": 34,
   "id": "3fcb7299-2d28-4bd1-9cab-012ea8981ae9",
   "metadata": {},
   "outputs": [
    {
     "name": "stdout",
     "output_type": "stream",
     "text": [
      "Fitting 10 folds for each of 24 candidates, totalling 240 fits\n"
     ]
    },
    {
     "name": "stderr",
     "output_type": "stream",
     "text": [
      "C:\\Users\\hazel\\anaconda3\\Lib\\site-packages\\sklearn\\model_selection\\_search.py:909: DataConversionWarning: A column-vector y was passed when a 1d array was expected. Please change the shape of y to (n_samples,), for example using ravel().\n",
      "  self.best_estimator_.fit(X, y, **fit_params)\n",
      "C:\\Users\\hazel\\anaconda3\\Lib\\site-packages\\sklearn\\ensemble\\_forest.py:424: FutureWarning: `max_features='auto'` has been deprecated in 1.1 and will be removed in 1.3. To keep the past behaviour, explicitly set `max_features='sqrt'` or remove this parameter as it is also the default value for RandomForestClassifiers and ExtraTreesClassifiers.\n",
      "  warn(\n"
     ]
    },
    {
     "name": "stdout",
     "output_type": "stream",
     "text": [
      "Fitting 10 folds for each of 24 candidates, totalling 240 fits\n"
     ]
    },
    {
     "name": "stderr",
     "output_type": "stream",
     "text": [
      "C:\\Users\\hazel\\anaconda3\\Lib\\site-packages\\sklearn\\model_selection\\_search.py:909: DataConversionWarning: A column-vector y was passed when a 1d array was expected. Please change the shape of y to (n_samples,), for example using ravel().\n",
      "  self.best_estimator_.fit(X, y, **fit_params)\n",
      "C:\\Users\\hazel\\anaconda3\\Lib\\site-packages\\sklearn\\ensemble\\_forest.py:424: FutureWarning: `max_features='auto'` has been deprecated in 1.1 and will be removed in 1.3. To keep the past behaviour, explicitly set `max_features='sqrt'` or remove this parameter as it is also the default value for RandomForestClassifiers and ExtraTreesClassifiers.\n",
      "  warn(\n"
     ]
    },
    {
     "name": "stdout",
     "output_type": "stream",
     "text": [
      "Fitting 10 folds for each of 24 candidates, totalling 240 fits\n"
     ]
    },
    {
     "name": "stderr",
     "output_type": "stream",
     "text": [
      "C:\\Users\\hazel\\anaconda3\\Lib\\site-packages\\sklearn\\model_selection\\_search.py:909: DataConversionWarning: A column-vector y was passed when a 1d array was expected. Please change the shape of y to (n_samples,), for example using ravel().\n",
      "  self.best_estimator_.fit(X, y, **fit_params)\n",
      "C:\\Users\\hazel\\anaconda3\\Lib\\site-packages\\sklearn\\ensemble\\_forest.py:424: FutureWarning: `max_features='auto'` has been deprecated in 1.1 and will be removed in 1.3. To keep the past behaviour, explicitly set `max_features='sqrt'` or remove this parameter as it is also the default value for RandomForestClassifiers and ExtraTreesClassifiers.\n",
      "  warn(\n"
     ]
    },
    {
     "data": {
      "text/html": [
       "<div>\n",
       "<style scoped>\n",
       "    .dataframe tbody tr th:only-of-type {\n",
       "        vertical-align: middle;\n",
       "    }\n",
       "\n",
       "    .dataframe tbody tr th {\n",
       "        vertical-align: top;\n",
       "    }\n",
       "\n",
       "    .dataframe thead th {\n",
       "        text-align: right;\n",
       "    }\n",
       "</style>\n",
       "<table border=\"1\" class=\"dataframe\">\n",
       "  <thead>\n",
       "    <tr style=\"text-align: right;\">\n",
       "      <th></th>\n",
       "      <th>Test Size</th>\n",
       "      <th>Random State</th>\n",
       "      <th>Accuracy</th>\n",
       "      <th>Precision</th>\n",
       "      <th>Recall</th>\n",
       "      <th>F1 Score</th>\n",
       "      <th>Best Param</th>\n",
       "    </tr>\n",
       "  </thead>\n",
       "  <tbody>\n",
       "    <tr>\n",
       "      <th>0</th>\n",
       "      <td>100</td>\n",
       "      <td>7</td>\n",
       "      <td>0.497504</td>\n",
       "      <td>0.249374</td>\n",
       "      <td>0.497504</td>\n",
       "      <td>0.332222</td>\n",
       "      <td>{'criterion': 'gini', 'max_features': 'auto', ...</td>\n",
       "    </tr>\n",
       "    <tr>\n",
       "      <th>1</th>\n",
       "      <td>100</td>\n",
       "      <td>69</td>\n",
       "      <td>0.498336</td>\n",
       "      <td>0.249583</td>\n",
       "      <td>0.498336</td>\n",
       "      <td>0.332593</td>\n",
       "      <td>{'criterion': 'gini', 'max_features': 'auto', ...</td>\n",
       "    </tr>\n",
       "    <tr>\n",
       "      <th>2</th>\n",
       "      <td>100</td>\n",
       "      <td>101</td>\n",
       "      <td>0.497504</td>\n",
       "      <td>0.249374</td>\n",
       "      <td>0.497504</td>\n",
       "      <td>0.332222</td>\n",
       "      <td>{'criterion': 'gini', 'max_features': 'auto', ...</td>\n",
       "    </tr>\n",
       "  </tbody>\n",
       "</table>\n",
       "</div>"
      ],
      "text/plain": [
       "   Test Size  Random State  Accuracy  Precision    Recall  F1 Score  \\\n",
       "0        100             7  0.497504   0.249374  0.497504  0.332222   \n",
       "1        100            69  0.498336   0.249583  0.498336  0.332593   \n",
       "2        100           101  0.497504   0.249374  0.497504  0.332222   \n",
       "\n",
       "                                          Best Param  \n",
       "0  {'criterion': 'gini', 'max_features': 'auto', ...  \n",
       "1  {'criterion': 'gini', 'max_features': 'auto', ...  \n",
       "2  {'criterion': 'gini', 'max_features': 'auto', ...  "
      ]
     },
     "execution_count": 34,
     "metadata": {},
     "output_type": "execute_result"
    }
   ],
   "source": [
    "tempB_SFB_ROS = []\n",
    "\n",
    "y_train = df1_B_ROS[['CGPA']]\n",
    "X_train = df1_B_ROS[['Family Size', \"Parent's Education Level.Father\", \"Parent's Education Level.Mother\", \n",
    "                     \"Father's Occupation\", \"Mother's Occupation\", 'Financial Difficulties', 'Financial Support']]\n",
    "\n",
    "y_test = df2_B_ROS[['CGPA']]\n",
    "X_test = df2_B_ROS[['Family Size', \"Parent's Education Level.Father\", \"Parent's Education Level.Mother\", \n",
    "                     \"Father's Occupation\", \"Mother's Occupation\", 'Financial Difficulties', 'Financial Support']]\n",
    "\n",
    "for j in rand_states:\n",
    "    param_grid = {'n_estimators': [100, 200, 300, 400],\n",
    "                  'max_features': ['auto', 'sqrt', 'log2'],\n",
    "                  'criterion' :['gini', 'entropy']}\n",
    "\n",
    "    model = GridSearchCV(RandomForestClassifier(), param_grid, refit=True, n_jobs=-1, cv=10, verbose=1)\n",
    "    model.fit(X_train, y_train)\n",
    "    pred = model.predict(X_test)\n",
    "\n",
    "    acc = accuracy_score(y_test,pred)\n",
    "    pre = precision_score(y_test, pred, average='weighted')\n",
    "    recall = recall_score(y_test, pred, average='weighted')\n",
    "    f1 = f1_score(y_test, pred, average='weighted')\n",
    "    param = model.best_params_\n",
    "\n",
    "    tempB_SFB_ROS.append([100,j,acc,pre,recall,f1,param])\n",
    "        \n",
    "dfB_SFB_ROS = pd.DataFrame(columns=['Test Size','Random State','Accuracy','Precision','Recall','F1 Score','Best Param'],data=tempB_SFB_ROS)\n",
    "dfB_SFB_ROS"
   ]
  },
  {
   "cell_type": "code",
   "execution_count": 35,
   "id": "175bdb6e-c709-404e-9985-8ea760e9666c",
   "metadata": {},
   "outputs": [
    {
     "data": {
      "text/html": [
       "<div>\n",
       "<style scoped>\n",
       "    .dataframe tbody tr th:only-of-type {\n",
       "        vertical-align: middle;\n",
       "    }\n",
       "\n",
       "    .dataframe tbody tr th {\n",
       "        vertical-align: top;\n",
       "    }\n",
       "\n",
       "    .dataframe thead th {\n",
       "        text-align: right;\n",
       "    }\n",
       "</style>\n",
       "<table border=\"1\" class=\"dataframe\">\n",
       "  <thead>\n",
       "    <tr style=\"text-align: right;\">\n",
       "      <th></th>\n",
       "      <th>Accuracy</th>\n",
       "      <th>Precision</th>\n",
       "      <th>Recall</th>\n",
       "      <th>F1 Score</th>\n",
       "    </tr>\n",
       "    <tr>\n",
       "      <th>Test Size</th>\n",
       "      <th></th>\n",
       "      <th></th>\n",
       "      <th></th>\n",
       "      <th></th>\n",
       "    </tr>\n",
       "  </thead>\n",
       "  <tbody>\n",
       "    <tr>\n",
       "      <th>100</th>\n",
       "      <td>0.497781</td>\n",
       "      <td>0.249444</td>\n",
       "      <td>0.497781</td>\n",
       "      <td>0.332346</td>\n",
       "    </tr>\n",
       "  </tbody>\n",
       "</table>\n",
       "</div>"
      ],
      "text/plain": [
       "           Accuracy  Precision    Recall  F1 Score\n",
       "Test Size                                         \n",
       "100        0.497781   0.249444  0.497781  0.332346"
      ]
     },
     "execution_count": 35,
     "metadata": {},
     "output_type": "execute_result"
    }
   ],
   "source": [
    "dfB_SFB_ROS.groupby('Test Size')[['Accuracy','Precision','Recall','F1 Score']].mean()"
   ]
  },
  {
   "cell_type": "code",
   "execution_count": 36,
   "id": "5d45c24f-f05d-4717-9346-591c59121b4c",
   "metadata": {},
   "outputs": [
    {
     "name": "stdout",
     "output_type": "stream",
     "text": [
      "Binary: Student Family Background\n",
      "\n",
      "{'criterion': 'gini', 'max_features': 'auto', 'n_estimators': 200}\n",
      "{'criterion': 'gini', 'max_features': 'auto', 'n_estimators': 100}\n",
      "{'criterion': 'gini', 'max_features': 'auto', 'n_estimators': 200}\n"
     ]
    }
   ],
   "source": [
    "print(\"Binary: Student Family Background\\n\")\n",
    "for x in dfB_SFB_ROS[\"Best Param\"]:\n",
    "    print(x)"
   ]
  },
  {
   "cell_type": "markdown",
   "id": "f523edcb-dc9d-4603-980d-e73dc7064369",
   "metadata": {},
   "source": [
    "### SFB after SMOTE"
   ]
  },
  {
   "cell_type": "code",
   "execution_count": 37,
   "id": "aec454ca-45a0-4bf8-9c62-f3ef85dba1d1",
   "metadata": {},
   "outputs": [
    {
     "name": "stdout",
     "output_type": "stream",
     "text": [
      "Fitting 10 folds for each of 24 candidates, totalling 240 fits\n"
     ]
    },
    {
     "name": "stderr",
     "output_type": "stream",
     "text": [
      "C:\\Users\\hazel\\anaconda3\\Lib\\site-packages\\sklearn\\model_selection\\_search.py:909: DataConversionWarning: A column-vector y was passed when a 1d array was expected. Please change the shape of y to (n_samples,), for example using ravel().\n",
      "  self.best_estimator_.fit(X, y, **fit_params)\n"
     ]
    },
    {
     "name": "stdout",
     "output_type": "stream",
     "text": [
      "Fitting 10 folds for each of 24 candidates, totalling 240 fits\n"
     ]
    },
    {
     "name": "stderr",
     "output_type": "stream",
     "text": [
      "C:\\Users\\hazel\\anaconda3\\Lib\\site-packages\\sklearn\\model_selection\\_search.py:909: DataConversionWarning: A column-vector y was passed when a 1d array was expected. Please change the shape of y to (n_samples,), for example using ravel().\n",
      "  self.best_estimator_.fit(X, y, **fit_params)\n",
      "C:\\Users\\hazel\\anaconda3\\Lib\\site-packages\\sklearn\\ensemble\\_forest.py:424: FutureWarning: `max_features='auto'` has been deprecated in 1.1 and will be removed in 1.3. To keep the past behaviour, explicitly set `max_features='sqrt'` or remove this parameter as it is also the default value for RandomForestClassifiers and ExtraTreesClassifiers.\n",
      "  warn(\n"
     ]
    },
    {
     "name": "stdout",
     "output_type": "stream",
     "text": [
      "Fitting 10 folds for each of 24 candidates, totalling 240 fits\n"
     ]
    },
    {
     "name": "stderr",
     "output_type": "stream",
     "text": [
      "C:\\Users\\hazel\\anaconda3\\Lib\\site-packages\\sklearn\\model_selection\\_search.py:909: DataConversionWarning: A column-vector y was passed when a 1d array was expected. Please change the shape of y to (n_samples,), for example using ravel().\n",
      "  self.best_estimator_.fit(X, y, **fit_params)\n"
     ]
    },
    {
     "data": {
      "text/html": [
       "<div>\n",
       "<style scoped>\n",
       "    .dataframe tbody tr th:only-of-type {\n",
       "        vertical-align: middle;\n",
       "    }\n",
       "\n",
       "    .dataframe tbody tr th {\n",
       "        vertical-align: top;\n",
       "    }\n",
       "\n",
       "    .dataframe thead th {\n",
       "        text-align: right;\n",
       "    }\n",
       "</style>\n",
       "<table border=\"1\" class=\"dataframe\">\n",
       "  <thead>\n",
       "    <tr style=\"text-align: right;\">\n",
       "      <th></th>\n",
       "      <th>Test Size</th>\n",
       "      <th>Random State</th>\n",
       "      <th>Accuracy</th>\n",
       "      <th>Precision</th>\n",
       "      <th>Recall</th>\n",
       "      <th>F1 Score</th>\n",
       "      <th>Best Param</th>\n",
       "    </tr>\n",
       "  </thead>\n",
       "  <tbody>\n",
       "    <tr>\n",
       "      <th>0</th>\n",
       "      <td>100</td>\n",
       "      <td>7</td>\n",
       "      <td>0.493344</td>\n",
       "      <td>0.248325</td>\n",
       "      <td>0.493344</td>\n",
       "      <td>0.330362</td>\n",
       "      <td>{'criterion': 'gini', 'max_features': 'sqrt', ...</td>\n",
       "    </tr>\n",
       "    <tr>\n",
       "      <th>1</th>\n",
       "      <td>100</td>\n",
       "      <td>69</td>\n",
       "      <td>0.494176</td>\n",
       "      <td>0.248536</td>\n",
       "      <td>0.494176</td>\n",
       "      <td>0.330735</td>\n",
       "      <td>{'criterion': 'gini', 'max_features': 'auto', ...</td>\n",
       "    </tr>\n",
       "    <tr>\n",
       "      <th>2</th>\n",
       "      <td>100</td>\n",
       "      <td>101</td>\n",
       "      <td>0.493344</td>\n",
       "      <td>0.248325</td>\n",
       "      <td>0.493344</td>\n",
       "      <td>0.330362</td>\n",
       "      <td>{'criterion': 'gini', 'max_features': 'sqrt', ...</td>\n",
       "    </tr>\n",
       "  </tbody>\n",
       "</table>\n",
       "</div>"
      ],
      "text/plain": [
       "   Test Size  Random State  Accuracy  Precision    Recall  F1 Score  \\\n",
       "0        100             7  0.493344   0.248325  0.493344  0.330362   \n",
       "1        100            69  0.494176   0.248536  0.494176  0.330735   \n",
       "2        100           101  0.493344   0.248325  0.493344  0.330362   \n",
       "\n",
       "                                          Best Param  \n",
       "0  {'criterion': 'gini', 'max_features': 'sqrt', ...  \n",
       "1  {'criterion': 'gini', 'max_features': 'auto', ...  \n",
       "2  {'criterion': 'gini', 'max_features': 'sqrt', ...  "
      ]
     },
     "execution_count": 37,
     "metadata": {},
     "output_type": "execute_result"
    }
   ],
   "source": [
    "tempB_SFB_SMOTE = []\n",
    "\n",
    "y_train = df1_B_SMOTE[['CGPA']]\n",
    "X_train = df1_B_SMOTE[['Family Size', \"Parent's Education Level.Father\", \"Parent's Education Level.Mother\", \n",
    "                     \"Father's Occupation\", \"Mother's Occupation\", 'Financial Difficulties', 'Financial Support']]\n",
    "\n",
    "y_test = df2_B_SMOTE[['CGPA']]\n",
    "X_test = df2_B_SMOTE[['Family Size', \"Parent's Education Level.Father\", \"Parent's Education Level.Mother\", \n",
    "                     \"Father's Occupation\", \"Mother's Occupation\", 'Financial Difficulties', 'Financial Support']]\n",
    "\n",
    "for j in rand_states:\n",
    "    param_grid = {'n_estimators': [100, 200, 300, 400],\n",
    "                  'max_features': ['auto', 'sqrt', 'log2'],\n",
    "                  'criterion' :['gini', 'entropy']}\n",
    "\n",
    "    model = GridSearchCV(RandomForestClassifier(), param_grid, refit=True, n_jobs=-1, cv=10, verbose=1)\n",
    "    model.fit(X_train, y_train)\n",
    "    pred = model.predict(X_test)\n",
    "\n",
    "    acc = accuracy_score(y_test,pred)\n",
    "    pre = precision_score(y_test, pred, average='weighted')\n",
    "    recall = recall_score(y_test, pred, average='weighted')\n",
    "    f1 = f1_score(y_test, pred, average='weighted')\n",
    "    param = model.best_params_\n",
    "\n",
    "    tempB_SFB_SMOTE.append([100,j,acc,pre,recall,f1,param])\n",
    "        \n",
    "dfB_SFB_SMOTE = pd.DataFrame(columns=['Test Size','Random State','Accuracy','Precision','Recall','F1 Score','Best Param'],data=tempB_SFB_SMOTE)\n",
    "dfB_SFB_SMOTE"
   ]
  },
  {
   "cell_type": "code",
   "execution_count": 38,
   "id": "d2e6a084-e262-45b9-8e42-ea35467f490c",
   "metadata": {},
   "outputs": [
    {
     "data": {
      "text/html": [
       "<div>\n",
       "<style scoped>\n",
       "    .dataframe tbody tr th:only-of-type {\n",
       "        vertical-align: middle;\n",
       "    }\n",
       "\n",
       "    .dataframe tbody tr th {\n",
       "        vertical-align: top;\n",
       "    }\n",
       "\n",
       "    .dataframe thead th {\n",
       "        text-align: right;\n",
       "    }\n",
       "</style>\n",
       "<table border=\"1\" class=\"dataframe\">\n",
       "  <thead>\n",
       "    <tr style=\"text-align: right;\">\n",
       "      <th></th>\n",
       "      <th>Accuracy</th>\n",
       "      <th>Precision</th>\n",
       "      <th>Recall</th>\n",
       "      <th>F1 Score</th>\n",
       "    </tr>\n",
       "    <tr>\n",
       "      <th>Test Size</th>\n",
       "      <th></th>\n",
       "      <th></th>\n",
       "      <th></th>\n",
       "      <th></th>\n",
       "    </tr>\n",
       "  </thead>\n",
       "  <tbody>\n",
       "    <tr>\n",
       "      <th>100</th>\n",
       "      <td>0.493622</td>\n",
       "      <td>0.248395</td>\n",
       "      <td>0.493622</td>\n",
       "      <td>0.330486</td>\n",
       "    </tr>\n",
       "  </tbody>\n",
       "</table>\n",
       "</div>"
      ],
      "text/plain": [
       "           Accuracy  Precision    Recall  F1 Score\n",
       "Test Size                                         \n",
       "100        0.493622   0.248395  0.493622  0.330486"
      ]
     },
     "execution_count": 38,
     "metadata": {},
     "output_type": "execute_result"
    }
   ],
   "source": [
    "dfB_SFB_SMOTE.groupby('Test Size')[['Accuracy','Precision','Recall','F1 Score']].mean()"
   ]
  },
  {
   "cell_type": "code",
   "execution_count": 39,
   "id": "75fdd071-fc1f-4ad7-821c-7085dfb271b4",
   "metadata": {},
   "outputs": [
    {
     "name": "stdout",
     "output_type": "stream",
     "text": [
      "SMOTE Binary: Student Family Background\n",
      "\n",
      "{'criterion': 'gini', 'max_features': 'sqrt', 'n_estimators': 200}\n",
      "{'criterion': 'gini', 'max_features': 'auto', 'n_estimators': 200}\n",
      "{'criterion': 'gini', 'max_features': 'sqrt', 'n_estimators': 200}\n"
     ]
    }
   ],
   "source": [
    "print(\"SMOTE Binary: Student Family Background\\n\")\n",
    "for x in dfB_SFB_SMOTE[\"Best Param\"]:\n",
    "    print(x)"
   ]
  },
  {
   "cell_type": "markdown",
   "id": "b96e097f-b583-49eb-8297-3a69177724ba",
   "metadata": {},
   "source": [
    "## Student Lifestyle"
   ]
  },
  {
   "cell_type": "markdown",
   "id": "64484a39-a7ab-4867-84c8-4483a84615f4",
   "metadata": {},
   "source": [
    "### SL before Data Balancing"
   ]
  },
  {
   "cell_type": "code",
   "execution_count": 40,
   "id": "fcfba63a-fdca-4448-953c-08c4bdce8cfa",
   "metadata": {},
   "outputs": [
    {
     "name": "stdout",
     "output_type": "stream",
     "text": [
      "Fitting 10 folds for each of 24 candidates, totalling 240 fits\n"
     ]
    },
    {
     "name": "stderr",
     "output_type": "stream",
     "text": [
      "C:\\Users\\hazel\\anaconda3\\Lib\\site-packages\\sklearn\\model_selection\\_split.py:700: UserWarning: The least populated class in y has only 4 members, which is less than n_splits=10.\n",
      "  warnings.warn(\n",
      "C:\\Users\\hazel\\anaconda3\\Lib\\site-packages\\sklearn\\model_selection\\_search.py:909: DataConversionWarning: A column-vector y was passed when a 1d array was expected. Please change the shape of y to (n_samples,), for example using ravel().\n",
      "  self.best_estimator_.fit(X, y, **fit_params)\n",
      "C:\\Users\\hazel\\anaconda3\\Lib\\site-packages\\sklearn\\ensemble\\_forest.py:424: FutureWarning: `max_features='auto'` has been deprecated in 1.1 and will be removed in 1.3. To keep the past behaviour, explicitly set `max_features='sqrt'` or remove this parameter as it is also the default value for RandomForestClassifiers and ExtraTreesClassifiers.\n",
      "  warn(\n",
      "C:\\Users\\hazel\\anaconda3\\Lib\\site-packages\\sklearn\\metrics\\_classification.py:1344: UndefinedMetricWarning: Precision is ill-defined and being set to 0.0 in labels with no predicted samples. Use `zero_division` parameter to control this behavior.\n",
      "  _warn_prf(average, modifier, msg_start, len(result))\n",
      "C:\\Users\\hazel\\anaconda3\\Lib\\site-packages\\sklearn\\model_selection\\_split.py:700: UserWarning: The least populated class in y has only 4 members, which is less than n_splits=10.\n",
      "  warnings.warn(\n"
     ]
    },
    {
     "name": "stdout",
     "output_type": "stream",
     "text": [
      "Fitting 10 folds for each of 24 candidates, totalling 240 fits\n"
     ]
    },
    {
     "name": "stderr",
     "output_type": "stream",
     "text": [
      "C:\\Users\\hazel\\anaconda3\\Lib\\site-packages\\sklearn\\model_selection\\_search.py:909: DataConversionWarning: A column-vector y was passed when a 1d array was expected. Please change the shape of y to (n_samples,), for example using ravel().\n",
      "  self.best_estimator_.fit(X, y, **fit_params)\n",
      "C:\\Users\\hazel\\anaconda3\\Lib\\site-packages\\sklearn\\ensemble\\_forest.py:424: FutureWarning: `max_features='auto'` has been deprecated in 1.1 and will be removed in 1.3. To keep the past behaviour, explicitly set `max_features='sqrt'` or remove this parameter as it is also the default value for RandomForestClassifiers and ExtraTreesClassifiers.\n",
      "  warn(\n",
      "C:\\Users\\hazel\\anaconda3\\Lib\\site-packages\\sklearn\\metrics\\_classification.py:1344: UndefinedMetricWarning: Precision is ill-defined and being set to 0.0 in labels with no predicted samples. Use `zero_division` parameter to control this behavior.\n",
      "  _warn_prf(average, modifier, msg_start, len(result))\n",
      "C:\\Users\\hazel\\anaconda3\\Lib\\site-packages\\sklearn\\model_selection\\_split.py:700: UserWarning: The least populated class in y has only 4 members, which is less than n_splits=10.\n",
      "  warnings.warn(\n"
     ]
    },
    {
     "name": "stdout",
     "output_type": "stream",
     "text": [
      "Fitting 10 folds for each of 24 candidates, totalling 240 fits\n"
     ]
    },
    {
     "name": "stderr",
     "output_type": "stream",
     "text": [
      "C:\\Users\\hazel\\anaconda3\\Lib\\site-packages\\sklearn\\model_selection\\_search.py:909: DataConversionWarning: A column-vector y was passed when a 1d array was expected. Please change the shape of y to (n_samples,), for example using ravel().\n",
      "  self.best_estimator_.fit(X, y, **fit_params)\n",
      "C:\\Users\\hazel\\anaconda3\\Lib\\site-packages\\sklearn\\ensemble\\_forest.py:424: FutureWarning: `max_features='auto'` has been deprecated in 1.1 and will be removed in 1.3. To keep the past behaviour, explicitly set `max_features='sqrt'` or remove this parameter as it is also the default value for RandomForestClassifiers and ExtraTreesClassifiers.\n",
      "  warn(\n",
      "C:\\Users\\hazel\\anaconda3\\Lib\\site-packages\\sklearn\\metrics\\_classification.py:1344: UndefinedMetricWarning: Precision is ill-defined and being set to 0.0 in labels with no predicted samples. Use `zero_division` parameter to control this behavior.\n",
      "  _warn_prf(average, modifier, msg_start, len(result))\n"
     ]
    },
    {
     "data": {
      "text/html": [
       "<div>\n",
       "<style scoped>\n",
       "    .dataframe tbody tr th:only-of-type {\n",
       "        vertical-align: middle;\n",
       "    }\n",
       "\n",
       "    .dataframe tbody tr th {\n",
       "        vertical-align: top;\n",
       "    }\n",
       "\n",
       "    .dataframe thead th {\n",
       "        text-align: right;\n",
       "    }\n",
       "</style>\n",
       "<table border=\"1\" class=\"dataframe\">\n",
       "  <thead>\n",
       "    <tr style=\"text-align: right;\">\n",
       "      <th></th>\n",
       "      <th>Test Size</th>\n",
       "      <th>Random State</th>\n",
       "      <th>Accuracy</th>\n",
       "      <th>Precision</th>\n",
       "      <th>Recall</th>\n",
       "      <th>F1 Score</th>\n",
       "      <th>Best Param</th>\n",
       "    </tr>\n",
       "  </thead>\n",
       "  <tbody>\n",
       "    <tr>\n",
       "      <th>0</th>\n",
       "      <td>100</td>\n",
       "      <td>7</td>\n",
       "      <td>0.978827</td>\n",
       "      <td>0.958103</td>\n",
       "      <td>0.978827</td>\n",
       "      <td>0.968354</td>\n",
       "      <td>{'criterion': 'gini', 'max_features': 'auto', ...</td>\n",
       "    </tr>\n",
       "    <tr>\n",
       "      <th>1</th>\n",
       "      <td>100</td>\n",
       "      <td>69</td>\n",
       "      <td>0.978827</td>\n",
       "      <td>0.958103</td>\n",
       "      <td>0.978827</td>\n",
       "      <td>0.968354</td>\n",
       "      <td>{'criterion': 'gini', 'max_features': 'auto', ...</td>\n",
       "    </tr>\n",
       "    <tr>\n",
       "      <th>2</th>\n",
       "      <td>100</td>\n",
       "      <td>101</td>\n",
       "      <td>0.978827</td>\n",
       "      <td>0.958103</td>\n",
       "      <td>0.978827</td>\n",
       "      <td>0.968354</td>\n",
       "      <td>{'criterion': 'gini', 'max_features': 'auto', ...</td>\n",
       "    </tr>\n",
       "  </tbody>\n",
       "</table>\n",
       "</div>"
      ],
      "text/plain": [
       "   Test Size  Random State  Accuracy  Precision    Recall  F1 Score  \\\n",
       "0        100             7  0.978827   0.958103  0.978827  0.968354   \n",
       "1        100            69  0.978827   0.958103  0.978827  0.968354   \n",
       "2        100           101  0.978827   0.958103  0.978827  0.968354   \n",
       "\n",
       "                                          Best Param  \n",
       "0  {'criterion': 'gini', 'max_features': 'auto', ...  \n",
       "1  {'criterion': 'gini', 'max_features': 'auto', ...  \n",
       "2  {'criterion': 'gini', 'max_features': 'auto', ...  "
      ]
     },
     "execution_count": 40,
     "metadata": {},
     "output_type": "execute_result"
    }
   ],
   "source": [
    "tempB_SL_imb = []\n",
    "\n",
    "y_train = df1_B_imb[['CGPA']]\n",
    "X_train = df1_B_imb[['Relationship Status', 'Scholarship', 'PTPTN', 'Skipping Class', 'Additional Course',\n",
    "                    'Study Behavior', 'Study Time', 'Extra Curricular Activities', 'Part-time Job', 'Commute Time',\n",
    "                    'Gaming', 'Alcohol Consumption', 'I have enough free time after class', 'Social Interaction',\n",
    "                    'I hang out with friends']]\n",
    "\n",
    "y_test = df2_B_imb[['CGPA']]\n",
    "X_test = df2_B_imb[['Relationship Status', 'Scholarship', 'PTPTN', 'Skipping Class', 'Additional Course',\n",
    "                    'Study Behavior', 'Study Time', 'Extra Curricular Activities', 'Part-time Job', 'Commute Time',\n",
    "                    'Gaming', 'Alcohol Consumption', 'I have enough free time after class', 'Social Interaction',\n",
    "                    'I hang out with friends']]\n",
    "\n",
    "for j in rand_states:\n",
    "    param_grid = {'n_estimators': [100, 200, 300, 400],\n",
    "                  'max_features': ['auto', 'sqrt', 'log2'],\n",
    "                  'criterion' :['gini', 'entropy']}\n",
    "\n",
    "    model = GridSearchCV(RandomForestClassifier(), param_grid, refit=True, n_jobs=-1, cv=10, verbose=1)\n",
    "    model.fit(X_train, y_train)\n",
    "    pred = model.predict(X_test)\n",
    "\n",
    "    acc = accuracy_score(y_test,pred)\n",
    "    pre = precision_score(y_test, pred, average='weighted')\n",
    "    recall = recall_score(y_test, pred, average='weighted')\n",
    "    f1 = f1_score(y_test, pred, average='weighted')\n",
    "    param = model.best_params_\n",
    "\n",
    "    tempB_SL_imb.append([100,j,acc,pre,recall,f1,param])\n",
    "        \n",
    "dfB_SL_imb = pd.DataFrame(columns=['Test Size','Random State','Accuracy','Precision','Recall','F1 Score','Best Param'],data=tempB_SL_imb)\n",
    "dfB_SL_imb"
   ]
  },
  {
   "cell_type": "code",
   "execution_count": 41,
   "id": "01b25168-66d2-4395-aa8d-52bed4b104ce",
   "metadata": {},
   "outputs": [
    {
     "data": {
      "text/html": [
       "<div>\n",
       "<style scoped>\n",
       "    .dataframe tbody tr th:only-of-type {\n",
       "        vertical-align: middle;\n",
       "    }\n",
       "\n",
       "    .dataframe tbody tr th {\n",
       "        vertical-align: top;\n",
       "    }\n",
       "\n",
       "    .dataframe thead th {\n",
       "        text-align: right;\n",
       "    }\n",
       "</style>\n",
       "<table border=\"1\" class=\"dataframe\">\n",
       "  <thead>\n",
       "    <tr style=\"text-align: right;\">\n",
       "      <th></th>\n",
       "      <th>Accuracy</th>\n",
       "      <th>Precision</th>\n",
       "      <th>Recall</th>\n",
       "      <th>F1 Score</th>\n",
       "    </tr>\n",
       "    <tr>\n",
       "      <th>Test Size</th>\n",
       "      <th></th>\n",
       "      <th></th>\n",
       "      <th></th>\n",
       "      <th></th>\n",
       "    </tr>\n",
       "  </thead>\n",
       "  <tbody>\n",
       "    <tr>\n",
       "      <th>100</th>\n",
       "      <td>0.978827</td>\n",
       "      <td>0.958103</td>\n",
       "      <td>0.978827</td>\n",
       "      <td>0.968354</td>\n",
       "    </tr>\n",
       "  </tbody>\n",
       "</table>\n",
       "</div>"
      ],
      "text/plain": [
       "           Accuracy  Precision    Recall  F1 Score\n",
       "Test Size                                         \n",
       "100        0.978827   0.958103  0.978827  0.968354"
      ]
     },
     "execution_count": 41,
     "metadata": {},
     "output_type": "execute_result"
    }
   ],
   "source": [
    "dfB_SL_imb.groupby('Test Size')[['Accuracy','Precision','Recall','F1 Score']].mean()"
   ]
  },
  {
   "cell_type": "code",
   "execution_count": 42,
   "id": "ff651db9-86cf-424a-ab0a-8f32ba54e5e4",
   "metadata": {},
   "outputs": [
    {
     "name": "stdout",
     "output_type": "stream",
     "text": [
      "Imbalance Binary: Student Lifestyle\n",
      "\n",
      "{'criterion': 'gini', 'max_features': 'auto', 'n_estimators': 100}\n",
      "{'criterion': 'gini', 'max_features': 'auto', 'n_estimators': 100}\n",
      "{'criterion': 'gini', 'max_features': 'auto', 'n_estimators': 100}\n"
     ]
    }
   ],
   "source": [
    "print(\"Imbalance Binary: Student Lifestyle\\n\")\n",
    "for x in dfB_SL_imb[\"Best Param\"]:\n",
    "    print(x)"
   ]
  },
  {
   "cell_type": "markdown",
   "id": "d93fde0b-bc24-49c7-a795-926a884b74c8",
   "metadata": {},
   "source": [
    "### SL after RandomOverSampler"
   ]
  },
  {
   "cell_type": "code",
   "execution_count": 43,
   "id": "70cf82b2-bd9a-4aa6-bae6-deba625e17b6",
   "metadata": {},
   "outputs": [
    {
     "name": "stdout",
     "output_type": "stream",
     "text": [
      "Fitting 10 folds for each of 24 candidates, totalling 240 fits\n"
     ]
    },
    {
     "name": "stderr",
     "output_type": "stream",
     "text": [
      "C:\\Users\\hazel\\anaconda3\\Lib\\site-packages\\sklearn\\model_selection\\_search.py:909: DataConversionWarning: A column-vector y was passed when a 1d array was expected. Please change the shape of y to (n_samples,), for example using ravel().\n",
      "  self.best_estimator_.fit(X, y, **fit_params)\n",
      "C:\\Users\\hazel\\anaconda3\\Lib\\site-packages\\sklearn\\ensemble\\_forest.py:424: FutureWarning: `max_features='auto'` has been deprecated in 1.1 and will be removed in 1.3. To keep the past behaviour, explicitly set `max_features='sqrt'` or remove this parameter as it is also the default value for RandomForestClassifiers and ExtraTreesClassifiers.\n",
      "  warn(\n",
      "C:\\Users\\hazel\\anaconda3\\Lib\\site-packages\\sklearn\\metrics\\_classification.py:1344: UndefinedMetricWarning: Precision is ill-defined and being set to 0.0 in labels with no predicted samples. Use `zero_division` parameter to control this behavior.\n",
      "  _warn_prf(average, modifier, msg_start, len(result))\n"
     ]
    },
    {
     "name": "stdout",
     "output_type": "stream",
     "text": [
      "Fitting 10 folds for each of 24 candidates, totalling 240 fits\n"
     ]
    },
    {
     "name": "stderr",
     "output_type": "stream",
     "text": [
      "C:\\Users\\hazel\\anaconda3\\Lib\\site-packages\\sklearn\\model_selection\\_search.py:909: DataConversionWarning: A column-vector y was passed when a 1d array was expected. Please change the shape of y to (n_samples,), for example using ravel().\n",
      "  self.best_estimator_.fit(X, y, **fit_params)\n",
      "C:\\Users\\hazel\\anaconda3\\Lib\\site-packages\\sklearn\\ensemble\\_forest.py:424: FutureWarning: `max_features='auto'` has been deprecated in 1.1 and will be removed in 1.3. To keep the past behaviour, explicitly set `max_features='sqrt'` or remove this parameter as it is also the default value for RandomForestClassifiers and ExtraTreesClassifiers.\n",
      "  warn(\n",
      "C:\\Users\\hazel\\anaconda3\\Lib\\site-packages\\sklearn\\metrics\\_classification.py:1344: UndefinedMetricWarning: Precision is ill-defined and being set to 0.0 in labels with no predicted samples. Use `zero_division` parameter to control this behavior.\n",
      "  _warn_prf(average, modifier, msg_start, len(result))\n"
     ]
    },
    {
     "name": "stdout",
     "output_type": "stream",
     "text": [
      "Fitting 10 folds for each of 24 candidates, totalling 240 fits\n"
     ]
    },
    {
     "name": "stderr",
     "output_type": "stream",
     "text": [
      "C:\\Users\\hazel\\anaconda3\\Lib\\site-packages\\sklearn\\model_selection\\_search.py:909: DataConversionWarning: A column-vector y was passed when a 1d array was expected. Please change the shape of y to (n_samples,), for example using ravel().\n",
      "  self.best_estimator_.fit(X, y, **fit_params)\n",
      "C:\\Users\\hazel\\anaconda3\\Lib\\site-packages\\sklearn\\ensemble\\_forest.py:424: FutureWarning: `max_features='auto'` has been deprecated in 1.1 and will be removed in 1.3. To keep the past behaviour, explicitly set `max_features='sqrt'` or remove this parameter as it is also the default value for RandomForestClassifiers and ExtraTreesClassifiers.\n",
      "  warn(\n",
      "C:\\Users\\hazel\\anaconda3\\Lib\\site-packages\\sklearn\\metrics\\_classification.py:1344: UndefinedMetricWarning: Precision is ill-defined and being set to 0.0 in labels with no predicted samples. Use `zero_division` parameter to control this behavior.\n",
      "  _warn_prf(average, modifier, msg_start, len(result))\n"
     ]
    },
    {
     "data": {
      "text/html": [
       "<div>\n",
       "<style scoped>\n",
       "    .dataframe tbody tr th:only-of-type {\n",
       "        vertical-align: middle;\n",
       "    }\n",
       "\n",
       "    .dataframe tbody tr th {\n",
       "        vertical-align: top;\n",
       "    }\n",
       "\n",
       "    .dataframe thead th {\n",
       "        text-align: right;\n",
       "    }\n",
       "</style>\n",
       "<table border=\"1\" class=\"dataframe\">\n",
       "  <thead>\n",
       "    <tr style=\"text-align: right;\">\n",
       "      <th></th>\n",
       "      <th>Test Size</th>\n",
       "      <th>Random State</th>\n",
       "      <th>Accuracy</th>\n",
       "      <th>Precision</th>\n",
       "      <th>Recall</th>\n",
       "      <th>F1 Score</th>\n",
       "      <th>Best Param</th>\n",
       "    </tr>\n",
       "  </thead>\n",
       "  <tbody>\n",
       "    <tr>\n",
       "      <th>0</th>\n",
       "      <td>100</td>\n",
       "      <td>7</td>\n",
       "      <td>0.5</td>\n",
       "      <td>0.25</td>\n",
       "      <td>0.5</td>\n",
       "      <td>0.333333</td>\n",
       "      <td>{'criterion': 'gini', 'max_features': 'auto', ...</td>\n",
       "    </tr>\n",
       "    <tr>\n",
       "      <th>1</th>\n",
       "      <td>100</td>\n",
       "      <td>69</td>\n",
       "      <td>0.5</td>\n",
       "      <td>0.25</td>\n",
       "      <td>0.5</td>\n",
       "      <td>0.333333</td>\n",
       "      <td>{'criterion': 'gini', 'max_features': 'auto', ...</td>\n",
       "    </tr>\n",
       "    <tr>\n",
       "      <th>2</th>\n",
       "      <td>100</td>\n",
       "      <td>101</td>\n",
       "      <td>0.5</td>\n",
       "      <td>0.25</td>\n",
       "      <td>0.5</td>\n",
       "      <td>0.333333</td>\n",
       "      <td>{'criterion': 'gini', 'max_features': 'auto', ...</td>\n",
       "    </tr>\n",
       "  </tbody>\n",
       "</table>\n",
       "</div>"
      ],
      "text/plain": [
       "   Test Size  Random State  Accuracy  Precision  Recall  F1 Score  \\\n",
       "0        100             7       0.5       0.25     0.5  0.333333   \n",
       "1        100            69       0.5       0.25     0.5  0.333333   \n",
       "2        100           101       0.5       0.25     0.5  0.333333   \n",
       "\n",
       "                                          Best Param  \n",
       "0  {'criterion': 'gini', 'max_features': 'auto', ...  \n",
       "1  {'criterion': 'gini', 'max_features': 'auto', ...  \n",
       "2  {'criterion': 'gini', 'max_features': 'auto', ...  "
      ]
     },
     "execution_count": 43,
     "metadata": {},
     "output_type": "execute_result"
    }
   ],
   "source": [
    "tempB_SL_ROS = []\n",
    "\n",
    "y_train = df1_B_ROS[['CGPA']]\n",
    "X_train = df1_B_ROS[['Relationship Status', 'Scholarship', 'PTPTN', 'Skipping Class', 'Additional Course',\n",
    "                    'Study Behavior', 'Study Time', 'Extra Curricular Activities', 'Part-time Job', 'Commute Time',\n",
    "                    'Gaming', 'Alcohol Consumption', 'I have enough free time after class', 'Social Interaction',\n",
    "                    'I hang out with friends']]\n",
    "\n",
    "y_test = df2_B_ROS[['CGPA']]\n",
    "X_test = df2_B_ROS[['Relationship Status', 'Scholarship', 'PTPTN', 'Skipping Class', 'Additional Course',\n",
    "                    'Study Behavior', 'Study Time', 'Extra Curricular Activities', 'Part-time Job', 'Commute Time',\n",
    "                    'Gaming', 'Alcohol Consumption', 'I have enough free time after class', 'Social Interaction',\n",
    "                    'I hang out with friends']]\n",
    "\n",
    "for j in rand_states:\n",
    "    param_grid = {'n_estimators': [100, 200, 300, 400],\n",
    "                  'max_features': ['auto', 'sqrt', 'log2'],\n",
    "                  'criterion' :['gini', 'entropy']}\n",
    "\n",
    "    model = GridSearchCV(RandomForestClassifier(), param_grid, refit=True, n_jobs=-1, cv=10, verbose=1)\n",
    "    model.fit(X_train, y_train)\n",
    "    pred = model.predict(X_test)\n",
    "\n",
    "    acc = accuracy_score(y_test,pred)\n",
    "    pre = precision_score(y_test, pred, average='weighted')\n",
    "    recall = recall_score(y_test, pred, average='weighted')\n",
    "    f1 = f1_score(y_test, pred, average='weighted')\n",
    "    param = model.best_params_\n",
    "\n",
    "    tempB_SL_ROS.append([100,j,acc,pre,recall,f1,param])\n",
    "        \n",
    "dfB_SL_ROS = pd.DataFrame(columns=['Test Size','Random State','Accuracy','Precision','Recall','F1 Score','Best Param'],data=tempB_SL_ROS)\n",
    "dfB_SL_ROS"
   ]
  },
  {
   "cell_type": "code",
   "execution_count": 44,
   "id": "046d2476-9795-44dd-973b-6d32dfdb1b57",
   "metadata": {},
   "outputs": [
    {
     "data": {
      "text/html": [
       "<div>\n",
       "<style scoped>\n",
       "    .dataframe tbody tr th:only-of-type {\n",
       "        vertical-align: middle;\n",
       "    }\n",
       "\n",
       "    .dataframe tbody tr th {\n",
       "        vertical-align: top;\n",
       "    }\n",
       "\n",
       "    .dataframe thead th {\n",
       "        text-align: right;\n",
       "    }\n",
       "</style>\n",
       "<table border=\"1\" class=\"dataframe\">\n",
       "  <thead>\n",
       "    <tr style=\"text-align: right;\">\n",
       "      <th></th>\n",
       "      <th>Accuracy</th>\n",
       "      <th>Precision</th>\n",
       "      <th>Recall</th>\n",
       "      <th>F1 Score</th>\n",
       "    </tr>\n",
       "    <tr>\n",
       "      <th>Test Size</th>\n",
       "      <th></th>\n",
       "      <th></th>\n",
       "      <th></th>\n",
       "      <th></th>\n",
       "    </tr>\n",
       "  </thead>\n",
       "  <tbody>\n",
       "    <tr>\n",
       "      <th>100</th>\n",
       "      <td>0.5</td>\n",
       "      <td>0.25</td>\n",
       "      <td>0.5</td>\n",
       "      <td>0.333333</td>\n",
       "    </tr>\n",
       "  </tbody>\n",
       "</table>\n",
       "</div>"
      ],
      "text/plain": [
       "           Accuracy  Precision  Recall  F1 Score\n",
       "Test Size                                       \n",
       "100             0.5       0.25     0.5  0.333333"
      ]
     },
     "execution_count": 44,
     "metadata": {},
     "output_type": "execute_result"
    }
   ],
   "source": [
    "dfB_SL_ROS.groupby('Test Size')[['Accuracy','Precision','Recall','F1 Score']].mean()"
   ]
  },
  {
   "cell_type": "code",
   "execution_count": 45,
   "id": "bc2063ab-6682-4b72-a424-9443d8b71acb",
   "metadata": {},
   "outputs": [
    {
     "name": "stdout",
     "output_type": "stream",
     "text": [
      "Binary: Student Lifestyle\n",
      "\n",
      "{'criterion': 'gini', 'max_features': 'auto', 'n_estimators': 100}\n",
      "{'criterion': 'gini', 'max_features': 'auto', 'n_estimators': 100}\n",
      "{'criterion': 'gini', 'max_features': 'auto', 'n_estimators': 100}\n"
     ]
    }
   ],
   "source": [
    "print(\"Binary: Student Lifestyle\\n\")\n",
    "for x in dfB_SL_ROS[\"Best Param\"]:\n",
    "    print(x)"
   ]
  },
  {
   "cell_type": "markdown",
   "id": "0f1c88c8-6d37-49ad-9405-53ebbc11b6f7",
   "metadata": {},
   "source": [
    "### SL after SMOTE"
   ]
  },
  {
   "cell_type": "code",
   "execution_count": 46,
   "id": "52842339-2a11-424d-a4cd-b4f9cd4b690f",
   "metadata": {},
   "outputs": [
    {
     "name": "stdout",
     "output_type": "stream",
     "text": [
      "Fitting 10 folds for each of 24 candidates, totalling 240 fits\n"
     ]
    },
    {
     "name": "stderr",
     "output_type": "stream",
     "text": [
      "C:\\Users\\hazel\\anaconda3\\Lib\\site-packages\\sklearn\\model_selection\\_search.py:909: DataConversionWarning: A column-vector y was passed when a 1d array was expected. Please change the shape of y to (n_samples,), for example using ravel().\n",
      "  self.best_estimator_.fit(X, y, **fit_params)\n"
     ]
    },
    {
     "name": "stdout",
     "output_type": "stream",
     "text": [
      "Fitting 10 folds for each of 24 candidates, totalling 240 fits\n"
     ]
    },
    {
     "name": "stderr",
     "output_type": "stream",
     "text": [
      "C:\\Users\\hazel\\anaconda3\\Lib\\site-packages\\sklearn\\model_selection\\_search.py:909: DataConversionWarning: A column-vector y was passed when a 1d array was expected. Please change the shape of y to (n_samples,), for example using ravel().\n",
      "  self.best_estimator_.fit(X, y, **fit_params)\n",
      "C:\\Users\\hazel\\anaconda3\\Lib\\site-packages\\sklearn\\ensemble\\_forest.py:424: FutureWarning: `max_features='auto'` has been deprecated in 1.1 and will be removed in 1.3. To keep the past behaviour, explicitly set `max_features='sqrt'` or remove this parameter as it is also the default value for RandomForestClassifiers and ExtraTreesClassifiers.\n",
      "  warn(\n"
     ]
    },
    {
     "name": "stdout",
     "output_type": "stream",
     "text": [
      "Fitting 10 folds for each of 24 candidates, totalling 240 fits\n"
     ]
    },
    {
     "name": "stderr",
     "output_type": "stream",
     "text": [
      "C:\\Users\\hazel\\anaconda3\\Lib\\site-packages\\sklearn\\model_selection\\_search.py:909: DataConversionWarning: A column-vector y was passed when a 1d array was expected. Please change the shape of y to (n_samples,), for example using ravel().\n",
      "  self.best_estimator_.fit(X, y, **fit_params)\n",
      "C:\\Users\\hazel\\anaconda3\\Lib\\site-packages\\sklearn\\ensemble\\_forest.py:424: FutureWarning: `max_features='auto'` has been deprecated in 1.1 and will be removed in 1.3. To keep the past behaviour, explicitly set `max_features='sqrt'` or remove this parameter as it is also the default value for RandomForestClassifiers and ExtraTreesClassifiers.\n",
      "  warn(\n"
     ]
    },
    {
     "data": {
      "text/html": [
       "<div>\n",
       "<style scoped>\n",
       "    .dataframe tbody tr th:only-of-type {\n",
       "        vertical-align: middle;\n",
       "    }\n",
       "\n",
       "    .dataframe tbody tr th {\n",
       "        vertical-align: top;\n",
       "    }\n",
       "\n",
       "    .dataframe thead th {\n",
       "        text-align: right;\n",
       "    }\n",
       "</style>\n",
       "<table border=\"1\" class=\"dataframe\">\n",
       "  <thead>\n",
       "    <tr style=\"text-align: right;\">\n",
       "      <th></th>\n",
       "      <th>Test Size</th>\n",
       "      <th>Random State</th>\n",
       "      <th>Accuracy</th>\n",
       "      <th>Precision</th>\n",
       "      <th>Recall</th>\n",
       "      <th>F1 Score</th>\n",
       "      <th>Best Param</th>\n",
       "    </tr>\n",
       "  </thead>\n",
       "  <tbody>\n",
       "    <tr>\n",
       "      <th>0</th>\n",
       "      <td>100</td>\n",
       "      <td>7</td>\n",
       "      <td>0.499168</td>\n",
       "      <td>0.249792</td>\n",
       "      <td>0.499168</td>\n",
       "      <td>0.332963</td>\n",
       "      <td>{'criterion': 'gini', 'max_features': 'sqrt', ...</td>\n",
       "    </tr>\n",
       "    <tr>\n",
       "      <th>1</th>\n",
       "      <td>100</td>\n",
       "      <td>69</td>\n",
       "      <td>0.499168</td>\n",
       "      <td>0.249792</td>\n",
       "      <td>0.499168</td>\n",
       "      <td>0.332963</td>\n",
       "      <td>{'criterion': 'entropy', 'max_features': 'auto...</td>\n",
       "    </tr>\n",
       "    <tr>\n",
       "      <th>2</th>\n",
       "      <td>100</td>\n",
       "      <td>101</td>\n",
       "      <td>0.499168</td>\n",
       "      <td>0.249792</td>\n",
       "      <td>0.499168</td>\n",
       "      <td>0.332963</td>\n",
       "      <td>{'criterion': 'gini', 'max_features': 'auto', ...</td>\n",
       "    </tr>\n",
       "  </tbody>\n",
       "</table>\n",
       "</div>"
      ],
      "text/plain": [
       "   Test Size  Random State  Accuracy  Precision    Recall  F1 Score  \\\n",
       "0        100             7  0.499168   0.249792  0.499168  0.332963   \n",
       "1        100            69  0.499168   0.249792  0.499168  0.332963   \n",
       "2        100           101  0.499168   0.249792  0.499168  0.332963   \n",
       "\n",
       "                                          Best Param  \n",
       "0  {'criterion': 'gini', 'max_features': 'sqrt', ...  \n",
       "1  {'criterion': 'entropy', 'max_features': 'auto...  \n",
       "2  {'criterion': 'gini', 'max_features': 'auto', ...  "
      ]
     },
     "execution_count": 46,
     "metadata": {},
     "output_type": "execute_result"
    }
   ],
   "source": [
    "tempB_SL_SMOTE = []\n",
    "\n",
    "y_train = df1_B_SMOTE[['CGPA']]\n",
    "X_train = df1_B_SMOTE[['Relationship Status', 'Scholarship', 'PTPTN', 'Skipping Class', 'Additional Course',\n",
    "                    'Study Behavior', 'Study Time', 'Extra Curricular Activities', 'Part-time Job', 'Commute Time',\n",
    "                    'Gaming', 'Alcohol Consumption', 'I have enough free time after class', 'Social Interaction',\n",
    "                    'I hang out with friends']]\n",
    "\n",
    "y_test = df2_B_SMOTE[['CGPA']]\n",
    "X_test = df2_B_SMOTE[['Relationship Status', 'Scholarship', 'PTPTN', 'Skipping Class', 'Additional Course',\n",
    "                    'Study Behavior', 'Study Time', 'Extra Curricular Activities', 'Part-time Job', 'Commute Time',\n",
    "                    'Gaming', 'Alcohol Consumption', 'I have enough free time after class', 'Social Interaction',\n",
    "                    'I hang out with friends']]\n",
    "\n",
    "for j in rand_states:\n",
    "    param_grid = {'n_estimators': [100, 200, 300, 400],\n",
    "                  'max_features': ['auto', 'sqrt', 'log2'],\n",
    "                  'criterion' :['gini', 'entropy']}\n",
    "\n",
    "    model = GridSearchCV(RandomForestClassifier(), param_grid, refit=True, n_jobs=-1, cv=10, verbose=1)\n",
    "    model.fit(X_train, y_train)\n",
    "    pred = model.predict(X_test)\n",
    "\n",
    "    acc = accuracy_score(y_test,pred)\n",
    "    pre = precision_score(y_test, pred, average='weighted')\n",
    "    recall = recall_score(y_test, pred, average='weighted')\n",
    "    f1 = f1_score(y_test, pred, average='weighted')\n",
    "    param = model.best_params_\n",
    "\n",
    "    tempB_SL_SMOTE.append([100,j,acc,pre,recall,f1,param])\n",
    "        \n",
    "dfB_SL_SMOTE = pd.DataFrame(columns=['Test Size','Random State','Accuracy','Precision','Recall','F1 Score','Best Param'],data=tempB_SL_SMOTE)\n",
    "dfB_SL_SMOTE"
   ]
  },
  {
   "cell_type": "code",
   "execution_count": 47,
   "id": "cdc1bf86-497b-450d-a90e-b88dbd005dab",
   "metadata": {},
   "outputs": [
    {
     "data": {
      "text/html": [
       "<div>\n",
       "<style scoped>\n",
       "    .dataframe tbody tr th:only-of-type {\n",
       "        vertical-align: middle;\n",
       "    }\n",
       "\n",
       "    .dataframe tbody tr th {\n",
       "        vertical-align: top;\n",
       "    }\n",
       "\n",
       "    .dataframe thead th {\n",
       "        text-align: right;\n",
       "    }\n",
       "</style>\n",
       "<table border=\"1\" class=\"dataframe\">\n",
       "  <thead>\n",
       "    <tr style=\"text-align: right;\">\n",
       "      <th></th>\n",
       "      <th>Accuracy</th>\n",
       "      <th>Precision</th>\n",
       "      <th>Recall</th>\n",
       "      <th>F1 Score</th>\n",
       "    </tr>\n",
       "    <tr>\n",
       "      <th>Test Size</th>\n",
       "      <th></th>\n",
       "      <th></th>\n",
       "      <th></th>\n",
       "      <th></th>\n",
       "    </tr>\n",
       "  </thead>\n",
       "  <tbody>\n",
       "    <tr>\n",
       "      <th>100</th>\n",
       "      <td>0.499168</td>\n",
       "      <td>0.249792</td>\n",
       "      <td>0.499168</td>\n",
       "      <td>0.332963</td>\n",
       "    </tr>\n",
       "  </tbody>\n",
       "</table>\n",
       "</div>"
      ],
      "text/plain": [
       "           Accuracy  Precision    Recall  F1 Score\n",
       "Test Size                                         \n",
       "100        0.499168   0.249792  0.499168  0.332963"
      ]
     },
     "execution_count": 47,
     "metadata": {},
     "output_type": "execute_result"
    }
   ],
   "source": [
    "dfB_SL_SMOTE.groupby('Test Size')[['Accuracy','Precision','Recall','F1 Score']].mean()"
   ]
  },
  {
   "cell_type": "code",
   "execution_count": 48,
   "id": "3dea446d-6833-43fa-9800-4e98bacf83b9",
   "metadata": {},
   "outputs": [
    {
     "name": "stdout",
     "output_type": "stream",
     "text": [
      "SMOTE Binary: Student Lifestyle\n",
      "\n",
      "{'criterion': 'gini', 'max_features': 'sqrt', 'n_estimators': 100}\n",
      "{'criterion': 'entropy', 'max_features': 'auto', 'n_estimators': 200}\n",
      "{'criterion': 'gini', 'max_features': 'auto', 'n_estimators': 300}\n"
     ]
    }
   ],
   "source": [
    "print(\"SMOTE Binary: Student Lifestyle\\n\")\n",
    "for x in dfB_SL_SMOTE[\"Best Param\"]:\n",
    "    print(x)"
   ]
  },
  {
   "cell_type": "markdown",
   "id": "56365878-bb28-4bc3-8367-f931e84b3023",
   "metadata": {},
   "source": [
    "## All Attributes"
   ]
  },
  {
   "cell_type": "markdown",
   "id": "5767c9c5-58f6-41cf-8d00-32647506d987",
   "metadata": {},
   "source": [
    "### AA before Data Balancing"
   ]
  },
  {
   "cell_type": "code",
   "execution_count": 49,
   "id": "7c31be63-d713-4e48-b377-37b95466ecdf",
   "metadata": {},
   "outputs": [
    {
     "name": "stdout",
     "output_type": "stream",
     "text": [
      "Fitting 10 folds for each of 24 candidates, totalling 240 fits\n"
     ]
    },
    {
     "name": "stderr",
     "output_type": "stream",
     "text": [
      "C:\\Users\\hazel\\anaconda3\\Lib\\site-packages\\sklearn\\model_selection\\_split.py:700: UserWarning: The least populated class in y has only 4 members, which is less than n_splits=10.\n",
      "  warnings.warn(\n",
      "C:\\Users\\hazel\\anaconda3\\Lib\\site-packages\\sklearn\\model_selection\\_search.py:909: DataConversionWarning: A column-vector y was passed when a 1d array was expected. Please change the shape of y to (n_samples,), for example using ravel().\n",
      "  self.best_estimator_.fit(X, y, **fit_params)\n",
      "C:\\Users\\hazel\\anaconda3\\Lib\\site-packages\\sklearn\\ensemble\\_forest.py:424: FutureWarning: `max_features='auto'` has been deprecated in 1.1 and will be removed in 1.3. To keep the past behaviour, explicitly set `max_features='sqrt'` or remove this parameter as it is also the default value for RandomForestClassifiers and ExtraTreesClassifiers.\n",
      "  warn(\n",
      "C:\\Users\\hazel\\anaconda3\\Lib\\site-packages\\sklearn\\metrics\\_classification.py:1344: UndefinedMetricWarning: Precision is ill-defined and being set to 0.0 in labels with no predicted samples. Use `zero_division` parameter to control this behavior.\n",
      "  _warn_prf(average, modifier, msg_start, len(result))\n",
      "C:\\Users\\hazel\\anaconda3\\Lib\\site-packages\\sklearn\\model_selection\\_split.py:700: UserWarning: The least populated class in y has only 4 members, which is less than n_splits=10.\n",
      "  warnings.warn(\n"
     ]
    },
    {
     "name": "stdout",
     "output_type": "stream",
     "text": [
      "Fitting 10 folds for each of 24 candidates, totalling 240 fits\n"
     ]
    },
    {
     "name": "stderr",
     "output_type": "stream",
     "text": [
      "C:\\Users\\hazel\\anaconda3\\Lib\\site-packages\\sklearn\\model_selection\\_search.py:909: DataConversionWarning: A column-vector y was passed when a 1d array was expected. Please change the shape of y to (n_samples,), for example using ravel().\n",
      "  self.best_estimator_.fit(X, y, **fit_params)\n",
      "C:\\Users\\hazel\\anaconda3\\Lib\\site-packages\\sklearn\\ensemble\\_forest.py:424: FutureWarning: `max_features='auto'` has been deprecated in 1.1 and will be removed in 1.3. To keep the past behaviour, explicitly set `max_features='sqrt'` or remove this parameter as it is also the default value for RandomForestClassifiers and ExtraTreesClassifiers.\n",
      "  warn(\n",
      "C:\\Users\\hazel\\anaconda3\\Lib\\site-packages\\sklearn\\metrics\\_classification.py:1344: UndefinedMetricWarning: Precision is ill-defined and being set to 0.0 in labels with no predicted samples. Use `zero_division` parameter to control this behavior.\n",
      "  _warn_prf(average, modifier, msg_start, len(result))\n",
      "C:\\Users\\hazel\\anaconda3\\Lib\\site-packages\\sklearn\\model_selection\\_split.py:700: UserWarning: The least populated class in y has only 4 members, which is less than n_splits=10.\n",
      "  warnings.warn(\n"
     ]
    },
    {
     "name": "stdout",
     "output_type": "stream",
     "text": [
      "Fitting 10 folds for each of 24 candidates, totalling 240 fits\n"
     ]
    },
    {
     "name": "stderr",
     "output_type": "stream",
     "text": [
      "C:\\Users\\hazel\\anaconda3\\Lib\\site-packages\\sklearn\\model_selection\\_search.py:909: DataConversionWarning: A column-vector y was passed when a 1d array was expected. Please change the shape of y to (n_samples,), for example using ravel().\n",
      "  self.best_estimator_.fit(X, y, **fit_params)\n",
      "C:\\Users\\hazel\\anaconda3\\Lib\\site-packages\\sklearn\\ensemble\\_forest.py:424: FutureWarning: `max_features='auto'` has been deprecated in 1.1 and will be removed in 1.3. To keep the past behaviour, explicitly set `max_features='sqrt'` or remove this parameter as it is also the default value for RandomForestClassifiers and ExtraTreesClassifiers.\n",
      "  warn(\n",
      "C:\\Users\\hazel\\anaconda3\\Lib\\site-packages\\sklearn\\metrics\\_classification.py:1344: UndefinedMetricWarning: Precision is ill-defined and being set to 0.0 in labels with no predicted samples. Use `zero_division` parameter to control this behavior.\n",
      "  _warn_prf(average, modifier, msg_start, len(result))\n"
     ]
    },
    {
     "data": {
      "text/html": [
       "<div>\n",
       "<style scoped>\n",
       "    .dataframe tbody tr th:only-of-type {\n",
       "        vertical-align: middle;\n",
       "    }\n",
       "\n",
       "    .dataframe tbody tr th {\n",
       "        vertical-align: top;\n",
       "    }\n",
       "\n",
       "    .dataframe thead th {\n",
       "        text-align: right;\n",
       "    }\n",
       "</style>\n",
       "<table border=\"1\" class=\"dataframe\">\n",
       "  <thead>\n",
       "    <tr style=\"text-align: right;\">\n",
       "      <th></th>\n",
       "      <th>Test Size</th>\n",
       "      <th>Random State</th>\n",
       "      <th>Accuracy</th>\n",
       "      <th>Precision</th>\n",
       "      <th>Recall</th>\n",
       "      <th>F1 Score</th>\n",
       "      <th>Best Param</th>\n",
       "    </tr>\n",
       "  </thead>\n",
       "  <tbody>\n",
       "    <tr>\n",
       "      <th>0</th>\n",
       "      <td>100</td>\n",
       "      <td>7</td>\n",
       "      <td>0.978827</td>\n",
       "      <td>0.958103</td>\n",
       "      <td>0.978827</td>\n",
       "      <td>0.968354</td>\n",
       "      <td>{'criterion': 'gini', 'max_features': 'auto', ...</td>\n",
       "    </tr>\n",
       "    <tr>\n",
       "      <th>1</th>\n",
       "      <td>100</td>\n",
       "      <td>69</td>\n",
       "      <td>0.978827</td>\n",
       "      <td>0.958103</td>\n",
       "      <td>0.978827</td>\n",
       "      <td>0.968354</td>\n",
       "      <td>{'criterion': 'gini', 'max_features': 'auto', ...</td>\n",
       "    </tr>\n",
       "    <tr>\n",
       "      <th>2</th>\n",
       "      <td>100</td>\n",
       "      <td>101</td>\n",
       "      <td>0.978827</td>\n",
       "      <td>0.958103</td>\n",
       "      <td>0.978827</td>\n",
       "      <td>0.968354</td>\n",
       "      <td>{'criterion': 'gini', 'max_features': 'auto', ...</td>\n",
       "    </tr>\n",
       "  </tbody>\n",
       "</table>\n",
       "</div>"
      ],
      "text/plain": [
       "   Test Size  Random State  Accuracy  Precision    Recall  F1 Score  \\\n",
       "0        100             7  0.978827   0.958103  0.978827  0.968354   \n",
       "1        100            69  0.978827   0.958103  0.978827  0.968354   \n",
       "2        100           101  0.978827   0.958103  0.978827  0.968354   \n",
       "\n",
       "                                          Best Param  \n",
       "0  {'criterion': 'gini', 'max_features': 'auto', ...  \n",
       "1  {'criterion': 'gini', 'max_features': 'auto', ...  \n",
       "2  {'criterion': 'gini', 'max_features': 'auto', ...  "
      ]
     },
     "execution_count": 49,
     "metadata": {},
     "output_type": "execute_result"
    }
   ],
   "source": [
    "tempB_imb = []\n",
    "\n",
    "y_train = df1_B_imb[['CGPA']]\n",
    "X_train = df1_B_imb.drop(columns=['CGPA'])\n",
    "\n",
    "y_test = df2_B_imb[['CGPA']]\n",
    "X_test = df2_B_imb.drop(columns=['CGPA'])\n",
    "\n",
    "for j in rand_states:\n",
    "    param_grid = {'n_estimators': [100, 200, 300, 400],\n",
    "                  'max_features': ['auto', 'sqrt', 'log2'],\n",
    "                  'criterion' :['gini', 'entropy']}\n",
    "\n",
    "    model = GridSearchCV(RandomForestClassifier(), param_grid, refit=True, n_jobs=-1, cv=10, verbose=1)\n",
    "    model.fit(X_train, y_train)\n",
    "    pred = model.predict(X_test)\n",
    "\n",
    "    acc = accuracy_score(y_test,pred)\n",
    "    pre = precision_score(y_test, pred, average='weighted')\n",
    "    recall = recall_score(y_test, pred, average='weighted')\n",
    "    f1 = f1_score(y_test, pred, average='weighted')\n",
    "    param = model.best_params_\n",
    "\n",
    "    tempB_imb.append([100,j,acc,pre,recall,f1,param])\n",
    "        \n",
    "dfB_imb = pd.DataFrame(columns=['Test Size','Random State','Accuracy','Precision','Recall','F1 Score','Best Param'],data=tempB_imb)\n",
    "dfB_imb"
   ]
  },
  {
   "cell_type": "code",
   "execution_count": 50,
   "id": "32e64d63-bbf8-4d50-ba84-12da4064602e",
   "metadata": {},
   "outputs": [
    {
     "data": {
      "text/html": [
       "<div>\n",
       "<style scoped>\n",
       "    .dataframe tbody tr th:only-of-type {\n",
       "        vertical-align: middle;\n",
       "    }\n",
       "\n",
       "    .dataframe tbody tr th {\n",
       "        vertical-align: top;\n",
       "    }\n",
       "\n",
       "    .dataframe thead th {\n",
       "        text-align: right;\n",
       "    }\n",
       "</style>\n",
       "<table border=\"1\" class=\"dataframe\">\n",
       "  <thead>\n",
       "    <tr style=\"text-align: right;\">\n",
       "      <th></th>\n",
       "      <th>Accuracy</th>\n",
       "      <th>Precision</th>\n",
       "      <th>Recall</th>\n",
       "      <th>F1 Score</th>\n",
       "    </tr>\n",
       "    <tr>\n",
       "      <th>Test Size</th>\n",
       "      <th></th>\n",
       "      <th></th>\n",
       "      <th></th>\n",
       "      <th></th>\n",
       "    </tr>\n",
       "  </thead>\n",
       "  <tbody>\n",
       "    <tr>\n",
       "      <th>100</th>\n",
       "      <td>0.978827</td>\n",
       "      <td>0.958103</td>\n",
       "      <td>0.978827</td>\n",
       "      <td>0.968354</td>\n",
       "    </tr>\n",
       "  </tbody>\n",
       "</table>\n",
       "</div>"
      ],
      "text/plain": [
       "           Accuracy  Precision    Recall  F1 Score\n",
       "Test Size                                         \n",
       "100        0.978827   0.958103  0.978827  0.968354"
      ]
     },
     "execution_count": 50,
     "metadata": {},
     "output_type": "execute_result"
    }
   ],
   "source": [
    "dfB_imb.groupby('Test Size')[['Accuracy','Precision','Recall','F1 Score']].mean()"
   ]
  },
  {
   "cell_type": "code",
   "execution_count": 51,
   "id": "7204254c-64e2-4c9a-8ec8-be35cda25b4f",
   "metadata": {},
   "outputs": [
    {
     "name": "stdout",
     "output_type": "stream",
     "text": [
      "Imbalance All Attributes\n",
      "\n",
      "{'criterion': 'gini', 'max_features': 'auto', 'n_estimators': 100}\n",
      "{'criterion': 'gini', 'max_features': 'auto', 'n_estimators': 100}\n",
      "{'criterion': 'gini', 'max_features': 'auto', 'n_estimators': 100}\n"
     ]
    }
   ],
   "source": [
    "print(\"Imbalance All Attributes\\n\")\n",
    "for x in dfB_imb[\"Best Param\"]:\n",
    "    print(x)"
   ]
  },
  {
   "cell_type": "markdown",
   "id": "5dd8f309-7862-45d5-af7e-afe4fe2c2f87",
   "metadata": {},
   "source": [
    "### AA after RandomOverSampler"
   ]
  },
  {
   "cell_type": "code",
   "execution_count": 52,
   "id": "11617755-138f-41b8-9d0b-062eb98685df",
   "metadata": {},
   "outputs": [
    {
     "name": "stdout",
     "output_type": "stream",
     "text": [
      "Fitting 10 folds for each of 24 candidates, totalling 240 fits\n"
     ]
    },
    {
     "name": "stderr",
     "output_type": "stream",
     "text": [
      "C:\\Users\\hazel\\anaconda3\\Lib\\site-packages\\sklearn\\model_selection\\_search.py:909: DataConversionWarning: A column-vector y was passed when a 1d array was expected. Please change the shape of y to (n_samples,), for example using ravel().\n",
      "  self.best_estimator_.fit(X, y, **fit_params)\n",
      "C:\\Users\\hazel\\anaconda3\\Lib\\site-packages\\sklearn\\ensemble\\_forest.py:424: FutureWarning: `max_features='auto'` has been deprecated in 1.1 and will be removed in 1.3. To keep the past behaviour, explicitly set `max_features='sqrt'` or remove this parameter as it is also the default value for RandomForestClassifiers and ExtraTreesClassifiers.\n",
      "  warn(\n",
      "C:\\Users\\hazel\\anaconda3\\Lib\\site-packages\\sklearn\\metrics\\_classification.py:1344: UndefinedMetricWarning: Precision is ill-defined and being set to 0.0 in labels with no predicted samples. Use `zero_division` parameter to control this behavior.\n",
      "  _warn_prf(average, modifier, msg_start, len(result))\n"
     ]
    },
    {
     "name": "stdout",
     "output_type": "stream",
     "text": [
      "Fitting 10 folds for each of 24 candidates, totalling 240 fits\n"
     ]
    },
    {
     "name": "stderr",
     "output_type": "stream",
     "text": [
      "C:\\Users\\hazel\\anaconda3\\Lib\\site-packages\\sklearn\\model_selection\\_search.py:909: DataConversionWarning: A column-vector y was passed when a 1d array was expected. Please change the shape of y to (n_samples,), for example using ravel().\n",
      "  self.best_estimator_.fit(X, y, **fit_params)\n",
      "C:\\Users\\hazel\\anaconda3\\Lib\\site-packages\\sklearn\\ensemble\\_forest.py:424: FutureWarning: `max_features='auto'` has been deprecated in 1.1 and will be removed in 1.3. To keep the past behaviour, explicitly set `max_features='sqrt'` or remove this parameter as it is also the default value for RandomForestClassifiers and ExtraTreesClassifiers.\n",
      "  warn(\n",
      "C:\\Users\\hazel\\anaconda3\\Lib\\site-packages\\sklearn\\metrics\\_classification.py:1344: UndefinedMetricWarning: Precision is ill-defined and being set to 0.0 in labels with no predicted samples. Use `zero_division` parameter to control this behavior.\n",
      "  _warn_prf(average, modifier, msg_start, len(result))\n"
     ]
    },
    {
     "name": "stdout",
     "output_type": "stream",
     "text": [
      "Fitting 10 folds for each of 24 candidates, totalling 240 fits\n"
     ]
    },
    {
     "name": "stderr",
     "output_type": "stream",
     "text": [
      "C:\\Users\\hazel\\anaconda3\\Lib\\site-packages\\sklearn\\model_selection\\_search.py:909: DataConversionWarning: A column-vector y was passed when a 1d array was expected. Please change the shape of y to (n_samples,), for example using ravel().\n",
      "  self.best_estimator_.fit(X, y, **fit_params)\n",
      "C:\\Users\\hazel\\anaconda3\\Lib\\site-packages\\sklearn\\ensemble\\_forest.py:424: FutureWarning: `max_features='auto'` has been deprecated in 1.1 and will be removed in 1.3. To keep the past behaviour, explicitly set `max_features='sqrt'` or remove this parameter as it is also the default value for RandomForestClassifiers and ExtraTreesClassifiers.\n",
      "  warn(\n",
      "C:\\Users\\hazel\\anaconda3\\Lib\\site-packages\\sklearn\\metrics\\_classification.py:1344: UndefinedMetricWarning: Precision is ill-defined and being set to 0.0 in labels with no predicted samples. Use `zero_division` parameter to control this behavior.\n",
      "  _warn_prf(average, modifier, msg_start, len(result))\n"
     ]
    },
    {
     "data": {
      "text/html": [
       "<div>\n",
       "<style scoped>\n",
       "    .dataframe tbody tr th:only-of-type {\n",
       "        vertical-align: middle;\n",
       "    }\n",
       "\n",
       "    .dataframe tbody tr th {\n",
       "        vertical-align: top;\n",
       "    }\n",
       "\n",
       "    .dataframe thead th {\n",
       "        text-align: right;\n",
       "    }\n",
       "</style>\n",
       "<table border=\"1\" class=\"dataframe\">\n",
       "  <thead>\n",
       "    <tr style=\"text-align: right;\">\n",
       "      <th></th>\n",
       "      <th>Test Size</th>\n",
       "      <th>Random State</th>\n",
       "      <th>Accuracy</th>\n",
       "      <th>Precision</th>\n",
       "      <th>Recall</th>\n",
       "      <th>F1 Score</th>\n",
       "      <th>Best Param</th>\n",
       "    </tr>\n",
       "  </thead>\n",
       "  <tbody>\n",
       "    <tr>\n",
       "      <th>0</th>\n",
       "      <td>100</td>\n",
       "      <td>7</td>\n",
       "      <td>0.5</td>\n",
       "      <td>0.25</td>\n",
       "      <td>0.5</td>\n",
       "      <td>0.333333</td>\n",
       "      <td>{'criterion': 'gini', 'max_features': 'auto', ...</td>\n",
       "    </tr>\n",
       "    <tr>\n",
       "      <th>1</th>\n",
       "      <td>100</td>\n",
       "      <td>69</td>\n",
       "      <td>0.5</td>\n",
       "      <td>0.25</td>\n",
       "      <td>0.5</td>\n",
       "      <td>0.333333</td>\n",
       "      <td>{'criterion': 'gini', 'max_features': 'auto', ...</td>\n",
       "    </tr>\n",
       "    <tr>\n",
       "      <th>2</th>\n",
       "      <td>100</td>\n",
       "      <td>101</td>\n",
       "      <td>0.5</td>\n",
       "      <td>0.25</td>\n",
       "      <td>0.5</td>\n",
       "      <td>0.333333</td>\n",
       "      <td>{'criterion': 'gini', 'max_features': 'auto', ...</td>\n",
       "    </tr>\n",
       "  </tbody>\n",
       "</table>\n",
       "</div>"
      ],
      "text/plain": [
       "   Test Size  Random State  Accuracy  Precision  Recall  F1 Score  \\\n",
       "0        100             7       0.5       0.25     0.5  0.333333   \n",
       "1        100            69       0.5       0.25     0.5  0.333333   \n",
       "2        100           101       0.5       0.25     0.5  0.333333   \n",
       "\n",
       "                                          Best Param  \n",
       "0  {'criterion': 'gini', 'max_features': 'auto', ...  \n",
       "1  {'criterion': 'gini', 'max_features': 'auto', ...  \n",
       "2  {'criterion': 'gini', 'max_features': 'auto', ...  "
      ]
     },
     "execution_count": 52,
     "metadata": {},
     "output_type": "execute_result"
    }
   ],
   "source": [
    "tempB_ROS = []\n",
    "\n",
    "y_train = df1_B_ROS[['CGPA']]\n",
    "X_train = df1_B_ROS.drop(columns=['CGPA'])\n",
    "\n",
    "y_test = df2_B_ROS[['CGPA']]\n",
    "X_test = df2_B_ROS.drop(columns=['CGPA'])\n",
    "\n",
    "for j in rand_states:\n",
    "    param_grid = {'n_estimators': [100, 200, 300, 400],\n",
    "                  'max_features': ['auto', 'sqrt', 'log2'],\n",
    "                  'criterion' :['gini', 'entropy']}\n",
    "\n",
    "    model = GridSearchCV(RandomForestClassifier(), param_grid, refit=True, n_jobs=-1, cv=10, verbose=1)\n",
    "    model.fit(X_train, y_train)\n",
    "    pred = model.predict(X_test)\n",
    "\n",
    "    acc = accuracy_score(y_test,pred)\n",
    "    pre = precision_score(y_test, pred, average='weighted')\n",
    "    recall = recall_score(y_test, pred, average='weighted')\n",
    "    f1 = f1_score(y_test, pred, average='weighted')\n",
    "    param = model.best_params_\n",
    "\n",
    "    tempB_ROS.append([100,j,acc,pre,recall,f1,param])\n",
    "        \n",
    "dfB_ROS = pd.DataFrame(columns=['Test Size','Random State','Accuracy','Precision','Recall','F1 Score','Best Param'],data=tempB_ROS)\n",
    "dfB_ROS"
   ]
  },
  {
   "cell_type": "code",
   "execution_count": 53,
   "id": "2ca91e2d-1a12-4095-ac83-5b026199aff8",
   "metadata": {},
   "outputs": [
    {
     "data": {
      "text/html": [
       "<div>\n",
       "<style scoped>\n",
       "    .dataframe tbody tr th:only-of-type {\n",
       "        vertical-align: middle;\n",
       "    }\n",
       "\n",
       "    .dataframe tbody tr th {\n",
       "        vertical-align: top;\n",
       "    }\n",
       "\n",
       "    .dataframe thead th {\n",
       "        text-align: right;\n",
       "    }\n",
       "</style>\n",
       "<table border=\"1\" class=\"dataframe\">\n",
       "  <thead>\n",
       "    <tr style=\"text-align: right;\">\n",
       "      <th></th>\n",
       "      <th>Accuracy</th>\n",
       "      <th>Precision</th>\n",
       "      <th>Recall</th>\n",
       "      <th>F1 Score</th>\n",
       "    </tr>\n",
       "    <tr>\n",
       "      <th>Test Size</th>\n",
       "      <th></th>\n",
       "      <th></th>\n",
       "      <th></th>\n",
       "      <th></th>\n",
       "    </tr>\n",
       "  </thead>\n",
       "  <tbody>\n",
       "    <tr>\n",
       "      <th>100</th>\n",
       "      <td>0.5</td>\n",
       "      <td>0.25</td>\n",
       "      <td>0.5</td>\n",
       "      <td>0.333333</td>\n",
       "    </tr>\n",
       "  </tbody>\n",
       "</table>\n",
       "</div>"
      ],
      "text/plain": [
       "           Accuracy  Precision  Recall  F1 Score\n",
       "Test Size                                       \n",
       "100             0.5       0.25     0.5  0.333333"
      ]
     },
     "execution_count": 53,
     "metadata": {},
     "output_type": "execute_result"
    }
   ],
   "source": [
    "dfB_ROS.groupby('Test Size')[['Accuracy','Precision','Recall','F1 Score']].mean()"
   ]
  },
  {
   "cell_type": "code",
   "execution_count": 54,
   "id": "abdb8a40-680d-4127-85c8-286c82b2d3ec",
   "metadata": {},
   "outputs": [
    {
     "name": "stdout",
     "output_type": "stream",
     "text": [
      "All Attributes\n",
      "\n",
      "{'criterion': 'gini', 'max_features': 'auto', 'n_estimators': 100}\n",
      "{'criterion': 'gini', 'max_features': 'auto', 'n_estimators': 100}\n",
      "{'criterion': 'gini', 'max_features': 'auto', 'n_estimators': 100}\n"
     ]
    }
   ],
   "source": [
    "print(\"All Attributes\\n\")\n",
    "for x in dfB_ROS[\"Best Param\"]:\n",
    "    print(x)"
   ]
  },
  {
   "cell_type": "markdown",
   "id": "47bef9cf-2737-4ade-8dcf-7ffa48350720",
   "metadata": {},
   "source": [
    "### AA after SMOTE"
   ]
  },
  {
   "cell_type": "code",
   "execution_count": 55,
   "id": "a9ddb6da-31ef-4b58-8a8d-2cba4c4c3011",
   "metadata": {},
   "outputs": [
    {
     "name": "stdout",
     "output_type": "stream",
     "text": [
      "Fitting 10 folds for each of 24 candidates, totalling 240 fits\n"
     ]
    },
    {
     "name": "stderr",
     "output_type": "stream",
     "text": [
      "C:\\Users\\hazel\\anaconda3\\Lib\\site-packages\\sklearn\\model_selection\\_search.py:909: DataConversionWarning: A column-vector y was passed when a 1d array was expected. Please change the shape of y to (n_samples,), for example using ravel().\n",
      "  self.best_estimator_.fit(X, y, **fit_params)\n",
      "C:\\Users\\hazel\\anaconda3\\Lib\\site-packages\\sklearn\\ensemble\\_forest.py:424: FutureWarning: `max_features='auto'` has been deprecated in 1.1 and will be removed in 1.3. To keep the past behaviour, explicitly set `max_features='sqrt'` or remove this parameter as it is also the default value for RandomForestClassifiers and ExtraTreesClassifiers.\n",
      "  warn(\n",
      "C:\\Users\\hazel\\anaconda3\\Lib\\site-packages\\sklearn\\metrics\\_classification.py:1344: UndefinedMetricWarning: Precision is ill-defined and being set to 0.0 in labels with no predicted samples. Use `zero_division` parameter to control this behavior.\n",
      "  _warn_prf(average, modifier, msg_start, len(result))\n"
     ]
    },
    {
     "name": "stdout",
     "output_type": "stream",
     "text": [
      "Fitting 10 folds for each of 24 candidates, totalling 240 fits\n"
     ]
    },
    {
     "name": "stderr",
     "output_type": "stream",
     "text": [
      "C:\\Users\\hazel\\anaconda3\\Lib\\site-packages\\sklearn\\model_selection\\_search.py:909: DataConversionWarning: A column-vector y was passed when a 1d array was expected. Please change the shape of y to (n_samples,), for example using ravel().\n",
      "  self.best_estimator_.fit(X, y, **fit_params)\n",
      "C:\\Users\\hazel\\anaconda3\\Lib\\site-packages\\sklearn\\ensemble\\_forest.py:424: FutureWarning: `max_features='auto'` has been deprecated in 1.1 and will be removed in 1.3. To keep the past behaviour, explicitly set `max_features='sqrt'` or remove this parameter as it is also the default value for RandomForestClassifiers and ExtraTreesClassifiers.\n",
      "  warn(\n",
      "C:\\Users\\hazel\\anaconda3\\Lib\\site-packages\\sklearn\\metrics\\_classification.py:1344: UndefinedMetricWarning: Precision is ill-defined and being set to 0.0 in labels with no predicted samples. Use `zero_division` parameter to control this behavior.\n",
      "  _warn_prf(average, modifier, msg_start, len(result))\n"
     ]
    },
    {
     "name": "stdout",
     "output_type": "stream",
     "text": [
      "Fitting 10 folds for each of 24 candidates, totalling 240 fits\n"
     ]
    },
    {
     "name": "stderr",
     "output_type": "stream",
     "text": [
      "C:\\Users\\hazel\\anaconda3\\Lib\\site-packages\\sklearn\\model_selection\\_search.py:909: DataConversionWarning: A column-vector y was passed when a 1d array was expected. Please change the shape of y to (n_samples,), for example using ravel().\n",
      "  self.best_estimator_.fit(X, y, **fit_params)\n",
      "C:\\Users\\hazel\\anaconda3\\Lib\\site-packages\\sklearn\\ensemble\\_forest.py:424: FutureWarning: `max_features='auto'` has been deprecated in 1.1 and will be removed in 1.3. To keep the past behaviour, explicitly set `max_features='sqrt'` or remove this parameter as it is also the default value for RandomForestClassifiers and ExtraTreesClassifiers.\n",
      "  warn(\n",
      "C:\\Users\\hazel\\anaconda3\\Lib\\site-packages\\sklearn\\metrics\\_classification.py:1344: UndefinedMetricWarning: Precision is ill-defined and being set to 0.0 in labels with no predicted samples. Use `zero_division` parameter to control this behavior.\n",
      "  _warn_prf(average, modifier, msg_start, len(result))\n"
     ]
    },
    {
     "data": {
      "text/html": [
       "<div>\n",
       "<style scoped>\n",
       "    .dataframe tbody tr th:only-of-type {\n",
       "        vertical-align: middle;\n",
       "    }\n",
       "\n",
       "    .dataframe tbody tr th {\n",
       "        vertical-align: top;\n",
       "    }\n",
       "\n",
       "    .dataframe thead th {\n",
       "        text-align: right;\n",
       "    }\n",
       "</style>\n",
       "<table border=\"1\" class=\"dataframe\">\n",
       "  <thead>\n",
       "    <tr style=\"text-align: right;\">\n",
       "      <th></th>\n",
       "      <th>Test Size</th>\n",
       "      <th>Random State</th>\n",
       "      <th>Accuracy</th>\n",
       "      <th>Precision</th>\n",
       "      <th>Recall</th>\n",
       "      <th>F1 Score</th>\n",
       "      <th>Best Param</th>\n",
       "    </tr>\n",
       "  </thead>\n",
       "  <tbody>\n",
       "    <tr>\n",
       "      <th>0</th>\n",
       "      <td>100</td>\n",
       "      <td>7</td>\n",
       "      <td>0.5</td>\n",
       "      <td>0.25</td>\n",
       "      <td>0.5</td>\n",
       "      <td>0.333333</td>\n",
       "      <td>{'criterion': 'gini', 'max_features': 'auto', ...</td>\n",
       "    </tr>\n",
       "    <tr>\n",
       "      <th>1</th>\n",
       "      <td>100</td>\n",
       "      <td>69</td>\n",
       "      <td>0.5</td>\n",
       "      <td>0.25</td>\n",
       "      <td>0.5</td>\n",
       "      <td>0.333333</td>\n",
       "      <td>{'criterion': 'gini', 'max_features': 'auto', ...</td>\n",
       "    </tr>\n",
       "    <tr>\n",
       "      <th>2</th>\n",
       "      <td>100</td>\n",
       "      <td>101</td>\n",
       "      <td>0.5</td>\n",
       "      <td>0.25</td>\n",
       "      <td>0.5</td>\n",
       "      <td>0.333333</td>\n",
       "      <td>{'criterion': 'gini', 'max_features': 'auto', ...</td>\n",
       "    </tr>\n",
       "  </tbody>\n",
       "</table>\n",
       "</div>"
      ],
      "text/plain": [
       "   Test Size  Random State  Accuracy  Precision  Recall  F1 Score  \\\n",
       "0        100             7       0.5       0.25     0.5  0.333333   \n",
       "1        100            69       0.5       0.25     0.5  0.333333   \n",
       "2        100           101       0.5       0.25     0.5  0.333333   \n",
       "\n",
       "                                          Best Param  \n",
       "0  {'criterion': 'gini', 'max_features': 'auto', ...  \n",
       "1  {'criterion': 'gini', 'max_features': 'auto', ...  \n",
       "2  {'criterion': 'gini', 'max_features': 'auto', ...  "
      ]
     },
     "execution_count": 55,
     "metadata": {},
     "output_type": "execute_result"
    }
   ],
   "source": [
    "tempB_SMOTE = []\n",
    "\n",
    "y_train = df1_B_SMOTE[['CGPA']]\n",
    "X_train = df1_B_SMOTE.drop(columns=['CGPA'])\n",
    "\n",
    "y_test = df2_B_SMOTE[['CGPA']]\n",
    "X_test = df2_B_SMOTE.drop(columns=['CGPA'])\n",
    "\n",
    "for j in rand_states:\n",
    "    param_grid = {'n_estimators': [100, 200, 300, 400],\n",
    "                  'max_features': ['auto', 'sqrt', 'log2'],\n",
    "                  'criterion' :['gini', 'entropy']}\n",
    "\n",
    "    model = GridSearchCV(RandomForestClassifier(), param_grid, refit=True, n_jobs=-1, cv=10, verbose=1)\n",
    "    model.fit(X_train, y_train)\n",
    "    pred = model.predict(X_test)\n",
    "\n",
    "    acc = accuracy_score(y_test,pred)\n",
    "    pre = precision_score(y_test, pred, average='weighted')\n",
    "    recall = recall_score(y_test, pred, average='weighted')\n",
    "    f1 = f1_score(y_test, pred, average='weighted')\n",
    "    param = model.best_params_\n",
    "\n",
    "    tempB_SMOTE.append([100,j,acc,pre,recall,f1,param])\n",
    "        \n",
    "dfB_SMOTE = pd.DataFrame(columns=['Test Size','Random State','Accuracy','Precision','Recall','F1 Score','Best Param'],data=tempB_SMOTE)\n",
    "dfB_SMOTE"
   ]
  },
  {
   "cell_type": "code",
   "execution_count": 56,
   "id": "e7656cef-790b-4682-ac53-cc79885d278c",
   "metadata": {},
   "outputs": [
    {
     "data": {
      "text/html": [
       "<div>\n",
       "<style scoped>\n",
       "    .dataframe tbody tr th:only-of-type {\n",
       "        vertical-align: middle;\n",
       "    }\n",
       "\n",
       "    .dataframe tbody tr th {\n",
       "        vertical-align: top;\n",
       "    }\n",
       "\n",
       "    .dataframe thead th {\n",
       "        text-align: right;\n",
       "    }\n",
       "</style>\n",
       "<table border=\"1\" class=\"dataframe\">\n",
       "  <thead>\n",
       "    <tr style=\"text-align: right;\">\n",
       "      <th></th>\n",
       "      <th>Accuracy</th>\n",
       "      <th>Precision</th>\n",
       "      <th>Recall</th>\n",
       "      <th>F1 Score</th>\n",
       "    </tr>\n",
       "    <tr>\n",
       "      <th>Test Size</th>\n",
       "      <th></th>\n",
       "      <th></th>\n",
       "      <th></th>\n",
       "      <th></th>\n",
       "    </tr>\n",
       "  </thead>\n",
       "  <tbody>\n",
       "    <tr>\n",
       "      <th>100</th>\n",
       "      <td>0.5</td>\n",
       "      <td>0.25</td>\n",
       "      <td>0.5</td>\n",
       "      <td>0.333333</td>\n",
       "    </tr>\n",
       "  </tbody>\n",
       "</table>\n",
       "</div>"
      ],
      "text/plain": [
       "           Accuracy  Precision  Recall  F1 Score\n",
       "Test Size                                       \n",
       "100             0.5       0.25     0.5  0.333333"
      ]
     },
     "execution_count": 56,
     "metadata": {},
     "output_type": "execute_result"
    }
   ],
   "source": [
    "dfB_SMOTE.groupby('Test Size')[['Accuracy','Precision','Recall','F1 Score']].mean()"
   ]
  },
  {
   "cell_type": "code",
   "execution_count": 57,
   "id": "b9d8e4d7-c920-4c91-9958-86bff44c27ac",
   "metadata": {},
   "outputs": [
    {
     "name": "stdout",
     "output_type": "stream",
     "text": [
      "SMOTE All Attributes\n",
      "\n",
      "{'criterion': 'gini', 'max_features': 'auto', 'n_estimators': 100}\n",
      "{'criterion': 'gini', 'max_features': 'auto', 'n_estimators': 100}\n",
      "{'criterion': 'gini', 'max_features': 'auto', 'n_estimators': 100}\n"
     ]
    }
   ],
   "source": [
    "print(\"SMOTE All Attributes\\n\")\n",
    "for x in dfB_SMOTE[\"Best Param\"]:\n",
    "    print(x)"
   ]
  },
  {
   "cell_type": "markdown",
   "id": "a148353d-d88e-48ca-8ac7-f66b25449880",
   "metadata": {},
   "source": [
    "# 5-Level Classification"
   ]
  },
  {
   "cell_type": "markdown",
   "id": "86bc879d-e35a-4596-9908-97b8f48fb7e9",
   "metadata": {},
   "source": [
    "## Student Background"
   ]
  },
  {
   "cell_type": "markdown",
   "id": "7dc66618-fa9c-47a4-a314-aac0d6616070",
   "metadata": {},
   "source": [
    "### SB before Data Balancing"
   ]
  },
  {
   "cell_type": "code",
   "execution_count": 58,
   "id": "46e4863a-c18d-468c-96d3-ae384a65f5f4",
   "metadata": {},
   "outputs": [
    {
     "name": "stderr",
     "output_type": "stream",
     "text": [
      "C:\\Users\\hazel\\anaconda3\\Lib\\site-packages\\sklearn\\model_selection\\_split.py:700: UserWarning: The least populated class in y has only 4 members, which is less than n_splits=10.\n",
      "  warnings.warn(\n"
     ]
    },
    {
     "name": "stdout",
     "output_type": "stream",
     "text": [
      "Fitting 10 folds for each of 24 candidates, totalling 240 fits\n"
     ]
    },
    {
     "name": "stderr",
     "output_type": "stream",
     "text": [
      "C:\\Users\\hazel\\anaconda3\\Lib\\site-packages\\sklearn\\model_selection\\_search.py:909: DataConversionWarning: A column-vector y was passed when a 1d array was expected. Please change the shape of y to (n_samples,), for example using ravel().\n",
      "  self.best_estimator_.fit(X, y, **fit_params)\n"
     ]
    },
    {
     "name": "stdout",
     "output_type": "stream",
     "text": [
      "Fitting 10 folds for each of 24 candidates, totalling 240 fits\n"
     ]
    },
    {
     "name": "stderr",
     "output_type": "stream",
     "text": [
      "C:\\Users\\hazel\\anaconda3\\Lib\\site-packages\\sklearn\\model_selection\\_split.py:700: UserWarning: The least populated class in y has only 4 members, which is less than n_splits=10.\n",
      "  warnings.warn(\n",
      "C:\\Users\\hazel\\anaconda3\\Lib\\site-packages\\sklearn\\model_selection\\_search.py:909: DataConversionWarning: A column-vector y was passed when a 1d array was expected. Please change the shape of y to (n_samples,), for example using ravel().\n",
      "  self.best_estimator_.fit(X, y, **fit_params)\n"
     ]
    },
    {
     "name": "stdout",
     "output_type": "stream",
     "text": [
      "Fitting 10 folds for each of 24 candidates, totalling 240 fits\n"
     ]
    },
    {
     "name": "stderr",
     "output_type": "stream",
     "text": [
      "C:\\Users\\hazel\\anaconda3\\Lib\\site-packages\\sklearn\\model_selection\\_split.py:700: UserWarning: The least populated class in y has only 4 members, which is less than n_splits=10.\n",
      "  warnings.warn(\n",
      "C:\\Users\\hazel\\anaconda3\\Lib\\site-packages\\sklearn\\model_selection\\_search.py:909: DataConversionWarning: A column-vector y was passed when a 1d array was expected. Please change the shape of y to (n_samples,), for example using ravel().\n",
      "  self.best_estimator_.fit(X, y, **fit_params)\n",
      "C:\\Users\\hazel\\anaconda3\\Lib\\site-packages\\sklearn\\ensemble\\_forest.py:424: FutureWarning: `max_features='auto'` has been deprecated in 1.1 and will be removed in 1.3. To keep the past behaviour, explicitly set `max_features='sqrt'` or remove this parameter as it is also the default value for RandomForestClassifiers and ExtraTreesClassifiers.\n",
      "  warn(\n"
     ]
    },
    {
     "data": {
      "text/html": [
       "<div>\n",
       "<style scoped>\n",
       "    .dataframe tbody tr th:only-of-type {\n",
       "        vertical-align: middle;\n",
       "    }\n",
       "\n",
       "    .dataframe tbody tr th {\n",
       "        vertical-align: top;\n",
       "    }\n",
       "\n",
       "    .dataframe thead th {\n",
       "        text-align: right;\n",
       "    }\n",
       "</style>\n",
       "<table border=\"1\" class=\"dataframe\">\n",
       "  <thead>\n",
       "    <tr style=\"text-align: right;\">\n",
       "      <th></th>\n",
       "      <th>Test Size</th>\n",
       "      <th>Random State</th>\n",
       "      <th>Accuracy</th>\n",
       "      <th>Precision</th>\n",
       "      <th>Recall</th>\n",
       "      <th>F1 Score</th>\n",
       "      <th>Best Param</th>\n",
       "    </tr>\n",
       "  </thead>\n",
       "  <tbody>\n",
       "    <tr>\n",
       "      <th>0</th>\n",
       "      <td>100</td>\n",
       "      <td>7</td>\n",
       "      <td>0.418567</td>\n",
       "      <td>0.387183</td>\n",
       "      <td>0.418567</td>\n",
       "      <td>0.394325</td>\n",
       "      <td>{'criterion': 'entropy', 'max_features': 'log2...</td>\n",
       "    </tr>\n",
       "    <tr>\n",
       "      <th>1</th>\n",
       "      <td>100</td>\n",
       "      <td>69</td>\n",
       "      <td>0.441368</td>\n",
       "      <td>0.405807</td>\n",
       "      <td>0.441368</td>\n",
       "      <td>0.413569</td>\n",
       "      <td>{'criterion': 'gini', 'max_features': 'sqrt', ...</td>\n",
       "    </tr>\n",
       "    <tr>\n",
       "      <th>2</th>\n",
       "      <td>100</td>\n",
       "      <td>101</td>\n",
       "      <td>0.418567</td>\n",
       "      <td>0.385011</td>\n",
       "      <td>0.418567</td>\n",
       "      <td>0.394134</td>\n",
       "      <td>{'criterion': 'entropy', 'max_features': 'auto...</td>\n",
       "    </tr>\n",
       "  </tbody>\n",
       "</table>\n",
       "</div>"
      ],
      "text/plain": [
       "   Test Size  Random State  Accuracy  Precision    Recall  F1 Score  \\\n",
       "0        100             7  0.418567   0.387183  0.418567  0.394325   \n",
       "1        100            69  0.441368   0.405807  0.441368  0.413569   \n",
       "2        100           101  0.418567   0.385011  0.418567  0.394134   \n",
       "\n",
       "                                          Best Param  \n",
       "0  {'criterion': 'entropy', 'max_features': 'log2...  \n",
       "1  {'criterion': 'gini', 'max_features': 'sqrt', ...  \n",
       "2  {'criterion': 'entropy', 'max_features': 'auto...  "
      ]
     },
     "execution_count": 58,
     "metadata": {},
     "output_type": "execute_result"
    }
   ],
   "source": [
    "temp5L_SB_imb = []\n",
    "\n",
    "y_train = df1_5L_imb[['CGPA']]\n",
    "X_train = df1_5L_imb[['Age','Gender','Nationality', 'Living Status', 'Home Town', 'Faculty', 'Education Level',\n",
    "                     'Years of Study', 'Completed Credit Hours']]\n",
    "\n",
    "y_test = df2_5L_imb[['CGPA']]\n",
    "X_test = df2_5L_imb[['Age','Gender','Nationality', 'Living Status', 'Home Town', 'Faculty', 'Education Level',\n",
    "                     'Years of Study', 'Completed Credit Hours']]\n",
    "\n",
    "for j in rand_states:\n",
    "    param_grid = {'n_estimators': [100, 200, 300, 400],\n",
    "                  'max_features': ['auto', 'sqrt', 'log2'],\n",
    "                  'criterion' :['gini', 'entropy']}\n",
    "\n",
    "    model = GridSearchCV(RandomForestClassifier(), param_grid, refit=True, n_jobs=-1, cv=10, verbose=1)\n",
    "    model.fit(X_train, y_train)\n",
    "    pred = model.predict(X_test)\n",
    "\n",
    "    acc = accuracy_score(y_test,pred)\n",
    "    pre = precision_score(y_test, pred, average='weighted')\n",
    "    recall = recall_score(y_test, pred, average='weighted')\n",
    "    f1 = f1_score(y_test, pred, average='weighted')\n",
    "    param = model.best_params_\n",
    "\n",
    "    temp5L_SB_imb.append([100,j,acc,pre,recall,f1,param])\n",
    "        \n",
    "df5L_SB_imb = pd.DataFrame(columns=['Test Size','Random State','Accuracy','Precision','Recall','F1 Score','Best Param'],data=temp5L_SB_imb)\n",
    "df5L_SB_imb"
   ]
  },
  {
   "cell_type": "code",
   "execution_count": 59,
   "id": "77b561e3-8ed6-4011-be67-27e1a2cb93c7",
   "metadata": {},
   "outputs": [
    {
     "data": {
      "text/html": [
       "<div>\n",
       "<style scoped>\n",
       "    .dataframe tbody tr th:only-of-type {\n",
       "        vertical-align: middle;\n",
       "    }\n",
       "\n",
       "    .dataframe tbody tr th {\n",
       "        vertical-align: top;\n",
       "    }\n",
       "\n",
       "    .dataframe thead th {\n",
       "        text-align: right;\n",
       "    }\n",
       "</style>\n",
       "<table border=\"1\" class=\"dataframe\">\n",
       "  <thead>\n",
       "    <tr style=\"text-align: right;\">\n",
       "      <th></th>\n",
       "      <th>Accuracy</th>\n",
       "      <th>Precision</th>\n",
       "      <th>Recall</th>\n",
       "      <th>F1 Score</th>\n",
       "    </tr>\n",
       "    <tr>\n",
       "      <th>Test Size</th>\n",
       "      <th></th>\n",
       "      <th></th>\n",
       "      <th></th>\n",
       "      <th></th>\n",
       "    </tr>\n",
       "  </thead>\n",
       "  <tbody>\n",
       "    <tr>\n",
       "      <th>100</th>\n",
       "      <td>0.426167</td>\n",
       "      <td>0.392667</td>\n",
       "      <td>0.426167</td>\n",
       "      <td>0.400676</td>\n",
       "    </tr>\n",
       "  </tbody>\n",
       "</table>\n",
       "</div>"
      ],
      "text/plain": [
       "           Accuracy  Precision    Recall  F1 Score\n",
       "Test Size                                         \n",
       "100        0.426167   0.392667  0.426167  0.400676"
      ]
     },
     "execution_count": 59,
     "metadata": {},
     "output_type": "execute_result"
    }
   ],
   "source": [
    "df5L_SB_imb.groupby('Test Size')[['Accuracy','Precision','Recall','F1 Score']].mean()"
   ]
  },
  {
   "cell_type": "code",
   "execution_count": 60,
   "id": "05a56f1d-469b-466e-af8b-4940dc70bbee",
   "metadata": {},
   "outputs": [
    {
     "name": "stdout",
     "output_type": "stream",
     "text": [
      "Imbalance 5-Level: Student Background\n",
      "\n",
      "{'criterion': 'entropy', 'max_features': 'log2', 'n_estimators': 100}\n",
      "{'criterion': 'gini', 'max_features': 'sqrt', 'n_estimators': 100}\n",
      "{'criterion': 'entropy', 'max_features': 'auto', 'n_estimators': 100}\n"
     ]
    }
   ],
   "source": [
    "print(\"Imbalance 5-Level: Student Background\\n\")\n",
    "for x in df5L_SB_imb[\"Best Param\"]:\n",
    "    print(x)"
   ]
  },
  {
   "cell_type": "markdown",
   "id": "0a3db38b-d385-472d-9073-4aae50b731f0",
   "metadata": {},
   "source": [
    "### SB after RandomOverSampler"
   ]
  },
  {
   "cell_type": "code",
   "execution_count": 61,
   "id": "48e44594-0a80-464b-9ddd-ea37a38cb18b",
   "metadata": {},
   "outputs": [
    {
     "name": "stdout",
     "output_type": "stream",
     "text": [
      "Fitting 10 folds for each of 24 candidates, totalling 240 fits\n"
     ]
    },
    {
     "name": "stderr",
     "output_type": "stream",
     "text": [
      "C:\\Users\\hazel\\anaconda3\\Lib\\site-packages\\sklearn\\model_selection\\_search.py:909: DataConversionWarning: A column-vector y was passed when a 1d array was expected. Please change the shape of y to (n_samples,), for example using ravel().\n",
      "  self.best_estimator_.fit(X, y, **fit_params)\n"
     ]
    },
    {
     "name": "stdout",
     "output_type": "stream",
     "text": [
      "Fitting 10 folds for each of 24 candidates, totalling 240 fits\n"
     ]
    },
    {
     "name": "stderr",
     "output_type": "stream",
     "text": [
      "C:\\Users\\hazel\\anaconda3\\Lib\\site-packages\\sklearn\\model_selection\\_search.py:909: DataConversionWarning: A column-vector y was passed when a 1d array was expected. Please change the shape of y to (n_samples,), for example using ravel().\n",
      "  self.best_estimator_.fit(X, y, **fit_params)\n"
     ]
    },
    {
     "name": "stdout",
     "output_type": "stream",
     "text": [
      "Fitting 10 folds for each of 24 candidates, totalling 240 fits\n"
     ]
    },
    {
     "name": "stderr",
     "output_type": "stream",
     "text": [
      "C:\\Users\\hazel\\anaconda3\\Lib\\site-packages\\sklearn\\model_selection\\_search.py:909: DataConversionWarning: A column-vector y was passed when a 1d array was expected. Please change the shape of y to (n_samples,), for example using ravel().\n",
      "  self.best_estimator_.fit(X, y, **fit_params)\n",
      "C:\\Users\\hazel\\anaconda3\\Lib\\site-packages\\sklearn\\ensemble\\_forest.py:424: FutureWarning: `max_features='auto'` has been deprecated in 1.1 and will be removed in 1.3. To keep the past behaviour, explicitly set `max_features='sqrt'` or remove this parameter as it is also the default value for RandomForestClassifiers and ExtraTreesClassifiers.\n",
      "  warn(\n"
     ]
    },
    {
     "data": {
      "text/html": [
       "<div>\n",
       "<style scoped>\n",
       "    .dataframe tbody tr th:only-of-type {\n",
       "        vertical-align: middle;\n",
       "    }\n",
       "\n",
       "    .dataframe tbody tr th {\n",
       "        vertical-align: top;\n",
       "    }\n",
       "\n",
       "    .dataframe thead th {\n",
       "        text-align: right;\n",
       "    }\n",
       "</style>\n",
       "<table border=\"1\" class=\"dataframe\">\n",
       "  <thead>\n",
       "    <tr style=\"text-align: right;\">\n",
       "      <th></th>\n",
       "      <th>Test Size</th>\n",
       "      <th>Random State</th>\n",
       "      <th>Accuracy</th>\n",
       "      <th>Precision</th>\n",
       "      <th>Recall</th>\n",
       "      <th>F1 Score</th>\n",
       "      <th>Best Param</th>\n",
       "    </tr>\n",
       "  </thead>\n",
       "  <tbody>\n",
       "    <tr>\n",
       "      <th>0</th>\n",
       "      <td>100</td>\n",
       "      <td>7</td>\n",
       "      <td>0.228777</td>\n",
       "      <td>0.200298</td>\n",
       "      <td>0.228777</td>\n",
       "      <td>0.187554</td>\n",
       "      <td>{'criterion': 'gini', 'max_features': 'sqrt', ...</td>\n",
       "    </tr>\n",
       "    <tr>\n",
       "      <th>1</th>\n",
       "      <td>100</td>\n",
       "      <td>69</td>\n",
       "      <td>0.240288</td>\n",
       "      <td>0.220826</td>\n",
       "      <td>0.240288</td>\n",
       "      <td>0.200524</td>\n",
       "      <td>{'criterion': 'gini', 'max_features': 'log2', ...</td>\n",
       "    </tr>\n",
       "    <tr>\n",
       "      <th>2</th>\n",
       "      <td>100</td>\n",
       "      <td>101</td>\n",
       "      <td>0.241007</td>\n",
       "      <td>0.211127</td>\n",
       "      <td>0.241007</td>\n",
       "      <td>0.198663</td>\n",
       "      <td>{'criterion': 'entropy', 'max_features': 'auto...</td>\n",
       "    </tr>\n",
       "  </tbody>\n",
       "</table>\n",
       "</div>"
      ],
      "text/plain": [
       "   Test Size  Random State  Accuracy  Precision    Recall  F1 Score  \\\n",
       "0        100             7  0.228777   0.200298  0.228777  0.187554   \n",
       "1        100            69  0.240288   0.220826  0.240288  0.200524   \n",
       "2        100           101  0.241007   0.211127  0.241007  0.198663   \n",
       "\n",
       "                                          Best Param  \n",
       "0  {'criterion': 'gini', 'max_features': 'sqrt', ...  \n",
       "1  {'criterion': 'gini', 'max_features': 'log2', ...  \n",
       "2  {'criterion': 'entropy', 'max_features': 'auto...  "
      ]
     },
     "execution_count": 61,
     "metadata": {},
     "output_type": "execute_result"
    }
   ],
   "source": [
    "temp5L_SB_ROS = []\n",
    "\n",
    "y_train = df1_5L_ROS[['CGPA']]\n",
    "X_train = df1_5L_ROS[['Age','Gender','Nationality', 'Living Status', 'Home Town', 'Faculty', 'Education Level',\n",
    "                     'Years of Study', 'Completed Credit Hours']]\n",
    "\n",
    "y_test = df2_5L_ROS[['CGPA']]\n",
    "X_test = df2_5L_ROS[['Age','Gender','Nationality', 'Living Status', 'Home Town', 'Faculty', 'Education Level',\n",
    "                     'Years of Study', 'Completed Credit Hours']]\n",
    "\n",
    "for j in rand_states:\n",
    "    param_grid = {'n_estimators': [100, 200, 300, 400],\n",
    "                  'max_features': ['auto', 'sqrt', 'log2'],\n",
    "                  'criterion' :['gini', 'entropy']}\n",
    "\n",
    "    model = GridSearchCV(RandomForestClassifier(), param_grid, refit=True, n_jobs=-1, cv=10, verbose=1)\n",
    "    model.fit(X_train, y_train)\n",
    "    pred = model.predict(X_test)\n",
    "\n",
    "    acc = accuracy_score(y_test,pred)\n",
    "    pre = precision_score(y_test, pred, average='weighted')\n",
    "    recall = recall_score(y_test, pred, average='weighted')\n",
    "    f1 = f1_score(y_test, pred, average='weighted')\n",
    "    param = model.best_params_\n",
    "\n",
    "    temp5L_SB_ROS.append([100,j,acc,pre,recall,f1,param])\n",
    "        \n",
    "df5L_SB_ROS = pd.DataFrame(columns=['Test Size','Random State','Accuracy','Precision','Recall','F1 Score','Best Param'],data=temp5L_SB_ROS)\n",
    "df5L_SB_ROS"
   ]
  },
  {
   "cell_type": "code",
   "execution_count": 62,
   "id": "9665c871-2421-4baf-9b91-fcf76100a66c",
   "metadata": {},
   "outputs": [
    {
     "data": {
      "text/html": [
       "<div>\n",
       "<style scoped>\n",
       "    .dataframe tbody tr th:only-of-type {\n",
       "        vertical-align: middle;\n",
       "    }\n",
       "\n",
       "    .dataframe tbody tr th {\n",
       "        vertical-align: top;\n",
       "    }\n",
       "\n",
       "    .dataframe thead th {\n",
       "        text-align: right;\n",
       "    }\n",
       "</style>\n",
       "<table border=\"1\" class=\"dataframe\">\n",
       "  <thead>\n",
       "    <tr style=\"text-align: right;\">\n",
       "      <th></th>\n",
       "      <th>Accuracy</th>\n",
       "      <th>Precision</th>\n",
       "      <th>Recall</th>\n",
       "      <th>F1 Score</th>\n",
       "    </tr>\n",
       "    <tr>\n",
       "      <th>Test Size</th>\n",
       "      <th></th>\n",
       "      <th></th>\n",
       "      <th></th>\n",
       "      <th></th>\n",
       "    </tr>\n",
       "  </thead>\n",
       "  <tbody>\n",
       "    <tr>\n",
       "      <th>100</th>\n",
       "      <td>0.236691</td>\n",
       "      <td>0.21075</td>\n",
       "      <td>0.236691</td>\n",
       "      <td>0.19558</td>\n",
       "    </tr>\n",
       "  </tbody>\n",
       "</table>\n",
       "</div>"
      ],
      "text/plain": [
       "           Accuracy  Precision    Recall  F1 Score\n",
       "Test Size                                         \n",
       "100        0.236691    0.21075  0.236691   0.19558"
      ]
     },
     "execution_count": 62,
     "metadata": {},
     "output_type": "execute_result"
    }
   ],
   "source": [
    "df5L_SB_ROS.groupby('Test Size')[['Accuracy','Precision','Recall','F1 Score']].mean()"
   ]
  },
  {
   "cell_type": "code",
   "execution_count": 63,
   "id": "5731046a-757d-4495-91a3-4c673a298474",
   "metadata": {},
   "outputs": [
    {
     "name": "stdout",
     "output_type": "stream",
     "text": [
      "5-Level: Student Background\n",
      "\n",
      "{'criterion': 'gini', 'max_features': 'sqrt', 'n_estimators': 100}\n",
      "{'criterion': 'gini', 'max_features': 'log2', 'n_estimators': 300}\n",
      "{'criterion': 'entropy', 'max_features': 'auto', 'n_estimators': 100}\n"
     ]
    }
   ],
   "source": [
    "print(\"5-Level: Student Background\\n\")\n",
    "for x in df5L_SB_ROS[\"Best Param\"]:\n",
    "    print(x)"
   ]
  },
  {
   "cell_type": "markdown",
   "id": "fa571f67-e9f1-43a3-ae4c-499bfd5d1669",
   "metadata": {},
   "source": [
    "### SB after SMOTE"
   ]
  },
  {
   "cell_type": "code",
   "execution_count": 64,
   "id": "709d9766-057e-4bbb-8483-12e197759870",
   "metadata": {},
   "outputs": [
    {
     "name": "stdout",
     "output_type": "stream",
     "text": [
      "Fitting 10 folds for each of 24 candidates, totalling 240 fits\n"
     ]
    },
    {
     "name": "stderr",
     "output_type": "stream",
     "text": [
      "C:\\Users\\hazel\\anaconda3\\Lib\\site-packages\\sklearn\\model_selection\\_search.py:909: DataConversionWarning: A column-vector y was passed when a 1d array was expected. Please change the shape of y to (n_samples,), for example using ravel().\n",
      "  self.best_estimator_.fit(X, y, **fit_params)\n",
      "C:\\Users\\hazel\\anaconda3\\Lib\\site-packages\\sklearn\\ensemble\\_forest.py:424: FutureWarning: `max_features='auto'` has been deprecated in 1.1 and will be removed in 1.3. To keep the past behaviour, explicitly set `max_features='sqrt'` or remove this parameter as it is also the default value for RandomForestClassifiers and ExtraTreesClassifiers.\n",
      "  warn(\n"
     ]
    },
    {
     "name": "stdout",
     "output_type": "stream",
     "text": [
      "Fitting 10 folds for each of 24 candidates, totalling 240 fits\n"
     ]
    },
    {
     "name": "stderr",
     "output_type": "stream",
     "text": [
      "C:\\Users\\hazel\\anaconda3\\Lib\\site-packages\\sklearn\\model_selection\\_search.py:909: DataConversionWarning: A column-vector y was passed when a 1d array was expected. Please change the shape of y to (n_samples,), for example using ravel().\n",
      "  self.best_estimator_.fit(X, y, **fit_params)\n"
     ]
    },
    {
     "name": "stdout",
     "output_type": "stream",
     "text": [
      "Fitting 10 folds for each of 24 candidates, totalling 240 fits\n"
     ]
    },
    {
     "name": "stderr",
     "output_type": "stream",
     "text": [
      "C:\\Users\\hazel\\anaconda3\\Lib\\site-packages\\sklearn\\model_selection\\_search.py:909: DataConversionWarning: A column-vector y was passed when a 1d array was expected. Please change the shape of y to (n_samples,), for example using ravel().\n",
      "  self.best_estimator_.fit(X, y, **fit_params)\n"
     ]
    },
    {
     "data": {
      "text/html": [
       "<div>\n",
       "<style scoped>\n",
       "    .dataframe tbody tr th:only-of-type {\n",
       "        vertical-align: middle;\n",
       "    }\n",
       "\n",
       "    .dataframe tbody tr th {\n",
       "        vertical-align: top;\n",
       "    }\n",
       "\n",
       "    .dataframe thead th {\n",
       "        text-align: right;\n",
       "    }\n",
       "</style>\n",
       "<table border=\"1\" class=\"dataframe\">\n",
       "  <thead>\n",
       "    <tr style=\"text-align: right;\">\n",
       "      <th></th>\n",
       "      <th>Test Size</th>\n",
       "      <th>Random State</th>\n",
       "      <th>Accuracy</th>\n",
       "      <th>Precision</th>\n",
       "      <th>Recall</th>\n",
       "      <th>F1 Score</th>\n",
       "      <th>Best Param</th>\n",
       "    </tr>\n",
       "  </thead>\n",
       "  <tbody>\n",
       "    <tr>\n",
       "      <th>0</th>\n",
       "      <td>100</td>\n",
       "      <td>7</td>\n",
       "      <td>0.253957</td>\n",
       "      <td>0.279901</td>\n",
       "      <td>0.253957</td>\n",
       "      <td>0.239930</td>\n",
       "      <td>{'criterion': 'entropy', 'max_features': 'auto...</td>\n",
       "    </tr>\n",
       "    <tr>\n",
       "      <th>1</th>\n",
       "      <td>100</td>\n",
       "      <td>69</td>\n",
       "      <td>0.259712</td>\n",
       "      <td>0.296202</td>\n",
       "      <td>0.259712</td>\n",
       "      <td>0.245529</td>\n",
       "      <td>{'criterion': 'gini', 'max_features': 'log2', ...</td>\n",
       "    </tr>\n",
       "    <tr>\n",
       "      <th>2</th>\n",
       "      <td>100</td>\n",
       "      <td>101</td>\n",
       "      <td>0.255396</td>\n",
       "      <td>0.260745</td>\n",
       "      <td>0.255396</td>\n",
       "      <td>0.237614</td>\n",
       "      <td>{'criterion': 'entropy', 'max_features': 'log2...</td>\n",
       "    </tr>\n",
       "  </tbody>\n",
       "</table>\n",
       "</div>"
      ],
      "text/plain": [
       "   Test Size  Random State  Accuracy  Precision    Recall  F1 Score  \\\n",
       "0        100             7  0.253957   0.279901  0.253957  0.239930   \n",
       "1        100            69  0.259712   0.296202  0.259712  0.245529   \n",
       "2        100           101  0.255396   0.260745  0.255396  0.237614   \n",
       "\n",
       "                                          Best Param  \n",
       "0  {'criterion': 'entropy', 'max_features': 'auto...  \n",
       "1  {'criterion': 'gini', 'max_features': 'log2', ...  \n",
       "2  {'criterion': 'entropy', 'max_features': 'log2...  "
      ]
     },
     "execution_count": 64,
     "metadata": {},
     "output_type": "execute_result"
    }
   ],
   "source": [
    "temp5L_SB_SMOTE = []\n",
    "\n",
    "y_train = df1_5L_SMOTE[['CGPA']]\n",
    "X_train = df1_5L_SMOTE[['Age','Gender','Nationality', 'Living Status', 'Home Town', 'Faculty', 'Education Level',\n",
    "                     'Years of Study', 'Completed Credit Hours']]\n",
    "\n",
    "y_test = df2_5L_SMOTE[['CGPA']]\n",
    "X_test = df2_5L_SMOTE[['Age','Gender','Nationality', 'Living Status', 'Home Town', 'Faculty', 'Education Level',\n",
    "                     'Years of Study', 'Completed Credit Hours']]\n",
    "\n",
    "for j in rand_states:\n",
    "    param_grid = {'n_estimators': [100, 200, 300, 400],\n",
    "                  'max_features': ['auto', 'sqrt', 'log2'],\n",
    "                  'criterion' :['gini', 'entropy']}\n",
    "\n",
    "    model = GridSearchCV(RandomForestClassifier(), param_grid, refit=True, n_jobs=-1, cv=10, verbose=1)\n",
    "    model.fit(X_train, y_train)\n",
    "    pred = model.predict(X_test)\n",
    "\n",
    "    acc = accuracy_score(y_test,pred)\n",
    "    pre = precision_score(y_test, pred, average='weighted')\n",
    "    recall = recall_score(y_test, pred, average='weighted')\n",
    "    f1 = f1_score(y_test, pred, average='weighted')\n",
    "    param = model.best_params_\n",
    "\n",
    "    temp5L_SB_SMOTE.append([100,j,acc,pre,recall,f1,param])\n",
    "        \n",
    "df5L_SB_SMOTE = pd.DataFrame(columns=['Test Size','Random State','Accuracy','Precision','Recall','F1 Score','Best Param'],data=temp5L_SB_SMOTE)\n",
    "df5L_SB_SMOTE"
   ]
  },
  {
   "cell_type": "code",
   "execution_count": 65,
   "id": "f09b2385-ffcb-4348-845a-15a0038768a6",
   "metadata": {},
   "outputs": [
    {
     "data": {
      "text/html": [
       "<div>\n",
       "<style scoped>\n",
       "    .dataframe tbody tr th:only-of-type {\n",
       "        vertical-align: middle;\n",
       "    }\n",
       "\n",
       "    .dataframe tbody tr th {\n",
       "        vertical-align: top;\n",
       "    }\n",
       "\n",
       "    .dataframe thead th {\n",
       "        text-align: right;\n",
       "    }\n",
       "</style>\n",
       "<table border=\"1\" class=\"dataframe\">\n",
       "  <thead>\n",
       "    <tr style=\"text-align: right;\">\n",
       "      <th></th>\n",
       "      <th>Accuracy</th>\n",
       "      <th>Precision</th>\n",
       "      <th>Recall</th>\n",
       "      <th>F1 Score</th>\n",
       "    </tr>\n",
       "    <tr>\n",
       "      <th>Test Size</th>\n",
       "      <th></th>\n",
       "      <th></th>\n",
       "      <th></th>\n",
       "      <th></th>\n",
       "    </tr>\n",
       "  </thead>\n",
       "  <tbody>\n",
       "    <tr>\n",
       "      <th>100</th>\n",
       "      <td>0.256355</td>\n",
       "      <td>0.27895</td>\n",
       "      <td>0.256355</td>\n",
       "      <td>0.241024</td>\n",
       "    </tr>\n",
       "  </tbody>\n",
       "</table>\n",
       "</div>"
      ],
      "text/plain": [
       "           Accuracy  Precision    Recall  F1 Score\n",
       "Test Size                                         \n",
       "100        0.256355    0.27895  0.256355  0.241024"
      ]
     },
     "execution_count": 65,
     "metadata": {},
     "output_type": "execute_result"
    }
   ],
   "source": [
    "df5L_SB_SMOTE.groupby('Test Size')[['Accuracy','Precision','Recall','F1 Score']].mean()"
   ]
  },
  {
   "cell_type": "code",
   "execution_count": 66,
   "id": "4f31413e-e3e6-4701-9e8a-71915c7b9210",
   "metadata": {},
   "outputs": [
    {
     "name": "stdout",
     "output_type": "stream",
     "text": [
      "SMOTE 5-Level: Student Background\n",
      "\n",
      "{'criterion': 'entropy', 'max_features': 'auto', 'n_estimators': 200}\n",
      "{'criterion': 'gini', 'max_features': 'log2', 'n_estimators': 200}\n",
      "{'criterion': 'entropy', 'max_features': 'log2', 'n_estimators': 300}\n"
     ]
    }
   ],
   "source": [
    "print(\"SMOTE 5-Level: Student Background\\n\")\n",
    "for x in df5L_SB_SMOTE[\"Best Param\"]:\n",
    "    print(x)"
   ]
  },
  {
   "cell_type": "markdown",
   "id": "fbd90b6a-de16-4180-8d08-d456a5b7c22c",
   "metadata": {},
   "source": [
    "## Student History Grades"
   ]
  },
  {
   "cell_type": "markdown",
   "id": "d0eaf3f0-0d3d-499e-8497-5c43fd15322e",
   "metadata": {},
   "source": [
    "### SHG before Data Balancing"
   ]
  },
  {
   "cell_type": "code",
   "execution_count": 67,
   "id": "39e3ab75-5242-41f5-90b8-df95c8f7aed5",
   "metadata": {},
   "outputs": [
    {
     "name": "stdout",
     "output_type": "stream",
     "text": [
      "Fitting 10 folds for each of 24 candidates, totalling 240 fits\n"
     ]
    },
    {
     "name": "stderr",
     "output_type": "stream",
     "text": [
      "C:\\Users\\hazel\\anaconda3\\Lib\\site-packages\\sklearn\\model_selection\\_split.py:700: UserWarning: The least populated class in y has only 4 members, which is less than n_splits=10.\n",
      "  warnings.warn(\n",
      "C:\\Users\\hazel\\anaconda3\\Lib\\site-packages\\sklearn\\model_selection\\_search.py:909: DataConversionWarning: A column-vector y was passed when a 1d array was expected. Please change the shape of y to (n_samples,), for example using ravel().\n",
      "  self.best_estimator_.fit(X, y, **fit_params)\n",
      "C:\\Users\\hazel\\anaconda3\\Lib\\site-packages\\sklearn\\ensemble\\_forest.py:424: FutureWarning: `max_features='auto'` has been deprecated in 1.1 and will be removed in 1.3. To keep the past behaviour, explicitly set `max_features='sqrt'` or remove this parameter as it is also the default value for RandomForestClassifiers and ExtraTreesClassifiers.\n",
      "  warn(\n"
     ]
    },
    {
     "name": "stdout",
     "output_type": "stream",
     "text": [
      "Fitting 10 folds for each of 24 candidates, totalling 240 fits\n"
     ]
    },
    {
     "name": "stderr",
     "output_type": "stream",
     "text": [
      "C:\\Users\\hazel\\anaconda3\\Lib\\site-packages\\sklearn\\model_selection\\_split.py:700: UserWarning: The least populated class in y has only 4 members, which is less than n_splits=10.\n",
      "  warnings.warn(\n",
      "C:\\Users\\hazel\\anaconda3\\Lib\\site-packages\\sklearn\\model_selection\\_search.py:909: DataConversionWarning: A column-vector y was passed when a 1d array was expected. Please change the shape of y to (n_samples,), for example using ravel().\n",
      "  self.best_estimator_.fit(X, y, **fit_params)\n",
      "C:\\Users\\hazel\\anaconda3\\Lib\\site-packages\\sklearn\\ensemble\\_forest.py:424: FutureWarning: `max_features='auto'` has been deprecated in 1.1 and will be removed in 1.3. To keep the past behaviour, explicitly set `max_features='sqrt'` or remove this parameter as it is also the default value for RandomForestClassifiers and ExtraTreesClassifiers.\n",
      "  warn(\n"
     ]
    },
    {
     "name": "stdout",
     "output_type": "stream",
     "text": [
      "Fitting 10 folds for each of 24 candidates, totalling 240 fits\n"
     ]
    },
    {
     "name": "stderr",
     "output_type": "stream",
     "text": [
      "C:\\Users\\hazel\\anaconda3\\Lib\\site-packages\\sklearn\\model_selection\\_split.py:700: UserWarning: The least populated class in y has only 4 members, which is less than n_splits=10.\n",
      "  warnings.warn(\n",
      "C:\\Users\\hazel\\anaconda3\\Lib\\site-packages\\sklearn\\model_selection\\_search.py:909: DataConversionWarning: A column-vector y was passed when a 1d array was expected. Please change the shape of y to (n_samples,), for example using ravel().\n",
      "  self.best_estimator_.fit(X, y, **fit_params)\n",
      "C:\\Users\\hazel\\anaconda3\\Lib\\site-packages\\sklearn\\ensemble\\_forest.py:424: FutureWarning: `max_features='auto'` has been deprecated in 1.1 and will be removed in 1.3. To keep the past behaviour, explicitly set `max_features='sqrt'` or remove this parameter as it is also the default value for RandomForestClassifiers and ExtraTreesClassifiers.\n",
      "  warn(\n"
     ]
    },
    {
     "data": {
      "text/html": [
       "<div>\n",
       "<style scoped>\n",
       "    .dataframe tbody tr th:only-of-type {\n",
       "        vertical-align: middle;\n",
       "    }\n",
       "\n",
       "    .dataframe tbody tr th {\n",
       "        vertical-align: top;\n",
       "    }\n",
       "\n",
       "    .dataframe thead th {\n",
       "        text-align: right;\n",
       "    }\n",
       "</style>\n",
       "<table border=\"1\" class=\"dataframe\">\n",
       "  <thead>\n",
       "    <tr style=\"text-align: right;\">\n",
       "      <th></th>\n",
       "      <th>Test Size</th>\n",
       "      <th>Random State</th>\n",
       "      <th>Accuracy</th>\n",
       "      <th>Precision</th>\n",
       "      <th>Recall</th>\n",
       "      <th>F1 Score</th>\n",
       "      <th>Best Param</th>\n",
       "    </tr>\n",
       "  </thead>\n",
       "  <tbody>\n",
       "    <tr>\n",
       "      <th>0</th>\n",
       "      <td>100</td>\n",
       "      <td>7</td>\n",
       "      <td>0.508143</td>\n",
       "      <td>0.475272</td>\n",
       "      <td>0.508143</td>\n",
       "      <td>0.479525</td>\n",
       "      <td>{'criterion': 'entropy', 'max_features': 'auto...</td>\n",
       "    </tr>\n",
       "    <tr>\n",
       "      <th>1</th>\n",
       "      <td>100</td>\n",
       "      <td>69</td>\n",
       "      <td>0.508143</td>\n",
       "      <td>0.480351</td>\n",
       "      <td>0.508143</td>\n",
       "      <td>0.477303</td>\n",
       "      <td>{'criterion': 'entropy', 'max_features': 'auto...</td>\n",
       "    </tr>\n",
       "    <tr>\n",
       "      <th>2</th>\n",
       "      <td>100</td>\n",
       "      <td>101</td>\n",
       "      <td>0.519544</td>\n",
       "      <td>0.485346</td>\n",
       "      <td>0.519544</td>\n",
       "      <td>0.490567</td>\n",
       "      <td>{'criterion': 'entropy', 'max_features': 'auto...</td>\n",
       "    </tr>\n",
       "  </tbody>\n",
       "</table>\n",
       "</div>"
      ],
      "text/plain": [
       "   Test Size  Random State  Accuracy  Precision    Recall  F1 Score  \\\n",
       "0        100             7  0.508143   0.475272  0.508143  0.479525   \n",
       "1        100            69  0.508143   0.480351  0.508143  0.477303   \n",
       "2        100           101  0.519544   0.485346  0.519544  0.490567   \n",
       "\n",
       "                                          Best Param  \n",
       "0  {'criterion': 'entropy', 'max_features': 'auto...  \n",
       "1  {'criterion': 'entropy', 'max_features': 'auto...  \n",
       "2  {'criterion': 'entropy', 'max_features': 'auto...  "
      ]
     },
     "execution_count": 67,
     "metadata": {},
     "output_type": "execute_result"
    }
   ],
   "source": [
    "temp5L_SHG_imb = []\n",
    "\n",
    "y_train = df1_5L_imb[['CGPA']]\n",
    "X_train = df1_5L_imb[['Number of Subjects Failed','SPM Result (A)','SPM Result (B)','SPM Result (C)']]\n",
    "\n",
    "y_test = df2_5L_imb[['CGPA']]\n",
    "X_test = df2_5L_imb[['Number of Subjects Failed','SPM Result (A)','SPM Result (B)','SPM Result (C)']]\n",
    "\n",
    "for j in rand_states:\n",
    "    param_grid = {'n_estimators': [100, 200, 300, 400],\n",
    "                  'max_features': ['auto', 'sqrt', 'log2'],\n",
    "                  'criterion' :['gini', 'entropy']}\n",
    "\n",
    "    model = GridSearchCV(RandomForestClassifier(), param_grid, refit=True, n_jobs=-1, cv=10, verbose=1)\n",
    "    model.fit(X_train, y_train)\n",
    "    pred = model.predict(X_test)\n",
    "\n",
    "    acc = accuracy_score(y_test,pred)\n",
    "    pre = precision_score(y_test, pred, average='weighted')\n",
    "    recall = recall_score(y_test, pred, average='weighted')\n",
    "    f1 = f1_score(y_test, pred, average='weighted')\n",
    "    param = model.best_params_\n",
    "\n",
    "    temp5L_SHG_imb.append([100,j,acc,pre,recall,f1,param])\n",
    "        \n",
    "df5L_SHG_imb = pd.DataFrame(columns=['Test Size','Random State','Accuracy','Precision','Recall','F1 Score','Best Param'],data=temp5L_SHG_imb)\n",
    "df5L_SHG_imb"
   ]
  },
  {
   "cell_type": "code",
   "execution_count": 68,
   "id": "bfc81870-19f9-4c0d-b099-56e19228f8f7",
   "metadata": {},
   "outputs": [
    {
     "data": {
      "text/html": [
       "<div>\n",
       "<style scoped>\n",
       "    .dataframe tbody tr th:only-of-type {\n",
       "        vertical-align: middle;\n",
       "    }\n",
       "\n",
       "    .dataframe tbody tr th {\n",
       "        vertical-align: top;\n",
       "    }\n",
       "\n",
       "    .dataframe thead th {\n",
       "        text-align: right;\n",
       "    }\n",
       "</style>\n",
       "<table border=\"1\" class=\"dataframe\">\n",
       "  <thead>\n",
       "    <tr style=\"text-align: right;\">\n",
       "      <th></th>\n",
       "      <th>Accuracy</th>\n",
       "      <th>Precision</th>\n",
       "      <th>Recall</th>\n",
       "      <th>F1 Score</th>\n",
       "    </tr>\n",
       "    <tr>\n",
       "      <th>Test Size</th>\n",
       "      <th></th>\n",
       "      <th></th>\n",
       "      <th></th>\n",
       "      <th></th>\n",
       "    </tr>\n",
       "  </thead>\n",
       "  <tbody>\n",
       "    <tr>\n",
       "      <th>100</th>\n",
       "      <td>0.511944</td>\n",
       "      <td>0.480323</td>\n",
       "      <td>0.511944</td>\n",
       "      <td>0.482465</td>\n",
       "    </tr>\n",
       "  </tbody>\n",
       "</table>\n",
       "</div>"
      ],
      "text/plain": [
       "           Accuracy  Precision    Recall  F1 Score\n",
       "Test Size                                         \n",
       "100        0.511944   0.480323  0.511944  0.482465"
      ]
     },
     "execution_count": 68,
     "metadata": {},
     "output_type": "execute_result"
    }
   ],
   "source": [
    "df5L_SHG_imb.groupby('Test Size')[['Accuracy','Precision','Recall','F1 Score']].mean()"
   ]
  },
  {
   "cell_type": "code",
   "execution_count": 69,
   "id": "09199280-75bf-43bd-a56c-0d5172630889",
   "metadata": {},
   "outputs": [
    {
     "name": "stdout",
     "output_type": "stream",
     "text": [
      "Imbalance 5-Level: Student History Grades\n",
      "\n",
      "{'criterion': 'entropy', 'max_features': 'auto', 'n_estimators': 200}\n",
      "{'criterion': 'entropy', 'max_features': 'auto', 'n_estimators': 200}\n",
      "{'criterion': 'entropy', 'max_features': 'auto', 'n_estimators': 200}\n"
     ]
    }
   ],
   "source": [
    "print(\"Imbalance 5-Level: Student History Grades\\n\")\n",
    "for x in df5L_SHG_imb[\"Best Param\"]:\n",
    "    print(x)"
   ]
  },
  {
   "cell_type": "markdown",
   "id": "8effa478-426a-4f07-a8e2-2880e236e176",
   "metadata": {},
   "source": [
    "### SHG after RandomOverSampler"
   ]
  },
  {
   "cell_type": "code",
   "execution_count": 70,
   "id": "958a9f9b-6b77-4eca-b5de-6ba1e5ac5d9e",
   "metadata": {},
   "outputs": [
    {
     "name": "stdout",
     "output_type": "stream",
     "text": [
      "Fitting 10 folds for each of 24 candidates, totalling 240 fits\n"
     ]
    },
    {
     "name": "stderr",
     "output_type": "stream",
     "text": [
      "C:\\Users\\hazel\\anaconda3\\Lib\\site-packages\\sklearn\\model_selection\\_search.py:909: DataConversionWarning: A column-vector y was passed when a 1d array was expected. Please change the shape of y to (n_samples,), for example using ravel().\n",
      "  self.best_estimator_.fit(X, y, **fit_params)\n"
     ]
    },
    {
     "name": "stdout",
     "output_type": "stream",
     "text": [
      "Fitting 10 folds for each of 24 candidates, totalling 240 fits\n"
     ]
    },
    {
     "name": "stderr",
     "output_type": "stream",
     "text": [
      "C:\\Users\\hazel\\anaconda3\\Lib\\site-packages\\sklearn\\model_selection\\_search.py:909: DataConversionWarning: A column-vector y was passed when a 1d array was expected. Please change the shape of y to (n_samples,), for example using ravel().\n",
      "  self.best_estimator_.fit(X, y, **fit_params)\n",
      "C:\\Users\\hazel\\anaconda3\\Lib\\site-packages\\sklearn\\ensemble\\_forest.py:424: FutureWarning: `max_features='auto'` has been deprecated in 1.1 and will be removed in 1.3. To keep the past behaviour, explicitly set `max_features='sqrt'` or remove this parameter as it is also the default value for RandomForestClassifiers and ExtraTreesClassifiers.\n",
      "  warn(\n"
     ]
    },
    {
     "name": "stdout",
     "output_type": "stream",
     "text": [
      "Fitting 10 folds for each of 24 candidates, totalling 240 fits\n"
     ]
    },
    {
     "name": "stderr",
     "output_type": "stream",
     "text": [
      "C:\\Users\\hazel\\anaconda3\\Lib\\site-packages\\sklearn\\model_selection\\_search.py:909: DataConversionWarning: A column-vector y was passed when a 1d array was expected. Please change the shape of y to (n_samples,), for example using ravel().\n",
      "  self.best_estimator_.fit(X, y, **fit_params)\n"
     ]
    },
    {
     "data": {
      "text/html": [
       "<div>\n",
       "<style scoped>\n",
       "    .dataframe tbody tr th:only-of-type {\n",
       "        vertical-align: middle;\n",
       "    }\n",
       "\n",
       "    .dataframe tbody tr th {\n",
       "        vertical-align: top;\n",
       "    }\n",
       "\n",
       "    .dataframe thead th {\n",
       "        text-align: right;\n",
       "    }\n",
       "</style>\n",
       "<table border=\"1\" class=\"dataframe\">\n",
       "  <thead>\n",
       "    <tr style=\"text-align: right;\">\n",
       "      <th></th>\n",
       "      <th>Test Size</th>\n",
       "      <th>Random State</th>\n",
       "      <th>Accuracy</th>\n",
       "      <th>Precision</th>\n",
       "      <th>Recall</th>\n",
       "      <th>F1 Score</th>\n",
       "      <th>Best Param</th>\n",
       "    </tr>\n",
       "  </thead>\n",
       "  <tbody>\n",
       "    <tr>\n",
       "      <th>0</th>\n",
       "      <td>100</td>\n",
       "      <td>7</td>\n",
       "      <td>0.325899</td>\n",
       "      <td>0.313251</td>\n",
       "      <td>0.325899</td>\n",
       "      <td>0.305578</td>\n",
       "      <td>{'criterion': 'gini', 'max_features': 'log2', ...</td>\n",
       "    </tr>\n",
       "    <tr>\n",
       "      <th>1</th>\n",
       "      <td>100</td>\n",
       "      <td>69</td>\n",
       "      <td>0.315108</td>\n",
       "      <td>0.299140</td>\n",
       "      <td>0.315108</td>\n",
       "      <td>0.291939</td>\n",
       "      <td>{'criterion': 'entropy', 'max_features': 'auto...</td>\n",
       "    </tr>\n",
       "    <tr>\n",
       "      <th>2</th>\n",
       "      <td>100</td>\n",
       "      <td>101</td>\n",
       "      <td>0.336691</td>\n",
       "      <td>0.321789</td>\n",
       "      <td>0.336691</td>\n",
       "      <td>0.314318</td>\n",
       "      <td>{'criterion': 'entropy', 'max_features': 'sqrt...</td>\n",
       "    </tr>\n",
       "  </tbody>\n",
       "</table>\n",
       "</div>"
      ],
      "text/plain": [
       "   Test Size  Random State  Accuracy  Precision    Recall  F1 Score  \\\n",
       "0        100             7  0.325899   0.313251  0.325899  0.305578   \n",
       "1        100            69  0.315108   0.299140  0.315108  0.291939   \n",
       "2        100           101  0.336691   0.321789  0.336691  0.314318   \n",
       "\n",
       "                                          Best Param  \n",
       "0  {'criterion': 'gini', 'max_features': 'log2', ...  \n",
       "1  {'criterion': 'entropy', 'max_features': 'auto...  \n",
       "2  {'criterion': 'entropy', 'max_features': 'sqrt...  "
      ]
     },
     "execution_count": 70,
     "metadata": {},
     "output_type": "execute_result"
    }
   ],
   "source": [
    "temp5L_SHG_ROS = []\n",
    "\n",
    "y_train = df1_5L_ROS[['CGPA']]\n",
    "X_train = df1_5L_ROS[['Number of Subjects Failed','SPM Result (A)','SPM Result (B)','SPM Result (C)']]\n",
    "\n",
    "y_test = df2_5L_ROS[['CGPA']]\n",
    "X_test = df2_5L_ROS[['Number of Subjects Failed','SPM Result (A)','SPM Result (B)','SPM Result (C)']]\n",
    "\n",
    "for j in rand_states:\n",
    "    param_grid = {'n_estimators': [100, 200, 300, 400],\n",
    "                  'max_features': ['auto', 'sqrt', 'log2'],\n",
    "                  'criterion' :['gini', 'entropy']}\n",
    "\n",
    "    model = GridSearchCV(RandomForestClassifier(), param_grid, refit=True, n_jobs=-1, cv=10, verbose=1)\n",
    "    model.fit(X_train, y_train)\n",
    "    pred = model.predict(X_test)\n",
    "\n",
    "    acc = accuracy_score(y_test,pred)\n",
    "    pre = precision_score(y_test, pred, average='weighted')\n",
    "    recall = recall_score(y_test, pred, average='weighted')\n",
    "    f1 = f1_score(y_test, pred, average='weighted')\n",
    "    param = model.best_params_\n",
    "\n",
    "    temp5L_SHG_ROS.append([100,j,acc,pre,recall,f1,param])\n",
    "        \n",
    "df5L_SHG_ROS = pd.DataFrame(columns=['Test Size','Random State','Accuracy','Precision','Recall','F1 Score','Best Param'],data=temp5L_SHG_ROS)\n",
    "df5L_SHG_ROS"
   ]
  },
  {
   "cell_type": "code",
   "execution_count": 71,
   "id": "237191d4-4c7a-45fe-ac4e-116060c7619d",
   "metadata": {},
   "outputs": [
    {
     "data": {
      "text/html": [
       "<div>\n",
       "<style scoped>\n",
       "    .dataframe tbody tr th:only-of-type {\n",
       "        vertical-align: middle;\n",
       "    }\n",
       "\n",
       "    .dataframe tbody tr th {\n",
       "        vertical-align: top;\n",
       "    }\n",
       "\n",
       "    .dataframe thead th {\n",
       "        text-align: right;\n",
       "    }\n",
       "</style>\n",
       "<table border=\"1\" class=\"dataframe\">\n",
       "  <thead>\n",
       "    <tr style=\"text-align: right;\">\n",
       "      <th></th>\n",
       "      <th>Accuracy</th>\n",
       "      <th>Precision</th>\n",
       "      <th>Recall</th>\n",
       "      <th>F1 Score</th>\n",
       "    </tr>\n",
       "    <tr>\n",
       "      <th>Test Size</th>\n",
       "      <th></th>\n",
       "      <th></th>\n",
       "      <th></th>\n",
       "      <th></th>\n",
       "    </tr>\n",
       "  </thead>\n",
       "  <tbody>\n",
       "    <tr>\n",
       "      <th>100</th>\n",
       "      <td>0.325899</td>\n",
       "      <td>0.311394</td>\n",
       "      <td>0.325899</td>\n",
       "      <td>0.303945</td>\n",
       "    </tr>\n",
       "  </tbody>\n",
       "</table>\n",
       "</div>"
      ],
      "text/plain": [
       "           Accuracy  Precision    Recall  F1 Score\n",
       "Test Size                                         \n",
       "100        0.325899   0.311394  0.325899  0.303945"
      ]
     },
     "execution_count": 71,
     "metadata": {},
     "output_type": "execute_result"
    }
   ],
   "source": [
    "df5L_SHG_ROS.groupby('Test Size')[['Accuracy','Precision','Recall','F1 Score']].mean()"
   ]
  },
  {
   "cell_type": "code",
   "execution_count": 72,
   "id": "001afc23-6ea1-482b-b153-685275f30998",
   "metadata": {},
   "outputs": [
    {
     "name": "stdout",
     "output_type": "stream",
     "text": [
      "5-Level: Student History Grades\n",
      "\n",
      "{'criterion': 'gini', 'max_features': 'log2', 'n_estimators': 400}\n",
      "{'criterion': 'entropy', 'max_features': 'auto', 'n_estimators': 100}\n",
      "{'criterion': 'entropy', 'max_features': 'sqrt', 'n_estimators': 300}\n"
     ]
    }
   ],
   "source": [
    "print(\"5-Level: Student History Grades\\n\")\n",
    "for x in df5L_SHG_ROS[\"Best Param\"]:\n",
    "    print(x)"
   ]
  },
  {
   "cell_type": "markdown",
   "id": "8bb931df-d802-41f2-bdf5-56d640545295",
   "metadata": {},
   "source": [
    "### SHG after SMOTE"
   ]
  },
  {
   "cell_type": "code",
   "execution_count": 73,
   "id": "54ff8f17-018f-450d-b442-c4231c7efc62",
   "metadata": {},
   "outputs": [
    {
     "name": "stdout",
     "output_type": "stream",
     "text": [
      "Fitting 10 folds for each of 24 candidates, totalling 240 fits\n"
     ]
    },
    {
     "name": "stderr",
     "output_type": "stream",
     "text": [
      "C:\\Users\\hazel\\anaconda3\\Lib\\site-packages\\sklearn\\model_selection\\_search.py:909: DataConversionWarning: A column-vector y was passed when a 1d array was expected. Please change the shape of y to (n_samples,), for example using ravel().\n",
      "  self.best_estimator_.fit(X, y, **fit_params)\n"
     ]
    },
    {
     "name": "stdout",
     "output_type": "stream",
     "text": [
      "Fitting 10 folds for each of 24 candidates, totalling 240 fits\n"
     ]
    },
    {
     "name": "stderr",
     "output_type": "stream",
     "text": [
      "C:\\Users\\hazel\\anaconda3\\Lib\\site-packages\\sklearn\\model_selection\\_search.py:909: DataConversionWarning: A column-vector y was passed when a 1d array was expected. Please change the shape of y to (n_samples,), for example using ravel().\n",
      "  self.best_estimator_.fit(X, y, **fit_params)\n",
      "C:\\Users\\hazel\\anaconda3\\Lib\\site-packages\\sklearn\\ensemble\\_forest.py:424: FutureWarning: `max_features='auto'` has been deprecated in 1.1 and will be removed in 1.3. To keep the past behaviour, explicitly set `max_features='sqrt'` or remove this parameter as it is also the default value for RandomForestClassifiers and ExtraTreesClassifiers.\n",
      "  warn(\n"
     ]
    },
    {
     "name": "stdout",
     "output_type": "stream",
     "text": [
      "Fitting 10 folds for each of 24 candidates, totalling 240 fits\n"
     ]
    },
    {
     "name": "stderr",
     "output_type": "stream",
     "text": [
      "C:\\Users\\hazel\\anaconda3\\Lib\\site-packages\\sklearn\\model_selection\\_search.py:909: DataConversionWarning: A column-vector y was passed when a 1d array was expected. Please change the shape of y to (n_samples,), for example using ravel().\n",
      "  self.best_estimator_.fit(X, y, **fit_params)\n"
     ]
    },
    {
     "data": {
      "text/html": [
       "<div>\n",
       "<style scoped>\n",
       "    .dataframe tbody tr th:only-of-type {\n",
       "        vertical-align: middle;\n",
       "    }\n",
       "\n",
       "    .dataframe tbody tr th {\n",
       "        vertical-align: top;\n",
       "    }\n",
       "\n",
       "    .dataframe thead th {\n",
       "        text-align: right;\n",
       "    }\n",
       "</style>\n",
       "<table border=\"1\" class=\"dataframe\">\n",
       "  <thead>\n",
       "    <tr style=\"text-align: right;\">\n",
       "      <th></th>\n",
       "      <th>Test Size</th>\n",
       "      <th>Random State</th>\n",
       "      <th>Accuracy</th>\n",
       "      <th>Precision</th>\n",
       "      <th>Recall</th>\n",
       "      <th>F1 Score</th>\n",
       "      <th>Best Param</th>\n",
       "    </tr>\n",
       "  </thead>\n",
       "  <tbody>\n",
       "    <tr>\n",
       "      <th>0</th>\n",
       "      <td>100</td>\n",
       "      <td>7</td>\n",
       "      <td>0.386331</td>\n",
       "      <td>0.380919</td>\n",
       "      <td>0.386331</td>\n",
       "      <td>0.373795</td>\n",
       "      <td>{'criterion': 'entropy', 'max_features': 'sqrt...</td>\n",
       "    </tr>\n",
       "    <tr>\n",
       "      <th>1</th>\n",
       "      <td>100</td>\n",
       "      <td>69</td>\n",
       "      <td>0.392086</td>\n",
       "      <td>0.384825</td>\n",
       "      <td>0.392086</td>\n",
       "      <td>0.379474</td>\n",
       "      <td>{'criterion': 'entropy', 'max_features': 'auto...</td>\n",
       "    </tr>\n",
       "    <tr>\n",
       "      <th>2</th>\n",
       "      <td>100</td>\n",
       "      <td>101</td>\n",
       "      <td>0.386331</td>\n",
       "      <td>0.380812</td>\n",
       "      <td>0.386331</td>\n",
       "      <td>0.373682</td>\n",
       "      <td>{'criterion': 'gini', 'max_features': 'sqrt', ...</td>\n",
       "    </tr>\n",
       "  </tbody>\n",
       "</table>\n",
       "</div>"
      ],
      "text/plain": [
       "   Test Size  Random State  Accuracy  Precision    Recall  F1 Score  \\\n",
       "0        100             7  0.386331   0.380919  0.386331  0.373795   \n",
       "1        100            69  0.392086   0.384825  0.392086  0.379474   \n",
       "2        100           101  0.386331   0.380812  0.386331  0.373682   \n",
       "\n",
       "                                          Best Param  \n",
       "0  {'criterion': 'entropy', 'max_features': 'sqrt...  \n",
       "1  {'criterion': 'entropy', 'max_features': 'auto...  \n",
       "2  {'criterion': 'gini', 'max_features': 'sqrt', ...  "
      ]
     },
     "execution_count": 73,
     "metadata": {},
     "output_type": "execute_result"
    }
   ],
   "source": [
    "temp5L_SHG_SMOTE = []\n",
    "\n",
    "y_train = df1_5L_SMOTE[['CGPA']]\n",
    "X_train = df1_5L_SMOTE[['Number of Subjects Failed','SPM Result (A)','SPM Result (B)','SPM Result (C)']]\n",
    "\n",
    "y_test = df2_5L_SMOTE[['CGPA']]\n",
    "X_test = df2_5L_SMOTE[['Number of Subjects Failed','SPM Result (A)','SPM Result (B)','SPM Result (C)']]\n",
    "\n",
    "for j in rand_states:\n",
    "    param_grid = {'n_estimators': [100, 200, 300, 400],\n",
    "                  'max_features': ['auto', 'sqrt', 'log2'],\n",
    "                  'criterion' :['gini', 'entropy']}\n",
    "\n",
    "    model = GridSearchCV(RandomForestClassifier(), param_grid, refit=True, n_jobs=-1, cv=10, verbose=1)\n",
    "    model.fit(X_train, y_train)\n",
    "    pred = model.predict(X_test)\n",
    "\n",
    "    acc = accuracy_score(y_test,pred)\n",
    "    pre = precision_score(y_test, pred, average='weighted')\n",
    "    recall = recall_score(y_test, pred, average='weighted')\n",
    "    f1 = f1_score(y_test, pred, average='weighted')\n",
    "    param = model.best_params_\n",
    "\n",
    "    temp5L_SHG_SMOTE.append([100,j,acc,pre,recall,f1,param])\n",
    "        \n",
    "df5L_SHG_SMOTE = pd.DataFrame(columns=['Test Size','Random State','Accuracy','Precision','Recall','F1 Score','Best Param'],data=temp5L_SHG_SMOTE)\n",
    "df5L_SHG_SMOTE"
   ]
  },
  {
   "cell_type": "code",
   "execution_count": 74,
   "id": "e88ea72e-bd87-4386-b469-49af2539dd44",
   "metadata": {},
   "outputs": [
    {
     "data": {
      "text/html": [
       "<div>\n",
       "<style scoped>\n",
       "    .dataframe tbody tr th:only-of-type {\n",
       "        vertical-align: middle;\n",
       "    }\n",
       "\n",
       "    .dataframe tbody tr th {\n",
       "        vertical-align: top;\n",
       "    }\n",
       "\n",
       "    .dataframe thead th {\n",
       "        text-align: right;\n",
       "    }\n",
       "</style>\n",
       "<table border=\"1\" class=\"dataframe\">\n",
       "  <thead>\n",
       "    <tr style=\"text-align: right;\">\n",
       "      <th></th>\n",
       "      <th>Accuracy</th>\n",
       "      <th>Precision</th>\n",
       "      <th>Recall</th>\n",
       "      <th>F1 Score</th>\n",
       "    </tr>\n",
       "    <tr>\n",
       "      <th>Test Size</th>\n",
       "      <th></th>\n",
       "      <th></th>\n",
       "      <th></th>\n",
       "      <th></th>\n",
       "    </tr>\n",
       "  </thead>\n",
       "  <tbody>\n",
       "    <tr>\n",
       "      <th>100</th>\n",
       "      <td>0.388249</td>\n",
       "      <td>0.382185</td>\n",
       "      <td>0.388249</td>\n",
       "      <td>0.37565</td>\n",
       "    </tr>\n",
       "  </tbody>\n",
       "</table>\n",
       "</div>"
      ],
      "text/plain": [
       "           Accuracy  Precision    Recall  F1 Score\n",
       "Test Size                                         \n",
       "100        0.388249   0.382185  0.388249   0.37565"
      ]
     },
     "execution_count": 74,
     "metadata": {},
     "output_type": "execute_result"
    }
   ],
   "source": [
    "df5L_SHG_SMOTE.groupby('Test Size')[['Accuracy','Precision','Recall','F1 Score']].mean()"
   ]
  },
  {
   "cell_type": "code",
   "execution_count": 75,
   "id": "12e8a48f-39bf-474a-b5fb-8dfd80bdaed4",
   "metadata": {},
   "outputs": [
    {
     "name": "stdout",
     "output_type": "stream",
     "text": [
      "SMOTE 5-Level: Student History Grades\n",
      "\n",
      "{'criterion': 'entropy', 'max_features': 'sqrt', 'n_estimators': 300}\n",
      "{'criterion': 'entropy', 'max_features': 'auto', 'n_estimators': 200}\n",
      "{'criterion': 'gini', 'max_features': 'sqrt', 'n_estimators': 200}\n"
     ]
    }
   ],
   "source": [
    "print(\"SMOTE 5-Level: Student History Grades\\n\")\n",
    "for x in df5L_SHG_SMOTE[\"Best Param\"]:\n",
    "    print(x)"
   ]
  },
  {
   "cell_type": "markdown",
   "id": "28db2b20-6c5e-480c-a297-803fa46ac949",
   "metadata": {},
   "source": [
    "## Student Opinion Towards MMU Environment"
   ]
  },
  {
   "cell_type": "markdown",
   "id": "f0dcb739-8a28-4b30-9ee9-96db32d7dc0e",
   "metadata": {},
   "source": [
    "### SOTME before Data Balancing"
   ]
  },
  {
   "cell_type": "code",
   "execution_count": 76,
   "id": "71cfca10-9188-411c-9fc0-8c21f096b3aa",
   "metadata": {},
   "outputs": [
    {
     "name": "stdout",
     "output_type": "stream",
     "text": [
      "Fitting 10 folds for each of 24 candidates, totalling 240 fits\n"
     ]
    },
    {
     "name": "stderr",
     "output_type": "stream",
     "text": [
      "C:\\Users\\hazel\\anaconda3\\Lib\\site-packages\\sklearn\\model_selection\\_split.py:700: UserWarning: The least populated class in y has only 4 members, which is less than n_splits=10.\n",
      "  warnings.warn(\n",
      "C:\\Users\\hazel\\anaconda3\\Lib\\site-packages\\sklearn\\model_selection\\_search.py:909: DataConversionWarning: A column-vector y was passed when a 1d array was expected. Please change the shape of y to (n_samples,), for example using ravel().\n",
      "  self.best_estimator_.fit(X, y, **fit_params)\n",
      "C:\\Users\\hazel\\anaconda3\\Lib\\site-packages\\sklearn\\ensemble\\_forest.py:424: FutureWarning: `max_features='auto'` has been deprecated in 1.1 and will be removed in 1.3. To keep the past behaviour, explicitly set `max_features='sqrt'` or remove this parameter as it is also the default value for RandomForestClassifiers and ExtraTreesClassifiers.\n",
      "  warn(\n",
      "C:\\Users\\hazel\\anaconda3\\Lib\\site-packages\\sklearn\\metrics\\_classification.py:1344: UndefinedMetricWarning: Precision is ill-defined and being set to 0.0 in labels with no predicted samples. Use `zero_division` parameter to control this behavior.\n",
      "  _warn_prf(average, modifier, msg_start, len(result))\n",
      "C:\\Users\\hazel\\anaconda3\\Lib\\site-packages\\sklearn\\model_selection\\_split.py:700: UserWarning: The least populated class in y has only 4 members, which is less than n_splits=10.\n",
      "  warnings.warn(\n"
     ]
    },
    {
     "name": "stdout",
     "output_type": "stream",
     "text": [
      "Fitting 10 folds for each of 24 candidates, totalling 240 fits\n"
     ]
    },
    {
     "name": "stderr",
     "output_type": "stream",
     "text": [
      "C:\\Users\\hazel\\anaconda3\\Lib\\site-packages\\sklearn\\model_selection\\_search.py:909: DataConversionWarning: A column-vector y was passed when a 1d array was expected. Please change the shape of y to (n_samples,), for example using ravel().\n",
      "  self.best_estimator_.fit(X, y, **fit_params)\n",
      "C:\\Users\\hazel\\anaconda3\\Lib\\site-packages\\sklearn\\metrics\\_classification.py:1344: UndefinedMetricWarning: Precision is ill-defined and being set to 0.0 in labels with no predicted samples. Use `zero_division` parameter to control this behavior.\n",
      "  _warn_prf(average, modifier, msg_start, len(result))\n",
      "C:\\Users\\hazel\\anaconda3\\Lib\\site-packages\\sklearn\\model_selection\\_split.py:700: UserWarning: The least populated class in y has only 4 members, which is less than n_splits=10.\n",
      "  warnings.warn(\n"
     ]
    },
    {
     "name": "stdout",
     "output_type": "stream",
     "text": [
      "Fitting 10 folds for each of 24 candidates, totalling 240 fits\n"
     ]
    },
    {
     "name": "stderr",
     "output_type": "stream",
     "text": [
      "C:\\Users\\hazel\\anaconda3\\Lib\\site-packages\\sklearn\\model_selection\\_search.py:909: DataConversionWarning: A column-vector y was passed when a 1d array was expected. Please change the shape of y to (n_samples,), for example using ravel().\n",
      "  self.best_estimator_.fit(X, y, **fit_params)\n",
      "C:\\Users\\hazel\\anaconda3\\Lib\\site-packages\\sklearn\\metrics\\_classification.py:1344: UndefinedMetricWarning: Precision is ill-defined and being set to 0.0 in labels with no predicted samples. Use `zero_division` parameter to control this behavior.\n",
      "  _warn_prf(average, modifier, msg_start, len(result))\n"
     ]
    },
    {
     "data": {
      "text/html": [
       "<div>\n",
       "<style scoped>\n",
       "    .dataframe tbody tr th:only-of-type {\n",
       "        vertical-align: middle;\n",
       "    }\n",
       "\n",
       "    .dataframe tbody tr th {\n",
       "        vertical-align: top;\n",
       "    }\n",
       "\n",
       "    .dataframe thead th {\n",
       "        text-align: right;\n",
       "    }\n",
       "</style>\n",
       "<table border=\"1\" class=\"dataframe\">\n",
       "  <thead>\n",
       "    <tr style=\"text-align: right;\">\n",
       "      <th></th>\n",
       "      <th>Test Size</th>\n",
       "      <th>Random State</th>\n",
       "      <th>Accuracy</th>\n",
       "      <th>Precision</th>\n",
       "      <th>Recall</th>\n",
       "      <th>F1 Score</th>\n",
       "      <th>Best Param</th>\n",
       "    </tr>\n",
       "  </thead>\n",
       "  <tbody>\n",
       "    <tr>\n",
       "      <th>0</th>\n",
       "      <td>100</td>\n",
       "      <td>7</td>\n",
       "      <td>0.395765</td>\n",
       "      <td>0.336116</td>\n",
       "      <td>0.395765</td>\n",
       "      <td>0.351065</td>\n",
       "      <td>{'criterion': 'gini', 'max_features': 'auto', ...</td>\n",
       "    </tr>\n",
       "    <tr>\n",
       "      <th>1</th>\n",
       "      <td>100</td>\n",
       "      <td>69</td>\n",
       "      <td>0.385993</td>\n",
       "      <td>0.333660</td>\n",
       "      <td>0.385993</td>\n",
       "      <td>0.350264</td>\n",
       "      <td>{'criterion': 'gini', 'max_features': 'sqrt', ...</td>\n",
       "    </tr>\n",
       "    <tr>\n",
       "      <th>2</th>\n",
       "      <td>100</td>\n",
       "      <td>101</td>\n",
       "      <td>0.389251</td>\n",
       "      <td>0.336072</td>\n",
       "      <td>0.389251</td>\n",
       "      <td>0.353215</td>\n",
       "      <td>{'criterion': 'gini', 'max_features': 'log2', ...</td>\n",
       "    </tr>\n",
       "  </tbody>\n",
       "</table>\n",
       "</div>"
      ],
      "text/plain": [
       "   Test Size  Random State  Accuracy  Precision    Recall  F1 Score  \\\n",
       "0        100             7  0.395765   0.336116  0.395765  0.351065   \n",
       "1        100            69  0.385993   0.333660  0.385993  0.350264   \n",
       "2        100           101  0.389251   0.336072  0.389251  0.353215   \n",
       "\n",
       "                                          Best Param  \n",
       "0  {'criterion': 'gini', 'max_features': 'auto', ...  \n",
       "1  {'criterion': 'gini', 'max_features': 'sqrt', ...  \n",
       "2  {'criterion': 'gini', 'max_features': 'log2', ...  "
      ]
     },
     "execution_count": 76,
     "metadata": {},
     "output_type": "execute_result"
    }
   ],
   "source": [
    "temp5L_SOTME_imb = []\n",
    "\n",
    "y_train = df1_5L_imb[['CGPA']]\n",
    "X_train = df1_5L_imb[['Reason Study at Multimedia University', 'Lecture Class Capacity','Tutorial Class Capacity', \n",
    "                     'Classroom Facilities', 'Campus Environment']]\n",
    "\n",
    "y_test = df2_5L_imb[['CGPA']]\n",
    "X_test = df2_5L_imb[['Reason Study at Multimedia University', 'Lecture Class Capacity','Tutorial Class Capacity', \n",
    "                     'Classroom Facilities', 'Campus Environment']]\n",
    "\n",
    "for j in rand_states:\n",
    "    param_grid = {'n_estimators': [100, 200, 300, 400],\n",
    "                  'max_features': ['auto', 'sqrt', 'log2'],\n",
    "                  'criterion' :['gini', 'entropy']}\n",
    "\n",
    "    model = GridSearchCV(RandomForestClassifier(), param_grid, refit=True, n_jobs=-1, cv=10, verbose=1)\n",
    "    model.fit(X_train, y_train)\n",
    "    pred = model.predict(X_test)\n",
    "\n",
    "    acc = accuracy_score(y_test,pred)\n",
    "    pre = precision_score(y_test, pred, average='weighted')\n",
    "    recall = recall_score(y_test, pred, average='weighted')\n",
    "    f1 = f1_score(y_test, pred, average='weighted')\n",
    "    param = model.best_params_\n",
    "\n",
    "    temp5L_SOTME_imb.append([100,j,acc,pre,recall,f1,param])\n",
    "        \n",
    "df5L_SOTME_imb = pd.DataFrame(columns=['Test Size','Random State','Accuracy','Precision','Recall','F1 Score','Best Param'],data=temp5L_SOTME_imb)\n",
    "df5L_SOTME_imb"
   ]
  },
  {
   "cell_type": "code",
   "execution_count": 77,
   "id": "ded7bf5f-95a6-400e-942e-4e1d2e917dc4",
   "metadata": {},
   "outputs": [
    {
     "data": {
      "text/html": [
       "<div>\n",
       "<style scoped>\n",
       "    .dataframe tbody tr th:only-of-type {\n",
       "        vertical-align: middle;\n",
       "    }\n",
       "\n",
       "    .dataframe tbody tr th {\n",
       "        vertical-align: top;\n",
       "    }\n",
       "\n",
       "    .dataframe thead th {\n",
       "        text-align: right;\n",
       "    }\n",
       "</style>\n",
       "<table border=\"1\" class=\"dataframe\">\n",
       "  <thead>\n",
       "    <tr style=\"text-align: right;\">\n",
       "      <th></th>\n",
       "      <th>Accuracy</th>\n",
       "      <th>Precision</th>\n",
       "      <th>Recall</th>\n",
       "      <th>F1 Score</th>\n",
       "    </tr>\n",
       "    <tr>\n",
       "      <th>Test Size</th>\n",
       "      <th></th>\n",
       "      <th></th>\n",
       "      <th></th>\n",
       "      <th></th>\n",
       "    </tr>\n",
       "  </thead>\n",
       "  <tbody>\n",
       "    <tr>\n",
       "      <th>100</th>\n",
       "      <td>0.390337</td>\n",
       "      <td>0.335283</td>\n",
       "      <td>0.390337</td>\n",
       "      <td>0.351515</td>\n",
       "    </tr>\n",
       "  </tbody>\n",
       "</table>\n",
       "</div>"
      ],
      "text/plain": [
       "           Accuracy  Precision    Recall  F1 Score\n",
       "Test Size                                         \n",
       "100        0.390337   0.335283  0.390337  0.351515"
      ]
     },
     "execution_count": 77,
     "metadata": {},
     "output_type": "execute_result"
    }
   ],
   "source": [
    "df5L_SOTME_imb.groupby('Test Size')[['Accuracy','Precision','Recall','F1 Score']].mean()"
   ]
  },
  {
   "cell_type": "code",
   "execution_count": 78,
   "id": "04cc6ff9-4dbb-4897-9ef4-9f2049b24131",
   "metadata": {},
   "outputs": [
    {
     "name": "stdout",
     "output_type": "stream",
     "text": [
      "Imbalance 5-Level: Student Opinion Towards MMU Environment\n",
      "\n",
      "{'criterion': 'gini', 'max_features': 'auto', 'n_estimators': 300}\n",
      "{'criterion': 'gini', 'max_features': 'sqrt', 'n_estimators': 400}\n",
      "{'criterion': 'gini', 'max_features': 'log2', 'n_estimators': 400}\n"
     ]
    }
   ],
   "source": [
    "print(\"Imbalance 5-Level: Student Opinion Towards MMU Environment\\n\")\n",
    "for x in df5L_SOTME_imb[\"Best Param\"]:\n",
    "    print(x)"
   ]
  },
  {
   "cell_type": "markdown",
   "id": "eac028e6-2e5d-4ed4-9233-e28876d783a4",
   "metadata": {},
   "source": [
    "### SOTME after RandomOverSampler"
   ]
  },
  {
   "cell_type": "code",
   "execution_count": 79,
   "id": "2fd27300-a874-4d59-8c19-3eb38d60f854",
   "metadata": {},
   "outputs": [
    {
     "name": "stdout",
     "output_type": "stream",
     "text": [
      "Fitting 10 folds for each of 24 candidates, totalling 240 fits\n"
     ]
    },
    {
     "name": "stderr",
     "output_type": "stream",
     "text": [
      "C:\\Users\\hazel\\anaconda3\\Lib\\site-packages\\sklearn\\model_selection\\_search.py:909: DataConversionWarning: A column-vector y was passed when a 1d array was expected. Please change the shape of y to (n_samples,), for example using ravel().\n",
      "  self.best_estimator_.fit(X, y, **fit_params)\n",
      "C:\\Users\\hazel\\anaconda3\\Lib\\site-packages\\sklearn\\ensemble\\_forest.py:424: FutureWarning: `max_features='auto'` has been deprecated in 1.1 and will be removed in 1.3. To keep the past behaviour, explicitly set `max_features='sqrt'` or remove this parameter as it is also the default value for RandomForestClassifiers and ExtraTreesClassifiers.\n",
      "  warn(\n"
     ]
    },
    {
     "name": "stdout",
     "output_type": "stream",
     "text": [
      "Fitting 10 folds for each of 24 candidates, totalling 240 fits\n"
     ]
    },
    {
     "name": "stderr",
     "output_type": "stream",
     "text": [
      "C:\\Users\\hazel\\anaconda3\\Lib\\site-packages\\sklearn\\model_selection\\_search.py:909: DataConversionWarning: A column-vector y was passed when a 1d array was expected. Please change the shape of y to (n_samples,), for example using ravel().\n",
      "  self.best_estimator_.fit(X, y, **fit_params)\n",
      "C:\\Users\\hazel\\anaconda3\\Lib\\site-packages\\sklearn\\ensemble\\_forest.py:424: FutureWarning: `max_features='auto'` has been deprecated in 1.1 and will be removed in 1.3. To keep the past behaviour, explicitly set `max_features='sqrt'` or remove this parameter as it is also the default value for RandomForestClassifiers and ExtraTreesClassifiers.\n",
      "  warn(\n"
     ]
    },
    {
     "name": "stdout",
     "output_type": "stream",
     "text": [
      "Fitting 10 folds for each of 24 candidates, totalling 240 fits\n"
     ]
    },
    {
     "name": "stderr",
     "output_type": "stream",
     "text": [
      "C:\\Users\\hazel\\anaconda3\\Lib\\site-packages\\sklearn\\model_selection\\_search.py:909: DataConversionWarning: A column-vector y was passed when a 1d array was expected. Please change the shape of y to (n_samples,), for example using ravel().\n",
      "  self.best_estimator_.fit(X, y, **fit_params)\n"
     ]
    },
    {
     "data": {
      "text/html": [
       "<div>\n",
       "<style scoped>\n",
       "    .dataframe tbody tr th:only-of-type {\n",
       "        vertical-align: middle;\n",
       "    }\n",
       "\n",
       "    .dataframe tbody tr th {\n",
       "        vertical-align: top;\n",
       "    }\n",
       "\n",
       "    .dataframe thead th {\n",
       "        text-align: right;\n",
       "    }\n",
       "</style>\n",
       "<table border=\"1\" class=\"dataframe\">\n",
       "  <thead>\n",
       "    <tr style=\"text-align: right;\">\n",
       "      <th></th>\n",
       "      <th>Test Size</th>\n",
       "      <th>Random State</th>\n",
       "      <th>Accuracy</th>\n",
       "      <th>Precision</th>\n",
       "      <th>Recall</th>\n",
       "      <th>F1 Score</th>\n",
       "      <th>Best Param</th>\n",
       "    </tr>\n",
       "  </thead>\n",
       "  <tbody>\n",
       "    <tr>\n",
       "      <th>0</th>\n",
       "      <td>100</td>\n",
       "      <td>7</td>\n",
       "      <td>0.173381</td>\n",
       "      <td>0.131381</td>\n",
       "      <td>0.173381</td>\n",
       "      <td>0.142745</td>\n",
       "      <td>{'criterion': 'entropy', 'max_features': 'auto...</td>\n",
       "    </tr>\n",
       "    <tr>\n",
       "      <th>1</th>\n",
       "      <td>100</td>\n",
       "      <td>69</td>\n",
       "      <td>0.173381</td>\n",
       "      <td>0.132382</td>\n",
       "      <td>0.173381</td>\n",
       "      <td>0.143007</td>\n",
       "      <td>{'criterion': 'entropy', 'max_features': 'auto...</td>\n",
       "    </tr>\n",
       "    <tr>\n",
       "      <th>2</th>\n",
       "      <td>100</td>\n",
       "      <td>101</td>\n",
       "      <td>0.174820</td>\n",
       "      <td>0.131147</td>\n",
       "      <td>0.174820</td>\n",
       "      <td>0.145110</td>\n",
       "      <td>{'criterion': 'gini', 'max_features': 'sqrt', ...</td>\n",
       "    </tr>\n",
       "  </tbody>\n",
       "</table>\n",
       "</div>"
      ],
      "text/plain": [
       "   Test Size  Random State  Accuracy  Precision    Recall  F1 Score  \\\n",
       "0        100             7  0.173381   0.131381  0.173381  0.142745   \n",
       "1        100            69  0.173381   0.132382  0.173381  0.143007   \n",
       "2        100           101  0.174820   0.131147  0.174820  0.145110   \n",
       "\n",
       "                                          Best Param  \n",
       "0  {'criterion': 'entropy', 'max_features': 'auto...  \n",
       "1  {'criterion': 'entropy', 'max_features': 'auto...  \n",
       "2  {'criterion': 'gini', 'max_features': 'sqrt', ...  "
      ]
     },
     "execution_count": 79,
     "metadata": {},
     "output_type": "execute_result"
    }
   ],
   "source": [
    "temp5L_SOTME_ROS = []\n",
    "\n",
    "y_train = df1_5L_ROS[['CGPA']]\n",
    "X_train = df1_5L_ROS[['Reason Study at Multimedia University', 'Lecture Class Capacity','Tutorial Class Capacity', \n",
    "                     'Classroom Facilities', 'Campus Environment']]\n",
    "\n",
    "y_test = df2_5L_ROS[['CGPA']]\n",
    "X_test = df2_5L_ROS[['Reason Study at Multimedia University', 'Lecture Class Capacity','Tutorial Class Capacity', \n",
    "                     'Classroom Facilities', 'Campus Environment']]\n",
    "\n",
    "for j in rand_states:\n",
    "    param_grid = {'n_estimators': [100, 200, 300, 400],\n",
    "                  'max_features': ['auto', 'sqrt', 'log2'],\n",
    "                  'criterion' :['gini', 'entropy']}\n",
    "\n",
    "    model = GridSearchCV(RandomForestClassifier(), param_grid, refit=True, n_jobs=-1, cv=10, verbose=1)\n",
    "    model.fit(X_train, y_train)\n",
    "    pred = model.predict(X_test)\n",
    "\n",
    "    acc = accuracy_score(y_test,pred)\n",
    "    pre = precision_score(y_test, pred, average='weighted')\n",
    "    recall = recall_score(y_test, pred, average='weighted')\n",
    "    f1 = f1_score(y_test, pred, average='weighted')\n",
    "    param = model.best_params_\n",
    "\n",
    "    temp5L_SOTME_ROS.append([100,j,acc,pre,recall,f1,param])\n",
    "        \n",
    "df5L_SOTME_ROS = pd.DataFrame(columns=['Test Size','Random State','Accuracy','Precision','Recall','F1 Score','Best Param'],data=temp5L_SOTME_ROS)\n",
    "df5L_SOTME_ROS"
   ]
  },
  {
   "cell_type": "code",
   "execution_count": 80,
   "id": "19d9e751-64ba-4cee-b7b3-7341b19910f7",
   "metadata": {},
   "outputs": [
    {
     "data": {
      "text/html": [
       "<div>\n",
       "<style scoped>\n",
       "    .dataframe tbody tr th:only-of-type {\n",
       "        vertical-align: middle;\n",
       "    }\n",
       "\n",
       "    .dataframe tbody tr th {\n",
       "        vertical-align: top;\n",
       "    }\n",
       "\n",
       "    .dataframe thead th {\n",
       "        text-align: right;\n",
       "    }\n",
       "</style>\n",
       "<table border=\"1\" class=\"dataframe\">\n",
       "  <thead>\n",
       "    <tr style=\"text-align: right;\">\n",
       "      <th></th>\n",
       "      <th>Accuracy</th>\n",
       "      <th>Precision</th>\n",
       "      <th>Recall</th>\n",
       "      <th>F1 Score</th>\n",
       "    </tr>\n",
       "    <tr>\n",
       "      <th>Test Size</th>\n",
       "      <th></th>\n",
       "      <th></th>\n",
       "      <th></th>\n",
       "      <th></th>\n",
       "    </tr>\n",
       "  </thead>\n",
       "  <tbody>\n",
       "    <tr>\n",
       "      <th>100</th>\n",
       "      <td>0.173861</td>\n",
       "      <td>0.131637</td>\n",
       "      <td>0.173861</td>\n",
       "      <td>0.143621</td>\n",
       "    </tr>\n",
       "  </tbody>\n",
       "</table>\n",
       "</div>"
      ],
      "text/plain": [
       "           Accuracy  Precision    Recall  F1 Score\n",
       "Test Size                                         \n",
       "100        0.173861   0.131637  0.173861  0.143621"
      ]
     },
     "execution_count": 80,
     "metadata": {},
     "output_type": "execute_result"
    }
   ],
   "source": [
    "df5L_SOTME_ROS.groupby('Test Size')[['Accuracy','Precision','Recall','F1 Score']].mean()"
   ]
  },
  {
   "cell_type": "code",
   "execution_count": 81,
   "id": "7803683e-4f88-4379-bac5-6459661eb2a3",
   "metadata": {},
   "outputs": [
    {
     "name": "stdout",
     "output_type": "stream",
     "text": [
      "5-Level: Student Opinion Towards MMU Environment\n",
      "\n",
      "{'criterion': 'entropy', 'max_features': 'auto', 'n_estimators': 200}\n",
      "{'criterion': 'entropy', 'max_features': 'auto', 'n_estimators': 200}\n",
      "{'criterion': 'gini', 'max_features': 'sqrt', 'n_estimators': 300}\n"
     ]
    }
   ],
   "source": [
    "print(\"5-Level: Student Opinion Towards MMU Environment\\n\")\n",
    "for x in df5L_SOTME_ROS[\"Best Param\"]:\n",
    "    print(x)"
   ]
  },
  {
   "cell_type": "markdown",
   "id": "ee9b2216-779f-4f75-b751-85bfb4dadb7b",
   "metadata": {},
   "source": [
    "### SOTME after SMOTE"
   ]
  },
  {
   "cell_type": "code",
   "execution_count": 82,
   "id": "0ff22ff8-5f61-4f36-8bf1-fef5630c4094",
   "metadata": {},
   "outputs": [
    {
     "name": "stdout",
     "output_type": "stream",
     "text": [
      "Fitting 10 folds for each of 24 candidates, totalling 240 fits\n"
     ]
    },
    {
     "name": "stderr",
     "output_type": "stream",
     "text": [
      "C:\\Users\\hazel\\anaconda3\\Lib\\site-packages\\sklearn\\model_selection\\_search.py:909: DataConversionWarning: A column-vector y was passed when a 1d array was expected. Please change the shape of y to (n_samples,), for example using ravel().\n",
      "  self.best_estimator_.fit(X, y, **fit_params)\n",
      "C:\\Users\\hazel\\anaconda3\\Lib\\site-packages\\sklearn\\ensemble\\_forest.py:424: FutureWarning: `max_features='auto'` has been deprecated in 1.1 and will be removed in 1.3. To keep the past behaviour, explicitly set `max_features='sqrt'` or remove this parameter as it is also the default value for RandomForestClassifiers and ExtraTreesClassifiers.\n",
      "  warn(\n"
     ]
    },
    {
     "name": "stdout",
     "output_type": "stream",
     "text": [
      "Fitting 10 folds for each of 24 candidates, totalling 240 fits\n"
     ]
    },
    {
     "name": "stderr",
     "output_type": "stream",
     "text": [
      "C:\\Users\\hazel\\anaconda3\\Lib\\site-packages\\sklearn\\model_selection\\_search.py:909: DataConversionWarning: A column-vector y was passed when a 1d array was expected. Please change the shape of y to (n_samples,), for example using ravel().\n",
      "  self.best_estimator_.fit(X, y, **fit_params)\n"
     ]
    },
    {
     "name": "stdout",
     "output_type": "stream",
     "text": [
      "Fitting 10 folds for each of 24 candidates, totalling 240 fits\n"
     ]
    },
    {
     "name": "stderr",
     "output_type": "stream",
     "text": [
      "C:\\Users\\hazel\\anaconda3\\Lib\\site-packages\\sklearn\\model_selection\\_search.py:909: DataConversionWarning: A column-vector y was passed when a 1d array was expected. Please change the shape of y to (n_samples,), for example using ravel().\n",
      "  self.best_estimator_.fit(X, y, **fit_params)\n"
     ]
    },
    {
     "data": {
      "text/html": [
       "<div>\n",
       "<style scoped>\n",
       "    .dataframe tbody tr th:only-of-type {\n",
       "        vertical-align: middle;\n",
       "    }\n",
       "\n",
       "    .dataframe tbody tr th {\n",
       "        vertical-align: top;\n",
       "    }\n",
       "\n",
       "    .dataframe thead th {\n",
       "        text-align: right;\n",
       "    }\n",
       "</style>\n",
       "<table border=\"1\" class=\"dataframe\">\n",
       "  <thead>\n",
       "    <tr style=\"text-align: right;\">\n",
       "      <th></th>\n",
       "      <th>Test Size</th>\n",
       "      <th>Random State</th>\n",
       "      <th>Accuracy</th>\n",
       "      <th>Precision</th>\n",
       "      <th>Recall</th>\n",
       "      <th>F1 Score</th>\n",
       "      <th>Best Param</th>\n",
       "    </tr>\n",
       "  </thead>\n",
       "  <tbody>\n",
       "    <tr>\n",
       "      <th>0</th>\n",
       "      <td>100</td>\n",
       "      <td>7</td>\n",
       "      <td>0.221583</td>\n",
       "      <td>0.265531</td>\n",
       "      <td>0.221583</td>\n",
       "      <td>0.212389</td>\n",
       "      <td>{'criterion': 'gini', 'max_features': 'auto', ...</td>\n",
       "    </tr>\n",
       "    <tr>\n",
       "      <th>1</th>\n",
       "      <td>100</td>\n",
       "      <td>69</td>\n",
       "      <td>0.223022</td>\n",
       "      <td>0.265249</td>\n",
       "      <td>0.223022</td>\n",
       "      <td>0.213603</td>\n",
       "      <td>{'criterion': 'entropy', 'max_features': 'log2...</td>\n",
       "    </tr>\n",
       "    <tr>\n",
       "      <th>2</th>\n",
       "      <td>100</td>\n",
       "      <td>101</td>\n",
       "      <td>0.220144</td>\n",
       "      <td>0.263959</td>\n",
       "      <td>0.220144</td>\n",
       "      <td>0.211074</td>\n",
       "      <td>{'criterion': 'gini', 'max_features': 'sqrt', ...</td>\n",
       "    </tr>\n",
       "  </tbody>\n",
       "</table>\n",
       "</div>"
      ],
      "text/plain": [
       "   Test Size  Random State  Accuracy  Precision    Recall  F1 Score  \\\n",
       "0        100             7  0.221583   0.265531  0.221583  0.212389   \n",
       "1        100            69  0.223022   0.265249  0.223022  0.213603   \n",
       "2        100           101  0.220144   0.263959  0.220144  0.211074   \n",
       "\n",
       "                                          Best Param  \n",
       "0  {'criterion': 'gini', 'max_features': 'auto', ...  \n",
       "1  {'criterion': 'entropy', 'max_features': 'log2...  \n",
       "2  {'criterion': 'gini', 'max_features': 'sqrt', ...  "
      ]
     },
     "execution_count": 82,
     "metadata": {},
     "output_type": "execute_result"
    }
   ],
   "source": [
    "temp5L_SOTME_SMOTE = []\n",
    "\n",
    "y_train = df1_5L_SMOTE[['CGPA']]\n",
    "X_train = df1_5L_SMOTE[['Reason Study at Multimedia University', 'Lecture Class Capacity','Tutorial Class Capacity', \n",
    "                     'Classroom Facilities', 'Campus Environment']]\n",
    "\n",
    "y_test = df2_5L_SMOTE[['CGPA']]\n",
    "X_test = df2_5L_SMOTE[['Reason Study at Multimedia University', 'Lecture Class Capacity','Tutorial Class Capacity', \n",
    "                     'Classroom Facilities', 'Campus Environment']]\n",
    "\n",
    "for j in rand_states:\n",
    "    param_grid = {'n_estimators': [100, 200, 300, 400],\n",
    "                  'max_features': ['auto', 'sqrt', 'log2'],\n",
    "                  'criterion' :['gini', 'entropy']}\n",
    "\n",
    "    model = GridSearchCV(RandomForestClassifier(), param_grid, refit=True, n_jobs=-1, cv=10, verbose=1)\n",
    "    model.fit(X_train, y_train)\n",
    "    pred = model.predict(X_test)\n",
    "\n",
    "    acc = accuracy_score(y_test,pred)\n",
    "    pre = precision_score(y_test, pred, average='weighted')\n",
    "    recall = recall_score(y_test, pred, average='weighted')\n",
    "    f1 = f1_score(y_test, pred, average='weighted')\n",
    "    param = model.best_params_\n",
    "\n",
    "    temp5L_SOTME_SMOTE.append([100,j,acc,pre,recall,f1,param])\n",
    "        \n",
    "df5L_SOTME_SMOTE = pd.DataFrame(columns=['Test Size','Random State','Accuracy','Precision','Recall','F1 Score','Best Param'],data=temp5L_SOTME_SMOTE)\n",
    "df5L_SOTME_SMOTE"
   ]
  },
  {
   "cell_type": "code",
   "execution_count": 83,
   "id": "56578487-6f52-4409-8d7d-be55d30b4b66",
   "metadata": {},
   "outputs": [
    {
     "data": {
      "text/html": [
       "<div>\n",
       "<style scoped>\n",
       "    .dataframe tbody tr th:only-of-type {\n",
       "        vertical-align: middle;\n",
       "    }\n",
       "\n",
       "    .dataframe tbody tr th {\n",
       "        vertical-align: top;\n",
       "    }\n",
       "\n",
       "    .dataframe thead th {\n",
       "        text-align: right;\n",
       "    }\n",
       "</style>\n",
       "<table border=\"1\" class=\"dataframe\">\n",
       "  <thead>\n",
       "    <tr style=\"text-align: right;\">\n",
       "      <th></th>\n",
       "      <th>Accuracy</th>\n",
       "      <th>Precision</th>\n",
       "      <th>Recall</th>\n",
       "      <th>F1 Score</th>\n",
       "    </tr>\n",
       "    <tr>\n",
       "      <th>Test Size</th>\n",
       "      <th></th>\n",
       "      <th></th>\n",
       "      <th></th>\n",
       "      <th></th>\n",
       "    </tr>\n",
       "  </thead>\n",
       "  <tbody>\n",
       "    <tr>\n",
       "      <th>100</th>\n",
       "      <td>0.221583</td>\n",
       "      <td>0.264913</td>\n",
       "      <td>0.221583</td>\n",
       "      <td>0.212356</td>\n",
       "    </tr>\n",
       "  </tbody>\n",
       "</table>\n",
       "</div>"
      ],
      "text/plain": [
       "           Accuracy  Precision    Recall  F1 Score\n",
       "Test Size                                         \n",
       "100        0.221583   0.264913  0.221583  0.212356"
      ]
     },
     "execution_count": 83,
     "metadata": {},
     "output_type": "execute_result"
    }
   ],
   "source": [
    "df5L_SOTME_SMOTE.groupby('Test Size')[['Accuracy','Precision','Recall','F1 Score']].mean()"
   ]
  },
  {
   "cell_type": "code",
   "execution_count": 84,
   "id": "beb10747-3c00-4fbe-9785-2010f3f060db",
   "metadata": {},
   "outputs": [
    {
     "name": "stdout",
     "output_type": "stream",
     "text": [
      "SMOTE 5-Level: Student Opinion Towards MMU Environment\n",
      "\n",
      "{'criterion': 'gini', 'max_features': 'auto', 'n_estimators': 300}\n",
      "{'criterion': 'entropy', 'max_features': 'log2', 'n_estimators': 100}\n",
      "{'criterion': 'gini', 'max_features': 'sqrt', 'n_estimators': 300}\n"
     ]
    }
   ],
   "source": [
    "print(\"SMOTE 5-Level: Student Opinion Towards MMU Environment\\n\")\n",
    "for x in df5L_SOTME_SMOTE[\"Best Param\"]:\n",
    "    print(x)"
   ]
  },
  {
   "cell_type": "markdown",
   "id": "dc4d2986-b7ed-4db1-8e81-53670f2751c9",
   "metadata": {},
   "source": [
    "## Student Family Background"
   ]
  },
  {
   "cell_type": "markdown",
   "id": "d6e4a2ea-26b3-45eb-959b-729f82d215a5",
   "metadata": {},
   "source": [
    "### SFB before Data Balancing"
   ]
  },
  {
   "cell_type": "code",
   "execution_count": 85,
   "id": "8d0c6053-acc1-45ae-bfce-39beacd6dbe1",
   "metadata": {},
   "outputs": [
    {
     "name": "stdout",
     "output_type": "stream",
     "text": [
      "Fitting 10 folds for each of 24 candidates, totalling 240 fits\n"
     ]
    },
    {
     "name": "stderr",
     "output_type": "stream",
     "text": [
      "C:\\Users\\hazel\\anaconda3\\Lib\\site-packages\\sklearn\\model_selection\\_split.py:700: UserWarning: The least populated class in y has only 4 members, which is less than n_splits=10.\n",
      "  warnings.warn(\n",
      "C:\\Users\\hazel\\anaconda3\\Lib\\site-packages\\sklearn\\model_selection\\_search.py:909: DataConversionWarning: A column-vector y was passed when a 1d array was expected. Please change the shape of y to (n_samples,), for example using ravel().\n",
      "  self.best_estimator_.fit(X, y, **fit_params)\n"
     ]
    },
    {
     "name": "stdout",
     "output_type": "stream",
     "text": [
      "Fitting 10 folds for each of 24 candidates, totalling 240 fits\n"
     ]
    },
    {
     "name": "stderr",
     "output_type": "stream",
     "text": [
      "C:\\Users\\hazel\\anaconda3\\Lib\\site-packages\\sklearn\\model_selection\\_split.py:700: UserWarning: The least populated class in y has only 4 members, which is less than n_splits=10.\n",
      "  warnings.warn(\n",
      "C:\\Users\\hazel\\anaconda3\\Lib\\site-packages\\sklearn\\model_selection\\_search.py:909: DataConversionWarning: A column-vector y was passed when a 1d array was expected. Please change the shape of y to (n_samples,), for example using ravel().\n",
      "  self.best_estimator_.fit(X, y, **fit_params)\n",
      "C:\\Users\\hazel\\anaconda3\\Lib\\site-packages\\sklearn\\metrics\\_classification.py:1344: UndefinedMetricWarning: Precision is ill-defined and being set to 0.0 in labels with no predicted samples. Use `zero_division` parameter to control this behavior.\n",
      "  _warn_prf(average, modifier, msg_start, len(result))\n",
      "C:\\Users\\hazel\\anaconda3\\Lib\\site-packages\\sklearn\\model_selection\\_split.py:700: UserWarning: The least populated class in y has only 4 members, which is less than n_splits=10.\n",
      "  warnings.warn(\n"
     ]
    },
    {
     "name": "stdout",
     "output_type": "stream",
     "text": [
      "Fitting 10 folds for each of 24 candidates, totalling 240 fits\n"
     ]
    },
    {
     "name": "stderr",
     "output_type": "stream",
     "text": [
      "C:\\Users\\hazel\\anaconda3\\Lib\\site-packages\\sklearn\\model_selection\\_search.py:909: DataConversionWarning: A column-vector y was passed when a 1d array was expected. Please change the shape of y to (n_samples,), for example using ravel().\n",
      "  self.best_estimator_.fit(X, y, **fit_params)\n"
     ]
    },
    {
     "data": {
      "text/html": [
       "<div>\n",
       "<style scoped>\n",
       "    .dataframe tbody tr th:only-of-type {\n",
       "        vertical-align: middle;\n",
       "    }\n",
       "\n",
       "    .dataframe tbody tr th {\n",
       "        vertical-align: top;\n",
       "    }\n",
       "\n",
       "    .dataframe thead th {\n",
       "        text-align: right;\n",
       "    }\n",
       "</style>\n",
       "<table border=\"1\" class=\"dataframe\">\n",
       "  <thead>\n",
       "    <tr style=\"text-align: right;\">\n",
       "      <th></th>\n",
       "      <th>Test Size</th>\n",
       "      <th>Random State</th>\n",
       "      <th>Accuracy</th>\n",
       "      <th>Precision</th>\n",
       "      <th>Recall</th>\n",
       "      <th>F1 Score</th>\n",
       "      <th>Best Param</th>\n",
       "    </tr>\n",
       "  </thead>\n",
       "  <tbody>\n",
       "    <tr>\n",
       "      <th>0</th>\n",
       "      <td>100</td>\n",
       "      <td>7</td>\n",
       "      <td>0.399023</td>\n",
       "      <td>0.341923</td>\n",
       "      <td>0.399023</td>\n",
       "      <td>0.358937</td>\n",
       "      <td>{'criterion': 'gini', 'max_features': 'log2', ...</td>\n",
       "    </tr>\n",
       "    <tr>\n",
       "      <th>1</th>\n",
       "      <td>100</td>\n",
       "      <td>69</td>\n",
       "      <td>0.405537</td>\n",
       "      <td>0.349718</td>\n",
       "      <td>0.405537</td>\n",
       "      <td>0.363913</td>\n",
       "      <td>{'criterion': 'entropy', 'max_features': 'sqrt...</td>\n",
       "    </tr>\n",
       "    <tr>\n",
       "      <th>2</th>\n",
       "      <td>100</td>\n",
       "      <td>101</td>\n",
       "      <td>0.410423</td>\n",
       "      <td>0.351731</td>\n",
       "      <td>0.410423</td>\n",
       "      <td>0.366716</td>\n",
       "      <td>{'criterion': 'entropy', 'max_features': 'sqrt...</td>\n",
       "    </tr>\n",
       "  </tbody>\n",
       "</table>\n",
       "</div>"
      ],
      "text/plain": [
       "   Test Size  Random State  Accuracy  Precision    Recall  F1 Score  \\\n",
       "0        100             7  0.399023   0.341923  0.399023  0.358937   \n",
       "1        100            69  0.405537   0.349718  0.405537  0.363913   \n",
       "2        100           101  0.410423   0.351731  0.410423  0.366716   \n",
       "\n",
       "                                          Best Param  \n",
       "0  {'criterion': 'gini', 'max_features': 'log2', ...  \n",
       "1  {'criterion': 'entropy', 'max_features': 'sqrt...  \n",
       "2  {'criterion': 'entropy', 'max_features': 'sqrt...  "
      ]
     },
     "execution_count": 85,
     "metadata": {},
     "output_type": "execute_result"
    }
   ],
   "source": [
    "temp5L_SFB_imb = []\n",
    "\n",
    "y_train = df1_5L_imb[['CGPA']]\n",
    "X_train = df1_5L_imb[['Family Size', \"Parent's Education Level.Father\", \"Parent's Education Level.Mother\", \n",
    "                     \"Father's Occupation\", \"Mother's Occupation\", 'Financial Difficulties', 'Financial Support']]\n",
    "\n",
    "y_test = df2_5L_imb[['CGPA']]\n",
    "X_test = df2_5L_imb[['Family Size', \"Parent's Education Level.Father\", \"Parent's Education Level.Mother\", \n",
    "                     \"Father's Occupation\", \"Mother's Occupation\", 'Financial Difficulties', 'Financial Support']]\n",
    "\n",
    "for j in rand_states:\n",
    "    param_grid = {'n_estimators': [100, 200, 300, 400],\n",
    "                  'max_features': ['auto', 'sqrt', 'log2'],\n",
    "                  'criterion' :['gini', 'entropy']}\n",
    "\n",
    "    model = GridSearchCV(RandomForestClassifier(), param_grid, refit=True, n_jobs=-1, cv=10, verbose=1)\n",
    "    model.fit(X_train, y_train)\n",
    "    pred = model.predict(X_test)\n",
    "\n",
    "    acc = accuracy_score(y_test,pred)\n",
    "    pre = precision_score(y_test, pred, average='weighted')\n",
    "    recall = recall_score(y_test, pred, average='weighted')\n",
    "    f1 = f1_score(y_test, pred, average='weighted')\n",
    "    param = model.best_params_\n",
    "\n",
    "    temp5L_SFB_imb.append([100,j,acc,pre,recall,f1,param])\n",
    "        \n",
    "df5L_SFB_imb = pd.DataFrame(columns=['Test Size','Random State','Accuracy','Precision','Recall','F1 Score','Best Param'],data=temp5L_SFB_imb)\n",
    "df5L_SFB_imb"
   ]
  },
  {
   "cell_type": "code",
   "execution_count": 86,
   "id": "288286be-6919-4b9c-96bd-b26bf6fcbe86",
   "metadata": {},
   "outputs": [
    {
     "data": {
      "text/html": [
       "<div>\n",
       "<style scoped>\n",
       "    .dataframe tbody tr th:only-of-type {\n",
       "        vertical-align: middle;\n",
       "    }\n",
       "\n",
       "    .dataframe tbody tr th {\n",
       "        vertical-align: top;\n",
       "    }\n",
       "\n",
       "    .dataframe thead th {\n",
       "        text-align: right;\n",
       "    }\n",
       "</style>\n",
       "<table border=\"1\" class=\"dataframe\">\n",
       "  <thead>\n",
       "    <tr style=\"text-align: right;\">\n",
       "      <th></th>\n",
       "      <th>Accuracy</th>\n",
       "      <th>Precision</th>\n",
       "      <th>Recall</th>\n",
       "      <th>F1 Score</th>\n",
       "    </tr>\n",
       "    <tr>\n",
       "      <th>Test Size</th>\n",
       "      <th></th>\n",
       "      <th></th>\n",
       "      <th></th>\n",
       "      <th></th>\n",
       "    </tr>\n",
       "  </thead>\n",
       "  <tbody>\n",
       "    <tr>\n",
       "      <th>100</th>\n",
       "      <td>0.404995</td>\n",
       "      <td>0.347791</td>\n",
       "      <td>0.404995</td>\n",
       "      <td>0.363189</td>\n",
       "    </tr>\n",
       "  </tbody>\n",
       "</table>\n",
       "</div>"
      ],
      "text/plain": [
       "           Accuracy  Precision    Recall  F1 Score\n",
       "Test Size                                         \n",
       "100        0.404995   0.347791  0.404995  0.363189"
      ]
     },
     "execution_count": 86,
     "metadata": {},
     "output_type": "execute_result"
    }
   ],
   "source": [
    "df5L_SFB_imb.groupby('Test Size')[['Accuracy','Precision','Recall','F1 Score']].mean()"
   ]
  },
  {
   "cell_type": "code",
   "execution_count": 87,
   "id": "d82f081f-4f5b-4a72-8842-6da2d1c0cbb6",
   "metadata": {},
   "outputs": [
    {
     "name": "stdout",
     "output_type": "stream",
     "text": [
      "Imbalance 5-Level: Student Family Background\n",
      "\n",
      "{'criterion': 'gini', 'max_features': 'log2', 'n_estimators': 300}\n",
      "{'criterion': 'entropy', 'max_features': 'sqrt', 'n_estimators': 300}\n",
      "{'criterion': 'entropy', 'max_features': 'sqrt', 'n_estimators': 400}\n"
     ]
    }
   ],
   "source": [
    "print(\"Imbalance 5-Level: Student Family Background\\n\")\n",
    "for x in df5L_SFB_imb[\"Best Param\"]:\n",
    "    print(x)"
   ]
  },
  {
   "cell_type": "markdown",
   "id": "681754e7-8060-4c7c-a01a-95c6920378f6",
   "metadata": {},
   "source": [
    "### SFB after RandomOverSampler"
   ]
  },
  {
   "cell_type": "code",
   "execution_count": 88,
   "id": "5e84628b-8156-4e62-9147-7b204b5ac3d8",
   "metadata": {},
   "outputs": [
    {
     "name": "stdout",
     "output_type": "stream",
     "text": [
      "Fitting 10 folds for each of 24 candidates, totalling 240 fits\n"
     ]
    },
    {
     "name": "stderr",
     "output_type": "stream",
     "text": [
      "C:\\Users\\hazel\\anaconda3\\Lib\\site-packages\\sklearn\\model_selection\\_search.py:909: DataConversionWarning: A column-vector y was passed when a 1d array was expected. Please change the shape of y to (n_samples,), for example using ravel().\n",
      "  self.best_estimator_.fit(X, y, **fit_params)\n",
      "C:\\Users\\hazel\\anaconda3\\Lib\\site-packages\\sklearn\\ensemble\\_forest.py:424: FutureWarning: `max_features='auto'` has been deprecated in 1.1 and will be removed in 1.3. To keep the past behaviour, explicitly set `max_features='sqrt'` or remove this parameter as it is also the default value for RandomForestClassifiers and ExtraTreesClassifiers.\n",
      "  warn(\n"
     ]
    },
    {
     "name": "stdout",
     "output_type": "stream",
     "text": [
      "Fitting 10 folds for each of 24 candidates, totalling 240 fits\n"
     ]
    },
    {
     "name": "stderr",
     "output_type": "stream",
     "text": [
      "C:\\Users\\hazel\\anaconda3\\Lib\\site-packages\\sklearn\\model_selection\\_search.py:909: DataConversionWarning: A column-vector y was passed when a 1d array was expected. Please change the shape of y to (n_samples,), for example using ravel().\n",
      "  self.best_estimator_.fit(X, y, **fit_params)\n"
     ]
    },
    {
     "name": "stdout",
     "output_type": "stream",
     "text": [
      "Fitting 10 folds for each of 24 candidates, totalling 240 fits\n"
     ]
    },
    {
     "name": "stderr",
     "output_type": "stream",
     "text": [
      "C:\\Users\\hazel\\anaconda3\\Lib\\site-packages\\sklearn\\model_selection\\_search.py:909: DataConversionWarning: A column-vector y was passed when a 1d array was expected. Please change the shape of y to (n_samples,), for example using ravel().\n",
      "  self.best_estimator_.fit(X, y, **fit_params)\n"
     ]
    },
    {
     "data": {
      "text/html": [
       "<div>\n",
       "<style scoped>\n",
       "    .dataframe tbody tr th:only-of-type {\n",
       "        vertical-align: middle;\n",
       "    }\n",
       "\n",
       "    .dataframe tbody tr th {\n",
       "        vertical-align: top;\n",
       "    }\n",
       "\n",
       "    .dataframe thead th {\n",
       "        text-align: right;\n",
       "    }\n",
       "</style>\n",
       "<table border=\"1\" class=\"dataframe\">\n",
       "  <thead>\n",
       "    <tr style=\"text-align: right;\">\n",
       "      <th></th>\n",
       "      <th>Test Size</th>\n",
       "      <th>Random State</th>\n",
       "      <th>Accuracy</th>\n",
       "      <th>Precision</th>\n",
       "      <th>Recall</th>\n",
       "      <th>F1 Score</th>\n",
       "      <th>Best Param</th>\n",
       "    </tr>\n",
       "  </thead>\n",
       "  <tbody>\n",
       "    <tr>\n",
       "      <th>0</th>\n",
       "      <td>100</td>\n",
       "      <td>7</td>\n",
       "      <td>0.190647</td>\n",
       "      <td>0.131595</td>\n",
       "      <td>0.190647</td>\n",
       "      <td>0.143446</td>\n",
       "      <td>{'criterion': 'entropy', 'max_features': 'auto...</td>\n",
       "    </tr>\n",
       "    <tr>\n",
       "      <th>1</th>\n",
       "      <td>100</td>\n",
       "      <td>69</td>\n",
       "      <td>0.187050</td>\n",
       "      <td>0.120438</td>\n",
       "      <td>0.187050</td>\n",
       "      <td>0.140480</td>\n",
       "      <td>{'criterion': 'gini', 'max_features': 'sqrt', ...</td>\n",
       "    </tr>\n",
       "    <tr>\n",
       "      <th>2</th>\n",
       "      <td>100</td>\n",
       "      <td>101</td>\n",
       "      <td>0.183453</td>\n",
       "      <td>0.116128</td>\n",
       "      <td>0.183453</td>\n",
       "      <td>0.135776</td>\n",
       "      <td>{'criterion': 'gini', 'max_features': 'log2', ...</td>\n",
       "    </tr>\n",
       "  </tbody>\n",
       "</table>\n",
       "</div>"
      ],
      "text/plain": [
       "   Test Size  Random State  Accuracy  Precision    Recall  F1 Score  \\\n",
       "0        100             7  0.190647   0.131595  0.190647  0.143446   \n",
       "1        100            69  0.187050   0.120438  0.187050  0.140480   \n",
       "2        100           101  0.183453   0.116128  0.183453  0.135776   \n",
       "\n",
       "                                          Best Param  \n",
       "0  {'criterion': 'entropy', 'max_features': 'auto...  \n",
       "1  {'criterion': 'gini', 'max_features': 'sqrt', ...  \n",
       "2  {'criterion': 'gini', 'max_features': 'log2', ...  "
      ]
     },
     "execution_count": 88,
     "metadata": {},
     "output_type": "execute_result"
    }
   ],
   "source": [
    "temp5L_SFB_ROS = []\n",
    "\n",
    "y_train = df1_5L_ROS[['CGPA']]\n",
    "X_train = df1_5L_ROS[['Family Size', \"Parent's Education Level.Father\", \"Parent's Education Level.Mother\", \n",
    "                     \"Father's Occupation\", \"Mother's Occupation\", 'Financial Difficulties', 'Financial Support']]\n",
    "\n",
    "y_test = df2_5L_ROS[['CGPA']]\n",
    "X_test = df2_5L_ROS[['Family Size', \"Parent's Education Level.Father\", \"Parent's Education Level.Mother\", \n",
    "                     \"Father's Occupation\", \"Mother's Occupation\", 'Financial Difficulties', 'Financial Support']]\n",
    "\n",
    "for j in rand_states:\n",
    "    param_grid = {'n_estimators': [100, 200, 300, 400],\n",
    "                  'max_features': ['auto', 'sqrt', 'log2'],\n",
    "                  'criterion' :['gini', 'entropy']}\n",
    "\n",
    "    model = GridSearchCV(RandomForestClassifier(), param_grid, refit=True, n_jobs=-1, cv=10, verbose=1)\n",
    "    model.fit(X_train, y_train)\n",
    "    pred = model.predict(X_test)\n",
    "\n",
    "    acc = accuracy_score(y_test,pred)\n",
    "    pre = precision_score(y_test, pred, average='weighted')\n",
    "    recall = recall_score(y_test, pred, average='weighted')\n",
    "    f1 = f1_score(y_test, pred, average='weighted')\n",
    "    param = model.best_params_\n",
    "\n",
    "    temp5L_SFB_ROS.append([100,j,acc,pre,recall,f1,param])\n",
    "        \n",
    "df5L_SFB_ROS = pd.DataFrame(columns=['Test Size','Random State','Accuracy','Precision','Recall','F1 Score','Best Param'],data=temp5L_SFB_ROS)\n",
    "df5L_SFB_ROS"
   ]
  },
  {
   "cell_type": "code",
   "execution_count": 89,
   "id": "e48ce947-d6b0-414a-8513-c70bfa23b39b",
   "metadata": {},
   "outputs": [
    {
     "data": {
      "text/html": [
       "<div>\n",
       "<style scoped>\n",
       "    .dataframe tbody tr th:only-of-type {\n",
       "        vertical-align: middle;\n",
       "    }\n",
       "\n",
       "    .dataframe tbody tr th {\n",
       "        vertical-align: top;\n",
       "    }\n",
       "\n",
       "    .dataframe thead th {\n",
       "        text-align: right;\n",
       "    }\n",
       "</style>\n",
       "<table border=\"1\" class=\"dataframe\">\n",
       "  <thead>\n",
       "    <tr style=\"text-align: right;\">\n",
       "      <th></th>\n",
       "      <th>Accuracy</th>\n",
       "      <th>Precision</th>\n",
       "      <th>Recall</th>\n",
       "      <th>F1 Score</th>\n",
       "    </tr>\n",
       "    <tr>\n",
       "      <th>Test Size</th>\n",
       "      <th></th>\n",
       "      <th></th>\n",
       "      <th></th>\n",
       "      <th></th>\n",
       "    </tr>\n",
       "  </thead>\n",
       "  <tbody>\n",
       "    <tr>\n",
       "      <th>100</th>\n",
       "      <td>0.18705</td>\n",
       "      <td>0.12272</td>\n",
       "      <td>0.18705</td>\n",
       "      <td>0.1399</td>\n",
       "    </tr>\n",
       "  </tbody>\n",
       "</table>\n",
       "</div>"
      ],
      "text/plain": [
       "           Accuracy  Precision   Recall  F1 Score\n",
       "Test Size                                        \n",
       "100         0.18705    0.12272  0.18705    0.1399"
      ]
     },
     "execution_count": 89,
     "metadata": {},
     "output_type": "execute_result"
    }
   ],
   "source": [
    "df5L_SFB_ROS.groupby('Test Size')[['Accuracy','Precision','Recall','F1 Score']].mean()"
   ]
  },
  {
   "cell_type": "code",
   "execution_count": 90,
   "id": "d30c1bc7-3513-42eb-be21-b441f95e6efa",
   "metadata": {},
   "outputs": [
    {
     "name": "stdout",
     "output_type": "stream",
     "text": [
      "5-Level: Student Family Background\n",
      "\n",
      "{'criterion': 'entropy', 'max_features': 'auto', 'n_estimators': 100}\n",
      "{'criterion': 'gini', 'max_features': 'sqrt', 'n_estimators': 300}\n",
      "{'criterion': 'gini', 'max_features': 'log2', 'n_estimators': 200}\n"
     ]
    }
   ],
   "source": [
    "print(\"5-Level: Student Family Background\\n\")\n",
    "for x in df5L_SFB_ROS[\"Best Param\"]:\n",
    "    print(x)"
   ]
  },
  {
   "cell_type": "markdown",
   "id": "d9014fae-0c67-48b9-9ffc-3b2f85562bef",
   "metadata": {},
   "source": [
    "### SFB after SMOTE"
   ]
  },
  {
   "cell_type": "code",
   "execution_count": 91,
   "id": "52008dff-1e76-43d8-8fd6-16a17fb81366",
   "metadata": {},
   "outputs": [
    {
     "name": "stdout",
     "output_type": "stream",
     "text": [
      "Fitting 10 folds for each of 24 candidates, totalling 240 fits\n"
     ]
    },
    {
     "name": "stderr",
     "output_type": "stream",
     "text": [
      "C:\\Users\\hazel\\anaconda3\\Lib\\site-packages\\sklearn\\model_selection\\_search.py:909: DataConversionWarning: A column-vector y was passed when a 1d array was expected. Please change the shape of y to (n_samples,), for example using ravel().\n",
      "  self.best_estimator_.fit(X, y, **fit_params)\n"
     ]
    },
    {
     "name": "stdout",
     "output_type": "stream",
     "text": [
      "Fitting 10 folds for each of 24 candidates, totalling 240 fits\n"
     ]
    },
    {
     "name": "stderr",
     "output_type": "stream",
     "text": [
      "C:\\Users\\hazel\\anaconda3\\Lib\\site-packages\\sklearn\\model_selection\\_search.py:909: DataConversionWarning: A column-vector y was passed when a 1d array was expected. Please change the shape of y to (n_samples,), for example using ravel().\n",
      "  self.best_estimator_.fit(X, y, **fit_params)\n",
      "C:\\Users\\hazel\\anaconda3\\Lib\\site-packages\\sklearn\\ensemble\\_forest.py:424: FutureWarning: `max_features='auto'` has been deprecated in 1.1 and will be removed in 1.3. To keep the past behaviour, explicitly set `max_features='sqrt'` or remove this parameter as it is also the default value for RandomForestClassifiers and ExtraTreesClassifiers.\n",
      "  warn(\n"
     ]
    },
    {
     "name": "stdout",
     "output_type": "stream",
     "text": [
      "Fitting 10 folds for each of 24 candidates, totalling 240 fits\n"
     ]
    },
    {
     "name": "stderr",
     "output_type": "stream",
     "text": [
      "C:\\Users\\hazel\\anaconda3\\Lib\\site-packages\\sklearn\\model_selection\\_search.py:909: DataConversionWarning: A column-vector y was passed when a 1d array was expected. Please change the shape of y to (n_samples,), for example using ravel().\n",
      "  self.best_estimator_.fit(X, y, **fit_params)\n"
     ]
    },
    {
     "data": {
      "text/html": [
       "<div>\n",
       "<style scoped>\n",
       "    .dataframe tbody tr th:only-of-type {\n",
       "        vertical-align: middle;\n",
       "    }\n",
       "\n",
       "    .dataframe tbody tr th {\n",
       "        vertical-align: top;\n",
       "    }\n",
       "\n",
       "    .dataframe thead th {\n",
       "        text-align: right;\n",
       "    }\n",
       "</style>\n",
       "<table border=\"1\" class=\"dataframe\">\n",
       "  <thead>\n",
       "    <tr style=\"text-align: right;\">\n",
       "      <th></th>\n",
       "      <th>Test Size</th>\n",
       "      <th>Random State</th>\n",
       "      <th>Accuracy</th>\n",
       "      <th>Precision</th>\n",
       "      <th>Recall</th>\n",
       "      <th>F1 Score</th>\n",
       "      <th>Best Param</th>\n",
       "    </tr>\n",
       "  </thead>\n",
       "  <tbody>\n",
       "    <tr>\n",
       "      <th>0</th>\n",
       "      <td>100</td>\n",
       "      <td>7</td>\n",
       "      <td>0.214388</td>\n",
       "      <td>0.189178</td>\n",
       "      <td>0.214388</td>\n",
       "      <td>0.180948</td>\n",
       "      <td>{'criterion': 'entropy', 'max_features': 'log2...</td>\n",
       "    </tr>\n",
       "    <tr>\n",
       "      <th>1</th>\n",
       "      <td>100</td>\n",
       "      <td>69</td>\n",
       "      <td>0.213669</td>\n",
       "      <td>0.204132</td>\n",
       "      <td>0.213669</td>\n",
       "      <td>0.178296</td>\n",
       "      <td>{'criterion': 'entropy', 'max_features': 'auto...</td>\n",
       "    </tr>\n",
       "    <tr>\n",
       "      <th>2</th>\n",
       "      <td>100</td>\n",
       "      <td>101</td>\n",
       "      <td>0.203597</td>\n",
       "      <td>0.192355</td>\n",
       "      <td>0.203597</td>\n",
       "      <td>0.168528</td>\n",
       "      <td>{'criterion': 'entropy', 'max_features': 'sqrt...</td>\n",
       "    </tr>\n",
       "  </tbody>\n",
       "</table>\n",
       "</div>"
      ],
      "text/plain": [
       "   Test Size  Random State  Accuracy  Precision    Recall  F1 Score  \\\n",
       "0        100             7  0.214388   0.189178  0.214388  0.180948   \n",
       "1        100            69  0.213669   0.204132  0.213669  0.178296   \n",
       "2        100           101  0.203597   0.192355  0.203597  0.168528   \n",
       "\n",
       "                                          Best Param  \n",
       "0  {'criterion': 'entropy', 'max_features': 'log2...  \n",
       "1  {'criterion': 'entropy', 'max_features': 'auto...  \n",
       "2  {'criterion': 'entropy', 'max_features': 'sqrt...  "
      ]
     },
     "execution_count": 91,
     "metadata": {},
     "output_type": "execute_result"
    }
   ],
   "source": [
    "temp5L_SFB_SMOTE = []\n",
    "\n",
    "y_train = df1_5L_SMOTE[['CGPA']]\n",
    "X_train = df1_5L_SMOTE[['Family Size', \"Parent's Education Level.Father\", \"Parent's Education Level.Mother\", \n",
    "                     \"Father's Occupation\", \"Mother's Occupation\", 'Financial Difficulties', 'Financial Support']]\n",
    "\n",
    "y_test = df2_5L_SMOTE[['CGPA']]\n",
    "X_test = df2_5L_SMOTE[['Family Size', \"Parent's Education Level.Father\", \"Parent's Education Level.Mother\", \n",
    "                     \"Father's Occupation\", \"Mother's Occupation\", 'Financial Difficulties', 'Financial Support']]\n",
    "\n",
    "for j in rand_states:\n",
    "    param_grid = {'n_estimators': [100, 200, 300, 400],\n",
    "                  'max_features': ['auto', 'sqrt', 'log2'],\n",
    "                  'criterion' :['gini', 'entropy']}\n",
    "\n",
    "    model = GridSearchCV(RandomForestClassifier(), param_grid, refit=True, n_jobs=-1, cv=10, verbose=1)\n",
    "    model.fit(X_train, y_train)\n",
    "    pred = model.predict(X_test)\n",
    "\n",
    "    acc = accuracy_score(y_test,pred)\n",
    "    pre = precision_score(y_test, pred, average='weighted')\n",
    "    recall = recall_score(y_test, pred, average='weighted')\n",
    "    f1 = f1_score(y_test, pred, average='weighted')\n",
    "    param = model.best_params_\n",
    "\n",
    "    temp5L_SFB_SMOTE.append([100,j,acc,pre,recall,f1,param])\n",
    "        \n",
    "df5L_SFB_SMOTE = pd.DataFrame(columns=['Test Size','Random State','Accuracy','Precision','Recall','F1 Score','Best Param'],data=temp5L_SFB_SMOTE)\n",
    "df5L_SFB_SMOTE"
   ]
  },
  {
   "cell_type": "code",
   "execution_count": 92,
   "id": "92033775-48c8-4cba-912c-05f03bf29812",
   "metadata": {},
   "outputs": [
    {
     "data": {
      "text/html": [
       "<div>\n",
       "<style scoped>\n",
       "    .dataframe tbody tr th:only-of-type {\n",
       "        vertical-align: middle;\n",
       "    }\n",
       "\n",
       "    .dataframe tbody tr th {\n",
       "        vertical-align: top;\n",
       "    }\n",
       "\n",
       "    .dataframe thead th {\n",
       "        text-align: right;\n",
       "    }\n",
       "</style>\n",
       "<table border=\"1\" class=\"dataframe\">\n",
       "  <thead>\n",
       "    <tr style=\"text-align: right;\">\n",
       "      <th></th>\n",
       "      <th>Accuracy</th>\n",
       "      <th>Precision</th>\n",
       "      <th>Recall</th>\n",
       "      <th>F1 Score</th>\n",
       "    </tr>\n",
       "    <tr>\n",
       "      <th>Test Size</th>\n",
       "      <th></th>\n",
       "      <th></th>\n",
       "      <th></th>\n",
       "      <th></th>\n",
       "    </tr>\n",
       "  </thead>\n",
       "  <tbody>\n",
       "    <tr>\n",
       "      <th>100</th>\n",
       "      <td>0.210552</td>\n",
       "      <td>0.195222</td>\n",
       "      <td>0.210552</td>\n",
       "      <td>0.175924</td>\n",
       "    </tr>\n",
       "  </tbody>\n",
       "</table>\n",
       "</div>"
      ],
      "text/plain": [
       "           Accuracy  Precision    Recall  F1 Score\n",
       "Test Size                                         \n",
       "100        0.210552   0.195222  0.210552  0.175924"
      ]
     },
     "execution_count": 92,
     "metadata": {},
     "output_type": "execute_result"
    }
   ],
   "source": [
    "df5L_SFB_SMOTE.groupby('Test Size')[['Accuracy','Precision','Recall','F1 Score']].mean()"
   ]
  },
  {
   "cell_type": "code",
   "execution_count": 93,
   "id": "455a8cff-e867-4bf2-93be-460cc61820bb",
   "metadata": {},
   "outputs": [
    {
     "name": "stdout",
     "output_type": "stream",
     "text": [
      "SMOTE 5-Level: Student Family Background\n",
      "\n",
      "{'criterion': 'entropy', 'max_features': 'log2', 'n_estimators': 200}\n",
      "{'criterion': 'entropy', 'max_features': 'auto', 'n_estimators': 400}\n",
      "{'criterion': 'entropy', 'max_features': 'sqrt', 'n_estimators': 300}\n"
     ]
    }
   ],
   "source": [
    "print(\"SMOTE 5-Level: Student Family Background\\n\")\n",
    "for x in df5L_SFB_SMOTE[\"Best Param\"]:\n",
    "    print(x)"
   ]
  },
  {
   "cell_type": "markdown",
   "id": "5a2701d8-c698-43d4-8698-4b6d4ec6563e",
   "metadata": {},
   "source": [
    "## Student Lifestyle"
   ]
  },
  {
   "cell_type": "markdown",
   "id": "87098d5c-9bd1-477c-9017-43ef84b7f903",
   "metadata": {},
   "source": [
    "### SL before Data Balancing"
   ]
  },
  {
   "cell_type": "code",
   "execution_count": 94,
   "id": "5f40f38d-7774-45ee-9554-3540a6bc4212",
   "metadata": {},
   "outputs": [
    {
     "name": "stdout",
     "output_type": "stream",
     "text": [
      "Fitting 10 folds for each of 24 candidates, totalling 240 fits\n"
     ]
    },
    {
     "name": "stderr",
     "output_type": "stream",
     "text": [
      "C:\\Users\\hazel\\anaconda3\\Lib\\site-packages\\sklearn\\model_selection\\_split.py:700: UserWarning: The least populated class in y has only 4 members, which is less than n_splits=10.\n",
      "  warnings.warn(\n",
      "C:\\Users\\hazel\\anaconda3\\Lib\\site-packages\\sklearn\\model_selection\\_search.py:909: DataConversionWarning: A column-vector y was passed when a 1d array was expected. Please change the shape of y to (n_samples,), for example using ravel().\n",
      "  self.best_estimator_.fit(X, y, **fit_params)\n",
      "C:\\Users\\hazel\\anaconda3\\Lib\\site-packages\\sklearn\\metrics\\_classification.py:1344: UndefinedMetricWarning: Precision is ill-defined and being set to 0.0 in labels with no predicted samples. Use `zero_division` parameter to control this behavior.\n",
      "  _warn_prf(average, modifier, msg_start, len(result))\n",
      "C:\\Users\\hazel\\anaconda3\\Lib\\site-packages\\sklearn\\model_selection\\_split.py:700: UserWarning: The least populated class in y has only 4 members, which is less than n_splits=10.\n",
      "  warnings.warn(\n"
     ]
    },
    {
     "name": "stdout",
     "output_type": "stream",
     "text": [
      "Fitting 10 folds for each of 24 candidates, totalling 240 fits\n"
     ]
    },
    {
     "name": "stderr",
     "output_type": "stream",
     "text": [
      "C:\\Users\\hazel\\anaconda3\\Lib\\site-packages\\sklearn\\model_selection\\_search.py:909: DataConversionWarning: A column-vector y was passed when a 1d array was expected. Please change the shape of y to (n_samples,), for example using ravel().\n",
      "  self.best_estimator_.fit(X, y, **fit_params)\n",
      "C:\\Users\\hazel\\anaconda3\\Lib\\site-packages\\sklearn\\metrics\\_classification.py:1344: UndefinedMetricWarning: Precision is ill-defined and being set to 0.0 in labels with no predicted samples. Use `zero_division` parameter to control this behavior.\n",
      "  _warn_prf(average, modifier, msg_start, len(result))\n",
      "C:\\Users\\hazel\\anaconda3\\Lib\\site-packages\\sklearn\\model_selection\\_split.py:700: UserWarning: The least populated class in y has only 4 members, which is less than n_splits=10.\n",
      "  warnings.warn(\n"
     ]
    },
    {
     "name": "stdout",
     "output_type": "stream",
     "text": [
      "Fitting 10 folds for each of 24 candidates, totalling 240 fits\n"
     ]
    },
    {
     "name": "stderr",
     "output_type": "stream",
     "text": [
      "C:\\Users\\hazel\\anaconda3\\Lib\\site-packages\\sklearn\\model_selection\\_search.py:909: DataConversionWarning: A column-vector y was passed when a 1d array was expected. Please change the shape of y to (n_samples,), for example using ravel().\n",
      "  self.best_estimator_.fit(X, y, **fit_params)\n",
      "C:\\Users\\hazel\\anaconda3\\Lib\\site-packages\\sklearn\\metrics\\_classification.py:1344: UndefinedMetricWarning: Precision is ill-defined and being set to 0.0 in labels with no predicted samples. Use `zero_division` parameter to control this behavior.\n",
      "  _warn_prf(average, modifier, msg_start, len(result))\n"
     ]
    },
    {
     "data": {
      "text/html": [
       "<div>\n",
       "<style scoped>\n",
       "    .dataframe tbody tr th:only-of-type {\n",
       "        vertical-align: middle;\n",
       "    }\n",
       "\n",
       "    .dataframe tbody tr th {\n",
       "        vertical-align: top;\n",
       "    }\n",
       "\n",
       "    .dataframe thead th {\n",
       "        text-align: right;\n",
       "    }\n",
       "</style>\n",
       "<table border=\"1\" class=\"dataframe\">\n",
       "  <thead>\n",
       "    <tr style=\"text-align: right;\">\n",
       "      <th></th>\n",
       "      <th>Test Size</th>\n",
       "      <th>Random State</th>\n",
       "      <th>Accuracy</th>\n",
       "      <th>Precision</th>\n",
       "      <th>Recall</th>\n",
       "      <th>F1 Score</th>\n",
       "      <th>Best Param</th>\n",
       "    </tr>\n",
       "  </thead>\n",
       "  <tbody>\n",
       "    <tr>\n",
       "      <th>0</th>\n",
       "      <td>100</td>\n",
       "      <td>7</td>\n",
       "      <td>0.429967</td>\n",
       "      <td>0.346199</td>\n",
       "      <td>0.429967</td>\n",
       "      <td>0.358130</td>\n",
       "      <td>{'criterion': 'entropy', 'max_features': 'sqrt...</td>\n",
       "    </tr>\n",
       "    <tr>\n",
       "      <th>1</th>\n",
       "      <td>100</td>\n",
       "      <td>69</td>\n",
       "      <td>0.428339</td>\n",
       "      <td>0.347559</td>\n",
       "      <td>0.428339</td>\n",
       "      <td>0.360510</td>\n",
       "      <td>{'criterion': 'entropy', 'max_features': 'sqrt...</td>\n",
       "    </tr>\n",
       "    <tr>\n",
       "      <th>2</th>\n",
       "      <td>100</td>\n",
       "      <td>101</td>\n",
       "      <td>0.420195</td>\n",
       "      <td>0.332683</td>\n",
       "      <td>0.420195</td>\n",
       "      <td>0.351766</td>\n",
       "      <td>{'criterion': 'gini', 'max_features': 'sqrt', ...</td>\n",
       "    </tr>\n",
       "  </tbody>\n",
       "</table>\n",
       "</div>"
      ],
      "text/plain": [
       "   Test Size  Random State  Accuracy  Precision    Recall  F1 Score  \\\n",
       "0        100             7  0.429967   0.346199  0.429967  0.358130   \n",
       "1        100            69  0.428339   0.347559  0.428339  0.360510   \n",
       "2        100           101  0.420195   0.332683  0.420195  0.351766   \n",
       "\n",
       "                                          Best Param  \n",
       "0  {'criterion': 'entropy', 'max_features': 'sqrt...  \n",
       "1  {'criterion': 'entropy', 'max_features': 'sqrt...  \n",
       "2  {'criterion': 'gini', 'max_features': 'sqrt', ...  "
      ]
     },
     "execution_count": 94,
     "metadata": {},
     "output_type": "execute_result"
    }
   ],
   "source": [
    "temp5L_SL_imb = []\n",
    "\n",
    "y_train = df1_5L_imb[['CGPA']]\n",
    "X_train = df1_5L_imb[['Relationship Status', 'Scholarship', 'PTPTN', 'Skipping Class', 'Additional Course',\n",
    "                    'Study Behavior', 'Study Time', 'Extra Curricular Activities', 'Part-time Job', 'Commute Time',\n",
    "                    'Gaming', 'Alcohol Consumption', 'I have enough free time after class', 'Social Interaction',\n",
    "                    'I hang out with friends']]\n",
    "\n",
    "y_test = df2_5L_imb[['CGPA']]\n",
    "X_test = df2_5L_imb[['Relationship Status', 'Scholarship', 'PTPTN', 'Skipping Class', 'Additional Course',\n",
    "                    'Study Behavior', 'Study Time', 'Extra Curricular Activities', 'Part-time Job', 'Commute Time',\n",
    "                    'Gaming', 'Alcohol Consumption', 'I have enough free time after class', 'Social Interaction',\n",
    "                    'I hang out with friends']]\n",
    "\n",
    "for j in rand_states:\n",
    "    param_grid = {'n_estimators': [100, 200, 300, 400],\n",
    "                  'max_features': ['auto', 'sqrt', 'log2'],\n",
    "                  'criterion' :['gini', 'entropy']}\n",
    "\n",
    "    model = GridSearchCV(RandomForestClassifier(), param_grid, refit=True, n_jobs=-1, cv=10, verbose=1)\n",
    "    model.fit(X_train, y_train)\n",
    "    pred = model.predict(X_test)\n",
    "\n",
    "    acc = accuracy_score(y_test,pred)\n",
    "    pre = precision_score(y_test, pred, average='weighted')\n",
    "    recall = recall_score(y_test, pred, average='weighted')\n",
    "    f1 = f1_score(y_test, pred, average='weighted')\n",
    "    param = model.best_params_\n",
    "\n",
    "    temp5L_SL_imb.append([100,j,acc,pre,recall,f1,param])\n",
    "        \n",
    "df5L_SL_imb = pd.DataFrame(columns=['Test Size','Random State','Accuracy','Precision','Recall','F1 Score','Best Param'],data=temp5L_SL_imb)\n",
    "df5L_SL_imb"
   ]
  },
  {
   "cell_type": "code",
   "execution_count": 95,
   "id": "a481796f-684b-4ac0-95da-ab43cf8e131c",
   "metadata": {},
   "outputs": [
    {
     "data": {
      "text/html": [
       "<div>\n",
       "<style scoped>\n",
       "    .dataframe tbody tr th:only-of-type {\n",
       "        vertical-align: middle;\n",
       "    }\n",
       "\n",
       "    .dataframe tbody tr th {\n",
       "        vertical-align: top;\n",
       "    }\n",
       "\n",
       "    .dataframe thead th {\n",
       "        text-align: right;\n",
       "    }\n",
       "</style>\n",
       "<table border=\"1\" class=\"dataframe\">\n",
       "  <thead>\n",
       "    <tr style=\"text-align: right;\">\n",
       "      <th></th>\n",
       "      <th>Accuracy</th>\n",
       "      <th>Precision</th>\n",
       "      <th>Recall</th>\n",
       "      <th>F1 Score</th>\n",
       "    </tr>\n",
       "    <tr>\n",
       "      <th>Test Size</th>\n",
       "      <th></th>\n",
       "      <th></th>\n",
       "      <th></th>\n",
       "      <th></th>\n",
       "    </tr>\n",
       "  </thead>\n",
       "  <tbody>\n",
       "    <tr>\n",
       "      <th>100</th>\n",
       "      <td>0.426167</td>\n",
       "      <td>0.342147</td>\n",
       "      <td>0.426167</td>\n",
       "      <td>0.356802</td>\n",
       "    </tr>\n",
       "  </tbody>\n",
       "</table>\n",
       "</div>"
      ],
      "text/plain": [
       "           Accuracy  Precision    Recall  F1 Score\n",
       "Test Size                                         \n",
       "100        0.426167   0.342147  0.426167  0.356802"
      ]
     },
     "execution_count": 95,
     "metadata": {},
     "output_type": "execute_result"
    }
   ],
   "source": [
    "df5L_SL_imb.groupby('Test Size')[['Accuracy','Precision','Recall','F1 Score']].mean()"
   ]
  },
  {
   "cell_type": "code",
   "execution_count": 96,
   "id": "7bf0b098-2423-417c-8f0b-8308340244f2",
   "metadata": {},
   "outputs": [
    {
     "name": "stdout",
     "output_type": "stream",
     "text": [
      "Imbalance 5-Level: Student Lifestyle\n",
      "\n",
      "{'criterion': 'entropy', 'max_features': 'sqrt', 'n_estimators': 300}\n",
      "{'criterion': 'entropy', 'max_features': 'sqrt', 'n_estimators': 400}\n",
      "{'criterion': 'gini', 'max_features': 'sqrt', 'n_estimators': 400}\n"
     ]
    }
   ],
   "source": [
    "print(\"Imbalance 5-Level: Student Lifestyle\\n\")\n",
    "for x in df5L_SL_imb[\"Best Param\"]:\n",
    "    print(x)"
   ]
  },
  {
   "cell_type": "markdown",
   "id": "7dd6abe5-d9a1-493a-96b9-d4fd29444c30",
   "metadata": {},
   "source": [
    "### SL after RandomOverSampler"
   ]
  },
  {
   "cell_type": "code",
   "execution_count": 97,
   "id": "bc0d23f3-af3c-4268-a741-8046fabd7b8f",
   "metadata": {},
   "outputs": [
    {
     "name": "stdout",
     "output_type": "stream",
     "text": [
      "Fitting 10 folds for each of 24 candidates, totalling 240 fits\n"
     ]
    },
    {
     "name": "stderr",
     "output_type": "stream",
     "text": [
      "C:\\Users\\hazel\\anaconda3\\Lib\\site-packages\\sklearn\\model_selection\\_search.py:909: DataConversionWarning: A column-vector y was passed when a 1d array was expected. Please change the shape of y to (n_samples,), for example using ravel().\n",
      "  self.best_estimator_.fit(X, y, **fit_params)\n"
     ]
    },
    {
     "name": "stdout",
     "output_type": "stream",
     "text": [
      "Fitting 10 folds for each of 24 candidates, totalling 240 fits\n"
     ]
    },
    {
     "name": "stderr",
     "output_type": "stream",
     "text": [
      "C:\\Users\\hazel\\anaconda3\\Lib\\site-packages\\sklearn\\model_selection\\_search.py:909: DataConversionWarning: A column-vector y was passed when a 1d array was expected. Please change the shape of y to (n_samples,), for example using ravel().\n",
      "  self.best_estimator_.fit(X, y, **fit_params)\n"
     ]
    },
    {
     "name": "stdout",
     "output_type": "stream",
     "text": [
      "Fitting 10 folds for each of 24 candidates, totalling 240 fits\n"
     ]
    },
    {
     "name": "stderr",
     "output_type": "stream",
     "text": [
      "C:\\Users\\hazel\\anaconda3\\Lib\\site-packages\\sklearn\\model_selection\\_search.py:909: DataConversionWarning: A column-vector y was passed when a 1d array was expected. Please change the shape of y to (n_samples,), for example using ravel().\n",
      "  self.best_estimator_.fit(X, y, **fit_params)\n"
     ]
    },
    {
     "data": {
      "text/html": [
       "<div>\n",
       "<style scoped>\n",
       "    .dataframe tbody tr th:only-of-type {\n",
       "        vertical-align: middle;\n",
       "    }\n",
       "\n",
       "    .dataframe tbody tr th {\n",
       "        vertical-align: top;\n",
       "    }\n",
       "\n",
       "    .dataframe thead th {\n",
       "        text-align: right;\n",
       "    }\n",
       "</style>\n",
       "<table border=\"1\" class=\"dataframe\">\n",
       "  <thead>\n",
       "    <tr style=\"text-align: right;\">\n",
       "      <th></th>\n",
       "      <th>Test Size</th>\n",
       "      <th>Random State</th>\n",
       "      <th>Accuracy</th>\n",
       "      <th>Precision</th>\n",
       "      <th>Recall</th>\n",
       "      <th>F1 Score</th>\n",
       "      <th>Best Param</th>\n",
       "    </tr>\n",
       "  </thead>\n",
       "  <tbody>\n",
       "    <tr>\n",
       "      <th>0</th>\n",
       "      <td>100</td>\n",
       "      <td>7</td>\n",
       "      <td>0.220144</td>\n",
       "      <td>0.160020</td>\n",
       "      <td>0.220144</td>\n",
       "      <td>0.158617</td>\n",
       "      <td>{'criterion': 'gini', 'max_features': 'log2', ...</td>\n",
       "    </tr>\n",
       "    <tr>\n",
       "      <th>1</th>\n",
       "      <td>100</td>\n",
       "      <td>69</td>\n",
       "      <td>0.215827</td>\n",
       "      <td>0.154936</td>\n",
       "      <td>0.215827</td>\n",
       "      <td>0.153065</td>\n",
       "      <td>{'criterion': 'entropy', 'max_features': 'log2...</td>\n",
       "    </tr>\n",
       "    <tr>\n",
       "      <th>2</th>\n",
       "      <td>100</td>\n",
       "      <td>101</td>\n",
       "      <td>0.205755</td>\n",
       "      <td>0.120672</td>\n",
       "      <td>0.205755</td>\n",
       "      <td>0.136214</td>\n",
       "      <td>{'criterion': 'entropy', 'max_features': 'log2...</td>\n",
       "    </tr>\n",
       "  </tbody>\n",
       "</table>\n",
       "</div>"
      ],
      "text/plain": [
       "   Test Size  Random State  Accuracy  Precision    Recall  F1 Score  \\\n",
       "0        100             7  0.220144   0.160020  0.220144  0.158617   \n",
       "1        100            69  0.215827   0.154936  0.215827  0.153065   \n",
       "2        100           101  0.205755   0.120672  0.205755  0.136214   \n",
       "\n",
       "                                          Best Param  \n",
       "0  {'criterion': 'gini', 'max_features': 'log2', ...  \n",
       "1  {'criterion': 'entropy', 'max_features': 'log2...  \n",
       "2  {'criterion': 'entropy', 'max_features': 'log2...  "
      ]
     },
     "execution_count": 97,
     "metadata": {},
     "output_type": "execute_result"
    }
   ],
   "source": [
    "temp5L_SL_ROS = []\n",
    "\n",
    "y_train = df1_5L_ROS[['CGPA']]\n",
    "X_train = df1_5L_ROS[['Relationship Status', 'Scholarship', 'PTPTN', 'Skipping Class', 'Additional Course',\n",
    "                    'Study Behavior', 'Study Time', 'Extra Curricular Activities', 'Part-time Job', 'Commute Time',\n",
    "                    'Gaming', 'Alcohol Consumption', 'I have enough free time after class', 'Social Interaction',\n",
    "                    'I hang out with friends']]\n",
    "\n",
    "y_test = df2_5L_ROS[['CGPA']]\n",
    "X_test = df2_5L_ROS[['Relationship Status', 'Scholarship', 'PTPTN', 'Skipping Class', 'Additional Course',\n",
    "                    'Study Behavior', 'Study Time', 'Extra Curricular Activities', 'Part-time Job', 'Commute Time',\n",
    "                    'Gaming', 'Alcohol Consumption', 'I have enough free time after class', 'Social Interaction',\n",
    "                    'I hang out with friends']]\n",
    "\n",
    "for j in rand_states:\n",
    "    param_grid = {'n_estimators': [100, 200, 300, 400],\n",
    "                  'max_features': ['auto', 'sqrt', 'log2'],\n",
    "                  'criterion' :['gini', 'entropy']}\n",
    "\n",
    "    model = GridSearchCV(RandomForestClassifier(), param_grid, refit=True, n_jobs=-1, cv=10, verbose=1)\n",
    "    model.fit(X_train, y_train)\n",
    "    pred = model.predict(X_test)\n",
    "\n",
    "    acc = accuracy_score(y_test,pred)\n",
    "    pre = precision_score(y_test, pred, average='weighted')\n",
    "    recall = recall_score(y_test, pred, average='weighted')\n",
    "    f1 = f1_score(y_test, pred, average='weighted')\n",
    "    param = model.best_params_\n",
    "\n",
    "    temp5L_SL_ROS.append([100,j,acc,pre,recall,f1,param])\n",
    "        \n",
    "df5L_SL_ROS = pd.DataFrame(columns=['Test Size','Random State','Accuracy','Precision','Recall','F1 Score','Best Param'],data=temp5L_SL_ROS)\n",
    "df5L_SL_ROS"
   ]
  },
  {
   "cell_type": "code",
   "execution_count": 98,
   "id": "4361610c-e9b6-4c35-b1f3-5b5fb2a44de8",
   "metadata": {},
   "outputs": [
    {
     "data": {
      "text/html": [
       "<div>\n",
       "<style scoped>\n",
       "    .dataframe tbody tr th:only-of-type {\n",
       "        vertical-align: middle;\n",
       "    }\n",
       "\n",
       "    .dataframe tbody tr th {\n",
       "        vertical-align: top;\n",
       "    }\n",
       "\n",
       "    .dataframe thead th {\n",
       "        text-align: right;\n",
       "    }\n",
       "</style>\n",
       "<table border=\"1\" class=\"dataframe\">\n",
       "  <thead>\n",
       "    <tr style=\"text-align: right;\">\n",
       "      <th></th>\n",
       "      <th>Accuracy</th>\n",
       "      <th>Precision</th>\n",
       "      <th>Recall</th>\n",
       "      <th>F1 Score</th>\n",
       "    </tr>\n",
       "    <tr>\n",
       "      <th>Test Size</th>\n",
       "      <th></th>\n",
       "      <th></th>\n",
       "      <th></th>\n",
       "      <th></th>\n",
       "    </tr>\n",
       "  </thead>\n",
       "  <tbody>\n",
       "    <tr>\n",
       "      <th>100</th>\n",
       "      <td>0.213909</td>\n",
       "      <td>0.145209</td>\n",
       "      <td>0.213909</td>\n",
       "      <td>0.149299</td>\n",
       "    </tr>\n",
       "  </tbody>\n",
       "</table>\n",
       "</div>"
      ],
      "text/plain": [
       "           Accuracy  Precision    Recall  F1 Score\n",
       "Test Size                                         \n",
       "100        0.213909   0.145209  0.213909  0.149299"
      ]
     },
     "execution_count": 98,
     "metadata": {},
     "output_type": "execute_result"
    }
   ],
   "source": [
    "df5L_SL_ROS.groupby('Test Size')[['Accuracy','Precision','Recall','F1 Score']].mean()"
   ]
  },
  {
   "cell_type": "code",
   "execution_count": 99,
   "id": "876c0217-7124-48f3-8c02-6677416c5de7",
   "metadata": {},
   "outputs": [
    {
     "name": "stdout",
     "output_type": "stream",
     "text": [
      "5-Level: Student Lifestyle\n",
      "\n",
      "{'criterion': 'gini', 'max_features': 'log2', 'n_estimators': 400}\n",
      "{'criterion': 'entropy', 'max_features': 'log2', 'n_estimators': 400}\n",
      "{'criterion': 'entropy', 'max_features': 'log2', 'n_estimators': 100}\n"
     ]
    }
   ],
   "source": [
    "print(\"5-Level: Student Lifestyle\\n\")\n",
    "for x in df5L_SL_ROS[\"Best Param\"]:\n",
    "    print(x)"
   ]
  },
  {
   "cell_type": "markdown",
   "id": "b1802261-fac2-4a41-98e6-7135f00fb251",
   "metadata": {},
   "source": [
    "### SL after SMOTE"
   ]
  },
  {
   "cell_type": "code",
   "execution_count": 100,
   "id": "4c31150a-71f6-4019-97dc-0edfd66d5e69",
   "metadata": {},
   "outputs": [
    {
     "name": "stdout",
     "output_type": "stream",
     "text": [
      "Fitting 10 folds for each of 24 candidates, totalling 240 fits\n"
     ]
    },
    {
     "name": "stderr",
     "output_type": "stream",
     "text": [
      "C:\\Users\\hazel\\anaconda3\\Lib\\site-packages\\sklearn\\model_selection\\_search.py:909: DataConversionWarning: A column-vector y was passed when a 1d array was expected. Please change the shape of y to (n_samples,), for example using ravel().\n",
      "  self.best_estimator_.fit(X, y, **fit_params)\n"
     ]
    },
    {
     "name": "stdout",
     "output_type": "stream",
     "text": [
      "Fitting 10 folds for each of 24 candidates, totalling 240 fits\n"
     ]
    },
    {
     "name": "stderr",
     "output_type": "stream",
     "text": [
      "C:\\Users\\hazel\\anaconda3\\Lib\\site-packages\\sklearn\\model_selection\\_search.py:909: DataConversionWarning: A column-vector y was passed when a 1d array was expected. Please change the shape of y to (n_samples,), for example using ravel().\n",
      "  self.best_estimator_.fit(X, y, **fit_params)\n"
     ]
    },
    {
     "name": "stdout",
     "output_type": "stream",
     "text": [
      "Fitting 10 folds for each of 24 candidates, totalling 240 fits\n"
     ]
    },
    {
     "name": "stderr",
     "output_type": "stream",
     "text": [
      "C:\\Users\\hazel\\anaconda3\\Lib\\site-packages\\sklearn\\model_selection\\_search.py:909: DataConversionWarning: A column-vector y was passed when a 1d array was expected. Please change the shape of y to (n_samples,), for example using ravel().\n",
      "  self.best_estimator_.fit(X, y, **fit_params)\n",
      "C:\\Users\\hazel\\anaconda3\\Lib\\site-packages\\sklearn\\ensemble\\_forest.py:424: FutureWarning: `max_features='auto'` has been deprecated in 1.1 and will be removed in 1.3. To keep the past behaviour, explicitly set `max_features='sqrt'` or remove this parameter as it is also the default value for RandomForestClassifiers and ExtraTreesClassifiers.\n",
      "  warn(\n"
     ]
    },
    {
     "data": {
      "text/html": [
       "<div>\n",
       "<style scoped>\n",
       "    .dataframe tbody tr th:only-of-type {\n",
       "        vertical-align: middle;\n",
       "    }\n",
       "\n",
       "    .dataframe tbody tr th {\n",
       "        vertical-align: top;\n",
       "    }\n",
       "\n",
       "    .dataframe thead th {\n",
       "        text-align: right;\n",
       "    }\n",
       "</style>\n",
       "<table border=\"1\" class=\"dataframe\">\n",
       "  <thead>\n",
       "    <tr style=\"text-align: right;\">\n",
       "      <th></th>\n",
       "      <th>Test Size</th>\n",
       "      <th>Random State</th>\n",
       "      <th>Accuracy</th>\n",
       "      <th>Precision</th>\n",
       "      <th>Recall</th>\n",
       "      <th>F1 Score</th>\n",
       "      <th>Best Param</th>\n",
       "    </tr>\n",
       "  </thead>\n",
       "  <tbody>\n",
       "    <tr>\n",
       "      <th>0</th>\n",
       "      <td>100</td>\n",
       "      <td>7</td>\n",
       "      <td>0.266187</td>\n",
       "      <td>0.208943</td>\n",
       "      <td>0.266187</td>\n",
       "      <td>0.232364</td>\n",
       "      <td>{'criterion': 'entropy', 'max_features': 'log2...</td>\n",
       "    </tr>\n",
       "    <tr>\n",
       "      <th>1</th>\n",
       "      <td>100</td>\n",
       "      <td>69</td>\n",
       "      <td>0.267626</td>\n",
       "      <td>0.207065</td>\n",
       "      <td>0.267626</td>\n",
       "      <td>0.231212</td>\n",
       "      <td>{'criterion': 'entropy', 'max_features': 'sqrt...</td>\n",
       "    </tr>\n",
       "    <tr>\n",
       "      <th>2</th>\n",
       "      <td>100</td>\n",
       "      <td>101</td>\n",
       "      <td>0.263309</td>\n",
       "      <td>0.201843</td>\n",
       "      <td>0.263309</td>\n",
       "      <td>0.226680</td>\n",
       "      <td>{'criterion': 'entropy', 'max_features': 'auto...</td>\n",
       "    </tr>\n",
       "  </tbody>\n",
       "</table>\n",
       "</div>"
      ],
      "text/plain": [
       "   Test Size  Random State  Accuracy  Precision    Recall  F1 Score  \\\n",
       "0        100             7  0.266187   0.208943  0.266187  0.232364   \n",
       "1        100            69  0.267626   0.207065  0.267626  0.231212   \n",
       "2        100           101  0.263309   0.201843  0.263309  0.226680   \n",
       "\n",
       "                                          Best Param  \n",
       "0  {'criterion': 'entropy', 'max_features': 'log2...  \n",
       "1  {'criterion': 'entropy', 'max_features': 'sqrt...  \n",
       "2  {'criterion': 'entropy', 'max_features': 'auto...  "
      ]
     },
     "execution_count": 100,
     "metadata": {},
     "output_type": "execute_result"
    }
   ],
   "source": [
    "temp5L_SL_SMOTE = []\n",
    "\n",
    "y_train = df1_5L_SMOTE[['CGPA']]\n",
    "X_train = df1_5L_SMOTE[['Relationship Status', 'Scholarship', 'PTPTN', 'Skipping Class', 'Additional Course',\n",
    "                    'Study Behavior', 'Study Time', 'Extra Curricular Activities', 'Part-time Job', 'Commute Time',\n",
    "                    'Gaming', 'Alcohol Consumption', 'I have enough free time after class', 'Social Interaction',\n",
    "                    'I hang out with friends']]\n",
    "\n",
    "y_test = df2_5L_SMOTE[['CGPA']]\n",
    "X_test = df2_5L_SMOTE[['Relationship Status', 'Scholarship', 'PTPTN', 'Skipping Class', 'Additional Course',\n",
    "                    'Study Behavior', 'Study Time', 'Extra Curricular Activities', 'Part-time Job', 'Commute Time',\n",
    "                    'Gaming', 'Alcohol Consumption', 'I have enough free time after class', 'Social Interaction',\n",
    "                    'I hang out with friends']]\n",
    "\n",
    "for j in rand_states:\n",
    "    param_grid = {'n_estimators': [100, 200, 300, 400],\n",
    "                  'max_features': ['auto', 'sqrt', 'log2'],\n",
    "                  'criterion' :['gini', 'entropy']}\n",
    "\n",
    "    model = GridSearchCV(RandomForestClassifier(), param_grid, refit=True, n_jobs=-1, cv=10, verbose=1)\n",
    "    model.fit(X_train, y_train)\n",
    "    pred = model.predict(X_test)\n",
    "\n",
    "    acc = accuracy_score(y_test,pred)\n",
    "    pre = precision_score(y_test, pred, average='weighted')\n",
    "    recall = recall_score(y_test, pred, average='weighted')\n",
    "    f1 = f1_score(y_test, pred, average='weighted')\n",
    "    param = model.best_params_\n",
    "\n",
    "    temp5L_SL_SMOTE.append([100,j,acc,pre,recall,f1,param])\n",
    "        \n",
    "df5L_SL_SMOTE = pd.DataFrame(columns=['Test Size','Random State','Accuracy','Precision','Recall','F1 Score','Best Param'],data=temp5L_SL_SMOTE)\n",
    "df5L_SL_SMOTE"
   ]
  },
  {
   "cell_type": "code",
   "execution_count": 101,
   "id": "c2d51b6f-54ad-4f2e-9060-92269403f82e",
   "metadata": {},
   "outputs": [
    {
     "data": {
      "text/html": [
       "<div>\n",
       "<style scoped>\n",
       "    .dataframe tbody tr th:only-of-type {\n",
       "        vertical-align: middle;\n",
       "    }\n",
       "\n",
       "    .dataframe tbody tr th {\n",
       "        vertical-align: top;\n",
       "    }\n",
       "\n",
       "    .dataframe thead th {\n",
       "        text-align: right;\n",
       "    }\n",
       "</style>\n",
       "<table border=\"1\" class=\"dataframe\">\n",
       "  <thead>\n",
       "    <tr style=\"text-align: right;\">\n",
       "      <th></th>\n",
       "      <th>Accuracy</th>\n",
       "      <th>Precision</th>\n",
       "      <th>Recall</th>\n",
       "      <th>F1 Score</th>\n",
       "    </tr>\n",
       "    <tr>\n",
       "      <th>Test Size</th>\n",
       "      <th></th>\n",
       "      <th></th>\n",
       "      <th></th>\n",
       "      <th></th>\n",
       "    </tr>\n",
       "  </thead>\n",
       "  <tbody>\n",
       "    <tr>\n",
       "      <th>100</th>\n",
       "      <td>0.265707</td>\n",
       "      <td>0.20595</td>\n",
       "      <td>0.265707</td>\n",
       "      <td>0.230085</td>\n",
       "    </tr>\n",
       "  </tbody>\n",
       "</table>\n",
       "</div>"
      ],
      "text/plain": [
       "           Accuracy  Precision    Recall  F1 Score\n",
       "Test Size                                         \n",
       "100        0.265707    0.20595  0.265707  0.230085"
      ]
     },
     "execution_count": 101,
     "metadata": {},
     "output_type": "execute_result"
    }
   ],
   "source": [
    "df5L_SL_SMOTE.groupby('Test Size')[['Accuracy','Precision','Recall','F1 Score']].mean()"
   ]
  },
  {
   "cell_type": "code",
   "execution_count": 102,
   "id": "61a41de1-36ec-4cfe-8a52-740055f8a162",
   "metadata": {},
   "outputs": [
    {
     "name": "stdout",
     "output_type": "stream",
     "text": [
      "SMOTE 5-Level: Student Lifestyle\n",
      "\n",
      "{'criterion': 'entropy', 'max_features': 'log2', 'n_estimators': 400}\n",
      "{'criterion': 'entropy', 'max_features': 'sqrt', 'n_estimators': 400}\n",
      "{'criterion': 'entropy', 'max_features': 'auto', 'n_estimators': 400}\n"
     ]
    }
   ],
   "source": [
    "print(\"SMOTE 5-Level: Student Lifestyle\\n\")\n",
    "for x in df5L_SL_SMOTE[\"Best Param\"]:\n",
    "    print(x)"
   ]
  },
  {
   "cell_type": "markdown",
   "id": "944fae4b-c4eb-4c2b-a161-93f287c1f2a0",
   "metadata": {},
   "source": [
    "## All Attributes"
   ]
  },
  {
   "cell_type": "markdown",
   "id": "4da2ce21-b1dd-4d2b-b2b4-4fe57a0c5d02",
   "metadata": {},
   "source": [
    "### AA before Data Balancing"
   ]
  },
  {
   "cell_type": "code",
   "execution_count": 103,
   "id": "512a6e5a-c21a-4fc1-9425-338931b9b184",
   "metadata": {},
   "outputs": [
    {
     "name": "stdout",
     "output_type": "stream",
     "text": [
      "Fitting 10 folds for each of 24 candidates, totalling 240 fits\n"
     ]
    },
    {
     "name": "stderr",
     "output_type": "stream",
     "text": [
      "C:\\Users\\hazel\\anaconda3\\Lib\\site-packages\\sklearn\\model_selection\\_split.py:700: UserWarning: The least populated class in y has only 4 members, which is less than n_splits=10.\n",
      "  warnings.warn(\n",
      "C:\\Users\\hazel\\anaconda3\\Lib\\site-packages\\sklearn\\model_selection\\_search.py:909: DataConversionWarning: A column-vector y was passed when a 1d array was expected. Please change the shape of y to (n_samples,), for example using ravel().\n",
      "  self.best_estimator_.fit(X, y, **fit_params)\n",
      "C:\\Users\\hazel\\anaconda3\\Lib\\site-packages\\sklearn\\ensemble\\_forest.py:424: FutureWarning: `max_features='auto'` has been deprecated in 1.1 and will be removed in 1.3. To keep the past behaviour, explicitly set `max_features='sqrt'` or remove this parameter as it is also the default value for RandomForestClassifiers and ExtraTreesClassifiers.\n",
      "  warn(\n",
      "C:\\Users\\hazel\\anaconda3\\Lib\\site-packages\\sklearn\\metrics\\_classification.py:1344: UndefinedMetricWarning: Precision is ill-defined and being set to 0.0 in labels with no predicted samples. Use `zero_division` parameter to control this behavior.\n",
      "  _warn_prf(average, modifier, msg_start, len(result))\n",
      "C:\\Users\\hazel\\anaconda3\\Lib\\site-packages\\sklearn\\model_selection\\_split.py:700: UserWarning: The least populated class in y has only 4 members, which is less than n_splits=10.\n",
      "  warnings.warn(\n"
     ]
    },
    {
     "name": "stdout",
     "output_type": "stream",
     "text": [
      "Fitting 10 folds for each of 24 candidates, totalling 240 fits\n"
     ]
    },
    {
     "name": "stderr",
     "output_type": "stream",
     "text": [
      "C:\\Users\\hazel\\anaconda3\\Lib\\site-packages\\sklearn\\model_selection\\_search.py:909: DataConversionWarning: A column-vector y was passed when a 1d array was expected. Please change the shape of y to (n_samples,), for example using ravel().\n",
      "  self.best_estimator_.fit(X, y, **fit_params)\n",
      "C:\\Users\\hazel\\anaconda3\\Lib\\site-packages\\sklearn\\metrics\\_classification.py:1344: UndefinedMetricWarning: Precision is ill-defined and being set to 0.0 in labels with no predicted samples. Use `zero_division` parameter to control this behavior.\n",
      "  _warn_prf(average, modifier, msg_start, len(result))\n",
      "C:\\Users\\hazel\\anaconda3\\Lib\\site-packages\\sklearn\\model_selection\\_split.py:700: UserWarning: The least populated class in y has only 4 members, which is less than n_splits=10.\n",
      "  warnings.warn(\n"
     ]
    },
    {
     "name": "stdout",
     "output_type": "stream",
     "text": [
      "Fitting 10 folds for each of 24 candidates, totalling 240 fits\n"
     ]
    },
    {
     "name": "stderr",
     "output_type": "stream",
     "text": [
      "C:\\Users\\hazel\\anaconda3\\Lib\\site-packages\\sklearn\\model_selection\\_search.py:909: DataConversionWarning: A column-vector y was passed when a 1d array was expected. Please change the shape of y to (n_samples,), for example using ravel().\n",
      "  self.best_estimator_.fit(X, y, **fit_params)\n",
      "C:\\Users\\hazel\\anaconda3\\Lib\\site-packages\\sklearn\\ensemble\\_forest.py:424: FutureWarning: `max_features='auto'` has been deprecated in 1.1 and will be removed in 1.3. To keep the past behaviour, explicitly set `max_features='sqrt'` or remove this parameter as it is also the default value for RandomForestClassifiers and ExtraTreesClassifiers.\n",
      "  warn(\n",
      "C:\\Users\\hazel\\anaconda3\\Lib\\site-packages\\sklearn\\metrics\\_classification.py:1344: UndefinedMetricWarning: Precision is ill-defined and being set to 0.0 in labels with no predicted samples. Use `zero_division` parameter to control this behavior.\n",
      "  _warn_prf(average, modifier, msg_start, len(result))\n"
     ]
    },
    {
     "data": {
      "text/html": [
       "<div>\n",
       "<style scoped>\n",
       "    .dataframe tbody tr th:only-of-type {\n",
       "        vertical-align: middle;\n",
       "    }\n",
       "\n",
       "    .dataframe tbody tr th {\n",
       "        vertical-align: top;\n",
       "    }\n",
       "\n",
       "    .dataframe thead th {\n",
       "        text-align: right;\n",
       "    }\n",
       "</style>\n",
       "<table border=\"1\" class=\"dataframe\">\n",
       "  <thead>\n",
       "    <tr style=\"text-align: right;\">\n",
       "      <th></th>\n",
       "      <th>Test Size</th>\n",
       "      <th>Random State</th>\n",
       "      <th>Accuracy</th>\n",
       "      <th>Precision</th>\n",
       "      <th>Recall</th>\n",
       "      <th>F1 Score</th>\n",
       "      <th>Best Param</th>\n",
       "    </tr>\n",
       "  </thead>\n",
       "  <tbody>\n",
       "    <tr>\n",
       "      <th>0</th>\n",
       "      <td>100</td>\n",
       "      <td>7</td>\n",
       "      <td>0.500000</td>\n",
       "      <td>0.447008</td>\n",
       "      <td>0.500000</td>\n",
       "      <td>0.439274</td>\n",
       "      <td>{'criterion': 'entropy', 'max_features': 'auto...</td>\n",
       "    </tr>\n",
       "    <tr>\n",
       "      <th>1</th>\n",
       "      <td>100</td>\n",
       "      <td>69</td>\n",
       "      <td>0.526059</td>\n",
       "      <td>0.504118</td>\n",
       "      <td>0.526059</td>\n",
       "      <td>0.467575</td>\n",
       "      <td>{'criterion': 'gini', 'max_features': 'sqrt', ...</td>\n",
       "    </tr>\n",
       "    <tr>\n",
       "      <th>2</th>\n",
       "      <td>100</td>\n",
       "      <td>101</td>\n",
       "      <td>0.513029</td>\n",
       "      <td>0.462220</td>\n",
       "      <td>0.513029</td>\n",
       "      <td>0.450841</td>\n",
       "      <td>{'criterion': 'gini', 'max_features': 'auto', ...</td>\n",
       "    </tr>\n",
       "  </tbody>\n",
       "</table>\n",
       "</div>"
      ],
      "text/plain": [
       "   Test Size  Random State  Accuracy  Precision    Recall  F1 Score  \\\n",
       "0        100             7  0.500000   0.447008  0.500000  0.439274   \n",
       "1        100            69  0.526059   0.504118  0.526059  0.467575   \n",
       "2        100           101  0.513029   0.462220  0.513029  0.450841   \n",
       "\n",
       "                                          Best Param  \n",
       "0  {'criterion': 'entropy', 'max_features': 'auto...  \n",
       "1  {'criterion': 'gini', 'max_features': 'sqrt', ...  \n",
       "2  {'criterion': 'gini', 'max_features': 'auto', ...  "
      ]
     },
     "execution_count": 103,
     "metadata": {},
     "output_type": "execute_result"
    }
   ],
   "source": [
    "temp5L_imb = []\n",
    "\n",
    "y_train = df1_5L_imb[['CGPA']]\n",
    "X_train = df1_5L_imb.drop(columns=['CGPA'])\n",
    "\n",
    "y_test = df2_5L_imb[['CGPA']]\n",
    "X_test = df2_5L_imb.drop(columns=['CGPA'])\n",
    "\n",
    "for j in rand_states:\n",
    "    param_grid = {'n_estimators': [100, 200, 300, 400],\n",
    "                  'max_features': ['auto', 'sqrt', 'log2'],\n",
    "                  'criterion' :['gini', 'entropy']}\n",
    "\n",
    "    model = GridSearchCV(RandomForestClassifier(), param_grid, refit=True, n_jobs=-1, cv=10, verbose=1)\n",
    "    model.fit(X_train, y_train)\n",
    "    pred = model.predict(X_test)\n",
    "\n",
    "    acc = accuracy_score(y_test,pred)\n",
    "    pre = precision_score(y_test, pred, average='weighted')\n",
    "    recall = recall_score(y_test, pred, average='weighted')\n",
    "    f1 = f1_score(y_test, pred, average='weighted')\n",
    "    param = model.best_params_\n",
    "\n",
    "    temp5L_imb.append([100,j,acc,pre,recall,f1,param])\n",
    "        \n",
    "df5L_imb = pd.DataFrame(columns=['Test Size','Random State','Accuracy','Precision','Recall','F1 Score','Best Param'],data=temp5L_imb)\n",
    "df5L_imb"
   ]
  },
  {
   "cell_type": "code",
   "execution_count": 104,
   "id": "a49cfbeb-6b56-4102-821a-6dd41f9713f6",
   "metadata": {},
   "outputs": [
    {
     "data": {
      "text/html": [
       "<div>\n",
       "<style scoped>\n",
       "    .dataframe tbody tr th:only-of-type {\n",
       "        vertical-align: middle;\n",
       "    }\n",
       "\n",
       "    .dataframe tbody tr th {\n",
       "        vertical-align: top;\n",
       "    }\n",
       "\n",
       "    .dataframe thead th {\n",
       "        text-align: right;\n",
       "    }\n",
       "</style>\n",
       "<table border=\"1\" class=\"dataframe\">\n",
       "  <thead>\n",
       "    <tr style=\"text-align: right;\">\n",
       "      <th></th>\n",
       "      <th>Accuracy</th>\n",
       "      <th>Precision</th>\n",
       "      <th>Recall</th>\n",
       "      <th>F1 Score</th>\n",
       "    </tr>\n",
       "    <tr>\n",
       "      <th>Test Size</th>\n",
       "      <th></th>\n",
       "      <th></th>\n",
       "      <th></th>\n",
       "      <th></th>\n",
       "    </tr>\n",
       "  </thead>\n",
       "  <tbody>\n",
       "    <tr>\n",
       "      <th>100</th>\n",
       "      <td>0.513029</td>\n",
       "      <td>0.471115</td>\n",
       "      <td>0.513029</td>\n",
       "      <td>0.452563</td>\n",
       "    </tr>\n",
       "  </tbody>\n",
       "</table>\n",
       "</div>"
      ],
      "text/plain": [
       "           Accuracy  Precision    Recall  F1 Score\n",
       "Test Size                                         \n",
       "100        0.513029   0.471115  0.513029  0.452563"
      ]
     },
     "execution_count": 104,
     "metadata": {},
     "output_type": "execute_result"
    }
   ],
   "source": [
    "df5L_imb.groupby('Test Size')[['Accuracy','Precision','Recall','F1 Score']].mean()"
   ]
  },
  {
   "cell_type": "code",
   "execution_count": 105,
   "id": "c84d3cf7-eeb8-4b52-ab6d-41089786497a",
   "metadata": {},
   "outputs": [
    {
     "name": "stdout",
     "output_type": "stream",
     "text": [
      "Imbalance All Attributes\n",
      "\n",
      "{'criterion': 'entropy', 'max_features': 'auto', 'n_estimators': 400}\n",
      "{'criterion': 'gini', 'max_features': 'sqrt', 'n_estimators': 100}\n",
      "{'criterion': 'gini', 'max_features': 'auto', 'n_estimators': 300}\n"
     ]
    }
   ],
   "source": [
    "print(\"Imbalance All Attributes\\n\")\n",
    "for x in df5L_imb[\"Best Param\"]:\n",
    "    print(x)"
   ]
  },
  {
   "cell_type": "markdown",
   "id": "89b50bfb-944e-4285-90de-6806c73feb68",
   "metadata": {},
   "source": [
    "### AA after RandomOverSampler"
   ]
  },
  {
   "cell_type": "code",
   "execution_count": 106,
   "id": "b9c94a74-f5cc-4022-8dc7-c53ab77ba455",
   "metadata": {},
   "outputs": [
    {
     "name": "stdout",
     "output_type": "stream",
     "text": [
      "Fitting 10 folds for each of 24 candidates, totalling 240 fits\n"
     ]
    },
    {
     "name": "stderr",
     "output_type": "stream",
     "text": [
      "C:\\Users\\hazel\\anaconda3\\Lib\\site-packages\\sklearn\\model_selection\\_search.py:909: DataConversionWarning: A column-vector y was passed when a 1d array was expected. Please change the shape of y to (n_samples,), for example using ravel().\n",
      "  self.best_estimator_.fit(X, y, **fit_params)\n",
      "C:\\Users\\hazel\\anaconda3\\Lib\\site-packages\\sklearn\\metrics\\_classification.py:1344: UndefinedMetricWarning: Precision is ill-defined and being set to 0.0 in labels with no predicted samples. Use `zero_division` parameter to control this behavior.\n",
      "  _warn_prf(average, modifier, msg_start, len(result))\n"
     ]
    },
    {
     "name": "stdout",
     "output_type": "stream",
     "text": [
      "Fitting 10 folds for each of 24 candidates, totalling 240 fits\n"
     ]
    },
    {
     "name": "stderr",
     "output_type": "stream",
     "text": [
      "C:\\Users\\hazel\\anaconda3\\Lib\\site-packages\\sklearn\\model_selection\\_search.py:909: DataConversionWarning: A column-vector y was passed when a 1d array was expected. Please change the shape of y to (n_samples,), for example using ravel().\n",
      "  self.best_estimator_.fit(X, y, **fit_params)\n",
      "C:\\Users\\hazel\\anaconda3\\Lib\\site-packages\\sklearn\\metrics\\_classification.py:1344: UndefinedMetricWarning: Precision is ill-defined and being set to 0.0 in labels with no predicted samples. Use `zero_division` parameter to control this behavior.\n",
      "  _warn_prf(average, modifier, msg_start, len(result))\n"
     ]
    },
    {
     "name": "stdout",
     "output_type": "stream",
     "text": [
      "Fitting 10 folds for each of 24 candidates, totalling 240 fits\n"
     ]
    },
    {
     "name": "stderr",
     "output_type": "stream",
     "text": [
      "C:\\Users\\hazel\\anaconda3\\Lib\\site-packages\\sklearn\\model_selection\\_search.py:909: DataConversionWarning: A column-vector y was passed when a 1d array was expected. Please change the shape of y to (n_samples,), for example using ravel().\n",
      "  self.best_estimator_.fit(X, y, **fit_params)\n",
      "C:\\Users\\hazel\\anaconda3\\Lib\\site-packages\\sklearn\\metrics\\_classification.py:1344: UndefinedMetricWarning: Precision is ill-defined and being set to 0.0 in labels with no predicted samples. Use `zero_division` parameter to control this behavior.\n",
      "  _warn_prf(average, modifier, msg_start, len(result))\n"
     ]
    },
    {
     "data": {
      "text/html": [
       "<div>\n",
       "<style scoped>\n",
       "    .dataframe tbody tr th:only-of-type {\n",
       "        vertical-align: middle;\n",
       "    }\n",
       "\n",
       "    .dataframe tbody tr th {\n",
       "        vertical-align: top;\n",
       "    }\n",
       "\n",
       "    .dataframe thead th {\n",
       "        text-align: right;\n",
       "    }\n",
       "</style>\n",
       "<table border=\"1\" class=\"dataframe\">\n",
       "  <thead>\n",
       "    <tr style=\"text-align: right;\">\n",
       "      <th></th>\n",
       "      <th>Test Size</th>\n",
       "      <th>Random State</th>\n",
       "      <th>Accuracy</th>\n",
       "      <th>Precision</th>\n",
       "      <th>Recall</th>\n",
       "      <th>F1 Score</th>\n",
       "      <th>Best Param</th>\n",
       "    </tr>\n",
       "  </thead>\n",
       "  <tbody>\n",
       "    <tr>\n",
       "      <th>0</th>\n",
       "      <td>100</td>\n",
       "      <td>7</td>\n",
       "      <td>0.274101</td>\n",
       "      <td>0.306250</td>\n",
       "      <td>0.274101</td>\n",
       "      <td>0.214967</td>\n",
       "      <td>{'criterion': 'entropy', 'max_features': 'log2...</td>\n",
       "    </tr>\n",
       "    <tr>\n",
       "      <th>1</th>\n",
       "      <td>100</td>\n",
       "      <td>69</td>\n",
       "      <td>0.291367</td>\n",
       "      <td>0.365368</td>\n",
       "      <td>0.291367</td>\n",
       "      <td>0.237560</td>\n",
       "      <td>{'criterion': 'entropy', 'max_features': 'log2...</td>\n",
       "    </tr>\n",
       "    <tr>\n",
       "      <th>2</th>\n",
       "      <td>100</td>\n",
       "      <td>101</td>\n",
       "      <td>0.291367</td>\n",
       "      <td>0.314364</td>\n",
       "      <td>0.291367</td>\n",
       "      <td>0.239758</td>\n",
       "      <td>{'criterion': 'gini', 'max_features': 'sqrt', ...</td>\n",
       "    </tr>\n",
       "  </tbody>\n",
       "</table>\n",
       "</div>"
      ],
      "text/plain": [
       "   Test Size  Random State  Accuracy  Precision    Recall  F1 Score  \\\n",
       "0        100             7  0.274101   0.306250  0.274101  0.214967   \n",
       "1        100            69  0.291367   0.365368  0.291367  0.237560   \n",
       "2        100           101  0.291367   0.314364  0.291367  0.239758   \n",
       "\n",
       "                                          Best Param  \n",
       "0  {'criterion': 'entropy', 'max_features': 'log2...  \n",
       "1  {'criterion': 'entropy', 'max_features': 'log2...  \n",
       "2  {'criterion': 'gini', 'max_features': 'sqrt', ...  "
      ]
     },
     "execution_count": 106,
     "metadata": {},
     "output_type": "execute_result"
    }
   ],
   "source": [
    "temp5L_ROS = []\n",
    "\n",
    "y_train = df1_5L_ROS[['CGPA']]\n",
    "X_train = df1_5L_ROS.drop(columns=['CGPA'])\n",
    "\n",
    "y_test = df2_5L_ROS[['CGPA']]\n",
    "X_test = df2_5L_ROS.drop(columns=['CGPA'])\n",
    "\n",
    "for j in rand_states:\n",
    "    param_grid = {'n_estimators': [100, 200, 300, 400],\n",
    "                  'max_features': ['auto', 'sqrt', 'log2'],\n",
    "                  'criterion' :['gini', 'entropy']}\n",
    "\n",
    "    model = GridSearchCV(RandomForestClassifier(), param_grid, refit=True, n_jobs=-1, cv=10, verbose=1)\n",
    "    model.fit(X_train, y_train)\n",
    "    pred = model.predict(X_test)\n",
    "\n",
    "    acc = accuracy_score(y_test,pred)\n",
    "    pre = precision_score(y_test, pred, average='weighted')\n",
    "    recall = recall_score(y_test, pred, average='weighted')\n",
    "    f1 = f1_score(y_test, pred, average='weighted')\n",
    "    param = model.best_params_\n",
    "\n",
    "    temp5L_ROS.append([100,j,acc,pre,recall,f1,param])\n",
    "        \n",
    "df5L_ROS = pd.DataFrame(columns=['Test Size','Random State','Accuracy','Precision','Recall','F1 Score','Best Param'],data=temp5L_ROS)\n",
    "df5L_ROS"
   ]
  },
  {
   "cell_type": "code",
   "execution_count": 107,
   "id": "0a8f028d-06b5-43ca-8a62-2e7f05a4e073",
   "metadata": {},
   "outputs": [
    {
     "data": {
      "text/html": [
       "<div>\n",
       "<style scoped>\n",
       "    .dataframe tbody tr th:only-of-type {\n",
       "        vertical-align: middle;\n",
       "    }\n",
       "\n",
       "    .dataframe tbody tr th {\n",
       "        vertical-align: top;\n",
       "    }\n",
       "\n",
       "    .dataframe thead th {\n",
       "        text-align: right;\n",
       "    }\n",
       "</style>\n",
       "<table border=\"1\" class=\"dataframe\">\n",
       "  <thead>\n",
       "    <tr style=\"text-align: right;\">\n",
       "      <th></th>\n",
       "      <th>Accuracy</th>\n",
       "      <th>Precision</th>\n",
       "      <th>Recall</th>\n",
       "      <th>F1 Score</th>\n",
       "    </tr>\n",
       "    <tr>\n",
       "      <th>Test Size</th>\n",
       "      <th></th>\n",
       "      <th></th>\n",
       "      <th></th>\n",
       "      <th></th>\n",
       "    </tr>\n",
       "  </thead>\n",
       "  <tbody>\n",
       "    <tr>\n",
       "      <th>100</th>\n",
       "      <td>0.285612</td>\n",
       "      <td>0.328661</td>\n",
       "      <td>0.285612</td>\n",
       "      <td>0.230762</td>\n",
       "    </tr>\n",
       "  </tbody>\n",
       "</table>\n",
       "</div>"
      ],
      "text/plain": [
       "           Accuracy  Precision    Recall  F1 Score\n",
       "Test Size                                         \n",
       "100        0.285612   0.328661  0.285612  0.230762"
      ]
     },
     "execution_count": 107,
     "metadata": {},
     "output_type": "execute_result"
    }
   ],
   "source": [
    "df5L_ROS.groupby('Test Size')[['Accuracy','Precision','Recall','F1 Score']].mean()"
   ]
  },
  {
   "cell_type": "code",
   "execution_count": 108,
   "id": "f3210adb-ce6f-4a58-aed1-b25606c25025",
   "metadata": {},
   "outputs": [
    {
     "name": "stdout",
     "output_type": "stream",
     "text": [
      "All Attributes\n",
      "\n",
      "{'criterion': 'entropy', 'max_features': 'log2', 'n_estimators': 300}\n",
      "{'criterion': 'entropy', 'max_features': 'log2', 'n_estimators': 200}\n",
      "{'criterion': 'gini', 'max_features': 'sqrt', 'n_estimators': 200}\n"
     ]
    }
   ],
   "source": [
    "print(\"All Attributes\\n\")\n",
    "for x in df5L_ROS[\"Best Param\"]:\n",
    "    print(x)"
   ]
  },
  {
   "cell_type": "markdown",
   "id": "5732a1f3-f63e-4559-af0e-a07b0cc91353",
   "metadata": {},
   "source": [
    "### AA after SMOTE"
   ]
  },
  {
   "cell_type": "code",
   "execution_count": 109,
   "id": "9f561dda-42b8-4359-8302-a2ce78545c7d",
   "metadata": {},
   "outputs": [
    {
     "name": "stdout",
     "output_type": "stream",
     "text": [
      "Fitting 10 folds for each of 24 candidates, totalling 240 fits\n"
     ]
    },
    {
     "name": "stderr",
     "output_type": "stream",
     "text": [
      "C:\\Users\\hazel\\anaconda3\\Lib\\site-packages\\sklearn\\model_selection\\_search.py:909: DataConversionWarning: A column-vector y was passed when a 1d array was expected. Please change the shape of y to (n_samples,), for example using ravel().\n",
      "  self.best_estimator_.fit(X, y, **fit_params)\n"
     ]
    },
    {
     "name": "stdout",
     "output_type": "stream",
     "text": [
      "Fitting 10 folds for each of 24 candidates, totalling 240 fits\n"
     ]
    },
    {
     "name": "stderr",
     "output_type": "stream",
     "text": [
      "C:\\Users\\hazel\\anaconda3\\Lib\\site-packages\\sklearn\\model_selection\\_search.py:909: DataConversionWarning: A column-vector y was passed when a 1d array was expected. Please change the shape of y to (n_samples,), for example using ravel().\n",
      "  self.best_estimator_.fit(X, y, **fit_params)\n"
     ]
    },
    {
     "name": "stdout",
     "output_type": "stream",
     "text": [
      "Fitting 10 folds for each of 24 candidates, totalling 240 fits\n"
     ]
    },
    {
     "name": "stderr",
     "output_type": "stream",
     "text": [
      "C:\\Users\\hazel\\anaconda3\\Lib\\site-packages\\sklearn\\model_selection\\_search.py:909: DataConversionWarning: A column-vector y was passed when a 1d array was expected. Please change the shape of y to (n_samples,), for example using ravel().\n",
      "  self.best_estimator_.fit(X, y, **fit_params)\n",
      "C:\\Users\\hazel\\anaconda3\\Lib\\site-packages\\sklearn\\ensemble\\_forest.py:424: FutureWarning: `max_features='auto'` has been deprecated in 1.1 and will be removed in 1.3. To keep the past behaviour, explicitly set `max_features='sqrt'` or remove this parameter as it is also the default value for RandomForestClassifiers and ExtraTreesClassifiers.\n",
      "  warn(\n"
     ]
    },
    {
     "data": {
      "text/html": [
       "<div>\n",
       "<style scoped>\n",
       "    .dataframe tbody tr th:only-of-type {\n",
       "        vertical-align: middle;\n",
       "    }\n",
       "\n",
       "    .dataframe tbody tr th {\n",
       "        vertical-align: top;\n",
       "    }\n",
       "\n",
       "    .dataframe thead th {\n",
       "        text-align: right;\n",
       "    }\n",
       "</style>\n",
       "<table border=\"1\" class=\"dataframe\">\n",
       "  <thead>\n",
       "    <tr style=\"text-align: right;\">\n",
       "      <th></th>\n",
       "      <th>Test Size</th>\n",
       "      <th>Random State</th>\n",
       "      <th>Accuracy</th>\n",
       "      <th>Precision</th>\n",
       "      <th>Recall</th>\n",
       "      <th>F1 Score</th>\n",
       "      <th>Best Param</th>\n",
       "    </tr>\n",
       "  </thead>\n",
       "  <tbody>\n",
       "    <tr>\n",
       "      <th>0</th>\n",
       "      <td>100</td>\n",
       "      <td>7</td>\n",
       "      <td>0.338129</td>\n",
       "      <td>0.268420</td>\n",
       "      <td>0.338129</td>\n",
       "      <td>0.297391</td>\n",
       "      <td>{'criterion': 'gini', 'max_features': 'log2', ...</td>\n",
       "    </tr>\n",
       "    <tr>\n",
       "      <th>1</th>\n",
       "      <td>100</td>\n",
       "      <td>69</td>\n",
       "      <td>0.353957</td>\n",
       "      <td>0.281779</td>\n",
       "      <td>0.353957</td>\n",
       "      <td>0.312257</td>\n",
       "      <td>{'criterion': 'entropy', 'max_features': 'log2...</td>\n",
       "    </tr>\n",
       "    <tr>\n",
       "      <th>2</th>\n",
       "      <td>100</td>\n",
       "      <td>101</td>\n",
       "      <td>0.349640</td>\n",
       "      <td>0.276523</td>\n",
       "      <td>0.349640</td>\n",
       "      <td>0.308257</td>\n",
       "      <td>{'criterion': 'entropy', 'max_features': 'auto...</td>\n",
       "    </tr>\n",
       "  </tbody>\n",
       "</table>\n",
       "</div>"
      ],
      "text/plain": [
       "   Test Size  Random State  Accuracy  Precision    Recall  F1 Score  \\\n",
       "0        100             7  0.338129   0.268420  0.338129  0.297391   \n",
       "1        100            69  0.353957   0.281779  0.353957  0.312257   \n",
       "2        100           101  0.349640   0.276523  0.349640  0.308257   \n",
       "\n",
       "                                          Best Param  \n",
       "0  {'criterion': 'gini', 'max_features': 'log2', ...  \n",
       "1  {'criterion': 'entropy', 'max_features': 'log2...  \n",
       "2  {'criterion': 'entropy', 'max_features': 'auto...  "
      ]
     },
     "execution_count": 109,
     "metadata": {},
     "output_type": "execute_result"
    }
   ],
   "source": [
    "temp5L_SMOTE = []\n",
    "\n",
    "y_train = df1_5L_SMOTE[['CGPA']]\n",
    "X_train = df1_5L_SMOTE.drop(columns=['CGPA'])\n",
    "\n",
    "y_test = df2_5L_SMOTE[['CGPA']]\n",
    "X_test = df2_5L_SMOTE.drop(columns=['CGPA'])\n",
    "\n",
    "for j in rand_states:\n",
    "    param_grid = {'n_estimators': [100, 200, 300, 400],\n",
    "                  'max_features': ['auto', 'sqrt', 'log2'],\n",
    "                  'criterion' :['gini', 'entropy']}\n",
    "\n",
    "    model = GridSearchCV(RandomForestClassifier(), param_grid, refit=True, n_jobs=-1, cv=10, verbose=1)\n",
    "    model.fit(X_train, y_train)\n",
    "    pred = model.predict(X_test)\n",
    "\n",
    "    acc = accuracy_score(y_test,pred)\n",
    "    pre = precision_score(y_test, pred, average='weighted')\n",
    "    recall = recall_score(y_test, pred, average='weighted')\n",
    "    f1 = f1_score(y_test, pred, average='weighted')\n",
    "    param = model.best_params_\n",
    "\n",
    "    temp5L_SMOTE.append([100,j,acc,pre,recall,f1,param])\n",
    "        \n",
    "df5L_SMOTE = pd.DataFrame(columns=['Test Size','Random State','Accuracy','Precision','Recall','F1 Score','Best Param'],data=temp5L_SMOTE)\n",
    "df5L_SMOTE"
   ]
  },
  {
   "cell_type": "code",
   "execution_count": 110,
   "id": "22d8b00d-002a-4761-a37a-e8060777c880",
   "metadata": {},
   "outputs": [
    {
     "data": {
      "text/html": [
       "<div>\n",
       "<style scoped>\n",
       "    .dataframe tbody tr th:only-of-type {\n",
       "        vertical-align: middle;\n",
       "    }\n",
       "\n",
       "    .dataframe tbody tr th {\n",
       "        vertical-align: top;\n",
       "    }\n",
       "\n",
       "    .dataframe thead th {\n",
       "        text-align: right;\n",
       "    }\n",
       "</style>\n",
       "<table border=\"1\" class=\"dataframe\">\n",
       "  <thead>\n",
       "    <tr style=\"text-align: right;\">\n",
       "      <th></th>\n",
       "      <th>Accuracy</th>\n",
       "      <th>Precision</th>\n",
       "      <th>Recall</th>\n",
       "      <th>F1 Score</th>\n",
       "    </tr>\n",
       "    <tr>\n",
       "      <th>Test Size</th>\n",
       "      <th></th>\n",
       "      <th></th>\n",
       "      <th></th>\n",
       "      <th></th>\n",
       "    </tr>\n",
       "  </thead>\n",
       "  <tbody>\n",
       "    <tr>\n",
       "      <th>100</th>\n",
       "      <td>0.347242</td>\n",
       "      <td>0.275574</td>\n",
       "      <td>0.347242</td>\n",
       "      <td>0.305968</td>\n",
       "    </tr>\n",
       "  </tbody>\n",
       "</table>\n",
       "</div>"
      ],
      "text/plain": [
       "           Accuracy  Precision    Recall  F1 Score\n",
       "Test Size                                         \n",
       "100        0.347242   0.275574  0.347242  0.305968"
      ]
     },
     "execution_count": 110,
     "metadata": {},
     "output_type": "execute_result"
    }
   ],
   "source": [
    "df5L_SMOTE.groupby('Test Size')[['Accuracy','Precision','Recall','F1 Score']].mean()"
   ]
  },
  {
   "cell_type": "code",
   "execution_count": 111,
   "id": "750ec7f5-fdf2-493d-9b79-688e6d872b47",
   "metadata": {},
   "outputs": [
    {
     "name": "stdout",
     "output_type": "stream",
     "text": [
      "SMOTE All Attributes\n",
      "\n",
      "{'criterion': 'gini', 'max_features': 'log2', 'n_estimators': 300}\n",
      "{'criterion': 'entropy', 'max_features': 'log2', 'n_estimators': 300}\n",
      "{'criterion': 'entropy', 'max_features': 'auto', 'n_estimators': 400}\n"
     ]
    }
   ],
   "source": [
    "print(\"SMOTE All Attributes\\n\")\n",
    "for x in df5L_SMOTE[\"Best Param\"]:\n",
    "    print(x)"
   ]
  }
 ],
 "metadata": {
  "kernelspec": {
   "display_name": "Python 3 (ipykernel)",
   "language": "python",
   "name": "python3"
  },
  "language_info": {
   "codemirror_mode": {
    "name": "ipython",
    "version": 3
   },
   "file_extension": ".py",
   "mimetype": "text/x-python",
   "name": "python",
   "nbconvert_exporter": "python",
   "pygments_lexer": "ipython3",
   "version": "3.11.7"
  }
 },
 "nbformat": 4,
 "nbformat_minor": 5
}
