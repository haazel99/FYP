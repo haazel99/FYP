{
 "cells": [
  {
   "cell_type": "markdown",
   "id": "219972dd-cbcb-45ca-bc15-7397b78ec491",
   "metadata": {},
   "source": [
    "# Data Preprocessing for Survey1 (FYP1)"
   ]
  },
  {
   "cell_type": "markdown",
   "id": "ee9aedcc-6849-4f04-b2a1-3b23417be0a5",
   "metadata": {},
   "source": [
    "### Import Libraries"
   ]
  },
  {
   "cell_type": "code",
   "execution_count": 1,
   "id": "34996565",
   "metadata": {},
   "outputs": [
    {
     "name": "stdout",
     "output_type": "stream",
     "text": [
      "Requirement already satisfied: boruta in c:\\users\\hazel\\anaconda3\\lib\\site-packages (0.3)\n",
      "Requirement already satisfied: numpy>=1.10.4 in c:\\users\\hazel\\anaconda3\\lib\\site-packages (from boruta) (1.26.4)\n",
      "Requirement already satisfied: scikit-learn>=0.17.1 in c:\\users\\hazel\\anaconda3\\lib\\site-packages (from boruta) (1.2.2)\n",
      "Requirement already satisfied: scipy>=0.17.0 in c:\\users\\hazel\\anaconda3\\lib\\site-packages (from boruta) (1.11.4)\n",
      "Requirement already satisfied: joblib>=1.1.1 in c:\\users\\hazel\\anaconda3\\lib\\site-packages (from scikit-learn>=0.17.1->boruta) (1.2.0)\n",
      "Requirement already satisfied: threadpoolctl>=2.0.0 in c:\\users\\hazel\\anaconda3\\lib\\site-packages (from scikit-learn>=0.17.1->boruta) (2.2.0)\n"
     ]
    }
   ],
   "source": [
    "!pip install boruta"
   ]
  },
  {
   "cell_type": "code",
   "execution_count": 2,
   "id": "16344def-91ed-479c-9bc0-f8a249ca15e6",
   "metadata": {},
   "outputs": [],
   "source": [
    "import pandas as pd\n",
    "import numpy as np\n",
    "import matplotlib.pyplot as plt\n",
    "import seaborn as sns\n",
    "\n",
    "### Feature Selection\n",
    "from sklearn.preprocessing import MinMaxScaler\n",
    "from sklearn.ensemble import RandomForestClassifier\n",
    "from boruta import BorutaPy"
   ]
  },
  {
   "cell_type": "markdown",
   "id": "d0d92229-b170-435c-a39f-0844f55a4e08",
   "metadata": {},
   "source": [
    "# Data Preprocessing"
   ]
  },
  {
   "cell_type": "code",
   "execution_count": 3,
   "id": "99d95193-6cbd-4c85-9a4d-7b5af6e1cce7",
   "metadata": {},
   "outputs": [
    {
     "data": {
      "text/html": [
       "<div>\n",
       "<style scoped>\n",
       "    .dataframe tbody tr th:only-of-type {\n",
       "        vertical-align: middle;\n",
       "    }\n",
       "\n",
       "    .dataframe tbody tr th {\n",
       "        vertical-align: top;\n",
       "    }\n",
       "\n",
       "    .dataframe thead th {\n",
       "        text-align: right;\n",
       "    }\n",
       "</style>\n",
       "<table border=\"1\" class=\"dataframe\">\n",
       "  <thead>\n",
       "    <tr style=\"text-align: right;\">\n",
       "      <th></th>\n",
       "      <th>Timestamp</th>\n",
       "      <th>Email address</th>\n",
       "      <th>I have read and agree with the terms and conditions stated above.</th>\n",
       "      <th>Age</th>\n",
       "      <th>Gender</th>\n",
       "      <th>Nationality</th>\n",
       "      <th>Continent</th>\n",
       "      <th>Living Status</th>\n",
       "      <th>Home Town</th>\n",
       "      <th>Relationship Status</th>\n",
       "      <th>...</th>\n",
       "      <th>Study Behavior</th>\n",
       "      <th>Study Time</th>\n",
       "      <th>Extra Curricular Activities</th>\n",
       "      <th>Part-time Job</th>\n",
       "      <th>Commute Time</th>\n",
       "      <th>Gaming</th>\n",
       "      <th>Alcohol Consumption</th>\n",
       "      <th>I have enough free time after class.</th>\n",
       "      <th>Social Interaction</th>\n",
       "      <th>I hang out with friends.</th>\n",
       "    </tr>\n",
       "  </thead>\n",
       "  <tbody>\n",
       "    <tr>\n",
       "      <th>0</th>\n",
       "      <td>17/11/2023 15:43:34</td>\n",
       "      <td>1191100202@student.mmu.edu.my</td>\n",
       "      <td>Yes</td>\n",
       "      <td>21 - 23</td>\n",
       "      <td>Female</td>\n",
       "      <td>Malaysian</td>\n",
       "      <td>NaN</td>\n",
       "      <td>Alone</td>\n",
       "      <td>Urban</td>\n",
       "      <td>No</td>\n",
       "      <td>...</td>\n",
       "      <td>Alone</td>\n",
       "      <td>More than 8</td>\n",
       "      <td>Yes</td>\n",
       "      <td>Yes</td>\n",
       "      <td>Less than 10</td>\n",
       "      <td>Non-gamer</td>\n",
       "      <td>Non-drinker</td>\n",
       "      <td>1</td>\n",
       "      <td>1</td>\n",
       "      <td>3</td>\n",
       "    </tr>\n",
       "    <tr>\n",
       "      <th>1</th>\n",
       "      <td>17/11/2023 15:52:22</td>\n",
       "      <td>1191100706@student.mmu.edu.my</td>\n",
       "      <td>Yes</td>\n",
       "      <td>21 - 23</td>\n",
       "      <td>Female</td>\n",
       "      <td>Malaysian</td>\n",
       "      <td>NaN</td>\n",
       "      <td>Friend or roommate</td>\n",
       "      <td>Urban</td>\n",
       "      <td>No</td>\n",
       "      <td>...</td>\n",
       "      <td>Alone</td>\n",
       "      <td>2 - 5</td>\n",
       "      <td>No</td>\n",
       "      <td>No</td>\n",
       "      <td>10 - 30</td>\n",
       "      <td>Moderate</td>\n",
       "      <td>Non-drinker</td>\n",
       "      <td>1</td>\n",
       "      <td>3</td>\n",
       "      <td>2</td>\n",
       "    </tr>\n",
       "    <tr>\n",
       "      <th>2</th>\n",
       "      <td>17/11/2023 15:54:03</td>\n",
       "      <td>1191101787@student.mmu.edu.my</td>\n",
       "      <td>Yes</td>\n",
       "      <td>21 - 23</td>\n",
       "      <td>Male</td>\n",
       "      <td>Malaysian</td>\n",
       "      <td>NaN</td>\n",
       "      <td>Friend or roommate</td>\n",
       "      <td>Urban</td>\n",
       "      <td>Yes</td>\n",
       "      <td>...</td>\n",
       "      <td>Alone</td>\n",
       "      <td>Less than 2</td>\n",
       "      <td>No</td>\n",
       "      <td>No</td>\n",
       "      <td>10 - 30</td>\n",
       "      <td>Light</td>\n",
       "      <td>Sometimes</td>\n",
       "      <td>3</td>\n",
       "      <td>1</td>\n",
       "      <td>1</td>\n",
       "    </tr>\n",
       "    <tr>\n",
       "      <th>3</th>\n",
       "      <td>17/11/2023 15:59:42</td>\n",
       "      <td>1191102623@student.mmu.edu.my</td>\n",
       "      <td>Yes</td>\n",
       "      <td>24 - 26</td>\n",
       "      <td>Male</td>\n",
       "      <td>Non-Malaysian</td>\n",
       "      <td>Asia</td>\n",
       "      <td>Friend or roommate</td>\n",
       "      <td>Urban</td>\n",
       "      <td>No</td>\n",
       "      <td>...</td>\n",
       "      <td>Alone</td>\n",
       "      <td>Less than 2</td>\n",
       "      <td>No</td>\n",
       "      <td>No</td>\n",
       "      <td>Less than 10</td>\n",
       "      <td>Non-gamer</td>\n",
       "      <td>Non-drinker</td>\n",
       "      <td>3</td>\n",
       "      <td>1</td>\n",
       "      <td>2</td>\n",
       "    </tr>\n",
       "    <tr>\n",
       "      <th>4</th>\n",
       "      <td>17/11/2023 16:05:31</td>\n",
       "      <td>1191101436@student.mmu.edu.my</td>\n",
       "      <td>Yes</td>\n",
       "      <td>21 - 23</td>\n",
       "      <td>Male</td>\n",
       "      <td>Malaysian</td>\n",
       "      <td>NaN</td>\n",
       "      <td>Family</td>\n",
       "      <td>Urban</td>\n",
       "      <td>No</td>\n",
       "      <td>...</td>\n",
       "      <td>Alone</td>\n",
       "      <td>Less than 2</td>\n",
       "      <td>Yes</td>\n",
       "      <td>No</td>\n",
       "      <td>30 - 60</td>\n",
       "      <td>Heavy</td>\n",
       "      <td>Non-drinker</td>\n",
       "      <td>5</td>\n",
       "      <td>3</td>\n",
       "      <td>3</td>\n",
       "    </tr>\n",
       "  </tbody>\n",
       "</table>\n",
       "<p>5 rows × 45 columns</p>\n",
       "</div>"
      ],
      "text/plain": [
       "             Timestamp                  Email address  \\\n",
       "0  17/11/2023 15:43:34  1191100202@student.mmu.edu.my   \n",
       "1  17/11/2023 15:52:22  1191100706@student.mmu.edu.my   \n",
       "2  17/11/2023 15:54:03  1191101787@student.mmu.edu.my   \n",
       "3  17/11/2023 15:59:42  1191102623@student.mmu.edu.my   \n",
       "4  17/11/2023 16:05:31  1191101436@student.mmu.edu.my   \n",
       "\n",
       "  I have read and agree with the terms and conditions stated above.      Age  \\\n",
       "0                                                Yes                 21 - 23   \n",
       "1                                                Yes                 21 - 23   \n",
       "2                                                Yes                 21 - 23   \n",
       "3                                                Yes                 24 - 26   \n",
       "4                                                Yes                 21 - 23   \n",
       "\n",
       "   Gender    Nationality Continent       Living Status Home Town  \\\n",
       "0  Female      Malaysian       NaN               Alone     Urban   \n",
       "1  Female      Malaysian       NaN  Friend or roommate     Urban   \n",
       "2    Male      Malaysian       NaN  Friend or roommate     Urban   \n",
       "3    Male  Non-Malaysian      Asia  Friend or roommate     Urban   \n",
       "4    Male      Malaysian       NaN              Family     Urban   \n",
       "\n",
       "  Relationship Status  ... Study Behavior   Study Time  \\\n",
       "0                  No  ...          Alone  More than 8   \n",
       "1                  No  ...          Alone        2 - 5   \n",
       "2                 Yes  ...          Alone  Less than 2   \n",
       "3                  No  ...          Alone  Less than 2   \n",
       "4                  No  ...          Alone  Less than 2   \n",
       "\n",
       "  Extra Curricular Activities Part-time Job   Commute Time     Gaming  \\\n",
       "0                         Yes            Yes  Less than 10  Non-gamer   \n",
       "1                          No             No       10 - 30   Moderate   \n",
       "2                          No             No       10 - 30      Light   \n",
       "3                          No             No  Less than 10  Non-gamer   \n",
       "4                         Yes             No       30 - 60      Heavy   \n",
       "\n",
       "   Alcohol Consumption  I have enough free time after class.  \\\n",
       "0          Non-drinker                                     1   \n",
       "1          Non-drinker                                     1   \n",
       "2            Sometimes                                     3   \n",
       "3          Non-drinker                                     3   \n",
       "4          Non-drinker                                     5   \n",
       "\n",
       "   Social Interaction I hang out with friends.  \n",
       "0                   1                        3  \n",
       "1                   3                        2  \n",
       "2                   1                        1  \n",
       "3                   1                        2  \n",
       "4                   3                        3  \n",
       "\n",
       "[5 rows x 45 columns]"
      ]
     },
     "execution_count": 3,
     "metadata": {},
     "output_type": "execute_result"
    }
   ],
   "source": [
    "df = pd.read_csv('Survey1.csv')\n",
    "df.head()"
   ]
  },
  {
   "cell_type": "code",
   "execution_count": 4,
   "id": "7a005ce2-e5ed-4414-bb44-7503a9af7dcc",
   "metadata": {},
   "outputs": [
    {
     "name": "stdout",
     "output_type": "stream",
     "text": [
      "<class 'pandas.core.frame.DataFrame'>\n",
      "RangeIndex: 802 entries, 0 to 801\n",
      "Data columns (total 45 columns):\n",
      " #   Column                                                             Non-Null Count  Dtype \n",
      "---  ------                                                             --------------  ----- \n",
      " 0   Timestamp                                                          802 non-null    object\n",
      " 1   Email address                                                      802 non-null    object\n",
      " 2   I have read and agree with the terms and conditions stated above.  802 non-null    object\n",
      " 3   Age                                                                802 non-null    object\n",
      " 4   Gender                                                             802 non-null    object\n",
      " 5   Nationality                                                        802 non-null    object\n",
      " 6   Continent                                                          106 non-null    object\n",
      " 7   Living Status                                                      802 non-null    object\n",
      " 8   Home Town                                                          802 non-null    object\n",
      " 9   Relationship Status                                                802 non-null    object\n",
      " 10  Faculty                                                            802 non-null    object\n",
      " 11  Education Level                                                    802 non-null    object\n",
      " 12  Years of Study                                                     802 non-null    object\n",
      " 13  Completed Credit Hours                                             802 non-null    object\n",
      " 14  CGPA                                                               673 non-null    object\n",
      " 15  Number of Subjects Failed                                          802 non-null    object\n",
      " 16  SPM Result (A)                                                     802 non-null    int64 \n",
      " 17  SPM Result (B)                                                     802 non-null    int64 \n",
      " 18  SPM Result (C)                                                     802 non-null    int64 \n",
      " 19  Scholarship                                                        802 non-null    object\n",
      " 20  PTPTN                                                              802 non-null    object\n",
      " 21  Reason Study at Multimedia University                              802 non-null    object\n",
      " 22  Lecture Class Capacity                                             802 non-null    object\n",
      " 23  Tutorial Class Capacity                                            802 non-null    object\n",
      " 24  Skipping Class                                                     428 non-null    object\n",
      " 25  Classroom Environment                                              802 non-null    object\n",
      " 26  Campus Environment                                                 802 non-null    object\n",
      " 27  Additional Course                                                  802 non-null    object\n",
      " 28  Family Size                                                        802 non-null    object\n",
      " 29  Parent's Education Level [Father]                                  798 non-null    object\n",
      " 30  Parent's Education Level [Mother]                                  798 non-null    object\n",
      " 31  Father's Occupation                                                801 non-null    object\n",
      " 32  Mother's Occupation                                                802 non-null    object\n",
      " 33  Financial Difficulties                                             802 non-null    object\n",
      " 34  Financial Support                                                  802 non-null    object\n",
      " 35  Study Behavior                                                     802 non-null    object\n",
      " 36  Study Time                                                         802 non-null    object\n",
      " 37  Extra Curricular Activities                                        802 non-null    object\n",
      " 38  Part-time Job                                                      802 non-null    object\n",
      " 39  Commute Time                                                       802 non-null    object\n",
      " 40  Gaming                                                             802 non-null    object\n",
      " 41  Alcohol Consumption                                                802 non-null    object\n",
      " 42  I have enough free time after class.                               802 non-null    int64 \n",
      " 43  Social Interaction                                                 802 non-null    int64 \n",
      " 44  I hang out with friends.                                           802 non-null    int64 \n",
      "dtypes: int64(6), object(39)\n",
      "memory usage: 282.1+ KB\n"
     ]
    }
   ],
   "source": [
    "df.info()"
   ]
  },
  {
   "cell_type": "code",
   "execution_count": 5,
   "id": "76411bb0-6585-4009-bcde-8fb341326aa7",
   "metadata": {},
   "outputs": [
    {
     "data": {
      "text/plain": [
       "Timestamp                                                              0\n",
       "Email address                                                          0\n",
       "I have read and agree with the terms and conditions stated above.      0\n",
       "Age                                                                    0\n",
       "Gender                                                                 0\n",
       "Nationality                                                            0\n",
       "Continent                                                            696\n",
       "Living Status                                                          0\n",
       "Home Town                                                              0\n",
       "Relationship Status                                                    0\n",
       "Faculty                                                                0\n",
       "Education Level                                                        0\n",
       "Years of Study                                                         0\n",
       "Completed Credit Hours                                                 0\n",
       "CGPA                                                                 129\n",
       "Number of Subjects Failed                                              0\n",
       "SPM Result (A)                                                         0\n",
       "SPM Result (B)                                                         0\n",
       "SPM Result (C)                                                         0\n",
       "Scholarship                                                            0\n",
       "PTPTN                                                                  0\n",
       "Reason Study at Multimedia University                                  0\n",
       "Lecture Class Capacity                                                 0\n",
       "Tutorial Class Capacity                                                0\n",
       "Skipping Class                                                       374\n",
       "Classroom Environment                                                  0\n",
       "Campus Environment                                                     0\n",
       "Additional Course                                                      0\n",
       "Family Size                                                            0\n",
       "Parent's Education Level [Father]                                      4\n",
       "Parent's Education Level [Mother]                                      4\n",
       "Father's Occupation                                                    1\n",
       "Mother's Occupation                                                    0\n",
       "Financial Difficulties                                                 0\n",
       "Financial Support                                                      0\n",
       "Study Behavior                                                         0\n",
       "Study Time                                                             0\n",
       "Extra Curricular Activities                                            0\n",
       "Part-time Job                                                          0\n",
       "Commute Time                                                           0\n",
       "Gaming                                                                 0\n",
       "Alcohol Consumption                                                    0\n",
       "I have enough free time after class.                                   0\n",
       "Social Interaction                                                     0\n",
       "I hang out with friends.                                               0\n",
       "dtype: int64"
      ]
     },
     "execution_count": 5,
     "metadata": {},
     "output_type": "execute_result"
    }
   ],
   "source": [
    "df.isnull().sum()"
   ]
  },
  {
   "cell_type": "code",
   "execution_count": 6,
   "id": "30b88f20-dcbc-4a2f-81ce-5aa4a2064a0e",
   "metadata": {},
   "outputs": [],
   "source": [
    "df.rename(columns={\"Parent's Education Level [Father]\": \"Parent's Education Level.Father\"}, inplace=True)"
   ]
  },
  {
   "cell_type": "code",
   "execution_count": 7,
   "id": "527e22df-1dc2-4a3d-b828-3d8c67f5025b",
   "metadata": {},
   "outputs": [],
   "source": [
    "df.rename(columns={\"Parent's Education Level [Mother]\": \"Parent's Education Level.Mother\"}, inplace=True)\n",
    "df.rename(columns={'I have enough free time after class.': 'I have enough free time after class'}, inplace=True)\n",
    "df.rename(columns={'I hang out with friends.': 'I hang out with friends'}, inplace=True)"
   ]
  },
  {
   "cell_type": "code",
   "execution_count": 8,
   "id": "5c0e1a01-451b-4364-801c-8b6487415cc8",
   "metadata": {},
   "outputs": [],
   "source": [
    "df['CGPA'] = df['CGPA'].fillna('None')\n",
    "df['Skipping Class'] = df['Skipping Class'].fillna('None')\n",
    "df[\"Parent's Education Level.Father\"] = df[\"Parent's Education Level.Father\"].fillna('None')\n",
    "df[\"Parent's Education Level.Mother\"] = df[\"Parent's Education Level.Mother\"].fillna('None')\n",
    "df[\"Father's Occupation\"] = df[\"Father's Occupation\"].fillna('None')"
   ]
  },
  {
   "cell_type": "code",
   "execution_count": 9,
   "id": "4fdb89d6-0f40-4764-a850-27ff0253b776",
   "metadata": {},
   "outputs": [
    {
     "data": {
      "text/plain": [
       "Timestamp                                                              0\n",
       "Email address                                                          0\n",
       "I have read and agree with the terms and conditions stated above.      0\n",
       "Age                                                                    0\n",
       "Gender                                                                 0\n",
       "Nationality                                                            0\n",
       "Continent                                                            696\n",
       "Living Status                                                          0\n",
       "Home Town                                                              0\n",
       "Relationship Status                                                    0\n",
       "Faculty                                                                0\n",
       "Education Level                                                        0\n",
       "Years of Study                                                         0\n",
       "Completed Credit Hours                                                 0\n",
       "CGPA                                                                   0\n",
       "Number of Subjects Failed                                              0\n",
       "SPM Result (A)                                                         0\n",
       "SPM Result (B)                                                         0\n",
       "SPM Result (C)                                                         0\n",
       "Scholarship                                                            0\n",
       "PTPTN                                                                  0\n",
       "Reason Study at Multimedia University                                  0\n",
       "Lecture Class Capacity                                                 0\n",
       "Tutorial Class Capacity                                                0\n",
       "Skipping Class                                                         0\n",
       "Classroom Environment                                                  0\n",
       "Campus Environment                                                     0\n",
       "Additional Course                                                      0\n",
       "Family Size                                                            0\n",
       "Parent's Education Level.Father                                        0\n",
       "Parent's Education Level.Mother                                        0\n",
       "Father's Occupation                                                    0\n",
       "Mother's Occupation                                                    0\n",
       "Financial Difficulties                                                 0\n",
       "Financial Support                                                      0\n",
       "Study Behavior                                                         0\n",
       "Study Time                                                             0\n",
       "Extra Curricular Activities                                            0\n",
       "Part-time Job                                                          0\n",
       "Commute Time                                                           0\n",
       "Gaming                                                                 0\n",
       "Alcohol Consumption                                                    0\n",
       "I have enough free time after class                                    0\n",
       "Social Interaction                                                     0\n",
       "I hang out with friends                                                0\n",
       "dtype: int64"
      ]
     },
     "execution_count": 9,
     "metadata": {},
     "output_type": "execute_result"
    }
   ],
   "source": [
    "df.isnull().sum()"
   ]
  },
  {
   "cell_type": "code",
   "execution_count": 10,
   "id": "f9c1e6d0-b413-473b-9ddc-c8e1dea3579e",
   "metadata": {},
   "outputs": [],
   "source": [
    "cleaning = df.copy()"
   ]
  },
  {
   "cell_type": "code",
   "execution_count": 11,
   "id": "e8c978c4-2258-49f1-9447-842056d24f2e",
   "metadata": {},
   "outputs": [],
   "source": [
    "cleaning.columns = cleaning.columns.str.rstrip()"
   ]
  },
  {
   "cell_type": "code",
   "execution_count": 12,
   "id": "ca9dfac1-b5c4-465e-843a-da06c21db1ec",
   "metadata": {},
   "outputs": [],
   "source": [
    "cleaning.rename(columns = {'Classroom Environment':'Classroom Facilities'}, inplace = True)"
   ]
  },
  {
   "cell_type": "code",
   "execution_count": 13,
   "id": "0b56dd9b-83de-43ca-8aec-3c26560e5d2c",
   "metadata": {},
   "outputs": [],
   "source": [
    "cleaning.drop(['Timestamp', 'Email address', 'I have read and agree with the terms and conditions stated above.'], axis=1, inplace = True)"
   ]
  },
  {
   "cell_type": "code",
   "execution_count": 14,
   "id": "4c30aa88-cfdc-443b-9b35-6e8ed8961db5",
   "metadata": {},
   "outputs": [
    {
     "name": "stdout",
     "output_type": "stream",
     "text": [
      "<class 'pandas.core.frame.DataFrame'>\n",
      "RangeIndex: 802 entries, 0 to 801\n",
      "Data columns (total 42 columns):\n",
      " #   Column                                 Non-Null Count  Dtype \n",
      "---  ------                                 --------------  ----- \n",
      " 0   Age                                    802 non-null    object\n",
      " 1   Gender                                 802 non-null    object\n",
      " 2   Nationality                            802 non-null    object\n",
      " 3   Continent                              106 non-null    object\n",
      " 4   Living Status                          802 non-null    object\n",
      " 5   Home Town                              802 non-null    object\n",
      " 6   Relationship Status                    802 non-null    object\n",
      " 7   Faculty                                802 non-null    object\n",
      " 8   Education Level                        802 non-null    object\n",
      " 9   Years of Study                         802 non-null    object\n",
      " 10  Completed Credit Hours                 802 non-null    object\n",
      " 11  CGPA                                   802 non-null    object\n",
      " 12  Number of Subjects Failed              802 non-null    object\n",
      " 13  SPM Result (A)                         802 non-null    int64 \n",
      " 14  SPM Result (B)                         802 non-null    int64 \n",
      " 15  SPM Result (C)                         802 non-null    int64 \n",
      " 16  Scholarship                            802 non-null    object\n",
      " 17  PTPTN                                  802 non-null    object\n",
      " 18  Reason Study at Multimedia University  802 non-null    object\n",
      " 19  Lecture Class Capacity                 802 non-null    object\n",
      " 20  Tutorial Class Capacity                802 non-null    object\n",
      " 21  Skipping Class                         802 non-null    object\n",
      " 22  Classroom Facilities                   802 non-null    object\n",
      " 23  Campus Environment                     802 non-null    object\n",
      " 24  Additional Course                      802 non-null    object\n",
      " 25  Family Size                            802 non-null    object\n",
      " 26  Parent's Education Level.Father        802 non-null    object\n",
      " 27  Parent's Education Level.Mother        802 non-null    object\n",
      " 28  Father's Occupation                    802 non-null    object\n",
      " 29  Mother's Occupation                    802 non-null    object\n",
      " 30  Financial Difficulties                 802 non-null    object\n",
      " 31  Financial Support                      802 non-null    object\n",
      " 32  Study Behavior                         802 non-null    object\n",
      " 33  Study Time                             802 non-null    object\n",
      " 34  Extra Curricular Activities            802 non-null    object\n",
      " 35  Part-time Job                          802 non-null    object\n",
      " 36  Commute Time                           802 non-null    object\n",
      " 37  Gaming                                 802 non-null    object\n",
      " 38  Alcohol Consumption                    802 non-null    object\n",
      " 39  I have enough free time after class    802 non-null    int64 \n",
      " 40  Social Interaction                     802 non-null    int64 \n",
      " 41  I hang out with friends                802 non-null    int64 \n",
      "dtypes: int64(6), object(36)\n",
      "memory usage: 263.3+ KB\n"
     ]
    }
   ],
   "source": [
    "cleaning.info()"
   ]
  },
  {
   "cell_type": "code",
   "execution_count": 15,
   "id": "18a92e1b-011f-4fb9-b89d-49696fbbe556",
   "metadata": {},
   "outputs": [],
   "source": [
    "cleaning['SPM Result (A)'] = cleaning['SPM Result (A)'].apply(str)\n",
    "cleaning['SPM Result (B)'] = cleaning['SPM Result (B)'].apply(str)\n",
    "cleaning['SPM Result (C)'] = cleaning['SPM Result (C)'].apply(str)\n",
    "cleaning['I have enough free time after class'] = cleaning['I have enough free time after class'].apply(str)\n",
    "cleaning['Social Interaction'] = cleaning['Social Interaction'].apply(str)\n",
    "cleaning['I hang out with friends'] = cleaning['I hang out with friends'].apply(str)"
   ]
  },
  {
   "cell_type": "code",
   "execution_count": 16,
   "id": "dafe3348-6fd2-4674-bc59-9b06cd73b70b",
   "metadata": {},
   "outputs": [
    {
     "data": {
      "text/plain": [
       "Nationality\n",
       "Malaysian        763\n",
       "Non-Malaysian     39\n",
       "Name: count, dtype: int64"
      ]
     },
     "execution_count": 16,
     "metadata": {},
     "output_type": "execute_result"
    }
   ],
   "source": [
    "cleaning.Nationality.value_counts()"
   ]
  },
  {
   "cell_type": "code",
   "execution_count": 17,
   "id": "01df8ef2-28b2-48e2-bec7-f94ebf3bc11b",
   "metadata": {},
   "outputs": [],
   "source": [
    "malaysian = cleaning.loc[(cleaning['Nationality'] == 'Malaysian') & (cleaning['Continent'].str.contains(''))]\n",
    "\n",
    "to_replace = {'Asia': np.nan, 'Europe': np.nan, 'Australia': np.nan}\n",
    "\n",
    "for key, value in to_replace.items():\n",
    "    malaysian = malaysian.replace(key, value)"
   ]
  },
  {
   "cell_type": "code",
   "execution_count": 18,
   "id": "b31f2687-65a0-4686-923d-320ca278aac4",
   "metadata": {},
   "outputs": [],
   "source": [
    "continent = cleaning[(cleaning['Nationality'] == 'Malaysian') & (cleaning['Continent'].str.contains(''))].index\n",
    "cleaning.drop(continent , inplace=True)"
   ]
  },
  {
   "cell_type": "code",
   "execution_count": 19,
   "id": "963a2b9a-fb4a-4b32-af04-437040e02d2a",
   "metadata": {},
   "outputs": [],
   "source": [
    "frames = [malaysian, cleaning]\n",
    "\n",
    "cleaned = pd.concat(frames)\n",
    "\n",
    "cleaned = cleaned.reset_index(drop = True)"
   ]
  },
  {
   "cell_type": "code",
   "execution_count": 20,
   "id": "68a4b69c-62d6-4166-beec-acbf212c6dd5",
   "metadata": {},
   "outputs": [
    {
     "data": {
      "text/plain": [
       "Age                                        0\n",
       "Gender                                     0\n",
       "Nationality                                0\n",
       "Continent                                761\n",
       "Living Status                              0\n",
       "Home Town                                  0\n",
       "Relationship Status                        0\n",
       "Faculty                                    0\n",
       "Education Level                            0\n",
       "Years of Study                             0\n",
       "Completed Credit Hours                     0\n",
       "CGPA                                       0\n",
       "Number of Subjects Failed                  0\n",
       "SPM Result (A)                             0\n",
       "SPM Result (B)                             0\n",
       "SPM Result (C)                             0\n",
       "Scholarship                                0\n",
       "PTPTN                                      0\n",
       "Reason Study at Multimedia University      0\n",
       "Lecture Class Capacity                     0\n",
       "Tutorial Class Capacity                    0\n",
       "Skipping Class                             0\n",
       "Classroom Facilities                       0\n",
       "Campus Environment                         0\n",
       "Additional Course                          0\n",
       "Family Size                                0\n",
       "Parent's Education Level.Father            0\n",
       "Parent's Education Level.Mother            0\n",
       "Father's Occupation                        0\n",
       "Mother's Occupation                        0\n",
       "Financial Difficulties                     0\n",
       "Financial Support                          0\n",
       "Study Behavior                             0\n",
       "Study Time                                 0\n",
       "Extra Curricular Activities                0\n",
       "Part-time Job                              0\n",
       "Commute Time                               0\n",
       "Gaming                                     0\n",
       "Alcohol Consumption                        0\n",
       "I have enough free time after class        0\n",
       "Social Interaction                         0\n",
       "I hang out with friends                    0\n",
       "dtype: int64"
      ]
     },
     "execution_count": 20,
     "metadata": {},
     "output_type": "execute_result"
    }
   ],
   "source": [
    "cleaned.isnull().sum()"
   ]
  },
  {
   "cell_type": "code",
   "execution_count": 21,
   "id": "38d2ff79-cb09-4a4e-b146-d3e1973abb8c",
   "metadata": {},
   "outputs": [],
   "source": [
    "# Since Continent has 761 NaN, 761/802 = 0.95 of NaN, hence column continent can be dropped\n",
    "\n",
    "cleaned.drop(['Continent'], axis=1, inplace = True)"
   ]
  },
  {
   "cell_type": "code",
   "execution_count": 22,
   "id": "a08a6314-e1e2-4339-bddb-47de46237162",
   "metadata": {},
   "outputs": [
    {
     "name": "stdout",
     "output_type": "stream",
     "text": [
      "<class 'pandas.core.frame.DataFrame'>\n",
      "RangeIndex: 802 entries, 0 to 801\n",
      "Data columns (total 41 columns):\n",
      " #   Column                                 Non-Null Count  Dtype \n",
      "---  ------                                 --------------  ----- \n",
      " 0   Age                                    802 non-null    object\n",
      " 1   Gender                                 802 non-null    object\n",
      " 2   Nationality                            802 non-null    object\n",
      " 3   Living Status                          802 non-null    object\n",
      " 4   Home Town                              802 non-null    object\n",
      " 5   Relationship Status                    802 non-null    object\n",
      " 6   Faculty                                802 non-null    object\n",
      " 7   Education Level                        802 non-null    object\n",
      " 8   Years of Study                         802 non-null    object\n",
      " 9   Completed Credit Hours                 802 non-null    object\n",
      " 10  CGPA                                   802 non-null    object\n",
      " 11  Number of Subjects Failed              802 non-null    object\n",
      " 12  SPM Result (A)                         802 non-null    object\n",
      " 13  SPM Result (B)                         802 non-null    object\n",
      " 14  SPM Result (C)                         802 non-null    object\n",
      " 15  Scholarship                            802 non-null    object\n",
      " 16  PTPTN                                  802 non-null    object\n",
      " 17  Reason Study at Multimedia University  802 non-null    object\n",
      " 18  Lecture Class Capacity                 802 non-null    object\n",
      " 19  Tutorial Class Capacity                802 non-null    object\n",
      " 20  Skipping Class                         802 non-null    object\n",
      " 21  Classroom Facilities                   802 non-null    object\n",
      " 22  Campus Environment                     802 non-null    object\n",
      " 23  Additional Course                      802 non-null    object\n",
      " 24  Family Size                            802 non-null    object\n",
      " 25  Parent's Education Level.Father        802 non-null    object\n",
      " 26  Parent's Education Level.Mother        802 non-null    object\n",
      " 27  Father's Occupation                    802 non-null    object\n",
      " 28  Mother's Occupation                    802 non-null    object\n",
      " 29  Financial Difficulties                 802 non-null    object\n",
      " 30  Financial Support                      802 non-null    object\n",
      " 31  Study Behavior                         802 non-null    object\n",
      " 32  Study Time                             802 non-null    object\n",
      " 33  Extra Curricular Activities            802 non-null    object\n",
      " 34  Part-time Job                          802 non-null    object\n",
      " 35  Commute Time                           802 non-null    object\n",
      " 36  Gaming                                 802 non-null    object\n",
      " 37  Alcohol Consumption                    802 non-null    object\n",
      " 38  I have enough free time after class    802 non-null    object\n",
      " 39  Social Interaction                     802 non-null    object\n",
      " 40  I hang out with friends                802 non-null    object\n",
      "dtypes: object(41)\n",
      "memory usage: 257.0+ KB\n"
     ]
    }
   ],
   "source": [
    "cleaned.info()"
   ]
  },
  {
   "cell_type": "code",
   "execution_count": 23,
   "id": "c8a0271c-377d-4674-a9c2-6239873fbe72",
   "metadata": {},
   "outputs": [],
   "source": [
    "from sklearn import preprocessing\n",
    "label_encoder = preprocessing.LabelEncoder()"
   ]
  },
  {
   "cell_type": "markdown",
   "id": "73066d26-f6cb-4abd-87db-4fa27be96f5f",
   "metadata": {},
   "source": [
    "# Binary Classification Preprocessing"
   ]
  },
  {
   "cell_type": "markdown",
   "id": "039fe433-376c-4dd2-8ca7-06a76acdfb54",
   "metadata": {},
   "source": [
    "## Binary Data Transformation"
   ]
  },
  {
   "cell_type": "code",
   "execution_count": 24,
   "id": "f7356d19-9dad-45e3-9496-6a348040e805",
   "metadata": {},
   "outputs": [],
   "source": [
    "none = cleaned.loc[(cleaned['CGPA'] == 'None')].index\n",
    "tclasses1 = cleaned.copy()\n",
    "tclasses1.drop(none, inplace = True)"
   ]
  },
  {
   "cell_type": "code",
   "execution_count": 25,
   "id": "9c467b97-1eed-4e56-a8e3-4bd3c20392b3",
   "metadata": {},
   "outputs": [],
   "source": [
    "tclasses1.to_csv('CSurvey1.csv', index = False)"
   ]
  },
  {
   "cell_type": "code",
   "execution_count": 26,
   "id": "615dab90-e964-4c16-8513-9050e7c53688",
   "metadata": {},
   "outputs": [],
   "source": [
    "tclasses1 = tclasses1.replace('Below Par', 'Fail')\n",
    "tclasses1 = tclasses1.replace(['Low', 'Average', 'Good', 'Very Good'], 'Pass')"
   ]
  },
  {
   "cell_type": "code",
   "execution_count": 27,
   "id": "e00c389f-b8b3-4932-b105-1e39e3311891",
   "metadata": {},
   "outputs": [],
   "source": [
    "CSurvey1_Trans_Binary_imb = tclasses1.copy()\n",
    "tcate1_imb = CSurvey1_Trans_Binary_imb.select_dtypes(include=['object'])\n",
    "CSurvey1_Trans_Binary_imb = tcate1_imb.apply(label_encoder.fit_transform)"
   ]
  },
  {
   "cell_type": "code",
   "execution_count": 28,
   "id": "ddd2be8b-58ee-41f7-b63a-e3acea3e62a1",
   "metadata": {},
   "outputs": [],
   "source": [
    "# CSurvey1_Trans_Binary_imb.to_csv('CSurvey1_Trans_Binary_imb.csv', index = False)"
   ]
  },
  {
   "cell_type": "markdown",
   "id": "c7261e0d-012e-4d86-b92f-8eb3c30e7d25",
   "metadata": {},
   "source": [
    "## Binary Data Balancing using RandomOverSampler"
   ]
  },
  {
   "cell_type": "code",
   "execution_count": 29,
   "id": "2b23da82-3533-4b31-a943-c08ac3ec972f",
   "metadata": {},
   "outputs": [
    {
     "data": {
      "image/png": "[encoded data removed]",
      "text/plain": [
       "<Figure size 700x500 with 1 Axes>"
      ]
     },
     "metadata": {},
     "output_type": "display_data"
    }
   ],
   "source": [
    "plt.figure(figsize = (7,5))\n",
    "plt.title(\"Before Oversampling\")\n",
    "ax = sns.countplot(x = 'CGPA', data = tclasses1)\n",
    "\n",
    "for container in ax.containers:\n",
    "    ax.bar_label(container)\n",
    "\n",
    "plt.savefig('Dataset 1 Before Oversampling.png', dpi=300)\n",
    "plt.show()"
   ]
  },
  {
   "cell_type": "code",
   "execution_count": 30,
   "id": "2714d51d-b8b4-4c9d-b662-c00886953de5",
   "metadata": {},
   "outputs": [],
   "source": [
    "t_y = tclasses1.CGPA\n",
    "t_X = tclasses1.drop(\"CGPA\", axis = 1)\n",
    "t_colnames = t_X.columns"
   ]
  },
  {
   "cell_type": "code",
   "execution_count": 31,
   "id": "92f08920-30c7-4052-8486-50aee1583561",
   "metadata": {},
   "outputs": [],
   "source": [
    "from imblearn.over_sampling import RandomOverSampler\n",
    "from imblearn.under_sampling import RandomUnderSampler"
   ]
  },
  {
   "cell_type": "code",
   "execution_count": 32,
   "id": "f99d9549-59a6-436f-abd9-0ca21de57e79",
   "metadata": {},
   "outputs": [],
   "source": [
    "ros = RandomOverSampler(sampling_strategy = 'auto')\n",
    "os_tX, os_ty = ros.fit_resample(t_X, t_y)\n",
    "\n",
    "tX = tclasses1.drop(\"CGPA\", axis = 1)\n",
    "t_columns = tX.columns"
   ]
  },
  {
   "cell_type": "code",
   "execution_count": 33,
   "id": "6eb57396-b002-48d6-bc84-cf296a6859c7",
   "metadata": {},
   "outputs": [
    {
     "name": "stdout",
     "output_type": "stream",
     "text": [
      "length of oversampled data is  1338\n"
     ]
    },
    {
     "data": {
      "image/png": "[encoded data removed]",
      "text/plain": [
       "<Figure size 700x500 with 1 Axes>"
      ]
     },
     "metadata": {},
     "output_type": "display_data"
    }
   ],
   "source": [
    "os_tX = pd.DataFrame(data = os_tX, columns = t_columns)\n",
    "os_ty = pd.DataFrame(data = os_ty, columns = ['CGPA'])\n",
    "print(\"length of oversampled data is \", len(os_tX))\n",
    "\n",
    "plt.figure(figsize = (7,5))\n",
    "plt.title(\"After Oversampling with RandomOverSampler\")\n",
    "ax = sns.countplot(x = 'CGPA', data = os_ty)\n",
    "\n",
    "for container in ax.containers:\n",
    "    ax.bar_label(container)\n",
    "\n",
    "plt.savefig('Dataset 1 After RandomOversampling.png', dpi=300)\n",
    "plt.show()"
   ]
  },
  {
   "cell_type": "code",
   "execution_count": 34,
   "id": "f5c047bc-fcbc-4c66-8039-40022c918e16",
   "metadata": {},
   "outputs": [
    {
     "data": {
      "text/plain": [
       "(1338, 41)"
      ]
     },
     "execution_count": 34,
     "metadata": {},
     "output_type": "execute_result"
    }
   ],
   "source": [
    "frames1 = [os_tX, os_ty]\n",
    "\n",
    "tros1 = pd.concat(frames1, axis = 1)\n",
    "\n",
    "tros1.shape"
   ]
  },
  {
   "cell_type": "code",
   "execution_count": 35,
   "id": "35c6760b-e20e-4874-bfb1-64deb86b0b0e",
   "metadata": {},
   "outputs": [],
   "source": [
    "CSurvey1_Trans_Binary = tros1.copy()\n",
    "tcate1 = CSurvey1_Trans_Binary.select_dtypes(include=['object'])\n",
    "CSurvey1_Trans_Binary = tcate1.apply(label_encoder.fit_transform)"
   ]
  },
  {
   "cell_type": "code",
   "execution_count": 36,
   "id": "a38f254c-ab81-4dfd-8904-9c98618fb369",
   "metadata": {},
   "outputs": [],
   "source": [
    "# CSurvey1_Trans_Binary.to_csv('CSurvey1_Trans_Binary_ROS.csv', index = False)"
   ]
  },
  {
   "cell_type": "markdown",
   "id": "bab9f1ae-fe7a-4af6-8814-d26ca8eded15",
   "metadata": {},
   "source": [
    "## Binary Data Balancing using SMOTE"
   ]
  },
  {
   "cell_type": "code",
   "execution_count": 37,
   "id": "e0ccacf0-6821-49e5-aa55-dcb20bf1e1f7",
   "metadata": {},
   "outputs": [],
   "source": [
    "from imblearn.over_sampling import SMOTE"
   ]
  },
  {
   "cell_type": "code",
   "execution_count": 38,
   "id": "60badfe8-a65a-44a3-8866-db14d296b28f",
   "metadata": {},
   "outputs": [],
   "source": [
    "t_y_encode = CSurvey1_Trans_Binary_imb.CGPA\n",
    "t_X_encode = CSurvey1_Trans_Binary_imb.drop(\"CGPA\", axis = 1)\n",
    "t_colnames = t_X.columns"
   ]
  },
  {
   "cell_type": "code",
   "execution_count": 39,
   "id": "0acd6ee6-d826-4a57-ac5e-18235dae573d",
   "metadata": {},
   "outputs": [],
   "source": [
    "smote = SMOTE(sampling_strategy='auto', k_neighbors=3)\n",
    "\n",
    "os_tX_smote, os_ty_smote = smote.fit_resample(t_X_encode, t_y_encode)"
   ]
  },
  {
   "cell_type": "code",
   "execution_count": 40,
   "id": "53410bf4-48cf-454f-a2e8-0ccb130da039",
   "metadata": {},
   "outputs": [
    {
     "name": "stdout",
     "output_type": "stream",
     "text": [
      "length of oversampled data is  1338\n"
     ]
    },
    {
     "data": {
      "image/png": "[encoded data removed]",
      "text/plain": [
       "<Figure size 700x500 with 1 Axes>"
      ]
     },
     "metadata": {},
     "output_type": "display_data"
    }
   ],
   "source": [
    "os_tX_smote = pd.DataFrame(data = os_tX_smote, columns = t_columns)\n",
    "os_ty_smote = pd.DataFrame(data = os_ty_smote, columns = ['CGPA'])\n",
    "print(\"length of oversampled data is \", len(os_tX_smote))\n",
    "\n",
    "plt.figure(figsize = (7,5))\n",
    "plt.title(\"After Oversampling with SMOTE\")\n",
    "ax = sns.countplot(x = 'CGPA', data = os_ty_smote)\n",
    "\n",
    "for container in ax.containers:\n",
    "    ax.bar_label(container)\n",
    "\n",
    "plt.savefig('Dataset 1 After SMOTE.png', dpi=300)\n",
    "plt.show()"
   ]
  },
  {
   "cell_type": "code",
   "execution_count": 41,
   "id": "11bbfe6f-48a0-4885-b9b5-d4ffa7e5028e",
   "metadata": {},
   "outputs": [
    {
     "data": {
      "text/plain": [
       "(1338, 41)"
      ]
     },
     "execution_count": 41,
     "metadata": {},
     "output_type": "execute_result"
    }
   ],
   "source": [
    "frames2 = [os_tX_smote, os_ty_smote]\n",
    "\n",
    "tros2 = pd.concat(frames2, axis = 1)\n",
    "\n",
    "tros2.shape"
   ]
  },
  {
   "cell_type": "code",
   "execution_count": 42,
   "id": "9f254a5f-1547-487f-b9fd-478e525be0f8",
   "metadata": {},
   "outputs": [],
   "source": [
    "CSurvey1_Trans_Binary_SMOTE = tros2.copy()\n",
    "tcate2 = CSurvey1_Trans_Binary_SMOTE.select_dtypes(include=['object'])\n",
    "# CSurvey1_Trans_Binary_SMOTE = tcate2.apply(label_encoder.fit_transform)"
   ]
  },
  {
   "cell_type": "code",
   "execution_count": 43,
   "id": "e6ca012b-7a2e-41cf-9d65-8f588fd0bbd0",
   "metadata": {},
   "outputs": [],
   "source": [
    "# CSurvey1_Trans_Binary_SMOTE.to_csv('CSurvey1_Trans_Binary_SMOTE.csv', index = False)"
   ]
  },
  {
   "cell_type": "markdown",
   "id": "05d88be3-76bb-46ab-91e6-7a57da60d920",
   "metadata": {},
   "source": [
    "# 5-Level Classification Preprocessing"
   ]
  },
  {
   "cell_type": "markdown",
   "id": "422416dd-86c0-47cc-b269-d13413ac7f53",
   "metadata": {},
   "source": [
    "## 5-Level Data Transformation"
   ]
  },
  {
   "cell_type": "code",
   "execution_count": 44,
   "id": "f5801906-fdfb-4a11-8083-cb2c6863f985",
   "metadata": {},
   "outputs": [],
   "source": [
    "none = cleaned.loc[(cleaned['CGPA'] == 'None')].index\n",
    "fclasses1 = cleaned.copy()\n",
    "fclasses1.drop(none, inplace = True)"
   ]
  },
  {
   "cell_type": "code",
   "execution_count": 45,
   "id": "e23ac69b-1ae1-473a-919a-e90f15e0299d",
   "metadata": {},
   "outputs": [],
   "source": [
    "CSurvey1_Trans_5level_imb = fclasses1.copy()\n",
    "fcate1_imb = CSurvey1_Trans_5level_imb.select_dtypes(include=['object'])\n",
    "CSurvey1_Trans_5level_imb = fcate1_imb.apply(label_encoder.fit_transform)"
   ]
  },
  {
   "cell_type": "code",
   "execution_count": 46,
   "id": "26394604-9044-4114-a484-c961e21f1d0e",
   "metadata": {},
   "outputs": [],
   "source": [
    "# CSurvey1_Trans_5level_imb.to_csv('CSurvey1_Trans_5level_imb.csv', index = False)"
   ]
  },
  {
   "cell_type": "markdown",
   "id": "60c875fa-8f92-4cf4-9d3b-784dba244eb7",
   "metadata": {},
   "source": [
    "## 5-Level Data Balancing using RandomOverSampler"
   ]
  },
  {
   "cell_type": "code",
   "execution_count": 47,
   "id": "4cebf818-2c36-45da-aa8f-5ed74079b22b",
   "metadata": {},
   "outputs": [
    {
     "data": {
      "image/png": "[encoded data removed]",
      "text/plain": [
       "<Figure size 700x500 with 1 Axes>"
      ]
     },
     "metadata": {},
     "output_type": "display_data"
    }
   ],
   "source": [
    "plt.figure(figsize = (7,5))\n",
    "plt.title(\"Before Oversampling\")\n",
    "ax = sns.countplot(x = 'CGPA', data = fclasses1)\n",
    "\n",
    "for container in ax.containers:\n",
    "    ax.bar_label(container)\n",
    "\n",
    "plt.savefig('Dataset 1 5 classes  Before Oversampling.png', dpi=300)\n",
    "plt.show()"
   ]
  },
  {
   "cell_type": "code",
   "execution_count": 48,
   "id": "0c9cad13-8718-4775-a290-cf35a6f56293",
   "metadata": {},
   "outputs": [],
   "source": [
    "f_y = fclasses1.CGPA\n",
    "f_X = fclasses1.drop(\"CGPA\", axis = 1)\n",
    "f_colnames = f_X.columns"
   ]
  },
  {
   "cell_type": "code",
   "execution_count": 49,
   "id": "abd6e194-8e22-42a8-83c5-dfa5989cf515",
   "metadata": {},
   "outputs": [],
   "source": [
    "ros = RandomOverSampler(sampling_strategy = 'auto')\n",
    "os_fX, os_fy = ros.fit_resample(f_X, f_y)\n",
    "\n",
    "fX = fclasses1.drop(\"CGPA\", axis = 1)\n",
    "f_columns = fX.columns"
   ]
  },
  {
   "cell_type": "code",
   "execution_count": 50,
   "id": "e5a040e3-e80f-44eb-99cc-c659d3367485",
   "metadata": {},
   "outputs": [
    {
     "name": "stdout",
     "output_type": "stream",
     "text": [
      "length of oversampled data is  1695\n"
     ]
    },
    {
     "data": {
      "image/png": "[encoded data removed]",
      "text/plain": [
       "<Figure size 700x500 with 1 Axes>"
      ]
     },
     "metadata": {},
     "output_type": "display_data"
    }
   ],
   "source": [
    "os_fX = pd.DataFrame(data = os_fX, columns = f_columns)\n",
    "os_fy = pd.DataFrame(data = os_fy, columns = ['CGPA'])\n",
    "print(\"length of oversampled data is \", len(os_fX))\n",
    "\n",
    "plt.figure(figsize = (7,5))\n",
    "plt.title(\"After Oversampling with RandomOverSampler\")\n",
    "ax = sns.countplot(x = 'CGPA', data = os_fy)\n",
    "\n",
    "for container in ax.containers:\n",
    "    ax.bar_label(container)\n",
    "\n",
    "plt.savefig('Dataset 1 5 classes  After RandomOversampling.png', dpi=300)\n",
    "plt.show()"
   ]
  },
  {
   "cell_type": "code",
   "execution_count": 51,
   "id": "1753147d-eb92-4c1a-8edf-088338dfb4ee",
   "metadata": {},
   "outputs": [
    {
     "data": {
      "text/plain": [
       "(1695, 41)"
      ]
     },
     "execution_count": 51,
     "metadata": {},
     "output_type": "execute_result"
    }
   ],
   "source": [
    "frames = [os_fX, os_fy]\n",
    "\n",
    "fros1 = pd.concat(frames, axis = 1)\n",
    "\n",
    "fros1.shape"
   ]
  },
  {
   "cell_type": "code",
   "execution_count": 52,
   "id": "2f07fbe0-2a10-4fdc-ab79-056d61f741fa",
   "metadata": {},
   "outputs": [],
   "source": [
    "CSurvey1_Trans_5level = fros1.copy()\n",
    "fcate1 = CSurvey1_Trans_5level.select_dtypes(include=['object'])\n",
    "CSurvey1_Trans_5level = fcate1.apply(label_encoder.fit_transform)"
   ]
  },
  {
   "cell_type": "code",
   "execution_count": 53,
   "id": "1d15f59a-9158-497b-bec0-dde4319893ba",
   "metadata": {},
   "outputs": [],
   "source": [
    "# CSurvey1_Trans_5level.to_csv('CSurvey1_Trans_5level_ROS.csv', index = False)"
   ]
  },
  {
   "cell_type": "markdown",
   "id": "acb7884e-952a-42fb-bb06-3c39492832f7",
   "metadata": {},
   "source": [
    "## 5-Level Data Balancing using SMOTE"
   ]
  },
  {
   "cell_type": "code",
   "execution_count": 54,
   "id": "7dcb1378-4ce7-4389-815f-fa52a1070ad9",
   "metadata": {},
   "outputs": [],
   "source": [
    "f_y_encode = CSurvey1_Trans_5level_imb.CGPA\n",
    "f_X_encode = CSurvey1_Trans_5level_imb.drop(\"CGPA\", axis = 1)\n",
    "f_colnames = f_X.columns"
   ]
  },
  {
   "cell_type": "code",
   "execution_count": 55,
   "id": "446c3a8a-6ce8-4728-b5c9-5d8e53d7b1c1",
   "metadata": {},
   "outputs": [],
   "source": [
    "smote = SMOTE(sampling_strategy='auto', k_neighbors=3)\n",
    "\n",
    "os_fX_smote, os_fy_smote = smote.fit_resample(f_X_encode, f_y_encode)"
   ]
  },
  {
   "cell_type": "code",
   "execution_count": 56,
   "id": "56ffd1ab-5c25-4242-b17a-0cc864577138",
   "metadata": {},
   "outputs": [
    {
     "name": "stdout",
     "output_type": "stream",
     "text": [
      "length of oversampled data is  1695\n"
     ]
    },
    {
     "data": {
      "image/png": "[encoded data removed]",
      "text/plain": [
       "<Figure size 700x500 with 1 Axes>"
      ]
     },
     "metadata": {},
     "output_type": "display_data"
    }
   ],
   "source": [
    "os_fX_smote = pd.DataFrame(data = os_fX_smote, columns = t_columns)\n",
    "os_fy_smote = pd.DataFrame(data = os_fy_smote, columns = ['CGPA'])\n",
    "print(\"length of oversampled data is \", len(os_fX_smote))\n",
    "\n",
    "plt.figure(figsize = (7,5))\n",
    "plt.title(\"After Oversampling with SMOTE\")\n",
    "ax = sns.countplot(x = 'CGPA', data = os_fy_smote)\n",
    "\n",
    "for container in ax.containers:\n",
    "    ax.bar_label(container)\n",
    "\n",
    "plt.savefig('Dataset 1 5 classes After SMOTE.png', dpi=300)\n",
    "plt.show()"
   ]
  },
  {
   "cell_type": "code",
   "execution_count": 57,
   "id": "dcee4d2c-c21c-4018-8fa6-3a9f9df99bce",
   "metadata": {},
   "outputs": [
    {
     "data": {
      "text/plain": [
       "(1695, 41)"
      ]
     },
     "execution_count": 57,
     "metadata": {},
     "output_type": "execute_result"
    }
   ],
   "source": [
    "frames = [os_fX_smote, os_fy_smote]\n",
    "\n",
    "fros2 = pd.concat(frames, axis = 1)\n",
    "\n",
    "fros2.shape"
   ]
  },
  {
   "cell_type": "code",
   "execution_count": 58,
   "id": "34a9e90d-0b9b-4d8e-b37b-a05470febd29",
   "metadata": {},
   "outputs": [],
   "source": [
    "CSurvey1_Trans_5level_SMOTE = fros2.copy()\n",
    "fcate2 = CSurvey1_Trans_5level_SMOTE.select_dtypes(include=['object'])\n",
    "# CSurvey1_Trans_5level_SMOTE = fcate2.apply(label_encoder.fit_transform)"
   ]
  },
  {
   "cell_type": "code",
   "execution_count": 59,
   "id": "9634e58e-559d-40d2-b341-7666afa32d96",
   "metadata": {},
   "outputs": [],
   "source": [
    "# CSurvey1_Trans_5level_SMOTE.to_csv('CSurvey1_Trans_5level_SMOTE.csv', index = False)"
   ]
  }
 ],
 "metadata": {
  "kernelspec": {
   "display_name": "Python 3 (ipykernel)",
   "language": "python",
   "name": "python3"
  },
  "language_info": {
   "codemirror_mode": {
    "name": "ipython",
    "version": 3
   },
   "file_extension": ".py",
   "mimetype": "text/x-python",
   "name": "python",
   "nbconvert_exporter": "python",
   "pygments_lexer": "ipython3",
   "version": "3.11.7"
  }
 },
 "nbformat": 4,
 "nbformat_minor": 5
}
