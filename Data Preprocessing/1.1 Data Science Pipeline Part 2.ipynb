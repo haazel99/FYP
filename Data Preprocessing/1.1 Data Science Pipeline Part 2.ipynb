{
 "cells": [
  {
   "cell_type": "markdown",
   "id": "99eeca47-0b12-43c3-a944-fc486b18c391",
   "metadata": {},
   "source": [
    "# Data Preprocessing for Survey2 (FYP 2)"
   ]
  },
  {
   "cell_type": "markdown",
   "id": "30fe79d2-7c20-494e-b456-77060ec4549b",
   "metadata": {},
   "source": [
    "### Import Libraries"
   ]
  },
  {
   "cell_type": "code",
   "execution_count": 1,
   "id": "edd5c431-c683-470e-b9b7-526ba7eb7363",
   "metadata": {},
   "outputs": [
    {
     "name": "stdout",
     "output_type": "stream",
     "text": [
      "Requirement already satisfied: boruta in c:\\users\\hazel\\anaconda3\\lib\\site-packages (0.3)\n",
      "Requirement already satisfied: numpy>=1.10.4 in c:\\users\\hazel\\anaconda3\\lib\\site-packages (from boruta) (1.26.4)\n",
      "Requirement already satisfied: scikit-learn>=0.17.1 in c:\\users\\hazel\\anaconda3\\lib\\site-packages (from boruta) (1.2.2)\n",
      "Requirement already satisfied: scipy>=0.17.0 in c:\\users\\hazel\\anaconda3\\lib\\site-packages (from boruta) (1.11.4)\n",
      "Requirement already satisfied: joblib>=1.1.1 in c:\\users\\hazel\\anaconda3\\lib\\site-packages (from scikit-learn>=0.17.1->boruta) (1.2.0)\n",
      "Requirement already satisfied: threadpoolctl>=2.0.0 in c:\\users\\hazel\\anaconda3\\lib\\site-packages (from scikit-learn>=0.17.1->boruta) (2.2.0)\n"
     ]
    }
   ],
   "source": [
    "!pip install boruta"
   ]
  },
  {
   "cell_type": "code",
   "execution_count": 2,
   "id": "3ed49ee7-d377-4dba-aa47-d78fc9bf3100",
   "metadata": {},
   "outputs": [],
   "source": [
    "import pandas as pd\n",
    "import numpy as np\n",
    "import matplotlib.pyplot as plt\n",
    "import seaborn as sns\n",
    "\n",
    "### Feature Selection\n",
    "from sklearn.preprocessing import MinMaxScaler\n",
    "from sklearn.ensemble import RandomForestClassifier\n",
    "from boruta import BorutaPy"
   ]
  },
  {
   "cell_type": "markdown",
   "id": "19f5967b-b730-40fe-a0a8-3250b249958a",
   "metadata": {},
   "source": [
    "# Data Preprocessing"
   ]
  },
  {
   "cell_type": "code",
   "execution_count": 3,
   "id": "5f0a320e-2408-4391-80c0-37ff2824906f",
   "metadata": {},
   "outputs": [
    {
     "data": {
      "text/html": [
       "<div>\n",
       "<style scoped>\n",
       "    .dataframe tbody tr th:only-of-type {\n",
       "        vertical-align: middle;\n",
       "    }\n",
       "\n",
       "    .dataframe tbody tr th {\n",
       "        vertical-align: top;\n",
       "    }\n",
       "\n",
       "    .dataframe thead th {\n",
       "        text-align: right;\n",
       "    }\n",
       "</style>\n",
       "<table border=\"1\" class=\"dataframe\">\n",
       "  <thead>\n",
       "    <tr style=\"text-align: right;\">\n",
       "      <th></th>\n",
       "      <th>Id</th>\n",
       "      <th>Start time</th>\n",
       "      <th>Completion time</th>\n",
       "      <th>Email</th>\n",
       "      <th>Name</th>\n",
       "      <th>I have read and agree with the terms and conditions stated above</th>\n",
       "      <th>Age</th>\n",
       "      <th>Gender</th>\n",
       "      <th>Nationality</th>\n",
       "      <th>Continent</th>\n",
       "      <th>...</th>\n",
       "      <th>Study Behavior</th>\n",
       "      <th>Study Time</th>\n",
       "      <th>Extra Curricular Activities</th>\n",
       "      <th>Part-time Job</th>\n",
       "      <th>Commute Time</th>\n",
       "      <th>Gaming</th>\n",
       "      <th>Alcohol Consumption</th>\n",
       "      <th>I have enough free time after class</th>\n",
       "      <th>Social Interaction</th>\n",
       "      <th>I hang out with friends</th>\n",
       "    </tr>\n",
       "  </thead>\n",
       "  <tbody>\n",
       "    <tr>\n",
       "      <th>0</th>\n",
       "      <td>2</td>\n",
       "      <td>3/28/24 16:11:42</td>\n",
       "      <td>3/28/24 16:15:09</td>\n",
       "      <td>241DF2401J@soffice.mmu.edu.my</td>\n",
       "      <td>ADREL SYAFITRI BIN MOHD FARIS</td>\n",
       "      <td>Yes</td>\n",
       "      <td>18 - 20</td>\n",
       "      <td>Male</td>\n",
       "      <td>Malaysian</td>\n",
       "      <td>NaN</td>\n",
       "      <td>...</td>\n",
       "      <td>Alone</td>\n",
       "      <td>2 - 5</td>\n",
       "      <td>No</td>\n",
       "      <td>No</td>\n",
       "      <td>Less than 10</td>\n",
       "      <td>Light</td>\n",
       "      <td>Non-drinker</td>\n",
       "      <td>3</td>\n",
       "      <td>4</td>\n",
       "      <td>3</td>\n",
       "    </tr>\n",
       "    <tr>\n",
       "      <th>1</th>\n",
       "      <td>3</td>\n",
       "      <td>3/28/24 17:41:18</td>\n",
       "      <td>3/28/24 17:45:33</td>\n",
       "      <td>1211210525@soffice.mmu.edu.my</td>\n",
       "      <td>ANGEL ALYNA MARTIN</td>\n",
       "      <td>Yes</td>\n",
       "      <td>18 - 20</td>\n",
       "      <td>Female</td>\n",
       "      <td>Malaysian</td>\n",
       "      <td>NaN</td>\n",
       "      <td>...</td>\n",
       "      <td>Alone</td>\n",
       "      <td>2 - 5</td>\n",
       "      <td>No</td>\n",
       "      <td>No</td>\n",
       "      <td>Less than 10</td>\n",
       "      <td>Light</td>\n",
       "      <td>Non-drinker</td>\n",
       "      <td>5</td>\n",
       "      <td>3</td>\n",
       "      <td>5</td>\n",
       "    </tr>\n",
       "    <tr>\n",
       "      <th>2</th>\n",
       "      <td>4</td>\n",
       "      <td>3/28/24 17:08:25</td>\n",
       "      <td>3/28/24 17:57:43</td>\n",
       "      <td>1211111808@soffice.mmu.edu.my</td>\n",
       "      <td>ATIKAH SYAZWANI ARIF BT MEOR ARIFUDDIN</td>\n",
       "      <td>Yes</td>\n",
       "      <td>18 - 20</td>\n",
       "      <td>Female</td>\n",
       "      <td>Malaysian</td>\n",
       "      <td>NaN</td>\n",
       "      <td>...</td>\n",
       "      <td>Alone</td>\n",
       "      <td>2 - 5</td>\n",
       "      <td>No</td>\n",
       "      <td>No</td>\n",
       "      <td>Less than 10</td>\n",
       "      <td>Light</td>\n",
       "      <td>Non-drinker</td>\n",
       "      <td>3</td>\n",
       "      <td>3</td>\n",
       "      <td>2</td>\n",
       "    </tr>\n",
       "    <tr>\n",
       "      <th>3</th>\n",
       "      <td>5</td>\n",
       "      <td>3/28/24 17:40:54</td>\n",
       "      <td>3/28/24 18:02:01</td>\n",
       "      <td>1221308487@soffice.mmu.edu.my</td>\n",
       "      <td>CHAI LI XIANG</td>\n",
       "      <td>Yes</td>\n",
       "      <td>18 - 20</td>\n",
       "      <td>Female</td>\n",
       "      <td>Malaysian</td>\n",
       "      <td>NaN</td>\n",
       "      <td>...</td>\n",
       "      <td>Alone</td>\n",
       "      <td>2 - 5</td>\n",
       "      <td>No</td>\n",
       "      <td>No</td>\n",
       "      <td>Less than 10</td>\n",
       "      <td>Non-gamer</td>\n",
       "      <td>Non-drinker</td>\n",
       "      <td>2</td>\n",
       "      <td>2</td>\n",
       "      <td>2</td>\n",
       "    </tr>\n",
       "    <tr>\n",
       "      <th>4</th>\n",
       "      <td>6</td>\n",
       "      <td>3/28/24 18:17:45</td>\n",
       "      <td>3/28/24 18:21:31</td>\n",
       "      <td>1221305797@soffice.mmu.edu.my</td>\n",
       "      <td>HWONG EN HUI</td>\n",
       "      <td>Yes</td>\n",
       "      <td>18 - 20</td>\n",
       "      <td>Female</td>\n",
       "      <td>Malaysian</td>\n",
       "      <td>NaN</td>\n",
       "      <td>...</td>\n",
       "      <td>Alone</td>\n",
       "      <td>5 - 8</td>\n",
       "      <td>Yes</td>\n",
       "      <td>Yes</td>\n",
       "      <td>Less than 10</td>\n",
       "      <td>Non-gamer</td>\n",
       "      <td>Non-drinker</td>\n",
       "      <td>3</td>\n",
       "      <td>3</td>\n",
       "      <td>3</td>\n",
       "    </tr>\n",
       "  </tbody>\n",
       "</table>\n",
       "<p>5 rows × 48 columns</p>\n",
       "</div>"
      ],
      "text/plain": [
       "   Id        Start time   Completion time                          Email  \\\n",
       "0   2  3/28/24 16:11:42  3/28/24 16:15:09  241DF2401J@soffice.mmu.edu.my   \n",
       "1   3  3/28/24 17:41:18  3/28/24 17:45:33  1211210525@soffice.mmu.edu.my   \n",
       "2   4  3/28/24 17:08:25  3/28/24 17:57:43  1211111808@soffice.mmu.edu.my   \n",
       "3   5  3/28/24 17:40:54  3/28/24 18:02:01  1221308487@soffice.mmu.edu.my   \n",
       "4   6  3/28/24 18:17:45  3/28/24 18:21:31  1221305797@soffice.mmu.edu.my   \n",
       "\n",
       "                                     Name  \\\n",
       "0           ADREL SYAFITRI BIN MOHD FARIS   \n",
       "1                      ANGEL ALYNA MARTIN   \n",
       "2  ATIKAH SYAZWANI ARIF BT MEOR ARIFUDDIN   \n",
       "3                           CHAI LI XIANG   \n",
       "4                            HWONG EN HUI   \n",
       "\n",
       "  I have read and agree with the terms and conditions stated above      Age  \\\n",
       "0                                                Yes                18 - 20   \n",
       "1                                                Yes                18 - 20   \n",
       "2                                                Yes                18 - 20   \n",
       "3                                                Yes                18 - 20   \n",
       "4                                                Yes                18 - 20   \n",
       "\n",
       "   Gender Nationality Continent  ... Study Behavior Study Time  \\\n",
       "0    Male   Malaysian       NaN  ...          Alone      2 - 5   \n",
       "1  Female   Malaysian       NaN  ...          Alone      2 - 5   \n",
       "2  Female   Malaysian       NaN  ...          Alone      2 - 5   \n",
       "3  Female   Malaysian       NaN  ...          Alone      2 - 5   \n",
       "4  Female   Malaysian       NaN  ...          Alone      5 - 8   \n",
       "\n",
       "  Extra Curricular Activities Part-time Job  Commute Time     Gaming  \\\n",
       "0                          No            No  Less than 10      Light   \n",
       "1                          No            No  Less than 10      Light   \n",
       "2                          No            No  Less than 10      Light   \n",
       "3                          No            No  Less than 10  Non-gamer   \n",
       "4                         Yes           Yes  Less than 10  Non-gamer   \n",
       "\n",
       "  Alcohol Consumption I have enough free time after class Social Interaction  \\\n",
       "0         Non-drinker                                   3                  4   \n",
       "1         Non-drinker                                   5                  3   \n",
       "2         Non-drinker                                   3                  3   \n",
       "3         Non-drinker                                   2                  2   \n",
       "4         Non-drinker                                   3                  3   \n",
       "\n",
       "  I hang out with friends  \n",
       "0                       3  \n",
       "1                       5  \n",
       "2                       2  \n",
       "3                       2  \n",
       "4                       3  \n",
       "\n",
       "[5 rows x 48 columns]"
      ]
     },
     "execution_count": 3,
     "metadata": {},
     "output_type": "execute_result"
    }
   ],
   "source": [
    "df = pd.read_csv('Survey2.csv', encoding='latin1')\n",
    "df.head()"
   ]
  },
  {
   "cell_type": "code",
   "execution_count": 4,
   "id": "31aaae39-31d9-459a-84ee-cf2d4b88d83c",
   "metadata": {},
   "outputs": [
    {
     "name": "stdout",
     "output_type": "stream",
     "text": [
      "<class 'pandas.core.frame.DataFrame'>\n",
      "RangeIndex: 627 entries, 0 to 626\n",
      "Data columns (total 48 columns):\n",
      " #   Column                                                            Non-Null Count  Dtype \n",
      "---  ------                                                            --------------  ----- \n",
      " 0   Id                                                                627 non-null    int64 \n",
      " 1   Start time                                                        627 non-null    object\n",
      " 2   Completion time                                                   627 non-null    object\n",
      " 3   Email                                                             627 non-null    object\n",
      " 4   Name                                                              627 non-null    object\n",
      " 5   I have read and agree with the terms and conditions stated above  627 non-null    object\n",
      " 6   Age                                                               627 non-null    object\n",
      " 7   Gender                                                            627 non-null    object\n",
      " 8   Nationality                                                       627 non-null    object\n",
      " 9   Continent                                                         32 non-null     object\n",
      " 10  Living Status                                                     627 non-null    object\n",
      " 11  Home Town                                                         627 non-null    object\n",
      " 12  Relationship Status                                               627 non-null    object\n",
      " 13  Faculty                                                           627 non-null    object\n",
      " 14  Education Level                                                   627 non-null    object\n",
      " 15  Years of Study                                                    627 non-null    object\n",
      " 16  Completed Credit Hours                                            627 non-null    object\n",
      " 17  CGPA                                                              614 non-null    object\n",
      " 18  Number of Subjects Failed                                         627 non-null    object\n",
      " 19  SPM Result (A)                                                    627 non-null    object\n",
      " 20  SPM Result (B)                                                    627 non-null    int64 \n",
      " 21  SPM Result (C)                                                    627 non-null    int64 \n",
      " 22  Scholarship                                                       627 non-null    object\n",
      " 23  PTPTN                                                             627 non-null    object\n",
      " 24  Reason Study at Multimedia University                             627 non-null    object\n",
      " 25  Lecture Class Capacity                                            627 non-null    object\n",
      " 26  Tutorial Class Capacity                                           627 non-null    object\n",
      " 27  Skipping Class                                                    399 non-null    object\n",
      " 28  Classroom Environment                                             627 non-null    object\n",
      " 29  Campus Environment                                                627 non-null    object\n",
      " 30  Additional Course                                                 627 non-null    object\n",
      " 31  Family Size                                                       627 non-null    object\n",
      " 32  Parent's Education Level.Father                                   621 non-null    object\n",
      " 33  Parent's Education Level.Mother                                   622 non-null    object\n",
      " 34  Father's Occupation                                               627 non-null    object\n",
      " 35  Mother's Occupation                                               627 non-null    object\n",
      " 36  Financial Difficulties                                            627 non-null    object\n",
      " 37  Financial Support                                                 627 non-null    object\n",
      " 38  Study Behavior                                                    627 non-null    object\n",
      " 39  Study Time                                                        627 non-null    object\n",
      " 40  Extra Curricular Activities                                       627 non-null    object\n",
      " 41  Part-time Job                                                     627 non-null    object\n",
      " 42  Commute Time                                                      627 non-null    object\n",
      " 43  Gaming                                                            627 non-null    object\n",
      " 44  Alcohol Consumption                                               627 non-null    object\n",
      " 45  I have enough free time after class                               627 non-null    int64 \n",
      " 46  Social Interaction                                                627 non-null    int64 \n",
      " 47  I hang out with friends                                           627 non-null    int64 \n",
      "dtypes: int64(6), object(42)\n",
      "memory usage: 235.3+ KB\n"
     ]
    }
   ],
   "source": [
    "df.info()"
   ]
  },
  {
   "cell_type": "code",
   "execution_count": 5,
   "id": "d9d70b71-5874-4f61-928e-c61fbc79aacf",
   "metadata": {},
   "outputs": [
    {
     "data": {
      "text/plain": [
       "Id                                                                    0\n",
       "Start time                                                            0\n",
       "Completion time                                                       0\n",
       "Email                                                                 0\n",
       "Name                                                                  0\n",
       "I have read and agree with the terms and conditions stated above      0\n",
       "Age                                                                   0\n",
       "Gender                                                                0\n",
       "Nationality                                                           0\n",
       "Continent                                                           595\n",
       "Living Status                                                         0\n",
       "Home Town                                                             0\n",
       "Relationship Status                                                   0\n",
       "Faculty                                                               0\n",
       "Education Level                                                       0\n",
       "Years of Study                                                        0\n",
       "Completed Credit Hours                                                0\n",
       "CGPA                                                                 13\n",
       "Number of Subjects Failed                                             0\n",
       "SPM Result (A)                                                        0\n",
       "SPM Result (B)                                                        0\n",
       "SPM Result (C)                                                        0\n",
       "Scholarship                                                           0\n",
       "PTPTN                                                                 0\n",
       "Reason Study at Multimedia University                                 0\n",
       "Lecture Class Capacity                                                0\n",
       "Tutorial Class Capacity                                               0\n",
       "Skipping Class                                                      228\n",
       "Classroom Environment                                                 0\n",
       "Campus Environment                                                    0\n",
       "Additional Course                                                     0\n",
       "Family Size                                                           0\n",
       "Parent's Education Level.Father                                       6\n",
       "Parent's Education Level.Mother                                       5\n",
       "Father's Occupation                                                   0\n",
       "Mother's Occupation                                                   0\n",
       "Financial Difficulties                                                0\n",
       "Financial Support                                                     0\n",
       "Study Behavior                                                        0\n",
       "Study Time                                                            0\n",
       "Extra Curricular Activities                                           0\n",
       "Part-time Job                                                         0\n",
       "Commute Time                                                          0\n",
       "Gaming                                                                0\n",
       "Alcohol Consumption                                                   0\n",
       "I have enough free time after class                                   0\n",
       "Social Interaction                                                    0\n",
       "I hang out with friends                                               0\n",
       "dtype: int64"
      ]
     },
     "execution_count": 5,
     "metadata": {},
     "output_type": "execute_result"
    }
   ],
   "source": [
    "df.isnull().sum()"
   ]
  },
  {
   "cell_type": "code",
   "execution_count": 6,
   "id": "9a899a9f-6fba-468b-97e8-c524d2622766",
   "metadata": {},
   "outputs": [],
   "source": [
    "df['CGPA'] = df['CGPA'].fillna('None')\n",
    "df['Skipping Class'] = df['Skipping Class'].fillna('None')\n",
    "df[\"Parent's Education Level.Father\"] = df[\"Parent's Education Level.Father\"].fillna('None')\n",
    "df[\"Parent's Education Level.Mother\"] = df[\"Parent's Education Level.Mother\"].fillna('None')"
   ]
  },
  {
   "cell_type": "code",
   "execution_count": 7,
   "id": "b226087f-0fb5-48fe-95dd-84296cfcfce7",
   "metadata": {},
   "outputs": [],
   "source": [
    "cleaning = df.copy()"
   ]
  },
  {
   "cell_type": "code",
   "execution_count": 8,
   "id": "17183de5-c70a-475a-97cb-1ec35ce6c9fb",
   "metadata": {},
   "outputs": [],
   "source": [
    "cleaning.columns = cleaning.columns.str.rstrip()"
   ]
  },
  {
   "cell_type": "code",
   "execution_count": 9,
   "id": "b9221aed-df81-46af-b69c-f618fccab541",
   "metadata": {},
   "outputs": [],
   "source": [
    "cleaning.rename(columns = {'Classroom Environment':'Classroom Facilities'}, inplace = True)"
   ]
  },
  {
   "cell_type": "code",
   "execution_count": 10,
   "id": "2d2d3271-a05a-4489-bb3f-fbf4e17bb6ad",
   "metadata": {},
   "outputs": [],
   "source": [
    "cleaning.drop(['Id', 'Start time', 'Completion time', 'Email', 'Name', 'I have read and agree with the terms and conditions stated above'], \n",
    "              axis=1, inplace = True)"
   ]
  },
  {
   "cell_type": "code",
   "execution_count": 11,
   "id": "d861ddd3-21e1-47fd-afd0-a9e35440c039",
   "metadata": {},
   "outputs": [
    {
     "name": "stdout",
     "output_type": "stream",
     "text": [
      "<class 'pandas.core.frame.DataFrame'>\n",
      "RangeIndex: 627 entries, 0 to 626\n",
      "Data columns (total 42 columns):\n",
      " #   Column                                 Non-Null Count  Dtype \n",
      "---  ------                                 --------------  ----- \n",
      " 0   Age                                    627 non-null    object\n",
      " 1   Gender                                 627 non-null    object\n",
      " 2   Nationality                            627 non-null    object\n",
      " 3   Continent                              32 non-null     object\n",
      " 4   Living Status                          627 non-null    object\n",
      " 5   Home Town                              627 non-null    object\n",
      " 6   Relationship Status                    627 non-null    object\n",
      " 7   Faculty                                627 non-null    object\n",
      " 8   Education Level                        627 non-null    object\n",
      " 9   Years of Study                         627 non-null    object\n",
      " 10  Completed Credit Hours                 627 non-null    object\n",
      " 11  CGPA                                   627 non-null    object\n",
      " 12  Number of Subjects Failed              627 non-null    object\n",
      " 13  SPM Result (A)                         627 non-null    object\n",
      " 14  SPM Result (B)                         627 non-null    int64 \n",
      " 15  SPM Result (C)                         627 non-null    int64 \n",
      " 16  Scholarship                            627 non-null    object\n",
      " 17  PTPTN                                  627 non-null    object\n",
      " 18  Reason Study at Multimedia University  627 non-null    object\n",
      " 19  Lecture Class Capacity                 627 non-null    object\n",
      " 20  Tutorial Class Capacity                627 non-null    object\n",
      " 21  Skipping Class                         627 non-null    object\n",
      " 22  Classroom Facilities                   627 non-null    object\n",
      " 23  Campus Environment                     627 non-null    object\n",
      " 24  Additional Course                      627 non-null    object\n",
      " 25  Family Size                            627 non-null    object\n",
      " 26  Parent's Education Level.Father        627 non-null    object\n",
      " 27  Parent's Education Level.Mother        627 non-null    object\n",
      " 28  Father's Occupation                    627 non-null    object\n",
      " 29  Mother's Occupation                    627 non-null    object\n",
      " 30  Financial Difficulties                 627 non-null    object\n",
      " 31  Financial Support                      627 non-null    object\n",
      " 32  Study Behavior                         627 non-null    object\n",
      " 33  Study Time                             627 non-null    object\n",
      " 34  Extra Curricular Activities            627 non-null    object\n",
      " 35  Part-time Job                          627 non-null    object\n",
      " 36  Commute Time                           627 non-null    object\n",
      " 37  Gaming                                 627 non-null    object\n",
      " 38  Alcohol Consumption                    627 non-null    object\n",
      " 39  I have enough free time after class    627 non-null    int64 \n",
      " 40  Social Interaction                     627 non-null    int64 \n",
      " 41  I hang out with friends                627 non-null    int64 \n",
      "dtypes: int64(5), object(37)\n",
      "memory usage: 205.9+ KB\n"
     ]
    }
   ],
   "source": [
    "cleaning.info()"
   ]
  },
  {
   "cell_type": "code",
   "execution_count": 12,
   "id": "325436b1-ed4a-4c8e-86c3-9e482ecedf76",
   "metadata": {},
   "outputs": [],
   "source": [
    "cleaning['SPM Result (B)'] = cleaning['SPM Result (B)'].apply(str)\n",
    "cleaning['SPM Result (C)'] = cleaning['SPM Result (C)'].apply(str)\n",
    "cleaning['I have enough free time after class'] = cleaning['I have enough free time after class'].apply(str)\n",
    "cleaning['Social Interaction'] = cleaning['Social Interaction'].apply(str)\n",
    "cleaning['I hang out with friends'] = cleaning['I hang out with friends'].apply(str)"
   ]
  },
  {
   "cell_type": "code",
   "execution_count": 13,
   "id": "b2ee3460-7d2e-4769-8a7a-bf7773ea7d97",
   "metadata": {},
   "outputs": [
    {
     "data": {
      "text/plain": [
       "Nationality\n",
       "Malaysian        594\n",
       "Non-Malaysian     33\n",
       "Name: count, dtype: int64"
      ]
     },
     "execution_count": 13,
     "metadata": {},
     "output_type": "execute_result"
    }
   ],
   "source": [
    "cleaning.Nationality.value_counts()"
   ]
  },
  {
   "cell_type": "code",
   "execution_count": 14,
   "id": "bb80ebdd-e098-4395-bded-b07d0bfd3934",
   "metadata": {},
   "outputs": [],
   "source": [
    "malaysian = cleaning.loc[(cleaning['Nationality'] == 'Malaysian') & (cleaning['Continent'].str.contains(''))]\n",
    "\n",
    "to_replace = {'Asia': np.nan, 'Europe': np.nan, 'Australia': np.nan}\n",
    "\n",
    "for key, value in to_replace.items():\n",
    "    malaysian = malaysian.replace(key, value)"
   ]
  },
  {
   "cell_type": "code",
   "execution_count": 15,
   "id": "7d230b91-2239-4172-bc2a-35e71fd17670",
   "metadata": {},
   "outputs": [],
   "source": [
    "continent = cleaning[(cleaning['Nationality'] == 'Malaysian') & (cleaning['Continent'].str.contains(''))].index\n",
    "cleaning.drop(continent , inplace=True)"
   ]
  },
  {
   "cell_type": "code",
   "execution_count": 16,
   "id": "73b5712d-3513-40d8-af8e-5bc74bff959c",
   "metadata": {},
   "outputs": [],
   "source": [
    "frames = [malaysian, cleaning]\n",
    "\n",
    "cleaned = pd.concat(frames)\n",
    "\n",
    "cleaned = cleaned.reset_index(drop = True)"
   ]
  },
  {
   "cell_type": "code",
   "execution_count": 17,
   "id": "0c9d9636-803f-4657-aaf2-b708abf3f6f9",
   "metadata": {},
   "outputs": [
    {
     "data": {
      "text/plain": [
       "Age                                        0\n",
       "Gender                                     0\n",
       "Nationality                                0\n",
       "Continent                                595\n",
       "Living Status                              0\n",
       "Home Town                                  0\n",
       "Relationship Status                        0\n",
       "Faculty                                    0\n",
       "Education Level                            0\n",
       "Years of Study                             0\n",
       "Completed Credit Hours                     0\n",
       "CGPA                                       0\n",
       "Number of Subjects Failed                  0\n",
       "SPM Result (A)                             0\n",
       "SPM Result (B)                             0\n",
       "SPM Result (C)                             0\n",
       "Scholarship                                0\n",
       "PTPTN                                      0\n",
       "Reason Study at Multimedia University      0\n",
       "Lecture Class Capacity                     0\n",
       "Tutorial Class Capacity                    0\n",
       "Skipping Class                             0\n",
       "Classroom Facilities                       0\n",
       "Campus Environment                         0\n",
       "Additional Course                          0\n",
       "Family Size                                0\n",
       "Parent's Education Level.Father            0\n",
       "Parent's Education Level.Mother            0\n",
       "Father's Occupation                        0\n",
       "Mother's Occupation                        0\n",
       "Financial Difficulties                     0\n",
       "Financial Support                          0\n",
       "Study Behavior                             0\n",
       "Study Time                                 0\n",
       "Extra Curricular Activities                0\n",
       "Part-time Job                              0\n",
       "Commute Time                               0\n",
       "Gaming                                     0\n",
       "Alcohol Consumption                        0\n",
       "I have enough free time after class        0\n",
       "Social Interaction                         0\n",
       "I hang out with friends                    0\n",
       "dtype: int64"
      ]
     },
     "execution_count": 17,
     "metadata": {},
     "output_type": "execute_result"
    }
   ],
   "source": [
    "cleaned.isnull().sum()"
   ]
  },
  {
   "cell_type": "code",
   "execution_count": 18,
   "id": "9c885073-2eb3-494b-92bc-7cd456c50d60",
   "metadata": {},
   "outputs": [],
   "source": [
    "# Since Continent has 595 NaN, 595/627 = 0.95 of NaN, hence column continent can be dropped\n",
    "\n",
    "cleaned.drop(['Continent'], axis=1, inplace = True)"
   ]
  },
  {
   "cell_type": "code",
   "execution_count": 19,
   "id": "4c8000b6-c0ce-4af1-9d0b-3db275f0c009",
   "metadata": {},
   "outputs": [
    {
     "name": "stdout",
     "output_type": "stream",
     "text": [
      "<class 'pandas.core.frame.DataFrame'>\n",
      "RangeIndex: 627 entries, 0 to 626\n",
      "Data columns (total 41 columns):\n",
      " #   Column                                 Non-Null Count  Dtype \n",
      "---  ------                                 --------------  ----- \n",
      " 0   Age                                    627 non-null    object\n",
      " 1   Gender                                 627 non-null    object\n",
      " 2   Nationality                            627 non-null    object\n",
      " 3   Living Status                          627 non-null    object\n",
      " 4   Home Town                              627 non-null    object\n",
      " 5   Relationship Status                    627 non-null    object\n",
      " 6   Faculty                                627 non-null    object\n",
      " 7   Education Level                        627 non-null    object\n",
      " 8   Years of Study                         627 non-null    object\n",
      " 9   Completed Credit Hours                 627 non-null    object\n",
      " 10  CGPA                                   627 non-null    object\n",
      " 11  Number of Subjects Failed              627 non-null    object\n",
      " 12  SPM Result (A)                         627 non-null    object\n",
      " 13  SPM Result (B)                         627 non-null    object\n",
      " 14  SPM Result (C)                         627 non-null    object\n",
      " 15  Scholarship                            627 non-null    object\n",
      " 16  PTPTN                                  627 non-null    object\n",
      " 17  Reason Study at Multimedia University  627 non-null    object\n",
      " 18  Lecture Class Capacity                 627 non-null    object\n",
      " 19  Tutorial Class Capacity                627 non-null    object\n",
      " 20  Skipping Class                         627 non-null    object\n",
      " 21  Classroom Facilities                   627 non-null    object\n",
      " 22  Campus Environment                     627 non-null    object\n",
      " 23  Additional Course                      627 non-null    object\n",
      " 24  Family Size                            627 non-null    object\n",
      " 25  Parent's Education Level.Father        627 non-null    object\n",
      " 26  Parent's Education Level.Mother        627 non-null    object\n",
      " 27  Father's Occupation                    627 non-null    object\n",
      " 28  Mother's Occupation                    627 non-null    object\n",
      " 29  Financial Difficulties                 627 non-null    object\n",
      " 30  Financial Support                      627 non-null    object\n",
      " 31  Study Behavior                         627 non-null    object\n",
      " 32  Study Time                             627 non-null    object\n",
      " 33  Extra Curricular Activities            627 non-null    object\n",
      " 34  Part-time Job                          627 non-null    object\n",
      " 35  Commute Time                           627 non-null    object\n",
      " 36  Gaming                                 627 non-null    object\n",
      " 37  Alcohol Consumption                    627 non-null    object\n",
      " 38  I have enough free time after class    627 non-null    object\n",
      " 39  Social Interaction                     627 non-null    object\n",
      " 40  I hang out with friends                627 non-null    object\n",
      "dtypes: object(41)\n",
      "memory usage: 201.0+ KB\n"
     ]
    }
   ],
   "source": [
    "cleaned.info()"
   ]
  },
  {
   "cell_type": "code",
   "execution_count": 20,
   "id": "c03f1e44-b4c5-47b6-9515-36fc1932d90c",
   "metadata": {},
   "outputs": [],
   "source": [
    "from sklearn import preprocessing\n",
    "label_encoder = preprocessing.LabelEncoder()"
   ]
  },
  {
   "cell_type": "markdown",
   "id": "15af5fca-251a-4af7-b212-181a9630b999",
   "metadata": {},
   "source": [
    "# Binary Classification"
   ]
  },
  {
   "cell_type": "markdown",
   "id": "9a9c3dfc-4808-4744-b98b-eec3c78c85ec",
   "metadata": {},
   "source": [
    "## Binary Data Transformation"
   ]
  },
  {
   "cell_type": "code",
   "execution_count": 21,
   "id": "cee18de6-8435-4055-b167-3be9b96210ba",
   "metadata": {},
   "outputs": [],
   "source": [
    "none = cleaned.loc[(cleaned['CGPA'] == 'None')].index\n",
    "tclasses2 = cleaned.copy()\n",
    "tclasses2.drop(none, inplace = True)"
   ]
  },
  {
   "cell_type": "code",
   "execution_count": 22,
   "id": "25d755a1-c4b6-4908-b185-721c37dbce25",
   "metadata": {},
   "outputs": [],
   "source": [
    "tclasses2.to_csv('CSurvey2.csv', index = False)"
   ]
  },
  {
   "cell_type": "code",
   "execution_count": 23,
   "id": "a5ef0b2f-1170-41e7-93cd-e0b99d978d97",
   "metadata": {},
   "outputs": [],
   "source": [
    "tclasses2 = tclasses2.replace('Below Par', 'Fail')\n",
    "tclasses2 = tclasses2.replace(['Low', 'Average', 'Good', 'Very Good'], 'Pass')"
   ]
  },
  {
   "cell_type": "code",
   "execution_count": 24,
   "id": "ba2e934b-2041-4e4a-8b7d-720615d9d8f5",
   "metadata": {},
   "outputs": [],
   "source": [
    "CSurvey2_Trans_Binary_imb = tclasses2.copy()\n",
    "tcate2_imb = CSurvey2_Trans_Binary_imb.select_dtypes(include=['object'])\n",
    "CSurvey2_Trans_Binary_imb = tcate2_imb.apply(label_encoder.fit_transform)"
   ]
  },
  {
   "cell_type": "code",
   "execution_count": 25,
   "id": "249f221d-251c-4c99-a7b9-198f3022da12",
   "metadata": {},
   "outputs": [],
   "source": [
    "# CSurvey2_Trans_Binary_imb.to_csv('CSurvey2_Trans_Binary_imb.csv', index = False)"
   ]
  },
  {
   "cell_type": "markdown",
   "id": "d26045f6-cc49-43fc-a41a-ec52ccea2e3a",
   "metadata": {},
   "source": [
    "## Binary Data Balancing using RandomOverSampler"
   ]
  },
  {
   "cell_type": "code",
   "execution_count": 26,
   "id": "ad10814b-c225-47ab-bf34-3a25331ac6e9",
   "metadata": {},
   "outputs": [
    {
     "data": {
      "image/png": "[encoded data removed]",
      "text/plain": [
       "<Figure size 700x500 with 1 Axes>"
      ]
     },
     "metadata": {},
     "output_type": "display_data"
    }
   ],
   "source": [
    "plt.figure(figsize = (7,5))\n",
    "plt.title(\"Before Oversampling\")\n",
    "ax = sns.countplot(x = 'CGPA', data = tclasses2)\n",
    "\n",
    "for container in ax.containers:\n",
    "    ax.bar_label(container)\n",
    "\n",
    "plt.savefig('Dataset 2 Before RandomOversampling.png', dpi=300)\n",
    "plt.show()"
   ]
  },
  {
   "cell_type": "code",
   "execution_count": 27,
   "id": "01c6e279-9054-4a79-bf7d-7615da2f866b",
   "metadata": {},
   "outputs": [],
   "source": [
    "t_y = tclasses2.CGPA\n",
    "t_X = tclasses2.drop(\"CGPA\", axis = 1)\n",
    "t_colnames = t_X.columns"
   ]
  },
  {
   "cell_type": "code",
   "execution_count": 28,
   "id": "718eeb60-b901-42e8-aa2f-82e70f63b892",
   "metadata": {},
   "outputs": [],
   "source": [
    "from imblearn.over_sampling import RandomOverSampler\n",
    "from imblearn.under_sampling import RandomUnderSampler"
   ]
  },
  {
   "cell_type": "code",
   "execution_count": 29,
   "id": "c3187398-5e62-4b30-8eba-318facd40aac",
   "metadata": {},
   "outputs": [],
   "source": [
    "ros = RandomOverSampler(sampling_strategy = 'auto')\n",
    "os_tX, os_ty = ros.fit_resample(t_X, t_y)\n",
    "\n",
    "tX = tclasses2.drop(\"CGPA\", axis = 1)\n",
    "t_columns = tX.columns"
   ]
  },
  {
   "cell_type": "code",
   "execution_count": 30,
   "id": "3d15cd02-53c0-4d50-997d-16d0fd48b6e1",
   "metadata": {},
   "outputs": [
    {
     "name": "stdout",
     "output_type": "stream",
     "text": [
      "length of oversampled data is  1202\n"
     ]
    },
    {
     "data": {
      "image/png": "[encoded data removed]",
      "text/plain": [
       "<Figure size 700x500 with 1 Axes>"
      ]
     },
     "metadata": {},
     "output_type": "display_data"
    }
   ],
   "source": [
    "os_tX = pd.DataFrame(data = os_tX, columns = t_columns)\n",
    "os_ty = pd.DataFrame(data = os_ty, columns = ['CGPA'])\n",
    "print(\"length of oversampled data is \", len(os_tX))\n",
    "\n",
    "plt.figure(figsize = (7,5))\n",
    "plt.title(\"After Oversampling with RandomOverSampler\")\n",
    "ax = sns.countplot(x = 'CGPA', data = os_ty)\n",
    "\n",
    "for container in ax.containers:\n",
    "    ax.bar_label(container)\n",
    "\n",
    "plt.savefig('Dataset 2 After RandomOversampling.png', dpi=300)\n",
    "plt.show()"
   ]
  },
  {
   "cell_type": "code",
   "execution_count": 31,
   "id": "9eaa6fd7-c5f6-4476-953b-57f314f365cf",
   "metadata": {},
   "outputs": [
    {
     "data": {
      "text/plain": [
       "(1202, 41)"
      ]
     },
     "execution_count": 31,
     "metadata": {},
     "output_type": "execute_result"
    }
   ],
   "source": [
    "frames1 = [os_tX, os_ty]\n",
    "\n",
    "tros1 = pd.concat(frames1, axis = 1)\n",
    "\n",
    "tros1.shape"
   ]
  },
  {
   "cell_type": "code",
   "execution_count": 32,
   "id": "a167f1f0-f725-43cd-9b1f-810e2fccec08",
   "metadata": {},
   "outputs": [],
   "source": [
    "CSurvey2_Trans_Binary = tros1.copy()\n",
    "tcate2 = CSurvey2_Trans_Binary.select_dtypes(include=['object'])\n",
    "CSurvey2_Trans_Binary = tcate2.apply(label_encoder.fit_transform)"
   ]
  },
  {
   "cell_type": "code",
   "execution_count": 33,
   "id": "0ed3e63d-bb22-4db5-bd2e-6c3d9b68d0b5",
   "metadata": {},
   "outputs": [],
   "source": [
    "# CSurvey2_Trans_Binary.to_csv('CSurvey2_Trans_Binary_ROS.csv', index = False)"
   ]
  },
  {
   "cell_type": "markdown",
   "id": "447458cd-8380-4dae-8d8c-6f579f5fa898",
   "metadata": {},
   "source": [
    "## Binary Data Balancing using SMOTE"
   ]
  },
  {
   "cell_type": "code",
   "execution_count": 34,
   "id": "aed9c5d2-efe0-4252-91f0-792224fece1d",
   "metadata": {},
   "outputs": [],
   "source": [
    "from imblearn.over_sampling import SMOTE"
   ]
  },
  {
   "cell_type": "code",
   "execution_count": 35,
   "id": "2158850a-311d-474a-ae63-b7fb6e73e310",
   "metadata": {},
   "outputs": [],
   "source": [
    "t_y_encode = CSurvey2_Trans_Binary_imb.CGPA\n",
    "t_X_encode = CSurvey2_Trans_Binary_imb.drop(\"CGPA\", axis = 1)\n",
    "t_colnames = t_X.columns"
   ]
  },
  {
   "cell_type": "code",
   "execution_count": 36,
   "id": "3b0f9be1-e2c5-4f3f-80d4-d9eafa798352",
   "metadata": {},
   "outputs": [],
   "source": [
    "smote = SMOTE(sampling_strategy='auto')\n",
    "\n",
    "os_tX_smote, os_ty_smote = smote.fit_resample(t_X_encode, t_y_encode)"
   ]
  },
  {
   "cell_type": "code",
   "execution_count": 37,
   "id": "538da219-2c74-416e-8e3a-5addc83d13cd",
   "metadata": {},
   "outputs": [
    {
     "name": "stdout",
     "output_type": "stream",
     "text": [
      "length of oversampled data is  1202\n"
     ]
    },
    {
     "data": {
      "image/png": "[encoded data removed]",
      "text/plain": [
       "<Figure size 700x500 with 1 Axes>"
      ]
     },
     "metadata": {},
     "output_type": "display_data"
    }
   ],
   "source": [
    "os_tX_smote = pd.DataFrame(data = os_tX_smote, columns = t_columns)\n",
    "os_ty_smote = pd.DataFrame(data = os_ty_smote, columns = ['CGPA'])\n",
    "print(\"length of oversampled data is \", len(os_tX_smote))\n",
    "\n",
    "plt.figure(figsize = (7,5))\n",
    "plt.title(\"After Oversampling with SMOTE\")\n",
    "ax = sns.countplot(x = 'CGPA', data = os_ty_smote)\n",
    "\n",
    "for container in ax.containers:\n",
    "    ax.bar_label(container)\n",
    "\n",
    "plt.savefig('Dataset 2 After SMOTE.png', dpi=300)\n",
    "plt.show()"
   ]
  },
  {
   "cell_type": "code",
   "execution_count": 38,
   "id": "f4de038f-06b4-4328-8be6-adc6d8195333",
   "metadata": {},
   "outputs": [
    {
     "data": {
      "text/plain": [
       "(1202, 41)"
      ]
     },
     "execution_count": 38,
     "metadata": {},
     "output_type": "execute_result"
    }
   ],
   "source": [
    "frames2 = [os_tX_smote, os_ty_smote]\n",
    "\n",
    "tros2 = pd.concat(frames2, axis = 1)\n",
    "\n",
    "tros2.shape"
   ]
  },
  {
   "cell_type": "code",
   "execution_count": 39,
   "id": "bca22fc4-08d7-4a96-97c2-53ec3b254b0c",
   "metadata": {},
   "outputs": [],
   "source": [
    "CSurvey2_Trans_Binary_SMOTE = tros2.copy()\n",
    "tcate2 = CSurvey2_Trans_Binary_SMOTE.select_dtypes(include=['object'])\n",
    "# CSurvey2_Trans_Binary_200 = tcate2.apply(label_encoder.fit_transform)"
   ]
  },
  {
   "cell_type": "code",
   "execution_count": 40,
   "id": "a5bc1ab3-22fe-4744-ae0a-3ad5d49a84ab",
   "metadata": {},
   "outputs": [],
   "source": [
    "# CSurvey2_Trans_Binary_SMOTE.to_csv('CSurvey2_Trans_Binary_SMOTE.csv', index = False)"
   ]
  },
  {
   "cell_type": "markdown",
   "id": "d8f14908-7c9d-46d7-b6f6-6a40813c2299",
   "metadata": {},
   "source": [
    "# 5-Level Classification"
   ]
  },
  {
   "cell_type": "markdown",
   "id": "112640d5-1290-41b2-9420-50b11af8193d",
   "metadata": {},
   "source": [
    "## 5-Level Data Transformation"
   ]
  },
  {
   "cell_type": "code",
   "execution_count": 41,
   "id": "76ffa9fe-bb85-4b74-8c69-8d773ca457d9",
   "metadata": {},
   "outputs": [],
   "source": [
    "none = cleaned.loc[(cleaned['CGPA'] == 'None')].index\n",
    "fclasses2 = cleaned.copy()\n",
    "fclasses2.drop(none, inplace = True)"
   ]
  },
  {
   "cell_type": "code",
   "execution_count": 42,
   "id": "fa7464cd-d60f-4f21-ab53-43c4aee4c16c",
   "metadata": {},
   "outputs": [],
   "source": [
    "CSurvey2_Trans_5level_imb = fclasses2.copy()\n",
    "fcate2_imb = CSurvey2_Trans_5level_imb.select_dtypes(include=['object'])\n",
    "CSurvey2_Trans_5level_imb = fcate2_imb.apply(label_encoder.fit_transform)"
   ]
  },
  {
   "cell_type": "code",
   "execution_count": 43,
   "id": "1aab5401-e6b9-4533-9005-786281c0a2dd",
   "metadata": {},
   "outputs": [],
   "source": [
    "# CSurvey2_Trans_5level_imb.to_csv('CSurvey2_Trans_5level_imb.csv', index = False)"
   ]
  },
  {
   "cell_type": "markdown",
   "id": "d7a95be8-4992-4d2d-8c96-620d9dabba84",
   "metadata": {},
   "source": [
    "## 5-Level Data Balancing using RandomOverSampler"
   ]
  },
  {
   "cell_type": "code",
   "execution_count": 44,
   "id": "8bb10813-4977-407b-ab41-5556f73ef919",
   "metadata": {},
   "outputs": [
    {
     "data": {
      "image/png": "[encoded data removed]",
      "text/plain": [
       "<Figure size 700x500 with 1 Axes>"
      ]
     },
     "metadata": {},
     "output_type": "display_data"
    }
   ],
   "source": [
    "plt.figure(figsize = (7,5))\n",
    "plt.title(\"Before Oversampling\")\n",
    "ax = sns.countplot(x = 'CGPA', data = fclasses2)\n",
    "\n",
    "for container in ax.containers:\n",
    "    ax.bar_label(container)\n",
    "\n",
    "plt.savefig('Dataset 2 5 class Before RandomOversampling.png', dpi=300)\n",
    "plt.show()"
   ]
  },
  {
   "cell_type": "code",
   "execution_count": 45,
   "id": "64a7d9d6-640b-406a-95a3-a4391222b4fc",
   "metadata": {},
   "outputs": [],
   "source": [
    "f_y = fclasses2.CGPA\n",
    "f_X = fclasses2.drop(\"CGPA\", axis = 1)\n",
    "f_colnames = f_X.columns"
   ]
  },
  {
   "cell_type": "code",
   "execution_count": 46,
   "id": "9b931578-48fe-46df-b7d0-7798e6deb2e0",
   "metadata": {},
   "outputs": [],
   "source": [
    "ros = RandomOverSampler(sampling_strategy = 'auto')\n",
    "os_fX, os_fy = ros.fit_resample(f_X, f_y)\n",
    "\n",
    "fX = fclasses2.drop(\"CGPA\", axis = 1)\n",
    "f_columns = fX.columns"
   ]
  },
  {
   "cell_type": "code",
   "execution_count": 47,
   "id": "1332a8eb-d3b1-4954-b27f-5ed2a17768f6",
   "metadata": {},
   "outputs": [
    {
     "name": "stdout",
     "output_type": "stream",
     "text": [
      "length of oversampled data is  1390\n"
     ]
    },
    {
     "data": {
      "image/png": "[encoded data removed]",
      "text/plain": [
       "<Figure size 700x500 with 1 Axes>"
      ]
     },
     "metadata": {},
     "output_type": "display_data"
    }
   ],
   "source": [
    "os_fX = pd.DataFrame(data = os_fX, columns = f_columns)\n",
    "os_fy = pd.DataFrame(data = os_fy, columns = ['CGPA'])\n",
    "print(\"length of oversampled data is \", len(os_fX))\n",
    "\n",
    "plt.figure(figsize = (7,5))\n",
    "plt.title(\"After Oversampling with RandomOverSampler\")\n",
    "ax = sns.countplot(x = 'CGPA', data = os_fy)\n",
    "\n",
    "for container in ax.containers:\n",
    "    ax.bar_label(container)\n",
    "\n",
    "plt.savefig('Dataset 2 5 class After RandomOversampling.png', dpi=300)\n",
    "plt.show()"
   ]
  },
  {
   "cell_type": "code",
   "execution_count": 48,
   "id": "84d63828-72ef-424a-9154-81e7029cdeba",
   "metadata": {},
   "outputs": [
    {
     "data": {
      "text/plain": [
       "(1390, 41)"
      ]
     },
     "execution_count": 48,
     "metadata": {},
     "output_type": "execute_result"
    }
   ],
   "source": [
    "frames = [os_fX, os_fy]\n",
    "\n",
    "fros1 = pd.concat(frames, axis = 1)\n",
    "\n",
    "fros1.shape"
   ]
  },
  {
   "cell_type": "code",
   "execution_count": 49,
   "id": "ef5811df-e548-4de6-8a16-8c3f57cd5257",
   "metadata": {},
   "outputs": [],
   "source": [
    "CSurvey2_Trans_5level = fros1.copy()\n",
    "fcate1 = CSurvey2_Trans_5level.select_dtypes(include=['object'])\n",
    "CSurvey2_Trans_5level = fcate1.apply(label_encoder.fit_transform)"
   ]
  },
  {
   "cell_type": "code",
   "execution_count": 50,
   "id": "9741fd92-131a-41e6-a0c9-2cf55bd50851",
   "metadata": {},
   "outputs": [],
   "source": [
    "# CSurvey2_Trans_5level.to_csv('CSurvey2_Trans_5level_ROS.csv', index = False)"
   ]
  },
  {
   "cell_type": "markdown",
   "id": "065b4193-2fcb-4715-865e-b91074b1eff8",
   "metadata": {},
   "source": [
    "## 5-Level Data Balancing using SMOTE"
   ]
  },
  {
   "cell_type": "code",
   "execution_count": 51,
   "id": "0a359890-12c1-4a6a-a6c9-11d78f9bbbe8",
   "metadata": {},
   "outputs": [],
   "source": [
    "f_y_encode = CSurvey2_Trans_5level_imb.CGPA\n",
    "f_X_encode = CSurvey2_Trans_5level_imb.drop(\"CGPA\", axis = 1)\n",
    "f_colnames = f_X.columns"
   ]
  },
  {
   "cell_type": "code",
   "execution_count": 52,
   "id": "c451f4c8-86d9-4c86-adee-5f3430e26169",
   "metadata": {},
   "outputs": [],
   "source": [
    "os_fX_smote, os_fy_smote = smote.fit_resample(f_X_encode, f_y_encode)"
   ]
  },
  {
   "cell_type": "code",
   "execution_count": 53,
   "id": "e1d51211-551c-4f08-a597-267d952af595",
   "metadata": {},
   "outputs": [
    {
     "name": "stdout",
     "output_type": "stream",
     "text": [
      "length of oversampled data is  1390\n"
     ]
    },
    {
     "data": {
      "image/png": "[encoded data removed]",
      "text/plain": [
       "<Figure size 700x500 with 1 Axes>"
      ]
     },
     "metadata": {},
     "output_type": "display_data"
    }
   ],
   "source": [
    "os_fX_smote = pd.DataFrame(data = os_fX_smote, columns = f_columns)\n",
    "os_fy_smote = pd.DataFrame(data = os_fy_smote, columns = ['CGPA'])\n",
    "print(\"length of oversampled data is \", len(os_fX_smote))\n",
    "\n",
    "plt.figure(figsize = (7,5))\n",
    "plt.title(\"After Oversampling with SMOTE\")\n",
    "ax = sns.countplot(x = 'CGPA', data = os_fy_smote)\n",
    "\n",
    "for container in ax.containers:\n",
    "    ax.bar_label(container)\n",
    "\n",
    "plt.savefig('Dataset 2 5 class After SMOTE.png', dpi=300)\n",
    "plt.show()"
   ]
  },
  {
   "cell_type": "code",
   "execution_count": 54,
   "id": "f7a26c94-01b9-4574-b96d-3d9405d0efd7",
   "metadata": {},
   "outputs": [
    {
     "data": {
      "text/plain": [
       "(1390, 41)"
      ]
     },
     "execution_count": 54,
     "metadata": {},
     "output_type": "execute_result"
    }
   ],
   "source": [
    "frames = [os_fX_smote, os_fy_smote]\n",
    "\n",
    "fros2 = pd.concat(frames, axis = 1)\n",
    "\n",
    "fros2.shape"
   ]
  },
  {
   "cell_type": "code",
   "execution_count": 55,
   "id": "b7873d2a-27de-47e5-b00a-12c9220af86a",
   "metadata": {},
   "outputs": [],
   "source": [
    "CSurvey2_Trans_5level_SMOTE = fros2.copy()\n",
    "fcate2 = CSurvey2_Trans_5level_SMOTE.select_dtypes(include=['object'])\n",
    "# CSurvey2_Trans_5level_200 = fcate2.apply(label_encoder.fit_transform)"
   ]
  },
  {
   "cell_type": "code",
   "execution_count": 56,
   "id": "666f7aa2-07ec-40d5-8430-2d89bb407837",
   "metadata": {},
   "outputs": [],
   "source": [
    "# CSurvey2_Trans_5level_SMOTE.to_csv('CSurvey2_Trans_5level_SMOTE.csv', index = False)"
   ]
  }
 ],
 "metadata": {
  "kernelspec": {
   "display_name": "Python 3 (ipykernel)",
   "language": "python",
   "name": "python3"
  },
  "language_info": {
   "codemirror_mode": {
    "name": "ipython",
    "version": 3
   },
   "file_extension": ".py",
   "mimetype": "text/x-python",
   "name": "python",
   "nbconvert_exporter": "python",
   "pygments_lexer": "ipython3",
   "version": "3.11.7"
  }
 },
 "nbformat": 4,
 "nbformat_minor": 5
}
