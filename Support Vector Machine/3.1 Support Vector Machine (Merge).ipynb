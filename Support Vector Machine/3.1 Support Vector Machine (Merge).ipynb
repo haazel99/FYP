{
 "cells": [
  {
   "cell_type": "markdown",
   "id": "58549931-3cc1-429f-a427-efab6d113516",
   "metadata": {},
   "source": [
    "# 3.1 Support Vector Machine (Merge)"
   ]
  },
  {
   "cell_type": "markdown",
   "id": "49d9dab4-4a1a-4ba1-a5c8-d66ee6e1c1e3",
   "metadata": {},
   "source": [
    "### Import Libraries"
   ]
  },
  {
   "cell_type": "code",
   "execution_count": 1,
   "id": "c33a1ae2-6e98-46a1-a0d8-9cb3e7416e31",
   "metadata": {},
   "outputs": [],
   "source": [
    "import pandas as pd\n",
    "import numpy as np\n",
    "import matplotlib.pyplot as plt\n",
    "\n",
    "from sklearn.model_selection import GridSearchCV\n",
    "from sklearn.model_selection import train_test_split\n",
    "from sklearn.svm import SVC\n",
    "\n",
    "from sklearn.metrics import accuracy_score, precision_score, recall_score, f1_score\n",
    "from sklearn.metrics import classification_report, confusion_matrix"
   ]
  },
  {
   "cell_type": "markdown",
   "id": "14220dbf-8dd4-40c5-a6b1-d07327bcad9d",
   "metadata": {},
   "source": [
    "# Dataset used"
   ]
  },
  {
   "cell_type": "code",
   "execution_count": 2,
   "id": "ebf766bf-19e4-4b47-b3f1-09eb131a1bf9",
   "metadata": {},
   "outputs": [
    {
     "name": "stdout",
     "output_type": "stream",
     "text": [
      "merge_B_imb: (1287, 41)\n",
      "merge_5L_imb: (1287, 41)\n",
      "merge_B_ROS: (2540, 41)\n",
      "merge_5L_ROS: (3085, 41)\n",
      "merge_B_SMOTE: (2540, 41)\n",
      "merge_5L_SMOTE: (3085, 41)\n"
     ]
    }
   ],
   "source": [
    "merge_B_imb = pd.read_csv('merge_B_imb.csv')\n",
    "merge_5L_imb = pd.read_csv('merge_5L_imb.csv')\n",
    "\n",
    "merge_B_ROS = pd.read_csv('merge_B_ROS.csv')\n",
    "merge_5L_ROS = pd.read_csv('merge_5L_ROS.csv')\n",
    "\n",
    "merge_B_SMOTE = pd.read_csv('merge_B_SMOTE.csv')\n",
    "merge_5L_SMOTE = pd.read_csv('merge_5L_SMOTE.csv')\n",
    "\n",
    "print(\"merge_B_imb:\", merge_B_imb.shape)\n",
    "print(\"merge_5L_imb:\", merge_5L_imb.shape)\n",
    "print(\"merge_B_ROS:\", merge_B_ROS.shape)\n",
    "print(\"merge_5L_ROS:\", merge_5L_ROS.shape)\n",
    "print(\"merge_B_SMOTE:\", merge_B_SMOTE.shape)\n",
    "print(\"merge_5L_SMOTE:\", merge_5L_SMOTE.shape)"
   ]
  },
  {
   "cell_type": "code",
   "execution_count": 3,
   "id": "d4fb4cf8-ce3e-4913-8676-42719d5df013",
   "metadata": {},
   "outputs": [],
   "source": [
    "rand_states = [7,69,101]"
   ]
  },
  {
   "cell_type": "markdown",
   "id": "6b44a251-343d-481e-b70e-2ee3b5d46ede",
   "metadata": {},
   "source": [
    "# Binary Classification"
   ]
  },
  {
   "cell_type": "markdown",
   "id": "2269e9f1-5af2-48d2-9132-2bbfa9c0ad7a",
   "metadata": {},
   "source": [
    "## Student Background"
   ]
  },
  {
   "cell_type": "markdown",
   "id": "01efc9b8-22a3-48d0-8684-5b384f34b1cf",
   "metadata": {},
   "source": [
    "### SB before Data Balancing "
   ]
  },
  {
   "cell_type": "code",
   "execution_count": 4,
   "id": "2d97561e-65fe-44ac-b2b1-046e0926eb4f",
   "metadata": {},
   "outputs": [
    {
     "name": "stdout",
     "output_type": "stream",
     "text": [
      "X: (1287, 9) y: (1287, 1)\n",
      "Fitting 10 folds for each of 32 candidates, totalling 320 fits\n"
     ]
    },
    {
     "name": "stderr",
     "output_type": "stream",
     "text": [
      "C:\\Users\\hazel\\anaconda3\\Lib\\site-packages\\sklearn\\model_selection\\_split.py:700: UserWarning: The least populated class in y has only 8 members, which is less than n_splits=10.\n",
      "  warnings.warn(\n",
      "C:\\Users\\hazel\\anaconda3\\Lib\\site-packages\\sklearn\\utils\\validation.py:1143: DataConversionWarning: A column-vector y was passed when a 1d array was expected. Please change the shape of y to (n_samples, ), for example using ravel().\n",
      "  y = column_or_1d(y, warn=True)\n",
      "C:\\Users\\hazel\\anaconda3\\Lib\\site-packages\\sklearn\\metrics\\_classification.py:1344: UndefinedMetricWarning: Precision is ill-defined and being set to 0.0 in labels with no predicted samples. Use `zero_division` parameter to control this behavior.\n",
      "  _warn_prf(average, modifier, msg_start, len(result))\n",
      "C:\\Users\\hazel\\anaconda3\\Lib\\site-packages\\sklearn\\model_selection\\_split.py:700: UserWarning: The least populated class in y has only 8 members, which is less than n_splits=10.\n",
      "  warnings.warn(\n"
     ]
    },
    {
     "name": "stdout",
     "output_type": "stream",
     "text": [
      "Fitting 10 folds for each of 32 candidates, totalling 320 fits\n"
     ]
    },
    {
     "name": "stderr",
     "output_type": "stream",
     "text": [
      "C:\\Users\\hazel\\anaconda3\\Lib\\site-packages\\sklearn\\utils\\validation.py:1143: DataConversionWarning: A column-vector y was passed when a 1d array was expected. Please change the shape of y to (n_samples, ), for example using ravel().\n",
      "  y = column_or_1d(y, warn=True)\n",
      "C:\\Users\\hazel\\anaconda3\\Lib\\site-packages\\sklearn\\metrics\\_classification.py:1344: UndefinedMetricWarning: Precision is ill-defined and being set to 0.0 in labels with no predicted samples. Use `zero_division` parameter to control this behavior.\n",
      "  _warn_prf(average, modifier, msg_start, len(result))\n",
      "C:\\Users\\hazel\\anaconda3\\Lib\\site-packages\\sklearn\\model_selection\\_split.py:700: UserWarning: The least populated class in y has only 8 members, which is less than n_splits=10.\n",
      "  warnings.warn(\n"
     ]
    },
    {
     "name": "stdout",
     "output_type": "stream",
     "text": [
      "Fitting 10 folds for each of 32 candidates, totalling 320 fits\n"
     ]
    },
    {
     "name": "stderr",
     "output_type": "stream",
     "text": [
      "C:\\Users\\hazel\\anaconda3\\Lib\\site-packages\\sklearn\\utils\\validation.py:1143: DataConversionWarning: A column-vector y was passed when a 1d array was expected. Please change the shape of y to (n_samples, ), for example using ravel().\n",
      "  y = column_or_1d(y, warn=True)\n",
      "C:\\Users\\hazel\\anaconda3\\Lib\\site-packages\\sklearn\\metrics\\_classification.py:1344: UndefinedMetricWarning: Precision is ill-defined and being set to 0.0 in labels with no predicted samples. Use `zero_division` parameter to control this behavior.\n",
      "  _warn_prf(average, modifier, msg_start, len(result))\n"
     ]
    },
    {
     "name": "stdout",
     "output_type": "stream",
     "text": [
      "Fitting 10 folds for each of 32 candidates, totalling 320 fits\n"
     ]
    },
    {
     "name": "stderr",
     "output_type": "stream",
     "text": [
      "C:\\Users\\hazel\\anaconda3\\Lib\\site-packages\\sklearn\\utils\\validation.py:1143: DataConversionWarning: A column-vector y was passed when a 1d array was expected. Please change the shape of y to (n_samples, ), for example using ravel().\n",
      "  y = column_or_1d(y, warn=True)\n",
      "C:\\Users\\hazel\\anaconda3\\Lib\\site-packages\\sklearn\\metrics\\_classification.py:1344: UndefinedMetricWarning: Precision is ill-defined and being set to 0.0 in labels with no predicted samples. Use `zero_division` parameter to control this behavior.\n",
      "  _warn_prf(average, modifier, msg_start, len(result))\n",
      "C:\\Users\\hazel\\anaconda3\\Lib\\site-packages\\sklearn\\model_selection\\_split.py:700: UserWarning: The least populated class in y has only 9 members, which is less than n_splits=10.\n",
      "  warnings.warn(\n"
     ]
    },
    {
     "name": "stdout",
     "output_type": "stream",
     "text": [
      "Fitting 10 folds for each of 32 candidates, totalling 320 fits\n"
     ]
    },
    {
     "name": "stderr",
     "output_type": "stream",
     "text": [
      "C:\\Users\\hazel\\anaconda3\\Lib\\site-packages\\sklearn\\utils\\validation.py:1143: DataConversionWarning: A column-vector y was passed when a 1d array was expected. Please change the shape of y to (n_samples, ), for example using ravel().\n",
      "  y = column_or_1d(y, warn=True)\n",
      "C:\\Users\\hazel\\anaconda3\\Lib\\site-packages\\sklearn\\metrics\\_classification.py:1344: UndefinedMetricWarning: Precision is ill-defined and being set to 0.0 in labels with no predicted samples. Use `zero_division` parameter to control this behavior.\n",
      "  _warn_prf(average, modifier, msg_start, len(result))\n"
     ]
    },
    {
     "name": "stdout",
     "output_type": "stream",
     "text": [
      "Fitting 10 folds for each of 32 candidates, totalling 320 fits\n"
     ]
    },
    {
     "name": "stderr",
     "output_type": "stream",
     "text": [
      "C:\\Users\\hazel\\anaconda3\\Lib\\site-packages\\sklearn\\utils\\validation.py:1143: DataConversionWarning: A column-vector y was passed when a 1d array was expected. Please change the shape of y to (n_samples, ), for example using ravel().\n",
      "  y = column_or_1d(y, warn=True)\n",
      "C:\\Users\\hazel\\anaconda3\\Lib\\site-packages\\sklearn\\metrics\\_classification.py:1344: UndefinedMetricWarning: Precision is ill-defined and being set to 0.0 in labels with no predicted samples. Use `zero_division` parameter to control this behavior.\n",
      "  _warn_prf(average, modifier, msg_start, len(result))\n"
     ]
    },
    {
     "name": "stdout",
     "output_type": "stream",
     "text": [
      "Fitting 10 folds for each of 32 candidates, totalling 320 fits\n"
     ]
    },
    {
     "name": "stderr",
     "output_type": "stream",
     "text": [
      "C:\\Users\\hazel\\anaconda3\\Lib\\site-packages\\sklearn\\utils\\validation.py:1143: DataConversionWarning: A column-vector y was passed when a 1d array was expected. Please change the shape of y to (n_samples, ), for example using ravel().\n",
      "  y = column_or_1d(y, warn=True)\n",
      "C:\\Users\\hazel\\anaconda3\\Lib\\site-packages\\sklearn\\metrics\\_classification.py:1344: UndefinedMetricWarning: Precision is ill-defined and being set to 0.0 in labels with no predicted samples. Use `zero_division` parameter to control this behavior.\n",
      "  _warn_prf(average, modifier, msg_start, len(result))\n"
     ]
    },
    {
     "name": "stdout",
     "output_type": "stream",
     "text": [
      "Fitting 10 folds for each of 32 candidates, totalling 320 fits\n"
     ]
    },
    {
     "name": "stderr",
     "output_type": "stream",
     "text": [
      "C:\\Users\\hazel\\anaconda3\\Lib\\site-packages\\sklearn\\utils\\validation.py:1143: DataConversionWarning: A column-vector y was passed when a 1d array was expected. Please change the shape of y to (n_samples, ), for example using ravel().\n",
      "  y = column_or_1d(y, warn=True)\n",
      "C:\\Users\\hazel\\anaconda3\\Lib\\site-packages\\sklearn\\metrics\\_classification.py:1344: UndefinedMetricWarning: Precision is ill-defined and being set to 0.0 in labels with no predicted samples. Use `zero_division` parameter to control this behavior.\n",
      "  _warn_prf(average, modifier, msg_start, len(result))\n"
     ]
    },
    {
     "name": "stdout",
     "output_type": "stream",
     "text": [
      "Fitting 10 folds for each of 32 candidates, totalling 320 fits\n"
     ]
    },
    {
     "name": "stderr",
     "output_type": "stream",
     "text": [
      "C:\\Users\\hazel\\anaconda3\\Lib\\site-packages\\sklearn\\utils\\validation.py:1143: DataConversionWarning: A column-vector y was passed when a 1d array was expected. Please change the shape of y to (n_samples, ), for example using ravel().\n",
      "  y = column_or_1d(y, warn=True)\n",
      "C:\\Users\\hazel\\anaconda3\\Lib\\site-packages\\sklearn\\metrics\\_classification.py:1344: UndefinedMetricWarning: Precision is ill-defined and being set to 0.0 in labels with no predicted samples. Use `zero_division` parameter to control this behavior.\n",
      "  _warn_prf(average, modifier, msg_start, len(result))\n"
     ]
    },
    {
     "name": "stdout",
     "output_type": "stream",
     "text": [
      "Fitting 10 folds for each of 32 candidates, totalling 320 fits\n"
     ]
    },
    {
     "name": "stderr",
     "output_type": "stream",
     "text": [
      "C:\\Users\\hazel\\anaconda3\\Lib\\site-packages\\sklearn\\utils\\validation.py:1143: DataConversionWarning: A column-vector y was passed when a 1d array was expected. Please change the shape of y to (n_samples, ), for example using ravel().\n",
      "  y = column_or_1d(y, warn=True)\n",
      "C:\\Users\\hazel\\anaconda3\\Lib\\site-packages\\sklearn\\metrics\\_classification.py:1344: UndefinedMetricWarning: Precision is ill-defined and being set to 0.0 in labels with no predicted samples. Use `zero_division` parameter to control this behavior.\n",
      "  _warn_prf(average, modifier, msg_start, len(result))\n"
     ]
    },
    {
     "name": "stdout",
     "output_type": "stream",
     "text": [
      "Fitting 10 folds for each of 32 candidates, totalling 320 fits\n"
     ]
    },
    {
     "name": "stderr",
     "output_type": "stream",
     "text": [
      "C:\\Users\\hazel\\anaconda3\\Lib\\site-packages\\sklearn\\utils\\validation.py:1143: DataConversionWarning: A column-vector y was passed when a 1d array was expected. Please change the shape of y to (n_samples, ), for example using ravel().\n",
      "  y = column_or_1d(y, warn=True)\n",
      "C:\\Users\\hazel\\anaconda3\\Lib\\site-packages\\sklearn\\metrics\\_classification.py:1344: UndefinedMetricWarning: Precision is ill-defined and being set to 0.0 in labels with no predicted samples. Use `zero_division` parameter to control this behavior.\n",
      "  _warn_prf(average, modifier, msg_start, len(result))\n"
     ]
    },
    {
     "name": "stdout",
     "output_type": "stream",
     "text": [
      "Fitting 10 folds for each of 32 candidates, totalling 320 fits\n"
     ]
    },
    {
     "name": "stderr",
     "output_type": "stream",
     "text": [
      "C:\\Users\\hazel\\anaconda3\\Lib\\site-packages\\sklearn\\utils\\validation.py:1143: DataConversionWarning: A column-vector y was passed when a 1d array was expected. Please change the shape of y to (n_samples, ), for example using ravel().\n",
      "  y = column_or_1d(y, warn=True)\n",
      "C:\\Users\\hazel\\anaconda3\\Lib\\site-packages\\sklearn\\metrics\\_classification.py:1344: UndefinedMetricWarning: Precision is ill-defined and being set to 0.0 in labels with no predicted samples. Use `zero_division` parameter to control this behavior.\n",
      "  _warn_prf(average, modifier, msg_start, len(result))\n"
     ]
    },
    {
     "data": {
      "text/html": [
       "<div>\n",
       "<style scoped>\n",
       "    .dataframe tbody tr th:only-of-type {\n",
       "        vertical-align: middle;\n",
       "    }\n",
       "\n",
       "    .dataframe tbody tr th {\n",
       "        vertical-align: top;\n",
       "    }\n",
       "\n",
       "    .dataframe thead th {\n",
       "        text-align: right;\n",
       "    }\n",
       "</style>\n",
       "<table border=\"1\" class=\"dataframe\">\n",
       "  <thead>\n",
       "    <tr style=\"text-align: right;\">\n",
       "      <th></th>\n",
       "      <th>Test Size</th>\n",
       "      <th>Random State</th>\n",
       "      <th>Accuracy</th>\n",
       "      <th>Precision</th>\n",
       "      <th>Recall</th>\n",
       "      <th>F1 Score</th>\n",
       "      <th>Best Param</th>\n",
       "    </tr>\n",
       "  </thead>\n",
       "  <tbody>\n",
       "    <tr>\n",
       "      <th>0</th>\n",
       "      <td>0.5</td>\n",
       "      <td>7</td>\n",
       "      <td>0.986025</td>\n",
       "      <td>0.972245</td>\n",
       "      <td>0.986025</td>\n",
       "      <td>0.979086</td>\n",
       "      <td>{'C': 0.1, 'gamma': 1, 'kernel': 'rbf'}</td>\n",
       "    </tr>\n",
       "    <tr>\n",
       "      <th>1</th>\n",
       "      <td>0.5</td>\n",
       "      <td>69</td>\n",
       "      <td>0.986025</td>\n",
       "      <td>0.972245</td>\n",
       "      <td>0.986025</td>\n",
       "      <td>0.979086</td>\n",
       "      <td>{'C': 0.1, 'gamma': 1, 'kernel': 'rbf'}</td>\n",
       "    </tr>\n",
       "    <tr>\n",
       "      <th>2</th>\n",
       "      <td>0.5</td>\n",
       "      <td>101</td>\n",
       "      <td>0.986025</td>\n",
       "      <td>0.972245</td>\n",
       "      <td>0.986025</td>\n",
       "      <td>0.979086</td>\n",
       "      <td>{'C': 0.1, 'gamma': 1, 'kernel': 'rbf'}</td>\n",
       "    </tr>\n",
       "    <tr>\n",
       "      <th>3</th>\n",
       "      <td>0.4</td>\n",
       "      <td>7</td>\n",
       "      <td>0.988350</td>\n",
       "      <td>0.976835</td>\n",
       "      <td>0.988350</td>\n",
       "      <td>0.982558</td>\n",
       "      <td>{'C': 0.1, 'gamma': 1, 'kernel': 'rbf'}</td>\n",
       "    </tr>\n",
       "    <tr>\n",
       "      <th>4</th>\n",
       "      <td>0.4</td>\n",
       "      <td>69</td>\n",
       "      <td>0.984466</td>\n",
       "      <td>0.969173</td>\n",
       "      <td>0.984466</td>\n",
       "      <td>0.976760</td>\n",
       "      <td>{'C': 0.1, 'gamma': 1, 'kernel': 'rbf'}</td>\n",
       "    </tr>\n",
       "    <tr>\n",
       "      <th>5</th>\n",
       "      <td>0.4</td>\n",
       "      <td>101</td>\n",
       "      <td>0.986408</td>\n",
       "      <td>0.973000</td>\n",
       "      <td>0.986408</td>\n",
       "      <td>0.979658</td>\n",
       "      <td>{'C': 0.1, 'gamma': 1, 'kernel': 'rbf'}</td>\n",
       "    </tr>\n",
       "    <tr>\n",
       "      <th>6</th>\n",
       "      <td>0.3</td>\n",
       "      <td>7</td>\n",
       "      <td>0.989664</td>\n",
       "      <td>0.979435</td>\n",
       "      <td>0.989664</td>\n",
       "      <td>0.984523</td>\n",
       "      <td>{'C': 0.1, 'gamma': 1, 'kernel': 'rbf'}</td>\n",
       "    </tr>\n",
       "    <tr>\n",
       "      <th>7</th>\n",
       "      <td>0.3</td>\n",
       "      <td>69</td>\n",
       "      <td>0.987080</td>\n",
       "      <td>0.974327</td>\n",
       "      <td>0.987080</td>\n",
       "      <td>0.980662</td>\n",
       "      <td>{'C': 0.1, 'gamma': 1, 'kernel': 'rbf'}</td>\n",
       "    </tr>\n",
       "    <tr>\n",
       "      <th>8</th>\n",
       "      <td>0.3</td>\n",
       "      <td>101</td>\n",
       "      <td>0.987080</td>\n",
       "      <td>0.974327</td>\n",
       "      <td>0.987080</td>\n",
       "      <td>0.980662</td>\n",
       "      <td>{'C': 0.1, 'gamma': 1, 'kernel': 'rbf'}</td>\n",
       "    </tr>\n",
       "    <tr>\n",
       "      <th>9</th>\n",
       "      <td>0.2</td>\n",
       "      <td>7</td>\n",
       "      <td>0.992248</td>\n",
       "      <td>0.984556</td>\n",
       "      <td>0.992248</td>\n",
       "      <td>0.988387</td>\n",
       "      <td>{'C': 0.1, 'gamma': 1, 'kernel': 'rbf'}</td>\n",
       "    </tr>\n",
       "    <tr>\n",
       "      <th>10</th>\n",
       "      <td>0.2</td>\n",
       "      <td>69</td>\n",
       "      <td>0.984496</td>\n",
       "      <td>0.969233</td>\n",
       "      <td>0.984496</td>\n",
       "      <td>0.976805</td>\n",
       "      <td>{'C': 0.1, 'gamma': 1, 'kernel': 'rbf'}</td>\n",
       "    </tr>\n",
       "    <tr>\n",
       "      <th>11</th>\n",
       "      <td>0.2</td>\n",
       "      <td>101</td>\n",
       "      <td>0.984496</td>\n",
       "      <td>0.969233</td>\n",
       "      <td>0.984496</td>\n",
       "      <td>0.976805</td>\n",
       "      <td>{'C': 0.1, 'gamma': 1, 'kernel': 'rbf'}</td>\n",
       "    </tr>\n",
       "  </tbody>\n",
       "</table>\n",
       "</div>"
      ],
      "text/plain": [
       "    Test Size  Random State  Accuracy  Precision    Recall  F1 Score  \\\n",
       "0         0.5             7  0.986025   0.972245  0.986025  0.979086   \n",
       "1         0.5            69  0.986025   0.972245  0.986025  0.979086   \n",
       "2         0.5           101  0.986025   0.972245  0.986025  0.979086   \n",
       "3         0.4             7  0.988350   0.976835  0.988350  0.982558   \n",
       "4         0.4            69  0.984466   0.969173  0.984466  0.976760   \n",
       "5         0.4           101  0.986408   0.973000  0.986408  0.979658   \n",
       "6         0.3             7  0.989664   0.979435  0.989664  0.984523   \n",
       "7         0.3            69  0.987080   0.974327  0.987080  0.980662   \n",
       "8         0.3           101  0.987080   0.974327  0.987080  0.980662   \n",
       "9         0.2             7  0.992248   0.984556  0.992248  0.988387   \n",
       "10        0.2            69  0.984496   0.969233  0.984496  0.976805   \n",
       "11        0.2           101  0.984496   0.969233  0.984496  0.976805   \n",
       "\n",
       "                                 Best Param  \n",
       "0   {'C': 0.1, 'gamma': 1, 'kernel': 'rbf'}  \n",
       "1   {'C': 0.1, 'gamma': 1, 'kernel': 'rbf'}  \n",
       "2   {'C': 0.1, 'gamma': 1, 'kernel': 'rbf'}  \n",
       "3   {'C': 0.1, 'gamma': 1, 'kernel': 'rbf'}  \n",
       "4   {'C': 0.1, 'gamma': 1, 'kernel': 'rbf'}  \n",
       "5   {'C': 0.1, 'gamma': 1, 'kernel': 'rbf'}  \n",
       "6   {'C': 0.1, 'gamma': 1, 'kernel': 'rbf'}  \n",
       "7   {'C': 0.1, 'gamma': 1, 'kernel': 'rbf'}  \n",
       "8   {'C': 0.1, 'gamma': 1, 'kernel': 'rbf'}  \n",
       "9   {'C': 0.1, 'gamma': 1, 'kernel': 'rbf'}  \n",
       "10  {'C': 0.1, 'gamma': 1, 'kernel': 'rbf'}  \n",
       "11  {'C': 0.1, 'gamma': 1, 'kernel': 'rbf'}  "
      ]
     },
     "execution_count": 4,
     "metadata": {},
     "output_type": "execute_result"
    }
   ],
   "source": [
    "tempB_SB_imb = []\n",
    "\n",
    "y = merge_B_imb[['CGPA']]\n",
    "X = merge_B_imb[['Age','Gender','Nationality', 'Living Status', 'Home Town', 'Faculty', 'Education Level',\n",
    "                     'Years of Study', 'Completed Credit Hours']]\n",
    "\n",
    "print(\"X:\", X.shape,\"y:\", y.shape)\n",
    "\n",
    "for i in [0.5,0.4,0.3,0.2]:\n",
    "    for j in rand_states:\n",
    "        X_train, X_test, y_train, y_test = train_test_split(X, y, test_size=i, random_state=j)\n",
    "        param_grid = {'C': [0.1, 1, 10, 100],\n",
    "                      'gamma': [1, 0.1, 0.01, 0.001],\n",
    "                      'kernel': ['rbf','sigmoid']}\n",
    "\n",
    "        model = GridSearchCV(SVC(random_state=0), param_grid, refit=True, n_jobs=-1, cv=10, verbose=1)\n",
    "        model.fit(X_train, y_train)\n",
    "        pred = model.predict(X_test)\n",
    "        \n",
    "        acc = accuracy_score(y_test,pred)\n",
    "        pre = precision_score(y_test, pred, average='weighted')\n",
    "        recall = recall_score(y_test, pred, average='weighted')\n",
    "        f1 = f1_score(y_test, pred, average='weighted')\n",
    "        param = model.best_params_\n",
    "    \n",
    "        tempB_SB_imb.append([i,j,acc,pre,recall,f1,param])\n",
    "        \n",
    "dfB_SB_imb = pd.DataFrame(columns=['Test Size','Random State','Accuracy','Precision','Recall','F1 Score','Best Param'],data=tempB_SB_imb)\n",
    "dfB_SB_imb"
   ]
  },
  {
   "cell_type": "code",
   "execution_count": 5,
   "id": "3a4f07b9-4b26-4ba7-85a1-d475909a6816",
   "metadata": {},
   "outputs": [
    {
     "data": {
      "text/html": [
       "<div>\n",
       "<style scoped>\n",
       "    .dataframe tbody tr th:only-of-type {\n",
       "        vertical-align: middle;\n",
       "    }\n",
       "\n",
       "    .dataframe tbody tr th {\n",
       "        vertical-align: top;\n",
       "    }\n",
       "\n",
       "    .dataframe thead th {\n",
       "        text-align: right;\n",
       "    }\n",
       "</style>\n",
       "<table border=\"1\" class=\"dataframe\">\n",
       "  <thead>\n",
       "    <tr style=\"text-align: right;\">\n",
       "      <th></th>\n",
       "      <th>Accuracy</th>\n",
       "      <th>Precision</th>\n",
       "      <th>Recall</th>\n",
       "      <th>F1 Score</th>\n",
       "    </tr>\n",
       "    <tr>\n",
       "      <th>Test Size</th>\n",
       "      <th></th>\n",
       "      <th></th>\n",
       "      <th></th>\n",
       "      <th></th>\n",
       "    </tr>\n",
       "  </thead>\n",
       "  <tbody>\n",
       "    <tr>\n",
       "      <th>0.2</th>\n",
       "      <td>0.987080</td>\n",
       "      <td>0.974340</td>\n",
       "      <td>0.987080</td>\n",
       "      <td>0.980666</td>\n",
       "    </tr>\n",
       "    <tr>\n",
       "      <th>0.3</th>\n",
       "      <td>0.987941</td>\n",
       "      <td>0.976030</td>\n",
       "      <td>0.987941</td>\n",
       "      <td>0.981949</td>\n",
       "    </tr>\n",
       "    <tr>\n",
       "      <th>0.4</th>\n",
       "      <td>0.986408</td>\n",
       "      <td>0.973003</td>\n",
       "      <td>0.986408</td>\n",
       "      <td>0.979659</td>\n",
       "    </tr>\n",
       "    <tr>\n",
       "      <th>0.5</th>\n",
       "      <td>0.986025</td>\n",
       "      <td>0.972245</td>\n",
       "      <td>0.986025</td>\n",
       "      <td>0.979086</td>\n",
       "    </tr>\n",
       "  </tbody>\n",
       "</table>\n",
       "</div>"
      ],
      "text/plain": [
       "           Accuracy  Precision    Recall  F1 Score\n",
       "Test Size                                         \n",
       "0.2        0.987080   0.974340  0.987080  0.980666\n",
       "0.3        0.987941   0.976030  0.987941  0.981949\n",
       "0.4        0.986408   0.973003  0.986408  0.979659\n",
       "0.5        0.986025   0.972245  0.986025  0.979086"
      ]
     },
     "execution_count": 5,
     "metadata": {},
     "output_type": "execute_result"
    }
   ],
   "source": [
    "dfB_SB_imb.groupby('Test Size')[['Accuracy','Precision','Recall','F1 Score']].mean()"
   ]
  },
  {
   "cell_type": "markdown",
   "id": "5adc581a-b60b-47a0-a2c0-9ee0028756c4",
   "metadata": {},
   "source": [
    "### SB after RandomOverSampler"
   ]
  },
  {
   "cell_type": "code",
   "execution_count": 6,
   "id": "d4202d14-8257-438c-86da-a211948269c6",
   "metadata": {},
   "outputs": [
    {
     "name": "stdout",
     "output_type": "stream",
     "text": [
      "Fitting 10 folds for each of 32 candidates, totalling 320 fits\n"
     ]
    },
    {
     "name": "stderr",
     "output_type": "stream",
     "text": [
      "C:\\Users\\hazel\\anaconda3\\Lib\\site-packages\\sklearn\\utils\\validation.py:1143: DataConversionWarning: A column-vector y was passed when a 1d array was expected. Please change the shape of y to (n_samples, ), for example using ravel().\n",
      "  y = column_or_1d(y, warn=True)\n"
     ]
    },
    {
     "name": "stdout",
     "output_type": "stream",
     "text": [
      "Fitting 10 folds for each of 32 candidates, totalling 320 fits\n"
     ]
    },
    {
     "name": "stderr",
     "output_type": "stream",
     "text": [
      "C:\\Users\\hazel\\anaconda3\\Lib\\site-packages\\sklearn\\utils\\validation.py:1143: DataConversionWarning: A column-vector y was passed when a 1d array was expected. Please change the shape of y to (n_samples, ), for example using ravel().\n",
      "  y = column_or_1d(y, warn=True)\n"
     ]
    },
    {
     "name": "stdout",
     "output_type": "stream",
     "text": [
      "Fitting 10 folds for each of 32 candidates, totalling 320 fits\n"
     ]
    },
    {
     "name": "stderr",
     "output_type": "stream",
     "text": [
      "C:\\Users\\hazel\\anaconda3\\Lib\\site-packages\\sklearn\\utils\\validation.py:1143: DataConversionWarning: A column-vector y was passed when a 1d array was expected. Please change the shape of y to (n_samples, ), for example using ravel().\n",
      "  y = column_or_1d(y, warn=True)\n"
     ]
    },
    {
     "name": "stdout",
     "output_type": "stream",
     "text": [
      "Fitting 10 folds for each of 32 candidates, totalling 320 fits\n"
     ]
    },
    {
     "name": "stderr",
     "output_type": "stream",
     "text": [
      "C:\\Users\\hazel\\anaconda3\\Lib\\site-packages\\sklearn\\utils\\validation.py:1143: DataConversionWarning: A column-vector y was passed when a 1d array was expected. Please change the shape of y to (n_samples, ), for example using ravel().\n",
      "  y = column_or_1d(y, warn=True)\n"
     ]
    },
    {
     "name": "stdout",
     "output_type": "stream",
     "text": [
      "Fitting 10 folds for each of 32 candidates, totalling 320 fits\n"
     ]
    },
    {
     "name": "stderr",
     "output_type": "stream",
     "text": [
      "C:\\Users\\hazel\\anaconda3\\Lib\\site-packages\\sklearn\\utils\\validation.py:1143: DataConversionWarning: A column-vector y was passed when a 1d array was expected. Please change the shape of y to (n_samples, ), for example using ravel().\n",
      "  y = column_or_1d(y, warn=True)\n"
     ]
    },
    {
     "name": "stdout",
     "output_type": "stream",
     "text": [
      "Fitting 10 folds for each of 32 candidates, totalling 320 fits\n"
     ]
    },
    {
     "name": "stderr",
     "output_type": "stream",
     "text": [
      "C:\\Users\\hazel\\anaconda3\\Lib\\site-packages\\sklearn\\utils\\validation.py:1143: DataConversionWarning: A column-vector y was passed when a 1d array was expected. Please change the shape of y to (n_samples, ), for example using ravel().\n",
      "  y = column_or_1d(y, warn=True)\n"
     ]
    },
    {
     "name": "stdout",
     "output_type": "stream",
     "text": [
      "Fitting 10 folds for each of 32 candidates, totalling 320 fits\n"
     ]
    },
    {
     "name": "stderr",
     "output_type": "stream",
     "text": [
      "C:\\Users\\hazel\\anaconda3\\Lib\\site-packages\\sklearn\\utils\\validation.py:1143: DataConversionWarning: A column-vector y was passed when a 1d array was expected. Please change the shape of y to (n_samples, ), for example using ravel().\n",
      "  y = column_or_1d(y, warn=True)\n"
     ]
    },
    {
     "name": "stdout",
     "output_type": "stream",
     "text": [
      "Fitting 10 folds for each of 32 candidates, totalling 320 fits\n"
     ]
    },
    {
     "name": "stderr",
     "output_type": "stream",
     "text": [
      "C:\\Users\\hazel\\anaconda3\\Lib\\site-packages\\sklearn\\utils\\validation.py:1143: DataConversionWarning: A column-vector y was passed when a 1d array was expected. Please change the shape of y to (n_samples, ), for example using ravel().\n",
      "  y = column_or_1d(y, warn=True)\n"
     ]
    },
    {
     "name": "stdout",
     "output_type": "stream",
     "text": [
      "Fitting 10 folds for each of 32 candidates, totalling 320 fits\n"
     ]
    },
    {
     "name": "stderr",
     "output_type": "stream",
     "text": [
      "C:\\Users\\hazel\\anaconda3\\Lib\\site-packages\\sklearn\\utils\\validation.py:1143: DataConversionWarning: A column-vector y was passed when a 1d array was expected. Please change the shape of y to (n_samples, ), for example using ravel().\n",
      "  y = column_or_1d(y, warn=True)\n"
     ]
    },
    {
     "name": "stdout",
     "output_type": "stream",
     "text": [
      "Fitting 10 folds for each of 32 candidates, totalling 320 fits\n"
     ]
    },
    {
     "name": "stderr",
     "output_type": "stream",
     "text": [
      "C:\\Users\\hazel\\anaconda3\\Lib\\site-packages\\sklearn\\utils\\validation.py:1143: DataConversionWarning: A column-vector y was passed when a 1d array was expected. Please change the shape of y to (n_samples, ), for example using ravel().\n",
      "  y = column_or_1d(y, warn=True)\n"
     ]
    },
    {
     "name": "stdout",
     "output_type": "stream",
     "text": [
      "Fitting 10 folds for each of 32 candidates, totalling 320 fits\n"
     ]
    },
    {
     "name": "stderr",
     "output_type": "stream",
     "text": [
      "C:\\Users\\hazel\\anaconda3\\Lib\\site-packages\\sklearn\\utils\\validation.py:1143: DataConversionWarning: A column-vector y was passed when a 1d array was expected. Please change the shape of y to (n_samples, ), for example using ravel().\n",
      "  y = column_or_1d(y, warn=True)\n"
     ]
    },
    {
     "name": "stdout",
     "output_type": "stream",
     "text": [
      "Fitting 10 folds for each of 32 candidates, totalling 320 fits\n"
     ]
    },
    {
     "name": "stderr",
     "output_type": "stream",
     "text": [
      "C:\\Users\\hazel\\anaconda3\\Lib\\site-packages\\sklearn\\utils\\validation.py:1143: DataConversionWarning: A column-vector y was passed when a 1d array was expected. Please change the shape of y to (n_samples, ), for example using ravel().\n",
      "  y = column_or_1d(y, warn=True)\n"
     ]
    },
    {
     "data": {
      "text/html": [
       "<div>\n",
       "<style scoped>\n",
       "    .dataframe tbody tr th:only-of-type {\n",
       "        vertical-align: middle;\n",
       "    }\n",
       "\n",
       "    .dataframe tbody tr th {\n",
       "        vertical-align: top;\n",
       "    }\n",
       "\n",
       "    .dataframe thead th {\n",
       "        text-align: right;\n",
       "    }\n",
       "</style>\n",
       "<table border=\"1\" class=\"dataframe\">\n",
       "  <thead>\n",
       "    <tr style=\"text-align: right;\">\n",
       "      <th></th>\n",
       "      <th>Test Size</th>\n",
       "      <th>Random State</th>\n",
       "      <th>Accuracy</th>\n",
       "      <th>Precision</th>\n",
       "      <th>Recall</th>\n",
       "      <th>F1 Score</th>\n",
       "      <th>Best Param</th>\n",
       "    </tr>\n",
       "  </thead>\n",
       "  <tbody>\n",
       "    <tr>\n",
       "      <th>0</th>\n",
       "      <td>0.5</td>\n",
       "      <td>7</td>\n",
       "      <td>0.994488</td>\n",
       "      <td>0.994547</td>\n",
       "      <td>0.994488</td>\n",
       "      <td>0.994487</td>\n",
       "      <td>{'C': 0.1, 'gamma': 1, 'kernel': 'rbf'}</td>\n",
       "    </tr>\n",
       "    <tr>\n",
       "      <th>1</th>\n",
       "      <td>0.5</td>\n",
       "      <td>69</td>\n",
       "      <td>0.996063</td>\n",
       "      <td>0.996094</td>\n",
       "      <td>0.996063</td>\n",
       "      <td>0.996063</td>\n",
       "      <td>{'C': 0.1, 'gamma': 1, 'kernel': 'rbf'}</td>\n",
       "    </tr>\n",
       "    <tr>\n",
       "      <th>2</th>\n",
       "      <td>0.5</td>\n",
       "      <td>101</td>\n",
       "      <td>0.996063</td>\n",
       "      <td>0.996095</td>\n",
       "      <td>0.996063</td>\n",
       "      <td>0.996063</td>\n",
       "      <td>{'C': 0.1, 'gamma': 1, 'kernel': 'rbf'}</td>\n",
       "    </tr>\n",
       "    <tr>\n",
       "      <th>3</th>\n",
       "      <td>0.4</td>\n",
       "      <td>7</td>\n",
       "      <td>0.996063</td>\n",
       "      <td>0.996093</td>\n",
       "      <td>0.996063</td>\n",
       "      <td>0.996063</td>\n",
       "      <td>{'C': 0.1, 'gamma': 1, 'kernel': 'rbf'}</td>\n",
       "    </tr>\n",
       "    <tr>\n",
       "      <th>4</th>\n",
       "      <td>0.4</td>\n",
       "      <td>69</td>\n",
       "      <td>0.997047</td>\n",
       "      <td>0.997065</td>\n",
       "      <td>0.997047</td>\n",
       "      <td>0.997047</td>\n",
       "      <td>{'C': 0.1, 'gamma': 1, 'kernel': 'rbf'}</td>\n",
       "    </tr>\n",
       "    <tr>\n",
       "      <th>5</th>\n",
       "      <td>0.4</td>\n",
       "      <td>101</td>\n",
       "      <td>0.995079</td>\n",
       "      <td>0.995128</td>\n",
       "      <td>0.995079</td>\n",
       "      <td>0.995079</td>\n",
       "      <td>{'C': 0.1, 'gamma': 1, 'kernel': 'rbf'}</td>\n",
       "    </tr>\n",
       "    <tr>\n",
       "      <th>6</th>\n",
       "      <td>0.3</td>\n",
       "      <td>7</td>\n",
       "      <td>0.996063</td>\n",
       "      <td>0.996093</td>\n",
       "      <td>0.996063</td>\n",
       "      <td>0.996062</td>\n",
       "      <td>{'C': 0.1, 'gamma': 1, 'kernel': 'rbf'}</td>\n",
       "    </tr>\n",
       "    <tr>\n",
       "      <th>7</th>\n",
       "      <td>0.3</td>\n",
       "      <td>69</td>\n",
       "      <td>0.998688</td>\n",
       "      <td>0.998691</td>\n",
       "      <td>0.998688</td>\n",
       "      <td>0.998688</td>\n",
       "      <td>{'C': 0.1, 'gamma': 1, 'kernel': 'rbf'}</td>\n",
       "    </tr>\n",
       "    <tr>\n",
       "      <th>8</th>\n",
       "      <td>0.3</td>\n",
       "      <td>101</td>\n",
       "      <td>0.996063</td>\n",
       "      <td>0.996095</td>\n",
       "      <td>0.996063</td>\n",
       "      <td>0.996063</td>\n",
       "      <td>{'C': 0.1, 'gamma': 1, 'kernel': 'rbf'}</td>\n",
       "    </tr>\n",
       "    <tr>\n",
       "      <th>9</th>\n",
       "      <td>0.2</td>\n",
       "      <td>7</td>\n",
       "      <td>0.998031</td>\n",
       "      <td>0.998039</td>\n",
       "      <td>0.998031</td>\n",
       "      <td>0.998031</td>\n",
       "      <td>{'C': 0.1, 'gamma': 1, 'kernel': 'rbf'}</td>\n",
       "    </tr>\n",
       "    <tr>\n",
       "      <th>10</th>\n",
       "      <td>0.2</td>\n",
       "      <td>69</td>\n",
       "      <td>0.998031</td>\n",
       "      <td>0.998039</td>\n",
       "      <td>0.998031</td>\n",
       "      <td>0.998032</td>\n",
       "      <td>{'C': 0.1, 'gamma': 1, 'kernel': 'rbf'}</td>\n",
       "    </tr>\n",
       "    <tr>\n",
       "      <th>11</th>\n",
       "      <td>0.2</td>\n",
       "      <td>101</td>\n",
       "      <td>0.996063</td>\n",
       "      <td>0.996095</td>\n",
       "      <td>0.996063</td>\n",
       "      <td>0.996064</td>\n",
       "      <td>{'C': 0.1, 'gamma': 1, 'kernel': 'rbf'}</td>\n",
       "    </tr>\n",
       "  </tbody>\n",
       "</table>\n",
       "</div>"
      ],
      "text/plain": [
       "    Test Size  Random State  Accuracy  Precision    Recall  F1 Score  \\\n",
       "0         0.5             7  0.994488   0.994547  0.994488  0.994487   \n",
       "1         0.5            69  0.996063   0.996094  0.996063  0.996063   \n",
       "2         0.5           101  0.996063   0.996095  0.996063  0.996063   \n",
       "3         0.4             7  0.996063   0.996093  0.996063  0.996063   \n",
       "4         0.4            69  0.997047   0.997065  0.997047  0.997047   \n",
       "5         0.4           101  0.995079   0.995128  0.995079  0.995079   \n",
       "6         0.3             7  0.996063   0.996093  0.996063  0.996062   \n",
       "7         0.3            69  0.998688   0.998691  0.998688  0.998688   \n",
       "8         0.3           101  0.996063   0.996095  0.996063  0.996063   \n",
       "9         0.2             7  0.998031   0.998039  0.998031  0.998031   \n",
       "10        0.2            69  0.998031   0.998039  0.998031  0.998032   \n",
       "11        0.2           101  0.996063   0.996095  0.996063  0.996064   \n",
       "\n",
       "                                 Best Param  \n",
       "0   {'C': 0.1, 'gamma': 1, 'kernel': 'rbf'}  \n",
       "1   {'C': 0.1, 'gamma': 1, 'kernel': 'rbf'}  \n",
       "2   {'C': 0.1, 'gamma': 1, 'kernel': 'rbf'}  \n",
       "3   {'C': 0.1, 'gamma': 1, 'kernel': 'rbf'}  \n",
       "4   {'C': 0.1, 'gamma': 1, 'kernel': 'rbf'}  \n",
       "5   {'C': 0.1, 'gamma': 1, 'kernel': 'rbf'}  \n",
       "6   {'C': 0.1, 'gamma': 1, 'kernel': 'rbf'}  \n",
       "7   {'C': 0.1, 'gamma': 1, 'kernel': 'rbf'}  \n",
       "8   {'C': 0.1, 'gamma': 1, 'kernel': 'rbf'}  \n",
       "9   {'C': 0.1, 'gamma': 1, 'kernel': 'rbf'}  \n",
       "10  {'C': 0.1, 'gamma': 1, 'kernel': 'rbf'}  \n",
       "11  {'C': 0.1, 'gamma': 1, 'kernel': 'rbf'}  "
      ]
     },
     "execution_count": 6,
     "metadata": {},
     "output_type": "execute_result"
    }
   ],
   "source": [
    "tempB_SB_ROS = []\n",
    "\n",
    "y = merge_B_ROS[['CGPA']]\n",
    "X = merge_B_ROS[['Age','Gender','Nationality', 'Living Status', 'Home Town', 'Faculty', 'Education Level',\n",
    "                     'Years of Study', 'Completed Credit Hours']]\n",
    "\n",
    "for i in [0.5,0.4,0.3,0.2]:\n",
    "    for j in rand_states:\n",
    "        X_train, X_test, y_train, y_test = train_test_split(X, y, test_size=i, random_state=j)\n",
    "        param_grid = {'C': [0.1, 1, 10, 100],\n",
    "                      'gamma': [1, 0.1, 0.01, 0.001],\n",
    "                      'kernel': ['rbf','sigmoid']}\n",
    "\n",
    "        model = GridSearchCV(SVC(random_state=0), param_grid, refit=True, n_jobs=-1, cv=10, verbose=1)\n",
    "        model.fit(X_train, y_train)\n",
    "        pred = model.predict(X_test)\n",
    "        \n",
    "        acc = accuracy_score(y_test,pred)\n",
    "        pre = precision_score(y_test, pred, average='weighted')\n",
    "        recall = recall_score(y_test, pred, average='weighted')\n",
    "        f1 = f1_score(y_test, pred, average='weighted')\n",
    "        param = model.best_params_\n",
    "    \n",
    "        tempB_SB_ROS.append([i,j,acc,pre,recall,f1,param])\n",
    "        \n",
    "dfB_SB_ROS = pd.DataFrame(columns=['Test Size','Random State','Accuracy','Precision','Recall','F1 Score','Best Param'],data=tempB_SB_ROS)\n",
    "dfB_SB_ROS"
   ]
  },
  {
   "cell_type": "code",
   "execution_count": 7,
   "id": "2b955c78-ba13-47e8-b574-5535927c18b9",
   "metadata": {},
   "outputs": [
    {
     "data": {
      "text/html": [
       "<div>\n",
       "<style scoped>\n",
       "    .dataframe tbody tr th:only-of-type {\n",
       "        vertical-align: middle;\n",
       "    }\n",
       "\n",
       "    .dataframe tbody tr th {\n",
       "        vertical-align: top;\n",
       "    }\n",
       "\n",
       "    .dataframe thead th {\n",
       "        text-align: right;\n",
       "    }\n",
       "</style>\n",
       "<table border=\"1\" class=\"dataframe\">\n",
       "  <thead>\n",
       "    <tr style=\"text-align: right;\">\n",
       "      <th></th>\n",
       "      <th>Accuracy</th>\n",
       "      <th>Precision</th>\n",
       "      <th>Recall</th>\n",
       "      <th>F1 Score</th>\n",
       "    </tr>\n",
       "    <tr>\n",
       "      <th>Test Size</th>\n",
       "      <th></th>\n",
       "      <th></th>\n",
       "      <th></th>\n",
       "      <th></th>\n",
       "    </tr>\n",
       "  </thead>\n",
       "  <tbody>\n",
       "    <tr>\n",
       "      <th>0.2</th>\n",
       "      <td>0.997375</td>\n",
       "      <td>0.997391</td>\n",
       "      <td>0.997375</td>\n",
       "      <td>0.997375</td>\n",
       "    </tr>\n",
       "    <tr>\n",
       "      <th>0.3</th>\n",
       "      <td>0.996938</td>\n",
       "      <td>0.996960</td>\n",
       "      <td>0.996938</td>\n",
       "      <td>0.996938</td>\n",
       "    </tr>\n",
       "    <tr>\n",
       "      <th>0.4</th>\n",
       "      <td>0.996063</td>\n",
       "      <td>0.996095</td>\n",
       "      <td>0.996063</td>\n",
       "      <td>0.996063</td>\n",
       "    </tr>\n",
       "    <tr>\n",
       "      <th>0.5</th>\n",
       "      <td>0.995538</td>\n",
       "      <td>0.995579</td>\n",
       "      <td>0.995538</td>\n",
       "      <td>0.995538</td>\n",
       "    </tr>\n",
       "  </tbody>\n",
       "</table>\n",
       "</div>"
      ],
      "text/plain": [
       "           Accuracy  Precision    Recall  F1 Score\n",
       "Test Size                                         \n",
       "0.2        0.997375   0.997391  0.997375  0.997375\n",
       "0.3        0.996938   0.996960  0.996938  0.996938\n",
       "0.4        0.996063   0.996095  0.996063  0.996063\n",
       "0.5        0.995538   0.995579  0.995538  0.995538"
      ]
     },
     "execution_count": 7,
     "metadata": {},
     "output_type": "execute_result"
    }
   ],
   "source": [
    "dfB_SB_ROS.groupby('Test Size')[['Accuracy','Precision','Recall','F1 Score']].mean()"
   ]
  },
  {
   "cell_type": "markdown",
   "id": "7d3873d0-0072-482b-ba94-4766bdb93f96",
   "metadata": {},
   "source": [
    "### SB after SMOTE"
   ]
  },
  {
   "cell_type": "code",
   "execution_count": 8,
   "id": "6378a533-2df0-44d7-876a-e7ea9f62c386",
   "metadata": {},
   "outputs": [
    {
     "name": "stdout",
     "output_type": "stream",
     "text": [
      "Fitting 10 folds for each of 32 candidates, totalling 320 fits\n"
     ]
    },
    {
     "name": "stderr",
     "output_type": "stream",
     "text": [
      "C:\\Users\\hazel\\anaconda3\\Lib\\site-packages\\sklearn\\utils\\validation.py:1143: DataConversionWarning: A column-vector y was passed when a 1d array was expected. Please change the shape of y to (n_samples, ), for example using ravel().\n",
      "  y = column_or_1d(y, warn=True)\n"
     ]
    },
    {
     "name": "stdout",
     "output_type": "stream",
     "text": [
      "Fitting 10 folds for each of 32 candidates, totalling 320 fits\n"
     ]
    },
    {
     "name": "stderr",
     "output_type": "stream",
     "text": [
      "C:\\Users\\hazel\\anaconda3\\Lib\\site-packages\\sklearn\\utils\\validation.py:1143: DataConversionWarning: A column-vector y was passed when a 1d array was expected. Please change the shape of y to (n_samples, ), for example using ravel().\n",
      "  y = column_or_1d(y, warn=True)\n"
     ]
    },
    {
     "name": "stdout",
     "output_type": "stream",
     "text": [
      "Fitting 10 folds for each of 32 candidates, totalling 320 fits\n"
     ]
    },
    {
     "name": "stderr",
     "output_type": "stream",
     "text": [
      "C:\\Users\\hazel\\anaconda3\\Lib\\site-packages\\sklearn\\utils\\validation.py:1143: DataConversionWarning: A column-vector y was passed when a 1d array was expected. Please change the shape of y to (n_samples, ), for example using ravel().\n",
      "  y = column_or_1d(y, warn=True)\n"
     ]
    },
    {
     "name": "stdout",
     "output_type": "stream",
     "text": [
      "Fitting 10 folds for each of 32 candidates, totalling 320 fits\n"
     ]
    },
    {
     "name": "stderr",
     "output_type": "stream",
     "text": [
      "C:\\Users\\hazel\\anaconda3\\Lib\\site-packages\\sklearn\\utils\\validation.py:1143: DataConversionWarning: A column-vector y was passed when a 1d array was expected. Please change the shape of y to (n_samples, ), for example using ravel().\n",
      "  y = column_or_1d(y, warn=True)\n"
     ]
    },
    {
     "name": "stdout",
     "output_type": "stream",
     "text": [
      "Fitting 10 folds for each of 32 candidates, totalling 320 fits\n"
     ]
    },
    {
     "name": "stderr",
     "output_type": "stream",
     "text": [
      "C:\\Users\\hazel\\anaconda3\\Lib\\site-packages\\sklearn\\utils\\validation.py:1143: DataConversionWarning: A column-vector y was passed when a 1d array was expected. Please change the shape of y to (n_samples, ), for example using ravel().\n",
      "  y = column_or_1d(y, warn=True)\n"
     ]
    },
    {
     "name": "stdout",
     "output_type": "stream",
     "text": [
      "Fitting 10 folds for each of 32 candidates, totalling 320 fits\n"
     ]
    },
    {
     "name": "stderr",
     "output_type": "stream",
     "text": [
      "C:\\Users\\hazel\\anaconda3\\Lib\\site-packages\\sklearn\\utils\\validation.py:1143: DataConversionWarning: A column-vector y was passed when a 1d array was expected. Please change the shape of y to (n_samples, ), for example using ravel().\n",
      "  y = column_or_1d(y, warn=True)\n"
     ]
    },
    {
     "name": "stdout",
     "output_type": "stream",
     "text": [
      "Fitting 10 folds for each of 32 candidates, totalling 320 fits\n"
     ]
    },
    {
     "name": "stderr",
     "output_type": "stream",
     "text": [
      "C:\\Users\\hazel\\anaconda3\\Lib\\site-packages\\sklearn\\utils\\validation.py:1143: DataConversionWarning: A column-vector y was passed when a 1d array was expected. Please change the shape of y to (n_samples, ), for example using ravel().\n",
      "  y = column_or_1d(y, warn=True)\n"
     ]
    },
    {
     "name": "stdout",
     "output_type": "stream",
     "text": [
      "Fitting 10 folds for each of 32 candidates, totalling 320 fits\n"
     ]
    },
    {
     "name": "stderr",
     "output_type": "stream",
     "text": [
      "C:\\Users\\hazel\\anaconda3\\Lib\\site-packages\\sklearn\\utils\\validation.py:1143: DataConversionWarning: A column-vector y was passed when a 1d array was expected. Please change the shape of y to (n_samples, ), for example using ravel().\n",
      "  y = column_or_1d(y, warn=True)\n"
     ]
    },
    {
     "name": "stdout",
     "output_type": "stream",
     "text": [
      "Fitting 10 folds for each of 32 candidates, totalling 320 fits\n"
     ]
    },
    {
     "name": "stderr",
     "output_type": "stream",
     "text": [
      "C:\\Users\\hazel\\anaconda3\\Lib\\site-packages\\sklearn\\utils\\validation.py:1143: DataConversionWarning: A column-vector y was passed when a 1d array was expected. Please change the shape of y to (n_samples, ), for example using ravel().\n",
      "  y = column_or_1d(y, warn=True)\n"
     ]
    },
    {
     "name": "stdout",
     "output_type": "stream",
     "text": [
      "Fitting 10 folds for each of 32 candidates, totalling 320 fits\n"
     ]
    },
    {
     "name": "stderr",
     "output_type": "stream",
     "text": [
      "C:\\Users\\hazel\\anaconda3\\Lib\\site-packages\\sklearn\\utils\\validation.py:1143: DataConversionWarning: A column-vector y was passed when a 1d array was expected. Please change the shape of y to (n_samples, ), for example using ravel().\n",
      "  y = column_or_1d(y, warn=True)\n"
     ]
    },
    {
     "name": "stdout",
     "output_type": "stream",
     "text": [
      "Fitting 10 folds for each of 32 candidates, totalling 320 fits\n"
     ]
    },
    {
     "name": "stderr",
     "output_type": "stream",
     "text": [
      "C:\\Users\\hazel\\anaconda3\\Lib\\site-packages\\sklearn\\utils\\validation.py:1143: DataConversionWarning: A column-vector y was passed when a 1d array was expected. Please change the shape of y to (n_samples, ), for example using ravel().\n",
      "  y = column_or_1d(y, warn=True)\n"
     ]
    },
    {
     "name": "stdout",
     "output_type": "stream",
     "text": [
      "Fitting 10 folds for each of 32 candidates, totalling 320 fits\n"
     ]
    },
    {
     "name": "stderr",
     "output_type": "stream",
     "text": [
      "C:\\Users\\hazel\\anaconda3\\Lib\\site-packages\\sklearn\\utils\\validation.py:1143: DataConversionWarning: A column-vector y was passed when a 1d array was expected. Please change the shape of y to (n_samples, ), for example using ravel().\n",
      "  y = column_or_1d(y, warn=True)\n"
     ]
    },
    {
     "data": {
      "text/html": [
       "<div>\n",
       "<style scoped>\n",
       "    .dataframe tbody tr th:only-of-type {\n",
       "        vertical-align: middle;\n",
       "    }\n",
       "\n",
       "    .dataframe tbody tr th {\n",
       "        vertical-align: top;\n",
       "    }\n",
       "\n",
       "    .dataframe thead th {\n",
       "        text-align: right;\n",
       "    }\n",
       "</style>\n",
       "<table border=\"1\" class=\"dataframe\">\n",
       "  <thead>\n",
       "    <tr style=\"text-align: right;\">\n",
       "      <th></th>\n",
       "      <th>Test Size</th>\n",
       "      <th>Random State</th>\n",
       "      <th>Accuracy</th>\n",
       "      <th>Precision</th>\n",
       "      <th>Recall</th>\n",
       "      <th>F1 Score</th>\n",
       "      <th>Best Param</th>\n",
       "    </tr>\n",
       "  </thead>\n",
       "  <tbody>\n",
       "    <tr>\n",
       "      <th>0</th>\n",
       "      <td>0.5</td>\n",
       "      <td>7</td>\n",
       "      <td>0.962992</td>\n",
       "      <td>0.963233</td>\n",
       "      <td>0.962992</td>\n",
       "      <td>0.962978</td>\n",
       "      <td>{'C': 10, 'gamma': 1, 'kernel': 'rbf'}</td>\n",
       "    </tr>\n",
       "    <tr>\n",
       "      <th>1</th>\n",
       "      <td>0.5</td>\n",
       "      <td>69</td>\n",
       "      <td>0.960630</td>\n",
       "      <td>0.960873</td>\n",
       "      <td>0.960630</td>\n",
       "      <td>0.960635</td>\n",
       "      <td>{'C': 1, 'gamma': 1, 'kernel': 'rbf'}</td>\n",
       "    </tr>\n",
       "    <tr>\n",
       "      <th>2</th>\n",
       "      <td>0.5</td>\n",
       "      <td>101</td>\n",
       "      <td>0.961417</td>\n",
       "      <td>0.961860</td>\n",
       "      <td>0.961417</td>\n",
       "      <td>0.961423</td>\n",
       "      <td>{'C': 10, 'gamma': 1, 'kernel': 'rbf'}</td>\n",
       "    </tr>\n",
       "    <tr>\n",
       "      <th>3</th>\n",
       "      <td>0.4</td>\n",
       "      <td>7</td>\n",
       "      <td>0.965551</td>\n",
       "      <td>0.965836</td>\n",
       "      <td>0.965551</td>\n",
       "      <td>0.965535</td>\n",
       "      <td>{'C': 10, 'gamma': 1, 'kernel': 'rbf'}</td>\n",
       "    </tr>\n",
       "    <tr>\n",
       "      <th>4</th>\n",
       "      <td>0.4</td>\n",
       "      <td>69</td>\n",
       "      <td>0.966535</td>\n",
       "      <td>0.966660</td>\n",
       "      <td>0.966535</td>\n",
       "      <td>0.966538</td>\n",
       "      <td>{'C': 1, 'gamma': 1, 'kernel': 'rbf'}</td>\n",
       "    </tr>\n",
       "    <tr>\n",
       "      <th>5</th>\n",
       "      <td>0.4</td>\n",
       "      <td>101</td>\n",
       "      <td>0.966535</td>\n",
       "      <td>0.967292</td>\n",
       "      <td>0.966535</td>\n",
       "      <td>0.966539</td>\n",
       "      <td>{'C': 10, 'gamma': 1, 'kernel': 'rbf'}</td>\n",
       "    </tr>\n",
       "    <tr>\n",
       "      <th>6</th>\n",
       "      <td>0.3</td>\n",
       "      <td>7</td>\n",
       "      <td>0.960630</td>\n",
       "      <td>0.960916</td>\n",
       "      <td>0.960630</td>\n",
       "      <td>0.960607</td>\n",
       "      <td>{'C': 10, 'gamma': 1, 'kernel': 'rbf'}</td>\n",
       "    </tr>\n",
       "    <tr>\n",
       "      <th>7</th>\n",
       "      <td>0.3</td>\n",
       "      <td>69</td>\n",
       "      <td>0.960630</td>\n",
       "      <td>0.960764</td>\n",
       "      <td>0.960630</td>\n",
       "      <td>0.960637</td>\n",
       "      <td>{'C': 1, 'gamma': 1, 'kernel': 'rbf'}</td>\n",
       "    </tr>\n",
       "    <tr>\n",
       "      <th>8</th>\n",
       "      <td>0.3</td>\n",
       "      <td>101</td>\n",
       "      <td>0.969816</td>\n",
       "      <td>0.970231</td>\n",
       "      <td>0.969816</td>\n",
       "      <td>0.969821</td>\n",
       "      <td>{'C': 10, 'gamma': 1, 'kernel': 'rbf'}</td>\n",
       "    </tr>\n",
       "    <tr>\n",
       "      <th>9</th>\n",
       "      <td>0.2</td>\n",
       "      <td>7</td>\n",
       "      <td>0.950787</td>\n",
       "      <td>0.950779</td>\n",
       "      <td>0.950787</td>\n",
       "      <td>0.950780</td>\n",
       "      <td>{'C': 10, 'gamma': 1, 'kernel': 'rbf'}</td>\n",
       "    </tr>\n",
       "    <tr>\n",
       "      <th>10</th>\n",
       "      <td>0.2</td>\n",
       "      <td>69</td>\n",
       "      <td>0.970472</td>\n",
       "      <td>0.970671</td>\n",
       "      <td>0.970472</td>\n",
       "      <td>0.970478</td>\n",
       "      <td>{'C': 1, 'gamma': 1, 'kernel': 'rbf'}</td>\n",
       "    </tr>\n",
       "    <tr>\n",
       "      <th>11</th>\n",
       "      <td>0.2</td>\n",
       "      <td>101</td>\n",
       "      <td>0.962598</td>\n",
       "      <td>0.963543</td>\n",
       "      <td>0.962598</td>\n",
       "      <td>0.962619</td>\n",
       "      <td>{'C': 10, 'gamma': 1, 'kernel': 'rbf'}</td>\n",
       "    </tr>\n",
       "  </tbody>\n",
       "</table>\n",
       "</div>"
      ],
      "text/plain": [
       "    Test Size  Random State  Accuracy  Precision    Recall  F1 Score  \\\n",
       "0         0.5             7  0.962992   0.963233  0.962992  0.962978   \n",
       "1         0.5            69  0.960630   0.960873  0.960630  0.960635   \n",
       "2         0.5           101  0.961417   0.961860  0.961417  0.961423   \n",
       "3         0.4             7  0.965551   0.965836  0.965551  0.965535   \n",
       "4         0.4            69  0.966535   0.966660  0.966535  0.966538   \n",
       "5         0.4           101  0.966535   0.967292  0.966535  0.966539   \n",
       "6         0.3             7  0.960630   0.960916  0.960630  0.960607   \n",
       "7         0.3            69  0.960630   0.960764  0.960630  0.960637   \n",
       "8         0.3           101  0.969816   0.970231  0.969816  0.969821   \n",
       "9         0.2             7  0.950787   0.950779  0.950787  0.950780   \n",
       "10        0.2            69  0.970472   0.970671  0.970472  0.970478   \n",
       "11        0.2           101  0.962598   0.963543  0.962598  0.962619   \n",
       "\n",
       "                                Best Param  \n",
       "0   {'C': 10, 'gamma': 1, 'kernel': 'rbf'}  \n",
       "1    {'C': 1, 'gamma': 1, 'kernel': 'rbf'}  \n",
       "2   {'C': 10, 'gamma': 1, 'kernel': 'rbf'}  \n",
       "3   {'C': 10, 'gamma': 1, 'kernel': 'rbf'}  \n",
       "4    {'C': 1, 'gamma': 1, 'kernel': 'rbf'}  \n",
       "5   {'C': 10, 'gamma': 1, 'kernel': 'rbf'}  \n",
       "6   {'C': 10, 'gamma': 1, 'kernel': 'rbf'}  \n",
       "7    {'C': 1, 'gamma': 1, 'kernel': 'rbf'}  \n",
       "8   {'C': 10, 'gamma': 1, 'kernel': 'rbf'}  \n",
       "9   {'C': 10, 'gamma': 1, 'kernel': 'rbf'}  \n",
       "10   {'C': 1, 'gamma': 1, 'kernel': 'rbf'}  \n",
       "11  {'C': 10, 'gamma': 1, 'kernel': 'rbf'}  "
      ]
     },
     "execution_count": 8,
     "metadata": {},
     "output_type": "execute_result"
    }
   ],
   "source": [
    "tempB_SB_SMOTE = []\n",
    "\n",
    "y = merge_B_SMOTE[['CGPA']]\n",
    "X = merge_B_SMOTE[['Age','Gender','Nationality', 'Living Status', 'Home Town', 'Faculty', 'Education Level',\n",
    "                     'Years of Study', 'Completed Credit Hours']]\n",
    "\n",
    "for i in [0.5,0.4,0.3,0.2]:\n",
    "    for j in rand_states:\n",
    "        X_train, X_test, y_train, y_test = train_test_split(X, y, test_size=i, random_state=j)\n",
    "        param_grid = {'C': [0.1, 1, 10, 100],\n",
    "                      'gamma': [1, 0.1, 0.01, 0.001],\n",
    "                      'kernel': ['rbf','sigmoid']}\n",
    "\n",
    "        model = GridSearchCV(SVC(random_state=0), param_grid, refit=True, n_jobs=-1, cv=10, verbose=1)\n",
    "        model.fit(X_train, y_train)\n",
    "        pred = model.predict(X_test)\n",
    "        \n",
    "        acc = accuracy_score(y_test,pred)\n",
    "        pre = precision_score(y_test, pred, average='weighted')\n",
    "        recall = recall_score(y_test, pred, average='weighted')\n",
    "        f1 = f1_score(y_test, pred, average='weighted')\n",
    "        param = model.best_params_\n",
    "    \n",
    "        tempB_SB_SMOTE.append([i,j,acc,pre,recall,f1,param])\n",
    "        \n",
    "dfB_SB_SMOTE = pd.DataFrame(columns=['Test Size','Random State','Accuracy','Precision','Recall','F1 Score','Best Param'],data=tempB_SB_SMOTE)\n",
    "dfB_SB_SMOTE"
   ]
  },
  {
   "cell_type": "code",
   "execution_count": 9,
   "id": "64bb7786-6d6f-465f-a71c-254f45dff8b8",
   "metadata": {},
   "outputs": [
    {
     "data": {
      "text/html": [
       "<div>\n",
       "<style scoped>\n",
       "    .dataframe tbody tr th:only-of-type {\n",
       "        vertical-align: middle;\n",
       "    }\n",
       "\n",
       "    .dataframe tbody tr th {\n",
       "        vertical-align: top;\n",
       "    }\n",
       "\n",
       "    .dataframe thead th {\n",
       "        text-align: right;\n",
       "    }\n",
       "</style>\n",
       "<table border=\"1\" class=\"dataframe\">\n",
       "  <thead>\n",
       "    <tr style=\"text-align: right;\">\n",
       "      <th></th>\n",
       "      <th>Accuracy</th>\n",
       "      <th>Precision</th>\n",
       "      <th>Recall</th>\n",
       "      <th>F1 Score</th>\n",
       "    </tr>\n",
       "    <tr>\n",
       "      <th>Test Size</th>\n",
       "      <th></th>\n",
       "      <th></th>\n",
       "      <th></th>\n",
       "      <th></th>\n",
       "    </tr>\n",
       "  </thead>\n",
       "  <tbody>\n",
       "    <tr>\n",
       "      <th>0.2</th>\n",
       "      <td>0.961286</td>\n",
       "      <td>0.961664</td>\n",
       "      <td>0.961286</td>\n",
       "      <td>0.961292</td>\n",
       "    </tr>\n",
       "    <tr>\n",
       "      <th>0.3</th>\n",
       "      <td>0.963692</td>\n",
       "      <td>0.963970</td>\n",
       "      <td>0.963692</td>\n",
       "      <td>0.963688</td>\n",
       "    </tr>\n",
       "    <tr>\n",
       "      <th>0.4</th>\n",
       "      <td>0.966207</td>\n",
       "      <td>0.966596</td>\n",
       "      <td>0.966207</td>\n",
       "      <td>0.966204</td>\n",
       "    </tr>\n",
       "    <tr>\n",
       "      <th>0.5</th>\n",
       "      <td>0.961680</td>\n",
       "      <td>0.961989</td>\n",
       "      <td>0.961680</td>\n",
       "      <td>0.961679</td>\n",
       "    </tr>\n",
       "  </tbody>\n",
       "</table>\n",
       "</div>"
      ],
      "text/plain": [
       "           Accuracy  Precision    Recall  F1 Score\n",
       "Test Size                                         \n",
       "0.2        0.961286   0.961664  0.961286  0.961292\n",
       "0.3        0.963692   0.963970  0.963692  0.963688\n",
       "0.4        0.966207   0.966596  0.966207  0.966204\n",
       "0.5        0.961680   0.961989  0.961680  0.961679"
      ]
     },
     "execution_count": 9,
     "metadata": {},
     "output_type": "execute_result"
    }
   ],
   "source": [
    "dfB_SB_SMOTE.groupby('Test Size')[['Accuracy','Precision','Recall','F1 Score']].mean()"
   ]
  },
  {
   "cell_type": "markdown",
   "id": "79bbafe4-2cd0-4093-8d5e-219652ea2994",
   "metadata": {},
   "source": [
    "## Student History Grades"
   ]
  },
  {
   "cell_type": "markdown",
   "id": "ce82685f-1ba7-4a9a-bcaa-356fc458db46",
   "metadata": {},
   "source": [
    "### SHG before Data Balancing"
   ]
  },
  {
   "cell_type": "code",
   "execution_count": 10,
   "id": "51868287-5ce5-4724-8ef7-a51db0d657e7",
   "metadata": {},
   "outputs": [
    {
     "name": "stdout",
     "output_type": "stream",
     "text": [
      "X: (1287, 4) y: (1287, 1)\n",
      "Fitting 10 folds for each of 32 candidates, totalling 320 fits\n"
     ]
    },
    {
     "name": "stderr",
     "output_type": "stream",
     "text": [
      "C:\\Users\\hazel\\anaconda3\\Lib\\site-packages\\sklearn\\model_selection\\_split.py:700: UserWarning: The least populated class in y has only 8 members, which is less than n_splits=10.\n",
      "  warnings.warn(\n",
      "C:\\Users\\hazel\\anaconda3\\Lib\\site-packages\\sklearn\\utils\\validation.py:1143: DataConversionWarning: A column-vector y was passed when a 1d array was expected. Please change the shape of y to (n_samples, ), for example using ravel().\n",
      "  y = column_or_1d(y, warn=True)\n",
      "C:\\Users\\hazel\\anaconda3\\Lib\\site-packages\\sklearn\\model_selection\\_split.py:700: UserWarning: The least populated class in y has only 8 members, which is less than n_splits=10.\n",
      "  warnings.warn(\n"
     ]
    },
    {
     "name": "stdout",
     "output_type": "stream",
     "text": [
      "Fitting 10 folds for each of 32 candidates, totalling 320 fits\n"
     ]
    },
    {
     "name": "stderr",
     "output_type": "stream",
     "text": [
      "C:\\Users\\hazel\\anaconda3\\Lib\\site-packages\\sklearn\\utils\\validation.py:1143: DataConversionWarning: A column-vector y was passed when a 1d array was expected. Please change the shape of y to (n_samples, ), for example using ravel().\n",
      "  y = column_or_1d(y, warn=True)\n",
      "C:\\Users\\hazel\\anaconda3\\Lib\\site-packages\\sklearn\\metrics\\_classification.py:1344: UndefinedMetricWarning: Precision is ill-defined and being set to 0.0 in labels with no predicted samples. Use `zero_division` parameter to control this behavior.\n",
      "  _warn_prf(average, modifier, msg_start, len(result))\n",
      "C:\\Users\\hazel\\anaconda3\\Lib\\site-packages\\sklearn\\model_selection\\_split.py:700: UserWarning: The least populated class in y has only 8 members, which is less than n_splits=10.\n",
      "  warnings.warn(\n"
     ]
    },
    {
     "name": "stdout",
     "output_type": "stream",
     "text": [
      "Fitting 10 folds for each of 32 candidates, totalling 320 fits\n"
     ]
    },
    {
     "name": "stderr",
     "output_type": "stream",
     "text": [
      "C:\\Users\\hazel\\anaconda3\\Lib\\site-packages\\sklearn\\utils\\validation.py:1143: DataConversionWarning: A column-vector y was passed when a 1d array was expected. Please change the shape of y to (n_samples, ), for example using ravel().\n",
      "  y = column_or_1d(y, warn=True)\n"
     ]
    },
    {
     "name": "stdout",
     "output_type": "stream",
     "text": [
      "Fitting 10 folds for each of 32 candidates, totalling 320 fits\n"
     ]
    },
    {
     "name": "stderr",
     "output_type": "stream",
     "text": [
      "C:\\Users\\hazel\\anaconda3\\Lib\\site-packages\\sklearn\\utils\\validation.py:1143: DataConversionWarning: A column-vector y was passed when a 1d array was expected. Please change the shape of y to (n_samples, ), for example using ravel().\n",
      "  y = column_or_1d(y, warn=True)\n",
      "C:\\Users\\hazel\\anaconda3\\Lib\\site-packages\\sklearn\\metrics\\_classification.py:1344: UndefinedMetricWarning: Precision is ill-defined and being set to 0.0 in labels with no predicted samples. Use `zero_division` parameter to control this behavior.\n",
      "  _warn_prf(average, modifier, msg_start, len(result))\n",
      "C:\\Users\\hazel\\anaconda3\\Lib\\site-packages\\sklearn\\model_selection\\_split.py:700: UserWarning: The least populated class in y has only 9 members, which is less than n_splits=10.\n",
      "  warnings.warn(\n"
     ]
    },
    {
     "name": "stdout",
     "output_type": "stream",
     "text": [
      "Fitting 10 folds for each of 32 candidates, totalling 320 fits\n"
     ]
    },
    {
     "name": "stderr",
     "output_type": "stream",
     "text": [
      "C:\\Users\\hazel\\anaconda3\\Lib\\site-packages\\sklearn\\utils\\validation.py:1143: DataConversionWarning: A column-vector y was passed when a 1d array was expected. Please change the shape of y to (n_samples, ), for example using ravel().\n",
      "  y = column_or_1d(y, warn=True)\n",
      "C:\\Users\\hazel\\anaconda3\\Lib\\site-packages\\sklearn\\metrics\\_classification.py:1344: UndefinedMetricWarning: Precision is ill-defined and being set to 0.0 in labels with no predicted samples. Use `zero_division` parameter to control this behavior.\n",
      "  _warn_prf(average, modifier, msg_start, len(result))\n"
     ]
    },
    {
     "name": "stdout",
     "output_type": "stream",
     "text": [
      "Fitting 10 folds for each of 32 candidates, totalling 320 fits\n"
     ]
    },
    {
     "name": "stderr",
     "output_type": "stream",
     "text": [
      "C:\\Users\\hazel\\anaconda3\\Lib\\site-packages\\sklearn\\utils\\validation.py:1143: DataConversionWarning: A column-vector y was passed when a 1d array was expected. Please change the shape of y to (n_samples, ), for example using ravel().\n",
      "  y = column_or_1d(y, warn=True)\n"
     ]
    },
    {
     "name": "stdout",
     "output_type": "stream",
     "text": [
      "Fitting 10 folds for each of 32 candidates, totalling 320 fits\n"
     ]
    },
    {
     "name": "stderr",
     "output_type": "stream",
     "text": [
      "C:\\Users\\hazel\\anaconda3\\Lib\\site-packages\\sklearn\\utils\\validation.py:1143: DataConversionWarning: A column-vector y was passed when a 1d array was expected. Please change the shape of y to (n_samples, ), for example using ravel().\n",
      "  y = column_or_1d(y, warn=True)\n",
      "C:\\Users\\hazel\\anaconda3\\Lib\\site-packages\\sklearn\\metrics\\_classification.py:1344: UndefinedMetricWarning: Precision is ill-defined and being set to 0.0 in labels with no predicted samples. Use `zero_division` parameter to control this behavior.\n",
      "  _warn_prf(average, modifier, msg_start, len(result))\n"
     ]
    },
    {
     "name": "stdout",
     "output_type": "stream",
     "text": [
      "Fitting 10 folds for each of 32 candidates, totalling 320 fits\n"
     ]
    },
    {
     "name": "stderr",
     "output_type": "stream",
     "text": [
      "C:\\Users\\hazel\\anaconda3\\Lib\\site-packages\\sklearn\\utils\\validation.py:1143: DataConversionWarning: A column-vector y was passed when a 1d array was expected. Please change the shape of y to (n_samples, ), for example using ravel().\n",
      "  y = column_or_1d(y, warn=True)\n",
      "C:\\Users\\hazel\\anaconda3\\Lib\\site-packages\\sklearn\\metrics\\_classification.py:1344: UndefinedMetricWarning: Precision is ill-defined and being set to 0.0 in labels with no predicted samples. Use `zero_division` parameter to control this behavior.\n",
      "  _warn_prf(average, modifier, msg_start, len(result))\n"
     ]
    },
    {
     "name": "stdout",
     "output_type": "stream",
     "text": [
      "Fitting 10 folds for each of 32 candidates, totalling 320 fits\n"
     ]
    },
    {
     "name": "stderr",
     "output_type": "stream",
     "text": [
      "C:\\Users\\hazel\\anaconda3\\Lib\\site-packages\\sklearn\\utils\\validation.py:1143: DataConversionWarning: A column-vector y was passed when a 1d array was expected. Please change the shape of y to (n_samples, ), for example using ravel().\n",
      "  y = column_or_1d(y, warn=True)\n"
     ]
    },
    {
     "name": "stdout",
     "output_type": "stream",
     "text": [
      "Fitting 10 folds for each of 32 candidates, totalling 320 fits\n"
     ]
    },
    {
     "name": "stderr",
     "output_type": "stream",
     "text": [
      "C:\\Users\\hazel\\anaconda3\\Lib\\site-packages\\sklearn\\utils\\validation.py:1143: DataConversionWarning: A column-vector y was passed when a 1d array was expected. Please change the shape of y to (n_samples, ), for example using ravel().\n",
      "  y = column_or_1d(y, warn=True)\n",
      "C:\\Users\\hazel\\anaconda3\\Lib\\site-packages\\sklearn\\metrics\\_classification.py:1344: UndefinedMetricWarning: Precision is ill-defined and being set to 0.0 in labels with no predicted samples. Use `zero_division` parameter to control this behavior.\n",
      "  _warn_prf(average, modifier, msg_start, len(result))\n"
     ]
    },
    {
     "name": "stdout",
     "output_type": "stream",
     "text": [
      "Fitting 10 folds for each of 32 candidates, totalling 320 fits\n"
     ]
    },
    {
     "name": "stderr",
     "output_type": "stream",
     "text": [
      "C:\\Users\\hazel\\anaconda3\\Lib\\site-packages\\sklearn\\utils\\validation.py:1143: DataConversionWarning: A column-vector y was passed when a 1d array was expected. Please change the shape of y to (n_samples, ), for example using ravel().\n",
      "  y = column_or_1d(y, warn=True)\n",
      "C:\\Users\\hazel\\anaconda3\\Lib\\site-packages\\sklearn\\metrics\\_classification.py:1344: UndefinedMetricWarning: Precision is ill-defined and being set to 0.0 in labels with no predicted samples. Use `zero_division` parameter to control this behavior.\n",
      "  _warn_prf(average, modifier, msg_start, len(result))\n"
     ]
    },
    {
     "name": "stdout",
     "output_type": "stream",
     "text": [
      "Fitting 10 folds for each of 32 candidates, totalling 320 fits\n"
     ]
    },
    {
     "name": "stderr",
     "output_type": "stream",
     "text": [
      "C:\\Users\\hazel\\anaconda3\\Lib\\site-packages\\sklearn\\utils\\validation.py:1143: DataConversionWarning: A column-vector y was passed when a 1d array was expected. Please change the shape of y to (n_samples, ), for example using ravel().\n",
      "  y = column_or_1d(y, warn=True)\n",
      "C:\\Users\\hazel\\anaconda3\\Lib\\site-packages\\sklearn\\metrics\\_classification.py:1344: UndefinedMetricWarning: Precision is ill-defined and being set to 0.0 in labels with no predicted samples. Use `zero_division` parameter to control this behavior.\n",
      "  _warn_prf(average, modifier, msg_start, len(result))\n"
     ]
    },
    {
     "data": {
      "text/html": [
       "<div>\n",
       "<style scoped>\n",
       "    .dataframe tbody tr th:only-of-type {\n",
       "        vertical-align: middle;\n",
       "    }\n",
       "\n",
       "    .dataframe tbody tr th {\n",
       "        vertical-align: top;\n",
       "    }\n",
       "\n",
       "    .dataframe thead th {\n",
       "        text-align: right;\n",
       "    }\n",
       "</style>\n",
       "<table border=\"1\" class=\"dataframe\">\n",
       "  <thead>\n",
       "    <tr style=\"text-align: right;\">\n",
       "      <th></th>\n",
       "      <th>Test Size</th>\n",
       "      <th>Random State</th>\n",
       "      <th>Accuracy</th>\n",
       "      <th>Precision</th>\n",
       "      <th>Recall</th>\n",
       "      <th>F1 Score</th>\n",
       "      <th>Best Param</th>\n",
       "    </tr>\n",
       "  </thead>\n",
       "  <tbody>\n",
       "    <tr>\n",
       "      <th>0</th>\n",
       "      <td>0.5</td>\n",
       "      <td>7</td>\n",
       "      <td>0.984472</td>\n",
       "      <td>0.972224</td>\n",
       "      <td>0.984472</td>\n",
       "      <td>0.978309</td>\n",
       "      <td>{'C': 10, 'gamma': 0.01, 'kernel': 'sigmoid'}</td>\n",
       "    </tr>\n",
       "    <tr>\n",
       "      <th>1</th>\n",
       "      <td>0.5</td>\n",
       "      <td>69</td>\n",
       "      <td>0.986025</td>\n",
       "      <td>0.972245</td>\n",
       "      <td>0.986025</td>\n",
       "      <td>0.979086</td>\n",
       "      <td>{'C': 0.1, 'gamma': 1, 'kernel': 'rbf'}</td>\n",
       "    </tr>\n",
       "    <tr>\n",
       "      <th>2</th>\n",
       "      <td>0.5</td>\n",
       "      <td>101</td>\n",
       "      <td>0.979814</td>\n",
       "      <td>0.972159</td>\n",
       "      <td>0.979814</td>\n",
       "      <td>0.975971</td>\n",
       "      <td>{'C': 10, 'gamma': 0.1, 'kernel': 'rbf'}</td>\n",
       "    </tr>\n",
       "    <tr>\n",
       "      <th>3</th>\n",
       "      <td>0.4</td>\n",
       "      <td>7</td>\n",
       "      <td>0.988350</td>\n",
       "      <td>0.976835</td>\n",
       "      <td>0.988350</td>\n",
       "      <td>0.982558</td>\n",
       "      <td>{'C': 0.1, 'gamma': 1, 'kernel': 'rbf'}</td>\n",
       "    </tr>\n",
       "    <tr>\n",
       "      <th>4</th>\n",
       "      <td>0.4</td>\n",
       "      <td>69</td>\n",
       "      <td>0.984466</td>\n",
       "      <td>0.969173</td>\n",
       "      <td>0.984466</td>\n",
       "      <td>0.976760</td>\n",
       "      <td>{'C': 0.1, 'gamma': 1, 'kernel': 'rbf'}</td>\n",
       "    </tr>\n",
       "    <tr>\n",
       "      <th>5</th>\n",
       "      <td>0.4</td>\n",
       "      <td>101</td>\n",
       "      <td>0.978641</td>\n",
       "      <td>0.972895</td>\n",
       "      <td>0.978641</td>\n",
       "      <td>0.975760</td>\n",
       "      <td>{'C': 10, 'gamma': 0.1, 'kernel': 'sigmoid'}</td>\n",
       "    </tr>\n",
       "    <tr>\n",
       "      <th>6</th>\n",
       "      <td>0.3</td>\n",
       "      <td>7</td>\n",
       "      <td>0.989664</td>\n",
       "      <td>0.979435</td>\n",
       "      <td>0.989664</td>\n",
       "      <td>0.984523</td>\n",
       "      <td>{'C': 0.1, 'gamma': 1, 'kernel': 'rbf'}</td>\n",
       "    </tr>\n",
       "    <tr>\n",
       "      <th>7</th>\n",
       "      <td>0.3</td>\n",
       "      <td>69</td>\n",
       "      <td>0.987080</td>\n",
       "      <td>0.974327</td>\n",
       "      <td>0.987080</td>\n",
       "      <td>0.980662</td>\n",
       "      <td>{'C': 0.1, 'gamma': 1, 'kernel': 'rbf'}</td>\n",
       "    </tr>\n",
       "    <tr>\n",
       "      <th>8</th>\n",
       "      <td>0.3</td>\n",
       "      <td>101</td>\n",
       "      <td>0.979328</td>\n",
       "      <td>0.974227</td>\n",
       "      <td>0.979328</td>\n",
       "      <td>0.976771</td>\n",
       "      <td>{'C': 10, 'gamma': 0.01, 'kernel': 'sigmoid'}</td>\n",
       "    </tr>\n",
       "    <tr>\n",
       "      <th>9</th>\n",
       "      <td>0.2</td>\n",
       "      <td>7</td>\n",
       "      <td>0.992248</td>\n",
       "      <td>0.984556</td>\n",
       "      <td>0.992248</td>\n",
       "      <td>0.988387</td>\n",
       "      <td>{'C': 0.1, 'gamma': 1, 'kernel': 'rbf'}</td>\n",
       "    </tr>\n",
       "    <tr>\n",
       "      <th>10</th>\n",
       "      <td>0.2</td>\n",
       "      <td>69</td>\n",
       "      <td>0.984496</td>\n",
       "      <td>0.969233</td>\n",
       "      <td>0.984496</td>\n",
       "      <td>0.976805</td>\n",
       "      <td>{'C': 0.1, 'gamma': 1, 'kernel': 'rbf'}</td>\n",
       "    </tr>\n",
       "    <tr>\n",
       "      <th>11</th>\n",
       "      <td>0.2</td>\n",
       "      <td>101</td>\n",
       "      <td>0.984496</td>\n",
       "      <td>0.969233</td>\n",
       "      <td>0.984496</td>\n",
       "      <td>0.976805</td>\n",
       "      <td>{'C': 0.1, 'gamma': 1, 'kernel': 'rbf'}</td>\n",
       "    </tr>\n",
       "  </tbody>\n",
       "</table>\n",
       "</div>"
      ],
      "text/plain": [
       "    Test Size  Random State  Accuracy  Precision    Recall  F1 Score  \\\n",
       "0         0.5             7  0.984472   0.972224  0.984472  0.978309   \n",
       "1         0.5            69  0.986025   0.972245  0.986025  0.979086   \n",
       "2         0.5           101  0.979814   0.972159  0.979814  0.975971   \n",
       "3         0.4             7  0.988350   0.976835  0.988350  0.982558   \n",
       "4         0.4            69  0.984466   0.969173  0.984466  0.976760   \n",
       "5         0.4           101  0.978641   0.972895  0.978641  0.975760   \n",
       "6         0.3             7  0.989664   0.979435  0.989664  0.984523   \n",
       "7         0.3            69  0.987080   0.974327  0.987080  0.980662   \n",
       "8         0.3           101  0.979328   0.974227  0.979328  0.976771   \n",
       "9         0.2             7  0.992248   0.984556  0.992248  0.988387   \n",
       "10        0.2            69  0.984496   0.969233  0.984496  0.976805   \n",
       "11        0.2           101  0.984496   0.969233  0.984496  0.976805   \n",
       "\n",
       "                                       Best Param  \n",
       "0   {'C': 10, 'gamma': 0.01, 'kernel': 'sigmoid'}  \n",
       "1         {'C': 0.1, 'gamma': 1, 'kernel': 'rbf'}  \n",
       "2        {'C': 10, 'gamma': 0.1, 'kernel': 'rbf'}  \n",
       "3         {'C': 0.1, 'gamma': 1, 'kernel': 'rbf'}  \n",
       "4         {'C': 0.1, 'gamma': 1, 'kernel': 'rbf'}  \n",
       "5    {'C': 10, 'gamma': 0.1, 'kernel': 'sigmoid'}  \n",
       "6         {'C': 0.1, 'gamma': 1, 'kernel': 'rbf'}  \n",
       "7         {'C': 0.1, 'gamma': 1, 'kernel': 'rbf'}  \n",
       "8   {'C': 10, 'gamma': 0.01, 'kernel': 'sigmoid'}  \n",
       "9         {'C': 0.1, 'gamma': 1, 'kernel': 'rbf'}  \n",
       "10        {'C': 0.1, 'gamma': 1, 'kernel': 'rbf'}  \n",
       "11        {'C': 0.1, 'gamma': 1, 'kernel': 'rbf'}  "
      ]
     },
     "execution_count": 10,
     "metadata": {},
     "output_type": "execute_result"
    }
   ],
   "source": [
    "tempB_SHG_imb = []\n",
    "\n",
    "y = merge_B_imb[['CGPA']]\n",
    "X = merge_B_imb[['Number of Subjects Failed','SPM Result (A)','SPM Result (B)','SPM Result (C)']]\n",
    "\n",
    "print(\"X:\", X.shape,\"y:\", y.shape)\n",
    "\n",
    "for i in [0.5,0.4,0.3,0.2]:\n",
    "    for j in rand_states:\n",
    "        X_train, X_test, y_train, y_test = train_test_split(X, y, test_size=i, random_state=j)\n",
    "        param_grid = {'C': [0.1, 1, 10, 100],\n",
    "                      'gamma': [1, 0.1, 0.01, 0.001],\n",
    "                      'kernel': ['rbf','sigmoid']}\n",
    "\n",
    "        model = GridSearchCV(SVC(random_state=0), param_grid, refit=True, n_jobs=-1, cv=10, verbose=1)\n",
    "        model.fit(X_train, y_train)\n",
    "        pred = model.predict(X_test)\n",
    "        \n",
    "        acc = accuracy_score(y_test,pred)\n",
    "        pre = precision_score(y_test, pred, average='weighted')\n",
    "        recall = recall_score(y_test, pred, average='weighted')\n",
    "        f1 = f1_score(y_test, pred, average='weighted')\n",
    "        param = model.best_params_\n",
    "    \n",
    "        tempB_SHG_imb.append([i,j,acc,pre,recall,f1,param])\n",
    "        \n",
    "dfB_SHG_imb = pd.DataFrame(columns=['Test Size','Random State','Accuracy','Precision','Recall','F1 Score','Best Param'],data=tempB_SHG_imb)\n",
    "dfB_SHG_imb"
   ]
  },
  {
   "cell_type": "code",
   "execution_count": 11,
   "id": "2d30c3fe-2aff-4fce-bbbe-bff65ed197b2",
   "metadata": {},
   "outputs": [
    {
     "data": {
      "text/html": [
       "<div>\n",
       "<style scoped>\n",
       "    .dataframe tbody tr th:only-of-type {\n",
       "        vertical-align: middle;\n",
       "    }\n",
       "\n",
       "    .dataframe tbody tr th {\n",
       "        vertical-align: top;\n",
       "    }\n",
       "\n",
       "    .dataframe thead th {\n",
       "        text-align: right;\n",
       "    }\n",
       "</style>\n",
       "<table border=\"1\" class=\"dataframe\">\n",
       "  <thead>\n",
       "    <tr style=\"text-align: right;\">\n",
       "      <th></th>\n",
       "      <th>Accuracy</th>\n",
       "      <th>Precision</th>\n",
       "      <th>Recall</th>\n",
       "      <th>F1 Score</th>\n",
       "    </tr>\n",
       "    <tr>\n",
       "      <th>Test Size</th>\n",
       "      <th></th>\n",
       "      <th></th>\n",
       "      <th></th>\n",
       "      <th></th>\n",
       "    </tr>\n",
       "  </thead>\n",
       "  <tbody>\n",
       "    <tr>\n",
       "      <th>0.2</th>\n",
       "      <td>0.987080</td>\n",
       "      <td>0.974340</td>\n",
       "      <td>0.987080</td>\n",
       "      <td>0.980666</td>\n",
       "    </tr>\n",
       "    <tr>\n",
       "      <th>0.3</th>\n",
       "      <td>0.985357</td>\n",
       "      <td>0.975997</td>\n",
       "      <td>0.985357</td>\n",
       "      <td>0.980652</td>\n",
       "    </tr>\n",
       "    <tr>\n",
       "      <th>0.4</th>\n",
       "      <td>0.983819</td>\n",
       "      <td>0.972968</td>\n",
       "      <td>0.983819</td>\n",
       "      <td>0.978359</td>\n",
       "    </tr>\n",
       "    <tr>\n",
       "      <th>0.5</th>\n",
       "      <td>0.983437</td>\n",
       "      <td>0.972209</td>\n",
       "      <td>0.983437</td>\n",
       "      <td>0.977789</td>\n",
       "    </tr>\n",
       "  </tbody>\n",
       "</table>\n",
       "</div>"
      ],
      "text/plain": [
       "           Accuracy  Precision    Recall  F1 Score\n",
       "Test Size                                         \n",
       "0.2        0.987080   0.974340  0.987080  0.980666\n",
       "0.3        0.985357   0.975997  0.985357  0.980652\n",
       "0.4        0.983819   0.972968  0.983819  0.978359\n",
       "0.5        0.983437   0.972209  0.983437  0.977789"
      ]
     },
     "execution_count": 11,
     "metadata": {},
     "output_type": "execute_result"
    }
   ],
   "source": [
    "dfB_SHG_imb.groupby('Test Size')[['Accuracy','Precision','Recall','F1 Score']].mean()"
   ]
  },
  {
   "cell_type": "markdown",
   "id": "3b73b6ee-30e8-456e-bdfd-1fc2cb7b7cb2",
   "metadata": {},
   "source": [
    "### SHG after RandomOverSampler"
   ]
  },
  {
   "cell_type": "code",
   "execution_count": 12,
   "id": "f1a81e23-082c-4e75-8e7d-260424c48ab2",
   "metadata": {},
   "outputs": [
    {
     "name": "stdout",
     "output_type": "stream",
     "text": [
      "Fitting 10 folds for each of 32 candidates, totalling 320 fits\n"
     ]
    },
    {
     "name": "stderr",
     "output_type": "stream",
     "text": [
      "C:\\Users\\hazel\\anaconda3\\Lib\\site-packages\\sklearn\\utils\\validation.py:1143: DataConversionWarning: A column-vector y was passed when a 1d array was expected. Please change the shape of y to (n_samples, ), for example using ravel().\n",
      "  y = column_or_1d(y, warn=True)\n"
     ]
    },
    {
     "name": "stdout",
     "output_type": "stream",
     "text": [
      "Fitting 10 folds for each of 32 candidates, totalling 320 fits\n"
     ]
    },
    {
     "name": "stderr",
     "output_type": "stream",
     "text": [
      "C:\\Users\\hazel\\anaconda3\\Lib\\site-packages\\sklearn\\utils\\validation.py:1143: DataConversionWarning: A column-vector y was passed when a 1d array was expected. Please change the shape of y to (n_samples, ), for example using ravel().\n",
      "  y = column_or_1d(y, warn=True)\n"
     ]
    },
    {
     "name": "stdout",
     "output_type": "stream",
     "text": [
      "Fitting 10 folds for each of 32 candidates, totalling 320 fits\n"
     ]
    },
    {
     "name": "stderr",
     "output_type": "stream",
     "text": [
      "C:\\Users\\hazel\\anaconda3\\Lib\\site-packages\\sklearn\\utils\\validation.py:1143: DataConversionWarning: A column-vector y was passed when a 1d array was expected. Please change the shape of y to (n_samples, ), for example using ravel().\n",
      "  y = column_or_1d(y, warn=True)\n"
     ]
    },
    {
     "name": "stdout",
     "output_type": "stream",
     "text": [
      "Fitting 10 folds for each of 32 candidates, totalling 320 fits\n"
     ]
    },
    {
     "name": "stderr",
     "output_type": "stream",
     "text": [
      "C:\\Users\\hazel\\anaconda3\\Lib\\site-packages\\sklearn\\utils\\validation.py:1143: DataConversionWarning: A column-vector y was passed when a 1d array was expected. Please change the shape of y to (n_samples, ), for example using ravel().\n",
      "  y = column_or_1d(y, warn=True)\n"
     ]
    },
    {
     "name": "stdout",
     "output_type": "stream",
     "text": [
      "Fitting 10 folds for each of 32 candidates, totalling 320 fits\n"
     ]
    },
    {
     "name": "stderr",
     "output_type": "stream",
     "text": [
      "C:\\Users\\hazel\\anaconda3\\Lib\\site-packages\\sklearn\\utils\\validation.py:1143: DataConversionWarning: A column-vector y was passed when a 1d array was expected. Please change the shape of y to (n_samples, ), for example using ravel().\n",
      "  y = column_or_1d(y, warn=True)\n"
     ]
    },
    {
     "name": "stdout",
     "output_type": "stream",
     "text": [
      "Fitting 10 folds for each of 32 candidates, totalling 320 fits\n"
     ]
    },
    {
     "name": "stderr",
     "output_type": "stream",
     "text": [
      "C:\\Users\\hazel\\anaconda3\\Lib\\site-packages\\sklearn\\utils\\validation.py:1143: DataConversionWarning: A column-vector y was passed when a 1d array was expected. Please change the shape of y to (n_samples, ), for example using ravel().\n",
      "  y = column_or_1d(y, warn=True)\n"
     ]
    },
    {
     "name": "stdout",
     "output_type": "stream",
     "text": [
      "Fitting 10 folds for each of 32 candidates, totalling 320 fits\n"
     ]
    },
    {
     "name": "stderr",
     "output_type": "stream",
     "text": [
      "C:\\Users\\hazel\\anaconda3\\Lib\\site-packages\\sklearn\\utils\\validation.py:1143: DataConversionWarning: A column-vector y was passed when a 1d array was expected. Please change the shape of y to (n_samples, ), for example using ravel().\n",
      "  y = column_or_1d(y, warn=True)\n"
     ]
    },
    {
     "name": "stdout",
     "output_type": "stream",
     "text": [
      "Fitting 10 folds for each of 32 candidates, totalling 320 fits\n"
     ]
    },
    {
     "name": "stderr",
     "output_type": "stream",
     "text": [
      "C:\\Users\\hazel\\anaconda3\\Lib\\site-packages\\sklearn\\utils\\validation.py:1143: DataConversionWarning: A column-vector y was passed when a 1d array was expected. Please change the shape of y to (n_samples, ), for example using ravel().\n",
      "  y = column_or_1d(y, warn=True)\n"
     ]
    },
    {
     "name": "stdout",
     "output_type": "stream",
     "text": [
      "Fitting 10 folds for each of 32 candidates, totalling 320 fits\n"
     ]
    },
    {
     "name": "stderr",
     "output_type": "stream",
     "text": [
      "C:\\Users\\hazel\\anaconda3\\Lib\\site-packages\\sklearn\\utils\\validation.py:1143: DataConversionWarning: A column-vector y was passed when a 1d array was expected. Please change the shape of y to (n_samples, ), for example using ravel().\n",
      "  y = column_or_1d(y, warn=True)\n"
     ]
    },
    {
     "name": "stdout",
     "output_type": "stream",
     "text": [
      "Fitting 10 folds for each of 32 candidates, totalling 320 fits\n"
     ]
    },
    {
     "name": "stderr",
     "output_type": "stream",
     "text": [
      "C:\\Users\\hazel\\anaconda3\\Lib\\site-packages\\sklearn\\utils\\validation.py:1143: DataConversionWarning: A column-vector y was passed when a 1d array was expected. Please change the shape of y to (n_samples, ), for example using ravel().\n",
      "  y = column_or_1d(y, warn=True)\n"
     ]
    },
    {
     "name": "stdout",
     "output_type": "stream",
     "text": [
      "Fitting 10 folds for each of 32 candidates, totalling 320 fits\n"
     ]
    },
    {
     "name": "stderr",
     "output_type": "stream",
     "text": [
      "C:\\Users\\hazel\\anaconda3\\Lib\\site-packages\\sklearn\\utils\\validation.py:1143: DataConversionWarning: A column-vector y was passed when a 1d array was expected. Please change the shape of y to (n_samples, ), for example using ravel().\n",
      "  y = column_or_1d(y, warn=True)\n"
     ]
    },
    {
     "name": "stdout",
     "output_type": "stream",
     "text": [
      "Fitting 10 folds for each of 32 candidates, totalling 320 fits\n"
     ]
    },
    {
     "name": "stderr",
     "output_type": "stream",
     "text": [
      "C:\\Users\\hazel\\anaconda3\\Lib\\site-packages\\sklearn\\utils\\validation.py:1143: DataConversionWarning: A column-vector y was passed when a 1d array was expected. Please change the shape of y to (n_samples, ), for example using ravel().\n",
      "  y = column_or_1d(y, warn=True)\n"
     ]
    },
    {
     "data": {
      "text/html": [
       "<div>\n",
       "<style scoped>\n",
       "    .dataframe tbody tr th:only-of-type {\n",
       "        vertical-align: middle;\n",
       "    }\n",
       "\n",
       "    .dataframe tbody tr th {\n",
       "        vertical-align: top;\n",
       "    }\n",
       "\n",
       "    .dataframe thead th {\n",
       "        text-align: right;\n",
       "    }\n",
       "</style>\n",
       "<table border=\"1\" class=\"dataframe\">\n",
       "  <thead>\n",
       "    <tr style=\"text-align: right;\">\n",
       "      <th></th>\n",
       "      <th>Test Size</th>\n",
       "      <th>Random State</th>\n",
       "      <th>Accuracy</th>\n",
       "      <th>Precision</th>\n",
       "      <th>Recall</th>\n",
       "      <th>F1 Score</th>\n",
       "      <th>Best Param</th>\n",
       "    </tr>\n",
       "  </thead>\n",
       "  <tbody>\n",
       "    <tr>\n",
       "      <th>0</th>\n",
       "      <td>0.5</td>\n",
       "      <td>7</td>\n",
       "      <td>0.973228</td>\n",
       "      <td>0.974563</td>\n",
       "      <td>0.973228</td>\n",
       "      <td>0.973194</td>\n",
       "      <td>{'C': 10, 'gamma': 1, 'kernel': 'rbf'}</td>\n",
       "    </tr>\n",
       "    <tr>\n",
       "      <th>1</th>\n",
       "      <td>0.5</td>\n",
       "      <td>69</td>\n",
       "      <td>0.977165</td>\n",
       "      <td>0.978184</td>\n",
       "      <td>0.977165</td>\n",
       "      <td>0.977165</td>\n",
       "      <td>{'C': 1, 'gamma': 1, 'kernel': 'rbf'}</td>\n",
       "    </tr>\n",
       "    <tr>\n",
       "      <th>2</th>\n",
       "      <td>0.5</td>\n",
       "      <td>101</td>\n",
       "      <td>0.972441</td>\n",
       "      <td>0.973916</td>\n",
       "      <td>0.972441</td>\n",
       "      <td>0.972439</td>\n",
       "      <td>{'C': 1, 'gamma': 1, 'kernel': 'rbf'}</td>\n",
       "    </tr>\n",
       "    <tr>\n",
       "      <th>3</th>\n",
       "      <td>0.4</td>\n",
       "      <td>7</td>\n",
       "      <td>0.977362</td>\n",
       "      <td>0.978321</td>\n",
       "      <td>0.977362</td>\n",
       "      <td>0.977338</td>\n",
       "      <td>{'C': 10, 'gamma': 1, 'kernel': 'rbf'}</td>\n",
       "    </tr>\n",
       "    <tr>\n",
       "      <th>4</th>\n",
       "      <td>0.4</td>\n",
       "      <td>69</td>\n",
       "      <td>0.978346</td>\n",
       "      <td>0.979261</td>\n",
       "      <td>0.978346</td>\n",
       "      <td>0.978345</td>\n",
       "      <td>{'C': 1, 'gamma': 1, 'kernel': 'rbf'}</td>\n",
       "    </tr>\n",
       "    <tr>\n",
       "      <th>5</th>\n",
       "      <td>0.4</td>\n",
       "      <td>101</td>\n",
       "      <td>0.974409</td>\n",
       "      <td>0.975687</td>\n",
       "      <td>0.974409</td>\n",
       "      <td>0.974409</td>\n",
       "      <td>{'C': 1, 'gamma': 1, 'kernel': 'rbf'}</td>\n",
       "    </tr>\n",
       "    <tr>\n",
       "      <th>6</th>\n",
       "      <td>0.3</td>\n",
       "      <td>7</td>\n",
       "      <td>0.976378</td>\n",
       "      <td>0.977412</td>\n",
       "      <td>0.976378</td>\n",
       "      <td>0.976347</td>\n",
       "      <td>{'C': 1, 'gamma': 1, 'kernel': 'rbf'}</td>\n",
       "    </tr>\n",
       "    <tr>\n",
       "      <th>7</th>\n",
       "      <td>0.3</td>\n",
       "      <td>69</td>\n",
       "      <td>0.979003</td>\n",
       "      <td>0.979875</td>\n",
       "      <td>0.979003</td>\n",
       "      <td>0.979007</td>\n",
       "      <td>{'C': 1, 'gamma': 1, 'kernel': 'rbf'}</td>\n",
       "    </tr>\n",
       "    <tr>\n",
       "      <th>8</th>\n",
       "      <td>0.3</td>\n",
       "      <td>101</td>\n",
       "      <td>0.972441</td>\n",
       "      <td>0.973917</td>\n",
       "      <td>0.972441</td>\n",
       "      <td>0.972440</td>\n",
       "      <td>{'C': 1, 'gamma': 1, 'kernel': 'rbf'}</td>\n",
       "    </tr>\n",
       "    <tr>\n",
       "      <th>9</th>\n",
       "      <td>0.2</td>\n",
       "      <td>7</td>\n",
       "      <td>0.976378</td>\n",
       "      <td>0.977369</td>\n",
       "      <td>0.976378</td>\n",
       "      <td>0.976320</td>\n",
       "      <td>{'C': 1, 'gamma': 1, 'kernel': 'rbf'}</td>\n",
       "    </tr>\n",
       "    <tr>\n",
       "      <th>10</th>\n",
       "      <td>0.2</td>\n",
       "      <td>69</td>\n",
       "      <td>0.970472</td>\n",
       "      <td>0.972163</td>\n",
       "      <td>0.970472</td>\n",
       "      <td>0.970471</td>\n",
       "      <td>{'C': 1, 'gamma': 1, 'kernel': 'rbf'}</td>\n",
       "    </tr>\n",
       "    <tr>\n",
       "      <th>11</th>\n",
       "      <td>0.2</td>\n",
       "      <td>101</td>\n",
       "      <td>0.968504</td>\n",
       "      <td>0.970457</td>\n",
       "      <td>0.968504</td>\n",
       "      <td>0.968520</td>\n",
       "      <td>{'C': 1, 'gamma': 1, 'kernel': 'rbf'}</td>\n",
       "    </tr>\n",
       "  </tbody>\n",
       "</table>\n",
       "</div>"
      ],
      "text/plain": [
       "    Test Size  Random State  Accuracy  Precision    Recall  F1 Score  \\\n",
       "0         0.5             7  0.973228   0.974563  0.973228  0.973194   \n",
       "1         0.5            69  0.977165   0.978184  0.977165  0.977165   \n",
       "2         0.5           101  0.972441   0.973916  0.972441  0.972439   \n",
       "3         0.4             7  0.977362   0.978321  0.977362  0.977338   \n",
       "4         0.4            69  0.978346   0.979261  0.978346  0.978345   \n",
       "5         0.4           101  0.974409   0.975687  0.974409  0.974409   \n",
       "6         0.3             7  0.976378   0.977412  0.976378  0.976347   \n",
       "7         0.3            69  0.979003   0.979875  0.979003  0.979007   \n",
       "8         0.3           101  0.972441   0.973917  0.972441  0.972440   \n",
       "9         0.2             7  0.976378   0.977369  0.976378  0.976320   \n",
       "10        0.2            69  0.970472   0.972163  0.970472  0.970471   \n",
       "11        0.2           101  0.968504   0.970457  0.968504  0.968520   \n",
       "\n",
       "                                Best Param  \n",
       "0   {'C': 10, 'gamma': 1, 'kernel': 'rbf'}  \n",
       "1    {'C': 1, 'gamma': 1, 'kernel': 'rbf'}  \n",
       "2    {'C': 1, 'gamma': 1, 'kernel': 'rbf'}  \n",
       "3   {'C': 10, 'gamma': 1, 'kernel': 'rbf'}  \n",
       "4    {'C': 1, 'gamma': 1, 'kernel': 'rbf'}  \n",
       "5    {'C': 1, 'gamma': 1, 'kernel': 'rbf'}  \n",
       "6    {'C': 1, 'gamma': 1, 'kernel': 'rbf'}  \n",
       "7    {'C': 1, 'gamma': 1, 'kernel': 'rbf'}  \n",
       "8    {'C': 1, 'gamma': 1, 'kernel': 'rbf'}  \n",
       "9    {'C': 1, 'gamma': 1, 'kernel': 'rbf'}  \n",
       "10   {'C': 1, 'gamma': 1, 'kernel': 'rbf'}  \n",
       "11   {'C': 1, 'gamma': 1, 'kernel': 'rbf'}  "
      ]
     },
     "execution_count": 12,
     "metadata": {},
     "output_type": "execute_result"
    }
   ],
   "source": [
    "tempB_SHG_ROS = []\n",
    "\n",
    "y = merge_B_ROS[['CGPA']]\n",
    "X = merge_B_ROS[['Number of Subjects Failed','SPM Result (A)','SPM Result (B)','SPM Result (C)']]\n",
    "\n",
    "for i in [0.5,0.4,0.3,0.2]:\n",
    "    for j in rand_states:\n",
    "        X_train, X_test, y_train, y_test = train_test_split(X, y, test_size=i, random_state=j)\n",
    "        param_grid = {'C': [0.1, 1, 10, 100],\n",
    "                      'gamma': [1, 0.1, 0.01, 0.001],\n",
    "                      'kernel': ['rbf','sigmoid']}\n",
    "\n",
    "        model = GridSearchCV(SVC(random_state=0), param_grid, refit=True, n_jobs=-1, cv=10, verbose=1)\n",
    "        model.fit(X_train, y_train)\n",
    "        pred = model.predict(X_test)\n",
    "        \n",
    "        acc = accuracy_score(y_test,pred)\n",
    "        pre = precision_score(y_test, pred, average='weighted')\n",
    "        recall = recall_score(y_test, pred, average='weighted')\n",
    "        f1 = f1_score(y_test, pred, average='weighted')\n",
    "        param = model.best_params_\n",
    "    \n",
    "        tempB_SHG_ROS.append([i,j,acc,pre,recall,f1,param])\n",
    "        \n",
    "dfB_SHG_ROS = pd.DataFrame(columns=['Test Size','Random State','Accuracy','Precision','Recall','F1 Score','Best Param'],data=tempB_SHG_ROS)\n",
    "dfB_SHG_ROS"
   ]
  },
  {
   "cell_type": "code",
   "execution_count": 13,
   "id": "f7023fcb-93cb-4728-8c67-26947980e637",
   "metadata": {},
   "outputs": [
    {
     "data": {
      "text/html": [
       "<div>\n",
       "<style scoped>\n",
       "    .dataframe tbody tr th:only-of-type {\n",
       "        vertical-align: middle;\n",
       "    }\n",
       "\n",
       "    .dataframe tbody tr th {\n",
       "        vertical-align: top;\n",
       "    }\n",
       "\n",
       "    .dataframe thead th {\n",
       "        text-align: right;\n",
       "    }\n",
       "</style>\n",
       "<table border=\"1\" class=\"dataframe\">\n",
       "  <thead>\n",
       "    <tr style=\"text-align: right;\">\n",
       "      <th></th>\n",
       "      <th>Accuracy</th>\n",
       "      <th>Precision</th>\n",
       "      <th>Recall</th>\n",
       "      <th>F1 Score</th>\n",
       "    </tr>\n",
       "    <tr>\n",
       "      <th>Test Size</th>\n",
       "      <th></th>\n",
       "      <th></th>\n",
       "      <th></th>\n",
       "      <th></th>\n",
       "    </tr>\n",
       "  </thead>\n",
       "  <tbody>\n",
       "    <tr>\n",
       "      <th>0.2</th>\n",
       "      <td>0.971785</td>\n",
       "      <td>0.973330</td>\n",
       "      <td>0.971785</td>\n",
       "      <td>0.971770</td>\n",
       "    </tr>\n",
       "    <tr>\n",
       "      <th>0.3</th>\n",
       "      <td>0.975941</td>\n",
       "      <td>0.977068</td>\n",
       "      <td>0.975941</td>\n",
       "      <td>0.975931</td>\n",
       "    </tr>\n",
       "    <tr>\n",
       "      <th>0.4</th>\n",
       "      <td>0.976706</td>\n",
       "      <td>0.977756</td>\n",
       "      <td>0.976706</td>\n",
       "      <td>0.976698</td>\n",
       "    </tr>\n",
       "    <tr>\n",
       "      <th>0.5</th>\n",
       "      <td>0.974278</td>\n",
       "      <td>0.975554</td>\n",
       "      <td>0.974278</td>\n",
       "      <td>0.974266</td>\n",
       "    </tr>\n",
       "  </tbody>\n",
       "</table>\n",
       "</div>"
      ],
      "text/plain": [
       "           Accuracy  Precision    Recall  F1 Score\n",
       "Test Size                                         \n",
       "0.2        0.971785   0.973330  0.971785  0.971770\n",
       "0.3        0.975941   0.977068  0.975941  0.975931\n",
       "0.4        0.976706   0.977756  0.976706  0.976698\n",
       "0.5        0.974278   0.975554  0.974278  0.974266"
      ]
     },
     "execution_count": 13,
     "metadata": {},
     "output_type": "execute_result"
    }
   ],
   "source": [
    "dfB_SHG_ROS.groupby('Test Size')[['Accuracy','Precision','Recall','F1 Score']].mean()"
   ]
  },
  {
   "cell_type": "markdown",
   "id": "0ffdc27d-9478-45aa-abc7-c24c222fa4e0",
   "metadata": {},
   "source": [
    "### SHG after SMOTE"
   ]
  },
  {
   "cell_type": "code",
   "execution_count": 14,
   "id": "566b17c0-c9b9-43ca-afb4-1406ffa1c25f",
   "metadata": {},
   "outputs": [
    {
     "name": "stdout",
     "output_type": "stream",
     "text": [
      "Fitting 10 folds for each of 32 candidates, totalling 320 fits\n"
     ]
    },
    {
     "name": "stderr",
     "output_type": "stream",
     "text": [
      "C:\\Users\\hazel\\anaconda3\\Lib\\site-packages\\sklearn\\utils\\validation.py:1143: DataConversionWarning: A column-vector y was passed when a 1d array was expected. Please change the shape of y to (n_samples, ), for example using ravel().\n",
      "  y = column_or_1d(y, warn=True)\n"
     ]
    },
    {
     "name": "stdout",
     "output_type": "stream",
     "text": [
      "Fitting 10 folds for each of 32 candidates, totalling 320 fits\n"
     ]
    },
    {
     "name": "stderr",
     "output_type": "stream",
     "text": [
      "C:\\Users\\hazel\\anaconda3\\Lib\\site-packages\\sklearn\\utils\\validation.py:1143: DataConversionWarning: A column-vector y was passed when a 1d array was expected. Please change the shape of y to (n_samples, ), for example using ravel().\n",
      "  y = column_or_1d(y, warn=True)\n"
     ]
    },
    {
     "name": "stdout",
     "output_type": "stream",
     "text": [
      "Fitting 10 folds for each of 32 candidates, totalling 320 fits\n"
     ]
    },
    {
     "name": "stderr",
     "output_type": "stream",
     "text": [
      "C:\\Users\\hazel\\anaconda3\\Lib\\site-packages\\sklearn\\utils\\validation.py:1143: DataConversionWarning: A column-vector y was passed when a 1d array was expected. Please change the shape of y to (n_samples, ), for example using ravel().\n",
      "  y = column_or_1d(y, warn=True)\n"
     ]
    },
    {
     "name": "stdout",
     "output_type": "stream",
     "text": [
      "Fitting 10 folds for each of 32 candidates, totalling 320 fits\n"
     ]
    },
    {
     "name": "stderr",
     "output_type": "stream",
     "text": [
      "C:\\Users\\hazel\\anaconda3\\Lib\\site-packages\\sklearn\\utils\\validation.py:1143: DataConversionWarning: A column-vector y was passed when a 1d array was expected. Please change the shape of y to (n_samples, ), for example using ravel().\n",
      "  y = column_or_1d(y, warn=True)\n"
     ]
    },
    {
     "name": "stdout",
     "output_type": "stream",
     "text": [
      "Fitting 10 folds for each of 32 candidates, totalling 320 fits\n"
     ]
    },
    {
     "name": "stderr",
     "output_type": "stream",
     "text": [
      "C:\\Users\\hazel\\anaconda3\\Lib\\site-packages\\sklearn\\utils\\validation.py:1143: DataConversionWarning: A column-vector y was passed when a 1d array was expected. Please change the shape of y to (n_samples, ), for example using ravel().\n",
      "  y = column_or_1d(y, warn=True)\n"
     ]
    },
    {
     "name": "stdout",
     "output_type": "stream",
     "text": [
      "Fitting 10 folds for each of 32 candidates, totalling 320 fits\n"
     ]
    },
    {
     "name": "stderr",
     "output_type": "stream",
     "text": [
      "C:\\Users\\hazel\\anaconda3\\Lib\\site-packages\\sklearn\\utils\\validation.py:1143: DataConversionWarning: A column-vector y was passed when a 1d array was expected. Please change the shape of y to (n_samples, ), for example using ravel().\n",
      "  y = column_or_1d(y, warn=True)\n"
     ]
    },
    {
     "name": "stdout",
     "output_type": "stream",
     "text": [
      "Fitting 10 folds for each of 32 candidates, totalling 320 fits\n"
     ]
    },
    {
     "name": "stderr",
     "output_type": "stream",
     "text": [
      "C:\\Users\\hazel\\anaconda3\\Lib\\site-packages\\sklearn\\utils\\validation.py:1143: DataConversionWarning: A column-vector y was passed when a 1d array was expected. Please change the shape of y to (n_samples, ), for example using ravel().\n",
      "  y = column_or_1d(y, warn=True)\n"
     ]
    },
    {
     "name": "stdout",
     "output_type": "stream",
     "text": [
      "Fitting 10 folds for each of 32 candidates, totalling 320 fits\n"
     ]
    },
    {
     "name": "stderr",
     "output_type": "stream",
     "text": [
      "C:\\Users\\hazel\\anaconda3\\Lib\\site-packages\\sklearn\\utils\\validation.py:1143: DataConversionWarning: A column-vector y was passed when a 1d array was expected. Please change the shape of y to (n_samples, ), for example using ravel().\n",
      "  y = column_or_1d(y, warn=True)\n"
     ]
    },
    {
     "name": "stdout",
     "output_type": "stream",
     "text": [
      "Fitting 10 folds for each of 32 candidates, totalling 320 fits\n"
     ]
    },
    {
     "name": "stderr",
     "output_type": "stream",
     "text": [
      "C:\\Users\\hazel\\anaconda3\\Lib\\site-packages\\sklearn\\utils\\validation.py:1143: DataConversionWarning: A column-vector y was passed when a 1d array was expected. Please change the shape of y to (n_samples, ), for example using ravel().\n",
      "  y = column_or_1d(y, warn=True)\n"
     ]
    },
    {
     "name": "stdout",
     "output_type": "stream",
     "text": [
      "Fitting 10 folds for each of 32 candidates, totalling 320 fits\n"
     ]
    },
    {
     "name": "stderr",
     "output_type": "stream",
     "text": [
      "C:\\Users\\hazel\\anaconda3\\Lib\\site-packages\\sklearn\\utils\\validation.py:1143: DataConversionWarning: A column-vector y was passed when a 1d array was expected. Please change the shape of y to (n_samples, ), for example using ravel().\n",
      "  y = column_or_1d(y, warn=True)\n"
     ]
    },
    {
     "name": "stdout",
     "output_type": "stream",
     "text": [
      "Fitting 10 folds for each of 32 candidates, totalling 320 fits\n"
     ]
    },
    {
     "name": "stderr",
     "output_type": "stream",
     "text": [
      "C:\\Users\\hazel\\anaconda3\\Lib\\site-packages\\sklearn\\utils\\validation.py:1143: DataConversionWarning: A column-vector y was passed when a 1d array was expected. Please change the shape of y to (n_samples, ), for example using ravel().\n",
      "  y = column_or_1d(y, warn=True)\n"
     ]
    },
    {
     "name": "stdout",
     "output_type": "stream",
     "text": [
      "Fitting 10 folds for each of 32 candidates, totalling 320 fits\n"
     ]
    },
    {
     "name": "stderr",
     "output_type": "stream",
     "text": [
      "C:\\Users\\hazel\\anaconda3\\Lib\\site-packages\\sklearn\\utils\\validation.py:1143: DataConversionWarning: A column-vector y was passed when a 1d array was expected. Please change the shape of y to (n_samples, ), for example using ravel().\n",
      "  y = column_or_1d(y, warn=True)\n"
     ]
    },
    {
     "data": {
      "text/html": [
       "<div>\n",
       "<style scoped>\n",
       "    .dataframe tbody tr th:only-of-type {\n",
       "        vertical-align: middle;\n",
       "    }\n",
       "\n",
       "    .dataframe tbody tr th {\n",
       "        vertical-align: top;\n",
       "    }\n",
       "\n",
       "    .dataframe thead th {\n",
       "        text-align: right;\n",
       "    }\n",
       "</style>\n",
       "<table border=\"1\" class=\"dataframe\">\n",
       "  <thead>\n",
       "    <tr style=\"text-align: right;\">\n",
       "      <th></th>\n",
       "      <th>Test Size</th>\n",
       "      <th>Random State</th>\n",
       "      <th>Accuracy</th>\n",
       "      <th>Precision</th>\n",
       "      <th>Recall</th>\n",
       "      <th>F1 Score</th>\n",
       "      <th>Best Param</th>\n",
       "    </tr>\n",
       "  </thead>\n",
       "  <tbody>\n",
       "    <tr>\n",
       "      <th>0</th>\n",
       "      <td>0.5</td>\n",
       "      <td>7</td>\n",
       "      <td>0.950394</td>\n",
       "      <td>0.952602</td>\n",
       "      <td>0.950394</td>\n",
       "      <td>0.950295</td>\n",
       "      <td>{'C': 100, 'gamma': 0.1, 'kernel': 'rbf'}</td>\n",
       "    </tr>\n",
       "    <tr>\n",
       "      <th>1</th>\n",
       "      <td>0.5</td>\n",
       "      <td>69</td>\n",
       "      <td>0.951181</td>\n",
       "      <td>0.953230</td>\n",
       "      <td>0.951181</td>\n",
       "      <td>0.951163</td>\n",
       "      <td>{'C': 100, 'gamma': 0.1, 'kernel': 'rbf'}</td>\n",
       "    </tr>\n",
       "    <tr>\n",
       "      <th>2</th>\n",
       "      <td>0.5</td>\n",
       "      <td>101</td>\n",
       "      <td>0.947244</td>\n",
       "      <td>0.949799</td>\n",
       "      <td>0.947244</td>\n",
       "      <td>0.947221</td>\n",
       "      <td>{'C': 10, 'gamma': 1, 'kernel': 'rbf'}</td>\n",
       "    </tr>\n",
       "    <tr>\n",
       "      <th>3</th>\n",
       "      <td>0.4</td>\n",
       "      <td>7</td>\n",
       "      <td>0.956693</td>\n",
       "      <td>0.958236</td>\n",
       "      <td>0.956693</td>\n",
       "      <td>0.956625</td>\n",
       "      <td>{'C': 100, 'gamma': 0.1, 'kernel': 'rbf'}</td>\n",
       "    </tr>\n",
       "    <tr>\n",
       "      <th>4</th>\n",
       "      <td>0.4</td>\n",
       "      <td>69</td>\n",
       "      <td>0.947835</td>\n",
       "      <td>0.948795</td>\n",
       "      <td>0.947835</td>\n",
       "      <td>0.947829</td>\n",
       "      <td>{'C': 10, 'gamma': 1, 'kernel': 'rbf'}</td>\n",
       "    </tr>\n",
       "    <tr>\n",
       "      <th>5</th>\n",
       "      <td>0.4</td>\n",
       "      <td>101</td>\n",
       "      <td>0.948819</td>\n",
       "      <td>0.951171</td>\n",
       "      <td>0.948819</td>\n",
       "      <td>0.948801</td>\n",
       "      <td>{'C': 10, 'gamma': 1, 'kernel': 'rbf'}</td>\n",
       "    </tr>\n",
       "    <tr>\n",
       "      <th>6</th>\n",
       "      <td>0.3</td>\n",
       "      <td>7</td>\n",
       "      <td>0.956693</td>\n",
       "      <td>0.958288</td>\n",
       "      <td>0.956693</td>\n",
       "      <td>0.956612</td>\n",
       "      <td>{'C': 100, 'gamma': 0.1, 'kernel': 'rbf'}</td>\n",
       "    </tr>\n",
       "    <tr>\n",
       "      <th>7</th>\n",
       "      <td>0.3</td>\n",
       "      <td>69</td>\n",
       "      <td>0.951444</td>\n",
       "      <td>0.952643</td>\n",
       "      <td>0.951444</td>\n",
       "      <td>0.951452</td>\n",
       "      <td>{'C': 100, 'gamma': 0.1, 'kernel': 'rbf'}</td>\n",
       "    </tr>\n",
       "    <tr>\n",
       "      <th>8</th>\n",
       "      <td>0.3</td>\n",
       "      <td>101</td>\n",
       "      <td>0.951444</td>\n",
       "      <td>0.953806</td>\n",
       "      <td>0.951444</td>\n",
       "      <td>0.951428</td>\n",
       "      <td>{'C': 10, 'gamma': 1, 'kernel': 'rbf'}</td>\n",
       "    </tr>\n",
       "    <tr>\n",
       "      <th>9</th>\n",
       "      <td>0.2</td>\n",
       "      <td>7</td>\n",
       "      <td>0.952756</td>\n",
       "      <td>0.954350</td>\n",
       "      <td>0.952756</td>\n",
       "      <td>0.952590</td>\n",
       "      <td>{'C': 10, 'gamma': 1, 'kernel': 'rbf'}</td>\n",
       "    </tr>\n",
       "    <tr>\n",
       "      <th>10</th>\n",
       "      <td>0.2</td>\n",
       "      <td>69</td>\n",
       "      <td>0.944882</td>\n",
       "      <td>0.945947</td>\n",
       "      <td>0.944882</td>\n",
       "      <td>0.944887</td>\n",
       "      <td>{'C': 10, 'gamma': 1, 'kernel': 'rbf'}</td>\n",
       "    </tr>\n",
       "    <tr>\n",
       "      <th>11</th>\n",
       "      <td>0.2</td>\n",
       "      <td>101</td>\n",
       "      <td>0.954724</td>\n",
       "      <td>0.956437</td>\n",
       "      <td>0.954724</td>\n",
       "      <td>0.954748</td>\n",
       "      <td>{'C': 100, 'gamma': 0.1, 'kernel': 'rbf'}</td>\n",
       "    </tr>\n",
       "  </tbody>\n",
       "</table>\n",
       "</div>"
      ],
      "text/plain": [
       "    Test Size  Random State  Accuracy  Precision    Recall  F1 Score  \\\n",
       "0         0.5             7  0.950394   0.952602  0.950394  0.950295   \n",
       "1         0.5            69  0.951181   0.953230  0.951181  0.951163   \n",
       "2         0.5           101  0.947244   0.949799  0.947244  0.947221   \n",
       "3         0.4             7  0.956693   0.958236  0.956693  0.956625   \n",
       "4         0.4            69  0.947835   0.948795  0.947835  0.947829   \n",
       "5         0.4           101  0.948819   0.951171  0.948819  0.948801   \n",
       "6         0.3             7  0.956693   0.958288  0.956693  0.956612   \n",
       "7         0.3            69  0.951444   0.952643  0.951444  0.951452   \n",
       "8         0.3           101  0.951444   0.953806  0.951444  0.951428   \n",
       "9         0.2             7  0.952756   0.954350  0.952756  0.952590   \n",
       "10        0.2            69  0.944882   0.945947  0.944882  0.944887   \n",
       "11        0.2           101  0.954724   0.956437  0.954724  0.954748   \n",
       "\n",
       "                                   Best Param  \n",
       "0   {'C': 100, 'gamma': 0.1, 'kernel': 'rbf'}  \n",
       "1   {'C': 100, 'gamma': 0.1, 'kernel': 'rbf'}  \n",
       "2      {'C': 10, 'gamma': 1, 'kernel': 'rbf'}  \n",
       "3   {'C': 100, 'gamma': 0.1, 'kernel': 'rbf'}  \n",
       "4      {'C': 10, 'gamma': 1, 'kernel': 'rbf'}  \n",
       "5      {'C': 10, 'gamma': 1, 'kernel': 'rbf'}  \n",
       "6   {'C': 100, 'gamma': 0.1, 'kernel': 'rbf'}  \n",
       "7   {'C': 100, 'gamma': 0.1, 'kernel': 'rbf'}  \n",
       "8      {'C': 10, 'gamma': 1, 'kernel': 'rbf'}  \n",
       "9      {'C': 10, 'gamma': 1, 'kernel': 'rbf'}  \n",
       "10     {'C': 10, 'gamma': 1, 'kernel': 'rbf'}  \n",
       "11  {'C': 100, 'gamma': 0.1, 'kernel': 'rbf'}  "
      ]
     },
     "execution_count": 14,
     "metadata": {},
     "output_type": "execute_result"
    }
   ],
   "source": [
    "tempB_SHG_SMOTE = []\n",
    "\n",
    "y = merge_B_SMOTE[['CGPA']]\n",
    "X = merge_B_SMOTE[['Number of Subjects Failed','SPM Result (A)','SPM Result (B)','SPM Result (C)']]\n",
    "\n",
    "for i in [0.5,0.4,0.3,0.2]:\n",
    "    for j in rand_states:\n",
    "        X_train, X_test, y_train, y_test = train_test_split(X, y, test_size=i, random_state=j)\n",
    "        param_grid = {'C': [0.1, 1, 10, 100],\n",
    "                      'gamma': [1, 0.1, 0.01, 0.001],\n",
    "                      'kernel': ['rbf','sigmoid']}\n",
    "\n",
    "        model = GridSearchCV(SVC(random_state=0), param_grid, refit=True, n_jobs=-1, cv=10, verbose=1)\n",
    "        model.fit(X_train, y_train)\n",
    "        pred = model.predict(X_test)\n",
    "        \n",
    "        acc = accuracy_score(y_test,pred)\n",
    "        pre = precision_score(y_test, pred, average='weighted')\n",
    "        recall = recall_score(y_test, pred, average='weighted')\n",
    "        f1 = f1_score(y_test, pred, average='weighted')\n",
    "        param = model.best_params_\n",
    "    \n",
    "        tempB_SHG_SMOTE.append([i,j,acc,pre,recall,f1,param])\n",
    "        \n",
    "dfB_SHG_SMOTE = pd.DataFrame(columns=['Test Size','Random State','Accuracy','Precision','Recall','F1 Score','Best Param'],data=tempB_SHG_SMOTE)\n",
    "dfB_SHG_SMOTE"
   ]
  },
  {
   "cell_type": "code",
   "execution_count": 15,
   "id": "11f37059-e8aa-4221-b1b5-a2d7c86eb3c7",
   "metadata": {},
   "outputs": [
    {
     "data": {
      "text/html": [
       "<div>\n",
       "<style scoped>\n",
       "    .dataframe tbody tr th:only-of-type {\n",
       "        vertical-align: middle;\n",
       "    }\n",
       "\n",
       "    .dataframe tbody tr th {\n",
       "        vertical-align: top;\n",
       "    }\n",
       "\n",
       "    .dataframe thead th {\n",
       "        text-align: right;\n",
       "    }\n",
       "</style>\n",
       "<table border=\"1\" class=\"dataframe\">\n",
       "  <thead>\n",
       "    <tr style=\"text-align: right;\">\n",
       "      <th></th>\n",
       "      <th>Accuracy</th>\n",
       "      <th>Precision</th>\n",
       "      <th>Recall</th>\n",
       "      <th>F1 Score</th>\n",
       "    </tr>\n",
       "    <tr>\n",
       "      <th>Test Size</th>\n",
       "      <th></th>\n",
       "      <th></th>\n",
       "      <th></th>\n",
       "      <th></th>\n",
       "    </tr>\n",
       "  </thead>\n",
       "  <tbody>\n",
       "    <tr>\n",
       "      <th>0.2</th>\n",
       "      <td>0.950787</td>\n",
       "      <td>0.952245</td>\n",
       "      <td>0.950787</td>\n",
       "      <td>0.950742</td>\n",
       "    </tr>\n",
       "    <tr>\n",
       "      <th>0.3</th>\n",
       "      <td>0.953193</td>\n",
       "      <td>0.954912</td>\n",
       "      <td>0.953193</td>\n",
       "      <td>0.953164</td>\n",
       "    </tr>\n",
       "    <tr>\n",
       "      <th>0.4</th>\n",
       "      <td>0.951115</td>\n",
       "      <td>0.952734</td>\n",
       "      <td>0.951115</td>\n",
       "      <td>0.951085</td>\n",
       "    </tr>\n",
       "    <tr>\n",
       "      <th>0.5</th>\n",
       "      <td>0.949606</td>\n",
       "      <td>0.951877</td>\n",
       "      <td>0.949606</td>\n",
       "      <td>0.949560</td>\n",
       "    </tr>\n",
       "  </tbody>\n",
       "</table>\n",
       "</div>"
      ],
      "text/plain": [
       "           Accuracy  Precision    Recall  F1 Score\n",
       "Test Size                                         \n",
       "0.2        0.950787   0.952245  0.950787  0.950742\n",
       "0.3        0.953193   0.954912  0.953193  0.953164\n",
       "0.4        0.951115   0.952734  0.951115  0.951085\n",
       "0.5        0.949606   0.951877  0.949606  0.949560"
      ]
     },
     "execution_count": 15,
     "metadata": {},
     "output_type": "execute_result"
    }
   ],
   "source": [
    "dfB_SHG_SMOTE.groupby('Test Size')[['Accuracy','Precision','Recall','F1 Score']].mean()"
   ]
  },
  {
   "cell_type": "markdown",
   "id": "730a0921-70b2-45fc-99e6-4b6d24a76e5d",
   "metadata": {},
   "source": [
    "## Student Opinion Towards MMU Environment"
   ]
  },
  {
   "cell_type": "markdown",
   "id": "f8c48370-5155-408c-9867-b19627bc7437",
   "metadata": {},
   "source": [
    "### SOTME before Data Balancing"
   ]
  },
  {
   "cell_type": "code",
   "execution_count": 16,
   "id": "40764f8c-22e1-4c42-96e1-83c125808c12",
   "metadata": {},
   "outputs": [
    {
     "name": "stderr",
     "output_type": "stream",
     "text": [
      "C:\\Users\\hazel\\anaconda3\\Lib\\site-packages\\sklearn\\model_selection\\_split.py:700: UserWarning: The least populated class in y has only 8 members, which is less than n_splits=10.\n",
      "  warnings.warn(\n"
     ]
    },
    {
     "name": "stdout",
     "output_type": "stream",
     "text": [
      "X: (1287, 5) y: (1287, 1)\n",
      "Fitting 10 folds for each of 32 candidates, totalling 320 fits\n"
     ]
    },
    {
     "name": "stderr",
     "output_type": "stream",
     "text": [
      "C:\\Users\\hazel\\anaconda3\\Lib\\site-packages\\sklearn\\utils\\validation.py:1143: DataConversionWarning: A column-vector y was passed when a 1d array was expected. Please change the shape of y to (n_samples, ), for example using ravel().\n",
      "  y = column_or_1d(y, warn=True)\n",
      "C:\\Users\\hazel\\anaconda3\\Lib\\site-packages\\sklearn\\metrics\\_classification.py:1344: UndefinedMetricWarning: Precision is ill-defined and being set to 0.0 in labels with no predicted samples. Use `zero_division` parameter to control this behavior.\n",
      "  _warn_prf(average, modifier, msg_start, len(result))\n",
      "C:\\Users\\hazel\\anaconda3\\Lib\\site-packages\\sklearn\\model_selection\\_split.py:700: UserWarning: The least populated class in y has only 8 members, which is less than n_splits=10.\n",
      "  warnings.warn(\n"
     ]
    },
    {
     "name": "stdout",
     "output_type": "stream",
     "text": [
      "Fitting 10 folds for each of 32 candidates, totalling 320 fits\n"
     ]
    },
    {
     "name": "stderr",
     "output_type": "stream",
     "text": [
      "C:\\Users\\hazel\\anaconda3\\Lib\\site-packages\\sklearn\\utils\\validation.py:1143: DataConversionWarning: A column-vector y was passed when a 1d array was expected. Please change the shape of y to (n_samples, ), for example using ravel().\n",
      "  y = column_or_1d(y, warn=True)\n",
      "C:\\Users\\hazel\\anaconda3\\Lib\\site-packages\\sklearn\\metrics\\_classification.py:1344: UndefinedMetricWarning: Precision is ill-defined and being set to 0.0 in labels with no predicted samples. Use `zero_division` parameter to control this behavior.\n",
      "  _warn_prf(average, modifier, msg_start, len(result))\n",
      "C:\\Users\\hazel\\anaconda3\\Lib\\site-packages\\sklearn\\model_selection\\_split.py:700: UserWarning: The least populated class in y has only 8 members, which is less than n_splits=10.\n",
      "  warnings.warn(\n"
     ]
    },
    {
     "name": "stdout",
     "output_type": "stream",
     "text": [
      "Fitting 10 folds for each of 32 candidates, totalling 320 fits\n"
     ]
    },
    {
     "name": "stderr",
     "output_type": "stream",
     "text": [
      "C:\\Users\\hazel\\anaconda3\\Lib\\site-packages\\sklearn\\utils\\validation.py:1143: DataConversionWarning: A column-vector y was passed when a 1d array was expected. Please change the shape of y to (n_samples, ), for example using ravel().\n",
      "  y = column_or_1d(y, warn=True)\n",
      "C:\\Users\\hazel\\anaconda3\\Lib\\site-packages\\sklearn\\metrics\\_classification.py:1344: UndefinedMetricWarning: Precision is ill-defined and being set to 0.0 in labels with no predicted samples. Use `zero_division` parameter to control this behavior.\n",
      "  _warn_prf(average, modifier, msg_start, len(result))\n"
     ]
    },
    {
     "name": "stdout",
     "output_type": "stream",
     "text": [
      "Fitting 10 folds for each of 32 candidates, totalling 320 fits\n"
     ]
    },
    {
     "name": "stderr",
     "output_type": "stream",
     "text": [
      "C:\\Users\\hazel\\anaconda3\\Lib\\site-packages\\sklearn\\utils\\validation.py:1143: DataConversionWarning: A column-vector y was passed when a 1d array was expected. Please change the shape of y to (n_samples, ), for example using ravel().\n",
      "  y = column_or_1d(y, warn=True)\n",
      "C:\\Users\\hazel\\anaconda3\\Lib\\site-packages\\sklearn\\metrics\\_classification.py:1344: UndefinedMetricWarning: Precision is ill-defined and being set to 0.0 in labels with no predicted samples. Use `zero_division` parameter to control this behavior.\n",
      "  _warn_prf(average, modifier, msg_start, len(result))\n",
      "C:\\Users\\hazel\\anaconda3\\Lib\\site-packages\\sklearn\\model_selection\\_split.py:700: UserWarning: The least populated class in y has only 9 members, which is less than n_splits=10.\n",
      "  warnings.warn(\n"
     ]
    },
    {
     "name": "stdout",
     "output_type": "stream",
     "text": [
      "Fitting 10 folds for each of 32 candidates, totalling 320 fits\n"
     ]
    },
    {
     "name": "stderr",
     "output_type": "stream",
     "text": [
      "C:\\Users\\hazel\\anaconda3\\Lib\\site-packages\\sklearn\\utils\\validation.py:1143: DataConversionWarning: A column-vector y was passed when a 1d array was expected. Please change the shape of y to (n_samples, ), for example using ravel().\n",
      "  y = column_or_1d(y, warn=True)\n",
      "C:\\Users\\hazel\\anaconda3\\Lib\\site-packages\\sklearn\\metrics\\_classification.py:1344: UndefinedMetricWarning: Precision is ill-defined and being set to 0.0 in labels with no predicted samples. Use `zero_division` parameter to control this behavior.\n",
      "  _warn_prf(average, modifier, msg_start, len(result))\n"
     ]
    },
    {
     "name": "stdout",
     "output_type": "stream",
     "text": [
      "Fitting 10 folds for each of 32 candidates, totalling 320 fits\n"
     ]
    },
    {
     "name": "stderr",
     "output_type": "stream",
     "text": [
      "C:\\Users\\hazel\\anaconda3\\Lib\\site-packages\\sklearn\\utils\\validation.py:1143: DataConversionWarning: A column-vector y was passed when a 1d array was expected. Please change the shape of y to (n_samples, ), for example using ravel().\n",
      "  y = column_or_1d(y, warn=True)\n",
      "C:\\Users\\hazel\\anaconda3\\Lib\\site-packages\\sklearn\\metrics\\_classification.py:1344: UndefinedMetricWarning: Precision is ill-defined and being set to 0.0 in labels with no predicted samples. Use `zero_division` parameter to control this behavior.\n",
      "  _warn_prf(average, modifier, msg_start, len(result))\n"
     ]
    },
    {
     "name": "stdout",
     "output_type": "stream",
     "text": [
      "Fitting 10 folds for each of 32 candidates, totalling 320 fits\n"
     ]
    },
    {
     "name": "stderr",
     "output_type": "stream",
     "text": [
      "C:\\Users\\hazel\\anaconda3\\Lib\\site-packages\\sklearn\\utils\\validation.py:1143: DataConversionWarning: A column-vector y was passed when a 1d array was expected. Please change the shape of y to (n_samples, ), for example using ravel().\n",
      "  y = column_or_1d(y, warn=True)\n",
      "C:\\Users\\hazel\\anaconda3\\Lib\\site-packages\\sklearn\\metrics\\_classification.py:1344: UndefinedMetricWarning: Precision is ill-defined and being set to 0.0 in labels with no predicted samples. Use `zero_division` parameter to control this behavior.\n",
      "  _warn_prf(average, modifier, msg_start, len(result))\n"
     ]
    },
    {
     "name": "stdout",
     "output_type": "stream",
     "text": [
      "Fitting 10 folds for each of 32 candidates, totalling 320 fits\n"
     ]
    },
    {
     "name": "stderr",
     "output_type": "stream",
     "text": [
      "C:\\Users\\hazel\\anaconda3\\Lib\\site-packages\\sklearn\\utils\\validation.py:1143: DataConversionWarning: A column-vector y was passed when a 1d array was expected. Please change the shape of y to (n_samples, ), for example using ravel().\n",
      "  y = column_or_1d(y, warn=True)\n",
      "C:\\Users\\hazel\\anaconda3\\Lib\\site-packages\\sklearn\\metrics\\_classification.py:1344: UndefinedMetricWarning: Precision is ill-defined and being set to 0.0 in labels with no predicted samples. Use `zero_division` parameter to control this behavior.\n",
      "  _warn_prf(average, modifier, msg_start, len(result))\n"
     ]
    },
    {
     "name": "stdout",
     "output_type": "stream",
     "text": [
      "Fitting 10 folds for each of 32 candidates, totalling 320 fits\n"
     ]
    },
    {
     "name": "stderr",
     "output_type": "stream",
     "text": [
      "C:\\Users\\hazel\\anaconda3\\Lib\\site-packages\\sklearn\\utils\\validation.py:1143: DataConversionWarning: A column-vector y was passed when a 1d array was expected. Please change the shape of y to (n_samples, ), for example using ravel().\n",
      "  y = column_or_1d(y, warn=True)\n",
      "C:\\Users\\hazel\\anaconda3\\Lib\\site-packages\\sklearn\\metrics\\_classification.py:1344: UndefinedMetricWarning: Precision is ill-defined and being set to 0.0 in labels with no predicted samples. Use `zero_division` parameter to control this behavior.\n",
      "  _warn_prf(average, modifier, msg_start, len(result))\n"
     ]
    },
    {
     "name": "stdout",
     "output_type": "stream",
     "text": [
      "Fitting 10 folds for each of 32 candidates, totalling 320 fits\n"
     ]
    },
    {
     "name": "stderr",
     "output_type": "stream",
     "text": [
      "C:\\Users\\hazel\\anaconda3\\Lib\\site-packages\\sklearn\\utils\\validation.py:1143: DataConversionWarning: A column-vector y was passed when a 1d array was expected. Please change the shape of y to (n_samples, ), for example using ravel().\n",
      "  y = column_or_1d(y, warn=True)\n",
      "C:\\Users\\hazel\\anaconda3\\Lib\\site-packages\\sklearn\\metrics\\_classification.py:1344: UndefinedMetricWarning: Precision is ill-defined and being set to 0.0 in labels with no predicted samples. Use `zero_division` parameter to control this behavior.\n",
      "  _warn_prf(average, modifier, msg_start, len(result))\n"
     ]
    },
    {
     "name": "stdout",
     "output_type": "stream",
     "text": [
      "Fitting 10 folds for each of 32 candidates, totalling 320 fits\n"
     ]
    },
    {
     "name": "stderr",
     "output_type": "stream",
     "text": [
      "C:\\Users\\hazel\\anaconda3\\Lib\\site-packages\\sklearn\\utils\\validation.py:1143: DataConversionWarning: A column-vector y was passed when a 1d array was expected. Please change the shape of y to (n_samples, ), for example using ravel().\n",
      "  y = column_or_1d(y, warn=True)\n",
      "C:\\Users\\hazel\\anaconda3\\Lib\\site-packages\\sklearn\\metrics\\_classification.py:1344: UndefinedMetricWarning: Precision is ill-defined and being set to 0.0 in labels with no predicted samples. Use `zero_division` parameter to control this behavior.\n",
      "  _warn_prf(average, modifier, msg_start, len(result))\n"
     ]
    },
    {
     "name": "stdout",
     "output_type": "stream",
     "text": [
      "Fitting 10 folds for each of 32 candidates, totalling 320 fits\n"
     ]
    },
    {
     "name": "stderr",
     "output_type": "stream",
     "text": [
      "C:\\Users\\hazel\\anaconda3\\Lib\\site-packages\\sklearn\\utils\\validation.py:1143: DataConversionWarning: A column-vector y was passed when a 1d array was expected. Please change the shape of y to (n_samples, ), for example using ravel().\n",
      "  y = column_or_1d(y, warn=True)\n",
      "C:\\Users\\hazel\\anaconda3\\Lib\\site-packages\\sklearn\\metrics\\_classification.py:1344: UndefinedMetricWarning: Precision is ill-defined and being set to 0.0 in labels with no predicted samples. Use `zero_division` parameter to control this behavior.\n",
      "  _warn_prf(average, modifier, msg_start, len(result))\n"
     ]
    },
    {
     "data": {
      "text/html": [
       "<div>\n",
       "<style scoped>\n",
       "    .dataframe tbody tr th:only-of-type {\n",
       "        vertical-align: middle;\n",
       "    }\n",
       "\n",
       "    .dataframe tbody tr th {\n",
       "        vertical-align: top;\n",
       "    }\n",
       "\n",
       "    .dataframe thead th {\n",
       "        text-align: right;\n",
       "    }\n",
       "</style>\n",
       "<table border=\"1\" class=\"dataframe\">\n",
       "  <thead>\n",
       "    <tr style=\"text-align: right;\">\n",
       "      <th></th>\n",
       "      <th>Test Size</th>\n",
       "      <th>Random State</th>\n",
       "      <th>Accuracy</th>\n",
       "      <th>Precision</th>\n",
       "      <th>Recall</th>\n",
       "      <th>F1 Score</th>\n",
       "      <th>Best Param</th>\n",
       "    </tr>\n",
       "  </thead>\n",
       "  <tbody>\n",
       "    <tr>\n",
       "      <th>0</th>\n",
       "      <td>0.5</td>\n",
       "      <td>7</td>\n",
       "      <td>0.986025</td>\n",
       "      <td>0.972245</td>\n",
       "      <td>0.986025</td>\n",
       "      <td>0.979086</td>\n",
       "      <td>{'C': 0.1, 'gamma': 1, 'kernel': 'rbf'}</td>\n",
       "    </tr>\n",
       "    <tr>\n",
       "      <th>1</th>\n",
       "      <td>0.5</td>\n",
       "      <td>69</td>\n",
       "      <td>0.986025</td>\n",
       "      <td>0.972245</td>\n",
       "      <td>0.986025</td>\n",
       "      <td>0.979086</td>\n",
       "      <td>{'C': 0.1, 'gamma': 1, 'kernel': 'rbf'}</td>\n",
       "    </tr>\n",
       "    <tr>\n",
       "      <th>2</th>\n",
       "      <td>0.5</td>\n",
       "      <td>101</td>\n",
       "      <td>0.986025</td>\n",
       "      <td>0.972245</td>\n",
       "      <td>0.986025</td>\n",
       "      <td>0.979086</td>\n",
       "      <td>{'C': 0.1, 'gamma': 1, 'kernel': 'rbf'}</td>\n",
       "    </tr>\n",
       "    <tr>\n",
       "      <th>3</th>\n",
       "      <td>0.4</td>\n",
       "      <td>7</td>\n",
       "      <td>0.988350</td>\n",
       "      <td>0.976835</td>\n",
       "      <td>0.988350</td>\n",
       "      <td>0.982558</td>\n",
       "      <td>{'C': 0.1, 'gamma': 1, 'kernel': 'rbf'}</td>\n",
       "    </tr>\n",
       "    <tr>\n",
       "      <th>4</th>\n",
       "      <td>0.4</td>\n",
       "      <td>69</td>\n",
       "      <td>0.984466</td>\n",
       "      <td>0.969173</td>\n",
       "      <td>0.984466</td>\n",
       "      <td>0.976760</td>\n",
       "      <td>{'C': 0.1, 'gamma': 1, 'kernel': 'rbf'}</td>\n",
       "    </tr>\n",
       "    <tr>\n",
       "      <th>5</th>\n",
       "      <td>0.4</td>\n",
       "      <td>101</td>\n",
       "      <td>0.986408</td>\n",
       "      <td>0.973000</td>\n",
       "      <td>0.986408</td>\n",
       "      <td>0.979658</td>\n",
       "      <td>{'C': 0.1, 'gamma': 1, 'kernel': 'rbf'}</td>\n",
       "    </tr>\n",
       "    <tr>\n",
       "      <th>6</th>\n",
       "      <td>0.3</td>\n",
       "      <td>7</td>\n",
       "      <td>0.989664</td>\n",
       "      <td>0.979435</td>\n",
       "      <td>0.989664</td>\n",
       "      <td>0.984523</td>\n",
       "      <td>{'C': 0.1, 'gamma': 1, 'kernel': 'rbf'}</td>\n",
       "    </tr>\n",
       "    <tr>\n",
       "      <th>7</th>\n",
       "      <td>0.3</td>\n",
       "      <td>69</td>\n",
       "      <td>0.987080</td>\n",
       "      <td>0.974327</td>\n",
       "      <td>0.987080</td>\n",
       "      <td>0.980662</td>\n",
       "      <td>{'C': 0.1, 'gamma': 1, 'kernel': 'rbf'}</td>\n",
       "    </tr>\n",
       "    <tr>\n",
       "      <th>8</th>\n",
       "      <td>0.3</td>\n",
       "      <td>101</td>\n",
       "      <td>0.987080</td>\n",
       "      <td>0.974327</td>\n",
       "      <td>0.987080</td>\n",
       "      <td>0.980662</td>\n",
       "      <td>{'C': 0.1, 'gamma': 1, 'kernel': 'rbf'}</td>\n",
       "    </tr>\n",
       "    <tr>\n",
       "      <th>9</th>\n",
       "      <td>0.2</td>\n",
       "      <td>7</td>\n",
       "      <td>0.992248</td>\n",
       "      <td>0.984556</td>\n",
       "      <td>0.992248</td>\n",
       "      <td>0.988387</td>\n",
       "      <td>{'C': 0.1, 'gamma': 1, 'kernel': 'rbf'}</td>\n",
       "    </tr>\n",
       "    <tr>\n",
       "      <th>10</th>\n",
       "      <td>0.2</td>\n",
       "      <td>69</td>\n",
       "      <td>0.984496</td>\n",
       "      <td>0.969233</td>\n",
       "      <td>0.984496</td>\n",
       "      <td>0.976805</td>\n",
       "      <td>{'C': 0.1, 'gamma': 1, 'kernel': 'rbf'}</td>\n",
       "    </tr>\n",
       "    <tr>\n",
       "      <th>11</th>\n",
       "      <td>0.2</td>\n",
       "      <td>101</td>\n",
       "      <td>0.984496</td>\n",
       "      <td>0.969233</td>\n",
       "      <td>0.984496</td>\n",
       "      <td>0.976805</td>\n",
       "      <td>{'C': 0.1, 'gamma': 1, 'kernel': 'rbf'}</td>\n",
       "    </tr>\n",
       "  </tbody>\n",
       "</table>\n",
       "</div>"
      ],
      "text/plain": [
       "    Test Size  Random State  Accuracy  Precision    Recall  F1 Score  \\\n",
       "0         0.5             7  0.986025   0.972245  0.986025  0.979086   \n",
       "1         0.5            69  0.986025   0.972245  0.986025  0.979086   \n",
       "2         0.5           101  0.986025   0.972245  0.986025  0.979086   \n",
       "3         0.4             7  0.988350   0.976835  0.988350  0.982558   \n",
       "4         0.4            69  0.984466   0.969173  0.984466  0.976760   \n",
       "5         0.4           101  0.986408   0.973000  0.986408  0.979658   \n",
       "6         0.3             7  0.989664   0.979435  0.989664  0.984523   \n",
       "7         0.3            69  0.987080   0.974327  0.987080  0.980662   \n",
       "8         0.3           101  0.987080   0.974327  0.987080  0.980662   \n",
       "9         0.2             7  0.992248   0.984556  0.992248  0.988387   \n",
       "10        0.2            69  0.984496   0.969233  0.984496  0.976805   \n",
       "11        0.2           101  0.984496   0.969233  0.984496  0.976805   \n",
       "\n",
       "                                 Best Param  \n",
       "0   {'C': 0.1, 'gamma': 1, 'kernel': 'rbf'}  \n",
       "1   {'C': 0.1, 'gamma': 1, 'kernel': 'rbf'}  \n",
       "2   {'C': 0.1, 'gamma': 1, 'kernel': 'rbf'}  \n",
       "3   {'C': 0.1, 'gamma': 1, 'kernel': 'rbf'}  \n",
       "4   {'C': 0.1, 'gamma': 1, 'kernel': 'rbf'}  \n",
       "5   {'C': 0.1, 'gamma': 1, 'kernel': 'rbf'}  \n",
       "6   {'C': 0.1, 'gamma': 1, 'kernel': 'rbf'}  \n",
       "7   {'C': 0.1, 'gamma': 1, 'kernel': 'rbf'}  \n",
       "8   {'C': 0.1, 'gamma': 1, 'kernel': 'rbf'}  \n",
       "9   {'C': 0.1, 'gamma': 1, 'kernel': 'rbf'}  \n",
       "10  {'C': 0.1, 'gamma': 1, 'kernel': 'rbf'}  \n",
       "11  {'C': 0.1, 'gamma': 1, 'kernel': 'rbf'}  "
      ]
     },
     "execution_count": 16,
     "metadata": {},
     "output_type": "execute_result"
    }
   ],
   "source": [
    "tempB_SOTME_imb = []\n",
    "\n",
    "y = merge_B_imb[['CGPA']]\n",
    "X = merge_B_imb[['Reason Study at Multimedia University', 'Lecture Class Capacity','Tutorial Class Capacity', \n",
    "                     'Classroom Facilities', 'Campus Environment']]\n",
    "\n",
    "print(\"X:\", X.shape,\"y:\", y.shape)\n",
    "\n",
    "for i in [0.5,0.4,0.3,0.2]:\n",
    "    for j in rand_states:\n",
    "        X_train, X_test, y_train, y_test = train_test_split(X, y, test_size=i, random_state=j)\n",
    "        param_grid = {'C': [0.1, 1, 10, 100],\n",
    "                      'gamma': [1, 0.1, 0.01, 0.001],\n",
    "                      'kernel': ['rbf','sigmoid']}\n",
    "\n",
    "        model = GridSearchCV(SVC(random_state=0), param_grid, refit=True, n_jobs=-1, cv=10, verbose=1)\n",
    "        model.fit(X_train, y_train)\n",
    "        pred = model.predict(X_test)\n",
    "        \n",
    "        acc = accuracy_score(y_test,pred)\n",
    "        pre = precision_score(y_test, pred, average='weighted')\n",
    "        recall = recall_score(y_test, pred, average='weighted')\n",
    "        f1 = f1_score(y_test, pred, average='weighted')\n",
    "        param = model.best_params_\n",
    "    \n",
    "        tempB_SOTME_imb.append([i,j,acc,pre,recall,f1,param])\n",
    "        \n",
    "dfB_SOTME_imb = pd.DataFrame(columns=['Test Size','Random State','Accuracy','Precision','Recall','F1 Score','Best Param'],data=tempB_SOTME_imb)\n",
    "dfB_SOTME_imb"
   ]
  },
  {
   "cell_type": "code",
   "execution_count": 17,
   "id": "f7cfe3b1-44a9-46c2-b6a0-c837fe268cd5",
   "metadata": {},
   "outputs": [
    {
     "data": {
      "text/html": [
       "<div>\n",
       "<style scoped>\n",
       "    .dataframe tbody tr th:only-of-type {\n",
       "        vertical-align: middle;\n",
       "    }\n",
       "\n",
       "    .dataframe tbody tr th {\n",
       "        vertical-align: top;\n",
       "    }\n",
       "\n",
       "    .dataframe thead th {\n",
       "        text-align: right;\n",
       "    }\n",
       "</style>\n",
       "<table border=\"1\" class=\"dataframe\">\n",
       "  <thead>\n",
       "    <tr style=\"text-align: right;\">\n",
       "      <th></th>\n",
       "      <th>Accuracy</th>\n",
       "      <th>Precision</th>\n",
       "      <th>Recall</th>\n",
       "      <th>F1 Score</th>\n",
       "    </tr>\n",
       "    <tr>\n",
       "      <th>Test Size</th>\n",
       "      <th></th>\n",
       "      <th></th>\n",
       "      <th></th>\n",
       "      <th></th>\n",
       "    </tr>\n",
       "  </thead>\n",
       "  <tbody>\n",
       "    <tr>\n",
       "      <th>0.2</th>\n",
       "      <td>0.987080</td>\n",
       "      <td>0.974340</td>\n",
       "      <td>0.987080</td>\n",
       "      <td>0.980666</td>\n",
       "    </tr>\n",
       "    <tr>\n",
       "      <th>0.3</th>\n",
       "      <td>0.987941</td>\n",
       "      <td>0.976030</td>\n",
       "      <td>0.987941</td>\n",
       "      <td>0.981949</td>\n",
       "    </tr>\n",
       "    <tr>\n",
       "      <th>0.4</th>\n",
       "      <td>0.986408</td>\n",
       "      <td>0.973003</td>\n",
       "      <td>0.986408</td>\n",
       "      <td>0.979659</td>\n",
       "    </tr>\n",
       "    <tr>\n",
       "      <th>0.5</th>\n",
       "      <td>0.986025</td>\n",
       "      <td>0.972245</td>\n",
       "      <td>0.986025</td>\n",
       "      <td>0.979086</td>\n",
       "    </tr>\n",
       "  </tbody>\n",
       "</table>\n",
       "</div>"
      ],
      "text/plain": [
       "           Accuracy  Precision    Recall  F1 Score\n",
       "Test Size                                         \n",
       "0.2        0.987080   0.974340  0.987080  0.980666\n",
       "0.3        0.987941   0.976030  0.987941  0.981949\n",
       "0.4        0.986408   0.973003  0.986408  0.979659\n",
       "0.5        0.986025   0.972245  0.986025  0.979086"
      ]
     },
     "execution_count": 17,
     "metadata": {},
     "output_type": "execute_result"
    }
   ],
   "source": [
    "dfB_SOTME_imb.groupby('Test Size')[['Accuracy','Precision','Recall','F1 Score']].mean()"
   ]
  },
  {
   "cell_type": "markdown",
   "id": "96a266a3-6dce-436d-b71f-fe1755ece088",
   "metadata": {},
   "source": [
    "### SOTME after RandomOverSampler"
   ]
  },
  {
   "cell_type": "code",
   "execution_count": 18,
   "id": "2dfae53b-112b-44a1-ab38-e63fd6e67560",
   "metadata": {},
   "outputs": [
    {
     "name": "stdout",
     "output_type": "stream",
     "text": [
      "Fitting 10 folds for each of 32 candidates, totalling 320 fits\n"
     ]
    },
    {
     "name": "stderr",
     "output_type": "stream",
     "text": [
      "C:\\Users\\hazel\\anaconda3\\Lib\\site-packages\\sklearn\\utils\\validation.py:1143: DataConversionWarning: A column-vector y was passed when a 1d array was expected. Please change the shape of y to (n_samples, ), for example using ravel().\n",
      "  y = column_or_1d(y, warn=True)\n"
     ]
    },
    {
     "name": "stdout",
     "output_type": "stream",
     "text": [
      "Fitting 10 folds for each of 32 candidates, totalling 320 fits\n"
     ]
    },
    {
     "name": "stderr",
     "output_type": "stream",
     "text": [
      "C:\\Users\\hazel\\anaconda3\\Lib\\site-packages\\sklearn\\utils\\validation.py:1143: DataConversionWarning: A column-vector y was passed when a 1d array was expected. Please change the shape of y to (n_samples, ), for example using ravel().\n",
      "  y = column_or_1d(y, warn=True)\n"
     ]
    },
    {
     "name": "stdout",
     "output_type": "stream",
     "text": [
      "Fitting 10 folds for each of 32 candidates, totalling 320 fits\n"
     ]
    },
    {
     "name": "stderr",
     "output_type": "stream",
     "text": [
      "C:\\Users\\hazel\\anaconda3\\Lib\\site-packages\\sklearn\\utils\\validation.py:1143: DataConversionWarning: A column-vector y was passed when a 1d array was expected. Please change the shape of y to (n_samples, ), for example using ravel().\n",
      "  y = column_or_1d(y, warn=True)\n"
     ]
    },
    {
     "name": "stdout",
     "output_type": "stream",
     "text": [
      "Fitting 10 folds for each of 32 candidates, totalling 320 fits\n"
     ]
    },
    {
     "name": "stderr",
     "output_type": "stream",
     "text": [
      "C:\\Users\\hazel\\anaconda3\\Lib\\site-packages\\sklearn\\utils\\validation.py:1143: DataConversionWarning: A column-vector y was passed when a 1d array was expected. Please change the shape of y to (n_samples, ), for example using ravel().\n",
      "  y = column_or_1d(y, warn=True)\n"
     ]
    },
    {
     "name": "stdout",
     "output_type": "stream",
     "text": [
      "Fitting 10 folds for each of 32 candidates, totalling 320 fits\n"
     ]
    },
    {
     "name": "stderr",
     "output_type": "stream",
     "text": [
      "C:\\Users\\hazel\\anaconda3\\Lib\\site-packages\\sklearn\\utils\\validation.py:1143: DataConversionWarning: A column-vector y was passed when a 1d array was expected. Please change the shape of y to (n_samples, ), for example using ravel().\n",
      "  y = column_or_1d(y, warn=True)\n"
     ]
    },
    {
     "name": "stdout",
     "output_type": "stream",
     "text": [
      "Fitting 10 folds for each of 32 candidates, totalling 320 fits\n"
     ]
    },
    {
     "name": "stderr",
     "output_type": "stream",
     "text": [
      "C:\\Users\\hazel\\anaconda3\\Lib\\site-packages\\sklearn\\utils\\validation.py:1143: DataConversionWarning: A column-vector y was passed when a 1d array was expected. Please change the shape of y to (n_samples, ), for example using ravel().\n",
      "  y = column_or_1d(y, warn=True)\n"
     ]
    },
    {
     "name": "stdout",
     "output_type": "stream",
     "text": [
      "Fitting 10 folds for each of 32 candidates, totalling 320 fits\n"
     ]
    },
    {
     "name": "stderr",
     "output_type": "stream",
     "text": [
      "C:\\Users\\hazel\\anaconda3\\Lib\\site-packages\\sklearn\\utils\\validation.py:1143: DataConversionWarning: A column-vector y was passed when a 1d array was expected. Please change the shape of y to (n_samples, ), for example using ravel().\n",
      "  y = column_or_1d(y, warn=True)\n"
     ]
    },
    {
     "name": "stdout",
     "output_type": "stream",
     "text": [
      "Fitting 10 folds for each of 32 candidates, totalling 320 fits\n"
     ]
    },
    {
     "name": "stderr",
     "output_type": "stream",
     "text": [
      "C:\\Users\\hazel\\anaconda3\\Lib\\site-packages\\sklearn\\utils\\validation.py:1143: DataConversionWarning: A column-vector y was passed when a 1d array was expected. Please change the shape of y to (n_samples, ), for example using ravel().\n",
      "  y = column_or_1d(y, warn=True)\n"
     ]
    },
    {
     "name": "stdout",
     "output_type": "stream",
     "text": [
      "Fitting 10 folds for each of 32 candidates, totalling 320 fits\n"
     ]
    },
    {
     "name": "stderr",
     "output_type": "stream",
     "text": [
      "C:\\Users\\hazel\\anaconda3\\Lib\\site-packages\\sklearn\\utils\\validation.py:1143: DataConversionWarning: A column-vector y was passed when a 1d array was expected. Please change the shape of y to (n_samples, ), for example using ravel().\n",
      "  y = column_or_1d(y, warn=True)\n"
     ]
    },
    {
     "name": "stdout",
     "output_type": "stream",
     "text": [
      "Fitting 10 folds for each of 32 candidates, totalling 320 fits\n"
     ]
    },
    {
     "name": "stderr",
     "output_type": "stream",
     "text": [
      "C:\\Users\\hazel\\anaconda3\\Lib\\site-packages\\sklearn\\utils\\validation.py:1143: DataConversionWarning: A column-vector y was passed when a 1d array was expected. Please change the shape of y to (n_samples, ), for example using ravel().\n",
      "  y = column_or_1d(y, warn=True)\n"
     ]
    },
    {
     "name": "stdout",
     "output_type": "stream",
     "text": [
      "Fitting 10 folds for each of 32 candidates, totalling 320 fits\n"
     ]
    },
    {
     "name": "stderr",
     "output_type": "stream",
     "text": [
      "C:\\Users\\hazel\\anaconda3\\Lib\\site-packages\\sklearn\\utils\\validation.py:1143: DataConversionWarning: A column-vector y was passed when a 1d array was expected. Please change the shape of y to (n_samples, ), for example using ravel().\n",
      "  y = column_or_1d(y, warn=True)\n"
     ]
    },
    {
     "name": "stdout",
     "output_type": "stream",
     "text": [
      "Fitting 10 folds for each of 32 candidates, totalling 320 fits\n"
     ]
    },
    {
     "name": "stderr",
     "output_type": "stream",
     "text": [
      "C:\\Users\\hazel\\anaconda3\\Lib\\site-packages\\sklearn\\utils\\validation.py:1143: DataConversionWarning: A column-vector y was passed when a 1d array was expected. Please change the shape of y to (n_samples, ), for example using ravel().\n",
      "  y = column_or_1d(y, warn=True)\n"
     ]
    },
    {
     "data": {
      "text/html": [
       "<div>\n",
       "<style scoped>\n",
       "    .dataframe tbody tr th:only-of-type {\n",
       "        vertical-align: middle;\n",
       "    }\n",
       "\n",
       "    .dataframe tbody tr th {\n",
       "        vertical-align: top;\n",
       "    }\n",
       "\n",
       "    .dataframe thead th {\n",
       "        text-align: right;\n",
       "    }\n",
       "</style>\n",
       "<table border=\"1\" class=\"dataframe\">\n",
       "  <thead>\n",
       "    <tr style=\"text-align: right;\">\n",
       "      <th></th>\n",
       "      <th>Test Size</th>\n",
       "      <th>Random State</th>\n",
       "      <th>Accuracy</th>\n",
       "      <th>Precision</th>\n",
       "      <th>Recall</th>\n",
       "      <th>F1 Score</th>\n",
       "      <th>Best Param</th>\n",
       "    </tr>\n",
       "  </thead>\n",
       "  <tbody>\n",
       "    <tr>\n",
       "      <th>0</th>\n",
       "      <td>0.5</td>\n",
       "      <td>7</td>\n",
       "      <td>0.929921</td>\n",
       "      <td>0.938384</td>\n",
       "      <td>0.929921</td>\n",
       "      <td>0.929473</td>\n",
       "      <td>{'C': 1, 'gamma': 1, 'kernel': 'rbf'}</td>\n",
       "    </tr>\n",
       "    <tr>\n",
       "      <th>1</th>\n",
       "      <td>0.5</td>\n",
       "      <td>69</td>\n",
       "      <td>0.918898</td>\n",
       "      <td>0.930436</td>\n",
       "      <td>0.918898</td>\n",
       "      <td>0.918508</td>\n",
       "      <td>{'C': 1, 'gamma': 1, 'kernel': 'rbf'}</td>\n",
       "    </tr>\n",
       "    <tr>\n",
       "      <th>2</th>\n",
       "      <td>0.5</td>\n",
       "      <td>101</td>\n",
       "      <td>0.930709</td>\n",
       "      <td>0.939333</td>\n",
       "      <td>0.930709</td>\n",
       "      <td>0.930497</td>\n",
       "      <td>{'C': 1, 'gamma': 1, 'kernel': 'rbf'}</td>\n",
       "    </tr>\n",
       "    <tr>\n",
       "      <th>3</th>\n",
       "      <td>0.4</td>\n",
       "      <td>7</td>\n",
       "      <td>0.933071</td>\n",
       "      <td>0.940811</td>\n",
       "      <td>0.933071</td>\n",
       "      <td>0.932662</td>\n",
       "      <td>{'C': 1, 'gamma': 1, 'kernel': 'rbf'}</td>\n",
       "    </tr>\n",
       "    <tr>\n",
       "      <th>4</th>\n",
       "      <td>0.4</td>\n",
       "      <td>69</td>\n",
       "      <td>0.911417</td>\n",
       "      <td>0.924953</td>\n",
       "      <td>0.911417</td>\n",
       "      <td>0.910858</td>\n",
       "      <td>{'C': 1, 'gamma': 1, 'kernel': 'rbf'}</td>\n",
       "    </tr>\n",
       "    <tr>\n",
       "      <th>5</th>\n",
       "      <td>0.4</td>\n",
       "      <td>101</td>\n",
       "      <td>0.928150</td>\n",
       "      <td>0.937384</td>\n",
       "      <td>0.928150</td>\n",
       "      <td>0.927910</td>\n",
       "      <td>{'C': 1, 'gamma': 1, 'kernel': 'rbf'}</td>\n",
       "    </tr>\n",
       "    <tr>\n",
       "      <th>6</th>\n",
       "      <td>0.3</td>\n",
       "      <td>7</td>\n",
       "      <td>0.935696</td>\n",
       "      <td>0.942824</td>\n",
       "      <td>0.935696</td>\n",
       "      <td>0.935296</td>\n",
       "      <td>{'C': 1, 'gamma': 1, 'kernel': 'rbf'}</td>\n",
       "    </tr>\n",
       "    <tr>\n",
       "      <th>7</th>\n",
       "      <td>0.3</td>\n",
       "      <td>69</td>\n",
       "      <td>0.906824</td>\n",
       "      <td>0.921859</td>\n",
       "      <td>0.906824</td>\n",
       "      <td>0.906287</td>\n",
       "      <td>{'C': 1, 'gamma': 1, 'kernel': 'rbf'}</td>\n",
       "    </tr>\n",
       "    <tr>\n",
       "      <th>8</th>\n",
       "      <td>0.3</td>\n",
       "      <td>101</td>\n",
       "      <td>0.931759</td>\n",
       "      <td>0.940148</td>\n",
       "      <td>0.931759</td>\n",
       "      <td>0.931563</td>\n",
       "      <td>{'C': 1, 'gamma': 1, 'kernel': 'rbf'}</td>\n",
       "    </tr>\n",
       "    <tr>\n",
       "      <th>9</th>\n",
       "      <td>0.2</td>\n",
       "      <td>7</td>\n",
       "      <td>0.940945</td>\n",
       "      <td>0.946773</td>\n",
       "      <td>0.940945</td>\n",
       "      <td>0.940455</td>\n",
       "      <td>{'C': 1, 'gamma': 1, 'kernel': 'rbf'}</td>\n",
       "    </tr>\n",
       "    <tr>\n",
       "      <th>10</th>\n",
       "      <td>0.2</td>\n",
       "      <td>69</td>\n",
       "      <td>0.903543</td>\n",
       "      <td>0.919511</td>\n",
       "      <td>0.903543</td>\n",
       "      <td>0.902899</td>\n",
       "      <td>{'C': 1, 'gamma': 1, 'kernel': 'rbf'}</td>\n",
       "    </tr>\n",
       "    <tr>\n",
       "      <th>11</th>\n",
       "      <td>0.2</td>\n",
       "      <td>101</td>\n",
       "      <td>0.931102</td>\n",
       "      <td>0.939808</td>\n",
       "      <td>0.931102</td>\n",
       "      <td>0.931000</td>\n",
       "      <td>{'C': 1, 'gamma': 1, 'kernel': 'rbf'}</td>\n",
       "    </tr>\n",
       "  </tbody>\n",
       "</table>\n",
       "</div>"
      ],
      "text/plain": [
       "    Test Size  Random State  Accuracy  Precision    Recall  F1 Score  \\\n",
       "0         0.5             7  0.929921   0.938384  0.929921  0.929473   \n",
       "1         0.5            69  0.918898   0.930436  0.918898  0.918508   \n",
       "2         0.5           101  0.930709   0.939333  0.930709  0.930497   \n",
       "3         0.4             7  0.933071   0.940811  0.933071  0.932662   \n",
       "4         0.4            69  0.911417   0.924953  0.911417  0.910858   \n",
       "5         0.4           101  0.928150   0.937384  0.928150  0.927910   \n",
       "6         0.3             7  0.935696   0.942824  0.935696  0.935296   \n",
       "7         0.3            69  0.906824   0.921859  0.906824  0.906287   \n",
       "8         0.3           101  0.931759   0.940148  0.931759  0.931563   \n",
       "9         0.2             7  0.940945   0.946773  0.940945  0.940455   \n",
       "10        0.2            69  0.903543   0.919511  0.903543  0.902899   \n",
       "11        0.2           101  0.931102   0.939808  0.931102  0.931000   \n",
       "\n",
       "                               Best Param  \n",
       "0   {'C': 1, 'gamma': 1, 'kernel': 'rbf'}  \n",
       "1   {'C': 1, 'gamma': 1, 'kernel': 'rbf'}  \n",
       "2   {'C': 1, 'gamma': 1, 'kernel': 'rbf'}  \n",
       "3   {'C': 1, 'gamma': 1, 'kernel': 'rbf'}  \n",
       "4   {'C': 1, 'gamma': 1, 'kernel': 'rbf'}  \n",
       "5   {'C': 1, 'gamma': 1, 'kernel': 'rbf'}  \n",
       "6   {'C': 1, 'gamma': 1, 'kernel': 'rbf'}  \n",
       "7   {'C': 1, 'gamma': 1, 'kernel': 'rbf'}  \n",
       "8   {'C': 1, 'gamma': 1, 'kernel': 'rbf'}  \n",
       "9   {'C': 1, 'gamma': 1, 'kernel': 'rbf'}  \n",
       "10  {'C': 1, 'gamma': 1, 'kernel': 'rbf'}  \n",
       "11  {'C': 1, 'gamma': 1, 'kernel': 'rbf'}  "
      ]
     },
     "execution_count": 18,
     "metadata": {},
     "output_type": "execute_result"
    }
   ],
   "source": [
    "tempB_SOTME_ROS = []\n",
    "\n",
    "y = merge_B_ROS[['CGPA']]\n",
    "X = merge_B_ROS[['Reason Study at Multimedia University', 'Lecture Class Capacity','Tutorial Class Capacity', \n",
    "                     'Classroom Facilities', 'Campus Environment']]\n",
    "\n",
    "for i in [0.5,0.4,0.3,0.2]:\n",
    "    for j in rand_states:\n",
    "        X_train, X_test, y_train, y_test = train_test_split(X, y, test_size=i, random_state=j)\n",
    "        param_grid = {'C': [0.1, 1, 10, 100],\n",
    "                      'gamma': [1, 0.1, 0.01, 0.001],\n",
    "                      'kernel': ['rbf','sigmoid']}\n",
    "\n",
    "        model = GridSearchCV(SVC(random_state=0), param_grid, refit=True, n_jobs=-1, cv=10, verbose=1)\n",
    "        model.fit(X_train, y_train)\n",
    "        pred = model.predict(X_test)\n",
    "        \n",
    "        acc = accuracy_score(y_test,pred)\n",
    "        pre = precision_score(y_test, pred, average='weighted')\n",
    "        recall = recall_score(y_test, pred, average='weighted')\n",
    "        f1 = f1_score(y_test, pred, average='weighted')\n",
    "        param = model.best_params_\n",
    "    \n",
    "        tempB_SOTME_ROS.append([i,j,acc,pre,recall,f1,param])\n",
    "        \n",
    "dfB_SOTME_ROS = pd.DataFrame(columns=['Test Size','Random State','Accuracy','Precision','Recall','F1 Score','Best Param'],data=tempB_SOTME_ROS)\n",
    "dfB_SOTME_ROS"
   ]
  },
  {
   "cell_type": "code",
   "execution_count": 19,
   "id": "ca41dab8-3fce-49f1-8c0b-dc173fb170ad",
   "metadata": {},
   "outputs": [
    {
     "data": {
      "text/html": [
       "<div>\n",
       "<style scoped>\n",
       "    .dataframe tbody tr th:only-of-type {\n",
       "        vertical-align: middle;\n",
       "    }\n",
       "\n",
       "    .dataframe tbody tr th {\n",
       "        vertical-align: top;\n",
       "    }\n",
       "\n",
       "    .dataframe thead th {\n",
       "        text-align: right;\n",
       "    }\n",
       "</style>\n",
       "<table border=\"1\" class=\"dataframe\">\n",
       "  <thead>\n",
       "    <tr style=\"text-align: right;\">\n",
       "      <th></th>\n",
       "      <th>Accuracy</th>\n",
       "      <th>Precision</th>\n",
       "      <th>Recall</th>\n",
       "      <th>F1 Score</th>\n",
       "    </tr>\n",
       "    <tr>\n",
       "      <th>Test Size</th>\n",
       "      <th></th>\n",
       "      <th></th>\n",
       "      <th></th>\n",
       "      <th></th>\n",
       "    </tr>\n",
       "  </thead>\n",
       "  <tbody>\n",
       "    <tr>\n",
       "      <th>0.2</th>\n",
       "      <td>0.925197</td>\n",
       "      <td>0.935364</td>\n",
       "      <td>0.925197</td>\n",
       "      <td>0.924785</td>\n",
       "    </tr>\n",
       "    <tr>\n",
       "      <th>0.3</th>\n",
       "      <td>0.924759</td>\n",
       "      <td>0.934944</td>\n",
       "      <td>0.924759</td>\n",
       "      <td>0.924382</td>\n",
       "    </tr>\n",
       "    <tr>\n",
       "      <th>0.4</th>\n",
       "      <td>0.924213</td>\n",
       "      <td>0.934383</td>\n",
       "      <td>0.924213</td>\n",
       "      <td>0.923810</td>\n",
       "    </tr>\n",
       "    <tr>\n",
       "      <th>0.5</th>\n",
       "      <td>0.926509</td>\n",
       "      <td>0.936051</td>\n",
       "      <td>0.926509</td>\n",
       "      <td>0.926159</td>\n",
       "    </tr>\n",
       "  </tbody>\n",
       "</table>\n",
       "</div>"
      ],
      "text/plain": [
       "           Accuracy  Precision    Recall  F1 Score\n",
       "Test Size                                         \n",
       "0.2        0.925197   0.935364  0.925197  0.924785\n",
       "0.3        0.924759   0.934944  0.924759  0.924382\n",
       "0.4        0.924213   0.934383  0.924213  0.923810\n",
       "0.5        0.926509   0.936051  0.926509  0.926159"
      ]
     },
     "execution_count": 19,
     "metadata": {},
     "output_type": "execute_result"
    }
   ],
   "source": [
    "dfB_SOTME_ROS.groupby('Test Size')[['Accuracy','Precision','Recall','F1 Score']].mean()"
   ]
  },
  {
   "cell_type": "markdown",
   "id": "66366090-9544-4dcb-8305-e408ec83a6b6",
   "metadata": {},
   "source": [
    "### SOTME after SMOTE"
   ]
  },
  {
   "cell_type": "code",
   "execution_count": 20,
   "id": "1ac4d65f-dbce-4482-97f5-c7f445549ef6",
   "metadata": {},
   "outputs": [
    {
     "name": "stdout",
     "output_type": "stream",
     "text": [
      "Fitting 10 folds for each of 32 candidates, totalling 320 fits\n"
     ]
    },
    {
     "name": "stderr",
     "output_type": "stream",
     "text": [
      "C:\\Users\\hazel\\anaconda3\\Lib\\site-packages\\sklearn\\utils\\validation.py:1143: DataConversionWarning: A column-vector y was passed when a 1d array was expected. Please change the shape of y to (n_samples, ), for example using ravel().\n",
      "  y = column_or_1d(y, warn=True)\n"
     ]
    },
    {
     "name": "stdout",
     "output_type": "stream",
     "text": [
      "Fitting 10 folds for each of 32 candidates, totalling 320 fits\n"
     ]
    },
    {
     "name": "stderr",
     "output_type": "stream",
     "text": [
      "C:\\Users\\hazel\\anaconda3\\Lib\\site-packages\\sklearn\\utils\\validation.py:1143: DataConversionWarning: A column-vector y was passed when a 1d array was expected. Please change the shape of y to (n_samples, ), for example using ravel().\n",
      "  y = column_or_1d(y, warn=True)\n"
     ]
    },
    {
     "name": "stdout",
     "output_type": "stream",
     "text": [
      "Fitting 10 folds for each of 32 candidates, totalling 320 fits\n"
     ]
    },
    {
     "name": "stderr",
     "output_type": "stream",
     "text": [
      "C:\\Users\\hazel\\anaconda3\\Lib\\site-packages\\sklearn\\utils\\validation.py:1143: DataConversionWarning: A column-vector y was passed when a 1d array was expected. Please change the shape of y to (n_samples, ), for example using ravel().\n",
      "  y = column_or_1d(y, warn=True)\n"
     ]
    },
    {
     "name": "stdout",
     "output_type": "stream",
     "text": [
      "Fitting 10 folds for each of 32 candidates, totalling 320 fits\n"
     ]
    },
    {
     "name": "stderr",
     "output_type": "stream",
     "text": [
      "C:\\Users\\hazel\\anaconda3\\Lib\\site-packages\\sklearn\\utils\\validation.py:1143: DataConversionWarning: A column-vector y was passed when a 1d array was expected. Please change the shape of y to (n_samples, ), for example using ravel().\n",
      "  y = column_or_1d(y, warn=True)\n"
     ]
    },
    {
     "name": "stdout",
     "output_type": "stream",
     "text": [
      "Fitting 10 folds for each of 32 candidates, totalling 320 fits\n"
     ]
    },
    {
     "name": "stderr",
     "output_type": "stream",
     "text": [
      "C:\\Users\\hazel\\anaconda3\\Lib\\site-packages\\sklearn\\utils\\validation.py:1143: DataConversionWarning: A column-vector y was passed when a 1d array was expected. Please change the shape of y to (n_samples, ), for example using ravel().\n",
      "  y = column_or_1d(y, warn=True)\n"
     ]
    },
    {
     "name": "stdout",
     "output_type": "stream",
     "text": [
      "Fitting 10 folds for each of 32 candidates, totalling 320 fits\n"
     ]
    },
    {
     "name": "stderr",
     "output_type": "stream",
     "text": [
      "C:\\Users\\hazel\\anaconda3\\Lib\\site-packages\\sklearn\\utils\\validation.py:1143: DataConversionWarning: A column-vector y was passed when a 1d array was expected. Please change the shape of y to (n_samples, ), for example using ravel().\n",
      "  y = column_or_1d(y, warn=True)\n"
     ]
    },
    {
     "name": "stdout",
     "output_type": "stream",
     "text": [
      "Fitting 10 folds for each of 32 candidates, totalling 320 fits\n"
     ]
    },
    {
     "name": "stderr",
     "output_type": "stream",
     "text": [
      "C:\\Users\\hazel\\anaconda3\\Lib\\site-packages\\sklearn\\utils\\validation.py:1143: DataConversionWarning: A column-vector y was passed when a 1d array was expected. Please change the shape of y to (n_samples, ), for example using ravel().\n",
      "  y = column_or_1d(y, warn=True)\n"
     ]
    },
    {
     "name": "stdout",
     "output_type": "stream",
     "text": [
      "Fitting 10 folds for each of 32 candidates, totalling 320 fits\n"
     ]
    },
    {
     "name": "stderr",
     "output_type": "stream",
     "text": [
      "C:\\Users\\hazel\\anaconda3\\Lib\\site-packages\\sklearn\\utils\\validation.py:1143: DataConversionWarning: A column-vector y was passed when a 1d array was expected. Please change the shape of y to (n_samples, ), for example using ravel().\n",
      "  y = column_or_1d(y, warn=True)\n"
     ]
    },
    {
     "name": "stdout",
     "output_type": "stream",
     "text": [
      "Fitting 10 folds for each of 32 candidates, totalling 320 fits\n"
     ]
    },
    {
     "name": "stderr",
     "output_type": "stream",
     "text": [
      "C:\\Users\\hazel\\anaconda3\\Lib\\site-packages\\sklearn\\utils\\validation.py:1143: DataConversionWarning: A column-vector y was passed when a 1d array was expected. Please change the shape of y to (n_samples, ), for example using ravel().\n",
      "  y = column_or_1d(y, warn=True)\n"
     ]
    },
    {
     "name": "stdout",
     "output_type": "stream",
     "text": [
      "Fitting 10 folds for each of 32 candidates, totalling 320 fits\n"
     ]
    },
    {
     "name": "stderr",
     "output_type": "stream",
     "text": [
      "C:\\Users\\hazel\\anaconda3\\Lib\\site-packages\\sklearn\\utils\\validation.py:1143: DataConversionWarning: A column-vector y was passed when a 1d array was expected. Please change the shape of y to (n_samples, ), for example using ravel().\n",
      "  y = column_or_1d(y, warn=True)\n"
     ]
    },
    {
     "name": "stdout",
     "output_type": "stream",
     "text": [
      "Fitting 10 folds for each of 32 candidates, totalling 320 fits\n"
     ]
    },
    {
     "name": "stderr",
     "output_type": "stream",
     "text": [
      "C:\\Users\\hazel\\anaconda3\\Lib\\site-packages\\sklearn\\utils\\validation.py:1143: DataConversionWarning: A column-vector y was passed when a 1d array was expected. Please change the shape of y to (n_samples, ), for example using ravel().\n",
      "  y = column_or_1d(y, warn=True)\n"
     ]
    },
    {
     "name": "stdout",
     "output_type": "stream",
     "text": [
      "Fitting 10 folds for each of 32 candidates, totalling 320 fits\n"
     ]
    },
    {
     "name": "stderr",
     "output_type": "stream",
     "text": [
      "C:\\Users\\hazel\\anaconda3\\Lib\\site-packages\\sklearn\\utils\\validation.py:1143: DataConversionWarning: A column-vector y was passed when a 1d array was expected. Please change the shape of y to (n_samples, ), for example using ravel().\n",
      "  y = column_or_1d(y, warn=True)\n"
     ]
    },
    {
     "data": {
      "text/html": [
       "<div>\n",
       "<style scoped>\n",
       "    .dataframe tbody tr th:only-of-type {\n",
       "        vertical-align: middle;\n",
       "    }\n",
       "\n",
       "    .dataframe tbody tr th {\n",
       "        vertical-align: top;\n",
       "    }\n",
       "\n",
       "    .dataframe thead th {\n",
       "        text-align: right;\n",
       "    }\n",
       "</style>\n",
       "<table border=\"1\" class=\"dataframe\">\n",
       "  <thead>\n",
       "    <tr style=\"text-align: right;\">\n",
       "      <th></th>\n",
       "      <th>Test Size</th>\n",
       "      <th>Random State</th>\n",
       "      <th>Accuracy</th>\n",
       "      <th>Precision</th>\n",
       "      <th>Recall</th>\n",
       "      <th>F1 Score</th>\n",
       "      <th>Best Param</th>\n",
       "    </tr>\n",
       "  </thead>\n",
       "  <tbody>\n",
       "    <tr>\n",
       "      <th>0</th>\n",
       "      <td>0.5</td>\n",
       "      <td>7</td>\n",
       "      <td>0.870866</td>\n",
       "      <td>0.870892</td>\n",
       "      <td>0.870866</td>\n",
       "      <td>0.870844</td>\n",
       "      <td>{'C': 10, 'gamma': 1, 'kernel': 'rbf'}</td>\n",
       "    </tr>\n",
       "    <tr>\n",
       "      <th>1</th>\n",
       "      <td>0.5</td>\n",
       "      <td>69</td>\n",
       "      <td>0.889764</td>\n",
       "      <td>0.894807</td>\n",
       "      <td>0.889764</td>\n",
       "      <td>0.889563</td>\n",
       "      <td>{'C': 1, 'gamma': 1, 'kernel': 'rbf'}</td>\n",
       "    </tr>\n",
       "    <tr>\n",
       "      <th>2</th>\n",
       "      <td>0.5</td>\n",
       "      <td>101</td>\n",
       "      <td>0.891339</td>\n",
       "      <td>0.900457</td>\n",
       "      <td>0.891339</td>\n",
       "      <td>0.890945</td>\n",
       "      <td>{'C': 1, 'gamma': 1, 'kernel': 'rbf'}</td>\n",
       "    </tr>\n",
       "    <tr>\n",
       "      <th>3</th>\n",
       "      <td>0.4</td>\n",
       "      <td>7</td>\n",
       "      <td>0.886811</td>\n",
       "      <td>0.887767</td>\n",
       "      <td>0.886811</td>\n",
       "      <td>0.886660</td>\n",
       "      <td>{'C': 1, 'gamma': 1, 'kernel': 'rbf'}</td>\n",
       "    </tr>\n",
       "    <tr>\n",
       "      <th>4</th>\n",
       "      <td>0.4</td>\n",
       "      <td>69</td>\n",
       "      <td>0.884843</td>\n",
       "      <td>0.890698</td>\n",
       "      <td>0.884843</td>\n",
       "      <td>0.884549</td>\n",
       "      <td>{'C': 100, 'gamma': 0.1, 'kernel': 'rbf'}</td>\n",
       "    </tr>\n",
       "    <tr>\n",
       "      <th>5</th>\n",
       "      <td>0.4</td>\n",
       "      <td>101</td>\n",
       "      <td>0.869094</td>\n",
       "      <td>0.872033</td>\n",
       "      <td>0.869094</td>\n",
       "      <td>0.869002</td>\n",
       "      <td>{'C': 1, 'gamma': 1, 'kernel': 'rbf'}</td>\n",
       "    </tr>\n",
       "    <tr>\n",
       "      <th>6</th>\n",
       "      <td>0.3</td>\n",
       "      <td>7</td>\n",
       "      <td>0.892388</td>\n",
       "      <td>0.894001</td>\n",
       "      <td>0.892388</td>\n",
       "      <td>0.892146</td>\n",
       "      <td>{'C': 10, 'gamma': 1, 'kernel': 'rbf'}</td>\n",
       "    </tr>\n",
       "    <tr>\n",
       "      <th>7</th>\n",
       "      <td>0.3</td>\n",
       "      <td>69</td>\n",
       "      <td>0.887139</td>\n",
       "      <td>0.892267</td>\n",
       "      <td>0.887139</td>\n",
       "      <td>0.886992</td>\n",
       "      <td>{'C': 1, 'gamma': 1, 'kernel': 'rbf'}</td>\n",
       "    </tr>\n",
       "    <tr>\n",
       "      <th>8</th>\n",
       "      <td>0.3</td>\n",
       "      <td>101</td>\n",
       "      <td>0.884514</td>\n",
       "      <td>0.894038</td>\n",
       "      <td>0.884514</td>\n",
       "      <td>0.884075</td>\n",
       "      <td>{'C': 1, 'gamma': 1, 'kernel': 'rbf'}</td>\n",
       "    </tr>\n",
       "    <tr>\n",
       "      <th>9</th>\n",
       "      <td>0.2</td>\n",
       "      <td>7</td>\n",
       "      <td>0.909449</td>\n",
       "      <td>0.910035</td>\n",
       "      <td>0.909449</td>\n",
       "      <td>0.909228</td>\n",
       "      <td>{'C': 10, 'gamma': 1, 'kernel': 'rbf'}</td>\n",
       "    </tr>\n",
       "    <tr>\n",
       "      <th>10</th>\n",
       "      <td>0.2</td>\n",
       "      <td>69</td>\n",
       "      <td>0.897638</td>\n",
       "      <td>0.901472</td>\n",
       "      <td>0.897638</td>\n",
       "      <td>0.897543</td>\n",
       "      <td>{'C': 1, 'gamma': 1, 'kernel': 'rbf'}</td>\n",
       "    </tr>\n",
       "    <tr>\n",
       "      <th>11</th>\n",
       "      <td>0.2</td>\n",
       "      <td>101</td>\n",
       "      <td>0.879921</td>\n",
       "      <td>0.889861</td>\n",
       "      <td>0.879921</td>\n",
       "      <td>0.879649</td>\n",
       "      <td>{'C': 1, 'gamma': 1, 'kernel': 'rbf'}</td>\n",
       "    </tr>\n",
       "  </tbody>\n",
       "</table>\n",
       "</div>"
      ],
      "text/plain": [
       "    Test Size  Random State  Accuracy  Precision    Recall  F1 Score  \\\n",
       "0         0.5             7  0.870866   0.870892  0.870866  0.870844   \n",
       "1         0.5            69  0.889764   0.894807  0.889764  0.889563   \n",
       "2         0.5           101  0.891339   0.900457  0.891339  0.890945   \n",
       "3         0.4             7  0.886811   0.887767  0.886811  0.886660   \n",
       "4         0.4            69  0.884843   0.890698  0.884843  0.884549   \n",
       "5         0.4           101  0.869094   0.872033  0.869094  0.869002   \n",
       "6         0.3             7  0.892388   0.894001  0.892388  0.892146   \n",
       "7         0.3            69  0.887139   0.892267  0.887139  0.886992   \n",
       "8         0.3           101  0.884514   0.894038  0.884514  0.884075   \n",
       "9         0.2             7  0.909449   0.910035  0.909449  0.909228   \n",
       "10        0.2            69  0.897638   0.901472  0.897638  0.897543   \n",
       "11        0.2           101  0.879921   0.889861  0.879921  0.879649   \n",
       "\n",
       "                                   Best Param  \n",
       "0      {'C': 10, 'gamma': 1, 'kernel': 'rbf'}  \n",
       "1       {'C': 1, 'gamma': 1, 'kernel': 'rbf'}  \n",
       "2       {'C': 1, 'gamma': 1, 'kernel': 'rbf'}  \n",
       "3       {'C': 1, 'gamma': 1, 'kernel': 'rbf'}  \n",
       "4   {'C': 100, 'gamma': 0.1, 'kernel': 'rbf'}  \n",
       "5       {'C': 1, 'gamma': 1, 'kernel': 'rbf'}  \n",
       "6      {'C': 10, 'gamma': 1, 'kernel': 'rbf'}  \n",
       "7       {'C': 1, 'gamma': 1, 'kernel': 'rbf'}  \n",
       "8       {'C': 1, 'gamma': 1, 'kernel': 'rbf'}  \n",
       "9      {'C': 10, 'gamma': 1, 'kernel': 'rbf'}  \n",
       "10      {'C': 1, 'gamma': 1, 'kernel': 'rbf'}  \n",
       "11      {'C': 1, 'gamma': 1, 'kernel': 'rbf'}  "
      ]
     },
     "execution_count": 20,
     "metadata": {},
     "output_type": "execute_result"
    }
   ],
   "source": [
    "tempB_SOTME_SMOTE = []\n",
    "\n",
    "y = merge_B_SMOTE[['CGPA']]\n",
    "X = merge_B_SMOTE[['Reason Study at Multimedia University', 'Lecture Class Capacity','Tutorial Class Capacity', \n",
    "                     'Classroom Facilities', 'Campus Environment']]\n",
    "\n",
    "for i in [0.5,0.4,0.3,0.2]:\n",
    "    for j in rand_states:\n",
    "        X_train, X_test, y_train, y_test = train_test_split(X, y, test_size=i, random_state=j)\n",
    "        param_grid = {'C': [0.1, 1, 10, 100],\n",
    "                      'gamma': [1, 0.1, 0.01, 0.001],\n",
    "                      'kernel': ['rbf','sigmoid']}\n",
    "\n",
    "        model = GridSearchCV(SVC(random_state=0), param_grid, refit=True, n_jobs=-1, cv=10, verbose=1)\n",
    "        model.fit(X_train, y_train)\n",
    "        pred = model.predict(X_test)\n",
    "        \n",
    "        acc = accuracy_score(y_test,pred)\n",
    "        pre = precision_score(y_test, pred, average='weighted')\n",
    "        recall = recall_score(y_test, pred, average='weighted')\n",
    "        f1 = f1_score(y_test, pred, average='weighted')\n",
    "        param = model.best_params_\n",
    "    \n",
    "        tempB_SOTME_SMOTE.append([i,j,acc,pre,recall,f1,param])\n",
    "        \n",
    "dfB_SOTME_SMOTE = pd.DataFrame(columns=['Test Size','Random State','Accuracy','Precision','Recall','F1 Score','Best Param'],data=tempB_SOTME_SMOTE)\n",
    "dfB_SOTME_SMOTE"
   ]
  },
  {
   "cell_type": "code",
   "execution_count": 21,
   "id": "a07b8d30-4512-4aa4-9a55-d9293f2da9a1",
   "metadata": {},
   "outputs": [
    {
     "data": {
      "text/html": [
       "<div>\n",
       "<style scoped>\n",
       "    .dataframe tbody tr th:only-of-type {\n",
       "        vertical-align: middle;\n",
       "    }\n",
       "\n",
       "    .dataframe tbody tr th {\n",
       "        vertical-align: top;\n",
       "    }\n",
       "\n",
       "    .dataframe thead th {\n",
       "        text-align: right;\n",
       "    }\n",
       "</style>\n",
       "<table border=\"1\" class=\"dataframe\">\n",
       "  <thead>\n",
       "    <tr style=\"text-align: right;\">\n",
       "      <th></th>\n",
       "      <th>Accuracy</th>\n",
       "      <th>Precision</th>\n",
       "      <th>Recall</th>\n",
       "      <th>F1 Score</th>\n",
       "    </tr>\n",
       "    <tr>\n",
       "      <th>Test Size</th>\n",
       "      <th></th>\n",
       "      <th></th>\n",
       "      <th></th>\n",
       "      <th></th>\n",
       "    </tr>\n",
       "  </thead>\n",
       "  <tbody>\n",
       "    <tr>\n",
       "      <th>0.2</th>\n",
       "      <td>0.895669</td>\n",
       "      <td>0.900456</td>\n",
       "      <td>0.895669</td>\n",
       "      <td>0.895473</td>\n",
       "    </tr>\n",
       "    <tr>\n",
       "      <th>0.3</th>\n",
       "      <td>0.888014</td>\n",
       "      <td>0.893435</td>\n",
       "      <td>0.888014</td>\n",
       "      <td>0.887738</td>\n",
       "    </tr>\n",
       "    <tr>\n",
       "      <th>0.4</th>\n",
       "      <td>0.880249</td>\n",
       "      <td>0.883499</td>\n",
       "      <td>0.880249</td>\n",
       "      <td>0.880070</td>\n",
       "    </tr>\n",
       "    <tr>\n",
       "      <th>0.5</th>\n",
       "      <td>0.883990</td>\n",
       "      <td>0.888719</td>\n",
       "      <td>0.883990</td>\n",
       "      <td>0.883784</td>\n",
       "    </tr>\n",
       "  </tbody>\n",
       "</table>\n",
       "</div>"
      ],
      "text/plain": [
       "           Accuracy  Precision    Recall  F1 Score\n",
       "Test Size                                         \n",
       "0.2        0.895669   0.900456  0.895669  0.895473\n",
       "0.3        0.888014   0.893435  0.888014  0.887738\n",
       "0.4        0.880249   0.883499  0.880249  0.880070\n",
       "0.5        0.883990   0.888719  0.883990  0.883784"
      ]
     },
     "execution_count": 21,
     "metadata": {},
     "output_type": "execute_result"
    }
   ],
   "source": [
    "dfB_SOTME_SMOTE.groupby('Test Size')[['Accuracy','Precision','Recall','F1 Score']].mean()"
   ]
  },
  {
   "cell_type": "markdown",
   "id": "dde7aeb5-e6dd-40d4-8e9d-43aacc208077",
   "metadata": {},
   "source": [
    "## Student Family Background"
   ]
  },
  {
   "cell_type": "markdown",
   "id": "22e592cf-f779-449b-bdc6-93d609e2bd2b",
   "metadata": {},
   "source": [
    "### SFB before Data Balancing"
   ]
  },
  {
   "cell_type": "code",
   "execution_count": 22,
   "id": "9e6b605d-4eba-48a6-b897-5b5f8a39830b",
   "metadata": {},
   "outputs": [
    {
     "name": "stdout",
     "output_type": "stream",
     "text": [
      "X: (1287, 7) y: (1287, 1)\n",
      "Fitting 10 folds for each of 32 candidates, totalling 320 fits\n"
     ]
    },
    {
     "name": "stderr",
     "output_type": "stream",
     "text": [
      "C:\\Users\\hazel\\anaconda3\\Lib\\site-packages\\sklearn\\model_selection\\_split.py:700: UserWarning: The least populated class in y has only 8 members, which is less than n_splits=10.\n",
      "  warnings.warn(\n",
      "C:\\Users\\hazel\\anaconda3\\Lib\\site-packages\\sklearn\\utils\\validation.py:1143: DataConversionWarning: A column-vector y was passed when a 1d array was expected. Please change the shape of y to (n_samples, ), for example using ravel().\n",
      "  y = column_or_1d(y, warn=True)\n",
      "C:\\Users\\hazel\\anaconda3\\Lib\\site-packages\\sklearn\\metrics\\_classification.py:1344: UndefinedMetricWarning: Precision is ill-defined and being set to 0.0 in labels with no predicted samples. Use `zero_division` parameter to control this behavior.\n",
      "  _warn_prf(average, modifier, msg_start, len(result))\n",
      "C:\\Users\\hazel\\anaconda3\\Lib\\site-packages\\sklearn\\model_selection\\_split.py:700: UserWarning: The least populated class in y has only 8 members, which is less than n_splits=10.\n",
      "  warnings.warn(\n"
     ]
    },
    {
     "name": "stdout",
     "output_type": "stream",
     "text": [
      "Fitting 10 folds for each of 32 candidates, totalling 320 fits\n"
     ]
    },
    {
     "name": "stderr",
     "output_type": "stream",
     "text": [
      "C:\\Users\\hazel\\anaconda3\\Lib\\site-packages\\sklearn\\utils\\validation.py:1143: DataConversionWarning: A column-vector y was passed when a 1d array was expected. Please change the shape of y to (n_samples, ), for example using ravel().\n",
      "  y = column_or_1d(y, warn=True)\n",
      "C:\\Users\\hazel\\anaconda3\\Lib\\site-packages\\sklearn\\metrics\\_classification.py:1344: UndefinedMetricWarning: Precision is ill-defined and being set to 0.0 in labels with no predicted samples. Use `zero_division` parameter to control this behavior.\n",
      "  _warn_prf(average, modifier, msg_start, len(result))\n",
      "C:\\Users\\hazel\\anaconda3\\Lib\\site-packages\\sklearn\\model_selection\\_split.py:700: UserWarning: The least populated class in y has only 8 members, which is less than n_splits=10.\n",
      "  warnings.warn(\n"
     ]
    },
    {
     "name": "stdout",
     "output_type": "stream",
     "text": [
      "Fitting 10 folds for each of 32 candidates, totalling 320 fits\n"
     ]
    },
    {
     "name": "stderr",
     "output_type": "stream",
     "text": [
      "C:\\Users\\hazel\\anaconda3\\Lib\\site-packages\\sklearn\\utils\\validation.py:1143: DataConversionWarning: A column-vector y was passed when a 1d array was expected. Please change the shape of y to (n_samples, ), for example using ravel().\n",
      "  y = column_or_1d(y, warn=True)\n",
      "C:\\Users\\hazel\\anaconda3\\Lib\\site-packages\\sklearn\\metrics\\_classification.py:1344: UndefinedMetricWarning: Precision is ill-defined and being set to 0.0 in labels with no predicted samples. Use `zero_division` parameter to control this behavior.\n",
      "  _warn_prf(average, modifier, msg_start, len(result))\n"
     ]
    },
    {
     "name": "stdout",
     "output_type": "stream",
     "text": [
      "Fitting 10 folds for each of 32 candidates, totalling 320 fits\n"
     ]
    },
    {
     "name": "stderr",
     "output_type": "stream",
     "text": [
      "C:\\Users\\hazel\\anaconda3\\Lib\\site-packages\\sklearn\\utils\\validation.py:1143: DataConversionWarning: A column-vector y was passed when a 1d array was expected. Please change the shape of y to (n_samples, ), for example using ravel().\n",
      "  y = column_or_1d(y, warn=True)\n",
      "C:\\Users\\hazel\\anaconda3\\Lib\\site-packages\\sklearn\\metrics\\_classification.py:1344: UndefinedMetricWarning: Precision is ill-defined and being set to 0.0 in labels with no predicted samples. Use `zero_division` parameter to control this behavior.\n",
      "  _warn_prf(average, modifier, msg_start, len(result))\n",
      "C:\\Users\\hazel\\anaconda3\\Lib\\site-packages\\sklearn\\model_selection\\_split.py:700: UserWarning: The least populated class in y has only 9 members, which is less than n_splits=10.\n",
      "  warnings.warn(\n"
     ]
    },
    {
     "name": "stdout",
     "output_type": "stream",
     "text": [
      "Fitting 10 folds for each of 32 candidates, totalling 320 fits\n"
     ]
    },
    {
     "name": "stderr",
     "output_type": "stream",
     "text": [
      "C:\\Users\\hazel\\anaconda3\\Lib\\site-packages\\sklearn\\utils\\validation.py:1143: DataConversionWarning: A column-vector y was passed when a 1d array was expected. Please change the shape of y to (n_samples, ), for example using ravel().\n",
      "  y = column_or_1d(y, warn=True)\n",
      "C:\\Users\\hazel\\anaconda3\\Lib\\site-packages\\sklearn\\metrics\\_classification.py:1344: UndefinedMetricWarning: Precision is ill-defined and being set to 0.0 in labels with no predicted samples. Use `zero_division` parameter to control this behavior.\n",
      "  _warn_prf(average, modifier, msg_start, len(result))\n"
     ]
    },
    {
     "name": "stdout",
     "output_type": "stream",
     "text": [
      "Fitting 10 folds for each of 32 candidates, totalling 320 fits\n"
     ]
    },
    {
     "name": "stderr",
     "output_type": "stream",
     "text": [
      "C:\\Users\\hazel\\anaconda3\\Lib\\site-packages\\sklearn\\utils\\validation.py:1143: DataConversionWarning: A column-vector y was passed when a 1d array was expected. Please change the shape of y to (n_samples, ), for example using ravel().\n",
      "  y = column_or_1d(y, warn=True)\n",
      "C:\\Users\\hazel\\anaconda3\\Lib\\site-packages\\sklearn\\metrics\\_classification.py:1344: UndefinedMetricWarning: Precision is ill-defined and being set to 0.0 in labels with no predicted samples. Use `zero_division` parameter to control this behavior.\n",
      "  _warn_prf(average, modifier, msg_start, len(result))\n"
     ]
    },
    {
     "name": "stdout",
     "output_type": "stream",
     "text": [
      "Fitting 10 folds for each of 32 candidates, totalling 320 fits\n"
     ]
    },
    {
     "name": "stderr",
     "output_type": "stream",
     "text": [
      "C:\\Users\\hazel\\anaconda3\\Lib\\site-packages\\sklearn\\utils\\validation.py:1143: DataConversionWarning: A column-vector y was passed when a 1d array was expected. Please change the shape of y to (n_samples, ), for example using ravel().\n",
      "  y = column_or_1d(y, warn=True)\n",
      "C:\\Users\\hazel\\anaconda3\\Lib\\site-packages\\sklearn\\metrics\\_classification.py:1344: UndefinedMetricWarning: Precision is ill-defined and being set to 0.0 in labels with no predicted samples. Use `zero_division` parameter to control this behavior.\n",
      "  _warn_prf(average, modifier, msg_start, len(result))\n"
     ]
    },
    {
     "name": "stdout",
     "output_type": "stream",
     "text": [
      "Fitting 10 folds for each of 32 candidates, totalling 320 fits\n"
     ]
    },
    {
     "name": "stderr",
     "output_type": "stream",
     "text": [
      "C:\\Users\\hazel\\anaconda3\\Lib\\site-packages\\sklearn\\utils\\validation.py:1143: DataConversionWarning: A column-vector y was passed when a 1d array was expected. Please change the shape of y to (n_samples, ), for example using ravel().\n",
      "  y = column_or_1d(y, warn=True)\n",
      "C:\\Users\\hazel\\anaconda3\\Lib\\site-packages\\sklearn\\metrics\\_classification.py:1344: UndefinedMetricWarning: Precision is ill-defined and being set to 0.0 in labels with no predicted samples. Use `zero_division` parameter to control this behavior.\n",
      "  _warn_prf(average, modifier, msg_start, len(result))\n"
     ]
    },
    {
     "name": "stdout",
     "output_type": "stream",
     "text": [
      "Fitting 10 folds for each of 32 candidates, totalling 320 fits\n"
     ]
    },
    {
     "name": "stderr",
     "output_type": "stream",
     "text": [
      "C:\\Users\\hazel\\anaconda3\\Lib\\site-packages\\sklearn\\utils\\validation.py:1143: DataConversionWarning: A column-vector y was passed when a 1d array was expected. Please change the shape of y to (n_samples, ), for example using ravel().\n",
      "  y = column_or_1d(y, warn=True)\n",
      "C:\\Users\\hazel\\anaconda3\\Lib\\site-packages\\sklearn\\metrics\\_classification.py:1344: UndefinedMetricWarning: Precision is ill-defined and being set to 0.0 in labels with no predicted samples. Use `zero_division` parameter to control this behavior.\n",
      "  _warn_prf(average, modifier, msg_start, len(result))\n"
     ]
    },
    {
     "name": "stdout",
     "output_type": "stream",
     "text": [
      "Fitting 10 folds for each of 32 candidates, totalling 320 fits\n"
     ]
    },
    {
     "name": "stderr",
     "output_type": "stream",
     "text": [
      "C:\\Users\\hazel\\anaconda3\\Lib\\site-packages\\sklearn\\utils\\validation.py:1143: DataConversionWarning: A column-vector y was passed when a 1d array was expected. Please change the shape of y to (n_samples, ), for example using ravel().\n",
      "  y = column_or_1d(y, warn=True)\n",
      "C:\\Users\\hazel\\anaconda3\\Lib\\site-packages\\sklearn\\metrics\\_classification.py:1344: UndefinedMetricWarning: Precision is ill-defined and being set to 0.0 in labels with no predicted samples. Use `zero_division` parameter to control this behavior.\n",
      "  _warn_prf(average, modifier, msg_start, len(result))\n"
     ]
    },
    {
     "name": "stdout",
     "output_type": "stream",
     "text": [
      "Fitting 10 folds for each of 32 candidates, totalling 320 fits\n"
     ]
    },
    {
     "name": "stderr",
     "output_type": "stream",
     "text": [
      "C:\\Users\\hazel\\anaconda3\\Lib\\site-packages\\sklearn\\utils\\validation.py:1143: DataConversionWarning: A column-vector y was passed when a 1d array was expected. Please change the shape of y to (n_samples, ), for example using ravel().\n",
      "  y = column_or_1d(y, warn=True)\n",
      "C:\\Users\\hazel\\anaconda3\\Lib\\site-packages\\sklearn\\metrics\\_classification.py:1344: UndefinedMetricWarning: Precision is ill-defined and being set to 0.0 in labels with no predicted samples. Use `zero_division` parameter to control this behavior.\n",
      "  _warn_prf(average, modifier, msg_start, len(result))\n"
     ]
    },
    {
     "name": "stdout",
     "output_type": "stream",
     "text": [
      "Fitting 10 folds for each of 32 candidates, totalling 320 fits\n"
     ]
    },
    {
     "name": "stderr",
     "output_type": "stream",
     "text": [
      "C:\\Users\\hazel\\anaconda3\\Lib\\site-packages\\sklearn\\utils\\validation.py:1143: DataConversionWarning: A column-vector y was passed when a 1d array was expected. Please change the shape of y to (n_samples, ), for example using ravel().\n",
      "  y = column_or_1d(y, warn=True)\n",
      "C:\\Users\\hazel\\anaconda3\\Lib\\site-packages\\sklearn\\metrics\\_classification.py:1344: UndefinedMetricWarning: Precision is ill-defined and being set to 0.0 in labels with no predicted samples. Use `zero_division` parameter to control this behavior.\n",
      "  _warn_prf(average, modifier, msg_start, len(result))\n"
     ]
    },
    {
     "data": {
      "text/html": [
       "<div>\n",
       "<style scoped>\n",
       "    .dataframe tbody tr th:only-of-type {\n",
       "        vertical-align: middle;\n",
       "    }\n",
       "\n",
       "    .dataframe tbody tr th {\n",
       "        vertical-align: top;\n",
       "    }\n",
       "\n",
       "    .dataframe thead th {\n",
       "        text-align: right;\n",
       "    }\n",
       "</style>\n",
       "<table border=\"1\" class=\"dataframe\">\n",
       "  <thead>\n",
       "    <tr style=\"text-align: right;\">\n",
       "      <th></th>\n",
       "      <th>Test Size</th>\n",
       "      <th>Random State</th>\n",
       "      <th>Accuracy</th>\n",
       "      <th>Precision</th>\n",
       "      <th>Recall</th>\n",
       "      <th>F1 Score</th>\n",
       "      <th>Best Param</th>\n",
       "    </tr>\n",
       "  </thead>\n",
       "  <tbody>\n",
       "    <tr>\n",
       "      <th>0</th>\n",
       "      <td>0.5</td>\n",
       "      <td>7</td>\n",
       "      <td>0.986025</td>\n",
       "      <td>0.972245</td>\n",
       "      <td>0.986025</td>\n",
       "      <td>0.979086</td>\n",
       "      <td>{'C': 0.1, 'gamma': 1, 'kernel': 'rbf'}</td>\n",
       "    </tr>\n",
       "    <tr>\n",
       "      <th>1</th>\n",
       "      <td>0.5</td>\n",
       "      <td>69</td>\n",
       "      <td>0.986025</td>\n",
       "      <td>0.972245</td>\n",
       "      <td>0.986025</td>\n",
       "      <td>0.979086</td>\n",
       "      <td>{'C': 0.1, 'gamma': 1, 'kernel': 'rbf'}</td>\n",
       "    </tr>\n",
       "    <tr>\n",
       "      <th>2</th>\n",
       "      <td>0.5</td>\n",
       "      <td>101</td>\n",
       "      <td>0.986025</td>\n",
       "      <td>0.972245</td>\n",
       "      <td>0.986025</td>\n",
       "      <td>0.979086</td>\n",
       "      <td>{'C': 0.1, 'gamma': 1, 'kernel': 'rbf'}</td>\n",
       "    </tr>\n",
       "    <tr>\n",
       "      <th>3</th>\n",
       "      <td>0.4</td>\n",
       "      <td>7</td>\n",
       "      <td>0.988350</td>\n",
       "      <td>0.976835</td>\n",
       "      <td>0.988350</td>\n",
       "      <td>0.982558</td>\n",
       "      <td>{'C': 0.1, 'gamma': 1, 'kernel': 'rbf'}</td>\n",
       "    </tr>\n",
       "    <tr>\n",
       "      <th>4</th>\n",
       "      <td>0.4</td>\n",
       "      <td>69</td>\n",
       "      <td>0.984466</td>\n",
       "      <td>0.969173</td>\n",
       "      <td>0.984466</td>\n",
       "      <td>0.976760</td>\n",
       "      <td>{'C': 0.1, 'gamma': 1, 'kernel': 'rbf'}</td>\n",
       "    </tr>\n",
       "    <tr>\n",
       "      <th>5</th>\n",
       "      <td>0.4</td>\n",
       "      <td>101</td>\n",
       "      <td>0.986408</td>\n",
       "      <td>0.973000</td>\n",
       "      <td>0.986408</td>\n",
       "      <td>0.979658</td>\n",
       "      <td>{'C': 0.1, 'gamma': 1, 'kernel': 'rbf'}</td>\n",
       "    </tr>\n",
       "    <tr>\n",
       "      <th>6</th>\n",
       "      <td>0.3</td>\n",
       "      <td>7</td>\n",
       "      <td>0.989664</td>\n",
       "      <td>0.979435</td>\n",
       "      <td>0.989664</td>\n",
       "      <td>0.984523</td>\n",
       "      <td>{'C': 0.1, 'gamma': 1, 'kernel': 'rbf'}</td>\n",
       "    </tr>\n",
       "    <tr>\n",
       "      <th>7</th>\n",
       "      <td>0.3</td>\n",
       "      <td>69</td>\n",
       "      <td>0.987080</td>\n",
       "      <td>0.974327</td>\n",
       "      <td>0.987080</td>\n",
       "      <td>0.980662</td>\n",
       "      <td>{'C': 0.1, 'gamma': 1, 'kernel': 'rbf'}</td>\n",
       "    </tr>\n",
       "    <tr>\n",
       "      <th>8</th>\n",
       "      <td>0.3</td>\n",
       "      <td>101</td>\n",
       "      <td>0.987080</td>\n",
       "      <td>0.974327</td>\n",
       "      <td>0.987080</td>\n",
       "      <td>0.980662</td>\n",
       "      <td>{'C': 0.1, 'gamma': 1, 'kernel': 'rbf'}</td>\n",
       "    </tr>\n",
       "    <tr>\n",
       "      <th>9</th>\n",
       "      <td>0.2</td>\n",
       "      <td>7</td>\n",
       "      <td>0.992248</td>\n",
       "      <td>0.984556</td>\n",
       "      <td>0.992248</td>\n",
       "      <td>0.988387</td>\n",
       "      <td>{'C': 0.1, 'gamma': 1, 'kernel': 'rbf'}</td>\n",
       "    </tr>\n",
       "    <tr>\n",
       "      <th>10</th>\n",
       "      <td>0.2</td>\n",
       "      <td>69</td>\n",
       "      <td>0.984496</td>\n",
       "      <td>0.969233</td>\n",
       "      <td>0.984496</td>\n",
       "      <td>0.976805</td>\n",
       "      <td>{'C': 0.1, 'gamma': 1, 'kernel': 'rbf'}</td>\n",
       "    </tr>\n",
       "    <tr>\n",
       "      <th>11</th>\n",
       "      <td>0.2</td>\n",
       "      <td>101</td>\n",
       "      <td>0.984496</td>\n",
       "      <td>0.969233</td>\n",
       "      <td>0.984496</td>\n",
       "      <td>0.976805</td>\n",
       "      <td>{'C': 0.1, 'gamma': 1, 'kernel': 'rbf'}</td>\n",
       "    </tr>\n",
       "  </tbody>\n",
       "</table>\n",
       "</div>"
      ],
      "text/plain": [
       "    Test Size  Random State  Accuracy  Precision    Recall  F1 Score  \\\n",
       "0         0.5             7  0.986025   0.972245  0.986025  0.979086   \n",
       "1         0.5            69  0.986025   0.972245  0.986025  0.979086   \n",
       "2         0.5           101  0.986025   0.972245  0.986025  0.979086   \n",
       "3         0.4             7  0.988350   0.976835  0.988350  0.982558   \n",
       "4         0.4            69  0.984466   0.969173  0.984466  0.976760   \n",
       "5         0.4           101  0.986408   0.973000  0.986408  0.979658   \n",
       "6         0.3             7  0.989664   0.979435  0.989664  0.984523   \n",
       "7         0.3            69  0.987080   0.974327  0.987080  0.980662   \n",
       "8         0.3           101  0.987080   0.974327  0.987080  0.980662   \n",
       "9         0.2             7  0.992248   0.984556  0.992248  0.988387   \n",
       "10        0.2            69  0.984496   0.969233  0.984496  0.976805   \n",
       "11        0.2           101  0.984496   0.969233  0.984496  0.976805   \n",
       "\n",
       "                                 Best Param  \n",
       "0   {'C': 0.1, 'gamma': 1, 'kernel': 'rbf'}  \n",
       "1   {'C': 0.1, 'gamma': 1, 'kernel': 'rbf'}  \n",
       "2   {'C': 0.1, 'gamma': 1, 'kernel': 'rbf'}  \n",
       "3   {'C': 0.1, 'gamma': 1, 'kernel': 'rbf'}  \n",
       "4   {'C': 0.1, 'gamma': 1, 'kernel': 'rbf'}  \n",
       "5   {'C': 0.1, 'gamma': 1, 'kernel': 'rbf'}  \n",
       "6   {'C': 0.1, 'gamma': 1, 'kernel': 'rbf'}  \n",
       "7   {'C': 0.1, 'gamma': 1, 'kernel': 'rbf'}  \n",
       "8   {'C': 0.1, 'gamma': 1, 'kernel': 'rbf'}  \n",
       "9   {'C': 0.1, 'gamma': 1, 'kernel': 'rbf'}  \n",
       "10  {'C': 0.1, 'gamma': 1, 'kernel': 'rbf'}  \n",
       "11  {'C': 0.1, 'gamma': 1, 'kernel': 'rbf'}  "
      ]
     },
     "execution_count": 22,
     "metadata": {},
     "output_type": "execute_result"
    }
   ],
   "source": [
    "tempB_SFB_imb = []\n",
    "\n",
    "y = merge_B_imb[['CGPA']]\n",
    "X = merge_B_imb[['Family Size', \"Parent's Education Level.Father\", \"Parent's Education Level.Mother\", \n",
    "                     \"Father's Occupation\", \"Mother's Occupation\", 'Financial Difficulties', 'Financial Support']]\n",
    "\n",
    "print(\"X:\", X.shape,\"y:\", y.shape)\n",
    "\n",
    "for i in [0.5,0.4,0.3,0.2]:\n",
    "    for j in rand_states:\n",
    "        X_train, X_test, y_train, y_test = train_test_split(X, y, test_size=i, random_state=j)\n",
    "        param_grid = {'C': [0.1, 1, 10, 100],\n",
    "                      'gamma': [1, 0.1, 0.01, 0.001],\n",
    "                      'kernel': ['rbf','sigmoid']}\n",
    "\n",
    "        model = GridSearchCV(SVC(random_state=0), param_grid, refit=True, n_jobs=-1, cv=10, verbose=1)\n",
    "        model.fit(X_train, y_train)\n",
    "        pred = model.predict(X_test)\n",
    "        \n",
    "        acc = accuracy_score(y_test,pred)\n",
    "        pre = precision_score(y_test, pred, average='weighted')\n",
    "        recall = recall_score(y_test, pred, average='weighted')\n",
    "        f1 = f1_score(y_test, pred, average='weighted')\n",
    "        param = model.best_params_\n",
    "    \n",
    "        tempB_SFB_imb.append([i,j,acc,pre,recall,f1,param])\n",
    "        \n",
    "dfB_SFB_imb = pd.DataFrame(columns=['Test Size','Random State','Accuracy','Precision','Recall','F1 Score','Best Param'],data=tempB_SFB_imb)\n",
    "dfB_SFB_imb"
   ]
  },
  {
   "cell_type": "code",
   "execution_count": 23,
   "id": "61b1a663-fa55-4954-8b27-b2ea76b8f0d9",
   "metadata": {},
   "outputs": [
    {
     "data": {
      "text/html": [
       "<div>\n",
       "<style scoped>\n",
       "    .dataframe tbody tr th:only-of-type {\n",
       "        vertical-align: middle;\n",
       "    }\n",
       "\n",
       "    .dataframe tbody tr th {\n",
       "        vertical-align: top;\n",
       "    }\n",
       "\n",
       "    .dataframe thead th {\n",
       "        text-align: right;\n",
       "    }\n",
       "</style>\n",
       "<table border=\"1\" class=\"dataframe\">\n",
       "  <thead>\n",
       "    <tr style=\"text-align: right;\">\n",
       "      <th></th>\n",
       "      <th>Accuracy</th>\n",
       "      <th>Precision</th>\n",
       "      <th>Recall</th>\n",
       "      <th>F1 Score</th>\n",
       "    </tr>\n",
       "    <tr>\n",
       "      <th>Test Size</th>\n",
       "      <th></th>\n",
       "      <th></th>\n",
       "      <th></th>\n",
       "      <th></th>\n",
       "    </tr>\n",
       "  </thead>\n",
       "  <tbody>\n",
       "    <tr>\n",
       "      <th>0.2</th>\n",
       "      <td>0.987080</td>\n",
       "      <td>0.974340</td>\n",
       "      <td>0.987080</td>\n",
       "      <td>0.980666</td>\n",
       "    </tr>\n",
       "    <tr>\n",
       "      <th>0.3</th>\n",
       "      <td>0.987941</td>\n",
       "      <td>0.976030</td>\n",
       "      <td>0.987941</td>\n",
       "      <td>0.981949</td>\n",
       "    </tr>\n",
       "    <tr>\n",
       "      <th>0.4</th>\n",
       "      <td>0.986408</td>\n",
       "      <td>0.973003</td>\n",
       "      <td>0.986408</td>\n",
       "      <td>0.979659</td>\n",
       "    </tr>\n",
       "    <tr>\n",
       "      <th>0.5</th>\n",
       "      <td>0.986025</td>\n",
       "      <td>0.972245</td>\n",
       "      <td>0.986025</td>\n",
       "      <td>0.979086</td>\n",
       "    </tr>\n",
       "  </tbody>\n",
       "</table>\n",
       "</div>"
      ],
      "text/plain": [
       "           Accuracy  Precision    Recall  F1 Score\n",
       "Test Size                                         \n",
       "0.2        0.987080   0.974340  0.987080  0.980666\n",
       "0.3        0.987941   0.976030  0.987941  0.981949\n",
       "0.4        0.986408   0.973003  0.986408  0.979659\n",
       "0.5        0.986025   0.972245  0.986025  0.979086"
      ]
     },
     "execution_count": 23,
     "metadata": {},
     "output_type": "execute_result"
    }
   ],
   "source": [
    "dfB_SFB_imb.groupby('Test Size')[['Accuracy','Precision','Recall','F1 Score']].mean()"
   ]
  },
  {
   "cell_type": "markdown",
   "id": "e8e20c24-fe87-4f49-b227-9a03d2b4f333",
   "metadata": {},
   "source": [
    "### SFB after RandomOverSampler"
   ]
  },
  {
   "cell_type": "code",
   "execution_count": 24,
   "id": "653a8e8f-7532-4a80-b623-884ba5e864eb",
   "metadata": {},
   "outputs": [
    {
     "name": "stdout",
     "output_type": "stream",
     "text": [
      "Fitting 10 folds for each of 32 candidates, totalling 320 fits\n"
     ]
    },
    {
     "name": "stderr",
     "output_type": "stream",
     "text": [
      "C:\\Users\\hazel\\anaconda3\\Lib\\site-packages\\sklearn\\utils\\validation.py:1143: DataConversionWarning: A column-vector y was passed when a 1d array was expected. Please change the shape of y to (n_samples, ), for example using ravel().\n",
      "  y = column_or_1d(y, warn=True)\n"
     ]
    },
    {
     "name": "stdout",
     "output_type": "stream",
     "text": [
      "Fitting 10 folds for each of 32 candidates, totalling 320 fits\n"
     ]
    },
    {
     "name": "stderr",
     "output_type": "stream",
     "text": [
      "C:\\Users\\hazel\\anaconda3\\Lib\\site-packages\\sklearn\\utils\\validation.py:1143: DataConversionWarning: A column-vector y was passed when a 1d array was expected. Please change the shape of y to (n_samples, ), for example using ravel().\n",
      "  y = column_or_1d(y, warn=True)\n"
     ]
    },
    {
     "name": "stdout",
     "output_type": "stream",
     "text": [
      "Fitting 10 folds for each of 32 candidates, totalling 320 fits\n"
     ]
    },
    {
     "name": "stderr",
     "output_type": "stream",
     "text": [
      "C:\\Users\\hazel\\anaconda3\\Lib\\site-packages\\sklearn\\utils\\validation.py:1143: DataConversionWarning: A column-vector y was passed when a 1d array was expected. Please change the shape of y to (n_samples, ), for example using ravel().\n",
      "  y = column_or_1d(y, warn=True)\n"
     ]
    },
    {
     "name": "stdout",
     "output_type": "stream",
     "text": [
      "Fitting 10 folds for each of 32 candidates, totalling 320 fits\n"
     ]
    },
    {
     "name": "stderr",
     "output_type": "stream",
     "text": [
      "C:\\Users\\hazel\\anaconda3\\Lib\\site-packages\\sklearn\\utils\\validation.py:1143: DataConversionWarning: A column-vector y was passed when a 1d array was expected. Please change the shape of y to (n_samples, ), for example using ravel().\n",
      "  y = column_or_1d(y, warn=True)\n"
     ]
    },
    {
     "name": "stdout",
     "output_type": "stream",
     "text": [
      "Fitting 10 folds for each of 32 candidates, totalling 320 fits\n"
     ]
    },
    {
     "name": "stderr",
     "output_type": "stream",
     "text": [
      "C:\\Users\\hazel\\anaconda3\\Lib\\site-packages\\sklearn\\utils\\validation.py:1143: DataConversionWarning: A column-vector y was passed when a 1d array was expected. Please change the shape of y to (n_samples, ), for example using ravel().\n",
      "  y = column_or_1d(y, warn=True)\n"
     ]
    },
    {
     "name": "stdout",
     "output_type": "stream",
     "text": [
      "Fitting 10 folds for each of 32 candidates, totalling 320 fits\n"
     ]
    },
    {
     "name": "stderr",
     "output_type": "stream",
     "text": [
      "C:\\Users\\hazel\\anaconda3\\Lib\\site-packages\\sklearn\\utils\\validation.py:1143: DataConversionWarning: A column-vector y was passed when a 1d array was expected. Please change the shape of y to (n_samples, ), for example using ravel().\n",
      "  y = column_or_1d(y, warn=True)\n"
     ]
    },
    {
     "name": "stdout",
     "output_type": "stream",
     "text": [
      "Fitting 10 folds for each of 32 candidates, totalling 320 fits\n"
     ]
    },
    {
     "name": "stderr",
     "output_type": "stream",
     "text": [
      "C:\\Users\\hazel\\anaconda3\\Lib\\site-packages\\sklearn\\utils\\validation.py:1143: DataConversionWarning: A column-vector y was passed when a 1d array was expected. Please change the shape of y to (n_samples, ), for example using ravel().\n",
      "  y = column_or_1d(y, warn=True)\n"
     ]
    },
    {
     "name": "stdout",
     "output_type": "stream",
     "text": [
      "Fitting 10 folds for each of 32 candidates, totalling 320 fits\n"
     ]
    },
    {
     "name": "stderr",
     "output_type": "stream",
     "text": [
      "C:\\Users\\hazel\\anaconda3\\Lib\\site-packages\\sklearn\\utils\\validation.py:1143: DataConversionWarning: A column-vector y was passed when a 1d array was expected. Please change the shape of y to (n_samples, ), for example using ravel().\n",
      "  y = column_or_1d(y, warn=True)\n"
     ]
    },
    {
     "name": "stdout",
     "output_type": "stream",
     "text": [
      "Fitting 10 folds for each of 32 candidates, totalling 320 fits\n"
     ]
    },
    {
     "name": "stderr",
     "output_type": "stream",
     "text": [
      "C:\\Users\\hazel\\anaconda3\\Lib\\site-packages\\sklearn\\utils\\validation.py:1143: DataConversionWarning: A column-vector y was passed when a 1d array was expected. Please change the shape of y to (n_samples, ), for example using ravel().\n",
      "  y = column_or_1d(y, warn=True)\n"
     ]
    },
    {
     "name": "stdout",
     "output_type": "stream",
     "text": [
      "Fitting 10 folds for each of 32 candidates, totalling 320 fits\n"
     ]
    },
    {
     "name": "stderr",
     "output_type": "stream",
     "text": [
      "C:\\Users\\hazel\\anaconda3\\Lib\\site-packages\\sklearn\\utils\\validation.py:1143: DataConversionWarning: A column-vector y was passed when a 1d array was expected. Please change the shape of y to (n_samples, ), for example using ravel().\n",
      "  y = column_or_1d(y, warn=True)\n"
     ]
    },
    {
     "name": "stdout",
     "output_type": "stream",
     "text": [
      "Fitting 10 folds for each of 32 candidates, totalling 320 fits\n"
     ]
    },
    {
     "name": "stderr",
     "output_type": "stream",
     "text": [
      "C:\\Users\\hazel\\anaconda3\\Lib\\site-packages\\sklearn\\utils\\validation.py:1143: DataConversionWarning: A column-vector y was passed when a 1d array was expected. Please change the shape of y to (n_samples, ), for example using ravel().\n",
      "  y = column_or_1d(y, warn=True)\n"
     ]
    },
    {
     "name": "stdout",
     "output_type": "stream",
     "text": [
      "Fitting 10 folds for each of 32 candidates, totalling 320 fits\n"
     ]
    },
    {
     "name": "stderr",
     "output_type": "stream",
     "text": [
      "C:\\Users\\hazel\\anaconda3\\Lib\\site-packages\\sklearn\\utils\\validation.py:1143: DataConversionWarning: A column-vector y was passed when a 1d array was expected. Please change the shape of y to (n_samples, ), for example using ravel().\n",
      "  y = column_or_1d(y, warn=True)\n"
     ]
    },
    {
     "data": {
      "text/html": [
       "<div>\n",
       "<style scoped>\n",
       "    .dataframe tbody tr th:only-of-type {\n",
       "        vertical-align: middle;\n",
       "    }\n",
       "\n",
       "    .dataframe tbody tr th {\n",
       "        vertical-align: top;\n",
       "    }\n",
       "\n",
       "    .dataframe thead th {\n",
       "        text-align: right;\n",
       "    }\n",
       "</style>\n",
       "<table border=\"1\" class=\"dataframe\">\n",
       "  <thead>\n",
       "    <tr style=\"text-align: right;\">\n",
       "      <th></th>\n",
       "      <th>Test Size</th>\n",
       "      <th>Random State</th>\n",
       "      <th>Accuracy</th>\n",
       "      <th>Precision</th>\n",
       "      <th>Recall</th>\n",
       "      <th>F1 Score</th>\n",
       "      <th>Best Param</th>\n",
       "    </tr>\n",
       "  </thead>\n",
       "  <tbody>\n",
       "    <tr>\n",
       "      <th>0</th>\n",
       "      <td>0.5</td>\n",
       "      <td>7</td>\n",
       "      <td>0.992913</td>\n",
       "      <td>0.993010</td>\n",
       "      <td>0.992913</td>\n",
       "      <td>0.992912</td>\n",
       "      <td>{'C': 0.1, 'gamma': 1, 'kernel': 'rbf'}</td>\n",
       "    </tr>\n",
       "    <tr>\n",
       "      <th>1</th>\n",
       "      <td>0.5</td>\n",
       "      <td>69</td>\n",
       "      <td>0.992126</td>\n",
       "      <td>0.992251</td>\n",
       "      <td>0.992126</td>\n",
       "      <td>0.992127</td>\n",
       "      <td>{'C': 0.1, 'gamma': 1, 'kernel': 'rbf'}</td>\n",
       "    </tr>\n",
       "    <tr>\n",
       "      <th>2</th>\n",
       "      <td>0.5</td>\n",
       "      <td>101</td>\n",
       "      <td>0.994488</td>\n",
       "      <td>0.994550</td>\n",
       "      <td>0.994488</td>\n",
       "      <td>0.994489</td>\n",
       "      <td>{'C': 0.1, 'gamma': 1, 'kernel': 'rbf'}</td>\n",
       "    </tr>\n",
       "    <tr>\n",
       "      <th>3</th>\n",
       "      <td>0.4</td>\n",
       "      <td>7</td>\n",
       "      <td>0.993110</td>\n",
       "      <td>0.993202</td>\n",
       "      <td>0.993110</td>\n",
       "      <td>0.993109</td>\n",
       "      <td>{'C': 0.1, 'gamma': 1, 'kernel': 'rbf'}</td>\n",
       "    </tr>\n",
       "    <tr>\n",
       "      <th>4</th>\n",
       "      <td>0.4</td>\n",
       "      <td>69</td>\n",
       "      <td>0.994094</td>\n",
       "      <td>0.994165</td>\n",
       "      <td>0.994094</td>\n",
       "      <td>0.994095</td>\n",
       "      <td>{'C': 0.1, 'gamma': 1, 'kernel': 'rbf'}</td>\n",
       "    </tr>\n",
       "    <tr>\n",
       "      <th>5</th>\n",
       "      <td>0.4</td>\n",
       "      <td>101</td>\n",
       "      <td>0.995079</td>\n",
       "      <td>0.995128</td>\n",
       "      <td>0.995079</td>\n",
       "      <td>0.995079</td>\n",
       "      <td>{'C': 0.1, 'gamma': 1, 'kernel': 'rbf'}</td>\n",
       "    </tr>\n",
       "    <tr>\n",
       "      <th>6</th>\n",
       "      <td>0.3</td>\n",
       "      <td>7</td>\n",
       "      <td>0.990814</td>\n",
       "      <td>0.990974</td>\n",
       "      <td>0.990814</td>\n",
       "      <td>0.990810</td>\n",
       "      <td>{'C': 0.1, 'gamma': 1, 'kernel': 'rbf'}</td>\n",
       "    </tr>\n",
       "    <tr>\n",
       "      <th>7</th>\n",
       "      <td>0.3</td>\n",
       "      <td>69</td>\n",
       "      <td>0.993438</td>\n",
       "      <td>0.993526</td>\n",
       "      <td>0.993438</td>\n",
       "      <td>0.993439</td>\n",
       "      <td>{'C': 0.1, 'gamma': 1, 'kernel': 'rbf'}</td>\n",
       "    </tr>\n",
       "    <tr>\n",
       "      <th>8</th>\n",
       "      <td>0.3</td>\n",
       "      <td>101</td>\n",
       "      <td>0.994751</td>\n",
       "      <td>0.994807</td>\n",
       "      <td>0.994751</td>\n",
       "      <td>0.994751</td>\n",
       "      <td>{'C': 0.1, 'gamma': 1, 'kernel': 'rbf'}</td>\n",
       "    </tr>\n",
       "    <tr>\n",
       "      <th>9</th>\n",
       "      <td>0.2</td>\n",
       "      <td>7</td>\n",
       "      <td>0.992126</td>\n",
       "      <td>0.992239</td>\n",
       "      <td>0.992126</td>\n",
       "      <td>0.992121</td>\n",
       "      <td>{'C': 0.1, 'gamma': 1, 'kernel': 'rbf'}</td>\n",
       "    </tr>\n",
       "    <tr>\n",
       "      <th>10</th>\n",
       "      <td>0.2</td>\n",
       "      <td>69</td>\n",
       "      <td>1.000000</td>\n",
       "      <td>1.000000</td>\n",
       "      <td>1.000000</td>\n",
       "      <td>1.000000</td>\n",
       "      <td>{'C': 0.1, 'gamma': 1, 'kernel': 'rbf'}</td>\n",
       "    </tr>\n",
       "    <tr>\n",
       "      <th>11</th>\n",
       "      <td>0.2</td>\n",
       "      <td>101</td>\n",
       "      <td>0.994094</td>\n",
       "      <td>0.994167</td>\n",
       "      <td>0.994094</td>\n",
       "      <td>0.994096</td>\n",
       "      <td>{'C': 0.1, 'gamma': 1, 'kernel': 'rbf'}</td>\n",
       "    </tr>\n",
       "  </tbody>\n",
       "</table>\n",
       "</div>"
      ],
      "text/plain": [
       "    Test Size  Random State  Accuracy  Precision    Recall  F1 Score  \\\n",
       "0         0.5             7  0.992913   0.993010  0.992913  0.992912   \n",
       "1         0.5            69  0.992126   0.992251  0.992126  0.992127   \n",
       "2         0.5           101  0.994488   0.994550  0.994488  0.994489   \n",
       "3         0.4             7  0.993110   0.993202  0.993110  0.993109   \n",
       "4         0.4            69  0.994094   0.994165  0.994094  0.994095   \n",
       "5         0.4           101  0.995079   0.995128  0.995079  0.995079   \n",
       "6         0.3             7  0.990814   0.990974  0.990814  0.990810   \n",
       "7         0.3            69  0.993438   0.993526  0.993438  0.993439   \n",
       "8         0.3           101  0.994751   0.994807  0.994751  0.994751   \n",
       "9         0.2             7  0.992126   0.992239  0.992126  0.992121   \n",
       "10        0.2            69  1.000000   1.000000  1.000000  1.000000   \n",
       "11        0.2           101  0.994094   0.994167  0.994094  0.994096   \n",
       "\n",
       "                                 Best Param  \n",
       "0   {'C': 0.1, 'gamma': 1, 'kernel': 'rbf'}  \n",
       "1   {'C': 0.1, 'gamma': 1, 'kernel': 'rbf'}  \n",
       "2   {'C': 0.1, 'gamma': 1, 'kernel': 'rbf'}  \n",
       "3   {'C': 0.1, 'gamma': 1, 'kernel': 'rbf'}  \n",
       "4   {'C': 0.1, 'gamma': 1, 'kernel': 'rbf'}  \n",
       "5   {'C': 0.1, 'gamma': 1, 'kernel': 'rbf'}  \n",
       "6   {'C': 0.1, 'gamma': 1, 'kernel': 'rbf'}  \n",
       "7   {'C': 0.1, 'gamma': 1, 'kernel': 'rbf'}  \n",
       "8   {'C': 0.1, 'gamma': 1, 'kernel': 'rbf'}  \n",
       "9   {'C': 0.1, 'gamma': 1, 'kernel': 'rbf'}  \n",
       "10  {'C': 0.1, 'gamma': 1, 'kernel': 'rbf'}  \n",
       "11  {'C': 0.1, 'gamma': 1, 'kernel': 'rbf'}  "
      ]
     },
     "execution_count": 24,
     "metadata": {},
     "output_type": "execute_result"
    }
   ],
   "source": [
    "tempB_SFB_ROS = []\n",
    "\n",
    "y = merge_B_ROS[['CGPA']]\n",
    "X = merge_B_ROS[['Family Size', \"Parent's Education Level.Father\", \"Parent's Education Level.Mother\", \n",
    "                     \"Father's Occupation\", \"Mother's Occupation\", 'Financial Difficulties', 'Financial Support']]\n",
    "\n",
    "for i in [0.5,0.4,0.3,0.2]:\n",
    "    for j in rand_states:\n",
    "        X_train, X_test, y_train, y_test = train_test_split(X, y, test_size=i, random_state=j)\n",
    "        param_grid = {'C': [0.1, 1, 10, 100],\n",
    "                      'gamma': [1, 0.1, 0.01, 0.001],\n",
    "                      'kernel': ['rbf','sigmoid']}\n",
    "\n",
    "        model = GridSearchCV(SVC(random_state=0), param_grid, refit=True, n_jobs=-1, cv=10, verbose=1)\n",
    "        model.fit(X_train, y_train)\n",
    "        pred = model.predict(X_test)\n",
    "        \n",
    "        acc = accuracy_score(y_test,pred)\n",
    "        pre = precision_score(y_test, pred, average='weighted')\n",
    "        recall = recall_score(y_test, pred, average='weighted')\n",
    "        f1 = f1_score(y_test, pred, average='weighted')\n",
    "        param = model.best_params_\n",
    "    \n",
    "        tempB_SFB_ROS.append([i,j,acc,pre,recall,f1,param])\n",
    "        \n",
    "dfB_SFB_ROS = pd.DataFrame(columns=['Test Size','Random State','Accuracy','Precision','Recall','F1 Score','Best Param'],data=tempB_SFB_ROS)\n",
    "dfB_SFB_ROS"
   ]
  },
  {
   "cell_type": "code",
   "execution_count": 25,
   "id": "a23eeeea-5a39-4fb1-833f-07ceec106426",
   "metadata": {},
   "outputs": [
    {
     "data": {
      "text/html": [
       "<div>\n",
       "<style scoped>\n",
       "    .dataframe tbody tr th:only-of-type {\n",
       "        vertical-align: middle;\n",
       "    }\n",
       "\n",
       "    .dataframe tbody tr th {\n",
       "        vertical-align: top;\n",
       "    }\n",
       "\n",
       "    .dataframe thead th {\n",
       "        text-align: right;\n",
       "    }\n",
       "</style>\n",
       "<table border=\"1\" class=\"dataframe\">\n",
       "  <thead>\n",
       "    <tr style=\"text-align: right;\">\n",
       "      <th></th>\n",
       "      <th>Accuracy</th>\n",
       "      <th>Precision</th>\n",
       "      <th>Recall</th>\n",
       "      <th>F1 Score</th>\n",
       "    </tr>\n",
       "    <tr>\n",
       "      <th>Test Size</th>\n",
       "      <th></th>\n",
       "      <th></th>\n",
       "      <th></th>\n",
       "      <th></th>\n",
       "    </tr>\n",
       "  </thead>\n",
       "  <tbody>\n",
       "    <tr>\n",
       "      <th>0.2</th>\n",
       "      <td>0.995407</td>\n",
       "      <td>0.995469</td>\n",
       "      <td>0.995407</td>\n",
       "      <td>0.995406</td>\n",
       "    </tr>\n",
       "    <tr>\n",
       "      <th>0.3</th>\n",
       "      <td>0.993001</td>\n",
       "      <td>0.993102</td>\n",
       "      <td>0.993001</td>\n",
       "      <td>0.993000</td>\n",
       "    </tr>\n",
       "    <tr>\n",
       "      <th>0.4</th>\n",
       "      <td>0.994094</td>\n",
       "      <td>0.994165</td>\n",
       "      <td>0.994094</td>\n",
       "      <td>0.994094</td>\n",
       "    </tr>\n",
       "    <tr>\n",
       "      <th>0.5</th>\n",
       "      <td>0.993176</td>\n",
       "      <td>0.993270</td>\n",
       "      <td>0.993176</td>\n",
       "      <td>0.993176</td>\n",
       "    </tr>\n",
       "  </tbody>\n",
       "</table>\n",
       "</div>"
      ],
      "text/plain": [
       "           Accuracy  Precision    Recall  F1 Score\n",
       "Test Size                                         \n",
       "0.2        0.995407   0.995469  0.995407  0.995406\n",
       "0.3        0.993001   0.993102  0.993001  0.993000\n",
       "0.4        0.994094   0.994165  0.994094  0.994094\n",
       "0.5        0.993176   0.993270  0.993176  0.993176"
      ]
     },
     "execution_count": 25,
     "metadata": {},
     "output_type": "execute_result"
    }
   ],
   "source": [
    "dfB_SFB_ROS.groupby('Test Size')[['Accuracy','Precision','Recall','F1 Score']].mean()"
   ]
  },
  {
   "cell_type": "markdown",
   "id": "c9904fe2-569c-4f79-939e-688000a0bb72",
   "metadata": {},
   "source": [
    "### SFB after SMOTE"
   ]
  },
  {
   "cell_type": "code",
   "execution_count": 26,
   "id": "16c49340-888d-4359-96fa-0f24494db825",
   "metadata": {},
   "outputs": [
    {
     "name": "stdout",
     "output_type": "stream",
     "text": [
      "Fitting 10 folds for each of 32 candidates, totalling 320 fits\n"
     ]
    },
    {
     "name": "stderr",
     "output_type": "stream",
     "text": [
      "C:\\Users\\hazel\\anaconda3\\Lib\\site-packages\\sklearn\\utils\\validation.py:1143: DataConversionWarning: A column-vector y was passed when a 1d array was expected. Please change the shape of y to (n_samples, ), for example using ravel().\n",
      "  y = column_or_1d(y, warn=True)\n"
     ]
    },
    {
     "name": "stdout",
     "output_type": "stream",
     "text": [
      "Fitting 10 folds for each of 32 candidates, totalling 320 fits\n"
     ]
    },
    {
     "name": "stderr",
     "output_type": "stream",
     "text": [
      "C:\\Users\\hazel\\anaconda3\\Lib\\site-packages\\sklearn\\utils\\validation.py:1143: DataConversionWarning: A column-vector y was passed when a 1d array was expected. Please change the shape of y to (n_samples, ), for example using ravel().\n",
      "  y = column_or_1d(y, warn=True)\n"
     ]
    },
    {
     "name": "stdout",
     "output_type": "stream",
     "text": [
      "Fitting 10 folds for each of 32 candidates, totalling 320 fits\n"
     ]
    },
    {
     "name": "stderr",
     "output_type": "stream",
     "text": [
      "C:\\Users\\hazel\\anaconda3\\Lib\\site-packages\\sklearn\\utils\\validation.py:1143: DataConversionWarning: A column-vector y was passed when a 1d array was expected. Please change the shape of y to (n_samples, ), for example using ravel().\n",
      "  y = column_or_1d(y, warn=True)\n"
     ]
    },
    {
     "name": "stdout",
     "output_type": "stream",
     "text": [
      "Fitting 10 folds for each of 32 candidates, totalling 320 fits\n"
     ]
    },
    {
     "name": "stderr",
     "output_type": "stream",
     "text": [
      "C:\\Users\\hazel\\anaconda3\\Lib\\site-packages\\sklearn\\utils\\validation.py:1143: DataConversionWarning: A column-vector y was passed when a 1d array was expected. Please change the shape of y to (n_samples, ), for example using ravel().\n",
      "  y = column_or_1d(y, warn=True)\n"
     ]
    },
    {
     "name": "stdout",
     "output_type": "stream",
     "text": [
      "Fitting 10 folds for each of 32 candidates, totalling 320 fits\n"
     ]
    },
    {
     "name": "stderr",
     "output_type": "stream",
     "text": [
      "C:\\Users\\hazel\\anaconda3\\Lib\\site-packages\\sklearn\\utils\\validation.py:1143: DataConversionWarning: A column-vector y was passed when a 1d array was expected. Please change the shape of y to (n_samples, ), for example using ravel().\n",
      "  y = column_or_1d(y, warn=True)\n"
     ]
    },
    {
     "name": "stdout",
     "output_type": "stream",
     "text": [
      "Fitting 10 folds for each of 32 candidates, totalling 320 fits\n"
     ]
    },
    {
     "name": "stderr",
     "output_type": "stream",
     "text": [
      "C:\\Users\\hazel\\anaconda3\\Lib\\site-packages\\sklearn\\utils\\validation.py:1143: DataConversionWarning: A column-vector y was passed when a 1d array was expected. Please change the shape of y to (n_samples, ), for example using ravel().\n",
      "  y = column_or_1d(y, warn=True)\n"
     ]
    },
    {
     "name": "stdout",
     "output_type": "stream",
     "text": [
      "Fitting 10 folds for each of 32 candidates, totalling 320 fits\n"
     ]
    },
    {
     "name": "stderr",
     "output_type": "stream",
     "text": [
      "C:\\Users\\hazel\\anaconda3\\Lib\\site-packages\\sklearn\\utils\\validation.py:1143: DataConversionWarning: A column-vector y was passed when a 1d array was expected. Please change the shape of y to (n_samples, ), for example using ravel().\n",
      "  y = column_or_1d(y, warn=True)\n"
     ]
    },
    {
     "name": "stdout",
     "output_type": "stream",
     "text": [
      "Fitting 10 folds for each of 32 candidates, totalling 320 fits\n"
     ]
    },
    {
     "name": "stderr",
     "output_type": "stream",
     "text": [
      "C:\\Users\\hazel\\anaconda3\\Lib\\site-packages\\sklearn\\utils\\validation.py:1143: DataConversionWarning: A column-vector y was passed when a 1d array was expected. Please change the shape of y to (n_samples, ), for example using ravel().\n",
      "  y = column_or_1d(y, warn=True)\n"
     ]
    },
    {
     "name": "stdout",
     "output_type": "stream",
     "text": [
      "Fitting 10 folds for each of 32 candidates, totalling 320 fits\n"
     ]
    },
    {
     "name": "stderr",
     "output_type": "stream",
     "text": [
      "C:\\Users\\hazel\\anaconda3\\Lib\\site-packages\\sklearn\\utils\\validation.py:1143: DataConversionWarning: A column-vector y was passed when a 1d array was expected. Please change the shape of y to (n_samples, ), for example using ravel().\n",
      "  y = column_or_1d(y, warn=True)\n"
     ]
    },
    {
     "name": "stdout",
     "output_type": "stream",
     "text": [
      "Fitting 10 folds for each of 32 candidates, totalling 320 fits\n"
     ]
    },
    {
     "name": "stderr",
     "output_type": "stream",
     "text": [
      "C:\\Users\\hazel\\anaconda3\\Lib\\site-packages\\sklearn\\utils\\validation.py:1143: DataConversionWarning: A column-vector y was passed when a 1d array was expected. Please change the shape of y to (n_samples, ), for example using ravel().\n",
      "  y = column_or_1d(y, warn=True)\n"
     ]
    },
    {
     "name": "stdout",
     "output_type": "stream",
     "text": [
      "Fitting 10 folds for each of 32 candidates, totalling 320 fits\n"
     ]
    },
    {
     "name": "stderr",
     "output_type": "stream",
     "text": [
      "C:\\Users\\hazel\\anaconda3\\Lib\\site-packages\\sklearn\\utils\\validation.py:1143: DataConversionWarning: A column-vector y was passed when a 1d array was expected. Please change the shape of y to (n_samples, ), for example using ravel().\n",
      "  y = column_or_1d(y, warn=True)\n"
     ]
    },
    {
     "name": "stdout",
     "output_type": "stream",
     "text": [
      "Fitting 10 folds for each of 32 candidates, totalling 320 fits\n"
     ]
    },
    {
     "name": "stderr",
     "output_type": "stream",
     "text": [
      "C:\\Users\\hazel\\anaconda3\\Lib\\site-packages\\sklearn\\utils\\validation.py:1143: DataConversionWarning: A column-vector y was passed when a 1d array was expected. Please change the shape of y to (n_samples, ), for example using ravel().\n",
      "  y = column_or_1d(y, warn=True)\n"
     ]
    },
    {
     "data": {
      "text/html": [
       "<div>\n",
       "<style scoped>\n",
       "    .dataframe tbody tr th:only-of-type {\n",
       "        vertical-align: middle;\n",
       "    }\n",
       "\n",
       "    .dataframe tbody tr th {\n",
       "        vertical-align: top;\n",
       "    }\n",
       "\n",
       "    .dataframe thead th {\n",
       "        text-align: right;\n",
       "    }\n",
       "</style>\n",
       "<table border=\"1\" class=\"dataframe\">\n",
       "  <thead>\n",
       "    <tr style=\"text-align: right;\">\n",
       "      <th></th>\n",
       "      <th>Test Size</th>\n",
       "      <th>Random State</th>\n",
       "      <th>Accuracy</th>\n",
       "      <th>Precision</th>\n",
       "      <th>Recall</th>\n",
       "      <th>F1 Score</th>\n",
       "      <th>Best Param</th>\n",
       "    </tr>\n",
       "  </thead>\n",
       "  <tbody>\n",
       "    <tr>\n",
       "      <th>0</th>\n",
       "      <td>0.5</td>\n",
       "      <td>7</td>\n",
       "      <td>0.923622</td>\n",
       "      <td>0.924123</td>\n",
       "      <td>0.923622</td>\n",
       "      <td>0.923569</td>\n",
       "      <td>{'C': 100, 'gamma': 0.01, 'kernel': 'rbf'}</td>\n",
       "    </tr>\n",
       "    <tr>\n",
       "      <th>1</th>\n",
       "      <td>0.5</td>\n",
       "      <td>69</td>\n",
       "      <td>0.915748</td>\n",
       "      <td>0.917784</td>\n",
       "      <td>0.915748</td>\n",
       "      <td>0.915714</td>\n",
       "      <td>{'C': 100, 'gamma': 0.001, 'kernel': 'rbf'}</td>\n",
       "    </tr>\n",
       "    <tr>\n",
       "      <th>2</th>\n",
       "      <td>0.5</td>\n",
       "      <td>101</td>\n",
       "      <td>0.923622</td>\n",
       "      <td>0.924470</td>\n",
       "      <td>0.923622</td>\n",
       "      <td>0.923628</td>\n",
       "      <td>{'C': 100, 'gamma': 0.01, 'kernel': 'rbf'}</td>\n",
       "    </tr>\n",
       "    <tr>\n",
       "      <th>3</th>\n",
       "      <td>0.4</td>\n",
       "      <td>7</td>\n",
       "      <td>0.922244</td>\n",
       "      <td>0.922299</td>\n",
       "      <td>0.922244</td>\n",
       "      <td>0.922228</td>\n",
       "      <td>{'C': 100, 'gamma': 0.01, 'kernel': 'rbf'}</td>\n",
       "    </tr>\n",
       "    <tr>\n",
       "      <th>4</th>\n",
       "      <td>0.4</td>\n",
       "      <td>69</td>\n",
       "      <td>0.929134</td>\n",
       "      <td>0.930707</td>\n",
       "      <td>0.929134</td>\n",
       "      <td>0.929109</td>\n",
       "      <td>{'C': 100, 'gamma': 0.01, 'kernel': 'rbf'}</td>\n",
       "    </tr>\n",
       "    <tr>\n",
       "      <th>5</th>\n",
       "      <td>0.4</td>\n",
       "      <td>101</td>\n",
       "      <td>0.934055</td>\n",
       "      <td>0.934598</td>\n",
       "      <td>0.934055</td>\n",
       "      <td>0.934065</td>\n",
       "      <td>{'C': 100, 'gamma': 0.01, 'kernel': 'rbf'}</td>\n",
       "    </tr>\n",
       "    <tr>\n",
       "      <th>6</th>\n",
       "      <td>0.3</td>\n",
       "      <td>7</td>\n",
       "      <td>0.916010</td>\n",
       "      <td>0.916084</td>\n",
       "      <td>0.916010</td>\n",
       "      <td>0.916022</td>\n",
       "      <td>{'C': 100, 'gamma': 0.01, 'kernel': 'rbf'}</td>\n",
       "    </tr>\n",
       "    <tr>\n",
       "      <th>7</th>\n",
       "      <td>0.3</td>\n",
       "      <td>69</td>\n",
       "      <td>0.944882</td>\n",
       "      <td>0.947783</td>\n",
       "      <td>0.944882</td>\n",
       "      <td>0.944865</td>\n",
       "      <td>{'C': 100, 'gamma': 0.01, 'kernel': 'rbf'}</td>\n",
       "    </tr>\n",
       "    <tr>\n",
       "      <th>8</th>\n",
       "      <td>0.3</td>\n",
       "      <td>101</td>\n",
       "      <td>0.931759</td>\n",
       "      <td>0.932595</td>\n",
       "      <td>0.931759</td>\n",
       "      <td>0.931766</td>\n",
       "      <td>{'C': 100, 'gamma': 0.01, 'kernel': 'rbf'}</td>\n",
       "    </tr>\n",
       "    <tr>\n",
       "      <th>9</th>\n",
       "      <td>0.2</td>\n",
       "      <td>7</td>\n",
       "      <td>0.944882</td>\n",
       "      <td>0.944882</td>\n",
       "      <td>0.944882</td>\n",
       "      <td>0.944882</td>\n",
       "      <td>{'C': 100, 'gamma': 0.01, 'kernel': 'rbf'}</td>\n",
       "    </tr>\n",
       "    <tr>\n",
       "      <th>10</th>\n",
       "      <td>0.2</td>\n",
       "      <td>69</td>\n",
       "      <td>0.960630</td>\n",
       "      <td>0.962528</td>\n",
       "      <td>0.960630</td>\n",
       "      <td>0.960625</td>\n",
       "      <td>{'C': 100, 'gamma': 0.01, 'kernel': 'rbf'}</td>\n",
       "    </tr>\n",
       "    <tr>\n",
       "      <th>11</th>\n",
       "      <td>0.2</td>\n",
       "      <td>101</td>\n",
       "      <td>0.948819</td>\n",
       "      <td>0.951246</td>\n",
       "      <td>0.948819</td>\n",
       "      <td>0.948840</td>\n",
       "      <td>{'C': 100, 'gamma': 0.01, 'kernel': 'rbf'}</td>\n",
       "    </tr>\n",
       "  </tbody>\n",
       "</table>\n",
       "</div>"
      ],
      "text/plain": [
       "    Test Size  Random State  Accuracy  Precision    Recall  F1 Score  \\\n",
       "0         0.5             7  0.923622   0.924123  0.923622  0.923569   \n",
       "1         0.5            69  0.915748   0.917784  0.915748  0.915714   \n",
       "2         0.5           101  0.923622   0.924470  0.923622  0.923628   \n",
       "3         0.4             7  0.922244   0.922299  0.922244  0.922228   \n",
       "4         0.4            69  0.929134   0.930707  0.929134  0.929109   \n",
       "5         0.4           101  0.934055   0.934598  0.934055  0.934065   \n",
       "6         0.3             7  0.916010   0.916084  0.916010  0.916022   \n",
       "7         0.3            69  0.944882   0.947783  0.944882  0.944865   \n",
       "8         0.3           101  0.931759   0.932595  0.931759  0.931766   \n",
       "9         0.2             7  0.944882   0.944882  0.944882  0.944882   \n",
       "10        0.2            69  0.960630   0.962528  0.960630  0.960625   \n",
       "11        0.2           101  0.948819   0.951246  0.948819  0.948840   \n",
       "\n",
       "                                     Best Param  \n",
       "0    {'C': 100, 'gamma': 0.01, 'kernel': 'rbf'}  \n",
       "1   {'C': 100, 'gamma': 0.001, 'kernel': 'rbf'}  \n",
       "2    {'C': 100, 'gamma': 0.01, 'kernel': 'rbf'}  \n",
       "3    {'C': 100, 'gamma': 0.01, 'kernel': 'rbf'}  \n",
       "4    {'C': 100, 'gamma': 0.01, 'kernel': 'rbf'}  \n",
       "5    {'C': 100, 'gamma': 0.01, 'kernel': 'rbf'}  \n",
       "6    {'C': 100, 'gamma': 0.01, 'kernel': 'rbf'}  \n",
       "7    {'C': 100, 'gamma': 0.01, 'kernel': 'rbf'}  \n",
       "8    {'C': 100, 'gamma': 0.01, 'kernel': 'rbf'}  \n",
       "9    {'C': 100, 'gamma': 0.01, 'kernel': 'rbf'}  \n",
       "10   {'C': 100, 'gamma': 0.01, 'kernel': 'rbf'}  \n",
       "11   {'C': 100, 'gamma': 0.01, 'kernel': 'rbf'}  "
      ]
     },
     "execution_count": 26,
     "metadata": {},
     "output_type": "execute_result"
    }
   ],
   "source": [
    "tempB_SFB_SMOTE = []\n",
    "\n",
    "y = merge_B_SMOTE[['CGPA']]\n",
    "X = merge_B_SMOTE[['Family Size', \"Parent's Education Level.Father\", \"Parent's Education Level.Mother\", \n",
    "                     \"Father's Occupation\", \"Mother's Occupation\", 'Financial Difficulties', 'Financial Support']]\n",
    "\n",
    "for i in [0.5,0.4,0.3,0.2]:\n",
    "    for j in rand_states:\n",
    "        X_train, X_test, y_train, y_test = train_test_split(X, y, test_size=i, random_state=j)\n",
    "        param_grid = {'C': [0.1, 1, 10, 100],\n",
    "                      'gamma': [1, 0.1, 0.01, 0.001],\n",
    "                      'kernel': ['rbf','sigmoid']}\n",
    "\n",
    "        model = GridSearchCV(SVC(random_state=0), param_grid, refit=True, n_jobs=-1, cv=10, verbose=1)\n",
    "        model.fit(X_train, y_train)\n",
    "        pred = model.predict(X_test)\n",
    "        \n",
    "        acc = accuracy_score(y_test,pred)\n",
    "        pre = precision_score(y_test, pred, average='weighted')\n",
    "        recall = recall_score(y_test, pred, average='weighted')\n",
    "        f1 = f1_score(y_test, pred, average='weighted')\n",
    "        param = model.best_params_\n",
    "    \n",
    "        tempB_SFB_SMOTE.append([i,j,acc,pre,recall,f1,param])\n",
    "        \n",
    "dfB_SFB_SMOTE = pd.DataFrame(columns=['Test Size','Random State','Accuracy','Precision','Recall','F1 Score','Best Param'],data=tempB_SFB_SMOTE)\n",
    "dfB_SFB_SMOTE"
   ]
  },
  {
   "cell_type": "code",
   "execution_count": 27,
   "id": "0c991669-993e-4c54-b988-2ce080f5b352",
   "metadata": {},
   "outputs": [
    {
     "data": {
      "text/html": [
       "<div>\n",
       "<style scoped>\n",
       "    .dataframe tbody tr th:only-of-type {\n",
       "        vertical-align: middle;\n",
       "    }\n",
       "\n",
       "    .dataframe tbody tr th {\n",
       "        vertical-align: top;\n",
       "    }\n",
       "\n",
       "    .dataframe thead th {\n",
       "        text-align: right;\n",
       "    }\n",
       "</style>\n",
       "<table border=\"1\" class=\"dataframe\">\n",
       "  <thead>\n",
       "    <tr style=\"text-align: right;\">\n",
       "      <th></th>\n",
       "      <th>Accuracy</th>\n",
       "      <th>Precision</th>\n",
       "      <th>Recall</th>\n",
       "      <th>F1 Score</th>\n",
       "    </tr>\n",
       "    <tr>\n",
       "      <th>Test Size</th>\n",
       "      <th></th>\n",
       "      <th></th>\n",
       "      <th></th>\n",
       "      <th></th>\n",
       "    </tr>\n",
       "  </thead>\n",
       "  <tbody>\n",
       "    <tr>\n",
       "      <th>0.2</th>\n",
       "      <td>0.951444</td>\n",
       "      <td>0.952885</td>\n",
       "      <td>0.951444</td>\n",
       "      <td>0.951449</td>\n",
       "    </tr>\n",
       "    <tr>\n",
       "      <th>0.3</th>\n",
       "      <td>0.930884</td>\n",
       "      <td>0.932154</td>\n",
       "      <td>0.930884</td>\n",
       "      <td>0.930884</td>\n",
       "    </tr>\n",
       "    <tr>\n",
       "      <th>0.4</th>\n",
       "      <td>0.928478</td>\n",
       "      <td>0.929201</td>\n",
       "      <td>0.928478</td>\n",
       "      <td>0.928467</td>\n",
       "    </tr>\n",
       "    <tr>\n",
       "      <th>0.5</th>\n",
       "      <td>0.920997</td>\n",
       "      <td>0.922126</td>\n",
       "      <td>0.920997</td>\n",
       "      <td>0.920970</td>\n",
       "    </tr>\n",
       "  </tbody>\n",
       "</table>\n",
       "</div>"
      ],
      "text/plain": [
       "           Accuracy  Precision    Recall  F1 Score\n",
       "Test Size                                         \n",
       "0.2        0.951444   0.952885  0.951444  0.951449\n",
       "0.3        0.930884   0.932154  0.930884  0.930884\n",
       "0.4        0.928478   0.929201  0.928478  0.928467\n",
       "0.5        0.920997   0.922126  0.920997  0.920970"
      ]
     },
     "execution_count": 27,
     "metadata": {},
     "output_type": "execute_result"
    }
   ],
   "source": [
    "dfB_SFB_SMOTE.groupby('Test Size')[['Accuracy','Precision','Recall','F1 Score']].mean()"
   ]
  },
  {
   "cell_type": "markdown",
   "id": "11b965cc-6626-45c2-ad94-6cba67fb0026",
   "metadata": {},
   "source": [
    "## Student Lifestyle"
   ]
  },
  {
   "cell_type": "markdown",
   "id": "f11d0415-9c3c-4bf2-a888-f2407ddbfecf",
   "metadata": {},
   "source": [
    "### SL before Data Balancing"
   ]
  },
  {
   "cell_type": "code",
   "execution_count": 28,
   "id": "32f9c5cb-c46e-4d46-b5c7-a1614fe1ecd0",
   "metadata": {},
   "outputs": [
    {
     "name": "stdout",
     "output_type": "stream",
     "text": [
      "X: (1287, 15) y: (1287, 1)\n",
      "Fitting 10 folds for each of 32 candidates, totalling 320 fits\n"
     ]
    },
    {
     "name": "stderr",
     "output_type": "stream",
     "text": [
      "C:\\Users\\hazel\\anaconda3\\Lib\\site-packages\\sklearn\\model_selection\\_split.py:700: UserWarning: The least populated class in y has only 8 members, which is less than n_splits=10.\n",
      "  warnings.warn(\n",
      "C:\\Users\\hazel\\anaconda3\\Lib\\site-packages\\sklearn\\utils\\validation.py:1143: DataConversionWarning: A column-vector y was passed when a 1d array was expected. Please change the shape of y to (n_samples, ), for example using ravel().\n",
      "  y = column_or_1d(y, warn=True)\n",
      "C:\\Users\\hazel\\anaconda3\\Lib\\site-packages\\sklearn\\metrics\\_classification.py:1344: UndefinedMetricWarning: Precision is ill-defined and being set to 0.0 in labels with no predicted samples. Use `zero_division` parameter to control this behavior.\n",
      "  _warn_prf(average, modifier, msg_start, len(result))\n",
      "C:\\Users\\hazel\\anaconda3\\Lib\\site-packages\\sklearn\\model_selection\\_split.py:700: UserWarning: The least populated class in y has only 8 members, which is less than n_splits=10.\n",
      "  warnings.warn(\n"
     ]
    },
    {
     "name": "stdout",
     "output_type": "stream",
     "text": [
      "Fitting 10 folds for each of 32 candidates, totalling 320 fits\n"
     ]
    },
    {
     "name": "stderr",
     "output_type": "stream",
     "text": [
      "C:\\Users\\hazel\\anaconda3\\Lib\\site-packages\\sklearn\\utils\\validation.py:1143: DataConversionWarning: A column-vector y was passed when a 1d array was expected. Please change the shape of y to (n_samples, ), for example using ravel().\n",
      "  y = column_or_1d(y, warn=True)\n",
      "C:\\Users\\hazel\\anaconda3\\Lib\\site-packages\\sklearn\\model_selection\\_split.py:700: UserWarning: The least populated class in y has only 8 members, which is less than n_splits=10.\n",
      "  warnings.warn(\n"
     ]
    },
    {
     "name": "stdout",
     "output_type": "stream",
     "text": [
      "Fitting 10 folds for each of 32 candidates, totalling 320 fits\n"
     ]
    },
    {
     "name": "stderr",
     "output_type": "stream",
     "text": [
      "C:\\Users\\hazel\\anaconda3\\Lib\\site-packages\\sklearn\\utils\\validation.py:1143: DataConversionWarning: A column-vector y was passed when a 1d array was expected. Please change the shape of y to (n_samples, ), for example using ravel().\n",
      "  y = column_or_1d(y, warn=True)\n",
      "C:\\Users\\hazel\\anaconda3\\Lib\\site-packages\\sklearn\\metrics\\_classification.py:1344: UndefinedMetricWarning: Precision is ill-defined and being set to 0.0 in labels with no predicted samples. Use `zero_division` parameter to control this behavior.\n",
      "  _warn_prf(average, modifier, msg_start, len(result))\n"
     ]
    },
    {
     "name": "stdout",
     "output_type": "stream",
     "text": [
      "Fitting 10 folds for each of 32 candidates, totalling 320 fits\n"
     ]
    },
    {
     "name": "stderr",
     "output_type": "stream",
     "text": [
      "C:\\Users\\hazel\\anaconda3\\Lib\\site-packages\\sklearn\\utils\\validation.py:1143: DataConversionWarning: A column-vector y was passed when a 1d array was expected. Please change the shape of y to (n_samples, ), for example using ravel().\n",
      "  y = column_or_1d(y, warn=True)\n",
      "C:\\Users\\hazel\\anaconda3\\Lib\\site-packages\\sklearn\\metrics\\_classification.py:1344: UndefinedMetricWarning: Precision is ill-defined and being set to 0.0 in labels with no predicted samples. Use `zero_division` parameter to control this behavior.\n",
      "  _warn_prf(average, modifier, msg_start, len(result))\n",
      "C:\\Users\\hazel\\anaconda3\\Lib\\site-packages\\sklearn\\model_selection\\_split.py:700: UserWarning: The least populated class in y has only 9 members, which is less than n_splits=10.\n",
      "  warnings.warn(\n"
     ]
    },
    {
     "name": "stdout",
     "output_type": "stream",
     "text": [
      "Fitting 10 folds for each of 32 candidates, totalling 320 fits\n"
     ]
    },
    {
     "name": "stderr",
     "output_type": "stream",
     "text": [
      "C:\\Users\\hazel\\anaconda3\\Lib\\site-packages\\sklearn\\utils\\validation.py:1143: DataConversionWarning: A column-vector y was passed when a 1d array was expected. Please change the shape of y to (n_samples, ), for example using ravel().\n",
      "  y = column_or_1d(y, warn=True)\n"
     ]
    },
    {
     "name": "stdout",
     "output_type": "stream",
     "text": [
      "Fitting 10 folds for each of 32 candidates, totalling 320 fits\n"
     ]
    },
    {
     "name": "stderr",
     "output_type": "stream",
     "text": [
      "C:\\Users\\hazel\\anaconda3\\Lib\\site-packages\\sklearn\\utils\\validation.py:1143: DataConversionWarning: A column-vector y was passed when a 1d array was expected. Please change the shape of y to (n_samples, ), for example using ravel().\n",
      "  y = column_or_1d(y, warn=True)\n",
      "C:\\Users\\hazel\\anaconda3\\Lib\\site-packages\\sklearn\\metrics\\_classification.py:1344: UndefinedMetricWarning: Precision is ill-defined and being set to 0.0 in labels with no predicted samples. Use `zero_division` parameter to control this behavior.\n",
      "  _warn_prf(average, modifier, msg_start, len(result))\n"
     ]
    },
    {
     "name": "stdout",
     "output_type": "stream",
     "text": [
      "Fitting 10 folds for each of 32 candidates, totalling 320 fits\n"
     ]
    },
    {
     "name": "stderr",
     "output_type": "stream",
     "text": [
      "C:\\Users\\hazel\\anaconda3\\Lib\\site-packages\\sklearn\\utils\\validation.py:1143: DataConversionWarning: A column-vector y was passed when a 1d array was expected. Please change the shape of y to (n_samples, ), for example using ravel().\n",
      "  y = column_or_1d(y, warn=True)\n",
      "C:\\Users\\hazel\\anaconda3\\Lib\\site-packages\\sklearn\\metrics\\_classification.py:1344: UndefinedMetricWarning: Precision is ill-defined and being set to 0.0 in labels with no predicted samples. Use `zero_division` parameter to control this behavior.\n",
      "  _warn_prf(average, modifier, msg_start, len(result))\n"
     ]
    },
    {
     "name": "stdout",
     "output_type": "stream",
     "text": [
      "Fitting 10 folds for each of 32 candidates, totalling 320 fits\n"
     ]
    },
    {
     "name": "stderr",
     "output_type": "stream",
     "text": [
      "C:\\Users\\hazel\\anaconda3\\Lib\\site-packages\\sklearn\\utils\\validation.py:1143: DataConversionWarning: A column-vector y was passed when a 1d array was expected. Please change the shape of y to (n_samples, ), for example using ravel().\n",
      "  y = column_or_1d(y, warn=True)\n",
      "C:\\Users\\hazel\\anaconda3\\Lib\\site-packages\\sklearn\\metrics\\_classification.py:1344: UndefinedMetricWarning: Precision is ill-defined and being set to 0.0 in labels with no predicted samples. Use `zero_division` parameter to control this behavior.\n",
      "  _warn_prf(average, modifier, msg_start, len(result))\n"
     ]
    },
    {
     "name": "stdout",
     "output_type": "stream",
     "text": [
      "Fitting 10 folds for each of 32 candidates, totalling 320 fits\n"
     ]
    },
    {
     "name": "stderr",
     "output_type": "stream",
     "text": [
      "C:\\Users\\hazel\\anaconda3\\Lib\\site-packages\\sklearn\\utils\\validation.py:1143: DataConversionWarning: A column-vector y was passed when a 1d array was expected. Please change the shape of y to (n_samples, ), for example using ravel().\n",
      "  y = column_or_1d(y, warn=True)\n",
      "C:\\Users\\hazel\\anaconda3\\Lib\\site-packages\\sklearn\\metrics\\_classification.py:1344: UndefinedMetricWarning: Precision is ill-defined and being set to 0.0 in labels with no predicted samples. Use `zero_division` parameter to control this behavior.\n",
      "  _warn_prf(average, modifier, msg_start, len(result))\n"
     ]
    },
    {
     "name": "stdout",
     "output_type": "stream",
     "text": [
      "Fitting 10 folds for each of 32 candidates, totalling 320 fits\n"
     ]
    },
    {
     "name": "stderr",
     "output_type": "stream",
     "text": [
      "C:\\Users\\hazel\\anaconda3\\Lib\\site-packages\\sklearn\\utils\\validation.py:1143: DataConversionWarning: A column-vector y was passed when a 1d array was expected. Please change the shape of y to (n_samples, ), for example using ravel().\n",
      "  y = column_or_1d(y, warn=True)\n",
      "C:\\Users\\hazel\\anaconda3\\Lib\\site-packages\\sklearn\\metrics\\_classification.py:1344: UndefinedMetricWarning: Precision is ill-defined and being set to 0.0 in labels with no predicted samples. Use `zero_division` parameter to control this behavior.\n",
      "  _warn_prf(average, modifier, msg_start, len(result))\n"
     ]
    },
    {
     "name": "stdout",
     "output_type": "stream",
     "text": [
      "Fitting 10 folds for each of 32 candidates, totalling 320 fits\n"
     ]
    },
    {
     "name": "stderr",
     "output_type": "stream",
     "text": [
      "C:\\Users\\hazel\\anaconda3\\Lib\\site-packages\\sklearn\\utils\\validation.py:1143: DataConversionWarning: A column-vector y was passed when a 1d array was expected. Please change the shape of y to (n_samples, ), for example using ravel().\n",
      "  y = column_or_1d(y, warn=True)\n",
      "C:\\Users\\hazel\\anaconda3\\Lib\\site-packages\\sklearn\\metrics\\_classification.py:1344: UndefinedMetricWarning: Precision is ill-defined and being set to 0.0 in labels with no predicted samples. Use `zero_division` parameter to control this behavior.\n",
      "  _warn_prf(average, modifier, msg_start, len(result))\n"
     ]
    },
    {
     "name": "stdout",
     "output_type": "stream",
     "text": [
      "Fitting 10 folds for each of 32 candidates, totalling 320 fits\n"
     ]
    },
    {
     "name": "stderr",
     "output_type": "stream",
     "text": [
      "C:\\Users\\hazel\\anaconda3\\Lib\\site-packages\\sklearn\\utils\\validation.py:1143: DataConversionWarning: A column-vector y was passed when a 1d array was expected. Please change the shape of y to (n_samples, ), for example using ravel().\n",
      "  y = column_or_1d(y, warn=True)\n",
      "C:\\Users\\hazel\\anaconda3\\Lib\\site-packages\\sklearn\\metrics\\_classification.py:1344: UndefinedMetricWarning: Precision is ill-defined and being set to 0.0 in labels with no predicted samples. Use `zero_division` parameter to control this behavior.\n",
      "  _warn_prf(average, modifier, msg_start, len(result))\n"
     ]
    },
    {
     "data": {
      "text/html": [
       "<div>\n",
       "<style scoped>\n",
       "    .dataframe tbody tr th:only-of-type {\n",
       "        vertical-align: middle;\n",
       "    }\n",
       "\n",
       "    .dataframe tbody tr th {\n",
       "        vertical-align: top;\n",
       "    }\n",
       "\n",
       "    .dataframe thead th {\n",
       "        text-align: right;\n",
       "    }\n",
       "</style>\n",
       "<table border=\"1\" class=\"dataframe\">\n",
       "  <thead>\n",
       "    <tr style=\"text-align: right;\">\n",
       "      <th></th>\n",
       "      <th>Test Size</th>\n",
       "      <th>Random State</th>\n",
       "      <th>Accuracy</th>\n",
       "      <th>Precision</th>\n",
       "      <th>Recall</th>\n",
       "      <th>F1 Score</th>\n",
       "      <th>Best Param</th>\n",
       "    </tr>\n",
       "  </thead>\n",
       "  <tbody>\n",
       "    <tr>\n",
       "      <th>0</th>\n",
       "      <td>0.5</td>\n",
       "      <td>7</td>\n",
       "      <td>0.986025</td>\n",
       "      <td>0.972245</td>\n",
       "      <td>0.986025</td>\n",
       "      <td>0.979086</td>\n",
       "      <td>{'C': 0.1, 'gamma': 1, 'kernel': 'rbf'}</td>\n",
       "    </tr>\n",
       "    <tr>\n",
       "      <th>1</th>\n",
       "      <td>0.5</td>\n",
       "      <td>69</td>\n",
       "      <td>0.979814</td>\n",
       "      <td>0.972159</td>\n",
       "      <td>0.979814</td>\n",
       "      <td>0.975971</td>\n",
       "      <td>{'C': 1, 'gamma': 1, 'kernel': 'sigmoid'}</td>\n",
       "    </tr>\n",
       "    <tr>\n",
       "      <th>2</th>\n",
       "      <td>0.5</td>\n",
       "      <td>101</td>\n",
       "      <td>0.986025</td>\n",
       "      <td>0.972245</td>\n",
       "      <td>0.986025</td>\n",
       "      <td>0.979086</td>\n",
       "      <td>{'C': 0.1, 'gamma': 1, 'kernel': 'rbf'}</td>\n",
       "    </tr>\n",
       "    <tr>\n",
       "      <th>3</th>\n",
       "      <td>0.4</td>\n",
       "      <td>7</td>\n",
       "      <td>0.988350</td>\n",
       "      <td>0.976835</td>\n",
       "      <td>0.988350</td>\n",
       "      <td>0.982558</td>\n",
       "      <td>{'C': 0.1, 'gamma': 1, 'kernel': 'rbf'}</td>\n",
       "    </tr>\n",
       "    <tr>\n",
       "      <th>4</th>\n",
       "      <td>0.4</td>\n",
       "      <td>69</td>\n",
       "      <td>0.978641</td>\n",
       "      <td>0.969084</td>\n",
       "      <td>0.978641</td>\n",
       "      <td>0.973839</td>\n",
       "      <td>{'C': 1, 'gamma': 1, 'kernel': 'sigmoid'}</td>\n",
       "    </tr>\n",
       "    <tr>\n",
       "      <th>5</th>\n",
       "      <td>0.4</td>\n",
       "      <td>101</td>\n",
       "      <td>0.986408</td>\n",
       "      <td>0.973000</td>\n",
       "      <td>0.986408</td>\n",
       "      <td>0.979658</td>\n",
       "      <td>{'C': 0.1, 'gamma': 1, 'kernel': 'rbf'}</td>\n",
       "    </tr>\n",
       "    <tr>\n",
       "      <th>6</th>\n",
       "      <td>0.3</td>\n",
       "      <td>7</td>\n",
       "      <td>0.989664</td>\n",
       "      <td>0.979435</td>\n",
       "      <td>0.989664</td>\n",
       "      <td>0.984523</td>\n",
       "      <td>{'C': 0.1, 'gamma': 1, 'kernel': 'rbf'}</td>\n",
       "    </tr>\n",
       "    <tr>\n",
       "      <th>7</th>\n",
       "      <td>0.3</td>\n",
       "      <td>69</td>\n",
       "      <td>0.987080</td>\n",
       "      <td>0.974327</td>\n",
       "      <td>0.987080</td>\n",
       "      <td>0.980662</td>\n",
       "      <td>{'C': 0.1, 'gamma': 1, 'kernel': 'rbf'}</td>\n",
       "    </tr>\n",
       "    <tr>\n",
       "      <th>8</th>\n",
       "      <td>0.3</td>\n",
       "      <td>101</td>\n",
       "      <td>0.987080</td>\n",
       "      <td>0.974327</td>\n",
       "      <td>0.987080</td>\n",
       "      <td>0.980662</td>\n",
       "      <td>{'C': 0.1, 'gamma': 1, 'kernel': 'rbf'}</td>\n",
       "    </tr>\n",
       "    <tr>\n",
       "      <th>9</th>\n",
       "      <td>0.2</td>\n",
       "      <td>7</td>\n",
       "      <td>0.992248</td>\n",
       "      <td>0.984556</td>\n",
       "      <td>0.992248</td>\n",
       "      <td>0.988387</td>\n",
       "      <td>{'C': 0.1, 'gamma': 1, 'kernel': 'rbf'}</td>\n",
       "    </tr>\n",
       "    <tr>\n",
       "      <th>10</th>\n",
       "      <td>0.2</td>\n",
       "      <td>69</td>\n",
       "      <td>0.984496</td>\n",
       "      <td>0.969233</td>\n",
       "      <td>0.984496</td>\n",
       "      <td>0.976805</td>\n",
       "      <td>{'C': 0.1, 'gamma': 1, 'kernel': 'rbf'}</td>\n",
       "    </tr>\n",
       "    <tr>\n",
       "      <th>11</th>\n",
       "      <td>0.2</td>\n",
       "      <td>101</td>\n",
       "      <td>0.984496</td>\n",
       "      <td>0.969233</td>\n",
       "      <td>0.984496</td>\n",
       "      <td>0.976805</td>\n",
       "      <td>{'C': 0.1, 'gamma': 1, 'kernel': 'rbf'}</td>\n",
       "    </tr>\n",
       "  </tbody>\n",
       "</table>\n",
       "</div>"
      ],
      "text/plain": [
       "    Test Size  Random State  Accuracy  Precision    Recall  F1 Score  \\\n",
       "0         0.5             7  0.986025   0.972245  0.986025  0.979086   \n",
       "1         0.5            69  0.979814   0.972159  0.979814  0.975971   \n",
       "2         0.5           101  0.986025   0.972245  0.986025  0.979086   \n",
       "3         0.4             7  0.988350   0.976835  0.988350  0.982558   \n",
       "4         0.4            69  0.978641   0.969084  0.978641  0.973839   \n",
       "5         0.4           101  0.986408   0.973000  0.986408  0.979658   \n",
       "6         0.3             7  0.989664   0.979435  0.989664  0.984523   \n",
       "7         0.3            69  0.987080   0.974327  0.987080  0.980662   \n",
       "8         0.3           101  0.987080   0.974327  0.987080  0.980662   \n",
       "9         0.2             7  0.992248   0.984556  0.992248  0.988387   \n",
       "10        0.2            69  0.984496   0.969233  0.984496  0.976805   \n",
       "11        0.2           101  0.984496   0.969233  0.984496  0.976805   \n",
       "\n",
       "                                   Best Param  \n",
       "0     {'C': 0.1, 'gamma': 1, 'kernel': 'rbf'}  \n",
       "1   {'C': 1, 'gamma': 1, 'kernel': 'sigmoid'}  \n",
       "2     {'C': 0.1, 'gamma': 1, 'kernel': 'rbf'}  \n",
       "3     {'C': 0.1, 'gamma': 1, 'kernel': 'rbf'}  \n",
       "4   {'C': 1, 'gamma': 1, 'kernel': 'sigmoid'}  \n",
       "5     {'C': 0.1, 'gamma': 1, 'kernel': 'rbf'}  \n",
       "6     {'C': 0.1, 'gamma': 1, 'kernel': 'rbf'}  \n",
       "7     {'C': 0.1, 'gamma': 1, 'kernel': 'rbf'}  \n",
       "8     {'C': 0.1, 'gamma': 1, 'kernel': 'rbf'}  \n",
       "9     {'C': 0.1, 'gamma': 1, 'kernel': 'rbf'}  \n",
       "10    {'C': 0.1, 'gamma': 1, 'kernel': 'rbf'}  \n",
       "11    {'C': 0.1, 'gamma': 1, 'kernel': 'rbf'}  "
      ]
     },
     "execution_count": 28,
     "metadata": {},
     "output_type": "execute_result"
    }
   ],
   "source": [
    "tempB_SL_imb = []\n",
    "\n",
    "y = merge_B_imb[['CGPA']]\n",
    "X = merge_B_imb[['Relationship Status', 'Scholarship', 'PTPTN', 'Skipping Class', 'Additional Course',\n",
    "                    'Study Behavior', 'Study Time', 'Extra Curricular Activities', 'Part-time Job', 'Commute Time',\n",
    "                    'Gaming', 'Alcohol Consumption', 'I have enough free time after class', 'Social Interaction',\n",
    "                    'I hang out with friends']]\n",
    "\n",
    "print(\"X:\", X.shape,\"y:\", y.shape)\n",
    "\n",
    "for i in [0.5,0.4,0.3,0.2]:\n",
    "    for j in rand_states:\n",
    "        X_train, X_test, y_train, y_test = train_test_split(X, y, test_size=i, random_state=j)\n",
    "        param_grid = {'C': [0.1, 1, 10, 100],\n",
    "                      'gamma': [1, 0.1, 0.01, 0.001],\n",
    "                      'kernel': ['rbf','sigmoid']}\n",
    "\n",
    "        model = GridSearchCV(SVC(random_state=0), param_grid, refit=True, n_jobs=-1, cv=10, verbose=1)\n",
    "        model.fit(X_train, y_train)\n",
    "        pred = model.predict(X_test)\n",
    "        \n",
    "        acc = accuracy_score(y_test,pred)\n",
    "        pre = precision_score(y_test, pred, average='weighted')\n",
    "        recall = recall_score(y_test, pred, average='weighted')\n",
    "        f1 = f1_score(y_test, pred, average='weighted')\n",
    "        param = model.best_params_\n",
    "    \n",
    "        tempB_SL_imb.append([i,j,acc,pre,recall,f1,param])\n",
    "        \n",
    "dfB_SL_imb = pd.DataFrame(columns=['Test Size','Random State','Accuracy','Precision','Recall','F1 Score','Best Param'],data=tempB_SL_imb)\n",
    "dfB_SL_imb"
   ]
  },
  {
   "cell_type": "code",
   "execution_count": 29,
   "id": "df5e691c-65bf-4b38-9456-5604ab57a004",
   "metadata": {},
   "outputs": [
    {
     "data": {
      "text/html": [
       "<div>\n",
       "<style scoped>\n",
       "    .dataframe tbody tr th:only-of-type {\n",
       "        vertical-align: middle;\n",
       "    }\n",
       "\n",
       "    .dataframe tbody tr th {\n",
       "        vertical-align: top;\n",
       "    }\n",
       "\n",
       "    .dataframe thead th {\n",
       "        text-align: right;\n",
       "    }\n",
       "</style>\n",
       "<table border=\"1\" class=\"dataframe\">\n",
       "  <thead>\n",
       "    <tr style=\"text-align: right;\">\n",
       "      <th></th>\n",
       "      <th>Accuracy</th>\n",
       "      <th>Precision</th>\n",
       "      <th>Recall</th>\n",
       "      <th>F1 Score</th>\n",
       "    </tr>\n",
       "    <tr>\n",
       "      <th>Test Size</th>\n",
       "      <th></th>\n",
       "      <th></th>\n",
       "      <th></th>\n",
       "      <th></th>\n",
       "    </tr>\n",
       "  </thead>\n",
       "  <tbody>\n",
       "    <tr>\n",
       "      <th>0.2</th>\n",
       "      <td>0.987080</td>\n",
       "      <td>0.974340</td>\n",
       "      <td>0.987080</td>\n",
       "      <td>0.980666</td>\n",
       "    </tr>\n",
       "    <tr>\n",
       "      <th>0.3</th>\n",
       "      <td>0.987941</td>\n",
       "      <td>0.976030</td>\n",
       "      <td>0.987941</td>\n",
       "      <td>0.981949</td>\n",
       "    </tr>\n",
       "    <tr>\n",
       "      <th>0.4</th>\n",
       "      <td>0.984466</td>\n",
       "      <td>0.972973</td>\n",
       "      <td>0.984466</td>\n",
       "      <td>0.978685</td>\n",
       "    </tr>\n",
       "    <tr>\n",
       "      <th>0.5</th>\n",
       "      <td>0.983954</td>\n",
       "      <td>0.972216</td>\n",
       "      <td>0.983954</td>\n",
       "      <td>0.978048</td>\n",
       "    </tr>\n",
       "  </tbody>\n",
       "</table>\n",
       "</div>"
      ],
      "text/plain": [
       "           Accuracy  Precision    Recall  F1 Score\n",
       "Test Size                                         \n",
       "0.2        0.987080   0.974340  0.987080  0.980666\n",
       "0.3        0.987941   0.976030  0.987941  0.981949\n",
       "0.4        0.984466   0.972973  0.984466  0.978685\n",
       "0.5        0.983954   0.972216  0.983954  0.978048"
      ]
     },
     "execution_count": 29,
     "metadata": {},
     "output_type": "execute_result"
    }
   ],
   "source": [
    "dfB_SL_imb.groupby('Test Size')[['Accuracy','Precision','Recall','F1 Score']].mean()"
   ]
  },
  {
   "cell_type": "markdown",
   "id": "b1ef9bbb-ccaf-471a-8ee2-96690c610f65",
   "metadata": {},
   "source": [
    "### SL after RandomOverSampler"
   ]
  },
  {
   "cell_type": "code",
   "execution_count": 30,
   "id": "e94d1eb8-7ec5-42ac-8682-dda289c2b2a0",
   "metadata": {},
   "outputs": [
    {
     "name": "stdout",
     "output_type": "stream",
     "text": [
      "Fitting 10 folds for each of 32 candidates, totalling 320 fits\n"
     ]
    },
    {
     "name": "stderr",
     "output_type": "stream",
     "text": [
      "C:\\Users\\hazel\\anaconda3\\Lib\\site-packages\\sklearn\\utils\\validation.py:1143: DataConversionWarning: A column-vector y was passed when a 1d array was expected. Please change the shape of y to (n_samples, ), for example using ravel().\n",
      "  y = column_or_1d(y, warn=True)\n"
     ]
    },
    {
     "name": "stdout",
     "output_type": "stream",
     "text": [
      "Fitting 10 folds for each of 32 candidates, totalling 320 fits\n"
     ]
    },
    {
     "name": "stderr",
     "output_type": "stream",
     "text": [
      "C:\\Users\\hazel\\anaconda3\\Lib\\site-packages\\sklearn\\utils\\validation.py:1143: DataConversionWarning: A column-vector y was passed when a 1d array was expected. Please change the shape of y to (n_samples, ), for example using ravel().\n",
      "  y = column_or_1d(y, warn=True)\n"
     ]
    },
    {
     "name": "stdout",
     "output_type": "stream",
     "text": [
      "Fitting 10 folds for each of 32 candidates, totalling 320 fits\n"
     ]
    },
    {
     "name": "stderr",
     "output_type": "stream",
     "text": [
      "C:\\Users\\hazel\\anaconda3\\Lib\\site-packages\\sklearn\\utils\\validation.py:1143: DataConversionWarning: A column-vector y was passed when a 1d array was expected. Please change the shape of y to (n_samples, ), for example using ravel().\n",
      "  y = column_or_1d(y, warn=True)\n"
     ]
    },
    {
     "name": "stdout",
     "output_type": "stream",
     "text": [
      "Fitting 10 folds for each of 32 candidates, totalling 320 fits\n"
     ]
    },
    {
     "name": "stderr",
     "output_type": "stream",
     "text": [
      "C:\\Users\\hazel\\anaconda3\\Lib\\site-packages\\sklearn\\utils\\validation.py:1143: DataConversionWarning: A column-vector y was passed when a 1d array was expected. Please change the shape of y to (n_samples, ), for example using ravel().\n",
      "  y = column_or_1d(y, warn=True)\n"
     ]
    },
    {
     "name": "stdout",
     "output_type": "stream",
     "text": [
      "Fitting 10 folds for each of 32 candidates, totalling 320 fits\n"
     ]
    },
    {
     "name": "stderr",
     "output_type": "stream",
     "text": [
      "C:\\Users\\hazel\\anaconda3\\Lib\\site-packages\\sklearn\\utils\\validation.py:1143: DataConversionWarning: A column-vector y was passed when a 1d array was expected. Please change the shape of y to (n_samples, ), for example using ravel().\n",
      "  y = column_or_1d(y, warn=True)\n"
     ]
    },
    {
     "name": "stdout",
     "output_type": "stream",
     "text": [
      "Fitting 10 folds for each of 32 candidates, totalling 320 fits\n"
     ]
    },
    {
     "name": "stderr",
     "output_type": "stream",
     "text": [
      "C:\\Users\\hazel\\anaconda3\\Lib\\site-packages\\sklearn\\utils\\validation.py:1143: DataConversionWarning: A column-vector y was passed when a 1d array was expected. Please change the shape of y to (n_samples, ), for example using ravel().\n",
      "  y = column_or_1d(y, warn=True)\n"
     ]
    },
    {
     "name": "stdout",
     "output_type": "stream",
     "text": [
      "Fitting 10 folds for each of 32 candidates, totalling 320 fits\n"
     ]
    },
    {
     "name": "stderr",
     "output_type": "stream",
     "text": [
      "C:\\Users\\hazel\\anaconda3\\Lib\\site-packages\\sklearn\\utils\\validation.py:1143: DataConversionWarning: A column-vector y was passed when a 1d array was expected. Please change the shape of y to (n_samples, ), for example using ravel().\n",
      "  y = column_or_1d(y, warn=True)\n"
     ]
    },
    {
     "name": "stdout",
     "output_type": "stream",
     "text": [
      "Fitting 10 folds for each of 32 candidates, totalling 320 fits\n"
     ]
    },
    {
     "name": "stderr",
     "output_type": "stream",
     "text": [
      "C:\\Users\\hazel\\anaconda3\\Lib\\site-packages\\sklearn\\utils\\validation.py:1143: DataConversionWarning: A column-vector y was passed when a 1d array was expected. Please change the shape of y to (n_samples, ), for example using ravel().\n",
      "  y = column_or_1d(y, warn=True)\n"
     ]
    },
    {
     "name": "stdout",
     "output_type": "stream",
     "text": [
      "Fitting 10 folds for each of 32 candidates, totalling 320 fits\n"
     ]
    },
    {
     "name": "stderr",
     "output_type": "stream",
     "text": [
      "C:\\Users\\hazel\\anaconda3\\Lib\\site-packages\\sklearn\\utils\\validation.py:1143: DataConversionWarning: A column-vector y was passed when a 1d array was expected. Please change the shape of y to (n_samples, ), for example using ravel().\n",
      "  y = column_or_1d(y, warn=True)\n"
     ]
    },
    {
     "name": "stdout",
     "output_type": "stream",
     "text": [
      "Fitting 10 folds for each of 32 candidates, totalling 320 fits\n"
     ]
    },
    {
     "name": "stderr",
     "output_type": "stream",
     "text": [
      "C:\\Users\\hazel\\anaconda3\\Lib\\site-packages\\sklearn\\utils\\validation.py:1143: DataConversionWarning: A column-vector y was passed when a 1d array was expected. Please change the shape of y to (n_samples, ), for example using ravel().\n",
      "  y = column_or_1d(y, warn=True)\n"
     ]
    },
    {
     "name": "stdout",
     "output_type": "stream",
     "text": [
      "Fitting 10 folds for each of 32 candidates, totalling 320 fits\n"
     ]
    },
    {
     "name": "stderr",
     "output_type": "stream",
     "text": [
      "C:\\Users\\hazel\\anaconda3\\Lib\\site-packages\\sklearn\\utils\\validation.py:1143: DataConversionWarning: A column-vector y was passed when a 1d array was expected. Please change the shape of y to (n_samples, ), for example using ravel().\n",
      "  y = column_or_1d(y, warn=True)\n"
     ]
    },
    {
     "name": "stdout",
     "output_type": "stream",
     "text": [
      "Fitting 10 folds for each of 32 candidates, totalling 320 fits\n"
     ]
    },
    {
     "name": "stderr",
     "output_type": "stream",
     "text": [
      "C:\\Users\\hazel\\anaconda3\\Lib\\site-packages\\sklearn\\utils\\validation.py:1143: DataConversionWarning: A column-vector y was passed when a 1d array was expected. Please change the shape of y to (n_samples, ), for example using ravel().\n",
      "  y = column_or_1d(y, warn=True)\n"
     ]
    },
    {
     "data": {
      "text/html": [
       "<div>\n",
       "<style scoped>\n",
       "    .dataframe tbody tr th:only-of-type {\n",
       "        vertical-align: middle;\n",
       "    }\n",
       "\n",
       "    .dataframe tbody tr th {\n",
       "        vertical-align: top;\n",
       "    }\n",
       "\n",
       "    .dataframe thead th {\n",
       "        text-align: right;\n",
       "    }\n",
       "</style>\n",
       "<table border=\"1\" class=\"dataframe\">\n",
       "  <thead>\n",
       "    <tr style=\"text-align: right;\">\n",
       "      <th></th>\n",
       "      <th>Test Size</th>\n",
       "      <th>Random State</th>\n",
       "      <th>Accuracy</th>\n",
       "      <th>Precision</th>\n",
       "      <th>Recall</th>\n",
       "      <th>F1 Score</th>\n",
       "      <th>Best Param</th>\n",
       "    </tr>\n",
       "  </thead>\n",
       "  <tbody>\n",
       "    <tr>\n",
       "      <th>0</th>\n",
       "      <td>0.5</td>\n",
       "      <td>7</td>\n",
       "      <td>1.0</td>\n",
       "      <td>1.0</td>\n",
       "      <td>1.0</td>\n",
       "      <td>1.0</td>\n",
       "      <td>{'C': 0.1, 'gamma': 1, 'kernel': 'rbf'}</td>\n",
       "    </tr>\n",
       "    <tr>\n",
       "      <th>1</th>\n",
       "      <td>0.5</td>\n",
       "      <td>69</td>\n",
       "      <td>1.0</td>\n",
       "      <td>1.0</td>\n",
       "      <td>1.0</td>\n",
       "      <td>1.0</td>\n",
       "      <td>{'C': 0.1, 'gamma': 1, 'kernel': 'rbf'}</td>\n",
       "    </tr>\n",
       "    <tr>\n",
       "      <th>2</th>\n",
       "      <td>0.5</td>\n",
       "      <td>101</td>\n",
       "      <td>1.0</td>\n",
       "      <td>1.0</td>\n",
       "      <td>1.0</td>\n",
       "      <td>1.0</td>\n",
       "      <td>{'C': 0.1, 'gamma': 1, 'kernel': 'rbf'}</td>\n",
       "    </tr>\n",
       "    <tr>\n",
       "      <th>3</th>\n",
       "      <td>0.4</td>\n",
       "      <td>7</td>\n",
       "      <td>1.0</td>\n",
       "      <td>1.0</td>\n",
       "      <td>1.0</td>\n",
       "      <td>1.0</td>\n",
       "      <td>{'C': 0.1, 'gamma': 1, 'kernel': 'rbf'}</td>\n",
       "    </tr>\n",
       "    <tr>\n",
       "      <th>4</th>\n",
       "      <td>0.4</td>\n",
       "      <td>69</td>\n",
       "      <td>1.0</td>\n",
       "      <td>1.0</td>\n",
       "      <td>1.0</td>\n",
       "      <td>1.0</td>\n",
       "      <td>{'C': 0.1, 'gamma': 1, 'kernel': 'rbf'}</td>\n",
       "    </tr>\n",
       "    <tr>\n",
       "      <th>5</th>\n",
       "      <td>0.4</td>\n",
       "      <td>101</td>\n",
       "      <td>1.0</td>\n",
       "      <td>1.0</td>\n",
       "      <td>1.0</td>\n",
       "      <td>1.0</td>\n",
       "      <td>{'C': 0.1, 'gamma': 1, 'kernel': 'rbf'}</td>\n",
       "    </tr>\n",
       "    <tr>\n",
       "      <th>6</th>\n",
       "      <td>0.3</td>\n",
       "      <td>7</td>\n",
       "      <td>1.0</td>\n",
       "      <td>1.0</td>\n",
       "      <td>1.0</td>\n",
       "      <td>1.0</td>\n",
       "      <td>{'C': 0.1, 'gamma': 1, 'kernel': 'rbf'}</td>\n",
       "    </tr>\n",
       "    <tr>\n",
       "      <th>7</th>\n",
       "      <td>0.3</td>\n",
       "      <td>69</td>\n",
       "      <td>1.0</td>\n",
       "      <td>1.0</td>\n",
       "      <td>1.0</td>\n",
       "      <td>1.0</td>\n",
       "      <td>{'C': 0.1, 'gamma': 1, 'kernel': 'rbf'}</td>\n",
       "    </tr>\n",
       "    <tr>\n",
       "      <th>8</th>\n",
       "      <td>0.3</td>\n",
       "      <td>101</td>\n",
       "      <td>1.0</td>\n",
       "      <td>1.0</td>\n",
       "      <td>1.0</td>\n",
       "      <td>1.0</td>\n",
       "      <td>{'C': 0.1, 'gamma': 1, 'kernel': 'rbf'}</td>\n",
       "    </tr>\n",
       "    <tr>\n",
       "      <th>9</th>\n",
       "      <td>0.2</td>\n",
       "      <td>7</td>\n",
       "      <td>1.0</td>\n",
       "      <td>1.0</td>\n",
       "      <td>1.0</td>\n",
       "      <td>1.0</td>\n",
       "      <td>{'C': 0.1, 'gamma': 1, 'kernel': 'rbf'}</td>\n",
       "    </tr>\n",
       "    <tr>\n",
       "      <th>10</th>\n",
       "      <td>0.2</td>\n",
       "      <td>69</td>\n",
       "      <td>1.0</td>\n",
       "      <td>1.0</td>\n",
       "      <td>1.0</td>\n",
       "      <td>1.0</td>\n",
       "      <td>{'C': 0.1, 'gamma': 1, 'kernel': 'rbf'}</td>\n",
       "    </tr>\n",
       "    <tr>\n",
       "      <th>11</th>\n",
       "      <td>0.2</td>\n",
       "      <td>101</td>\n",
       "      <td>1.0</td>\n",
       "      <td>1.0</td>\n",
       "      <td>1.0</td>\n",
       "      <td>1.0</td>\n",
       "      <td>{'C': 0.1, 'gamma': 1, 'kernel': 'rbf'}</td>\n",
       "    </tr>\n",
       "  </tbody>\n",
       "</table>\n",
       "</div>"
      ],
      "text/plain": [
       "    Test Size  Random State  Accuracy  Precision  Recall  F1 Score  \\\n",
       "0         0.5             7       1.0        1.0     1.0       1.0   \n",
       "1         0.5            69       1.0        1.0     1.0       1.0   \n",
       "2         0.5           101       1.0        1.0     1.0       1.0   \n",
       "3         0.4             7       1.0        1.0     1.0       1.0   \n",
       "4         0.4            69       1.0        1.0     1.0       1.0   \n",
       "5         0.4           101       1.0        1.0     1.0       1.0   \n",
       "6         0.3             7       1.0        1.0     1.0       1.0   \n",
       "7         0.3            69       1.0        1.0     1.0       1.0   \n",
       "8         0.3           101       1.0        1.0     1.0       1.0   \n",
       "9         0.2             7       1.0        1.0     1.0       1.0   \n",
       "10        0.2            69       1.0        1.0     1.0       1.0   \n",
       "11        0.2           101       1.0        1.0     1.0       1.0   \n",
       "\n",
       "                                 Best Param  \n",
       "0   {'C': 0.1, 'gamma': 1, 'kernel': 'rbf'}  \n",
       "1   {'C': 0.1, 'gamma': 1, 'kernel': 'rbf'}  \n",
       "2   {'C': 0.1, 'gamma': 1, 'kernel': 'rbf'}  \n",
       "3   {'C': 0.1, 'gamma': 1, 'kernel': 'rbf'}  \n",
       "4   {'C': 0.1, 'gamma': 1, 'kernel': 'rbf'}  \n",
       "5   {'C': 0.1, 'gamma': 1, 'kernel': 'rbf'}  \n",
       "6   {'C': 0.1, 'gamma': 1, 'kernel': 'rbf'}  \n",
       "7   {'C': 0.1, 'gamma': 1, 'kernel': 'rbf'}  \n",
       "8   {'C': 0.1, 'gamma': 1, 'kernel': 'rbf'}  \n",
       "9   {'C': 0.1, 'gamma': 1, 'kernel': 'rbf'}  \n",
       "10  {'C': 0.1, 'gamma': 1, 'kernel': 'rbf'}  \n",
       "11  {'C': 0.1, 'gamma': 1, 'kernel': 'rbf'}  "
      ]
     },
     "execution_count": 30,
     "metadata": {},
     "output_type": "execute_result"
    }
   ],
   "source": [
    "tempB_SL_ROS = []\n",
    "\n",
    "y = merge_B_ROS[['CGPA']]\n",
    "X = merge_B_ROS[['Relationship Status', 'Scholarship', 'PTPTN', 'Skipping Class', 'Additional Course',\n",
    "                    'Study Behavior', 'Study Time', 'Extra Curricular Activities', 'Part-time Job', 'Commute Time',\n",
    "                    'Gaming', 'Alcohol Consumption', 'I have enough free time after class', 'Social Interaction',\n",
    "                    'I hang out with friends']]\n",
    "\n",
    "for i in [0.5,0.4,0.3,0.2]:\n",
    "    for j in rand_states:\n",
    "        X_train, X_test, y_train, y_test = train_test_split(X, y, test_size=i, random_state=j)\n",
    "        param_grid = {'C': [0.1, 1, 10, 100],\n",
    "                      'gamma': [1, 0.1, 0.01, 0.001],\n",
    "                      'kernel': ['rbf','sigmoid']}\n",
    "\n",
    "        model = GridSearchCV(SVC(random_state=0), param_grid, refit=True, n_jobs=-1, cv=10, verbose=1)\n",
    "        model.fit(X_train, y_train)\n",
    "        pred = model.predict(X_test)\n",
    "        \n",
    "        acc = accuracy_score(y_test,pred)\n",
    "        pre = precision_score(y_test, pred, average='weighted')\n",
    "        recall = recall_score(y_test, pred, average='weighted')\n",
    "        f1 = f1_score(y_test, pred, average='weighted')\n",
    "        param = model.best_params_\n",
    "    \n",
    "        tempB_SL_ROS.append([i,j,acc,pre,recall,f1,param])\n",
    "        \n",
    "dfB_SL_ROS = pd.DataFrame(columns=['Test Size','Random State','Accuracy','Precision','Recall','F1 Score','Best Param'],data=tempB_SL_ROS)\n",
    "dfB_SL_ROS"
   ]
  },
  {
   "cell_type": "code",
   "execution_count": 31,
   "id": "ff283975-1ee4-4511-bea1-2ff9dae357d9",
   "metadata": {},
   "outputs": [
    {
     "data": {
      "text/html": [
       "<div>\n",
       "<style scoped>\n",
       "    .dataframe tbody tr th:only-of-type {\n",
       "        vertical-align: middle;\n",
       "    }\n",
       "\n",
       "    .dataframe tbody tr th {\n",
       "        vertical-align: top;\n",
       "    }\n",
       "\n",
       "    .dataframe thead th {\n",
       "        text-align: right;\n",
       "    }\n",
       "</style>\n",
       "<table border=\"1\" class=\"dataframe\">\n",
       "  <thead>\n",
       "    <tr style=\"text-align: right;\">\n",
       "      <th></th>\n",
       "      <th>Accuracy</th>\n",
       "      <th>Precision</th>\n",
       "      <th>Recall</th>\n",
       "      <th>F1 Score</th>\n",
       "    </tr>\n",
       "    <tr>\n",
       "      <th>Test Size</th>\n",
       "      <th></th>\n",
       "      <th></th>\n",
       "      <th></th>\n",
       "      <th></th>\n",
       "    </tr>\n",
       "  </thead>\n",
       "  <tbody>\n",
       "    <tr>\n",
       "      <th>0.2</th>\n",
       "      <td>1.0</td>\n",
       "      <td>1.0</td>\n",
       "      <td>1.0</td>\n",
       "      <td>1.0</td>\n",
       "    </tr>\n",
       "    <tr>\n",
       "      <th>0.3</th>\n",
       "      <td>1.0</td>\n",
       "      <td>1.0</td>\n",
       "      <td>1.0</td>\n",
       "      <td>1.0</td>\n",
       "    </tr>\n",
       "    <tr>\n",
       "      <th>0.4</th>\n",
       "      <td>1.0</td>\n",
       "      <td>1.0</td>\n",
       "      <td>1.0</td>\n",
       "      <td>1.0</td>\n",
       "    </tr>\n",
       "    <tr>\n",
       "      <th>0.5</th>\n",
       "      <td>1.0</td>\n",
       "      <td>1.0</td>\n",
       "      <td>1.0</td>\n",
       "      <td>1.0</td>\n",
       "    </tr>\n",
       "  </tbody>\n",
       "</table>\n",
       "</div>"
      ],
      "text/plain": [
       "           Accuracy  Precision  Recall  F1 Score\n",
       "Test Size                                       \n",
       "0.2             1.0        1.0     1.0       1.0\n",
       "0.3             1.0        1.0     1.0       1.0\n",
       "0.4             1.0        1.0     1.0       1.0\n",
       "0.5             1.0        1.0     1.0       1.0"
      ]
     },
     "execution_count": 31,
     "metadata": {},
     "output_type": "execute_result"
    }
   ],
   "source": [
    "dfB_SL_ROS.groupby('Test Size')[['Accuracy','Precision','Recall','F1 Score']].mean()"
   ]
  },
  {
   "cell_type": "markdown",
   "id": "7bb3a7ee-ff0f-4a42-b2eb-4f3b8d3584e8",
   "metadata": {},
   "source": [
    "### SL after SMOTE"
   ]
  },
  {
   "cell_type": "code",
   "execution_count": 32,
   "id": "7061a653-db0b-4f07-b30f-73a3c7a32f31",
   "metadata": {},
   "outputs": [
    {
     "name": "stdout",
     "output_type": "stream",
     "text": [
      "Fitting 10 folds for each of 32 candidates, totalling 320 fits\n"
     ]
    },
    {
     "name": "stderr",
     "output_type": "stream",
     "text": [
      "C:\\Users\\hazel\\anaconda3\\Lib\\site-packages\\sklearn\\utils\\validation.py:1143: DataConversionWarning: A column-vector y was passed when a 1d array was expected. Please change the shape of y to (n_samples, ), for example using ravel().\n",
      "  y = column_or_1d(y, warn=True)\n"
     ]
    },
    {
     "name": "stdout",
     "output_type": "stream",
     "text": [
      "Fitting 10 folds for each of 32 candidates, totalling 320 fits\n"
     ]
    },
    {
     "name": "stderr",
     "output_type": "stream",
     "text": [
      "C:\\Users\\hazel\\anaconda3\\Lib\\site-packages\\sklearn\\utils\\validation.py:1143: DataConversionWarning: A column-vector y was passed when a 1d array was expected. Please change the shape of y to (n_samples, ), for example using ravel().\n",
      "  y = column_or_1d(y, warn=True)\n"
     ]
    },
    {
     "name": "stdout",
     "output_type": "stream",
     "text": [
      "Fitting 10 folds for each of 32 candidates, totalling 320 fits\n"
     ]
    },
    {
     "name": "stderr",
     "output_type": "stream",
     "text": [
      "C:\\Users\\hazel\\anaconda3\\Lib\\site-packages\\sklearn\\utils\\validation.py:1143: DataConversionWarning: A column-vector y was passed when a 1d array was expected. Please change the shape of y to (n_samples, ), for example using ravel().\n",
      "  y = column_or_1d(y, warn=True)\n"
     ]
    },
    {
     "name": "stdout",
     "output_type": "stream",
     "text": [
      "Fitting 10 folds for each of 32 candidates, totalling 320 fits\n"
     ]
    },
    {
     "name": "stderr",
     "output_type": "stream",
     "text": [
      "C:\\Users\\hazel\\anaconda3\\Lib\\site-packages\\sklearn\\utils\\validation.py:1143: DataConversionWarning: A column-vector y was passed when a 1d array was expected. Please change the shape of y to (n_samples, ), for example using ravel().\n",
      "  y = column_or_1d(y, warn=True)\n"
     ]
    },
    {
     "name": "stdout",
     "output_type": "stream",
     "text": [
      "Fitting 10 folds for each of 32 candidates, totalling 320 fits\n"
     ]
    },
    {
     "name": "stderr",
     "output_type": "stream",
     "text": [
      "C:\\Users\\hazel\\anaconda3\\Lib\\site-packages\\sklearn\\utils\\validation.py:1143: DataConversionWarning: A column-vector y was passed when a 1d array was expected. Please change the shape of y to (n_samples, ), for example using ravel().\n",
      "  y = column_or_1d(y, warn=True)\n"
     ]
    },
    {
     "name": "stdout",
     "output_type": "stream",
     "text": [
      "Fitting 10 folds for each of 32 candidates, totalling 320 fits\n"
     ]
    },
    {
     "name": "stderr",
     "output_type": "stream",
     "text": [
      "C:\\Users\\hazel\\anaconda3\\Lib\\site-packages\\sklearn\\utils\\validation.py:1143: DataConversionWarning: A column-vector y was passed when a 1d array was expected. Please change the shape of y to (n_samples, ), for example using ravel().\n",
      "  y = column_or_1d(y, warn=True)\n"
     ]
    },
    {
     "name": "stdout",
     "output_type": "stream",
     "text": [
      "Fitting 10 folds for each of 32 candidates, totalling 320 fits\n"
     ]
    },
    {
     "name": "stderr",
     "output_type": "stream",
     "text": [
      "C:\\Users\\hazel\\anaconda3\\Lib\\site-packages\\sklearn\\utils\\validation.py:1143: DataConversionWarning: A column-vector y was passed when a 1d array was expected. Please change the shape of y to (n_samples, ), for example using ravel().\n",
      "  y = column_or_1d(y, warn=True)\n"
     ]
    },
    {
     "name": "stdout",
     "output_type": "stream",
     "text": [
      "Fitting 10 folds for each of 32 candidates, totalling 320 fits\n"
     ]
    },
    {
     "name": "stderr",
     "output_type": "stream",
     "text": [
      "C:\\Users\\hazel\\anaconda3\\Lib\\site-packages\\sklearn\\utils\\validation.py:1143: DataConversionWarning: A column-vector y was passed when a 1d array was expected. Please change the shape of y to (n_samples, ), for example using ravel().\n",
      "  y = column_or_1d(y, warn=True)\n"
     ]
    },
    {
     "name": "stdout",
     "output_type": "stream",
     "text": [
      "Fitting 10 folds for each of 32 candidates, totalling 320 fits\n"
     ]
    },
    {
     "name": "stderr",
     "output_type": "stream",
     "text": [
      "C:\\Users\\hazel\\anaconda3\\Lib\\site-packages\\sklearn\\utils\\validation.py:1143: DataConversionWarning: A column-vector y was passed when a 1d array was expected. Please change the shape of y to (n_samples, ), for example using ravel().\n",
      "  y = column_or_1d(y, warn=True)\n"
     ]
    },
    {
     "name": "stdout",
     "output_type": "stream",
     "text": [
      "Fitting 10 folds for each of 32 candidates, totalling 320 fits\n"
     ]
    },
    {
     "name": "stderr",
     "output_type": "stream",
     "text": [
      "C:\\Users\\hazel\\anaconda3\\Lib\\site-packages\\sklearn\\utils\\validation.py:1143: DataConversionWarning: A column-vector y was passed when a 1d array was expected. Please change the shape of y to (n_samples, ), for example using ravel().\n",
      "  y = column_or_1d(y, warn=True)\n"
     ]
    },
    {
     "name": "stdout",
     "output_type": "stream",
     "text": [
      "Fitting 10 folds for each of 32 candidates, totalling 320 fits\n"
     ]
    },
    {
     "name": "stderr",
     "output_type": "stream",
     "text": [
      "C:\\Users\\hazel\\anaconda3\\Lib\\site-packages\\sklearn\\utils\\validation.py:1143: DataConversionWarning: A column-vector y was passed when a 1d array was expected. Please change the shape of y to (n_samples, ), for example using ravel().\n",
      "  y = column_or_1d(y, warn=True)\n"
     ]
    },
    {
     "name": "stdout",
     "output_type": "stream",
     "text": [
      "Fitting 10 folds for each of 32 candidates, totalling 320 fits\n"
     ]
    },
    {
     "name": "stderr",
     "output_type": "stream",
     "text": [
      "C:\\Users\\hazel\\anaconda3\\Lib\\site-packages\\sklearn\\utils\\validation.py:1143: DataConversionWarning: A column-vector y was passed when a 1d array was expected. Please change the shape of y to (n_samples, ), for example using ravel().\n",
      "  y = column_or_1d(y, warn=True)\n"
     ]
    },
    {
     "data": {
      "text/html": [
       "<div>\n",
       "<style scoped>\n",
       "    .dataframe tbody tr th:only-of-type {\n",
       "        vertical-align: middle;\n",
       "    }\n",
       "\n",
       "    .dataframe tbody tr th {\n",
       "        vertical-align: top;\n",
       "    }\n",
       "\n",
       "    .dataframe thead th {\n",
       "        text-align: right;\n",
       "    }\n",
       "</style>\n",
       "<table border=\"1\" class=\"dataframe\">\n",
       "  <thead>\n",
       "    <tr style=\"text-align: right;\">\n",
       "      <th></th>\n",
       "      <th>Test Size</th>\n",
       "      <th>Random State</th>\n",
       "      <th>Accuracy</th>\n",
       "      <th>Precision</th>\n",
       "      <th>Recall</th>\n",
       "      <th>F1 Score</th>\n",
       "      <th>Best Param</th>\n",
       "    </tr>\n",
       "  </thead>\n",
       "  <tbody>\n",
       "    <tr>\n",
       "      <th>0</th>\n",
       "      <td>0.5</td>\n",
       "      <td>7</td>\n",
       "      <td>0.982677</td>\n",
       "      <td>0.982856</td>\n",
       "      <td>0.982677</td>\n",
       "      <td>0.982679</td>\n",
       "      <td>{'C': 1, 'gamma': 1, 'kernel': 'rbf'}</td>\n",
       "    </tr>\n",
       "    <tr>\n",
       "      <th>1</th>\n",
       "      <td>0.5</td>\n",
       "      <td>69</td>\n",
       "      <td>0.988189</td>\n",
       "      <td>0.988283</td>\n",
       "      <td>0.988189</td>\n",
       "      <td>0.988187</td>\n",
       "      <td>{'C': 1, 'gamma': 1, 'kernel': 'rbf'}</td>\n",
       "    </tr>\n",
       "    <tr>\n",
       "      <th>2</th>\n",
       "      <td>0.5</td>\n",
       "      <td>101</td>\n",
       "      <td>0.991339</td>\n",
       "      <td>0.991349</td>\n",
       "      <td>0.991339</td>\n",
       "      <td>0.991338</td>\n",
       "      <td>{'C': 10, 'gamma': 1, 'kernel': 'rbf'}</td>\n",
       "    </tr>\n",
       "    <tr>\n",
       "      <th>3</th>\n",
       "      <td>0.4</td>\n",
       "      <td>7</td>\n",
       "      <td>0.984252</td>\n",
       "      <td>0.984378</td>\n",
       "      <td>0.984252</td>\n",
       "      <td>0.984254</td>\n",
       "      <td>{'C': 1, 'gamma': 1, 'kernel': 'rbf'}</td>\n",
       "    </tr>\n",
       "    <tr>\n",
       "      <th>4</th>\n",
       "      <td>0.4</td>\n",
       "      <td>69</td>\n",
       "      <td>0.990157</td>\n",
       "      <td>0.990187</td>\n",
       "      <td>0.990157</td>\n",
       "      <td>0.990157</td>\n",
       "      <td>{'C': 1, 'gamma': 1, 'kernel': 'rbf'}</td>\n",
       "    </tr>\n",
       "    <tr>\n",
       "      <th>5</th>\n",
       "      <td>0.4</td>\n",
       "      <td>101</td>\n",
       "      <td>0.992126</td>\n",
       "      <td>0.992133</td>\n",
       "      <td>0.992126</td>\n",
       "      <td>0.992126</td>\n",
       "      <td>{'C': 1, 'gamma': 1, 'kernel': 'rbf'}</td>\n",
       "    </tr>\n",
       "    <tr>\n",
       "      <th>6</th>\n",
       "      <td>0.3</td>\n",
       "      <td>7</td>\n",
       "      <td>0.986877</td>\n",
       "      <td>0.986935</td>\n",
       "      <td>0.986877</td>\n",
       "      <td>0.986878</td>\n",
       "      <td>{'C': 1, 'gamma': 1, 'kernel': 'rbf'}</td>\n",
       "    </tr>\n",
       "    <tr>\n",
       "      <th>7</th>\n",
       "      <td>0.3</td>\n",
       "      <td>69</td>\n",
       "      <td>0.990814</td>\n",
       "      <td>0.990842</td>\n",
       "      <td>0.990814</td>\n",
       "      <td>0.990812</td>\n",
       "      <td>{'C': 1, 'gamma': 1, 'kernel': 'rbf'}</td>\n",
       "    </tr>\n",
       "    <tr>\n",
       "      <th>8</th>\n",
       "      <td>0.3</td>\n",
       "      <td>101</td>\n",
       "      <td>0.989501</td>\n",
       "      <td>0.989513</td>\n",
       "      <td>0.989501</td>\n",
       "      <td>0.989501</td>\n",
       "      <td>{'C': 1, 'gamma': 1, 'kernel': 'rbf'}</td>\n",
       "    </tr>\n",
       "    <tr>\n",
       "      <th>9</th>\n",
       "      <td>0.2</td>\n",
       "      <td>7</td>\n",
       "      <td>0.990157</td>\n",
       "      <td>0.990235</td>\n",
       "      <td>0.990157</td>\n",
       "      <td>0.990162</td>\n",
       "      <td>{'C': 1, 'gamma': 1, 'kernel': 'rbf'}</td>\n",
       "    </tr>\n",
       "    <tr>\n",
       "      <th>10</th>\n",
       "      <td>0.2</td>\n",
       "      <td>69</td>\n",
       "      <td>0.998031</td>\n",
       "      <td>0.998039</td>\n",
       "      <td>0.998031</td>\n",
       "      <td>0.998031</td>\n",
       "      <td>{'C': 1, 'gamma': 1, 'kernel': 'rbf'}</td>\n",
       "    </tr>\n",
       "    <tr>\n",
       "      <th>11</th>\n",
       "      <td>0.2</td>\n",
       "      <td>101</td>\n",
       "      <td>0.990157</td>\n",
       "      <td>0.990163</td>\n",
       "      <td>0.990157</td>\n",
       "      <td>0.990157</td>\n",
       "      <td>{'C': 1, 'gamma': 1, 'kernel': 'rbf'}</td>\n",
       "    </tr>\n",
       "  </tbody>\n",
       "</table>\n",
       "</div>"
      ],
      "text/plain": [
       "    Test Size  Random State  Accuracy  Precision    Recall  F1 Score  \\\n",
       "0         0.5             7  0.982677   0.982856  0.982677  0.982679   \n",
       "1         0.5            69  0.988189   0.988283  0.988189  0.988187   \n",
       "2         0.5           101  0.991339   0.991349  0.991339  0.991338   \n",
       "3         0.4             7  0.984252   0.984378  0.984252  0.984254   \n",
       "4         0.4            69  0.990157   0.990187  0.990157  0.990157   \n",
       "5         0.4           101  0.992126   0.992133  0.992126  0.992126   \n",
       "6         0.3             7  0.986877   0.986935  0.986877  0.986878   \n",
       "7         0.3            69  0.990814   0.990842  0.990814  0.990812   \n",
       "8         0.3           101  0.989501   0.989513  0.989501  0.989501   \n",
       "9         0.2             7  0.990157   0.990235  0.990157  0.990162   \n",
       "10        0.2            69  0.998031   0.998039  0.998031  0.998031   \n",
       "11        0.2           101  0.990157   0.990163  0.990157  0.990157   \n",
       "\n",
       "                                Best Param  \n",
       "0    {'C': 1, 'gamma': 1, 'kernel': 'rbf'}  \n",
       "1    {'C': 1, 'gamma': 1, 'kernel': 'rbf'}  \n",
       "2   {'C': 10, 'gamma': 1, 'kernel': 'rbf'}  \n",
       "3    {'C': 1, 'gamma': 1, 'kernel': 'rbf'}  \n",
       "4    {'C': 1, 'gamma': 1, 'kernel': 'rbf'}  \n",
       "5    {'C': 1, 'gamma': 1, 'kernel': 'rbf'}  \n",
       "6    {'C': 1, 'gamma': 1, 'kernel': 'rbf'}  \n",
       "7    {'C': 1, 'gamma': 1, 'kernel': 'rbf'}  \n",
       "8    {'C': 1, 'gamma': 1, 'kernel': 'rbf'}  \n",
       "9    {'C': 1, 'gamma': 1, 'kernel': 'rbf'}  \n",
       "10   {'C': 1, 'gamma': 1, 'kernel': 'rbf'}  \n",
       "11   {'C': 1, 'gamma': 1, 'kernel': 'rbf'}  "
      ]
     },
     "execution_count": 32,
     "metadata": {},
     "output_type": "execute_result"
    }
   ],
   "source": [
    "tempB_SL_SMOTE = []\n",
    "\n",
    "y = merge_B_SMOTE[['CGPA']]\n",
    "X = merge_B_SMOTE[['Relationship Status', 'Scholarship', 'PTPTN', 'Skipping Class', 'Additional Course',\n",
    "                    'Study Behavior', 'Study Time', 'Extra Curricular Activities', 'Part-time Job', 'Commute Time',\n",
    "                    'Gaming', 'Alcohol Consumption', 'I have enough free time after class', 'Social Interaction',\n",
    "                    'I hang out with friends']]\n",
    "\n",
    "for i in [0.5,0.4,0.3,0.2]:\n",
    "    for j in rand_states:\n",
    "        X_train, X_test, y_train, y_test = train_test_split(X, y, test_size=i, random_state=j)\n",
    "        param_grid = {'C': [0.1, 1, 10, 100],\n",
    "                      'gamma': [1, 0.1, 0.01, 0.001],\n",
    "                      'kernel': ['rbf','sigmoid']}\n",
    "\n",
    "        model = GridSearchCV(SVC(random_state=0), param_grid, refit=True, n_jobs=-1, cv=10, verbose=1)\n",
    "        model.fit(X_train, y_train)\n",
    "        pred = model.predict(X_test)\n",
    "        \n",
    "        acc = accuracy_score(y_test,pred)\n",
    "        pre = precision_score(y_test, pred, average='weighted')\n",
    "        recall = recall_score(y_test, pred, average='weighted')\n",
    "        f1 = f1_score(y_test, pred, average='weighted')\n",
    "        param = model.best_params_\n",
    "    \n",
    "        tempB_SL_SMOTE.append([i,j,acc,pre,recall,f1,param])\n",
    "        \n",
    "dfB_SL_SMOTE = pd.DataFrame(columns=['Test Size','Random State','Accuracy','Precision','Recall','F1 Score','Best Param'],data=tempB_SL_SMOTE)\n",
    "dfB_SL_SMOTE"
   ]
  },
  {
   "cell_type": "code",
   "execution_count": 33,
   "id": "3ce1966b-032c-4455-b4a4-da7ca1b90d4f",
   "metadata": {},
   "outputs": [
    {
     "data": {
      "text/html": [
       "<div>\n",
       "<style scoped>\n",
       "    .dataframe tbody tr th:only-of-type {\n",
       "        vertical-align: middle;\n",
       "    }\n",
       "\n",
       "    .dataframe tbody tr th {\n",
       "        vertical-align: top;\n",
       "    }\n",
       "\n",
       "    .dataframe thead th {\n",
       "        text-align: right;\n",
       "    }\n",
       "</style>\n",
       "<table border=\"1\" class=\"dataframe\">\n",
       "  <thead>\n",
       "    <tr style=\"text-align: right;\">\n",
       "      <th></th>\n",
       "      <th>Accuracy</th>\n",
       "      <th>Precision</th>\n",
       "      <th>Recall</th>\n",
       "      <th>F1 Score</th>\n",
       "    </tr>\n",
       "    <tr>\n",
       "      <th>Test Size</th>\n",
       "      <th></th>\n",
       "      <th></th>\n",
       "      <th></th>\n",
       "      <th></th>\n",
       "    </tr>\n",
       "  </thead>\n",
       "  <tbody>\n",
       "    <tr>\n",
       "      <th>0.2</th>\n",
       "      <td>0.992782</td>\n",
       "      <td>0.992813</td>\n",
       "      <td>0.992782</td>\n",
       "      <td>0.992783</td>\n",
       "    </tr>\n",
       "    <tr>\n",
       "      <th>0.3</th>\n",
       "      <td>0.989064</td>\n",
       "      <td>0.989097</td>\n",
       "      <td>0.989064</td>\n",
       "      <td>0.989064</td>\n",
       "    </tr>\n",
       "    <tr>\n",
       "      <th>0.4</th>\n",
       "      <td>0.988845</td>\n",
       "      <td>0.988899</td>\n",
       "      <td>0.988845</td>\n",
       "      <td>0.988845</td>\n",
       "    </tr>\n",
       "    <tr>\n",
       "      <th>0.5</th>\n",
       "      <td>0.987402</td>\n",
       "      <td>0.987496</td>\n",
       "      <td>0.987402</td>\n",
       "      <td>0.987401</td>\n",
       "    </tr>\n",
       "  </tbody>\n",
       "</table>\n",
       "</div>"
      ],
      "text/plain": [
       "           Accuracy  Precision    Recall  F1 Score\n",
       "Test Size                                         \n",
       "0.2        0.992782   0.992813  0.992782  0.992783\n",
       "0.3        0.989064   0.989097  0.989064  0.989064\n",
       "0.4        0.988845   0.988899  0.988845  0.988845\n",
       "0.5        0.987402   0.987496  0.987402  0.987401"
      ]
     },
     "execution_count": 33,
     "metadata": {},
     "output_type": "execute_result"
    }
   ],
   "source": [
    "dfB_SL_SMOTE.groupby('Test Size')[['Accuracy','Precision','Recall','F1 Score']].mean()"
   ]
  },
  {
   "cell_type": "markdown",
   "id": "c52834e3-23e3-4d08-bb58-8ea8fd75cc64",
   "metadata": {},
   "source": [
    "## All Attributes"
   ]
  },
  {
   "cell_type": "markdown",
   "id": "a5f09806-c541-4bc1-9290-3d109563c0e2",
   "metadata": {},
   "source": [
    "### AA before Data Balancing"
   ]
  },
  {
   "cell_type": "code",
   "execution_count": 34,
   "id": "4c3cbc20-4876-44ec-b404-c792ca357448",
   "metadata": {},
   "outputs": [
    {
     "name": "stdout",
     "output_type": "stream",
     "text": [
      "X: (1287, 40) y: (1287, 1)\n",
      "Fitting 10 folds for each of 32 candidates, totalling 320 fits\n"
     ]
    },
    {
     "name": "stderr",
     "output_type": "stream",
     "text": [
      "C:\\Users\\hazel\\anaconda3\\Lib\\site-packages\\sklearn\\model_selection\\_split.py:700: UserWarning: The least populated class in y has only 8 members, which is less than n_splits=10.\n",
      "  warnings.warn(\n",
      "C:\\Users\\hazel\\anaconda3\\Lib\\site-packages\\sklearn\\utils\\validation.py:1143: DataConversionWarning: A column-vector y was passed when a 1d array was expected. Please change the shape of y to (n_samples, ), for example using ravel().\n",
      "  y = column_or_1d(y, warn=True)\n",
      "C:\\Users\\hazel\\anaconda3\\Lib\\site-packages\\sklearn\\metrics\\_classification.py:1344: UndefinedMetricWarning: Precision is ill-defined and being set to 0.0 in labels with no predicted samples. Use `zero_division` parameter to control this behavior.\n",
      "  _warn_prf(average, modifier, msg_start, len(result))\n",
      "C:\\Users\\hazel\\anaconda3\\Lib\\site-packages\\sklearn\\model_selection\\_split.py:700: UserWarning: The least populated class in y has only 8 members, which is less than n_splits=10.\n",
      "  warnings.warn(\n"
     ]
    },
    {
     "name": "stdout",
     "output_type": "stream",
     "text": [
      "Fitting 10 folds for each of 32 candidates, totalling 320 fits\n"
     ]
    },
    {
     "name": "stderr",
     "output_type": "stream",
     "text": [
      "C:\\Users\\hazel\\anaconda3\\Lib\\site-packages\\sklearn\\utils\\validation.py:1143: DataConversionWarning: A column-vector y was passed when a 1d array was expected. Please change the shape of y to (n_samples, ), for example using ravel().\n",
      "  y = column_or_1d(y, warn=True)\n",
      "C:\\Users\\hazel\\anaconda3\\Lib\\site-packages\\sklearn\\metrics\\_classification.py:1344: UndefinedMetricWarning: Precision is ill-defined and being set to 0.0 in labels with no predicted samples. Use `zero_division` parameter to control this behavior.\n",
      "  _warn_prf(average, modifier, msg_start, len(result))\n",
      "C:\\Users\\hazel\\anaconda3\\Lib\\site-packages\\sklearn\\model_selection\\_split.py:700: UserWarning: The least populated class in y has only 8 members, which is less than n_splits=10.\n",
      "  warnings.warn(\n"
     ]
    },
    {
     "name": "stdout",
     "output_type": "stream",
     "text": [
      "Fitting 10 folds for each of 32 candidates, totalling 320 fits\n"
     ]
    },
    {
     "name": "stderr",
     "output_type": "stream",
     "text": [
      "C:\\Users\\hazel\\anaconda3\\Lib\\site-packages\\sklearn\\utils\\validation.py:1143: DataConversionWarning: A column-vector y was passed when a 1d array was expected. Please change the shape of y to (n_samples, ), for example using ravel().\n",
      "  y = column_or_1d(y, warn=True)\n",
      "C:\\Users\\hazel\\anaconda3\\Lib\\site-packages\\sklearn\\metrics\\_classification.py:1344: UndefinedMetricWarning: Precision is ill-defined and being set to 0.0 in labels with no predicted samples. Use `zero_division` parameter to control this behavior.\n",
      "  _warn_prf(average, modifier, msg_start, len(result))\n"
     ]
    },
    {
     "name": "stdout",
     "output_type": "stream",
     "text": [
      "Fitting 10 folds for each of 32 candidates, totalling 320 fits\n"
     ]
    },
    {
     "name": "stderr",
     "output_type": "stream",
     "text": [
      "C:\\Users\\hazel\\anaconda3\\Lib\\site-packages\\sklearn\\utils\\validation.py:1143: DataConversionWarning: A column-vector y was passed when a 1d array was expected. Please change the shape of y to (n_samples, ), for example using ravel().\n",
      "  y = column_or_1d(y, warn=True)\n",
      "C:\\Users\\hazel\\anaconda3\\Lib\\site-packages\\sklearn\\metrics\\_classification.py:1344: UndefinedMetricWarning: Precision is ill-defined and being set to 0.0 in labels with no predicted samples. Use `zero_division` parameter to control this behavior.\n",
      "  _warn_prf(average, modifier, msg_start, len(result))\n",
      "C:\\Users\\hazel\\anaconda3\\Lib\\site-packages\\sklearn\\model_selection\\_split.py:700: UserWarning: The least populated class in y has only 9 members, which is less than n_splits=10.\n",
      "  warnings.warn(\n"
     ]
    },
    {
     "name": "stdout",
     "output_type": "stream",
     "text": [
      "Fitting 10 folds for each of 32 candidates, totalling 320 fits\n"
     ]
    },
    {
     "name": "stderr",
     "output_type": "stream",
     "text": [
      "C:\\Users\\hazel\\anaconda3\\Lib\\site-packages\\sklearn\\utils\\validation.py:1143: DataConversionWarning: A column-vector y was passed when a 1d array was expected. Please change the shape of y to (n_samples, ), for example using ravel().\n",
      "  y = column_or_1d(y, warn=True)\n",
      "C:\\Users\\hazel\\anaconda3\\Lib\\site-packages\\sklearn\\metrics\\_classification.py:1344: UndefinedMetricWarning: Precision is ill-defined and being set to 0.0 in labels with no predicted samples. Use `zero_division` parameter to control this behavior.\n",
      "  _warn_prf(average, modifier, msg_start, len(result))\n"
     ]
    },
    {
     "name": "stdout",
     "output_type": "stream",
     "text": [
      "Fitting 10 folds for each of 32 candidates, totalling 320 fits\n"
     ]
    },
    {
     "name": "stderr",
     "output_type": "stream",
     "text": [
      "C:\\Users\\hazel\\anaconda3\\Lib\\site-packages\\sklearn\\utils\\validation.py:1143: DataConversionWarning: A column-vector y was passed when a 1d array was expected. Please change the shape of y to (n_samples, ), for example using ravel().\n",
      "  y = column_or_1d(y, warn=True)\n",
      "C:\\Users\\hazel\\anaconda3\\Lib\\site-packages\\sklearn\\metrics\\_classification.py:1344: UndefinedMetricWarning: Precision is ill-defined and being set to 0.0 in labels with no predicted samples. Use `zero_division` parameter to control this behavior.\n",
      "  _warn_prf(average, modifier, msg_start, len(result))\n"
     ]
    },
    {
     "name": "stdout",
     "output_type": "stream",
     "text": [
      "Fitting 10 folds for each of 32 candidates, totalling 320 fits\n"
     ]
    },
    {
     "name": "stderr",
     "output_type": "stream",
     "text": [
      "C:\\Users\\hazel\\anaconda3\\Lib\\site-packages\\sklearn\\utils\\validation.py:1143: DataConversionWarning: A column-vector y was passed when a 1d array was expected. Please change the shape of y to (n_samples, ), for example using ravel().\n",
      "  y = column_or_1d(y, warn=True)\n",
      "C:\\Users\\hazel\\anaconda3\\Lib\\site-packages\\sklearn\\metrics\\_classification.py:1344: UndefinedMetricWarning: Precision is ill-defined and being set to 0.0 in labels with no predicted samples. Use `zero_division` parameter to control this behavior.\n",
      "  _warn_prf(average, modifier, msg_start, len(result))\n"
     ]
    },
    {
     "name": "stdout",
     "output_type": "stream",
     "text": [
      "Fitting 10 folds for each of 32 candidates, totalling 320 fits\n"
     ]
    },
    {
     "name": "stderr",
     "output_type": "stream",
     "text": [
      "C:\\Users\\hazel\\anaconda3\\Lib\\site-packages\\sklearn\\utils\\validation.py:1143: DataConversionWarning: A column-vector y was passed when a 1d array was expected. Please change the shape of y to (n_samples, ), for example using ravel().\n",
      "  y = column_or_1d(y, warn=True)\n",
      "C:\\Users\\hazel\\anaconda3\\Lib\\site-packages\\sklearn\\metrics\\_classification.py:1344: UndefinedMetricWarning: Precision is ill-defined and being set to 0.0 in labels with no predicted samples. Use `zero_division` parameter to control this behavior.\n",
      "  _warn_prf(average, modifier, msg_start, len(result))\n"
     ]
    },
    {
     "name": "stdout",
     "output_type": "stream",
     "text": [
      "Fitting 10 folds for each of 32 candidates, totalling 320 fits\n"
     ]
    },
    {
     "name": "stderr",
     "output_type": "stream",
     "text": [
      "C:\\Users\\hazel\\anaconda3\\Lib\\site-packages\\sklearn\\utils\\validation.py:1143: DataConversionWarning: A column-vector y was passed when a 1d array was expected. Please change the shape of y to (n_samples, ), for example using ravel().\n",
      "  y = column_or_1d(y, warn=True)\n",
      "C:\\Users\\hazel\\anaconda3\\Lib\\site-packages\\sklearn\\metrics\\_classification.py:1344: UndefinedMetricWarning: Precision is ill-defined and being set to 0.0 in labels with no predicted samples. Use `zero_division` parameter to control this behavior.\n",
      "  _warn_prf(average, modifier, msg_start, len(result))\n"
     ]
    },
    {
     "name": "stdout",
     "output_type": "stream",
     "text": [
      "Fitting 10 folds for each of 32 candidates, totalling 320 fits\n"
     ]
    },
    {
     "name": "stderr",
     "output_type": "stream",
     "text": [
      "C:\\Users\\hazel\\anaconda3\\Lib\\site-packages\\sklearn\\utils\\validation.py:1143: DataConversionWarning: A column-vector y was passed when a 1d array was expected. Please change the shape of y to (n_samples, ), for example using ravel().\n",
      "  y = column_or_1d(y, warn=True)\n",
      "C:\\Users\\hazel\\anaconda3\\Lib\\site-packages\\sklearn\\metrics\\_classification.py:1344: UndefinedMetricWarning: Precision is ill-defined and being set to 0.0 in labels with no predicted samples. Use `zero_division` parameter to control this behavior.\n",
      "  _warn_prf(average, modifier, msg_start, len(result))\n"
     ]
    },
    {
     "name": "stdout",
     "output_type": "stream",
     "text": [
      "Fitting 10 folds for each of 32 candidates, totalling 320 fits\n"
     ]
    },
    {
     "name": "stderr",
     "output_type": "stream",
     "text": [
      "C:\\Users\\hazel\\anaconda3\\Lib\\site-packages\\sklearn\\utils\\validation.py:1143: DataConversionWarning: A column-vector y was passed when a 1d array was expected. Please change the shape of y to (n_samples, ), for example using ravel().\n",
      "  y = column_or_1d(y, warn=True)\n",
      "C:\\Users\\hazel\\anaconda3\\Lib\\site-packages\\sklearn\\metrics\\_classification.py:1344: UndefinedMetricWarning: Precision is ill-defined and being set to 0.0 in labels with no predicted samples. Use `zero_division` parameter to control this behavior.\n",
      "  _warn_prf(average, modifier, msg_start, len(result))\n"
     ]
    },
    {
     "name": "stdout",
     "output_type": "stream",
     "text": [
      "Fitting 10 folds for each of 32 candidates, totalling 320 fits\n"
     ]
    },
    {
     "name": "stderr",
     "output_type": "stream",
     "text": [
      "C:\\Users\\hazel\\anaconda3\\Lib\\site-packages\\sklearn\\utils\\validation.py:1143: DataConversionWarning: A column-vector y was passed when a 1d array was expected. Please change the shape of y to (n_samples, ), for example using ravel().\n",
      "  y = column_or_1d(y, warn=True)\n",
      "C:\\Users\\hazel\\anaconda3\\Lib\\site-packages\\sklearn\\metrics\\_classification.py:1344: UndefinedMetricWarning: Precision is ill-defined and being set to 0.0 in labels with no predicted samples. Use `zero_division` parameter to control this behavior.\n",
      "  _warn_prf(average, modifier, msg_start, len(result))\n"
     ]
    },
    {
     "data": {
      "text/html": [
       "<div>\n",
       "<style scoped>\n",
       "    .dataframe tbody tr th:only-of-type {\n",
       "        vertical-align: middle;\n",
       "    }\n",
       "\n",
       "    .dataframe tbody tr th {\n",
       "        vertical-align: top;\n",
       "    }\n",
       "\n",
       "    .dataframe thead th {\n",
       "        text-align: right;\n",
       "    }\n",
       "</style>\n",
       "<table border=\"1\" class=\"dataframe\">\n",
       "  <thead>\n",
       "    <tr style=\"text-align: right;\">\n",
       "      <th></th>\n",
       "      <th>Test Size</th>\n",
       "      <th>Random State</th>\n",
       "      <th>Accuracy</th>\n",
       "      <th>Precision</th>\n",
       "      <th>Recall</th>\n",
       "      <th>F1 Score</th>\n",
       "      <th>Best Param</th>\n",
       "    </tr>\n",
       "  </thead>\n",
       "  <tbody>\n",
       "    <tr>\n",
       "      <th>0</th>\n",
       "      <td>0.5</td>\n",
       "      <td>7</td>\n",
       "      <td>0.986025</td>\n",
       "      <td>0.972245</td>\n",
       "      <td>0.986025</td>\n",
       "      <td>0.979086</td>\n",
       "      <td>{'C': 0.1, 'gamma': 1, 'kernel': 'rbf'}</td>\n",
       "    </tr>\n",
       "    <tr>\n",
       "      <th>1</th>\n",
       "      <td>0.5</td>\n",
       "      <td>69</td>\n",
       "      <td>0.986025</td>\n",
       "      <td>0.972245</td>\n",
       "      <td>0.986025</td>\n",
       "      <td>0.979086</td>\n",
       "      <td>{'C': 0.1, 'gamma': 1, 'kernel': 'rbf'}</td>\n",
       "    </tr>\n",
       "    <tr>\n",
       "      <th>2</th>\n",
       "      <td>0.5</td>\n",
       "      <td>101</td>\n",
       "      <td>0.986025</td>\n",
       "      <td>0.972245</td>\n",
       "      <td>0.986025</td>\n",
       "      <td>0.979086</td>\n",
       "      <td>{'C': 0.1, 'gamma': 1, 'kernel': 'rbf'}</td>\n",
       "    </tr>\n",
       "    <tr>\n",
       "      <th>3</th>\n",
       "      <td>0.4</td>\n",
       "      <td>7</td>\n",
       "      <td>0.988350</td>\n",
       "      <td>0.976835</td>\n",
       "      <td>0.988350</td>\n",
       "      <td>0.982558</td>\n",
       "      <td>{'C': 0.1, 'gamma': 1, 'kernel': 'rbf'}</td>\n",
       "    </tr>\n",
       "    <tr>\n",
       "      <th>4</th>\n",
       "      <td>0.4</td>\n",
       "      <td>69</td>\n",
       "      <td>0.984466</td>\n",
       "      <td>0.969173</td>\n",
       "      <td>0.984466</td>\n",
       "      <td>0.976760</td>\n",
       "      <td>{'C': 0.1, 'gamma': 1, 'kernel': 'rbf'}</td>\n",
       "    </tr>\n",
       "    <tr>\n",
       "      <th>5</th>\n",
       "      <td>0.4</td>\n",
       "      <td>101</td>\n",
       "      <td>0.986408</td>\n",
       "      <td>0.973000</td>\n",
       "      <td>0.986408</td>\n",
       "      <td>0.979658</td>\n",
       "      <td>{'C': 0.1, 'gamma': 1, 'kernel': 'rbf'}</td>\n",
       "    </tr>\n",
       "    <tr>\n",
       "      <th>6</th>\n",
       "      <td>0.3</td>\n",
       "      <td>7</td>\n",
       "      <td>0.989664</td>\n",
       "      <td>0.979435</td>\n",
       "      <td>0.989664</td>\n",
       "      <td>0.984523</td>\n",
       "      <td>{'C': 0.1, 'gamma': 1, 'kernel': 'rbf'}</td>\n",
       "    </tr>\n",
       "    <tr>\n",
       "      <th>7</th>\n",
       "      <td>0.3</td>\n",
       "      <td>69</td>\n",
       "      <td>0.987080</td>\n",
       "      <td>0.974327</td>\n",
       "      <td>0.987080</td>\n",
       "      <td>0.980662</td>\n",
       "      <td>{'C': 0.1, 'gamma': 1, 'kernel': 'rbf'}</td>\n",
       "    </tr>\n",
       "    <tr>\n",
       "      <th>8</th>\n",
       "      <td>0.3</td>\n",
       "      <td>101</td>\n",
       "      <td>0.987080</td>\n",
       "      <td>0.974327</td>\n",
       "      <td>0.987080</td>\n",
       "      <td>0.980662</td>\n",
       "      <td>{'C': 0.1, 'gamma': 1, 'kernel': 'rbf'}</td>\n",
       "    </tr>\n",
       "    <tr>\n",
       "      <th>9</th>\n",
       "      <td>0.2</td>\n",
       "      <td>7</td>\n",
       "      <td>0.992248</td>\n",
       "      <td>0.984556</td>\n",
       "      <td>0.992248</td>\n",
       "      <td>0.988387</td>\n",
       "      <td>{'C': 0.1, 'gamma': 1, 'kernel': 'rbf'}</td>\n",
       "    </tr>\n",
       "    <tr>\n",
       "      <th>10</th>\n",
       "      <td>0.2</td>\n",
       "      <td>69</td>\n",
       "      <td>0.984496</td>\n",
       "      <td>0.969233</td>\n",
       "      <td>0.984496</td>\n",
       "      <td>0.976805</td>\n",
       "      <td>{'C': 0.1, 'gamma': 1, 'kernel': 'rbf'}</td>\n",
       "    </tr>\n",
       "    <tr>\n",
       "      <th>11</th>\n",
       "      <td>0.2</td>\n",
       "      <td>101</td>\n",
       "      <td>0.984496</td>\n",
       "      <td>0.969233</td>\n",
       "      <td>0.984496</td>\n",
       "      <td>0.976805</td>\n",
       "      <td>{'C': 0.1, 'gamma': 1, 'kernel': 'rbf'}</td>\n",
       "    </tr>\n",
       "  </tbody>\n",
       "</table>\n",
       "</div>"
      ],
      "text/plain": [
       "    Test Size  Random State  Accuracy  Precision    Recall  F1 Score  \\\n",
       "0         0.5             7  0.986025   0.972245  0.986025  0.979086   \n",
       "1         0.5            69  0.986025   0.972245  0.986025  0.979086   \n",
       "2         0.5           101  0.986025   0.972245  0.986025  0.979086   \n",
       "3         0.4             7  0.988350   0.976835  0.988350  0.982558   \n",
       "4         0.4            69  0.984466   0.969173  0.984466  0.976760   \n",
       "5         0.4           101  0.986408   0.973000  0.986408  0.979658   \n",
       "6         0.3             7  0.989664   0.979435  0.989664  0.984523   \n",
       "7         0.3            69  0.987080   0.974327  0.987080  0.980662   \n",
       "8         0.3           101  0.987080   0.974327  0.987080  0.980662   \n",
       "9         0.2             7  0.992248   0.984556  0.992248  0.988387   \n",
       "10        0.2            69  0.984496   0.969233  0.984496  0.976805   \n",
       "11        0.2           101  0.984496   0.969233  0.984496  0.976805   \n",
       "\n",
       "                                 Best Param  \n",
       "0   {'C': 0.1, 'gamma': 1, 'kernel': 'rbf'}  \n",
       "1   {'C': 0.1, 'gamma': 1, 'kernel': 'rbf'}  \n",
       "2   {'C': 0.1, 'gamma': 1, 'kernel': 'rbf'}  \n",
       "3   {'C': 0.1, 'gamma': 1, 'kernel': 'rbf'}  \n",
       "4   {'C': 0.1, 'gamma': 1, 'kernel': 'rbf'}  \n",
       "5   {'C': 0.1, 'gamma': 1, 'kernel': 'rbf'}  \n",
       "6   {'C': 0.1, 'gamma': 1, 'kernel': 'rbf'}  \n",
       "7   {'C': 0.1, 'gamma': 1, 'kernel': 'rbf'}  \n",
       "8   {'C': 0.1, 'gamma': 1, 'kernel': 'rbf'}  \n",
       "9   {'C': 0.1, 'gamma': 1, 'kernel': 'rbf'}  \n",
       "10  {'C': 0.1, 'gamma': 1, 'kernel': 'rbf'}  \n",
       "11  {'C': 0.1, 'gamma': 1, 'kernel': 'rbf'}  "
      ]
     },
     "execution_count": 34,
     "metadata": {},
     "output_type": "execute_result"
    }
   ],
   "source": [
    "tempB_imb = []\n",
    "\n",
    "y = merge_B_imb[['CGPA']]\n",
    "X = merge_B_imb.drop(columns=['CGPA'])\n",
    "\n",
    "print(\"X:\", X.shape,\"y:\", y.shape)\n",
    "\n",
    "for i in [0.5,0.4,0.3,0.2]:\n",
    "    for j in rand_states:\n",
    "        X_train, X_test, y_train, y_test = train_test_split(X, y, test_size=i, random_state=j)\n",
    "        param_grid = {'C': [0.1, 1, 10, 100],\n",
    "                      'gamma': [1, 0.1, 0.01, 0.001],\n",
    "                      'kernel': ['rbf','sigmoid']}\n",
    "\n",
    "        model = GridSearchCV(SVC(random_state=0), param_grid, refit=True, n_jobs=-1, cv=10, verbose=1)\n",
    "        model.fit(X_train, y_train)\n",
    "        pred = model.predict(X_test)\n",
    "        \n",
    "        acc = accuracy_score(y_test,pred)\n",
    "        pre = precision_score(y_test, pred, average='weighted')\n",
    "        recall = recall_score(y_test, pred, average='weighted')\n",
    "        f1 = f1_score(y_test, pred, average='weighted')\n",
    "        param = model.best_params_\n",
    "    \n",
    "        tempB_imb.append([i,j,acc,pre,recall,f1,param])\n",
    "        \n",
    "dfB_imb = pd.DataFrame(columns=['Test Size','Random State','Accuracy','Precision','Recall','F1 Score','Best Param'],data=tempB_imb)\n",
    "dfB_imb"
   ]
  },
  {
   "cell_type": "code",
   "execution_count": 35,
   "id": "73f4abce-ce91-4e09-9fdf-4dd31feb13a3",
   "metadata": {},
   "outputs": [
    {
     "data": {
      "text/html": [
       "<div>\n",
       "<style scoped>\n",
       "    .dataframe tbody tr th:only-of-type {\n",
       "        vertical-align: middle;\n",
       "    }\n",
       "\n",
       "    .dataframe tbody tr th {\n",
       "        vertical-align: top;\n",
       "    }\n",
       "\n",
       "    .dataframe thead th {\n",
       "        text-align: right;\n",
       "    }\n",
       "</style>\n",
       "<table border=\"1\" class=\"dataframe\">\n",
       "  <thead>\n",
       "    <tr style=\"text-align: right;\">\n",
       "      <th></th>\n",
       "      <th>Accuracy</th>\n",
       "      <th>Precision</th>\n",
       "      <th>Recall</th>\n",
       "      <th>F1 Score</th>\n",
       "    </tr>\n",
       "    <tr>\n",
       "      <th>Test Size</th>\n",
       "      <th></th>\n",
       "      <th></th>\n",
       "      <th></th>\n",
       "      <th></th>\n",
       "    </tr>\n",
       "  </thead>\n",
       "  <tbody>\n",
       "    <tr>\n",
       "      <th>0.2</th>\n",
       "      <td>0.987080</td>\n",
       "      <td>0.974340</td>\n",
       "      <td>0.987080</td>\n",
       "      <td>0.980666</td>\n",
       "    </tr>\n",
       "    <tr>\n",
       "      <th>0.3</th>\n",
       "      <td>0.987941</td>\n",
       "      <td>0.976030</td>\n",
       "      <td>0.987941</td>\n",
       "      <td>0.981949</td>\n",
       "    </tr>\n",
       "    <tr>\n",
       "      <th>0.4</th>\n",
       "      <td>0.986408</td>\n",
       "      <td>0.973003</td>\n",
       "      <td>0.986408</td>\n",
       "      <td>0.979659</td>\n",
       "    </tr>\n",
       "    <tr>\n",
       "      <th>0.5</th>\n",
       "      <td>0.986025</td>\n",
       "      <td>0.972245</td>\n",
       "      <td>0.986025</td>\n",
       "      <td>0.979086</td>\n",
       "    </tr>\n",
       "  </tbody>\n",
       "</table>\n",
       "</div>"
      ],
      "text/plain": [
       "           Accuracy  Precision    Recall  F1 Score\n",
       "Test Size                                         \n",
       "0.2        0.987080   0.974340  0.987080  0.980666\n",
       "0.3        0.987941   0.976030  0.987941  0.981949\n",
       "0.4        0.986408   0.973003  0.986408  0.979659\n",
       "0.5        0.986025   0.972245  0.986025  0.979086"
      ]
     },
     "execution_count": 35,
     "metadata": {},
     "output_type": "execute_result"
    }
   ],
   "source": [
    "dfB_imb.groupby('Test Size')[['Accuracy','Precision','Recall','F1 Score']].mean()"
   ]
  },
  {
   "cell_type": "markdown",
   "id": "ecad1e1f-9ff7-4124-9134-c43ce2ffbe0c",
   "metadata": {},
   "source": [
    "### AA after RandomOverSampler"
   ]
  },
  {
   "cell_type": "code",
   "execution_count": 36,
   "id": "f43dfd0d-ac83-47a0-ba9e-6511b8fa3aa2",
   "metadata": {},
   "outputs": [
    {
     "name": "stdout",
     "output_type": "stream",
     "text": [
      "Fitting 10 folds for each of 32 candidates, totalling 320 fits\n"
     ]
    },
    {
     "name": "stderr",
     "output_type": "stream",
     "text": [
      "C:\\Users\\hazel\\anaconda3\\Lib\\site-packages\\sklearn\\utils\\validation.py:1143: DataConversionWarning: A column-vector y was passed when a 1d array was expected. Please change the shape of y to (n_samples, ), for example using ravel().\n",
      "  y = column_or_1d(y, warn=True)\n"
     ]
    },
    {
     "name": "stdout",
     "output_type": "stream",
     "text": [
      "Fitting 10 folds for each of 32 candidates, totalling 320 fits\n"
     ]
    },
    {
     "name": "stderr",
     "output_type": "stream",
     "text": [
      "C:\\Users\\hazel\\anaconda3\\Lib\\site-packages\\sklearn\\utils\\validation.py:1143: DataConversionWarning: A column-vector y was passed when a 1d array was expected. Please change the shape of y to (n_samples, ), for example using ravel().\n",
      "  y = column_or_1d(y, warn=True)\n"
     ]
    },
    {
     "name": "stdout",
     "output_type": "stream",
     "text": [
      "Fitting 10 folds for each of 32 candidates, totalling 320 fits\n"
     ]
    },
    {
     "name": "stderr",
     "output_type": "stream",
     "text": [
      "C:\\Users\\hazel\\anaconda3\\Lib\\site-packages\\sklearn\\utils\\validation.py:1143: DataConversionWarning: A column-vector y was passed when a 1d array was expected. Please change the shape of y to (n_samples, ), for example using ravel().\n",
      "  y = column_or_1d(y, warn=True)\n"
     ]
    },
    {
     "name": "stdout",
     "output_type": "stream",
     "text": [
      "Fitting 10 folds for each of 32 candidates, totalling 320 fits\n"
     ]
    },
    {
     "name": "stderr",
     "output_type": "stream",
     "text": [
      "C:\\Users\\hazel\\anaconda3\\Lib\\site-packages\\sklearn\\utils\\validation.py:1143: DataConversionWarning: A column-vector y was passed when a 1d array was expected. Please change the shape of y to (n_samples, ), for example using ravel().\n",
      "  y = column_or_1d(y, warn=True)\n"
     ]
    },
    {
     "name": "stdout",
     "output_type": "stream",
     "text": [
      "Fitting 10 folds for each of 32 candidates, totalling 320 fits\n"
     ]
    },
    {
     "name": "stderr",
     "output_type": "stream",
     "text": [
      "C:\\Users\\hazel\\anaconda3\\Lib\\site-packages\\sklearn\\utils\\validation.py:1143: DataConversionWarning: A column-vector y was passed when a 1d array was expected. Please change the shape of y to (n_samples, ), for example using ravel().\n",
      "  y = column_or_1d(y, warn=True)\n"
     ]
    },
    {
     "name": "stdout",
     "output_type": "stream",
     "text": [
      "Fitting 10 folds for each of 32 candidates, totalling 320 fits\n"
     ]
    },
    {
     "name": "stderr",
     "output_type": "stream",
     "text": [
      "C:\\Users\\hazel\\anaconda3\\Lib\\site-packages\\sklearn\\utils\\validation.py:1143: DataConversionWarning: A column-vector y was passed when a 1d array was expected. Please change the shape of y to (n_samples, ), for example using ravel().\n",
      "  y = column_or_1d(y, warn=True)\n"
     ]
    },
    {
     "name": "stdout",
     "output_type": "stream",
     "text": [
      "Fitting 10 folds for each of 32 candidates, totalling 320 fits\n"
     ]
    },
    {
     "name": "stderr",
     "output_type": "stream",
     "text": [
      "C:\\Users\\hazel\\anaconda3\\Lib\\site-packages\\sklearn\\utils\\validation.py:1143: DataConversionWarning: A column-vector y was passed when a 1d array was expected. Please change the shape of y to (n_samples, ), for example using ravel().\n",
      "  y = column_or_1d(y, warn=True)\n"
     ]
    },
    {
     "name": "stdout",
     "output_type": "stream",
     "text": [
      "Fitting 10 folds for each of 32 candidates, totalling 320 fits\n"
     ]
    },
    {
     "name": "stderr",
     "output_type": "stream",
     "text": [
      "C:\\Users\\hazel\\anaconda3\\Lib\\site-packages\\sklearn\\utils\\validation.py:1143: DataConversionWarning: A column-vector y was passed when a 1d array was expected. Please change the shape of y to (n_samples, ), for example using ravel().\n",
      "  y = column_or_1d(y, warn=True)\n"
     ]
    },
    {
     "name": "stdout",
     "output_type": "stream",
     "text": [
      "Fitting 10 folds for each of 32 candidates, totalling 320 fits\n"
     ]
    },
    {
     "name": "stderr",
     "output_type": "stream",
     "text": [
      "C:\\Users\\hazel\\anaconda3\\Lib\\site-packages\\sklearn\\utils\\validation.py:1143: DataConversionWarning: A column-vector y was passed when a 1d array was expected. Please change the shape of y to (n_samples, ), for example using ravel().\n",
      "  y = column_or_1d(y, warn=True)\n"
     ]
    },
    {
     "name": "stdout",
     "output_type": "stream",
     "text": [
      "Fitting 10 folds for each of 32 candidates, totalling 320 fits\n"
     ]
    },
    {
     "name": "stderr",
     "output_type": "stream",
     "text": [
      "C:\\Users\\hazel\\anaconda3\\Lib\\site-packages\\sklearn\\utils\\validation.py:1143: DataConversionWarning: A column-vector y was passed when a 1d array was expected. Please change the shape of y to (n_samples, ), for example using ravel().\n",
      "  y = column_or_1d(y, warn=True)\n"
     ]
    },
    {
     "name": "stdout",
     "output_type": "stream",
     "text": [
      "Fitting 10 folds for each of 32 candidates, totalling 320 fits\n"
     ]
    },
    {
     "name": "stderr",
     "output_type": "stream",
     "text": [
      "C:\\Users\\hazel\\anaconda3\\Lib\\site-packages\\sklearn\\utils\\validation.py:1143: DataConversionWarning: A column-vector y was passed when a 1d array was expected. Please change the shape of y to (n_samples, ), for example using ravel().\n",
      "  y = column_or_1d(y, warn=True)\n"
     ]
    },
    {
     "name": "stdout",
     "output_type": "stream",
     "text": [
      "Fitting 10 folds for each of 32 candidates, totalling 320 fits\n"
     ]
    },
    {
     "name": "stderr",
     "output_type": "stream",
     "text": [
      "C:\\Users\\hazel\\anaconda3\\Lib\\site-packages\\sklearn\\utils\\validation.py:1143: DataConversionWarning: A column-vector y was passed when a 1d array was expected. Please change the shape of y to (n_samples, ), for example using ravel().\n",
      "  y = column_or_1d(y, warn=True)\n"
     ]
    },
    {
     "data": {
      "text/html": [
       "<div>\n",
       "<style scoped>\n",
       "    .dataframe tbody tr th:only-of-type {\n",
       "        vertical-align: middle;\n",
       "    }\n",
       "\n",
       "    .dataframe tbody tr th {\n",
       "        vertical-align: top;\n",
       "    }\n",
       "\n",
       "    .dataframe thead th {\n",
       "        text-align: right;\n",
       "    }\n",
       "</style>\n",
       "<table border=\"1\" class=\"dataframe\">\n",
       "  <thead>\n",
       "    <tr style=\"text-align: right;\">\n",
       "      <th></th>\n",
       "      <th>Test Size</th>\n",
       "      <th>Random State</th>\n",
       "      <th>Accuracy</th>\n",
       "      <th>Precision</th>\n",
       "      <th>Recall</th>\n",
       "      <th>F1 Score</th>\n",
       "      <th>Best Param</th>\n",
       "    </tr>\n",
       "  </thead>\n",
       "  <tbody>\n",
       "    <tr>\n",
       "      <th>0</th>\n",
       "      <td>0.5</td>\n",
       "      <td>7</td>\n",
       "      <td>1.0</td>\n",
       "      <td>1.0</td>\n",
       "      <td>1.0</td>\n",
       "      <td>1.0</td>\n",
       "      <td>{'C': 0.1, 'gamma': 1, 'kernel': 'rbf'}</td>\n",
       "    </tr>\n",
       "    <tr>\n",
       "      <th>1</th>\n",
       "      <td>0.5</td>\n",
       "      <td>69</td>\n",
       "      <td>1.0</td>\n",
       "      <td>1.0</td>\n",
       "      <td>1.0</td>\n",
       "      <td>1.0</td>\n",
       "      <td>{'C': 0.1, 'gamma': 1, 'kernel': 'rbf'}</td>\n",
       "    </tr>\n",
       "    <tr>\n",
       "      <th>2</th>\n",
       "      <td>0.5</td>\n",
       "      <td>101</td>\n",
       "      <td>1.0</td>\n",
       "      <td>1.0</td>\n",
       "      <td>1.0</td>\n",
       "      <td>1.0</td>\n",
       "      <td>{'C': 0.1, 'gamma': 1, 'kernel': 'rbf'}</td>\n",
       "    </tr>\n",
       "    <tr>\n",
       "      <th>3</th>\n",
       "      <td>0.4</td>\n",
       "      <td>7</td>\n",
       "      <td>1.0</td>\n",
       "      <td>1.0</td>\n",
       "      <td>1.0</td>\n",
       "      <td>1.0</td>\n",
       "      <td>{'C': 0.1, 'gamma': 1, 'kernel': 'rbf'}</td>\n",
       "    </tr>\n",
       "    <tr>\n",
       "      <th>4</th>\n",
       "      <td>0.4</td>\n",
       "      <td>69</td>\n",
       "      <td>1.0</td>\n",
       "      <td>1.0</td>\n",
       "      <td>1.0</td>\n",
       "      <td>1.0</td>\n",
       "      <td>{'C': 0.1, 'gamma': 1, 'kernel': 'rbf'}</td>\n",
       "    </tr>\n",
       "    <tr>\n",
       "      <th>5</th>\n",
       "      <td>0.4</td>\n",
       "      <td>101</td>\n",
       "      <td>1.0</td>\n",
       "      <td>1.0</td>\n",
       "      <td>1.0</td>\n",
       "      <td>1.0</td>\n",
       "      <td>{'C': 0.1, 'gamma': 1, 'kernel': 'rbf'}</td>\n",
       "    </tr>\n",
       "    <tr>\n",
       "      <th>6</th>\n",
       "      <td>0.3</td>\n",
       "      <td>7</td>\n",
       "      <td>1.0</td>\n",
       "      <td>1.0</td>\n",
       "      <td>1.0</td>\n",
       "      <td>1.0</td>\n",
       "      <td>{'C': 0.1, 'gamma': 1, 'kernel': 'rbf'}</td>\n",
       "    </tr>\n",
       "    <tr>\n",
       "      <th>7</th>\n",
       "      <td>0.3</td>\n",
       "      <td>69</td>\n",
       "      <td>1.0</td>\n",
       "      <td>1.0</td>\n",
       "      <td>1.0</td>\n",
       "      <td>1.0</td>\n",
       "      <td>{'C': 0.1, 'gamma': 1, 'kernel': 'rbf'}</td>\n",
       "    </tr>\n",
       "    <tr>\n",
       "      <th>8</th>\n",
       "      <td>0.3</td>\n",
       "      <td>101</td>\n",
       "      <td>1.0</td>\n",
       "      <td>1.0</td>\n",
       "      <td>1.0</td>\n",
       "      <td>1.0</td>\n",
       "      <td>{'C': 0.1, 'gamma': 1, 'kernel': 'rbf'}</td>\n",
       "    </tr>\n",
       "    <tr>\n",
       "      <th>9</th>\n",
       "      <td>0.2</td>\n",
       "      <td>7</td>\n",
       "      <td>1.0</td>\n",
       "      <td>1.0</td>\n",
       "      <td>1.0</td>\n",
       "      <td>1.0</td>\n",
       "      <td>{'C': 0.1, 'gamma': 1, 'kernel': 'rbf'}</td>\n",
       "    </tr>\n",
       "    <tr>\n",
       "      <th>10</th>\n",
       "      <td>0.2</td>\n",
       "      <td>69</td>\n",
       "      <td>1.0</td>\n",
       "      <td>1.0</td>\n",
       "      <td>1.0</td>\n",
       "      <td>1.0</td>\n",
       "      <td>{'C': 0.1, 'gamma': 1, 'kernel': 'rbf'}</td>\n",
       "    </tr>\n",
       "    <tr>\n",
       "      <th>11</th>\n",
       "      <td>0.2</td>\n",
       "      <td>101</td>\n",
       "      <td>1.0</td>\n",
       "      <td>1.0</td>\n",
       "      <td>1.0</td>\n",
       "      <td>1.0</td>\n",
       "      <td>{'C': 0.1, 'gamma': 1, 'kernel': 'rbf'}</td>\n",
       "    </tr>\n",
       "  </tbody>\n",
       "</table>\n",
       "</div>"
      ],
      "text/plain": [
       "    Test Size  Random State  Accuracy  Precision  Recall  F1 Score  \\\n",
       "0         0.5             7       1.0        1.0     1.0       1.0   \n",
       "1         0.5            69       1.0        1.0     1.0       1.0   \n",
       "2         0.5           101       1.0        1.0     1.0       1.0   \n",
       "3         0.4             7       1.0        1.0     1.0       1.0   \n",
       "4         0.4            69       1.0        1.0     1.0       1.0   \n",
       "5         0.4           101       1.0        1.0     1.0       1.0   \n",
       "6         0.3             7       1.0        1.0     1.0       1.0   \n",
       "7         0.3            69       1.0        1.0     1.0       1.0   \n",
       "8         0.3           101       1.0        1.0     1.0       1.0   \n",
       "9         0.2             7       1.0        1.0     1.0       1.0   \n",
       "10        0.2            69       1.0        1.0     1.0       1.0   \n",
       "11        0.2           101       1.0        1.0     1.0       1.0   \n",
       "\n",
       "                                 Best Param  \n",
       "0   {'C': 0.1, 'gamma': 1, 'kernel': 'rbf'}  \n",
       "1   {'C': 0.1, 'gamma': 1, 'kernel': 'rbf'}  \n",
       "2   {'C': 0.1, 'gamma': 1, 'kernel': 'rbf'}  \n",
       "3   {'C': 0.1, 'gamma': 1, 'kernel': 'rbf'}  \n",
       "4   {'C': 0.1, 'gamma': 1, 'kernel': 'rbf'}  \n",
       "5   {'C': 0.1, 'gamma': 1, 'kernel': 'rbf'}  \n",
       "6   {'C': 0.1, 'gamma': 1, 'kernel': 'rbf'}  \n",
       "7   {'C': 0.1, 'gamma': 1, 'kernel': 'rbf'}  \n",
       "8   {'C': 0.1, 'gamma': 1, 'kernel': 'rbf'}  \n",
       "9   {'C': 0.1, 'gamma': 1, 'kernel': 'rbf'}  \n",
       "10  {'C': 0.1, 'gamma': 1, 'kernel': 'rbf'}  \n",
       "11  {'C': 0.1, 'gamma': 1, 'kernel': 'rbf'}  "
      ]
     },
     "execution_count": 36,
     "metadata": {},
     "output_type": "execute_result"
    }
   ],
   "source": [
    "tempB_ROS = []\n",
    "\n",
    "y = merge_B_ROS[['CGPA']]\n",
    "X = merge_B_ROS.drop(columns=['CGPA'])\n",
    "\n",
    "for i in [0.5,0.4,0.3,0.2]:\n",
    "    for j in rand_states:\n",
    "        X_train, X_test, y_train, y_test = train_test_split(X, y, test_size=i, random_state=j)\n",
    "        param_grid = {'C': [0.1, 1, 10, 100],\n",
    "                      'gamma': [1, 0.1, 0.01, 0.001],\n",
    "                      'kernel': ['rbf','sigmoid']}\n",
    "\n",
    "        model = GridSearchCV(SVC(random_state=0), param_grid, refit=True, n_jobs=-1, cv=10, verbose=1)\n",
    "        model.fit(X_train, y_train)\n",
    "        pred = model.predict(X_test)\n",
    "        \n",
    "        acc = accuracy_score(y_test,pred)\n",
    "        pre = precision_score(y_test, pred, average='weighted')\n",
    "        recall = recall_score(y_test, pred, average='weighted')\n",
    "        f1 = f1_score(y_test, pred, average='weighted')\n",
    "        param = model.best_params_\n",
    "    \n",
    "        tempB_ROS.append([i,j,acc,pre,recall,f1,param])\n",
    "        \n",
    "dfB_ROS = pd.DataFrame(columns=['Test Size','Random State','Accuracy','Precision','Recall','F1 Score','Best Param'],data=tempB_ROS)\n",
    "dfB_ROS"
   ]
  },
  {
   "cell_type": "code",
   "execution_count": 37,
   "id": "2f6959bd-400c-4c0b-96a7-74d678362d27",
   "metadata": {},
   "outputs": [
    {
     "data": {
      "text/html": [
       "<div>\n",
       "<style scoped>\n",
       "    .dataframe tbody tr th:only-of-type {\n",
       "        vertical-align: middle;\n",
       "    }\n",
       "\n",
       "    .dataframe tbody tr th {\n",
       "        vertical-align: top;\n",
       "    }\n",
       "\n",
       "    .dataframe thead th {\n",
       "        text-align: right;\n",
       "    }\n",
       "</style>\n",
       "<table border=\"1\" class=\"dataframe\">\n",
       "  <thead>\n",
       "    <tr style=\"text-align: right;\">\n",
       "      <th></th>\n",
       "      <th>Accuracy</th>\n",
       "      <th>Precision</th>\n",
       "      <th>Recall</th>\n",
       "      <th>F1 Score</th>\n",
       "    </tr>\n",
       "    <tr>\n",
       "      <th>Test Size</th>\n",
       "      <th></th>\n",
       "      <th></th>\n",
       "      <th></th>\n",
       "      <th></th>\n",
       "    </tr>\n",
       "  </thead>\n",
       "  <tbody>\n",
       "    <tr>\n",
       "      <th>0.2</th>\n",
       "      <td>1.0</td>\n",
       "      <td>1.0</td>\n",
       "      <td>1.0</td>\n",
       "      <td>1.0</td>\n",
       "    </tr>\n",
       "    <tr>\n",
       "      <th>0.3</th>\n",
       "      <td>1.0</td>\n",
       "      <td>1.0</td>\n",
       "      <td>1.0</td>\n",
       "      <td>1.0</td>\n",
       "    </tr>\n",
       "    <tr>\n",
       "      <th>0.4</th>\n",
       "      <td>1.0</td>\n",
       "      <td>1.0</td>\n",
       "      <td>1.0</td>\n",
       "      <td>1.0</td>\n",
       "    </tr>\n",
       "    <tr>\n",
       "      <th>0.5</th>\n",
       "      <td>1.0</td>\n",
       "      <td>1.0</td>\n",
       "      <td>1.0</td>\n",
       "      <td>1.0</td>\n",
       "    </tr>\n",
       "  </tbody>\n",
       "</table>\n",
       "</div>"
      ],
      "text/plain": [
       "           Accuracy  Precision  Recall  F1 Score\n",
       "Test Size                                       \n",
       "0.2             1.0        1.0     1.0       1.0\n",
       "0.3             1.0        1.0     1.0       1.0\n",
       "0.4             1.0        1.0     1.0       1.0\n",
       "0.5             1.0        1.0     1.0       1.0"
      ]
     },
     "execution_count": 37,
     "metadata": {},
     "output_type": "execute_result"
    }
   ],
   "source": [
    "dfB_ROS.groupby('Test Size')[['Accuracy','Precision','Recall','F1 Score']].mean()"
   ]
  },
  {
   "cell_type": "markdown",
   "id": "cd383bc2-90fb-456f-b1e4-624619771932",
   "metadata": {},
   "source": [
    "### AA after SMOTE"
   ]
  },
  {
   "cell_type": "code",
   "execution_count": 38,
   "id": "c249ad88-7663-41b6-aae4-7be6213c5066",
   "metadata": {},
   "outputs": [
    {
     "name": "stdout",
     "output_type": "stream",
     "text": [
      "Fitting 10 folds for each of 32 candidates, totalling 320 fits\n"
     ]
    },
    {
     "name": "stderr",
     "output_type": "stream",
     "text": [
      "C:\\Users\\hazel\\anaconda3\\Lib\\site-packages\\sklearn\\utils\\validation.py:1143: DataConversionWarning: A column-vector y was passed when a 1d array was expected. Please change the shape of y to (n_samples, ), for example using ravel().\n",
      "  y = column_or_1d(y, warn=True)\n"
     ]
    },
    {
     "name": "stdout",
     "output_type": "stream",
     "text": [
      "Fitting 10 folds for each of 32 candidates, totalling 320 fits\n"
     ]
    },
    {
     "name": "stderr",
     "output_type": "stream",
     "text": [
      "C:\\Users\\hazel\\anaconda3\\Lib\\site-packages\\sklearn\\utils\\validation.py:1143: DataConversionWarning: A column-vector y was passed when a 1d array was expected. Please change the shape of y to (n_samples, ), for example using ravel().\n",
      "  y = column_or_1d(y, warn=True)\n"
     ]
    },
    {
     "name": "stdout",
     "output_type": "stream",
     "text": [
      "Fitting 10 folds for each of 32 candidates, totalling 320 fits\n"
     ]
    },
    {
     "name": "stderr",
     "output_type": "stream",
     "text": [
      "C:\\Users\\hazel\\anaconda3\\Lib\\site-packages\\sklearn\\utils\\validation.py:1143: DataConversionWarning: A column-vector y was passed when a 1d array was expected. Please change the shape of y to (n_samples, ), for example using ravel().\n",
      "  y = column_or_1d(y, warn=True)\n"
     ]
    },
    {
     "name": "stdout",
     "output_type": "stream",
     "text": [
      "Fitting 10 folds for each of 32 candidates, totalling 320 fits\n"
     ]
    },
    {
     "name": "stderr",
     "output_type": "stream",
     "text": [
      "C:\\Users\\hazel\\anaconda3\\Lib\\site-packages\\sklearn\\utils\\validation.py:1143: DataConversionWarning: A column-vector y was passed when a 1d array was expected. Please change the shape of y to (n_samples, ), for example using ravel().\n",
      "  y = column_or_1d(y, warn=True)\n"
     ]
    },
    {
     "name": "stdout",
     "output_type": "stream",
     "text": [
      "Fitting 10 folds for each of 32 candidates, totalling 320 fits\n"
     ]
    },
    {
     "name": "stderr",
     "output_type": "stream",
     "text": [
      "C:\\Users\\hazel\\anaconda3\\Lib\\site-packages\\sklearn\\utils\\validation.py:1143: DataConversionWarning: A column-vector y was passed when a 1d array was expected. Please change the shape of y to (n_samples, ), for example using ravel().\n",
      "  y = column_or_1d(y, warn=True)\n"
     ]
    },
    {
     "name": "stdout",
     "output_type": "stream",
     "text": [
      "Fitting 10 folds for each of 32 candidates, totalling 320 fits\n"
     ]
    },
    {
     "name": "stderr",
     "output_type": "stream",
     "text": [
      "C:\\Users\\hazel\\anaconda3\\Lib\\site-packages\\sklearn\\utils\\validation.py:1143: DataConversionWarning: A column-vector y was passed when a 1d array was expected. Please change the shape of y to (n_samples, ), for example using ravel().\n",
      "  y = column_or_1d(y, warn=True)\n"
     ]
    },
    {
     "name": "stdout",
     "output_type": "stream",
     "text": [
      "Fitting 10 folds for each of 32 candidates, totalling 320 fits\n"
     ]
    },
    {
     "name": "stderr",
     "output_type": "stream",
     "text": [
      "C:\\Users\\hazel\\anaconda3\\Lib\\site-packages\\sklearn\\utils\\validation.py:1143: DataConversionWarning: A column-vector y was passed when a 1d array was expected. Please change the shape of y to (n_samples, ), for example using ravel().\n",
      "  y = column_or_1d(y, warn=True)\n"
     ]
    },
    {
     "name": "stdout",
     "output_type": "stream",
     "text": [
      "Fitting 10 folds for each of 32 candidates, totalling 320 fits\n"
     ]
    },
    {
     "name": "stderr",
     "output_type": "stream",
     "text": [
      "C:\\Users\\hazel\\anaconda3\\Lib\\site-packages\\sklearn\\utils\\validation.py:1143: DataConversionWarning: A column-vector y was passed when a 1d array was expected. Please change the shape of y to (n_samples, ), for example using ravel().\n",
      "  y = column_or_1d(y, warn=True)\n"
     ]
    },
    {
     "name": "stdout",
     "output_type": "stream",
     "text": [
      "Fitting 10 folds for each of 32 candidates, totalling 320 fits\n"
     ]
    },
    {
     "name": "stderr",
     "output_type": "stream",
     "text": [
      "C:\\Users\\hazel\\anaconda3\\Lib\\site-packages\\sklearn\\utils\\validation.py:1143: DataConversionWarning: A column-vector y was passed when a 1d array was expected. Please change the shape of y to (n_samples, ), for example using ravel().\n",
      "  y = column_or_1d(y, warn=True)\n"
     ]
    },
    {
     "name": "stdout",
     "output_type": "stream",
     "text": [
      "Fitting 10 folds for each of 32 candidates, totalling 320 fits\n"
     ]
    },
    {
     "name": "stderr",
     "output_type": "stream",
     "text": [
      "C:\\Users\\hazel\\anaconda3\\Lib\\site-packages\\sklearn\\utils\\validation.py:1143: DataConversionWarning: A column-vector y was passed when a 1d array was expected. Please change the shape of y to (n_samples, ), for example using ravel().\n",
      "  y = column_or_1d(y, warn=True)\n"
     ]
    },
    {
     "name": "stdout",
     "output_type": "stream",
     "text": [
      "Fitting 10 folds for each of 32 candidates, totalling 320 fits\n"
     ]
    },
    {
     "name": "stderr",
     "output_type": "stream",
     "text": [
      "C:\\Users\\hazel\\anaconda3\\Lib\\site-packages\\sklearn\\utils\\validation.py:1143: DataConversionWarning: A column-vector y was passed when a 1d array was expected. Please change the shape of y to (n_samples, ), for example using ravel().\n",
      "  y = column_or_1d(y, warn=True)\n"
     ]
    },
    {
     "name": "stdout",
     "output_type": "stream",
     "text": [
      "Fitting 10 folds for each of 32 candidates, totalling 320 fits\n"
     ]
    },
    {
     "name": "stderr",
     "output_type": "stream",
     "text": [
      "C:\\Users\\hazel\\anaconda3\\Lib\\site-packages\\sklearn\\utils\\validation.py:1143: DataConversionWarning: A column-vector y was passed when a 1d array was expected. Please change the shape of y to (n_samples, ), for example using ravel().\n",
      "  y = column_or_1d(y, warn=True)\n"
     ]
    },
    {
     "data": {
      "text/html": [
       "<div>\n",
       "<style scoped>\n",
       "    .dataframe tbody tr th:only-of-type {\n",
       "        vertical-align: middle;\n",
       "    }\n",
       "\n",
       "    .dataframe tbody tr th {\n",
       "        vertical-align: top;\n",
       "    }\n",
       "\n",
       "    .dataframe thead th {\n",
       "        text-align: right;\n",
       "    }\n",
       "</style>\n",
       "<table border=\"1\" class=\"dataframe\">\n",
       "  <thead>\n",
       "    <tr style=\"text-align: right;\">\n",
       "      <th></th>\n",
       "      <th>Test Size</th>\n",
       "      <th>Random State</th>\n",
       "      <th>Accuracy</th>\n",
       "      <th>Precision</th>\n",
       "      <th>Recall</th>\n",
       "      <th>F1 Score</th>\n",
       "      <th>Best Param</th>\n",
       "    </tr>\n",
       "  </thead>\n",
       "  <tbody>\n",
       "    <tr>\n",
       "      <th>0</th>\n",
       "      <td>0.5</td>\n",
       "      <td>7</td>\n",
       "      <td>0.989764</td>\n",
       "      <td>0.989965</td>\n",
       "      <td>0.989764</td>\n",
       "      <td>0.989761</td>\n",
       "      <td>{'C': 10, 'gamma': 0.001, 'kernel': 'rbf'}</td>\n",
       "    </tr>\n",
       "    <tr>\n",
       "      <th>1</th>\n",
       "      <td>0.5</td>\n",
       "      <td>69</td>\n",
       "      <td>0.991339</td>\n",
       "      <td>0.991489</td>\n",
       "      <td>0.991339</td>\n",
       "      <td>0.991340</td>\n",
       "      <td>{'C': 100, 'gamma': 0.001, 'kernel': 'rbf'}</td>\n",
       "    </tr>\n",
       "    <tr>\n",
       "      <th>2</th>\n",
       "      <td>0.5</td>\n",
       "      <td>101</td>\n",
       "      <td>0.988189</td>\n",
       "      <td>0.988468</td>\n",
       "      <td>0.988189</td>\n",
       "      <td>0.988191</td>\n",
       "      <td>{'C': 100, 'gamma': 0.001, 'kernel': 'rbf'}</td>\n",
       "    </tr>\n",
       "    <tr>\n",
       "      <th>3</th>\n",
       "      <td>0.4</td>\n",
       "      <td>7</td>\n",
       "      <td>0.990157</td>\n",
       "      <td>0.990343</td>\n",
       "      <td>0.990157</td>\n",
       "      <td>0.990154</td>\n",
       "      <td>{'C': 10, 'gamma': 0.01, 'kernel': 'rbf'}</td>\n",
       "    </tr>\n",
       "    <tr>\n",
       "      <th>4</th>\n",
       "      <td>0.4</td>\n",
       "      <td>69</td>\n",
       "      <td>0.988189</td>\n",
       "      <td>0.988466</td>\n",
       "      <td>0.988189</td>\n",
       "      <td>0.988190</td>\n",
       "      <td>{'C': 100, 'gamma': 0.001, 'kernel': 'rbf'}</td>\n",
       "    </tr>\n",
       "    <tr>\n",
       "      <th>5</th>\n",
       "      <td>0.4</td>\n",
       "      <td>101</td>\n",
       "      <td>0.993110</td>\n",
       "      <td>0.993206</td>\n",
       "      <td>0.993110</td>\n",
       "      <td>0.993111</td>\n",
       "      <td>{'C': 100, 'gamma': 0.001, 'kernel': 'rbf'}</td>\n",
       "    </tr>\n",
       "    <tr>\n",
       "      <th>6</th>\n",
       "      <td>0.3</td>\n",
       "      <td>7</td>\n",
       "      <td>0.994751</td>\n",
       "      <td>0.994804</td>\n",
       "      <td>0.994751</td>\n",
       "      <td>0.994750</td>\n",
       "      <td>{'C': 10, 'gamma': 0.01, 'kernel': 'rbf'}</td>\n",
       "    </tr>\n",
       "    <tr>\n",
       "      <th>7</th>\n",
       "      <td>0.3</td>\n",
       "      <td>69</td>\n",
       "      <td>0.994751</td>\n",
       "      <td>0.994807</td>\n",
       "      <td>0.994751</td>\n",
       "      <td>0.994751</td>\n",
       "      <td>{'C': 100, 'gamma': 0.001, 'kernel': 'rbf'}</td>\n",
       "    </tr>\n",
       "    <tr>\n",
       "      <th>8</th>\n",
       "      <td>0.3</td>\n",
       "      <td>101</td>\n",
       "      <td>0.998688</td>\n",
       "      <td>0.998691</td>\n",
       "      <td>0.998688</td>\n",
       "      <td>0.998688</td>\n",
       "      <td>{'C': 10, 'gamma': 0.01, 'kernel': 'rbf'}</td>\n",
       "    </tr>\n",
       "    <tr>\n",
       "      <th>9</th>\n",
       "      <td>0.2</td>\n",
       "      <td>7</td>\n",
       "      <td>1.000000</td>\n",
       "      <td>1.000000</td>\n",
       "      <td>1.000000</td>\n",
       "      <td>1.000000</td>\n",
       "      <td>{'C': 10, 'gamma': 0.01, 'kernel': 'rbf'}</td>\n",
       "    </tr>\n",
       "    <tr>\n",
       "      <th>10</th>\n",
       "      <td>0.2</td>\n",
       "      <td>69</td>\n",
       "      <td>0.994094</td>\n",
       "      <td>0.994165</td>\n",
       "      <td>0.994094</td>\n",
       "      <td>0.994095</td>\n",
       "      <td>{'C': 10, 'gamma': 0.01, 'kernel': 'rbf'}</td>\n",
       "    </tr>\n",
       "    <tr>\n",
       "      <th>11</th>\n",
       "      <td>0.2</td>\n",
       "      <td>101</td>\n",
       "      <td>0.994094</td>\n",
       "      <td>0.994167</td>\n",
       "      <td>0.994094</td>\n",
       "      <td>0.994096</td>\n",
       "      <td>{'C': 100, 'gamma': 0.001, 'kernel': 'rbf'}</td>\n",
       "    </tr>\n",
       "  </tbody>\n",
       "</table>\n",
       "</div>"
      ],
      "text/plain": [
       "    Test Size  Random State  Accuracy  Precision    Recall  F1 Score  \\\n",
       "0         0.5             7  0.989764   0.989965  0.989764  0.989761   \n",
       "1         0.5            69  0.991339   0.991489  0.991339  0.991340   \n",
       "2         0.5           101  0.988189   0.988468  0.988189  0.988191   \n",
       "3         0.4             7  0.990157   0.990343  0.990157  0.990154   \n",
       "4         0.4            69  0.988189   0.988466  0.988189  0.988190   \n",
       "5         0.4           101  0.993110   0.993206  0.993110  0.993111   \n",
       "6         0.3             7  0.994751   0.994804  0.994751  0.994750   \n",
       "7         0.3            69  0.994751   0.994807  0.994751  0.994751   \n",
       "8         0.3           101  0.998688   0.998691  0.998688  0.998688   \n",
       "9         0.2             7  1.000000   1.000000  1.000000  1.000000   \n",
       "10        0.2            69  0.994094   0.994165  0.994094  0.994095   \n",
       "11        0.2           101  0.994094   0.994167  0.994094  0.994096   \n",
       "\n",
       "                                     Best Param  \n",
       "0    {'C': 10, 'gamma': 0.001, 'kernel': 'rbf'}  \n",
       "1   {'C': 100, 'gamma': 0.001, 'kernel': 'rbf'}  \n",
       "2   {'C': 100, 'gamma': 0.001, 'kernel': 'rbf'}  \n",
       "3     {'C': 10, 'gamma': 0.01, 'kernel': 'rbf'}  \n",
       "4   {'C': 100, 'gamma': 0.001, 'kernel': 'rbf'}  \n",
       "5   {'C': 100, 'gamma': 0.001, 'kernel': 'rbf'}  \n",
       "6     {'C': 10, 'gamma': 0.01, 'kernel': 'rbf'}  \n",
       "7   {'C': 100, 'gamma': 0.001, 'kernel': 'rbf'}  \n",
       "8     {'C': 10, 'gamma': 0.01, 'kernel': 'rbf'}  \n",
       "9     {'C': 10, 'gamma': 0.01, 'kernel': 'rbf'}  \n",
       "10    {'C': 10, 'gamma': 0.01, 'kernel': 'rbf'}  \n",
       "11  {'C': 100, 'gamma': 0.001, 'kernel': 'rbf'}  "
      ]
     },
     "execution_count": 38,
     "metadata": {},
     "output_type": "execute_result"
    }
   ],
   "source": [
    "tempB_SMOTE = []\n",
    "\n",
    "y = merge_B_SMOTE[['CGPA']]\n",
    "X = merge_B_SMOTE.drop(columns=['CGPA'])\n",
    "\n",
    "for i in [0.5,0.4,0.3,0.2]:\n",
    "    for j in rand_states:\n",
    "        X_train, X_test, y_train, y_test = train_test_split(X, y, test_size=i, random_state=j)\n",
    "        param_grid = {'C': [0.1, 1, 10, 100],\n",
    "                      'gamma': [1, 0.1, 0.01, 0.001],\n",
    "                      'kernel': ['rbf','sigmoid']}\n",
    "\n",
    "        model = GridSearchCV(SVC(random_state=0), param_grid, refit=True, n_jobs=-1, cv=10, verbose=1)\n",
    "        model.fit(X_train, y_train)\n",
    "        pred = model.predict(X_test)\n",
    "        \n",
    "        acc = accuracy_score(y_test,pred)\n",
    "        pre = precision_score(y_test, pred, average='weighted')\n",
    "        recall = recall_score(y_test, pred, average='weighted')\n",
    "        f1 = f1_score(y_test, pred, average='weighted')\n",
    "        param = model.best_params_\n",
    "    \n",
    "        tempB_SMOTE.append([i,j,acc,pre,recall,f1,param])\n",
    "        \n",
    "dfB_SMOTE = pd.DataFrame(columns=['Test Size','Random State','Accuracy','Precision','Recall','F1 Score','Best Param'],data=tempB_SMOTE)\n",
    "dfB_SMOTE"
   ]
  },
  {
   "cell_type": "code",
   "execution_count": 39,
   "id": "85bb7f61-23a5-4da2-862d-3df1b4daf1fb",
   "metadata": {},
   "outputs": [
    {
     "data": {
      "text/html": [
       "<div>\n",
       "<style scoped>\n",
       "    .dataframe tbody tr th:only-of-type {\n",
       "        vertical-align: middle;\n",
       "    }\n",
       "\n",
       "    .dataframe tbody tr th {\n",
       "        vertical-align: top;\n",
       "    }\n",
       "\n",
       "    .dataframe thead th {\n",
       "        text-align: right;\n",
       "    }\n",
       "</style>\n",
       "<table border=\"1\" class=\"dataframe\">\n",
       "  <thead>\n",
       "    <tr style=\"text-align: right;\">\n",
       "      <th></th>\n",
       "      <th>Accuracy</th>\n",
       "      <th>Precision</th>\n",
       "      <th>Recall</th>\n",
       "      <th>F1 Score</th>\n",
       "    </tr>\n",
       "    <tr>\n",
       "      <th>Test Size</th>\n",
       "      <th></th>\n",
       "      <th></th>\n",
       "      <th></th>\n",
       "      <th></th>\n",
       "    </tr>\n",
       "  </thead>\n",
       "  <tbody>\n",
       "    <tr>\n",
       "      <th>0.2</th>\n",
       "      <td>0.996063</td>\n",
       "      <td>0.996111</td>\n",
       "      <td>0.996063</td>\n",
       "      <td>0.996064</td>\n",
       "    </tr>\n",
       "    <tr>\n",
       "      <th>0.3</th>\n",
       "      <td>0.996063</td>\n",
       "      <td>0.996101</td>\n",
       "      <td>0.996063</td>\n",
       "      <td>0.996063</td>\n",
       "    </tr>\n",
       "    <tr>\n",
       "      <th>0.4</th>\n",
       "      <td>0.990486</td>\n",
       "      <td>0.990672</td>\n",
       "      <td>0.990486</td>\n",
       "      <td>0.990485</td>\n",
       "    </tr>\n",
       "    <tr>\n",
       "      <th>0.5</th>\n",
       "      <td>0.989764</td>\n",
       "      <td>0.989974</td>\n",
       "      <td>0.989764</td>\n",
       "      <td>0.989764</td>\n",
       "    </tr>\n",
       "  </tbody>\n",
       "</table>\n",
       "</div>"
      ],
      "text/plain": [
       "           Accuracy  Precision    Recall  F1 Score\n",
       "Test Size                                         \n",
       "0.2        0.996063   0.996111  0.996063  0.996064\n",
       "0.3        0.996063   0.996101  0.996063  0.996063\n",
       "0.4        0.990486   0.990672  0.990486  0.990485\n",
       "0.5        0.989764   0.989974  0.989764  0.989764"
      ]
     },
     "execution_count": 39,
     "metadata": {},
     "output_type": "execute_result"
    }
   ],
   "source": [
    "dfB_SMOTE.groupby('Test Size')[['Accuracy','Precision','Recall','F1 Score']].mean()"
   ]
  },
  {
   "cell_type": "markdown",
   "id": "55ee2804-99f8-40ad-ad23-ee565abe3c24",
   "metadata": {},
   "source": [
    "# 5-Level Classification"
   ]
  },
  {
   "cell_type": "markdown",
   "id": "6fcd196a-b30a-48af-9aed-c85ecca845d0",
   "metadata": {},
   "source": [
    "## Student Background"
   ]
  },
  {
   "cell_type": "markdown",
   "id": "a773c6b6-2391-4f24-8eaf-bda0d9745d5d",
   "metadata": {},
   "source": [
    "### SB before Data Balancing"
   ]
  },
  {
   "cell_type": "code",
   "execution_count": 40,
   "id": "f3d42a01-37ef-4826-80b4-9a30c8eb7a5b",
   "metadata": {},
   "outputs": [
    {
     "name": "stderr",
     "output_type": "stream",
     "text": [
      "C:\\Users\\hazel\\anaconda3\\Lib\\site-packages\\sklearn\\model_selection\\_split.py:700: UserWarning: The least populated class in y has only 8 members, which is less than n_splits=10.\n",
      "  warnings.warn(\n"
     ]
    },
    {
     "name": "stdout",
     "output_type": "stream",
     "text": [
      "X: (1287, 9) y: (1287, 1)\n",
      "Fitting 10 folds for each of 32 candidates, totalling 320 fits\n"
     ]
    },
    {
     "name": "stderr",
     "output_type": "stream",
     "text": [
      "C:\\Users\\hazel\\anaconda3\\Lib\\site-packages\\sklearn\\utils\\validation.py:1143: DataConversionWarning: A column-vector y was passed when a 1d array was expected. Please change the shape of y to (n_samples, ), for example using ravel().\n",
      "  y = column_or_1d(y, warn=True)\n",
      "C:\\Users\\hazel\\anaconda3\\Lib\\site-packages\\sklearn\\metrics\\_classification.py:1344: UndefinedMetricWarning: Precision is ill-defined and being set to 0.0 in labels with no predicted samples. Use `zero_division` parameter to control this behavior.\n",
      "  _warn_prf(average, modifier, msg_start, len(result))\n",
      "C:\\Users\\hazel\\anaconda3\\Lib\\site-packages\\sklearn\\model_selection\\_split.py:700: UserWarning: The least populated class in y has only 8 members, which is less than n_splits=10.\n",
      "  warnings.warn(\n"
     ]
    },
    {
     "name": "stdout",
     "output_type": "stream",
     "text": [
      "Fitting 10 folds for each of 32 candidates, totalling 320 fits\n"
     ]
    },
    {
     "name": "stderr",
     "output_type": "stream",
     "text": [
      "C:\\Users\\hazel\\anaconda3\\Lib\\site-packages\\sklearn\\utils\\validation.py:1143: DataConversionWarning: A column-vector y was passed when a 1d array was expected. Please change the shape of y to (n_samples, ), for example using ravel().\n",
      "  y = column_or_1d(y, warn=True)\n",
      "C:\\Users\\hazel\\anaconda3\\Lib\\site-packages\\sklearn\\metrics\\_classification.py:1344: UndefinedMetricWarning: Precision is ill-defined and being set to 0.0 in labels with no predicted samples. Use `zero_division` parameter to control this behavior.\n",
      "  _warn_prf(average, modifier, msg_start, len(result))\n",
      "C:\\Users\\hazel\\anaconda3\\Lib\\site-packages\\sklearn\\model_selection\\_split.py:700: UserWarning: The least populated class in y has only 8 members, which is less than n_splits=10.\n",
      "  warnings.warn(\n"
     ]
    },
    {
     "name": "stdout",
     "output_type": "stream",
     "text": [
      "Fitting 10 folds for each of 32 candidates, totalling 320 fits\n"
     ]
    },
    {
     "name": "stderr",
     "output_type": "stream",
     "text": [
      "C:\\Users\\hazel\\anaconda3\\Lib\\site-packages\\sklearn\\utils\\validation.py:1143: DataConversionWarning: A column-vector y was passed when a 1d array was expected. Please change the shape of y to (n_samples, ), for example using ravel().\n",
      "  y = column_or_1d(y, warn=True)\n",
      "C:\\Users\\hazel\\anaconda3\\Lib\\site-packages\\sklearn\\metrics\\_classification.py:1344: UndefinedMetricWarning: Precision is ill-defined and being set to 0.0 in labels with no predicted samples. Use `zero_division` parameter to control this behavior.\n",
      "  _warn_prf(average, modifier, msg_start, len(result))\n"
     ]
    },
    {
     "name": "stdout",
     "output_type": "stream",
     "text": [
      "Fitting 10 folds for each of 32 candidates, totalling 320 fits\n"
     ]
    },
    {
     "name": "stderr",
     "output_type": "stream",
     "text": [
      "C:\\Users\\hazel\\anaconda3\\Lib\\site-packages\\sklearn\\utils\\validation.py:1143: DataConversionWarning: A column-vector y was passed when a 1d array was expected. Please change the shape of y to (n_samples, ), for example using ravel().\n",
      "  y = column_or_1d(y, warn=True)\n",
      "C:\\Users\\hazel\\anaconda3\\Lib\\site-packages\\sklearn\\metrics\\_classification.py:1344: UndefinedMetricWarning: Precision is ill-defined and being set to 0.0 in labels with no predicted samples. Use `zero_division` parameter to control this behavior.\n",
      "  _warn_prf(average, modifier, msg_start, len(result))\n",
      "C:\\Users\\hazel\\anaconda3\\Lib\\site-packages\\sklearn\\model_selection\\_split.py:700: UserWarning: The least populated class in y has only 9 members, which is less than n_splits=10.\n",
      "  warnings.warn(\n"
     ]
    },
    {
     "name": "stdout",
     "output_type": "stream",
     "text": [
      "Fitting 10 folds for each of 32 candidates, totalling 320 fits\n"
     ]
    },
    {
     "name": "stderr",
     "output_type": "stream",
     "text": [
      "C:\\Users\\hazel\\anaconda3\\Lib\\site-packages\\sklearn\\utils\\validation.py:1143: DataConversionWarning: A column-vector y was passed when a 1d array was expected. Please change the shape of y to (n_samples, ), for example using ravel().\n",
      "  y = column_or_1d(y, warn=True)\n",
      "C:\\Users\\hazel\\anaconda3\\Lib\\site-packages\\sklearn\\metrics\\_classification.py:1344: UndefinedMetricWarning: Precision is ill-defined and being set to 0.0 in labels with no predicted samples. Use `zero_division` parameter to control this behavior.\n",
      "  _warn_prf(average, modifier, msg_start, len(result))\n"
     ]
    },
    {
     "name": "stdout",
     "output_type": "stream",
     "text": [
      "Fitting 10 folds for each of 32 candidates, totalling 320 fits\n"
     ]
    },
    {
     "name": "stderr",
     "output_type": "stream",
     "text": [
      "C:\\Users\\hazel\\anaconda3\\Lib\\site-packages\\sklearn\\utils\\validation.py:1143: DataConversionWarning: A column-vector y was passed when a 1d array was expected. Please change the shape of y to (n_samples, ), for example using ravel().\n",
      "  y = column_or_1d(y, warn=True)\n",
      "C:\\Users\\hazel\\anaconda3\\Lib\\site-packages\\sklearn\\metrics\\_classification.py:1344: UndefinedMetricWarning: Precision is ill-defined and being set to 0.0 in labels with no predicted samples. Use `zero_division` parameter to control this behavior.\n",
      "  _warn_prf(average, modifier, msg_start, len(result))\n"
     ]
    },
    {
     "name": "stdout",
     "output_type": "stream",
     "text": [
      "Fitting 10 folds for each of 32 candidates, totalling 320 fits\n"
     ]
    },
    {
     "name": "stderr",
     "output_type": "stream",
     "text": [
      "C:\\Users\\hazel\\anaconda3\\Lib\\site-packages\\sklearn\\utils\\validation.py:1143: DataConversionWarning: A column-vector y was passed when a 1d array was expected. Please change the shape of y to (n_samples, ), for example using ravel().\n",
      "  y = column_or_1d(y, warn=True)\n",
      "C:\\Users\\hazel\\anaconda3\\Lib\\site-packages\\sklearn\\metrics\\_classification.py:1344: UndefinedMetricWarning: Precision is ill-defined and being set to 0.0 in labels with no predicted samples. Use `zero_division` parameter to control this behavior.\n",
      "  _warn_prf(average, modifier, msg_start, len(result))\n"
     ]
    },
    {
     "name": "stdout",
     "output_type": "stream",
     "text": [
      "Fitting 10 folds for each of 32 candidates, totalling 320 fits\n"
     ]
    },
    {
     "name": "stderr",
     "output_type": "stream",
     "text": [
      "C:\\Users\\hazel\\anaconda3\\Lib\\site-packages\\sklearn\\utils\\validation.py:1143: DataConversionWarning: A column-vector y was passed when a 1d array was expected. Please change the shape of y to (n_samples, ), for example using ravel().\n",
      "  y = column_or_1d(y, warn=True)\n",
      "C:\\Users\\hazel\\anaconda3\\Lib\\site-packages\\sklearn\\metrics\\_classification.py:1344: UndefinedMetricWarning: Precision is ill-defined and being set to 0.0 in labels with no predicted samples. Use `zero_division` parameter to control this behavior.\n",
      "  _warn_prf(average, modifier, msg_start, len(result))\n"
     ]
    },
    {
     "name": "stdout",
     "output_type": "stream",
     "text": [
      "Fitting 10 folds for each of 32 candidates, totalling 320 fits\n"
     ]
    },
    {
     "name": "stderr",
     "output_type": "stream",
     "text": [
      "C:\\Users\\hazel\\anaconda3\\Lib\\site-packages\\sklearn\\utils\\validation.py:1143: DataConversionWarning: A column-vector y was passed when a 1d array was expected. Please change the shape of y to (n_samples, ), for example using ravel().\n",
      "  y = column_or_1d(y, warn=True)\n",
      "C:\\Users\\hazel\\anaconda3\\Lib\\site-packages\\sklearn\\metrics\\_classification.py:1344: UndefinedMetricWarning: Precision is ill-defined and being set to 0.0 in labels with no predicted samples. Use `zero_division` parameter to control this behavior.\n",
      "  _warn_prf(average, modifier, msg_start, len(result))\n"
     ]
    },
    {
     "name": "stdout",
     "output_type": "stream",
     "text": [
      "Fitting 10 folds for each of 32 candidates, totalling 320 fits\n"
     ]
    },
    {
     "name": "stderr",
     "output_type": "stream",
     "text": [
      "C:\\Users\\hazel\\anaconda3\\Lib\\site-packages\\sklearn\\utils\\validation.py:1143: DataConversionWarning: A column-vector y was passed when a 1d array was expected. Please change the shape of y to (n_samples, ), for example using ravel().\n",
      "  y = column_or_1d(y, warn=True)\n",
      "C:\\Users\\hazel\\anaconda3\\Lib\\site-packages\\sklearn\\metrics\\_classification.py:1344: UndefinedMetricWarning: Precision is ill-defined and being set to 0.0 in labels with no predicted samples. Use `zero_division` parameter to control this behavior.\n",
      "  _warn_prf(average, modifier, msg_start, len(result))\n"
     ]
    },
    {
     "name": "stdout",
     "output_type": "stream",
     "text": [
      "Fitting 10 folds for each of 32 candidates, totalling 320 fits\n"
     ]
    },
    {
     "name": "stderr",
     "output_type": "stream",
     "text": [
      "C:\\Users\\hazel\\anaconda3\\Lib\\site-packages\\sklearn\\utils\\validation.py:1143: DataConversionWarning: A column-vector y was passed when a 1d array was expected. Please change the shape of y to (n_samples, ), for example using ravel().\n",
      "  y = column_or_1d(y, warn=True)\n",
      "C:\\Users\\hazel\\anaconda3\\Lib\\site-packages\\sklearn\\metrics\\_classification.py:1344: UndefinedMetricWarning: Precision is ill-defined and being set to 0.0 in labels with no predicted samples. Use `zero_division` parameter to control this behavior.\n",
      "  _warn_prf(average, modifier, msg_start, len(result))\n"
     ]
    },
    {
     "name": "stdout",
     "output_type": "stream",
     "text": [
      "Fitting 10 folds for each of 32 candidates, totalling 320 fits\n"
     ]
    },
    {
     "name": "stderr",
     "output_type": "stream",
     "text": [
      "C:\\Users\\hazel\\anaconda3\\Lib\\site-packages\\sklearn\\utils\\validation.py:1143: DataConversionWarning: A column-vector y was passed when a 1d array was expected. Please change the shape of y to (n_samples, ), for example using ravel().\n",
      "  y = column_or_1d(y, warn=True)\n",
      "C:\\Users\\hazel\\anaconda3\\Lib\\site-packages\\sklearn\\metrics\\_classification.py:1344: UndefinedMetricWarning: Precision is ill-defined and being set to 0.0 in labels with no predicted samples. Use `zero_division` parameter to control this behavior.\n",
      "  _warn_prf(average, modifier, msg_start, len(result))\n"
     ]
    },
    {
     "data": {
      "text/html": [
       "<div>\n",
       "<style scoped>\n",
       "    .dataframe tbody tr th:only-of-type {\n",
       "        vertical-align: middle;\n",
       "    }\n",
       "\n",
       "    .dataframe tbody tr th {\n",
       "        vertical-align: top;\n",
       "    }\n",
       "\n",
       "    .dataframe thead th {\n",
       "        text-align: right;\n",
       "    }\n",
       "</style>\n",
       "<table border=\"1\" class=\"dataframe\">\n",
       "  <thead>\n",
       "    <tr style=\"text-align: right;\">\n",
       "      <th></th>\n",
       "      <th>Test Size</th>\n",
       "      <th>Random State</th>\n",
       "      <th>Accuracy</th>\n",
       "      <th>Precision</th>\n",
       "      <th>Recall</th>\n",
       "      <th>F1 Score</th>\n",
       "      <th>Best Param</th>\n",
       "    </tr>\n",
       "  </thead>\n",
       "  <tbody>\n",
       "    <tr>\n",
       "      <th>0</th>\n",
       "      <td>0.5</td>\n",
       "      <td>7</td>\n",
       "      <td>0.459627</td>\n",
       "      <td>0.211257</td>\n",
       "      <td>0.459627</td>\n",
       "      <td>0.289467</td>\n",
       "      <td>{'C': 0.1, 'gamma': 1, 'kernel': 'rbf'}</td>\n",
       "    </tr>\n",
       "    <tr>\n",
       "      <th>1</th>\n",
       "      <td>0.5</td>\n",
       "      <td>69</td>\n",
       "      <td>0.489130</td>\n",
       "      <td>0.239249</td>\n",
       "      <td>0.489130</td>\n",
       "      <td>0.321327</td>\n",
       "      <td>{'C': 0.1, 'gamma': 1, 'kernel': 'rbf'}</td>\n",
       "    </tr>\n",
       "    <tr>\n",
       "      <th>2</th>\n",
       "      <td>0.5</td>\n",
       "      <td>101</td>\n",
       "      <td>0.500000</td>\n",
       "      <td>0.250000</td>\n",
       "      <td>0.500000</td>\n",
       "      <td>0.333333</td>\n",
       "      <td>{'C': 1, 'gamma': 0.01, 'kernel': 'sigmoid'}</td>\n",
       "    </tr>\n",
       "    <tr>\n",
       "      <th>3</th>\n",
       "      <td>0.4</td>\n",
       "      <td>7</td>\n",
       "      <td>0.452427</td>\n",
       "      <td>0.204690</td>\n",
       "      <td>0.452427</td>\n",
       "      <td>0.281860</td>\n",
       "      <td>{'C': 0.1, 'gamma': 1, 'kernel': 'rbf'}</td>\n",
       "    </tr>\n",
       "    <tr>\n",
       "      <th>4</th>\n",
       "      <td>0.4</td>\n",
       "      <td>69</td>\n",
       "      <td>0.493204</td>\n",
       "      <td>0.243250</td>\n",
       "      <td>0.493204</td>\n",
       "      <td>0.325810</td>\n",
       "      <td>{'C': 0.1, 'gamma': 1, 'kernel': 'rbf'}</td>\n",
       "    </tr>\n",
       "    <tr>\n",
       "      <th>5</th>\n",
       "      <td>0.4</td>\n",
       "      <td>101</td>\n",
       "      <td>0.489320</td>\n",
       "      <td>0.239434</td>\n",
       "      <td>0.489320</td>\n",
       "      <td>0.321535</td>\n",
       "      <td>{'C': 0.1, 'gamma': 1, 'kernel': 'rbf'}</td>\n",
       "    </tr>\n",
       "    <tr>\n",
       "      <th>6</th>\n",
       "      <td>0.3</td>\n",
       "      <td>7</td>\n",
       "      <td>0.465116</td>\n",
       "      <td>0.216333</td>\n",
       "      <td>0.465116</td>\n",
       "      <td>0.295312</td>\n",
       "      <td>{'C': 0.1, 'gamma': 1, 'kernel': 'rbf'}</td>\n",
       "    </tr>\n",
       "    <tr>\n",
       "      <th>7</th>\n",
       "      <td>0.3</td>\n",
       "      <td>69</td>\n",
       "      <td>0.501292</td>\n",
       "      <td>0.251294</td>\n",
       "      <td>0.501292</td>\n",
       "      <td>0.334770</td>\n",
       "      <td>{'C': 0.1, 'gamma': 1, 'kernel': 'rbf'}</td>\n",
       "    </tr>\n",
       "    <tr>\n",
       "      <th>8</th>\n",
       "      <td>0.3</td>\n",
       "      <td>101</td>\n",
       "      <td>0.488372</td>\n",
       "      <td>0.238507</td>\n",
       "      <td>0.488372</td>\n",
       "      <td>0.320494</td>\n",
       "      <td>{'C': 0.1, 'gamma': 1, 'kernel': 'rbf'}</td>\n",
       "    </tr>\n",
       "    <tr>\n",
       "      <th>9</th>\n",
       "      <td>0.2</td>\n",
       "      <td>7</td>\n",
       "      <td>0.476744</td>\n",
       "      <td>0.227285</td>\n",
       "      <td>0.476744</td>\n",
       "      <td>0.307819</td>\n",
       "      <td>{'C': 0.1, 'gamma': 1, 'kernel': 'rbf'}</td>\n",
       "    </tr>\n",
       "    <tr>\n",
       "      <th>10</th>\n",
       "      <td>0.2</td>\n",
       "      <td>69</td>\n",
       "      <td>0.500000</td>\n",
       "      <td>0.534899</td>\n",
       "      <td>0.500000</td>\n",
       "      <td>0.341553</td>\n",
       "      <td>{'C': 100, 'gamma': 0.001, 'kernel': 'rbf'}</td>\n",
       "    </tr>\n",
       "    <tr>\n",
       "      <th>11</th>\n",
       "      <td>0.2</td>\n",
       "      <td>101</td>\n",
       "      <td>0.500000</td>\n",
       "      <td>0.250000</td>\n",
       "      <td>0.500000</td>\n",
       "      <td>0.333333</td>\n",
       "      <td>{'C': 0.1, 'gamma': 1, 'kernel': 'rbf'}</td>\n",
       "    </tr>\n",
       "  </tbody>\n",
       "</table>\n",
       "</div>"
      ],
      "text/plain": [
       "    Test Size  Random State  Accuracy  Precision    Recall  F1 Score  \\\n",
       "0         0.5             7  0.459627   0.211257  0.459627  0.289467   \n",
       "1         0.5            69  0.489130   0.239249  0.489130  0.321327   \n",
       "2         0.5           101  0.500000   0.250000  0.500000  0.333333   \n",
       "3         0.4             7  0.452427   0.204690  0.452427  0.281860   \n",
       "4         0.4            69  0.493204   0.243250  0.493204  0.325810   \n",
       "5         0.4           101  0.489320   0.239434  0.489320  0.321535   \n",
       "6         0.3             7  0.465116   0.216333  0.465116  0.295312   \n",
       "7         0.3            69  0.501292   0.251294  0.501292  0.334770   \n",
       "8         0.3           101  0.488372   0.238507  0.488372  0.320494   \n",
       "9         0.2             7  0.476744   0.227285  0.476744  0.307819   \n",
       "10        0.2            69  0.500000   0.534899  0.500000  0.341553   \n",
       "11        0.2           101  0.500000   0.250000  0.500000  0.333333   \n",
       "\n",
       "                                      Best Param  \n",
       "0        {'C': 0.1, 'gamma': 1, 'kernel': 'rbf'}  \n",
       "1        {'C': 0.1, 'gamma': 1, 'kernel': 'rbf'}  \n",
       "2   {'C': 1, 'gamma': 0.01, 'kernel': 'sigmoid'}  \n",
       "3        {'C': 0.1, 'gamma': 1, 'kernel': 'rbf'}  \n",
       "4        {'C': 0.1, 'gamma': 1, 'kernel': 'rbf'}  \n",
       "5        {'C': 0.1, 'gamma': 1, 'kernel': 'rbf'}  \n",
       "6        {'C': 0.1, 'gamma': 1, 'kernel': 'rbf'}  \n",
       "7        {'C': 0.1, 'gamma': 1, 'kernel': 'rbf'}  \n",
       "8        {'C': 0.1, 'gamma': 1, 'kernel': 'rbf'}  \n",
       "9        {'C': 0.1, 'gamma': 1, 'kernel': 'rbf'}  \n",
       "10   {'C': 100, 'gamma': 0.001, 'kernel': 'rbf'}  \n",
       "11       {'C': 0.1, 'gamma': 1, 'kernel': 'rbf'}  "
      ]
     },
     "execution_count": 40,
     "metadata": {},
     "output_type": "execute_result"
    }
   ],
   "source": [
    "temp5L_SB_imb = []\n",
    "\n",
    "y = merge_5L_imb[['CGPA']]\n",
    "X = merge_5L_imb[['Age','Gender','Nationality', 'Living Status', 'Home Town', 'Faculty', 'Education Level',\n",
    "                     'Years of Study', 'Completed Credit Hours']]\n",
    "\n",
    "print(\"X:\", X.shape,\"y:\", y.shape)\n",
    "\n",
    "for i in [0.5,0.4,0.3,0.2]:\n",
    "    for j in rand_states:\n",
    "        X_train, X_test, y_train, y_test = train_test_split(X, y, test_size=i, random_state=j)\n",
    "        param_grid = {'C': [0.1, 1, 10, 100],\n",
    "                      'gamma': [1, 0.1, 0.01, 0.001],\n",
    "                      'kernel': ['rbf','sigmoid']}\n",
    "\n",
    "        model = GridSearchCV(SVC(random_state=0), param_grid, refit=True, n_jobs=-1, cv=10, verbose=1)\n",
    "        model.fit(X_train, y_train)\n",
    "        pred = model.predict(X_test)\n",
    "        \n",
    "        acc = accuracy_score(y_test,pred)\n",
    "        pre = precision_score(y_test, pred, average='weighted')\n",
    "        recall = recall_score(y_test, pred, average='weighted')\n",
    "        f1 = f1_score(y_test, pred, average='weighted')\n",
    "        param = model.best_params_\n",
    "        \n",
    "        temp5L_SB_imb.append([i,j,acc,pre,recall,f1,param])\n",
    "        \n",
    "df5L_SB_imb = pd.DataFrame(columns=['Test Size','Random State','Accuracy','Precision','Recall','F1 Score','Best Param'],data=temp5L_SB_imb)\n",
    "df5L_SB_imb"
   ]
  },
  {
   "cell_type": "code",
   "execution_count": 41,
   "id": "347cd0ee-fd83-4eae-ba71-3b50933e1023",
   "metadata": {},
   "outputs": [
    {
     "data": {
      "text/html": [
       "<div>\n",
       "<style scoped>\n",
       "    .dataframe tbody tr th:only-of-type {\n",
       "        vertical-align: middle;\n",
       "    }\n",
       "\n",
       "    .dataframe tbody tr th {\n",
       "        vertical-align: top;\n",
       "    }\n",
       "\n",
       "    .dataframe thead th {\n",
       "        text-align: right;\n",
       "    }\n",
       "</style>\n",
       "<table border=\"1\" class=\"dataframe\">\n",
       "  <thead>\n",
       "    <tr style=\"text-align: right;\">\n",
       "      <th></th>\n",
       "      <th>Accuracy</th>\n",
       "      <th>Precision</th>\n",
       "      <th>Recall</th>\n",
       "      <th>F1 Score</th>\n",
       "    </tr>\n",
       "    <tr>\n",
       "      <th>Test Size</th>\n",
       "      <th></th>\n",
       "      <th></th>\n",
       "      <th></th>\n",
       "      <th></th>\n",
       "    </tr>\n",
       "  </thead>\n",
       "  <tbody>\n",
       "    <tr>\n",
       "      <th>0.2</th>\n",
       "      <td>0.492248</td>\n",
       "      <td>0.337395</td>\n",
       "      <td>0.492248</td>\n",
       "      <td>0.327568</td>\n",
       "    </tr>\n",
       "    <tr>\n",
       "      <th>0.3</th>\n",
       "      <td>0.484927</td>\n",
       "      <td>0.235378</td>\n",
       "      <td>0.484927</td>\n",
       "      <td>0.316859</td>\n",
       "    </tr>\n",
       "    <tr>\n",
       "      <th>0.4</th>\n",
       "      <td>0.478317</td>\n",
       "      <td>0.229125</td>\n",
       "      <td>0.478317</td>\n",
       "      <td>0.309735</td>\n",
       "    </tr>\n",
       "    <tr>\n",
       "      <th>0.5</th>\n",
       "      <td>0.482919</td>\n",
       "      <td>0.233502</td>\n",
       "      <td>0.482919</td>\n",
       "      <td>0.314709</td>\n",
       "    </tr>\n",
       "  </tbody>\n",
       "</table>\n",
       "</div>"
      ],
      "text/plain": [
       "           Accuracy  Precision    Recall  F1 Score\n",
       "Test Size                                         \n",
       "0.2        0.492248   0.337395  0.492248  0.327568\n",
       "0.3        0.484927   0.235378  0.484927  0.316859\n",
       "0.4        0.478317   0.229125  0.478317  0.309735\n",
       "0.5        0.482919   0.233502  0.482919  0.314709"
      ]
     },
     "execution_count": 41,
     "metadata": {},
     "output_type": "execute_result"
    }
   ],
   "source": [
    "df5L_SB_imb.groupby('Test Size')[['Accuracy','Precision','Recall','F1 Score']].mean()"
   ]
  },
  {
   "cell_type": "markdown",
   "id": "70dcfdd0-aaf4-45eb-83d3-431fa9f02a15",
   "metadata": {},
   "source": [
    "### SB after RandomOverSampler"
   ]
  },
  {
   "cell_type": "code",
   "execution_count": 42,
   "id": "60d75f91-03d3-4ac6-989f-5e6897a4c02f",
   "metadata": {},
   "outputs": [
    {
     "name": "stdout",
     "output_type": "stream",
     "text": [
      "Fitting 10 folds for each of 32 candidates, totalling 320 fits\n"
     ]
    },
    {
     "name": "stderr",
     "output_type": "stream",
     "text": [
      "C:\\Users\\hazel\\anaconda3\\Lib\\site-packages\\sklearn\\utils\\validation.py:1143: DataConversionWarning: A column-vector y was passed when a 1d array was expected. Please change the shape of y to (n_samples, ), for example using ravel().\n",
      "  y = column_or_1d(y, warn=True)\n"
     ]
    },
    {
     "name": "stdout",
     "output_type": "stream",
     "text": [
      "Fitting 10 folds for each of 32 candidates, totalling 320 fits\n"
     ]
    },
    {
     "name": "stderr",
     "output_type": "stream",
     "text": [
      "C:\\Users\\hazel\\anaconda3\\Lib\\site-packages\\sklearn\\utils\\validation.py:1143: DataConversionWarning: A column-vector y was passed when a 1d array was expected. Please change the shape of y to (n_samples, ), for example using ravel().\n",
      "  y = column_or_1d(y, warn=True)\n"
     ]
    },
    {
     "name": "stdout",
     "output_type": "stream",
     "text": [
      "Fitting 10 folds for each of 32 candidates, totalling 320 fits\n"
     ]
    },
    {
     "name": "stderr",
     "output_type": "stream",
     "text": [
      "C:\\Users\\hazel\\anaconda3\\Lib\\site-packages\\sklearn\\utils\\validation.py:1143: DataConversionWarning: A column-vector y was passed when a 1d array was expected. Please change the shape of y to (n_samples, ), for example using ravel().\n",
      "  y = column_or_1d(y, warn=True)\n"
     ]
    },
    {
     "name": "stdout",
     "output_type": "stream",
     "text": [
      "Fitting 10 folds for each of 32 candidates, totalling 320 fits\n"
     ]
    },
    {
     "name": "stderr",
     "output_type": "stream",
     "text": [
      "C:\\Users\\hazel\\anaconda3\\Lib\\site-packages\\sklearn\\utils\\validation.py:1143: DataConversionWarning: A column-vector y was passed when a 1d array was expected. Please change the shape of y to (n_samples, ), for example using ravel().\n",
      "  y = column_or_1d(y, warn=True)\n"
     ]
    },
    {
     "name": "stdout",
     "output_type": "stream",
     "text": [
      "Fitting 10 folds for each of 32 candidates, totalling 320 fits\n"
     ]
    },
    {
     "name": "stderr",
     "output_type": "stream",
     "text": [
      "C:\\Users\\hazel\\anaconda3\\Lib\\site-packages\\sklearn\\utils\\validation.py:1143: DataConversionWarning: A column-vector y was passed when a 1d array was expected. Please change the shape of y to (n_samples, ), for example using ravel().\n",
      "  y = column_or_1d(y, warn=True)\n"
     ]
    },
    {
     "name": "stdout",
     "output_type": "stream",
     "text": [
      "Fitting 10 folds for each of 32 candidates, totalling 320 fits\n"
     ]
    },
    {
     "name": "stderr",
     "output_type": "stream",
     "text": [
      "C:\\Users\\hazel\\anaconda3\\Lib\\site-packages\\sklearn\\utils\\validation.py:1143: DataConversionWarning: A column-vector y was passed when a 1d array was expected. Please change the shape of y to (n_samples, ), for example using ravel().\n",
      "  y = column_or_1d(y, warn=True)\n"
     ]
    },
    {
     "name": "stdout",
     "output_type": "stream",
     "text": [
      "Fitting 10 folds for each of 32 candidates, totalling 320 fits\n"
     ]
    },
    {
     "name": "stderr",
     "output_type": "stream",
     "text": [
      "C:\\Users\\hazel\\anaconda3\\Lib\\site-packages\\sklearn\\utils\\validation.py:1143: DataConversionWarning: A column-vector y was passed when a 1d array was expected. Please change the shape of y to (n_samples, ), for example using ravel().\n",
      "  y = column_or_1d(y, warn=True)\n"
     ]
    },
    {
     "name": "stdout",
     "output_type": "stream",
     "text": [
      "Fitting 10 folds for each of 32 candidates, totalling 320 fits\n"
     ]
    },
    {
     "name": "stderr",
     "output_type": "stream",
     "text": [
      "C:\\Users\\hazel\\anaconda3\\Lib\\site-packages\\sklearn\\utils\\validation.py:1143: DataConversionWarning: A column-vector y was passed when a 1d array was expected. Please change the shape of y to (n_samples, ), for example using ravel().\n",
      "  y = column_or_1d(y, warn=True)\n"
     ]
    },
    {
     "name": "stdout",
     "output_type": "stream",
     "text": [
      "Fitting 10 folds for each of 32 candidates, totalling 320 fits\n"
     ]
    },
    {
     "name": "stderr",
     "output_type": "stream",
     "text": [
      "C:\\Users\\hazel\\anaconda3\\Lib\\site-packages\\sklearn\\utils\\validation.py:1143: DataConversionWarning: A column-vector y was passed when a 1d array was expected. Please change the shape of y to (n_samples, ), for example using ravel().\n",
      "  y = column_or_1d(y, warn=True)\n"
     ]
    },
    {
     "name": "stdout",
     "output_type": "stream",
     "text": [
      "Fitting 10 folds for each of 32 candidates, totalling 320 fits\n"
     ]
    },
    {
     "name": "stderr",
     "output_type": "stream",
     "text": [
      "C:\\Users\\hazel\\anaconda3\\Lib\\site-packages\\sklearn\\utils\\validation.py:1143: DataConversionWarning: A column-vector y was passed when a 1d array was expected. Please change the shape of y to (n_samples, ), for example using ravel().\n",
      "  y = column_or_1d(y, warn=True)\n"
     ]
    },
    {
     "name": "stdout",
     "output_type": "stream",
     "text": [
      "Fitting 10 folds for each of 32 candidates, totalling 320 fits\n"
     ]
    },
    {
     "name": "stderr",
     "output_type": "stream",
     "text": [
      "C:\\Users\\hazel\\anaconda3\\Lib\\site-packages\\sklearn\\utils\\validation.py:1143: DataConversionWarning: A column-vector y was passed when a 1d array was expected. Please change the shape of y to (n_samples, ), for example using ravel().\n",
      "  y = column_or_1d(y, warn=True)\n"
     ]
    },
    {
     "name": "stdout",
     "output_type": "stream",
     "text": [
      "Fitting 10 folds for each of 32 candidates, totalling 320 fits\n"
     ]
    },
    {
     "name": "stderr",
     "output_type": "stream",
     "text": [
      "C:\\Users\\hazel\\anaconda3\\Lib\\site-packages\\sklearn\\utils\\validation.py:1143: DataConversionWarning: A column-vector y was passed when a 1d array was expected. Please change the shape of y to (n_samples, ), for example using ravel().\n",
      "  y = column_or_1d(y, warn=True)\n"
     ]
    },
    {
     "data": {
      "text/html": [
       "<div>\n",
       "<style scoped>\n",
       "    .dataframe tbody tr th:only-of-type {\n",
       "        vertical-align: middle;\n",
       "    }\n",
       "\n",
       "    .dataframe tbody tr th {\n",
       "        vertical-align: top;\n",
       "    }\n",
       "\n",
       "    .dataframe thead th {\n",
       "        text-align: right;\n",
       "    }\n",
       "</style>\n",
       "<table border=\"1\" class=\"dataframe\">\n",
       "  <thead>\n",
       "    <tr style=\"text-align: right;\">\n",
       "      <th></th>\n",
       "      <th>Test Size</th>\n",
       "      <th>Random State</th>\n",
       "      <th>Accuracy</th>\n",
       "      <th>Precision</th>\n",
       "      <th>Recall</th>\n",
       "      <th>F1 Score</th>\n",
       "      <th>Best Param</th>\n",
       "    </tr>\n",
       "  </thead>\n",
       "  <tbody>\n",
       "    <tr>\n",
       "      <th>0</th>\n",
       "      <td>0.5</td>\n",
       "      <td>7</td>\n",
       "      <td>0.750486</td>\n",
       "      <td>0.748856</td>\n",
       "      <td>0.750486</td>\n",
       "      <td>0.748540</td>\n",
       "      <td>{'C': 1, 'gamma': 1, 'kernel': 'rbf'}</td>\n",
       "    </tr>\n",
       "    <tr>\n",
       "      <th>1</th>\n",
       "      <td>0.5</td>\n",
       "      <td>69</td>\n",
       "      <td>0.752430</td>\n",
       "      <td>0.749467</td>\n",
       "      <td>0.752430</td>\n",
       "      <td>0.750617</td>\n",
       "      <td>{'C': 10, 'gamma': 1, 'kernel': 'rbf'}</td>\n",
       "    </tr>\n",
       "    <tr>\n",
       "      <th>2</th>\n",
       "      <td>0.5</td>\n",
       "      <td>101</td>\n",
       "      <td>0.730395</td>\n",
       "      <td>0.723916</td>\n",
       "      <td>0.730395</td>\n",
       "      <td>0.724345</td>\n",
       "      <td>{'C': 10, 'gamma': 1, 'kernel': 'rbf'}</td>\n",
       "    </tr>\n",
       "    <tr>\n",
       "      <th>3</th>\n",
       "      <td>0.4</td>\n",
       "      <td>7</td>\n",
       "      <td>0.772285</td>\n",
       "      <td>0.764437</td>\n",
       "      <td>0.772285</td>\n",
       "      <td>0.767436</td>\n",
       "      <td>{'C': 10, 'gamma': 1, 'kernel': 'rbf'}</td>\n",
       "    </tr>\n",
       "    <tr>\n",
       "      <th>4</th>\n",
       "      <td>0.4</td>\n",
       "      <td>69</td>\n",
       "      <td>0.772285</td>\n",
       "      <td>0.771364</td>\n",
       "      <td>0.772285</td>\n",
       "      <td>0.769913</td>\n",
       "      <td>{'C': 1, 'gamma': 1, 'kernel': 'rbf'}</td>\n",
       "    </tr>\n",
       "    <tr>\n",
       "      <th>5</th>\n",
       "      <td>0.4</td>\n",
       "      <td>101</td>\n",
       "      <td>0.735818</td>\n",
       "      <td>0.728679</td>\n",
       "      <td>0.735818</td>\n",
       "      <td>0.730228</td>\n",
       "      <td>{'C': 10, 'gamma': 1, 'kernel': 'rbf'}</td>\n",
       "    </tr>\n",
       "    <tr>\n",
       "      <th>6</th>\n",
       "      <td>0.3</td>\n",
       "      <td>7</td>\n",
       "      <td>0.771058</td>\n",
       "      <td>0.761349</td>\n",
       "      <td>0.771058</td>\n",
       "      <td>0.764018</td>\n",
       "      <td>{'C': 10, 'gamma': 1, 'kernel': 'rbf'}</td>\n",
       "    </tr>\n",
       "    <tr>\n",
       "      <th>7</th>\n",
       "      <td>0.3</td>\n",
       "      <td>69</td>\n",
       "      <td>0.786177</td>\n",
       "      <td>0.783505</td>\n",
       "      <td>0.786177</td>\n",
       "      <td>0.784177</td>\n",
       "      <td>{'C': 1, 'gamma': 1, 'kernel': 'rbf'}</td>\n",
       "    </tr>\n",
       "    <tr>\n",
       "      <th>8</th>\n",
       "      <td>0.3</td>\n",
       "      <td>101</td>\n",
       "      <td>0.788337</td>\n",
       "      <td>0.783510</td>\n",
       "      <td>0.788337</td>\n",
       "      <td>0.783990</td>\n",
       "      <td>{'C': 10, 'gamma': 1, 'kernel': 'rbf'}</td>\n",
       "    </tr>\n",
       "    <tr>\n",
       "      <th>9</th>\n",
       "      <td>0.2</td>\n",
       "      <td>7</td>\n",
       "      <td>0.795786</td>\n",
       "      <td>0.788578</td>\n",
       "      <td>0.795786</td>\n",
       "      <td>0.791131</td>\n",
       "      <td>{'C': 10, 'gamma': 1, 'kernel': 'rbf'}</td>\n",
       "    </tr>\n",
       "    <tr>\n",
       "      <th>10</th>\n",
       "      <td>0.2</td>\n",
       "      <td>69</td>\n",
       "      <td>0.805511</td>\n",
       "      <td>0.799915</td>\n",
       "      <td>0.805511</td>\n",
       "      <td>0.801923</td>\n",
       "      <td>{'C': 10, 'gamma': 1, 'kernel': 'rbf'}</td>\n",
       "    </tr>\n",
       "    <tr>\n",
       "      <th>11</th>\n",
       "      <td>0.2</td>\n",
       "      <td>101</td>\n",
       "      <td>0.811994</td>\n",
       "      <td>0.808654</td>\n",
       "      <td>0.811994</td>\n",
       "      <td>0.808734</td>\n",
       "      <td>{'C': 10, 'gamma': 1, 'kernel': 'rbf'}</td>\n",
       "    </tr>\n",
       "  </tbody>\n",
       "</table>\n",
       "</div>"
      ],
      "text/plain": [
       "    Test Size  Random State  Accuracy  Precision    Recall  F1 Score  \\\n",
       "0         0.5             7  0.750486   0.748856  0.750486  0.748540   \n",
       "1         0.5            69  0.752430   0.749467  0.752430  0.750617   \n",
       "2         0.5           101  0.730395   0.723916  0.730395  0.724345   \n",
       "3         0.4             7  0.772285   0.764437  0.772285  0.767436   \n",
       "4         0.4            69  0.772285   0.771364  0.772285  0.769913   \n",
       "5         0.4           101  0.735818   0.728679  0.735818  0.730228   \n",
       "6         0.3             7  0.771058   0.761349  0.771058  0.764018   \n",
       "7         0.3            69  0.786177   0.783505  0.786177  0.784177   \n",
       "8         0.3           101  0.788337   0.783510  0.788337  0.783990   \n",
       "9         0.2             7  0.795786   0.788578  0.795786  0.791131   \n",
       "10        0.2            69  0.805511   0.799915  0.805511  0.801923   \n",
       "11        0.2           101  0.811994   0.808654  0.811994  0.808734   \n",
       "\n",
       "                                Best Param  \n",
       "0    {'C': 1, 'gamma': 1, 'kernel': 'rbf'}  \n",
       "1   {'C': 10, 'gamma': 1, 'kernel': 'rbf'}  \n",
       "2   {'C': 10, 'gamma': 1, 'kernel': 'rbf'}  \n",
       "3   {'C': 10, 'gamma': 1, 'kernel': 'rbf'}  \n",
       "4    {'C': 1, 'gamma': 1, 'kernel': 'rbf'}  \n",
       "5   {'C': 10, 'gamma': 1, 'kernel': 'rbf'}  \n",
       "6   {'C': 10, 'gamma': 1, 'kernel': 'rbf'}  \n",
       "7    {'C': 1, 'gamma': 1, 'kernel': 'rbf'}  \n",
       "8   {'C': 10, 'gamma': 1, 'kernel': 'rbf'}  \n",
       "9   {'C': 10, 'gamma': 1, 'kernel': 'rbf'}  \n",
       "10  {'C': 10, 'gamma': 1, 'kernel': 'rbf'}  \n",
       "11  {'C': 10, 'gamma': 1, 'kernel': 'rbf'}  "
      ]
     },
     "execution_count": 42,
     "metadata": {},
     "output_type": "execute_result"
    }
   ],
   "source": [
    "temp5L_SB_ROS = []\n",
    "\n",
    "y = merge_5L_ROS[['CGPA']]\n",
    "X = merge_5L_ROS[['Age','Gender','Nationality', 'Living Status', 'Home Town', 'Faculty', 'Education Level',\n",
    "                     'Years of Study', 'Completed Credit Hours']]\n",
    "\n",
    "for i in [0.5,0.4,0.3,0.2]:\n",
    "    for j in rand_states:\n",
    "        X_train, X_test, y_train, y_test = train_test_split(X, y, test_size=i, random_state=j)\n",
    "        param_grid = {'C': [0.1, 1, 10, 100],\n",
    "                      'gamma': [1, 0.1, 0.01, 0.001],\n",
    "                      'kernel': ['rbf','sigmoid']}\n",
    "\n",
    "        model = GridSearchCV(SVC(random_state=0), param_grid, refit=True, n_jobs=-1, cv=10, verbose=1)\n",
    "        model.fit(X_train, y_train)\n",
    "        pred = model.predict(X_test)\n",
    "        \n",
    "        acc = accuracy_score(y_test,pred)\n",
    "        pre = precision_score(y_test, pred, average='weighted')\n",
    "        recall = recall_score(y_test, pred, average='weighted')\n",
    "        f1 = f1_score(y_test, pred, average='weighted')\n",
    "        param = model.best_params_\n",
    "        \n",
    "        temp5L_SB_ROS.append([i,j,acc,pre,recall,f1,param])\n",
    "        \n",
    "df5L_SB_ROS = pd.DataFrame(columns=['Test Size','Random State','Accuracy','Precision','Recall','F1 Score','Best Param'],data=temp5L_SB_ROS)\n",
    "df5L_SB_ROS"
   ]
  },
  {
   "cell_type": "code",
   "execution_count": 43,
   "id": "901ad6f1-f5c1-471e-9d15-e84a69ce391a",
   "metadata": {},
   "outputs": [
    {
     "data": {
      "text/html": [
       "<div>\n",
       "<style scoped>\n",
       "    .dataframe tbody tr th:only-of-type {\n",
       "        vertical-align: middle;\n",
       "    }\n",
       "\n",
       "    .dataframe tbody tr th {\n",
       "        vertical-align: top;\n",
       "    }\n",
       "\n",
       "    .dataframe thead th {\n",
       "        text-align: right;\n",
       "    }\n",
       "</style>\n",
       "<table border=\"1\" class=\"dataframe\">\n",
       "  <thead>\n",
       "    <tr style=\"text-align: right;\">\n",
       "      <th></th>\n",
       "      <th>Accuracy</th>\n",
       "      <th>Precision</th>\n",
       "      <th>Recall</th>\n",
       "      <th>F1 Score</th>\n",
       "    </tr>\n",
       "    <tr>\n",
       "      <th>Test Size</th>\n",
       "      <th></th>\n",
       "      <th></th>\n",
       "      <th></th>\n",
       "      <th></th>\n",
       "    </tr>\n",
       "  </thead>\n",
       "  <tbody>\n",
       "    <tr>\n",
       "      <th>0.2</th>\n",
       "      <td>0.804430</td>\n",
       "      <td>0.799049</td>\n",
       "      <td>0.804430</td>\n",
       "      <td>0.800596</td>\n",
       "    </tr>\n",
       "    <tr>\n",
       "      <th>0.3</th>\n",
       "      <td>0.781857</td>\n",
       "      <td>0.776121</td>\n",
       "      <td>0.781857</td>\n",
       "      <td>0.777395</td>\n",
       "    </tr>\n",
       "    <tr>\n",
       "      <th>0.4</th>\n",
       "      <td>0.760130</td>\n",
       "      <td>0.754826</td>\n",
       "      <td>0.760130</td>\n",
       "      <td>0.755859</td>\n",
       "    </tr>\n",
       "    <tr>\n",
       "      <th>0.5</th>\n",
       "      <td>0.744437</td>\n",
       "      <td>0.740746</td>\n",
       "      <td>0.744437</td>\n",
       "      <td>0.741167</td>\n",
       "    </tr>\n",
       "  </tbody>\n",
       "</table>\n",
       "</div>"
      ],
      "text/plain": [
       "           Accuracy  Precision    Recall  F1 Score\n",
       "Test Size                                         \n",
       "0.2        0.804430   0.799049  0.804430  0.800596\n",
       "0.3        0.781857   0.776121  0.781857  0.777395\n",
       "0.4        0.760130   0.754826  0.760130  0.755859\n",
       "0.5        0.744437   0.740746  0.744437  0.741167"
      ]
     },
     "execution_count": 43,
     "metadata": {},
     "output_type": "execute_result"
    }
   ],
   "source": [
    "df5L_SB_ROS.groupby('Test Size')[['Accuracy','Precision','Recall','F1 Score']].mean()"
   ]
  },
  {
   "cell_type": "markdown",
   "id": "f5b8360f-66aa-4f1c-9e57-e80b1c9f2f0e",
   "metadata": {},
   "source": [
    "### SB after SMOTE"
   ]
  },
  {
   "cell_type": "code",
   "execution_count": 44,
   "id": "5b4a696d-00af-4c78-87ac-a14643235dad",
   "metadata": {},
   "outputs": [
    {
     "name": "stdout",
     "output_type": "stream",
     "text": [
      "Fitting 10 folds for each of 32 candidates, totalling 320 fits\n"
     ]
    },
    {
     "name": "stderr",
     "output_type": "stream",
     "text": [
      "C:\\Users\\hazel\\anaconda3\\Lib\\site-packages\\sklearn\\utils\\validation.py:1143: DataConversionWarning: A column-vector y was passed when a 1d array was expected. Please change the shape of y to (n_samples, ), for example using ravel().\n",
      "  y = column_or_1d(y, warn=True)\n"
     ]
    },
    {
     "name": "stdout",
     "output_type": "stream",
     "text": [
      "Fitting 10 folds for each of 32 candidates, totalling 320 fits\n"
     ]
    },
    {
     "name": "stderr",
     "output_type": "stream",
     "text": [
      "C:\\Users\\hazel\\anaconda3\\Lib\\site-packages\\sklearn\\utils\\validation.py:1143: DataConversionWarning: A column-vector y was passed when a 1d array was expected. Please change the shape of y to (n_samples, ), for example using ravel().\n",
      "  y = column_or_1d(y, warn=True)\n"
     ]
    },
    {
     "name": "stdout",
     "output_type": "stream",
     "text": [
      "Fitting 10 folds for each of 32 candidates, totalling 320 fits\n"
     ]
    },
    {
     "name": "stderr",
     "output_type": "stream",
     "text": [
      "C:\\Users\\hazel\\anaconda3\\Lib\\site-packages\\sklearn\\utils\\validation.py:1143: DataConversionWarning: A column-vector y was passed when a 1d array was expected. Please change the shape of y to (n_samples, ), for example using ravel().\n",
      "  y = column_or_1d(y, warn=True)\n"
     ]
    },
    {
     "name": "stdout",
     "output_type": "stream",
     "text": [
      "Fitting 10 folds for each of 32 candidates, totalling 320 fits\n"
     ]
    },
    {
     "name": "stderr",
     "output_type": "stream",
     "text": [
      "C:\\Users\\hazel\\anaconda3\\Lib\\site-packages\\sklearn\\utils\\validation.py:1143: DataConversionWarning: A column-vector y was passed when a 1d array was expected. Please change the shape of y to (n_samples, ), for example using ravel().\n",
      "  y = column_or_1d(y, warn=True)\n"
     ]
    },
    {
     "name": "stdout",
     "output_type": "stream",
     "text": [
      "Fitting 10 folds for each of 32 candidates, totalling 320 fits\n"
     ]
    },
    {
     "name": "stderr",
     "output_type": "stream",
     "text": [
      "C:\\Users\\hazel\\anaconda3\\Lib\\site-packages\\sklearn\\utils\\validation.py:1143: DataConversionWarning: A column-vector y was passed when a 1d array was expected. Please change the shape of y to (n_samples, ), for example using ravel().\n",
      "  y = column_or_1d(y, warn=True)\n"
     ]
    },
    {
     "name": "stdout",
     "output_type": "stream",
     "text": [
      "Fitting 10 folds for each of 32 candidates, totalling 320 fits\n"
     ]
    },
    {
     "name": "stderr",
     "output_type": "stream",
     "text": [
      "C:\\Users\\hazel\\anaconda3\\Lib\\site-packages\\sklearn\\utils\\validation.py:1143: DataConversionWarning: A column-vector y was passed when a 1d array was expected. Please change the shape of y to (n_samples, ), for example using ravel().\n",
      "  y = column_or_1d(y, warn=True)\n"
     ]
    },
    {
     "name": "stdout",
     "output_type": "stream",
     "text": [
      "Fitting 10 folds for each of 32 candidates, totalling 320 fits\n"
     ]
    },
    {
     "name": "stderr",
     "output_type": "stream",
     "text": [
      "C:\\Users\\hazel\\anaconda3\\Lib\\site-packages\\sklearn\\utils\\validation.py:1143: DataConversionWarning: A column-vector y was passed when a 1d array was expected. Please change the shape of y to (n_samples, ), for example using ravel().\n",
      "  y = column_or_1d(y, warn=True)\n"
     ]
    },
    {
     "name": "stdout",
     "output_type": "stream",
     "text": [
      "Fitting 10 folds for each of 32 candidates, totalling 320 fits\n"
     ]
    },
    {
     "name": "stderr",
     "output_type": "stream",
     "text": [
      "C:\\Users\\hazel\\anaconda3\\Lib\\site-packages\\sklearn\\utils\\validation.py:1143: DataConversionWarning: A column-vector y was passed when a 1d array was expected. Please change the shape of y to (n_samples, ), for example using ravel().\n",
      "  y = column_or_1d(y, warn=True)\n"
     ]
    },
    {
     "name": "stdout",
     "output_type": "stream",
     "text": [
      "Fitting 10 folds for each of 32 candidates, totalling 320 fits\n"
     ]
    },
    {
     "name": "stderr",
     "output_type": "stream",
     "text": [
      "C:\\Users\\hazel\\anaconda3\\Lib\\site-packages\\sklearn\\utils\\validation.py:1143: DataConversionWarning: A column-vector y was passed when a 1d array was expected. Please change the shape of y to (n_samples, ), for example using ravel().\n",
      "  y = column_or_1d(y, warn=True)\n"
     ]
    },
    {
     "name": "stdout",
     "output_type": "stream",
     "text": [
      "Fitting 10 folds for each of 32 candidates, totalling 320 fits\n"
     ]
    },
    {
     "name": "stderr",
     "output_type": "stream",
     "text": [
      "C:\\Users\\hazel\\anaconda3\\Lib\\site-packages\\sklearn\\utils\\validation.py:1143: DataConversionWarning: A column-vector y was passed when a 1d array was expected. Please change the shape of y to (n_samples, ), for example using ravel().\n",
      "  y = column_or_1d(y, warn=True)\n"
     ]
    },
    {
     "name": "stdout",
     "output_type": "stream",
     "text": [
      "Fitting 10 folds for each of 32 candidates, totalling 320 fits\n"
     ]
    },
    {
     "name": "stderr",
     "output_type": "stream",
     "text": [
      "C:\\Users\\hazel\\anaconda3\\Lib\\site-packages\\sklearn\\utils\\validation.py:1143: DataConversionWarning: A column-vector y was passed when a 1d array was expected. Please change the shape of y to (n_samples, ), for example using ravel().\n",
      "  y = column_or_1d(y, warn=True)\n"
     ]
    },
    {
     "name": "stdout",
     "output_type": "stream",
     "text": [
      "Fitting 10 folds for each of 32 candidates, totalling 320 fits\n"
     ]
    },
    {
     "name": "stderr",
     "output_type": "stream",
     "text": [
      "C:\\Users\\hazel\\anaconda3\\Lib\\site-packages\\sklearn\\utils\\validation.py:1143: DataConversionWarning: A column-vector y was passed when a 1d array was expected. Please change the shape of y to (n_samples, ), for example using ravel().\n",
      "  y = column_or_1d(y, warn=True)\n"
     ]
    },
    {
     "data": {
      "text/html": [
       "<div>\n",
       "<style scoped>\n",
       "    .dataframe tbody tr th:only-of-type {\n",
       "        vertical-align: middle;\n",
       "    }\n",
       "\n",
       "    .dataframe tbody tr th {\n",
       "        vertical-align: top;\n",
       "    }\n",
       "\n",
       "    .dataframe thead th {\n",
       "        text-align: right;\n",
       "    }\n",
       "</style>\n",
       "<table border=\"1\" class=\"dataframe\">\n",
       "  <thead>\n",
       "    <tr style=\"text-align: right;\">\n",
       "      <th></th>\n",
       "      <th>Test Size</th>\n",
       "      <th>Random State</th>\n",
       "      <th>Accuracy</th>\n",
       "      <th>Precision</th>\n",
       "      <th>Recall</th>\n",
       "      <th>F1 Score</th>\n",
       "      <th>Best Param</th>\n",
       "    </tr>\n",
       "  </thead>\n",
       "  <tbody>\n",
       "    <tr>\n",
       "      <th>0</th>\n",
       "      <td>0.5</td>\n",
       "      <td>7</td>\n",
       "      <td>0.550227</td>\n",
       "      <td>0.552977</td>\n",
       "      <td>0.550227</td>\n",
       "      <td>0.551132</td>\n",
       "      <td>{'C': 1, 'gamma': 1, 'kernel': 'rbf'}</td>\n",
       "    </tr>\n",
       "    <tr>\n",
       "      <th>1</th>\n",
       "      <td>0.5</td>\n",
       "      <td>69</td>\n",
       "      <td>0.513286</td>\n",
       "      <td>0.515058</td>\n",
       "      <td>0.513286</td>\n",
       "      <td>0.513397</td>\n",
       "      <td>{'C': 100, 'gamma': 0.1, 'kernel': 'rbf'}</td>\n",
       "    </tr>\n",
       "    <tr>\n",
       "      <th>2</th>\n",
       "      <td>0.5</td>\n",
       "      <td>101</td>\n",
       "      <td>0.536617</td>\n",
       "      <td>0.534262</td>\n",
       "      <td>0.536617</td>\n",
       "      <td>0.533260</td>\n",
       "      <td>{'C': 10, 'gamma': 1, 'kernel': 'rbf'}</td>\n",
       "    </tr>\n",
       "    <tr>\n",
       "      <th>3</th>\n",
       "      <td>0.4</td>\n",
       "      <td>7</td>\n",
       "      <td>0.555916</td>\n",
       "      <td>0.556666</td>\n",
       "      <td>0.555916</td>\n",
       "      <td>0.555820</td>\n",
       "      <td>{'C': 1, 'gamma': 1, 'kernel': 'rbf'}</td>\n",
       "    </tr>\n",
       "    <tr>\n",
       "      <th>4</th>\n",
       "      <td>0.4</td>\n",
       "      <td>69</td>\n",
       "      <td>0.547002</td>\n",
       "      <td>0.550525</td>\n",
       "      <td>0.547002</td>\n",
       "      <td>0.548504</td>\n",
       "      <td>{'C': 1, 'gamma': 1, 'kernel': 'rbf'}</td>\n",
       "    </tr>\n",
       "    <tr>\n",
       "      <th>5</th>\n",
       "      <td>0.4</td>\n",
       "      <td>101</td>\n",
       "      <td>0.530794</td>\n",
       "      <td>0.524227</td>\n",
       "      <td>0.530794</td>\n",
       "      <td>0.525214</td>\n",
       "      <td>{'C': 100, 'gamma': 0.1, 'kernel': 'rbf'}</td>\n",
       "    </tr>\n",
       "    <tr>\n",
       "      <th>6</th>\n",
       "      <td>0.3</td>\n",
       "      <td>7</td>\n",
       "      <td>0.556156</td>\n",
       "      <td>0.558294</td>\n",
       "      <td>0.556156</td>\n",
       "      <td>0.556251</td>\n",
       "      <td>{'C': 1, 'gamma': 1, 'kernel': 'rbf'}</td>\n",
       "    </tr>\n",
       "    <tr>\n",
       "      <th>7</th>\n",
       "      <td>0.3</td>\n",
       "      <td>69</td>\n",
       "      <td>0.571274</td>\n",
       "      <td>0.565228</td>\n",
       "      <td>0.571274</td>\n",
       "      <td>0.567898</td>\n",
       "      <td>{'C': 100, 'gamma': 0.1, 'kernel': 'rbf'}</td>\n",
       "    </tr>\n",
       "    <tr>\n",
       "      <th>8</th>\n",
       "      <td>0.3</td>\n",
       "      <td>101</td>\n",
       "      <td>0.558315</td>\n",
       "      <td>0.553616</td>\n",
       "      <td>0.558315</td>\n",
       "      <td>0.555220</td>\n",
       "      <td>{'C': 10, 'gamma': 1, 'kernel': 'rbf'}</td>\n",
       "    </tr>\n",
       "    <tr>\n",
       "      <th>9</th>\n",
       "      <td>0.2</td>\n",
       "      <td>7</td>\n",
       "      <td>0.568882</td>\n",
       "      <td>0.565836</td>\n",
       "      <td>0.568882</td>\n",
       "      <td>0.567275</td>\n",
       "      <td>{'C': 1, 'gamma': 1, 'kernel': 'rbf'}</td>\n",
       "    </tr>\n",
       "    <tr>\n",
       "      <th>10</th>\n",
       "      <td>0.2</td>\n",
       "      <td>69</td>\n",
       "      <td>0.586710</td>\n",
       "      <td>0.589035</td>\n",
       "      <td>0.586710</td>\n",
       "      <td>0.585373</td>\n",
       "      <td>{'C': 1, 'gamma': 1, 'kernel': 'rbf'}</td>\n",
       "    </tr>\n",
       "    <tr>\n",
       "      <th>11</th>\n",
       "      <td>0.2</td>\n",
       "      <td>101</td>\n",
       "      <td>0.580227</td>\n",
       "      <td>0.583572</td>\n",
       "      <td>0.580227</td>\n",
       "      <td>0.579481</td>\n",
       "      <td>{'C': 1, 'gamma': 1, 'kernel': 'rbf'}</td>\n",
       "    </tr>\n",
       "  </tbody>\n",
       "</table>\n",
       "</div>"
      ],
      "text/plain": [
       "    Test Size  Random State  Accuracy  Precision    Recall  F1 Score  \\\n",
       "0         0.5             7  0.550227   0.552977  0.550227  0.551132   \n",
       "1         0.5            69  0.513286   0.515058  0.513286  0.513397   \n",
       "2         0.5           101  0.536617   0.534262  0.536617  0.533260   \n",
       "3         0.4             7  0.555916   0.556666  0.555916  0.555820   \n",
       "4         0.4            69  0.547002   0.550525  0.547002  0.548504   \n",
       "5         0.4           101  0.530794   0.524227  0.530794  0.525214   \n",
       "6         0.3             7  0.556156   0.558294  0.556156  0.556251   \n",
       "7         0.3            69  0.571274   0.565228  0.571274  0.567898   \n",
       "8         0.3           101  0.558315   0.553616  0.558315  0.555220   \n",
       "9         0.2             7  0.568882   0.565836  0.568882  0.567275   \n",
       "10        0.2            69  0.586710   0.589035  0.586710  0.585373   \n",
       "11        0.2           101  0.580227   0.583572  0.580227  0.579481   \n",
       "\n",
       "                                   Best Param  \n",
       "0       {'C': 1, 'gamma': 1, 'kernel': 'rbf'}  \n",
       "1   {'C': 100, 'gamma': 0.1, 'kernel': 'rbf'}  \n",
       "2      {'C': 10, 'gamma': 1, 'kernel': 'rbf'}  \n",
       "3       {'C': 1, 'gamma': 1, 'kernel': 'rbf'}  \n",
       "4       {'C': 1, 'gamma': 1, 'kernel': 'rbf'}  \n",
       "5   {'C': 100, 'gamma': 0.1, 'kernel': 'rbf'}  \n",
       "6       {'C': 1, 'gamma': 1, 'kernel': 'rbf'}  \n",
       "7   {'C': 100, 'gamma': 0.1, 'kernel': 'rbf'}  \n",
       "8      {'C': 10, 'gamma': 1, 'kernel': 'rbf'}  \n",
       "9       {'C': 1, 'gamma': 1, 'kernel': 'rbf'}  \n",
       "10      {'C': 1, 'gamma': 1, 'kernel': 'rbf'}  \n",
       "11      {'C': 1, 'gamma': 1, 'kernel': 'rbf'}  "
      ]
     },
     "execution_count": 44,
     "metadata": {},
     "output_type": "execute_result"
    }
   ],
   "source": [
    "temp5L_SB_SMOTE = []\n",
    "\n",
    "y = merge_5L_SMOTE[['CGPA']]\n",
    "X = merge_5L_SMOTE[['Age','Gender','Nationality', 'Living Status', 'Home Town', 'Faculty', 'Education Level',\n",
    "                     'Years of Study', 'Completed Credit Hours']]\n",
    "\n",
    "for i in [0.5,0.4,0.3,0.2]:\n",
    "    for j in rand_states:\n",
    "        X_train, X_test, y_train, y_test = train_test_split(X, y, test_size=i, random_state=j)\n",
    "        param_grid = {'C': [0.1, 1, 10, 100],\n",
    "                      'gamma': [1, 0.1, 0.01, 0.001],\n",
    "                      'kernel': ['rbf','sigmoid']}\n",
    "\n",
    "        model = GridSearchCV(SVC(random_state=0), param_grid, refit=True, n_jobs=-1, cv=10, verbose=1)\n",
    "        model.fit(X_train, y_train)\n",
    "        pred = model.predict(X_test)\n",
    "        \n",
    "        acc = accuracy_score(y_test,pred)\n",
    "        pre = precision_score(y_test, pred, average='weighted')\n",
    "        recall = recall_score(y_test, pred, average='weighted')\n",
    "        f1 = f1_score(y_test, pred, average='weighted')\n",
    "        param = model.best_params_\n",
    "        \n",
    "        temp5L_SB_SMOTE.append([i,j,acc,pre,recall,f1,param])\n",
    "        \n",
    "df5L_SB_SMOTE = pd.DataFrame(columns=['Test Size','Random State','Accuracy','Precision','Recall','F1 Score','Best Param'],data=temp5L_SB_SMOTE)\n",
    "df5L_SB_SMOTE"
   ]
  },
  {
   "cell_type": "code",
   "execution_count": 45,
   "id": "82d12f06-4f48-400f-b139-ac7c13666769",
   "metadata": {},
   "outputs": [
    {
     "data": {
      "text/html": [
       "<div>\n",
       "<style scoped>\n",
       "    .dataframe tbody tr th:only-of-type {\n",
       "        vertical-align: middle;\n",
       "    }\n",
       "\n",
       "    .dataframe tbody tr th {\n",
       "        vertical-align: top;\n",
       "    }\n",
       "\n",
       "    .dataframe thead th {\n",
       "        text-align: right;\n",
       "    }\n",
       "</style>\n",
       "<table border=\"1\" class=\"dataframe\">\n",
       "  <thead>\n",
       "    <tr style=\"text-align: right;\">\n",
       "      <th></th>\n",
       "      <th>Accuracy</th>\n",
       "      <th>Precision</th>\n",
       "      <th>Recall</th>\n",
       "      <th>F1 Score</th>\n",
       "    </tr>\n",
       "    <tr>\n",
       "      <th>Test Size</th>\n",
       "      <th></th>\n",
       "      <th></th>\n",
       "      <th></th>\n",
       "      <th></th>\n",
       "    </tr>\n",
       "  </thead>\n",
       "  <tbody>\n",
       "    <tr>\n",
       "      <th>0.2</th>\n",
       "      <td>0.578606</td>\n",
       "      <td>0.579481</td>\n",
       "      <td>0.578606</td>\n",
       "      <td>0.577376</td>\n",
       "    </tr>\n",
       "    <tr>\n",
       "      <th>0.3</th>\n",
       "      <td>0.561915</td>\n",
       "      <td>0.559046</td>\n",
       "      <td>0.561915</td>\n",
       "      <td>0.559790</td>\n",
       "    </tr>\n",
       "    <tr>\n",
       "      <th>0.4</th>\n",
       "      <td>0.544571</td>\n",
       "      <td>0.543806</td>\n",
       "      <td>0.544571</td>\n",
       "      <td>0.543179</td>\n",
       "    </tr>\n",
       "    <tr>\n",
       "      <th>0.5</th>\n",
       "      <td>0.533377</td>\n",
       "      <td>0.534099</td>\n",
       "      <td>0.533377</td>\n",
       "      <td>0.532596</td>\n",
       "    </tr>\n",
       "  </tbody>\n",
       "</table>\n",
       "</div>"
      ],
      "text/plain": [
       "           Accuracy  Precision    Recall  F1 Score\n",
       "Test Size                                         \n",
       "0.2        0.578606   0.579481  0.578606  0.577376\n",
       "0.3        0.561915   0.559046  0.561915  0.559790\n",
       "0.4        0.544571   0.543806  0.544571  0.543179\n",
       "0.5        0.533377   0.534099  0.533377  0.532596"
      ]
     },
     "execution_count": 45,
     "metadata": {},
     "output_type": "execute_result"
    }
   ],
   "source": [
    "df5L_SB_SMOTE.groupby('Test Size')[['Accuracy','Precision','Recall','F1 Score']].mean()"
   ]
  },
  {
   "cell_type": "markdown",
   "id": "fab2dac7-2a39-4acd-a51b-8dc0d2e7f2e1",
   "metadata": {},
   "source": [
    "## Student History Grades"
   ]
  },
  {
   "cell_type": "markdown",
   "id": "30334f08-1a82-4d29-bb87-46df86ceda45",
   "metadata": {},
   "source": [
    "### SHG before Data Balancing"
   ]
  },
  {
   "cell_type": "code",
   "execution_count": 46,
   "id": "2364b279-4bff-43bd-b316-df2981400518",
   "metadata": {},
   "outputs": [
    {
     "name": "stdout",
     "output_type": "stream",
     "text": [
      "X: (1287, 4) y: (1287, 1)\n",
      "Fitting 10 folds for each of 32 candidates, totalling 320 fits\n"
     ]
    },
    {
     "name": "stderr",
     "output_type": "stream",
     "text": [
      "C:\\Users\\hazel\\anaconda3\\Lib\\site-packages\\sklearn\\model_selection\\_split.py:700: UserWarning: The least populated class in y has only 8 members, which is less than n_splits=10.\n",
      "  warnings.warn(\n",
      "C:\\Users\\hazel\\anaconda3\\Lib\\site-packages\\sklearn\\utils\\validation.py:1143: DataConversionWarning: A column-vector y was passed when a 1d array was expected. Please change the shape of y to (n_samples, ), for example using ravel().\n",
      "  y = column_or_1d(y, warn=True)\n",
      "C:\\Users\\hazel\\anaconda3\\Lib\\site-packages\\sklearn\\model_selection\\_split.py:700: UserWarning: The least populated class in y has only 8 members, which is less than n_splits=10.\n",
      "  warnings.warn(\n"
     ]
    },
    {
     "name": "stdout",
     "output_type": "stream",
     "text": [
      "Fitting 10 folds for each of 32 candidates, totalling 320 fits\n"
     ]
    },
    {
     "name": "stderr",
     "output_type": "stream",
     "text": [
      "C:\\Users\\hazel\\anaconda3\\Lib\\site-packages\\sklearn\\utils\\validation.py:1143: DataConversionWarning: A column-vector y was passed when a 1d array was expected. Please change the shape of y to (n_samples, ), for example using ravel().\n",
      "  y = column_or_1d(y, warn=True)\n",
      "C:\\Users\\hazel\\anaconda3\\Lib\\site-packages\\sklearn\\metrics\\_classification.py:1344: UndefinedMetricWarning: Precision is ill-defined and being set to 0.0 in labels with no predicted samples. Use `zero_division` parameter to control this behavior.\n",
      "  _warn_prf(average, modifier, msg_start, len(result))\n",
      "C:\\Users\\hazel\\anaconda3\\Lib\\site-packages\\sklearn\\model_selection\\_split.py:700: UserWarning: The least populated class in y has only 8 members, which is less than n_splits=10.\n",
      "  warnings.warn(\n"
     ]
    },
    {
     "name": "stdout",
     "output_type": "stream",
     "text": [
      "Fitting 10 folds for each of 32 candidates, totalling 320 fits\n"
     ]
    },
    {
     "name": "stderr",
     "output_type": "stream",
     "text": [
      "C:\\Users\\hazel\\anaconda3\\Lib\\site-packages\\sklearn\\utils\\validation.py:1143: DataConversionWarning: A column-vector y was passed when a 1d array was expected. Please change the shape of y to (n_samples, ), for example using ravel().\n",
      "  y = column_or_1d(y, warn=True)\n"
     ]
    },
    {
     "name": "stdout",
     "output_type": "stream",
     "text": [
      "Fitting 10 folds for each of 32 candidates, totalling 320 fits\n"
     ]
    },
    {
     "name": "stderr",
     "output_type": "stream",
     "text": [
      "C:\\Users\\hazel\\anaconda3\\Lib\\site-packages\\sklearn\\utils\\validation.py:1143: DataConversionWarning: A column-vector y was passed when a 1d array was expected. Please change the shape of y to (n_samples, ), for example using ravel().\n",
      "  y = column_or_1d(y, warn=True)\n",
      "C:\\Users\\hazel\\anaconda3\\Lib\\site-packages\\sklearn\\metrics\\_classification.py:1344: UndefinedMetricWarning: Precision is ill-defined and being set to 0.0 in labels with no predicted samples. Use `zero_division` parameter to control this behavior.\n",
      "  _warn_prf(average, modifier, msg_start, len(result))\n",
      "C:\\Users\\hazel\\anaconda3\\Lib\\site-packages\\sklearn\\model_selection\\_split.py:700: UserWarning: The least populated class in y has only 9 members, which is less than n_splits=10.\n",
      "  warnings.warn(\n"
     ]
    },
    {
     "name": "stdout",
     "output_type": "stream",
     "text": [
      "Fitting 10 folds for each of 32 candidates, totalling 320 fits\n"
     ]
    },
    {
     "name": "stderr",
     "output_type": "stream",
     "text": [
      "C:\\Users\\hazel\\anaconda3\\Lib\\site-packages\\sklearn\\utils\\validation.py:1143: DataConversionWarning: A column-vector y was passed when a 1d array was expected. Please change the shape of y to (n_samples, ), for example using ravel().\n",
      "  y = column_or_1d(y, warn=True)\n",
      "C:\\Users\\hazel\\anaconda3\\Lib\\site-packages\\sklearn\\metrics\\_classification.py:1344: UndefinedMetricWarning: Precision is ill-defined and being set to 0.0 in labels with no predicted samples. Use `zero_division` parameter to control this behavior.\n",
      "  _warn_prf(average, modifier, msg_start, len(result))\n"
     ]
    },
    {
     "name": "stdout",
     "output_type": "stream",
     "text": [
      "Fitting 10 folds for each of 32 candidates, totalling 320 fits\n"
     ]
    },
    {
     "name": "stderr",
     "output_type": "stream",
     "text": [
      "C:\\Users\\hazel\\anaconda3\\Lib\\site-packages\\sklearn\\utils\\validation.py:1143: DataConversionWarning: A column-vector y was passed when a 1d array was expected. Please change the shape of y to (n_samples, ), for example using ravel().\n",
      "  y = column_or_1d(y, warn=True)\n"
     ]
    },
    {
     "name": "stdout",
     "output_type": "stream",
     "text": [
      "Fitting 10 folds for each of 32 candidates, totalling 320 fits\n"
     ]
    },
    {
     "name": "stderr",
     "output_type": "stream",
     "text": [
      "C:\\Users\\hazel\\anaconda3\\Lib\\site-packages\\sklearn\\utils\\validation.py:1143: DataConversionWarning: A column-vector y was passed when a 1d array was expected. Please change the shape of y to (n_samples, ), for example using ravel().\n",
      "  y = column_or_1d(y, warn=True)\n",
      "C:\\Users\\hazel\\anaconda3\\Lib\\site-packages\\sklearn\\metrics\\_classification.py:1344: UndefinedMetricWarning: Precision is ill-defined and being set to 0.0 in labels with no predicted samples. Use `zero_division` parameter to control this behavior.\n",
      "  _warn_prf(average, modifier, msg_start, len(result))\n"
     ]
    },
    {
     "name": "stdout",
     "output_type": "stream",
     "text": [
      "Fitting 10 folds for each of 32 candidates, totalling 320 fits\n"
     ]
    },
    {
     "name": "stderr",
     "output_type": "stream",
     "text": [
      "C:\\Users\\hazel\\anaconda3\\Lib\\site-packages\\sklearn\\utils\\validation.py:1143: DataConversionWarning: A column-vector y was passed when a 1d array was expected. Please change the shape of y to (n_samples, ), for example using ravel().\n",
      "  y = column_or_1d(y, warn=True)\n",
      "C:\\Users\\hazel\\anaconda3\\Lib\\site-packages\\sklearn\\metrics\\_classification.py:1344: UndefinedMetricWarning: Precision is ill-defined and being set to 0.0 in labels with no predicted samples. Use `zero_division` parameter to control this behavior.\n",
      "  _warn_prf(average, modifier, msg_start, len(result))\n"
     ]
    },
    {
     "name": "stdout",
     "output_type": "stream",
     "text": [
      "Fitting 10 folds for each of 32 candidates, totalling 320 fits\n"
     ]
    },
    {
     "name": "stderr",
     "output_type": "stream",
     "text": [
      "C:\\Users\\hazel\\anaconda3\\Lib\\site-packages\\sklearn\\utils\\validation.py:1143: DataConversionWarning: A column-vector y was passed when a 1d array was expected. Please change the shape of y to (n_samples, ), for example using ravel().\n",
      "  y = column_or_1d(y, warn=True)\n"
     ]
    },
    {
     "name": "stdout",
     "output_type": "stream",
     "text": [
      "Fitting 10 folds for each of 32 candidates, totalling 320 fits\n"
     ]
    },
    {
     "name": "stderr",
     "output_type": "stream",
     "text": [
      "C:\\Users\\hazel\\anaconda3\\Lib\\site-packages\\sklearn\\utils\\validation.py:1143: DataConversionWarning: A column-vector y was passed when a 1d array was expected. Please change the shape of y to (n_samples, ), for example using ravel().\n",
      "  y = column_or_1d(y, warn=True)\n",
      "C:\\Users\\hazel\\anaconda3\\Lib\\site-packages\\sklearn\\metrics\\_classification.py:1344: UndefinedMetricWarning: Precision is ill-defined and being set to 0.0 in labels with no predicted samples. Use `zero_division` parameter to control this behavior.\n",
      "  _warn_prf(average, modifier, msg_start, len(result))\n"
     ]
    },
    {
     "name": "stdout",
     "output_type": "stream",
     "text": [
      "Fitting 10 folds for each of 32 candidates, totalling 320 fits\n"
     ]
    },
    {
     "name": "stderr",
     "output_type": "stream",
     "text": [
      "C:\\Users\\hazel\\anaconda3\\Lib\\site-packages\\sklearn\\utils\\validation.py:1143: DataConversionWarning: A column-vector y was passed when a 1d array was expected. Please change the shape of y to (n_samples, ), for example using ravel().\n",
      "  y = column_or_1d(y, warn=True)\n",
      "C:\\Users\\hazel\\anaconda3\\Lib\\site-packages\\sklearn\\metrics\\_classification.py:1344: UndefinedMetricWarning: Precision is ill-defined and being set to 0.0 in labels with no predicted samples. Use `zero_division` parameter to control this behavior.\n",
      "  _warn_prf(average, modifier, msg_start, len(result))\n"
     ]
    },
    {
     "name": "stdout",
     "output_type": "stream",
     "text": [
      "Fitting 10 folds for each of 32 candidates, totalling 320 fits\n"
     ]
    },
    {
     "name": "stderr",
     "output_type": "stream",
     "text": [
      "C:\\Users\\hazel\\anaconda3\\Lib\\site-packages\\sklearn\\utils\\validation.py:1143: DataConversionWarning: A column-vector y was passed when a 1d array was expected. Please change the shape of y to (n_samples, ), for example using ravel().\n",
      "  y = column_or_1d(y, warn=True)\n",
      "C:\\Users\\hazel\\anaconda3\\Lib\\site-packages\\sklearn\\metrics\\_classification.py:1344: UndefinedMetricWarning: Precision is ill-defined and being set to 0.0 in labels with no predicted samples. Use `zero_division` parameter to control this behavior.\n",
      "  _warn_prf(average, modifier, msg_start, len(result))\n"
     ]
    },
    {
     "data": {
      "text/html": [
       "<div>\n",
       "<style scoped>\n",
       "    .dataframe tbody tr th:only-of-type {\n",
       "        vertical-align: middle;\n",
       "    }\n",
       "\n",
       "    .dataframe tbody tr th {\n",
       "        vertical-align: top;\n",
       "    }\n",
       "\n",
       "    .dataframe thead th {\n",
       "        text-align: right;\n",
       "    }\n",
       "</style>\n",
       "<table border=\"1\" class=\"dataframe\">\n",
       "  <thead>\n",
       "    <tr style=\"text-align: right;\">\n",
       "      <th></th>\n",
       "      <th>Test Size</th>\n",
       "      <th>Random State</th>\n",
       "      <th>Accuracy</th>\n",
       "      <th>Precision</th>\n",
       "      <th>Recall</th>\n",
       "      <th>F1 Score</th>\n",
       "      <th>Best Param</th>\n",
       "    </tr>\n",
       "  </thead>\n",
       "  <tbody>\n",
       "    <tr>\n",
       "      <th>0</th>\n",
       "      <td>0.5</td>\n",
       "      <td>7</td>\n",
       "      <td>0.534161</td>\n",
       "      <td>0.490065</td>\n",
       "      <td>0.534161</td>\n",
       "      <td>0.464441</td>\n",
       "      <td>{'C': 100, 'gamma': 0.01, 'kernel': 'rbf'}</td>\n",
       "    </tr>\n",
       "    <tr>\n",
       "      <th>1</th>\n",
       "      <td>0.5</td>\n",
       "      <td>69</td>\n",
       "      <td>0.585404</td>\n",
       "      <td>0.512187</td>\n",
       "      <td>0.585404</td>\n",
       "      <td>0.521350</td>\n",
       "      <td>{'C': 10, 'gamma': 0.01, 'kernel': 'rbf'}</td>\n",
       "    </tr>\n",
       "    <tr>\n",
       "      <th>2</th>\n",
       "      <td>0.5</td>\n",
       "      <td>101</td>\n",
       "      <td>0.572981</td>\n",
       "      <td>0.516812</td>\n",
       "      <td>0.572981</td>\n",
       "      <td>0.518820</td>\n",
       "      <td>{'C': 100, 'gamma': 0.01, 'kernel': 'rbf'}</td>\n",
       "    </tr>\n",
       "    <tr>\n",
       "      <th>3</th>\n",
       "      <td>0.4</td>\n",
       "      <td>7</td>\n",
       "      <td>0.535922</td>\n",
       "      <td>0.480408</td>\n",
       "      <td>0.535922</td>\n",
       "      <td>0.455684</td>\n",
       "      <td>{'C': 100, 'gamma': 0.001, 'kernel': 'sigmoid'}</td>\n",
       "    </tr>\n",
       "    <tr>\n",
       "      <th>4</th>\n",
       "      <td>0.4</td>\n",
       "      <td>69</td>\n",
       "      <td>0.586408</td>\n",
       "      <td>0.515169</td>\n",
       "      <td>0.586408</td>\n",
       "      <td>0.524754</td>\n",
       "      <td>{'C': 100, 'gamma': 0.001, 'kernel': 'sigmoid'}</td>\n",
       "    </tr>\n",
       "    <tr>\n",
       "      <th>5</th>\n",
       "      <td>0.4</td>\n",
       "      <td>101</td>\n",
       "      <td>0.570874</td>\n",
       "      <td>0.519201</td>\n",
       "      <td>0.570874</td>\n",
       "      <td>0.518423</td>\n",
       "      <td>{'C': 100, 'gamma': 0.01, 'kernel': 'rbf'}</td>\n",
       "    </tr>\n",
       "    <tr>\n",
       "      <th>6</th>\n",
       "      <td>0.3</td>\n",
       "      <td>7</td>\n",
       "      <td>0.532300</td>\n",
       "      <td>0.453154</td>\n",
       "      <td>0.532300</td>\n",
       "      <td>0.454355</td>\n",
       "      <td>{'C': 100, 'gamma': 0.001, 'kernel': 'sigmoid'}</td>\n",
       "    </tr>\n",
       "    <tr>\n",
       "      <th>7</th>\n",
       "      <td>0.3</td>\n",
       "      <td>69</td>\n",
       "      <td>0.596899</td>\n",
       "      <td>0.532631</td>\n",
       "      <td>0.596899</td>\n",
       "      <td>0.535029</td>\n",
       "      <td>{'C': 100, 'gamma': 0.001, 'kernel': 'rbf'}</td>\n",
       "    </tr>\n",
       "    <tr>\n",
       "      <th>8</th>\n",
       "      <td>0.3</td>\n",
       "      <td>101</td>\n",
       "      <td>0.565891</td>\n",
       "      <td>0.516678</td>\n",
       "      <td>0.565891</td>\n",
       "      <td>0.501361</td>\n",
       "      <td>{'C': 100, 'gamma': 0.01, 'kernel': 'rbf'}</td>\n",
       "    </tr>\n",
       "    <tr>\n",
       "      <th>9</th>\n",
       "      <td>0.2</td>\n",
       "      <td>7</td>\n",
       "      <td>0.562016</td>\n",
       "      <td>0.505474</td>\n",
       "      <td>0.562016</td>\n",
       "      <td>0.498661</td>\n",
       "      <td>{'C': 100, 'gamma': 0.001, 'kernel': 'rbf'}</td>\n",
       "    </tr>\n",
       "    <tr>\n",
       "      <th>10</th>\n",
       "      <td>0.2</td>\n",
       "      <td>69</td>\n",
       "      <td>0.600775</td>\n",
       "      <td>0.540410</td>\n",
       "      <td>0.600775</td>\n",
       "      <td>0.542042</td>\n",
       "      <td>{'C': 100, 'gamma': 0.001, 'kernel': 'rbf'}</td>\n",
       "    </tr>\n",
       "    <tr>\n",
       "      <th>11</th>\n",
       "      <td>0.2</td>\n",
       "      <td>101</td>\n",
       "      <td>0.589147</td>\n",
       "      <td>0.586128</td>\n",
       "      <td>0.589147</td>\n",
       "      <td>0.519083</td>\n",
       "      <td>{'C': 10, 'gamma': 0.01, 'kernel': 'rbf'}</td>\n",
       "    </tr>\n",
       "  </tbody>\n",
       "</table>\n",
       "</div>"
      ],
      "text/plain": [
       "    Test Size  Random State  Accuracy  Precision    Recall  F1 Score  \\\n",
       "0         0.5             7  0.534161   0.490065  0.534161  0.464441   \n",
       "1         0.5            69  0.585404   0.512187  0.585404  0.521350   \n",
       "2         0.5           101  0.572981   0.516812  0.572981  0.518820   \n",
       "3         0.4             7  0.535922   0.480408  0.535922  0.455684   \n",
       "4         0.4            69  0.586408   0.515169  0.586408  0.524754   \n",
       "5         0.4           101  0.570874   0.519201  0.570874  0.518423   \n",
       "6         0.3             7  0.532300   0.453154  0.532300  0.454355   \n",
       "7         0.3            69  0.596899   0.532631  0.596899  0.535029   \n",
       "8         0.3           101  0.565891   0.516678  0.565891  0.501361   \n",
       "9         0.2             7  0.562016   0.505474  0.562016  0.498661   \n",
       "10        0.2            69  0.600775   0.540410  0.600775  0.542042   \n",
       "11        0.2           101  0.589147   0.586128  0.589147  0.519083   \n",
       "\n",
       "                                         Best Param  \n",
       "0        {'C': 100, 'gamma': 0.01, 'kernel': 'rbf'}  \n",
       "1         {'C': 10, 'gamma': 0.01, 'kernel': 'rbf'}  \n",
       "2        {'C': 100, 'gamma': 0.01, 'kernel': 'rbf'}  \n",
       "3   {'C': 100, 'gamma': 0.001, 'kernel': 'sigmoid'}  \n",
       "4   {'C': 100, 'gamma': 0.001, 'kernel': 'sigmoid'}  \n",
       "5        {'C': 100, 'gamma': 0.01, 'kernel': 'rbf'}  \n",
       "6   {'C': 100, 'gamma': 0.001, 'kernel': 'sigmoid'}  \n",
       "7       {'C': 100, 'gamma': 0.001, 'kernel': 'rbf'}  \n",
       "8        {'C': 100, 'gamma': 0.01, 'kernel': 'rbf'}  \n",
       "9       {'C': 100, 'gamma': 0.001, 'kernel': 'rbf'}  \n",
       "10      {'C': 100, 'gamma': 0.001, 'kernel': 'rbf'}  \n",
       "11        {'C': 10, 'gamma': 0.01, 'kernel': 'rbf'}  "
      ]
     },
     "execution_count": 46,
     "metadata": {},
     "output_type": "execute_result"
    }
   ],
   "source": [
    "temp5L_SHG_imb = []\n",
    "\n",
    "y = merge_5L_imb[['CGPA']]\n",
    "X = merge_5L_imb[['Number of Subjects Failed','SPM Result (A)','SPM Result (B)','SPM Result (C)']]\n",
    "\n",
    "print(\"X:\", X.shape,\"y:\", y.shape)\n",
    "\n",
    "for i in [0.5,0.4,0.3,0.2]:\n",
    "    for j in rand_states:\n",
    "        X_train, X_test, y_train, y_test = train_test_split(X, y, test_size=i, random_state=j)\n",
    "        param_grid = {'C': [0.1, 1, 10, 100],\n",
    "                      'gamma': [1, 0.1, 0.01, 0.001],\n",
    "                      'kernel': ['rbf','sigmoid']}\n",
    "\n",
    "        model = GridSearchCV(SVC(random_state=0), param_grid, refit=True, n_jobs=-1, cv=10, verbose=1)\n",
    "        model.fit(X_train, y_train)\n",
    "        pred = model.predict(X_test)\n",
    "        \n",
    "        acc = accuracy_score(y_test,pred)\n",
    "        pre = precision_score(y_test, pred, average='weighted')\n",
    "        recall = recall_score(y_test, pred, average='weighted')\n",
    "        f1 = f1_score(y_test, pred, average='weighted')\n",
    "        param = model.best_params_\n",
    "        \n",
    "        temp5L_SHG_imb.append([i,j,acc,pre,recall,f1,param])\n",
    "        \n",
    "df5L_SHG_imb = pd.DataFrame(columns=['Test Size','Random State','Accuracy','Precision','Recall','F1 Score','Best Param'],data=temp5L_SHG_imb)\n",
    "df5L_SHG_imb"
   ]
  },
  {
   "cell_type": "code",
   "execution_count": 47,
   "id": "3e5c8190-8800-4d00-825d-6cdd9abd90e0",
   "metadata": {},
   "outputs": [
    {
     "data": {
      "text/html": [
       "<div>\n",
       "<style scoped>\n",
       "    .dataframe tbody tr th:only-of-type {\n",
       "        vertical-align: middle;\n",
       "    }\n",
       "\n",
       "    .dataframe tbody tr th {\n",
       "        vertical-align: top;\n",
       "    }\n",
       "\n",
       "    .dataframe thead th {\n",
       "        text-align: right;\n",
       "    }\n",
       "</style>\n",
       "<table border=\"1\" class=\"dataframe\">\n",
       "  <thead>\n",
       "    <tr style=\"text-align: right;\">\n",
       "      <th></th>\n",
       "      <th>Accuracy</th>\n",
       "      <th>Precision</th>\n",
       "      <th>Recall</th>\n",
       "      <th>F1 Score</th>\n",
       "    </tr>\n",
       "    <tr>\n",
       "      <th>Test Size</th>\n",
       "      <th></th>\n",
       "      <th></th>\n",
       "      <th></th>\n",
       "      <th></th>\n",
       "    </tr>\n",
       "  </thead>\n",
       "  <tbody>\n",
       "    <tr>\n",
       "      <th>0.2</th>\n",
       "      <td>0.583979</td>\n",
       "      <td>0.544004</td>\n",
       "      <td>0.583979</td>\n",
       "      <td>0.519929</td>\n",
       "    </tr>\n",
       "    <tr>\n",
       "      <th>0.3</th>\n",
       "      <td>0.565030</td>\n",
       "      <td>0.500821</td>\n",
       "      <td>0.565030</td>\n",
       "      <td>0.496915</td>\n",
       "    </tr>\n",
       "    <tr>\n",
       "      <th>0.4</th>\n",
       "      <td>0.564401</td>\n",
       "      <td>0.504926</td>\n",
       "      <td>0.564401</td>\n",
       "      <td>0.499620</td>\n",
       "    </tr>\n",
       "    <tr>\n",
       "      <th>0.5</th>\n",
       "      <td>0.564182</td>\n",
       "      <td>0.506355</td>\n",
       "      <td>0.564182</td>\n",
       "      <td>0.501537</td>\n",
       "    </tr>\n",
       "  </tbody>\n",
       "</table>\n",
       "</div>"
      ],
      "text/plain": [
       "           Accuracy  Precision    Recall  F1 Score\n",
       "Test Size                                         \n",
       "0.2        0.583979   0.544004  0.583979  0.519929\n",
       "0.3        0.565030   0.500821  0.565030  0.496915\n",
       "0.4        0.564401   0.504926  0.564401  0.499620\n",
       "0.5        0.564182   0.506355  0.564182  0.501537"
      ]
     },
     "execution_count": 47,
     "metadata": {},
     "output_type": "execute_result"
    }
   ],
   "source": [
    "df5L_SHG_imb.groupby('Test Size')[['Accuracy','Precision','Recall','F1 Score']].mean()"
   ]
  },
  {
   "cell_type": "markdown",
   "id": "ee03ea06-841d-478e-9684-3968c5409c80",
   "metadata": {},
   "source": [
    "### SHG after RandomOverSampler"
   ]
  },
  {
   "cell_type": "code",
   "execution_count": 48,
   "id": "7d559c6a-7ec1-4e24-8793-88e3d1deb866",
   "metadata": {},
   "outputs": [
    {
     "name": "stdout",
     "output_type": "stream",
     "text": [
      "Fitting 10 folds for each of 32 candidates, totalling 320 fits\n"
     ]
    },
    {
     "name": "stderr",
     "output_type": "stream",
     "text": [
      "C:\\Users\\hazel\\anaconda3\\Lib\\site-packages\\sklearn\\utils\\validation.py:1143: DataConversionWarning: A column-vector y was passed when a 1d array was expected. Please change the shape of y to (n_samples, ), for example using ravel().\n",
      "  y = column_or_1d(y, warn=True)\n"
     ]
    },
    {
     "name": "stdout",
     "output_type": "stream",
     "text": [
      "Fitting 10 folds for each of 32 candidates, totalling 320 fits\n"
     ]
    },
    {
     "name": "stderr",
     "output_type": "stream",
     "text": [
      "C:\\Users\\hazel\\anaconda3\\Lib\\site-packages\\sklearn\\utils\\validation.py:1143: DataConversionWarning: A column-vector y was passed when a 1d array was expected. Please change the shape of y to (n_samples, ), for example using ravel().\n",
      "  y = column_or_1d(y, warn=True)\n"
     ]
    },
    {
     "name": "stdout",
     "output_type": "stream",
     "text": [
      "Fitting 10 folds for each of 32 candidates, totalling 320 fits\n"
     ]
    },
    {
     "name": "stderr",
     "output_type": "stream",
     "text": [
      "C:\\Users\\hazel\\anaconda3\\Lib\\site-packages\\sklearn\\utils\\validation.py:1143: DataConversionWarning: A column-vector y was passed when a 1d array was expected. Please change the shape of y to (n_samples, ), for example using ravel().\n",
      "  y = column_or_1d(y, warn=True)\n"
     ]
    },
    {
     "name": "stdout",
     "output_type": "stream",
     "text": [
      "Fitting 10 folds for each of 32 candidates, totalling 320 fits\n"
     ]
    },
    {
     "name": "stderr",
     "output_type": "stream",
     "text": [
      "C:\\Users\\hazel\\anaconda3\\Lib\\site-packages\\sklearn\\utils\\validation.py:1143: DataConversionWarning: A column-vector y was passed when a 1d array was expected. Please change the shape of y to (n_samples, ), for example using ravel().\n",
      "  y = column_or_1d(y, warn=True)\n"
     ]
    },
    {
     "name": "stdout",
     "output_type": "stream",
     "text": [
      "Fitting 10 folds for each of 32 candidates, totalling 320 fits\n"
     ]
    },
    {
     "name": "stderr",
     "output_type": "stream",
     "text": [
      "C:\\Users\\hazel\\anaconda3\\Lib\\site-packages\\sklearn\\utils\\validation.py:1143: DataConversionWarning: A column-vector y was passed when a 1d array was expected. Please change the shape of y to (n_samples, ), for example using ravel().\n",
      "  y = column_or_1d(y, warn=True)\n"
     ]
    },
    {
     "name": "stdout",
     "output_type": "stream",
     "text": [
      "Fitting 10 folds for each of 32 candidates, totalling 320 fits\n"
     ]
    },
    {
     "name": "stderr",
     "output_type": "stream",
     "text": [
      "C:\\Users\\hazel\\anaconda3\\Lib\\site-packages\\sklearn\\utils\\validation.py:1143: DataConversionWarning: A column-vector y was passed when a 1d array was expected. Please change the shape of y to (n_samples, ), for example using ravel().\n",
      "  y = column_or_1d(y, warn=True)\n"
     ]
    },
    {
     "name": "stdout",
     "output_type": "stream",
     "text": [
      "Fitting 10 folds for each of 32 candidates, totalling 320 fits\n"
     ]
    },
    {
     "name": "stderr",
     "output_type": "stream",
     "text": [
      "C:\\Users\\hazel\\anaconda3\\Lib\\site-packages\\sklearn\\utils\\validation.py:1143: DataConversionWarning: A column-vector y was passed when a 1d array was expected. Please change the shape of y to (n_samples, ), for example using ravel().\n",
      "  y = column_or_1d(y, warn=True)\n"
     ]
    },
    {
     "name": "stdout",
     "output_type": "stream",
     "text": [
      "Fitting 10 folds for each of 32 candidates, totalling 320 fits\n"
     ]
    },
    {
     "name": "stderr",
     "output_type": "stream",
     "text": [
      "C:\\Users\\hazel\\anaconda3\\Lib\\site-packages\\sklearn\\utils\\validation.py:1143: DataConversionWarning: A column-vector y was passed when a 1d array was expected. Please change the shape of y to (n_samples, ), for example using ravel().\n",
      "  y = column_or_1d(y, warn=True)\n"
     ]
    },
    {
     "name": "stdout",
     "output_type": "stream",
     "text": [
      "Fitting 10 folds for each of 32 candidates, totalling 320 fits\n"
     ]
    },
    {
     "name": "stderr",
     "output_type": "stream",
     "text": [
      "C:\\Users\\hazel\\anaconda3\\Lib\\site-packages\\sklearn\\utils\\validation.py:1143: DataConversionWarning: A column-vector y was passed when a 1d array was expected. Please change the shape of y to (n_samples, ), for example using ravel().\n",
      "  y = column_or_1d(y, warn=True)\n"
     ]
    },
    {
     "name": "stdout",
     "output_type": "stream",
     "text": [
      "Fitting 10 folds for each of 32 candidates, totalling 320 fits\n"
     ]
    },
    {
     "name": "stderr",
     "output_type": "stream",
     "text": [
      "C:\\Users\\hazel\\anaconda3\\Lib\\site-packages\\sklearn\\utils\\validation.py:1143: DataConversionWarning: A column-vector y was passed when a 1d array was expected. Please change the shape of y to (n_samples, ), for example using ravel().\n",
      "  y = column_or_1d(y, warn=True)\n"
     ]
    },
    {
     "name": "stdout",
     "output_type": "stream",
     "text": [
      "Fitting 10 folds for each of 32 candidates, totalling 320 fits\n"
     ]
    },
    {
     "name": "stderr",
     "output_type": "stream",
     "text": [
      "C:\\Users\\hazel\\anaconda3\\Lib\\site-packages\\sklearn\\utils\\validation.py:1143: DataConversionWarning: A column-vector y was passed when a 1d array was expected. Please change the shape of y to (n_samples, ), for example using ravel().\n",
      "  y = column_or_1d(y, warn=True)\n"
     ]
    },
    {
     "name": "stdout",
     "output_type": "stream",
     "text": [
      "Fitting 10 folds for each of 32 candidates, totalling 320 fits\n"
     ]
    },
    {
     "name": "stderr",
     "output_type": "stream",
     "text": [
      "C:\\Users\\hazel\\anaconda3\\Lib\\site-packages\\sklearn\\utils\\validation.py:1143: DataConversionWarning: A column-vector y was passed when a 1d array was expected. Please change the shape of y to (n_samples, ), for example using ravel().\n",
      "  y = column_or_1d(y, warn=True)\n"
     ]
    },
    {
     "data": {
      "text/html": [
       "<div>\n",
       "<style scoped>\n",
       "    .dataframe tbody tr th:only-of-type {\n",
       "        vertical-align: middle;\n",
       "    }\n",
       "\n",
       "    .dataframe tbody tr th {\n",
       "        vertical-align: top;\n",
       "    }\n",
       "\n",
       "    .dataframe thead th {\n",
       "        text-align: right;\n",
       "    }\n",
       "</style>\n",
       "<table border=\"1\" class=\"dataframe\">\n",
       "  <thead>\n",
       "    <tr style=\"text-align: right;\">\n",
       "      <th></th>\n",
       "      <th>Test Size</th>\n",
       "      <th>Random State</th>\n",
       "      <th>Accuracy</th>\n",
       "      <th>Precision</th>\n",
       "      <th>Recall</th>\n",
       "      <th>F1 Score</th>\n",
       "      <th>Best Param</th>\n",
       "    </tr>\n",
       "  </thead>\n",
       "  <tbody>\n",
       "    <tr>\n",
       "      <th>0</th>\n",
       "      <td>0.5</td>\n",
       "      <td>7</td>\n",
       "      <td>0.668827</td>\n",
       "      <td>0.665733</td>\n",
       "      <td>0.668827</td>\n",
       "      <td>0.661662</td>\n",
       "      <td>{'C': 10, 'gamma': 1, 'kernel': 'rbf'}</td>\n",
       "    </tr>\n",
       "    <tr>\n",
       "      <th>1</th>\n",
       "      <td>0.5</td>\n",
       "      <td>69</td>\n",
       "      <td>0.668827</td>\n",
       "      <td>0.662688</td>\n",
       "      <td>0.668827</td>\n",
       "      <td>0.659133</td>\n",
       "      <td>{'C': 10, 'gamma': 1, 'kernel': 'rbf'}</td>\n",
       "    </tr>\n",
       "    <tr>\n",
       "      <th>2</th>\n",
       "      <td>0.5</td>\n",
       "      <td>101</td>\n",
       "      <td>0.666883</td>\n",
       "      <td>0.664638</td>\n",
       "      <td>0.666883</td>\n",
       "      <td>0.656993</td>\n",
       "      <td>{'C': 10, 'gamma': 1, 'kernel': 'rbf'}</td>\n",
       "    </tr>\n",
       "    <tr>\n",
       "      <th>3</th>\n",
       "      <td>0.4</td>\n",
       "      <td>7</td>\n",
       "      <td>0.696921</td>\n",
       "      <td>0.695073</td>\n",
       "      <td>0.696921</td>\n",
       "      <td>0.688753</td>\n",
       "      <td>{'C': 10, 'gamma': 1, 'kernel': 'rbf'}</td>\n",
       "    </tr>\n",
       "    <tr>\n",
       "      <th>4</th>\n",
       "      <td>0.4</td>\n",
       "      <td>69</td>\n",
       "      <td>0.681524</td>\n",
       "      <td>0.677888</td>\n",
       "      <td>0.681524</td>\n",
       "      <td>0.671127</td>\n",
       "      <td>{'C': 10, 'gamma': 1, 'kernel': 'rbf'}</td>\n",
       "    </tr>\n",
       "    <tr>\n",
       "      <th>5</th>\n",
       "      <td>0.4</td>\n",
       "      <td>101</td>\n",
       "      <td>0.645057</td>\n",
       "      <td>0.641114</td>\n",
       "      <td>0.645057</td>\n",
       "      <td>0.637943</td>\n",
       "      <td>{'C': 10, 'gamma': 1, 'kernel': 'rbf'}</td>\n",
       "    </tr>\n",
       "    <tr>\n",
       "      <th>6</th>\n",
       "      <td>0.3</td>\n",
       "      <td>7</td>\n",
       "      <td>0.693305</td>\n",
       "      <td>0.692345</td>\n",
       "      <td>0.693305</td>\n",
       "      <td>0.684372</td>\n",
       "      <td>{'C': 10, 'gamma': 1, 'kernel': 'rbf'}</td>\n",
       "    </tr>\n",
       "    <tr>\n",
       "      <th>7</th>\n",
       "      <td>0.3</td>\n",
       "      <td>69</td>\n",
       "      <td>0.697624</td>\n",
       "      <td>0.695607</td>\n",
       "      <td>0.697624</td>\n",
       "      <td>0.688342</td>\n",
       "      <td>{'C': 10, 'gamma': 1, 'kernel': 'rbf'}</td>\n",
       "    </tr>\n",
       "    <tr>\n",
       "      <th>8</th>\n",
       "      <td>0.3</td>\n",
       "      <td>101</td>\n",
       "      <td>0.643629</td>\n",
       "      <td>0.646568</td>\n",
       "      <td>0.643629</td>\n",
       "      <td>0.635239</td>\n",
       "      <td>{'C': 10, 'gamma': 1, 'kernel': 'rbf'}</td>\n",
       "    </tr>\n",
       "    <tr>\n",
       "      <th>9</th>\n",
       "      <td>0.2</td>\n",
       "      <td>7</td>\n",
       "      <td>0.705024</td>\n",
       "      <td>0.704354</td>\n",
       "      <td>0.705024</td>\n",
       "      <td>0.695421</td>\n",
       "      <td>{'C': 10, 'gamma': 1, 'kernel': 'rbf'}</td>\n",
       "    </tr>\n",
       "    <tr>\n",
       "      <th>10</th>\n",
       "      <td>0.2</td>\n",
       "      <td>69</td>\n",
       "      <td>0.685575</td>\n",
       "      <td>0.679366</td>\n",
       "      <td>0.685575</td>\n",
       "      <td>0.675544</td>\n",
       "      <td>{'C': 10, 'gamma': 1, 'kernel': 'rbf'}</td>\n",
       "    </tr>\n",
       "    <tr>\n",
       "      <th>11</th>\n",
       "      <td>0.2</td>\n",
       "      <td>101</td>\n",
       "      <td>0.659643</td>\n",
       "      <td>0.672690</td>\n",
       "      <td>0.659643</td>\n",
       "      <td>0.650909</td>\n",
       "      <td>{'C': 1, 'gamma': 1, 'kernel': 'rbf'}</td>\n",
       "    </tr>\n",
       "  </tbody>\n",
       "</table>\n",
       "</div>"
      ],
      "text/plain": [
       "    Test Size  Random State  Accuracy  Precision    Recall  F1 Score  \\\n",
       "0         0.5             7  0.668827   0.665733  0.668827  0.661662   \n",
       "1         0.5            69  0.668827   0.662688  0.668827  0.659133   \n",
       "2         0.5           101  0.666883   0.664638  0.666883  0.656993   \n",
       "3         0.4             7  0.696921   0.695073  0.696921  0.688753   \n",
       "4         0.4            69  0.681524   0.677888  0.681524  0.671127   \n",
       "5         0.4           101  0.645057   0.641114  0.645057  0.637943   \n",
       "6         0.3             7  0.693305   0.692345  0.693305  0.684372   \n",
       "7         0.3            69  0.697624   0.695607  0.697624  0.688342   \n",
       "8         0.3           101  0.643629   0.646568  0.643629  0.635239   \n",
       "9         0.2             7  0.705024   0.704354  0.705024  0.695421   \n",
       "10        0.2            69  0.685575   0.679366  0.685575  0.675544   \n",
       "11        0.2           101  0.659643   0.672690  0.659643  0.650909   \n",
       "\n",
       "                                Best Param  \n",
       "0   {'C': 10, 'gamma': 1, 'kernel': 'rbf'}  \n",
       "1   {'C': 10, 'gamma': 1, 'kernel': 'rbf'}  \n",
       "2   {'C': 10, 'gamma': 1, 'kernel': 'rbf'}  \n",
       "3   {'C': 10, 'gamma': 1, 'kernel': 'rbf'}  \n",
       "4   {'C': 10, 'gamma': 1, 'kernel': 'rbf'}  \n",
       "5   {'C': 10, 'gamma': 1, 'kernel': 'rbf'}  \n",
       "6   {'C': 10, 'gamma': 1, 'kernel': 'rbf'}  \n",
       "7   {'C': 10, 'gamma': 1, 'kernel': 'rbf'}  \n",
       "8   {'C': 10, 'gamma': 1, 'kernel': 'rbf'}  \n",
       "9   {'C': 10, 'gamma': 1, 'kernel': 'rbf'}  \n",
       "10  {'C': 10, 'gamma': 1, 'kernel': 'rbf'}  \n",
       "11   {'C': 1, 'gamma': 1, 'kernel': 'rbf'}  "
      ]
     },
     "execution_count": 48,
     "metadata": {},
     "output_type": "execute_result"
    }
   ],
   "source": [
    "temp5L_SHG_ROS = []\n",
    "\n",
    "y = merge_5L_ROS[['CGPA']]\n",
    "X = merge_5L_ROS[['Number of Subjects Failed','SPM Result (A)','SPM Result (B)','SPM Result (C)']]\n",
    "\n",
    "for i in [0.5,0.4,0.3,0.2]:\n",
    "    for j in rand_states:\n",
    "        X_train, X_test, y_train, y_test = train_test_split(X, y, test_size=i, random_state=j)\n",
    "        param_grid = {'C': [0.1, 1, 10, 100],\n",
    "                      'gamma': [1, 0.1, 0.01, 0.001],\n",
    "                      'kernel': ['rbf','sigmoid']}\n",
    "\n",
    "        model = GridSearchCV(SVC(random_state=0), param_grid, refit=True, n_jobs=-1, cv=10, verbose=1)\n",
    "        model.fit(X_train, y_train)\n",
    "        pred = model.predict(X_test)\n",
    "        \n",
    "        acc = accuracy_score(y_test,pred)\n",
    "        pre = precision_score(y_test, pred, average='weighted')\n",
    "        recall = recall_score(y_test, pred, average='weighted')\n",
    "        f1 = f1_score(y_test, pred, average='weighted')\n",
    "        param = model.best_params_\n",
    "        \n",
    "        temp5L_SHG_ROS.append([i,j,acc,pre,recall,f1,param])\n",
    "        \n",
    "df5L_SHG_ROS = pd.DataFrame(columns=['Test Size','Random State','Accuracy','Precision','Recall','F1 Score','Best Param'],data=temp5L_SHG_ROS)\n",
    "df5L_SHG_ROS"
   ]
  },
  {
   "cell_type": "code",
   "execution_count": 49,
   "id": "18cb853e-f7f4-42e8-a053-68849a507175",
   "metadata": {},
   "outputs": [
    {
     "data": {
      "text/html": [
       "<div>\n",
       "<style scoped>\n",
       "    .dataframe tbody tr th:only-of-type {\n",
       "        vertical-align: middle;\n",
       "    }\n",
       "\n",
       "    .dataframe tbody tr th {\n",
       "        vertical-align: top;\n",
       "    }\n",
       "\n",
       "    .dataframe thead th {\n",
       "        text-align: right;\n",
       "    }\n",
       "</style>\n",
       "<table border=\"1\" class=\"dataframe\">\n",
       "  <thead>\n",
       "    <tr style=\"text-align: right;\">\n",
       "      <th></th>\n",
       "      <th>Accuracy</th>\n",
       "      <th>Precision</th>\n",
       "      <th>Recall</th>\n",
       "      <th>F1 Score</th>\n",
       "    </tr>\n",
       "    <tr>\n",
       "      <th>Test Size</th>\n",
       "      <th></th>\n",
       "      <th></th>\n",
       "      <th></th>\n",
       "      <th></th>\n",
       "    </tr>\n",
       "  </thead>\n",
       "  <tbody>\n",
       "    <tr>\n",
       "      <th>0.2</th>\n",
       "      <td>0.683414</td>\n",
       "      <td>0.685470</td>\n",
       "      <td>0.683414</td>\n",
       "      <td>0.673958</td>\n",
       "    </tr>\n",
       "    <tr>\n",
       "      <th>0.3</th>\n",
       "      <td>0.678186</td>\n",
       "      <td>0.678173</td>\n",
       "      <td>0.678186</td>\n",
       "      <td>0.669318</td>\n",
       "    </tr>\n",
       "    <tr>\n",
       "      <th>0.4</th>\n",
       "      <td>0.674500</td>\n",
       "      <td>0.671358</td>\n",
       "      <td>0.674500</td>\n",
       "      <td>0.665941</td>\n",
       "    </tr>\n",
       "    <tr>\n",
       "      <th>0.5</th>\n",
       "      <td>0.668179</td>\n",
       "      <td>0.664353</td>\n",
       "      <td>0.668179</td>\n",
       "      <td>0.659262</td>\n",
       "    </tr>\n",
       "  </tbody>\n",
       "</table>\n",
       "</div>"
      ],
      "text/plain": [
       "           Accuracy  Precision    Recall  F1 Score\n",
       "Test Size                                         \n",
       "0.2        0.683414   0.685470  0.683414  0.673958\n",
       "0.3        0.678186   0.678173  0.678186  0.669318\n",
       "0.4        0.674500   0.671358  0.674500  0.665941\n",
       "0.5        0.668179   0.664353  0.668179  0.659262"
      ]
     },
     "execution_count": 49,
     "metadata": {},
     "output_type": "execute_result"
    }
   ],
   "source": [
    "df5L_SHG_ROS.groupby('Test Size')[['Accuracy','Precision','Recall','F1 Score']].mean()"
   ]
  },
  {
   "cell_type": "markdown",
   "id": "3e890900-274d-4f38-888e-013ce0e6c7cf",
   "metadata": {},
   "source": [
    "### SHG after SMOTE"
   ]
  },
  {
   "cell_type": "code",
   "execution_count": 50,
   "id": "6b1e69c8-f8cc-4395-bbd2-c13bd579a993",
   "metadata": {},
   "outputs": [
    {
     "name": "stdout",
     "output_type": "stream",
     "text": [
      "Fitting 10 folds for each of 32 candidates, totalling 320 fits\n"
     ]
    },
    {
     "name": "stderr",
     "output_type": "stream",
     "text": [
      "C:\\Users\\hazel\\anaconda3\\Lib\\site-packages\\sklearn\\utils\\validation.py:1143: DataConversionWarning: A column-vector y was passed when a 1d array was expected. Please change the shape of y to (n_samples, ), for example using ravel().\n",
      "  y = column_or_1d(y, warn=True)\n"
     ]
    },
    {
     "name": "stdout",
     "output_type": "stream",
     "text": [
      "Fitting 10 folds for each of 32 candidates, totalling 320 fits\n"
     ]
    },
    {
     "name": "stderr",
     "output_type": "stream",
     "text": [
      "C:\\Users\\hazel\\anaconda3\\Lib\\site-packages\\sklearn\\utils\\validation.py:1143: DataConversionWarning: A column-vector y was passed when a 1d array was expected. Please change the shape of y to (n_samples, ), for example using ravel().\n",
      "  y = column_or_1d(y, warn=True)\n"
     ]
    },
    {
     "name": "stdout",
     "output_type": "stream",
     "text": [
      "Fitting 10 folds for each of 32 candidates, totalling 320 fits\n"
     ]
    },
    {
     "name": "stderr",
     "output_type": "stream",
     "text": [
      "C:\\Users\\hazel\\anaconda3\\Lib\\site-packages\\sklearn\\utils\\validation.py:1143: DataConversionWarning: A column-vector y was passed when a 1d array was expected. Please change the shape of y to (n_samples, ), for example using ravel().\n",
      "  y = column_or_1d(y, warn=True)\n"
     ]
    },
    {
     "name": "stdout",
     "output_type": "stream",
     "text": [
      "Fitting 10 folds for each of 32 candidates, totalling 320 fits\n"
     ]
    },
    {
     "name": "stderr",
     "output_type": "stream",
     "text": [
      "C:\\Users\\hazel\\anaconda3\\Lib\\site-packages\\sklearn\\utils\\validation.py:1143: DataConversionWarning: A column-vector y was passed when a 1d array was expected. Please change the shape of y to (n_samples, ), for example using ravel().\n",
      "  y = column_or_1d(y, warn=True)\n"
     ]
    },
    {
     "name": "stdout",
     "output_type": "stream",
     "text": [
      "Fitting 10 folds for each of 32 candidates, totalling 320 fits\n"
     ]
    },
    {
     "name": "stderr",
     "output_type": "stream",
     "text": [
      "C:\\Users\\hazel\\anaconda3\\Lib\\site-packages\\sklearn\\utils\\validation.py:1143: DataConversionWarning: A column-vector y was passed when a 1d array was expected. Please change the shape of y to (n_samples, ), for example using ravel().\n",
      "  y = column_or_1d(y, warn=True)\n"
     ]
    },
    {
     "name": "stdout",
     "output_type": "stream",
     "text": [
      "Fitting 10 folds for each of 32 candidates, totalling 320 fits\n"
     ]
    },
    {
     "name": "stderr",
     "output_type": "stream",
     "text": [
      "C:\\Users\\hazel\\anaconda3\\Lib\\site-packages\\sklearn\\utils\\validation.py:1143: DataConversionWarning: A column-vector y was passed when a 1d array was expected. Please change the shape of y to (n_samples, ), for example using ravel().\n",
      "  y = column_or_1d(y, warn=True)\n"
     ]
    },
    {
     "name": "stdout",
     "output_type": "stream",
     "text": [
      "Fitting 10 folds for each of 32 candidates, totalling 320 fits\n"
     ]
    },
    {
     "name": "stderr",
     "output_type": "stream",
     "text": [
      "C:\\Users\\hazel\\anaconda3\\Lib\\site-packages\\sklearn\\utils\\validation.py:1143: DataConversionWarning: A column-vector y was passed when a 1d array was expected. Please change the shape of y to (n_samples, ), for example using ravel().\n",
      "  y = column_or_1d(y, warn=True)\n"
     ]
    },
    {
     "name": "stdout",
     "output_type": "stream",
     "text": [
      "Fitting 10 folds for each of 32 candidates, totalling 320 fits\n"
     ]
    },
    {
     "name": "stderr",
     "output_type": "stream",
     "text": [
      "C:\\Users\\hazel\\anaconda3\\Lib\\site-packages\\sklearn\\utils\\validation.py:1143: DataConversionWarning: A column-vector y was passed when a 1d array was expected. Please change the shape of y to (n_samples, ), for example using ravel().\n",
      "  y = column_or_1d(y, warn=True)\n"
     ]
    },
    {
     "name": "stdout",
     "output_type": "stream",
     "text": [
      "Fitting 10 folds for each of 32 candidates, totalling 320 fits\n"
     ]
    },
    {
     "name": "stderr",
     "output_type": "stream",
     "text": [
      "C:\\Users\\hazel\\anaconda3\\Lib\\site-packages\\sklearn\\utils\\validation.py:1143: DataConversionWarning: A column-vector y was passed when a 1d array was expected. Please change the shape of y to (n_samples, ), for example using ravel().\n",
      "  y = column_or_1d(y, warn=True)\n"
     ]
    },
    {
     "name": "stdout",
     "output_type": "stream",
     "text": [
      "Fitting 10 folds for each of 32 candidates, totalling 320 fits\n"
     ]
    },
    {
     "name": "stderr",
     "output_type": "stream",
     "text": [
      "C:\\Users\\hazel\\anaconda3\\Lib\\site-packages\\sklearn\\utils\\validation.py:1143: DataConversionWarning: A column-vector y was passed when a 1d array was expected. Please change the shape of y to (n_samples, ), for example using ravel().\n",
      "  y = column_or_1d(y, warn=True)\n"
     ]
    },
    {
     "name": "stdout",
     "output_type": "stream",
     "text": [
      "Fitting 10 folds for each of 32 candidates, totalling 320 fits\n"
     ]
    },
    {
     "name": "stderr",
     "output_type": "stream",
     "text": [
      "C:\\Users\\hazel\\anaconda3\\Lib\\site-packages\\sklearn\\utils\\validation.py:1143: DataConversionWarning: A column-vector y was passed when a 1d array was expected. Please change the shape of y to (n_samples, ), for example using ravel().\n",
      "  y = column_or_1d(y, warn=True)\n"
     ]
    },
    {
     "name": "stdout",
     "output_type": "stream",
     "text": [
      "Fitting 10 folds for each of 32 candidates, totalling 320 fits\n"
     ]
    },
    {
     "name": "stderr",
     "output_type": "stream",
     "text": [
      "C:\\Users\\hazel\\anaconda3\\Lib\\site-packages\\sklearn\\utils\\validation.py:1143: DataConversionWarning: A column-vector y was passed when a 1d array was expected. Please change the shape of y to (n_samples, ), for example using ravel().\n",
      "  y = column_or_1d(y, warn=True)\n"
     ]
    },
    {
     "data": {
      "text/html": [
       "<div>\n",
       "<style scoped>\n",
       "    .dataframe tbody tr th:only-of-type {\n",
       "        vertical-align: middle;\n",
       "    }\n",
       "\n",
       "    .dataframe tbody tr th {\n",
       "        vertical-align: top;\n",
       "    }\n",
       "\n",
       "    .dataframe thead th {\n",
       "        text-align: right;\n",
       "    }\n",
       "</style>\n",
       "<table border=\"1\" class=\"dataframe\">\n",
       "  <thead>\n",
       "    <tr style=\"text-align: right;\">\n",
       "      <th></th>\n",
       "      <th>Test Size</th>\n",
       "      <th>Random State</th>\n",
       "      <th>Accuracy</th>\n",
       "      <th>Precision</th>\n",
       "      <th>Recall</th>\n",
       "      <th>F1 Score</th>\n",
       "      <th>Best Param</th>\n",
       "    </tr>\n",
       "  </thead>\n",
       "  <tbody>\n",
       "    <tr>\n",
       "      <th>0</th>\n",
       "      <td>0.5</td>\n",
       "      <td>7</td>\n",
       "      <td>0.528840</td>\n",
       "      <td>0.515869</td>\n",
       "      <td>0.528840</td>\n",
       "      <td>0.517071</td>\n",
       "      <td>{'C': 1, 'gamma': 1, 'kernel': 'rbf'}</td>\n",
       "    </tr>\n",
       "    <tr>\n",
       "      <th>1</th>\n",
       "      <td>0.5</td>\n",
       "      <td>69</td>\n",
       "      <td>0.520415</td>\n",
       "      <td>0.514803</td>\n",
       "      <td>0.520415</td>\n",
       "      <td>0.513324</td>\n",
       "      <td>{'C': 10, 'gamma': 0.1, 'kernel': 'rbf'}</td>\n",
       "    </tr>\n",
       "    <tr>\n",
       "      <th>2</th>\n",
       "      <td>0.5</td>\n",
       "      <td>101</td>\n",
       "      <td>0.554115</td>\n",
       "      <td>0.539794</td>\n",
       "      <td>0.554115</td>\n",
       "      <td>0.542600</td>\n",
       "      <td>{'C': 10, 'gamma': 0.1, 'kernel': 'rbf'}</td>\n",
       "    </tr>\n",
       "    <tr>\n",
       "      <th>3</th>\n",
       "      <td>0.4</td>\n",
       "      <td>7</td>\n",
       "      <td>0.540519</td>\n",
       "      <td>0.532217</td>\n",
       "      <td>0.540519</td>\n",
       "      <td>0.533943</td>\n",
       "      <td>{'C': 100, 'gamma': 0.1, 'kernel': 'rbf'}</td>\n",
       "    </tr>\n",
       "    <tr>\n",
       "      <th>4</th>\n",
       "      <td>0.4</td>\n",
       "      <td>69</td>\n",
       "      <td>0.493517</td>\n",
       "      <td>0.485049</td>\n",
       "      <td>0.493517</td>\n",
       "      <td>0.487643</td>\n",
       "      <td>{'C': 1, 'gamma': 1, 'kernel': 'rbf'}</td>\n",
       "    </tr>\n",
       "    <tr>\n",
       "      <th>5</th>\n",
       "      <td>0.4</td>\n",
       "      <td>101</td>\n",
       "      <td>0.535656</td>\n",
       "      <td>0.519134</td>\n",
       "      <td>0.535656</td>\n",
       "      <td>0.521992</td>\n",
       "      <td>{'C': 100, 'gamma': 0.1, 'kernel': 'rbf'}</td>\n",
       "    </tr>\n",
       "    <tr>\n",
       "      <th>6</th>\n",
       "      <td>0.3</td>\n",
       "      <td>7</td>\n",
       "      <td>0.544276</td>\n",
       "      <td>0.541605</td>\n",
       "      <td>0.544276</td>\n",
       "      <td>0.534312</td>\n",
       "      <td>{'C': 10, 'gamma': 0.1, 'kernel': 'rbf'}</td>\n",
       "    </tr>\n",
       "    <tr>\n",
       "      <th>7</th>\n",
       "      <td>0.3</td>\n",
       "      <td>69</td>\n",
       "      <td>0.535637</td>\n",
       "      <td>0.525116</td>\n",
       "      <td>0.535637</td>\n",
       "      <td>0.527999</td>\n",
       "      <td>{'C': 1, 'gamma': 1, 'kernel': 'rbf'}</td>\n",
       "    </tr>\n",
       "    <tr>\n",
       "      <th>8</th>\n",
       "      <td>0.3</td>\n",
       "      <td>101</td>\n",
       "      <td>0.544276</td>\n",
       "      <td>0.529047</td>\n",
       "      <td>0.544276</td>\n",
       "      <td>0.531105</td>\n",
       "      <td>{'C': 100, 'gamma': 0.1, 'kernel': 'rbf'}</td>\n",
       "    </tr>\n",
       "    <tr>\n",
       "      <th>9</th>\n",
       "      <td>0.2</td>\n",
       "      <td>7</td>\n",
       "      <td>0.564019</td>\n",
       "      <td>0.561050</td>\n",
       "      <td>0.564019</td>\n",
       "      <td>0.557217</td>\n",
       "      <td>{'C': 100, 'gamma': 0.1, 'kernel': 'rbf'}</td>\n",
       "    </tr>\n",
       "    <tr>\n",
       "      <th>10</th>\n",
       "      <td>0.2</td>\n",
       "      <td>69</td>\n",
       "      <td>0.567261</td>\n",
       "      <td>0.559484</td>\n",
       "      <td>0.567261</td>\n",
       "      <td>0.558845</td>\n",
       "      <td>{'C': 100, 'gamma': 0.1, 'kernel': 'rbf'}</td>\n",
       "    </tr>\n",
       "    <tr>\n",
       "      <th>11</th>\n",
       "      <td>0.2</td>\n",
       "      <td>101</td>\n",
       "      <td>0.546191</td>\n",
       "      <td>0.531718</td>\n",
       "      <td>0.546191</td>\n",
       "      <td>0.533876</td>\n",
       "      <td>{'C': 100, 'gamma': 0.1, 'kernel': 'rbf'}</td>\n",
       "    </tr>\n",
       "  </tbody>\n",
       "</table>\n",
       "</div>"
      ],
      "text/plain": [
       "    Test Size  Random State  Accuracy  Precision    Recall  F1 Score  \\\n",
       "0         0.5             7  0.528840   0.515869  0.528840  0.517071   \n",
       "1         0.5            69  0.520415   0.514803  0.520415  0.513324   \n",
       "2         0.5           101  0.554115   0.539794  0.554115  0.542600   \n",
       "3         0.4             7  0.540519   0.532217  0.540519  0.533943   \n",
       "4         0.4            69  0.493517   0.485049  0.493517  0.487643   \n",
       "5         0.4           101  0.535656   0.519134  0.535656  0.521992   \n",
       "6         0.3             7  0.544276   0.541605  0.544276  0.534312   \n",
       "7         0.3            69  0.535637   0.525116  0.535637  0.527999   \n",
       "8         0.3           101  0.544276   0.529047  0.544276  0.531105   \n",
       "9         0.2             7  0.564019   0.561050  0.564019  0.557217   \n",
       "10        0.2            69  0.567261   0.559484  0.567261  0.558845   \n",
       "11        0.2           101  0.546191   0.531718  0.546191  0.533876   \n",
       "\n",
       "                                   Best Param  \n",
       "0       {'C': 1, 'gamma': 1, 'kernel': 'rbf'}  \n",
       "1    {'C': 10, 'gamma': 0.1, 'kernel': 'rbf'}  \n",
       "2    {'C': 10, 'gamma': 0.1, 'kernel': 'rbf'}  \n",
       "3   {'C': 100, 'gamma': 0.1, 'kernel': 'rbf'}  \n",
       "4       {'C': 1, 'gamma': 1, 'kernel': 'rbf'}  \n",
       "5   {'C': 100, 'gamma': 0.1, 'kernel': 'rbf'}  \n",
       "6    {'C': 10, 'gamma': 0.1, 'kernel': 'rbf'}  \n",
       "7       {'C': 1, 'gamma': 1, 'kernel': 'rbf'}  \n",
       "8   {'C': 100, 'gamma': 0.1, 'kernel': 'rbf'}  \n",
       "9   {'C': 100, 'gamma': 0.1, 'kernel': 'rbf'}  \n",
       "10  {'C': 100, 'gamma': 0.1, 'kernel': 'rbf'}  \n",
       "11  {'C': 100, 'gamma': 0.1, 'kernel': 'rbf'}  "
      ]
     },
     "execution_count": 50,
     "metadata": {},
     "output_type": "execute_result"
    }
   ],
   "source": [
    "temp5L_SHG_SMOTE = []\n",
    "\n",
    "y = merge_5L_SMOTE[['CGPA']]\n",
    "X = merge_5L_SMOTE[['Number of Subjects Failed','SPM Result (A)','SPM Result (B)','SPM Result (C)']]\n",
    "\n",
    "for i in [0.5,0.4,0.3,0.2]:\n",
    "    for j in rand_states:\n",
    "        X_train, X_test, y_train, y_test = train_test_split(X, y, test_size=i, random_state=j)\n",
    "        param_grid = {'C': [0.1, 1, 10, 100],\n",
    "                      'gamma': [1, 0.1, 0.01, 0.001],\n",
    "                      'kernel': ['rbf','sigmoid']}\n",
    "\n",
    "        model = GridSearchCV(SVC(random_state=0), param_grid, refit=True, n_jobs=-1, cv=10, verbose=1)\n",
    "        model.fit(X_train, y_train)\n",
    "        pred = model.predict(X_test)\n",
    "        \n",
    "        acc = accuracy_score(y_test,pred)\n",
    "        pre = precision_score(y_test, pred, average='weighted')\n",
    "        recall = recall_score(y_test, pred, average='weighted')\n",
    "        f1 = f1_score(y_test, pred, average='weighted')\n",
    "        param = model.best_params_\n",
    "        \n",
    "        temp5L_SHG_SMOTE.append([i,j,acc,pre,recall,f1,param])\n",
    "        \n",
    "df5L_SHG_SMOTE = pd.DataFrame(columns=['Test Size','Random State','Accuracy','Precision','Recall','F1 Score','Best Param'],data=temp5L_SHG_SMOTE)\n",
    "df5L_SHG_SMOTE"
   ]
  },
  {
   "cell_type": "code",
   "execution_count": 51,
   "id": "a5a4790b-bf7d-487a-a1a9-8af6ea114aa9",
   "metadata": {},
   "outputs": [
    {
     "data": {
      "text/html": [
       "<div>\n",
       "<style scoped>\n",
       "    .dataframe tbody tr th:only-of-type {\n",
       "        vertical-align: middle;\n",
       "    }\n",
       "\n",
       "    .dataframe tbody tr th {\n",
       "        vertical-align: top;\n",
       "    }\n",
       "\n",
       "    .dataframe thead th {\n",
       "        text-align: right;\n",
       "    }\n",
       "</style>\n",
       "<table border=\"1\" class=\"dataframe\">\n",
       "  <thead>\n",
       "    <tr style=\"text-align: right;\">\n",
       "      <th></th>\n",
       "      <th>Accuracy</th>\n",
       "      <th>Precision</th>\n",
       "      <th>Recall</th>\n",
       "      <th>F1 Score</th>\n",
       "    </tr>\n",
       "    <tr>\n",
       "      <th>Test Size</th>\n",
       "      <th></th>\n",
       "      <th></th>\n",
       "      <th></th>\n",
       "      <th></th>\n",
       "    </tr>\n",
       "  </thead>\n",
       "  <tbody>\n",
       "    <tr>\n",
       "      <th>0.2</th>\n",
       "      <td>0.559157</td>\n",
       "      <td>0.550751</td>\n",
       "      <td>0.559157</td>\n",
       "      <td>0.549979</td>\n",
       "    </tr>\n",
       "    <tr>\n",
       "      <th>0.3</th>\n",
       "      <td>0.541397</td>\n",
       "      <td>0.531922</td>\n",
       "      <td>0.541397</td>\n",
       "      <td>0.531139</td>\n",
       "    </tr>\n",
       "    <tr>\n",
       "      <th>0.4</th>\n",
       "      <td>0.523231</td>\n",
       "      <td>0.512133</td>\n",
       "      <td>0.523231</td>\n",
       "      <td>0.514526</td>\n",
       "    </tr>\n",
       "    <tr>\n",
       "      <th>0.5</th>\n",
       "      <td>0.534457</td>\n",
       "      <td>0.523489</td>\n",
       "      <td>0.534457</td>\n",
       "      <td>0.524332</td>\n",
       "    </tr>\n",
       "  </tbody>\n",
       "</table>\n",
       "</div>"
      ],
      "text/plain": [
       "           Accuracy  Precision    Recall  F1 Score\n",
       "Test Size                                         \n",
       "0.2        0.559157   0.550751  0.559157  0.549979\n",
       "0.3        0.541397   0.531922  0.541397  0.531139\n",
       "0.4        0.523231   0.512133  0.523231  0.514526\n",
       "0.5        0.534457   0.523489  0.534457  0.524332"
      ]
     },
     "execution_count": 51,
     "metadata": {},
     "output_type": "execute_result"
    }
   ],
   "source": [
    "df5L_SHG_SMOTE.groupby('Test Size')[['Accuracy','Precision','Recall','F1 Score']].mean()"
   ]
  },
  {
   "cell_type": "markdown",
   "id": "431bbccb-78a4-40db-aa5c-21171a9a6c85",
   "metadata": {},
   "source": [
    "## Student Opinion Towards MMU Environment"
   ]
  },
  {
   "cell_type": "markdown",
   "id": "6b1c736b-2907-4eb2-964e-644b08669899",
   "metadata": {},
   "source": [
    "### SOTME before Data Balancing"
   ]
  },
  {
   "cell_type": "code",
   "execution_count": 52,
   "id": "1765118a-21e3-42b9-9df2-4a26da1d71fa",
   "metadata": {},
   "outputs": [
    {
     "name": "stdout",
     "output_type": "stream",
     "text": [
      "X: (1287, 5) y: (1287, 1)\n",
      "Fitting 10 folds for each of 32 candidates, totalling 320 fits\n"
     ]
    },
    {
     "name": "stderr",
     "output_type": "stream",
     "text": [
      "C:\\Users\\hazel\\anaconda3\\Lib\\site-packages\\sklearn\\model_selection\\_split.py:700: UserWarning: The least populated class in y has only 8 members, which is less than n_splits=10.\n",
      "  warnings.warn(\n",
      "C:\\Users\\hazel\\anaconda3\\Lib\\site-packages\\sklearn\\utils\\validation.py:1143: DataConversionWarning: A column-vector y was passed when a 1d array was expected. Please change the shape of y to (n_samples, ), for example using ravel().\n",
      "  y = column_or_1d(y, warn=True)\n",
      "C:\\Users\\hazel\\anaconda3\\Lib\\site-packages\\sklearn\\metrics\\_classification.py:1344: UndefinedMetricWarning: Precision is ill-defined and being set to 0.0 in labels with no predicted samples. Use `zero_division` parameter to control this behavior.\n",
      "  _warn_prf(average, modifier, msg_start, len(result))\n",
      "C:\\Users\\hazel\\anaconda3\\Lib\\site-packages\\sklearn\\model_selection\\_split.py:700: UserWarning: The least populated class in y has only 8 members, which is less than n_splits=10.\n",
      "  warnings.warn(\n"
     ]
    },
    {
     "name": "stdout",
     "output_type": "stream",
     "text": [
      "Fitting 10 folds for each of 32 candidates, totalling 320 fits\n"
     ]
    },
    {
     "name": "stderr",
     "output_type": "stream",
     "text": [
      "C:\\Users\\hazel\\anaconda3\\Lib\\site-packages\\sklearn\\utils\\validation.py:1143: DataConversionWarning: A column-vector y was passed when a 1d array was expected. Please change the shape of y to (n_samples, ), for example using ravel().\n",
      "  y = column_or_1d(y, warn=True)\n",
      "C:\\Users\\hazel\\anaconda3\\Lib\\site-packages\\sklearn\\metrics\\_classification.py:1344: UndefinedMetricWarning: Precision is ill-defined and being set to 0.0 in labels with no predicted samples. Use `zero_division` parameter to control this behavior.\n",
      "  _warn_prf(average, modifier, msg_start, len(result))\n",
      "C:\\Users\\hazel\\anaconda3\\Lib\\site-packages\\sklearn\\model_selection\\_split.py:700: UserWarning: The least populated class in y has only 8 members, which is less than n_splits=10.\n",
      "  warnings.warn(\n"
     ]
    },
    {
     "name": "stdout",
     "output_type": "stream",
     "text": [
      "Fitting 10 folds for each of 32 candidates, totalling 320 fits\n"
     ]
    },
    {
     "name": "stderr",
     "output_type": "stream",
     "text": [
      "C:\\Users\\hazel\\anaconda3\\Lib\\site-packages\\sklearn\\utils\\validation.py:1143: DataConversionWarning: A column-vector y was passed when a 1d array was expected. Please change the shape of y to (n_samples, ), for example using ravel().\n",
      "  y = column_or_1d(y, warn=True)\n",
      "C:\\Users\\hazel\\anaconda3\\Lib\\site-packages\\sklearn\\metrics\\_classification.py:1344: UndefinedMetricWarning: Precision is ill-defined and being set to 0.0 in labels with no predicted samples. Use `zero_division` parameter to control this behavior.\n",
      "  _warn_prf(average, modifier, msg_start, len(result))\n"
     ]
    },
    {
     "name": "stdout",
     "output_type": "stream",
     "text": [
      "Fitting 10 folds for each of 32 candidates, totalling 320 fits\n"
     ]
    },
    {
     "name": "stderr",
     "output_type": "stream",
     "text": [
      "C:\\Users\\hazel\\anaconda3\\Lib\\site-packages\\sklearn\\utils\\validation.py:1143: DataConversionWarning: A column-vector y was passed when a 1d array was expected. Please change the shape of y to (n_samples, ), for example using ravel().\n",
      "  y = column_or_1d(y, warn=True)\n",
      "C:\\Users\\hazel\\anaconda3\\Lib\\site-packages\\sklearn\\metrics\\_classification.py:1344: UndefinedMetricWarning: Precision is ill-defined and being set to 0.0 in labels with no predicted samples. Use `zero_division` parameter to control this behavior.\n",
      "  _warn_prf(average, modifier, msg_start, len(result))\n"
     ]
    },
    {
     "name": "stdout",
     "output_type": "stream",
     "text": [
      "Fitting 10 folds for each of 32 candidates, totalling 320 fits\n"
     ]
    },
    {
     "name": "stderr",
     "output_type": "stream",
     "text": [
      "C:\\Users\\hazel\\anaconda3\\Lib\\site-packages\\sklearn\\model_selection\\_split.py:700: UserWarning: The least populated class in y has only 9 members, which is less than n_splits=10.\n",
      "  warnings.warn(\n",
      "C:\\Users\\hazel\\anaconda3\\Lib\\site-packages\\sklearn\\utils\\validation.py:1143: DataConversionWarning: A column-vector y was passed when a 1d array was expected. Please change the shape of y to (n_samples, ), for example using ravel().\n",
      "  y = column_or_1d(y, warn=True)\n",
      "C:\\Users\\hazel\\anaconda3\\Lib\\site-packages\\sklearn\\metrics\\_classification.py:1344: UndefinedMetricWarning: Precision is ill-defined and being set to 0.0 in labels with no predicted samples. Use `zero_division` parameter to control this behavior.\n",
      "  _warn_prf(average, modifier, msg_start, len(result))\n"
     ]
    },
    {
     "name": "stdout",
     "output_type": "stream",
     "text": [
      "Fitting 10 folds for each of 32 candidates, totalling 320 fits\n"
     ]
    },
    {
     "name": "stderr",
     "output_type": "stream",
     "text": [
      "C:\\Users\\hazel\\anaconda3\\Lib\\site-packages\\sklearn\\utils\\validation.py:1143: DataConversionWarning: A column-vector y was passed when a 1d array was expected. Please change the shape of y to (n_samples, ), for example using ravel().\n",
      "  y = column_or_1d(y, warn=True)\n",
      "C:\\Users\\hazel\\anaconda3\\Lib\\site-packages\\sklearn\\metrics\\_classification.py:1344: UndefinedMetricWarning: Precision is ill-defined and being set to 0.0 in labels with no predicted samples. Use `zero_division` parameter to control this behavior.\n",
      "  _warn_prf(average, modifier, msg_start, len(result))\n"
     ]
    },
    {
     "name": "stdout",
     "output_type": "stream",
     "text": [
      "Fitting 10 folds for each of 32 candidates, totalling 320 fits\n"
     ]
    },
    {
     "name": "stderr",
     "output_type": "stream",
     "text": [
      "C:\\Users\\hazel\\anaconda3\\Lib\\site-packages\\sklearn\\utils\\validation.py:1143: DataConversionWarning: A column-vector y was passed when a 1d array was expected. Please change the shape of y to (n_samples, ), for example using ravel().\n",
      "  y = column_or_1d(y, warn=True)\n",
      "C:\\Users\\hazel\\anaconda3\\Lib\\site-packages\\sklearn\\metrics\\_classification.py:1344: UndefinedMetricWarning: Precision is ill-defined and being set to 0.0 in labels with no predicted samples. Use `zero_division` parameter to control this behavior.\n",
      "  _warn_prf(average, modifier, msg_start, len(result))\n"
     ]
    },
    {
     "name": "stdout",
     "output_type": "stream",
     "text": [
      "Fitting 10 folds for each of 32 candidates, totalling 320 fits\n"
     ]
    },
    {
     "name": "stderr",
     "output_type": "stream",
     "text": [
      "C:\\Users\\hazel\\anaconda3\\Lib\\site-packages\\sklearn\\utils\\validation.py:1143: DataConversionWarning: A column-vector y was passed when a 1d array was expected. Please change the shape of y to (n_samples, ), for example using ravel().\n",
      "  y = column_or_1d(y, warn=True)\n",
      "C:\\Users\\hazel\\anaconda3\\Lib\\site-packages\\sklearn\\metrics\\_classification.py:1344: UndefinedMetricWarning: Precision is ill-defined and being set to 0.0 in labels with no predicted samples. Use `zero_division` parameter to control this behavior.\n",
      "  _warn_prf(average, modifier, msg_start, len(result))\n"
     ]
    },
    {
     "name": "stdout",
     "output_type": "stream",
     "text": [
      "Fitting 10 folds for each of 32 candidates, totalling 320 fits\n"
     ]
    },
    {
     "name": "stderr",
     "output_type": "stream",
     "text": [
      "C:\\Users\\hazel\\anaconda3\\Lib\\site-packages\\sklearn\\utils\\validation.py:1143: DataConversionWarning: A column-vector y was passed when a 1d array was expected. Please change the shape of y to (n_samples, ), for example using ravel().\n",
      "  y = column_or_1d(y, warn=True)\n",
      "C:\\Users\\hazel\\anaconda3\\Lib\\site-packages\\sklearn\\metrics\\_classification.py:1344: UndefinedMetricWarning: Precision is ill-defined and being set to 0.0 in labels with no predicted samples. Use `zero_division` parameter to control this behavior.\n",
      "  _warn_prf(average, modifier, msg_start, len(result))\n"
     ]
    },
    {
     "name": "stdout",
     "output_type": "stream",
     "text": [
      "Fitting 10 folds for each of 32 candidates, totalling 320 fits\n"
     ]
    },
    {
     "name": "stderr",
     "output_type": "stream",
     "text": [
      "C:\\Users\\hazel\\anaconda3\\Lib\\site-packages\\sklearn\\utils\\validation.py:1143: DataConversionWarning: A column-vector y was passed when a 1d array was expected. Please change the shape of y to (n_samples, ), for example using ravel().\n",
      "  y = column_or_1d(y, warn=True)\n",
      "C:\\Users\\hazel\\anaconda3\\Lib\\site-packages\\sklearn\\metrics\\_classification.py:1344: UndefinedMetricWarning: Precision is ill-defined and being set to 0.0 in labels with no predicted samples. Use `zero_division` parameter to control this behavior.\n",
      "  _warn_prf(average, modifier, msg_start, len(result))\n"
     ]
    },
    {
     "name": "stdout",
     "output_type": "stream",
     "text": [
      "Fitting 10 folds for each of 32 candidates, totalling 320 fits\n"
     ]
    },
    {
     "name": "stderr",
     "output_type": "stream",
     "text": [
      "C:\\Users\\hazel\\anaconda3\\Lib\\site-packages\\sklearn\\utils\\validation.py:1143: DataConversionWarning: A column-vector y was passed when a 1d array was expected. Please change the shape of y to (n_samples, ), for example using ravel().\n",
      "  y = column_or_1d(y, warn=True)\n",
      "C:\\Users\\hazel\\anaconda3\\Lib\\site-packages\\sklearn\\metrics\\_classification.py:1344: UndefinedMetricWarning: Precision is ill-defined and being set to 0.0 in labels with no predicted samples. Use `zero_division` parameter to control this behavior.\n",
      "  _warn_prf(average, modifier, msg_start, len(result))\n"
     ]
    },
    {
     "name": "stdout",
     "output_type": "stream",
     "text": [
      "Fitting 10 folds for each of 32 candidates, totalling 320 fits\n"
     ]
    },
    {
     "name": "stderr",
     "output_type": "stream",
     "text": [
      "C:\\Users\\hazel\\anaconda3\\Lib\\site-packages\\sklearn\\utils\\validation.py:1143: DataConversionWarning: A column-vector y was passed when a 1d array was expected. Please change the shape of y to (n_samples, ), for example using ravel().\n",
      "  y = column_or_1d(y, warn=True)\n",
      "C:\\Users\\hazel\\anaconda3\\Lib\\site-packages\\sklearn\\metrics\\_classification.py:1344: UndefinedMetricWarning: Precision is ill-defined and being set to 0.0 in labels with no predicted samples. Use `zero_division` parameter to control this behavior.\n",
      "  _warn_prf(average, modifier, msg_start, len(result))\n"
     ]
    },
    {
     "data": {
      "text/html": [
       "<div>\n",
       "<style scoped>\n",
       "    .dataframe tbody tr th:only-of-type {\n",
       "        vertical-align: middle;\n",
       "    }\n",
       "\n",
       "    .dataframe tbody tr th {\n",
       "        vertical-align: top;\n",
       "    }\n",
       "\n",
       "    .dataframe thead th {\n",
       "        text-align: right;\n",
       "    }\n",
       "</style>\n",
       "<table border=\"1\" class=\"dataframe\">\n",
       "  <thead>\n",
       "    <tr style=\"text-align: right;\">\n",
       "      <th></th>\n",
       "      <th>Test Size</th>\n",
       "      <th>Random State</th>\n",
       "      <th>Accuracy</th>\n",
       "      <th>Precision</th>\n",
       "      <th>Recall</th>\n",
       "      <th>F1 Score</th>\n",
       "      <th>Best Param</th>\n",
       "    </tr>\n",
       "  </thead>\n",
       "  <tbody>\n",
       "    <tr>\n",
       "      <th>0</th>\n",
       "      <td>0.5</td>\n",
       "      <td>7</td>\n",
       "      <td>0.447205</td>\n",
       "      <td>0.267836</td>\n",
       "      <td>0.447205</td>\n",
       "      <td>0.292478</td>\n",
       "      <td>{'C': 100, 'gamma': 1, 'kernel': 'sigmoid'}</td>\n",
       "    </tr>\n",
       "    <tr>\n",
       "      <th>1</th>\n",
       "      <td>0.5</td>\n",
       "      <td>69</td>\n",
       "      <td>0.489130</td>\n",
       "      <td>0.239249</td>\n",
       "      <td>0.489130</td>\n",
       "      <td>0.321327</td>\n",
       "      <td>{'C': 0.1, 'gamma': 0.1, 'kernel': 'sigmoid'}</td>\n",
       "    </tr>\n",
       "    <tr>\n",
       "      <th>2</th>\n",
       "      <td>0.5</td>\n",
       "      <td>101</td>\n",
       "      <td>0.498447</td>\n",
       "      <td>0.250000</td>\n",
       "      <td>0.498447</td>\n",
       "      <td>0.332988</td>\n",
       "      <td>{'C': 1, 'gamma': 0.1, 'kernel': 'sigmoid'}</td>\n",
       "    </tr>\n",
       "    <tr>\n",
       "      <th>3</th>\n",
       "      <td>0.4</td>\n",
       "      <td>7</td>\n",
       "      <td>0.452427</td>\n",
       "      <td>0.204690</td>\n",
       "      <td>0.452427</td>\n",
       "      <td>0.281860</td>\n",
       "      <td>{'C': 0.1, 'gamma': 1, 'kernel': 'rbf'}</td>\n",
       "    </tr>\n",
       "    <tr>\n",
       "      <th>4</th>\n",
       "      <td>0.4</td>\n",
       "      <td>69</td>\n",
       "      <td>0.493204</td>\n",
       "      <td>0.243250</td>\n",
       "      <td>0.493204</td>\n",
       "      <td>0.325810</td>\n",
       "      <td>{'C': 0.1, 'gamma': 1, 'kernel': 'rbf'}</td>\n",
       "    </tr>\n",
       "    <tr>\n",
       "      <th>5</th>\n",
       "      <td>0.4</td>\n",
       "      <td>101</td>\n",
       "      <td>0.487379</td>\n",
       "      <td>0.239414</td>\n",
       "      <td>0.487379</td>\n",
       "      <td>0.321097</td>\n",
       "      <td>{'C': 1, 'gamma': 0.1, 'kernel': 'sigmoid'}</td>\n",
       "    </tr>\n",
       "    <tr>\n",
       "      <th>6</th>\n",
       "      <td>0.3</td>\n",
       "      <td>7</td>\n",
       "      <td>0.431525</td>\n",
       "      <td>0.313032</td>\n",
       "      <td>0.431525</td>\n",
       "      <td>0.345435</td>\n",
       "      <td>{'C': 0.1, 'gamma': 0.01, 'kernel': 'sigmoid'}</td>\n",
       "    </tr>\n",
       "    <tr>\n",
       "      <th>7</th>\n",
       "      <td>0.3</td>\n",
       "      <td>69</td>\n",
       "      <td>0.501292</td>\n",
       "      <td>0.251294</td>\n",
       "      <td>0.501292</td>\n",
       "      <td>0.334770</td>\n",
       "      <td>{'C': 0.1, 'gamma': 1, 'kernel': 'rbf'}</td>\n",
       "    </tr>\n",
       "    <tr>\n",
       "      <th>8</th>\n",
       "      <td>0.3</td>\n",
       "      <td>101</td>\n",
       "      <td>0.485788</td>\n",
       "      <td>0.238478</td>\n",
       "      <td>0.485788</td>\n",
       "      <td>0.319909</td>\n",
       "      <td>{'C': 1, 'gamma': 0.1, 'kernel': 'sigmoid'}</td>\n",
       "    </tr>\n",
       "    <tr>\n",
       "      <th>9</th>\n",
       "      <td>0.2</td>\n",
       "      <td>7</td>\n",
       "      <td>0.476744</td>\n",
       "      <td>0.227285</td>\n",
       "      <td>0.476744</td>\n",
       "      <td>0.307819</td>\n",
       "      <td>{'C': 0.1, 'gamma': 1, 'kernel': 'rbf'}</td>\n",
       "    </tr>\n",
       "    <tr>\n",
       "      <th>10</th>\n",
       "      <td>0.2</td>\n",
       "      <td>69</td>\n",
       "      <td>0.492248</td>\n",
       "      <td>0.242308</td>\n",
       "      <td>0.492248</td>\n",
       "      <td>0.324756</td>\n",
       "      <td>{'C': 0.1, 'gamma': 1, 'kernel': 'rbf'}</td>\n",
       "    </tr>\n",
       "    <tr>\n",
       "      <th>11</th>\n",
       "      <td>0.2</td>\n",
       "      <td>101</td>\n",
       "      <td>0.500000</td>\n",
       "      <td>0.250000</td>\n",
       "      <td>0.500000</td>\n",
       "      <td>0.333333</td>\n",
       "      <td>{'C': 0.1, 'gamma': 0.1, 'kernel': 'sigmoid'}</td>\n",
       "    </tr>\n",
       "  </tbody>\n",
       "</table>\n",
       "</div>"
      ],
      "text/plain": [
       "    Test Size  Random State  Accuracy  Precision    Recall  F1 Score  \\\n",
       "0         0.5             7  0.447205   0.267836  0.447205  0.292478   \n",
       "1         0.5            69  0.489130   0.239249  0.489130  0.321327   \n",
       "2         0.5           101  0.498447   0.250000  0.498447  0.332988   \n",
       "3         0.4             7  0.452427   0.204690  0.452427  0.281860   \n",
       "4         0.4            69  0.493204   0.243250  0.493204  0.325810   \n",
       "5         0.4           101  0.487379   0.239414  0.487379  0.321097   \n",
       "6         0.3             7  0.431525   0.313032  0.431525  0.345435   \n",
       "7         0.3            69  0.501292   0.251294  0.501292  0.334770   \n",
       "8         0.3           101  0.485788   0.238478  0.485788  0.319909   \n",
       "9         0.2             7  0.476744   0.227285  0.476744  0.307819   \n",
       "10        0.2            69  0.492248   0.242308  0.492248  0.324756   \n",
       "11        0.2           101  0.500000   0.250000  0.500000  0.333333   \n",
       "\n",
       "                                        Best Param  \n",
       "0      {'C': 100, 'gamma': 1, 'kernel': 'sigmoid'}  \n",
       "1    {'C': 0.1, 'gamma': 0.1, 'kernel': 'sigmoid'}  \n",
       "2      {'C': 1, 'gamma': 0.1, 'kernel': 'sigmoid'}  \n",
       "3          {'C': 0.1, 'gamma': 1, 'kernel': 'rbf'}  \n",
       "4          {'C': 0.1, 'gamma': 1, 'kernel': 'rbf'}  \n",
       "5      {'C': 1, 'gamma': 0.1, 'kernel': 'sigmoid'}  \n",
       "6   {'C': 0.1, 'gamma': 0.01, 'kernel': 'sigmoid'}  \n",
       "7          {'C': 0.1, 'gamma': 1, 'kernel': 'rbf'}  \n",
       "8      {'C': 1, 'gamma': 0.1, 'kernel': 'sigmoid'}  \n",
       "9          {'C': 0.1, 'gamma': 1, 'kernel': 'rbf'}  \n",
       "10         {'C': 0.1, 'gamma': 1, 'kernel': 'rbf'}  \n",
       "11   {'C': 0.1, 'gamma': 0.1, 'kernel': 'sigmoid'}  "
      ]
     },
     "execution_count": 52,
     "metadata": {},
     "output_type": "execute_result"
    }
   ],
   "source": [
    "temp5L_SOTME_imb = []\n",
    "\n",
    "y = merge_5L_imb[['CGPA']]\n",
    "X = merge_5L_imb[['Reason Study at Multimedia University', 'Lecture Class Capacity','Tutorial Class Capacity', \n",
    "                     'Classroom Facilities', 'Campus Environment']]\n",
    "\n",
    "print(\"X:\", X.shape,\"y:\", y.shape)\n",
    "\n",
    "for i in [0.5,0.4,0.3,0.2]:\n",
    "    for j in rand_states:\n",
    "        X_train, X_test, y_train, y_test = train_test_split(X, y, test_size=i, random_state=j)\n",
    "        param_grid = {'C': [0.1, 1, 10, 100],\n",
    "                      'gamma': [1, 0.1, 0.01, 0.001],\n",
    "                      'kernel': ['rbf','sigmoid']}\n",
    "\n",
    "        model = GridSearchCV(SVC(random_state=0), param_grid, refit=True, n_jobs=-1, cv=10, verbose=1)\n",
    "        model.fit(X_train, y_train)\n",
    "        pred = model.predict(X_test)\n",
    "        \n",
    "        acc = accuracy_score(y_test,pred)\n",
    "        pre = precision_score(y_test, pred, average='weighted')\n",
    "        recall = recall_score(y_test, pred, average='weighted')\n",
    "        f1 = f1_score(y_test, pred, average='weighted')\n",
    "        param = model.best_params_\n",
    "    \n",
    "        temp5L_SOTME_imb.append([i,j,acc,pre,recall,f1,param])\n",
    "        \n",
    "df5L_SOTME_imb = pd.DataFrame(columns=['Test Size','Random State','Accuracy','Precision','Recall','F1 Score','Best Param'],data=temp5L_SOTME_imb)\n",
    "df5L_SOTME_imb"
   ]
  },
  {
   "cell_type": "code",
   "execution_count": 53,
   "id": "a022be09-eeec-40b8-b30f-df271af26215",
   "metadata": {},
   "outputs": [
    {
     "data": {
      "text/html": [
       "<div>\n",
       "<style scoped>\n",
       "    .dataframe tbody tr th:only-of-type {\n",
       "        vertical-align: middle;\n",
       "    }\n",
       "\n",
       "    .dataframe tbody tr th {\n",
       "        vertical-align: top;\n",
       "    }\n",
       "\n",
       "    .dataframe thead th {\n",
       "        text-align: right;\n",
       "    }\n",
       "</style>\n",
       "<table border=\"1\" class=\"dataframe\">\n",
       "  <thead>\n",
       "    <tr style=\"text-align: right;\">\n",
       "      <th></th>\n",
       "      <th>Accuracy</th>\n",
       "      <th>Precision</th>\n",
       "      <th>Recall</th>\n",
       "      <th>F1 Score</th>\n",
       "    </tr>\n",
       "    <tr>\n",
       "      <th>Test Size</th>\n",
       "      <th></th>\n",
       "      <th></th>\n",
       "      <th></th>\n",
       "      <th></th>\n",
       "    </tr>\n",
       "  </thead>\n",
       "  <tbody>\n",
       "    <tr>\n",
       "      <th>0.2</th>\n",
       "      <td>0.489664</td>\n",
       "      <td>0.239864</td>\n",
       "      <td>0.489664</td>\n",
       "      <td>0.321969</td>\n",
       "    </tr>\n",
       "    <tr>\n",
       "      <th>0.3</th>\n",
       "      <td>0.472868</td>\n",
       "      <td>0.267601</td>\n",
       "      <td>0.472868</td>\n",
       "      <td>0.333371</td>\n",
       "    </tr>\n",
       "    <tr>\n",
       "      <th>0.4</th>\n",
       "      <td>0.477670</td>\n",
       "      <td>0.229118</td>\n",
       "      <td>0.477670</td>\n",
       "      <td>0.309589</td>\n",
       "    </tr>\n",
       "    <tr>\n",
       "      <th>0.5</th>\n",
       "      <td>0.478261</td>\n",
       "      <td>0.252362</td>\n",
       "      <td>0.478261</td>\n",
       "      <td>0.315597</td>\n",
       "    </tr>\n",
       "  </tbody>\n",
       "</table>\n",
       "</div>"
      ],
      "text/plain": [
       "           Accuracy  Precision    Recall  F1 Score\n",
       "Test Size                                         \n",
       "0.2        0.489664   0.239864  0.489664  0.321969\n",
       "0.3        0.472868   0.267601  0.472868  0.333371\n",
       "0.4        0.477670   0.229118  0.477670  0.309589\n",
       "0.5        0.478261   0.252362  0.478261  0.315597"
      ]
     },
     "execution_count": 53,
     "metadata": {},
     "output_type": "execute_result"
    }
   ],
   "source": [
    "df5L_SOTME_imb.groupby('Test Size')[['Accuracy','Precision','Recall','F1 Score']].mean()"
   ]
  },
  {
   "cell_type": "markdown",
   "id": "807d28ab-cd37-4940-ab9c-7d9ac7a0e586",
   "metadata": {},
   "source": [
    "### SOTME after RandomOverSampler"
   ]
  },
  {
   "cell_type": "code",
   "execution_count": 54,
   "id": "b9b7e7c8-89fe-43cb-8120-30a742adcbad",
   "metadata": {},
   "outputs": [
    {
     "name": "stdout",
     "output_type": "stream",
     "text": [
      "Fitting 10 folds for each of 32 candidates, totalling 320 fits\n"
     ]
    },
    {
     "name": "stderr",
     "output_type": "stream",
     "text": [
      "C:\\Users\\hazel\\anaconda3\\Lib\\site-packages\\sklearn\\utils\\validation.py:1143: DataConversionWarning: A column-vector y was passed when a 1d array was expected. Please change the shape of y to (n_samples, ), for example using ravel().\n",
      "  y = column_or_1d(y, warn=True)\n"
     ]
    },
    {
     "name": "stdout",
     "output_type": "stream",
     "text": [
      "Fitting 10 folds for each of 32 candidates, totalling 320 fits\n"
     ]
    },
    {
     "name": "stderr",
     "output_type": "stream",
     "text": [
      "C:\\Users\\hazel\\anaconda3\\Lib\\site-packages\\sklearn\\utils\\validation.py:1143: DataConversionWarning: A column-vector y was passed when a 1d array was expected. Please change the shape of y to (n_samples, ), for example using ravel().\n",
      "  y = column_or_1d(y, warn=True)\n"
     ]
    },
    {
     "name": "stdout",
     "output_type": "stream",
     "text": [
      "Fitting 10 folds for each of 32 candidates, totalling 320 fits\n"
     ]
    },
    {
     "name": "stderr",
     "output_type": "stream",
     "text": [
      "C:\\Users\\hazel\\anaconda3\\Lib\\site-packages\\sklearn\\utils\\validation.py:1143: DataConversionWarning: A column-vector y was passed when a 1d array was expected. Please change the shape of y to (n_samples, ), for example using ravel().\n",
      "  y = column_or_1d(y, warn=True)\n"
     ]
    },
    {
     "name": "stdout",
     "output_type": "stream",
     "text": [
      "Fitting 10 folds for each of 32 candidates, totalling 320 fits\n"
     ]
    },
    {
     "name": "stderr",
     "output_type": "stream",
     "text": [
      "C:\\Users\\hazel\\anaconda3\\Lib\\site-packages\\sklearn\\utils\\validation.py:1143: DataConversionWarning: A column-vector y was passed when a 1d array was expected. Please change the shape of y to (n_samples, ), for example using ravel().\n",
      "  y = column_or_1d(y, warn=True)\n"
     ]
    },
    {
     "name": "stdout",
     "output_type": "stream",
     "text": [
      "Fitting 10 folds for each of 32 candidates, totalling 320 fits\n"
     ]
    },
    {
     "name": "stderr",
     "output_type": "stream",
     "text": [
      "C:\\Users\\hazel\\anaconda3\\Lib\\site-packages\\sklearn\\utils\\validation.py:1143: DataConversionWarning: A column-vector y was passed when a 1d array was expected. Please change the shape of y to (n_samples, ), for example using ravel().\n",
      "  y = column_or_1d(y, warn=True)\n"
     ]
    },
    {
     "name": "stdout",
     "output_type": "stream",
     "text": [
      "Fitting 10 folds for each of 32 candidates, totalling 320 fits\n"
     ]
    },
    {
     "name": "stderr",
     "output_type": "stream",
     "text": [
      "C:\\Users\\hazel\\anaconda3\\Lib\\site-packages\\sklearn\\utils\\validation.py:1143: DataConversionWarning: A column-vector y was passed when a 1d array was expected. Please change the shape of y to (n_samples, ), for example using ravel().\n",
      "  y = column_or_1d(y, warn=True)\n"
     ]
    },
    {
     "name": "stdout",
     "output_type": "stream",
     "text": [
      "Fitting 10 folds for each of 32 candidates, totalling 320 fits\n"
     ]
    },
    {
     "name": "stderr",
     "output_type": "stream",
     "text": [
      "C:\\Users\\hazel\\anaconda3\\Lib\\site-packages\\sklearn\\utils\\validation.py:1143: DataConversionWarning: A column-vector y was passed when a 1d array was expected. Please change the shape of y to (n_samples, ), for example using ravel().\n",
      "  y = column_or_1d(y, warn=True)\n"
     ]
    },
    {
     "name": "stdout",
     "output_type": "stream",
     "text": [
      "Fitting 10 folds for each of 32 candidates, totalling 320 fits\n"
     ]
    },
    {
     "name": "stderr",
     "output_type": "stream",
     "text": [
      "C:\\Users\\hazel\\anaconda3\\Lib\\site-packages\\sklearn\\utils\\validation.py:1143: DataConversionWarning: A column-vector y was passed when a 1d array was expected. Please change the shape of y to (n_samples, ), for example using ravel().\n",
      "  y = column_or_1d(y, warn=True)\n"
     ]
    },
    {
     "name": "stdout",
     "output_type": "stream",
     "text": [
      "Fitting 10 folds for each of 32 candidates, totalling 320 fits\n"
     ]
    },
    {
     "name": "stderr",
     "output_type": "stream",
     "text": [
      "C:\\Users\\hazel\\anaconda3\\Lib\\site-packages\\sklearn\\utils\\validation.py:1143: DataConversionWarning: A column-vector y was passed when a 1d array was expected. Please change the shape of y to (n_samples, ), for example using ravel().\n",
      "  y = column_or_1d(y, warn=True)\n"
     ]
    },
    {
     "name": "stdout",
     "output_type": "stream",
     "text": [
      "Fitting 10 folds for each of 32 candidates, totalling 320 fits\n"
     ]
    },
    {
     "name": "stderr",
     "output_type": "stream",
     "text": [
      "C:\\Users\\hazel\\anaconda3\\Lib\\site-packages\\sklearn\\utils\\validation.py:1143: DataConversionWarning: A column-vector y was passed when a 1d array was expected. Please change the shape of y to (n_samples, ), for example using ravel().\n",
      "  y = column_or_1d(y, warn=True)\n"
     ]
    },
    {
     "name": "stdout",
     "output_type": "stream",
     "text": [
      "Fitting 10 folds for each of 32 candidates, totalling 320 fits\n"
     ]
    },
    {
     "name": "stderr",
     "output_type": "stream",
     "text": [
      "C:\\Users\\hazel\\anaconda3\\Lib\\site-packages\\sklearn\\utils\\validation.py:1143: DataConversionWarning: A column-vector y was passed when a 1d array was expected. Please change the shape of y to (n_samples, ), for example using ravel().\n",
      "  y = column_or_1d(y, warn=True)\n"
     ]
    },
    {
     "name": "stdout",
     "output_type": "stream",
     "text": [
      "Fitting 10 folds for each of 32 candidates, totalling 320 fits\n"
     ]
    },
    {
     "name": "stderr",
     "output_type": "stream",
     "text": [
      "C:\\Users\\hazel\\anaconda3\\Lib\\site-packages\\sklearn\\utils\\validation.py:1143: DataConversionWarning: A column-vector y was passed when a 1d array was expected. Please change the shape of y to (n_samples, ), for example using ravel().\n",
      "  y = column_or_1d(y, warn=True)\n"
     ]
    },
    {
     "data": {
      "text/html": [
       "<div>\n",
       "<style scoped>\n",
       "    .dataframe tbody tr th:only-of-type {\n",
       "        vertical-align: middle;\n",
       "    }\n",
       "\n",
       "    .dataframe tbody tr th {\n",
       "        vertical-align: top;\n",
       "    }\n",
       "\n",
       "    .dataframe thead th {\n",
       "        text-align: right;\n",
       "    }\n",
       "</style>\n",
       "<table border=\"1\" class=\"dataframe\">\n",
       "  <thead>\n",
       "    <tr style=\"text-align: right;\">\n",
       "      <th></th>\n",
       "      <th>Test Size</th>\n",
       "      <th>Random State</th>\n",
       "      <th>Accuracy</th>\n",
       "      <th>Precision</th>\n",
       "      <th>Recall</th>\n",
       "      <th>F1 Score</th>\n",
       "      <th>Best Param</th>\n",
       "    </tr>\n",
       "  </thead>\n",
       "  <tbody>\n",
       "    <tr>\n",
       "      <th>0</th>\n",
       "      <td>0.5</td>\n",
       "      <td>7</td>\n",
       "      <td>0.550227</td>\n",
       "      <td>0.520190</td>\n",
       "      <td>0.550227</td>\n",
       "      <td>0.521914</td>\n",
       "      <td>{'C': 10, 'gamma': 1, 'kernel': 'rbf'}</td>\n",
       "    </tr>\n",
       "    <tr>\n",
       "      <th>1</th>\n",
       "      <td>0.5</td>\n",
       "      <td>69</td>\n",
       "      <td>0.545690</td>\n",
       "      <td>0.527653</td>\n",
       "      <td>0.545690</td>\n",
       "      <td>0.524055</td>\n",
       "      <td>{'C': 10, 'gamma': 1, 'kernel': 'rbf'}</td>\n",
       "    </tr>\n",
       "    <tr>\n",
       "      <th>2</th>\n",
       "      <td>0.5</td>\n",
       "      <td>101</td>\n",
       "      <td>0.537913</td>\n",
       "      <td>0.516622</td>\n",
       "      <td>0.537913</td>\n",
       "      <td>0.512978</td>\n",
       "      <td>{'C': 10, 'gamma': 1, 'kernel': 'rbf'}</td>\n",
       "    </tr>\n",
       "    <tr>\n",
       "      <th>3</th>\n",
       "      <td>0.4</td>\n",
       "      <td>7</td>\n",
       "      <td>0.566451</td>\n",
       "      <td>0.538767</td>\n",
       "      <td>0.566451</td>\n",
       "      <td>0.537392</td>\n",
       "      <td>{'C': 10, 'gamma': 1, 'kernel': 'rbf'}</td>\n",
       "    </tr>\n",
       "    <tr>\n",
       "      <th>4</th>\n",
       "      <td>0.4</td>\n",
       "      <td>69</td>\n",
       "      <td>0.559968</td>\n",
       "      <td>0.548416</td>\n",
       "      <td>0.559968</td>\n",
       "      <td>0.540158</td>\n",
       "      <td>{'C': 10, 'gamma': 1, 'kernel': 'rbf'}</td>\n",
       "    </tr>\n",
       "    <tr>\n",
       "      <th>5</th>\n",
       "      <td>0.4</td>\n",
       "      <td>101</td>\n",
       "      <td>0.542139</td>\n",
       "      <td>0.524819</td>\n",
       "      <td>0.542139</td>\n",
       "      <td>0.512177</td>\n",
       "      <td>{'C': 10, 'gamma': 1, 'kernel': 'rbf'}</td>\n",
       "    </tr>\n",
       "    <tr>\n",
       "      <th>6</th>\n",
       "      <td>0.3</td>\n",
       "      <td>7</td>\n",
       "      <td>0.550756</td>\n",
       "      <td>0.525200</td>\n",
       "      <td>0.550756</td>\n",
       "      <td>0.519392</td>\n",
       "      <td>{'C': 10, 'gamma': 1, 'kernel': 'rbf'}</td>\n",
       "    </tr>\n",
       "    <tr>\n",
       "      <th>7</th>\n",
       "      <td>0.3</td>\n",
       "      <td>69</td>\n",
       "      <td>0.569114</td>\n",
       "      <td>0.548126</td>\n",
       "      <td>0.569114</td>\n",
       "      <td>0.546330</td>\n",
       "      <td>{'C': 10, 'gamma': 1, 'kernel': 'rbf'}</td>\n",
       "    </tr>\n",
       "    <tr>\n",
       "      <th>8</th>\n",
       "      <td>0.3</td>\n",
       "      <td>101</td>\n",
       "      <td>0.560475</td>\n",
       "      <td>0.543006</td>\n",
       "      <td>0.560475</td>\n",
       "      <td>0.535317</td>\n",
       "      <td>{'C': 10, 'gamma': 1, 'kernel': 'rbf'}</td>\n",
       "    </tr>\n",
       "    <tr>\n",
       "      <th>9</th>\n",
       "      <td>0.2</td>\n",
       "      <td>7</td>\n",
       "      <td>0.562399</td>\n",
       "      <td>0.537805</td>\n",
       "      <td>0.562399</td>\n",
       "      <td>0.530969</td>\n",
       "      <td>{'C': 10, 'gamma': 1, 'kernel': 'rbf'}</td>\n",
       "    </tr>\n",
       "    <tr>\n",
       "      <th>10</th>\n",
       "      <td>0.2</td>\n",
       "      <td>69</td>\n",
       "      <td>0.606159</td>\n",
       "      <td>0.586093</td>\n",
       "      <td>0.606159</td>\n",
       "      <td>0.575151</td>\n",
       "      <td>{'C': 10, 'gamma': 1, 'kernel': 'rbf'}</td>\n",
       "    </tr>\n",
       "    <tr>\n",
       "      <th>11</th>\n",
       "      <td>0.2</td>\n",
       "      <td>101</td>\n",
       "      <td>0.565640</td>\n",
       "      <td>0.550870</td>\n",
       "      <td>0.565640</td>\n",
       "      <td>0.541404</td>\n",
       "      <td>{'C': 10, 'gamma': 1, 'kernel': 'rbf'}</td>\n",
       "    </tr>\n",
       "  </tbody>\n",
       "</table>\n",
       "</div>"
      ],
      "text/plain": [
       "    Test Size  Random State  Accuracy  Precision    Recall  F1 Score  \\\n",
       "0         0.5             7  0.550227   0.520190  0.550227  0.521914   \n",
       "1         0.5            69  0.545690   0.527653  0.545690  0.524055   \n",
       "2         0.5           101  0.537913   0.516622  0.537913  0.512978   \n",
       "3         0.4             7  0.566451   0.538767  0.566451  0.537392   \n",
       "4         0.4            69  0.559968   0.548416  0.559968  0.540158   \n",
       "5         0.4           101  0.542139   0.524819  0.542139  0.512177   \n",
       "6         0.3             7  0.550756   0.525200  0.550756  0.519392   \n",
       "7         0.3            69  0.569114   0.548126  0.569114  0.546330   \n",
       "8         0.3           101  0.560475   0.543006  0.560475  0.535317   \n",
       "9         0.2             7  0.562399   0.537805  0.562399  0.530969   \n",
       "10        0.2            69  0.606159   0.586093  0.606159  0.575151   \n",
       "11        0.2           101  0.565640   0.550870  0.565640  0.541404   \n",
       "\n",
       "                                Best Param  \n",
       "0   {'C': 10, 'gamma': 1, 'kernel': 'rbf'}  \n",
       "1   {'C': 10, 'gamma': 1, 'kernel': 'rbf'}  \n",
       "2   {'C': 10, 'gamma': 1, 'kernel': 'rbf'}  \n",
       "3   {'C': 10, 'gamma': 1, 'kernel': 'rbf'}  \n",
       "4   {'C': 10, 'gamma': 1, 'kernel': 'rbf'}  \n",
       "5   {'C': 10, 'gamma': 1, 'kernel': 'rbf'}  \n",
       "6   {'C': 10, 'gamma': 1, 'kernel': 'rbf'}  \n",
       "7   {'C': 10, 'gamma': 1, 'kernel': 'rbf'}  \n",
       "8   {'C': 10, 'gamma': 1, 'kernel': 'rbf'}  \n",
       "9   {'C': 10, 'gamma': 1, 'kernel': 'rbf'}  \n",
       "10  {'C': 10, 'gamma': 1, 'kernel': 'rbf'}  \n",
       "11  {'C': 10, 'gamma': 1, 'kernel': 'rbf'}  "
      ]
     },
     "execution_count": 54,
     "metadata": {},
     "output_type": "execute_result"
    }
   ],
   "source": [
    "temp5L_SOTME_ROS = []\n",
    "\n",
    "y = merge_5L_ROS[['CGPA']]\n",
    "X = merge_5L_ROS[['Reason Study at Multimedia University', 'Lecture Class Capacity','Tutorial Class Capacity', \n",
    "                     'Classroom Facilities', 'Campus Environment']]\n",
    "\n",
    "for i in [0.5,0.4,0.3,0.2]:\n",
    "    for j in rand_states:\n",
    "        X_train, X_test, y_train, y_test = train_test_split(X, y, test_size=i, random_state=j)\n",
    "        param_grid = {'C': [0.1, 1, 10, 100],\n",
    "                      'gamma': [1, 0.1, 0.01, 0.001],\n",
    "                      'kernel': ['rbf','sigmoid']}\n",
    "\n",
    "        model = GridSearchCV(SVC(random_state=0), param_grid, refit=True, n_jobs=-1, cv=10, verbose=1)\n",
    "        model.fit(X_train, y_train)\n",
    "        pred = model.predict(X_test)\n",
    "        \n",
    "        acc = accuracy_score(y_test,pred)\n",
    "        pre = precision_score(y_test, pred, average='weighted')\n",
    "        recall = recall_score(y_test, pred, average='weighted')\n",
    "        f1 = f1_score(y_test, pred, average='weighted')\n",
    "        param = model.best_params_\n",
    "    \n",
    "        temp5L_SOTME_ROS.append([i,j,acc,pre,recall,f1,param])\n",
    "        \n",
    "df5L_SOTME_ROS = pd.DataFrame(columns=['Test Size','Random State','Accuracy','Precision','Recall','F1 Score','Best Param'],data=temp5L_SOTME_ROS)\n",
    "df5L_SOTME_ROS"
   ]
  },
  {
   "cell_type": "code",
   "execution_count": 55,
   "id": "4c11bd4d-47c2-43f8-9c68-176d419c51a4",
   "metadata": {},
   "outputs": [
    {
     "data": {
      "text/html": [
       "<div>\n",
       "<style scoped>\n",
       "    .dataframe tbody tr th:only-of-type {\n",
       "        vertical-align: middle;\n",
       "    }\n",
       "\n",
       "    .dataframe tbody tr th {\n",
       "        vertical-align: top;\n",
       "    }\n",
       "\n",
       "    .dataframe thead th {\n",
       "        text-align: right;\n",
       "    }\n",
       "</style>\n",
       "<table border=\"1\" class=\"dataframe\">\n",
       "  <thead>\n",
       "    <tr style=\"text-align: right;\">\n",
       "      <th></th>\n",
       "      <th>Accuracy</th>\n",
       "      <th>Precision</th>\n",
       "      <th>Recall</th>\n",
       "      <th>F1 Score</th>\n",
       "    </tr>\n",
       "    <tr>\n",
       "      <th>Test Size</th>\n",
       "      <th></th>\n",
       "      <th></th>\n",
       "      <th></th>\n",
       "      <th></th>\n",
       "    </tr>\n",
       "  </thead>\n",
       "  <tbody>\n",
       "    <tr>\n",
       "      <th>0.2</th>\n",
       "      <td>0.578066</td>\n",
       "      <td>0.558256</td>\n",
       "      <td>0.578066</td>\n",
       "      <td>0.549175</td>\n",
       "    </tr>\n",
       "    <tr>\n",
       "      <th>0.3</th>\n",
       "      <td>0.560115</td>\n",
       "      <td>0.538778</td>\n",
       "      <td>0.560115</td>\n",
       "      <td>0.533680</td>\n",
       "    </tr>\n",
       "    <tr>\n",
       "      <th>0.4</th>\n",
       "      <td>0.556186</td>\n",
       "      <td>0.537334</td>\n",
       "      <td>0.556186</td>\n",
       "      <td>0.529909</td>\n",
       "    </tr>\n",
       "    <tr>\n",
       "      <th>0.5</th>\n",
       "      <td>0.544610</td>\n",
       "      <td>0.521489</td>\n",
       "      <td>0.544610</td>\n",
       "      <td>0.519649</td>\n",
       "    </tr>\n",
       "  </tbody>\n",
       "</table>\n",
       "</div>"
      ],
      "text/plain": [
       "           Accuracy  Precision    Recall  F1 Score\n",
       "Test Size                                         \n",
       "0.2        0.578066   0.558256  0.578066  0.549175\n",
       "0.3        0.560115   0.538778  0.560115  0.533680\n",
       "0.4        0.556186   0.537334  0.556186  0.529909\n",
       "0.5        0.544610   0.521489  0.544610  0.519649"
      ]
     },
     "execution_count": 55,
     "metadata": {},
     "output_type": "execute_result"
    }
   ],
   "source": [
    "df5L_SOTME_ROS.groupby('Test Size')[['Accuracy','Precision','Recall','F1 Score']].mean()"
   ]
  },
  {
   "cell_type": "markdown",
   "id": "e890fa05-2283-42ec-a404-a51d3a6e6615",
   "metadata": {},
   "source": [
    "### SOTME after SMOTE"
   ]
  },
  {
   "cell_type": "code",
   "execution_count": 56,
   "id": "980307cc-c57b-4678-8edf-551e9f38e687",
   "metadata": {},
   "outputs": [
    {
     "name": "stdout",
     "output_type": "stream",
     "text": [
      "Fitting 10 folds for each of 32 candidates, totalling 320 fits\n"
     ]
    },
    {
     "name": "stderr",
     "output_type": "stream",
     "text": [
      "C:\\Users\\hazel\\anaconda3\\Lib\\site-packages\\sklearn\\utils\\validation.py:1143: DataConversionWarning: A column-vector y was passed when a 1d array was expected. Please change the shape of y to (n_samples, ), for example using ravel().\n",
      "  y = column_or_1d(y, warn=True)\n"
     ]
    },
    {
     "name": "stdout",
     "output_type": "stream",
     "text": [
      "Fitting 10 folds for each of 32 candidates, totalling 320 fits\n"
     ]
    },
    {
     "name": "stderr",
     "output_type": "stream",
     "text": [
      "C:\\Users\\hazel\\anaconda3\\Lib\\site-packages\\sklearn\\utils\\validation.py:1143: DataConversionWarning: A column-vector y was passed when a 1d array was expected. Please change the shape of y to (n_samples, ), for example using ravel().\n",
      "  y = column_or_1d(y, warn=True)\n"
     ]
    },
    {
     "name": "stdout",
     "output_type": "stream",
     "text": [
      "Fitting 10 folds for each of 32 candidates, totalling 320 fits\n"
     ]
    },
    {
     "name": "stderr",
     "output_type": "stream",
     "text": [
      "C:\\Users\\hazel\\anaconda3\\Lib\\site-packages\\sklearn\\utils\\validation.py:1143: DataConversionWarning: A column-vector y was passed when a 1d array was expected. Please change the shape of y to (n_samples, ), for example using ravel().\n",
      "  y = column_or_1d(y, warn=True)\n"
     ]
    },
    {
     "name": "stdout",
     "output_type": "stream",
     "text": [
      "Fitting 10 folds for each of 32 candidates, totalling 320 fits\n"
     ]
    },
    {
     "name": "stderr",
     "output_type": "stream",
     "text": [
      "C:\\Users\\hazel\\anaconda3\\Lib\\site-packages\\sklearn\\utils\\validation.py:1143: DataConversionWarning: A column-vector y was passed when a 1d array was expected. Please change the shape of y to (n_samples, ), for example using ravel().\n",
      "  y = column_or_1d(y, warn=True)\n"
     ]
    },
    {
     "name": "stdout",
     "output_type": "stream",
     "text": [
      "Fitting 10 folds for each of 32 candidates, totalling 320 fits\n"
     ]
    },
    {
     "name": "stderr",
     "output_type": "stream",
     "text": [
      "C:\\Users\\hazel\\anaconda3\\Lib\\site-packages\\sklearn\\utils\\validation.py:1143: DataConversionWarning: A column-vector y was passed when a 1d array was expected. Please change the shape of y to (n_samples, ), for example using ravel().\n",
      "  y = column_or_1d(y, warn=True)\n"
     ]
    },
    {
     "name": "stdout",
     "output_type": "stream",
     "text": [
      "Fitting 10 folds for each of 32 candidates, totalling 320 fits\n"
     ]
    },
    {
     "name": "stderr",
     "output_type": "stream",
     "text": [
      "C:\\Users\\hazel\\anaconda3\\Lib\\site-packages\\sklearn\\utils\\validation.py:1143: DataConversionWarning: A column-vector y was passed when a 1d array was expected. Please change the shape of y to (n_samples, ), for example using ravel().\n",
      "  y = column_or_1d(y, warn=True)\n"
     ]
    },
    {
     "name": "stdout",
     "output_type": "stream",
     "text": [
      "Fitting 10 folds for each of 32 candidates, totalling 320 fits\n"
     ]
    },
    {
     "name": "stderr",
     "output_type": "stream",
     "text": [
      "C:\\Users\\hazel\\anaconda3\\Lib\\site-packages\\sklearn\\utils\\validation.py:1143: DataConversionWarning: A column-vector y was passed when a 1d array was expected. Please change the shape of y to (n_samples, ), for example using ravel().\n",
      "  y = column_or_1d(y, warn=True)\n"
     ]
    },
    {
     "name": "stdout",
     "output_type": "stream",
     "text": [
      "Fitting 10 folds for each of 32 candidates, totalling 320 fits\n"
     ]
    },
    {
     "name": "stderr",
     "output_type": "stream",
     "text": [
      "C:\\Users\\hazel\\anaconda3\\Lib\\site-packages\\sklearn\\utils\\validation.py:1143: DataConversionWarning: A column-vector y was passed when a 1d array was expected. Please change the shape of y to (n_samples, ), for example using ravel().\n",
      "  y = column_or_1d(y, warn=True)\n"
     ]
    },
    {
     "name": "stdout",
     "output_type": "stream",
     "text": [
      "Fitting 10 folds for each of 32 candidates, totalling 320 fits\n"
     ]
    },
    {
     "name": "stderr",
     "output_type": "stream",
     "text": [
      "C:\\Users\\hazel\\anaconda3\\Lib\\site-packages\\sklearn\\utils\\validation.py:1143: DataConversionWarning: A column-vector y was passed when a 1d array was expected. Please change the shape of y to (n_samples, ), for example using ravel().\n",
      "  y = column_or_1d(y, warn=True)\n"
     ]
    },
    {
     "name": "stdout",
     "output_type": "stream",
     "text": [
      "Fitting 10 folds for each of 32 candidates, totalling 320 fits\n"
     ]
    },
    {
     "name": "stderr",
     "output_type": "stream",
     "text": [
      "C:\\Users\\hazel\\anaconda3\\Lib\\site-packages\\sklearn\\utils\\validation.py:1143: DataConversionWarning: A column-vector y was passed when a 1d array was expected. Please change the shape of y to (n_samples, ), for example using ravel().\n",
      "  y = column_or_1d(y, warn=True)\n"
     ]
    },
    {
     "name": "stdout",
     "output_type": "stream",
     "text": [
      "Fitting 10 folds for each of 32 candidates, totalling 320 fits\n"
     ]
    },
    {
     "name": "stderr",
     "output_type": "stream",
     "text": [
      "C:\\Users\\hazel\\anaconda3\\Lib\\site-packages\\sklearn\\utils\\validation.py:1143: DataConversionWarning: A column-vector y was passed when a 1d array was expected. Please change the shape of y to (n_samples, ), for example using ravel().\n",
      "  y = column_or_1d(y, warn=True)\n"
     ]
    },
    {
     "name": "stdout",
     "output_type": "stream",
     "text": [
      "Fitting 10 folds for each of 32 candidates, totalling 320 fits\n"
     ]
    },
    {
     "name": "stderr",
     "output_type": "stream",
     "text": [
      "C:\\Users\\hazel\\anaconda3\\Lib\\site-packages\\sklearn\\utils\\validation.py:1143: DataConversionWarning: A column-vector y was passed when a 1d array was expected. Please change the shape of y to (n_samples, ), for example using ravel().\n",
      "  y = column_or_1d(y, warn=True)\n"
     ]
    },
    {
     "data": {
      "text/html": [
       "<div>\n",
       "<style scoped>\n",
       "    .dataframe tbody tr th:only-of-type {\n",
       "        vertical-align: middle;\n",
       "    }\n",
       "\n",
       "    .dataframe tbody tr th {\n",
       "        vertical-align: top;\n",
       "    }\n",
       "\n",
       "    .dataframe thead th {\n",
       "        text-align: right;\n",
       "    }\n",
       "</style>\n",
       "<table border=\"1\" class=\"dataframe\">\n",
       "  <thead>\n",
       "    <tr style=\"text-align: right;\">\n",
       "      <th></th>\n",
       "      <th>Test Size</th>\n",
       "      <th>Random State</th>\n",
       "      <th>Accuracy</th>\n",
       "      <th>Precision</th>\n",
       "      <th>Recall</th>\n",
       "      <th>F1 Score</th>\n",
       "      <th>Best Param</th>\n",
       "    </tr>\n",
       "  </thead>\n",
       "  <tbody>\n",
       "    <tr>\n",
       "      <th>0</th>\n",
       "      <td>0.5</td>\n",
       "      <td>7</td>\n",
       "      <td>0.434867</td>\n",
       "      <td>0.431002</td>\n",
       "      <td>0.434867</td>\n",
       "      <td>0.427611</td>\n",
       "      <td>{'C': 100, 'gamma': 0.1, 'kernel': 'rbf'}</td>\n",
       "    </tr>\n",
       "    <tr>\n",
       "      <th>1</th>\n",
       "      <td>0.5</td>\n",
       "      <td>69</td>\n",
       "      <td>0.440052</td>\n",
       "      <td>0.440372</td>\n",
       "      <td>0.440052</td>\n",
       "      <td>0.438625</td>\n",
       "      <td>{'C': 100, 'gamma': 0.1, 'kernel': 'rbf'}</td>\n",
       "    </tr>\n",
       "    <tr>\n",
       "      <th>2</th>\n",
       "      <td>0.5</td>\n",
       "      <td>101</td>\n",
       "      <td>0.442644</td>\n",
       "      <td>0.443600</td>\n",
       "      <td>0.442644</td>\n",
       "      <td>0.439693</td>\n",
       "      <td>{'C': 100, 'gamma': 0.1, 'kernel': 'rbf'}</td>\n",
       "    </tr>\n",
       "    <tr>\n",
       "      <th>3</th>\n",
       "      <td>0.4</td>\n",
       "      <td>7</td>\n",
       "      <td>0.450567</td>\n",
       "      <td>0.449230</td>\n",
       "      <td>0.450567</td>\n",
       "      <td>0.449222</td>\n",
       "      <td>{'C': 1, 'gamma': 1, 'kernel': 'rbf'}</td>\n",
       "    </tr>\n",
       "    <tr>\n",
       "      <th>4</th>\n",
       "      <td>0.4</td>\n",
       "      <td>69</td>\n",
       "      <td>0.437601</td>\n",
       "      <td>0.439270</td>\n",
       "      <td>0.437601</td>\n",
       "      <td>0.437287</td>\n",
       "      <td>{'C': 10, 'gamma': 1, 'kernel': 'rbf'}</td>\n",
       "    </tr>\n",
       "    <tr>\n",
       "      <th>5</th>\n",
       "      <td>0.4</td>\n",
       "      <td>101</td>\n",
       "      <td>0.418152</td>\n",
       "      <td>0.408318</td>\n",
       "      <td>0.418152</td>\n",
       "      <td>0.406496</td>\n",
       "      <td>{'C': 100, 'gamma': 0.1, 'kernel': 'rbf'}</td>\n",
       "    </tr>\n",
       "    <tr>\n",
       "      <th>6</th>\n",
       "      <td>0.3</td>\n",
       "      <td>7</td>\n",
       "      <td>0.449244</td>\n",
       "      <td>0.445861</td>\n",
       "      <td>0.449244</td>\n",
       "      <td>0.445424</td>\n",
       "      <td>{'C': 100, 'gamma': 0.1, 'kernel': 'rbf'}</td>\n",
       "    </tr>\n",
       "    <tr>\n",
       "      <th>7</th>\n",
       "      <td>0.3</td>\n",
       "      <td>69</td>\n",
       "      <td>0.437365</td>\n",
       "      <td>0.440485</td>\n",
       "      <td>0.437365</td>\n",
       "      <td>0.437089</td>\n",
       "      <td>{'C': 1, 'gamma': 1, 'kernel': 'rbf'}</td>\n",
       "    </tr>\n",
       "    <tr>\n",
       "      <th>8</th>\n",
       "      <td>0.3</td>\n",
       "      <td>101</td>\n",
       "      <td>0.397408</td>\n",
       "      <td>0.385319</td>\n",
       "      <td>0.397408</td>\n",
       "      <td>0.388163</td>\n",
       "      <td>{'C': 100, 'gamma': 0.1, 'kernel': 'rbf'}</td>\n",
       "    </tr>\n",
       "    <tr>\n",
       "      <th>9</th>\n",
       "      <td>0.2</td>\n",
       "      <td>7</td>\n",
       "      <td>0.471637</td>\n",
       "      <td>0.465879</td>\n",
       "      <td>0.471637</td>\n",
       "      <td>0.468263</td>\n",
       "      <td>{'C': 100, 'gamma': 0.1, 'kernel': 'rbf'}</td>\n",
       "    </tr>\n",
       "    <tr>\n",
       "      <th>10</th>\n",
       "      <td>0.2</td>\n",
       "      <td>69</td>\n",
       "      <td>0.453809</td>\n",
       "      <td>0.455116</td>\n",
       "      <td>0.453809</td>\n",
       "      <td>0.449848</td>\n",
       "      <td>{'C': 1, 'gamma': 1, 'kernel': 'rbf'}</td>\n",
       "    </tr>\n",
       "    <tr>\n",
       "      <th>11</th>\n",
       "      <td>0.2</td>\n",
       "      <td>101</td>\n",
       "      <td>0.432739</td>\n",
       "      <td>0.427066</td>\n",
       "      <td>0.432739</td>\n",
       "      <td>0.429701</td>\n",
       "      <td>{'C': 100, 'gamma': 0.1, 'kernel': 'rbf'}</td>\n",
       "    </tr>\n",
       "  </tbody>\n",
       "</table>\n",
       "</div>"
      ],
      "text/plain": [
       "    Test Size  Random State  Accuracy  Precision    Recall  F1 Score  \\\n",
       "0         0.5             7  0.434867   0.431002  0.434867  0.427611   \n",
       "1         0.5            69  0.440052   0.440372  0.440052  0.438625   \n",
       "2         0.5           101  0.442644   0.443600  0.442644  0.439693   \n",
       "3         0.4             7  0.450567   0.449230  0.450567  0.449222   \n",
       "4         0.4            69  0.437601   0.439270  0.437601  0.437287   \n",
       "5         0.4           101  0.418152   0.408318  0.418152  0.406496   \n",
       "6         0.3             7  0.449244   0.445861  0.449244  0.445424   \n",
       "7         0.3            69  0.437365   0.440485  0.437365  0.437089   \n",
       "8         0.3           101  0.397408   0.385319  0.397408  0.388163   \n",
       "9         0.2             7  0.471637   0.465879  0.471637  0.468263   \n",
       "10        0.2            69  0.453809   0.455116  0.453809  0.449848   \n",
       "11        0.2           101  0.432739   0.427066  0.432739  0.429701   \n",
       "\n",
       "                                   Best Param  \n",
       "0   {'C': 100, 'gamma': 0.1, 'kernel': 'rbf'}  \n",
       "1   {'C': 100, 'gamma': 0.1, 'kernel': 'rbf'}  \n",
       "2   {'C': 100, 'gamma': 0.1, 'kernel': 'rbf'}  \n",
       "3       {'C': 1, 'gamma': 1, 'kernel': 'rbf'}  \n",
       "4      {'C': 10, 'gamma': 1, 'kernel': 'rbf'}  \n",
       "5   {'C': 100, 'gamma': 0.1, 'kernel': 'rbf'}  \n",
       "6   {'C': 100, 'gamma': 0.1, 'kernel': 'rbf'}  \n",
       "7       {'C': 1, 'gamma': 1, 'kernel': 'rbf'}  \n",
       "8   {'C': 100, 'gamma': 0.1, 'kernel': 'rbf'}  \n",
       "9   {'C': 100, 'gamma': 0.1, 'kernel': 'rbf'}  \n",
       "10      {'C': 1, 'gamma': 1, 'kernel': 'rbf'}  \n",
       "11  {'C': 100, 'gamma': 0.1, 'kernel': 'rbf'}  "
      ]
     },
     "execution_count": 56,
     "metadata": {},
     "output_type": "execute_result"
    }
   ],
   "source": [
    "temp5L_SOTME_SMOTE = []\n",
    "\n",
    "y = merge_5L_SMOTE[['CGPA']]\n",
    "X = merge_5L_SMOTE[['Reason Study at Multimedia University', 'Lecture Class Capacity','Tutorial Class Capacity', \n",
    "                     'Classroom Facilities', 'Campus Environment']]\n",
    "\n",
    "for i in [0.5,0.4,0.3,0.2]:\n",
    "    for j in rand_states:\n",
    "        X_train, X_test, y_train, y_test = train_test_split(X, y, test_size=i, random_state=j)\n",
    "        param_grid = {'C': [0.1, 1, 10, 100],\n",
    "                      'gamma': [1, 0.1, 0.01, 0.001],\n",
    "                      'kernel': ['rbf','sigmoid']}\n",
    "\n",
    "        model = GridSearchCV(SVC(random_state=0), param_grid, refit=True, n_jobs=-1, cv=10, verbose=1)\n",
    "        model.fit(X_train, y_train)\n",
    "        pred = model.predict(X_test)\n",
    "        \n",
    "        acc = accuracy_score(y_test,pred)\n",
    "        pre = precision_score(y_test, pred, average='weighted')\n",
    "        recall = recall_score(y_test, pred, average='weighted')\n",
    "        f1 = f1_score(y_test, pred, average='weighted')\n",
    "        param = model.best_params_\n",
    "    \n",
    "        temp5L_SOTME_SMOTE.append([i,j,acc,pre,recall,f1,param])\n",
    "        \n",
    "df5L_SOTME_SMOTE = pd.DataFrame(columns=['Test Size','Random State','Accuracy','Precision','Recall','F1 Score','Best Param'],data=temp5L_SOTME_SMOTE)\n",
    "df5L_SOTME_SMOTE"
   ]
  },
  {
   "cell_type": "code",
   "execution_count": 57,
   "id": "f664d1b3-419c-4ede-9577-6b8b6ca0cd64",
   "metadata": {},
   "outputs": [
    {
     "data": {
      "text/html": [
       "<div>\n",
       "<style scoped>\n",
       "    .dataframe tbody tr th:only-of-type {\n",
       "        vertical-align: middle;\n",
       "    }\n",
       "\n",
       "    .dataframe tbody tr th {\n",
       "        vertical-align: top;\n",
       "    }\n",
       "\n",
       "    .dataframe thead th {\n",
       "        text-align: right;\n",
       "    }\n",
       "</style>\n",
       "<table border=\"1\" class=\"dataframe\">\n",
       "  <thead>\n",
       "    <tr style=\"text-align: right;\">\n",
       "      <th></th>\n",
       "      <th>Accuracy</th>\n",
       "      <th>Precision</th>\n",
       "      <th>Recall</th>\n",
       "      <th>F1 Score</th>\n",
       "    </tr>\n",
       "    <tr>\n",
       "      <th>Test Size</th>\n",
       "      <th></th>\n",
       "      <th></th>\n",
       "      <th></th>\n",
       "      <th></th>\n",
       "    </tr>\n",
       "  </thead>\n",
       "  <tbody>\n",
       "    <tr>\n",
       "      <th>0.2</th>\n",
       "      <td>0.452728</td>\n",
       "      <td>0.449354</td>\n",
       "      <td>0.452728</td>\n",
       "      <td>0.449271</td>\n",
       "    </tr>\n",
       "    <tr>\n",
       "      <th>0.3</th>\n",
       "      <td>0.428006</td>\n",
       "      <td>0.423888</td>\n",
       "      <td>0.428006</td>\n",
       "      <td>0.423558</td>\n",
       "    </tr>\n",
       "    <tr>\n",
       "      <th>0.4</th>\n",
       "      <td>0.435440</td>\n",
       "      <td>0.432273</td>\n",
       "      <td>0.435440</td>\n",
       "      <td>0.431002</td>\n",
       "    </tr>\n",
       "    <tr>\n",
       "      <th>0.5</th>\n",
       "      <td>0.439188</td>\n",
       "      <td>0.438325</td>\n",
       "      <td>0.439188</td>\n",
       "      <td>0.435309</td>\n",
       "    </tr>\n",
       "  </tbody>\n",
       "</table>\n",
       "</div>"
      ],
      "text/plain": [
       "           Accuracy  Precision    Recall  F1 Score\n",
       "Test Size                                         \n",
       "0.2        0.452728   0.449354  0.452728  0.449271\n",
       "0.3        0.428006   0.423888  0.428006  0.423558\n",
       "0.4        0.435440   0.432273  0.435440  0.431002\n",
       "0.5        0.439188   0.438325  0.439188  0.435309"
      ]
     },
     "execution_count": 57,
     "metadata": {},
     "output_type": "execute_result"
    }
   ],
   "source": [
    "df5L_SOTME_SMOTE.groupby('Test Size')[['Accuracy','Precision','Recall','F1 Score']].mean()"
   ]
  },
  {
   "cell_type": "markdown",
   "id": "fa4f36a5-83c9-43fa-9834-43d0768e543a",
   "metadata": {},
   "source": [
    "## Student Family Background"
   ]
  },
  {
   "cell_type": "markdown",
   "id": "d7302a2d-b2d0-422b-ae24-f4d44b019964",
   "metadata": {},
   "source": [
    "### SFB before Data Balancing"
   ]
  },
  {
   "cell_type": "code",
   "execution_count": 58,
   "id": "dde117d9-cf91-4cc9-be99-ba642f37ea01",
   "metadata": {},
   "outputs": [
    {
     "name": "stdout",
     "output_type": "stream",
     "text": [
      "X: (1287, 7) y: (1287, 1)\n",
      "Fitting 10 folds for each of 32 candidates, totalling 320 fits\n"
     ]
    },
    {
     "name": "stderr",
     "output_type": "stream",
     "text": [
      "C:\\Users\\hazel\\anaconda3\\Lib\\site-packages\\sklearn\\model_selection\\_split.py:700: UserWarning: The least populated class in y has only 8 members, which is less than n_splits=10.\n",
      "  warnings.warn(\n",
      "C:\\Users\\hazel\\anaconda3\\Lib\\site-packages\\sklearn\\utils\\validation.py:1143: DataConversionWarning: A column-vector y was passed when a 1d array was expected. Please change the shape of y to (n_samples, ), for example using ravel().\n",
      "  y = column_or_1d(y, warn=True)\n",
      "C:\\Users\\hazel\\anaconda3\\Lib\\site-packages\\sklearn\\metrics\\_classification.py:1344: UndefinedMetricWarning: Precision is ill-defined and being set to 0.0 in labels with no predicted samples. Use `zero_division` parameter to control this behavior.\n",
      "  _warn_prf(average, modifier, msg_start, len(result))\n",
      "C:\\Users\\hazel\\anaconda3\\Lib\\site-packages\\sklearn\\model_selection\\_split.py:700: UserWarning: The least populated class in y has only 8 members, which is less than n_splits=10.\n",
      "  warnings.warn(\n"
     ]
    },
    {
     "name": "stdout",
     "output_type": "stream",
     "text": [
      "Fitting 10 folds for each of 32 candidates, totalling 320 fits\n"
     ]
    },
    {
     "name": "stderr",
     "output_type": "stream",
     "text": [
      "C:\\Users\\hazel\\anaconda3\\Lib\\site-packages\\sklearn\\utils\\validation.py:1143: DataConversionWarning: A column-vector y was passed when a 1d array was expected. Please change the shape of y to (n_samples, ), for example using ravel().\n",
      "  y = column_or_1d(y, warn=True)\n",
      "C:\\Users\\hazel\\anaconda3\\Lib\\site-packages\\sklearn\\metrics\\_classification.py:1344: UndefinedMetricWarning: Precision is ill-defined and being set to 0.0 in labels with no predicted samples. Use `zero_division` parameter to control this behavior.\n",
      "  _warn_prf(average, modifier, msg_start, len(result))\n",
      "C:\\Users\\hazel\\anaconda3\\Lib\\site-packages\\sklearn\\model_selection\\_split.py:700: UserWarning: The least populated class in y has only 8 members, which is less than n_splits=10.\n",
      "  warnings.warn(\n"
     ]
    },
    {
     "name": "stdout",
     "output_type": "stream",
     "text": [
      "Fitting 10 folds for each of 32 candidates, totalling 320 fits\n"
     ]
    },
    {
     "name": "stderr",
     "output_type": "stream",
     "text": [
      "C:\\Users\\hazel\\anaconda3\\Lib\\site-packages\\sklearn\\utils\\validation.py:1143: DataConversionWarning: A column-vector y was passed when a 1d array was expected. Please change the shape of y to (n_samples, ), for example using ravel().\n",
      "  y = column_or_1d(y, warn=True)\n",
      "C:\\Users\\hazel\\anaconda3\\Lib\\site-packages\\sklearn\\metrics\\_classification.py:1344: UndefinedMetricWarning: Precision is ill-defined and being set to 0.0 in labels with no predicted samples. Use `zero_division` parameter to control this behavior.\n",
      "  _warn_prf(average, modifier, msg_start, len(result))\n"
     ]
    },
    {
     "name": "stdout",
     "output_type": "stream",
     "text": [
      "Fitting 10 folds for each of 32 candidates, totalling 320 fits\n"
     ]
    },
    {
     "name": "stderr",
     "output_type": "stream",
     "text": [
      "C:\\Users\\hazel\\anaconda3\\Lib\\site-packages\\sklearn\\utils\\validation.py:1143: DataConversionWarning: A column-vector y was passed when a 1d array was expected. Please change the shape of y to (n_samples, ), for example using ravel().\n",
      "  y = column_or_1d(y, warn=True)\n",
      "C:\\Users\\hazel\\anaconda3\\Lib\\site-packages\\sklearn\\metrics\\_classification.py:1344: UndefinedMetricWarning: Precision is ill-defined and being set to 0.0 in labels with no predicted samples. Use `zero_division` parameter to control this behavior.\n",
      "  _warn_prf(average, modifier, msg_start, len(result))\n",
      "C:\\Users\\hazel\\anaconda3\\Lib\\site-packages\\sklearn\\model_selection\\_split.py:700: UserWarning: The least populated class in y has only 9 members, which is less than n_splits=10.\n",
      "  warnings.warn(\n"
     ]
    },
    {
     "name": "stdout",
     "output_type": "stream",
     "text": [
      "Fitting 10 folds for each of 32 candidates, totalling 320 fits\n"
     ]
    },
    {
     "name": "stderr",
     "output_type": "stream",
     "text": [
      "C:\\Users\\hazel\\anaconda3\\Lib\\site-packages\\sklearn\\utils\\validation.py:1143: DataConversionWarning: A column-vector y was passed when a 1d array was expected. Please change the shape of y to (n_samples, ), for example using ravel().\n",
      "  y = column_or_1d(y, warn=True)\n",
      "C:\\Users\\hazel\\anaconda3\\Lib\\site-packages\\sklearn\\metrics\\_classification.py:1344: UndefinedMetricWarning: Precision is ill-defined and being set to 0.0 in labels with no predicted samples. Use `zero_division` parameter to control this behavior.\n",
      "  _warn_prf(average, modifier, msg_start, len(result))\n"
     ]
    },
    {
     "name": "stdout",
     "output_type": "stream",
     "text": [
      "Fitting 10 folds for each of 32 candidates, totalling 320 fits\n"
     ]
    },
    {
     "name": "stderr",
     "output_type": "stream",
     "text": [
      "C:\\Users\\hazel\\anaconda3\\Lib\\site-packages\\sklearn\\utils\\validation.py:1143: DataConversionWarning: A column-vector y was passed when a 1d array was expected. Please change the shape of y to (n_samples, ), for example using ravel().\n",
      "  y = column_or_1d(y, warn=True)\n",
      "C:\\Users\\hazel\\anaconda3\\Lib\\site-packages\\sklearn\\metrics\\_classification.py:1344: UndefinedMetricWarning: Precision is ill-defined and being set to 0.0 in labels with no predicted samples. Use `zero_division` parameter to control this behavior.\n",
      "  _warn_prf(average, modifier, msg_start, len(result))\n"
     ]
    },
    {
     "name": "stdout",
     "output_type": "stream",
     "text": [
      "Fitting 10 folds for each of 32 candidates, totalling 320 fits\n"
     ]
    },
    {
     "name": "stderr",
     "output_type": "stream",
     "text": [
      "C:\\Users\\hazel\\anaconda3\\Lib\\site-packages\\sklearn\\utils\\validation.py:1143: DataConversionWarning: A column-vector y was passed when a 1d array was expected. Please change the shape of y to (n_samples, ), for example using ravel().\n",
      "  y = column_or_1d(y, warn=True)\n",
      "C:\\Users\\hazel\\anaconda3\\Lib\\site-packages\\sklearn\\metrics\\_classification.py:1344: UndefinedMetricWarning: Precision is ill-defined and being set to 0.0 in labels with no predicted samples. Use `zero_division` parameter to control this behavior.\n",
      "  _warn_prf(average, modifier, msg_start, len(result))\n"
     ]
    },
    {
     "name": "stdout",
     "output_type": "stream",
     "text": [
      "Fitting 10 folds for each of 32 candidates, totalling 320 fits\n"
     ]
    },
    {
     "name": "stderr",
     "output_type": "stream",
     "text": [
      "C:\\Users\\hazel\\anaconda3\\Lib\\site-packages\\sklearn\\utils\\validation.py:1143: DataConversionWarning: A column-vector y was passed when a 1d array was expected. Please change the shape of y to (n_samples, ), for example using ravel().\n",
      "  y = column_or_1d(y, warn=True)\n",
      "C:\\Users\\hazel\\anaconda3\\Lib\\site-packages\\sklearn\\metrics\\_classification.py:1344: UndefinedMetricWarning: Precision is ill-defined and being set to 0.0 in labels with no predicted samples. Use `zero_division` parameter to control this behavior.\n",
      "  _warn_prf(average, modifier, msg_start, len(result))\n"
     ]
    },
    {
     "name": "stdout",
     "output_type": "stream",
     "text": [
      "Fitting 10 folds for each of 32 candidates, totalling 320 fits\n"
     ]
    },
    {
     "name": "stderr",
     "output_type": "stream",
     "text": [
      "C:\\Users\\hazel\\anaconda3\\Lib\\site-packages\\sklearn\\utils\\validation.py:1143: DataConversionWarning: A column-vector y was passed when a 1d array was expected. Please change the shape of y to (n_samples, ), for example using ravel().\n",
      "  y = column_or_1d(y, warn=True)\n",
      "C:\\Users\\hazel\\anaconda3\\Lib\\site-packages\\sklearn\\metrics\\_classification.py:1344: UndefinedMetricWarning: Precision is ill-defined and being set to 0.0 in labels with no predicted samples. Use `zero_division` parameter to control this behavior.\n",
      "  _warn_prf(average, modifier, msg_start, len(result))\n"
     ]
    },
    {
     "name": "stdout",
     "output_type": "stream",
     "text": [
      "Fitting 10 folds for each of 32 candidates, totalling 320 fits\n"
     ]
    },
    {
     "name": "stderr",
     "output_type": "stream",
     "text": [
      "C:\\Users\\hazel\\anaconda3\\Lib\\site-packages\\sklearn\\utils\\validation.py:1143: DataConversionWarning: A column-vector y was passed when a 1d array was expected. Please change the shape of y to (n_samples, ), for example using ravel().\n",
      "  y = column_or_1d(y, warn=True)\n",
      "C:\\Users\\hazel\\anaconda3\\Lib\\site-packages\\sklearn\\metrics\\_classification.py:1344: UndefinedMetricWarning: Precision is ill-defined and being set to 0.0 in labels with no predicted samples. Use `zero_division` parameter to control this behavior.\n",
      "  _warn_prf(average, modifier, msg_start, len(result))\n"
     ]
    },
    {
     "name": "stdout",
     "output_type": "stream",
     "text": [
      "Fitting 10 folds for each of 32 candidates, totalling 320 fits\n"
     ]
    },
    {
     "name": "stderr",
     "output_type": "stream",
     "text": [
      "C:\\Users\\hazel\\anaconda3\\Lib\\site-packages\\sklearn\\utils\\validation.py:1143: DataConversionWarning: A column-vector y was passed when a 1d array was expected. Please change the shape of y to (n_samples, ), for example using ravel().\n",
      "  y = column_or_1d(y, warn=True)\n",
      "C:\\Users\\hazel\\anaconda3\\Lib\\site-packages\\sklearn\\metrics\\_classification.py:1344: UndefinedMetricWarning: Precision is ill-defined and being set to 0.0 in labels with no predicted samples. Use `zero_division` parameter to control this behavior.\n",
      "  _warn_prf(average, modifier, msg_start, len(result))\n"
     ]
    },
    {
     "name": "stdout",
     "output_type": "stream",
     "text": [
      "Fitting 10 folds for each of 32 candidates, totalling 320 fits\n"
     ]
    },
    {
     "name": "stderr",
     "output_type": "stream",
     "text": [
      "C:\\Users\\hazel\\anaconda3\\Lib\\site-packages\\sklearn\\utils\\validation.py:1143: DataConversionWarning: A column-vector y was passed when a 1d array was expected. Please change the shape of y to (n_samples, ), for example using ravel().\n",
      "  y = column_or_1d(y, warn=True)\n",
      "C:\\Users\\hazel\\anaconda3\\Lib\\site-packages\\sklearn\\metrics\\_classification.py:1344: UndefinedMetricWarning: Precision is ill-defined and being set to 0.0 in labels with no predicted samples. Use `zero_division` parameter to control this behavior.\n",
      "  _warn_prf(average, modifier, msg_start, len(result))\n"
     ]
    },
    {
     "data": {
      "text/html": [
       "<div>\n",
       "<style scoped>\n",
       "    .dataframe tbody tr th:only-of-type {\n",
       "        vertical-align: middle;\n",
       "    }\n",
       "\n",
       "    .dataframe tbody tr th {\n",
       "        vertical-align: top;\n",
       "    }\n",
       "\n",
       "    .dataframe thead th {\n",
       "        text-align: right;\n",
       "    }\n",
       "</style>\n",
       "<table border=\"1\" class=\"dataframe\">\n",
       "  <thead>\n",
       "    <tr style=\"text-align: right;\">\n",
       "      <th></th>\n",
       "      <th>Test Size</th>\n",
       "      <th>Random State</th>\n",
       "      <th>Accuracy</th>\n",
       "      <th>Precision</th>\n",
       "      <th>Recall</th>\n",
       "      <th>F1 Score</th>\n",
       "      <th>Best Param</th>\n",
       "    </tr>\n",
       "  </thead>\n",
       "  <tbody>\n",
       "    <tr>\n",
       "      <th>0</th>\n",
       "      <td>0.5</td>\n",
       "      <td>7</td>\n",
       "      <td>0.459627</td>\n",
       "      <td>0.211257</td>\n",
       "      <td>0.459627</td>\n",
       "      <td>0.289467</td>\n",
       "      <td>{'C': 0.1, 'gamma': 0.01, 'kernel': 'sigmoid'}</td>\n",
       "    </tr>\n",
       "    <tr>\n",
       "      <th>1</th>\n",
       "      <td>0.5</td>\n",
       "      <td>69</td>\n",
       "      <td>0.444099</td>\n",
       "      <td>0.314141</td>\n",
       "      <td>0.444099</td>\n",
       "      <td>0.354444</td>\n",
       "      <td>{'C': 1, 'gamma': 0.001, 'kernel': 'rbf'}</td>\n",
       "    </tr>\n",
       "    <tr>\n",
       "      <th>2</th>\n",
       "      <td>0.5</td>\n",
       "      <td>101</td>\n",
       "      <td>0.489130</td>\n",
       "      <td>0.253529</td>\n",
       "      <td>0.489130</td>\n",
       "      <td>0.333437</td>\n",
       "      <td>{'C': 100, 'gamma': 0.01, 'kernel': 'sigmoid'}</td>\n",
       "    </tr>\n",
       "    <tr>\n",
       "      <th>3</th>\n",
       "      <td>0.4</td>\n",
       "      <td>7</td>\n",
       "      <td>0.452427</td>\n",
       "      <td>0.204690</td>\n",
       "      <td>0.452427</td>\n",
       "      <td>0.281860</td>\n",
       "      <td>{'C': 1, 'gamma': 0.01, 'kernel': 'sigmoid'}</td>\n",
       "    </tr>\n",
       "    <tr>\n",
       "      <th>4</th>\n",
       "      <td>0.4</td>\n",
       "      <td>69</td>\n",
       "      <td>0.464078</td>\n",
       "      <td>0.365599</td>\n",
       "      <td>0.464078</td>\n",
       "      <td>0.382160</td>\n",
       "      <td>{'C': 1, 'gamma': 0.1, 'kernel': 'rbf'}</td>\n",
       "    </tr>\n",
       "    <tr>\n",
       "      <th>5</th>\n",
       "      <td>0.4</td>\n",
       "      <td>101</td>\n",
       "      <td>0.489320</td>\n",
       "      <td>0.395556</td>\n",
       "      <td>0.489320</td>\n",
       "      <td>0.348940</td>\n",
       "      <td>{'C': 0.1, 'gamma': 0.1, 'kernel': 'rbf'}</td>\n",
       "    </tr>\n",
       "    <tr>\n",
       "      <th>6</th>\n",
       "      <td>0.3</td>\n",
       "      <td>7</td>\n",
       "      <td>0.478036</td>\n",
       "      <td>0.479717</td>\n",
       "      <td>0.478036</td>\n",
       "      <td>0.368180</td>\n",
       "      <td>{'C': 0.1, 'gamma': 0.001, 'kernel': 'sigmoid'}</td>\n",
       "    </tr>\n",
       "    <tr>\n",
       "      <th>7</th>\n",
       "      <td>0.3</td>\n",
       "      <td>69</td>\n",
       "      <td>0.501292</td>\n",
       "      <td>0.251294</td>\n",
       "      <td>0.501292</td>\n",
       "      <td>0.334770</td>\n",
       "      <td>{'C': 1, 'gamma': 0.01, 'kernel': 'sigmoid'}</td>\n",
       "    </tr>\n",
       "    <tr>\n",
       "      <th>8</th>\n",
       "      <td>0.3</td>\n",
       "      <td>101</td>\n",
       "      <td>0.488372</td>\n",
       "      <td>0.239125</td>\n",
       "      <td>0.488372</td>\n",
       "      <td>0.321052</td>\n",
       "      <td>{'C': 10, 'gamma': 0.1, 'kernel': 'sigmoid'}</td>\n",
       "    </tr>\n",
       "    <tr>\n",
       "      <th>9</th>\n",
       "      <td>0.2</td>\n",
       "      <td>7</td>\n",
       "      <td>0.476744</td>\n",
       "      <td>0.227285</td>\n",
       "      <td>0.476744</td>\n",
       "      <td>0.307819</td>\n",
       "      <td>{'C': 0.1, 'gamma': 0.01, 'kernel': 'sigmoid'}</td>\n",
       "    </tr>\n",
       "    <tr>\n",
       "      <th>10</th>\n",
       "      <td>0.2</td>\n",
       "      <td>69</td>\n",
       "      <td>0.492248</td>\n",
       "      <td>0.242308</td>\n",
       "      <td>0.492248</td>\n",
       "      <td>0.324756</td>\n",
       "      <td>{'C': 0.1, 'gamma': 0.001, 'kernel': 'sigmoid'}</td>\n",
       "    </tr>\n",
       "    <tr>\n",
       "      <th>11</th>\n",
       "      <td>0.2</td>\n",
       "      <td>101</td>\n",
       "      <td>0.500000</td>\n",
       "      <td>0.250000</td>\n",
       "      <td>0.500000</td>\n",
       "      <td>0.333333</td>\n",
       "      <td>{'C': 0.1, 'gamma': 0.001, 'kernel': 'sigmoid'}</td>\n",
       "    </tr>\n",
       "  </tbody>\n",
       "</table>\n",
       "</div>"
      ],
      "text/plain": [
       "    Test Size  Random State  Accuracy  Precision    Recall  F1 Score  \\\n",
       "0         0.5             7  0.459627   0.211257  0.459627  0.289467   \n",
       "1         0.5            69  0.444099   0.314141  0.444099  0.354444   \n",
       "2         0.5           101  0.489130   0.253529  0.489130  0.333437   \n",
       "3         0.4             7  0.452427   0.204690  0.452427  0.281860   \n",
       "4         0.4            69  0.464078   0.365599  0.464078  0.382160   \n",
       "5         0.4           101  0.489320   0.395556  0.489320  0.348940   \n",
       "6         0.3             7  0.478036   0.479717  0.478036  0.368180   \n",
       "7         0.3            69  0.501292   0.251294  0.501292  0.334770   \n",
       "8         0.3           101  0.488372   0.239125  0.488372  0.321052   \n",
       "9         0.2             7  0.476744   0.227285  0.476744  0.307819   \n",
       "10        0.2            69  0.492248   0.242308  0.492248  0.324756   \n",
       "11        0.2           101  0.500000   0.250000  0.500000  0.333333   \n",
       "\n",
       "                                         Best Param  \n",
       "0    {'C': 0.1, 'gamma': 0.01, 'kernel': 'sigmoid'}  \n",
       "1         {'C': 1, 'gamma': 0.001, 'kernel': 'rbf'}  \n",
       "2    {'C': 100, 'gamma': 0.01, 'kernel': 'sigmoid'}  \n",
       "3      {'C': 1, 'gamma': 0.01, 'kernel': 'sigmoid'}  \n",
       "4           {'C': 1, 'gamma': 0.1, 'kernel': 'rbf'}  \n",
       "5         {'C': 0.1, 'gamma': 0.1, 'kernel': 'rbf'}  \n",
       "6   {'C': 0.1, 'gamma': 0.001, 'kernel': 'sigmoid'}  \n",
       "7      {'C': 1, 'gamma': 0.01, 'kernel': 'sigmoid'}  \n",
       "8      {'C': 10, 'gamma': 0.1, 'kernel': 'sigmoid'}  \n",
       "9    {'C': 0.1, 'gamma': 0.01, 'kernel': 'sigmoid'}  \n",
       "10  {'C': 0.1, 'gamma': 0.001, 'kernel': 'sigmoid'}  \n",
       "11  {'C': 0.1, 'gamma': 0.001, 'kernel': 'sigmoid'}  "
      ]
     },
     "execution_count": 58,
     "metadata": {},
     "output_type": "execute_result"
    }
   ],
   "source": [
    "temp5L_SFB_imb = []\n",
    "\n",
    "y = merge_5L_imb[['CGPA']]\n",
    "X = merge_5L_imb[['Family Size', \"Parent's Education Level.Father\", \"Parent's Education Level.Mother\", \n",
    "                     \"Father's Occupation\", \"Mother's Occupation\", 'Financial Difficulties', 'Financial Support']]\n",
    "\n",
    "print(\"X:\", X.shape,\"y:\", y.shape)\n",
    "\n",
    "for i in [0.5,0.4,0.3,0.2]:\n",
    "    for j in rand_states:\n",
    "        X_train, X_test, y_train, y_test = train_test_split(X, y, test_size=i, random_state=j)\n",
    "        param_grid = {'C': [0.1, 1, 10, 100],\n",
    "                      'gamma': [1, 0.1, 0.01, 0.001],\n",
    "                      'kernel': ['rbf','sigmoid']}\n",
    "\n",
    "        model = GridSearchCV(SVC(random_state=0), param_grid, refit=True, n_jobs=-1, cv=10, verbose=1)\n",
    "        model.fit(X_train, y_train)\n",
    "        pred = model.predict(X_test)\n",
    "        \n",
    "        acc = accuracy_score(y_test,pred)\n",
    "        pre = precision_score(y_test, pred, average='weighted')\n",
    "        recall = recall_score(y_test, pred, average='weighted')\n",
    "        f1 = f1_score(y_test, pred, average='weighted')\n",
    "        param = model.best_params_\n",
    "    \n",
    "        temp5L_SFB_imb.append([i,j,acc,pre,recall,f1,param])\n",
    "        \n",
    "df5L_SFB_imb = pd.DataFrame(columns=['Test Size','Random State','Accuracy','Precision','Recall','F1 Score','Best Param'],data=temp5L_SFB_imb)\n",
    "df5L_SFB_imb"
   ]
  },
  {
   "cell_type": "code",
   "execution_count": 59,
   "id": "4379b0a1-fdc0-41a0-af90-f9f2dff6caea",
   "metadata": {},
   "outputs": [
    {
     "data": {
      "text/html": [
       "<div>\n",
       "<style scoped>\n",
       "    .dataframe tbody tr th:only-of-type {\n",
       "        vertical-align: middle;\n",
       "    }\n",
       "\n",
       "    .dataframe tbody tr th {\n",
       "        vertical-align: top;\n",
       "    }\n",
       "\n",
       "    .dataframe thead th {\n",
       "        text-align: right;\n",
       "    }\n",
       "</style>\n",
       "<table border=\"1\" class=\"dataframe\">\n",
       "  <thead>\n",
       "    <tr style=\"text-align: right;\">\n",
       "      <th></th>\n",
       "      <th>Accuracy</th>\n",
       "      <th>Precision</th>\n",
       "      <th>Recall</th>\n",
       "      <th>F1 Score</th>\n",
       "    </tr>\n",
       "    <tr>\n",
       "      <th>Test Size</th>\n",
       "      <th></th>\n",
       "      <th></th>\n",
       "      <th></th>\n",
       "      <th></th>\n",
       "    </tr>\n",
       "  </thead>\n",
       "  <tbody>\n",
       "    <tr>\n",
       "      <th>0.2</th>\n",
       "      <td>0.489664</td>\n",
       "      <td>0.239864</td>\n",
       "      <td>0.489664</td>\n",
       "      <td>0.321969</td>\n",
       "    </tr>\n",
       "    <tr>\n",
       "      <th>0.3</th>\n",
       "      <td>0.489233</td>\n",
       "      <td>0.323379</td>\n",
       "      <td>0.489233</td>\n",
       "      <td>0.341334</td>\n",
       "    </tr>\n",
       "    <tr>\n",
       "      <th>0.4</th>\n",
       "      <td>0.468608</td>\n",
       "      <td>0.321948</td>\n",
       "      <td>0.468608</td>\n",
       "      <td>0.337653</td>\n",
       "    </tr>\n",
       "    <tr>\n",
       "      <th>0.5</th>\n",
       "      <td>0.464286</td>\n",
       "      <td>0.259643</td>\n",
       "      <td>0.464286</td>\n",
       "      <td>0.325783</td>\n",
       "    </tr>\n",
       "  </tbody>\n",
       "</table>\n",
       "</div>"
      ],
      "text/plain": [
       "           Accuracy  Precision    Recall  F1 Score\n",
       "Test Size                                         \n",
       "0.2        0.489664   0.239864  0.489664  0.321969\n",
       "0.3        0.489233   0.323379  0.489233  0.341334\n",
       "0.4        0.468608   0.321948  0.468608  0.337653\n",
       "0.5        0.464286   0.259643  0.464286  0.325783"
      ]
     },
     "execution_count": 59,
     "metadata": {},
     "output_type": "execute_result"
    }
   ],
   "source": [
    "df5L_SFB_imb.groupby('Test Size')[['Accuracy','Precision','Recall','F1 Score']].mean()"
   ]
  },
  {
   "cell_type": "markdown",
   "id": "69467b16-c311-4755-aa21-d791f9be8790",
   "metadata": {},
   "source": [
    "### SFB after RandomOverSampler"
   ]
  },
  {
   "cell_type": "code",
   "execution_count": 60,
   "id": "cd91c96f-717a-43a3-9cac-5d607b1a36b2",
   "metadata": {},
   "outputs": [
    {
     "name": "stdout",
     "output_type": "stream",
     "text": [
      "Fitting 10 folds for each of 32 candidates, totalling 320 fits\n"
     ]
    },
    {
     "name": "stderr",
     "output_type": "stream",
     "text": [
      "C:\\Users\\hazel\\anaconda3\\Lib\\site-packages\\sklearn\\utils\\validation.py:1143: DataConversionWarning: A column-vector y was passed when a 1d array was expected. Please change the shape of y to (n_samples, ), for example using ravel().\n",
      "  y = column_or_1d(y, warn=True)\n"
     ]
    },
    {
     "name": "stdout",
     "output_type": "stream",
     "text": [
      "Fitting 10 folds for each of 32 candidates, totalling 320 fits\n"
     ]
    },
    {
     "name": "stderr",
     "output_type": "stream",
     "text": [
      "C:\\Users\\hazel\\anaconda3\\Lib\\site-packages\\sklearn\\utils\\validation.py:1143: DataConversionWarning: A column-vector y was passed when a 1d array was expected. Please change the shape of y to (n_samples, ), for example using ravel().\n",
      "  y = column_or_1d(y, warn=True)\n"
     ]
    },
    {
     "name": "stdout",
     "output_type": "stream",
     "text": [
      "Fitting 10 folds for each of 32 candidates, totalling 320 fits\n"
     ]
    },
    {
     "name": "stderr",
     "output_type": "stream",
     "text": [
      "C:\\Users\\hazel\\anaconda3\\Lib\\site-packages\\sklearn\\utils\\validation.py:1143: DataConversionWarning: A column-vector y was passed when a 1d array was expected. Please change the shape of y to (n_samples, ), for example using ravel().\n",
      "  y = column_or_1d(y, warn=True)\n"
     ]
    },
    {
     "name": "stdout",
     "output_type": "stream",
     "text": [
      "Fitting 10 folds for each of 32 candidates, totalling 320 fits\n"
     ]
    },
    {
     "name": "stderr",
     "output_type": "stream",
     "text": [
      "C:\\Users\\hazel\\anaconda3\\Lib\\site-packages\\sklearn\\utils\\validation.py:1143: DataConversionWarning: A column-vector y was passed when a 1d array was expected. Please change the shape of y to (n_samples, ), for example using ravel().\n",
      "  y = column_or_1d(y, warn=True)\n"
     ]
    },
    {
     "name": "stdout",
     "output_type": "stream",
     "text": [
      "Fitting 10 folds for each of 32 candidates, totalling 320 fits\n"
     ]
    },
    {
     "name": "stderr",
     "output_type": "stream",
     "text": [
      "C:\\Users\\hazel\\anaconda3\\Lib\\site-packages\\sklearn\\utils\\validation.py:1143: DataConversionWarning: A column-vector y was passed when a 1d array was expected. Please change the shape of y to (n_samples, ), for example using ravel().\n",
      "  y = column_or_1d(y, warn=True)\n"
     ]
    },
    {
     "name": "stdout",
     "output_type": "stream",
     "text": [
      "Fitting 10 folds for each of 32 candidates, totalling 320 fits\n"
     ]
    },
    {
     "name": "stderr",
     "output_type": "stream",
     "text": [
      "C:\\Users\\hazel\\anaconda3\\Lib\\site-packages\\sklearn\\utils\\validation.py:1143: DataConversionWarning: A column-vector y was passed when a 1d array was expected. Please change the shape of y to (n_samples, ), for example using ravel().\n",
      "  y = column_or_1d(y, warn=True)\n"
     ]
    },
    {
     "name": "stdout",
     "output_type": "stream",
     "text": [
      "Fitting 10 folds for each of 32 candidates, totalling 320 fits\n"
     ]
    },
    {
     "name": "stderr",
     "output_type": "stream",
     "text": [
      "C:\\Users\\hazel\\anaconda3\\Lib\\site-packages\\sklearn\\utils\\validation.py:1143: DataConversionWarning: A column-vector y was passed when a 1d array was expected. Please change the shape of y to (n_samples, ), for example using ravel().\n",
      "  y = column_or_1d(y, warn=True)\n"
     ]
    },
    {
     "name": "stdout",
     "output_type": "stream",
     "text": [
      "Fitting 10 folds for each of 32 candidates, totalling 320 fits\n"
     ]
    },
    {
     "name": "stderr",
     "output_type": "stream",
     "text": [
      "C:\\Users\\hazel\\anaconda3\\Lib\\site-packages\\sklearn\\utils\\validation.py:1143: DataConversionWarning: A column-vector y was passed when a 1d array was expected. Please change the shape of y to (n_samples, ), for example using ravel().\n",
      "  y = column_or_1d(y, warn=True)\n"
     ]
    },
    {
     "name": "stdout",
     "output_type": "stream",
     "text": [
      "Fitting 10 folds for each of 32 candidates, totalling 320 fits\n"
     ]
    },
    {
     "name": "stderr",
     "output_type": "stream",
     "text": [
      "C:\\Users\\hazel\\anaconda3\\Lib\\site-packages\\sklearn\\utils\\validation.py:1143: DataConversionWarning: A column-vector y was passed when a 1d array was expected. Please change the shape of y to (n_samples, ), for example using ravel().\n",
      "  y = column_or_1d(y, warn=True)\n"
     ]
    },
    {
     "name": "stdout",
     "output_type": "stream",
     "text": [
      "Fitting 10 folds for each of 32 candidates, totalling 320 fits\n"
     ]
    },
    {
     "name": "stderr",
     "output_type": "stream",
     "text": [
      "C:\\Users\\hazel\\anaconda3\\Lib\\site-packages\\sklearn\\utils\\validation.py:1143: DataConversionWarning: A column-vector y was passed when a 1d array was expected. Please change the shape of y to (n_samples, ), for example using ravel().\n",
      "  y = column_or_1d(y, warn=True)\n"
     ]
    },
    {
     "name": "stdout",
     "output_type": "stream",
     "text": [
      "Fitting 10 folds for each of 32 candidates, totalling 320 fits\n"
     ]
    },
    {
     "name": "stderr",
     "output_type": "stream",
     "text": [
      "C:\\Users\\hazel\\anaconda3\\Lib\\site-packages\\sklearn\\utils\\validation.py:1143: DataConversionWarning: A column-vector y was passed when a 1d array was expected. Please change the shape of y to (n_samples, ), for example using ravel().\n",
      "  y = column_or_1d(y, warn=True)\n"
     ]
    },
    {
     "name": "stdout",
     "output_type": "stream",
     "text": [
      "Fitting 10 folds for each of 32 candidates, totalling 320 fits\n"
     ]
    },
    {
     "name": "stderr",
     "output_type": "stream",
     "text": [
      "C:\\Users\\hazel\\anaconda3\\Lib\\site-packages\\sklearn\\utils\\validation.py:1143: DataConversionWarning: A column-vector y was passed when a 1d array was expected. Please change the shape of y to (n_samples, ), for example using ravel().\n",
      "  y = column_or_1d(y, warn=True)\n"
     ]
    },
    {
     "data": {
      "text/html": [
       "<div>\n",
       "<style scoped>\n",
       "    .dataframe tbody tr th:only-of-type {\n",
       "        vertical-align: middle;\n",
       "    }\n",
       "\n",
       "    .dataframe tbody tr th {\n",
       "        vertical-align: top;\n",
       "    }\n",
       "\n",
       "    .dataframe thead th {\n",
       "        text-align: right;\n",
       "    }\n",
       "</style>\n",
       "<table border=\"1\" class=\"dataframe\">\n",
       "  <thead>\n",
       "    <tr style=\"text-align: right;\">\n",
       "      <th></th>\n",
       "      <th>Test Size</th>\n",
       "      <th>Random State</th>\n",
       "      <th>Accuracy</th>\n",
       "      <th>Precision</th>\n",
       "      <th>Recall</th>\n",
       "      <th>F1 Score</th>\n",
       "      <th>Best Param</th>\n",
       "    </tr>\n",
       "  </thead>\n",
       "  <tbody>\n",
       "    <tr>\n",
       "      <th>0</th>\n",
       "      <td>0.5</td>\n",
       "      <td>7</td>\n",
       "      <td>0.703824</td>\n",
       "      <td>0.701302</td>\n",
       "      <td>0.703824</td>\n",
       "      <td>0.698026</td>\n",
       "      <td>{'C': 10, 'gamma': 1, 'kernel': 'rbf'}</td>\n",
       "    </tr>\n",
       "    <tr>\n",
       "      <th>1</th>\n",
       "      <td>0.5</td>\n",
       "      <td>69</td>\n",
       "      <td>0.722618</td>\n",
       "      <td>0.721250</td>\n",
       "      <td>0.722618</td>\n",
       "      <td>0.715912</td>\n",
       "      <td>{'C': 10, 'gamma': 1, 'kernel': 'rbf'}</td>\n",
       "    </tr>\n",
       "    <tr>\n",
       "      <th>2</th>\n",
       "      <td>0.5</td>\n",
       "      <td>101</td>\n",
       "      <td>0.713545</td>\n",
       "      <td>0.709847</td>\n",
       "      <td>0.713545</td>\n",
       "      <td>0.708311</td>\n",
       "      <td>{'C': 10, 'gamma': 1, 'kernel': 'rbf'}</td>\n",
       "    </tr>\n",
       "    <tr>\n",
       "      <th>3</th>\n",
       "      <td>0.4</td>\n",
       "      <td>7</td>\n",
       "      <td>0.734198</td>\n",
       "      <td>0.731207</td>\n",
       "      <td>0.734198</td>\n",
       "      <td>0.726167</td>\n",
       "      <td>{'C': 1, 'gamma': 1, 'kernel': 'rbf'}</td>\n",
       "    </tr>\n",
       "    <tr>\n",
       "      <th>4</th>\n",
       "      <td>0.4</td>\n",
       "      <td>69</td>\n",
       "      <td>0.744733</td>\n",
       "      <td>0.755799</td>\n",
       "      <td>0.744733</td>\n",
       "      <td>0.740185</td>\n",
       "      <td>{'C': 10, 'gamma': 1, 'kernel': 'rbf'}</td>\n",
       "    </tr>\n",
       "    <tr>\n",
       "      <th>5</th>\n",
       "      <td>0.4</td>\n",
       "      <td>101</td>\n",
       "      <td>0.719611</td>\n",
       "      <td>0.711817</td>\n",
       "      <td>0.719611</td>\n",
       "      <td>0.712161</td>\n",
       "      <td>{'C': 10, 'gamma': 1, 'kernel': 'rbf'}</td>\n",
       "    </tr>\n",
       "    <tr>\n",
       "      <th>6</th>\n",
       "      <td>0.3</td>\n",
       "      <td>7</td>\n",
       "      <td>0.745140</td>\n",
       "      <td>0.737766</td>\n",
       "      <td>0.745140</td>\n",
       "      <td>0.736131</td>\n",
       "      <td>{'C': 10, 'gamma': 1, 'kernel': 'rbf'}</td>\n",
       "    </tr>\n",
       "    <tr>\n",
       "      <th>7</th>\n",
       "      <td>0.3</td>\n",
       "      <td>69</td>\n",
       "      <td>0.744060</td>\n",
       "      <td>0.748878</td>\n",
       "      <td>0.744060</td>\n",
       "      <td>0.739876</td>\n",
       "      <td>{'C': 10, 'gamma': 1, 'kernel': 'rbf'}</td>\n",
       "    </tr>\n",
       "    <tr>\n",
       "      <th>8</th>\n",
       "      <td>0.3</td>\n",
       "      <td>101</td>\n",
       "      <td>0.737581</td>\n",
       "      <td>0.729251</td>\n",
       "      <td>0.737581</td>\n",
       "      <td>0.732033</td>\n",
       "      <td>{'C': 10, 'gamma': 1, 'kernel': 'rbf'}</td>\n",
       "    </tr>\n",
       "    <tr>\n",
       "      <th>9</th>\n",
       "      <td>0.2</td>\n",
       "      <td>7</td>\n",
       "      <td>0.752026</td>\n",
       "      <td>0.744012</td>\n",
       "      <td>0.752026</td>\n",
       "      <td>0.743889</td>\n",
       "      <td>{'C': 10, 'gamma': 1, 'kernel': 'rbf'}</td>\n",
       "    </tr>\n",
       "    <tr>\n",
       "      <th>10</th>\n",
       "      <td>0.2</td>\n",
       "      <td>69</td>\n",
       "      <td>0.747164</td>\n",
       "      <td>0.746190</td>\n",
       "      <td>0.747164</td>\n",
       "      <td>0.741488</td>\n",
       "      <td>{'C': 10, 'gamma': 1, 'kernel': 'rbf'}</td>\n",
       "    </tr>\n",
       "    <tr>\n",
       "      <th>11</th>\n",
       "      <td>0.2</td>\n",
       "      <td>101</td>\n",
       "      <td>0.760130</td>\n",
       "      <td>0.756303</td>\n",
       "      <td>0.760130</td>\n",
       "      <td>0.755413</td>\n",
       "      <td>{'C': 10, 'gamma': 1, 'kernel': 'rbf'}</td>\n",
       "    </tr>\n",
       "  </tbody>\n",
       "</table>\n",
       "</div>"
      ],
      "text/plain": [
       "    Test Size  Random State  Accuracy  Precision    Recall  F1 Score  \\\n",
       "0         0.5             7  0.703824   0.701302  0.703824  0.698026   \n",
       "1         0.5            69  0.722618   0.721250  0.722618  0.715912   \n",
       "2         0.5           101  0.713545   0.709847  0.713545  0.708311   \n",
       "3         0.4             7  0.734198   0.731207  0.734198  0.726167   \n",
       "4         0.4            69  0.744733   0.755799  0.744733  0.740185   \n",
       "5         0.4           101  0.719611   0.711817  0.719611  0.712161   \n",
       "6         0.3             7  0.745140   0.737766  0.745140  0.736131   \n",
       "7         0.3            69  0.744060   0.748878  0.744060  0.739876   \n",
       "8         0.3           101  0.737581   0.729251  0.737581  0.732033   \n",
       "9         0.2             7  0.752026   0.744012  0.752026  0.743889   \n",
       "10        0.2            69  0.747164   0.746190  0.747164  0.741488   \n",
       "11        0.2           101  0.760130   0.756303  0.760130  0.755413   \n",
       "\n",
       "                                Best Param  \n",
       "0   {'C': 10, 'gamma': 1, 'kernel': 'rbf'}  \n",
       "1   {'C': 10, 'gamma': 1, 'kernel': 'rbf'}  \n",
       "2   {'C': 10, 'gamma': 1, 'kernel': 'rbf'}  \n",
       "3    {'C': 1, 'gamma': 1, 'kernel': 'rbf'}  \n",
       "4   {'C': 10, 'gamma': 1, 'kernel': 'rbf'}  \n",
       "5   {'C': 10, 'gamma': 1, 'kernel': 'rbf'}  \n",
       "6   {'C': 10, 'gamma': 1, 'kernel': 'rbf'}  \n",
       "7   {'C': 10, 'gamma': 1, 'kernel': 'rbf'}  \n",
       "8   {'C': 10, 'gamma': 1, 'kernel': 'rbf'}  \n",
       "9   {'C': 10, 'gamma': 1, 'kernel': 'rbf'}  \n",
       "10  {'C': 10, 'gamma': 1, 'kernel': 'rbf'}  \n",
       "11  {'C': 10, 'gamma': 1, 'kernel': 'rbf'}  "
      ]
     },
     "execution_count": 60,
     "metadata": {},
     "output_type": "execute_result"
    }
   ],
   "source": [
    "temp5L_SFB_ROS = []\n",
    "\n",
    "y = merge_5L_ROS[['CGPA']]\n",
    "X = merge_5L_ROS[['Family Size', \"Parent's Education Level.Father\", \"Parent's Education Level.Mother\", \n",
    "                     \"Father's Occupation\", \"Mother's Occupation\", 'Financial Difficulties', 'Financial Support']]\n",
    "\n",
    "for i in [0.5,0.4,0.3,0.2]:\n",
    "    for j in rand_states:\n",
    "        X_train, X_test, y_train, y_test = train_test_split(X, y, test_size=i, random_state=j)\n",
    "        param_grid = {'C': [0.1, 1, 10, 100],\n",
    "                      'gamma': [1, 0.1, 0.01, 0.001],\n",
    "                      'kernel': ['rbf','sigmoid']}\n",
    "\n",
    "        model = GridSearchCV(SVC(random_state=0), param_grid, refit=True, n_jobs=-1, cv=10, verbose=1)\n",
    "        model.fit(X_train, y_train)\n",
    "        pred = model.predict(X_test)\n",
    "        \n",
    "        acc = accuracy_score(y_test,pred)\n",
    "        pre = precision_score(y_test, pred, average='weighted')\n",
    "        recall = recall_score(y_test, pred, average='weighted')\n",
    "        f1 = f1_score(y_test, pred, average='weighted')\n",
    "        param = model.best_params_\n",
    "    \n",
    "        temp5L_SFB_ROS.append([i,j,acc,pre,recall,f1,param])\n",
    "        \n",
    "df5L_SFB_ROS = pd.DataFrame(columns=['Test Size','Random State','Accuracy','Precision','Recall','F1 Score','Best Param'],data=temp5L_SFB_ROS)\n",
    "df5L_SFB_ROS"
   ]
  },
  {
   "cell_type": "code",
   "execution_count": 61,
   "id": "d0652b10-b5f0-4ebd-9473-0416fa2f53f8",
   "metadata": {},
   "outputs": [
    {
     "data": {
      "text/html": [
       "<div>\n",
       "<style scoped>\n",
       "    .dataframe tbody tr th:only-of-type {\n",
       "        vertical-align: middle;\n",
       "    }\n",
       "\n",
       "    .dataframe tbody tr th {\n",
       "        vertical-align: top;\n",
       "    }\n",
       "\n",
       "    .dataframe thead th {\n",
       "        text-align: right;\n",
       "    }\n",
       "</style>\n",
       "<table border=\"1\" class=\"dataframe\">\n",
       "  <thead>\n",
       "    <tr style=\"text-align: right;\">\n",
       "      <th></th>\n",
       "      <th>Accuracy</th>\n",
       "      <th>Precision</th>\n",
       "      <th>Recall</th>\n",
       "      <th>F1 Score</th>\n",
       "    </tr>\n",
       "    <tr>\n",
       "      <th>Test Size</th>\n",
       "      <th></th>\n",
       "      <th></th>\n",
       "      <th></th>\n",
       "      <th></th>\n",
       "    </tr>\n",
       "  </thead>\n",
       "  <tbody>\n",
       "    <tr>\n",
       "      <th>0.2</th>\n",
       "      <td>0.753106</td>\n",
       "      <td>0.748835</td>\n",
       "      <td>0.753106</td>\n",
       "      <td>0.746930</td>\n",
       "    </tr>\n",
       "    <tr>\n",
       "      <th>0.3</th>\n",
       "      <td>0.742261</td>\n",
       "      <td>0.738631</td>\n",
       "      <td>0.742261</td>\n",
       "      <td>0.736013</td>\n",
       "    </tr>\n",
       "    <tr>\n",
       "      <th>0.4</th>\n",
       "      <td>0.732847</td>\n",
       "      <td>0.732941</td>\n",
       "      <td>0.732847</td>\n",
       "      <td>0.726171</td>\n",
       "    </tr>\n",
       "    <tr>\n",
       "      <th>0.5</th>\n",
       "      <td>0.713329</td>\n",
       "      <td>0.710800</td>\n",
       "      <td>0.713329</td>\n",
       "      <td>0.707416</td>\n",
       "    </tr>\n",
       "  </tbody>\n",
       "</table>\n",
       "</div>"
      ],
      "text/plain": [
       "           Accuracy  Precision    Recall  F1 Score\n",
       "Test Size                                         \n",
       "0.2        0.753106   0.748835  0.753106  0.746930\n",
       "0.3        0.742261   0.738631  0.742261  0.736013\n",
       "0.4        0.732847   0.732941  0.732847  0.726171\n",
       "0.5        0.713329   0.710800  0.713329  0.707416"
      ]
     },
     "execution_count": 61,
     "metadata": {},
     "output_type": "execute_result"
    }
   ],
   "source": [
    "df5L_SFB_ROS.groupby('Test Size')[['Accuracy','Precision','Recall','F1 Score']].mean()"
   ]
  },
  {
   "cell_type": "markdown",
   "id": "e2528072-259e-4731-9703-788a7a5925ec",
   "metadata": {},
   "source": [
    "### SFB after SMOTE"
   ]
  },
  {
   "cell_type": "code",
   "execution_count": 62,
   "id": "7058a706-93f1-4675-9c5b-926fda72f0f0",
   "metadata": {},
   "outputs": [
    {
     "name": "stdout",
     "output_type": "stream",
     "text": [
      "Fitting 10 folds for each of 32 candidates, totalling 320 fits\n"
     ]
    },
    {
     "name": "stderr",
     "output_type": "stream",
     "text": [
      "C:\\Users\\hazel\\anaconda3\\Lib\\site-packages\\sklearn\\utils\\validation.py:1143: DataConversionWarning: A column-vector y was passed when a 1d array was expected. Please change the shape of y to (n_samples, ), for example using ravel().\n",
      "  y = column_or_1d(y, warn=True)\n"
     ]
    },
    {
     "name": "stdout",
     "output_type": "stream",
     "text": [
      "Fitting 10 folds for each of 32 candidates, totalling 320 fits\n"
     ]
    },
    {
     "name": "stderr",
     "output_type": "stream",
     "text": [
      "C:\\Users\\hazel\\anaconda3\\Lib\\site-packages\\sklearn\\utils\\validation.py:1143: DataConversionWarning: A column-vector y was passed when a 1d array was expected. Please change the shape of y to (n_samples, ), for example using ravel().\n",
      "  y = column_or_1d(y, warn=True)\n"
     ]
    },
    {
     "name": "stdout",
     "output_type": "stream",
     "text": [
      "Fitting 10 folds for each of 32 candidates, totalling 320 fits\n"
     ]
    },
    {
     "name": "stderr",
     "output_type": "stream",
     "text": [
      "C:\\Users\\hazel\\anaconda3\\Lib\\site-packages\\sklearn\\utils\\validation.py:1143: DataConversionWarning: A column-vector y was passed when a 1d array was expected. Please change the shape of y to (n_samples, ), for example using ravel().\n",
      "  y = column_or_1d(y, warn=True)\n"
     ]
    },
    {
     "name": "stdout",
     "output_type": "stream",
     "text": [
      "Fitting 10 folds for each of 32 candidates, totalling 320 fits\n"
     ]
    },
    {
     "name": "stderr",
     "output_type": "stream",
     "text": [
      "C:\\Users\\hazel\\anaconda3\\Lib\\site-packages\\sklearn\\utils\\validation.py:1143: DataConversionWarning: A column-vector y was passed when a 1d array was expected. Please change the shape of y to (n_samples, ), for example using ravel().\n",
      "  y = column_or_1d(y, warn=True)\n"
     ]
    },
    {
     "name": "stdout",
     "output_type": "stream",
     "text": [
      "Fitting 10 folds for each of 32 candidates, totalling 320 fits\n"
     ]
    },
    {
     "name": "stderr",
     "output_type": "stream",
     "text": [
      "C:\\Users\\hazel\\anaconda3\\Lib\\site-packages\\sklearn\\utils\\validation.py:1143: DataConversionWarning: A column-vector y was passed when a 1d array was expected. Please change the shape of y to (n_samples, ), for example using ravel().\n",
      "  y = column_or_1d(y, warn=True)\n"
     ]
    },
    {
     "name": "stdout",
     "output_type": "stream",
     "text": [
      "Fitting 10 folds for each of 32 candidates, totalling 320 fits\n"
     ]
    },
    {
     "name": "stderr",
     "output_type": "stream",
     "text": [
      "C:\\Users\\hazel\\anaconda3\\Lib\\site-packages\\sklearn\\utils\\validation.py:1143: DataConversionWarning: A column-vector y was passed when a 1d array was expected. Please change the shape of y to (n_samples, ), for example using ravel().\n",
      "  y = column_or_1d(y, warn=True)\n"
     ]
    },
    {
     "name": "stdout",
     "output_type": "stream",
     "text": [
      "Fitting 10 folds for each of 32 candidates, totalling 320 fits\n"
     ]
    },
    {
     "name": "stderr",
     "output_type": "stream",
     "text": [
      "C:\\Users\\hazel\\anaconda3\\Lib\\site-packages\\sklearn\\utils\\validation.py:1143: DataConversionWarning: A column-vector y was passed when a 1d array was expected. Please change the shape of y to (n_samples, ), for example using ravel().\n",
      "  y = column_or_1d(y, warn=True)\n"
     ]
    },
    {
     "name": "stdout",
     "output_type": "stream",
     "text": [
      "Fitting 10 folds for each of 32 candidates, totalling 320 fits\n"
     ]
    },
    {
     "name": "stderr",
     "output_type": "stream",
     "text": [
      "C:\\Users\\hazel\\anaconda3\\Lib\\site-packages\\sklearn\\utils\\validation.py:1143: DataConversionWarning: A column-vector y was passed when a 1d array was expected. Please change the shape of y to (n_samples, ), for example using ravel().\n",
      "  y = column_or_1d(y, warn=True)\n"
     ]
    },
    {
     "name": "stdout",
     "output_type": "stream",
     "text": [
      "Fitting 10 folds for each of 32 candidates, totalling 320 fits\n"
     ]
    },
    {
     "name": "stderr",
     "output_type": "stream",
     "text": [
      "C:\\Users\\hazel\\anaconda3\\Lib\\site-packages\\sklearn\\utils\\validation.py:1143: DataConversionWarning: A column-vector y was passed when a 1d array was expected. Please change the shape of y to (n_samples, ), for example using ravel().\n",
      "  y = column_or_1d(y, warn=True)\n"
     ]
    },
    {
     "name": "stdout",
     "output_type": "stream",
     "text": [
      "Fitting 10 folds for each of 32 candidates, totalling 320 fits\n"
     ]
    },
    {
     "name": "stderr",
     "output_type": "stream",
     "text": [
      "C:\\Users\\hazel\\anaconda3\\Lib\\site-packages\\sklearn\\utils\\validation.py:1143: DataConversionWarning: A column-vector y was passed when a 1d array was expected. Please change the shape of y to (n_samples, ), for example using ravel().\n",
      "  y = column_or_1d(y, warn=True)\n"
     ]
    },
    {
     "name": "stdout",
     "output_type": "stream",
     "text": [
      "Fitting 10 folds for each of 32 candidates, totalling 320 fits\n"
     ]
    },
    {
     "name": "stderr",
     "output_type": "stream",
     "text": [
      "C:\\Users\\hazel\\anaconda3\\Lib\\site-packages\\sklearn\\utils\\validation.py:1143: DataConversionWarning: A column-vector y was passed when a 1d array was expected. Please change the shape of y to (n_samples, ), for example using ravel().\n",
      "  y = column_or_1d(y, warn=True)\n"
     ]
    },
    {
     "name": "stdout",
     "output_type": "stream",
     "text": [
      "Fitting 10 folds for each of 32 candidates, totalling 320 fits\n"
     ]
    },
    {
     "name": "stderr",
     "output_type": "stream",
     "text": [
      "C:\\Users\\hazel\\anaconda3\\Lib\\site-packages\\sklearn\\utils\\validation.py:1143: DataConversionWarning: A column-vector y was passed when a 1d array was expected. Please change the shape of y to (n_samples, ), for example using ravel().\n",
      "  y = column_or_1d(y, warn=True)\n"
     ]
    },
    {
     "data": {
      "text/html": [
       "<div>\n",
       "<style scoped>\n",
       "    .dataframe tbody tr th:only-of-type {\n",
       "        vertical-align: middle;\n",
       "    }\n",
       "\n",
       "    .dataframe tbody tr th {\n",
       "        vertical-align: top;\n",
       "    }\n",
       "\n",
       "    .dataframe thead th {\n",
       "        text-align: right;\n",
       "    }\n",
       "</style>\n",
       "<table border=\"1\" class=\"dataframe\">\n",
       "  <thead>\n",
       "    <tr style=\"text-align: right;\">\n",
       "      <th></th>\n",
       "      <th>Test Size</th>\n",
       "      <th>Random State</th>\n",
       "      <th>Accuracy</th>\n",
       "      <th>Precision</th>\n",
       "      <th>Recall</th>\n",
       "      <th>F1 Score</th>\n",
       "      <th>Best Param</th>\n",
       "    </tr>\n",
       "  </thead>\n",
       "  <tbody>\n",
       "    <tr>\n",
       "      <th>0</th>\n",
       "      <td>0.5</td>\n",
       "      <td>7</td>\n",
       "      <td>0.587168</td>\n",
       "      <td>0.572831</td>\n",
       "      <td>0.587168</td>\n",
       "      <td>0.578063</td>\n",
       "      <td>{'C': 100, 'gamma': 0.01, 'kernel': 'rbf'}</td>\n",
       "    </tr>\n",
       "    <tr>\n",
       "      <th>1</th>\n",
       "      <td>0.5</td>\n",
       "      <td>69</td>\n",
       "      <td>0.557356</td>\n",
       "      <td>0.566422</td>\n",
       "      <td>0.557356</td>\n",
       "      <td>0.561066</td>\n",
       "      <td>{'C': 100, 'gamma': 0.1, 'kernel': 'rbf'}</td>\n",
       "    </tr>\n",
       "    <tr>\n",
       "      <th>2</th>\n",
       "      <td>0.5</td>\n",
       "      <td>101</td>\n",
       "      <td>0.575502</td>\n",
       "      <td>0.563502</td>\n",
       "      <td>0.575502</td>\n",
       "      <td>0.566963</td>\n",
       "      <td>{'C': 100, 'gamma': 0.01, 'kernel': 'rbf'}</td>\n",
       "    </tr>\n",
       "    <tr>\n",
       "      <th>3</th>\n",
       "      <td>0.4</td>\n",
       "      <td>7</td>\n",
       "      <td>0.583468</td>\n",
       "      <td>0.567943</td>\n",
       "      <td>0.583468</td>\n",
       "      <td>0.573703</td>\n",
       "      <td>{'C': 100, 'gamma': 0.01, 'kernel': 'rbf'}</td>\n",
       "    </tr>\n",
       "    <tr>\n",
       "      <th>4</th>\n",
       "      <td>0.4</td>\n",
       "      <td>69</td>\n",
       "      <td>0.572934</td>\n",
       "      <td>0.581220</td>\n",
       "      <td>0.572934</td>\n",
       "      <td>0.575974</td>\n",
       "      <td>{'C': 100, 'gamma': 0.1, 'kernel': 'rbf'}</td>\n",
       "    </tr>\n",
       "    <tr>\n",
       "      <th>5</th>\n",
       "      <td>0.4</td>\n",
       "      <td>101</td>\n",
       "      <td>0.588331</td>\n",
       "      <td>0.593713</td>\n",
       "      <td>0.588331</td>\n",
       "      <td>0.589179</td>\n",
       "      <td>{'C': 10, 'gamma': 0.1, 'kernel': 'rbf'}</td>\n",
       "    </tr>\n",
       "    <tr>\n",
       "      <th>6</th>\n",
       "      <td>0.3</td>\n",
       "      <td>7</td>\n",
       "      <td>0.597192</td>\n",
       "      <td>0.594415</td>\n",
       "      <td>0.597192</td>\n",
       "      <td>0.595242</td>\n",
       "      <td>{'C': 10, 'gamma': 0.1, 'kernel': 'rbf'}</td>\n",
       "    </tr>\n",
       "    <tr>\n",
       "      <th>7</th>\n",
       "      <td>0.3</td>\n",
       "      <td>69</td>\n",
       "      <td>0.611231</td>\n",
       "      <td>0.600314</td>\n",
       "      <td>0.611231</td>\n",
       "      <td>0.604938</td>\n",
       "      <td>{'C': 100, 'gamma': 0.01, 'kernel': 'rbf'}</td>\n",
       "    </tr>\n",
       "    <tr>\n",
       "      <th>8</th>\n",
       "      <td>0.3</td>\n",
       "      <td>101</td>\n",
       "      <td>0.596112</td>\n",
       "      <td>0.592871</td>\n",
       "      <td>0.596112</td>\n",
       "      <td>0.592398</td>\n",
       "      <td>{'C': 100, 'gamma': 0.01, 'kernel': 'rbf'}</td>\n",
       "    </tr>\n",
       "    <tr>\n",
       "      <th>9</th>\n",
       "      <td>0.2</td>\n",
       "      <td>7</td>\n",
       "      <td>0.620746</td>\n",
       "      <td>0.620336</td>\n",
       "      <td>0.620746</td>\n",
       "      <td>0.618957</td>\n",
       "      <td>{'C': 10, 'gamma': 0.1, 'kernel': 'rbf'}</td>\n",
       "    </tr>\n",
       "    <tr>\n",
       "      <th>10</th>\n",
       "      <td>0.2</td>\n",
       "      <td>69</td>\n",
       "      <td>0.604538</td>\n",
       "      <td>0.594133</td>\n",
       "      <td>0.604538</td>\n",
       "      <td>0.598361</td>\n",
       "      <td>{'C': 100, 'gamma': 0.01, 'kernel': 'rbf'}</td>\n",
       "    </tr>\n",
       "    <tr>\n",
       "      <th>11</th>\n",
       "      <td>0.2</td>\n",
       "      <td>101</td>\n",
       "      <td>0.651540</td>\n",
       "      <td>0.663028</td>\n",
       "      <td>0.651540</td>\n",
       "      <td>0.654590</td>\n",
       "      <td>{'C': 10, 'gamma': 0.1, 'kernel': 'rbf'}</td>\n",
       "    </tr>\n",
       "  </tbody>\n",
       "</table>\n",
       "</div>"
      ],
      "text/plain": [
       "    Test Size  Random State  Accuracy  Precision    Recall  F1 Score  \\\n",
       "0         0.5             7  0.587168   0.572831  0.587168  0.578063   \n",
       "1         0.5            69  0.557356   0.566422  0.557356  0.561066   \n",
       "2         0.5           101  0.575502   0.563502  0.575502  0.566963   \n",
       "3         0.4             7  0.583468   0.567943  0.583468  0.573703   \n",
       "4         0.4            69  0.572934   0.581220  0.572934  0.575974   \n",
       "5         0.4           101  0.588331   0.593713  0.588331  0.589179   \n",
       "6         0.3             7  0.597192   0.594415  0.597192  0.595242   \n",
       "7         0.3            69  0.611231   0.600314  0.611231  0.604938   \n",
       "8         0.3           101  0.596112   0.592871  0.596112  0.592398   \n",
       "9         0.2             7  0.620746   0.620336  0.620746  0.618957   \n",
       "10        0.2            69  0.604538   0.594133  0.604538  0.598361   \n",
       "11        0.2           101  0.651540   0.663028  0.651540  0.654590   \n",
       "\n",
       "                                    Best Param  \n",
       "0   {'C': 100, 'gamma': 0.01, 'kernel': 'rbf'}  \n",
       "1    {'C': 100, 'gamma': 0.1, 'kernel': 'rbf'}  \n",
       "2   {'C': 100, 'gamma': 0.01, 'kernel': 'rbf'}  \n",
       "3   {'C': 100, 'gamma': 0.01, 'kernel': 'rbf'}  \n",
       "4    {'C': 100, 'gamma': 0.1, 'kernel': 'rbf'}  \n",
       "5     {'C': 10, 'gamma': 0.1, 'kernel': 'rbf'}  \n",
       "6     {'C': 10, 'gamma': 0.1, 'kernel': 'rbf'}  \n",
       "7   {'C': 100, 'gamma': 0.01, 'kernel': 'rbf'}  \n",
       "8   {'C': 100, 'gamma': 0.01, 'kernel': 'rbf'}  \n",
       "9     {'C': 10, 'gamma': 0.1, 'kernel': 'rbf'}  \n",
       "10  {'C': 100, 'gamma': 0.01, 'kernel': 'rbf'}  \n",
       "11    {'C': 10, 'gamma': 0.1, 'kernel': 'rbf'}  "
      ]
     },
     "execution_count": 62,
     "metadata": {},
     "output_type": "execute_result"
    }
   ],
   "source": [
    "temp5L_SFB_SMOTE = []\n",
    "\n",
    "y = merge_5L_SMOTE[['CGPA']]\n",
    "X = merge_5L_SMOTE[['Family Size', \"Parent's Education Level.Father\", \"Parent's Education Level.Mother\", \n",
    "                     \"Father's Occupation\", \"Mother's Occupation\", 'Financial Difficulties', 'Financial Support']]\n",
    "\n",
    "for i in [0.5,0.4,0.3,0.2]:\n",
    "    for j in rand_states:\n",
    "        X_train, X_test, y_train, y_test = train_test_split(X, y, test_size=i, random_state=j)\n",
    "        param_grid = {'C': [0.1, 1, 10, 100],\n",
    "                      'gamma': [1, 0.1, 0.01, 0.001],\n",
    "                      'kernel': ['rbf','sigmoid']}\n",
    "\n",
    "        model = GridSearchCV(SVC(random_state=0), param_grid, refit=True, n_jobs=-1, cv=10, verbose=1)\n",
    "        model.fit(X_train, y_train)\n",
    "        pred = model.predict(X_test)\n",
    "        \n",
    "        acc = accuracy_score(y_test,pred)\n",
    "        pre = precision_score(y_test, pred, average='weighted')\n",
    "        recall = recall_score(y_test, pred, average='weighted')\n",
    "        f1 = f1_score(y_test, pred, average='weighted')\n",
    "        param = model.best_params_\n",
    "    \n",
    "        temp5L_SFB_SMOTE.append([i,j,acc,pre,recall,f1,param])\n",
    "        \n",
    "df5L_SFB_SMOTE = pd.DataFrame(columns=['Test Size','Random State','Accuracy','Precision','Recall','F1 Score','Best Param'],data=temp5L_SFB_SMOTE)\n",
    "df5L_SFB_SMOTE"
   ]
  },
  {
   "cell_type": "code",
   "execution_count": 63,
   "id": "e7320aa6-26ff-411e-8450-8f19590c5089",
   "metadata": {},
   "outputs": [
    {
     "data": {
      "text/html": [
       "<div>\n",
       "<style scoped>\n",
       "    .dataframe tbody tr th:only-of-type {\n",
       "        vertical-align: middle;\n",
       "    }\n",
       "\n",
       "    .dataframe tbody tr th {\n",
       "        vertical-align: top;\n",
       "    }\n",
       "\n",
       "    .dataframe thead th {\n",
       "        text-align: right;\n",
       "    }\n",
       "</style>\n",
       "<table border=\"1\" class=\"dataframe\">\n",
       "  <thead>\n",
       "    <tr style=\"text-align: right;\">\n",
       "      <th></th>\n",
       "      <th>Accuracy</th>\n",
       "      <th>Precision</th>\n",
       "      <th>Recall</th>\n",
       "      <th>F1 Score</th>\n",
       "    </tr>\n",
       "    <tr>\n",
       "      <th>Test Size</th>\n",
       "      <th></th>\n",
       "      <th></th>\n",
       "      <th></th>\n",
       "      <th></th>\n",
       "    </tr>\n",
       "  </thead>\n",
       "  <tbody>\n",
       "    <tr>\n",
       "      <th>0.2</th>\n",
       "      <td>0.625608</td>\n",
       "      <td>0.625832</td>\n",
       "      <td>0.625608</td>\n",
       "      <td>0.623970</td>\n",
       "    </tr>\n",
       "    <tr>\n",
       "      <th>0.3</th>\n",
       "      <td>0.601512</td>\n",
       "      <td>0.595867</td>\n",
       "      <td>0.601512</td>\n",
       "      <td>0.597526</td>\n",
       "    </tr>\n",
       "    <tr>\n",
       "      <th>0.4</th>\n",
       "      <td>0.581578</td>\n",
       "      <td>0.580959</td>\n",
       "      <td>0.581578</td>\n",
       "      <td>0.579619</td>\n",
       "    </tr>\n",
       "    <tr>\n",
       "      <th>0.5</th>\n",
       "      <td>0.573342</td>\n",
       "      <td>0.567585</td>\n",
       "      <td>0.573342</td>\n",
       "      <td>0.568697</td>\n",
       "    </tr>\n",
       "  </tbody>\n",
       "</table>\n",
       "</div>"
      ],
      "text/plain": [
       "           Accuracy  Precision    Recall  F1 Score\n",
       "Test Size                                         \n",
       "0.2        0.625608   0.625832  0.625608  0.623970\n",
       "0.3        0.601512   0.595867  0.601512  0.597526\n",
       "0.4        0.581578   0.580959  0.581578  0.579619\n",
       "0.5        0.573342   0.567585  0.573342  0.568697"
      ]
     },
     "execution_count": 63,
     "metadata": {},
     "output_type": "execute_result"
    }
   ],
   "source": [
    "df5L_SFB_SMOTE.groupby('Test Size')[['Accuracy','Precision','Recall','F1 Score']].mean()"
   ]
  },
  {
   "cell_type": "markdown",
   "id": "3671ab47-97f6-4cff-9aa4-f3210a8db1f7",
   "metadata": {},
   "source": [
    "## Student Lifestyle"
   ]
  },
  {
   "cell_type": "markdown",
   "id": "31ce465d-8ffc-4647-90d4-ade02afb36d8",
   "metadata": {},
   "source": [
    "### SL before Data Balancing"
   ]
  },
  {
   "cell_type": "code",
   "execution_count": 64,
   "id": "86dadd27-002e-43df-bc58-352c37824140",
   "metadata": {},
   "outputs": [
    {
     "name": "stdout",
     "output_type": "stream",
     "text": [
      "X: (1287, 15) y: (1287, 1)\n",
      "Fitting 10 folds for each of 32 candidates, totalling 320 fits\n"
     ]
    },
    {
     "name": "stderr",
     "output_type": "stream",
     "text": [
      "C:\\Users\\hazel\\anaconda3\\Lib\\site-packages\\sklearn\\model_selection\\_split.py:700: UserWarning: The least populated class in y has only 8 members, which is less than n_splits=10.\n",
      "  warnings.warn(\n",
      "C:\\Users\\hazel\\anaconda3\\Lib\\site-packages\\sklearn\\utils\\validation.py:1143: DataConversionWarning: A column-vector y was passed when a 1d array was expected. Please change the shape of y to (n_samples, ), for example using ravel().\n",
      "  y = column_or_1d(y, warn=True)\n",
      "C:\\Users\\hazel\\anaconda3\\Lib\\site-packages\\sklearn\\metrics\\_classification.py:1344: UndefinedMetricWarning: Precision is ill-defined and being set to 0.0 in labels with no predicted samples. Use `zero_division` parameter to control this behavior.\n",
      "  _warn_prf(average, modifier, msg_start, len(result))\n"
     ]
    },
    {
     "name": "stdout",
     "output_type": "stream",
     "text": [
      "Fitting 10 folds for each of 32 candidates, totalling 320 fits\n"
     ]
    },
    {
     "name": "stderr",
     "output_type": "stream",
     "text": [
      "C:\\Users\\hazel\\anaconda3\\Lib\\site-packages\\sklearn\\model_selection\\_split.py:700: UserWarning: The least populated class in y has only 8 members, which is less than n_splits=10.\n",
      "  warnings.warn(\n",
      "C:\\Users\\hazel\\anaconda3\\Lib\\site-packages\\sklearn\\utils\\validation.py:1143: DataConversionWarning: A column-vector y was passed when a 1d array was expected. Please change the shape of y to (n_samples, ), for example using ravel().\n",
      "  y = column_or_1d(y, warn=True)\n",
      "C:\\Users\\hazel\\anaconda3\\Lib\\site-packages\\sklearn\\metrics\\_classification.py:1344: UndefinedMetricWarning: Precision is ill-defined and being set to 0.0 in labels with no predicted samples. Use `zero_division` parameter to control this behavior.\n",
      "  _warn_prf(average, modifier, msg_start, len(result))\n",
      "C:\\Users\\hazel\\anaconda3\\Lib\\site-packages\\sklearn\\model_selection\\_split.py:700: UserWarning: The least populated class in y has only 8 members, which is less than n_splits=10.\n",
      "  warnings.warn(\n"
     ]
    },
    {
     "name": "stdout",
     "output_type": "stream",
     "text": [
      "Fitting 10 folds for each of 32 candidates, totalling 320 fits\n"
     ]
    },
    {
     "name": "stderr",
     "output_type": "stream",
     "text": [
      "C:\\Users\\hazel\\anaconda3\\Lib\\site-packages\\sklearn\\utils\\validation.py:1143: DataConversionWarning: A column-vector y was passed when a 1d array was expected. Please change the shape of y to (n_samples, ), for example using ravel().\n",
      "  y = column_or_1d(y, warn=True)\n",
      "C:\\Users\\hazel\\anaconda3\\Lib\\site-packages\\sklearn\\metrics\\_classification.py:1344: UndefinedMetricWarning: Precision is ill-defined and being set to 0.0 in labels with no predicted samples. Use `zero_division` parameter to control this behavior.\n",
      "  _warn_prf(average, modifier, msg_start, len(result))\n"
     ]
    },
    {
     "name": "stdout",
     "output_type": "stream",
     "text": [
      "Fitting 10 folds for each of 32 candidates, totalling 320 fits\n"
     ]
    },
    {
     "name": "stderr",
     "output_type": "stream",
     "text": [
      "C:\\Users\\hazel\\anaconda3\\Lib\\site-packages\\sklearn\\utils\\validation.py:1143: DataConversionWarning: A column-vector y was passed when a 1d array was expected. Please change the shape of y to (n_samples, ), for example using ravel().\n",
      "  y = column_or_1d(y, warn=True)\n",
      "C:\\Users\\hazel\\anaconda3\\Lib\\site-packages\\sklearn\\metrics\\_classification.py:1344: UndefinedMetricWarning: Precision is ill-defined and being set to 0.0 in labels with no predicted samples. Use `zero_division` parameter to control this behavior.\n",
      "  _warn_prf(average, modifier, msg_start, len(result))\n"
     ]
    },
    {
     "name": "stdout",
     "output_type": "stream",
     "text": [
      "Fitting 10 folds for each of 32 candidates, totalling 320 fits\n"
     ]
    },
    {
     "name": "stderr",
     "output_type": "stream",
     "text": [
      "C:\\Users\\hazel\\anaconda3\\Lib\\site-packages\\sklearn\\model_selection\\_split.py:700: UserWarning: The least populated class in y has only 9 members, which is less than n_splits=10.\n",
      "  warnings.warn(\n",
      "C:\\Users\\hazel\\anaconda3\\Lib\\site-packages\\sklearn\\utils\\validation.py:1143: DataConversionWarning: A column-vector y was passed when a 1d array was expected. Please change the shape of y to (n_samples, ), for example using ravel().\n",
      "  y = column_or_1d(y, warn=True)\n",
      "C:\\Users\\hazel\\anaconda3\\Lib\\site-packages\\sklearn\\metrics\\_classification.py:1344: UndefinedMetricWarning: Precision is ill-defined and being set to 0.0 in labels with no predicted samples. Use `zero_division` parameter to control this behavior.\n",
      "  _warn_prf(average, modifier, msg_start, len(result))\n"
     ]
    },
    {
     "name": "stdout",
     "output_type": "stream",
     "text": [
      "Fitting 10 folds for each of 32 candidates, totalling 320 fits\n"
     ]
    },
    {
     "name": "stderr",
     "output_type": "stream",
     "text": [
      "C:\\Users\\hazel\\anaconda3\\Lib\\site-packages\\sklearn\\utils\\validation.py:1143: DataConversionWarning: A column-vector y was passed when a 1d array was expected. Please change the shape of y to (n_samples, ), for example using ravel().\n",
      "  y = column_or_1d(y, warn=True)\n",
      "C:\\Users\\hazel\\anaconda3\\Lib\\site-packages\\sklearn\\metrics\\_classification.py:1344: UndefinedMetricWarning: Precision is ill-defined and being set to 0.0 in labels with no predicted samples. Use `zero_division` parameter to control this behavior.\n",
      "  _warn_prf(average, modifier, msg_start, len(result))\n"
     ]
    },
    {
     "name": "stdout",
     "output_type": "stream",
     "text": [
      "Fitting 10 folds for each of 32 candidates, totalling 320 fits\n"
     ]
    },
    {
     "name": "stderr",
     "output_type": "stream",
     "text": [
      "C:\\Users\\hazel\\anaconda3\\Lib\\site-packages\\sklearn\\utils\\validation.py:1143: DataConversionWarning: A column-vector y was passed when a 1d array was expected. Please change the shape of y to (n_samples, ), for example using ravel().\n",
      "  y = column_or_1d(y, warn=True)\n",
      "C:\\Users\\hazel\\anaconda3\\Lib\\site-packages\\sklearn\\metrics\\_classification.py:1344: UndefinedMetricWarning: Precision is ill-defined and being set to 0.0 in labels with no predicted samples. Use `zero_division` parameter to control this behavior.\n",
      "  _warn_prf(average, modifier, msg_start, len(result))\n"
     ]
    },
    {
     "name": "stdout",
     "output_type": "stream",
     "text": [
      "Fitting 10 folds for each of 32 candidates, totalling 320 fits\n"
     ]
    },
    {
     "name": "stderr",
     "output_type": "stream",
     "text": [
      "C:\\Users\\hazel\\anaconda3\\Lib\\site-packages\\sklearn\\utils\\validation.py:1143: DataConversionWarning: A column-vector y was passed when a 1d array was expected. Please change the shape of y to (n_samples, ), for example using ravel().\n",
      "  y = column_or_1d(y, warn=True)\n",
      "C:\\Users\\hazel\\anaconda3\\Lib\\site-packages\\sklearn\\metrics\\_classification.py:1344: UndefinedMetricWarning: Precision is ill-defined and being set to 0.0 in labels with no predicted samples. Use `zero_division` parameter to control this behavior.\n",
      "  _warn_prf(average, modifier, msg_start, len(result))\n"
     ]
    },
    {
     "name": "stdout",
     "output_type": "stream",
     "text": [
      "Fitting 10 folds for each of 32 candidates, totalling 320 fits\n"
     ]
    },
    {
     "name": "stderr",
     "output_type": "stream",
     "text": [
      "C:\\Users\\hazel\\anaconda3\\Lib\\site-packages\\sklearn\\utils\\validation.py:1143: DataConversionWarning: A column-vector y was passed when a 1d array was expected. Please change the shape of y to (n_samples, ), for example using ravel().\n",
      "  y = column_or_1d(y, warn=True)\n",
      "C:\\Users\\hazel\\anaconda3\\Lib\\site-packages\\sklearn\\metrics\\_classification.py:1344: UndefinedMetricWarning: Precision is ill-defined and being set to 0.0 in labels with no predicted samples. Use `zero_division` parameter to control this behavior.\n",
      "  _warn_prf(average, modifier, msg_start, len(result))\n"
     ]
    },
    {
     "name": "stdout",
     "output_type": "stream",
     "text": [
      "Fitting 10 folds for each of 32 candidates, totalling 320 fits\n"
     ]
    },
    {
     "name": "stderr",
     "output_type": "stream",
     "text": [
      "C:\\Users\\hazel\\anaconda3\\Lib\\site-packages\\sklearn\\utils\\validation.py:1143: DataConversionWarning: A column-vector y was passed when a 1d array was expected. Please change the shape of y to (n_samples, ), for example using ravel().\n",
      "  y = column_or_1d(y, warn=True)\n",
      "C:\\Users\\hazel\\anaconda3\\Lib\\site-packages\\sklearn\\metrics\\_classification.py:1344: UndefinedMetricWarning: Precision is ill-defined and being set to 0.0 in labels with no predicted samples. Use `zero_division` parameter to control this behavior.\n",
      "  _warn_prf(average, modifier, msg_start, len(result))\n"
     ]
    },
    {
     "name": "stdout",
     "output_type": "stream",
     "text": [
      "Fitting 10 folds for each of 32 candidates, totalling 320 fits\n"
     ]
    },
    {
     "name": "stderr",
     "output_type": "stream",
     "text": [
      "C:\\Users\\hazel\\anaconda3\\Lib\\site-packages\\sklearn\\utils\\validation.py:1143: DataConversionWarning: A column-vector y was passed when a 1d array was expected. Please change the shape of y to (n_samples, ), for example using ravel().\n",
      "  y = column_or_1d(y, warn=True)\n",
      "C:\\Users\\hazel\\anaconda3\\Lib\\site-packages\\sklearn\\metrics\\_classification.py:1344: UndefinedMetricWarning: Precision is ill-defined and being set to 0.0 in labels with no predicted samples. Use `zero_division` parameter to control this behavior.\n",
      "  _warn_prf(average, modifier, msg_start, len(result))\n"
     ]
    },
    {
     "name": "stdout",
     "output_type": "stream",
     "text": [
      "Fitting 10 folds for each of 32 candidates, totalling 320 fits\n"
     ]
    },
    {
     "name": "stderr",
     "output_type": "stream",
     "text": [
      "C:\\Users\\hazel\\anaconda3\\Lib\\site-packages\\sklearn\\utils\\validation.py:1143: DataConversionWarning: A column-vector y was passed when a 1d array was expected. Please change the shape of y to (n_samples, ), for example using ravel().\n",
      "  y = column_or_1d(y, warn=True)\n",
      "C:\\Users\\hazel\\anaconda3\\Lib\\site-packages\\sklearn\\metrics\\_classification.py:1344: UndefinedMetricWarning: Precision is ill-defined and being set to 0.0 in labels with no predicted samples. Use `zero_division` parameter to control this behavior.\n",
      "  _warn_prf(average, modifier, msg_start, len(result))\n"
     ]
    },
    {
     "data": {
      "text/html": [
       "<div>\n",
       "<style scoped>\n",
       "    .dataframe tbody tr th:only-of-type {\n",
       "        vertical-align: middle;\n",
       "    }\n",
       "\n",
       "    .dataframe tbody tr th {\n",
       "        vertical-align: top;\n",
       "    }\n",
       "\n",
       "    .dataframe thead th {\n",
       "        text-align: right;\n",
       "    }\n",
       "</style>\n",
       "<table border=\"1\" class=\"dataframe\">\n",
       "  <thead>\n",
       "    <tr style=\"text-align: right;\">\n",
       "      <th></th>\n",
       "      <th>Test Size</th>\n",
       "      <th>Random State</th>\n",
       "      <th>Accuracy</th>\n",
       "      <th>Precision</th>\n",
       "      <th>Recall</th>\n",
       "      <th>F1 Score</th>\n",
       "      <th>Best Param</th>\n",
       "    </tr>\n",
       "  </thead>\n",
       "  <tbody>\n",
       "    <tr>\n",
       "      <th>0</th>\n",
       "      <td>0.5</td>\n",
       "      <td>7</td>\n",
       "      <td>0.459627</td>\n",
       "      <td>0.211257</td>\n",
       "      <td>0.459627</td>\n",
       "      <td>0.289467</td>\n",
       "      <td>{'C': 0.1, 'gamma': 1, 'kernel': 'rbf'}</td>\n",
       "    </tr>\n",
       "    <tr>\n",
       "      <th>1</th>\n",
       "      <td>0.5</td>\n",
       "      <td>69</td>\n",
       "      <td>0.476708</td>\n",
       "      <td>0.260272</td>\n",
       "      <td>0.476708</td>\n",
       "      <td>0.319677</td>\n",
       "      <td>{'C': 1, 'gamma': 1, 'kernel': 'rbf'}</td>\n",
       "    </tr>\n",
       "    <tr>\n",
       "      <th>2</th>\n",
       "      <td>0.5</td>\n",
       "      <td>101</td>\n",
       "      <td>0.500000</td>\n",
       "      <td>0.250000</td>\n",
       "      <td>0.500000</td>\n",
       "      <td>0.333333</td>\n",
       "      <td>{'C': 0.1, 'gamma': 1, 'kernel': 'rbf'}</td>\n",
       "    </tr>\n",
       "    <tr>\n",
       "      <th>3</th>\n",
       "      <td>0.4</td>\n",
       "      <td>7</td>\n",
       "      <td>0.442718</td>\n",
       "      <td>0.366236</td>\n",
       "      <td>0.442718</td>\n",
       "      <td>0.364468</td>\n",
       "      <td>{'C': 100, 'gamma': 0.01, 'kernel': 'rbf'}</td>\n",
       "    </tr>\n",
       "    <tr>\n",
       "      <th>4</th>\n",
       "      <td>0.4</td>\n",
       "      <td>69</td>\n",
       "      <td>0.493204</td>\n",
       "      <td>0.243250</td>\n",
       "      <td>0.493204</td>\n",
       "      <td>0.325810</td>\n",
       "      <td>{'C': 0.1, 'gamma': 1, 'kernel': 'rbf'}</td>\n",
       "    </tr>\n",
       "    <tr>\n",
       "      <th>5</th>\n",
       "      <td>0.4</td>\n",
       "      <td>101</td>\n",
       "      <td>0.485437</td>\n",
       "      <td>0.317980</td>\n",
       "      <td>0.485437</td>\n",
       "      <td>0.327588</td>\n",
       "      <td>{'C': 10, 'gamma': 0.01, 'kernel': 'sigmoid'}</td>\n",
       "    </tr>\n",
       "    <tr>\n",
       "      <th>6</th>\n",
       "      <td>0.3</td>\n",
       "      <td>7</td>\n",
       "      <td>0.457364</td>\n",
       "      <td>0.279927</td>\n",
       "      <td>0.457364</td>\n",
       "      <td>0.296291</td>\n",
       "      <td>{'C': 0.1, 'gamma': 0.1, 'kernel': 'sigmoid'}</td>\n",
       "    </tr>\n",
       "    <tr>\n",
       "      <th>7</th>\n",
       "      <td>0.3</td>\n",
       "      <td>69</td>\n",
       "      <td>0.501292</td>\n",
       "      <td>0.251294</td>\n",
       "      <td>0.501292</td>\n",
       "      <td>0.334770</td>\n",
       "      <td>{'C': 0.1, 'gamma': 1, 'kernel': 'rbf'}</td>\n",
       "    </tr>\n",
       "    <tr>\n",
       "      <th>8</th>\n",
       "      <td>0.3</td>\n",
       "      <td>101</td>\n",
       "      <td>0.483204</td>\n",
       "      <td>0.364268</td>\n",
       "      <td>0.483204</td>\n",
       "      <td>0.326946</td>\n",
       "      <td>{'C': 10, 'gamma': 0.01, 'kernel': 'sigmoid'}</td>\n",
       "    </tr>\n",
       "    <tr>\n",
       "      <th>9</th>\n",
       "      <td>0.2</td>\n",
       "      <td>7</td>\n",
       "      <td>0.476744</td>\n",
       "      <td>0.227285</td>\n",
       "      <td>0.476744</td>\n",
       "      <td>0.307819</td>\n",
       "      <td>{'C': 0.1, 'gamma': 1, 'kernel': 'rbf'}</td>\n",
       "    </tr>\n",
       "    <tr>\n",
       "      <th>10</th>\n",
       "      <td>0.2</td>\n",
       "      <td>69</td>\n",
       "      <td>0.488372</td>\n",
       "      <td>0.241336</td>\n",
       "      <td>0.488372</td>\n",
       "      <td>0.323038</td>\n",
       "      <td>{'C': 0.1, 'gamma': 0.1, 'kernel': 'sigmoid'}</td>\n",
       "    </tr>\n",
       "    <tr>\n",
       "      <th>11</th>\n",
       "      <td>0.2</td>\n",
       "      <td>101</td>\n",
       "      <td>0.500000</td>\n",
       "      <td>0.250000</td>\n",
       "      <td>0.500000</td>\n",
       "      <td>0.333333</td>\n",
       "      <td>{'C': 0.1, 'gamma': 1, 'kernel': 'rbf'}</td>\n",
       "    </tr>\n",
       "  </tbody>\n",
       "</table>\n",
       "</div>"
      ],
      "text/plain": [
       "    Test Size  Random State  Accuracy  Precision    Recall  F1 Score  \\\n",
       "0         0.5             7  0.459627   0.211257  0.459627  0.289467   \n",
       "1         0.5            69  0.476708   0.260272  0.476708  0.319677   \n",
       "2         0.5           101  0.500000   0.250000  0.500000  0.333333   \n",
       "3         0.4             7  0.442718   0.366236  0.442718  0.364468   \n",
       "4         0.4            69  0.493204   0.243250  0.493204  0.325810   \n",
       "5         0.4           101  0.485437   0.317980  0.485437  0.327588   \n",
       "6         0.3             7  0.457364   0.279927  0.457364  0.296291   \n",
       "7         0.3            69  0.501292   0.251294  0.501292  0.334770   \n",
       "8         0.3           101  0.483204   0.364268  0.483204  0.326946   \n",
       "9         0.2             7  0.476744   0.227285  0.476744  0.307819   \n",
       "10        0.2            69  0.488372   0.241336  0.488372  0.323038   \n",
       "11        0.2           101  0.500000   0.250000  0.500000  0.333333   \n",
       "\n",
       "                                       Best Param  \n",
       "0         {'C': 0.1, 'gamma': 1, 'kernel': 'rbf'}  \n",
       "1           {'C': 1, 'gamma': 1, 'kernel': 'rbf'}  \n",
       "2         {'C': 0.1, 'gamma': 1, 'kernel': 'rbf'}  \n",
       "3      {'C': 100, 'gamma': 0.01, 'kernel': 'rbf'}  \n",
       "4         {'C': 0.1, 'gamma': 1, 'kernel': 'rbf'}  \n",
       "5   {'C': 10, 'gamma': 0.01, 'kernel': 'sigmoid'}  \n",
       "6   {'C': 0.1, 'gamma': 0.1, 'kernel': 'sigmoid'}  \n",
       "7         {'C': 0.1, 'gamma': 1, 'kernel': 'rbf'}  \n",
       "8   {'C': 10, 'gamma': 0.01, 'kernel': 'sigmoid'}  \n",
       "9         {'C': 0.1, 'gamma': 1, 'kernel': 'rbf'}  \n",
       "10  {'C': 0.1, 'gamma': 0.1, 'kernel': 'sigmoid'}  \n",
       "11        {'C': 0.1, 'gamma': 1, 'kernel': 'rbf'}  "
      ]
     },
     "execution_count": 64,
     "metadata": {},
     "output_type": "execute_result"
    }
   ],
   "source": [
    "temp5L_SL_imb = []\n",
    "\n",
    "y = merge_5L_imb[['CGPA']]\n",
    "X = merge_5L_imb[['Relationship Status', 'Scholarship', 'PTPTN', 'Skipping Class', 'Additional Course',\n",
    "                    'Study Behavior', 'Study Time', 'Extra Curricular Activities', 'Part-time Job', 'Commute Time',\n",
    "                    'Gaming', 'Alcohol Consumption', 'I have enough free time after class', 'Social Interaction',\n",
    "                    'I hang out with friends']]\n",
    "\n",
    "print(\"X:\", X.shape,\"y:\", y.shape)\n",
    "\n",
    "for i in [0.5,0.4,0.3,0.2]:\n",
    "    for j in rand_states:\n",
    "        X_train, X_test, y_train, y_test = train_test_split(X, y, test_size=i, random_state=j)\n",
    "        param_grid = {'C': [0.1, 1, 10, 100],\n",
    "                      'gamma': [1, 0.1, 0.01, 0.001],\n",
    "                      'kernel': ['rbf','sigmoid']}\n",
    "\n",
    "        model = GridSearchCV(SVC(random_state=0), param_grid, refit=True, n_jobs=-1, cv=10, verbose=1)\n",
    "        model.fit(X_train, y_train)\n",
    "        pred = model.predict(X_test)\n",
    "        \n",
    "        acc = accuracy_score(y_test,pred)\n",
    "        pre = precision_score(y_test, pred, average='weighted')\n",
    "        recall = recall_score(y_test, pred, average='weighted')\n",
    "        f1 = f1_score(y_test, pred, average='weighted')\n",
    "        param = model.best_params_\n",
    "    \n",
    "        temp5L_SL_imb.append([i,j,acc,pre,recall,f1,param])\n",
    "        \n",
    "df5L_SL_imb = pd.DataFrame(columns=['Test Size','Random State','Accuracy','Precision','Recall','F1 Score','Best Param'],data=temp5L_SL_imb)\n",
    "df5L_SL_imb"
   ]
  },
  {
   "cell_type": "code",
   "execution_count": 65,
   "id": "71c98dfe-50c7-4a21-a3ce-38737c0fbf35",
   "metadata": {},
   "outputs": [
    {
     "data": {
      "text/html": [
       "<div>\n",
       "<style scoped>\n",
       "    .dataframe tbody tr th:only-of-type {\n",
       "        vertical-align: middle;\n",
       "    }\n",
       "\n",
       "    .dataframe tbody tr th {\n",
       "        vertical-align: top;\n",
       "    }\n",
       "\n",
       "    .dataframe thead th {\n",
       "        text-align: right;\n",
       "    }\n",
       "</style>\n",
       "<table border=\"1\" class=\"dataframe\">\n",
       "  <thead>\n",
       "    <tr style=\"text-align: right;\">\n",
       "      <th></th>\n",
       "      <th>Accuracy</th>\n",
       "      <th>Precision</th>\n",
       "      <th>Recall</th>\n",
       "      <th>F1 Score</th>\n",
       "    </tr>\n",
       "    <tr>\n",
       "      <th>Test Size</th>\n",
       "      <th></th>\n",
       "      <th></th>\n",
       "      <th></th>\n",
       "      <th></th>\n",
       "    </tr>\n",
       "  </thead>\n",
       "  <tbody>\n",
       "    <tr>\n",
       "      <th>0.2</th>\n",
       "      <td>0.488372</td>\n",
       "      <td>0.239540</td>\n",
       "      <td>0.488372</td>\n",
       "      <td>0.321397</td>\n",
       "    </tr>\n",
       "    <tr>\n",
       "      <th>0.3</th>\n",
       "      <td>0.480620</td>\n",
       "      <td>0.298496</td>\n",
       "      <td>0.480620</td>\n",
       "      <td>0.319335</td>\n",
       "    </tr>\n",
       "    <tr>\n",
       "      <th>0.4</th>\n",
       "      <td>0.473786</td>\n",
       "      <td>0.309155</td>\n",
       "      <td>0.473786</td>\n",
       "      <td>0.339288</td>\n",
       "    </tr>\n",
       "    <tr>\n",
       "      <th>0.5</th>\n",
       "      <td>0.478778</td>\n",
       "      <td>0.240510</td>\n",
       "      <td>0.478778</td>\n",
       "      <td>0.314159</td>\n",
       "    </tr>\n",
       "  </tbody>\n",
       "</table>\n",
       "</div>"
      ],
      "text/plain": [
       "           Accuracy  Precision    Recall  F1 Score\n",
       "Test Size                                         \n",
       "0.2        0.488372   0.239540  0.488372  0.321397\n",
       "0.3        0.480620   0.298496  0.480620  0.319335\n",
       "0.4        0.473786   0.309155  0.473786  0.339288\n",
       "0.5        0.478778   0.240510  0.478778  0.314159"
      ]
     },
     "execution_count": 65,
     "metadata": {},
     "output_type": "execute_result"
    }
   ],
   "source": [
    "df5L_SL_imb.groupby('Test Size')[['Accuracy','Precision','Recall','F1 Score']].mean()"
   ]
  },
  {
   "cell_type": "markdown",
   "id": "e82c40d1-124d-4334-996a-33ba9c3cc5c5",
   "metadata": {},
   "source": [
    "### SL after RandomOverSampler"
   ]
  },
  {
   "cell_type": "code",
   "execution_count": 66,
   "id": "f59eea68-5215-4926-bc80-1a698c12de2a",
   "metadata": {},
   "outputs": [
    {
     "name": "stdout",
     "output_type": "stream",
     "text": [
      "Fitting 10 folds for each of 32 candidates, totalling 320 fits\n"
     ]
    },
    {
     "name": "stderr",
     "output_type": "stream",
     "text": [
      "C:\\Users\\hazel\\anaconda3\\Lib\\site-packages\\sklearn\\utils\\validation.py:1143: DataConversionWarning: A column-vector y was passed when a 1d array was expected. Please change the shape of y to (n_samples, ), for example using ravel().\n",
      "  y = column_or_1d(y, warn=True)\n"
     ]
    },
    {
     "name": "stdout",
     "output_type": "stream",
     "text": [
      "Fitting 10 folds for each of 32 candidates, totalling 320 fits\n"
     ]
    },
    {
     "name": "stderr",
     "output_type": "stream",
     "text": [
      "C:\\Users\\hazel\\anaconda3\\Lib\\site-packages\\sklearn\\utils\\validation.py:1143: DataConversionWarning: A column-vector y was passed when a 1d array was expected. Please change the shape of y to (n_samples, ), for example using ravel().\n",
      "  y = column_or_1d(y, warn=True)\n"
     ]
    },
    {
     "name": "stdout",
     "output_type": "stream",
     "text": [
      "Fitting 10 folds for each of 32 candidates, totalling 320 fits\n"
     ]
    },
    {
     "name": "stderr",
     "output_type": "stream",
     "text": [
      "C:\\Users\\hazel\\anaconda3\\Lib\\site-packages\\sklearn\\utils\\validation.py:1143: DataConversionWarning: A column-vector y was passed when a 1d array was expected. Please change the shape of y to (n_samples, ), for example using ravel().\n",
      "  y = column_or_1d(y, warn=True)\n"
     ]
    },
    {
     "name": "stdout",
     "output_type": "stream",
     "text": [
      "Fitting 10 folds for each of 32 candidates, totalling 320 fits\n"
     ]
    },
    {
     "name": "stderr",
     "output_type": "stream",
     "text": [
      "C:\\Users\\hazel\\anaconda3\\Lib\\site-packages\\sklearn\\utils\\validation.py:1143: DataConversionWarning: A column-vector y was passed when a 1d array was expected. Please change the shape of y to (n_samples, ), for example using ravel().\n",
      "  y = column_or_1d(y, warn=True)\n"
     ]
    },
    {
     "name": "stdout",
     "output_type": "stream",
     "text": [
      "Fitting 10 folds for each of 32 candidates, totalling 320 fits\n"
     ]
    },
    {
     "name": "stderr",
     "output_type": "stream",
     "text": [
      "C:\\Users\\hazel\\anaconda3\\Lib\\site-packages\\sklearn\\utils\\validation.py:1143: DataConversionWarning: A column-vector y was passed when a 1d array was expected. Please change the shape of y to (n_samples, ), for example using ravel().\n",
      "  y = column_or_1d(y, warn=True)\n"
     ]
    },
    {
     "name": "stdout",
     "output_type": "stream",
     "text": [
      "Fitting 10 folds for each of 32 candidates, totalling 320 fits\n"
     ]
    },
    {
     "name": "stderr",
     "output_type": "stream",
     "text": [
      "C:\\Users\\hazel\\anaconda3\\Lib\\site-packages\\sklearn\\utils\\validation.py:1143: DataConversionWarning: A column-vector y was passed when a 1d array was expected. Please change the shape of y to (n_samples, ), for example using ravel().\n",
      "  y = column_or_1d(y, warn=True)\n"
     ]
    },
    {
     "name": "stdout",
     "output_type": "stream",
     "text": [
      "Fitting 10 folds for each of 32 candidates, totalling 320 fits\n"
     ]
    },
    {
     "name": "stderr",
     "output_type": "stream",
     "text": [
      "C:\\Users\\hazel\\anaconda3\\Lib\\site-packages\\sklearn\\utils\\validation.py:1143: DataConversionWarning: A column-vector y was passed when a 1d array was expected. Please change the shape of y to (n_samples, ), for example using ravel().\n",
      "  y = column_or_1d(y, warn=True)\n"
     ]
    },
    {
     "name": "stdout",
     "output_type": "stream",
     "text": [
      "Fitting 10 folds for each of 32 candidates, totalling 320 fits\n"
     ]
    },
    {
     "name": "stderr",
     "output_type": "stream",
     "text": [
      "C:\\Users\\hazel\\anaconda3\\Lib\\site-packages\\sklearn\\utils\\validation.py:1143: DataConversionWarning: A column-vector y was passed when a 1d array was expected. Please change the shape of y to (n_samples, ), for example using ravel().\n",
      "  y = column_or_1d(y, warn=True)\n"
     ]
    },
    {
     "name": "stdout",
     "output_type": "stream",
     "text": [
      "Fitting 10 folds for each of 32 candidates, totalling 320 fits\n"
     ]
    },
    {
     "name": "stderr",
     "output_type": "stream",
     "text": [
      "C:\\Users\\hazel\\anaconda3\\Lib\\site-packages\\sklearn\\utils\\validation.py:1143: DataConversionWarning: A column-vector y was passed when a 1d array was expected. Please change the shape of y to (n_samples, ), for example using ravel().\n",
      "  y = column_or_1d(y, warn=True)\n"
     ]
    },
    {
     "name": "stdout",
     "output_type": "stream",
     "text": [
      "Fitting 10 folds for each of 32 candidates, totalling 320 fits\n"
     ]
    },
    {
     "name": "stderr",
     "output_type": "stream",
     "text": [
      "C:\\Users\\hazel\\anaconda3\\Lib\\site-packages\\sklearn\\utils\\validation.py:1143: DataConversionWarning: A column-vector y was passed when a 1d array was expected. Please change the shape of y to (n_samples, ), for example using ravel().\n",
      "  y = column_or_1d(y, warn=True)\n"
     ]
    },
    {
     "name": "stdout",
     "output_type": "stream",
     "text": [
      "Fitting 10 folds for each of 32 candidates, totalling 320 fits\n"
     ]
    },
    {
     "name": "stderr",
     "output_type": "stream",
     "text": [
      "C:\\Users\\hazel\\anaconda3\\Lib\\site-packages\\sklearn\\utils\\validation.py:1143: DataConversionWarning: A column-vector y was passed when a 1d array was expected. Please change the shape of y to (n_samples, ), for example using ravel().\n",
      "  y = column_or_1d(y, warn=True)\n"
     ]
    },
    {
     "name": "stdout",
     "output_type": "stream",
     "text": [
      "Fitting 10 folds for each of 32 candidates, totalling 320 fits\n"
     ]
    },
    {
     "name": "stderr",
     "output_type": "stream",
     "text": [
      "C:\\Users\\hazel\\anaconda3\\Lib\\site-packages\\sklearn\\utils\\validation.py:1143: DataConversionWarning: A column-vector y was passed when a 1d array was expected. Please change the shape of y to (n_samples, ), for example using ravel().\n",
      "  y = column_or_1d(y, warn=True)\n"
     ]
    },
    {
     "data": {
      "text/html": [
       "<div>\n",
       "<style scoped>\n",
       "    .dataframe tbody tr th:only-of-type {\n",
       "        vertical-align: middle;\n",
       "    }\n",
       "\n",
       "    .dataframe tbody tr th {\n",
       "        vertical-align: top;\n",
       "    }\n",
       "\n",
       "    .dataframe thead th {\n",
       "        text-align: right;\n",
       "    }\n",
       "</style>\n",
       "<table border=\"1\" class=\"dataframe\">\n",
       "  <thead>\n",
       "    <tr style=\"text-align: right;\">\n",
       "      <th></th>\n",
       "      <th>Test Size</th>\n",
       "      <th>Random State</th>\n",
       "      <th>Accuracy</th>\n",
       "      <th>Precision</th>\n",
       "      <th>Recall</th>\n",
       "      <th>F1 Score</th>\n",
       "      <th>Best Param</th>\n",
       "    </tr>\n",
       "  </thead>\n",
       "  <tbody>\n",
       "    <tr>\n",
       "      <th>0</th>\n",
       "      <td>0.5</td>\n",
       "      <td>7</td>\n",
       "      <td>0.813351</td>\n",
       "      <td>0.880063</td>\n",
       "      <td>0.813351</td>\n",
       "      <td>0.810171</td>\n",
       "      <td>{'C': 1, 'gamma': 1, 'kernel': 'rbf'}</td>\n",
       "    </tr>\n",
       "    <tr>\n",
       "      <th>1</th>\n",
       "      <td>0.5</td>\n",
       "      <td>69</td>\n",
       "      <td>0.815943</td>\n",
       "      <td>0.851796</td>\n",
       "      <td>0.815943</td>\n",
       "      <td>0.815239</td>\n",
       "      <td>{'C': 10, 'gamma': 1, 'kernel': 'rbf'}</td>\n",
       "    </tr>\n",
       "    <tr>\n",
       "      <th>2</th>\n",
       "      <td>0.5</td>\n",
       "      <td>101</td>\n",
       "      <td>0.810110</td>\n",
       "      <td>0.849772</td>\n",
       "      <td>0.810110</td>\n",
       "      <td>0.809269</td>\n",
       "      <td>{'C': 1, 'gamma': 1, 'kernel': 'rbf'}</td>\n",
       "    </tr>\n",
       "    <tr>\n",
       "      <th>3</th>\n",
       "      <td>0.4</td>\n",
       "      <td>7</td>\n",
       "      <td>0.846840</td>\n",
       "      <td>0.887363</td>\n",
       "      <td>0.846840</td>\n",
       "      <td>0.844025</td>\n",
       "      <td>{'C': 1, 'gamma': 1, 'kernel': 'rbf'}</td>\n",
       "    </tr>\n",
       "    <tr>\n",
       "      <th>4</th>\n",
       "      <td>0.4</td>\n",
       "      <td>69</td>\n",
       "      <td>0.846840</td>\n",
       "      <td>0.891665</td>\n",
       "      <td>0.846840</td>\n",
       "      <td>0.843572</td>\n",
       "      <td>{'C': 1, 'gamma': 1, 'kernel': 'rbf'}</td>\n",
       "    </tr>\n",
       "    <tr>\n",
       "      <th>5</th>\n",
       "      <td>0.4</td>\n",
       "      <td>101</td>\n",
       "      <td>0.824959</td>\n",
       "      <td>0.862523</td>\n",
       "      <td>0.824959</td>\n",
       "      <td>0.822258</td>\n",
       "      <td>{'C': 1, 'gamma': 1, 'kernel': 'rbf'}</td>\n",
       "    </tr>\n",
       "    <tr>\n",
       "      <th>6</th>\n",
       "      <td>0.3</td>\n",
       "      <td>7</td>\n",
       "      <td>0.881210</td>\n",
       "      <td>0.903127</td>\n",
       "      <td>0.881210</td>\n",
       "      <td>0.880835</td>\n",
       "      <td>{'C': 1, 'gamma': 1, 'kernel': 'rbf'}</td>\n",
       "    </tr>\n",
       "    <tr>\n",
       "      <th>7</th>\n",
       "      <td>0.3</td>\n",
       "      <td>69</td>\n",
       "      <td>0.855292</td>\n",
       "      <td>0.899552</td>\n",
       "      <td>0.855292</td>\n",
       "      <td>0.851904</td>\n",
       "      <td>{'C': 1, 'gamma': 1, 'kernel': 'rbf'}</td>\n",
       "    </tr>\n",
       "    <tr>\n",
       "      <th>8</th>\n",
       "      <td>0.3</td>\n",
       "      <td>101</td>\n",
       "      <td>0.855292</td>\n",
       "      <td>0.880519</td>\n",
       "      <td>0.855292</td>\n",
       "      <td>0.852707</td>\n",
       "      <td>{'C': 1, 'gamma': 1, 'kernel': 'rbf'}</td>\n",
       "    </tr>\n",
       "    <tr>\n",
       "      <th>9</th>\n",
       "      <td>0.2</td>\n",
       "      <td>7</td>\n",
       "      <td>0.902755</td>\n",
       "      <td>0.919169</td>\n",
       "      <td>0.902755</td>\n",
       "      <td>0.903491</td>\n",
       "      <td>{'C': 1, 'gamma': 1, 'kernel': 'rbf'}</td>\n",
       "    </tr>\n",
       "    <tr>\n",
       "      <th>10</th>\n",
       "      <td>0.2</td>\n",
       "      <td>69</td>\n",
       "      <td>0.876823</td>\n",
       "      <td>0.896684</td>\n",
       "      <td>0.876823</td>\n",
       "      <td>0.873027</td>\n",
       "      <td>{'C': 1, 'gamma': 1, 'kernel': 'rbf'}</td>\n",
       "    </tr>\n",
       "    <tr>\n",
       "      <th>11</th>\n",
       "      <td>0.2</td>\n",
       "      <td>101</td>\n",
       "      <td>0.884927</td>\n",
       "      <td>0.902779</td>\n",
       "      <td>0.884927</td>\n",
       "      <td>0.884331</td>\n",
       "      <td>{'C': 1, 'gamma': 1, 'kernel': 'rbf'}</td>\n",
       "    </tr>\n",
       "  </tbody>\n",
       "</table>\n",
       "</div>"
      ],
      "text/plain": [
       "    Test Size  Random State  Accuracy  Precision    Recall  F1 Score  \\\n",
       "0         0.5             7  0.813351   0.880063  0.813351  0.810171   \n",
       "1         0.5            69  0.815943   0.851796  0.815943  0.815239   \n",
       "2         0.5           101  0.810110   0.849772  0.810110  0.809269   \n",
       "3         0.4             7  0.846840   0.887363  0.846840  0.844025   \n",
       "4         0.4            69  0.846840   0.891665  0.846840  0.843572   \n",
       "5         0.4           101  0.824959   0.862523  0.824959  0.822258   \n",
       "6         0.3             7  0.881210   0.903127  0.881210  0.880835   \n",
       "7         0.3            69  0.855292   0.899552  0.855292  0.851904   \n",
       "8         0.3           101  0.855292   0.880519  0.855292  0.852707   \n",
       "9         0.2             7  0.902755   0.919169  0.902755  0.903491   \n",
       "10        0.2            69  0.876823   0.896684  0.876823  0.873027   \n",
       "11        0.2           101  0.884927   0.902779  0.884927  0.884331   \n",
       "\n",
       "                                Best Param  \n",
       "0    {'C': 1, 'gamma': 1, 'kernel': 'rbf'}  \n",
       "1   {'C': 10, 'gamma': 1, 'kernel': 'rbf'}  \n",
       "2    {'C': 1, 'gamma': 1, 'kernel': 'rbf'}  \n",
       "3    {'C': 1, 'gamma': 1, 'kernel': 'rbf'}  \n",
       "4    {'C': 1, 'gamma': 1, 'kernel': 'rbf'}  \n",
       "5    {'C': 1, 'gamma': 1, 'kernel': 'rbf'}  \n",
       "6    {'C': 1, 'gamma': 1, 'kernel': 'rbf'}  \n",
       "7    {'C': 1, 'gamma': 1, 'kernel': 'rbf'}  \n",
       "8    {'C': 1, 'gamma': 1, 'kernel': 'rbf'}  \n",
       "9    {'C': 1, 'gamma': 1, 'kernel': 'rbf'}  \n",
       "10   {'C': 1, 'gamma': 1, 'kernel': 'rbf'}  \n",
       "11   {'C': 1, 'gamma': 1, 'kernel': 'rbf'}  "
      ]
     },
     "execution_count": 66,
     "metadata": {},
     "output_type": "execute_result"
    }
   ],
   "source": [
    "temp5L_SL_ROS = []\n",
    "\n",
    "y = merge_5L_ROS[['CGPA']]\n",
    "X = merge_5L_ROS[['Relationship Status', 'Scholarship', 'PTPTN', 'Skipping Class', 'Additional Course',\n",
    "                    'Study Behavior', 'Study Time', 'Extra Curricular Activities', 'Part-time Job', 'Commute Time',\n",
    "                    'Gaming', 'Alcohol Consumption', 'I have enough free time after class', 'Social Interaction',\n",
    "                    'I hang out with friends']]\n",
    "\n",
    "for i in [0.5,0.4,0.3,0.2]:\n",
    "    for j in rand_states:\n",
    "        X_train, X_test, y_train, y_test = train_test_split(X, y, test_size=i, random_state=j)\n",
    "        param_grid = {'C': [0.1, 1, 10, 100],\n",
    "                      'gamma': [1, 0.1, 0.01, 0.001],\n",
    "                      'kernel': ['rbf','sigmoid']}\n",
    "\n",
    "        model = GridSearchCV(SVC(random_state=0), param_grid, refit=True, n_jobs=-1, cv=10, verbose=1)\n",
    "        model.fit(X_train, y_train)\n",
    "        pred = model.predict(X_test)\n",
    "        \n",
    "        acc = accuracy_score(y_test,pred)\n",
    "        pre = precision_score(y_test, pred, average='weighted')\n",
    "        recall = recall_score(y_test, pred, average='weighted')\n",
    "        f1 = f1_score(y_test, pred, average='weighted')\n",
    "        param = model.best_params_\n",
    "    \n",
    "        temp5L_SL_ROS.append([i,j,acc,pre,recall,f1,param])\n",
    "        \n",
    "df5L_SL_ROS = pd.DataFrame(columns=['Test Size','Random State','Accuracy','Precision','Recall','F1 Score','Best Param'],data=temp5L_SL_ROS)\n",
    "df5L_SL_ROS"
   ]
  },
  {
   "cell_type": "code",
   "execution_count": 67,
   "id": "5559c046-2294-4150-b9bb-3d2e3888679a",
   "metadata": {},
   "outputs": [
    {
     "data": {
      "text/html": [
       "<div>\n",
       "<style scoped>\n",
       "    .dataframe tbody tr th:only-of-type {\n",
       "        vertical-align: middle;\n",
       "    }\n",
       "\n",
       "    .dataframe tbody tr th {\n",
       "        vertical-align: top;\n",
       "    }\n",
       "\n",
       "    .dataframe thead th {\n",
       "        text-align: right;\n",
       "    }\n",
       "</style>\n",
       "<table border=\"1\" class=\"dataframe\">\n",
       "  <thead>\n",
       "    <tr style=\"text-align: right;\">\n",
       "      <th></th>\n",
       "      <th>Accuracy</th>\n",
       "      <th>Precision</th>\n",
       "      <th>Recall</th>\n",
       "      <th>F1 Score</th>\n",
       "    </tr>\n",
       "    <tr>\n",
       "      <th>Test Size</th>\n",
       "      <th></th>\n",
       "      <th></th>\n",
       "      <th></th>\n",
       "      <th></th>\n",
       "    </tr>\n",
       "  </thead>\n",
       "  <tbody>\n",
       "    <tr>\n",
       "      <th>0.2</th>\n",
       "      <td>0.888169</td>\n",
       "      <td>0.906211</td>\n",
       "      <td>0.888169</td>\n",
       "      <td>0.886950</td>\n",
       "    </tr>\n",
       "    <tr>\n",
       "      <th>0.3</th>\n",
       "      <td>0.863931</td>\n",
       "      <td>0.894399</td>\n",
       "      <td>0.863931</td>\n",
       "      <td>0.861815</td>\n",
       "    </tr>\n",
       "    <tr>\n",
       "      <th>0.4</th>\n",
       "      <td>0.839546</td>\n",
       "      <td>0.880517</td>\n",
       "      <td>0.839546</td>\n",
       "      <td>0.836618</td>\n",
       "    </tr>\n",
       "    <tr>\n",
       "      <th>0.5</th>\n",
       "      <td>0.813135</td>\n",
       "      <td>0.860544</td>\n",
       "      <td>0.813135</td>\n",
       "      <td>0.811560</td>\n",
       "    </tr>\n",
       "  </tbody>\n",
       "</table>\n",
       "</div>"
      ],
      "text/plain": [
       "           Accuracy  Precision    Recall  F1 Score\n",
       "Test Size                                         \n",
       "0.2        0.888169   0.906211  0.888169  0.886950\n",
       "0.3        0.863931   0.894399  0.863931  0.861815\n",
       "0.4        0.839546   0.880517  0.839546  0.836618\n",
       "0.5        0.813135   0.860544  0.813135  0.811560"
      ]
     },
     "execution_count": 67,
     "metadata": {},
     "output_type": "execute_result"
    }
   ],
   "source": [
    "df5L_SL_ROS.groupby('Test Size')[['Accuracy','Precision','Recall','F1 Score']].mean()"
   ]
  },
  {
   "cell_type": "markdown",
   "id": "3692bd89-4fb1-4f8b-9aee-83b640bf7832",
   "metadata": {},
   "source": [
    "### SL after SMOTE"
   ]
  },
  {
   "cell_type": "code",
   "execution_count": 68,
   "id": "83ac36df-2852-4240-ac3a-2390420d37c8",
   "metadata": {},
   "outputs": [
    {
     "name": "stdout",
     "output_type": "stream",
     "text": [
      "Fitting 10 folds for each of 32 candidates, totalling 320 fits\n"
     ]
    },
    {
     "name": "stderr",
     "output_type": "stream",
     "text": [
      "C:\\Users\\hazel\\anaconda3\\Lib\\site-packages\\sklearn\\utils\\validation.py:1143: DataConversionWarning: A column-vector y was passed when a 1d array was expected. Please change the shape of y to (n_samples, ), for example using ravel().\n",
      "  y = column_or_1d(y, warn=True)\n"
     ]
    },
    {
     "name": "stdout",
     "output_type": "stream",
     "text": [
      "Fitting 10 folds for each of 32 candidates, totalling 320 fits\n"
     ]
    },
    {
     "name": "stderr",
     "output_type": "stream",
     "text": [
      "C:\\Users\\hazel\\anaconda3\\Lib\\site-packages\\sklearn\\utils\\validation.py:1143: DataConversionWarning: A column-vector y was passed when a 1d array was expected. Please change the shape of y to (n_samples, ), for example using ravel().\n",
      "  y = column_or_1d(y, warn=True)\n"
     ]
    },
    {
     "name": "stdout",
     "output_type": "stream",
     "text": [
      "Fitting 10 folds for each of 32 candidates, totalling 320 fits\n"
     ]
    },
    {
     "name": "stderr",
     "output_type": "stream",
     "text": [
      "C:\\Users\\hazel\\anaconda3\\Lib\\site-packages\\sklearn\\utils\\validation.py:1143: DataConversionWarning: A column-vector y was passed when a 1d array was expected. Please change the shape of y to (n_samples, ), for example using ravel().\n",
      "  y = column_or_1d(y, warn=True)\n"
     ]
    },
    {
     "name": "stdout",
     "output_type": "stream",
     "text": [
      "Fitting 10 folds for each of 32 candidates, totalling 320 fits\n"
     ]
    },
    {
     "name": "stderr",
     "output_type": "stream",
     "text": [
      "C:\\Users\\hazel\\anaconda3\\Lib\\site-packages\\sklearn\\utils\\validation.py:1143: DataConversionWarning: A column-vector y was passed when a 1d array was expected. Please change the shape of y to (n_samples, ), for example using ravel().\n",
      "  y = column_or_1d(y, warn=True)\n"
     ]
    },
    {
     "name": "stdout",
     "output_type": "stream",
     "text": [
      "Fitting 10 folds for each of 32 candidates, totalling 320 fits\n"
     ]
    },
    {
     "name": "stderr",
     "output_type": "stream",
     "text": [
      "C:\\Users\\hazel\\anaconda3\\Lib\\site-packages\\sklearn\\utils\\validation.py:1143: DataConversionWarning: A column-vector y was passed when a 1d array was expected. Please change the shape of y to (n_samples, ), for example using ravel().\n",
      "  y = column_or_1d(y, warn=True)\n"
     ]
    },
    {
     "name": "stdout",
     "output_type": "stream",
     "text": [
      "Fitting 10 folds for each of 32 candidates, totalling 320 fits\n"
     ]
    },
    {
     "name": "stderr",
     "output_type": "stream",
     "text": [
      "C:\\Users\\hazel\\anaconda3\\Lib\\site-packages\\sklearn\\utils\\validation.py:1143: DataConversionWarning: A column-vector y was passed when a 1d array was expected. Please change the shape of y to (n_samples, ), for example using ravel().\n",
      "  y = column_or_1d(y, warn=True)\n"
     ]
    },
    {
     "name": "stdout",
     "output_type": "stream",
     "text": [
      "Fitting 10 folds for each of 32 candidates, totalling 320 fits\n"
     ]
    },
    {
     "name": "stderr",
     "output_type": "stream",
     "text": [
      "C:\\Users\\hazel\\anaconda3\\Lib\\site-packages\\sklearn\\utils\\validation.py:1143: DataConversionWarning: A column-vector y was passed when a 1d array was expected. Please change the shape of y to (n_samples, ), for example using ravel().\n",
      "  y = column_or_1d(y, warn=True)\n"
     ]
    },
    {
     "name": "stdout",
     "output_type": "stream",
     "text": [
      "Fitting 10 folds for each of 32 candidates, totalling 320 fits\n"
     ]
    },
    {
     "name": "stderr",
     "output_type": "stream",
     "text": [
      "C:\\Users\\hazel\\anaconda3\\Lib\\site-packages\\sklearn\\utils\\validation.py:1143: DataConversionWarning: A column-vector y was passed when a 1d array was expected. Please change the shape of y to (n_samples, ), for example using ravel().\n",
      "  y = column_or_1d(y, warn=True)\n"
     ]
    },
    {
     "name": "stdout",
     "output_type": "stream",
     "text": [
      "Fitting 10 folds for each of 32 candidates, totalling 320 fits\n"
     ]
    },
    {
     "name": "stderr",
     "output_type": "stream",
     "text": [
      "C:\\Users\\hazel\\anaconda3\\Lib\\site-packages\\sklearn\\utils\\validation.py:1143: DataConversionWarning: A column-vector y was passed when a 1d array was expected. Please change the shape of y to (n_samples, ), for example using ravel().\n",
      "  y = column_or_1d(y, warn=True)\n"
     ]
    },
    {
     "name": "stdout",
     "output_type": "stream",
     "text": [
      "Fitting 10 folds for each of 32 candidates, totalling 320 fits\n"
     ]
    },
    {
     "name": "stderr",
     "output_type": "stream",
     "text": [
      "C:\\Users\\hazel\\anaconda3\\Lib\\site-packages\\sklearn\\utils\\validation.py:1143: DataConversionWarning: A column-vector y was passed when a 1d array was expected. Please change the shape of y to (n_samples, ), for example using ravel().\n",
      "  y = column_or_1d(y, warn=True)\n"
     ]
    },
    {
     "name": "stdout",
     "output_type": "stream",
     "text": [
      "Fitting 10 folds for each of 32 candidates, totalling 320 fits\n"
     ]
    },
    {
     "name": "stderr",
     "output_type": "stream",
     "text": [
      "C:\\Users\\hazel\\anaconda3\\Lib\\site-packages\\sklearn\\utils\\validation.py:1143: DataConversionWarning: A column-vector y was passed when a 1d array was expected. Please change the shape of y to (n_samples, ), for example using ravel().\n",
      "  y = column_or_1d(y, warn=True)\n"
     ]
    },
    {
     "name": "stdout",
     "output_type": "stream",
     "text": [
      "Fitting 10 folds for each of 32 candidates, totalling 320 fits\n"
     ]
    },
    {
     "name": "stderr",
     "output_type": "stream",
     "text": [
      "C:\\Users\\hazel\\anaconda3\\Lib\\site-packages\\sklearn\\utils\\validation.py:1143: DataConversionWarning: A column-vector y was passed when a 1d array was expected. Please change the shape of y to (n_samples, ), for example using ravel().\n",
      "  y = column_or_1d(y, warn=True)\n"
     ]
    },
    {
     "data": {
      "text/html": [
       "<div>\n",
       "<style scoped>\n",
       "    .dataframe tbody tr th:only-of-type {\n",
       "        vertical-align: middle;\n",
       "    }\n",
       "\n",
       "    .dataframe tbody tr th {\n",
       "        vertical-align: top;\n",
       "    }\n",
       "\n",
       "    .dataframe thead th {\n",
       "        text-align: right;\n",
       "    }\n",
       "</style>\n",
       "<table border=\"1\" class=\"dataframe\">\n",
       "  <thead>\n",
       "    <tr style=\"text-align: right;\">\n",
       "      <th></th>\n",
       "      <th>Test Size</th>\n",
       "      <th>Random State</th>\n",
       "      <th>Accuracy</th>\n",
       "      <th>Precision</th>\n",
       "      <th>Recall</th>\n",
       "      <th>F1 Score</th>\n",
       "      <th>Best Param</th>\n",
       "    </tr>\n",
       "  </thead>\n",
       "  <tbody>\n",
       "    <tr>\n",
       "      <th>0</th>\n",
       "      <td>0.5</td>\n",
       "      <td>7</td>\n",
       "      <td>0.636423</td>\n",
       "      <td>0.657687</td>\n",
       "      <td>0.636423</td>\n",
       "      <td>0.628492</td>\n",
       "      <td>{'C': 10, 'gamma': 1, 'kernel': 'rbf'}</td>\n",
       "    </tr>\n",
       "    <tr>\n",
       "      <th>1</th>\n",
       "      <td>0.5</td>\n",
       "      <td>69</td>\n",
       "      <td>0.596241</td>\n",
       "      <td>0.627982</td>\n",
       "      <td>0.596241</td>\n",
       "      <td>0.596554</td>\n",
       "      <td>{'C': 10, 'gamma': 1, 'kernel': 'rbf'}</td>\n",
       "    </tr>\n",
       "    <tr>\n",
       "      <th>2</th>\n",
       "      <td>0.5</td>\n",
       "      <td>101</td>\n",
       "      <td>0.599482</td>\n",
       "      <td>0.624986</td>\n",
       "      <td>0.599482</td>\n",
       "      <td>0.605699</td>\n",
       "      <td>{'C': 10, 'gamma': 1, 'kernel': 'rbf'}</td>\n",
       "    </tr>\n",
       "    <tr>\n",
       "      <th>3</th>\n",
       "      <td>0.4</td>\n",
       "      <td>7</td>\n",
       "      <td>0.642626</td>\n",
       "      <td>0.652390</td>\n",
       "      <td>0.642626</td>\n",
       "      <td>0.637348</td>\n",
       "      <td>{'C': 10, 'gamma': 1, 'kernel': 'rbf'}</td>\n",
       "    </tr>\n",
       "    <tr>\n",
       "      <th>4</th>\n",
       "      <td>0.4</td>\n",
       "      <td>69</td>\n",
       "      <td>0.620746</td>\n",
       "      <td>0.658986</td>\n",
       "      <td>0.620746</td>\n",
       "      <td>0.619589</td>\n",
       "      <td>{'C': 10, 'gamma': 1, 'kernel': 'rbf'}</td>\n",
       "    </tr>\n",
       "    <tr>\n",
       "      <th>5</th>\n",
       "      <td>0.4</td>\n",
       "      <td>101</td>\n",
       "      <td>0.615073</td>\n",
       "      <td>0.639326</td>\n",
       "      <td>0.615073</td>\n",
       "      <td>0.619224</td>\n",
       "      <td>{'C': 10, 'gamma': 1, 'kernel': 'rbf'}</td>\n",
       "    </tr>\n",
       "    <tr>\n",
       "      <th>6</th>\n",
       "      <td>0.3</td>\n",
       "      <td>7</td>\n",
       "      <td>0.640389</td>\n",
       "      <td>0.648945</td>\n",
       "      <td>0.640389</td>\n",
       "      <td>0.638150</td>\n",
       "      <td>{'C': 10, 'gamma': 1, 'kernel': 'rbf'}</td>\n",
       "    </tr>\n",
       "    <tr>\n",
       "      <th>7</th>\n",
       "      <td>0.3</td>\n",
       "      <td>69</td>\n",
       "      <td>0.613391</td>\n",
       "      <td>0.645584</td>\n",
       "      <td>0.613391</td>\n",
       "      <td>0.614145</td>\n",
       "      <td>{'C': 10, 'gamma': 1, 'kernel': 'rbf'}</td>\n",
       "    </tr>\n",
       "    <tr>\n",
       "      <th>8</th>\n",
       "      <td>0.3</td>\n",
       "      <td>101</td>\n",
       "      <td>0.624190</td>\n",
       "      <td>0.648708</td>\n",
       "      <td>0.624190</td>\n",
       "      <td>0.625079</td>\n",
       "      <td>{'C': 10, 'gamma': 1, 'kernel': 'rbf'}</td>\n",
       "    </tr>\n",
       "    <tr>\n",
       "      <th>9</th>\n",
       "      <td>0.2</td>\n",
       "      <td>7</td>\n",
       "      <td>0.666126</td>\n",
       "      <td>0.676103</td>\n",
       "      <td>0.666126</td>\n",
       "      <td>0.663197</td>\n",
       "      <td>{'C': 10, 'gamma': 1, 'kernel': 'rbf'}</td>\n",
       "    </tr>\n",
       "    <tr>\n",
       "      <th>10</th>\n",
       "      <td>0.2</td>\n",
       "      <td>69</td>\n",
       "      <td>0.640194</td>\n",
       "      <td>0.668347</td>\n",
       "      <td>0.640194</td>\n",
       "      <td>0.640276</td>\n",
       "      <td>{'C': 1, 'gamma': 1, 'kernel': 'rbf'}</td>\n",
       "    </tr>\n",
       "    <tr>\n",
       "      <th>11</th>\n",
       "      <td>0.2</td>\n",
       "      <td>101</td>\n",
       "      <td>0.620746</td>\n",
       "      <td>0.649566</td>\n",
       "      <td>0.620746</td>\n",
       "      <td>0.625012</td>\n",
       "      <td>{'C': 10, 'gamma': 1, 'kernel': 'rbf'}</td>\n",
       "    </tr>\n",
       "  </tbody>\n",
       "</table>\n",
       "</div>"
      ],
      "text/plain": [
       "    Test Size  Random State  Accuracy  Precision    Recall  F1 Score  \\\n",
       "0         0.5             7  0.636423   0.657687  0.636423  0.628492   \n",
       "1         0.5            69  0.596241   0.627982  0.596241  0.596554   \n",
       "2         0.5           101  0.599482   0.624986  0.599482  0.605699   \n",
       "3         0.4             7  0.642626   0.652390  0.642626  0.637348   \n",
       "4         0.4            69  0.620746   0.658986  0.620746  0.619589   \n",
       "5         0.4           101  0.615073   0.639326  0.615073  0.619224   \n",
       "6         0.3             7  0.640389   0.648945  0.640389  0.638150   \n",
       "7         0.3            69  0.613391   0.645584  0.613391  0.614145   \n",
       "8         0.3           101  0.624190   0.648708  0.624190  0.625079   \n",
       "9         0.2             7  0.666126   0.676103  0.666126  0.663197   \n",
       "10        0.2            69  0.640194   0.668347  0.640194  0.640276   \n",
       "11        0.2           101  0.620746   0.649566  0.620746  0.625012   \n",
       "\n",
       "                                Best Param  \n",
       "0   {'C': 10, 'gamma': 1, 'kernel': 'rbf'}  \n",
       "1   {'C': 10, 'gamma': 1, 'kernel': 'rbf'}  \n",
       "2   {'C': 10, 'gamma': 1, 'kernel': 'rbf'}  \n",
       "3   {'C': 10, 'gamma': 1, 'kernel': 'rbf'}  \n",
       "4   {'C': 10, 'gamma': 1, 'kernel': 'rbf'}  \n",
       "5   {'C': 10, 'gamma': 1, 'kernel': 'rbf'}  \n",
       "6   {'C': 10, 'gamma': 1, 'kernel': 'rbf'}  \n",
       "7   {'C': 10, 'gamma': 1, 'kernel': 'rbf'}  \n",
       "8   {'C': 10, 'gamma': 1, 'kernel': 'rbf'}  \n",
       "9   {'C': 10, 'gamma': 1, 'kernel': 'rbf'}  \n",
       "10   {'C': 1, 'gamma': 1, 'kernel': 'rbf'}  \n",
       "11  {'C': 10, 'gamma': 1, 'kernel': 'rbf'}  "
      ]
     },
     "execution_count": 68,
     "metadata": {},
     "output_type": "execute_result"
    }
   ],
   "source": [
    "temp5L_SL_SMOTE = []\n",
    "\n",
    "y = merge_5L_SMOTE[['CGPA']]\n",
    "X = merge_5L_SMOTE[['Relationship Status', 'Scholarship', 'PTPTN', 'Skipping Class', 'Additional Course',\n",
    "                    'Study Behavior', 'Study Time', 'Extra Curricular Activities', 'Part-time Job', 'Commute Time',\n",
    "                    'Gaming', 'Alcohol Consumption', 'I have enough free time after class', 'Social Interaction',\n",
    "                    'I hang out with friends']]\n",
    "\n",
    "for i in [0.5,0.4,0.3,0.2]:\n",
    "    for j in rand_states:\n",
    "        X_train, X_test, y_train, y_test = train_test_split(X, y, test_size=i, random_state=j)\n",
    "        param_grid = {'C': [0.1, 1, 10, 100],\n",
    "                      'gamma': [1, 0.1, 0.01, 0.001],\n",
    "                      'kernel': ['rbf','sigmoid']}\n",
    "\n",
    "        model = GridSearchCV(SVC(random_state=0), param_grid, refit=True, n_jobs=-1, cv=10, verbose=1)\n",
    "        model.fit(X_train, y_train)\n",
    "        pred = model.predict(X_test)\n",
    "        \n",
    "        acc = accuracy_score(y_test,pred)\n",
    "        pre = precision_score(y_test, pred, average='weighted')\n",
    "        recall = recall_score(y_test, pred, average='weighted')\n",
    "        f1 = f1_score(y_test, pred, average='weighted')\n",
    "        param = model.best_params_\n",
    "    \n",
    "        temp5L_SL_SMOTE.append([i,j,acc,pre,recall,f1,param])\n",
    "        \n",
    "df5L_SL_SMOTE = pd.DataFrame(columns=['Test Size','Random State','Accuracy','Precision','Recall','F1 Score','Best Param'],data=temp5L_SL_SMOTE)\n",
    "df5L_SL_SMOTE"
   ]
  },
  {
   "cell_type": "code",
   "execution_count": 69,
   "id": "2d277af9-2fda-412b-8e9f-3c20b6674244",
   "metadata": {},
   "outputs": [
    {
     "data": {
      "text/html": [
       "<div>\n",
       "<style scoped>\n",
       "    .dataframe tbody tr th:only-of-type {\n",
       "        vertical-align: middle;\n",
       "    }\n",
       "\n",
       "    .dataframe tbody tr th {\n",
       "        vertical-align: top;\n",
       "    }\n",
       "\n",
       "    .dataframe thead th {\n",
       "        text-align: right;\n",
       "    }\n",
       "</style>\n",
       "<table border=\"1\" class=\"dataframe\">\n",
       "  <thead>\n",
       "    <tr style=\"text-align: right;\">\n",
       "      <th></th>\n",
       "      <th>Accuracy</th>\n",
       "      <th>Precision</th>\n",
       "      <th>Recall</th>\n",
       "      <th>F1 Score</th>\n",
       "    </tr>\n",
       "    <tr>\n",
       "      <th>Test Size</th>\n",
       "      <th></th>\n",
       "      <th></th>\n",
       "      <th></th>\n",
       "      <th></th>\n",
       "    </tr>\n",
       "  </thead>\n",
       "  <tbody>\n",
       "    <tr>\n",
       "      <th>0.2</th>\n",
       "      <td>0.642355</td>\n",
       "      <td>0.664672</td>\n",
       "      <td>0.642355</td>\n",
       "      <td>0.642828</td>\n",
       "    </tr>\n",
       "    <tr>\n",
       "      <th>0.3</th>\n",
       "      <td>0.625990</td>\n",
       "      <td>0.647746</td>\n",
       "      <td>0.625990</td>\n",
       "      <td>0.625791</td>\n",
       "    </tr>\n",
       "    <tr>\n",
       "      <th>0.4</th>\n",
       "      <td>0.626148</td>\n",
       "      <td>0.650234</td>\n",
       "      <td>0.626148</td>\n",
       "      <td>0.625387</td>\n",
       "    </tr>\n",
       "    <tr>\n",
       "      <th>0.5</th>\n",
       "      <td>0.610715</td>\n",
       "      <td>0.636885</td>\n",
       "      <td>0.610715</td>\n",
       "      <td>0.610248</td>\n",
       "    </tr>\n",
       "  </tbody>\n",
       "</table>\n",
       "</div>"
      ],
      "text/plain": [
       "           Accuracy  Precision    Recall  F1 Score\n",
       "Test Size                                         \n",
       "0.2        0.642355   0.664672  0.642355  0.642828\n",
       "0.3        0.625990   0.647746  0.625990  0.625791\n",
       "0.4        0.626148   0.650234  0.626148  0.625387\n",
       "0.5        0.610715   0.636885  0.610715  0.610248"
      ]
     },
     "execution_count": 69,
     "metadata": {},
     "output_type": "execute_result"
    }
   ],
   "source": [
    "df5L_SL_SMOTE.groupby('Test Size')[['Accuracy','Precision','Recall','F1 Score']].mean()"
   ]
  },
  {
   "cell_type": "markdown",
   "id": "62f052bd-eeeb-42a7-b98e-ac027d84b59c",
   "metadata": {},
   "source": [
    "## All Attributes"
   ]
  },
  {
   "cell_type": "markdown",
   "id": "5bb849ea-e678-4597-90c5-3d28c6d105f3",
   "metadata": {},
   "source": [
    "### AA before Data Balancing"
   ]
  },
  {
   "cell_type": "code",
   "execution_count": 70,
   "id": "93c06886-92c2-4f25-80fe-3f19f7eb1202",
   "metadata": {},
   "outputs": [
    {
     "name": "stdout",
     "output_type": "stream",
     "text": [
      "X: (1287, 40) y: (1287, 1)\n",
      "Fitting 10 folds for each of 32 candidates, totalling 320 fits\n"
     ]
    },
    {
     "name": "stderr",
     "output_type": "stream",
     "text": [
      "C:\\Users\\hazel\\anaconda3\\Lib\\site-packages\\sklearn\\model_selection\\_split.py:700: UserWarning: The least populated class in y has only 8 members, which is less than n_splits=10.\n",
      "  warnings.warn(\n",
      "C:\\Users\\hazel\\anaconda3\\Lib\\site-packages\\sklearn\\utils\\validation.py:1143: DataConversionWarning: A column-vector y was passed when a 1d array was expected. Please change the shape of y to (n_samples, ), for example using ravel().\n",
      "  y = column_or_1d(y, warn=True)\n",
      "C:\\Users\\hazel\\anaconda3\\Lib\\site-packages\\sklearn\\metrics\\_classification.py:1344: UndefinedMetricWarning: Precision is ill-defined and being set to 0.0 in labels with no predicted samples. Use `zero_division` parameter to control this behavior.\n",
      "  _warn_prf(average, modifier, msg_start, len(result))\n",
      "C:\\Users\\hazel\\anaconda3\\Lib\\site-packages\\sklearn\\model_selection\\_split.py:700: UserWarning: The least populated class in y has only 8 members, which is less than n_splits=10.\n",
      "  warnings.warn(\n"
     ]
    },
    {
     "name": "stdout",
     "output_type": "stream",
     "text": [
      "Fitting 10 folds for each of 32 candidates, totalling 320 fits\n"
     ]
    },
    {
     "name": "stderr",
     "output_type": "stream",
     "text": [
      "C:\\Users\\hazel\\anaconda3\\Lib\\site-packages\\sklearn\\utils\\validation.py:1143: DataConversionWarning: A column-vector y was passed when a 1d array was expected. Please change the shape of y to (n_samples, ), for example using ravel().\n",
      "  y = column_or_1d(y, warn=True)\n",
      "C:\\Users\\hazel\\anaconda3\\Lib\\site-packages\\sklearn\\metrics\\_classification.py:1344: UndefinedMetricWarning: Precision is ill-defined and being set to 0.0 in labels with no predicted samples. Use `zero_division` parameter to control this behavior.\n",
      "  _warn_prf(average, modifier, msg_start, len(result))\n",
      "C:\\Users\\hazel\\anaconda3\\Lib\\site-packages\\sklearn\\model_selection\\_split.py:700: UserWarning: The least populated class in y has only 8 members, which is less than n_splits=10.\n",
      "  warnings.warn(\n"
     ]
    },
    {
     "name": "stdout",
     "output_type": "stream",
     "text": [
      "Fitting 10 folds for each of 32 candidates, totalling 320 fits\n"
     ]
    },
    {
     "name": "stderr",
     "output_type": "stream",
     "text": [
      "C:\\Users\\hazel\\anaconda3\\Lib\\site-packages\\sklearn\\utils\\validation.py:1143: DataConversionWarning: A column-vector y was passed when a 1d array was expected. Please change the shape of y to (n_samples, ), for example using ravel().\n",
      "  y = column_or_1d(y, warn=True)\n",
      "C:\\Users\\hazel\\anaconda3\\Lib\\site-packages\\sklearn\\metrics\\_classification.py:1344: UndefinedMetricWarning: Precision is ill-defined and being set to 0.0 in labels with no predicted samples. Use `zero_division` parameter to control this behavior.\n",
      "  _warn_prf(average, modifier, msg_start, len(result))\n"
     ]
    },
    {
     "name": "stdout",
     "output_type": "stream",
     "text": [
      "Fitting 10 folds for each of 32 candidates, totalling 320 fits\n"
     ]
    },
    {
     "name": "stderr",
     "output_type": "stream",
     "text": [
      "C:\\Users\\hazel\\anaconda3\\Lib\\site-packages\\sklearn\\utils\\validation.py:1143: DataConversionWarning: A column-vector y was passed when a 1d array was expected. Please change the shape of y to (n_samples, ), for example using ravel().\n",
      "  y = column_or_1d(y, warn=True)\n",
      "C:\\Users\\hazel\\anaconda3\\Lib\\site-packages\\sklearn\\metrics\\_classification.py:1344: UndefinedMetricWarning: Precision is ill-defined and being set to 0.0 in labels with no predicted samples. Use `zero_division` parameter to control this behavior.\n",
      "  _warn_prf(average, modifier, msg_start, len(result))\n",
      "C:\\Users\\hazel\\anaconda3\\Lib\\site-packages\\sklearn\\model_selection\\_split.py:700: UserWarning: The least populated class in y has only 9 members, which is less than n_splits=10.\n",
      "  warnings.warn(\n"
     ]
    },
    {
     "name": "stdout",
     "output_type": "stream",
     "text": [
      "Fitting 10 folds for each of 32 candidates, totalling 320 fits\n"
     ]
    },
    {
     "name": "stderr",
     "output_type": "stream",
     "text": [
      "C:\\Users\\hazel\\anaconda3\\Lib\\site-packages\\sklearn\\utils\\validation.py:1143: DataConversionWarning: A column-vector y was passed when a 1d array was expected. Please change the shape of y to (n_samples, ), for example using ravel().\n",
      "  y = column_or_1d(y, warn=True)\n",
      "C:\\Users\\hazel\\anaconda3\\Lib\\site-packages\\sklearn\\metrics\\_classification.py:1344: UndefinedMetricWarning: Precision is ill-defined and being set to 0.0 in labels with no predicted samples. Use `zero_division` parameter to control this behavior.\n",
      "  _warn_prf(average, modifier, msg_start, len(result))\n"
     ]
    },
    {
     "name": "stdout",
     "output_type": "stream",
     "text": [
      "Fitting 10 folds for each of 32 candidates, totalling 320 fits\n"
     ]
    },
    {
     "name": "stderr",
     "output_type": "stream",
     "text": [
      "C:\\Users\\hazel\\anaconda3\\Lib\\site-packages\\sklearn\\utils\\validation.py:1143: DataConversionWarning: A column-vector y was passed when a 1d array was expected. Please change the shape of y to (n_samples, ), for example using ravel().\n",
      "  y = column_or_1d(y, warn=True)\n",
      "C:\\Users\\hazel\\anaconda3\\Lib\\site-packages\\sklearn\\metrics\\_classification.py:1344: UndefinedMetricWarning: Precision is ill-defined and being set to 0.0 in labels with no predicted samples. Use `zero_division` parameter to control this behavior.\n",
      "  _warn_prf(average, modifier, msg_start, len(result))\n"
     ]
    },
    {
     "name": "stdout",
     "output_type": "stream",
     "text": [
      "Fitting 10 folds for each of 32 candidates, totalling 320 fits\n"
     ]
    },
    {
     "name": "stderr",
     "output_type": "stream",
     "text": [
      "C:\\Users\\hazel\\anaconda3\\Lib\\site-packages\\sklearn\\utils\\validation.py:1143: DataConversionWarning: A column-vector y was passed when a 1d array was expected. Please change the shape of y to (n_samples, ), for example using ravel().\n",
      "  y = column_or_1d(y, warn=True)\n",
      "C:\\Users\\hazel\\anaconda3\\Lib\\site-packages\\sklearn\\metrics\\_classification.py:1344: UndefinedMetricWarning: Precision is ill-defined and being set to 0.0 in labels with no predicted samples. Use `zero_division` parameter to control this behavior.\n",
      "  _warn_prf(average, modifier, msg_start, len(result))\n"
     ]
    },
    {
     "name": "stdout",
     "output_type": "stream",
     "text": [
      "Fitting 10 folds for each of 32 candidates, totalling 320 fits\n"
     ]
    },
    {
     "name": "stderr",
     "output_type": "stream",
     "text": [
      "C:\\Users\\hazel\\anaconda3\\Lib\\site-packages\\sklearn\\utils\\validation.py:1143: DataConversionWarning: A column-vector y was passed when a 1d array was expected. Please change the shape of y to (n_samples, ), for example using ravel().\n",
      "  y = column_or_1d(y, warn=True)\n",
      "C:\\Users\\hazel\\anaconda3\\Lib\\site-packages\\sklearn\\metrics\\_classification.py:1344: UndefinedMetricWarning: Precision is ill-defined and being set to 0.0 in labels with no predicted samples. Use `zero_division` parameter to control this behavior.\n",
      "  _warn_prf(average, modifier, msg_start, len(result))\n"
     ]
    },
    {
     "name": "stdout",
     "output_type": "stream",
     "text": [
      "Fitting 10 folds for each of 32 candidates, totalling 320 fits\n"
     ]
    },
    {
     "name": "stderr",
     "output_type": "stream",
     "text": [
      "C:\\Users\\hazel\\anaconda3\\Lib\\site-packages\\sklearn\\utils\\validation.py:1143: DataConversionWarning: A column-vector y was passed when a 1d array was expected. Please change the shape of y to (n_samples, ), for example using ravel().\n",
      "  y = column_or_1d(y, warn=True)\n",
      "C:\\Users\\hazel\\anaconda3\\Lib\\site-packages\\sklearn\\metrics\\_classification.py:1344: UndefinedMetricWarning: Precision is ill-defined and being set to 0.0 in labels with no predicted samples. Use `zero_division` parameter to control this behavior.\n",
      "  _warn_prf(average, modifier, msg_start, len(result))\n"
     ]
    },
    {
     "name": "stdout",
     "output_type": "stream",
     "text": [
      "Fitting 10 folds for each of 32 candidates, totalling 320 fits\n"
     ]
    },
    {
     "name": "stderr",
     "output_type": "stream",
     "text": [
      "C:\\Users\\hazel\\anaconda3\\Lib\\site-packages\\sklearn\\utils\\validation.py:1143: DataConversionWarning: A column-vector y was passed when a 1d array was expected. Please change the shape of y to (n_samples, ), for example using ravel().\n",
      "  y = column_or_1d(y, warn=True)\n",
      "C:\\Users\\hazel\\anaconda3\\Lib\\site-packages\\sklearn\\metrics\\_classification.py:1344: UndefinedMetricWarning: Precision is ill-defined and being set to 0.0 in labels with no predicted samples. Use `zero_division` parameter to control this behavior.\n",
      "  _warn_prf(average, modifier, msg_start, len(result))\n"
     ]
    },
    {
     "name": "stdout",
     "output_type": "stream",
     "text": [
      "Fitting 10 folds for each of 32 candidates, totalling 320 fits\n"
     ]
    },
    {
     "name": "stderr",
     "output_type": "stream",
     "text": [
      "C:\\Users\\hazel\\anaconda3\\Lib\\site-packages\\sklearn\\utils\\validation.py:1143: DataConversionWarning: A column-vector y was passed when a 1d array was expected. Please change the shape of y to (n_samples, ), for example using ravel().\n",
      "  y = column_or_1d(y, warn=True)\n",
      "C:\\Users\\hazel\\anaconda3\\Lib\\site-packages\\sklearn\\metrics\\_classification.py:1344: UndefinedMetricWarning: Precision is ill-defined and being set to 0.0 in labels with no predicted samples. Use `zero_division` parameter to control this behavior.\n",
      "  _warn_prf(average, modifier, msg_start, len(result))\n"
     ]
    },
    {
     "name": "stdout",
     "output_type": "stream",
     "text": [
      "Fitting 10 folds for each of 32 candidates, totalling 320 fits\n"
     ]
    },
    {
     "name": "stderr",
     "output_type": "stream",
     "text": [
      "C:\\Users\\hazel\\anaconda3\\Lib\\site-packages\\sklearn\\utils\\validation.py:1143: DataConversionWarning: A column-vector y was passed when a 1d array was expected. Please change the shape of y to (n_samples, ), for example using ravel().\n",
      "  y = column_or_1d(y, warn=True)\n",
      "C:\\Users\\hazel\\anaconda3\\Lib\\site-packages\\sklearn\\metrics\\_classification.py:1344: UndefinedMetricWarning: Precision is ill-defined and being set to 0.0 in labels with no predicted samples. Use `zero_division` parameter to control this behavior.\n",
      "  _warn_prf(average, modifier, msg_start, len(result))\n"
     ]
    },
    {
     "data": {
      "text/html": [
       "<div>\n",
       "<style scoped>\n",
       "    .dataframe tbody tr th:only-of-type {\n",
       "        vertical-align: middle;\n",
       "    }\n",
       "\n",
       "    .dataframe tbody tr th {\n",
       "        vertical-align: top;\n",
       "    }\n",
       "\n",
       "    .dataframe thead th {\n",
       "        text-align: right;\n",
       "    }\n",
       "</style>\n",
       "<table border=\"1\" class=\"dataframe\">\n",
       "  <thead>\n",
       "    <tr style=\"text-align: right;\">\n",
       "      <th></th>\n",
       "      <th>Test Size</th>\n",
       "      <th>Random State</th>\n",
       "      <th>Accuracy</th>\n",
       "      <th>Precision</th>\n",
       "      <th>Recall</th>\n",
       "      <th>F1 Score</th>\n",
       "      <th>Best Param</th>\n",
       "    </tr>\n",
       "  </thead>\n",
       "  <tbody>\n",
       "    <tr>\n",
       "      <th>0</th>\n",
       "      <td>0.5</td>\n",
       "      <td>7</td>\n",
       "      <td>0.459627</td>\n",
       "      <td>0.211257</td>\n",
       "      <td>0.459627</td>\n",
       "      <td>0.289467</td>\n",
       "      <td>{'C': 0.1, 'gamma': 0.001, 'kernel': 'sigmoid'}</td>\n",
       "    </tr>\n",
       "    <tr>\n",
       "      <th>1</th>\n",
       "      <td>0.5</td>\n",
       "      <td>69</td>\n",
       "      <td>0.445652</td>\n",
       "      <td>0.322186</td>\n",
       "      <td>0.445652</td>\n",
       "      <td>0.364755</td>\n",
       "      <td>{'C': 1, 'gamma': 0.001, 'kernel': 'rbf'}</td>\n",
       "    </tr>\n",
       "    <tr>\n",
       "      <th>2</th>\n",
       "      <td>0.5</td>\n",
       "      <td>101</td>\n",
       "      <td>0.500000</td>\n",
       "      <td>0.250000</td>\n",
       "      <td>0.500000</td>\n",
       "      <td>0.333333</td>\n",
       "      <td>{'C': 0.1, 'gamma': 1, 'kernel': 'rbf'}</td>\n",
       "    </tr>\n",
       "    <tr>\n",
       "      <th>3</th>\n",
       "      <td>0.4</td>\n",
       "      <td>7</td>\n",
       "      <td>0.450485</td>\n",
       "      <td>0.204208</td>\n",
       "      <td>0.450485</td>\n",
       "      <td>0.281026</td>\n",
       "      <td>{'C': 10, 'gamma': 0.1, 'kernel': 'rbf'}</td>\n",
       "    </tr>\n",
       "    <tr>\n",
       "      <th>4</th>\n",
       "      <td>0.4</td>\n",
       "      <td>69</td>\n",
       "      <td>0.493204</td>\n",
       "      <td>0.243250</td>\n",
       "      <td>0.493204</td>\n",
       "      <td>0.325810</td>\n",
       "      <td>{'C': 10, 'gamma': 0.1, 'kernel': 'rbf'}</td>\n",
       "    </tr>\n",
       "    <tr>\n",
       "      <th>5</th>\n",
       "      <td>0.4</td>\n",
       "      <td>101</td>\n",
       "      <td>0.485437</td>\n",
       "      <td>0.239394</td>\n",
       "      <td>0.485437</td>\n",
       "      <td>0.320656</td>\n",
       "      <td>{'C': 1, 'gamma': 0.001, 'kernel': 'sigmoid'}</td>\n",
       "    </tr>\n",
       "    <tr>\n",
       "      <th>6</th>\n",
       "      <td>0.3</td>\n",
       "      <td>7</td>\n",
       "      <td>0.467700</td>\n",
       "      <td>0.270199</td>\n",
       "      <td>0.467700</td>\n",
       "      <td>0.306208</td>\n",
       "      <td>{'C': 0.1, 'gamma': 0.001, 'kernel': 'sigmoid'}</td>\n",
       "    </tr>\n",
       "    <tr>\n",
       "      <th>7</th>\n",
       "      <td>0.3</td>\n",
       "      <td>69</td>\n",
       "      <td>0.459948</td>\n",
       "      <td>0.414038</td>\n",
       "      <td>0.459948</td>\n",
       "      <td>0.423806</td>\n",
       "      <td>{'C': 10, 'gamma': 0.001, 'kernel': 'rbf'}</td>\n",
       "    </tr>\n",
       "    <tr>\n",
       "      <th>8</th>\n",
       "      <td>0.3</td>\n",
       "      <td>101</td>\n",
       "      <td>0.488372</td>\n",
       "      <td>0.238507</td>\n",
       "      <td>0.488372</td>\n",
       "      <td>0.320494</td>\n",
       "      <td>{'C': 0.1, 'gamma': 0.001, 'kernel': 'sigmoid'}</td>\n",
       "    </tr>\n",
       "    <tr>\n",
       "      <th>9</th>\n",
       "      <td>0.2</td>\n",
       "      <td>7</td>\n",
       "      <td>0.476744</td>\n",
       "      <td>0.273380</td>\n",
       "      <td>0.476744</td>\n",
       "      <td>0.322427</td>\n",
       "      <td>{'C': 0.1, 'gamma': 0.001, 'kernel': 'sigmoid'}</td>\n",
       "    </tr>\n",
       "    <tr>\n",
       "      <th>10</th>\n",
       "      <td>0.2</td>\n",
       "      <td>69</td>\n",
       "      <td>0.492248</td>\n",
       "      <td>0.242308</td>\n",
       "      <td>0.492248</td>\n",
       "      <td>0.324756</td>\n",
       "      <td>{'C': 1, 'gamma': 0.1, 'kernel': 'rbf'}</td>\n",
       "    </tr>\n",
       "    <tr>\n",
       "      <th>11</th>\n",
       "      <td>0.2</td>\n",
       "      <td>101</td>\n",
       "      <td>0.500000</td>\n",
       "      <td>0.250000</td>\n",
       "      <td>0.500000</td>\n",
       "      <td>0.333333</td>\n",
       "      <td>{'C': 0.1, 'gamma': 1, 'kernel': 'rbf'}</td>\n",
       "    </tr>\n",
       "  </tbody>\n",
       "</table>\n",
       "</div>"
      ],
      "text/plain": [
       "    Test Size  Random State  Accuracy  Precision    Recall  F1 Score  \\\n",
       "0         0.5             7  0.459627   0.211257  0.459627  0.289467   \n",
       "1         0.5            69  0.445652   0.322186  0.445652  0.364755   \n",
       "2         0.5           101  0.500000   0.250000  0.500000  0.333333   \n",
       "3         0.4             7  0.450485   0.204208  0.450485  0.281026   \n",
       "4         0.4            69  0.493204   0.243250  0.493204  0.325810   \n",
       "5         0.4           101  0.485437   0.239394  0.485437  0.320656   \n",
       "6         0.3             7  0.467700   0.270199  0.467700  0.306208   \n",
       "7         0.3            69  0.459948   0.414038  0.459948  0.423806   \n",
       "8         0.3           101  0.488372   0.238507  0.488372  0.320494   \n",
       "9         0.2             7  0.476744   0.273380  0.476744  0.322427   \n",
       "10        0.2            69  0.492248   0.242308  0.492248  0.324756   \n",
       "11        0.2           101  0.500000   0.250000  0.500000  0.333333   \n",
       "\n",
       "                                         Best Param  \n",
       "0   {'C': 0.1, 'gamma': 0.001, 'kernel': 'sigmoid'}  \n",
       "1         {'C': 1, 'gamma': 0.001, 'kernel': 'rbf'}  \n",
       "2           {'C': 0.1, 'gamma': 1, 'kernel': 'rbf'}  \n",
       "3          {'C': 10, 'gamma': 0.1, 'kernel': 'rbf'}  \n",
       "4          {'C': 10, 'gamma': 0.1, 'kernel': 'rbf'}  \n",
       "5     {'C': 1, 'gamma': 0.001, 'kernel': 'sigmoid'}  \n",
       "6   {'C': 0.1, 'gamma': 0.001, 'kernel': 'sigmoid'}  \n",
       "7        {'C': 10, 'gamma': 0.001, 'kernel': 'rbf'}  \n",
       "8   {'C': 0.1, 'gamma': 0.001, 'kernel': 'sigmoid'}  \n",
       "9   {'C': 0.1, 'gamma': 0.001, 'kernel': 'sigmoid'}  \n",
       "10          {'C': 1, 'gamma': 0.1, 'kernel': 'rbf'}  \n",
       "11          {'C': 0.1, 'gamma': 1, 'kernel': 'rbf'}  "
      ]
     },
     "execution_count": 70,
     "metadata": {},
     "output_type": "execute_result"
    }
   ],
   "source": [
    "temp5L_imb = []\n",
    "\n",
    "y = merge_5L_imb[['CGPA']]\n",
    "X = merge_5L_imb.drop(columns=[\"CGPA\"])\n",
    "\n",
    "print(\"X:\", X.shape,\"y:\", y.shape)\n",
    "\n",
    "for i in [0.5,0.4,0.3,0.2]:\n",
    "    for j in rand_states:\n",
    "        X_train, X_test, y_train, y_test = train_test_split(X, y, test_size=i, random_state=j)\n",
    "        param_grid = {'C': [0.1, 1, 10, 100],\n",
    "                      'gamma': [1, 0.1, 0.01, 0.001],\n",
    "                      'kernel': ['rbf','sigmoid']}\n",
    "\n",
    "        model = GridSearchCV(SVC(random_state=0), param_grid, refit=True, n_jobs=-1, cv=10, verbose=1)\n",
    "        model.fit(X_train, y_train)\n",
    "        pred = model.predict(X_test)\n",
    "        \n",
    "        acc = accuracy_score(y_test,pred)\n",
    "        pre = precision_score(y_test, pred, average='weighted')\n",
    "        recall = recall_score(y_test, pred, average='weighted')\n",
    "        f1 = f1_score(y_test, pred, average='weighted')\n",
    "        param = model.best_params_\n",
    "    \n",
    "        temp5L_imb.append([i,j,acc,pre,recall,f1,param])\n",
    "        \n",
    "df5L_imb = pd.DataFrame(columns=['Test Size','Random State','Accuracy','Precision','Recall','F1 Score','Best Param'],data=temp5L_imb)\n",
    "df5L_imb"
   ]
  },
  {
   "cell_type": "code",
   "execution_count": 71,
   "id": "1e72eebd-22d3-46fc-98f0-13544afbea7e",
   "metadata": {},
   "outputs": [
    {
     "data": {
      "text/html": [
       "<div>\n",
       "<style scoped>\n",
       "    .dataframe tbody tr th:only-of-type {\n",
       "        vertical-align: middle;\n",
       "    }\n",
       "\n",
       "    .dataframe tbody tr th {\n",
       "        vertical-align: top;\n",
       "    }\n",
       "\n",
       "    .dataframe thead th {\n",
       "        text-align: right;\n",
       "    }\n",
       "</style>\n",
       "<table border=\"1\" class=\"dataframe\">\n",
       "  <thead>\n",
       "    <tr style=\"text-align: right;\">\n",
       "      <th></th>\n",
       "      <th>Accuracy</th>\n",
       "      <th>Precision</th>\n",
       "      <th>Recall</th>\n",
       "      <th>F1 Score</th>\n",
       "    </tr>\n",
       "    <tr>\n",
       "      <th>Test Size</th>\n",
       "      <th></th>\n",
       "      <th></th>\n",
       "      <th></th>\n",
       "      <th></th>\n",
       "    </tr>\n",
       "  </thead>\n",
       "  <tbody>\n",
       "    <tr>\n",
       "      <th>0.2</th>\n",
       "      <td>0.489664</td>\n",
       "      <td>0.255229</td>\n",
       "      <td>0.489664</td>\n",
       "      <td>0.326839</td>\n",
       "    </tr>\n",
       "    <tr>\n",
       "      <th>0.3</th>\n",
       "      <td>0.472007</td>\n",
       "      <td>0.307581</td>\n",
       "      <td>0.472007</td>\n",
       "      <td>0.350169</td>\n",
       "    </tr>\n",
       "    <tr>\n",
       "      <th>0.4</th>\n",
       "      <td>0.476375</td>\n",
       "      <td>0.228951</td>\n",
       "      <td>0.476375</td>\n",
       "      <td>0.309164</td>\n",
       "    </tr>\n",
       "    <tr>\n",
       "      <th>0.5</th>\n",
       "      <td>0.468427</td>\n",
       "      <td>0.261148</td>\n",
       "      <td>0.468427</td>\n",
       "      <td>0.329185</td>\n",
       "    </tr>\n",
       "  </tbody>\n",
       "</table>\n",
       "</div>"
      ],
      "text/plain": [
       "           Accuracy  Precision    Recall  F1 Score\n",
       "Test Size                                         \n",
       "0.2        0.489664   0.255229  0.489664  0.326839\n",
       "0.3        0.472007   0.307581  0.472007  0.350169\n",
       "0.4        0.476375   0.228951  0.476375  0.309164\n",
       "0.5        0.468427   0.261148  0.468427  0.329185"
      ]
     },
     "execution_count": 71,
     "metadata": {},
     "output_type": "execute_result"
    }
   ],
   "source": [
    "df5L_imb.groupby('Test Size')[['Accuracy','Precision','Recall','F1 Score']].mean()"
   ]
  },
  {
   "cell_type": "markdown",
   "id": "f277fef2-d3fb-4425-ad56-e9512bc75db3",
   "metadata": {},
   "source": [
    "### AA after RandomOverSampler"
   ]
  },
  {
   "cell_type": "code",
   "execution_count": 72,
   "id": "c9a8c4be-4375-4a74-81dd-ed318ea62ff9",
   "metadata": {},
   "outputs": [
    {
     "name": "stdout",
     "output_type": "stream",
     "text": [
      "Fitting 10 folds for each of 32 candidates, totalling 320 fits\n"
     ]
    },
    {
     "name": "stderr",
     "output_type": "stream",
     "text": [
      "C:\\Users\\hazel\\anaconda3\\Lib\\site-packages\\sklearn\\utils\\validation.py:1143: DataConversionWarning: A column-vector y was passed when a 1d array was expected. Please change the shape of y to (n_samples, ), for example using ravel().\n",
      "  y = column_or_1d(y, warn=True)\n"
     ]
    },
    {
     "name": "stdout",
     "output_type": "stream",
     "text": [
      "Fitting 10 folds for each of 32 candidates, totalling 320 fits\n"
     ]
    },
    {
     "name": "stderr",
     "output_type": "stream",
     "text": [
      "C:\\Users\\hazel\\anaconda3\\Lib\\site-packages\\sklearn\\utils\\validation.py:1143: DataConversionWarning: A column-vector y was passed when a 1d array was expected. Please change the shape of y to (n_samples, ), for example using ravel().\n",
      "  y = column_or_1d(y, warn=True)\n"
     ]
    },
    {
     "name": "stdout",
     "output_type": "stream",
     "text": [
      "Fitting 10 folds for each of 32 candidates, totalling 320 fits\n"
     ]
    },
    {
     "name": "stderr",
     "output_type": "stream",
     "text": [
      "C:\\Users\\hazel\\anaconda3\\Lib\\site-packages\\sklearn\\utils\\validation.py:1143: DataConversionWarning: A column-vector y was passed when a 1d array was expected. Please change the shape of y to (n_samples, ), for example using ravel().\n",
      "  y = column_or_1d(y, warn=True)\n"
     ]
    },
    {
     "name": "stdout",
     "output_type": "stream",
     "text": [
      "Fitting 10 folds for each of 32 candidates, totalling 320 fits\n"
     ]
    },
    {
     "name": "stderr",
     "output_type": "stream",
     "text": [
      "C:\\Users\\hazel\\anaconda3\\Lib\\site-packages\\sklearn\\utils\\validation.py:1143: DataConversionWarning: A column-vector y was passed when a 1d array was expected. Please change the shape of y to (n_samples, ), for example using ravel().\n",
      "  y = column_or_1d(y, warn=True)\n"
     ]
    },
    {
     "name": "stdout",
     "output_type": "stream",
     "text": [
      "Fitting 10 folds for each of 32 candidates, totalling 320 fits\n"
     ]
    },
    {
     "name": "stderr",
     "output_type": "stream",
     "text": [
      "C:\\Users\\hazel\\anaconda3\\Lib\\site-packages\\sklearn\\utils\\validation.py:1143: DataConversionWarning: A column-vector y was passed when a 1d array was expected. Please change the shape of y to (n_samples, ), for example using ravel().\n",
      "  y = column_or_1d(y, warn=True)\n"
     ]
    },
    {
     "name": "stdout",
     "output_type": "stream",
     "text": [
      "Fitting 10 folds for each of 32 candidates, totalling 320 fits\n"
     ]
    },
    {
     "name": "stderr",
     "output_type": "stream",
     "text": [
      "C:\\Users\\hazel\\anaconda3\\Lib\\site-packages\\sklearn\\utils\\validation.py:1143: DataConversionWarning: A column-vector y was passed when a 1d array was expected. Please change the shape of y to (n_samples, ), for example using ravel().\n",
      "  y = column_or_1d(y, warn=True)\n"
     ]
    },
    {
     "name": "stdout",
     "output_type": "stream",
     "text": [
      "Fitting 10 folds for each of 32 candidates, totalling 320 fits\n"
     ]
    },
    {
     "name": "stderr",
     "output_type": "stream",
     "text": [
      "C:\\Users\\hazel\\anaconda3\\Lib\\site-packages\\sklearn\\utils\\validation.py:1143: DataConversionWarning: A column-vector y was passed when a 1d array was expected. Please change the shape of y to (n_samples, ), for example using ravel().\n",
      "  y = column_or_1d(y, warn=True)\n"
     ]
    },
    {
     "name": "stdout",
     "output_type": "stream",
     "text": [
      "Fitting 10 folds for each of 32 candidates, totalling 320 fits\n"
     ]
    },
    {
     "name": "stderr",
     "output_type": "stream",
     "text": [
      "C:\\Users\\hazel\\anaconda3\\Lib\\site-packages\\sklearn\\utils\\validation.py:1143: DataConversionWarning: A column-vector y was passed when a 1d array was expected. Please change the shape of y to (n_samples, ), for example using ravel().\n",
      "  y = column_or_1d(y, warn=True)\n"
     ]
    },
    {
     "name": "stdout",
     "output_type": "stream",
     "text": [
      "Fitting 10 folds for each of 32 candidates, totalling 320 fits\n"
     ]
    },
    {
     "name": "stderr",
     "output_type": "stream",
     "text": [
      "C:\\Users\\hazel\\anaconda3\\Lib\\site-packages\\sklearn\\utils\\validation.py:1143: DataConversionWarning: A column-vector y was passed when a 1d array was expected. Please change the shape of y to (n_samples, ), for example using ravel().\n",
      "  y = column_or_1d(y, warn=True)\n"
     ]
    },
    {
     "name": "stdout",
     "output_type": "stream",
     "text": [
      "Fitting 10 folds for each of 32 candidates, totalling 320 fits\n"
     ]
    },
    {
     "name": "stderr",
     "output_type": "stream",
     "text": [
      "C:\\Users\\hazel\\anaconda3\\Lib\\site-packages\\sklearn\\utils\\validation.py:1143: DataConversionWarning: A column-vector y was passed when a 1d array was expected. Please change the shape of y to (n_samples, ), for example using ravel().\n",
      "  y = column_or_1d(y, warn=True)\n"
     ]
    },
    {
     "name": "stdout",
     "output_type": "stream",
     "text": [
      "Fitting 10 folds for each of 32 candidates, totalling 320 fits\n"
     ]
    },
    {
     "name": "stderr",
     "output_type": "stream",
     "text": [
      "C:\\Users\\hazel\\anaconda3\\Lib\\site-packages\\sklearn\\utils\\validation.py:1143: DataConversionWarning: A column-vector y was passed when a 1d array was expected. Please change the shape of y to (n_samples, ), for example using ravel().\n",
      "  y = column_or_1d(y, warn=True)\n"
     ]
    },
    {
     "name": "stdout",
     "output_type": "stream",
     "text": [
      "Fitting 10 folds for each of 32 candidates, totalling 320 fits\n"
     ]
    },
    {
     "name": "stderr",
     "output_type": "stream",
     "text": [
      "C:\\Users\\hazel\\anaconda3\\Lib\\site-packages\\sklearn\\utils\\validation.py:1143: DataConversionWarning: A column-vector y was passed when a 1d array was expected. Please change the shape of y to (n_samples, ), for example using ravel().\n",
      "  y = column_or_1d(y, warn=True)\n"
     ]
    },
    {
     "data": {
      "text/html": [
       "<div>\n",
       "<style scoped>\n",
       "    .dataframe tbody tr th:only-of-type {\n",
       "        vertical-align: middle;\n",
       "    }\n",
       "\n",
       "    .dataframe tbody tr th {\n",
       "        vertical-align: top;\n",
       "    }\n",
       "\n",
       "    .dataframe thead th {\n",
       "        text-align: right;\n",
       "    }\n",
       "</style>\n",
       "<table border=\"1\" class=\"dataframe\">\n",
       "  <thead>\n",
       "    <tr style=\"text-align: right;\">\n",
       "      <th></th>\n",
       "      <th>Test Size</th>\n",
       "      <th>Random State</th>\n",
       "      <th>Accuracy</th>\n",
       "      <th>Precision</th>\n",
       "      <th>Recall</th>\n",
       "      <th>F1 Score</th>\n",
       "      <th>Best Param</th>\n",
       "    </tr>\n",
       "  </thead>\n",
       "  <tbody>\n",
       "    <tr>\n",
       "      <th>0</th>\n",
       "      <td>0.5</td>\n",
       "      <td>7</td>\n",
       "      <td>0.820480</td>\n",
       "      <td>0.906216</td>\n",
       "      <td>0.820480</td>\n",
       "      <td>0.815235</td>\n",
       "      <td>{'C': 1, 'gamma': 1, 'kernel': 'rbf'}</td>\n",
       "    </tr>\n",
       "    <tr>\n",
       "      <th>1</th>\n",
       "      <td>0.5</td>\n",
       "      <td>69</td>\n",
       "      <td>0.826312</td>\n",
       "      <td>0.907548</td>\n",
       "      <td>0.826312</td>\n",
       "      <td>0.820588</td>\n",
       "      <td>{'C': 1, 'gamma': 1, 'kernel': 'rbf'}</td>\n",
       "    </tr>\n",
       "    <tr>\n",
       "      <th>2</th>\n",
       "      <td>0.5</td>\n",
       "      <td>101</td>\n",
       "      <td>0.821776</td>\n",
       "      <td>0.903735</td>\n",
       "      <td>0.821776</td>\n",
       "      <td>0.816911</td>\n",
       "      <td>{'C': 1, 'gamma': 1, 'kernel': 'rbf'}</td>\n",
       "    </tr>\n",
       "    <tr>\n",
       "      <th>3</th>\n",
       "      <td>0.4</td>\n",
       "      <td>7</td>\n",
       "      <td>0.858185</td>\n",
       "      <td>0.917134</td>\n",
       "      <td>0.858185</td>\n",
       "      <td>0.853698</td>\n",
       "      <td>{'C': 1, 'gamma': 1, 'kernel': 'rbf'}</td>\n",
       "    </tr>\n",
       "    <tr>\n",
       "      <th>4</th>\n",
       "      <td>0.4</td>\n",
       "      <td>69</td>\n",
       "      <td>0.853323</td>\n",
       "      <td>0.918075</td>\n",
       "      <td>0.853323</td>\n",
       "      <td>0.849049</td>\n",
       "      <td>{'C': 1, 'gamma': 1, 'kernel': 'rbf'}</td>\n",
       "    </tr>\n",
       "    <tr>\n",
       "      <th>5</th>\n",
       "      <td>0.4</td>\n",
       "      <td>101</td>\n",
       "      <td>0.836305</td>\n",
       "      <td>0.907111</td>\n",
       "      <td>0.836305</td>\n",
       "      <td>0.831111</td>\n",
       "      <td>{'C': 1, 'gamma': 1, 'kernel': 'rbf'}</td>\n",
       "    </tr>\n",
       "    <tr>\n",
       "      <th>6</th>\n",
       "      <td>0.3</td>\n",
       "      <td>7</td>\n",
       "      <td>0.886609</td>\n",
       "      <td>0.926429</td>\n",
       "      <td>0.886609</td>\n",
       "      <td>0.884618</td>\n",
       "      <td>{'C': 1, 'gamma': 1, 'kernel': 'rbf'}</td>\n",
       "    </tr>\n",
       "    <tr>\n",
       "      <th>7</th>\n",
       "      <td>0.3</td>\n",
       "      <td>69</td>\n",
       "      <td>0.863931</td>\n",
       "      <td>0.922246</td>\n",
       "      <td>0.863931</td>\n",
       "      <td>0.860503</td>\n",
       "      <td>{'C': 1, 'gamma': 1, 'kernel': 'rbf'}</td>\n",
       "    </tr>\n",
       "    <tr>\n",
       "      <th>8</th>\n",
       "      <td>0.3</td>\n",
       "      <td>101</td>\n",
       "      <td>0.870410</td>\n",
       "      <td>0.919935</td>\n",
       "      <td>0.870410</td>\n",
       "      <td>0.866619</td>\n",
       "      <td>{'C': 1, 'gamma': 1, 'kernel': 'rbf'}</td>\n",
       "    </tr>\n",
       "    <tr>\n",
       "      <th>9</th>\n",
       "      <td>0.2</td>\n",
       "      <td>7</td>\n",
       "      <td>0.912480</td>\n",
       "      <td>0.939486</td>\n",
       "      <td>0.912480</td>\n",
       "      <td>0.912447</td>\n",
       "      <td>{'C': 1, 'gamma': 1, 'kernel': 'rbf'}</td>\n",
       "    </tr>\n",
       "    <tr>\n",
       "      <th>10</th>\n",
       "      <td>0.2</td>\n",
       "      <td>69</td>\n",
       "      <td>0.889789</td>\n",
       "      <td>0.928620</td>\n",
       "      <td>0.889789</td>\n",
       "      <td>0.886567</td>\n",
       "      <td>{'C': 1, 'gamma': 1, 'kernel': 'rbf'}</td>\n",
       "    </tr>\n",
       "    <tr>\n",
       "      <th>11</th>\n",
       "      <td>0.2</td>\n",
       "      <td>101</td>\n",
       "      <td>0.904376</td>\n",
       "      <td>0.935375</td>\n",
       "      <td>0.904376</td>\n",
       "      <td>0.904073</td>\n",
       "      <td>{'C': 1, 'gamma': 1, 'kernel': 'rbf'}</td>\n",
       "    </tr>\n",
       "  </tbody>\n",
       "</table>\n",
       "</div>"
      ],
      "text/plain": [
       "    Test Size  Random State  Accuracy  Precision    Recall  F1 Score  \\\n",
       "0         0.5             7  0.820480   0.906216  0.820480  0.815235   \n",
       "1         0.5            69  0.826312   0.907548  0.826312  0.820588   \n",
       "2         0.5           101  0.821776   0.903735  0.821776  0.816911   \n",
       "3         0.4             7  0.858185   0.917134  0.858185  0.853698   \n",
       "4         0.4            69  0.853323   0.918075  0.853323  0.849049   \n",
       "5         0.4           101  0.836305   0.907111  0.836305  0.831111   \n",
       "6         0.3             7  0.886609   0.926429  0.886609  0.884618   \n",
       "7         0.3            69  0.863931   0.922246  0.863931  0.860503   \n",
       "8         0.3           101  0.870410   0.919935  0.870410  0.866619   \n",
       "9         0.2             7  0.912480   0.939486  0.912480  0.912447   \n",
       "10        0.2            69  0.889789   0.928620  0.889789  0.886567   \n",
       "11        0.2           101  0.904376   0.935375  0.904376  0.904073   \n",
       "\n",
       "                               Best Param  \n",
       "0   {'C': 1, 'gamma': 1, 'kernel': 'rbf'}  \n",
       "1   {'C': 1, 'gamma': 1, 'kernel': 'rbf'}  \n",
       "2   {'C': 1, 'gamma': 1, 'kernel': 'rbf'}  \n",
       "3   {'C': 1, 'gamma': 1, 'kernel': 'rbf'}  \n",
       "4   {'C': 1, 'gamma': 1, 'kernel': 'rbf'}  \n",
       "5   {'C': 1, 'gamma': 1, 'kernel': 'rbf'}  \n",
       "6   {'C': 1, 'gamma': 1, 'kernel': 'rbf'}  \n",
       "7   {'C': 1, 'gamma': 1, 'kernel': 'rbf'}  \n",
       "8   {'C': 1, 'gamma': 1, 'kernel': 'rbf'}  \n",
       "9   {'C': 1, 'gamma': 1, 'kernel': 'rbf'}  \n",
       "10  {'C': 1, 'gamma': 1, 'kernel': 'rbf'}  \n",
       "11  {'C': 1, 'gamma': 1, 'kernel': 'rbf'}  "
      ]
     },
     "execution_count": 72,
     "metadata": {},
     "output_type": "execute_result"
    }
   ],
   "source": [
    "temp5L_ROS = []\n",
    "\n",
    "y = merge_5L_ROS[['CGPA']]\n",
    "X = merge_5L_ROS.drop(columns=[\"CGPA\"])\n",
    "\n",
    "for i in [0.5,0.4,0.3,0.2]:\n",
    "    for j in rand_states:\n",
    "        X_train, X_test, y_train, y_test = train_test_split(X, y, test_size=i, random_state=j)\n",
    "        param_grid = {'C': [0.1, 1, 10, 100],\n",
    "                      'gamma': [1, 0.1, 0.01, 0.001],\n",
    "                      'kernel': ['rbf','sigmoid']}\n",
    "\n",
    "        model = GridSearchCV(SVC(random_state=0), param_grid, refit=True, n_jobs=-1, cv=10, verbose=1)\n",
    "        model.fit(X_train, y_train)\n",
    "        pred = model.predict(X_test)\n",
    "        \n",
    "        acc = accuracy_score(y_test,pred)\n",
    "        pre = precision_score(y_test, pred, average='weighted')\n",
    "        recall = recall_score(y_test, pred, average='weighted')\n",
    "        f1 = f1_score(y_test, pred, average='weighted')\n",
    "        param = model.best_params_\n",
    "    \n",
    "        temp5L_ROS.append([i,j,acc,pre,recall,f1,param])\n",
    "        \n",
    "df5L_ROS = pd.DataFrame(columns=['Test Size','Random State','Accuracy','Precision','Recall','F1 Score','Best Param'],data=temp5L_ROS)\n",
    "df5L_ROS"
   ]
  },
  {
   "cell_type": "code",
   "execution_count": 73,
   "id": "7d8c48a8-963e-4a48-9848-58f5a881c500",
   "metadata": {},
   "outputs": [
    {
     "data": {
      "text/html": [
       "<div>\n",
       "<style scoped>\n",
       "    .dataframe tbody tr th:only-of-type {\n",
       "        vertical-align: middle;\n",
       "    }\n",
       "\n",
       "    .dataframe tbody tr th {\n",
       "        vertical-align: top;\n",
       "    }\n",
       "\n",
       "    .dataframe thead th {\n",
       "        text-align: right;\n",
       "    }\n",
       "</style>\n",
       "<table border=\"1\" class=\"dataframe\">\n",
       "  <thead>\n",
       "    <tr style=\"text-align: right;\">\n",
       "      <th></th>\n",
       "      <th>Accuracy</th>\n",
       "      <th>Precision</th>\n",
       "      <th>Recall</th>\n",
       "      <th>F1 Score</th>\n",
       "    </tr>\n",
       "    <tr>\n",
       "      <th>Test Size</th>\n",
       "      <th></th>\n",
       "      <th></th>\n",
       "      <th></th>\n",
       "      <th></th>\n",
       "    </tr>\n",
       "  </thead>\n",
       "  <tbody>\n",
       "    <tr>\n",
       "      <th>0.2</th>\n",
       "      <td>0.902215</td>\n",
       "      <td>0.934494</td>\n",
       "      <td>0.902215</td>\n",
       "      <td>0.901029</td>\n",
       "    </tr>\n",
       "    <tr>\n",
       "      <th>0.3</th>\n",
       "      <td>0.873650</td>\n",
       "      <td>0.922870</td>\n",
       "      <td>0.873650</td>\n",
       "      <td>0.870580</td>\n",
       "    </tr>\n",
       "    <tr>\n",
       "      <th>0.4</th>\n",
       "      <td>0.849271</td>\n",
       "      <td>0.914107</td>\n",
       "      <td>0.849271</td>\n",
       "      <td>0.844620</td>\n",
       "    </tr>\n",
       "    <tr>\n",
       "      <th>0.5</th>\n",
       "      <td>0.822856</td>\n",
       "      <td>0.905833</td>\n",
       "      <td>0.822856</td>\n",
       "      <td>0.817578</td>\n",
       "    </tr>\n",
       "  </tbody>\n",
       "</table>\n",
       "</div>"
      ],
      "text/plain": [
       "           Accuracy  Precision    Recall  F1 Score\n",
       "Test Size                                         \n",
       "0.2        0.902215   0.934494  0.902215  0.901029\n",
       "0.3        0.873650   0.922870  0.873650  0.870580\n",
       "0.4        0.849271   0.914107  0.849271  0.844620\n",
       "0.5        0.822856   0.905833  0.822856  0.817578"
      ]
     },
     "execution_count": 73,
     "metadata": {},
     "output_type": "execute_result"
    }
   ],
   "source": [
    "df5L_ROS.groupby('Test Size')[['Accuracy','Precision','Recall','F1 Score']].mean()"
   ]
  },
  {
   "cell_type": "markdown",
   "id": "1b067488-9034-4c79-b220-b7b35fe4bf9d",
   "metadata": {},
   "source": [
    "### AA after SMOTE"
   ]
  },
  {
   "cell_type": "code",
   "execution_count": 74,
   "id": "1caccffd-216b-484c-962b-449d83dfa40f",
   "metadata": {},
   "outputs": [
    {
     "name": "stdout",
     "output_type": "stream",
     "text": [
      "Fitting 10 folds for each of 32 candidates, totalling 320 fits\n"
     ]
    },
    {
     "name": "stderr",
     "output_type": "stream",
     "text": [
      "C:\\Users\\hazel\\anaconda3\\Lib\\site-packages\\sklearn\\utils\\validation.py:1143: DataConversionWarning: A column-vector y was passed when a 1d array was expected. Please change the shape of y to (n_samples, ), for example using ravel().\n",
      "  y = column_or_1d(y, warn=True)\n"
     ]
    },
    {
     "name": "stdout",
     "output_type": "stream",
     "text": [
      "Fitting 10 folds for each of 32 candidates, totalling 320 fits\n"
     ]
    },
    {
     "name": "stderr",
     "output_type": "stream",
     "text": [
      "C:\\Users\\hazel\\anaconda3\\Lib\\site-packages\\sklearn\\utils\\validation.py:1143: DataConversionWarning: A column-vector y was passed when a 1d array was expected. Please change the shape of y to (n_samples, ), for example using ravel().\n",
      "  y = column_or_1d(y, warn=True)\n"
     ]
    },
    {
     "name": "stdout",
     "output_type": "stream",
     "text": [
      "Fitting 10 folds for each of 32 candidates, totalling 320 fits\n"
     ]
    },
    {
     "name": "stderr",
     "output_type": "stream",
     "text": [
      "C:\\Users\\hazel\\anaconda3\\Lib\\site-packages\\sklearn\\utils\\validation.py:1143: DataConversionWarning: A column-vector y was passed when a 1d array was expected. Please change the shape of y to (n_samples, ), for example using ravel().\n",
      "  y = column_or_1d(y, warn=True)\n"
     ]
    },
    {
     "name": "stdout",
     "output_type": "stream",
     "text": [
      "Fitting 10 folds for each of 32 candidates, totalling 320 fits\n"
     ]
    },
    {
     "name": "stderr",
     "output_type": "stream",
     "text": [
      "C:\\Users\\hazel\\anaconda3\\Lib\\site-packages\\sklearn\\utils\\validation.py:1143: DataConversionWarning: A column-vector y was passed when a 1d array was expected. Please change the shape of y to (n_samples, ), for example using ravel().\n",
      "  y = column_or_1d(y, warn=True)\n"
     ]
    },
    {
     "name": "stdout",
     "output_type": "stream",
     "text": [
      "Fitting 10 folds for each of 32 candidates, totalling 320 fits\n"
     ]
    },
    {
     "name": "stderr",
     "output_type": "stream",
     "text": [
      "C:\\Users\\hazel\\anaconda3\\Lib\\site-packages\\sklearn\\utils\\validation.py:1143: DataConversionWarning: A column-vector y was passed when a 1d array was expected. Please change the shape of y to (n_samples, ), for example using ravel().\n",
      "  y = column_or_1d(y, warn=True)\n"
     ]
    },
    {
     "name": "stdout",
     "output_type": "stream",
     "text": [
      "Fitting 10 folds for each of 32 candidates, totalling 320 fits\n"
     ]
    },
    {
     "name": "stderr",
     "output_type": "stream",
     "text": [
      "C:\\Users\\hazel\\anaconda3\\Lib\\site-packages\\sklearn\\utils\\validation.py:1143: DataConversionWarning: A column-vector y was passed when a 1d array was expected. Please change the shape of y to (n_samples, ), for example using ravel().\n",
      "  y = column_or_1d(y, warn=True)\n"
     ]
    },
    {
     "name": "stdout",
     "output_type": "stream",
     "text": [
      "Fitting 10 folds for each of 32 candidates, totalling 320 fits\n"
     ]
    },
    {
     "name": "stderr",
     "output_type": "stream",
     "text": [
      "C:\\Users\\hazel\\anaconda3\\Lib\\site-packages\\sklearn\\utils\\validation.py:1143: DataConversionWarning: A column-vector y was passed when a 1d array was expected. Please change the shape of y to (n_samples, ), for example using ravel().\n",
      "  y = column_or_1d(y, warn=True)\n"
     ]
    },
    {
     "name": "stdout",
     "output_type": "stream",
     "text": [
      "Fitting 10 folds for each of 32 candidates, totalling 320 fits\n"
     ]
    },
    {
     "name": "stderr",
     "output_type": "stream",
     "text": [
      "C:\\Users\\hazel\\anaconda3\\Lib\\site-packages\\sklearn\\utils\\validation.py:1143: DataConversionWarning: A column-vector y was passed when a 1d array was expected. Please change the shape of y to (n_samples, ), for example using ravel().\n",
      "  y = column_or_1d(y, warn=True)\n"
     ]
    },
    {
     "name": "stdout",
     "output_type": "stream",
     "text": [
      "Fitting 10 folds for each of 32 candidates, totalling 320 fits\n"
     ]
    },
    {
     "name": "stderr",
     "output_type": "stream",
     "text": [
      "C:\\Users\\hazel\\anaconda3\\Lib\\site-packages\\sklearn\\utils\\validation.py:1143: DataConversionWarning: A column-vector y was passed when a 1d array was expected. Please change the shape of y to (n_samples, ), for example using ravel().\n",
      "  y = column_or_1d(y, warn=True)\n"
     ]
    },
    {
     "name": "stdout",
     "output_type": "stream",
     "text": [
      "Fitting 10 folds for each of 32 candidates, totalling 320 fits\n"
     ]
    },
    {
     "name": "stderr",
     "output_type": "stream",
     "text": [
      "C:\\Users\\hazel\\anaconda3\\Lib\\site-packages\\sklearn\\utils\\validation.py:1143: DataConversionWarning: A column-vector y was passed when a 1d array was expected. Please change the shape of y to (n_samples, ), for example using ravel().\n",
      "  y = column_or_1d(y, warn=True)\n"
     ]
    },
    {
     "name": "stdout",
     "output_type": "stream",
     "text": [
      "Fitting 10 folds for each of 32 candidates, totalling 320 fits\n"
     ]
    },
    {
     "name": "stderr",
     "output_type": "stream",
     "text": [
      "C:\\Users\\hazel\\anaconda3\\Lib\\site-packages\\sklearn\\utils\\validation.py:1143: DataConversionWarning: A column-vector y was passed when a 1d array was expected. Please change the shape of y to (n_samples, ), for example using ravel().\n",
      "  y = column_or_1d(y, warn=True)\n"
     ]
    },
    {
     "name": "stdout",
     "output_type": "stream",
     "text": [
      "Fitting 10 folds for each of 32 candidates, totalling 320 fits\n"
     ]
    },
    {
     "name": "stderr",
     "output_type": "stream",
     "text": [
      "C:\\Users\\hazel\\anaconda3\\Lib\\site-packages\\sklearn\\utils\\validation.py:1143: DataConversionWarning: A column-vector y was passed when a 1d array was expected. Please change the shape of y to (n_samples, ), for example using ravel().\n",
      "  y = column_or_1d(y, warn=True)\n"
     ]
    },
    {
     "data": {
      "text/html": [
       "<div>\n",
       "<style scoped>\n",
       "    .dataframe tbody tr th:only-of-type {\n",
       "        vertical-align: middle;\n",
       "    }\n",
       "\n",
       "    .dataframe tbody tr th {\n",
       "        vertical-align: top;\n",
       "    }\n",
       "\n",
       "    .dataframe thead th {\n",
       "        text-align: right;\n",
       "    }\n",
       "</style>\n",
       "<table border=\"1\" class=\"dataframe\">\n",
       "  <thead>\n",
       "    <tr style=\"text-align: right;\">\n",
       "      <th></th>\n",
       "      <th>Test Size</th>\n",
       "      <th>Random State</th>\n",
       "      <th>Accuracy</th>\n",
       "      <th>Precision</th>\n",
       "      <th>Recall</th>\n",
       "      <th>F1 Score</th>\n",
       "      <th>Best Param</th>\n",
       "    </tr>\n",
       "  </thead>\n",
       "  <tbody>\n",
       "    <tr>\n",
       "      <th>0</th>\n",
       "      <td>0.5</td>\n",
       "      <td>7</td>\n",
       "      <td>0.786779</td>\n",
       "      <td>0.781567</td>\n",
       "      <td>0.786779</td>\n",
       "      <td>0.783371</td>\n",
       "      <td>{'C': 10, 'gamma': 0.01, 'kernel': 'rbf'}</td>\n",
       "    </tr>\n",
       "    <tr>\n",
       "      <th>1</th>\n",
       "      <td>0.5</td>\n",
       "      <td>69</td>\n",
       "      <td>0.775113</td>\n",
       "      <td>0.772084</td>\n",
       "      <td>0.775113</td>\n",
       "      <td>0.773408</td>\n",
       "      <td>{'C': 100, 'gamma': 0.01, 'kernel': 'rbf'}</td>\n",
       "    </tr>\n",
       "    <tr>\n",
       "      <th>2</th>\n",
       "      <td>0.5</td>\n",
       "      <td>101</td>\n",
       "      <td>0.779650</td>\n",
       "      <td>0.774709</td>\n",
       "      <td>0.779650</td>\n",
       "      <td>0.775272</td>\n",
       "      <td>{'C': 10, 'gamma': 0.01, 'kernel': 'rbf'}</td>\n",
       "    </tr>\n",
       "    <tr>\n",
       "      <th>3</th>\n",
       "      <td>0.4</td>\n",
       "      <td>7</td>\n",
       "      <td>0.807942</td>\n",
       "      <td>0.800017</td>\n",
       "      <td>0.807942</td>\n",
       "      <td>0.801849</td>\n",
       "      <td>{'C': 10, 'gamma': 0.01, 'kernel': 'rbf'}</td>\n",
       "    </tr>\n",
       "    <tr>\n",
       "      <th>4</th>\n",
       "      <td>0.4</td>\n",
       "      <td>69</td>\n",
       "      <td>0.791734</td>\n",
       "      <td>0.790003</td>\n",
       "      <td>0.791734</td>\n",
       "      <td>0.790790</td>\n",
       "      <td>{'C': 10, 'gamma': 0.01, 'kernel': 'rbf'}</td>\n",
       "    </tr>\n",
       "    <tr>\n",
       "      <th>5</th>\n",
       "      <td>0.4</td>\n",
       "      <td>101</td>\n",
       "      <td>0.807942</td>\n",
       "      <td>0.802327</td>\n",
       "      <td>0.807942</td>\n",
       "      <td>0.803192</td>\n",
       "      <td>{'C': 10, 'gamma': 0.01, 'kernel': 'rbf'}</td>\n",
       "    </tr>\n",
       "    <tr>\n",
       "      <th>6</th>\n",
       "      <td>0.3</td>\n",
       "      <td>7</td>\n",
       "      <td>0.820734</td>\n",
       "      <td>0.813689</td>\n",
       "      <td>0.820734</td>\n",
       "      <td>0.816203</td>\n",
       "      <td>{'C': 100, 'gamma': 0.01, 'kernel': 'rbf'}</td>\n",
       "    </tr>\n",
       "    <tr>\n",
       "      <th>7</th>\n",
       "      <td>0.3</td>\n",
       "      <td>69</td>\n",
       "      <td>0.809935</td>\n",
       "      <td>0.809180</td>\n",
       "      <td>0.809935</td>\n",
       "      <td>0.809448</td>\n",
       "      <td>{'C': 10, 'gamma': 0.01, 'kernel': 'rbf'}</td>\n",
       "    </tr>\n",
       "    <tr>\n",
       "      <th>8</th>\n",
       "      <td>0.3</td>\n",
       "      <td>101</td>\n",
       "      <td>0.812095</td>\n",
       "      <td>0.808460</td>\n",
       "      <td>0.812095</td>\n",
       "      <td>0.808711</td>\n",
       "      <td>{'C': 10, 'gamma': 0.01, 'kernel': 'rbf'}</td>\n",
       "    </tr>\n",
       "    <tr>\n",
       "      <th>9</th>\n",
       "      <td>0.2</td>\n",
       "      <td>7</td>\n",
       "      <td>0.842788</td>\n",
       "      <td>0.837933</td>\n",
       "      <td>0.842788</td>\n",
       "      <td>0.839669</td>\n",
       "      <td>{'C': 100, 'gamma': 0.01, 'kernel': 'rbf'}</td>\n",
       "    </tr>\n",
       "    <tr>\n",
       "      <th>10</th>\n",
       "      <td>0.2</td>\n",
       "      <td>69</td>\n",
       "      <td>0.833063</td>\n",
       "      <td>0.829842</td>\n",
       "      <td>0.833063</td>\n",
       "      <td>0.830398</td>\n",
       "      <td>{'C': 100, 'gamma': 0.01, 'kernel': 'rbf'}</td>\n",
       "    </tr>\n",
       "    <tr>\n",
       "      <th>11</th>\n",
       "      <td>0.2</td>\n",
       "      <td>101</td>\n",
       "      <td>0.824959</td>\n",
       "      <td>0.822273</td>\n",
       "      <td>0.824959</td>\n",
       "      <td>0.822786</td>\n",
       "      <td>{'C': 10, 'gamma': 0.01, 'kernel': 'rbf'}</td>\n",
       "    </tr>\n",
       "  </tbody>\n",
       "</table>\n",
       "</div>"
      ],
      "text/plain": [
       "    Test Size  Random State  Accuracy  Precision    Recall  F1 Score  \\\n",
       "0         0.5             7  0.786779   0.781567  0.786779  0.783371   \n",
       "1         0.5            69  0.775113   0.772084  0.775113  0.773408   \n",
       "2         0.5           101  0.779650   0.774709  0.779650  0.775272   \n",
       "3         0.4             7  0.807942   0.800017  0.807942  0.801849   \n",
       "4         0.4            69  0.791734   0.790003  0.791734  0.790790   \n",
       "5         0.4           101  0.807942   0.802327  0.807942  0.803192   \n",
       "6         0.3             7  0.820734   0.813689  0.820734  0.816203   \n",
       "7         0.3            69  0.809935   0.809180  0.809935  0.809448   \n",
       "8         0.3           101  0.812095   0.808460  0.812095  0.808711   \n",
       "9         0.2             7  0.842788   0.837933  0.842788  0.839669   \n",
       "10        0.2            69  0.833063   0.829842  0.833063  0.830398   \n",
       "11        0.2           101  0.824959   0.822273  0.824959  0.822786   \n",
       "\n",
       "                                    Best Param  \n",
       "0    {'C': 10, 'gamma': 0.01, 'kernel': 'rbf'}  \n",
       "1   {'C': 100, 'gamma': 0.01, 'kernel': 'rbf'}  \n",
       "2    {'C': 10, 'gamma': 0.01, 'kernel': 'rbf'}  \n",
       "3    {'C': 10, 'gamma': 0.01, 'kernel': 'rbf'}  \n",
       "4    {'C': 10, 'gamma': 0.01, 'kernel': 'rbf'}  \n",
       "5    {'C': 10, 'gamma': 0.01, 'kernel': 'rbf'}  \n",
       "6   {'C': 100, 'gamma': 0.01, 'kernel': 'rbf'}  \n",
       "7    {'C': 10, 'gamma': 0.01, 'kernel': 'rbf'}  \n",
       "8    {'C': 10, 'gamma': 0.01, 'kernel': 'rbf'}  \n",
       "9   {'C': 100, 'gamma': 0.01, 'kernel': 'rbf'}  \n",
       "10  {'C': 100, 'gamma': 0.01, 'kernel': 'rbf'}  \n",
       "11   {'C': 10, 'gamma': 0.01, 'kernel': 'rbf'}  "
      ]
     },
     "execution_count": 74,
     "metadata": {},
     "output_type": "execute_result"
    }
   ],
   "source": [
    "temp5L_SMOTE = []\n",
    "\n",
    "y = merge_5L_SMOTE[['CGPA']]\n",
    "X = merge_5L_SMOTE.drop(columns=[\"CGPA\"])\n",
    "\n",
    "for i in [0.5,0.4,0.3,0.2]:\n",
    "    for j in rand_states:\n",
    "        X_train, X_test, y_train, y_test = train_test_split(X, y, test_size=i, random_state=j)\n",
    "        param_grid = {'C': [0.1, 1, 10, 100],\n",
    "                      'gamma': [1, 0.1, 0.01, 0.001],\n",
    "                      'kernel': ['rbf','sigmoid']}\n",
    "\n",
    "        model = GridSearchCV(SVC(random_state=0), param_grid, refit=True, n_jobs=-1, cv=10, verbose=1)\n",
    "        model.fit(X_train, y_train)\n",
    "        pred = model.predict(X_test)\n",
    "        \n",
    "        acc = accuracy_score(y_test,pred)\n",
    "        pre = precision_score(y_test, pred, average='weighted')\n",
    "        recall = recall_score(y_test, pred, average='weighted')\n",
    "        f1 = f1_score(y_test, pred, average='weighted')\n",
    "        param = model.best_params_\n",
    "    \n",
    "        temp5L_SMOTE.append([i,j,acc,pre,recall,f1,param])\n",
    "        \n",
    "df5L_SMOTE = pd.DataFrame(columns=['Test Size','Random State','Accuracy','Precision','Recall','F1 Score','Best Param'],data=temp5L_SMOTE)\n",
    "df5L_SMOTE"
   ]
  },
  {
   "cell_type": "code",
   "execution_count": 75,
   "id": "2df35289-a744-4810-8e43-dfde410628af",
   "metadata": {},
   "outputs": [
    {
     "data": {
      "text/html": [
       "<div>\n",
       "<style scoped>\n",
       "    .dataframe tbody tr th:only-of-type {\n",
       "        vertical-align: middle;\n",
       "    }\n",
       "\n",
       "    .dataframe tbody tr th {\n",
       "        vertical-align: top;\n",
       "    }\n",
       "\n",
       "    .dataframe thead th {\n",
       "        text-align: right;\n",
       "    }\n",
       "</style>\n",
       "<table border=\"1\" class=\"dataframe\">\n",
       "  <thead>\n",
       "    <tr style=\"text-align: right;\">\n",
       "      <th></th>\n",
       "      <th>Accuracy</th>\n",
       "      <th>Precision</th>\n",
       "      <th>Recall</th>\n",
       "      <th>F1 Score</th>\n",
       "    </tr>\n",
       "    <tr>\n",
       "      <th>Test Size</th>\n",
       "      <th></th>\n",
       "      <th></th>\n",
       "      <th></th>\n",
       "      <th></th>\n",
       "    </tr>\n",
       "  </thead>\n",
       "  <tbody>\n",
       "    <tr>\n",
       "      <th>0.2</th>\n",
       "      <td>0.833603</td>\n",
       "      <td>0.830016</td>\n",
       "      <td>0.833603</td>\n",
       "      <td>0.830951</td>\n",
       "    </tr>\n",
       "    <tr>\n",
       "      <th>0.3</th>\n",
       "      <td>0.814255</td>\n",
       "      <td>0.810443</td>\n",
       "      <td>0.814255</td>\n",
       "      <td>0.811454</td>\n",
       "    </tr>\n",
       "    <tr>\n",
       "      <th>0.4</th>\n",
       "      <td>0.802539</td>\n",
       "      <td>0.797449</td>\n",
       "      <td>0.802539</td>\n",
       "      <td>0.798610</td>\n",
       "    </tr>\n",
       "    <tr>\n",
       "      <th>0.5</th>\n",
       "      <td>0.780514</td>\n",
       "      <td>0.776120</td>\n",
       "      <td>0.780514</td>\n",
       "      <td>0.777351</td>\n",
       "    </tr>\n",
       "  </tbody>\n",
       "</table>\n",
       "</div>"
      ],
      "text/plain": [
       "           Accuracy  Precision    Recall  F1 Score\n",
       "Test Size                                         \n",
       "0.2        0.833603   0.830016  0.833603  0.830951\n",
       "0.3        0.814255   0.810443  0.814255  0.811454\n",
       "0.4        0.802539   0.797449  0.802539  0.798610\n",
       "0.5        0.780514   0.776120  0.780514  0.777351"
      ]
     },
     "execution_count": 75,
     "metadata": {},
     "output_type": "execute_result"
    }
   ],
   "source": [
    "df5L_SMOTE.groupby('Test Size')[['Accuracy','Precision','Recall','F1 Score']].mean()"
   ]
  }
 ],
 "metadata": {
  "kernelspec": {
   "display_name": "Python 3 (ipykernel)",
   "language": "python",
   "name": "python3"
  },
  "language_info": {
   "codemirror_mode": {
    "name": "ipython",
    "version": 3
   },
   "file_extension": ".py",
   "mimetype": "text/x-python",
   "name": "python",
   "nbconvert_exporter": "python",
   "pygments_lexer": "ipython3",
   "version": "3.11.7"
  }
 },
 "nbformat": 4,
 "nbformat_minor": 5
}
